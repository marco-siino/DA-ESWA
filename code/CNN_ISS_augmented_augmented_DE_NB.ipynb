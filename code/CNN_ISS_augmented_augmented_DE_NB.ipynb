{
  "cells": [
    {
      "cell_type": "markdown",
      "metadata": {
        "id": "view-in-github",
        "colab_type": "text"
      },
      "source": [
        "<a href=\"https://colab.research.google.com/github/marco-siino/DA-ESWA/blob/main/code/CNN_ISS_augmented_augmented_DE_NB.ipynb\" target=\"_parent\"><img src=\"https://colab.research.google.com/assets/colab-badge.svg\" alt=\"Open In Colab\"/></a>"
      ]
    },
    {
      "cell_type": "markdown",
      "metadata": {
        "id": "u-hLo5ufkCT1"
      },
      "source": [
        "## Text preprocessing worth the time: A comparative survey on the impact of common techniques on NLP model performances. \n",
        "- - - \n",
        "CNN ON FNS DS EXPERIMENTS NOTEBOOK \n",
        "- - -\n",
        "Convolutional Neural Network on Fake News Spreaders Dataset.\n",
        "Code by M. Siino. \n",
        "\n",
        "From the paper: \"Text preprocessing worth the time: A comparative survey on the impact of common techniques on NLP model performances.\" by M.Siino et al.\n",
        "\n"
      ]
    },
    {
      "cell_type": "markdown",
      "metadata": {
        "id": "6IBqUcj4cx2G"
      },
      "source": [
        "## Importing modules."
      ]
    },
    {
      "cell_type": "code",
      "execution_count": null,
      "metadata": {
        "id": "AQSunQ-ucjLX"
      },
      "outputs": [],
      "source": [
        "import matplotlib.pyplot as plt\n",
        "import os\n",
        "import random\n",
        "import re\n",
        "import shutil\n",
        "import string\n",
        "import tensorflow as tf\n",
        "\n",
        "import numpy as np\n",
        "\n",
        "from tensorflow.keras import layers\n",
        "from tensorflow.keras import losses\n",
        "from tensorflow.keras import preprocessing\n",
        "from keras.models import Model\n",
        "from tensorflow.keras.layers.experimental.preprocessing import TextVectorization\n",
        "\n",
        "os.environ['TF_CUDNN_DETERMINISTIC']='true'\n",
        "os.environ['TF_DETERMINISTIC_OPS']='true'"
      ]
    },
    {
      "cell_type": "markdown",
      "metadata": {
        "id": "0QHd_fxmHCfa"
      },
      "source": [
        "## Importing DS and extract in current working directory."
      ]
    },
    {
      "cell_type": "code",
      "execution_count": null,
      "metadata": {
        "id": "ocYMUXaY8r0_",
        "colab": {
          "base_uri": "https://localhost:8080/"
        },
        "outputId": "88c38457-4c42-4871-f58c-d764c3747d70"
      },
      "outputs": [
        {
          "output_type": "stream",
          "name": "stdout",
          "text": [
            "Downloading data from https://github.com/marco-siino/DA-ESWA/raw/main/data/iss/iss-training-augmented-de.zip\n",
            "9911303/9911303 [==============================] - 0s 0us/step\n",
            "Downloading data from https://github.com/marco-siino/DA-ESWA/raw/main/data/iss/iss-test-original.zip\n",
            "2398412/2398412 [==============================] - 0s 0us/step\n",
            "training_set ./pan22-author-profiling-training-2022-03-29-augmented.zip\n",
            "training_set_dir /content/iss-training-augmented-de\n",
            "####\n",
            "test_set_dir ./pan22-author-profiling-test-2022-04-22-without_truth\n",
            "####\n",
            ".config\n",
            "iss-test-original\n",
            "iss-training-augmented-de\n",
            "pan22-author-profiling-test-2022-04-22-without_truth.zip\n",
            "pan22-author-profiling-training-2022-03-29-augmented.zip\n",
            "sample_data\n"
          ]
        }
      ],
      "source": [
        "# Url obtained starting from this: https://drive.google.com/file/d/19ZcqEv88euKB71HfAWjTGN3uCKp2qsfP/ and forcing export=download.\n",
        "urlTrainingSet = \"https://github.com/marco-siino/DA-ESWA/raw/main/data/iss/iss-training-augmented-de.zip\"\n",
        "\n",
        "urlTestSet=\"https://github.com/marco-siino/DA-ESWA/raw/main/data/iss/iss-test-original.zip\"\n",
        "\n",
        "training_set = tf.keras.utils.get_file(\"pan22-author-profiling-training-2022-03-29-augmented.zip\", urlTrainingSet,\n",
        "                                   extract=True, archive_format='zip',cache_dir='.',\n",
        "                                   cache_subdir='')\n",
        "\n",
        "test_set = tf.keras.utils.get_file(\"pan22-author-profiling-test-2022-04-22-without_truth.zip\", urlTestSet,\n",
        "                                    extract=True, archive_format='zip',cache_dir='.',\n",
        "                                    cache_subdir='')\n",
        "\n",
        "training_set_dir = os.path.join(os.path.dirname(training_set), 'pan22-author-profiling-training-2022-03-29-augmented')\n",
        "training_set_dir = '/content/iss-training-augmented-de'\n",
        "test_set_dir = os.path.join(os.path.dirname(test_set), 'pan22-author-profiling-test-2022-04-22-without_truth')\n",
        "print('training_set',training_set)\n",
        "print('training_set_dir',training_set_dir)\n",
        "print('####')\n",
        "print('test_set_dir',test_set_dir)\n",
        "print('####')\n",
        "!ls -A\n",
        "\n"
      ]
    },
    {
      "cell_type": "markdown",
      "metadata": {
        "id": "uTJi1fbT_Rup"
      },
      "source": [
        "## Build folders hierarchy to use Keras folders preprocessing function.\n",
        "\n"
      ]
    },
    {
      "cell_type": "code",
      "execution_count": null,
      "metadata": {
        "id": "FyafvXEMhEKw",
        "colab": {
          "base_uri": "https://localhost:8080/"
        },
        "outputId": "99186cac-097a-41d1-a9b1-bef865c1ec19"
      },
      "outputs": [
        {
          "output_type": "stream",
          "name": "stdout",
          "text": [
            ".config\n",
            "iss-test-original\n",
            "iss-training-augmented-de\n",
            "pan22-author-profiling-test-2022-04-22-without_truth.zip\n",
            "pan22-author-profiling-training-2022-03-29-augmented.zip\n",
            "sample_data\n",
            "test_dir_en\n",
            "train_dir_en\n"
          ]
        }
      ],
      "source": [
        "### Training Folders. ###\n",
        "\n",
        "# First level directory.\n",
        "if not os.path.exists('train_dir_en'):\n",
        "    os.makedirs('train_dir_en')\n",
        "\n",
        "# Class labels directory.\n",
        "if not os.path.exists('train_dir_en/0'):\n",
        "    os.makedirs('train_dir_en/0')\n",
        "if not os.path.exists('train_dir_en/1'):\n",
        "    os.makedirs('train_dir_en/1')\n",
        "\n",
        "# Make Py variables.\n",
        "train_dir='train_dir_'\n",
        "\n",
        "## Test Folders. ##\n",
        "# First level directory.\n",
        "if not os.path.exists('test_dir_en'):\n",
        "    os.makedirs('test_dir_en')\n",
        "\n",
        "# Class labels directory.\n",
        "if not os.path.exists('test_dir_en/0'):\n",
        "    os.makedirs('test_dir_en/0')\n",
        "if not os.path.exists('test_dir_en/1'):\n",
        "    os.makedirs('test_dir_en/1')\n",
        "\n",
        "# Make Py variables.\n",
        "test_dir='test_dir_'\n",
        "\n",
        "!ls -A"
      ]
    },
    {
      "cell_type": "markdown",
      "source": [
        "## Set language and directory paths."
      ],
      "metadata": {
        "id": "-6c28Rdo8zGn"
      }
    },
    {
      "cell_type": "code",
      "source": [
        "# Set en and es ground truth file path for train_dir. We haven't a ground truth file for the test set.\n",
        "language='en'\n",
        "\n",
        "truth_file_training_dir_en = training_set_dir   #samples training\n",
        "truth_file_training_path_en = training_set_dir +'/'+ 'en.txt'   #train truth file\n",
        "print('truth_file_training_dir_en', truth_file_training_dir_en)\n",
        "print('truth_file_training_path_en', truth_file_training_path_en)\n",
        "\n",
        "truth_file_test_dir = test_set_dir +'/'+language+'/'  #tutti i sample\n",
        "truth_file_test_path_en = test_set_dir + '/'+ 'truth'+'.txt'  #path to truth file\n",
        "print('truth_file_test_dir', truth_file_test_dir)\n",
        "print('truth_file_training_dir_en', truth_file_test_path_en)"
      ],
      "metadata": {
        "id": "ANr_dCj-8yvD",
        "colab": {
          "base_uri": "https://localhost:8080/"
        },
        "outputId": "a8d7d893-b482-4369-bf51-9feccc7159f9"
      },
      "execution_count": null,
      "outputs": [
        {
          "output_type": "stream",
          "name": "stdout",
          "text": [
            "truth_file_training_dir_en /content/iss-training-augmented-de\n",
            "truth_file_training_path_en /content/iss-training-augmented-de/en.txt\n",
            "truth_file_test_dir ./pan22-author-profiling-test-2022-04-22-without_truth/en/\n",
            "truth_file_training_dir_en ./pan22-author-profiling-test-2022-04-22-without_truth/truth.txt\n"
          ]
        }
      ]
    },
    {
      "cell_type": "markdown",
      "source": [
        "## Read truth.txt to organize training and test dataset folders."
      ],
      "metadata": {
        "id": "VU6PtNMZ864o"
      }
    },
    {
      "cell_type": "code",
      "source": [
        "# Open the file truth.txt with read only permit.\n",
        "f = open(truth_file_training_path_en , \"r\")\n",
        "# use readline() to read the first line \n",
        "line = f.readline()\n",
        "# use the read line to read further.\n",
        "# If the file is not empty keep reading one line\n",
        "# at a time, till the file is empty\n",
        "while line:\n",
        "    # Split line at :::\n",
        "    x = line.split(\":::\")\n",
        "    fNameXml = x[0]+'.xml'\n",
        "    fNameTxt = x[0]+'.txt'\n",
        "    # Second coord [0] gets just the first character (label) and not /n too.\n",
        "    label = x[1][0]\n",
        "    #print('label',label)\n",
        "    if label == 'I':\n",
        "      label = '1'\n",
        "    elif label == 'N':\n",
        "      label = '0'\n",
        "\n",
        "    # Now move the file to the right folder.\n",
        "    if os.path.exists(truth_file_training_dir_en +'/'+ fNameXml):\n",
        "      os.rename(truth_file_training_dir_en +'/'+ fNameXml, \n",
        "                './train_dir_'+language+'/'+label+'/'+fNameTxt )\n",
        "\n",
        "    # use readline() to read next line\n",
        "    line = f.readline()\n",
        "\n",
        "# Open the file truth.txt with read only permit.\n",
        "#f = open(truth_file_test_path_en, \"r\")\n",
        "f = open('/content/iss-test-original/pan22-author-profiling-test-2022-04-22-without_truth/truth.txt', \"r\")\n",
        "# use readline() to read the first line \n",
        "line = f.readline()\n",
        "# use the read line to read further.\n",
        "# If the file is not empty keep reading one line\n",
        "# at a time, till the file is empty\n",
        "while line:\n",
        "    # Split line at :::\n",
        "    #print(line)\n",
        "    x = line.split(\":::\")\n",
        "    fNameXml = x[0]+'.xml'\n",
        "    fNameTxt = x[0]+'.txt'\n",
        "    # Second coord [0] gets just the first character (label) and not /n too.\n",
        "    label = x[1][0]\n",
        "    if label == 'I':\n",
        "      label = '1'\n",
        "    elif label == 'N':\n",
        "      label = '0'\n",
        "    # Now move the file to the right folder.\n",
        "    #print(truth_file_test_dir+fNameXml)\n",
        "    if os.path.exists('/content/iss-test-original/pan22-author-profiling-test-2022-04-22-without_truth/en/'+fNameXml):\n",
        "      #print('path exist')\n",
        "      os.rename('/content/iss-test-original/pan22-author-profiling-test-2022-04-22-without_truth/en/'+fNameXml, \n",
        "                './test_dir_'+language+'/'+label+'/'+fNameTxt)\n",
        "\n",
        "    # use readline() to read next line\n",
        "    line = f.readline()"
      ],
      "metadata": {
        "id": "iW2UF_SH87TX"
      },
      "execution_count": null,
      "outputs": []
    },
    {
      "cell_type": "markdown",
      "source": [
        "## Generate full training set."
      ],
      "metadata": {
        "id": "4vskGJeX9GqJ"
      }
    },
    {
      "cell_type": "code",
      "source": [
        "# Generate full randomized training set.\n",
        "batch_size=1\n",
        "\n",
        "en_train_ds = tf.keras.preprocessing.text_dataset_from_directory(\n",
        "    train_dir+language, \n",
        "    batch_size=batch_size,\n",
        "    shuffle=False\n",
        "    )\n",
        "\n",
        "en_test_ds = tf.keras.preprocessing.text_dataset_from_directory(\n",
        "    test_dir+language, \n",
        "    batch_size=batch_size,\n",
        "    shuffle=False\n",
        "    )\n",
        "\n",
        "train_ds=en_train_ds.shuffle(300,seed=1, reshuffle_each_iteration=False)\n",
        "test_ds=en_test_ds.shuffle(200,seed=1, reshuffle_each_iteration=False)\n",
        "\n",
        "train_ds_size=len(train_ds)\n",
        "test_ds_size=len(test_ds)"
      ],
      "metadata": {
        "colab": {
          "base_uri": "https://localhost:8080/"
        },
        "id": "UOqIc_Sm9HGX",
        "outputId": "08128828-dd19-4428-d079-f62872ca8b65"
      },
      "execution_count": null,
      "outputs": [
        {
          "output_type": "stream",
          "name": "stdout",
          "text": [
            "Found 420 files belonging to 2 classes.\n",
            "Found 180 files belonging to 2 classes.\n"
          ]
        }
      ]
    },
    {
      "cell_type": "markdown",
      "metadata": {
        "id": "ITouXXtQ8WzV"
      },
      "source": [
        "## Functions to pre-process source text. (A detailed discussion on our paper)"
      ]
    },
    {
      "cell_type": "code",
      "execution_count": null,
      "metadata": {
        "id": "bDPIqAgXYWim"
      },
      "outputs": [],
      "source": [
        "# Do-Nothing preprocessing function.\n",
        "def DON(input_data):\n",
        "  tag_open_CDATA_removed = tf.strings.regex_replace(input_data, '<\\!\\[CDATA\\[', ' ')\n",
        "  tag_closed_CDATA_removed = tf.strings.regex_replace(tag_open_CDATA_removed,'\\]{1,}>', ' ')\n",
        "  tag_author_lang_en_removed = tf.strings.regex_replace(tag_closed_CDATA_removed,'<author lang=\"en\">', ' ')\n",
        "  tag_closed_author_removed = tf.strings.regex_replace(tag_author_lang_en_removed,'</author>', ' ')\n",
        "  tag_open_documents_removed = tf.strings.regex_replace(tag_closed_author_removed,'<documents>\\n(\\t){0,2}', '')\n",
        "  output_data = tf.strings.regex_replace(tag_open_documents_removed,'</documents>\\n(\\t){0,2}', ' ')\n",
        "  return output_data"
      ]
    },
    {
      "cell_type": "markdown",
      "metadata": {
        "id": "TjUnE9_DEyCw"
      },
      "source": [
        "## Get the length of the longest sample in training set. Then adapt text.\n",
        "\n"
      ]
    },
    {
      "cell_type": "code",
      "execution_count": null,
      "metadata": {
        "id": "ebRMQqa_mr48"
      },
      "outputs": [],
      "source": [
        "def preprocess_and_adapt_ts(preprocessing_function,training_set):\n",
        "  # Set a large sequence length to find the longest sample in the training set.\n",
        "  sequence_length = 3000\n",
        "  vectorize_layer = TextVectorization(\n",
        "      standardize=preprocessing_function,\n",
        "      output_mode='int',\n",
        "      output_sequence_length=sequence_length)\n",
        "\n",
        "  train_text = training_set.map(lambda x, y: x)\n",
        "  vectorize_layer.adapt(train_text)\n",
        "  #vectorize_layer.get_vocabulary()\n",
        "\n",
        "  model = tf.keras.models.Sequential()\n",
        "  model.add(tf.keras.Input(shape=(1,), dtype=tf.string))\n",
        "  model.add(vectorize_layer)\n",
        "\n",
        "  longest_sample_length=1\n",
        "\n",
        "  for element in training_set:\n",
        "    authorDocument=element[0]\n",
        "    label=element[1]\n",
        "    \n",
        "    #print(\"Sample considered is: \", authorDocument[0].numpy())\n",
        "    #print(\"Preprocessed: \", str(custom_standardization(authorDocument[0].numpy())))\n",
        "    #print(\"And has label: \", label[0].numpy())\n",
        "\n",
        "    out=model(authorDocument)\n",
        "    # Convert token list to numpy array.\n",
        "    token_list = out.numpy()[0]\n",
        "    token_list = np.trim_zeros(token_list,'b')\n",
        "    if longest_sample_length < len(token_list):\n",
        "      longest_sample_length = len(token_list)\n",
        "\n",
        "  print(\"Length of the longest sample is:\", longest_sample_length)\n",
        "\n",
        "  # After tokenization longest_sample_length covers all the document lenghts in our dataset.\n",
        "  sequence_length = longest_sample_length\n",
        "\n",
        "  vectorize_layer = TextVectorization(\n",
        "      standardize=preprocessing_function,\n",
        "      output_mode='int',\n",
        "      output_sequence_length=sequence_length)\n",
        "\n",
        "  # Finally adapt the vectorize layer.\n",
        "  train_text = training_set.map(lambda x, y: x)\n",
        "  vectorize_layer.adapt(train_text)\n",
        "  return vectorize_layer"
      ]
    },
    {
      "cell_type": "markdown",
      "metadata": {
        "id": "x8zDXrk9eEy5"
      },
      "source": [
        "## Define a dictionary with -> function_names:prepro_function_caller. And a dictionary to store model results.\n",
        "\n",
        "\n"
      ]
    },
    {
      "cell_type": "code",
      "execution_count": null,
      "metadata": {
        "id": "P8owxNMIeFsX",
        "colab": {
          "base_uri": "https://localhost:8080/"
        },
        "outputId": "d18c5cb7-f0ba-458c-ba3f-dd0ccb80e95f"
      },
      "outputs": [
        {
          "output_type": "stream",
          "name": "stdout",
          "text": [
            "DON\n"
          ]
        }
      ],
      "source": [
        "model_results = {}\n",
        "prepro_functions_dict_base = {\n",
        "    'DON':DON,\n",
        "    }\n",
        "\n",
        "# 3 prepro functions = 15 combs...+1 for do_nothing\n",
        "\n",
        "prepro_functions_dict_comb = {\n",
        "    # 1. Do nothing \n",
        "    'DON': DON,\n",
        "}\n",
        "\n",
        "for key in prepro_functions_dict_comb:\n",
        "  print(key)\n",
        "  model_results[key]=[]"
      ]
    },
    {
      "cell_type": "markdown",
      "source": [
        "## Some training hyperparameters..."
      ],
      "metadata": {
        "id": "RF7pJkGJ3bHT"
      }
    },
    {
      "cell_type": "code",
      "source": [
        "# Word embedding dimensions.\n",
        "embedding_dim = 100\n",
        "\n",
        "num_runs = 5 \n",
        "# No need to go over the 20th epoch...Overfitting begins.\n",
        "num_epochs_per_run = 20\n",
        "\n",
        "#opt = tf.keras.optimizers.RMSprop()"
      ],
      "metadata": {
        "id": "ocHligxS3mVn"
      },
      "execution_count": null,
      "outputs": []
    },
    {
      "cell_type": "markdown",
      "metadata": {
        "id": "XDEi7MAo4qsQ"
      },
      "source": [
        "## Models definition and evaluation.\n",
        "\n",
        "\n"
      ]
    },
    {
      "cell_type": "code",
      "execution_count": null,
      "metadata": {
        "colab": {
          "base_uri": "https://localhost:8080/"
        },
        "id": "Mm1fdCpETWL-",
        "outputId": "8de440b7-fd1d-43f2-902f-102d32fb97f2"
      },
      "outputs": [
        {
          "output_type": "stream",
          "name": "stderr",
          "text": [
            "WARNING:tensorflow:From /usr/local/lib/python3.8/dist-packages/tensorflow/python/autograph/pyct/static_analysis/liveness.py:83: Analyzer.lamba_check (from tensorflow.python.autograph.pyct.static_analysis.liveness) is deprecated and will be removed after 2023-09-23.\n",
            "Instructions for updating:\n",
            "Lambda fuctions will be no more assumed to be used in the statement where they are used, or at least in the same block. https://github.com/tensorflow/tensorflow/issues/56089\n"
          ]
        },
        {
          "output_type": "stream",
          "name": "stdout",
          "text": [
            "\n",
            "\n",
            "* * * * EVALUATION USING DON AS PREPROCESSING FUNCTION * * * *\n",
            "Length of the longest sample is: 3000\n",
            "Vocabulary size is: 229612\n",
            "420/420 [==============================] - 83s 173ms/step - loss: 0.6424 - binary_accuracy: 0.5881 - val_loss: 0.5448 - val_binary_accuracy: 0.6444\n",
            "Run:  1 / Accuracy at epoch  0  is:  0.644444465637207 \n",
            "\n",
            "420/420 [==============================] - 20s 48ms/step - loss: 0.3310 - binary_accuracy: 0.8738 - val_loss: 0.3563 - val_binary_accuracy: 0.8556\n",
            "Run:  1 / Accuracy at epoch  1  is:  0.855555534362793 \n",
            "\n",
            "420/420 [==============================] - 20s 47ms/step - loss: 0.2143 - binary_accuracy: 0.9286 - val_loss: 0.2993 - val_binary_accuracy: 0.8611\n",
            "Run:  1 / Accuracy at epoch  2  is:  0.8611111044883728 \n",
            "\n",
            "420/420 [==============================] - 20s 48ms/step - loss: 0.1802 - binary_accuracy: 0.9548 - val_loss: 0.3599 - val_binary_accuracy: 0.8389\n",
            "Run:  1 / Accuracy at epoch  3  is:  0.8388888835906982 \n",
            "\n",
            "420/420 [==============================] - 20s 48ms/step - loss: 0.1601 - binary_accuracy: 0.9690 - val_loss: 0.4851 - val_binary_accuracy: 0.8389\n",
            "Run:  1 / Accuracy at epoch  4  is:  0.8388888835906982 \n",
            "\n",
            "420/420 [==============================] - 20s 47ms/step - loss: 0.1248 - binary_accuracy: 0.9810 - val_loss: 0.5051 - val_binary_accuracy: 0.8444\n",
            "Run:  1 / Accuracy at epoch  5  is:  0.8444444537162781 \n",
            "\n",
            "420/420 [==============================] - 20s 48ms/step - loss: 0.1025 - binary_accuracy: 0.9857 - val_loss: 0.9082 - val_binary_accuracy: 0.7889\n",
            "Run:  1 / Accuracy at epoch  6  is:  0.7888888716697693 \n",
            "\n",
            "420/420 [==============================] - 20s 48ms/step - loss: 0.0680 - binary_accuracy: 0.9905 - val_loss: 1.1872 - val_binary_accuracy: 0.7611\n",
            "Run:  1 / Accuracy at epoch  7  is:  0.7611111402511597 \n",
            "\n",
            "420/420 [==============================] - 20s 47ms/step - loss: 0.0550 - binary_accuracy: 0.9952 - val_loss: 1.9584 - val_binary_accuracy: 0.6389\n",
            "Run:  1 / Accuracy at epoch  8  is:  0.6388888955116272 \n",
            "\n",
            "420/420 [==============================] - 20s 48ms/step - loss: 0.0493 - binary_accuracy: 0.9976 - val_loss: 1.9427 - val_binary_accuracy: 0.6722\n",
            "Run:  1 / Accuracy at epoch  9  is:  0.6722221970558167 \n",
            "\n",
            "420/420 [==============================] - 20s 48ms/step - loss: 0.0329 - binary_accuracy: 0.9976 - val_loss: 2.1777 - val_binary_accuracy: 0.6444\n",
            "Run:  1 / Accuracy at epoch  10  is:  0.644444465637207 \n",
            "\n",
            "420/420 [==============================] - 19s 46ms/step - loss: 0.0215 - binary_accuracy: 0.9976 - val_loss: 1.4578 - val_binary_accuracy: 0.7611\n",
            "Run:  1 / Accuracy at epoch  11  is:  0.7611111402511597 \n",
            "\n",
            "420/420 [==============================] - 20s 48ms/step - loss: 0.0087 - binary_accuracy: 0.9976 - val_loss: 2.4614 - val_binary_accuracy: 0.6556\n",
            "Run:  1 / Accuracy at epoch  12  is:  0.6555555462837219 \n",
            "\n",
            "420/420 [==============================] - 20s 48ms/step - loss: 4.2738e-04 - binary_accuracy: 1.0000 - val_loss: 2.0620 - val_binary_accuracy: 0.6944\n",
            "Run:  1 / Accuracy at epoch  13  is:  0.6944444179534912 \n",
            "\n",
            "420/420 [==============================] - 19s 46ms/step - loss: 9.3572e-05 - binary_accuracy: 1.0000 - val_loss: 1.6844 - val_binary_accuracy: 0.7389\n",
            "Run:  1 / Accuracy at epoch  14  is:  0.7388888597488403 \n",
            "\n",
            "420/420 [==============================] - 20s 48ms/step - loss: 2.0469e-04 - binary_accuracy: 1.0000 - val_loss: 3.5186 - val_binary_accuracy: 0.5944\n",
            "Run:  1 / Accuracy at epoch  15  is:  0.5944444537162781 \n",
            "\n",
            "420/420 [==============================] - 20s 48ms/step - loss: 0.0014 - binary_accuracy: 1.0000 - val_loss: 2.6452 - val_binary_accuracy: 0.6556\n",
            "Run:  1 / Accuracy at epoch  16  is:  0.6555555462837219 \n",
            "\n",
            "420/420 [==============================] - 19s 46ms/step - loss: 4.2931e-05 - binary_accuracy: 1.0000 - val_loss: 3.6783 - val_binary_accuracy: 0.5889\n",
            "Run:  1 / Accuracy at epoch  17  is:  0.5888888835906982 \n",
            "\n",
            "420/420 [==============================] - 20s 48ms/step - loss: 4.1064e-05 - binary_accuracy: 1.0000 - val_loss: 3.2572 - val_binary_accuracy: 0.6333\n",
            "Run:  1 / Accuracy at epoch  18  is:  0.6333333253860474 \n",
            "\n",
            "420/420 [==============================] - 20s 48ms/step - loss: 2.1761e-05 - binary_accuracy: 1.0000 - val_loss: 1.2007 - val_binary_accuracy: 0.8222\n",
            "Run:  1 / Accuracy at epoch  19  is:  0.8222222328186035 \n",
            "\n",
            "Accuracies over epochs: [0.644444465637207, 0.855555534362793, 0.8611111044883728, 0.8388888835906982, 0.8388888835906982, 0.8444444537162781, 0.7888888716697693, 0.7611111402511597, 0.6388888955116272, 0.6722221970558167, 0.644444465637207, 0.7611111402511597, 0.6555555462837219, 0.6944444179534912, 0.7388888597488403, 0.5944444537162781, 0.6555555462837219, 0.5888888835906982, 0.6333333253860474, 0.8222222328186035] \n",
            "\n",
            "\n",
            "420/420 [==============================] - 57s 132ms/step - loss: 0.6353 - binary_accuracy: 0.6071 - val_loss: 0.6412 - val_binary_accuracy: 0.5611\n",
            "Run:  2 / Accuracy at epoch  0  is:  0.5611110925674438 \n",
            "\n",
            "420/420 [==============================] - 20s 46ms/step - loss: 0.3313 - binary_accuracy: 0.8714 - val_loss: 0.6345 - val_binary_accuracy: 0.7556\n",
            "Run:  2 / Accuracy at epoch  1  is:  0.7555555701255798 \n",
            "\n",
            "420/420 [==============================] - 20s 47ms/step - loss: 0.2140 - binary_accuracy: 0.9333 - val_loss: 0.7802 - val_binary_accuracy: 0.7611\n",
            "Run:  2 / Accuracy at epoch  2  is:  0.7611111402511597 \n",
            "\n",
            "420/420 [==============================] - 20s 48ms/step - loss: 0.1871 - binary_accuracy: 0.9500 - val_loss: 1.0521 - val_binary_accuracy: 0.7333\n",
            "Run:  2 / Accuracy at epoch  3  is:  0.7333333492279053 \n",
            "\n",
            "420/420 [==============================] - 20s 47ms/step - loss: 0.1412 - binary_accuracy: 0.9714 - val_loss: 1.6845 - val_binary_accuracy: 0.6722\n",
            "Run:  2 / Accuracy at epoch  4  is:  0.6722221970558167 \n",
            "\n",
            "420/420 [==============================] - 20s 46ms/step - loss: 0.1253 - binary_accuracy: 0.9810 - val_loss: 2.2105 - val_binary_accuracy: 0.6500\n",
            "Run:  2 / Accuracy at epoch  5  is:  0.6499999761581421 \n",
            "\n",
            "420/420 [==============================] - 21s 49ms/step - loss: 0.0904 - binary_accuracy: 0.9810 - val_loss: 3.2353 - val_binary_accuracy: 0.5778\n",
            "Run:  2 / Accuracy at epoch  6  is:  0.5777778029441833 \n",
            "\n",
            "420/420 [==============================] - 20s 47ms/step - loss: 0.0709 - binary_accuracy: 0.9905 - val_loss: 3.8031 - val_binary_accuracy: 0.5500\n",
            "Run:  2 / Accuracy at epoch  7  is:  0.550000011920929 \n",
            "\n",
            "420/420 [==============================] - 20s 48ms/step - loss: 0.0585 - binary_accuracy: 0.9952 - val_loss: 4.3385 - val_binary_accuracy: 0.5611\n",
            "Run:  2 / Accuracy at epoch  8  is:  0.5611110925674438 \n",
            "\n",
            "420/420 [==============================] - 20s 49ms/step - loss: 0.0479 - binary_accuracy: 0.9976 - val_loss: 3.9481 - val_binary_accuracy: 0.5833\n",
            "Run:  2 / Accuracy at epoch  9  is:  0.5833333134651184 \n",
            "\n",
            "420/420 [==============================] - 20s 48ms/step - loss: 0.0283 - binary_accuracy: 0.9976 - val_loss: 5.7973 - val_binary_accuracy: 0.5333\n",
            "Run:  2 / Accuracy at epoch  10  is:  0.5333333611488342 \n",
            "\n",
            "420/420 [==============================] - 20s 48ms/step - loss: 0.0213 - binary_accuracy: 0.9976 - val_loss: 4.6200 - val_binary_accuracy: 0.5778\n",
            "Run:  2 / Accuracy at epoch  11  is:  0.5777778029441833 \n",
            "\n",
            "420/420 [==============================] - 20s 48ms/step - loss: 0.0179 - binary_accuracy: 0.9976 - val_loss: 5.8730 - val_binary_accuracy: 0.5500\n",
            "Run:  2 / Accuracy at epoch  12  is:  0.550000011920929 \n",
            "\n",
            "420/420 [==============================] - 20s 48ms/step - loss: 2.6480e-04 - binary_accuracy: 1.0000 - val_loss: 7.3219 - val_binary_accuracy: 0.5333\n",
            "Run:  2 / Accuracy at epoch  13  is:  0.5333333611488342 \n",
            "\n",
            "420/420 [==============================] - 20s 47ms/step - loss: 3.5527e-04 - binary_accuracy: 1.0000 - val_loss: 9.8685 - val_binary_accuracy: 0.5111\n",
            "Run:  2 / Accuracy at epoch  14  is:  0.5111111402511597 \n",
            "\n",
            "420/420 [==============================] - 20s 48ms/step - loss: 1.2623e-05 - binary_accuracy: 1.0000 - val_loss: 9.6304 - val_binary_accuracy: 0.5111\n",
            "Run:  2 / Accuracy at epoch  15  is:  0.5111111402511597 \n",
            "\n",
            "420/420 [==============================] - 20s 48ms/step - loss: 6.7904e-05 - binary_accuracy: 1.0000 - val_loss: 8.8915 - val_binary_accuracy: 0.5222\n",
            "Run:  2 / Accuracy at epoch  16  is:  0.5222222208976746 \n",
            "\n",
            "420/420 [==============================] - 20s 47ms/step - loss: 4.8970e-05 - binary_accuracy: 1.0000 - val_loss: 11.0013 - val_binary_accuracy: 0.5111\n",
            "Run:  2 / Accuracy at epoch  17  is:  0.5111111402511597 \n",
            "\n",
            "420/420 [==============================] - 20s 48ms/step - loss: 2.4702e-06 - binary_accuracy: 1.0000 - val_loss: 10.1522 - val_binary_accuracy: 0.5111\n",
            "Run:  2 / Accuracy at epoch  18  is:  0.5111111402511597 \n",
            "\n",
            "420/420 [==============================] - 20s 48ms/step - loss: 9.0497e-06 - binary_accuracy: 1.0000 - val_loss: 10.4753 - val_binary_accuracy: 0.5111\n",
            "Run:  2 / Accuracy at epoch  19  is:  0.5111111402511597 \n",
            "\n",
            "Accuracies over epochs: [0.5611110925674438, 0.7555555701255798, 0.7611111402511597, 0.7333333492279053, 0.6722221970558167, 0.6499999761581421, 0.5777778029441833, 0.550000011920929, 0.5611110925674438, 0.5833333134651184, 0.5333333611488342, 0.5777778029441833, 0.550000011920929, 0.5333333611488342, 0.5111111402511597, 0.5111111402511597, 0.5222222208976746, 0.5111111402511597, 0.5111111402511597, 0.5111111402511597] \n",
            "\n",
            "\n",
            "420/420 [==============================] - 57s 132ms/step - loss: 0.6304 - binary_accuracy: 0.6000 - val_loss: 0.5360 - val_binary_accuracy: 0.6556\n",
            "Run:  3 / Accuracy at epoch  0  is:  0.6555555462837219 \n",
            "\n",
            "420/420 [==============================] - 20s 48ms/step - loss: 0.3261 - binary_accuracy: 0.8714 - val_loss: 0.4559 - val_binary_accuracy: 0.8222\n",
            "Run:  3 / Accuracy at epoch  1  is:  0.8222222328186035 \n",
            "\n",
            "420/420 [==============================] - 20s 48ms/step - loss: 0.2255 - binary_accuracy: 0.9286 - val_loss: 0.4249 - val_binary_accuracy: 0.8444\n",
            "Run:  3 / Accuracy at epoch  2  is:  0.8444444537162781 \n",
            "\n",
            "420/420 [==============================] - 20s 48ms/step - loss: 0.1776 - binary_accuracy: 0.9595 - val_loss: 0.5386 - val_binary_accuracy: 0.8333\n",
            "Run:  3 / Accuracy at epoch  3  is:  0.8333333134651184 \n",
            "\n",
            "420/420 [==============================] - 20s 48ms/step - loss: 0.1444 - binary_accuracy: 0.9738 - val_loss: 0.5847 - val_binary_accuracy: 0.8389\n",
            "Run:  3 / Accuracy at epoch  4  is:  0.8388888835906982 \n",
            "\n",
            "420/420 [==============================] - 20s 49ms/step - loss: 0.1276 - binary_accuracy: 0.9810 - val_loss: 0.7055 - val_binary_accuracy: 0.8389\n",
            "Run:  3 / Accuracy at epoch  5  is:  0.8388888835906982 \n",
            "\n",
            "420/420 [==============================] - 20s 48ms/step - loss: 0.0727 - binary_accuracy: 0.9881 - val_loss: 0.8418 - val_binary_accuracy: 0.8278\n",
            "Run:  3 / Accuracy at epoch  6  is:  0.8277778029441833 \n",
            "\n",
            "420/420 [==============================] - 20s 47ms/step - loss: 0.0654 - binary_accuracy: 0.9905 - val_loss: 1.8956 - val_binary_accuracy: 0.6833\n",
            "Run:  3 / Accuracy at epoch  7  is:  0.6833333373069763 \n",
            "\n",
            "420/420 [==============================] - 20s 48ms/step - loss: 0.0524 - binary_accuracy: 0.9929 - val_loss: 1.8536 - val_binary_accuracy: 0.7222\n",
            "Run:  3 / Accuracy at epoch  8  is:  0.7222222089767456 \n",
            "\n",
            "420/420 [==============================] - 20s 48ms/step - loss: 0.0497 - binary_accuracy: 0.9976 - val_loss: 3.4019 - val_binary_accuracy: 0.5889\n",
            "Run:  3 / Accuracy at epoch  9  is:  0.5888888835906982 \n",
            "\n",
            "420/420 [==============================] - 20s 47ms/step - loss: 0.0327 - binary_accuracy: 0.9976 - val_loss: 4.6343 - val_binary_accuracy: 0.5611\n",
            "Run:  3 / Accuracy at epoch  10  is:  0.5611110925674438 \n",
            "\n",
            "420/420 [==============================] - 20s 49ms/step - loss: 0.0339 - binary_accuracy: 0.9976 - val_loss: 2.9329 - val_binary_accuracy: 0.6611\n",
            "Run:  3 / Accuracy at epoch  11  is:  0.6611111164093018 \n",
            "\n",
            "420/420 [==============================] - 20s 48ms/step - loss: 0.0196 - binary_accuracy: 0.9976 - val_loss: 4.9874 - val_binary_accuracy: 0.5722\n",
            "Run:  3 / Accuracy at epoch  12  is:  0.5722222328186035 \n",
            "\n",
            "420/420 [==============================] - 20s 47ms/step - loss: 2.4605e-04 - binary_accuracy: 1.0000 - val_loss: 4.6270 - val_binary_accuracy: 0.6000\n",
            "Run:  3 / Accuracy at epoch  13  is:  0.6000000238418579 \n",
            "\n",
            "420/420 [==============================] - 20s 48ms/step - loss: 3.9108e-05 - binary_accuracy: 1.0000 - val_loss: 5.0453 - val_binary_accuracy: 0.5778\n",
            "Run:  3 / Accuracy at epoch  14  is:  0.5777778029441833 \n",
            "\n",
            "420/420 [==============================] - 20s 48ms/step - loss: 1.8831e-04 - binary_accuracy: 1.0000 - val_loss: 4.5063 - val_binary_accuracy: 0.5889\n",
            "Run:  3 / Accuracy at epoch  15  is:  0.5888888835906982 \n",
            "\n",
            "420/420 [==============================] - 20s 47ms/step - loss: 2.3113e-05 - binary_accuracy: 1.0000 - val_loss: 4.7703 - val_binary_accuracy: 0.5833\n",
            "Run:  3 / Accuracy at epoch  16  is:  0.5833333134651184 \n",
            "\n",
            "420/420 [==============================] - 20s 48ms/step - loss: 9.1454e-05 - binary_accuracy: 1.0000 - val_loss: 6.3860 - val_binary_accuracy: 0.5556\n",
            "Run:  3 / Accuracy at epoch  17  is:  0.5555555820465088 \n",
            "\n",
            "420/420 [==============================] - 20s 49ms/step - loss: 8.4825e-06 - binary_accuracy: 1.0000 - val_loss: 6.4157 - val_binary_accuracy: 0.5556\n",
            "Run:  3 / Accuracy at epoch  18  is:  0.5555555820465088 \n",
            "\n",
            "420/420 [==============================] - 20s 47ms/step - loss: 2.4266e-05 - binary_accuracy: 1.0000 - val_loss: 3.0167 - val_binary_accuracy: 0.7000\n",
            "Run:  3 / Accuracy at epoch  19  is:  0.699999988079071 \n",
            "\n",
            "Accuracies over epochs: [0.6555555462837219, 0.8222222328186035, 0.8444444537162781, 0.8333333134651184, 0.8388888835906982, 0.8388888835906982, 0.8277778029441833, 0.6833333373069763, 0.7222222089767456, 0.5888888835906982, 0.5611110925674438, 0.6611111164093018, 0.5722222328186035, 0.6000000238418579, 0.5777778029441833, 0.5888888835906982, 0.5833333134651184, 0.5555555820465088, 0.5555555820465088, 0.699999988079071] \n",
            "\n",
            "\n",
            "420/420 [==============================] - 58s 133ms/step - loss: 0.6363 - binary_accuracy: 0.5881 - val_loss: 0.5775 - val_binary_accuracy: 0.6056\n",
            "Run:  4 / Accuracy at epoch  0  is:  0.605555534362793 \n",
            "\n",
            "420/420 [==============================] - 21s 50ms/step - loss: 0.3232 - binary_accuracy: 0.8881 - val_loss: 0.6545 - val_binary_accuracy: 0.7389\n",
            "Run:  4 / Accuracy at epoch  1  is:  0.7388888597488403 \n",
            "\n",
            "420/420 [==============================] - 21s 49ms/step - loss: 0.2172 - binary_accuracy: 0.9214 - val_loss: 0.7492 - val_binary_accuracy: 0.7667\n",
            "Run:  4 / Accuracy at epoch  2  is:  0.7666666507720947 \n",
            "\n",
            "420/420 [==============================] - 20s 47ms/step - loss: 0.1823 - binary_accuracy: 0.9500 - val_loss: 0.8716 - val_binary_accuracy: 0.7444\n",
            "Run:  4 / Accuracy at epoch  3  is:  0.7444444298744202 \n",
            "\n",
            "420/420 [==============================] - 20s 49ms/step - loss: 0.1478 - binary_accuracy: 0.9690 - val_loss: 1.3580 - val_binary_accuracy: 0.7000\n",
            "Run:  4 / Accuracy at epoch  4  is:  0.699999988079071 \n",
            "\n",
            "420/420 [==============================] - 20s 48ms/step - loss: 0.1130 - binary_accuracy: 0.9833 - val_loss: 1.5319 - val_binary_accuracy: 0.7000\n",
            "Run:  4 / Accuracy at epoch  5  is:  0.699999988079071 \n",
            "\n",
            "420/420 [==============================] - 20s 46ms/step - loss: 0.0915 - binary_accuracy: 0.9857 - val_loss: 2.4579 - val_binary_accuracy: 0.6556\n",
            "Run:  4 / Accuracy at epoch  6  is:  0.6555555462837219 \n",
            "\n",
            "420/420 [==============================] - 20s 49ms/step - loss: 0.0559 - binary_accuracy: 0.9905 - val_loss: 2.7535 - val_binary_accuracy: 0.6389\n",
            "Run:  4 / Accuracy at epoch  7  is:  0.6388888955116272 \n",
            "\n",
            "420/420 [==============================] - 20s 48ms/step - loss: 0.0524 - binary_accuracy: 0.9976 - val_loss: 4.6729 - val_binary_accuracy: 0.5389\n",
            "Run:  4 / Accuracy at epoch  8  is:  0.5388888716697693 \n",
            "\n",
            "420/420 [==============================] - 20s 47ms/step - loss: 0.0404 - binary_accuracy: 0.9976 - val_loss: 4.3114 - val_binary_accuracy: 0.5722\n",
            "Run:  4 / Accuracy at epoch  9  is:  0.5722222328186035 \n",
            "\n",
            "420/420 [==============================] - 20s 47ms/step - loss: 0.0420 - binary_accuracy: 0.9952 - val_loss: 7.1979 - val_binary_accuracy: 0.5111\n",
            "Run:  4 / Accuracy at epoch  10  is:  0.5111111402511597 \n",
            "\n",
            "420/420 [==============================] - 20s 49ms/step - loss: 0.0170 - binary_accuracy: 0.9952 - val_loss: 4.7662 - val_binary_accuracy: 0.5778\n",
            "Run:  4 / Accuracy at epoch  11  is:  0.5777778029441833 \n",
            "\n",
            "420/420 [==============================] - 20s 48ms/step - loss: 0.0174 - binary_accuracy: 0.9976 - val_loss: 6.9654 - val_binary_accuracy: 0.5333\n",
            "Run:  4 / Accuracy at epoch  12  is:  0.5333333611488342 \n",
            "\n",
            "420/420 [==============================] - 20s 47ms/step - loss: 0.0015 - binary_accuracy: 1.0000 - val_loss: 9.2280 - val_binary_accuracy: 0.5056\n",
            "Run:  4 / Accuracy at epoch  13  is:  0.5055555701255798 \n",
            "\n",
            "420/420 [==============================] - 20s 49ms/step - loss: 6.9807e-05 - binary_accuracy: 1.0000 - val_loss: 8.3136 - val_binary_accuracy: 0.5167\n",
            "Run:  4 / Accuracy at epoch  14  is:  0.5166666507720947 \n",
            "\n",
            "420/420 [==============================] - 21s 49ms/step - loss: 6.4892e-05 - binary_accuracy: 1.0000 - val_loss: 5.8182 - val_binary_accuracy: 0.5778\n",
            "Run:  4 / Accuracy at epoch  15  is:  0.5777778029441833 \n",
            "\n",
            "420/420 [==============================] - 20s 47ms/step - loss: 2.3319e-04 - binary_accuracy: 1.0000 - val_loss: 9.8582 - val_binary_accuracy: 0.5056\n",
            "Run:  4 / Accuracy at epoch  16  is:  0.5055555701255798 \n",
            "\n",
            "420/420 [==============================] - 20s 49ms/step - loss: 1.0059e-05 - binary_accuracy: 1.0000 - val_loss: 8.9473 - val_binary_accuracy: 0.5167\n",
            "Run:  4 / Accuracy at epoch  17  is:  0.5166666507720947 \n",
            "\n",
            "420/420 [==============================] - 20s 49ms/step - loss: 2.8627e-06 - binary_accuracy: 1.0000 - val_loss: 9.5789 - val_binary_accuracy: 0.5056\n",
            "Run:  4 / Accuracy at epoch  18  is:  0.5055555701255798 \n",
            "\n",
            "420/420 [==============================] - 20s 47ms/step - loss: 3.5066e-06 - binary_accuracy: 1.0000 - val_loss: 9.9937 - val_binary_accuracy: 0.5056\n",
            "Run:  4 / Accuracy at epoch  19  is:  0.5055555701255798 \n",
            "\n",
            "Accuracies over epochs: [0.605555534362793, 0.7388888597488403, 0.7666666507720947, 0.7444444298744202, 0.699999988079071, 0.699999988079071, 0.6555555462837219, 0.6388888955116272, 0.5388888716697693, 0.5722222328186035, 0.5111111402511597, 0.5777778029441833, 0.5333333611488342, 0.5055555701255798, 0.5166666507720947, 0.5777778029441833, 0.5055555701255798, 0.5166666507720947, 0.5055555701255798, 0.5055555701255798] \n",
            "\n",
            "\n",
            "420/420 [==============================] - 58s 134ms/step - loss: 0.6344 - binary_accuracy: 0.5929 - val_loss: 0.5430 - val_binary_accuracy: 0.6389\n",
            "Run:  5 / Accuracy at epoch  0  is:  0.6388888955116272 \n",
            "\n",
            "420/420 [==============================] - 20s 48ms/step - loss: 0.3309 - binary_accuracy: 0.8762 - val_loss: 0.3965 - val_binary_accuracy: 0.8500\n",
            "Run:  5 / Accuracy at epoch  1  is:  0.8500000238418579 \n",
            "\n",
            "420/420 [==============================] - 20s 47ms/step - loss: 0.2280 - binary_accuracy: 0.9238 - val_loss: 0.3644 - val_binary_accuracy: 0.8444\n",
            "Run:  5 / Accuracy at epoch  2  is:  0.8444444537162781 \n",
            "\n",
            "420/420 [==============================] - 20s 47ms/step - loss: 0.1810 - binary_accuracy: 0.9524 - val_loss: 0.6650 - val_binary_accuracy: 0.8056\n",
            "Run:  5 / Accuracy at epoch  3  is:  0.8055555820465088 \n",
            "\n",
            "420/420 [==============================] - 20s 48ms/step - loss: 0.1530 - binary_accuracy: 0.9738 - val_loss: 0.7223 - val_binary_accuracy: 0.8056\n",
            "Run:  5 / Accuracy at epoch  4  is:  0.8055555820465088 \n",
            "\n",
            "420/420 [==============================] - 20s 48ms/step - loss: 0.1135 - binary_accuracy: 0.9857 - val_loss: 0.9542 - val_binary_accuracy: 0.7833\n",
            "Run:  5 / Accuracy at epoch  5  is:  0.7833333611488342 \n",
            "\n",
            "420/420 [==============================] - 20s 47ms/step - loss: 0.0932 - binary_accuracy: 0.9833 - val_loss: 1.1673 - val_binary_accuracy: 0.7611\n",
            "Run:  5 / Accuracy at epoch  6  is:  0.7611111402511597 \n",
            "\n",
            "420/420 [==============================] - 20s 48ms/step - loss: 0.0562 - binary_accuracy: 0.9905 - val_loss: 1.8513 - val_binary_accuracy: 0.6389\n",
            "Run:  5 / Accuracy at epoch  7  is:  0.6388888955116272 \n",
            "\n",
            "420/420 [==============================] - 20s 48ms/step - loss: 0.0642 - binary_accuracy: 0.9905 - val_loss: 2.1245 - val_binary_accuracy: 0.6278\n",
            "Run:  5 / Accuracy at epoch  8  is:  0.6277777552604675 \n",
            "\n",
            "420/420 [==============================] - 20s 47ms/step - loss: 0.0364 - binary_accuracy: 0.9976 - val_loss: 2.4104 - val_binary_accuracy: 0.6111\n",
            "Run:  5 / Accuracy at epoch  9  is:  0.6111111044883728 \n",
            "\n",
            "420/420 [==============================] - 20s 48ms/step - loss: 0.0210 - binary_accuracy: 0.9976 - val_loss: 2.9011 - val_binary_accuracy: 0.6056\n",
            "Run:  5 / Accuracy at epoch  10  is:  0.605555534362793 \n",
            "\n",
            "420/420 [==============================] - 20s 48ms/step - loss: 0.0131 - binary_accuracy: 0.9976 - val_loss: 1.8756 - val_binary_accuracy: 0.7000\n",
            "Run:  5 / Accuracy at epoch  11  is:  0.699999988079071 \n",
            "\n",
            "420/420 [==============================] - 20s 47ms/step - loss: 0.0082 - binary_accuracy: 0.9976 - val_loss: 4.4818 - val_binary_accuracy: 0.5500\n",
            "Run:  5 / Accuracy at epoch  12  is:  0.550000011920929 \n",
            "\n",
            "420/420 [==============================] - 20s 48ms/step - loss: 2.0717e-04 - binary_accuracy: 1.0000 - val_loss: 4.0500 - val_binary_accuracy: 0.5778\n",
            "Run:  5 / Accuracy at epoch  13  is:  0.5777778029441833 \n",
            "\n",
            "420/420 [==============================] - 20s 49ms/step - loss: 3.2262e-05 - binary_accuracy: 1.0000 - val_loss: 3.5513 - val_binary_accuracy: 0.5944\n",
            "Run:  5 / Accuracy at epoch  14  is:  0.5944444537162781 \n",
            "\n",
            "420/420 [==============================] - 20s 47ms/step - loss: 1.0543e-05 - binary_accuracy: 1.0000 - val_loss: 3.4658 - val_binary_accuracy: 0.5944\n",
            "Run:  5 / Accuracy at epoch  15  is:  0.5944444537162781 \n",
            "\n",
            "420/420 [==============================] - 20s 48ms/step - loss: 1.0877e-05 - binary_accuracy: 1.0000 - val_loss: 3.9393 - val_binary_accuracy: 0.5889\n",
            "Run:  5 / Accuracy at epoch  16  is:  0.5888888835906982 \n",
            "\n",
            "420/420 [==============================] - 21s 49ms/step - loss: 7.0532e-06 - binary_accuracy: 1.0000 - val_loss: 3.7380 - val_binary_accuracy: 0.5889\n",
            "Run:  5 / Accuracy at epoch  17  is:  0.5888888835906982 \n",
            "\n",
            "420/420 [==============================] - 20s 47ms/step - loss: 3.4445e-05 - binary_accuracy: 1.0000 - val_loss: 5.3412 - val_binary_accuracy: 0.5500\n",
            "Run:  5 / Accuracy at epoch  18  is:  0.550000011920929 \n",
            "\n",
            "420/420 [==============================] - 21s 49ms/step - loss: 1.4711e-05 - binary_accuracy: 1.0000 - val_loss: 3.7928 - val_binary_accuracy: 0.5944\n",
            "Run:  5 / Accuracy at epoch  19  is:  0.5944444537162781 \n",
            "\n",
            "Accuracies over epochs: [0.6388888955116272, 0.8500000238418579, 0.8444444537162781, 0.8055555820465088, 0.8055555820465088, 0.7833333611488342, 0.7611111402511597, 0.6388888955116272, 0.6277777552604675, 0.6111111044883728, 0.605555534362793, 0.699999988079071, 0.550000011920929, 0.5777778029441833, 0.5944444537162781, 0.5944444537162781, 0.5888888835906982, 0.5888888835906982, 0.550000011920929, 0.5944444537162781] \n",
            "\n",
            "\n",
            "\n",
            "\n",
            " Over all runs maximum accuracies on English are: [0.7611111402511597, 0.7666666507720947, 0.8444444537162781, 0.8500000238418579, 0.8611111044883728]\n",
            "The median for English is: 0.8444444537162781 \n",
            "\n",
            "\n",
            "\n",
            "CNN Accuracy Score on Test set ->  ['0.8444444537162781 +/- 0.08333331346511841']\n"
          ]
        }
      ],
      "source": [
        "tf.random.set_seed(1)\n",
        "\n",
        "# Reset model_results list.\n",
        "for key in prepro_functions_dict_comb:\n",
        "  model_results[key]=[]\n",
        "\n",
        "for key in prepro_functions_dict_comb:\n",
        "  runs_accuracy = []\n",
        "\n",
        "  print(\"\\n\\n* * * * EVALUATION USING\", key, \"AS PREPROCESSING FUNCTION * * * *\")\n",
        "\n",
        "  # Preprocess training set to build a dictionary.\n",
        "  vectorize_layer = preprocess_and_adapt_ts(prepro_functions_dict_comb[key],train_ds)\n",
        "\n",
        "  max_features=len(vectorize_layer.get_vocabulary()) + 1\n",
        "  print(\"Vocabulary size is:\", max_features)\n",
        "\n",
        "  for run in range(1,(num_runs+1)):\n",
        "    epochs_accuracy=[]\n",
        "    model = tf.keras.Sequential([\n",
        "                                    tf.keras.Input(shape=(1,), dtype=tf.string),\n",
        "                                    vectorize_layer,\n",
        "                                    layers.Embedding(max_features + 1, embedding_dim),                     \n",
        "                                    layers.Dropout(0.8),\n",
        "\n",
        "                                    layers.Conv1D(256,16,activation='relu'),\n",
        "                                    layers.MaxPooling1D(),\n",
        "                                    layers.Dropout(0.6),\n",
        "\n",
        "                                    layers.Dense(512,activation='relu'),\n",
        "                           \n",
        "                                    layers.GlobalAveragePooling1D(),\n",
        "                                    layers.Dropout(0.2),\n",
        "                                    layers.Dense(1)                            \n",
        "    ])\n",
        "    model.compile(loss=losses.BinaryCrossentropy(from_logits=True), optimizer='RMSprop', metrics=tf.metrics.BinaryAccuracy(threshold=0.0)) \n",
        "\n",
        "    for epoch in range (0,num_epochs_per_run):\n",
        "        history = model.fit(\n",
        "          train_ds,\n",
        "          validation_data = test_ds,\n",
        "          epochs=1,\n",
        "          shuffle=False,\n",
        "          # Comment the following line to do not save and download the model.\n",
        "          #callbacks=[callbacks]\n",
        "          )\n",
        "        accuracy = history.history['val_binary_accuracy']\n",
        "        print(\"Run: \",run,\"/ Accuracy at epoch \",epoch,\" is: \", accuracy[0],\"\\n\")\n",
        "        epochs_accuracy.append(accuracy[0])\n",
        "\n",
        "    print(\"Accuracies over epochs:\",epochs_accuracy,\"\\n\\n\")\n",
        "    runs_accuracy.append(max(epochs_accuracy))\n",
        "\n",
        "  runs_accuracy.sort()\n",
        "  print(\"\\n\\n Over all runs maximum accuracies on English are:\", runs_accuracy)\n",
        "  print(\"The median for English is:\",runs_accuracy[2],\"\\n\\n\\n\")\n",
        "  \n",
        "  if (runs_accuracy[2]-runs_accuracy[0])>(runs_accuracy[4]-runs_accuracy[2]):\n",
        "    max_range_from_median = runs_accuracy[2]-runs_accuracy[0]\n",
        "  else:\n",
        "    max_range_from_median = runs_accuracy[4]-runs_accuracy[2]\n",
        "  final_result = str(runs_accuracy[2])+\" +/- \"+ str(max_range_from_median)\n",
        "  model_results[key].append(final_result)\n",
        "  print(\"CNN Accuracy Score on Test set -> \",model_results[key])"
      ]
    },
    {
      "cell_type": "markdown",
      "metadata": {
        "id": "6uMKAeuegNk1"
      },
      "source": [
        "## Now show compact results in a table."
      ]
    },
    {
      "cell_type": "code",
      "execution_count": null,
      "metadata": {
        "id": "AJ79RMougNRA",
        "colab": {
          "base_uri": "https://localhost:8080/"
        },
        "outputId": "b43344f6-9fd7-4e36-bf89-7dd59516ef9d"
      },
      "outputs": [
        {
          "output_type": "stream",
          "name": "stdout",
          "text": [
            " PREPRO FUNCTION    |  Test Accuracy   |\n",
            "\n",
            "DON                        0.8444444537162781 +/- 0.08333331346511841\n",
            "\n",
            "\n"
          ]
        }
      ],
      "source": [
        "print(\" PREPRO FUNCTION    |  Test Accuracy   |\",end = '')\n",
        "\n",
        "print(\"\\n\")\n",
        "for prepro_func in prepro_functions_dict_comb:\n",
        "  #print(prepro_func,\"\\t\\t\\t\",format(round(model_results[prepro_func][0],4),'.4f'),\"\\t\\t\",end='')\n",
        "  result = model_results[prepro_func][0]\n",
        "  # result = format(round(model_results[prepro_func][0],4),'.4f')\n",
        "  print(f'{prepro_func:27}{ result :12}')\n",
        "  print(\"\\n\")"
      ]
    }
  ],
  "metadata": {
    "accelerator": "GPU",
    "colab": {
      "provenance": [],
      "collapsed_sections": [
        "6IBqUcj4cx2G",
        "0QHd_fxmHCfa",
        "uTJi1fbT_Rup",
        "-6c28Rdo8zGn",
        "VU6PtNMZ864o",
        "4vskGJeX9GqJ",
        "ITouXXtQ8WzV",
        "TjUnE9_DEyCw",
        "x8zDXrk9eEy5"
      ],
      "include_colab_link": true
    },
    "kernelspec": {
      "display_name": "Python 3",
      "name": "python3"
    },
    "gpuClass": "standard"
  },
  "nbformat": 4,
  "nbformat_minor": 0
}