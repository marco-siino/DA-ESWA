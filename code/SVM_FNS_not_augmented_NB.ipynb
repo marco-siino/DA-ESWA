{
  "nbformat": 4,
  "nbformat_minor": 0,
  "metadata": {
    "accelerator": "TPU",
    "colab": {
      "provenance": [],
      "include_colab_link": true
    },
    "kernelspec": {
      "display_name": "Python 3",
      "name": "python3"
    }
  },
  "cells": [
    {
      "cell_type": "markdown",
      "metadata": {
        "id": "view-in-github",
        "colab_type": "text"
      },
      "source": [
        "<a href=\"https://colab.research.google.com/github/marco-siino/DA-ESWA/blob/main/code/SVM_FNS_not_augmented_NB.ipynb\" target=\"_parent\"><img src=\"https://colab.research.google.com/assets/colab-badge.svg\" alt=\"Open In Colab\"/></a>"
      ]
    },
    {
      "cell_type": "markdown",
      "metadata": {
        "id": "u-hLo5ufkCT1"
      },
      "source": [
        "## Text preprocessing worth the time: A comparative survey on the impact of common techniques on NLP model performances. \n",
        "- - - \n",
        "SVM ON FAKE NEWS SPREADERS DS EXPERIMENTS NOTEBOOK \n",
        "- - -\n",
        "Support Vector Machine on Fake News Spreaders Dataset.\n",
        "Code by M. Siino. \n",
        "\n",
        "From the paper: \"Text preprocessing worth the time: A comparative survey on the impact of common techniques on NLP model performances.\" by M.Siino et al.\n",
        "\n"
      ]
    },
    {
      "cell_type": "markdown",
      "metadata": {
        "id": "6IBqUcj4cx2G"
      },
      "source": [
        "## Importing modules."
      ]
    },
    {
      "cell_type": "code",
      "metadata": {
        "id": "AQSunQ-ucjLX"
      },
      "source": [
        "import matplotlib.pyplot as plt\n",
        "import os\n",
        "import random\n",
        "import re\n",
        "import shutil\n",
        "import string\n",
        "import tensorflow as tf\n",
        "\n",
        "from tensorflow.keras import layers\n",
        "from tensorflow.keras import losses\n",
        "from tensorflow.keras import preprocessing\n",
        "from tensorflow.keras.layers.experimental.preprocessing import TextVectorization\n",
        "from google.colab import files\n",
        "from io import open\n",
        "from numpy.random import seed\n",
        "import numpy as np\n",
        "from pathlib import Path\n",
        "from sklearn import svm\n",
        "\n",
        "os.environ['TF_CUDNN_DETERMINISTIC']='true'\n",
        "os.environ['TF_DETERMINISTIC_OPS']='true'"
      ],
      "execution_count": 1,
      "outputs": []
    },
    {
      "cell_type": "markdown",
      "metadata": {
        "id": "0QHd_fxmHCfa"
      },
      "source": [
        "## Importing DS and extract in current working directory."
      ]
    },
    {
      "cell_type": "code",
      "metadata": {
        "colab": {
          "base_uri": "https://localhost:8080/"
        },
        "id": "ocYMUXaY8r0_",
        "outputId": "8c3a11d3-fb22-44a1-b239-f0644cc6bc6c"
      },
      "source": [
        "# Url obtained starting from this: https://drive.google.com/file/d/19ZcqEv88euKB71HfAWjTGN3uCKp2qsfP/ and forcing export=download.\n",
        "urlTrainingSet = \"https://github.com/marco-siino/DA-ESWA/blob/main/data/fns/fns-training-original.zip?raw=true\"\n",
        "urlTestSet=\"https://github.com/marco-siino/DA-ESWA/blob/main/data/fns/fns-test-original.zip?raw=true\"\n",
        "\n",
        "training_set = tf.keras.utils.get_file(\"pan20-author-profiling-training-2020-02-23.zip\", urlTrainingSet,\n",
        "                                    extract=True, archive_format='zip',cache_dir='.',\n",
        "                                    cache_subdir='')\n",
        "test_set = tf.keras.utils.get_file(\"pan20-author-profiling-test-2020-02-23.zip\", urlTestSet,\n",
        "                                    extract=True, archive_format='zip',cache_dir='.',\n",
        "                                    cache_subdir='')\n",
        "\n",
        "training_set_dir = os.path.join(os.path.dirname(training_set), 'pan20-author-profiling-training-2020-02-23')\n",
        "test_set_dir = os.path.join(os.path.dirname(test_set), 'pan20-author-profiling-test-2020-02-23')\n",
        "\n",
        "print(training_set)\n",
        "print(training_set_dir)\n",
        "\n",
        "!ls -A"
      ],
      "execution_count": 2,
      "outputs": [
        {
          "output_type": "stream",
          "name": "stdout",
          "text": [
            "Downloading data from https://github.com/marco-siino/DA-ESWA/blob/main/data/fns/fns-training-original.zip?raw=true\n",
            "3094459/3094459 [==============================] - 0s 0us/step\n",
            "Downloading data from https://github.com/marco-siino/DA-ESWA/blob/main/data/fns/fns-test-original.zip?raw=true\n",
            "2135236/2135236 [==============================] - 0s 0us/step\n",
            "./papan20-author-profiling-training-2020-02-23.zip\n",
            "./pan20-author-profiling-training-2020-02-23\n",
            ".config\n",
            "__MACOSX\n",
            "pan20-author-profiling-test-2020-02-23\n",
            "pan20-author-profiling-test-2020-02-23.zip\n",
            "pan20-author-profiling-training-2020-02-23\n",
            "papan20-author-profiling-training-2020-02-23.zip\n",
            "sample_data\n"
          ]
        }
      ]
    },
    {
      "cell_type": "markdown",
      "metadata": {
        "id": "Di7jOZjALo4X"
      },
      "source": [
        "## Build folders hierarchy to use Keras folders preprocessing function."
      ]
    },
    {
      "cell_type": "code",
      "metadata": {
        "colab": {
          "base_uri": "https://localhost:8080/"
        },
        "id": "-ucATWhfGSGf",
        "outputId": "3811fb09-08ba-40c9-b809-8496c0e41dd5"
      },
      "source": [
        "### Training Folders. ###\n",
        "\n",
        "# First level directory.\n",
        "if not os.path.exists('train_dir_en'):\n",
        "    os.makedirs('train_dir_en')\n",
        "\n",
        "# Class labels directory.\n",
        "if not os.path.exists('train_dir_en/0'):\n",
        "    os.makedirs('train_dir_en/0')\n",
        "if not os.path.exists('train_dir_en/1'):\n",
        "    os.makedirs('train_dir_en/1')\n",
        "\n",
        "# Make Py variables.\n",
        "train_dir='train_dir_'\n",
        "\n",
        "## Test Folders. ##\n",
        "# First level directory.\n",
        "if not os.path.exists('test_dir_en'):\n",
        "    os.makedirs('test_dir_en')\n",
        "\n",
        "# Class labels directory.\n",
        "if not os.path.exists('test_dir_en/0'):\n",
        "    os.makedirs('test_dir_en/0')\n",
        "if not os.path.exists('test_dir_en/1'):\n",
        "    os.makedirs('test_dir_en/1')\n",
        "\n",
        "# Make Py variables.\n",
        "test_dir='test_dir_'\n",
        "\n",
        "!ls -A"
      ],
      "execution_count": 3,
      "outputs": [
        {
          "output_type": "stream",
          "name": "stdout",
          "text": [
            ".config\n",
            "__MACOSX\n",
            "pan20-author-profiling-test-2020-02-23\n",
            "pan20-author-profiling-test-2020-02-23.zip\n",
            "pan20-author-profiling-training-2020-02-23\n",
            "papan20-author-profiling-training-2020-02-23.zip\n",
            "sample_data\n",
            "test_dir_en\n",
            "train_dir_en\n"
          ]
        }
      ]
    },
    {
      "cell_type": "markdown",
      "metadata": {
        "id": "tNib56hF_8an"
      },
      "source": [
        "## Set language and directory paths.\n"
      ]
    },
    {
      "cell_type": "code",
      "metadata": {
        "id": "Rq0EgZuf_5tv"
      },
      "source": [
        "# Set en and es ground truth file path for train_dir. We haven't a ground truth file for the test set.\n",
        "language='en'\n",
        "\n",
        "truth_file_training_dir_en=training_set_dir+'/'+language+'/'\n",
        "truth_file_training_path_en = truth_file_training_dir_en+'truth.txt'\n",
        "\n",
        "truth_file_test_dir=test_set_dir\n",
        "truth_file_test_path_en = truth_file_test_dir+'/'+language+'.txt'"
      ],
      "execution_count": 4,
      "outputs": []
    },
    {
      "cell_type": "markdown",
      "metadata": {
        "id": "7VQKsc4XOpD8"
      },
      "source": [
        "## Read truth.txt to organize training and test dataset folders.\n",
        "\n"
      ]
    },
    {
      "cell_type": "code",
      "metadata": {
        "id": "4kxcJ92-Nkto"
      },
      "source": [
        "# Open the file truth.txt with read only permit.\n",
        "f = open(truth_file_training_path_en, \"r\")\n",
        "# use readline() to read the first line \n",
        "line = f.readline()\n",
        "# use the read line to read further.\n",
        "# If the file is not empty keep reading one line\n",
        "# at a time, till the file is empty\n",
        "while line:\n",
        "    # Split line at :::\n",
        "    x = line.split(\":::\")\n",
        "    fNameXml = x[0]+'.xml'\n",
        "    fNameTxt = x[0]+'.txt'\n",
        "    # Second coord [0] gets just the first character (label) and not /n too.\n",
        "    label = x[1][0]\n",
        "\n",
        "    # Now move the file to the right folder.\n",
        "    if os.path.exists(truth_file_training_dir_en+fNameXml):\n",
        "      os.rename(truth_file_training_dir_en+fNameXml, './train_dir_'+language+'/'+label+'/'+fNameTxt )\n",
        "\n",
        "    # use readline() to read next line\n",
        "    line = f.readline()\n",
        "\n",
        "# Open the file truth.txt with read only permit.\n",
        "f = open(truth_file_test_path_en, \"r\")\n",
        "# use readline() to read the first line \n",
        "line = f.readline()\n",
        "# use the read line to read further.\n",
        "# If the file is not empty keep reading one line\n",
        "# at a time, till the file is empty\n",
        "while line:\n",
        "    # Split line at :::\n",
        "    x = line.split(\":::\")\n",
        "    fNameXml = x[0]+'.xml'\n",
        "    fNameTxt = x[0]+'.txt'\n",
        "    # Second coord [0] gets just the first character (label) and not /n too.\n",
        "    label = x[1][0]\n",
        "\n",
        "    # Now move the file to the right folder.\n",
        "    if os.path.exists(truth_file_test_dir+'/'+language+'/'+fNameXml):\n",
        "      os.rename(truth_file_test_dir+'/'+language+'/'+fNameXml, './test_dir_'+language+'/'+label+'/'+fNameTxt )\n",
        "\n",
        "    # use readline() to read next line\n",
        "    line = f.readline()"
      ],
      "execution_count": 5,
      "outputs": []
    },
    {
      "cell_type": "markdown",
      "metadata": {
        "id": "uTJi1fbT_Rup"
      },
      "source": [
        "## Generate full training set.\n",
        "\n"
      ]
    },
    {
      "cell_type": "code",
      "metadata": {
        "colab": {
          "base_uri": "https://localhost:8080/"
        },
        "id": "FyafvXEMhEKw",
        "outputId": "b905dea7-6a58-4bdf-f059-4fa3b5b8f94d"
      },
      "source": [
        "# Generate full randomized training set.\n",
        "batch_size=1\n",
        "\n",
        "en_train_ds = tf.keras.preprocessing.text_dataset_from_directory(\n",
        "    train_dir+language, \n",
        "    batch_size=batch_size,\n",
        "    shuffle=False\n",
        "    )\n",
        "\n",
        "en_test_ds = tf.keras.preprocessing.text_dataset_from_directory(\n",
        "    test_dir+language, \n",
        "    batch_size=batch_size,\n",
        "    shuffle=False\n",
        "    )\n",
        "\n",
        "train_ds=en_train_ds.shuffle(300,seed=1, reshuffle_each_iteration=False)\n",
        "test_ds=en_test_ds.shuffle(200,seed=1, reshuffle_each_iteration=False)\n",
        "\n",
        "train_ds_size=len(train_ds)\n",
        "test_ds_size=len(test_ds)"
      ],
      "execution_count": 6,
      "outputs": [
        {
          "output_type": "stream",
          "name": "stdout",
          "text": [
            "Found 300 files belonging to 2 classes.\n",
            "Found 200 files belonging to 2 classes.\n"
          ]
        }
      ]
    },
    {
      "cell_type": "markdown",
      "metadata": {
        "id": "ITouXXtQ8WzV"
      },
      "source": [
        "## Functions to pre-process source text. (A detailed discussion on our paper)"
      ]
    },
    {
      "cell_type": "code",
      "metadata": {
        "id": "bDPIqAgXYWim"
      },
      "source": [
        "# Do-Nothing preprocessing function.\n",
        "def DON(input_data):\n",
        "  tag_open_CDATA_removed = tf.strings.regex_replace(input_data, '<\\!\\[CDATA\\[', ' ')\n",
        "  tag_closed_CDATA_removed = tf.strings.regex_replace(tag_open_CDATA_removed,'\\]{1,}>', ' ')\n",
        "  tag_author_lang_en_removed = tf.strings.regex_replace(tag_closed_CDATA_removed,'<author lang=\"en\">', ' ')\n",
        "  tag_closed_author_removed = tf.strings.regex_replace(tag_author_lang_en_removed,'</author>', ' ')\n",
        "  tag_open_documents_removed = tf.strings.regex_replace(tag_closed_author_removed,'<documents>\\n(\\t){0,2}', '')\n",
        "  output_data = tf.strings.regex_replace(tag_open_documents_removed,'</documents>\\n(\\t){0,2}', ' ')\n",
        "  return output_data"
      ],
      "execution_count": 7,
      "outputs": []
    },
    {
      "cell_type": "markdown",
      "metadata": {
        "id": "TjUnE9_DEyCw"
      },
      "source": [
        "## Get the length of the longest sample in training set. Then adapt text.\n",
        "\n"
      ]
    },
    {
      "cell_type": "code",
      "metadata": {
        "id": "ebRMQqa_mr48"
      },
      "source": [
        "def preprocess_and_adapt_ts(preprocessing_function,training_set):\n",
        "  # Set a very large sequence length to find the longest sample in the training set.\n",
        "  sequence_length = 30000\n",
        "  vectorize_layer = TextVectorization(\n",
        "      standardize=preprocessing_function,\n",
        "      output_mode='int',\n",
        "      output_sequence_length=sequence_length)\n",
        "\n",
        "  train_text = training_set.map(lambda x, y: x)\n",
        "  vectorize_layer.adapt(train_text)\n",
        "  #vectorize_layer.get_vocabulary()\n",
        "\n",
        "  model = tf.keras.models.Sequential()\n",
        "  model.add(tf.keras.Input(shape=(1,), dtype=tf.string))\n",
        "  model.add(vectorize_layer)\n",
        "\n",
        "  longest_sample_length=1\n",
        "\n",
        "  for element in training_set:\n",
        "    authorDocument=element[0]\n",
        "    label=element[1]\n",
        "    \n",
        "    #print(\"Sample considered is: \", authorDocument[0].numpy())\n",
        "    #print(\"Preprocessed: \", str(custom_standardization(authorDocument[0].numpy())))\n",
        "    #print(\"And has label: \", label[0].numpy())\n",
        "\n",
        "    # Count the number of zeros from the last non-zero token to the end of the sample. \n",
        "    # Shortest tokenized sample has less zeros than others.\n",
        "    out=model(authorDocument)\n",
        "    token_nr_index=sequence_length-1\n",
        "    current_sample_zeros_counter=0\n",
        "    while out.numpy()[0][token_nr_index]==0:\n",
        "      token_nr_index-=1\n",
        "      current_sample_zeros_counter+=1\n",
        "\n",
        "    shortest_padding_length=sequence_length-longest_sample_length\n",
        "    if current_sample_zeros_counter<shortest_padding_length:\n",
        "      longest_sample_length=sequence_length-current_sample_zeros_counter\n",
        "\n",
        "  #print(out.numpy()[0][3229:3400])\n",
        "  #print(longest_sample_length)\n",
        "\n",
        "  # After tokenization longest_sample_length covers all the document lenghts in our dataset.\n",
        "  sequence_length = longest_sample_length\n",
        "\n",
        "  vectorize_layer = TextVectorization(\n",
        "      standardize=preprocessing_function,\n",
        "      output_mode='int',\n",
        "      output_sequence_length=sequence_length)\n",
        "\n",
        "  # Finally adapt the vectorize layer.\n",
        "  train_text = training_set.map(lambda x, y: x)\n",
        "  vectorize_layer.adapt(train_text)\n",
        "  return vectorize_layer"
      ],
      "execution_count": 11,
      "outputs": []
    },
    {
      "cell_type": "markdown",
      "metadata": {
        "id": "x8zDXrk9eEy5"
      },
      "source": [
        "## Define a dictionary with -> function_names:prepro_function_caller. And a dictionary to store model results.\n",
        "\n",
        "\n"
      ]
    },
    {
      "cell_type": "code",
      "metadata": {
        "colab": {
          "base_uri": "https://localhost:8080/"
        },
        "id": "P8owxNMIeFsX",
        "outputId": "615c26c7-44af-4d16-e6b3-800447613511"
      },
      "source": [
        "model_results = {}\n",
        "prepro_functions_dict_base = {\n",
        "    'DON':DON,\n",
        "    }\n",
        "\n",
        "# 3 prepro functions = 15 combs...+1 for do_nothing\n",
        "\n",
        "prepro_functions_dict_comb = {\n",
        "    # 1. Do nothing \n",
        "    'DON': DON,\n",
        "}\n",
        "\n",
        "for key in prepro_functions_dict_comb:\n",
        "  print(key)\n",
        "  model_results[key]=[]"
      ],
      "execution_count": 12,
      "outputs": [
        {
          "output_type": "stream",
          "name": "stdout",
          "text": [
            "DON\n"
          ]
        }
      ]
    },
    {
      "cell_type": "markdown",
      "metadata": {
        "id": "XDEi7MAo4qsQ"
      },
      "source": [
        "## Models definition and evaluation.\n",
        "\n",
        "\n"
      ]
    },
    {
      "cell_type": "code",
      "metadata": {
        "colab": {
          "base_uri": "https://localhost:8080/"
        },
        "id": "Mm1fdCpETWL-",
        "outputId": "51e93e4f-cb43-46db-8485-133b0ecf194c"
      },
      "source": [
        "for key in prepro_functions_dict_comb:\n",
        "    print(\"\\n\\n* * * * EVALUATION USING\", key, \"AS PREPROCESSING FUNCTION * * * *\")\n",
        "\n",
        "    # Preprocess training set to build a dictionary.\n",
        "    vectorize_layer = preprocess_and_adapt_ts(prepro_functions_dict_comb[key],train_ds)\n",
        "\n",
        "    print(\"\\n\\n***** FINITO DI PROCESSARE E ADATTARE IL TRAINING SET, INIZIA LA SIMULAZIONE *******\")\n",
        "    # Print a raw and a preprocessed sample.\n",
        "    for element in train_ds:\n",
        "      authorDocument=element[0]\n",
        "      label=element[1]\n",
        "      \n",
        "      print(\"Sample considered is: \", authorDocument[0])\n",
        "      print(\"Preprocessed: \", str(prepro_functions_dict_comb[key](authorDocument[0].numpy())))\n",
        "      break\n",
        "    \n",
        "    # # # - - - - - MODELS DEFINITION AND EVALUATION - - - - - # # #\n",
        "\n",
        "    model = tf.keras.models.Sequential()\n",
        "    model.add(tf.keras.Input(shape=(1,), dtype=tf.string))\n",
        "    model.add(vectorize_layer)\n",
        "    \n",
        "    # # # # # # # # # # # # # # # # # # # # # # # # # # # # # # # # # # # \n",
        "\n",
        "    # --- SVM SECTION START --- #\n",
        "\n",
        "    training_labels=[]\n",
        "    training_samples=[]\n",
        "\n",
        "    max_features=len(vectorize_layer.get_vocabulary()) + 1\n",
        "\n",
        "    for element in train_ds:\n",
        "      authorDocument=element[0]\n",
        "      label=element[1]\n",
        "      \n",
        "      #print(\"Sample considered is: \", authorDocument[0])\n",
        "      #print(\"Preprocessed: \", str(custom_standardization(authorDocument[0].numpy())))\n",
        "      #print(\"And has label: \", label[0].numpy())\n",
        "      \n",
        "      text_vect_layer_model = tf.keras.Model(inputs=model.input,\n",
        "                                          outputs=model.layers[0].output)\n",
        "      text_vect_out = text_vect_layer_model(authorDocument)\n",
        "\n",
        "      training_labels.append(label[0].numpy())\n",
        "      current_sample=np.zeros(max_features)\n",
        "      for current_token in text_vect_out[0][:].numpy():\n",
        "        #print(current_token,end=' ')\n",
        "        #print(vectorize_layer.get_vocabulary()[current_token])\n",
        "        current_sample[current_token]+=1\n",
        "      training_samples.append(current_sample)\n",
        "      #break\n",
        "\n",
        "    training_labels=np.array(training_labels)\n",
        "    training_samples=np.array(training_samples)\n",
        "    #print(\"\\nLE LABELS DEI CAMPIONI DI TRAINING SONO:\")\n",
        "    #print(training_labels)\n",
        "    #print(\"\\nI SAMPLE DI TRAINING DOPO LA TEXT VECTORIZATION SONO:\")\n",
        "    #print(training_samples)\n",
        "\n",
        "    test_labels=[]\n",
        "    test_samples=[]\n",
        "\n",
        "    for element in test_ds:\n",
        "      authorDocument=element[0]\n",
        "      label=element[1]\n",
        "      \n",
        "      text_vect_layer_model = tf.keras.Model(inputs=model.input,\n",
        "                                          outputs=model.layers[0].output)\n",
        "      text_vect_out = text_vect_layer_model(authorDocument)\n",
        "\n",
        "      test_labels.append(label[0].numpy())\n",
        "      current_sample=np.zeros(max_features)\n",
        "      for current_token in text_vect_out[0][:].numpy():\n",
        "        current_sample[current_token]+=1\n",
        "      test_samples.append(current_sample)\n",
        "\n",
        "    test_labels=np.array(test_labels)\n",
        "    test_samples=np.array(test_samples)\n",
        "\n",
        "    SVM = svm.SVC(C=0.5, kernel='linear', gamma='auto')\n",
        "    SVM.fit(training_samples,training_labels)\n",
        "    # predict the labels on training set\n",
        "    #predictions_SVM = SVM.predict(training_samples)\n",
        "    # Use accuracy_score function to get the accuracy\n",
        "    #model_results[key]['SVM_train']=SVM.score(training_samples,training_labels)\n",
        "    #print(\"SVM Accuracy Score on Training set -> \",model_results[key]['SVM_train'])\n",
        "\n",
        "    # predict the labels on validation dataset\n",
        "    predictions_SVM = SVM.predict(test_samples)\n",
        "    # Use accuracy_score function to get the accuracy\n",
        "    model_results[key].append(SVM.score(test_samples,test_labels))\n",
        "    print(\"SVM Accuracy Score on Test set -> \",model_results[key])\n",
        "\n",
        "    # --- SVM SECTION END --- #\n",
        "\n",
        "    # # # # # # # # # # # # # # # # # # # # # # # # # # # # # # # # # # #\n",
        "    \n",
        "    # # # - - - - - MODEL DEFINITION AND EVALUATION END  - - - - - # # #"
      ],
      "execution_count": 13,
      "outputs": [
        {
          "output_type": "stream",
          "name": "stdout",
          "text": [
            "\n",
            "\n",
            "* * * * EVALUATION USING DON AS PREPROCESSING FUNCTION * * * *\n",
            "\n",
            "\n",
            "***** FINITO DI PROCESSARE E ADATTARE IL TRAINING SET, INIZIA LA SIMULAZIONE *******\n",
            "Sample considered is:  tf.Tensor(b'<author lang=\"en\">\\n  <documents>\\n    <document><![CDATA[In religion we call it spirits. In science we call it energy. In the streets we call it vibes.]]></document>\\n    <document><![CDATA[Bringing ur face closer to your fan]]></document>\\n    <document><![CDATA[Iranian hit US ship, US did not do anything, Iranian hit US Drone US did not do anything, Iranian when as far as an\\xe2\\x80\\xa6 #URL#]]></document>\\n    <document><![CDATA[You First Call tomorrow been 1st of November 2019 will be a Financial blessings.   Our Latest mixtape... Grab ur copy.]]></document>\\n    <document><![CDATA[No weapon against him will execute ijn #URL#]]></document>\\n    <document><![CDATA[Congratulations  my Sister  once again #URL#]]></document>\\n    <document><![CDATA[Age Gratefully Beautiful woman  Llnp Best Friend #URL#]]></document>\\n    <document><![CDATA[Ur popularity is our greatest priority #URL#]]></document>\\n    <document><![CDATA[I don\\xe2\\x80\\x99t know who needs to hear this but grow up and stop watching porn.]]></document>\\n    <document><![CDATA[Gov Ugwuanyi paid salary \\xf0\\x9f\\x99\\x84\\xf0\\x9f\\x99\\x84\\xf0\\x9f\\x99\\x84 I don\\'t consider salary payment an achievement]]></document>\\n    <document><![CDATA[U see those frnds dat inbox u only wen u upload fine pictures, stay away from them.]]></document>\\n    <document><![CDATA[Age Gratefully Beautiful woman  Llnp Best Friend]]></document>\\n    <document><![CDATA[Video over make sinsi Ezege But we need Ur poster badly on the street of 042, to waken the vibe street Alobam. MPA\\xe2\\x80\\xa6 #URL#]]></document>\\n    <document><![CDATA[We are the Street and street is in us]]></document>\\n    <document><![CDATA[#HASHTAG# Is The Real Soldier. EBONYI GUY SINGLE HANDEDLY DISARMS A NIGERIAN STUPID SOLDIER..  I don\\'t care what you may\\xe2\\x80\\xa6 #URL#]]></document>\\n    <document><![CDATA[Can someone help and subtitle this song for me #URL#]]></document>\\n    <document><![CDATA[My Best Nigerian President  I Celebrate with you Sir #URL#]]></document>\\n    <document><![CDATA[Never tell your family about your relationship problems because you might forgive your partner and they won\\'t..]]></document>\\n    <document><![CDATA[Wwe Africa full match of Rey Mysterio vs Kane is out now 2019 latest wwe Africa Trending video #URL#]]></document>\\n    <document><![CDATA[May God continue to sustain u and guide you through anything on anyway @ anytime ijn #URL#]]></document>\\n    <document><![CDATA[Never be in a hurry to criticize a woman who left her marriage. Most of them did everything possible to save their homes. Be kind!]]></document>\\n    <document><![CDATA[Best Epic song of the season #URL#]]></document>\\n    <document><![CDATA[STOP DATING BROKE GIRLS . I know many girls and ladies gonna be angry with this post but try learn more about it .\\xe2\\x80\\xa6 #URL#]]></document>\\n    <document><![CDATA[Bia  Rie  Ji \\xf0\\x9f\\xa4\\xa3\\xf0\\x9f\\xa4\\xa3\\xf0\\x9f\\xa4\\xa3 \\xe2\\x80\\x94 at Enugu - Coal City. #URL#]]></document>\\n    <document><![CDATA[The army and the police put up an impressive professionalism in this encounter.  Kudos to them. More respect to d g\\xe2\\x80\\xa6 #URL#]]></document>\\n    <document><![CDATA[Happy birthday Papilo Age Gratefully AKA Shoemaker]]></document>\\n    <document><![CDATA[July updates.... Crab a Copy as Edey hot]]></document>\\n    <document><![CDATA[A man of his word #URL#]]></document>\\n    <document><![CDATA[Happy birthday to my own blood from another mummy.   More money,  peace,  joy, love and happiness as ur add 1 to ur\\xe2\\x80\\xa6 #URL#]]></document>\\n    <document><![CDATA[Congratulations  my Sister  once again #URL#]]></document>\\n    <document><![CDATA[Ur July updates on jubilation  Crab a Copy as Edey hot]]></document>\\n    <document><![CDATA[My past pains has notin 2 contribute 2 my future glory.]]></document>\\n    <document><![CDATA[Good morning to u all May ur today be better than yesterday  May ur tomorrow be better than today  May our hustle be fruitful]]></document>\\n    <document><![CDATA[#URL# Best of Umu Udubonch vol2  AKALAKA #URL#]]></document>\\n    <document><![CDATA[Wonderful deserve wonderful miracle.  Pastor mmm everywhere #URL#]]></document>\\n    <document><![CDATA[Can you marry a billionaire who is Obasinjo son and  HIV positve? Answer as u are Tonto D]]></document>\\n    <document><![CDATA[Ur popularity is our greatest priority  Tel 08084770119]]></document>\\n    <document><![CDATA[On behalf of D common man in dis country,  we are hopelessly lost. 132 Biko haram 4gvn n reinstated in Borno State.]]></document>\\n    <document><![CDATA[D only tin u should hv at d back of mind is dat anytin can happen at anytime.  But Hustle and bustle  Defines  ur future]]></document>\\n    <document><![CDATA[ABA NA ABA IS MY OWN STATE  Border is closed to stop importation of Rice, well, that\\'s not for us in  Abakaliki, Eb\\xe2\\x80\\xa6 #URL#]]></document>\\n    <document><![CDATA[Ican\\'t kill myself Chulo way #URL#]]></document>\\n    <document><![CDATA[Ability of Running from one man to another is called Runs girl.  Prostitute is Ability of .......  ?]]></document>\\n    <document><![CDATA[President Donald Trump delivers an address to the United Nations General Assembly.  More: #URL# #URL#]]></document>\\n    <document><![CDATA[Hot &amp; Fresh  mega mix from ur  baddest Dj                     DJ NWABAKALIKI               We are ur street credibi\\xe2\\x80\\xa6 #URL#]]></document>\\n    <document><![CDATA[Hellooo everyone Please, disregard any purported business or any of its kind sent to by me. Someone hacked into my\\xe2\\x80\\xa6 #URL#]]></document>\\n    <document><![CDATA[U fought for me  Why odas fight for dey God  My Lord, U no dey use me play ooo]]></document>\\n    <document><![CDATA[Your ex should never be your friend -Counsellor Charlotte Oduro #URL#]]></document>\\n    <document><![CDATA[Lafille\\' age gracefully as u are +1 2day]]></document>\\n    <document><![CDATA[The country is messed up #URL#]]></document>\\n    <document><![CDATA[#URL# Na Dem by Mista Cornel is finally out \\xf0\\x9f\\xa7\\x9a\\xe2\\x80\\x8d\\xe2\\x99\\x80\\xef\\xb8\\x8f\\xf0\\x9f\\xa7\\x9b\\xe2\\x80\\x8d\\xe2\\x99\\x82\\xef\\xb8\\x8f\\xf0\\x9f\\xa7\\x9e\\xe2\\x80\\x8d\\xe2\\x99\\x82\\xef\\xb8\\x8f\\xf0\\x9f\\xa7\\x9e\\xe2\\x80\\x8d\\xe2\\x99\\x80\\xef\\xb8\\x8f\\xf0\\x9f\\xa7\\x9f\\xe2\\x80\\x8d\\xe2\\x99\\x82\\xef\\xb8\\x8f\\xf0\\x9f\\xa4\\xb6\\xf0\\x9f\\xa4\\xb6\\xf0\\x9f\\xa7\\x99\\xe2\\x80\\x8d\\xe2\\x99\\x82\\xef\\xb8\\x8f\\xf0\\x9f\\x99\\x8d\\xe2\\x80\\x8d\\xe2\\x99\\x82\\xef\\xb8\\x8f\\xf0\\x9f\\x99\\x86\\xe2\\x80\\x8d\\xe2\\x99\\x82\\xef\\xb8\\x8f\\xf0\\x9f\\x99\\x85\\xe2\\x80\\x8d\\xe2\\x99\\x80\\xef\\xb8\\x8f\\xf0\\x9f\\x99\\x8e\\xe2\\x80\\x8d\\xe2\\x99\\x80\\xef\\xb8\\x8f\\xf0\\x9f\\x99\\x8d\\xe2\\x80\\x8d\\xe2\\x99\\x80\\xef\\xb8\\x8f #URL#]]></document>\\n    <document><![CDATA[Umu Udubonch vol1 video shooting about to Starting  IHE N\\' EME AGU NA ISI Zodo Music ng production  Directed by CENTURY  Dop EMELEX]]></document>\\n    <document><![CDATA[Biafra is real  R. I . P Our great Falling Heroes  30th May is a heroic  Date to Every Igbo land. Date we will alwa\\xe2\\x80\\xa6 #URL#]]></document>\\n    <document><![CDATA[If you want Nigerian men to eat or drink anything, just tell them it will help them perform better in bed.. Chai who slap me..\\xf0\\x9f\\x98\\x9c]]></document>\\n    <document><![CDATA[Question????  If D husband have \\xe2\\x82\\xa610,000, &amp; D wife have \\xe2\\x82\\xa630,000. How much is in D house? Taking house as a constant in D house]]></document>\\n    <document><![CDATA[Happy Fathers day to me and my veryself]]></document>\\n    <document><![CDATA[When Nigerian wake up against injustice, God will wake up, But when you stay calm when God is waiting for you to ac\\xe2\\x80\\xa6 #URL#]]></document>\\n    <document><![CDATA[Congratulations  brother Obinna God will always see u tru,  no matter the situation.  Second surgical operation wit\\xe2\\x80\\xa6 #URL#]]></document>\\n    <document><![CDATA[The man that saw future #URL#]]></document>\\n    <document><![CDATA[Congratulations  Uchechi.  I Celebrate with you wonderful girl #URL#]]></document>\\n    <document><![CDATA[To be out on 20th July]]></document>\\n    <document><![CDATA[If you haven\\'t been admitted in the hospital from January till now,   Gather here, let\\'s  Thank God for his grace \\xf0\\x9f\\x91\\x87]]></document>\\n    <document><![CDATA[\\xe2\\x80\\x98Beautiful Girl\\xe2\\x80\\x98 and \\xe2\\x80\\x98911\\xe2\\x80\\x98 crooner Sean Kingston releases one of the anticipated single titled \\xe2\\x80\\x9cPeace Of Mind\\xe2\\x80\\x9c. KiS\\xe2\\x80\\xa6 #URL#]]></document>\\n    <document><![CDATA[Trust is the most expensive gift It can cost u more than \"had I know \" Be mindful who u will risk it to o o \\xe2\\x80\\x94 feeli\\xe2\\x80\\xa6 #URL#]]></document>\\n    <document><![CDATA[Lack of respect to CULTURE #URL#]]></document>\\n    <document><![CDATA[Depression everywhere  He didn\\'t kill himself cos of Accommodation fee let\\'s get fact before re posting.  His weddi\\xe2\\x80\\xa6 #URL#]]></document>\\n    <document><![CDATA[December mixtape loading....... Call for ur latest updates and video promotion  We are 2nd to none......08084770119]]></document>\\n    <document><![CDATA[Dating a man who doesn\\'t play \\xf0\\x9f\\x8e\\xb1snooker is a blessing; dat game teaches men how to focus on plenty holes using  one stick...]]></document>\\n    <document><![CDATA[God bless you and give u more reason to help people.  You are one in a million God will remember this year ijn AMEN #URL#]]></document>\\n    <document><![CDATA[[Audio + Video] Tony OneWeek \\xe2\\x80\\x93 \\xe2\\x80\\x9cParty\\xe2\\x80\\x9d (Prod. By RockysWaya) #URL#]]></document>\\n    <document><![CDATA[June for jubilation.  Congratulations  Chimdire Destiny Onyekachi David on ur 1st day in Church  We are Redeemits U\\xe2\\x80\\xa6 #URL#]]></document>\\n    <document><![CDATA[Can any good come out of Babcock #URL#]]></document>\\n    <document><![CDATA[I have done it  You too can do same to get justice for Nigeria #URL#]]></document>\\n    <document><![CDATA[#URL# Click here to watch a fucking fight #URL#]]></document>\\n    <document><![CDATA[Dave this year  Na Ur year as usual U too much bro #URL#]]></document>\\n    <document><![CDATA[RIP ALGBA A 344years old Tortoise popularly known as \"Alagba\" at Soun of Ogbomoso\\'s Palace is dead :( The latest ne\\xe2\\x80\\xa6 #URL#]]></document>\\n    <document><![CDATA[Festival of madness  Funny movie #URL#]]></document>\\n    <document><![CDATA[Dontom PutputuOne OfAfrica God bless you immensely for your effort on this issue.  U are true human rights activist #URL#]]></document>\\n    <document><![CDATA[We present to y\\xe2\\x80\\x99all a smashing song by Asa titled \\xe2\\x80\\x9cThe Place To Be\\xe2\\x80\\x9d. Nigeria\\xe2\\x80\\x99s soul Diva and biggest female music e\\xe2\\x80\\xa6 #URL#]]></document>\\n    <document><![CDATA[BONANZA! BONANZA!! BONANZA!!! Happy new month &amp; Sunday to you all. I want to use this medium  to say  BIG THANK U s\\xe2\\x80\\xa6 #URL#]]></document>\\n    <document><![CDATA[We are into shoe bz Chart me up for newest arrivals #URL#]]></document>\\n    <document><![CDATA[When Nigerian wake up against injustice, God will wake up, But when you stay calm when God is waiting for you to ac\\xe2\\x80\\xa6 #URL#]]></document>\\n    <document><![CDATA[Ramatu may God bless you more mama and give u strength and more wisdom as a minister  ijn #URL#]]></document>\\n    <document><![CDATA[Next World music meets with Kennis music on this banging tune titled \\xe2\\x80\\x9cAdo Bayero\\xe2\\x80\\x9d and it\\xe2\\x80\\x99s a vibe, The Oba Orin him\\xe2\\x80\\xa6 #URL#]]></document>\\n    <document><![CDATA[Mr Eazi comes through with the smashing song he performed at the just concluded Coachella. The song is tagged \\xe2\\x80\\x9cLet\\xe2\\x80\\xa6 #URL#]]></document>\\n    <document><![CDATA[Stop wasting your data monitoring people online.  Start an online business and monitor your income\\xf0\\x9f\\x91\\x8c\\xe2\\x9c\\x8c]]></document>\\n    <document><![CDATA[Congratulations  prince Desmond Ananyo Prince Desmond Anayo Igboke AKA Okeigbudu]]></document>\\n    <document><![CDATA[It\\'s Only in Nigeria that a Relationship Ends But The Sex Continues\\xf0\\x9f\\x99\\x84\\xf0\\x9f\\x98\\x8f #URL#]]></document>\\n    <document><![CDATA[Another feather added to wing  Zodo Music ng AKA DjNwabakaliki Entertainment as the Best Marketer of the year 2019.\\xe2\\x80\\xa6 #URL#]]></document>\\n    <document><![CDATA[Any adult in Nigeria who witnessed Buharis first coming knows that Jonathan was right. Goodluck Jonathan Warned Nig\\xe2\\x80\\xa6 #URL#]]></document>\\n    <document><![CDATA[Don\\'t ever be broke and fat, it\\'s so annoying cause you keep disappointing people Hustle And bustle Nwanne]]></document>\\n    <document><![CDATA[Another Zodo Music ng production  Directed by Joshua Century  Sound production by USB 07038892780 \\xe2\\x80\\x94 at Enugu - Coal\\xe2\\x80\\xa6 #URL#]]></document>\\n    <document><![CDATA[Have you ever observed that ladies that date Reverend fathers hardly get married?]]></document>\\n    <document><![CDATA[Don\\'t judge a book by its cover... #URL#]]></document>\\n    <document><![CDATA[Pmb make this guy more popular. #URL#]]></document>\\n    <document><![CDATA[Some Relationship  can change your orientation &amp; Dimension in life   TikTwc!]]></document>\\n    <document><![CDATA[Every limitation in ur life break ijn.... #URL#]]></document>\\n    <document><![CDATA[We Igbo are wonderful  creature #URL#]]></document>\\n    <document><![CDATA[What is happening to Religious Leaders  God have mercy on us #URL#]]></document>\\n    <document><![CDATA[American renowned rapper Russ who has been raving about Afrobeat and one of Nigeria\\xe2\\x80\\x99s biggest music export, Davido\\xe2\\x80\\xa6 #URL#]]></document>\\n    <document><![CDATA[Cardi Blue Film desecrated Our Fada land #URL#]]></document>\\n  </documents>\\n</author>\\n', shape=(), dtype=string)\n",
            "Preprocessed:  tf.Tensor(b' \\n      <document> In religion we call it spirits. In science we call it energy. In the streets we call it vibes. </document>\\n    <document> Bringing ur face closer to your fan </document>\\n    <document> Iranian hit US ship, US did not do anything, Iranian hit US Drone US did not do anything, Iranian when as far as an\\xe2\\x80\\xa6 #URL# </document>\\n    <document> You First Call tomorrow been 1st of November 2019 will be a Financial blessings.   Our Latest mixtape... Grab ur copy. </document>\\n    <document> No weapon against him will execute ijn #URL# </document>\\n    <document> Congratulations  my Sister  once again #URL# </document>\\n    <document> Age Gratefully Beautiful woman  Llnp Best Friend #URL# </document>\\n    <document> Ur popularity is our greatest priority #URL# </document>\\n    <document> I don\\xe2\\x80\\x99t know who needs to hear this but grow up and stop watching porn. </document>\\n    <document> Gov Ugwuanyi paid salary \\xf0\\x9f\\x99\\x84\\xf0\\x9f\\x99\\x84\\xf0\\x9f\\x99\\x84 I don\\'t consider salary payment an achievement </document>\\n    <document> U see those frnds dat inbox u only wen u upload fine pictures, stay away from them. </document>\\n    <document> Age Gratefully Beautiful woman  Llnp Best Friend </document>\\n    <document> Video over make sinsi Ezege But we need Ur poster badly on the street of 042, to waken the vibe street Alobam. MPA\\xe2\\x80\\xa6 #URL# </document>\\n    <document> We are the Street and street is in us </document>\\n    <document> #HASHTAG# Is The Real Soldier. EBONYI GUY SINGLE HANDEDLY DISARMS A NIGERIAN STUPID SOLDIER..  I don\\'t care what you may\\xe2\\x80\\xa6 #URL# </document>\\n    <document> Can someone help and subtitle this song for me #URL# </document>\\n    <document> My Best Nigerian President  I Celebrate with you Sir #URL# </document>\\n    <document> Never tell your family about your relationship problems because you might forgive your partner and they won\\'t.. </document>\\n    <document> Wwe Africa full match of Rey Mysterio vs Kane is out now 2019 latest wwe Africa Trending video #URL# </document>\\n    <document> May God continue to sustain u and guide you through anything on anyway @ anytime ijn #URL# </document>\\n    <document> Never be in a hurry to criticize a woman who left her marriage. Most of them did everything possible to save their homes. Be kind! </document>\\n    <document> Best Epic song of the season #URL# </document>\\n    <document> STOP DATING BROKE GIRLS . I know many girls and ladies gonna be angry with this post but try learn more about it .\\xe2\\x80\\xa6 #URL# </document>\\n    <document> Bia  Rie  Ji \\xf0\\x9f\\xa4\\xa3\\xf0\\x9f\\xa4\\xa3\\xf0\\x9f\\xa4\\xa3 \\xe2\\x80\\x94 at Enugu - Coal City. #URL# </document>\\n    <document> The army and the police put up an impressive professionalism in this encounter.  Kudos to them. More respect to d g\\xe2\\x80\\xa6 #URL# </document>\\n    <document> Happy birthday Papilo Age Gratefully AKA Shoemaker </document>\\n    <document> July updates.... Crab a Copy as Edey hot </document>\\n    <document> A man of his word #URL# </document>\\n    <document> Happy birthday to my own blood from another mummy.   More money,  peace,  joy, love and happiness as ur add 1 to ur\\xe2\\x80\\xa6 #URL# </document>\\n    <document> Congratulations  my Sister  once again #URL# </document>\\n    <document> Ur July updates on jubilation  Crab a Copy as Edey hot </document>\\n    <document> My past pains has notin 2 contribute 2 my future glory. </document>\\n    <document> Good morning to u all May ur today be better than yesterday  May ur tomorrow be better than today  May our hustle be fruitful </document>\\n    <document> #URL# Best of Umu Udubonch vol2  AKALAKA #URL# </document>\\n    <document> Wonderful deserve wonderful miracle.  Pastor mmm everywhere #URL# </document>\\n    <document> Can you marry a billionaire who is Obasinjo son and  HIV positve? Answer as u are Tonto D </document>\\n    <document> Ur popularity is our greatest priority  Tel 08084770119 </document>\\n    <document> On behalf of D common man in dis country,  we are hopelessly lost. 132 Biko haram 4gvn n reinstated in Borno State. </document>\\n    <document> D only tin u should hv at d back of mind is dat anytin can happen at anytime.  But Hustle and bustle  Defines  ur future </document>\\n    <document> ABA NA ABA IS MY OWN STATE  Border is closed to stop importation of Rice, well, that\\'s not for us in  Abakaliki, Eb\\xe2\\x80\\xa6 #URL# </document>\\n    <document> Ican\\'t kill myself Chulo way #URL# </document>\\n    <document> Ability of Running from one man to another is called Runs girl.  Prostitute is Ability of .......  ? </document>\\n    <document> President Donald Trump delivers an address to the United Nations General Assembly.  More: #URL# #URL# </document>\\n    <document> Hot &amp; Fresh  mega mix from ur  baddest Dj                     DJ NWABAKALIKI               We are ur street credibi\\xe2\\x80\\xa6 #URL# </document>\\n    <document> Hellooo everyone Please, disregard any purported business or any of its kind sent to by me. Someone hacked into my\\xe2\\x80\\xa6 #URL# </document>\\n    <document> U fought for me  Why odas fight for dey God  My Lord, U no dey use me play ooo </document>\\n    <document> Your ex should never be your friend -Counsellor Charlotte Oduro #URL# </document>\\n    <document> Lafille\\' age gracefully as u are +1 2day </document>\\n    <document> The country is messed up #URL# </document>\\n    <document> #URL# Na Dem by Mista Cornel is finally out \\xf0\\x9f\\xa7\\x9a\\xe2\\x80\\x8d\\xe2\\x99\\x80\\xef\\xb8\\x8f\\xf0\\x9f\\xa7\\x9b\\xe2\\x80\\x8d\\xe2\\x99\\x82\\xef\\xb8\\x8f\\xf0\\x9f\\xa7\\x9e\\xe2\\x80\\x8d\\xe2\\x99\\x82\\xef\\xb8\\x8f\\xf0\\x9f\\xa7\\x9e\\xe2\\x80\\x8d\\xe2\\x99\\x80\\xef\\xb8\\x8f\\xf0\\x9f\\xa7\\x9f\\xe2\\x80\\x8d\\xe2\\x99\\x82\\xef\\xb8\\x8f\\xf0\\x9f\\xa4\\xb6\\xf0\\x9f\\xa4\\xb6\\xf0\\x9f\\xa7\\x99\\xe2\\x80\\x8d\\xe2\\x99\\x82\\xef\\xb8\\x8f\\xf0\\x9f\\x99\\x8d\\xe2\\x80\\x8d\\xe2\\x99\\x82\\xef\\xb8\\x8f\\xf0\\x9f\\x99\\x86\\xe2\\x80\\x8d\\xe2\\x99\\x82\\xef\\xb8\\x8f\\xf0\\x9f\\x99\\x85\\xe2\\x80\\x8d\\xe2\\x99\\x80\\xef\\xb8\\x8f\\xf0\\x9f\\x99\\x8e\\xe2\\x80\\x8d\\xe2\\x99\\x80\\xef\\xb8\\x8f\\xf0\\x9f\\x99\\x8d\\xe2\\x80\\x8d\\xe2\\x99\\x80\\xef\\xb8\\x8f #URL# </document>\\n    <document> Umu Udubonch vol1 video shooting about to Starting  IHE N\\' EME AGU NA ISI Zodo Music ng production  Directed by CENTURY  Dop EMELEX </document>\\n    <document> Biafra is real  R. I . P Our great Falling Heroes  30th May is a heroic  Date to Every Igbo land. Date we will alwa\\xe2\\x80\\xa6 #URL# </document>\\n    <document> If you want Nigerian men to eat or drink anything, just tell them it will help them perform better in bed.. Chai who slap me..\\xf0\\x9f\\x98\\x9c </document>\\n    <document> Question????  If D husband have \\xe2\\x82\\xa610,000, &amp; D wife have \\xe2\\x82\\xa630,000. How much is in D house? Taking house as a constant in D house </document>\\n    <document> Happy Fathers day to me and my veryself </document>\\n    <document> When Nigerian wake up against injustice, God will wake up, But when you stay calm when God is waiting for you to ac\\xe2\\x80\\xa6 #URL# </document>\\n    <document> Congratulations  brother Obinna God will always see u tru,  no matter the situation.  Second surgical operation wit\\xe2\\x80\\xa6 #URL# </document>\\n    <document> The man that saw future #URL# </document>\\n    <document> Congratulations  Uchechi.  I Celebrate with you wonderful girl #URL# </document>\\n    <document> To be out on 20th July </document>\\n    <document> If you haven\\'t been admitted in the hospital from January till now,   Gather here, let\\'s  Thank God for his grace \\xf0\\x9f\\x91\\x87 </document>\\n    <document> \\xe2\\x80\\x98Beautiful Girl\\xe2\\x80\\x98 and \\xe2\\x80\\x98911\\xe2\\x80\\x98 crooner Sean Kingston releases one of the anticipated single titled \\xe2\\x80\\x9cPeace Of Mind\\xe2\\x80\\x9c. KiS\\xe2\\x80\\xa6 #URL# </document>\\n    <document> Trust is the most expensive gift It can cost u more than \"had I know \" Be mindful who u will risk it to o o \\xe2\\x80\\x94 feeli\\xe2\\x80\\xa6 #URL# </document>\\n    <document> Lack of respect to CULTURE #URL# </document>\\n    <document> Depression everywhere  He didn\\'t kill himself cos of Accommodation fee let\\'s get fact before re posting.  His weddi\\xe2\\x80\\xa6 #URL# </document>\\n    <document> December mixtape loading....... Call for ur latest updates and video promotion  We are 2nd to none......08084770119 </document>\\n    <document> Dating a man who doesn\\'t play \\xf0\\x9f\\x8e\\xb1snooker is a blessing; dat game teaches men how to focus on plenty holes using  one stick... </document>\\n    <document> God bless you and give u more reason to help people.  You are one in a million God will remember this year ijn AMEN #URL# </document>\\n    <document> [Audio + Video] Tony OneWeek \\xe2\\x80\\x93 \\xe2\\x80\\x9cParty\\xe2\\x80\\x9d (Prod. By RockysWaya) #URL# </document>\\n    <document> June for jubilation.  Congratulations  Chimdire Destiny Onyekachi David on ur 1st day in Church  We are Redeemits U\\xe2\\x80\\xa6 #URL# </document>\\n    <document> Can any good come out of Babcock #URL# </document>\\n    <document> I have done it  You too can do same to get justice for Nigeria #URL# </document>\\n    <document> #URL# Click here to watch a fucking fight #URL# </document>\\n    <document> Dave this year  Na Ur year as usual U too much bro #URL# </document>\\n    <document> RIP ALGBA A 344years old Tortoise popularly known as \"Alagba\" at Soun of Ogbomoso\\'s Palace is dead :( The latest ne\\xe2\\x80\\xa6 #URL# </document>\\n    <document> Festival of madness  Funny movie #URL# </document>\\n    <document> Dontom PutputuOne OfAfrica God bless you immensely for your effort on this issue.  U are true human rights activist #URL# </document>\\n    <document> We present to y\\xe2\\x80\\x99all a smashing song by Asa titled \\xe2\\x80\\x9cThe Place To Be\\xe2\\x80\\x9d. Nigeria\\xe2\\x80\\x99s soul Diva and biggest female music e\\xe2\\x80\\xa6 #URL# </document>\\n    <document> BONANZA! BONANZA!! BONANZA!!! Happy new month &amp; Sunday to you all. I want to use this medium  to say  BIG THANK U s\\xe2\\x80\\xa6 #URL# </document>\\n    <document> We are into shoe bz Chart me up for newest arrivals #URL# </document>\\n    <document> When Nigerian wake up against injustice, God will wake up, But when you stay calm when God is waiting for you to ac\\xe2\\x80\\xa6 #URL# </document>\\n    <document> Ramatu may God bless you more mama and give u strength and more wisdom as a minister  ijn #URL# </document>\\n    <document> Next World music meets with Kennis music on this banging tune titled \\xe2\\x80\\x9cAdo Bayero\\xe2\\x80\\x9d and it\\xe2\\x80\\x99s a vibe, The Oba Orin him\\xe2\\x80\\xa6 #URL# </document>\\n    <document> Mr Eazi comes through with the smashing song he performed at the just concluded Coachella. The song is tagged \\xe2\\x80\\x9cLet\\xe2\\x80\\xa6 #URL# </document>\\n    <document> Stop wasting your data monitoring people online.  Start an online business and monitor your income\\xf0\\x9f\\x91\\x8c\\xe2\\x9c\\x8c </document>\\n    <document> Congratulations  prince Desmond Ananyo Prince Desmond Anayo Igboke AKA Okeigbudu </document>\\n    <document> It\\'s Only in Nigeria that a Relationship Ends But The Sex Continues\\xf0\\x9f\\x99\\x84\\xf0\\x9f\\x98\\x8f #URL# </document>\\n    <document> Another feather added to wing  Zodo Music ng AKA DjNwabakaliki Entertainment as the Best Marketer of the year 2019.\\xe2\\x80\\xa6 #URL# </document>\\n    <document> Any adult in Nigeria who witnessed Buharis first coming knows that Jonathan was right. Goodluck Jonathan Warned Nig\\xe2\\x80\\xa6 #URL# </document>\\n    <document> Don\\'t ever be broke and fat, it\\'s so annoying cause you keep disappointing people Hustle And bustle Nwanne </document>\\n    <document> Another Zodo Music ng production  Directed by Joshua Century  Sound production by USB 07038892780 \\xe2\\x80\\x94 at Enugu - Coal\\xe2\\x80\\xa6 #URL# </document>\\n    <document> Have you ever observed that ladies that date Reverend fathers hardly get married? </document>\\n    <document> Don\\'t judge a book by its cover... #URL# </document>\\n    <document> Pmb make this guy more popular. #URL# </document>\\n    <document> Some Relationship  can change your orientation &amp; Dimension in life   TikTwc! </document>\\n    <document> Every limitation in ur life break ijn.... #URL# </document>\\n    <document> We Igbo are wonderful  creature #URL# </document>\\n    <document> What is happening to Religious Leaders  God have mercy on us #URL# </document>\\n    <document> American renowned rapper Russ who has been raving about Afrobeat and one of Nigeria\\xe2\\x80\\x99s biggest music export, Davido\\xe2\\x80\\xa6 #URL# </document>\\n    <document> Cardi Blue Film desecrated Our Fada land #URL# </document>\\n    \\n', shape=(), dtype=string)\n",
            "SVM Accuracy Score on Test set ->  [0.63]\n"
          ]
        }
      ]
    },
    {
      "cell_type": "markdown",
      "metadata": {
        "id": "6uMKAeuegNk1"
      },
      "source": [
        "## Now show compact results in a table."
      ]
    },
    {
      "cell_type": "code",
      "metadata": {
        "colab": {
          "base_uri": "https://localhost:8080/"
        },
        "id": "AJ79RMougNRA",
        "outputId": "6fd3bf67-b326-4a49-8fea-67c0bca6752f"
      },
      "source": [
        "print(\" PREPRO FUNCTION    |  Test Accuracy   |\",end = '')\n",
        "\n",
        "print(\"\\n\")\n",
        "for prepro_func in prepro_functions_dict_comb:\n",
        "  #print(prepro_func,\"\\t\\t\\t\",format(round(model_results[prepro_func][0],4),'.4f'),\"\\t\\t\",end='')\n",
        "  result = format(round(model_results[prepro_func][0],4),'.4f')\n",
        "  print(f'{prepro_func:27}{ result :12}')\n",
        "  print(\"\\n\")\n",
        " "
      ],
      "execution_count": 14,
      "outputs": [
        {
          "output_type": "stream",
          "name": "stdout",
          "text": [
            " PREPRO FUNCTION    |  Test Accuracy   |\n",
            "\n",
            "DON                        0.6300      \n",
            "\n",
            "\n"
          ]
        }
      ]
    },
    {
      "cell_type": "code",
      "source": [],
      "metadata": {
        "id": "i_kVxTZzkPL8"
      },
      "execution_count": 14,
      "outputs": []
    }
  ]
}