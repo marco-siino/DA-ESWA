{
  "cells": [
    {
      "cell_type": "markdown",
      "metadata": {
        "id": "view-in-github",
        "colab_type": "text"
      },
      "source": [
        "<a href=\"https://colab.research.google.com/github/marco-siino/DA-ESWA/blob/main/code/CNN_ISS_augmented_not_augmented_NB.ipynb\" target=\"_parent\"><img src=\"https://colab.research.google.com/assets/colab-badge.svg\" alt=\"Open In Colab\"/></a>"
      ]
    },
    {
      "cell_type": "markdown",
      "metadata": {
        "id": "u-hLo5ufkCT1"
      },
      "source": [
        "## Text preprocessing worth the time: A comparative survey on the impact of common techniques on NLP model performances. \n",
        "- - - \n",
        "CNN ON FNS DS EXPERIMENTS NOTEBOOK \n",
        "- - -\n",
        "Convolutional Neural Network on Fake News Spreaders Dataset.\n",
        "Code by M. Siino. \n",
        "\n",
        "From the paper: \"Text preprocessing worth the time: A comparative survey on the impact of common techniques on NLP model performances.\" by M.Siino et al.\n",
        "\n"
      ]
    },
    {
      "cell_type": "markdown",
      "metadata": {
        "id": "6IBqUcj4cx2G"
      },
      "source": [
        "## Importing modules."
      ]
    },
    {
      "cell_type": "code",
      "execution_count": 1,
      "metadata": {
        "id": "AQSunQ-ucjLX"
      },
      "outputs": [],
      "source": [
        "import matplotlib.pyplot as plt\n",
        "import os\n",
        "import random\n",
        "import re\n",
        "import shutil\n",
        "import string\n",
        "import tensorflow as tf\n",
        "\n",
        "import numpy as np\n",
        "\n",
        "from tensorflow.keras import layers\n",
        "from tensorflow.keras import losses\n",
        "from tensorflow.keras import preprocessing\n",
        "from keras.models import Model\n",
        "from tensorflow.keras.layers.experimental.preprocessing import TextVectorization\n",
        "\n",
        "os.environ['TF_CUDNN_DETERMINISTIC']='true'\n",
        "os.environ['TF_DETERMINISTIC_OPS']='true'"
      ]
    },
    {
      "cell_type": "markdown",
      "metadata": {
        "id": "0QHd_fxmHCfa"
      },
      "source": [
        "## Importing DS and extract in current working directory."
      ]
    },
    {
      "cell_type": "code",
      "execution_count": 2,
      "metadata": {
        "id": "ocYMUXaY8r0_",
        "colab": {
          "base_uri": "https://localhost:8080/"
        },
        "outputId": "e1bfb59e-cc0d-4e90-b7e2-9adc899f6728"
      },
      "outputs": [
        {
          "output_type": "stream",
          "name": "stdout",
          "text": [
            "Downloading data from https://github.com/marco-siino/DA-ESWA/raw/main/data/iss/iss-training-original.zip\n",
            "5806444/5806444 [==============================] - 0s 0us/step\n",
            "Downloading data from https://github.com/marco-siino/DA-ESWA/raw/main/data/iss/iss-test-original.zip\n",
            "2398412/2398412 [==============================] - 0s 0us/step\n",
            "./pan22-author-profiling-training-2022-03-29.zip\n",
            "./pan22-author-profiling-training-2022-03-29\n",
            "####\n",
            "/content/iss-test-original/pan22-author-profiling-test-2022-04-22-without_truth\n",
            "####\n",
            ".config\n",
            "iss-test-original\n",
            "pan22-author-profiling-test-2022-04-22-without_truth.zip\n",
            "pan22-author-profiling-training-2022-03-29\n",
            "pan22-author-profiling-training-2022-03-29.zip\n",
            "sample_data\n"
          ]
        }
      ],
      "source": [
        "# Url obtained starting from this: https://drive.google.com/file/d/19ZcqEv88euKB71HfAWjTGN3uCKp2qsfP/ and forcing export=download.\n",
        "urlTrainingSet = \"https://github.com/marco-siino/DA-ESWA/raw/main/data/iss/iss-training-original.zip\"\n",
        "\n",
        "urlTestSet=\"https://github.com/marco-siino/DA-ESWA/raw/main/data/iss/iss-test-original.zip\"\n",
        "\n",
        "training_set = tf.keras.utils.get_file(\"pan22-author-profiling-training-2022-03-29.zip\", urlTrainingSet,\n",
        "                                   extract=True, archive_format='zip',cache_dir='.',\n",
        "                                   cache_subdir='')\n",
        "\n",
        "test_set = tf.keras.utils.get_file(\"pan22-author-profiling-test-2022-04-22-without_truth.zip\", urlTestSet,\n",
        "                                    extract=True, archive_format='zip',cache_dir='.',\n",
        "                                    cache_subdir='')\n",
        "\n",
        "training_set_dir = os.path.join(os.path.dirname(training_set), 'pan22-author-profiling-training-2022-03-29')\n",
        "\n",
        "#test_set_dir = os.path.join(os.path.dirname(test_set), 'pan22-author-profiling-test-2022-04-22-without_truth')\n",
        "test_set_dir = os.path.join('/content/iss-test-original','pan22-author-profiling-test-2022-04-22-without_truth')\n",
        "\n",
        "print(training_set)\n",
        "print(training_set_dir)\n",
        "print('####')\n",
        "print(test_set_dir)\n",
        "print('####')\n",
        "!ls -A\n",
        "\n"
      ]
    },
    {
      "cell_type": "markdown",
      "metadata": {
        "id": "uTJi1fbT_Rup"
      },
      "source": [
        "## Build folders hierarchy to use Keras folders preprocessing function.\n",
        "\n"
      ]
    },
    {
      "cell_type": "code",
      "execution_count": 3,
      "metadata": {
        "id": "FyafvXEMhEKw",
        "colab": {
          "base_uri": "https://localhost:8080/"
        },
        "outputId": "7a4b954c-3ad3-4a43-e26d-d6fd0e2455c5"
      },
      "outputs": [
        {
          "output_type": "stream",
          "name": "stdout",
          "text": [
            ".config\n",
            "iss-test-original\n",
            "pan22-author-profiling-test-2022-04-22-without_truth.zip\n",
            "pan22-author-profiling-training-2022-03-29\n",
            "pan22-author-profiling-training-2022-03-29.zip\n",
            "sample_data\n",
            "test_dir_en\n",
            "train_dir_en\n"
          ]
        }
      ],
      "source": [
        "### Training Folders. ###\n",
        "\n",
        "# First level directory.\n",
        "if not os.path.exists('train_dir_en'):\n",
        "    os.makedirs('train_dir_en')\n",
        "\n",
        "# Class labels directory.\n",
        "if not os.path.exists('train_dir_en/0'):\n",
        "    os.makedirs('train_dir_en/0')\n",
        "if not os.path.exists('train_dir_en/1'):\n",
        "    os.makedirs('train_dir_en/1')\n",
        "\n",
        "# Make Py variables.\n",
        "train_dir='train_dir_'\n",
        "\n",
        "## Test Folders. ##\n",
        "# First level directory.\n",
        "if not os.path.exists('test_dir_en'):\n",
        "    os.makedirs('test_dir_en')\n",
        "\n",
        "# Class labels directory.\n",
        "if not os.path.exists('test_dir_en/0'):\n",
        "    os.makedirs('test_dir_en/0')\n",
        "if not os.path.exists('test_dir_en/1'):\n",
        "    os.makedirs('test_dir_en/1')\n",
        "\n",
        "# Make Py variables.\n",
        "test_dir='test_dir_'\n",
        "\n",
        "!ls -A"
      ]
    },
    {
      "cell_type": "markdown",
      "source": [
        "## Set language and directory paths."
      ],
      "metadata": {
        "id": "-6c28Rdo8zGn"
      }
    },
    {
      "cell_type": "code",
      "source": [
        "# Set en and es ground truth file path for train_dir. We haven't a ground truth file for the test set.\n",
        "language='en'\n",
        "\n",
        "truth_file_training_dir_en = training_set_dir   #samples training\n",
        "truth_file_training_path_en = training_set_dir +'/'+ 'en.txt'   #train truth file\n",
        "\n",
        "truth_file_test_dir = test_set_dir +'/'+language+'/'  #tutti i sample\n",
        "truth_file_test_path_en = test_set_dir + '/'+ 'truth'+'.txt'  #path to truth file"
      ],
      "metadata": {
        "id": "ANr_dCj-8yvD"
      },
      "execution_count": 4,
      "outputs": []
    },
    {
      "cell_type": "markdown",
      "source": [
        "## Read truth.txt to organize training and test dataset folders."
      ],
      "metadata": {
        "id": "VU6PtNMZ864o"
      }
    },
    {
      "cell_type": "code",
      "source": [
        "# Open the file truth.txt with read only permit.\n",
        "f = open(truth_file_training_path_en, \"r\")\n",
        "# use readline() to read the first line \n",
        "line = f.readline()\n",
        "# use the read line to read further.\n",
        "# If the file is not empty keep reading one line\n",
        "# at a time, till the file is empty\n",
        "while line:\n",
        "    # Split line at :::\n",
        "    x = line.split(\":::\")\n",
        "    fNameXml = x[0]+'.xml'\n",
        "    fNameTxt = x[0]+'.txt'\n",
        "    # Second coord [0] gets just the first character (label) and not /n too.\n",
        "    label = x[1][0]\n",
        "    #print('label',label)\n",
        "    if label == 'I':\n",
        "      label = '1'\n",
        "    elif label == 'N':\n",
        "      label = '0'\n",
        "\n",
        "    # Now move the file to the right folder.\n",
        "    if os.path.exists(truth_file_training_dir_en+ '/'+ language + '/'+fNameXml):\n",
        "      os.rename(truth_file_training_dir_en+ '/'+ language + '/'+fNameXml, \n",
        "                './train_dir_'+language+'/'+label+'/'+fNameTxt )\n",
        "\n",
        "    # use readline() to read next line\n",
        "    line = f.readline()\n",
        "\n",
        "\n",
        "# Open the file truth.txt with read only permit.\n",
        "f = open(truth_file_test_path_en, \"r\")\n",
        "#f = open('/content/iss-test-original/pan22-author-profiling-test-2022-04-22-without_truth/truth.txt', \"r\")\n",
        "# use readline() to read the first line \n",
        "line = f.readline()\n",
        "# use the read line to read further.\n",
        "# If the file is not empty keep reading one line\n",
        "# at a time, till the file is empty\n",
        "while line:\n",
        "    # Split line at :::\n",
        "    x = line.split(\":::\")\n",
        "    fNameXml = x[0]+'.xml'\n",
        "    fNameTxt = x[0]+'.txt'\n",
        "    # Second coord [0] gets just the first character (label) and not /n too.\n",
        "    label = x[1][0]\n",
        "    if label == 'I':\n",
        "      label = '1'\n",
        "    elif label == 'N':\n",
        "      label = '0'\n",
        "    # Now move the file to the right folder.\n",
        "    #print(truth_file_test_dir+fNameXml)\n",
        "    if os.path.exists(truth_file_test_dir+fNameXml):\n",
        "      #print('path exist')\n",
        "      os.rename(truth_file_test_dir+fNameXml, './test_dir_'+language+'/'+label+'/'+fNameTxt)\n",
        "\n",
        "    # use readline() to read next line\n",
        "    line = f.readline()"
      ],
      "metadata": {
        "id": "iW2UF_SH87TX"
      },
      "execution_count": 5,
      "outputs": []
    },
    {
      "cell_type": "markdown",
      "source": [
        "## Generate full training set."
      ],
      "metadata": {
        "id": "4vskGJeX9GqJ"
      }
    },
    {
      "cell_type": "code",
      "source": [
        "# Generate full randomized training set.\n",
        "batch_size=1\n",
        "\n",
        "en_train_ds = tf.keras.preprocessing.text_dataset_from_directory(\n",
        "    train_dir+language, \n",
        "    batch_size=batch_size,\n",
        "    shuffle=False\n",
        "    )\n",
        "\n",
        "en_test_ds = tf.keras.preprocessing.text_dataset_from_directory(\n",
        "    test_dir+language, \n",
        "    batch_size=batch_size,\n",
        "    shuffle=False\n",
        "    )\n",
        "\n",
        "train_ds=en_train_ds.shuffle(300,seed=1, reshuffle_each_iteration=False)\n",
        "test_ds=en_test_ds.shuffle(200,seed=1, reshuffle_each_iteration=False)\n",
        "\n",
        "train_ds_size=len(train_ds)\n",
        "test_ds_size=len(test_ds)"
      ],
      "metadata": {
        "colab": {
          "base_uri": "https://localhost:8080/"
        },
        "id": "UOqIc_Sm9HGX",
        "outputId": "8a95df6a-675e-4a10-fe89-6984252b0aa4"
      },
      "execution_count": 6,
      "outputs": [
        {
          "output_type": "stream",
          "name": "stdout",
          "text": [
            "Found 420 files belonging to 2 classes.\n",
            "Found 180 files belonging to 2 classes.\n"
          ]
        }
      ]
    },
    {
      "cell_type": "markdown",
      "metadata": {
        "id": "ITouXXtQ8WzV"
      },
      "source": [
        "## Functions to pre-process source text. (A detailed discussion on our paper)"
      ]
    },
    {
      "cell_type": "code",
      "execution_count": 7,
      "metadata": {
        "id": "bDPIqAgXYWim"
      },
      "outputs": [],
      "source": [
        "# Do-Nothing preprocessing function.\n",
        "def DON(input_data):\n",
        "  tag_open_CDATA_removed = tf.strings.regex_replace(input_data, '<\\!\\[CDATA\\[', ' ')\n",
        "  tag_closed_CDATA_removed = tf.strings.regex_replace(tag_open_CDATA_removed,'\\]{1,}>', ' ')\n",
        "  tag_author_lang_en_removed = tf.strings.regex_replace(tag_closed_CDATA_removed,'<author lang=\"en\">', ' ')\n",
        "  tag_closed_author_removed = tf.strings.regex_replace(tag_author_lang_en_removed,'</author>', ' ')\n",
        "  tag_open_documents_removed = tf.strings.regex_replace(tag_closed_author_removed,'<documents>\\n(\\t){0,2}', '')\n",
        "  output_data = tf.strings.regex_replace(tag_open_documents_removed,'</documents>\\n(\\t){0,2}', ' ')\n",
        "  return output_data"
      ]
    },
    {
      "cell_type": "markdown",
      "metadata": {
        "id": "TjUnE9_DEyCw"
      },
      "source": [
        "## Get the length of the longest sample in training set. Then adapt text.\n",
        "\n"
      ]
    },
    {
      "cell_type": "code",
      "execution_count": 8,
      "metadata": {
        "id": "ebRMQqa_mr48"
      },
      "outputs": [],
      "source": [
        "def preprocess_and_adapt_ts(preprocessing_function,training_set):\n",
        "  # Set a large sequence length to find the longest sample in the training set.\n",
        "  sequence_length = 3000\n",
        "  vectorize_layer = TextVectorization(\n",
        "      standardize=preprocessing_function,\n",
        "      output_mode='int',\n",
        "      output_sequence_length=sequence_length)\n",
        "\n",
        "  train_text = training_set.map(lambda x, y: x)\n",
        "  vectorize_layer.adapt(train_text)\n",
        "  #vectorize_layer.get_vocabulary()\n",
        "\n",
        "  model = tf.keras.models.Sequential()\n",
        "  model.add(tf.keras.Input(shape=(1,), dtype=tf.string))\n",
        "  model.add(vectorize_layer)\n",
        "\n",
        "  longest_sample_length=1\n",
        "\n",
        "  for element in training_set:\n",
        "    authorDocument=element[0]\n",
        "    label=element[1]\n",
        "    \n",
        "    #print(\"Sample considered is: \", authorDocument[0].numpy())\n",
        "    #print(\"Preprocessed: \", str(custom_standardization(authorDocument[0].numpy())))\n",
        "    #print(\"And has label: \", label[0].numpy())\n",
        "\n",
        "    out=model(authorDocument)\n",
        "    # Convert token list to numpy array.\n",
        "    token_list = out.numpy()[0]\n",
        "    token_list = np.trim_zeros(token_list,'b')\n",
        "    if longest_sample_length < len(token_list):\n",
        "      longest_sample_length = len(token_list)\n",
        "\n",
        "  print(\"Length of the longest sample is:\", longest_sample_length)\n",
        "\n",
        "  # After tokenization longest_sample_length covers all the document lenghts in our dataset.\n",
        "  sequence_length = longest_sample_length\n",
        "\n",
        "  vectorize_layer = TextVectorization(\n",
        "      standardize=preprocessing_function,\n",
        "      output_mode='int',\n",
        "      output_sequence_length=sequence_length)\n",
        "\n",
        "  # Finally adapt the vectorize layer.\n",
        "  train_text = training_set.map(lambda x, y: x)\n",
        "  vectorize_layer.adapt(train_text)\n",
        "  return vectorize_layer"
      ]
    },
    {
      "cell_type": "markdown",
      "metadata": {
        "id": "x8zDXrk9eEy5"
      },
      "source": [
        "## Define a dictionary with -> function_names:prepro_function_caller. And a dictionary to store model results.\n",
        "\n",
        "\n"
      ]
    },
    {
      "cell_type": "code",
      "execution_count": 9,
      "metadata": {
        "id": "P8owxNMIeFsX",
        "colab": {
          "base_uri": "https://localhost:8080/"
        },
        "outputId": "05ca58f8-8e9a-498c-c039-79ce35064dfe"
      },
      "outputs": [
        {
          "output_type": "stream",
          "name": "stdout",
          "text": [
            "DON\n"
          ]
        }
      ],
      "source": [
        "model_results = {}\n",
        "prepro_functions_dict_base = {\n",
        "    'DON':DON,\n",
        "    }\n",
        "\n",
        "# 3 prepro functions = 15 combs...+1 for do_nothing\n",
        "\n",
        "prepro_functions_dict_comb = {\n",
        "    # 1. Do nothing \n",
        "    'DON': DON,\n",
        "}\n",
        "\n",
        "for key in prepro_functions_dict_comb:\n",
        "  print(key)\n",
        "  model_results[key]=[]"
      ]
    },
    {
      "cell_type": "markdown",
      "source": [
        "## Some training hyperparameters..."
      ],
      "metadata": {
        "id": "RF7pJkGJ3bHT"
      }
    },
    {
      "cell_type": "code",
      "source": [
        "# Word embedding dimensions.\n",
        "embedding_dim = 100\n",
        "\n",
        "num_runs = 5 \n",
        "# No need to go over the 20th epoch...Overfitting begins.\n",
        "num_epochs_per_run = 20\n",
        "\n",
        "#opt = tf.keras.optimizers.RMSprop()"
      ],
      "metadata": {
        "id": "ocHligxS3mVn"
      },
      "execution_count": 10,
      "outputs": []
    },
    {
      "cell_type": "markdown",
      "metadata": {
        "id": "XDEi7MAo4qsQ"
      },
      "source": [
        "## Models definition and evaluation.\n",
        "\n",
        "\n"
      ]
    },
    {
      "cell_type": "code",
      "execution_count": null,
      "metadata": {
        "colab": {
          "base_uri": "https://localhost:8080/"
        },
        "id": "Mm1fdCpETWL-",
        "outputId": "0ba51a53-98be-4da2-9c59-273bfcc9f85c"
      },
      "outputs": [
        {
          "output_type": "stream",
          "name": "stderr",
          "text": [
            "WARNING:tensorflow:From /usr/local/lib/python3.8/dist-packages/tensorflow/python/autograph/pyct/static_analysis/liveness.py:83: Analyzer.lamba_check (from tensorflow.python.autograph.pyct.static_analysis.liveness) is deprecated and will be removed after 2023-09-23.\n",
            "Instructions for updating:\n",
            "Lambda fuctions will be no more assumed to be used in the statement where they are used, or at least in the same block. https://github.com/tensorflow/tensorflow/issues/56089\n"
          ]
        },
        {
          "output_type": "stream",
          "name": "stdout",
          "text": [
            "\n",
            "\n",
            "* * * * EVALUATION USING DON AS PREPROCESSING FUNCTION * * * *\n",
            "Length of the longest sample is: 3000\n",
            "Vocabulary size is: 187009\n",
            "420/420 [==============================] - 90s 188ms/step - loss: 0.6272 - binary_accuracy: 0.6048 - val_loss: 0.3562 - val_binary_accuracy: 0.8556\n",
            "Run:  1 / Accuracy at epoch  0  is:  0.855555534362793 \n",
            "\n",
            "420/420 [==============================] - 22s 52ms/step - loss: 0.3410 - binary_accuracy: 0.8571 - val_loss: 0.1983 - val_binary_accuracy: 0.9278\n",
            "Run:  1 / Accuracy at epoch  1  is:  0.9277777671813965 \n",
            "\n",
            "420/420 [==============================] - 22s 52ms/step - loss: 0.2422 - binary_accuracy: 0.9167 - val_loss: 0.2872 - val_binary_accuracy: 0.9111\n",
            "Run:  1 / Accuracy at epoch  2  is:  0.9111111164093018 \n",
            "\n",
            "420/420 [==============================] - 21s 51ms/step - loss: 0.1846 - binary_accuracy: 0.9405 - val_loss: 0.3509 - val_binary_accuracy: 0.8944\n",
            "Run:  1 / Accuracy at epoch  3  is:  0.894444465637207 \n",
            "\n",
            "420/420 [==============================] - 22s 52ms/step - loss: 0.1303 - binary_accuracy: 0.9619 - val_loss: 0.5026 - val_binary_accuracy: 0.8556\n",
            "Run:  1 / Accuracy at epoch  4  is:  0.855555534362793 \n",
            "\n",
            "420/420 [==============================] - 22s 52ms/step - loss: 0.0992 - binary_accuracy: 0.9833 - val_loss: 0.4923 - val_binary_accuracy: 0.8778\n",
            "Run:  1 / Accuracy at epoch  5  is:  0.8777777552604675 \n",
            "\n",
            "420/420 [==============================] - 22s 52ms/step - loss: 0.0666 - binary_accuracy: 0.9881 - val_loss: 0.4129 - val_binary_accuracy: 0.9111\n",
            "Run:  1 / Accuracy at epoch  6  is:  0.9111111164093018 \n",
            "\n",
            "420/420 [==============================] - 22s 52ms/step - loss: 0.0551 - binary_accuracy: 0.9952 - val_loss: 0.4750 - val_binary_accuracy: 0.9000\n",
            "Run:  1 / Accuracy at epoch  7  is:  0.8999999761581421 \n",
            "\n",
            "420/420 [==============================] - 22s 53ms/step - loss: 0.0444 - binary_accuracy: 0.9976 - val_loss: 0.5526 - val_binary_accuracy: 0.8944\n",
            "Run:  1 / Accuracy at epoch  8  is:  0.894444465637207 \n",
            "\n",
            "420/420 [==============================] - 22s 52ms/step - loss: 0.0340 - binary_accuracy: 0.9952 - val_loss: 0.5038 - val_binary_accuracy: 0.9056\n",
            "Run:  1 / Accuracy at epoch  9  is:  0.9055555462837219 \n",
            "\n",
            "420/420 [==============================] - 22s 52ms/step - loss: 0.0324 - binary_accuracy: 0.9976 - val_loss: 0.6404 - val_binary_accuracy: 0.8833\n",
            "Run:  1 / Accuracy at epoch  10  is:  0.8833333253860474 \n",
            "\n",
            "420/420 [==============================] - 22s 52ms/step - loss: 0.0077 - binary_accuracy: 0.9976 - val_loss: 1.2282 - val_binary_accuracy: 0.7778\n",
            "Run:  1 / Accuracy at epoch  11  is:  0.7777777910232544 \n",
            "\n",
            "420/420 [==============================] - 22s 52ms/step - loss: 0.0030 - binary_accuracy: 0.9976 - val_loss: 1.0913 - val_binary_accuracy: 0.8111\n",
            "Run:  1 / Accuracy at epoch  12  is:  0.8111110925674438 \n",
            "\n",
            "420/420 [==============================] - 22s 52ms/step - loss: 0.0011 - binary_accuracy: 1.0000 - val_loss: 0.5264 - val_binary_accuracy: 0.9056\n",
            "Run:  1 / Accuracy at epoch  13  is:  0.9055555462837219 \n",
            "\n",
            "420/420 [==============================] - 21s 51ms/step - loss: 1.1414e-04 - binary_accuracy: 1.0000 - val_loss: 0.5985 - val_binary_accuracy: 0.8944\n",
            "Run:  1 / Accuracy at epoch  14  is:  0.894444465637207 \n",
            "\n",
            "420/420 [==============================] - 21s 50ms/step - loss: 8.5152e-06 - binary_accuracy: 1.0000 - val_loss: 0.7816 - val_binary_accuracy: 0.8722\n",
            "Run:  1 / Accuracy at epoch  15  is:  0.8722222447395325 \n",
            "\n",
            "420/420 [==============================] - 21s 50ms/step - loss: 1.8647e-05 - binary_accuracy: 1.0000 - val_loss: 0.6162 - val_binary_accuracy: 0.9000\n",
            "Run:  1 / Accuracy at epoch  16  is:  0.8999999761581421 \n",
            "\n",
            "420/420 [==============================] - 22s 52ms/step - loss: 2.6718e-05 - binary_accuracy: 1.0000 - val_loss: 0.5970 - val_binary_accuracy: 0.9000\n",
            "Run:  1 / Accuracy at epoch  17  is:  0.8999999761581421 \n",
            "\n",
            "420/420 [==============================] - 22s 51ms/step - loss: 4.0562e-06 - binary_accuracy: 1.0000 - val_loss: 0.6352 - val_binary_accuracy: 0.9000\n",
            "Run:  1 / Accuracy at epoch  18  is:  0.8999999761581421 \n",
            "\n",
            "420/420 [==============================] - 22s 52ms/step - loss: 1.7282e-05 - binary_accuracy: 1.0000 - val_loss: 0.9710 - val_binary_accuracy: 0.8444\n",
            "Run:  1 / Accuracy at epoch  19  is:  0.8444444537162781 \n",
            "\n",
            "Accuracies over epochs: [0.855555534362793, 0.9277777671813965, 0.9111111164093018, 0.894444465637207, 0.855555534362793, 0.8777777552604675, 0.9111111164093018, 0.8999999761581421, 0.894444465637207, 0.9055555462837219, 0.8833333253860474, 0.7777777910232544, 0.8111110925674438, 0.9055555462837219, 0.894444465637207, 0.8722222447395325, 0.8999999761581421, 0.8999999761581421, 0.8999999761581421, 0.8444444537162781] \n",
            "\n",
            "\n",
            "420/420 [==============================] - 60s 139ms/step - loss: 0.6253 - binary_accuracy: 0.6286 - val_loss: 0.3962 - val_binary_accuracy: 0.8111\n",
            "Run:  2 / Accuracy at epoch  0  is:  0.8111110925674438 \n",
            "\n",
            "420/420 [==============================] - 21s 51ms/step - loss: 0.3396 - binary_accuracy: 0.8714 - val_loss: 0.2906 - val_binary_accuracy: 0.8944\n",
            "Run:  2 / Accuracy at epoch  1  is:  0.894444465637207 \n",
            "\n",
            "420/420 [==============================] - 22s 53ms/step - loss: 0.2337 - binary_accuracy: 0.9214 - val_loss: 0.4250 - val_binary_accuracy: 0.8500\n",
            "Run:  2 / Accuracy at epoch  2  is:  0.8500000238418579 \n",
            "\n",
            "420/420 [==============================] - 22s 52ms/step - loss: 0.1826 - binary_accuracy: 0.9429 - val_loss: 0.4610 - val_binary_accuracy: 0.8667\n",
            "Run:  2 / Accuracy at epoch  3  is:  0.8666666746139526 \n",
            "\n",
            "420/420 [==============================] - 22s 52ms/step - loss: 0.1301 - binary_accuracy: 0.9738 - val_loss: 0.6500 - val_binary_accuracy: 0.8222\n",
            "Run:  2 / Accuracy at epoch  4  is:  0.8222222328186035 \n",
            "\n",
            "420/420 [==============================] - 22s 52ms/step - loss: 0.1020 - binary_accuracy: 0.9833 - val_loss: 0.6870 - val_binary_accuracy: 0.8222\n",
            "Run:  2 / Accuracy at epoch  5  is:  0.8222222328186035 \n",
            "\n",
            "420/420 [==============================] - 22s 51ms/step - loss: 0.0860 - binary_accuracy: 0.9905 - val_loss: 0.7103 - val_binary_accuracy: 0.8222\n",
            "Run:  2 / Accuracy at epoch  6  is:  0.8222222328186035 \n",
            "\n",
            "420/420 [==============================] - 22s 53ms/step - loss: 0.0598 - binary_accuracy: 0.9929 - val_loss: 0.7441 - val_binary_accuracy: 0.8222\n",
            "Run:  2 / Accuracy at epoch  7  is:  0.8222222328186035 \n",
            "\n",
            "420/420 [==============================] - 22s 53ms/step - loss: 0.0533 - binary_accuracy: 0.9976 - val_loss: 1.1806 - val_binary_accuracy: 0.7778\n",
            "Run:  2 / Accuracy at epoch  8  is:  0.7777777910232544 \n",
            "\n",
            "420/420 [==============================] - 21s 51ms/step - loss: 0.0424 - binary_accuracy: 0.9976 - val_loss: 0.7951 - val_binary_accuracy: 0.8444\n",
            "Run:  2 / Accuracy at epoch  9  is:  0.8444444537162781 \n",
            "\n",
            "420/420 [==============================] - 22s 51ms/step - loss: 0.0340 - binary_accuracy: 0.9976 - val_loss: 0.7779 - val_binary_accuracy: 0.8444\n",
            "Run:  2 / Accuracy at epoch  10  is:  0.8444444537162781 \n",
            "\n",
            "420/420 [==============================] - 22s 53ms/step - loss: 0.0010 - binary_accuracy: 1.0000 - val_loss: 0.8455 - val_binary_accuracy: 0.8278\n",
            "Run:  2 / Accuracy at epoch  11  is:  0.8277778029441833 \n",
            "\n",
            "420/420 [==============================] - 22s 53ms/step - loss: 0.0047 - binary_accuracy: 0.9976 - val_loss: 0.9099 - val_binary_accuracy: 0.8111\n",
            "Run:  2 / Accuracy at epoch  12  is:  0.8111110925674438 \n",
            "\n",
            "420/420 [==============================] - 22s 52ms/step - loss: 1.9280e-04 - binary_accuracy: 1.0000 - val_loss: 1.1339 - val_binary_accuracy: 0.7944\n",
            "Run:  2 / Accuracy at epoch  13  is:  0.7944444417953491 \n",
            "\n",
            "420/420 [==============================] - 22s 53ms/step - loss: 1.3076e-05 - binary_accuracy: 1.0000 - val_loss: 0.7105 - val_binary_accuracy: 0.8778\n",
            "Run:  2 / Accuracy at epoch  14  is:  0.8777777552604675 \n",
            "\n",
            "420/420 [==============================] - 22s 53ms/step - loss: 2.9571e-05 - binary_accuracy: 1.0000 - val_loss: 0.8093 - val_binary_accuracy: 0.8500\n",
            "Run:  2 / Accuracy at epoch  15  is:  0.8500000238418579 \n",
            "\n",
            "420/420 [==============================] - 23s 54ms/step - loss: 6.6673e-06 - binary_accuracy: 1.0000 - val_loss: 0.8418 - val_binary_accuracy: 0.8444\n",
            "Run:  2 / Accuracy at epoch  16  is:  0.8444444537162781 \n",
            "\n",
            "420/420 [==============================] - 22s 53ms/step - loss: 7.0900e-05 - binary_accuracy: 1.0000 - val_loss: 0.8166 - val_binary_accuracy: 0.8611\n",
            "Run:  2 / Accuracy at epoch  17  is:  0.8611111044883728 \n",
            "\n",
            "420/420 [==============================] - 22s 53ms/step - loss: 1.2629e-05 - binary_accuracy: 1.0000 - val_loss: 0.6377 - val_binary_accuracy: 0.8833\n",
            "Run:  2 / Accuracy at epoch  18  is:  0.8833333253860474 \n",
            "\n",
            "420/420 [==============================] - 22s 53ms/step - loss: 4.3039e-06 - binary_accuracy: 1.0000 - val_loss: 0.7883 - val_binary_accuracy: 0.8722\n",
            "Run:  2 / Accuracy at epoch  19  is:  0.8722222447395325 \n",
            "\n",
            "Accuracies over epochs: [0.8111110925674438, 0.894444465637207, 0.8500000238418579, 0.8666666746139526, 0.8222222328186035, 0.8222222328186035, 0.8222222328186035, 0.8222222328186035, 0.7777777910232544, 0.8444444537162781, 0.8444444537162781, 0.8277778029441833, 0.8111110925674438, 0.7944444417953491, 0.8777777552604675, 0.8500000238418579, 0.8444444537162781, 0.8611111044883728, 0.8833333253860474, 0.8722222447395325] \n",
            "\n",
            "\n",
            "420/420 [==============================] - 60s 137ms/step - loss: 0.6410 - binary_accuracy: 0.5976 - val_loss: 0.3855 - val_binary_accuracy: 0.8500\n",
            "Run:  3 / Accuracy at epoch  0  is:  0.8500000238418579 \n",
            "\n",
            "420/420 [==============================] - 22s 53ms/step - loss: 0.3468 - binary_accuracy: 0.8667 - val_loss: 0.2259 - val_binary_accuracy: 0.9278\n",
            "Run:  3 / Accuracy at epoch  1  is:  0.9277777671813965 \n",
            "\n",
            "420/420 [==============================] - 22s 53ms/step - loss: 0.2425 - binary_accuracy: 0.9190 - val_loss: 0.2886 - val_binary_accuracy: 0.9056\n",
            "Run:  3 / Accuracy at epoch  2  is:  0.9055555462837219 \n",
            "\n",
            " 63/420 [===>..........................] - ETA: 21s - loss: 0.1271 - binary_accuracy: 0.9524"
          ]
        }
      ],
      "source": [
        "tf.random.set_seed(1)\n",
        "\n",
        "# Reset model_results list.\n",
        "for key in prepro_functions_dict_comb:\n",
        "  model_results[key]=[]\n",
        "\n",
        "for key in prepro_functions_dict_comb:\n",
        "  runs_accuracy = []\n",
        "\n",
        "  print(\"\\n\\n* * * * EVALUATION USING\", key, \"AS PREPROCESSING FUNCTION * * * *\")\n",
        "\n",
        "  # Preprocess training set to build a dictionary.\n",
        "  vectorize_layer = preprocess_and_adapt_ts(prepro_functions_dict_comb[key],train_ds)\n",
        "\n",
        "  max_features=len(vectorize_layer.get_vocabulary()) + 1\n",
        "  print(\"Vocabulary size is:\", max_features)\n",
        "\n",
        "  for run in range(1,(num_runs+1)):\n",
        "    epochs_accuracy=[]\n",
        "    model = tf.keras.Sequential([\n",
        "                                    tf.keras.Input(shape=(1,), dtype=tf.string),\n",
        "                                    vectorize_layer,\n",
        "                                    layers.Embedding(max_features + 1, embedding_dim),                     \n",
        "                                    layers.Dropout(0.8),\n",
        "\n",
        "                                    layers.Conv1D(256,16,activation='relu'),\n",
        "                                    layers.MaxPooling1D(),\n",
        "                                    layers.Dropout(0.6),\n",
        "\n",
        "                                    layers.Dense(512,activation='relu'),\n",
        "                           \n",
        "                                    layers.GlobalAveragePooling1D(),\n",
        "                                    layers.Dropout(0.2),\n",
        "                                    layers.Dense(1)                            \n",
        "    ])\n",
        "    model.compile(loss=losses.BinaryCrossentropy(from_logits=True), optimizer='RMSprop', metrics=tf.metrics.BinaryAccuracy(threshold=0.0)) \n",
        "\n",
        "    for epoch in range (0,num_epochs_per_run):\n",
        "        history = model.fit(\n",
        "          train_ds,\n",
        "          validation_data = test_ds,\n",
        "          epochs=1,\n",
        "          shuffle=False,\n",
        "          # Comment the following line to do not save and download the model.\n",
        "          #callbacks=[callbacks]\n",
        "          )\n",
        "        accuracy = history.history['val_binary_accuracy']\n",
        "        print(\"Run: \",run,\"/ Accuracy at epoch \",epoch,\" is: \", accuracy[0],\"\\n\")\n",
        "        epochs_accuracy.append(accuracy[0])\n",
        "\n",
        "    print(\"Accuracies over epochs:\",epochs_accuracy,\"\\n\\n\")\n",
        "    runs_accuracy.append(max(epochs_accuracy))\n",
        "\n",
        "  runs_accuracy.sort()\n",
        "  print(\"\\n\\n Over all runs maximum accuracies on English are:\", runs_accuracy)\n",
        "  print(\"The median for English is:\",runs_accuracy[2],\"\\n\\n\\n\")\n",
        "  \n",
        "  if (runs_accuracy[2]-runs_accuracy[0])>(runs_accuracy[4]-runs_accuracy[2]):\n",
        "    max_range_from_median = runs_accuracy[2]-runs_accuracy[0]\n",
        "  else:\n",
        "    max_range_from_median = runs_accuracy[4]-runs_accuracy[2]\n",
        "  final_result = str(runs_accuracy[2])+\" +/- \"+ str(max_range_from_median)\n",
        "  model_results[key].append(final_result)\n",
        "  print(\"CNN Accuracy Score on Test set -> \",model_results[key])"
      ]
    },
    {
      "cell_type": "markdown",
      "metadata": {
        "id": "6uMKAeuegNk1"
      },
      "source": [
        "## Now show compact results in a table."
      ]
    },
    {
      "cell_type": "code",
      "execution_count": null,
      "metadata": {
        "id": "AJ79RMougNRA"
      },
      "outputs": [],
      "source": [
        "print(\" PREPRO FUNCTION    |  Test Accuracy   |\",end = '')\n",
        "\n",
        "print(\"\\n\")\n",
        "for prepro_func in prepro_functions_dict_comb:\n",
        "  #print(prepro_func,\"\\t\\t\\t\",format(round(model_results[prepro_func][0],4),'.4f'),\"\\t\\t\",end='')\n",
        "  result = model_results[prepro_func][0]\n",
        "  # result = format(round(model_results[prepro_func][0],4),'.4f')\n",
        "  print(f'{prepro_func:27}{ result :12}')\n",
        "  print(\"\\n\")"
      ]
    },
    {
      "cell_type": "code",
      "source": [],
      "metadata": {
        "id": "XPbgPISzu26P"
      },
      "execution_count": null,
      "outputs": []
    }
  ],
  "metadata": {
    "colab": {
      "provenance": [],
      "collapsed_sections": [
        "6IBqUcj4cx2G"
      ],
      "include_colab_link": true
    },
    "kernelspec": {
      "display_name": "Python 3",
      "name": "python3"
    },
    "gpuClass": "standard",
    "accelerator": "GPU"
  },
  "nbformat": 4,
  "nbformat_minor": 0
}