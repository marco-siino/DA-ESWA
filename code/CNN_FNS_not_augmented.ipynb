{
  "cells": [
    {
      "cell_type": "markdown",
      "metadata": {
        "id": "view-in-github",
        "colab_type": "text"
      },
      "source": [
        "<a href=\"https://colab.research.google.com/github/marco-siino/DA-ESWA/blob/main/code/evaluation/CNN_FNS_not_augmented.ipynb\" target=\"_parent\"><img src=\"https://colab.research.google.com/assets/colab-badge.svg\" alt=\"Open In Colab\"/></a>"
      ]
    },
    {
      "cell_type": "markdown",
      "metadata": {
        "id": "u-hLo5ufkCT1"
      },
      "source": [
        "## Investigating text data augmentation using back translation for author profiling\n",
        "- - - \n",
        "CNN ON FNS DS EXPERIMENTS NOTEBOOK \n",
        "- - -\n",
        "Convolutional Neural Network on Fake News Spreaders Dataset not augmented with backtranslation.\n",
        "Code by M. Siino. \n",
        "\n",
        "From the paper: \"Investigating text data augmentation using back translation for author profiling\" by M.Siino et al.\n"
      ]
    },
    {
      "cell_type": "markdown",
      "metadata": {
        "id": "6IBqUcj4cx2G"
      },
      "source": [
        "## Importing modules."
      ]
    },
    {
      "cell_type": "code",
      "execution_count": 1,
      "metadata": {
        "id": "AQSunQ-ucjLX"
      },
      "outputs": [],
      "source": [
        "import matplotlib.pyplot as plt\n",
        "import os\n",
        "import random\n",
        "import re\n",
        "import shutil\n",
        "import string\n",
        "import tensorflow as tf\n",
        "\n",
        "import numpy as np\n",
        "\n",
        "from tensorflow.keras import layers\n",
        "from tensorflow.keras import losses\n",
        "from tensorflow.keras import preprocessing\n",
        "from keras.models import Model\n",
        "from tensorflow.keras.layers.experimental.preprocessing import TextVectorization\n",
        "\n",
        "os.environ['TF_CUDNN_DETERMINISTIC']='true'\n",
        "os.environ['TF_DETERMINISTIC_OPS']='true'"
      ]
    },
    {
      "cell_type": "markdown",
      "metadata": {
        "id": "0QHd_fxmHCfa"
      },
      "source": [
        "## Importing DS and extract in current working directory."
      ]
    },
    {
      "cell_type": "code",
      "source": [
        "urlTrainingSet = \"https://github.com/marco-siino/DA-ESWA/raw/main/data/fns/fns-training-original.zip\"\n",
        "training_set = tf.keras.utils.get_file(\"pan20-author-profiling-training-2020-02-23.zip\", urlTrainingSet,\n",
        "                                    extract=True, archive_format='zip',cache_dir='.',\n",
        "                                    cache_subdir='')\n",
        "\n",
        "urlTestSet=\"https://github.com/marco-siino/DA-ESWA/raw/main/data/fns/fns-test-original.zip\"\n",
        "test_set = tf.keras.utils.get_file(\"pan20-author-profiling-test-2020-02-23.zip\", urlTestSet,\n",
        "                                    extract=True, archive_format='zip',cache_dir='.',\n",
        "                                    cache_subdir='')"
      ],
      "metadata": {
        "colab": {
          "base_uri": "https://localhost:8080/"
        },
        "id": "2RBLe4vQPni1",
        "outputId": "e9abca8f-93c8-4b49-ff00-5bb28e28bdc4"
      },
      "execution_count": 3,
      "outputs": [
        {
          "output_type": "stream",
          "name": "stdout",
          "text": [
            "Downloading data from https://github.com/marco-siino/DA-ESWA/raw/main/data/fns/fns-training-original.zip\n",
            "3094459/3094459 [==============================] - 0s 0us/step\n",
            "Downloading data from https://github.com/marco-siino/DA-ESWA/raw/main/data/fns/fns-test-original.zip\n",
            "2135236/2135236 [==============================] - 0s 0us/step\n"
          ]
        }
      ]
    },
    {
      "cell_type": "code",
      "execution_count": 5,
      "metadata": {
        "id": "ocYMUXaY8r0_",
        "colab": {
          "base_uri": "https://localhost:8080/"
        },
        "outputId": "9d1bd427-71c8-4c8a-ca64-9ec542e74a19"
      },
      "outputs": [
        {
          "output_type": "stream",
          "name": "stdout",
          "text": [
            "training_set_dir ./pan20-author-profiling-training-2020-02-23\n",
            "test_set_dir ./pan20-author-profiling-test-2020-02-23\n",
            ".config\n",
            "__MACOSX\n",
            "pan20-author-profiling-test-2020-02-23\n",
            "pan20-author-profiling-test-2020-02-23.zip\n",
            "pan20-author-profiling-training-2020-02-23\n",
            "pan20-author-profiling-training-2020-02-23.zip\n",
            "sample_data\n"
          ]
        }
      ],
      "source": [
        "training_set_dir = os.path.join(os.path.dirname(training_set), 'pan20-author-profiling-training-2020-02-23')\n",
        "test_set_dir     = os.path.join(os.path.dirname(test_set), 'pan20-author-profiling-test-2020-02-23')\n",
        "print('training_set_dir',training_set_dir)\n",
        "print('test_set_dir'    ,test_set_dir)\n",
        "!ls -A"
      ]
    },
    {
      "cell_type": "markdown",
      "metadata": {
        "id": "uTJi1fbT_Rup"
      },
      "source": [
        "## Build folders hierarchy to use Keras folders preprocessing function.\n",
        "\n"
      ]
    },
    {
      "cell_type": "code",
      "execution_count": 6,
      "metadata": {
        "id": "FyafvXEMhEKw",
        "colab": {
          "base_uri": "https://localhost:8080/"
        },
        "outputId": "6f6dc718-98e1-4ffd-edc1-ba42f7b4569c"
      },
      "outputs": [
        {
          "output_type": "stream",
          "name": "stdout",
          "text": [
            ".config\n",
            "__MACOSX\n",
            "pan20-author-profiling-test-2020-02-23\n",
            "pan20-author-profiling-test-2020-02-23.zip\n",
            "pan20-author-profiling-training-2020-02-23\n",
            "pan20-author-profiling-training-2020-02-23.zip\n",
            "sample_data\n",
            "test_dir_en\n",
            "train_dir_en\n"
          ]
        }
      ],
      "source": [
        "### Training Folders. ###\n",
        "\n",
        "# First level directory.\n",
        "if not os.path.exists('train_dir_en'):\n",
        "    os.makedirs('train_dir_en')\n",
        "\n",
        "# Class labels directory.\n",
        "if not os.path.exists('train_dir_en/0'):\n",
        "    os.makedirs('train_dir_en/0')\n",
        "if not os.path.exists('train_dir_en/1'):\n",
        "    os.makedirs('train_dir_en/1')\n",
        "\n",
        "# Make Py variables.\n",
        "train_dir='train_dir_'\n",
        "\n",
        "## Test Folders. ##\n",
        "# First level directory.\n",
        "if not os.path.exists('test_dir_en'):\n",
        "    os.makedirs('test_dir_en')\n",
        "\n",
        "# Class labels directory.\n",
        "if not os.path.exists('test_dir_en/0'):\n",
        "    os.makedirs('test_dir_en/0')\n",
        "if not os.path.exists('test_dir_en/1'):\n",
        "    os.makedirs('test_dir_en/1')\n",
        "\n",
        "# Make Py variables.\n",
        "test_dir='test_dir_'\n",
        "\n",
        "\n",
        "!ls -A"
      ]
    },
    {
      "cell_type": "markdown",
      "source": [
        "## Set language and directory paths."
      ],
      "metadata": {
        "id": "-6c28Rdo8zGn"
      }
    },
    {
      "cell_type": "code",
      "source": [
        "# Set en and es ground truth file path for train_dir. \n",
        "language='en'\n",
        "\n",
        "truth_file_training_dir_en=training_set_dir+'/'+language+'/'\n",
        "truth_file_training_path_en = truth_file_training_dir_en+'truth.txt'\n",
        "print('truth_file_training_dir_en' ,truth_file_training_dir_en)\n",
        "print('truth_file_training_path_en',truth_file_training_path_en)\n",
        "\n",
        "\n",
        "truth_file_test_dir=test_set_dir\n",
        "truth_file_test_path_en = truth_file_test_dir+'/'+'en'+'.txt'\n",
        "print('truth_file_test_dir'  , truth_file_test_dir)\n",
        "print('truth_file_test_path_en' , truth_file_test_path_en)"
      ],
      "metadata": {
        "id": "ANr_dCj-8yvD",
        "colab": {
          "base_uri": "https://localhost:8080/"
        },
        "outputId": "59105587-96f1-4fb7-ea32-8502fd95cfb7"
      },
      "execution_count": 7,
      "outputs": [
        {
          "output_type": "stream",
          "name": "stdout",
          "text": [
            "truth_file_training_dir_en ./pan20-author-profiling-training-2020-02-23/en/\n",
            "truth_file_training_path_en ./pan20-author-profiling-training-2020-02-23/en/truth.txt\n",
            "truth_file_test_dir ./pan20-author-profiling-test-2020-02-23\n",
            "truth_file_test_path_en ./pan20-author-profiling-test-2020-02-23/en.txt\n"
          ]
        }
      ]
    },
    {
      "cell_type": "markdown",
      "source": [
        "## Read truth.txt to organize training and test dataset folders."
      ],
      "metadata": {
        "id": "VU6PtNMZ864o"
      }
    },
    {
      "cell_type": "code",
      "source": [
        "# Open the file truth.txt with read only permit.\n",
        "f = open(truth_file_training_path_en, \"r\")\n",
        "# use readline() to read the first line \n",
        "line = f.readline()\n",
        "# use the read line to read further.\n",
        "# If the file is not empty keep reading one line\n",
        "# at a time, till the file is empty\n",
        "while line:\n",
        "    # Split line at :::\n",
        "    x = line.split(\":::\")\n",
        "    fNameXml = x[0]+'.xml'\n",
        "    fNameTxt = x[0]+'.txt'\n",
        "    # Second coord [0] gets just the first character (label) and not /n too.\n",
        "    label = x[1][0]\n",
        "\n",
        "    # Now move the file to the right folder.\n",
        "    if os.path.exists(truth_file_training_dir_en+fNameXml):\n",
        "      os.rename(truth_file_training_dir_en+fNameXml, './train_dir_'+language+'/'+label+'/'+fNameTxt )\n",
        "\n",
        "    # use readline() to read next line\n",
        "    line = f.readline()\n",
        "\n",
        "# Open the file truth.txt with read only permit.\n",
        "f = open(truth_file_test_path_en, \"r\")\n",
        "# use readline() to read the first line \n",
        "line = f.readline()\n",
        "# use the read line to read further.\n",
        "# If the file is not empty keep reading one line\n",
        "# at a time, till the file is empty\n",
        "while line:\n",
        "    # Split line at :::\n",
        "    x = line.split(\":::\")\n",
        "    fNameXml = x[0]+'.xml'\n",
        "    fNameTxt = x[0]+'.txt'\n",
        "    # Second coord [0] gets just the first character (label) and not /n too.\n",
        "    label = x[1][0]\n",
        "\n",
        "    # Now move the file to the right folder.\n",
        "    if os.path.exists(truth_file_test_dir+'/'+language+'/'+fNameXml):\n",
        "      os.rename(truth_file_test_dir+'/'+language+'/'+fNameXml, './test_dir_'+language+'/'+label+'/'+fNameTxt )\n",
        "\n",
        "    # use readline() to read next line\n",
        "    line = f.readline()\n"
      ],
      "metadata": {
        "id": "iW2UF_SH87TX"
      },
      "execution_count": 8,
      "outputs": []
    },
    {
      "cell_type": "markdown",
      "source": [
        "## Generate full dataset."
      ],
      "metadata": {
        "id": "4vskGJeX9GqJ"
      }
    },
    {
      "cell_type": "code",
      "source": [
        "# Generate full randomized training set.\n",
        "batch_size=1\n",
        "\n",
        "en_train_ds = tf.keras.preprocessing.text_dataset_from_directory(\n",
        "    train_dir+language, \n",
        "    batch_size=batch_size,\n",
        "    shuffle=False\n",
        "    )\n",
        "\n",
        "en_test_ds = tf.keras.preprocessing.text_dataset_from_directory(\n",
        "    test_dir+language, \n",
        "    batch_size=batch_size,\n",
        "    shuffle=False\n",
        "    )\n",
        "\n",
        "train_ds=en_train_ds.shuffle(300,seed=1, reshuffle_each_iteration=False)\n",
        "test_ds=en_test_ds.shuffle(200,seed=1, reshuffle_each_iteration=False)\n",
        "\n",
        "\n",
        "train_ds_size=len(train_ds)\n",
        "test_ds_size=len(test_ds)"
      ],
      "metadata": {
        "colab": {
          "base_uri": "https://localhost:8080/"
        },
        "id": "UOqIc_Sm9HGX",
        "outputId": "90dc7725-0031-478d-b63c-b136bfb7c8d5"
      },
      "execution_count": 9,
      "outputs": [
        {
          "output_type": "stream",
          "name": "stdout",
          "text": [
            "Found 300 files belonging to 2 classes.\n",
            "Found 200 files belonging to 2 classes.\n"
          ]
        }
      ]
    },
    {
      "cell_type": "markdown",
      "metadata": {
        "id": "ITouXXtQ8WzV"
      },
      "source": [
        "## Functions to pre-process source text. \n",
        "\n"
      ]
    },
    {
      "cell_type": "code",
      "execution_count": 10,
      "metadata": {
        "id": "bDPIqAgXYWim"
      },
      "outputs": [],
      "source": [
        "# Preprocessing function to remove some noise due to the translation.\n",
        "def clean_samples(input_data):\n",
        "  tag_author_lang_en_removed = tf.strings.regex_replace(input_data,'<author lang=\"en\"', '')\n",
        "  tag_author_lang_en_cased_removed = tf.strings.regex_replace(tag_author_lang_en_removed,'<Author lang=\"en\"', '\\n\\n')\n",
        "  tag_opening_document_miscased = tf.strings.regex_replace(tag_author_lang_en_cased_removed,'<Document>', '<document>')\n",
        "  output_data = tf.strings.regex_replace(tag_opening_document_miscased,'</Document>', '</document>')\n",
        "  return output_data"
      ]
    },
    {
      "cell_type": "markdown",
      "metadata": {
        "id": "TjUnE9_DEyCw"
      },
      "source": [
        "## Get the length of the longest sample in training set. Then adapt text.\n",
        "\n"
      ]
    },
    {
      "cell_type": "code",
      "execution_count": 12,
      "metadata": {
        "id": "ebRMQqa_mr48"
      },
      "outputs": [],
      "source": [
        "def preprocess_and_adapt_ts(training_set):\n",
        "  # Set a large sequence length to find the longest sample in the training set.\n",
        "  sequence_length = 30000\n",
        "  vectorize_layer = TextVectorization(\n",
        "      standardize=clean_samples,\n",
        "      output_mode='int',\n",
        "      output_sequence_length=sequence_length)\n",
        "\n",
        "  train_text = training_set.map(lambda x, y: x)\n",
        "  vectorize_layer.adapt(train_text)\n",
        "  #vectorize_layer.get_vocabulary()\n",
        "\n",
        "  model = tf.keras.models.Sequential()\n",
        "  model.add(tf.keras.Input(shape=(1,), dtype=tf.string))\n",
        "  model.add(vectorize_layer)\n",
        "\n",
        "  longest_sample_length=1\n",
        "\n",
        "  for element in training_set:\n",
        "    authorDocument=element[0]\n",
        "    label=element[1]\n",
        "    \n",
        "    #print(\"Sample considered is: \", authorDocument[0].numpy())\n",
        "    #print(\"Preprocessed: \", str(custom_standardization(authorDocument[0].numpy())))\n",
        "    #print(\"And has label: \", label[0].numpy())\n",
        "\n",
        "    out=model(authorDocument)\n",
        "    # Convert token list to numpy array.\n",
        "    token_list = out.numpy()[0]\n",
        "    token_list = np.trim_zeros(token_list,'b')\n",
        "    if longest_sample_length < len(token_list):\n",
        "      longest_sample_length = len(token_list)\n",
        "\n",
        "  print(\"Length of the longest sample is:\", longest_sample_length)\n",
        "\n",
        "  # After tokenization longest_sample_length covers all the document lenghts in our dataset.\n",
        "  sequence_length = longest_sample_length\n",
        "\n",
        "  vectorize_layer = TextVectorization(\n",
        "      standardize=clean_samples,\n",
        "      output_mode='int',\n",
        "      output_sequence_length=sequence_length)\n",
        "\n",
        "  # Finally adapt the vectorize layer.\n",
        "  train_text = training_set.map(lambda x, y: x)\n",
        "  vectorize_layer.adapt(train_text)\n",
        "  return vectorize_layer"
      ]
    },
    {
      "cell_type": "markdown",
      "source": [
        "## Some training hyperparameters..."
      ],
      "metadata": {
        "id": "RF7pJkGJ3bHT"
      }
    },
    {
      "cell_type": "code",
      "source": [
        "# Word embedding dimensions.\n",
        "embedding_dim = 100\n",
        "\n",
        "num_runs = 5 \n",
        "# No need to go over the 20th epoch...Overfitting begins.\n",
        "num_epochs_per_run = 20\n",
        "\n",
        "#opt = tf.keras.optimizers.RMSprop()"
      ],
      "metadata": {
        "id": "ocHligxS3mVn"
      },
      "execution_count": 13,
      "outputs": []
    },
    {
      "cell_type": "markdown",
      "source": [
        "## Vectorization\n",
        "\n",
        "\n"
      ],
      "metadata": {
        "id": "yzLLcBGdtmXM"
      }
    },
    {
      "cell_type": "code",
      "source": [
        "print(\"\\n\\n* * * * VECTORIZATION STARTED * * * *\")\n",
        "\n",
        "# Preprocess training set to build a dictionary.\n",
        "vectorize_layer = preprocess_and_adapt_ts(train_ds)\n",
        "\n",
        "max_features=len(vectorize_layer.get_vocabulary()) + 1\n",
        "print(\"Vocabulary size is:\", max_features)\n"
      ],
      "metadata": {
        "colab": {
          "base_uri": "https://localhost:8080/"
        },
        "id": "mlDEHJvstluS",
        "outputId": "e18bfda9-5113-4c73-b713-c2b1e699d46e"
      },
      "execution_count": 14,
      "outputs": [
        {
          "output_type": "stream",
          "name": "stderr",
          "text": [
            "WARNING:tensorflow:From /usr/local/lib/python3.8/dist-packages/tensorflow/python/autograph/pyct/static_analysis/liveness.py:83: Analyzer.lamba_check (from tensorflow.python.autograph.pyct.static_analysis.liveness) is deprecated and will be removed after 2023-09-23.\n",
            "Instructions for updating:\n",
            "Lambda fuctions will be no more assumed to be used in the statement where they are used, or at least in the same block. https://github.com/tensorflow/tensorflow/issues/56089\n"
          ]
        },
        {
          "output_type": "stream",
          "name": "stdout",
          "text": [
            "\n",
            "\n",
            "* * * * VECTORIZATION STARTED * * * *\n",
            "Length of the longest sample is: 2219\n",
            "Vocabulary size is: 73506\n"
          ]
        }
      ]
    },
    {
      "cell_type": "markdown",
      "metadata": {
        "id": "XDEi7MAo4qsQ"
      },
      "source": [
        "## Models definition, training and evaluation on original and on augmented test set.\n",
        "\n",
        "\n"
      ]
    },
    {
      "cell_type": "code",
      "execution_count": 15,
      "metadata": {
        "colab": {
          "base_uri": "https://localhost:8080/"
        },
        "id": "Mm1fdCpETWL-",
        "outputId": "c48e94bc-dbbe-492a-f848-52a20a9c508f"
      },
      "outputs": [
        {
          "output_type": "stream",
          "name": "stdout",
          "text": [
            "300/300 [==============================] - 67s 187ms/step - loss: 0.7102 - binary_accuracy: 0.4800 - val_loss: 0.6866 - val_binary_accuracy: 0.5850\n",
            "Run:  1 / Accuracy on test ORIGINAL at epoch  0  is:  0.5849999785423279 \n",
            "\n",
            "300/300 [==============================] - 10s 32ms/step - loss: 0.6641 - binary_accuracy: 0.6133 - val_loss: 0.6900 - val_binary_accuracy: 0.5700\n",
            "Run:  1 / Accuracy on test ORIGINAL at epoch  1  is:  0.5699999928474426 \n",
            "\n",
            "300/300 [==============================] - 9s 31ms/step - loss: 0.5187 - binary_accuracy: 0.7700 - val_loss: 0.7846 - val_binary_accuracy: 0.6800\n",
            "Run:  1 / Accuracy on test ORIGINAL at epoch  2  is:  0.6800000071525574 \n",
            "\n",
            "300/300 [==============================] - 10s 32ms/step - loss: 0.3600 - binary_accuracy: 0.8667 - val_loss: 0.9406 - val_binary_accuracy: 0.6750\n",
            "Run:  1 / Accuracy on test ORIGINAL at epoch  3  is:  0.675000011920929 \n",
            "\n",
            "300/300 [==============================] - 9s 30ms/step - loss: 0.2511 - binary_accuracy: 0.9200 - val_loss: 1.0949 - val_binary_accuracy: 0.6750\n",
            "Run:  1 / Accuracy on test ORIGINAL at epoch  4  is:  0.675000011920929 \n",
            "\n",
            "300/300 [==============================] - 9s 32ms/step - loss: 0.1272 - binary_accuracy: 0.9567 - val_loss: 1.2924 - val_binary_accuracy: 0.6850\n",
            "Run:  1 / Accuracy on test ORIGINAL at epoch  5  is:  0.6850000023841858 \n",
            "\n",
            "300/300 [==============================] - 9s 31ms/step - loss: 0.1100 - binary_accuracy: 0.9600 - val_loss: 1.2038 - val_binary_accuracy: 0.6800\n",
            "Run:  1 / Accuracy on test ORIGINAL at epoch  6  is:  0.6800000071525574 \n",
            "\n",
            "300/300 [==============================] - 10s 32ms/step - loss: 0.0561 - binary_accuracy: 0.9767 - val_loss: 1.5775 - val_binary_accuracy: 0.6450\n",
            "Run:  1 / Accuracy on test ORIGINAL at epoch  7  is:  0.6449999809265137 \n",
            "\n",
            "300/300 [==============================] - 9s 31ms/step - loss: 0.0283 - binary_accuracy: 0.9900 - val_loss: 1.5002 - val_binary_accuracy: 0.6800\n",
            "Run:  1 / Accuracy on test ORIGINAL at epoch  8  is:  0.6800000071525574 \n",
            "\n",
            "300/300 [==============================] - 9s 29ms/step - loss: 0.0359 - binary_accuracy: 0.9867 - val_loss: 1.6953 - val_binary_accuracy: 0.6650\n",
            "Run:  1 / Accuracy on test ORIGINAL at epoch  9  is:  0.6650000214576721 \n",
            "\n",
            "300/300 [==============================] - 9s 31ms/step - loss: 0.0186 - binary_accuracy: 0.9933 - val_loss: 1.9255 - val_binary_accuracy: 0.6650\n",
            "Run:  1 / Accuracy on test ORIGINAL at epoch  10  is:  0.6650000214576721 \n",
            "\n",
            "300/300 [==============================] - 9s 32ms/step - loss: 0.0217 - binary_accuracy: 0.9933 - val_loss: 1.7902 - val_binary_accuracy: 0.6900\n",
            "Run:  1 / Accuracy on test ORIGINAL at epoch  11  is:  0.6899999976158142 \n",
            "\n",
            "300/300 [==============================] - 9s 31ms/step - loss: 0.0164 - binary_accuracy: 0.9933 - val_loss: 1.9583 - val_binary_accuracy: 0.6700\n",
            "Run:  1 / Accuracy on test ORIGINAL at epoch  12  is:  0.6700000166893005 \n",
            "\n",
            "300/300 [==============================] - 12s 39ms/step - loss: 0.0227 - binary_accuracy: 0.9933 - val_loss: 1.9000 - val_binary_accuracy: 0.6800\n",
            "Run:  1 / Accuracy on test ORIGINAL at epoch  13  is:  0.6800000071525574 \n",
            "\n",
            "300/300 [==============================] - 9s 29ms/step - loss: 0.0335 - binary_accuracy: 0.9933 - val_loss: 2.0642 - val_binary_accuracy: 0.6750\n",
            "Run:  1 / Accuracy on test ORIGINAL at epoch  14  is:  0.675000011920929 \n",
            "\n",
            "300/300 [==============================] - 9s 30ms/step - loss: 0.0074 - binary_accuracy: 0.9967 - val_loss: 1.9596 - val_binary_accuracy: 0.6800\n",
            "Run:  1 / Accuracy on test ORIGINAL at epoch  15  is:  0.6800000071525574 \n",
            "\n",
            "300/300 [==============================] - 9s 31ms/step - loss: 0.0180 - binary_accuracy: 0.9933 - val_loss: 2.0017 - val_binary_accuracy: 0.7000\n",
            "Run:  1 / Accuracy on test ORIGINAL at epoch  16  is:  0.699999988079071 \n",
            "\n",
            "300/300 [==============================] - 9s 31ms/step - loss: 0.0298 - binary_accuracy: 0.9933 - val_loss: 2.0392 - val_binary_accuracy: 0.7200\n",
            "Run:  1 / Accuracy on test ORIGINAL at epoch  17  is:  0.7200000286102295 \n",
            "\n",
            "300/300 [==============================] - 10s 34ms/step - loss: 0.0300 - binary_accuracy: 0.9933 - val_loss: 2.1089 - val_binary_accuracy: 0.7250\n",
            "Run:  1 / Accuracy on test ORIGINAL at epoch  18  is:  0.7250000238418579 \n",
            "\n",
            "300/300 [==============================] - 10s 32ms/step - loss: 0.0309 - binary_accuracy: 0.9933 - val_loss: 2.1226 - val_binary_accuracy: 0.7200\n",
            "Run:  1 / Accuracy on test ORIGINAL at epoch  19  is:  0.7200000286102295 \n",
            "\n",
            "Accuracies on ORIGINAL over epochs: [0.5849999785423279, 0.5699999928474426, 0.6800000071525574, 0.675000011920929, 0.675000011920929, 0.6850000023841858, 0.6800000071525574, 0.6449999809265137, 0.6800000071525574, 0.6650000214576721, 0.6650000214576721, 0.6899999976158142, 0.6700000166893005, 0.6800000071525574, 0.675000011920929, 0.6800000071525574, 0.699999988079071, 0.7200000286102295, 0.7250000238418579, 0.7200000286102295] \n",
            "\n",
            "300/300 [==============================] - 42s 136ms/step - loss: 0.7105 - binary_accuracy: 0.4933 - val_loss: 0.6868 - val_binary_accuracy: 0.5900\n",
            "Run:  2 / Accuracy on test ORIGINAL at epoch  0  is:  0.5899999737739563 \n",
            "\n",
            "300/300 [==============================] - 10s 32ms/step - loss: 0.6570 - binary_accuracy: 0.6233 - val_loss: 0.7181 - val_binary_accuracy: 0.5650\n",
            "Run:  2 / Accuracy on test ORIGINAL at epoch  1  is:  0.5649999976158142 \n",
            "\n",
            "300/300 [==============================] - 10s 32ms/step - loss: 0.5022 - binary_accuracy: 0.7933 - val_loss: 0.9019 - val_binary_accuracy: 0.6700\n",
            "Run:  2 / Accuracy on test ORIGINAL at epoch  2  is:  0.6700000166893005 \n",
            "\n",
            "300/300 [==============================] - 9s 31ms/step - loss: 0.3383 - binary_accuracy: 0.8633 - val_loss: 0.9988 - val_binary_accuracy: 0.6850\n",
            "Run:  2 / Accuracy on test ORIGINAL at epoch  3  is:  0.6850000023841858 \n",
            "\n",
            "300/300 [==============================] - 9s 31ms/step - loss: 0.2311 - binary_accuracy: 0.9200 - val_loss: 1.0688 - val_binary_accuracy: 0.6900\n",
            "Run:  2 / Accuracy on test ORIGINAL at epoch  4  is:  0.6899999976158142 \n",
            "\n",
            "300/300 [==============================] - 10s 32ms/step - loss: 0.1414 - binary_accuracy: 0.9500 - val_loss: 1.2026 - val_binary_accuracy: 0.6850\n",
            "Run:  2 / Accuracy on test ORIGINAL at epoch  5  is:  0.6850000023841858 \n",
            "\n",
            "300/300 [==============================] - 9s 32ms/step - loss: 0.0888 - binary_accuracy: 0.9633 - val_loss: 1.3040 - val_binary_accuracy: 0.6800\n",
            "Run:  2 / Accuracy on test ORIGINAL at epoch  6  is:  0.6800000071525574 \n",
            "\n",
            "300/300 [==============================] - 10s 32ms/step - loss: 0.0568 - binary_accuracy: 0.9767 - val_loss: 1.4313 - val_binary_accuracy: 0.6650\n",
            "Run:  2 / Accuracy on test ORIGINAL at epoch  7  is:  0.6650000214576721 \n",
            "\n",
            "300/300 [==============================] - 9s 31ms/step - loss: 0.0348 - binary_accuracy: 0.9900 - val_loss: 1.8487 - val_binary_accuracy: 0.6500\n",
            "Run:  2 / Accuracy on test ORIGINAL at epoch  8  is:  0.6499999761581421 \n",
            "\n",
            "300/300 [==============================] - 9s 31ms/step - loss: 0.0341 - binary_accuracy: 0.9900 - val_loss: 1.6041 - val_binary_accuracy: 0.6750\n",
            "Run:  2 / Accuracy on test ORIGINAL at epoch  9  is:  0.675000011920929 \n",
            "\n",
            "300/300 [==============================] - 9s 32ms/step - loss: 0.0262 - binary_accuracy: 0.9900 - val_loss: 1.7938 - val_binary_accuracy: 0.6750\n",
            "Run:  2 / Accuracy on test ORIGINAL at epoch  10  is:  0.675000011920929 \n",
            "\n",
            "300/300 [==============================] - 10s 32ms/step - loss: 0.0316 - binary_accuracy: 0.9933 - val_loss: 1.8138 - val_binary_accuracy: 0.7000\n",
            "Run:  2 / Accuracy on test ORIGINAL at epoch  11  is:  0.699999988079071 \n",
            "\n",
            "300/300 [==============================] - 10s 32ms/step - loss: 0.0154 - binary_accuracy: 0.9933 - val_loss: 1.8884 - val_binary_accuracy: 0.6950\n",
            "Run:  2 / Accuracy on test ORIGINAL at epoch  12  is:  0.6949999928474426 \n",
            "\n",
            "300/300 [==============================] - 9s 30ms/step - loss: 0.0244 - binary_accuracy: 0.9933 - val_loss: 1.9866 - val_binary_accuracy: 0.6850\n",
            "Run:  2 / Accuracy on test ORIGINAL at epoch  13  is:  0.6850000023841858 \n",
            "\n",
            "300/300 [==============================] - 10s 32ms/step - loss: 0.0379 - binary_accuracy: 0.9933 - val_loss: 2.1698 - val_binary_accuracy: 0.6800\n",
            "Run:  2 / Accuracy on test ORIGINAL at epoch  14  is:  0.6800000071525574 \n",
            "\n",
            "300/300 [==============================] - 9s 32ms/step - loss: 0.0210 - binary_accuracy: 0.9933 - val_loss: 2.2471 - val_binary_accuracy: 0.6800\n",
            "Run:  2 / Accuracy on test ORIGINAL at epoch  15  is:  0.6800000071525574 \n",
            "\n",
            "300/300 [==============================] - 9s 32ms/step - loss: 0.0321 - binary_accuracy: 0.9933 - val_loss: 2.3463 - val_binary_accuracy: 0.6650\n",
            "Run:  2 / Accuracy on test ORIGINAL at epoch  16  is:  0.6650000214576721 \n",
            "\n",
            "300/300 [==============================] - 10s 32ms/step - loss: 0.0232 - binary_accuracy: 0.9933 - val_loss: 2.4317 - val_binary_accuracy: 0.6700\n",
            "Run:  2 / Accuracy on test ORIGINAL at epoch  17  is:  0.6700000166893005 \n",
            "\n",
            "300/300 [==============================] - 9s 29ms/step - loss: 0.0269 - binary_accuracy: 0.9933 - val_loss: 2.5066 - val_binary_accuracy: 0.6750\n",
            "Run:  2 / Accuracy on test ORIGINAL at epoch  18  is:  0.675000011920929 \n",
            "\n",
            "300/300 [==============================] - 10s 32ms/step - loss: 0.0334 - binary_accuracy: 0.9933 - val_loss: 2.7484 - val_binary_accuracy: 0.6550\n",
            "Run:  2 / Accuracy on test ORIGINAL at epoch  19  is:  0.6549999713897705 \n",
            "\n",
            "Accuracies on ORIGINAL over epochs: [0.5899999737739563, 0.5649999976158142, 0.6700000166893005, 0.6850000023841858, 0.6899999976158142, 0.6850000023841858, 0.6800000071525574, 0.6650000214576721, 0.6499999761581421, 0.675000011920929, 0.675000011920929, 0.699999988079071, 0.6949999928474426, 0.6850000023841858, 0.6800000071525574, 0.6800000071525574, 0.6650000214576721, 0.6700000166893005, 0.675000011920929, 0.6549999713897705] \n",
            "\n",
            "300/300 [==============================] - 43s 138ms/step - loss: 0.7112 - binary_accuracy: 0.4867 - val_loss: 0.6857 - val_binary_accuracy: 0.5700\n",
            "Run:  3 / Accuracy on test ORIGINAL at epoch  0  is:  0.5699999928474426 \n",
            "\n",
            "300/300 [==============================] - 9s 30ms/step - loss: 0.6678 - binary_accuracy: 0.6100 - val_loss: 0.7178 - val_binary_accuracy: 0.5750\n",
            "Run:  3 / Accuracy on test ORIGINAL at epoch  1  is:  0.574999988079071 \n",
            "\n",
            "300/300 [==============================] - 9s 30ms/step - loss: 0.5144 - binary_accuracy: 0.7733 - val_loss: 0.9080 - val_binary_accuracy: 0.6550\n",
            "Run:  3 / Accuracy on test ORIGINAL at epoch  2  is:  0.6549999713897705 \n",
            "\n",
            "300/300 [==============================] - 10s 32ms/step - loss: 0.3491 - binary_accuracy: 0.8667 - val_loss: 1.0531 - val_binary_accuracy: 0.6600\n",
            "Run:  3 / Accuracy on test ORIGINAL at epoch  3  is:  0.6600000262260437 \n",
            "\n",
            "300/300 [==============================] - 10s 32ms/step - loss: 0.2320 - binary_accuracy: 0.9200 - val_loss: 1.0917 - val_binary_accuracy: 0.6850\n",
            "Run:  3 / Accuracy on test ORIGINAL at epoch  4  is:  0.6850000023841858 \n",
            "\n",
            "300/300 [==============================] - 10s 32ms/step - loss: 0.1392 - binary_accuracy: 0.9467 - val_loss: 1.2661 - val_binary_accuracy: 0.6800\n",
            "Run:  3 / Accuracy on test ORIGINAL at epoch  5  is:  0.6800000071525574 \n",
            "\n",
            "300/300 [==============================] - 10s 32ms/step - loss: 0.1003 - binary_accuracy: 0.9567 - val_loss: 1.2635 - val_binary_accuracy: 0.6950\n",
            "Run:  3 / Accuracy on test ORIGINAL at epoch  6  is:  0.6949999928474426 \n",
            "\n",
            "300/300 [==============================] - 9s 30ms/step - loss: 0.0743 - binary_accuracy: 0.9733 - val_loss: 1.2753 - val_binary_accuracy: 0.6900\n",
            "Run:  3 / Accuracy on test ORIGINAL at epoch  7  is:  0.6899999976158142 \n",
            "\n",
            "300/300 [==============================] - 10s 34ms/step - loss: 0.0473 - binary_accuracy: 0.9833 - val_loss: 1.7368 - val_binary_accuracy: 0.6550\n",
            "Run:  3 / Accuracy on test ORIGINAL at epoch  8  is:  0.6549999713897705 \n",
            "\n",
            "300/300 [==============================] - 10s 32ms/step - loss: 0.0260 - binary_accuracy: 0.9933 - val_loss: 1.4813 - val_binary_accuracy: 0.6950\n",
            "Run:  3 / Accuracy on test ORIGINAL at epoch  9  is:  0.6949999928474426 \n",
            "\n",
            "300/300 [==============================] - 9s 32ms/step - loss: 0.0152 - binary_accuracy: 0.9933 - val_loss: 1.6404 - val_binary_accuracy: 0.7000\n",
            "Run:  3 / Accuracy on test ORIGINAL at epoch  10  is:  0.699999988079071 \n",
            "\n",
            "300/300 [==============================] - 10s 32ms/step - loss: 0.0164 - binary_accuracy: 0.9933 - val_loss: 1.6534 - val_binary_accuracy: 0.6700\n",
            "Run:  3 / Accuracy on test ORIGINAL at epoch  11  is:  0.6700000166893005 \n",
            "\n",
            "300/300 [==============================] - 10s 32ms/step - loss: 0.0283 - binary_accuracy: 0.9933 - val_loss: 1.6856 - val_binary_accuracy: 0.6750\n",
            "Run:  3 / Accuracy on test ORIGINAL at epoch  12  is:  0.675000011920929 \n",
            "\n",
            "300/300 [==============================] - 9s 30ms/step - loss: 0.0282 - binary_accuracy: 0.9933 - val_loss: 1.8228 - val_binary_accuracy: 0.7000\n",
            "Run:  3 / Accuracy on test ORIGINAL at epoch  13  is:  0.699999988079071 \n",
            "\n",
            "300/300 [==============================] - 10s 32ms/step - loss: 0.0221 - binary_accuracy: 0.9933 - val_loss: 1.9127 - val_binary_accuracy: 0.6950\n",
            "Run:  3 / Accuracy on test ORIGINAL at epoch  14  is:  0.6949999928474426 \n",
            "\n",
            "300/300 [==============================] - 10s 32ms/step - loss: 0.0222 - binary_accuracy: 0.9933 - val_loss: 2.1413 - val_binary_accuracy: 0.6700\n",
            "Run:  3 / Accuracy on test ORIGINAL at epoch  15  is:  0.6700000166893005 \n",
            "\n",
            "300/300 [==============================] - 10s 32ms/step - loss: 0.0357 - binary_accuracy: 0.9933 - val_loss: 2.2784 - val_binary_accuracy: 0.6950\n",
            "Run:  3 / Accuracy on test ORIGINAL at epoch  16  is:  0.6949999928474426 \n",
            "\n",
            "300/300 [==============================] - 9s 32ms/step - loss: 0.0301 - binary_accuracy: 0.9933 - val_loss: 2.0688 - val_binary_accuracy: 0.6900\n",
            "Run:  3 / Accuracy on test ORIGINAL at epoch  17  is:  0.6899999976158142 \n",
            "\n",
            "300/300 [==============================] - 10s 34ms/step - loss: 0.0202 - binary_accuracy: 0.9933 - val_loss: 2.3092 - val_binary_accuracy: 0.6600\n",
            "Run:  3 / Accuracy on test ORIGINAL at epoch  18  is:  0.6600000262260437 \n",
            "\n",
            "300/300 [==============================] - 9s 30ms/step - loss: 0.0350 - binary_accuracy: 0.9933 - val_loss: 2.3970 - val_binary_accuracy: 0.6600\n",
            "Run:  3 / Accuracy on test ORIGINAL at epoch  19  is:  0.6600000262260437 \n",
            "\n",
            "Accuracies on ORIGINAL over epochs: [0.5699999928474426, 0.574999988079071, 0.6549999713897705, 0.6600000262260437, 0.6850000023841858, 0.6800000071525574, 0.6949999928474426, 0.6899999976158142, 0.6549999713897705, 0.6949999928474426, 0.699999988079071, 0.6700000166893005, 0.675000011920929, 0.699999988079071, 0.6949999928474426, 0.6700000166893005, 0.6949999928474426, 0.6899999976158142, 0.6600000262260437, 0.6600000262260437] \n",
            "\n",
            "300/300 [==============================] - 43s 136ms/step - loss: 0.7101 - binary_accuracy: 0.4667 - val_loss: 0.6905 - val_binary_accuracy: 0.6250\n",
            "Run:  4 / Accuracy on test ORIGINAL at epoch  0  is:  0.625 \n",
            "\n",
            "300/300 [==============================] - 9s 30ms/step - loss: 0.6695 - binary_accuracy: 0.5967 - val_loss: 0.6827 - val_binary_accuracy: 0.5750\n",
            "Run:  4 / Accuracy on test ORIGINAL at epoch  1  is:  0.574999988079071 \n",
            "\n",
            "300/300 [==============================] - 10s 32ms/step - loss: 0.5296 - binary_accuracy: 0.7767 - val_loss: 0.8110 - val_binary_accuracy: 0.6750\n",
            "Run:  4 / Accuracy on test ORIGINAL at epoch  2  is:  0.675000011920929 \n",
            "\n",
            "300/300 [==============================] - 10s 32ms/step - loss: 0.3643 - binary_accuracy: 0.8600 - val_loss: 0.9282 - val_binary_accuracy: 0.6750\n",
            "Run:  4 / Accuracy on test ORIGINAL at epoch  3  is:  0.675000011920929 \n",
            "\n",
            "300/300 [==============================] - 10s 32ms/step - loss: 0.2278 - binary_accuracy: 0.9167 - val_loss: 1.0407 - val_binary_accuracy: 0.6750\n",
            "Run:  4 / Accuracy on test ORIGINAL at epoch  4  is:  0.675000011920929 \n",
            "\n",
            "300/300 [==============================] - 10s 32ms/step - loss: 0.1498 - binary_accuracy: 0.9467 - val_loss: 1.1914 - val_binary_accuracy: 0.6850\n",
            "Run:  4 / Accuracy on test ORIGINAL at epoch  5  is:  0.6850000023841858 \n",
            "\n",
            "300/300 [==============================] - 9s 30ms/step - loss: 0.1010 - binary_accuracy: 0.9600 - val_loss: 1.3696 - val_binary_accuracy: 0.6700\n",
            "Run:  4 / Accuracy on test ORIGINAL at epoch  6  is:  0.6700000166893005 \n",
            "\n",
            "300/300 [==============================] - 9s 30ms/step - loss: 0.0663 - binary_accuracy: 0.9733 - val_loss: 1.4193 - val_binary_accuracy: 0.6850\n",
            "Run:  4 / Accuracy on test ORIGINAL at epoch  7  is:  0.6850000023841858 \n",
            "\n",
            "300/300 [==============================] - 9s 31ms/step - loss: 0.0454 - binary_accuracy: 0.9867 - val_loss: 1.5279 - val_binary_accuracy: 0.6500\n",
            "Run:  4 / Accuracy on test ORIGINAL at epoch  8  is:  0.6499999761581421 \n",
            "\n",
            "300/300 [==============================] - 10s 32ms/step - loss: 0.0332 - binary_accuracy: 0.9900 - val_loss: 1.7111 - val_binary_accuracy: 0.6750\n",
            "Run:  4 / Accuracy on test ORIGINAL at epoch  9  is:  0.675000011920929 \n",
            "\n",
            "300/300 [==============================] - 10s 34ms/step - loss: 0.0554 - binary_accuracy: 0.9900 - val_loss: 1.8967 - val_binary_accuracy: 0.6700\n",
            "Run:  4 / Accuracy on test ORIGINAL at epoch  10  is:  0.6700000166893005 \n",
            "\n",
            "300/300 [==============================] - 10s 32ms/step - loss: 0.0162 - binary_accuracy: 0.9933 - val_loss: 1.9371 - val_binary_accuracy: 0.6800\n",
            "Run:  4 / Accuracy on test ORIGINAL at epoch  11  is:  0.6800000071525574 \n",
            "\n",
            "300/300 [==============================] - 10s 33ms/step - loss: 0.0287 - binary_accuracy: 0.9933 - val_loss: 1.9986 - val_binary_accuracy: 0.6700\n",
            "Run:  4 / Accuracy on test ORIGINAL at epoch  12  is:  0.6700000166893005 \n",
            "\n",
            "300/300 [==============================] - 9s 30ms/step - loss: 0.0281 - binary_accuracy: 0.9900 - val_loss: 1.9298 - val_binary_accuracy: 0.7000\n",
            "Run:  4 / Accuracy on test ORIGINAL at epoch  13  is:  0.699999988079071 \n",
            "\n",
            "300/300 [==============================] - 9s 31ms/step - loss: 0.0133 - binary_accuracy: 0.9933 - val_loss: 2.4585 - val_binary_accuracy: 0.6750\n",
            "Run:  4 / Accuracy on test ORIGINAL at epoch  14  is:  0.675000011920929 \n",
            "\n",
            "300/300 [==============================] - 10s 32ms/step - loss: 0.0220 - binary_accuracy: 0.9933 - val_loss: 2.5118 - val_binary_accuracy: 0.6700\n",
            "Run:  4 / Accuracy on test ORIGINAL at epoch  15  is:  0.6700000166893005 \n",
            "\n",
            "300/300 [==============================] - 10s 32ms/step - loss: 0.0306 - binary_accuracy: 0.9933 - val_loss: 2.5890 - val_binary_accuracy: 0.6450\n",
            "Run:  4 / Accuracy on test ORIGINAL at epoch  16  is:  0.6449999809265137 \n",
            "\n",
            "300/300 [==============================] - 10s 32ms/step - loss: 0.0243 - binary_accuracy: 0.9933 - val_loss: 2.7949 - val_binary_accuracy: 0.6350\n",
            "Run:  4 / Accuracy on test ORIGINAL at epoch  17  is:  0.6349999904632568 \n",
            "\n",
            "300/300 [==============================] - 10s 32ms/step - loss: 0.0057 - binary_accuracy: 0.9967 - val_loss: 2.9496 - val_binary_accuracy: 0.6350\n",
            "Run:  4 / Accuracy on test ORIGINAL at epoch  18  is:  0.6349999904632568 \n",
            "\n",
            "300/300 [==============================] - 9s 30ms/step - loss: 0.0301 - binary_accuracy: 0.9933 - val_loss: 3.2289 - val_binary_accuracy: 0.6300\n",
            "Run:  4 / Accuracy on test ORIGINAL at epoch  19  is:  0.6299999952316284 \n",
            "\n",
            "Accuracies on ORIGINAL over epochs: [0.625, 0.574999988079071, 0.675000011920929, 0.675000011920929, 0.675000011920929, 0.6850000023841858, 0.6700000166893005, 0.6850000023841858, 0.6499999761581421, 0.675000011920929, 0.6700000166893005, 0.6800000071525574, 0.6700000166893005, 0.699999988079071, 0.675000011920929, 0.6700000166893005, 0.6449999809265137, 0.6349999904632568, 0.6349999904632568, 0.6299999952316284] \n",
            "\n",
            "300/300 [==============================] - 43s 136ms/step - loss: 0.7116 - binary_accuracy: 0.4833 - val_loss: 0.6834 - val_binary_accuracy: 0.6300\n",
            "Run:  5 / Accuracy on test ORIGINAL at epoch  0  is:  0.6299999952316284 \n",
            "\n",
            "300/300 [==============================] - 10s 32ms/step - loss: 0.6647 - binary_accuracy: 0.6367 - val_loss: 0.6638 - val_binary_accuracy: 0.6300\n",
            "Run:  5 / Accuracy on test ORIGINAL at epoch  1  is:  0.6299999952316284 \n",
            "\n",
            "300/300 [==============================] - 9s 30ms/step - loss: 0.5218 - binary_accuracy: 0.7833 - val_loss: 0.7834 - val_binary_accuracy: 0.6650\n",
            "Run:  5 / Accuracy on test ORIGINAL at epoch  2  is:  0.6650000214576721 \n",
            "\n",
            "300/300 [==============================] - 10s 32ms/step - loss: 0.3368 - binary_accuracy: 0.8633 - val_loss: 0.9494 - val_binary_accuracy: 0.6800\n",
            "Run:  5 / Accuracy on test ORIGINAL at epoch  3  is:  0.6800000071525574 \n",
            "\n",
            "300/300 [==============================] - 10s 32ms/step - loss: 0.2291 - binary_accuracy: 0.9167 - val_loss: 1.0449 - val_binary_accuracy: 0.6750\n",
            "Run:  5 / Accuracy on test ORIGINAL at epoch  4  is:  0.675000011920929 \n",
            "\n",
            "300/300 [==============================] - 10s 32ms/step - loss: 0.1387 - binary_accuracy: 0.9500 - val_loss: 1.3651 - val_binary_accuracy: 0.6850\n",
            "Run:  5 / Accuracy on test ORIGINAL at epoch  5  is:  0.6850000023841858 \n",
            "\n",
            "300/300 [==============================] - 10s 32ms/step - loss: 0.1014 - binary_accuracy: 0.9667 - val_loss: 1.2639 - val_binary_accuracy: 0.6900\n",
            "Run:  5 / Accuracy on test ORIGINAL at epoch  6  is:  0.6899999976158142 \n",
            "\n",
            "300/300 [==============================] - 10s 32ms/step - loss: 0.0604 - binary_accuracy: 0.9767 - val_loss: 1.3209 - val_binary_accuracy: 0.7150\n",
            "Run:  5 / Accuracy on test ORIGINAL at epoch  7  is:  0.7149999737739563 \n",
            "\n",
            "300/300 [==============================] - 10s 33ms/step - loss: 0.0467 - binary_accuracy: 0.9867 - val_loss: 2.4021 - val_binary_accuracy: 0.5700\n",
            "Run:  5 / Accuracy on test ORIGINAL at epoch  8  is:  0.5699999928474426 \n",
            "\n",
            "300/300 [==============================] - 10s 32ms/step - loss: 0.0300 - binary_accuracy: 0.9900 - val_loss: 1.7841 - val_binary_accuracy: 0.6550\n",
            "Run:  5 / Accuracy on test ORIGINAL at epoch  9  is:  0.6549999713897705 \n",
            "\n",
            "300/300 [==============================] - 10s 32ms/step - loss: 0.0268 - binary_accuracy: 0.9900 - val_loss: 1.8607 - val_binary_accuracy: 0.6500\n",
            "Run:  5 / Accuracy on test ORIGINAL at epoch  10  is:  0.6499999761581421 \n",
            "\n",
            "300/300 [==============================] - 10s 32ms/step - loss: 0.0301 - binary_accuracy: 0.9900 - val_loss: 1.8421 - val_binary_accuracy: 0.7000\n",
            "Run:  5 / Accuracy on test ORIGINAL at epoch  11  is:  0.699999988079071 \n",
            "\n",
            "300/300 [==============================] - 10s 32ms/step - loss: 0.0140 - binary_accuracy: 0.9933 - val_loss: 2.0185 - val_binary_accuracy: 0.7100\n",
            "Run:  5 / Accuracy on test ORIGINAL at epoch  12  is:  0.7099999785423279 \n",
            "\n",
            "300/300 [==============================] - 9s 31ms/step - loss: 0.0327 - binary_accuracy: 0.9900 - val_loss: 1.8670 - val_binary_accuracy: 0.6900\n",
            "Run:  5 / Accuracy on test ORIGINAL at epoch  13  is:  0.6899999976158142 \n",
            "\n",
            "300/300 [==============================] - 10s 32ms/step - loss: 0.0301 - binary_accuracy: 0.9933 - val_loss: 2.0936 - val_binary_accuracy: 0.6700\n",
            "Run:  5 / Accuracy on test ORIGINAL at epoch  14  is:  0.6700000166893005 \n",
            "\n",
            "300/300 [==============================] - 10s 32ms/step - loss: 0.0257 - binary_accuracy: 0.9933 - val_loss: 1.8727 - val_binary_accuracy: 0.7050\n",
            "Run:  5 / Accuracy on test ORIGINAL at epoch  15  is:  0.7049999833106995 \n",
            "\n",
            "300/300 [==============================] - 10s 32ms/step - loss: 0.0268 - binary_accuracy: 0.9933 - val_loss: 1.8984 - val_binary_accuracy: 0.6900\n",
            "Run:  5 / Accuracy on test ORIGINAL at epoch  16  is:  0.6899999976158142 \n",
            "\n",
            "300/300 [==============================] - 9s 31ms/step - loss: 0.0320 - binary_accuracy: 0.9933 - val_loss: 1.9732 - val_binary_accuracy: 0.7200\n",
            "Run:  5 / Accuracy on test ORIGINAL at epoch  17  is:  0.7200000286102295 \n",
            "\n",
            "300/300 [==============================] - 9s 31ms/step - loss: 0.0236 - binary_accuracy: 0.9933 - val_loss: 1.9638 - val_binary_accuracy: 0.7200\n",
            "Run:  5 / Accuracy on test ORIGINAL at epoch  18  is:  0.7200000286102295 \n",
            "\n",
            "300/300 [==============================] - 10s 32ms/step - loss: 0.0446 - binary_accuracy: 0.9933 - val_loss: 2.0301 - val_binary_accuracy: 0.7100\n",
            "Run:  5 / Accuracy on test ORIGINAL at epoch  19  is:  0.7099999785423279 \n",
            "\n",
            "Accuracies on ORIGINAL over epochs: [0.6299999952316284, 0.6299999952316284, 0.6650000214576721, 0.6800000071525574, 0.675000011920929, 0.6850000023841858, 0.6899999976158142, 0.7149999737739563, 0.5699999928474426, 0.6549999713897705, 0.6499999761581421, 0.699999988079071, 0.7099999785423279, 0.6899999976158142, 0.6700000166893005, 0.7049999833106995, 0.6899999976158142, 0.7200000286102295, 0.7200000286102295, 0.7099999785423279] \n",
            "\n",
            "\n",
            "\n",
            " Over all runs maximum accuracies on ORIGINAL test set are: [0.699999988079071, 0.699999988079071, 0.699999988079071, 0.7200000286102295, 0.7250000238418579]\n",
            "The median for English is: 0.699999988079071 \n",
            "\n",
            "\n",
            "\n",
            "CNN Accuracy Score on Original Test set ->  0.699999988079071 +/- 0.025000035762786865\n"
          ]
        }
      ],
      "source": [
        "tf.random.set_seed(1)\n",
        "\n",
        "runs_accuracy = []\n",
        "\n",
        "for run in range(1,(num_runs+1)):\n",
        "    epochs_accuracy = []\n",
        "    model = tf.keras.Sequential([\n",
        "                                    tf.keras.Input(shape=(1,), dtype=tf.string),\n",
        "                                    vectorize_layer,\n",
        "                                    layers.Embedding(max_features + 1, embedding_dim),                     \n",
        "                                    layers.Dropout(0.8),\n",
        "\n",
        "                                    layers.Conv1D(256,16,activation='relu'),\n",
        "                                    layers.MaxPooling1D(),\n",
        "                                    layers.Dropout(0.6),\n",
        "\n",
        "                                    layers.Dense(512,activation='relu'),\n",
        "                           \n",
        "                                    layers.GlobalAveragePooling1D(),\n",
        "                                    layers.Dropout(0.2),\n",
        "                                    layers.Dense(1)                            \n",
        "    ])\n",
        "    model.compile(loss=losses.BinaryCrossentropy(from_logits=True), optimizer='RMSprop', metrics=tf.metrics.BinaryAccuracy(threshold=0.0)) \n",
        "\n",
        "    for epoch in range (0,num_epochs_per_run):\n",
        "        history = model.fit(\n",
        "          train_ds,\n",
        "          validation_data = test_ds,\n",
        "          epochs=1,\n",
        "          shuffle=False,\n",
        "          # Comment the following line to do not save and download the model.\n",
        "          #callbacks=[callbacks]\n",
        "          )\n",
        "        accuracy = history.history['val_binary_accuracy']\n",
        "        print(\"Run: \",run,\"/ Accuracy on test ORIGINAL at epoch \",epoch,\" is: \", accuracy[0],\"\\n\")\n",
        "        epochs_accuracy.append(accuracy[0])\n",
        "\n",
        "    print(\"Accuracies on ORIGINAL over epochs:\",epochs_accuracy,\"\\n\")\n",
        "    runs_accuracy.append(max(epochs_accuracy))\n",
        "\n",
        "runs_accuracy.sort()\n",
        "print(\"\\n\\n Over all runs maximum accuracies on ORIGINAL test set are:\", runs_accuracy)\n",
        "print(\"The median for English is:\",runs_accuracy[2],\"\\n\\n\\n\")\n",
        "  \n",
        "\n",
        "# Final Result on Original Test set\n",
        "if (runs_accuracy[2]-runs_accuracy[0])>(runs_accuracy[4]-runs_accuracy[2]):\n",
        "  max_range_from_median = runs_accuracy[2]-runs_accuracy[0]\n",
        "else:\n",
        "  max_range_from_median = runs_accuracy[4]-runs_accuracy[2]\n",
        "final_result = str(runs_accuracy[2])+\" +/- \"+ str(max_range_from_median)\n",
        "print(\"CNN Accuracy Score on Original Test set -> \",final_result)\n"
      ]
    },
    {
      "cell_type": "code",
      "source": [],
      "metadata": {
        "id": "L4gtZwBjc_lA"
      },
      "execution_count": null,
      "outputs": []
    }
  ],
  "metadata": {
    "accelerator": "GPU",
    "colab": {
      "provenance": [],
      "include_colab_link": true
    },
    "kernelspec": {
      "display_name": "Python 3",
      "name": "python3"
    },
    "gpuClass": "standard"
  },
  "nbformat": 4,
  "nbformat_minor": 0
}
