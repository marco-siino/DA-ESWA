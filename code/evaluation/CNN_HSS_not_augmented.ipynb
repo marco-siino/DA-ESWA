{
  "cells": [
    {
      "cell_type": "markdown",
      "metadata": {
        "id": "view-in-github",
        "colab_type": "text"
      },
      "source": [
        "<a href=\"https://colab.research.google.com/github/marco-siino/DA-ESWA/blob/main/code/evaluation/CNN_HSS_not_augmented.ipynb\" target=\"_parent\"><img src=\"https://colab.research.google.com/assets/colab-badge.svg\" alt=\"Open In Colab\"/></a>"
      ]
    },
    {
      "cell_type": "markdown",
      "metadata": {
        "id": "u-hLo5ufkCT1"
      },
      "source": [
        "## Investigating text data augmentation using back translation for author profiling\n",
        "- - - \n",
        "CNN ON HSS DS EXPERIMENTS NOTEBOOK \n",
        "- - -\n",
        "Convolutional Neural Network on Hate Speech Spreaders Dataset not augmented with backtranslation.\n",
        "Code by M. Siino. \n",
        "\n",
        "From the paper: \"Investigating text data augmentation using back translation for author profiling\" by M.Siino et al.\n",
        "\n"
      ]
    },
    {
      "cell_type": "markdown",
      "metadata": {
        "id": "6IBqUcj4cx2G"
      },
      "source": [
        "## Importing modules."
      ]
    },
    {
      "cell_type": "code",
      "execution_count": 1,
      "metadata": {
        "id": "AQSunQ-ucjLX"
      },
      "outputs": [],
      "source": [
        "import matplotlib.pyplot as plt\n",
        "import os\n",
        "import random\n",
        "import re\n",
        "import shutil\n",
        "import string\n",
        "import tensorflow as tf\n",
        "\n",
        "import numpy as np\n",
        "\n",
        "from tensorflow.keras import layers\n",
        "from tensorflow.keras import losses\n",
        "from tensorflow.keras import preprocessing\n",
        "from keras.models import Model\n",
        "from tensorflow.keras.layers.experimental.preprocessing import TextVectorization\n",
        "\n",
        "os.environ['TF_CUDNN_DETERMINISTIC']='true'\n",
        "os.environ['TF_DETERMINISTIC_OPS']='true'"
      ]
    },
    {
      "cell_type": "markdown",
      "metadata": {
        "id": "0QHd_fxmHCfa"
      },
      "source": [
        "## Importing DS and extract in current working directory."
      ]
    },
    {
      "cell_type": "code",
      "source": [
        "urlTrainingSet = \"https://github.com/marco-siino/DA-ESWA/raw/main/data/hss/hss-training-cleaned.zip\"\n",
        "training_set = tf.keras.utils.get_file(\"pan21-author-profiling-training-2021-03-14-augmented.zip\", urlTrainingSet,\n",
        "                                    extract=True, archive_format='zip',cache_dir='.',\n",
        "                                    cache_subdir='')\n",
        "\n",
        "urlTestSet=\"https://github.com/marco-siino/DA-ESWA/raw/main/data/hss/hss-test-cleaned.zip\"\n",
        "test_set = tf.keras.utils.get_file(\"pan21-author-profiling-test-without-gold.zip\", urlTestSet,\n",
        "                                    extract=True, archive_format='zip',cache_dir='.',\n",
        "                                    cache_subdir='')"
      ],
      "metadata": {
        "colab": {
          "base_uri": "https://localhost:8080/"
        },
        "id": "2RBLe4vQPni1",
        "outputId": "7f06d18a-e4d5-4f7d-a396-c11ffadb7d84"
      },
      "execution_count": 2,
      "outputs": [
        {
          "output_type": "stream",
          "name": "stdout",
          "text": [
            "Downloading data from https://github.com/marco-siino/DA-ESWA/raw/main/data/hss/hss-training-cleaned.zip\n",
            "1247321/1247321 [==============================] - 0s 0us/step\n",
            "Downloading data from https://github.com/marco-siino/DA-ESWA/raw/main/data/hss/hss-test-cleaned.zip\n",
            "652227/652227 [==============================] - 0s 0us/step\n"
          ]
        }
      ]
    },
    {
      "cell_type": "code",
      "execution_count": 3,
      "metadata": {
        "id": "ocYMUXaY8r0_",
        "colab": {
          "base_uri": "https://localhost:8080/"
        },
        "outputId": "87e4bc0f-38ae-4ec5-80a0-14d8b50d9ff5"
      },
      "outputs": [
        {
          "output_type": "stream",
          "name": "stdout",
          "text": [
            ".config\n",
            "pan21-author-profiling-test-without-gold\n",
            "pan21-author-profiling-test-without-gold.zip\n",
            "pan21-author-profiling-training-2021-03-14-augmented\n",
            "pan21-author-profiling-training-2021-03-14-augmented.zip\n",
            "sample_data\n"
          ]
        }
      ],
      "source": [
        "training_set_dir = os.path.join(os.path.dirname(training_set), 'pan21-author-profiling-training-2021-03-14-augmented')\n",
        "test_set_dir = os.path.join(os.path.dirname(test_set), 'pan21-author-profiling-test-without-gold')\n",
        "\n",
        "!ls -A"
      ]
    },
    {
      "cell_type": "markdown",
      "metadata": {
        "id": "uTJi1fbT_Rup"
      },
      "source": [
        "## Build folders hierarchy to use Keras folders preprocessing function.\n",
        "\n"
      ]
    },
    {
      "cell_type": "code",
      "execution_count": 4,
      "metadata": {
        "id": "FyafvXEMhEKw",
        "colab": {
          "base_uri": "https://localhost:8080/"
        },
        "outputId": "c5d99511-17a9-434a-8d38-57fdc9b2fc07"
      },
      "outputs": [
        {
          "output_type": "stream",
          "name": "stdout",
          "text": [
            ".config\n",
            "pan21-author-profiling-test-without-gold\n",
            "pan21-author-profiling-test-without-gold.zip\n",
            "pan21-author-profiling-training-2021-03-14-augmented\n",
            "pan21-author-profiling-training-2021-03-14-augmented.zip\n",
            "sample_data\n",
            "test_dir_en\n",
            "train_dir_en\n"
          ]
        }
      ],
      "source": [
        "### Training Folders. ###\n",
        "\n",
        "# First level directory.\n",
        "if not os.path.exists('train_dir_en'):\n",
        "    os.makedirs('train_dir_en')\n",
        "\n",
        "# Class labels directory.\n",
        "if not os.path.exists('train_dir_en/0'):\n",
        "    os.makedirs('train_dir_en/0')\n",
        "if not os.path.exists('train_dir_en/1'):\n",
        "    os.makedirs('train_dir_en/1')\n",
        "\n",
        "# Make Py variables.\n",
        "train_dir='train_dir_'\n",
        "\n",
        "## Test Folders. ##\n",
        "# First level directory.\n",
        "if not os.path.exists('test_dir_en'):\n",
        "    os.makedirs('test_dir_en')\n",
        "\n",
        "# Class labels directory.\n",
        "if not os.path.exists('test_dir_en/0'):\n",
        "    os.makedirs('test_dir_en/0')\n",
        "if not os.path.exists('test_dir_en/1'):\n",
        "    os.makedirs('test_dir_en/1')\n",
        "\n",
        "# Make Py variables.\n",
        "test_dir='test_dir_'\n",
        "\n",
        "\n",
        "!ls -A"
      ]
    },
    {
      "cell_type": "markdown",
      "source": [
        "## Set language and directory paths."
      ],
      "metadata": {
        "id": "-6c28Rdo8zGn"
      }
    },
    {
      "cell_type": "code",
      "source": [
        "# Set en and es ground truth file path for train_dir. \n",
        "language='en'\n",
        "\n",
        "truth_file_training_dir_en=training_set_dir+'/'+language+'/'\n",
        "truth_file_training_path_en = truth_file_training_dir_en+'truth.txt'\n",
        "\n",
        "truth_file_test_dir=test_set_dir\n",
        "truth_file_test_path_en = truth_file_test_dir+'/'+'truth'+'.txt'\n"
      ],
      "metadata": {
        "id": "ANr_dCj-8yvD"
      },
      "execution_count": 5,
      "outputs": []
    },
    {
      "cell_type": "markdown",
      "source": [
        "## Read truth.txt to organize training and test dataset folders."
      ],
      "metadata": {
        "id": "VU6PtNMZ864o"
      }
    },
    {
      "cell_type": "code",
      "source": [
        "# Open the file truth.txt with read only permit.\n",
        "f = open(truth_file_training_path_en, \"r\")\n",
        "# use readline() to read the first line \n",
        "line = f.readline()\n",
        "# use the read line to read further.\n",
        "# If the file is not empty keep reading one line\n",
        "# at a time, till the file is empty\n",
        "while line:\n",
        "    # Split line at :::\n",
        "    x = line.split(\":::\")\n",
        "    fNameXml = x[0]+'.xml'\n",
        "    fNameTxt = x[0]+'.txt'\n",
        "    # Second coord [0] gets just the first character (label) and not /n too.\n",
        "    label = x[1][0]\n",
        "\n",
        "    # Now move the file to the right folder.\n",
        "    if os.path.exists(truth_file_training_dir_en+fNameXml):\n",
        "      os.rename(truth_file_training_dir_en+fNameXml, './train_dir_'+language+'/'+label+'/'+fNameTxt )\n",
        "\n",
        "    # use readline() to read next line\n",
        "    line = f.readline()\n",
        "\n",
        "# Open the file truth.txt with read only permit.\n",
        "f = open(truth_file_test_path_en, \"r\")\n",
        "# use readline() to read the first line \n",
        "line = f.readline()\n",
        "# use the read line to read further.\n",
        "# If the file is not empty keep reading one line\n",
        "# at a time, till the file is empty\n",
        "while line:\n",
        "    # Split line at :::\n",
        "    x = line.split(\":::\")\n",
        "    fNameXml = x[0]+'.xml'\n",
        "    fNameTxt = x[0]+'.txt'\n",
        "    # Second coord [0] gets just the first character (label) and not /n too.\n",
        "    label = x[1][0]\n",
        "\n",
        "    # Now move the file to the right folder.\n",
        "    if os.path.exists(truth_file_test_dir+'/'+language+'/'+fNameXml):\n",
        "      os.rename(truth_file_test_dir+'/'+language+'/'+fNameXml, './test_dir_'+language+'/'+label+'/'+fNameTxt )\n",
        "\n",
        "    # use readline() to read next line\n",
        "    line = f.readline()\n"
      ],
      "metadata": {
        "id": "iW2UF_SH87TX"
      },
      "execution_count": 6,
      "outputs": []
    },
    {
      "cell_type": "markdown",
      "source": [
        "## Generate full dataset."
      ],
      "metadata": {
        "id": "4vskGJeX9GqJ"
      }
    },
    {
      "cell_type": "code",
      "source": [
        "# Generate full randomized training set.\n",
        "batch_size=1\n",
        "\n",
        "en_train_ds = tf.keras.preprocessing.text_dataset_from_directory(\n",
        "    train_dir+language, \n",
        "    batch_size=batch_size,\n",
        "    shuffle=False\n",
        "    )\n",
        "\n",
        "en_test_ds = tf.keras.preprocessing.text_dataset_from_directory(\n",
        "    test_dir+language, \n",
        "    batch_size=batch_size,\n",
        "    shuffle=False\n",
        "    )\n",
        "\n",
        "train_ds=en_train_ds.shuffle(300,seed=1, reshuffle_each_iteration=False)\n",
        "test_ds=en_test_ds.shuffle(200,seed=1, reshuffle_each_iteration=False)\n",
        "\n",
        "\n",
        "train_ds_size=len(train_ds)\n",
        "test_ds_size=len(test_ds)"
      ],
      "metadata": {
        "colab": {
          "base_uri": "https://localhost:8080/"
        },
        "id": "UOqIc_Sm9HGX",
        "outputId": "9605b121-28d8-4adc-ee46-f803c86c4d93"
      },
      "execution_count": 7,
      "outputs": [
        {
          "output_type": "stream",
          "name": "stdout",
          "text": [
            "Found 200 files belonging to 2 classes.\n",
            "Found 100 files belonging to 2 classes.\n"
          ]
        }
      ]
    },
    {
      "cell_type": "markdown",
      "metadata": {
        "id": "ITouXXtQ8WzV"
      },
      "source": [
        "## Functions to pre-process source text. \n",
        "\n"
      ]
    },
    {
      "cell_type": "code",
      "execution_count": 8,
      "metadata": {
        "id": "bDPIqAgXYWim"
      },
      "outputs": [],
      "source": [
        "# Preprocessing function to remove some noise due to the translation.\n",
        "def clean_samples(input_data):\n",
        "  tag_author_lang_en_removed = tf.strings.regex_replace(input_data,'<author lang=\"en\"', '')\n",
        "  tag_author_lang_en_cased_removed = tf.strings.regex_replace(tag_author_lang_en_removed,'<Author lang=\"en\"', '\\n\\n')\n",
        "  tag_opening_document_miscased = tf.strings.regex_replace(tag_author_lang_en_cased_removed,'<Document>', '<document>')\n",
        "  output_data = tf.strings.regex_replace(tag_opening_document_miscased,'</Document>', '</document>')\n",
        "  return output_data"
      ]
    },
    {
      "cell_type": "markdown",
      "metadata": {
        "id": "TjUnE9_DEyCw"
      },
      "source": [
        "## Get the length of the longest sample in training set. Then adapt text.\n",
        "\n"
      ]
    },
    {
      "cell_type": "code",
      "execution_count": 9,
      "metadata": {
        "id": "ebRMQqa_mr48"
      },
      "outputs": [],
      "source": [
        "def preprocess_and_adapt_ts(training_set):\n",
        "  # Set a large sequence length to find the longest sample in the training set.\n",
        "  sequence_length = 20000\n",
        "  vectorize_layer = TextVectorization(\n",
        "      standardize=clean_samples,\n",
        "      output_mode='int',\n",
        "      output_sequence_length=sequence_length)\n",
        "\n",
        "  train_text = training_set.map(lambda x, y: x)\n",
        "  vectorize_layer.adapt(train_text)\n",
        "  #vectorize_layer.get_vocabulary()\n",
        "\n",
        "  model = tf.keras.models.Sequential()\n",
        "  model.add(tf.keras.Input(shape=(1,), dtype=tf.string))\n",
        "  model.add(vectorize_layer)\n",
        "\n",
        "  longest_sample_length=1\n",
        "\n",
        "  for element in training_set:\n",
        "    authorDocument=element[0]\n",
        "    label=element[1]\n",
        "    \n",
        "    #print(\"Sample considered is: \", authorDocument[0].numpy())\n",
        "    #print(\"Preprocessed: \", str(custom_standardization(authorDocument[0].numpy())))\n",
        "    #print(\"And has label: \", label[0].numpy())\n",
        "\n",
        "    out=model(authorDocument)\n",
        "    # Convert token list to numpy array.\n",
        "    token_list = out.numpy()[0]\n",
        "    token_list = np.trim_zeros(token_list,'b')\n",
        "    if longest_sample_length < len(token_list):\n",
        "      longest_sample_length = len(token_list)\n",
        "\n",
        "  print(\"Length of the longest sample is:\", longest_sample_length)\n",
        "\n",
        "  # After tokenization longest_sample_length covers all the document lenghts in our dataset.\n",
        "  sequence_length = longest_sample_length\n",
        "\n",
        "  vectorize_layer = TextVectorization(\n",
        "      standardize=clean_samples,\n",
        "      output_mode='int',\n",
        "      output_sequence_length=sequence_length)\n",
        "\n",
        "  # Finally adapt the vectorize layer.\n",
        "  train_text = training_set.map(lambda x, y: x)\n",
        "  vectorize_layer.adapt(train_text)\n",
        "  return vectorize_layer"
      ]
    },
    {
      "cell_type": "markdown",
      "source": [
        "## Some training hyperparameters..."
      ],
      "metadata": {
        "id": "RF7pJkGJ3bHT"
      }
    },
    {
      "cell_type": "code",
      "source": [
        "# Word embedding dimensions.\n",
        "embedding_dim = 100\n",
        "\n",
        "num_runs = 5 \n",
        "# No need to go over the 20th epoch...Overfitting begins.\n",
        "num_epochs_per_run = 20\n",
        "\n",
        "#opt = tf.keras.optimizers.RMSprop()"
      ],
      "metadata": {
        "id": "ocHligxS3mVn"
      },
      "execution_count": 10,
      "outputs": []
    },
    {
      "cell_type": "markdown",
      "source": [
        "## Vectorization\n",
        "\n",
        "\n"
      ],
      "metadata": {
        "id": "yzLLcBGdtmXM"
      }
    },
    {
      "cell_type": "code",
      "source": [
        "print(\"\\n\\n* * * * VECTORIZATION STARTED * * * *\")\n",
        "\n",
        "# Preprocess training set to build a dictionary.\n",
        "vectorize_layer = preprocess_and_adapt_ts(train_ds)\n",
        "\n",
        "max_features=len(vectorize_layer.get_vocabulary()) + 1\n",
        "print(\"Vocabulary size is:\", max_features)\n"
      ],
      "metadata": {
        "colab": {
          "base_uri": "https://localhost:8080/"
        },
        "id": "mlDEHJvstluS",
        "outputId": "ff2d3ba7-d3c9-4b5f-dc7e-899f0beceb9e"
      },
      "execution_count": 11,
      "outputs": [
        {
          "output_type": "stream",
          "name": "stderr",
          "text": [
            "WARNING:tensorflow:From /usr/local/lib/python3.8/dist-packages/tensorflow/python/autograph/pyct/static_analysis/liveness.py:83: Analyzer.lamba_check (from tensorflow.python.autograph.pyct.static_analysis.liveness) is deprecated and will be removed after 2023-09-23.\n",
            "Instructions for updating:\n",
            "Lambda fuctions will be no more assumed to be used in the statement where they are used, or at least in the same block. https://github.com/tensorflow/tensorflow/issues/56089\n"
          ]
        },
        {
          "output_type": "stream",
          "name": "stdout",
          "text": [
            "\n",
            "\n",
            "* * * * VECTORIZATION STARTED * * * *\n",
            "Length of the longest sample is: 4310\n",
            "Vocabulary size is: 47825\n"
          ]
        }
      ]
    },
    {
      "cell_type": "markdown",
      "metadata": {
        "id": "XDEi7MAo4qsQ"
      },
      "source": [
        "## Models definition, training and evaluation on original and on augmented test set.\n",
        "\n",
        "\n"
      ]
    },
    {
      "cell_type": "code",
      "execution_count": 12,
      "metadata": {
        "colab": {
          "base_uri": "https://localhost:8080/"
        },
        "id": "Mm1fdCpETWL-",
        "outputId": "42325020-40f9-4c87-e8e3-5eb85ef04529"
      },
      "outputs": [
        {
          "output_type": "stream",
          "name": "stdout",
          "text": [
            "200/200 [==============================] - 50s 199ms/step - loss: 0.7047 - binary_accuracy: 0.4400 - val_loss: 0.6932 - val_binary_accuracy: 0.5000\n",
            "Run:  1 / Accuracy on test ORIGINAL at epoch  0  is:  0.5 \n",
            "\n",
            "200/200 [==============================] - 8s 38ms/step - loss: 0.6965 - binary_accuracy: 0.4300 - val_loss: 0.6932 - val_binary_accuracy: 0.5000\n",
            "Run:  1 / Accuracy on test ORIGINAL at epoch  1  is:  0.5 \n",
            "\n",
            "200/200 [==============================] - 7s 34ms/step - loss: 0.6954 - binary_accuracy: 0.4100 - val_loss: 0.6932 - val_binary_accuracy: 0.5000\n",
            "Run:  1 / Accuracy on test ORIGINAL at epoch  2  is:  0.5 \n",
            "\n",
            "200/200 [==============================] - 7s 37ms/step - loss: 0.6950 - binary_accuracy: 0.4350 - val_loss: 0.6932 - val_binary_accuracy: 0.5000\n",
            "Run:  1 / Accuracy on test ORIGINAL at epoch  3  is:  0.5 \n",
            "\n",
            "200/200 [==============================] - 8s 38ms/step - loss: 0.6948 - binary_accuracy: 0.4250 - val_loss: 0.6932 - val_binary_accuracy: 0.5000\n",
            "Run:  1 / Accuracy on test ORIGINAL at epoch  4  is:  0.5 \n",
            "\n",
            "200/200 [==============================] - 7s 35ms/step - loss: 0.6944 - binary_accuracy: 0.4300 - val_loss: 0.6931 - val_binary_accuracy: 0.5000\n",
            "Run:  1 / Accuracy on test ORIGINAL at epoch  5  is:  0.5 \n",
            "\n",
            "200/200 [==============================] - 7s 35ms/step - loss: 0.6940 - binary_accuracy: 0.4400 - val_loss: 0.6931 - val_binary_accuracy: 0.5000\n",
            "Run:  1 / Accuracy on test ORIGINAL at epoch  6  is:  0.5 \n",
            "\n",
            "200/200 [==============================] - 7s 34ms/step - loss: 0.6939 - binary_accuracy: 0.4550 - val_loss: 0.6929 - val_binary_accuracy: 0.5000\n",
            "Run:  1 / Accuracy on test ORIGINAL at epoch  7  is:  0.5 \n",
            "\n",
            "200/200 [==============================] - 7s 34ms/step - loss: 0.6934 - binary_accuracy: 0.4850 - val_loss: 0.6914 - val_binary_accuracy: 0.5200\n",
            "Run:  1 / Accuracy on test ORIGINAL at epoch  8  is:  0.5199999809265137 \n",
            "\n",
            "200/200 [==============================] - 8s 38ms/step - loss: 0.6881 - binary_accuracy: 0.5200 - val_loss: 0.6854 - val_binary_accuracy: 0.5200\n",
            "Run:  1 / Accuracy on test ORIGINAL at epoch  9  is:  0.5199999809265137 \n",
            "\n",
            "200/200 [==============================] - 7s 34ms/step - loss: 0.6711 - binary_accuracy: 0.5350 - val_loss: 0.6867 - val_binary_accuracy: 0.5600\n",
            "Run:  1 / Accuracy on test ORIGINAL at epoch  10  is:  0.5600000023841858 \n",
            "\n",
            "200/200 [==============================] - 7s 34ms/step - loss: 0.6499 - binary_accuracy: 0.6050 - val_loss: 0.6869 - val_binary_accuracy: 0.5900\n",
            "Run:  1 / Accuracy on test ORIGINAL at epoch  11  is:  0.5899999737739563 \n",
            "\n",
            "200/200 [==============================] - 7s 37ms/step - loss: 0.6114 - binary_accuracy: 0.6850 - val_loss: 0.6778 - val_binary_accuracy: 0.6100\n",
            "Run:  1 / Accuracy on test ORIGINAL at epoch  12  is:  0.6100000143051147 \n",
            "\n",
            "200/200 [==============================] - 7s 34ms/step - loss: 0.5641 - binary_accuracy: 0.7450 - val_loss: 0.6575 - val_binary_accuracy: 0.6100\n",
            "Run:  1 / Accuracy on test ORIGINAL at epoch  13  is:  0.6100000143051147 \n",
            "\n",
            "200/200 [==============================] - 7s 37ms/step - loss: 0.4657 - binary_accuracy: 0.7950 - val_loss: 0.6882 - val_binary_accuracy: 0.5700\n",
            "Run:  1 / Accuracy on test ORIGINAL at epoch  14  is:  0.5699999928474426 \n",
            "\n",
            "200/200 [==============================] - 8s 38ms/step - loss: 0.3606 - binary_accuracy: 0.8450 - val_loss: 0.7534 - val_binary_accuracy: 0.6000\n",
            "Run:  1 / Accuracy on test ORIGINAL at epoch  15  is:  0.6000000238418579 \n",
            "\n",
            "200/200 [==============================] - 8s 38ms/step - loss: 0.2672 - binary_accuracy: 0.8800 - val_loss: 0.8701 - val_binary_accuracy: 0.6100\n",
            "Run:  1 / Accuracy on test ORIGINAL at epoch  16  is:  0.6100000143051147 \n",
            "\n",
            "200/200 [==============================] - 7s 34ms/step - loss: 0.2071 - binary_accuracy: 0.9200 - val_loss: 0.8989 - val_binary_accuracy: 0.5900\n",
            "Run:  1 / Accuracy on test ORIGINAL at epoch  17  is:  0.5899999737739563 \n",
            "\n",
            "200/200 [==============================] - 7s 37ms/step - loss: 0.1267 - binary_accuracy: 0.9350 - val_loss: 0.9125 - val_binary_accuracy: 0.6000\n",
            "Run:  1 / Accuracy on test ORIGINAL at epoch  18  is:  0.6000000238418579 \n",
            "\n",
            "200/200 [==============================] - 7s 35ms/step - loss: 0.0842 - binary_accuracy: 0.9700 - val_loss: 0.9974 - val_binary_accuracy: 0.6100\n",
            "Run:  1 / Accuracy on test ORIGINAL at epoch  19  is:  0.6100000143051147 \n",
            "\n",
            "Accuracies on ORIGINAL over epochs: [0.5, 0.5, 0.5, 0.5, 0.5, 0.5, 0.5, 0.5, 0.5199999809265137, 0.5199999809265137, 0.5600000023841858, 0.5899999737739563, 0.6100000143051147, 0.6100000143051147, 0.5699999928474426, 0.6000000238418579, 0.6100000143051147, 0.5899999737739563, 0.6000000238418579, 0.6100000143051147] \n",
            "\n",
            "200/200 [==============================] - 30s 144ms/step - loss: 0.7061 - binary_accuracy: 0.4500 - val_loss: 0.6932 - val_binary_accuracy: 0.5000\n",
            "Run:  2 / Accuracy on test ORIGINAL at epoch  0  is:  0.5 \n",
            "\n",
            "200/200 [==============================] - 8s 38ms/step - loss: 0.6964 - binary_accuracy: 0.4300 - val_loss: 0.6932 - val_binary_accuracy: 0.5000\n",
            "Run:  2 / Accuracy on test ORIGINAL at epoch  1  is:  0.5 \n",
            "\n",
            "200/200 [==============================] - 8s 38ms/step - loss: 0.6954 - binary_accuracy: 0.3900 - val_loss: 0.6932 - val_binary_accuracy: 0.5000\n",
            "Run:  2 / Accuracy on test ORIGINAL at epoch  2  is:  0.5 \n",
            "\n",
            "200/200 [==============================] - 7s 37ms/step - loss: 0.6950 - binary_accuracy: 0.4400 - val_loss: 0.6932 - val_binary_accuracy: 0.5000\n",
            "Run:  2 / Accuracy on test ORIGINAL at epoch  3  is:  0.5 \n",
            "\n",
            "200/200 [==============================] - 7s 34ms/step - loss: 0.6945 - binary_accuracy: 0.4300 - val_loss: 0.6931 - val_binary_accuracy: 0.5000\n",
            "Run:  2 / Accuracy on test ORIGINAL at epoch  4  is:  0.5 \n",
            "\n",
            "200/200 [==============================] - 7s 34ms/step - loss: 0.6944 - binary_accuracy: 0.4500 - val_loss: 0.6931 - val_binary_accuracy: 0.5000\n",
            "Run:  2 / Accuracy on test ORIGINAL at epoch  5  is:  0.5 \n",
            "\n",
            "200/200 [==============================] - 7s 37ms/step - loss: 0.6943 - binary_accuracy: 0.4750 - val_loss: 0.6931 - val_binary_accuracy: 0.5000\n",
            "Run:  2 / Accuracy on test ORIGINAL at epoch  6  is:  0.5 \n",
            "\n",
            "200/200 [==============================] - 7s 36ms/step - loss: 0.6944 - binary_accuracy: 0.4600 - val_loss: 0.6924 - val_binary_accuracy: 0.5000\n",
            "Run:  2 / Accuracy on test ORIGINAL at epoch  7  is:  0.5 \n",
            "\n",
            "200/200 [==============================] - 7s 35ms/step - loss: 0.6908 - binary_accuracy: 0.5150 - val_loss: 0.6879 - val_binary_accuracy: 0.5500\n",
            "Run:  2 / Accuracy on test ORIGINAL at epoch  8  is:  0.550000011920929 \n",
            "\n",
            "200/200 [==============================] - 9s 45ms/step - loss: 0.6783 - binary_accuracy: 0.5400 - val_loss: 0.6860 - val_binary_accuracy: 0.5600\n",
            "Run:  2 / Accuracy on test ORIGINAL at epoch  9  is:  0.5600000023841858 \n",
            "\n",
            "200/200 [==============================] - 7s 37ms/step - loss: 0.6506 - binary_accuracy: 0.6050 - val_loss: 0.6908 - val_binary_accuracy: 0.6000\n",
            "Run:  2 / Accuracy on test ORIGINAL at epoch  10  is:  0.6000000238418579 \n",
            "\n",
            "200/200 [==============================] - 7s 37ms/step - loss: 0.6157 - binary_accuracy: 0.6850 - val_loss: 0.6813 - val_binary_accuracy: 0.5800\n",
            "Run:  2 / Accuracy on test ORIGINAL at epoch  11  is:  0.5799999833106995 \n",
            "\n",
            "200/200 [==============================] - 7s 34ms/step - loss: 0.5578 - binary_accuracy: 0.7450 - val_loss: 0.6634 - val_binary_accuracy: 0.5800\n",
            "Run:  2 / Accuracy on test ORIGINAL at epoch  12  is:  0.5799999833106995 \n",
            "\n",
            "200/200 [==============================] - 8s 40ms/step - loss: 0.4692 - binary_accuracy: 0.7950 - val_loss: 0.6994 - val_binary_accuracy: 0.5700\n",
            "Run:  2 / Accuracy on test ORIGINAL at epoch  13  is:  0.5699999928474426 \n",
            "\n",
            "200/200 [==============================] - 7s 37ms/step - loss: 0.3791 - binary_accuracy: 0.8300 - val_loss: 0.7663 - val_binary_accuracy: 0.5900\n",
            "Run:  2 / Accuracy on test ORIGINAL at epoch  14  is:  0.5899999737739563 \n",
            "\n",
            "200/200 [==============================] - 9s 43ms/step - loss: 0.2882 - binary_accuracy: 0.8750 - val_loss: 0.8154 - val_binary_accuracy: 0.5900\n",
            "Run:  2 / Accuracy on test ORIGINAL at epoch  15  is:  0.5899999737739563 \n",
            "\n",
            "200/200 [==============================] - 7s 34ms/step - loss: 0.2278 - binary_accuracy: 0.9250 - val_loss: 0.9119 - val_binary_accuracy: 0.5900\n",
            "Run:  2 / Accuracy on test ORIGINAL at epoch  16  is:  0.5899999737739563 \n",
            "\n",
            "200/200 [==============================] - 7s 37ms/step - loss: 0.1495 - binary_accuracy: 0.9400 - val_loss: 1.0174 - val_binary_accuracy: 0.6100\n",
            "Run:  2 / Accuracy on test ORIGINAL at epoch  17  is:  0.6100000143051147 \n",
            "\n",
            "200/200 [==============================] - 7s 34ms/step - loss: 0.1234 - binary_accuracy: 0.9600 - val_loss: 1.0262 - val_binary_accuracy: 0.6200\n",
            "Run:  2 / Accuracy on test ORIGINAL at epoch  18  is:  0.6200000047683716 \n",
            "\n",
            "200/200 [==============================] - 7s 35ms/step - loss: 0.0807 - binary_accuracy: 0.9750 - val_loss: 1.4399 - val_binary_accuracy: 0.6200\n",
            "Run:  2 / Accuracy on test ORIGINAL at epoch  19  is:  0.6200000047683716 \n",
            "\n",
            "Accuracies on ORIGINAL over epochs: [0.5, 0.5, 0.5, 0.5, 0.5, 0.5, 0.5, 0.5, 0.550000011920929, 0.5600000023841858, 0.6000000238418579, 0.5799999833106995, 0.5799999833106995, 0.5699999928474426, 0.5899999737739563, 0.5899999737739563, 0.5899999737739563, 0.6100000143051147, 0.6200000047683716, 0.6200000047683716] \n",
            "\n",
            "200/200 [==============================] - 31s 149ms/step - loss: 0.7061 - binary_accuracy: 0.4600 - val_loss: 0.6932 - val_binary_accuracy: 0.5000\n",
            "Run:  3 / Accuracy on test ORIGINAL at epoch  0  is:  0.5 \n",
            "\n",
            "200/200 [==============================] - 7s 34ms/step - loss: 0.6968 - binary_accuracy: 0.4400 - val_loss: 0.6932 - val_binary_accuracy: 0.5000\n",
            "Run:  3 / Accuracy on test ORIGINAL at epoch  1  is:  0.5 \n",
            "\n",
            "200/200 [==============================] - 7s 34ms/step - loss: 0.6956 - binary_accuracy: 0.3900 - val_loss: 0.6932 - val_binary_accuracy: 0.5000\n",
            "Run:  3 / Accuracy on test ORIGINAL at epoch  2  is:  0.5 \n",
            "\n",
            "200/200 [==============================] - 7s 34ms/step - loss: 0.6950 - binary_accuracy: 0.4450 - val_loss: 0.6932 - val_binary_accuracy: 0.5000\n",
            "Run:  3 / Accuracy on test ORIGINAL at epoch  3  is:  0.5 \n",
            "\n",
            "200/200 [==============================] - 7s 36ms/step - loss: 0.6949 - binary_accuracy: 0.4600 - val_loss: 0.6931 - val_binary_accuracy: 0.5800\n",
            "Run:  3 / Accuracy on test ORIGINAL at epoch  4  is:  0.5799999833106995 \n",
            "\n",
            "200/200 [==============================] - 8s 39ms/step - loss: 0.6945 - binary_accuracy: 0.4350 - val_loss: 0.6930 - val_binary_accuracy: 0.5000\n",
            "Run:  3 / Accuracy on test ORIGINAL at epoch  5  is:  0.5 \n",
            "\n",
            "200/200 [==============================] - 7s 37ms/step - loss: 0.6941 - binary_accuracy: 0.4350 - val_loss: 0.6919 - val_binary_accuracy: 0.5900\n",
            "Run:  3 / Accuracy on test ORIGINAL at epoch  6  is:  0.5899999737739563 \n",
            "\n",
            "200/200 [==============================] - 7s 33ms/step - loss: 0.6879 - binary_accuracy: 0.5200 - val_loss: 0.6845 - val_binary_accuracy: 0.5300\n",
            "Run:  3 / Accuracy on test ORIGINAL at epoch  7  is:  0.5299999713897705 \n",
            "\n",
            "200/200 [==============================] - 7s 37ms/step - loss: 0.6705 - binary_accuracy: 0.5600 - val_loss: 0.6867 - val_binary_accuracy: 0.5600\n",
            "Run:  3 / Accuracy on test ORIGINAL at epoch  8  is:  0.5600000023841858 \n",
            "\n",
            "200/200 [==============================] - 7s 33ms/step - loss: 0.6421 - binary_accuracy: 0.6050 - val_loss: 0.6877 - val_binary_accuracy: 0.6000\n",
            "Run:  3 / Accuracy on test ORIGINAL at epoch  9  is:  0.6000000238418579 \n",
            "\n",
            "200/200 [==============================] - 7s 36ms/step - loss: 0.5978 - binary_accuracy: 0.7050 - val_loss: 0.6835 - val_binary_accuracy: 0.6000\n",
            "Run:  3 / Accuracy on test ORIGINAL at epoch  10  is:  0.6000000238418579 \n",
            "\n",
            "200/200 [==============================] - 7s 37ms/step - loss: 0.5260 - binary_accuracy: 0.7900 - val_loss: 0.6545 - val_binary_accuracy: 0.6300\n",
            "Run:  3 / Accuracy on test ORIGINAL at epoch  11  is:  0.6299999952316284 \n",
            "\n",
            "200/200 [==============================] - 7s 37ms/step - loss: 0.4298 - binary_accuracy: 0.8350 - val_loss: 0.6777 - val_binary_accuracy: 0.5900\n",
            "Run:  3 / Accuracy on test ORIGINAL at epoch  12  is:  0.5899999737739563 \n",
            "\n",
            "200/200 [==============================] - 7s 33ms/step - loss: 0.3393 - binary_accuracy: 0.8450 - val_loss: 0.7204 - val_binary_accuracy: 0.5800\n",
            "Run:  3 / Accuracy on test ORIGINAL at epoch  13  is:  0.5799999833106995 \n",
            "\n",
            "200/200 [==============================] - 7s 37ms/step - loss: 0.2426 - binary_accuracy: 0.9000 - val_loss: 0.7810 - val_binary_accuracy: 0.5800\n",
            "Run:  3 / Accuracy on test ORIGINAL at epoch  14  is:  0.5799999833106995 \n",
            "\n",
            "200/200 [==============================] - 8s 38ms/step - loss: 0.1977 - binary_accuracy: 0.9150 - val_loss: 0.8684 - val_binary_accuracy: 0.6100\n",
            "Run:  3 / Accuracy on test ORIGINAL at epoch  15  is:  0.6100000143051147 \n",
            "\n",
            "200/200 [==============================] - 7s 34ms/step - loss: 0.1511 - binary_accuracy: 0.9350 - val_loss: 0.8511 - val_binary_accuracy: 0.5800\n",
            "Run:  3 / Accuracy on test ORIGINAL at epoch  16  is:  0.5799999833106995 \n",
            "\n",
            "200/200 [==============================] - 7s 34ms/step - loss: 0.0830 - binary_accuracy: 0.9750 - val_loss: 1.0103 - val_binary_accuracy: 0.6000\n",
            "Run:  3 / Accuracy on test ORIGINAL at epoch  17  is:  0.6000000238418579 \n",
            "\n",
            "200/200 [==============================] - 7s 37ms/step - loss: 0.0442 - binary_accuracy: 0.9900 - val_loss: 1.2519 - val_binary_accuracy: 0.6100\n",
            "Run:  3 / Accuracy on test ORIGINAL at epoch  18  is:  0.6100000143051147 \n",
            "\n",
            "200/200 [==============================] - 7s 34ms/step - loss: 0.0322 - binary_accuracy: 0.9800 - val_loss: 1.7827 - val_binary_accuracy: 0.6100\n",
            "Run:  3 / Accuracy on test ORIGINAL at epoch  19  is:  0.6100000143051147 \n",
            "\n",
            "Accuracies on ORIGINAL over epochs: [0.5, 0.5, 0.5, 0.5, 0.5799999833106995, 0.5, 0.5899999737739563, 0.5299999713897705, 0.5600000023841858, 0.6000000238418579, 0.6000000238418579, 0.6299999952316284, 0.5899999737739563, 0.5799999833106995, 0.5799999833106995, 0.6100000143051147, 0.5799999833106995, 0.6000000238418579, 0.6100000143051147, 0.6100000143051147] \n",
            "\n",
            "200/200 [==============================] - 31s 147ms/step - loss: 0.7058 - binary_accuracy: 0.4300 - val_loss: 0.6932 - val_binary_accuracy: 0.5000\n",
            "Run:  4 / Accuracy on test ORIGINAL at epoch  0  is:  0.5 \n",
            "\n",
            "200/200 [==============================] - 7s 33ms/step - loss: 0.6963 - binary_accuracy: 0.4250 - val_loss: 0.6932 - val_binary_accuracy: 0.5000\n",
            "Run:  4 / Accuracy on test ORIGINAL at epoch  1  is:  0.5 \n",
            "\n",
            "200/200 [==============================] - 7s 34ms/step - loss: 0.6953 - binary_accuracy: 0.4150 - val_loss: 0.6932 - val_binary_accuracy: 0.5000\n",
            "Run:  4 / Accuracy on test ORIGINAL at epoch  2  is:  0.5 \n",
            "\n",
            "200/200 [==============================] - 7s 34ms/step - loss: 0.6946 - binary_accuracy: 0.4550 - val_loss: 0.6932 - val_binary_accuracy: 0.5000\n",
            "Run:  4 / Accuracy on test ORIGINAL at epoch  3  is:  0.5 \n",
            "\n",
            "200/200 [==============================] - 7s 36ms/step - loss: 0.6949 - binary_accuracy: 0.4200 - val_loss: 0.6931 - val_binary_accuracy: 0.5000\n",
            "Run:  4 / Accuracy on test ORIGINAL at epoch  4  is:  0.5 \n",
            "\n",
            "200/200 [==============================] - 7s 33ms/step - loss: 0.6945 - binary_accuracy: 0.4300 - val_loss: 0.6931 - val_binary_accuracy: 0.5000\n",
            "Run:  4 / Accuracy on test ORIGINAL at epoch  5  is:  0.5 \n",
            "\n",
            "200/200 [==============================] - 7s 37ms/step - loss: 0.6943 - binary_accuracy: 0.4600 - val_loss: 0.6928 - val_binary_accuracy: 0.5000\n",
            "Run:  4 / Accuracy on test ORIGINAL at epoch  6  is:  0.5 \n",
            "\n",
            "200/200 [==============================] - 8s 38ms/step - loss: 0.6918 - binary_accuracy: 0.5250 - val_loss: 0.6883 - val_binary_accuracy: 0.5000\n",
            "Run:  4 / Accuracy on test ORIGINAL at epoch  7  is:  0.5 \n",
            "\n",
            "200/200 [==============================] - 7s 37ms/step - loss: 0.6808 - binary_accuracy: 0.5100 - val_loss: 0.6833 - val_binary_accuracy: 0.5400\n",
            "Run:  4 / Accuracy on test ORIGINAL at epoch  8  is:  0.5400000214576721 \n",
            "\n",
            "200/200 [==============================] - 7s 34ms/step - loss: 0.6576 - binary_accuracy: 0.5950 - val_loss: 0.6900 - val_binary_accuracy: 0.5800\n",
            "Run:  4 / Accuracy on test ORIGINAL at epoch  9  is:  0.5799999833106995 \n",
            "\n",
            "200/200 [==============================] - 7s 34ms/step - loss: 0.6194 - binary_accuracy: 0.6800 - val_loss: 0.6825 - val_binary_accuracy: 0.5900\n",
            "Run:  4 / Accuracy on test ORIGINAL at epoch  10  is:  0.5899999737739563 \n",
            "\n",
            "200/200 [==============================] - 7s 34ms/step - loss: 0.5720 - binary_accuracy: 0.7500 - val_loss: 0.6697 - val_binary_accuracy: 0.6100\n",
            "Run:  4 / Accuracy on test ORIGINAL at epoch  11  is:  0.6100000143051147 \n",
            "\n",
            "200/200 [==============================] - 7s 37ms/step - loss: 0.4951 - binary_accuracy: 0.7950 - val_loss: 0.6498 - val_binary_accuracy: 0.6200\n",
            "Run:  4 / Accuracy on test ORIGINAL at epoch  12  is:  0.6200000047683716 \n",
            "\n",
            "200/200 [==============================] - 7s 33ms/step - loss: 0.3902 - binary_accuracy: 0.8350 - val_loss: 0.7110 - val_binary_accuracy: 0.6100\n",
            "Run:  4 / Accuracy on test ORIGINAL at epoch  13  is:  0.6100000143051147 \n",
            "\n",
            "200/200 [==============================] - 7s 37ms/step - loss: 0.3017 - binary_accuracy: 0.8500 - val_loss: 0.7529 - val_binary_accuracy: 0.6000\n",
            "Run:  4 / Accuracy on test ORIGINAL at epoch  14  is:  0.6000000238418579 \n",
            "\n",
            "200/200 [==============================] - 7s 37ms/step - loss: 0.2251 - binary_accuracy: 0.9000 - val_loss: 0.8412 - val_binary_accuracy: 0.5900\n",
            "Run:  4 / Accuracy on test ORIGINAL at epoch  15  is:  0.5899999737739563 \n",
            "\n",
            "200/200 [==============================] - 8s 37ms/step - loss: 0.1805 - binary_accuracy: 0.9050 - val_loss: 0.8076 - val_binary_accuracy: 0.6000\n",
            "Run:  4 / Accuracy on test ORIGINAL at epoch  16  is:  0.6000000238418579 \n",
            "\n",
            "200/200 [==============================] - 7s 36ms/step - loss: 0.1141 - binary_accuracy: 0.9550 - val_loss: 1.0408 - val_binary_accuracy: 0.6200\n",
            "Run:  4 / Accuracy on test ORIGINAL at epoch  17  is:  0.6200000047683716 \n",
            "\n",
            "200/200 [==============================] - 7s 36ms/step - loss: 0.0497 - binary_accuracy: 0.9900 - val_loss: 1.0606 - val_binary_accuracy: 0.6200\n",
            "Run:  4 / Accuracy on test ORIGINAL at epoch  18  is:  0.6200000047683716 \n",
            "\n",
            "200/200 [==============================] - 8s 37ms/step - loss: 0.0217 - binary_accuracy: 0.9950 - val_loss: 1.2362 - val_binary_accuracy: 0.6200\n",
            "Run:  4 / Accuracy on test ORIGINAL at epoch  19  is:  0.6200000047683716 \n",
            "\n",
            "Accuracies on ORIGINAL over epochs: [0.5, 0.5, 0.5, 0.5, 0.5, 0.5, 0.5, 0.5, 0.5400000214576721, 0.5799999833106995, 0.5899999737739563, 0.6100000143051147, 0.6200000047683716, 0.6100000143051147, 0.6000000238418579, 0.5899999737739563, 0.6000000238418579, 0.6200000047683716, 0.6200000047683716, 0.6200000047683716] \n",
            "\n",
            "200/200 [==============================] - 32s 151ms/step - loss: 0.7055 - binary_accuracy: 0.4350 - val_loss: 0.6932 - val_binary_accuracy: 0.5000\n",
            "Run:  5 / Accuracy on test ORIGINAL at epoch  0  is:  0.5 \n",
            "\n",
            "200/200 [==============================] - 7s 35ms/step - loss: 0.6963 - binary_accuracy: 0.3850 - val_loss: 0.6932 - val_binary_accuracy: 0.5000\n",
            "Run:  5 / Accuracy on test ORIGINAL at epoch  1  is:  0.5 \n",
            "\n",
            "200/200 [==============================] - 8s 38ms/step - loss: 0.6948 - binary_accuracy: 0.4300 - val_loss: 0.6931 - val_binary_accuracy: 0.5000\n",
            "Run:  5 / Accuracy on test ORIGINAL at epoch  2  is:  0.5 \n",
            "\n",
            "200/200 [==============================] - 7s 34ms/step - loss: 0.6946 - binary_accuracy: 0.4300 - val_loss: 0.6931 - val_binary_accuracy: 0.5000\n",
            "Run:  5 / Accuracy on test ORIGINAL at epoch  3  is:  0.5 \n",
            "\n",
            "200/200 [==============================] - 7s 37ms/step - loss: 0.6944 - binary_accuracy: 0.4700 - val_loss: 0.6931 - val_binary_accuracy: 0.5000\n",
            "Run:  5 / Accuracy on test ORIGINAL at epoch  4  is:  0.5 \n",
            "\n",
            "200/200 [==============================] - 8s 38ms/step - loss: 0.6941 - binary_accuracy: 0.4900 - val_loss: 0.6930 - val_binary_accuracy: 0.5000\n",
            "Run:  5 / Accuracy on test ORIGINAL at epoch  5  is:  0.5 \n",
            "\n",
            "200/200 [==============================] - 7s 37ms/step - loss: 0.6943 - binary_accuracy: 0.4650 - val_loss: 0.6920 - val_binary_accuracy: 0.5000\n",
            "Run:  5 / Accuracy on test ORIGINAL at epoch  6  is:  0.5 \n",
            "\n",
            "200/200 [==============================] - 7s 34ms/step - loss: 0.6894 - binary_accuracy: 0.5250 - val_loss: 0.6855 - val_binary_accuracy: 0.5300\n",
            "Run:  5 / Accuracy on test ORIGINAL at epoch  7  is:  0.5299999713897705 \n",
            "\n",
            "200/200 [==============================] - 7s 34ms/step - loss: 0.6736 - binary_accuracy: 0.5350 - val_loss: 0.6872 - val_binary_accuracy: 0.5600\n",
            "Run:  5 / Accuracy on test ORIGINAL at epoch  8  is:  0.5600000023841858 \n",
            "\n",
            "200/200 [==============================] - 7s 36ms/step - loss: 0.6445 - binary_accuracy: 0.5950 - val_loss: 0.6968 - val_binary_accuracy: 0.5800\n",
            "Run:  5 / Accuracy on test ORIGINAL at epoch  9  is:  0.5799999833106995 \n",
            "\n",
            "200/200 [==============================] - 7s 36ms/step - loss: 0.6045 - binary_accuracy: 0.6800 - val_loss: 0.6933 - val_binary_accuracy: 0.6000\n",
            "Run:  5 / Accuracy on test ORIGINAL at epoch  10  is:  0.6000000238418579 \n",
            "\n",
            "200/200 [==============================] - 7s 33ms/step - loss: 0.5461 - binary_accuracy: 0.7500 - val_loss: 0.6585 - val_binary_accuracy: 0.5900\n",
            "Run:  5 / Accuracy on test ORIGINAL at epoch  11  is:  0.5899999737739563 \n",
            "\n",
            "200/200 [==============================] - 7s 35ms/step - loss: 0.4595 - binary_accuracy: 0.8100 - val_loss: 0.6632 - val_binary_accuracy: 0.6000\n",
            "Run:  5 / Accuracy on test ORIGINAL at epoch  12  is:  0.6000000238418579 \n",
            "\n",
            "200/200 [==============================] - 7s 37ms/step - loss: 0.3462 - binary_accuracy: 0.8350 - val_loss: 0.7393 - val_binary_accuracy: 0.5900\n",
            "Run:  5 / Accuracy on test ORIGINAL at epoch  13  is:  0.5899999737739563 \n",
            "\n",
            "200/200 [==============================] - 8s 37ms/step - loss: 0.2704 - binary_accuracy: 0.8850 - val_loss: 0.7621 - val_binary_accuracy: 0.6000\n",
            "Run:  5 / Accuracy on test ORIGINAL at epoch  14  is:  0.6000000238418579 \n",
            "\n",
            "200/200 [==============================] - 7s 34ms/step - loss: 0.1914 - binary_accuracy: 0.9200 - val_loss: 0.8569 - val_binary_accuracy: 0.5900\n",
            "Run:  5 / Accuracy on test ORIGINAL at epoch  15  is:  0.5899999737739563 \n",
            "\n",
            "200/200 [==============================] - 7s 37ms/step - loss: 0.1313 - binary_accuracy: 0.9550 - val_loss: 0.8834 - val_binary_accuracy: 0.6200\n",
            "Run:  5 / Accuracy on test ORIGINAL at epoch  16  is:  0.6200000047683716 \n",
            "\n",
            "200/200 [==============================] - 7s 37ms/step - loss: 0.0764 - binary_accuracy: 0.9700 - val_loss: 1.0249 - val_binary_accuracy: 0.6000\n",
            "Run:  5 / Accuracy on test ORIGINAL at epoch  17  is:  0.6000000238418579 \n",
            "\n",
            "200/200 [==============================] - 7s 35ms/step - loss: 0.0334 - binary_accuracy: 0.9950 - val_loss: 1.0567 - val_binary_accuracy: 0.6400\n",
            "Run:  5 / Accuracy on test ORIGINAL at epoch  18  is:  0.6399999856948853 \n",
            "\n",
            "200/200 [==============================] - 7s 37ms/step - loss: 0.0247 - binary_accuracy: 0.9950 - val_loss: 1.2221 - val_binary_accuracy: 0.6700\n",
            "Run:  5 / Accuracy on test ORIGINAL at epoch  19  is:  0.6700000166893005 \n",
            "\n",
            "Accuracies on ORIGINAL over epochs: [0.5, 0.5, 0.5, 0.5, 0.5, 0.5, 0.5, 0.5299999713897705, 0.5600000023841858, 0.5799999833106995, 0.6000000238418579, 0.5899999737739563, 0.6000000238418579, 0.5899999737739563, 0.6000000238418579, 0.5899999737739563, 0.6200000047683716, 0.6000000238418579, 0.6399999856948853, 0.6700000166893005] \n",
            "\n",
            "\n",
            "\n",
            " Over all runs maximum accuracies on ORIGINAL test set are: [0.6100000143051147, 0.6200000047683716, 0.6200000047683716, 0.6299999952316284, 0.6700000166893005]\n",
            "The median for English is: 0.6200000047683716 \n",
            "\n",
            "\n",
            "\n",
            "CNN Accuracy Score on Original Test set ->  0.6200000047683716 +/- 0.050000011920928955\n"
          ]
        }
      ],
      "source": [
        "tf.random.set_seed(1)\n",
        "\n",
        "runs_accuracy = []\n",
        "\n",
        "for run in range(1,(num_runs+1)):\n",
        "    epochs_accuracy = []\n",
        "    model = tf.keras.Sequential([\n",
        "                                    tf.keras.Input(shape=(1,), dtype=tf.string),\n",
        "                                    vectorize_layer,\n",
        "                                    layers.Embedding(max_features + 1, embedding_dim),                     \n",
        "                                    layers.Dropout(0.8),\n",
        "\n",
        "                                    layers.Conv1D(256,16,activation='relu'),\n",
        "                                    layers.MaxPooling1D(),\n",
        "                                    layers.Dropout(0.6),\n",
        "\n",
        "                                    layers.Dense(512,activation='relu'),\n",
        "                           \n",
        "                                    layers.GlobalAveragePooling1D(),\n",
        "                                    layers.Dropout(0.2),\n",
        "                                    layers.Dense(1)                            \n",
        "    ])\n",
        "    model.compile(loss=losses.BinaryCrossentropy(from_logits=True), optimizer='RMSprop', metrics=tf.metrics.BinaryAccuracy(threshold=0.0)) \n",
        "\n",
        "    for epoch in range (0,num_epochs_per_run):\n",
        "        history = model.fit(\n",
        "          train_ds,\n",
        "          validation_data = test_ds,\n",
        "          epochs=1,\n",
        "          shuffle=False,\n",
        "          # Comment the following line to do not save and download the model.\n",
        "          #callbacks=[callbacks]\n",
        "          )\n",
        "        accuracy = history.history['val_binary_accuracy']\n",
        "        print(\"Run: \",run,\"/ Accuracy on test ORIGINAL at epoch \",epoch,\" is: \", accuracy[0],\"\\n\")\n",
        "        epochs_accuracy.append(accuracy[0])\n",
        "\n",
        "    print(\"Accuracies on ORIGINAL over epochs:\",epochs_accuracy,\"\\n\")\n",
        "    runs_accuracy.append(max(epochs_accuracy))\n",
        "\n",
        "runs_accuracy.sort()\n",
        "print(\"\\n\\n Over all runs maximum accuracies on ORIGINAL test set are:\", runs_accuracy)\n",
        "print(\"The median for English is:\",runs_accuracy[2],\"\\n\\n\\n\")\n",
        "  \n",
        "\n",
        "# Final Result on Original Test set\n",
        "if (runs_accuracy[2]-runs_accuracy[0])>(runs_accuracy[4]-runs_accuracy[2]):\n",
        "  max_range_from_median = runs_accuracy[2]-runs_accuracy[0]\n",
        "else:\n",
        "  max_range_from_median = runs_accuracy[4]-runs_accuracy[2]\n",
        "final_result = str(runs_accuracy[2])+\" +/- \"+ str(max_range_from_median)\n",
        "print(\"CNN Accuracy Score on Original Test set -> \",final_result)\n"
      ]
    }
  ],
  "metadata": {
    "accelerator": "GPU",
    "colab": {
      "provenance": [],
      "include_colab_link": true
    },
    "kernelspec": {
      "display_name": "Python 3",
      "name": "python3"
    },
    "gpuClass": "standard"
  },
  "nbformat": 4,
  "nbformat_minor": 0
}
