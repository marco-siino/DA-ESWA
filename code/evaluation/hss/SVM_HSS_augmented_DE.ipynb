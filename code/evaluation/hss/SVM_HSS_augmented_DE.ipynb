{
  "nbformat": 4,
  "nbformat_minor": 0,
  "metadata": {
    "accelerator": "TPU",
    "colab": {
      "provenance": [],
      "include_colab_link": true
    },
    "kernelspec": {
      "display_name": "Python 3",
      "name": "python3"
    }
  },
  "cells": [
    {
      "cell_type": "markdown",
      "metadata": {
        "id": "view-in-github",
        "colab_type": "text"
      },
      "source": [
        "<a href=\"https://colab.research.google.com/github/marco-siino/DA-ESWA/blob/main/code/evaluation/hss/SVM_HSS_augmented_DE.ipynb\" target=\"_parent\"><img src=\"https://colab.research.google.com/assets/colab-badge.svg\" alt=\"Open In Colab\"/></a>"
      ]
    },
    {
      "cell_type": "markdown",
      "metadata": {
        "id": "u-hLo5ufkCT1"
      },
      "source": [
        "## Investigating text data augmentation using back translation for author profiling\n",
        "- - - \n",
        "SVM ON HSS DS EXPERIMENTS NOTEBOOK \n",
        "- - -\n",
        "SVM on HAte Speech Spreaders Dataset augmented with DE backtranslation.\n",
        "Code by M. Siino. \n",
        "\n",
        "From the paper: \"Investigating text data augmentation using back translation for author profiling\" by M.Siino et al."
      ]
    },
    {
      "cell_type": "markdown",
      "metadata": {
        "id": "6IBqUcj4cx2G"
      },
      "source": [
        "## Importing modules."
      ]
    },
    {
      "cell_type": "code",
      "metadata": {
        "id": "AQSunQ-ucjLX"
      },
      "source": [
        "import matplotlib.pyplot as plt\n",
        "import os\n",
        "import random\n",
        "import re\n",
        "import shutil\n",
        "import string\n",
        "import tensorflow as tf\n",
        "\n",
        "from tensorflow.keras import layers\n",
        "from tensorflow.keras import losses\n",
        "from tensorflow.keras import preprocessing\n",
        "from tensorflow.keras.layers.experimental.preprocessing import TextVectorization\n",
        "from google.colab import files\n",
        "from io import open\n",
        "from numpy.random import seed\n",
        "import numpy as np\n",
        "from pathlib import Path\n",
        "from sklearn import svm\n",
        "\n",
        "os.environ['TF_CUDNN_DETERMINISTIC']='true'\n",
        "os.environ['TF_DETERMINISTIC_OPS']='true'"
      ],
      "execution_count": null,
      "outputs": []
    },
    {
      "cell_type": "markdown",
      "metadata": {
        "id": "0QHd_fxmHCfa"
      },
      "source": [
        "## Importing DS and extract in current working directory."
      ]
    },
    {
      "cell_type": "code",
      "metadata": {
        "colab": {
          "base_uri": "https://localhost:8080/"
        },
        "id": "ocYMUXaY8r0_",
        "outputId": "98d9aaf9-8d2c-49cd-d900-02984eb7172c"
      },
      "source": [
        "# Url obtained starting from this: https://drive.google.com/file/d/19ZcqEv88euKB71HfAWjTGN3uCKp2qsfP/ and forcing export=download.\n",
        "urlTrainingSet = \"https://github.com/marco-siino/DA-ESWA/raw/main/data/hss/hss-training-augmented-de.zip\"\n",
        "urlTestSet=\"https://github.com/marco-siino/DA-ESWA/raw/main/data/hss/hss-test-augmented-de.zip\"\n",
        "\n",
        "training_set = tf.keras.utils.get_file(\"pan21-author-profiling-training-2021-03-14-augmented.zip\", urlTrainingSet,\n",
        "                                    extract=True, archive_format='zip',cache_dir='.',\n",
        "                                    cache_subdir='')\n",
        "test_set = tf.keras.utils.get_file(\"pan21-author-profiling-test-without-gold-augmented.zip\", urlTestSet,\n",
        "                                    extract=True, archive_format='zip',cache_dir='.',\n",
        "                                    cache_subdir='')\n",
        "\n",
        "training_set_dir = os.path.join(os.path.dirname(training_set), 'pan21-author-profiling-training-2021-03-14-augmented')\n",
        "test_set_dir = os.path.join(os.path.dirname(test_set), 'pan21-author-profiling-test-without-gold-augmented')\n",
        "\n",
        "print(training_set)\n",
        "print(training_set_dir)\n",
        "\n",
        "!ls -A"
      ],
      "execution_count": null,
      "outputs": [
        {
          "output_type": "stream",
          "name": "stdout",
          "text": [
            "Downloading data from https://github.com/marco-siino/DA-ESWA/raw/main/data/hss/hss-training-augmented-de.zip\n",
            "1891842/1891842 [==============================] - 0s 0us/step\n",
            "Downloading data from https://github.com/marco-siino/DA-ESWA/raw/main/data/hss/hss-test-augmented-de.zip\n",
            "1000245/1000245 [==============================] - 0s 0us/step\n",
            "./pan21-author-profiling-training-2021-03-14-augmented.zip\n",
            "./pan21-author-profiling-training-2021-03-14-augmented\n",
            ".config\n",
            "hss-training-augmented-de\n",
            "pan21-author-profiling-test-without-gold-augmented\n",
            "pan21-author-profiling-test-without-gold-augmented.zip\n",
            "pan21-author-profiling-training-2021-03-14-augmented.zip\n",
            "sample_data\n"
          ]
        }
      ]
    },
    {
      "cell_type": "markdown",
      "metadata": {
        "id": "Di7jOZjALo4X"
      },
      "source": [
        "## Build folders hierarchy to use Keras folders preprocessing function."
      ]
    },
    {
      "cell_type": "code",
      "metadata": {
        "colab": {
          "base_uri": "https://localhost:8080/"
        },
        "id": "-ucATWhfGSGf",
        "outputId": "562c0490-dd58-4460-a81c-d5c3ef38808a"
      },
      "source": [
        "### Training Folders. ###\n",
        "\n",
        "# First level directory.\n",
        "if not os.path.exists('train_dir_en'):\n",
        "    os.makedirs('train_dir_en')\n",
        "\n",
        "# Class labels directory.\n",
        "if not os.path.exists('train_dir_en/0'):\n",
        "    os.makedirs('train_dir_en/0')\n",
        "if not os.path.exists('train_dir_en/1'):\n",
        "    os.makedirs('train_dir_en/1')\n",
        "\n",
        "# Make Py variables.\n",
        "train_dir='train_dir_'\n",
        "\n",
        "## Test Folders. ##\n",
        "# First level directory.\n",
        "if not os.path.exists('test_dir_en'):\n",
        "    os.makedirs('test_dir_en')\n",
        "\n",
        "# Class labels directory.\n",
        "if not os.path.exists('test_dir_en/0'):\n",
        "    os.makedirs('test_dir_en/0')\n",
        "if not os.path.exists('test_dir_en/1'):\n",
        "    os.makedirs('test_dir_en/1')\n",
        "\n",
        "# Make Py variables.\n",
        "test_dir='test_dir_'\n",
        "\n",
        "!ls -A"
      ],
      "execution_count": null,
      "outputs": [
        {
          "output_type": "stream",
          "name": "stdout",
          "text": [
            ".config\n",
            "hss-training-augmented-de\n",
            "pan21-author-profiling-test-without-gold-augmented\n",
            "pan21-author-profiling-test-without-gold-augmented.zip\n",
            "pan21-author-profiling-training-2021-03-14-augmented.zip\n",
            "sample_data\n",
            "test_dir_en\n",
            "train_dir_en\n"
          ]
        }
      ]
    },
    {
      "cell_type": "markdown",
      "metadata": {
        "id": "tNib56hF_8an"
      },
      "source": [
        "## Set language and directory paths.\n"
      ]
    },
    {
      "cell_type": "code",
      "metadata": {
        "id": "Rq0EgZuf_5tv",
        "colab": {
          "base_uri": "https://localhost:8080/"
        },
        "outputId": "bfafa61e-fd3e-4cca-f076-05e47eb4ec53"
      },
      "source": [
        "# Set en and es ground truth file path for train_dir. We haven't a ground truth file for the test set.\n",
        "language='en'\n",
        "\n",
        "truth_file_training_dir_en=training_set_dir +'/'\n",
        "truth_file_training_path_en = truth_file_training_dir_en+'truth.txt'\n",
        "print('truth_file_training_dir_en',truth_file_training_dir_en)\n",
        "print('truth_file_training_path_en', truth_file_training_path_en)\n",
        "truth_file_test_dir=test_set_dir\n",
        "truth_file_test_path_en = truth_file_test_dir+'/'+'truth'+'.txt'\n",
        "print('truth_file_test_dir', truth_file_test_dir)\n",
        "print('truth_file_test_path_en', truth_file_test_path_en)"
      ],
      "execution_count": null,
      "outputs": [
        {
          "output_type": "stream",
          "name": "stdout",
          "text": [
            "truth_file_training_dir_en ./pan21-author-profiling-training-2021-03-14-augmented/\n",
            "truth_file_training_path_en ./pan21-author-profiling-training-2021-03-14-augmented/truth.txt\n",
            "truth_file_test_dir ./pan21-author-profiling-test-without-gold-augmented\n",
            "truth_file_test_path_en ./pan21-author-profiling-test-without-gold-augmented/truth.txt\n"
          ]
        }
      ]
    },
    {
      "cell_type": "markdown",
      "metadata": {
        "id": "7VQKsc4XOpD8"
      },
      "source": [
        "## Read truth.txt to organize training and test dataset folders.\n",
        "\n"
      ]
    },
    {
      "cell_type": "code",
      "metadata": {
        "id": "4kxcJ92-Nkto"
      },
      "source": [
        "# Open the file truth.txt with read only permit.\n",
        "f = open(truth_file_training_path_en, \"r\")\n",
        "# use readline() to read the first line \n",
        "line = f.readline()\n",
        "# use the read line to read further.\n",
        "# If the file is not empty keep reading one line\n",
        "# at a time, till the file is empty\n",
        "while line:\n",
        "    # Split line at :::\n",
        "    x = line.split(\":::\")\n",
        "    fNameXml = x[0]+'.xml'\n",
        "    fNameTxt = x[0]+'.txt'\n",
        "    # Second coord [0] gets just the first character (label) and not /n too.\n",
        "    label = x[1][0]\n",
        "\n",
        "    # Now move the file to the right folder.\n",
        "    if os.path.exists(truth_file_training_dir_en+'/' +language+ '/' + fNameXml):\n",
        "      os.rename(truth_file_training_dir_en +'/' +language+'/' +fNameXml, './train_dir_'+language+'/'+label+'/'+fNameTxt )\n",
        "\n",
        "    # use readline() to read next line\n",
        "    line = f.readline()\n",
        "\n",
        "# Open the file truth.txt with read only permit.\n",
        "f = open(truth_file_test_path_en, \"r\")\n",
        "# use readline() to read the first line \n",
        "line = f.readline()\n",
        "# use the read line to read further.\n",
        "# If the file is not empty keep reading one line\n",
        "# at a time, till the file is empty\n",
        "while line:\n",
        "    # Split line at :::\n",
        "    x = line.split(\":::\")\n",
        "    fNameXml = x[0]+'.xml'\n",
        "    fNameTxt = x[0]+'.txt'\n",
        "    # Second coord [0] gets just the first character (label) and not /n too.\n",
        "    label = x[1][0]\n",
        "\n",
        "    # Now move the file to the right folder.\n",
        "    if os.path.exists(truth_file_test_dir+'/'+language+'/'+fNameXml):\n",
        "      os.rename(truth_file_test_dir+'/'+language+'/'+fNameXml, './test_dir_'+language+'/'+label+'/'+fNameTxt )\n",
        "\n",
        "    # use readline() to read next line\n",
        "    line = f.readline()"
      ],
      "execution_count": null,
      "outputs": []
    },
    {
      "cell_type": "markdown",
      "metadata": {
        "id": "uTJi1fbT_Rup"
      },
      "source": [
        "## Generate full training set.\n",
        "\n"
      ]
    },
    {
      "cell_type": "code",
      "metadata": {
        "colab": {
          "base_uri": "https://localhost:8080/"
        },
        "id": "FyafvXEMhEKw",
        "outputId": "3e55d7cd-dd7e-4c48-82e0-798c9f5869d9"
      },
      "source": [
        "# Generate full randomized training set.\n",
        "batch_size=1\n",
        "\n",
        "en_train_ds = tf.keras.preprocessing.text_dataset_from_directory(\n",
        "    train_dir+language, \n",
        "    batch_size=batch_size,\n",
        "    shuffle=False\n",
        "    )\n",
        "\n",
        "en_test_ds = tf.keras.preprocessing.text_dataset_from_directory(\n",
        "    test_dir+language, \n",
        "    batch_size=batch_size,\n",
        "    shuffle=False\n",
        "    )\n",
        "\n",
        "train_ds=en_train_ds.shuffle(300,seed=1, reshuffle_each_iteration=False)\n",
        "test_ds=en_test_ds.shuffle(200,seed=1, reshuffle_each_iteration=False)\n",
        "\n",
        "train_ds_size=len(train_ds)\n",
        "test_ds_size=len(test_ds)"
      ],
      "execution_count": null,
      "outputs": [
        {
          "output_type": "stream",
          "name": "stdout",
          "text": [
            "Found 200 files belonging to 2 classes.\n",
            "Found 100 files belonging to 2 classes.\n"
          ]
        }
      ]
    },
    {
      "cell_type": "markdown",
      "metadata": {
        "id": "ITouXXtQ8WzV"
      },
      "source": [
        "## Functions to pre-process source text. (A detailed discussion on our paper)"
      ]
    },
    {
      "cell_type": "code",
      "metadata": {
        "id": "bDPIqAgXYWim"
      },
      "source": [
        "# Do-Nothing preprocessing function.\n",
        "def DON(input_data):\n",
        "  tag_open_CDATA_removed = tf.strings.regex_replace(input_data, '<\\!\\[CDATA\\[', ' ')\n",
        "  tag_closed_CDATA_removed = tf.strings.regex_replace(tag_open_CDATA_removed,'\\]{1,}>', ' ')\n",
        "  tag_author_lang_en_removed = tf.strings.regex_replace(tag_closed_CDATA_removed,'<author lang=\"en\">', ' ')\n",
        "  tag_closed_author_removed = tf.strings.regex_replace(tag_author_lang_en_removed,'</author>', ' ')\n",
        "  tag_open_documents_removed = tf.strings.regex_replace(tag_closed_author_removed,'<documents>\\n(\\t){0,2}', '')\n",
        "  output_data = tf.strings.regex_replace(tag_open_documents_removed,'</documents>\\n(\\t){0,2}', ' ')\n",
        "  return output_data"
      ],
      "execution_count": null,
      "outputs": []
    },
    {
      "cell_type": "markdown",
      "metadata": {
        "id": "TjUnE9_DEyCw"
      },
      "source": [
        "## Get the length of the longest sample in training set. Then adapt text.\n",
        "\n"
      ]
    },
    {
      "cell_type": "code",
      "metadata": {
        "id": "ebRMQqa_mr48"
      },
      "source": [
        "def preprocess_and_adapt_ts(preprocessing_function,training_set):\n",
        "  # Set a very large sequence length to find the longest sample in the training set.\n",
        "  sequence_length = 30000\n",
        "  vectorize_layer = TextVectorization(\n",
        "      standardize=preprocessing_function,\n",
        "      output_mode='int',\n",
        "      output_sequence_length=sequence_length)\n",
        "\n",
        "  train_text = training_set.map(lambda x, y: x)\n",
        "  vectorize_layer.adapt(train_text)\n",
        "  #vectorize_layer.get_vocabulary()\n",
        "\n",
        "  model = tf.keras.models.Sequential()\n",
        "  model.add(tf.keras.Input(shape=(1,), dtype=tf.string))\n",
        "  model.add(vectorize_layer)\n",
        "\n",
        "  longest_sample_length=1\n",
        "\n",
        "  for element in training_set:\n",
        "    authorDocument=element[0]\n",
        "    label=element[1]\n",
        "    \n",
        "    #print(\"Sample considered is: \", authorDocument[0].numpy())\n",
        "    #print(\"Preprocessed: \", str(custom_standardization(authorDocument[0].numpy())))\n",
        "    #print(\"And has label: \", label[0].numpy())\n",
        "\n",
        "    # Count the number of zeros from the last non-zero token to the end of the sample. \n",
        "    # Shortest tokenized sample has less zeros than others.\n",
        "    out=model(authorDocument)\n",
        "    token_nr_index=sequence_length-1\n",
        "    current_sample_zeros_counter=0\n",
        "    while out.numpy()[0][token_nr_index]==0:\n",
        "      token_nr_index-=1\n",
        "      current_sample_zeros_counter+=1\n",
        "\n",
        "    shortest_padding_length=sequence_length-longest_sample_length\n",
        "    if current_sample_zeros_counter<shortest_padding_length:\n",
        "      longest_sample_length=sequence_length-current_sample_zeros_counter\n",
        "\n",
        "  #print(out.numpy()[0][3229:3400])\n",
        "  #print(longest_sample_length)\n",
        "\n",
        "  # After tokenization longest_sample_length covers all the document lenghts in our dataset.\n",
        "  sequence_length = longest_sample_length\n",
        "\n",
        "  vectorize_layer = TextVectorization(\n",
        "      standardize=preprocessing_function,\n",
        "      output_mode='int',\n",
        "      output_sequence_length=sequence_length)\n",
        "\n",
        "  # Finally adapt the vectorize layer.\n",
        "  train_text = training_set.map(lambda x, y: x)\n",
        "  vectorize_layer.adapt(train_text)\n",
        "  return vectorize_layer"
      ],
      "execution_count": null,
      "outputs": []
    },
    {
      "cell_type": "markdown",
      "metadata": {
        "id": "x8zDXrk9eEy5"
      },
      "source": [
        "## Define a dictionary with -> function_names:prepro_function_caller. And a dictionary to store model results.\n",
        "\n",
        "\n"
      ]
    },
    {
      "cell_type": "code",
      "metadata": {
        "colab": {
          "base_uri": "https://localhost:8080/"
        },
        "id": "P8owxNMIeFsX",
        "outputId": "8c5aa2a3-3429-4d98-e046-dffb997c1457"
      },
      "source": [
        "model_results = {}\n",
        "prepro_functions_dict_base = {\n",
        "    'DON':DON,\n",
        "    }\n",
        "\n",
        "# 3 prepro functions = 15 combs...+1 for do_nothing\n",
        "\n",
        "prepro_functions_dict_comb = {\n",
        "    # 1. Do nothing \n",
        "    'DON': DON,\n",
        "}\n",
        "\n",
        "for key in prepro_functions_dict_comb:\n",
        "  print(key)\n",
        "  model_results[key]=[]"
      ],
      "execution_count": null,
      "outputs": [
        {
          "output_type": "stream",
          "name": "stdout",
          "text": [
            "DON\n"
          ]
        }
      ]
    },
    {
      "cell_type": "markdown",
      "metadata": {
        "id": "XDEi7MAo4qsQ"
      },
      "source": [
        "## Models definition and evaluation.\n",
        "\n",
        "\n"
      ]
    },
    {
      "cell_type": "code",
      "metadata": {
        "colab": {
          "base_uri": "https://localhost:8080/"
        },
        "id": "Mm1fdCpETWL-",
        "outputId": "b11f8eb2-0fa4-4b6e-976d-72f08166628a"
      },
      "source": [
        "for key in prepro_functions_dict_comb:\n",
        "    print(\"\\n\\n* * * * EVALUATION USING\", key, \"AS PREPROCESSING FUNCTION * * * *\")\n",
        "\n",
        "    # Preprocess training set to build a dictionary.\n",
        "    vectorize_layer = preprocess_and_adapt_ts(prepro_functions_dict_comb[key],train_ds)\n",
        "\n",
        "    print(\"\\n\\n***** FINITO DI PROCESSARE E ADATTARE IL TRAINING SET, INIZIA LA SIMULAZIONE *******\")\n",
        "    # Print a raw and a preprocessed sample.\n",
        "    for element in train_ds:\n",
        "      authorDocument=element[0]\n",
        "      label=element[1]\n",
        "      \n",
        "      print(\"Sample considered is: \", authorDocument[0])\n",
        "      print(\"Preprocessed: \", str(prepro_functions_dict_comb[key](authorDocument[0].numpy())))\n",
        "      break\n",
        "    \n",
        "    # # # - - - - - MODELS DEFINITION AND EVALUATION - - - - - # # #\n",
        "\n",
        "    model = tf.keras.models.Sequential()\n",
        "    model.add(tf.keras.Input(shape=(1,), dtype=tf.string))\n",
        "    model.add(vectorize_layer)\n",
        "    \n",
        "    # # # # # # # # # # # # # # # # # # # # # # # # # # # # # # # # # # # \n",
        "\n",
        "    # --- SVM SECTION START --- #\n",
        "\n",
        "    training_labels=[]\n",
        "    training_samples=[]\n",
        "\n",
        "    max_features=len(vectorize_layer.get_vocabulary()) + 1\n",
        "\n",
        "    for element in train_ds:\n",
        "      authorDocument=element[0]\n",
        "      label=element[1]\n",
        "      \n",
        "      #print(\"Sample considered is: \", authorDocument[0])\n",
        "      #print(\"Preprocessed: \", str(custom_standardization(authorDocument[0].numpy())))\n",
        "      #print(\"And has label: \", label[0].numpy())\n",
        "      \n",
        "      text_vect_layer_model = tf.keras.Model(inputs=model.input,\n",
        "                                          outputs=model.layers[0].output)\n",
        "      text_vect_out = text_vect_layer_model(authorDocument)\n",
        "\n",
        "      training_labels.append(label[0].numpy())\n",
        "      current_sample=np.zeros(max_features)\n",
        "      for current_token in text_vect_out[0][:].numpy():\n",
        "        #print(current_token,end=' ')\n",
        "        #print(vectorize_layer.get_vocabulary()[current_token])\n",
        "        current_sample[current_token]+=1\n",
        "      training_samples.append(current_sample)\n",
        "      #break\n",
        "\n",
        "    training_labels=np.array(training_labels)\n",
        "    training_samples=np.array(training_samples)\n",
        "    #print(\"\\nLE LABELS DEI CAMPIONI DI TRAINING SONO:\")\n",
        "    #print(training_labels)\n",
        "    #print(\"\\nI SAMPLE DI TRAINING DOPO LA TEXT VECTORIZATION SONO:\")\n",
        "    #print(training_samples)\n",
        "\n",
        "    test_labels=[]\n",
        "    test_samples=[]\n",
        "\n",
        "    for element in test_ds:\n",
        "      authorDocument=element[0]\n",
        "      label=element[1]\n",
        "      \n",
        "      text_vect_layer_model = tf.keras.Model(inputs=model.input,\n",
        "                                          outputs=model.layers[0].output)\n",
        "      text_vect_out = text_vect_layer_model(authorDocument)\n",
        "\n",
        "      test_labels.append(label[0].numpy())\n",
        "      current_sample=np.zeros(max_features)\n",
        "      for current_token in text_vect_out[0][:].numpy():\n",
        "        current_sample[current_token]+=1\n",
        "      test_samples.append(current_sample)\n",
        "\n",
        "    test_labels=np.array(test_labels)\n",
        "    test_samples=np.array(test_samples)\n",
        "\n",
        "    SVM = svm.SVC(C=0.5, kernel='linear', gamma='auto')\n",
        "    SVM.fit(training_samples,training_labels)\n",
        "    # predict the labels on training set\n",
        "    #predictions_SVM = SVM.predict(training_samples)\n",
        "    # Use accuracy_score function to get the accuracy\n",
        "    #model_results[key]['SVM_train']=SVM.score(training_samples,training_labels)\n",
        "    #print(\"SVM Accuracy Score on Training set -> \",model_results[key]['SVM_train'])\n",
        "\n",
        "    # predict the labels on validation dataset\n",
        "    predictions_SVM = SVM.predict(test_samples)\n",
        "    # Use accuracy_score function to get the accuracy\n",
        "    model_results[key].append(SVM.score(test_samples,test_labels))\n",
        "    print(\"SVM Accuracy Score on Test set -> \",model_results[key])\n",
        "\n",
        "    # --- SVM SECTION END --- #\n",
        "\n",
        "    # # # # # # # # # # # # # # # # # # # # # # # # # # # # # # # # # # #\n",
        "    \n",
        "    # # # - - - - - MODEL DEFINITION AND EVALUATION END  - - - - - # # #"
      ],
      "execution_count": null,
      "outputs": [
        {
          "output_type": "stream",
          "name": "stderr",
          "text": [
            "WARNING:tensorflow:From /usr/local/lib/python3.9/dist-packages/tensorflow/python/autograph/pyct/static_analysis/liveness.py:83: Analyzer.lamba_check (from tensorflow.python.autograph.pyct.static_analysis.liveness) is deprecated and will be removed after 2023-09-23.\n",
            "Instructions for updating:\n",
            "Lambda fuctions will be no more assumed to be used in the statement where they are used, or at least in the same block. https://github.com/tensorflow/tensorflow/issues/56089\n"
          ]
        },
        {
          "output_type": "stream",
          "name": "stdout",
          "text": [
            "\n",
            "\n",
            "* * * * EVALUATION USING DON AS PREPROCESSING FUNCTION * * * *\n",
            "\n",
            "\n",
            "***** FINITO DI PROCESSARE E ADATTARE IL TRAINING SET, INIZIA LA SIMULAZIONE *******\n",
            "Sample considered is:  tf.Tensor(b'   \\n\\t<document> #user# where was this at? </document>\\n\\t\\t<document> rt #user#: black man,has a stern warning for blm, don\\'t mess with white people \\xf0\\x9f\\x98\\xac #url# </document>\\n\\t\\t<document> #user# a meeting of insurrectionists...i mean a biden rally </document>\\n\\t\\t<document> #user# #user# this is lame. instead of stringing up curlers, they should be stringing up...ahem </document>\\n\\t\\t<document> #user# this is insane. the citizens better rise up. and this is why you never willingly give up your weapons. </document>\\n\\t\\t<document> #user# i would have wrote: \\xe2\\x80\\x9cmy name is... and i am not a racist, but al sharpton is a racist and i will pray for him to do better\\xe2\\x80\\x9d </document>\\n\\t\\t<document> rt #user#: the data came from the cdc!!! are you fricken kidding me with this spin??? </document>\\n\\t\\t<document> rt #user#: jason, who came to kenosha to check on his family, insisted that \\xe2\\x80\\x9ckenosha locals did not do this to they town, man!\\xe2\\x80\\x9d </document>\\n\\t\\t<document> #user# and here we have creepy sleepy pedo joe lying again-bc he did say he would kill the oil and natural gas industry </document>\\n\\t\\t<document> a year ago? no...now, without a doubt. he will kneel because he can\\xe2\\x80\\x99t stand for anything. #user# the sellout #url# </document>\\n\\t\\t<document> #user# #user# blink 3 times if they are holding you hostage </document>\\n\\t\\t<document> #user# #user# #user# #user# #user# you are committing marketing suicide </document>\\n\\t\\t<document> #user# #user# #user# #user# #user# add in the virtue signaling mlb too </document>\\n\\t\\t<document> which is why the nfl is a shitshow with plummeting ratings #url# </document>\\n\\t\\t<document> #user# #user# dream on leftist turd...stick to hockey and maple syrup canuck... </document>\\n\\t\\t<document> rt #user#: blm and metoo totally silent on jacob blake\\xe2\\x80\\x99s rape victim who called 911 on him </document>\\n\\t\\t<document> rt #user#: it\\'s time to talk about former vice president joe biden, the open sexual predator. a thread/moment... </document>\\n\\t\\t<document> #user# #user# not jail forever, but death </document>\\n\\t\\t<document> #user# #user# actually the white male died. this was from a year ago </document>\\n\\t\\t<document> rt #user#: the most important video of 2020 #url# </document>\\n\\t\\t<document> rt #user#: who is responsible for the increase in violence around the country? that\\'s easy..... #url# </document>\\n\\t\\t<document> rt #user#: portland silent majority! #url# </document>\\n\\t\\t<document> rt #user#: based as fuck #url# </document>\\n\\t\\t<document> rt #user#: somebody st..... wtf is going on back there? \\xf0\\x9f\\x98\\x82\\xf0\\x9f\\x98\\x82\\xf0\\x9f\\x98\\x82 #url# </document>\\n\\t\\t<document> #user# #user# \\xe2\\x80\\x9cwere\\xe2\\x80\\x9d...and oh, fyi, there were white slaves too. </document>\\n\\t\\t<document> #user# did anyone other than a criminal or hollywood group of pedos watch them anyway? </document>\\n\\t\\t<document> #user# #user# #user# #user# said the troll account following 0 and followed by 0. late for your antifa meeting? </document>\\n\\t\\t<document> #user# #user# make sure you never call them when they are needed. your bitterness is blinding you to truth. </document>\\n\\t\\t<document> #user# #user# #user# all the videos show he committed suicide...you can\\xe2\\x80\\x99t justify acting a fool for this. </document>\\n\\t\\t<document> #user# #user# #user# #user# so you admit you\\xe2\\x80\\x99re an insurrectionist...i appeal to you to re-evaluate your position. </document>\\n\\t\\t<document> #user# #user# well, the globalist shill does write for the cultural marxist rag vox...so no surprise </document>\\n\\t\\t<document> rt #user#: you\\xe2\\x80\\x99ve never had an intel brief. the closest you\\xe2\\x80\\x99ve come is reading the press release i edited. </document>\\n\\t\\t<document> rt #user#: jacob blake raped a 15 year old girl. he\\xe2\\x80\\x99s now paralyzed from the waist down. seems like a proper punishment. </document>\\n\\t\\t<document> rt #user#: what should pelosi and crew wear in their next pandering photo op to honor jacob blake? </document>\\n\\t\\t<document> #user# looters should be given the eternal dirt nap. #hashtag# </document>\\n\\t\\t<document> #user# \\xf0\\x9f\\x8e\\xb6 hey man nice shot...good shot, man\\xf0\\x9f\\x8e\\xb6 </document>\\n\\t\\t<document> #user# #user# oh so now you want the police...\\xf0\\x9f\\xa4\\xa6\\xf0\\x9f\\x8f\\xbb\\xe2\\x80\\x8d\\xe2\\x99\\x82\\xef\\xb8\\x8f </document>\\n\\t\\t<document> #user# who is yelling \\xe2\\x80\\x9cwe need a medic!\\xe2\\x80\\x9d is this call of duty? he can just respawn </document>\\n\\t\\t<document> #user# you won\\xe2\\x80\\x99t do anything yourself. inciting and grifting. you are a pathetic little white man. </document>\\n\\t\\t<document> #user# #user# #user# masks do not help and the virus has a 99.8% survival rate. </document>\\n\\t\\t<document> #user# i call bs </document>\\n\\t\\t<document> #user# oh now they want to call the police...\\xf0\\x9f\\x98\\x82 </document>\\n\\t\\t<document> #user# why isn\\xe2\\x80\\x99t he stabbing her with a fork? </document>\\n\\t\\t<document> #user# #user# but fauci and birx said if you wear a mask you\\xe2\\x80\\x99re safe\\xf0\\x9f\\x98\\x82 </document>\\n\\t\\t<document> #user# #user# yes, chem trails. cia director brennan admitted it to the public years ago. you must be a globalist shill </document>\\n\\t\\t<document> #user# #user# it\\xe2\\x80\\x99s not just questionable technicians, but faulty tests as well </document>\\n\\t\\t<document> #user# #user# #user# suddenly a wild white knight appears...\\xe2\\x80\\x9dstop cranking on lebron\\xe2\\x80\\x9d\\xf0\\x9f\\x98\\x82 </document>\\n\\t\\t<document> rt #user#: show this video to #user# since he\\'s studying malcolm x now. #url# </document>\\n\\t\\t<document> #user# #user# #user# #user# #user# lebron makes $50m a year and he\\xe2\\x80\\x99s ignorant too, so what\\xe2\\x80\\x99s your point? </document>\\n\\t\\t<document> #user# you can hear the taser at the start of the video...and the guy kept walking. i\\xe2\\x80\\x99m thinking he wanted a \\xe2\\x80\\x9csuicide by cop\\xe2\\x80\\x9d </document>\\n\\t\\t<document> #user# #user# #user# #user# #user# you are ignorant </document>\\n\\t\\t<document> #user# #user# don\\xe2\\x80\\x99t let the door hit ya where the good lord split ya\\xf0\\x9f\\x98\\x89 </document>\\n\\t\\t<document> #user# #user# he said \\xe2\\x80\\x9ctrigger\\xe2\\x80\\x9d </document>\\n\\t\\t<document> #user# seriously, sue your brain for non support </document>\\n\\t\\t<document> #user# #user# #user# they are there bc they broke the law...and they have it much better than they should </document>\\n\\t\\t<document> #user# #user# #user# oh thousand die bc of his actions...\\xf0\\x9f\\x98\\x82 </document>\\n\\t\\t<document> #user# these people are stupid...what are the npc chants going to do? nothing. clearly they are starved for attention. </document>\\n\\t\\t<document> rt #user#: watch all the way to end #url# </document>\\n\\t\\t<document> rt #user#: \\xe2\\x80\\x9ccuz i\\xe2\\x80\\x99m rich as fuck\\xe2\\x80\\x9d #user# #url# </document>\\n\\t\\t<document> rt #user#: chicago officials raised the bridge not knowing a group was still crossing #url# </document>\\n\\t\\t<document> #user# #user# #user# boo freaking hoo leftist\\xf0\\x9f\\x98\\x82 </document>\\n\\t\\t<document> rt #user#: #user# fbi records prove joe biden lied about his role in targeting michael flynn #url# </document>\\n\\t\\t<document> #user# #user# they didn\\xe2\\x80\\x99t make \\xe2\\x80\\x9cmistakes\\xe2\\x80\\x9d...they deliberately broke the law. #hashtag# </document>\\n\\t\\t<document> rt #user#: great! once this criminal is arrested, let\\'s see how tough he is in prison. #user# #user# #hashtag# </document>\\n\\t\\t<document> rt #user#: your future congressman telling the truth. #url# #url# </document>\\n\\t\\t<document> rt #user#: #user# i fixed it. #url# </document>\\n\\t\\t<document> rt #user#: the moment trump won re-election #url# </document>\\n\\t\\t<document> #user# #user# #user# he should be charged with murder </document>\\n\\t\\t<document> #user# #user# just when i didn\\xe2\\x80\\x99t think she could get any more stupid...she proves me wrong\\xf0\\x9f\\x98\\x82 </document>\\n\\t\\t<document> #user# i didn\\xe2\\x80\\x99t...don\\xe2\\x80\\x99t want to give those reprobate traitors any ratings </document>\\n\\t\\t<document> #user# #user# #user# #user# big mike is packing #url# </document>\\n\\t\\t<document> #user# #user# #user# yes it does. the same question came up when sen cruz was running in 2016. trt again leftist </document>\\n\\t\\t<document> #user# #user# excellent! and hope you had security. </document>\\n\\t\\t<document> #user# #user# #user# oregon won\\xe2\\x80\\x99t do anything, the doj will have to charge this assclown </document>\\n\\t\\t<document> #user# it is funny...a tranny and an aging marxist... </document>\\n\\t\\t<document> #user# #user# mike is just jealous of melania\\xf0\\x9f\\x98\\x82 </document>\\n\\t\\t<document> #user# what kind of drone and where did you hear this? </document>\\n\\t\\t<document> rt #user#: kamala harris reportedly owes $1m in bills from failed presidential run #url# #url# </document>\\n\\t\\t<document> #user# #user# and a bunch of nevertrumper cucks </document>\\n\\t\\t<document> rt #user#: the democrat convention is a very angry toned, bitter, anti-american celebration of domestic terrorism. </document>\\n\\t\\t<document> #user# #user# #user# must like losing money showing that clown show </document>\\n\\t\\t<document> rt #user#: i can\\xe2\\x80\\x99t wait for night 2 said no one </document>\\n\\t\\t<document> #user# ratings take a dive showing the traitors to the republic national convention #url# </document>\\n\\t\\t<document> #user# #user# time to shoot rioters </document>\\n\\t\\t<document> rt #user#: this new trump ad about joe biden and kamala harris is scathing. #url# </document>\\n\\t\\t<document> #user# talk about \\xe2\\x80\\x9cawkward\\xe2\\x80\\x9d or \\xe2\\x80\\x9ccringe\\xe2\\x80\\x9d moment of the year.... </document>\\n\\t\\t<document> #user# #user# yeah, jose sucks </document>\\n\\t\\t<document> #user# #user# #user# his style sucks </document>\\n\\t\\t<document> #user# and she isn\\xe2\\x80\\x99t qualified to hold the office if vp or president. she is an anchor baby. parents were not citizens when she was born </document>\\n\\t\\t<document> what\\xe2\\x80\\x99s next? boxcars to the re-education camps? #url# </document>\\n\\t\\t<document> #user# #user# karen? no, you\\xe2\\x80\\x99re the \\xe2\\x80\\x9ckaren\\xe2\\x80\\x9d. marxist much? </document>\\n\\t\\t<document> #user# #user# hmm...millions of dems #hashtag# #hashtag# keep thinking this...you will be highly disappointed come november #hashtag# </document>\\n\\t\\t<document> #user# #user# #user# again, fake news. already been debunked by the joint chiefs and nsa. </document>\\n\\t\\t<document> #user# #user# #user# #user# we will both be offended together\\xf0\\x9f\\x98\\x84 </document>\\n\\t\\t<document> #user# #user# #user# more than enough proof </document>\\n\\t\\t<document> #user# #user# #user# preaching what the bible says about homosexuality got him arrested. </document>\\n\\t\\t<document> #user# #user# vladimir lenin: confiscate the wealth of the rich... #user# : hold my beer </document>\\n\\t\\t<document> rt #user#: if i\\xe2\\x80\\x99m a coon for supporting trump then you\\xe2\\x80\\x99re a prostitute for supporting cardi b. \\xf0\\x9f\\xa4\\xb7\\xf0\\x9f\\x8f\\xbe\\xe2\\x80\\x8d\\xe2\\x99\\x82\\xef\\xb8\\x8f i don\\xe2\\x80\\x99t make the rules </document>\\n\\t\\t<document> rt #user#: alright this is pretty funny \\xf0\\x9f\\x98\\x82 #url# </document>\\n\\t\\t<document> #user# #user# #user# try again leftist, he\\xe2\\x80\\x99s doing exactly what i voted for him to do. </document>\\n\\t\\t<document> #user# #user# then you stay in your bubble </document>\\n\\t\\t<document> #user# exactly right. they should be playing! </document>\\n\\t\\t<document> #user# #user# then stay home pussy </document>\\n\\t\\t<document> #user# good, let\\xe2\\x80\\x99s do this!! </document>\\n\\t\\t<document> #user# #user# no matter how hard you try, no one will watch women\\xe2\\x80\\x99s basketball </document>\\n\\t\\t<document> #user# #user# shut up pussy </document>\\n\\t\\t<document> #user# #user# if i was a wvu alum i would try to make excuses not to play too </document>\\n\\t\\t<document> #user# #user# said the crybaby </document>\\n\\t\\t<document> #user# #user# conference game dummy </document>\\n\\t\\t<document> #user# #user# seriously drink a tall glass of shut up </document>\\n\\t\\t<document> #user# no one cares about soccer. we want football!! </document>\\n\\t\\t<document> #user# feces? ok then </document>\\n\\t\\t<document> #user# #user# don\\xe2\\x80\\x99t support jorgensen but she is infinitely more qualified than the #hashtag# #user# # </document>\\n\\t\\t<document> #user# yes...inquiring minds want to know\\xf0\\x9f\\xa4\\x94 #hashtag# </document>\\n\\t\\t<document> rt #user#: joe biden should\\xe2\\x80\\x99ve saved his \\xe2\\x80\\x9care you a junkie.\\xe2\\x80\\x9d comment for hunter. </document>\\n\\t\\t<document> rt #user#: has anyone actually seen a joe biden sticker or a yard sign? #hashtag# </document>\\n\\t\\t<document> #user# #user# #user# i thought \\xe2\\x80\\x9cshelter in place\\xe2\\x80\\x9d was over...fix that hair bro...need to be more aerodynamic! </document>\\n\\t\\t<document> rt #user#: all of the numbers are coming in from michigan except one race. the squads rashida tlaib. she is the only one with 0% reporting. </document>\\n\\t\\t<document> rt #user#: #user# here is the clip!! #url# </document>\\n\\t\\t<document> rt #user#: #user# from the same article #url# </document>\\n\\t\\t<document> rt #user#: #user# lock up the pedos </document>\\n\\t\\t<document> #user# #user# the mockingbird media is complicit in the cover up of #hashtag# </document>\\n\\t\\t<document> rt #user#: and there you have it communists party puts full support behind joe biden #url# </document>\\n\\t\\t<document> rt #user#: department of justice awards over $35 million to provide housing to victims of #hashtag# #url# </document>\\n\\t\\t<document> rt #user#: democrats were so humiliated that they actually had to leave the room! #url# </document>\\n\\t\\t<document> #user# i know i do. </document>\\n\\t\\t<document> #user# #user# you never know. vote red. </document>\\n\\t\\t<document> rt #user#: i\\xe2\\x80\\x99m voting in person. you? </document>\\n\\t\\t<document> rt #user#: maybe mcgrath should try texting us all again. that went well the first time. </document>\\n\\t\\t<document> rt #user#: open america now!!! #user# #user# #user# #user# #hashtag# #url# </document>\\n\\t\\t<document> rt #user#: what are the chances these \\xe2\\x80\\x9cprotesters\\xe2\\x80\\x9d have jobs.... </document>\\n\\t\\t<document> rt #user#: stunning video shows explosions just minutes ago at beirut port #url# </document>\\n\\t\\t<document> #user# #user# #user# winnie the pooh called, your presence is requested at the beijing re-education camp. </document>\\n\\t\\t<document> #user# #user# she shouldn\\xe2\\x80\\x99t have left. </document>\\n\\t\\t<document> #user# #user# #user# #user# preach! we ain\\xe2\\x80\\x99t giving the leftists shit. </document>\\n\\t\\t<document> #user# a \\xe2\\x80\\x9cwho\\xe2\\x80\\x99s who\\xe2\\x80\\x9d of child predators </document>\\n\\t\\t<document> #user# #user# #user# don\\xe2\\x80\\x99t you have a ccp rally to attend? </document>\\n\\t\\t<document> rt #user#: awesome \\xf0\\x9f\\x91\\x8f\\xf0\\x9f\\x8f\\xbc thank you #user# #url# </document>\\n\\t\\t<document> rt #user#: we are empowered to protect ourselves and our country! best believe it! #user# \\xf0\\x9f\\x87\\xba\\xf0\\x9f\\x87\\xb8\\xf0\\x9f\\x8c\\x88\\xe2\\x98\\x80\\xef\\xb8\\x8f\\xf0\\x9f\\x8e\\xaf\\xf0\\x9f\\x94\\xab #url# </document>\\n\\t\\t<document> rt #user#: be patient and keep in prayer! praying for all of you always! love you \\xe2\\x9d\\xa4\\xef\\xb8\\x8f\\xf0\\x9f\\x98\\x98 #url# </document>\\n\\t\\t<document> rt #user#: .#user# #user# thank you mr. president! #hashtag# #url# </document>\\n\\t\\t<document> #user# the left would like nothing more than to establish a totalitarian state following luciferian principles. </document>\\n\\t\\t<document> rt #user#: democrats are focused like a laser on their cheat-by-mail scheme #url# </document>\\n\\t\\t<document> #user# one on the right is a cpap...but thanks for the daily dose of fear porn. don\\xe2\\x80\\x99t you have a cemetery to haunt beetlejuice? </document>\\n\\t\\t<document> rt #user#: does anyone care? #hashtag# #url# </document>\\n\\t\\t<document> #user# exactly right! and don\\xe2\\x80\\x99t forget, #hashtag# </document>\\n\\t\\t<document> #user# the dems were never going to put him up, it\\xe2\\x80\\x99s all a scam-just like this #hashtag# </document>\\n\\t\\t<document> #user# and twitter is suppressing tweets about it. #hashtag# #hashtag# #hashtag# </document>\\n\\t\\t<document> rt #user#: rt if you will never kneel during the national anthem! </document>\\n\\t\\t<document> #user# #user# #user# #user# sue your brain for non support </document>\\n\\t\\t<document> #user# #user# should have been 9-0 to deny the request. further proof that 4 of them are unamerican traitors to the republic </document>\\n\\t\\t<document> rt #user#: he certainly has not been afraid to bring up this issue, so why are the democrats all running from it? </document>\\n\\t\\t<document> #user# #user# #user# #user# that didn\\xe2\\x80\\x99t age well </document>\\n\\t\\t<document> rt #user#: #user# #user# #user# in his own words. #url# </document>\\n\\t\\t<document> #user# sucks for you ingrates. kneel before zod </document>\\n\\t\\t<document> #user# i see his athletic ability mirrors his healthcare ability...both way off course #hashtag# </document>\\n\\t\\t<document> #user# #user# here for the ratio </document>\\n\\t\\t<document> rt #user#: #user# i will call it whatever i like. china lied, people died. </document>\\n\\t\\t<document> rt #user#: remember when media asked questions about wayfair?...yeah..neither do i... </document>\\n\\t\\t<document> #user# #user# same ones that want to take our weapons, are the same ones that want to defund and disband the police...\\xf0\\x9f\\x98\\x82 </document>\\n\\t\\t<document> #user# i have new respect for martha </document>\\n\\t\\t<document> #user# exactly right! #hashtag# </document>\\n\\t\\t<document> rt #user#: they\\'re not going to let joe biden debate president trump are they? </document>\\n\\t\\t<document> #user# #user# #user# still asleep...hopefully one day you can wake up </document>\\n\\t\\t<document> rt #user#: if we are wearing masks then in-person voting must be permitted </document>\\n\\t\\t<document> rt #user#: i was wrong about trump #hashtag# #hashtag# #url# </document>\\n\\t\\t<document> #user# if it\\xe2\\x80\\x99s so \\xe2\\x80\\x9cfake\\xe2\\x80\\x9d then why does the left hate it? truth hurts #hashtag# </document>\\n\\t\\t<document> rt #user#: founder of never-trump super pac arrested in $60m bribery scheme. anyone else as shocked as i am??? \\xf0\\x9f\\x99\\x84 </document>\\n\\t\\t<document> #user# good, don\\xe2\\x80\\x99t let the door hit you where the good lord split you. globalist shill </document>\\n\\t\\t<document> rt #user#: we\\'re not waiting on durham. </document>\\n\\t\\t<document> #user# looks like she\\xe2\\x80\\x99s throwing witchcraft hand spells </document>\\n\\t\\t<document> rt #user#: \\xf0\\x9f\\x98\\x82\\xf0\\x9f\\xa4\\xa3\\xf0\\x9f\\x98\\x82 they have to be related \\xf0\\x9f\\x98\\x82\\xf0\\x9f\\xa4\\xa3\\xf0\\x9f\\x98\\x82 </document>\\n\\t\\t<document> #user# exactly right. making the move to parler </document>\\n\\t\\t<document> #user# #user# true, but south park is adult entertainment and has never been made to target the \\xe2\\x80\\x9cunder 18\\xe2\\x80\\x9d demographic. </document>\\n\\t\\t<document> #user# \\xf0\\x9f\\x98\\x82 the leftists are insane </document>\\n\\t\\t<document> rt #user#: do not retweet this trump ad. that twitter keeps banning. #url# </document>\\n\\t\\t<document> #user# well said #hashtag# </document>\\n\\t\\t<document> rt #user#: 1) why am i here? why am i a conservative? #hashtag# #hashtag# #url# </document>\\n\\t\\t<document> rt #user#: the definition of racist has no weight anymore because of people like jemele hill. </document>\\n\\t\\t<document> rt #user#: orange man bad. the truth about the donald trump racism narrative. #url# </document>\\n\\t\\t<document> rt #user#: just a reminder, three kevin spacey accusers died mysteriously. </document>\\n\\t\\t<document> #user# #user# no, she\\xe2\\x80\\x99s shaking from the \\xe2\\x80\\x9cshakes\\xe2\\x80\\x9d...get nancy another vodka </document>\\n\\t\\t<document> #user# that isn\\xe2\\x80\\x99t her or is a demon possessed her. tell us #user# did she have the same thing done that was done to you? </document>\\n\\t\\t<document> #user# #user# further proof that the uk should have never given hong kong to china\\xf0\\x9f\\x98\\x89 </document>\\n\\t\\t<document> #user# #user# shouldn\\xe2\\x80\\x99t you write this in chinese? </document>\\n\\t\\t<document> rt #user#: #user# #user# not a word from democrats when these thugs are looting, rioting, assaulting people and setting fires... </document>\\n\\t\\t<document> rt #user#: #user# #user# the speaker of the house just declared war on america. </document>\\n\\t\\t<document> #user# #user# totally false...now go drink another vodka lush </document>\\n\\t\\t<document> rt #user#: holy what the fuck??! #url# #url# </document>\\n\\t\\t<document> rt #user#: i\\xe2\\x80\\x99m ready for this\\xe2\\x9d\\xa4\\xef\\xb8\\x8f\\xf0\\x9f\\xa4\\x8d\\xf0\\x9f\\x92\\x99 #url# </document>\\n\\t\\t<document> rt #user#: this is absolutely spectacular. #url# </document>\\n\\t\\t<document> #user# where is #hashtag# now? nowhere, because they should change their name to \\xe2\\x80\\x9conly certain black lives matter\\xe2\\x80\\x9d </document>\\n\\t\\t<document> rt #user#: #user# #user# there is also this... \\xf0\\x9f\\xa4\\xa8. #url# </document>\\n\\t\\t<document> rt #user#: 0 offers help a brother out twitter rt\\xf0\\x9f\\x99\\x8f\\xf0\\x9f\\x8f\\xbe\\xe2\\x9d\\xa4\\xef\\xb8\\x8f\\xf0\\x9f\\x90\\xb6 #url# </document>\\n\\t\\t<document> #user# #user# sue your brain for non support </document>\\n\\t\\t<document> #user# #user# you are committed to defending and rationalizing for #hashtag# </document>\\n\\t\\t<document> rt #user#: #user# you keep deleting this honey.... you were so proud all these years though. i\\xe2\\x80\\x99m so very confused. </document>\\n\\t\\t<document> rt #user#: sad: democrat leaders struggling to enforce lockdowns after getting rid of all the police #url# </document>\\n\\t\\t<document> rt #user#: #user# you know who you are! #url# </document>\\n\\t\\t<document> rt #user#: #user# don\\'t they know... internet is forever. like this \\xf0\\x9f\\x91\\x87 #url# </document>\\n\\t <document> #user# where was that? </document>\\n<document> rt #user#: black man, has a strict warning for blm, don\\'t mess with white people \\xf0\\x9f\\x98\\xac #url# </document>\\n<document> #user# a meeting of insurgents... I mean a Biden rally </document>\\n<document> #user# #user# this is lame. Instead of threading curlers, they should thread... um </document>\\n<document> #user# this is crazy. Citizens rise up better. and therefore you never willingly give up your arms. </document>\\n<document> #user# I would have written, \"My name is... and I\\'m not racist, but Al Sharpton is a racist and I will pray for him to do better\" </document>\\n<document> rt #user#: the data came from the CDC!!! Are you kidding me with this twist??? </document>\\n<Document> rt #user#: Jason, who came to Kenosha to check on his family, insisted that \"Kenosha locals didn\\'t do that to their town, man!\" </Document>\\n<document> #user# and here lies creepy sleepy Pedo Joe again for saying he would kill the oil and gas industry </document>\\n<document> a year ago? no... now, without a doubt. he will kneel because he cannot stand for anything. #user# the sold out #url# </document>\\n<document> #user# #user# blinks three times when they are holding you hostage </document>\\n<document> #user# #user# #user# #user# #user# You\\'re committing marketing suicide </document>\\n<document> #user# #user# #user# #user# #user# also add virtue signaling mlb </document>\\n<document> why the NFL is a shit show with declining ratings #url# </document>\\n<document> #user# #user# dreaming of left shit... stick to hockey and maple syrup canuck... </document>\\n<document> rt #user#: blm and metoo are completely silent about Jacob Blake\\'s rape victim who called him on 911 </document>\\n<document> rt #user#: It\\'s time to talk about former Vice President Joe Biden, the open sex offender. a thread/moment... </document>\\n<document> #user# #user# not to prison forever, but to death </document>\\n<document> #user# #user# indeed the white man died. that was a year ago </document>\\n<document> rt #user#: the most important video of 2020 #url# </document>\\n<Document> rt #user#: Who is responsible for the increase in violence across the country? that\\'s easy..... #url# </document>\\n<document> rt #user#: Portland silent majority! #url# </document>\\n<document> rt #user#: based on fuck #url# </document>\\n<document> rt #user#: someone st..... what\\'s going on back there? \\xf0\\x9f\\x98\\x82\\xf0\\x9f\\x98\\x82\\xf0\\x9f\\x98\\x82 #url# </document>\\n<Document> #user# #user# \"were\"... and oh, FYI, there were white slaves too. </document>\\n<document> #user# was anyone even watching them other than a criminal or Hollywood gang of pedos? </document>\\n<Document> #user# #user# #user# #user# said the troll account after 0 and followed by 0. Late for your Antifa meeting? </document>\\n<document> #user# #user# make sure you never call them when they are needed. your bitterness blinds you to the truth. </document>\\n<document> #user# #user# #user# all the videos show that he committed suicide... you can\\'t justify acting like a fool for it. </document>\\n<document> #user# #user# #user# #user# So you admit that you are an insurgent... I urge you to reconsider your position. </document>\\n<document> #user# #user# Well, the globalist Shill writes for the cultural Marxist rag vox... so no surprise </document>\\n<document> rt #user#: You\\'ve never had an Intel briefing. The closest you can get is to read the press release I edited. </document>\\n<Document> rt #user#: Jacob Blake raped a 15-year-old girl. he is now paralyzed from the waist down. seems an appropriate punishment. </document>\\n<document> rt #user#: what should Pelosi and his crew wear to their next pandering photo op honoring Jacob Blake? </document>\\n<document> #user# Looters should get the eternal nap. #Hashtag# </Document>\\n<document> #user# \\xf0\\x9f\\x8e\\xb6 Hey man, good shot... good shot man\\xf0\\x9f\\x8e\\xb6 </document>\\n<document> #user# #user# oh, now you want the police...\\xf0\\x9f\\xa4\\xa6\\xf0\\x9f\\x8f\\xbb\\xe2\\x80\\x8d\\xe2\\x99\\x82\\xef\\xb8\\x8f </document>\\n<document> #user# yelling \"We need a paramedic!\" Is that mandatory? he can just </document> respawn\\n<document> #user# You will not do anything yourself. incitement and incitement. You are a pathetic little white man. </document>\\n<Document> #user# #user# #user# Masks do not help and the virus has a 99.8% survival rate. </document>\\n<document> #user# I\\'m calling bs </document>\\n<document> #user# oh now they want to call the police...\\xf0\\x9f\\x98\\x82 </document>\\n<document> #user# why doesn\\'t he poke her with a fork? </document>\\n<document> #user# #user# but fauci and birx said if you wear a mask you are safe \\xf0\\x9f\\x98\\x82 </document>\\n<Document> #user# #user# Yes, chemtrails. CIA Director Brennan admitted it publicly years ago. You must be a globalist sucker</document>\\n<document> #user# #user# not only questionable technicians, but also faulty tests </document>\\n<document> #user# #user# #user# Suddenly a wild white knight appears...\"stop cranking Lebron\"\\xf0\\x9f\\x98\\x82 </document>\\n<document> rt #user#: Show this video to #user# since he is studying malcolm x now. #url# </document>\\n<document> #user# #user# #user# #user# #user# Lebron makes $50 million a year and he\\'s ignorant too, so what are you getting at? </document>\\n<document> #user# You can hear the taser at the beginning of the video... and the guy kept walking. I think he wanted a \"suicide by a cop\" </document>\\n<document> #user# #user# #user# #user# #user# You are ignorant </document>\\n<document> #user# #user# don\\'t let the door hit you where God divided you\\xf0\\x9f\\x98\\x89 </document>\\n<document> #user# #user# he said \"trigger\" </document>\\n<document> #user# seriously, sue your brain for not supporting it </document>\\n<document> #user# #user# #user# they are here because they broke the law... and they have it way better than they should</document>\\n<document> #user# #user# #user# oh thousand die before his deeds...\\xf0\\x9f\\x98\\x82 </document>\\n<document> #user# these people are stupid... what will the NPC chants do? Nothing. clearly they are starved for attention. </document>\\n<document> rt #user#: pay attention to the end #url# </document>\\n<document> rt #user#: \"Because I\\'m damn rich\" #user# #url# </document>\\n<document> rt #user#: Chicago officials raised the bridge, unaware that a group was still crossing #url# </document>\\n<document> #user# #user# #user# boo freaking hoo leftist\\xf0\\x9f\\x98\\x82 </document>\\n<document> rt #user#: #user# fbi records prove Joe Biden lied about his role in fighting Michael Flynn #url# </document>\\n<document> #user# #user# they didn\\'t make any \"mistakes\"...they broke the law on purpose. #Hashtag# </Document>\\n<document> rt #user#: great! Once this criminal is arrested, let\\'s see how tough he is in prison. #user# #user# #hashtag# </document>\\n<Document> rt #user#: Your future congressman is telling the truth. #url# #url# </document>\\n<document> rt #user#: #user# I fixed it. #url# </document>\\n<document> rt #user#: the moment Trump won re-election #url# </document>\\n<document> #user# #user# #user# he should be charged with murder </document>\\n<document> #user# #user# just when I didn\\'t think she could get any dumber... she proves me wrong\\xf0\\x9f\\x98\\x82 </document>\\n<document> #user# I didn\\'t want to give these depraved traitors any ratings </document>\\n<document> #user# #user# #user# #user# big mike grabs #url# </document>\\n<document> #user# #user# #user# Yes, it does. the same question came up when sen cruz was running in 2016. trt again leftist </document>\\n<document> #user# #user# excellent! and hope you had safety. </document>\\n<document> #user# #user# #user# Oregon won\\'t do anything, the Doj needs to sue that ass clown </document>\\n<document> #user# it\\'s funny... a tranny and an aging marxist... </document>\\n<document> #user# #user# mike is just jealous of melania\\xf0\\x9f\\x98\\x82 </document>\\n<document> #user# what drone and where did you hear it? </document>\\n<document> rt #user#: kamala harris reportedly owes $1 million in bills from failed presidential electionsRun #url# #url# </document>\\n<document> #user# #user# and a bunch of goofy cucks </document>\\n<document> rt #user#: The Democratic Convention is a very angry-toned, bitter, anti-American celebration of domestic terrorism. </document>\\n<document> #user# #user# #user# must like losing money doing this clown show </document>\\n<document> rt #user#: I can\\'t wait for night 2 nobody said </document>\\n<document> #user# ratings take a dive showing the traitors to the national convention of the republic #url# </document>\\n<document> #user# #user# Time to shoot rioters </document>\\n<document> rt #user#: this new Trump ad about Joe Biden and Kamala Harris is scathing. #url# </document>\\n<document> #users talk about \"embarrassing\" or \"scary\" moments of the year.... </document>\\n<document> #user# #user# yeah jose sucks </document>\\n<document> #user# #user# #user# his style sucks </document>\\n<document> #user# and she is not qualified to serve as Vice President or President. She\\'s an anchor baby. Parents were not citizens when she was born</document>\\n<document> what\\'s next? freight cars to the re-education camps? #url# </document>\\n<document> #user# #user# Karen? no, you are the \"karen\". Marxist much? </document>\\n<document> #user# #user# hmm... millions of dems #hashtag# #hashtag# keep thinking about it... you will be very disappointed in November #hashtag# </document>\\n<document> #user# #user# #user# again, fake news. has already been debunked by the Joint Chiefs and the NSA. </document>\\n<document> #user# #user# #user# #user# we will both be offended together\\xf0\\x9f\\x98\\x84 </document>\\n<document> #user# #user# #user# more than enough proof </document>\\n<Document> #user# #user# #user# Preaching what the Bible says about homosexuality led to his arrest. </document>\\n<document> #user# #user# vladimir lenin: confiscate the wealth of the rich... #user# : hold my beer </document>\\n<document> rt #user#: If I\\'m a raccoon for supporting Trump, then you\\'re a prostitute for supporting Cardi B. \\xf0\\x9f\\xa4\\xb7\\xf0\\x9f\\x8f\\xbe\\xe2\\x80\\x8d\\xe2\\x99\\x82\\xef\\xb8\\x8f I don\\'t make the rules </document>\\n<document> rt #user#: Okay, that\\'s pretty funny \\xf0\\x9f\\x98\\x82 #url# </document>\\n<document> #user# #user# #user# try again on the left, it does exactly what I chose it for. </document>\\n<document> #user# #user# then you stay in your bubble </document>\\n<document> #user# exactly right. they should play! </document>\\n<document> #user# #user# then stay home pussy </document>\\n<document> #user# Alright, let\\'s do this!! </document>\\n<document> #user# #user# No matter how hard you try, no one is going to watch women\\'s basketball </document>\\n<document> #user# #user# shut up pussy </document>\\n<document> #user# #user# If I were a WVU grad I would try to find excuses not to play </document>\\n<document> #user# #user# said the crybaby </document>\\n<document> #user# #user# conference game dummy </document>\\n<document> #user# #user# seriously drinking a tall glass shut up </document>\\n<document> #user# Nobody cares about soccer. We want football!! </document>\\n<document> #user# feces? ok then </document>\\n<document> #user# #user# does not support jorgensen, but it is infinitely more qualified than the #hashtag# #user# # </document>\\n<document> #user# yes... questioning minds want to know\\xf0\\x9f\\xa4\\x94 #hashtag# </document>\\n<document> rt #user#: Joe Biden should have saved his \"are you a junkie\"? Comment for hunters. </document>\\n<document> rt #user#: Has anyone actually seen a Joe Biden sticker or yard sign? #Hashtag# </Document>\\n<document> #user# #user# #user# I thought \"accommodation in place\" was over...fix those hair boobs...must be more aerodynamic! </document>\\n<document> rt #user#: All numbers are from Michigan except one race. the troops of rashida tlaib. she is the only one with 0% coverage. </document>\\n<document> rt #user#: #user# here is the clip!! #url# </document>\\n<document> rt #user#: #user# from the same article #url# </document>\\n<document> rt #user#: #user# locks the pedos in </document>\\n<document> #user# #user# the mockingbird media is involved in the #hashtag# </document> cover-up\\n<document> rt #user#: and there you have it, the Communist Party is putting Joe Biden squarely aside #url# </document>\\n<document> rt #user#: Justice Department awards over $35 million to provide shelters for victims of #hashtag# #url# </document>\\n<document> rt #user#: Democrats were so humiliated they actually had to leave the room! #url# </document>\\n<document> #user# I know I do. </document>\\n<Document> #user# #user# you never know. vote red. </document>\\n<document> rt #user#: I vote personally. You? </document>\\n<document> rt #user#: Maybe McGrath should try texting us all again. that went well at first. </document>\\n<document> rt #user#: Open America now!!! #user# #user# #user# #user# #hashtag# #url# </document>\\n<document> rt #user#: What are the chances that these \"protesters\" have jobs.... </document>\\n<document> rt #user#: Stunning video shows explosions minutes ago in Beirut port #url# </document>\\n<document> #user# #user# #user# Winnie the Pooh called, your presence is requested at Beijing re-education camp. </document>\\n<document> #user# #user# she shouldn\\'t have gone. </document>\\n<document> #user# #user# #user# #user# preach! We don\\'t give a fuck about the left. </document>\\n<document> #user# a who\\'s who of child molesters </document>\\n<document> #user# #user# #user# don\\'t you have to take part in a ccp rally? </document>\\n<document> rt #user#: awesome \\xf0\\x9f\\x91\\x8f\\xf0\\x9f\\x8f\\xbc thanks #user# #url# </document>\\n<Document> rt #user#: We are empowered to protect ourselves and our country! best believe! #user# \\xf0\\x9f\\x87\\xba\\xf0\\x9f\\x87\\xb8\\xf0\\x9f\\x8c\\x88\\xe2\\x98\\x80\\xef\\xb8\\x8f\\xf0\\x9f\\x8e\\xaf\\xf0\\x9f\\x94\\xab #url# </document>\\n<document> rt #user#: Be patient and stay in prayer! I always pray for you all! love you \\xe2\\x9d\\xa4\\xef\\xb8\\x8f\\xf0\\x9f\\x98\\x98 #url# </document>\\n<document> rt #user#: .#user# #user# thank you mr. President! #Hashtag# #URL# </document>\\n<document> #user# the Left wants nothing more than to build a totalitarian state based on Luciferian principles. </document>\\n<document> rt #user#: Democrats are laser focused on their cheat-by-mail scheme #url# </document>\\n<document> #user# One on the right is a cpap... but thanks for the daily dose of anxiety porn. Don\\'t you have a graveyard that\\'s haunted by bug juice? </document>\\n<document> rt #user#: does anyone care? #Hashtag# #URL# </document>\\n<document> #user# just right! and don\\'t forget #hashtag# </document>\\n<document> #user# the dems would never take him in, it\\'s all cheating - just like that #hashtag# </document>\\n<document> #user# and Twitter suppresses tweets about it. #hashtag# #hashtag# #hashtag# </document>\\n<document> rt #user#: rt if you will never kneel during the national anthem! </document>\\n<document> #user# #user# #user# #user# sue your brain for non-support </document>\\n<document> #user# #user# should have been 9-0 to deny the request. further proof that 4 of them are un-American traitors to the Republic</document>\\n<document> rt #user#: He certainly wasn\\'t afraid to raise this issue, so why are the Democrats all running away? </document>\\n<document> #user# #user# #user# #user# who has not aged well </document>\\n<document> rt #user#: #user# #user# #user# in his own words. #url# </document>\\n<document> #user# is annoying you ungratefully. kneel before zod </document>\\n<document> #user# I see that his athletic ability reflects his healthcare abilities...both of course #hashtag# </document>\\n<document> #user# #user# here for the ratio </document>\\n<document> rt #user#: #user# I call it whatever I want. China lied, people died. </document>\\n<document> rt #user#: Remember when the media asked questions about Wayfair? ... yes ... neither do I ... </document>\\n<document> #user# #user# the same who want to take our guns are the same who want to disappoint and disband the police...\\xf0\\x9f\\x98\\x82 </document>\\n<document> #user# I have new respect for martha </document>\\n<document> #user# just right! #Hashtag# </Document>\\n<document> rt #user#: you areWe\\'re not going to let Joe Biden debate President Trump, are we? </document>\\n<document> #user# #user# #user# is still asleep... hopefully one day you can wake up </document>\\n<document> rt #user#: If we wear masks, personal voting must be allowed </document>\\n<document> rt #user#: I was wrong about Trump #hashtag# #hashtag# #url# </document>\\n<document> #user# if it\\'s so \"fake\", then why does the left hate it? Truth hurts #hashtag# </document>\\n<document> rt #user#: Founder of Never-Trump Super Pac Arrested in $60M Bribe Scheme. anyone else as shocked as me??? \\xf0\\x9f\\x99\\x84 </document>\\n<document> #user# Well, don\\'t let yourself be hit by the door where God divided you. Globalist Shill </document>\\n<Document> rt #user#: We\\'re not waiting for Durham. </document>\\n<document> #user# looks like she\\'s casting hand spells </document>\\n<document> rt #user#: \\xf0\\x9f\\x98\\x82\\xf0\\x9f\\xa4\\xa3\\xf0\\x9f\\x98\\x82 they must be related \\xf0\\x9f\\x98\\x82\\xf0\\x9f\\xa4\\xa3\\xf0\\x9f\\x98\\x82 </document>\\n<document> #user# exactly right. switching to parler </document>\\n<document> #user# #user# is true, but South Park is adult entertainment and was never designed for the under 18 audience. </document>\\n<document> #user# \\xf0\\x9f\\x98\\x82 the leftists are crazy </document>\\n<document> rt #user#: do not retweet this Trump ad. that Twitter keeps banning. #url# </document>\\n<document> #user# well said #hashtag# </document>\\n<document> rt #user#: 1) why am I here? Why am I a conservative? #hashtag# #hashtag# #url# </document>\\n<document> rt #user#: the definition of racist no longer matters because of people like jemele hill. </document>\\n<document> rt #user#: Orange man bad. The truth about Donald Trump\\'s racism narrative. #url# </document>\\n<document> rt #user#: As a reminder, three of Kevin Spacey\\'s accusers have mysteriously died. </document>\\n<document> #user# #user# no, she\\'s shaking from the \"shakes\"... get Nancy another vodka </document>\\n<document> #user# who is not her or possessed by a demon. Tell us, #user#, did she do the same thing that was done to you? </document>\\n<document> #user# #user# further proof that the UK should never have given Hong Kong to China\\xf0\\x9f\\x98\\x89 </document>\\n<document> #user# #user# shouldn\\'t you write that in chinese? </document>\\n<document> rt #user#: #user# #user# not a word from Democrats when these thugs loot, rampage, attack people and set fires... </document>\\n<document> rt #user#: #user# #user# the Speaker of the House has just declared war on America. </document>\\n<document> #user# #user# completely wrong... now have another vodka lush </document>\\n<document> rt #user#: holy what the hell??! #url# #url# </document>\\n<document> rt #user#: I\\'m ready for this\\xe2\\x9d\\xa4\\xef\\xb8\\x8f\\xf0\\x9f\\xa4\\x8d\\xf0\\x9f\\x92\\x99 #url# </document>\\n<document> rt #user#: This is absolutely spectacular. #url# </document>\\n<document> #user# where is #hashtag# now? nowhere, because they should change their name to \"count only certain black lives\" </document>\\n<document> rt #user#: #user# #user# there\\'s that too... \\xf0\\x9f\\xa4\\xa8. #url# </document>\\n<document> rt #user#: 0 offers help a brother from Twitter rt\\xf0\\x9f\\x99\\x8f\\xf0\\x9f\\x8f\\xbe\\xe2\\x9d\\xa4\\xef\\xb8\\x8f\\xf0\\x9f\\x90\\xb6 #url# </document>\\n<document> #user# #user# sue your brain for non-support </document>\\n<document> #user# #user# You agree to defend and rationalize #hashtag# </document>\\n<document> rt #user#: #user# you keep deleting this treasure... you were so proud all these years. i am so very confused </document>\\n<document> rt #user#: sad: Democrat leaders are struggling to enforce lockdowns after getting rid of all police #url# </document>\\n<document> rt #user#: #user# you know who you are! #url# </document>\\n<document> rt #user#: #user# you don\\'t know... the internet is forever. like this \\xf0\\x9f\\x91\\x87 #url# </document>', shape=(), dtype=string)\n",
            "Preprocessed:  tf.Tensor(b'   \\n\\t<document> #user# where was this at? </document>\\n\\t\\t<document> rt #user#: black man,has a stern warning for blm, don\\'t mess with white people \\xf0\\x9f\\x98\\xac #url# </document>\\n\\t\\t<document> #user# a meeting of insurrectionists...i mean a biden rally </document>\\n\\t\\t<document> #user# #user# this is lame. instead of stringing up curlers, they should be stringing up...ahem </document>\\n\\t\\t<document> #user# this is insane. the citizens better rise up. and this is why you never willingly give up your weapons. </document>\\n\\t\\t<document> #user# i would have wrote: \\xe2\\x80\\x9cmy name is... and i am not a racist, but al sharpton is a racist and i will pray for him to do better\\xe2\\x80\\x9d </document>\\n\\t\\t<document> rt #user#: the data came from the cdc!!! are you fricken kidding me with this spin??? </document>\\n\\t\\t<document> rt #user#: jason, who came to kenosha to check on his family, insisted that \\xe2\\x80\\x9ckenosha locals did not do this to they town, man!\\xe2\\x80\\x9d </document>\\n\\t\\t<document> #user# and here we have creepy sleepy pedo joe lying again-bc he did say he would kill the oil and natural gas industry </document>\\n\\t\\t<document> a year ago? no...now, without a doubt. he will kneel because he can\\xe2\\x80\\x99t stand for anything. #user# the sellout #url# </document>\\n\\t\\t<document> #user# #user# blink 3 times if they are holding you hostage </document>\\n\\t\\t<document> #user# #user# #user# #user# #user# you are committing marketing suicide </document>\\n\\t\\t<document> #user# #user# #user# #user# #user# add in the virtue signaling mlb too </document>\\n\\t\\t<document> which is why the nfl is a shitshow with plummeting ratings #url# </document>\\n\\t\\t<document> #user# #user# dream on leftist turd...stick to hockey and maple syrup canuck... </document>\\n\\t\\t<document> rt #user#: blm and metoo totally silent on jacob blake\\xe2\\x80\\x99s rape victim who called 911 on him </document>\\n\\t\\t<document> rt #user#: it\\'s time to talk about former vice president joe biden, the open sexual predator. a thread/moment... </document>\\n\\t\\t<document> #user# #user# not jail forever, but death </document>\\n\\t\\t<document> #user# #user# actually the white male died. this was from a year ago </document>\\n\\t\\t<document> rt #user#: the most important video of 2020 #url# </document>\\n\\t\\t<document> rt #user#: who is responsible for the increase in violence around the country? that\\'s easy..... #url# </document>\\n\\t\\t<document> rt #user#: portland silent majority! #url# </document>\\n\\t\\t<document> rt #user#: based as fuck #url# </document>\\n\\t\\t<document> rt #user#: somebody st..... wtf is going on back there? \\xf0\\x9f\\x98\\x82\\xf0\\x9f\\x98\\x82\\xf0\\x9f\\x98\\x82 #url# </document>\\n\\t\\t<document> #user# #user# \\xe2\\x80\\x9cwere\\xe2\\x80\\x9d...and oh, fyi, there were white slaves too. </document>\\n\\t\\t<document> #user# did anyone other than a criminal or hollywood group of pedos watch them anyway? </document>\\n\\t\\t<document> #user# #user# #user# #user# said the troll account following 0 and followed by 0. late for your antifa meeting? </document>\\n\\t\\t<document> #user# #user# make sure you never call them when they are needed. your bitterness is blinding you to truth. </document>\\n\\t\\t<document> #user# #user# #user# all the videos show he committed suicide...you can\\xe2\\x80\\x99t justify acting a fool for this. </document>\\n\\t\\t<document> #user# #user# #user# #user# so you admit you\\xe2\\x80\\x99re an insurrectionist...i appeal to you to re-evaluate your position. </document>\\n\\t\\t<document> #user# #user# well, the globalist shill does write for the cultural marxist rag vox...so no surprise </document>\\n\\t\\t<document> rt #user#: you\\xe2\\x80\\x99ve never had an intel brief. the closest you\\xe2\\x80\\x99ve come is reading the press release i edited. </document>\\n\\t\\t<document> rt #user#: jacob blake raped a 15 year old girl. he\\xe2\\x80\\x99s now paralyzed from the waist down. seems like a proper punishment. </document>\\n\\t\\t<document> rt #user#: what should pelosi and crew wear in their next pandering photo op to honor jacob blake? </document>\\n\\t\\t<document> #user# looters should be given the eternal dirt nap. #hashtag# </document>\\n\\t\\t<document> #user# \\xf0\\x9f\\x8e\\xb6 hey man nice shot...good shot, man\\xf0\\x9f\\x8e\\xb6 </document>\\n\\t\\t<document> #user# #user# oh so now you want the police...\\xf0\\x9f\\xa4\\xa6\\xf0\\x9f\\x8f\\xbb\\xe2\\x80\\x8d\\xe2\\x99\\x82\\xef\\xb8\\x8f </document>\\n\\t\\t<document> #user# who is yelling \\xe2\\x80\\x9cwe need a medic!\\xe2\\x80\\x9d is this call of duty? he can just respawn </document>\\n\\t\\t<document> #user# you won\\xe2\\x80\\x99t do anything yourself. inciting and grifting. you are a pathetic little white man. </document>\\n\\t\\t<document> #user# #user# #user# masks do not help and the virus has a 99.8% survival rate. </document>\\n\\t\\t<document> #user# i call bs </document>\\n\\t\\t<document> #user# oh now they want to call the police...\\xf0\\x9f\\x98\\x82 </document>\\n\\t\\t<document> #user# why isn\\xe2\\x80\\x99t he stabbing her with a fork? </document>\\n\\t\\t<document> #user# #user# but fauci and birx said if you wear a mask you\\xe2\\x80\\x99re safe\\xf0\\x9f\\x98\\x82 </document>\\n\\t\\t<document> #user# #user# yes, chem trails. cia director brennan admitted it to the public years ago. you must be a globalist shill </document>\\n\\t\\t<document> #user# #user# it\\xe2\\x80\\x99s not just questionable technicians, but faulty tests as well </document>\\n\\t\\t<document> #user# #user# #user# suddenly a wild white knight appears...\\xe2\\x80\\x9dstop cranking on lebron\\xe2\\x80\\x9d\\xf0\\x9f\\x98\\x82 </document>\\n\\t\\t<document> rt #user#: show this video to #user# since he\\'s studying malcolm x now. #url# </document>\\n\\t\\t<document> #user# #user# #user# #user# #user# lebron makes $50m a year and he\\xe2\\x80\\x99s ignorant too, so what\\xe2\\x80\\x99s your point? </document>\\n\\t\\t<document> #user# you can hear the taser at the start of the video...and the guy kept walking. i\\xe2\\x80\\x99m thinking he wanted a \\xe2\\x80\\x9csuicide by cop\\xe2\\x80\\x9d </document>\\n\\t\\t<document> #user# #user# #user# #user# #user# you are ignorant </document>\\n\\t\\t<document> #user# #user# don\\xe2\\x80\\x99t let the door hit ya where the good lord split ya\\xf0\\x9f\\x98\\x89 </document>\\n\\t\\t<document> #user# #user# he said \\xe2\\x80\\x9ctrigger\\xe2\\x80\\x9d </document>\\n\\t\\t<document> #user# seriously, sue your brain for non support </document>\\n\\t\\t<document> #user# #user# #user# they are there bc they broke the law...and they have it much better than they should </document>\\n\\t\\t<document> #user# #user# #user# oh thousand die bc of his actions...\\xf0\\x9f\\x98\\x82 </document>\\n\\t\\t<document> #user# these people are stupid...what are the npc chants going to do? nothing. clearly they are starved for attention. </document>\\n\\t\\t<document> rt #user#: watch all the way to end #url# </document>\\n\\t\\t<document> rt #user#: \\xe2\\x80\\x9ccuz i\\xe2\\x80\\x99m rich as fuck\\xe2\\x80\\x9d #user# #url# </document>\\n\\t\\t<document> rt #user#: chicago officials raised the bridge not knowing a group was still crossing #url# </document>\\n\\t\\t<document> #user# #user# #user# boo freaking hoo leftist\\xf0\\x9f\\x98\\x82 </document>\\n\\t\\t<document> rt #user#: #user# fbi records prove joe biden lied about his role in targeting michael flynn #url# </document>\\n\\t\\t<document> #user# #user# they didn\\xe2\\x80\\x99t make \\xe2\\x80\\x9cmistakes\\xe2\\x80\\x9d...they deliberately broke the law. #hashtag# </document>\\n\\t\\t<document> rt #user#: great! once this criminal is arrested, let\\'s see how tough he is in prison. #user# #user# #hashtag# </document>\\n\\t\\t<document> rt #user#: your future congressman telling the truth. #url# #url# </document>\\n\\t\\t<document> rt #user#: #user# i fixed it. #url# </document>\\n\\t\\t<document> rt #user#: the moment trump won re-election #url# </document>\\n\\t\\t<document> #user# #user# #user# he should be charged with murder </document>\\n\\t\\t<document> #user# #user# just when i didn\\xe2\\x80\\x99t think she could get any more stupid...she proves me wrong\\xf0\\x9f\\x98\\x82 </document>\\n\\t\\t<document> #user# i didn\\xe2\\x80\\x99t...don\\xe2\\x80\\x99t want to give those reprobate traitors any ratings </document>\\n\\t\\t<document> #user# #user# #user# #user# big mike is packing #url# </document>\\n\\t\\t<document> #user# #user# #user# yes it does. the same question came up when sen cruz was running in 2016. trt again leftist </document>\\n\\t\\t<document> #user# #user# excellent! and hope you had security. </document>\\n\\t\\t<document> #user# #user# #user# oregon won\\xe2\\x80\\x99t do anything, the doj will have to charge this assclown </document>\\n\\t\\t<document> #user# it is funny...a tranny and an aging marxist... </document>\\n\\t\\t<document> #user# #user# mike is just jealous of melania\\xf0\\x9f\\x98\\x82 </document>\\n\\t\\t<document> #user# what kind of drone and where did you hear this? </document>\\n\\t\\t<document> rt #user#: kamala harris reportedly owes $1m in bills from failed presidential run #url# #url# </document>\\n\\t\\t<document> #user# #user# and a bunch of nevertrumper cucks </document>\\n\\t\\t<document> rt #user#: the democrat convention is a very angry toned, bitter, anti-american celebration of domestic terrorism. </document>\\n\\t\\t<document> #user# #user# #user# must like losing money showing that clown show </document>\\n\\t\\t<document> rt #user#: i can\\xe2\\x80\\x99t wait for night 2 said no one </document>\\n\\t\\t<document> #user# ratings take a dive showing the traitors to the republic national convention #url# </document>\\n\\t\\t<document> #user# #user# time to shoot rioters </document>\\n\\t\\t<document> rt #user#: this new trump ad about joe biden and kamala harris is scathing. #url# </document>\\n\\t\\t<document> #user# talk about \\xe2\\x80\\x9cawkward\\xe2\\x80\\x9d or \\xe2\\x80\\x9ccringe\\xe2\\x80\\x9d moment of the year.... </document>\\n\\t\\t<document> #user# #user# yeah, jose sucks </document>\\n\\t\\t<document> #user# #user# #user# his style sucks </document>\\n\\t\\t<document> #user# and she isn\\xe2\\x80\\x99t qualified to hold the office if vp or president. she is an anchor baby. parents were not citizens when she was born </document>\\n\\t\\t<document> what\\xe2\\x80\\x99s next? boxcars to the re-education camps? #url# </document>\\n\\t\\t<document> #user# #user# karen? no, you\\xe2\\x80\\x99re the \\xe2\\x80\\x9ckaren\\xe2\\x80\\x9d. marxist much? </document>\\n\\t\\t<document> #user# #user# hmm...millions of dems #hashtag# #hashtag# keep thinking this...you will be highly disappointed come november #hashtag# </document>\\n\\t\\t<document> #user# #user# #user# again, fake news. already been debunked by the joint chiefs and nsa. </document>\\n\\t\\t<document> #user# #user# #user# #user# we will both be offended together\\xf0\\x9f\\x98\\x84 </document>\\n\\t\\t<document> #user# #user# #user# more than enough proof </document>\\n\\t\\t<document> #user# #user# #user# preaching what the bible says about homosexuality got him arrested. </document>\\n\\t\\t<document> #user# #user# vladimir lenin: confiscate the wealth of the rich... #user# : hold my beer </document>\\n\\t\\t<document> rt #user#: if i\\xe2\\x80\\x99m a coon for supporting trump then you\\xe2\\x80\\x99re a prostitute for supporting cardi b. \\xf0\\x9f\\xa4\\xb7\\xf0\\x9f\\x8f\\xbe\\xe2\\x80\\x8d\\xe2\\x99\\x82\\xef\\xb8\\x8f i don\\xe2\\x80\\x99t make the rules </document>\\n\\t\\t<document> rt #user#: alright this is pretty funny \\xf0\\x9f\\x98\\x82 #url# </document>\\n\\t\\t<document> #user# #user# #user# try again leftist, he\\xe2\\x80\\x99s doing exactly what i voted for him to do. </document>\\n\\t\\t<document> #user# #user# then you stay in your bubble </document>\\n\\t\\t<document> #user# exactly right. they should be playing! </document>\\n\\t\\t<document> #user# #user# then stay home pussy </document>\\n\\t\\t<document> #user# good, let\\xe2\\x80\\x99s do this!! </document>\\n\\t\\t<document> #user# #user# no matter how hard you try, no one will watch women\\xe2\\x80\\x99s basketball </document>\\n\\t\\t<document> #user# #user# shut up pussy </document>\\n\\t\\t<document> #user# #user# if i was a wvu alum i would try to make excuses not to play too </document>\\n\\t\\t<document> #user# #user# said the crybaby </document>\\n\\t\\t<document> #user# #user# conference game dummy </document>\\n\\t\\t<document> #user# #user# seriously drink a tall glass of shut up </document>\\n\\t\\t<document> #user# no one cares about soccer. we want football!! </document>\\n\\t\\t<document> #user# feces? ok then </document>\\n\\t\\t<document> #user# #user# don\\xe2\\x80\\x99t support jorgensen but she is infinitely more qualified than the #hashtag# #user# # </document>\\n\\t\\t<document> #user# yes...inquiring minds want to know\\xf0\\x9f\\xa4\\x94 #hashtag# </document>\\n\\t\\t<document> rt #user#: joe biden should\\xe2\\x80\\x99ve saved his \\xe2\\x80\\x9care you a junkie.\\xe2\\x80\\x9d comment for hunter. </document>\\n\\t\\t<document> rt #user#: has anyone actually seen a joe biden sticker or a yard sign? #hashtag# </document>\\n\\t\\t<document> #user# #user# #user# i thought \\xe2\\x80\\x9cshelter in place\\xe2\\x80\\x9d was over...fix that hair bro...need to be more aerodynamic! </document>\\n\\t\\t<document> rt #user#: all of the numbers are coming in from michigan except one race. the squads rashida tlaib. she is the only one with 0% reporting. </document>\\n\\t\\t<document> rt #user#: #user# here is the clip!! #url# </document>\\n\\t\\t<document> rt #user#: #user# from the same article #url# </document>\\n\\t\\t<document> rt #user#: #user# lock up the pedos </document>\\n\\t\\t<document> #user# #user# the mockingbird media is complicit in the cover up of #hashtag# </document>\\n\\t\\t<document> rt #user#: and there you have it communists party puts full support behind joe biden #url# </document>\\n\\t\\t<document> rt #user#: department of justice awards over $35 million to provide housing to victims of #hashtag# #url# </document>\\n\\t\\t<document> rt #user#: democrats were so humiliated that they actually had to leave the room! #url# </document>\\n\\t\\t<document> #user# i know i do. </document>\\n\\t\\t<document> #user# #user# you never know. vote red. </document>\\n\\t\\t<document> rt #user#: i\\xe2\\x80\\x99m voting in person. you? </document>\\n\\t\\t<document> rt #user#: maybe mcgrath should try texting us all again. that went well the first time. </document>\\n\\t\\t<document> rt #user#: open america now!!! #user# #user# #user# #user# #hashtag# #url# </document>\\n\\t\\t<document> rt #user#: what are the chances these \\xe2\\x80\\x9cprotesters\\xe2\\x80\\x9d have jobs.... </document>\\n\\t\\t<document> rt #user#: stunning video shows explosions just minutes ago at beirut port #url# </document>\\n\\t\\t<document> #user# #user# #user# winnie the pooh called, your presence is requested at the beijing re-education camp. </document>\\n\\t\\t<document> #user# #user# she shouldn\\xe2\\x80\\x99t have left. </document>\\n\\t\\t<document> #user# #user# #user# #user# preach! we ain\\xe2\\x80\\x99t giving the leftists shit. </document>\\n\\t\\t<document> #user# a \\xe2\\x80\\x9cwho\\xe2\\x80\\x99s who\\xe2\\x80\\x9d of child predators </document>\\n\\t\\t<document> #user# #user# #user# don\\xe2\\x80\\x99t you have a ccp rally to attend? </document>\\n\\t\\t<document> rt #user#: awesome \\xf0\\x9f\\x91\\x8f\\xf0\\x9f\\x8f\\xbc thank you #user# #url# </document>\\n\\t\\t<document> rt #user#: we are empowered to protect ourselves and our country! best believe it! #user# \\xf0\\x9f\\x87\\xba\\xf0\\x9f\\x87\\xb8\\xf0\\x9f\\x8c\\x88\\xe2\\x98\\x80\\xef\\xb8\\x8f\\xf0\\x9f\\x8e\\xaf\\xf0\\x9f\\x94\\xab #url# </document>\\n\\t\\t<document> rt #user#: be patient and keep in prayer! praying for all of you always! love you \\xe2\\x9d\\xa4\\xef\\xb8\\x8f\\xf0\\x9f\\x98\\x98 #url# </document>\\n\\t\\t<document> rt #user#: .#user# #user# thank you mr. president! #hashtag# #url# </document>\\n\\t\\t<document> #user# the left would like nothing more than to establish a totalitarian state following luciferian principles. </document>\\n\\t\\t<document> rt #user#: democrats are focused like a laser on their cheat-by-mail scheme #url# </document>\\n\\t\\t<document> #user# one on the right is a cpap...but thanks for the daily dose of fear porn. don\\xe2\\x80\\x99t you have a cemetery to haunt beetlejuice? </document>\\n\\t\\t<document> rt #user#: does anyone care? #hashtag# #url# </document>\\n\\t\\t<document> #user# exactly right! and don\\xe2\\x80\\x99t forget, #hashtag# </document>\\n\\t\\t<document> #user# the dems were never going to put him up, it\\xe2\\x80\\x99s all a scam-just like this #hashtag# </document>\\n\\t\\t<document> #user# and twitter is suppressing tweets about it. #hashtag# #hashtag# #hashtag# </document>\\n\\t\\t<document> rt #user#: rt if you will never kneel during the national anthem! </document>\\n\\t\\t<document> #user# #user# #user# #user# sue your brain for non support </document>\\n\\t\\t<document> #user# #user# should have been 9-0 to deny the request. further proof that 4 of them are unamerican traitors to the republic </document>\\n\\t\\t<document> rt #user#: he certainly has not been afraid to bring up this issue, so why are the democrats all running from it? </document>\\n\\t\\t<document> #user# #user# #user# #user# that didn\\xe2\\x80\\x99t age well </document>\\n\\t\\t<document> rt #user#: #user# #user# #user# in his own words. #url# </document>\\n\\t\\t<document> #user# sucks for you ingrates. kneel before zod </document>\\n\\t\\t<document> #user# i see his athletic ability mirrors his healthcare ability...both way off course #hashtag# </document>\\n\\t\\t<document> #user# #user# here for the ratio </document>\\n\\t\\t<document> rt #user#: #user# i will call it whatever i like. china lied, people died. </document>\\n\\t\\t<document> rt #user#: remember when media asked questions about wayfair?...yeah..neither do i... </document>\\n\\t\\t<document> #user# #user# same ones that want to take our weapons, are the same ones that want to defund and disband the police...\\xf0\\x9f\\x98\\x82 </document>\\n\\t\\t<document> #user# i have new respect for martha </document>\\n\\t\\t<document> #user# exactly right! #hashtag# </document>\\n\\t\\t<document> rt #user#: they\\'re not going to let joe biden debate president trump are they? </document>\\n\\t\\t<document> #user# #user# #user# still asleep...hopefully one day you can wake up </document>\\n\\t\\t<document> rt #user#: if we are wearing masks then in-person voting must be permitted </document>\\n\\t\\t<document> rt #user#: i was wrong about trump #hashtag# #hashtag# #url# </document>\\n\\t\\t<document> #user# if it\\xe2\\x80\\x99s so \\xe2\\x80\\x9cfake\\xe2\\x80\\x9d then why does the left hate it? truth hurts #hashtag# </document>\\n\\t\\t<document> rt #user#: founder of never-trump super pac arrested in $60m bribery scheme. anyone else as shocked as i am??? \\xf0\\x9f\\x99\\x84 </document>\\n\\t\\t<document> #user# good, don\\xe2\\x80\\x99t let the door hit you where the good lord split you. globalist shill </document>\\n\\t\\t<document> rt #user#: we\\'re not waiting on durham. </document>\\n\\t\\t<document> #user# looks like she\\xe2\\x80\\x99s throwing witchcraft hand spells </document>\\n\\t\\t<document> rt #user#: \\xf0\\x9f\\x98\\x82\\xf0\\x9f\\xa4\\xa3\\xf0\\x9f\\x98\\x82 they have to be related \\xf0\\x9f\\x98\\x82\\xf0\\x9f\\xa4\\xa3\\xf0\\x9f\\x98\\x82 </document>\\n\\t\\t<document> #user# exactly right. making the move to parler </document>\\n\\t\\t<document> #user# #user# true, but south park is adult entertainment and has never been made to target the \\xe2\\x80\\x9cunder 18\\xe2\\x80\\x9d demographic. </document>\\n\\t\\t<document> #user# \\xf0\\x9f\\x98\\x82 the leftists are insane </document>\\n\\t\\t<document> rt #user#: do not retweet this trump ad. that twitter keeps banning. #url# </document>\\n\\t\\t<document> #user# well said #hashtag# </document>\\n\\t\\t<document> rt #user#: 1) why am i here? why am i a conservative? #hashtag# #hashtag# #url# </document>\\n\\t\\t<document> rt #user#: the definition of racist has no weight anymore because of people like jemele hill. </document>\\n\\t\\t<document> rt #user#: orange man bad. the truth about the donald trump racism narrative. #url# </document>\\n\\t\\t<document> rt #user#: just a reminder, three kevin spacey accusers died mysteriously. </document>\\n\\t\\t<document> #user# #user# no, she\\xe2\\x80\\x99s shaking from the \\xe2\\x80\\x9cshakes\\xe2\\x80\\x9d...get nancy another vodka </document>\\n\\t\\t<document> #user# that isn\\xe2\\x80\\x99t her or is a demon possessed her. tell us #user# did she have the same thing done that was done to you? </document>\\n\\t\\t<document> #user# #user# further proof that the uk should have never given hong kong to china\\xf0\\x9f\\x98\\x89 </document>\\n\\t\\t<document> #user# #user# shouldn\\xe2\\x80\\x99t you write this in chinese? </document>\\n\\t\\t<document> rt #user#: #user# #user# not a word from democrats when these thugs are looting, rioting, assaulting people and setting fires... </document>\\n\\t\\t<document> rt #user#: #user# #user# the speaker of the house just declared war on america. </document>\\n\\t\\t<document> #user# #user# totally false...now go drink another vodka lush </document>\\n\\t\\t<document> rt #user#: holy what the fuck??! #url# #url# </document>\\n\\t\\t<document> rt #user#: i\\xe2\\x80\\x99m ready for this\\xe2\\x9d\\xa4\\xef\\xb8\\x8f\\xf0\\x9f\\xa4\\x8d\\xf0\\x9f\\x92\\x99 #url# </document>\\n\\t\\t<document> rt #user#: this is absolutely spectacular. #url# </document>\\n\\t\\t<document> #user# where is #hashtag# now? nowhere, because they should change their name to \\xe2\\x80\\x9conly certain black lives matter\\xe2\\x80\\x9d </document>\\n\\t\\t<document> rt #user#: #user# #user# there is also this... \\xf0\\x9f\\xa4\\xa8. #url# </document>\\n\\t\\t<document> rt #user#: 0 offers help a brother out twitter rt\\xf0\\x9f\\x99\\x8f\\xf0\\x9f\\x8f\\xbe\\xe2\\x9d\\xa4\\xef\\xb8\\x8f\\xf0\\x9f\\x90\\xb6 #url# </document>\\n\\t\\t<document> #user# #user# sue your brain for non support </document>\\n\\t\\t<document> #user# #user# you are committed to defending and rationalizing for #hashtag# </document>\\n\\t\\t<document> rt #user#: #user# you keep deleting this honey.... you were so proud all these years though. i\\xe2\\x80\\x99m so very confused. </document>\\n\\t\\t<document> rt #user#: sad: democrat leaders struggling to enforce lockdowns after getting rid of all the police #url# </document>\\n\\t\\t<document> rt #user#: #user# you know who you are! #url# </document>\\n\\t\\t<document> rt #user#: #user# don\\'t they know... internet is forever. like this \\xf0\\x9f\\x91\\x87 #url# </document>\\n\\t <document> #user# where was that? </document>\\n<document> rt #user#: black man, has a strict warning for blm, don\\'t mess with white people \\xf0\\x9f\\x98\\xac #url# </document>\\n<document> #user# a meeting of insurgents... I mean a Biden rally </document>\\n<document> #user# #user# this is lame. Instead of threading curlers, they should thread... um </document>\\n<document> #user# this is crazy. Citizens rise up better. and therefore you never willingly give up your arms. </document>\\n<document> #user# I would have written, \"My name is... and I\\'m not racist, but Al Sharpton is a racist and I will pray for him to do better\" </document>\\n<document> rt #user#: the data came from the CDC!!! Are you kidding me with this twist??? </document>\\n<Document> rt #user#: Jason, who came to Kenosha to check on his family, insisted that \"Kenosha locals didn\\'t do that to their town, man!\" </Document>\\n<document> #user# and here lies creepy sleepy Pedo Joe again for saying he would kill the oil and gas industry </document>\\n<document> a year ago? no... now, without a doubt. he will kneel because he cannot stand for anything. #user# the sold out #url# </document>\\n<document> #user# #user# blinks three times when they are holding you hostage </document>\\n<document> #user# #user# #user# #user# #user# You\\'re committing marketing suicide </document>\\n<document> #user# #user# #user# #user# #user# also add virtue signaling mlb </document>\\n<document> why the NFL is a shit show with declining ratings #url# </document>\\n<document> #user# #user# dreaming of left shit... stick to hockey and maple syrup canuck... </document>\\n<document> rt #user#: blm and metoo are completely silent about Jacob Blake\\'s rape victim who called him on 911 </document>\\n<document> rt #user#: It\\'s time to talk about former Vice President Joe Biden, the open sex offender. a thread/moment... </document>\\n<document> #user# #user# not to prison forever, but to death </document>\\n<document> #user# #user# indeed the white man died. that was a year ago </document>\\n<document> rt #user#: the most important video of 2020 #url# </document>\\n<Document> rt #user#: Who is responsible for the increase in violence across the country? that\\'s easy..... #url# </document>\\n<document> rt #user#: Portland silent majority! #url# </document>\\n<document> rt #user#: based on fuck #url# </document>\\n<document> rt #user#: someone st..... what\\'s going on back there? \\xf0\\x9f\\x98\\x82\\xf0\\x9f\\x98\\x82\\xf0\\x9f\\x98\\x82 #url# </document>\\n<Document> #user# #user# \"were\"... and oh, FYI, there were white slaves too. </document>\\n<document> #user# was anyone even watching them other than a criminal or Hollywood gang of pedos? </document>\\n<Document> #user# #user# #user# #user# said the troll account after 0 and followed by 0. Late for your Antifa meeting? </document>\\n<document> #user# #user# make sure you never call them when they are needed. your bitterness blinds you to the truth. </document>\\n<document> #user# #user# #user# all the videos show that he committed suicide... you can\\'t justify acting like a fool for it. </document>\\n<document> #user# #user# #user# #user# So you admit that you are an insurgent... I urge you to reconsider your position. </document>\\n<document> #user# #user# Well, the globalist Shill writes for the cultural Marxist rag vox... so no surprise </document>\\n<document> rt #user#: You\\'ve never had an Intel briefing. The closest you can get is to read the press release I edited. </document>\\n<Document> rt #user#: Jacob Blake raped a 15-year-old girl. he is now paralyzed from the waist down. seems an appropriate punishment. </document>\\n<document> rt #user#: what should Pelosi and his crew wear to their next pandering photo op honoring Jacob Blake? </document>\\n<document> #user# Looters should get the eternal nap. #Hashtag# </Document>\\n<document> #user# \\xf0\\x9f\\x8e\\xb6 Hey man, good shot... good shot man\\xf0\\x9f\\x8e\\xb6 </document>\\n<document> #user# #user# oh, now you want the police...\\xf0\\x9f\\xa4\\xa6\\xf0\\x9f\\x8f\\xbb\\xe2\\x80\\x8d\\xe2\\x99\\x82\\xef\\xb8\\x8f </document>\\n<document> #user# yelling \"We need a paramedic!\" Is that mandatory? he can just </document> respawn\\n<document> #user# You will not do anything yourself. incitement and incitement. You are a pathetic little white man. </document>\\n<Document> #user# #user# #user# Masks do not help and the virus has a 99.8% survival rate. </document>\\n<document> #user# I\\'m calling bs </document>\\n<document> #user# oh now they want to call the police...\\xf0\\x9f\\x98\\x82 </document>\\n<document> #user# why doesn\\'t he poke her with a fork? </document>\\n<document> #user# #user# but fauci and birx said if you wear a mask you are safe \\xf0\\x9f\\x98\\x82 </document>\\n<Document> #user# #user# Yes, chemtrails. CIA Director Brennan admitted it publicly years ago. You must be a globalist sucker</document>\\n<document> #user# #user# not only questionable technicians, but also faulty tests </document>\\n<document> #user# #user# #user# Suddenly a wild white knight appears...\"stop cranking Lebron\"\\xf0\\x9f\\x98\\x82 </document>\\n<document> rt #user#: Show this video to #user# since he is studying malcolm x now. #url# </document>\\n<document> #user# #user# #user# #user# #user# Lebron makes $50 million a year and he\\'s ignorant too, so what are you getting at? </document>\\n<document> #user# You can hear the taser at the beginning of the video... and the guy kept walking. I think he wanted a \"suicide by a cop\" </document>\\n<document> #user# #user# #user# #user# #user# You are ignorant </document>\\n<document> #user# #user# don\\'t let the door hit you where God divided you\\xf0\\x9f\\x98\\x89 </document>\\n<document> #user# #user# he said \"trigger\" </document>\\n<document> #user# seriously, sue your brain for not supporting it </document>\\n<document> #user# #user# #user# they are here because they broke the law... and they have it way better than they should</document>\\n<document> #user# #user# #user# oh thousand die before his deeds...\\xf0\\x9f\\x98\\x82 </document>\\n<document> #user# these people are stupid... what will the NPC chants do? Nothing. clearly they are starved for attention. </document>\\n<document> rt #user#: pay attention to the end #url# </document>\\n<document> rt #user#: \"Because I\\'m damn rich\" #user# #url# </document>\\n<document> rt #user#: Chicago officials raised the bridge, unaware that a group was still crossing #url# </document>\\n<document> #user# #user# #user# boo freaking hoo leftist\\xf0\\x9f\\x98\\x82 </document>\\n<document> rt #user#: #user# fbi records prove Joe Biden lied about his role in fighting Michael Flynn #url# </document>\\n<document> #user# #user# they didn\\'t make any \"mistakes\"...they broke the law on purpose. #Hashtag# </Document>\\n<document> rt #user#: great! Once this criminal is arrested, let\\'s see how tough he is in prison. #user# #user# #hashtag# </document>\\n<Document> rt #user#: Your future congressman is telling the truth. #url# #url# </document>\\n<document> rt #user#: #user# I fixed it. #url# </document>\\n<document> rt #user#: the moment Trump won re-election #url# </document>\\n<document> #user# #user# #user# he should be charged with murder </document>\\n<document> #user# #user# just when I didn\\'t think she could get any dumber... she proves me wrong\\xf0\\x9f\\x98\\x82 </document>\\n<document> #user# I didn\\'t want to give these depraved traitors any ratings </document>\\n<document> #user# #user# #user# #user# big mike grabs #url# </document>\\n<document> #user# #user# #user# Yes, it does. the same question came up when sen cruz was running in 2016. trt again leftist </document>\\n<document> #user# #user# excellent! and hope you had safety. </document>\\n<document> #user# #user# #user# Oregon won\\'t do anything, the Doj needs to sue that ass clown </document>\\n<document> #user# it\\'s funny... a tranny and an aging marxist... </document>\\n<document> #user# #user# mike is just jealous of melania\\xf0\\x9f\\x98\\x82 </document>\\n<document> #user# what drone and where did you hear it? </document>\\n<document> rt #user#: kamala harris reportedly owes $1 million in bills from failed presidential electionsRun #url# #url# </document>\\n<document> #user# #user# and a bunch of goofy cucks </document>\\n<document> rt #user#: The Democratic Convention is a very angry-toned, bitter, anti-American celebration of domestic terrorism. </document>\\n<document> #user# #user# #user# must like losing money doing this clown show </document>\\n<document> rt #user#: I can\\'t wait for night 2 nobody said </document>\\n<document> #user# ratings take a dive showing the traitors to the national convention of the republic #url# </document>\\n<document> #user# #user# Time to shoot rioters </document>\\n<document> rt #user#: this new Trump ad about Joe Biden and Kamala Harris is scathing. #url# </document>\\n<document> #users talk about \"embarrassing\" or \"scary\" moments of the year.... </document>\\n<document> #user# #user# yeah jose sucks </document>\\n<document> #user# #user# #user# his style sucks </document>\\n<document> #user# and she is not qualified to serve as Vice President or President. She\\'s an anchor baby. Parents were not citizens when she was born</document>\\n<document> what\\'s next? freight cars to the re-education camps? #url# </document>\\n<document> #user# #user# Karen? no, you are the \"karen\". Marxist much? </document>\\n<document> #user# #user# hmm... millions of dems #hashtag# #hashtag# keep thinking about it... you will be very disappointed in November #hashtag# </document>\\n<document> #user# #user# #user# again, fake news. has already been debunked by the Joint Chiefs and the NSA. </document>\\n<document> #user# #user# #user# #user# we will both be offended together\\xf0\\x9f\\x98\\x84 </document>\\n<document> #user# #user# #user# more than enough proof </document>\\n<Document> #user# #user# #user# Preaching what the Bible says about homosexuality led to his arrest. </document>\\n<document> #user# #user# vladimir lenin: confiscate the wealth of the rich... #user# : hold my beer </document>\\n<document> rt #user#: If I\\'m a raccoon for supporting Trump, then you\\'re a prostitute for supporting Cardi B. \\xf0\\x9f\\xa4\\xb7\\xf0\\x9f\\x8f\\xbe\\xe2\\x80\\x8d\\xe2\\x99\\x82\\xef\\xb8\\x8f I don\\'t make the rules </document>\\n<document> rt #user#: Okay, that\\'s pretty funny \\xf0\\x9f\\x98\\x82 #url# </document>\\n<document> #user# #user# #user# try again on the left, it does exactly what I chose it for. </document>\\n<document> #user# #user# then you stay in your bubble </document>\\n<document> #user# exactly right. they should play! </document>\\n<document> #user# #user# then stay home pussy </document>\\n<document> #user# Alright, let\\'s do this!! </document>\\n<document> #user# #user# No matter how hard you try, no one is going to watch women\\'s basketball </document>\\n<document> #user# #user# shut up pussy </document>\\n<document> #user# #user# If I were a WVU grad I would try to find excuses not to play </document>\\n<document> #user# #user# said the crybaby </document>\\n<document> #user# #user# conference game dummy </document>\\n<document> #user# #user# seriously drinking a tall glass shut up </document>\\n<document> #user# Nobody cares about soccer. We want football!! </document>\\n<document> #user# feces? ok then </document>\\n<document> #user# #user# does not support jorgensen, but it is infinitely more qualified than the #hashtag# #user# # </document>\\n<document> #user# yes... questioning minds want to know\\xf0\\x9f\\xa4\\x94 #hashtag# </document>\\n<document> rt #user#: Joe Biden should have saved his \"are you a junkie\"? Comment for hunters. </document>\\n<document> rt #user#: Has anyone actually seen a Joe Biden sticker or yard sign? #Hashtag# </Document>\\n<document> #user# #user# #user# I thought \"accommodation in place\" was over...fix those hair boobs...must be more aerodynamic! </document>\\n<document> rt #user#: All numbers are from Michigan except one race. the troops of rashida tlaib. she is the only one with 0% coverage. </document>\\n<document> rt #user#: #user# here is the clip!! #url# </document>\\n<document> rt #user#: #user# from the same article #url# </document>\\n<document> rt #user#: #user# locks the pedos in </document>\\n<document> #user# #user# the mockingbird media is involved in the #hashtag# </document> cover-up\\n<document> rt #user#: and there you have it, the Communist Party is putting Joe Biden squarely aside #url# </document>\\n<document> rt #user#: Justice Department awards over $35 million to provide shelters for victims of #hashtag# #url# </document>\\n<document> rt #user#: Democrats were so humiliated they actually had to leave the room! #url# </document>\\n<document> #user# I know I do. </document>\\n<Document> #user# #user# you never know. vote red. </document>\\n<document> rt #user#: I vote personally. You? </document>\\n<document> rt #user#: Maybe McGrath should try texting us all again. that went well at first. </document>\\n<document> rt #user#: Open America now!!! #user# #user# #user# #user# #hashtag# #url# </document>\\n<document> rt #user#: What are the chances that these \"protesters\" have jobs.... </document>\\n<document> rt #user#: Stunning video shows explosions minutes ago in Beirut port #url# </document>\\n<document> #user# #user# #user# Winnie the Pooh called, your presence is requested at Beijing re-education camp. </document>\\n<document> #user# #user# she shouldn\\'t have gone. </document>\\n<document> #user# #user# #user# #user# preach! We don\\'t give a fuck about the left. </document>\\n<document> #user# a who\\'s who of child molesters </document>\\n<document> #user# #user# #user# don\\'t you have to take part in a ccp rally? </document>\\n<document> rt #user#: awesome \\xf0\\x9f\\x91\\x8f\\xf0\\x9f\\x8f\\xbc thanks #user# #url# </document>\\n<Document> rt #user#: We are empowered to protect ourselves and our country! best believe! #user# \\xf0\\x9f\\x87\\xba\\xf0\\x9f\\x87\\xb8\\xf0\\x9f\\x8c\\x88\\xe2\\x98\\x80\\xef\\xb8\\x8f\\xf0\\x9f\\x8e\\xaf\\xf0\\x9f\\x94\\xab #url# </document>\\n<document> rt #user#: Be patient and stay in prayer! I always pray for you all! love you \\xe2\\x9d\\xa4\\xef\\xb8\\x8f\\xf0\\x9f\\x98\\x98 #url# </document>\\n<document> rt #user#: .#user# #user# thank you mr. President! #Hashtag# #URL# </document>\\n<document> #user# the Left wants nothing more than to build a totalitarian state based on Luciferian principles. </document>\\n<document> rt #user#: Democrats are laser focused on their cheat-by-mail scheme #url# </document>\\n<document> #user# One on the right is a cpap... but thanks for the daily dose of anxiety porn. Don\\'t you have a graveyard that\\'s haunted by bug juice? </document>\\n<document> rt #user#: does anyone care? #Hashtag# #URL# </document>\\n<document> #user# just right! and don\\'t forget #hashtag# </document>\\n<document> #user# the dems would never take him in, it\\'s all cheating - just like that #hashtag# </document>\\n<document> #user# and Twitter suppresses tweets about it. #hashtag# #hashtag# #hashtag# </document>\\n<document> rt #user#: rt if you will never kneel during the national anthem! </document>\\n<document> #user# #user# #user# #user# sue your brain for non-support </document>\\n<document> #user# #user# should have been 9-0 to deny the request. further proof that 4 of them are un-American traitors to the Republic</document>\\n<document> rt #user#: He certainly wasn\\'t afraid to raise this issue, so why are the Democrats all running away? </document>\\n<document> #user# #user# #user# #user# who has not aged well </document>\\n<document> rt #user#: #user# #user# #user# in his own words. #url# </document>\\n<document> #user# is annoying you ungratefully. kneel before zod </document>\\n<document> #user# I see that his athletic ability reflects his healthcare abilities...both of course #hashtag# </document>\\n<document> #user# #user# here for the ratio </document>\\n<document> rt #user#: #user# I call it whatever I want. China lied, people died. </document>\\n<document> rt #user#: Remember when the media asked questions about Wayfair? ... yes ... neither do I ... </document>\\n<document> #user# #user# the same who want to take our guns are the same who want to disappoint and disband the police...\\xf0\\x9f\\x98\\x82 </document>\\n<document> #user# I have new respect for martha </document>\\n<document> #user# just right! #Hashtag# </Document>\\n<document> rt #user#: you areWe\\'re not going to let Joe Biden debate President Trump, are we? </document>\\n<document> #user# #user# #user# is still asleep... hopefully one day you can wake up </document>\\n<document> rt #user#: If we wear masks, personal voting must be allowed </document>\\n<document> rt #user#: I was wrong about Trump #hashtag# #hashtag# #url# </document>\\n<document> #user# if it\\'s so \"fake\", then why does the left hate it? Truth hurts #hashtag# </document>\\n<document> rt #user#: Founder of Never-Trump Super Pac Arrested in $60M Bribe Scheme. anyone else as shocked as me??? \\xf0\\x9f\\x99\\x84 </document>\\n<document> #user# Well, don\\'t let yourself be hit by the door where God divided you. Globalist Shill </document>\\n<Document> rt #user#: We\\'re not waiting for Durham. </document>\\n<document> #user# looks like she\\'s casting hand spells </document>\\n<document> rt #user#: \\xf0\\x9f\\x98\\x82\\xf0\\x9f\\xa4\\xa3\\xf0\\x9f\\x98\\x82 they must be related \\xf0\\x9f\\x98\\x82\\xf0\\x9f\\xa4\\xa3\\xf0\\x9f\\x98\\x82 </document>\\n<document> #user# exactly right. switching to parler </document>\\n<document> #user# #user# is true, but South Park is adult entertainment and was never designed for the under 18 audience. </document>\\n<document> #user# \\xf0\\x9f\\x98\\x82 the leftists are crazy </document>\\n<document> rt #user#: do not retweet this Trump ad. that Twitter keeps banning. #url# </document>\\n<document> #user# well said #hashtag# </document>\\n<document> rt #user#: 1) why am I here? Why am I a conservative? #hashtag# #hashtag# #url# </document>\\n<document> rt #user#: the definition of racist no longer matters because of people like jemele hill. </document>\\n<document> rt #user#: Orange man bad. The truth about Donald Trump\\'s racism narrative. #url# </document>\\n<document> rt #user#: As a reminder, three of Kevin Spacey\\'s accusers have mysteriously died. </document>\\n<document> #user# #user# no, she\\'s shaking from the \"shakes\"... get Nancy another vodka </document>\\n<document> #user# who is not her or possessed by a demon. Tell us, #user#, did she do the same thing that was done to you? </document>\\n<document> #user# #user# further proof that the UK should never have given Hong Kong to China\\xf0\\x9f\\x98\\x89 </document>\\n<document> #user# #user# shouldn\\'t you write that in chinese? </document>\\n<document> rt #user#: #user# #user# not a word from Democrats when these thugs loot, rampage, attack people and set fires... </document>\\n<document> rt #user#: #user# #user# the Speaker of the House has just declared war on America. </document>\\n<document> #user# #user# completely wrong... now have another vodka lush </document>\\n<document> rt #user#: holy what the hell??! #url# #url# </document>\\n<document> rt #user#: I\\'m ready for this\\xe2\\x9d\\xa4\\xef\\xb8\\x8f\\xf0\\x9f\\xa4\\x8d\\xf0\\x9f\\x92\\x99 #url# </document>\\n<document> rt #user#: This is absolutely spectacular. #url# </document>\\n<document> #user# where is #hashtag# now? nowhere, because they should change their name to \"count only certain black lives\" </document>\\n<document> rt #user#: #user# #user# there\\'s that too... \\xf0\\x9f\\xa4\\xa8. #url# </document>\\n<document> rt #user#: 0 offers help a brother from Twitter rt\\xf0\\x9f\\x99\\x8f\\xf0\\x9f\\x8f\\xbe\\xe2\\x9d\\xa4\\xef\\xb8\\x8f\\xf0\\x9f\\x90\\xb6 #url# </document>\\n<document> #user# #user# sue your brain for non-support </document>\\n<document> #user# #user# You agree to defend and rationalize #hashtag# </document>\\n<document> rt #user#: #user# you keep deleting this treasure... you were so proud all these years. i am so very confused </document>\\n<document> rt #user#: sad: Democrat leaders are struggling to enforce lockdowns after getting rid of all police #url# </document>\\n<document> rt #user#: #user# you know who you are! #url# </document>\\n<document> rt #user#: #user# you don\\'t know... the internet is forever. like this \\xf0\\x9f\\x91\\x87 #url# </document>', shape=(), dtype=string)\n",
            "SVM Accuracy Score on Test set ->  [0.59]\n"
          ]
        }
      ]
    }
  ]
}