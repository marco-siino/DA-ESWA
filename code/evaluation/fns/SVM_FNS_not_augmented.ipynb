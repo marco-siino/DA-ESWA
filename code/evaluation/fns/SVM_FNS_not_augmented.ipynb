{
  "nbformat": 4,
  "nbformat_minor": 0,
  "metadata": {
    "accelerator": "TPU",
    "colab": {
      "provenance": [],
      "include_colab_link": true
    },
    "kernelspec": {
      "display_name": "Python 3",
      "name": "python3"
    }
  },
  "cells": [
    {
      "cell_type": "markdown",
      "metadata": {
        "id": "view-in-github",
        "colab_type": "text"
      },
      "source": [
        "<a href=\"https://colab.research.google.com/github/marco-siino/DA-ESWA/blob/main/code/evaluation/fns/SVM_FNS_not_augmented.ipynb\" target=\"_parent\"><img src=\"https://colab.research.google.com/assets/colab-badge.svg\" alt=\"Open In Colab\"/></a>"
      ]
    },
    {
      "cell_type": "markdown",
      "metadata": {
        "id": "u-hLo5ufkCT1"
      },
      "source": [
        "## Investigating text data augmentation using back translation for author profiling\n",
        "- - - \n",
        "SVM ON HSS DS EXPERIMENTS NOTEBOOK \n",
        "- - -\n",
        "SVM on Fake News Spreaders Dataset augmented without backtranslation.\n",
        "Code by M. Siino. \n",
        "\n",
        "From the paper: \"Investigating text data augmentation using back translation for author profiling\" by M.Siino et al."
      ]
    },
    {
      "cell_type": "markdown",
      "metadata": {
        "id": "6IBqUcj4cx2G"
      },
      "source": [
        "## Importing modules."
      ]
    },
    {
      "cell_type": "code",
      "metadata": {
        "id": "AQSunQ-ucjLX"
      },
      "source": [
        "import matplotlib.pyplot as plt\n",
        "import os\n",
        "import random\n",
        "import re\n",
        "import shutil\n",
        "import string\n",
        "import tensorflow as tf\n",
        "\n",
        "from tensorflow.keras import layers\n",
        "from tensorflow.keras import losses\n",
        "from tensorflow.keras import preprocessing\n",
        "from tensorflow.keras.layers.experimental.preprocessing import TextVectorization\n",
        "from google.colab import files\n",
        "from io import open\n",
        "from numpy.random import seed\n",
        "import numpy as np\n",
        "from pathlib import Path\n",
        "from sklearn import svm\n",
        "\n",
        "os.environ['TF_CUDNN_DETERMINISTIC']='true'\n",
        "os.environ['TF_DETERMINISTIC_OPS']='true'"
      ],
      "execution_count": 13,
      "outputs": []
    },
    {
      "cell_type": "markdown",
      "metadata": {
        "id": "0QHd_fxmHCfa"
      },
      "source": [
        "## Importing DS and extract in current working directory."
      ]
    },
    {
      "cell_type": "code",
      "metadata": {
        "id": "ocYMUXaY8r0_",
        "colab": {
          "base_uri": "https://localhost:8080/"
        },
        "outputId": "ce58e051-d648-4d41-e205-603c1ceb4dd5"
      },
      "source": [
        "urlTrainingSet = \"https://github.com/marco-siino/DA-ESWA/raw/main/data/fns/fns-training-original.zip\"\n",
        "training_set = tf.keras.utils.get_file(\"pan20-author-profiling-training-2020-02-23.zip\", urlTrainingSet,\n",
        "                                    extract=True, archive_format='zip',cache_dir='.',\n",
        "                                    cache_subdir='')\n",
        "\n",
        "urlTestSet=\"https://github.com/marco-siino/DA-ESWA/raw/main/data/fns/fns-test-original.zip\"\n",
        "test_set = tf.keras.utils.get_file(\"pan20-author-profiling-test-2020-02-23.zip\", urlTestSet,\n",
        "                                    extract=True, archive_format='zip',cache_dir='.',\n",
        "                                    cache_subdir='')"
      ],
      "execution_count": 14,
      "outputs": [
        {
          "output_type": "stream",
          "name": "stdout",
          "text": [
            "Downloading data from https://github.com/marco-siino/DA-ESWA/raw/main/data/fns/fns-training-original.zip\n",
            "3094459/3094459 [==============================] - 0s 0us/step\n",
            "Downloading data from https://github.com/marco-siino/DA-ESWA/raw/main/data/fns/fns-test-original.zip\n",
            "864693/864693 [==============================] - 0s 0us/step\n"
          ]
        }
      ]
    },
    {
      "cell_type": "code",
      "source": [
        "training_set_dir = os.path.join(os.path.dirname(training_set), 'pan20-author-profiling-training-2020-02-23-augmented')\n",
        "test_set_dir = os.path.join(os.path.dirname(test_set), 'pan20-author-profiling-test-2020-02-23-augmented')"
      ],
      "metadata": {
        "id": "VhXCTQbYykC-"
      },
      "execution_count": 15,
      "outputs": []
    },
    {
      "cell_type": "markdown",
      "metadata": {
        "id": "Di7jOZjALo4X"
      },
      "source": [
        "## Build folders hierarchy to use Keras folders preprocessing function."
      ]
    },
    {
      "cell_type": "code",
      "metadata": {
        "colab": {
          "base_uri": "https://localhost:8080/"
        },
        "id": "-ucATWhfGSGf",
        "outputId": "3478c5ac-c1f8-40ca-b6b3-6fafe8597b69"
      },
      "source": [
        "### Training Folders. ###\n",
        "\n",
        "# First level directory.\n",
        "if not os.path.exists('train_dir_en'):\n",
        "    os.makedirs('train_dir_en')\n",
        "\n",
        "# Class labels directory.\n",
        "if not os.path.exists('train_dir_en/0'):\n",
        "    os.makedirs('train_dir_en/0')\n",
        "if not os.path.exists('train_dir_en/1'):\n",
        "    os.makedirs('train_dir_en/1')\n",
        "\n",
        "# Make Py variables.\n",
        "train_dir='train_dir_'\n",
        "\n",
        "## Test Folders. ##\n",
        "# First level directory.\n",
        "if not os.path.exists('test_dir_en'):\n",
        "    os.makedirs('test_dir_en')\n",
        "\n",
        "# Class labels directory.\n",
        "if not os.path.exists('test_dir_en/0'):\n",
        "    os.makedirs('test_dir_en/0')\n",
        "if not os.path.exists('test_dir_en/1'):\n",
        "    os.makedirs('test_dir_en/1')\n",
        "\n",
        "# Make Py variables.\n",
        "test_dir='test_dir_'\n",
        "\n",
        "!ls -A"
      ],
      "execution_count": 16,
      "outputs": [
        {
          "output_type": "stream",
          "name": "stdout",
          "text": [
            ".config\n",
            "__MACOSX\n",
            "pan20-author-profiling-test-2020-02-23\n",
            "pan20-author-profiling-test-2020-02-23-augmented\n",
            "pan20-author-profiling-test-2020-02-23-augmented.zip\n",
            "pan20-author-profiling-test-2020-02-23.zip\n",
            "pan20-author-profiling-training-2020-02-23\n",
            "pan20-author-profiling-training-2020-02-23-augmented\n",
            "pan20-author-profiling-training-2020-02-23-augmented.zip\n",
            "pan20-author-profiling-training-2020-02-23.zip\n",
            "sample_data\n",
            "test_dir_en\n",
            "train_dir_en\n"
          ]
        }
      ]
    },
    {
      "cell_type": "markdown",
      "metadata": {
        "id": "tNib56hF_8an"
      },
      "source": [
        "## Set language and directory paths.\n"
      ]
    },
    {
      "cell_type": "code",
      "metadata": {
        "id": "Rq0EgZuf_5tv"
      },
      "source": [
        "# Set en and es ground truth file path for train_dir. \n",
        "language='en'\n",
        "\n",
        "truth_file_training_dir_en=training_set_dir+'/'+language+'/'\n",
        "truth_file_training_path_en = truth_file_training_dir_en+'truth.txt'\n",
        "\n",
        "truth_file_test_dir=test_set_dir\n",
        "truth_file_test_path_en = truth_file_test_dir+'/'+'truth'+'.txt'"
      ],
      "execution_count": 17,
      "outputs": []
    },
    {
      "cell_type": "markdown",
      "metadata": {
        "id": "7VQKsc4XOpD8"
      },
      "source": [
        "## Read truth.txt to organize training and test dataset folders.\n",
        "\n"
      ]
    },
    {
      "cell_type": "code",
      "metadata": {
        "id": "4kxcJ92-Nkto"
      },
      "source": [
        "# Open the file truth.txt with read only permit.\n",
        "f = open(truth_file_training_path_en, \"r\")\n",
        "# use readline() to read the first line \n",
        "line = f.readline()\n",
        "# use the read line to read further.\n",
        "# If the file is not empty keep reading one line\n",
        "# at a time, till the file is empty\n",
        "while line:\n",
        "    # Split line at :::\n",
        "    x = line.split(\":::\")\n",
        "    fNameXml = x[0]+'.xml'\n",
        "    fNameTxt = x[0]+'.txt'\n",
        "    # Second coord [0] gets just the first character (label) and not /n too.\n",
        "    label = x[1][0]\n",
        "\n",
        "    # Now move the file to the right folder.\n",
        "    if os.path.exists(truth_file_training_dir_en+fNameXml):\n",
        "      os.rename(truth_file_training_dir_en+fNameXml, './train_dir_'+language+'/'+label+'/'+fNameTxt )\n",
        "\n",
        "    # use readline() to read next line\n",
        "    line = f.readline()\n",
        "\n",
        "# Open the file truth.txt with read only permit.\n",
        "f = open(truth_file_test_path_en, \"r\")\n",
        "# use readline() to read the first line \n",
        "line = f.readline()\n",
        "# use the read line to read further.\n",
        "# If the file is not empty keep reading one line\n",
        "# at a time, till the file is empty\n",
        "while line:\n",
        "    # Split line at :::\n",
        "    x = line.split(\":::\")\n",
        "    fNameXml = x[0]+'.xml'\n",
        "    fNameTxt = x[0]+'.txt'\n",
        "    # Second coord [0] gets just the first character (label) and not /n too.\n",
        "    label = x[1][0]\n",
        "\n",
        "    # Now move the file to the right folder.\n",
        "    if os.path.exists(truth_file_test_dir+'/'+language+'/'+fNameXml):\n",
        "      os.rename(truth_file_test_dir+'/'+language+'/'+fNameXml, './test_dir_'+language+'/'+label+'/'+fNameTxt )\n",
        "\n",
        "    # use readline() to read next line\n",
        "    line = f.readline()"
      ],
      "execution_count": 18,
      "outputs": []
    },
    {
      "cell_type": "markdown",
      "metadata": {
        "id": "uTJi1fbT_Rup"
      },
      "source": [
        "## Generate full training set.\n",
        "\n"
      ]
    },
    {
      "cell_type": "code",
      "metadata": {
        "colab": {
          "base_uri": "https://localhost:8080/"
        },
        "id": "FyafvXEMhEKw",
        "outputId": "681c10ad-fe81-4bc8-bad0-e2b74ea0a349"
      },
      "source": [
        "# Generate full randomized training set.\n",
        "batch_size=1\n",
        "\n",
        "en_train_ds = tf.keras.preprocessing.text_dataset_from_directory(\n",
        "    train_dir+language, \n",
        "    batch_size=batch_size,\n",
        "    shuffle=False\n",
        "    )\n",
        "\n",
        "en_test_ds = tf.keras.preprocessing.text_dataset_from_directory(\n",
        "    test_dir+language, \n",
        "    batch_size=batch_size,\n",
        "    shuffle=False\n",
        "    )\n",
        "\n",
        "train_ds=en_train_ds.shuffle(300,seed=1, reshuffle_each_iteration=False)\n",
        "test_ds=en_test_ds.shuffle(200,seed=1, reshuffle_each_iteration=False)\n",
        "\n",
        "train_ds_size=len(train_ds)\n",
        "test_ds_size=len(test_ds)"
      ],
      "execution_count": 19,
      "outputs": [
        {
          "output_type": "stream",
          "name": "stdout",
          "text": [
            "Found 300 files belonging to 2 classes.\n",
            "Found 200 files belonging to 2 classes.\n"
          ]
        }
      ]
    },
    {
      "cell_type": "markdown",
      "metadata": {
        "id": "ITouXXtQ8WzV"
      },
      "source": [
        "## Functions to pre-process source text. (A detailed discussion on our paper)"
      ]
    },
    {
      "cell_type": "code",
      "metadata": {
        "id": "bDPIqAgXYWim"
      },
      "source": [
        "# Preprocessing function to remove some noise due to the translation.\n",
        "def clean_samples(input_data):\n",
        "  tag_author_lang_en_removed = tf.strings.regex_replace(input_data,'<author lang=\"en\">', '')  \n",
        "  tag_opening_documents = tf.strings.regex_replace(tag_author_lang_en_removed,'<documents>', '')\n",
        "  tag_opening_cdata_removed = tf.strings.regex_replace(tag_opening_documents,'<\\!\\[CDATA\\[', ' ')\n",
        "  tag_closing_cdata_removed = tf.strings.regex_replace(tag_opening_cdata_removed,'\\]\\]></document>', ' ></document>')\n",
        "  tag_closing_documents = tf.strings.regex_replace(tag_closing_cdata_removed,'</documents>', '')\n",
        "  output_data = tf.strings.regex_replace(tag_closing_documents,'</author>', '')\n",
        "  return output_data"
      ],
      "execution_count": 20,
      "outputs": []
    },
    {
      "cell_type": "markdown",
      "metadata": {
        "id": "TjUnE9_DEyCw"
      },
      "source": [
        "## Get the length of the longest sample in training set. Then adapt text.\n",
        "\n"
      ]
    },
    {
      "cell_type": "code",
      "metadata": {
        "id": "ebRMQqa_mr48"
      },
      "source": [
        "def preprocess_and_adapt_ts(training_set):\n",
        "  # Set a large sequence length to find the longest sample in the training set.\n",
        "  sequence_length = 20000\n",
        "  vectorize_layer = TextVectorization(\n",
        "      standardize=clean_samples,\n",
        "      output_mode='int',\n",
        "      output_sequence_length=sequence_length)\n",
        "\n",
        "  train_text = training_set.map(lambda x, y: x)\n",
        "  vectorize_layer.adapt(train_text)\n",
        "  #vectorize_layer.get_vocabulary()\n",
        "\n",
        "  model = tf.keras.models.Sequential()\n",
        "  model.add(tf.keras.Input(shape=(1,), dtype=tf.string))\n",
        "  model.add(vectorize_layer)\n",
        "\n",
        "  longest_sample_length=1\n",
        "\n",
        "  for element in training_set:\n",
        "    authorDocument=element[0]\n",
        "    label=element[1]\n",
        "    \n",
        "    #print(\"Sample considered is: \", authorDocument[0].numpy())\n",
        "    #print(\"Preprocessed: \", str(custom_standardization(authorDocument[0].numpy())))\n",
        "    #print(\"And has label: \", label[0].numpy())\n",
        "\n",
        "    out=model(authorDocument)\n",
        "    # Convert token list to numpy array.\n",
        "    token_list = out.numpy()[0]\n",
        "    token_list = np.trim_zeros(token_list,'b')\n",
        "    if longest_sample_length < len(token_list):\n",
        "      longest_sample_length = len(token_list)\n",
        "\n",
        "  print(\"Length of the longest sample is:\", longest_sample_length)\n",
        "\n",
        "  # After tokenization longest_sample_length covers all the document lenghts in our dataset.\n",
        "  sequence_length = longest_sample_length\n",
        "\n",
        "  vectorize_layer = TextVectorization(\n",
        "      standardize=clean_samples,\n",
        "      output_mode='int',\n",
        "      output_sequence_length=sequence_length)\n",
        "\n",
        "  # Finally adapt the vectorize layer.\n",
        "  train_text = training_set.map(lambda x, y: x)\n",
        "  vectorize_layer.adapt(train_text)\n",
        "  return vectorize_layer"
      ],
      "execution_count": 21,
      "outputs": []
    },
    {
      "cell_type": "markdown",
      "metadata": {
        "id": "x8zDXrk9eEy5"
      },
      "source": [
        "## Vectorization\n",
        "\n",
        "\n"
      ]
    },
    {
      "cell_type": "code",
      "metadata": {
        "colab": {
          "base_uri": "https://localhost:8080/"
        },
        "id": "P8owxNMIeFsX",
        "outputId": "53793977-0ebe-451e-b0af-e6b61c998a73"
      },
      "source": [
        "print(\"\\n\\n* * * * VECTORIZATION STARTED * * * *\")\n",
        "\n",
        "# Preprocess training set to build a dictionary.\n",
        "vectorize_layer = preprocess_and_adapt_ts(train_ds)\n",
        "\n",
        "max_features=len(vectorize_layer.get_vocabulary()) + 1\n",
        "print(\"Vocabulary size is:\", max_features)"
      ],
      "execution_count": 22,
      "outputs": [
        {
          "output_type": "stream",
          "name": "stdout",
          "text": [
            "\n",
            "\n",
            "* * * * VECTORIZATION STARTED * * * *\n",
            "Length of the longest sample is: 7175\n",
            "Vocabulary size is: 98126\n"
          ]
        }
      ]
    },
    {
      "cell_type": "markdown",
      "metadata": {
        "id": "XDEi7MAo4qsQ"
      },
      "source": [
        "## Models definition and evaluation.\n",
        "\n",
        "\n"
      ]
    },
    {
      "cell_type": "code",
      "metadata": {
        "colab": {
          "base_uri": "https://localhost:8080/"
        },
        "id": "Mm1fdCpETWL-",
        "outputId": "0d03c2e1-a115-41b0-e24c-deb1cd0b8fac"
      },
      "source": [
        "print(\"\\n\\n***** FINITO DI PROCESSARE E ADATTARE IL TRAINING SET, INIZIA LA SIMULAZIONE *******\")\n",
        "# Print a raw and a preprocessed sample.\n",
        "for element in train_ds:\n",
        "  authorDocument=element[0]\n",
        "  label=element[1]\n",
        "  \n",
        "  print(\"Sample considered is: \", authorDocument[0])\n",
        "  print(\"Preprocessed: \", str(clean_samples(authorDocument[0].numpy())))\n",
        "  break\n",
        "\n",
        "# # # - - - - - MODELS DEFINITION AND EVALUATION - - - - - # # #\n",
        "\n",
        "model = tf.keras.models.Sequential()\n",
        "model.add(tf.keras.Input(shape=(1,), dtype=tf.string))\n",
        "model.add(vectorize_layer)\n",
        "\n",
        "# # # # # # # # # # # # # # # # # # # # # # # # # # # # # # # # # # # \n",
        "\n",
        "# --- SVM SECTION START --- #\n",
        "\n",
        "training_labels=[]\n",
        "training_samples=[]\n",
        "\n",
        "max_features=len(vectorize_layer.get_vocabulary()) + 1\n",
        "\n",
        "for element in train_ds:\n",
        "  authorDocument=element[0]\n",
        "  label=element[1]\n",
        "  \n",
        "  #print(\"Sample considered is: \", authorDocument[0])\n",
        "  #print(\"Preprocessed: \", str(custom_standardization(authorDocument[0].numpy())))\n",
        "  #print(\"And has label: \", label[0].numpy())\n",
        "  \n",
        "  text_vect_layer_model = tf.keras.Model(inputs=model.input,\n",
        "                                      outputs=model.layers[0].output)\n",
        "  text_vect_out = text_vect_layer_model(authorDocument)\n",
        "\n",
        "  training_labels.append(label[0].numpy())\n",
        "  current_sample=np.zeros(max_features)\n",
        "  for current_token in text_vect_out[0][:].numpy():\n",
        "    #print(current_token,end=' ')\n",
        "    #print(vectorize_layer.get_vocabulary()[current_token])\n",
        "    current_sample[current_token]+=1\n",
        "  training_samples.append(current_sample)\n",
        "  #break\n",
        "\n",
        "training_labels=np.array(training_labels)\n",
        "training_samples=np.array(training_samples)\n",
        "#print(\"\\nLE LABELS DEI CAMPIONI DI TRAINING SONO:\")\n",
        "#print(training_labels)\n",
        "#print(\"\\nI SAMPLE DI TRAINING DOPO LA TEXT VECTORIZATION SONO:\")\n",
        "#print(training_samples)\n",
        "\n",
        "test_labels=[]\n",
        "test_samples=[]\n",
        "\n",
        "for element in test_ds:\n",
        "  authorDocument=element[0]\n",
        "  label=element[1]\n",
        "  \n",
        "  text_vect_layer_model = tf.keras.Model(inputs=model.input,\n",
        "                                      outputs=model.layers[0].output)\n",
        "  text_vect_out = text_vect_layer_model(authorDocument)\n",
        "\n",
        "  test_labels.append(label[0].numpy())\n",
        "  current_sample=np.zeros(max_features)\n",
        "  for current_token in text_vect_out[0][:].numpy():\n",
        "    current_sample[current_token]+=1\n",
        "  test_samples.append(current_sample)\n",
        "\n",
        "test_labels=np.array(test_labels)\n",
        "test_samples=np.array(test_samples)\n",
        "\n",
        "SVM = svm.SVC(C=0.5, kernel='linear', gamma='auto')\n",
        "SVM.fit(training_samples,training_labels)\n",
        "# predict the labels on training set\n",
        "#predictions_SVM = SVM.predict(training_samples)\n",
        "# Use accuracy_score function to get the accuracy\n",
        "result=SVM.score(training_samples,training_labels)\n",
        "print(\"SVM Accuracy Score on Training set -> \",result)\n",
        "\n",
        "# predict the labels on validation dataset\n",
        "predictions_SVM = SVM.predict(test_samples)\n",
        "# Use accuracy_score function to get the accuracy\n",
        "result=SVM.score(test_samples,test_labels)\n",
        "print(\"SVM Accuracy Score on Test set -> \",result)\n",
        "\n",
        "# --- SVM SECTION END --- #\n",
        "\n",
        "# # # # # # # # # # # # # # # # # # # # # # # # # # # # # # # # # # #\n",
        "\n",
        "# # # - - - - - MODEL DEFINITION AND EVALUATION END  - - - - - # # #"
      ],
      "execution_count": 23,
      "outputs": [
        {
          "output_type": "stream",
          "name": "stdout",
          "text": [
            "\n",
            "\n",
            "***** FINITO DI PROCESSARE E ADATTARE IL TRAINING SET, INIZIA LA SIMULAZIONE *******\n",
            "Sample considered is:  tf.Tensor(b' >\\n      <document> in religion we call it spirits. in science we call it energy. in the streets we call it vibes. </document>\\n    <document> bringing ur face closer to your fan </document>\\n    <document> iranian hit us ship, us did not do anything, iranian hit us drone us did not do anything, iranian when as far as an\\xe2\\x80\\xa6 #url# </document>\\n    <document> you first call tomorrow been 1st of november 2019 will be a financial blessings.   our latest mixtape... grab ur copy. </document>\\n    <document> no weapon against him will execute ijn #url# </document>\\n    <document> congratulations  my sister  once again #url# </document>\\n    <document> age gratefully beautiful woman  llnp best friend #url# </document>\\n    <document> ur popularity is our greatest priority #url# </document>\\n    <document> i don\\xe2\\x80\\x99t know who needs to hear this but grow up and stop watching porn. </document>\\n    <document> gov ugwuanyi paid salary \\xf0\\x9f\\x99\\x84\\xf0\\x9f\\x99\\x84\\xf0\\x9f\\x99\\x84 i don\\'t consider salary payment an achievement </document>\\n    <document> u see those frnds dat inbox u only wen u upload fine pictures, stay away from them. </document>\\n    <document> age gratefully beautiful woman  llnp best friend </document>\\n    <document> video over make sinsi ezege but we need ur poster badly on the street of 042, to waken the vibe street alobam. mpa\\xe2\\x80\\xa6 #url# </document>\\n    <document> we are the street and street is in us </document>\\n    <document> #hashtag# is the real soldier. ebonyi guy single handedly disarms a nigerian stupid soldier..  i don\\'t care what you may\\xe2\\x80\\xa6 #url# </document>\\n    <document> can someone help and subtitle this song for me #url# </document>\\n    <document> my best nigerian president  i celebrate with you sir #url# </document>\\n    <document> never tell your family about your relationship problems because you might forgive your partner and they won\\'t.. </document>\\n    <document> wwe africa full match of rey mysterio vs kane is out now 2019 latest wwe africa trending video #url# </document>\\n    <document> may god continue to sustain u and guide you through anything on anyway @ anytime ijn #url# </document>\\n    <document> never be in a hurry to criticize a woman who left her marriage. most of them did everything possible to save their homes. be kind! </document>\\n    <document> best epic song of the season #url# </document>\\n    <document> stop dating broke girls . i know many girls and ladies gonna be angry with this post but try learn more about it .\\xe2\\x80\\xa6 #url# </document>\\n    <document> bia  rie  ji \\xf0\\x9f\\xa4\\xa3\\xf0\\x9f\\xa4\\xa3\\xf0\\x9f\\xa4\\xa3 \\xe2\\x80\\x94 at enugu - coal city. #url# </document>\\n    <document> the army and the police put up an impressive professionalism in this encounter.  kudos to them. more respect to d g\\xe2\\x80\\xa6 #url# </document>\\n    <document> happy birthday papilo age gratefully aka shoemaker </document>\\n    <document> july updates.... crab a copy as edey hot </document>\\n    <document> a man of his word #url# </document>\\n    <document> happy birthday to my own blood from another mummy.   more money,  peace,  joy, love and happiness as ur add 1 to ur\\xe2\\x80\\xa6 #url# </document>\\n    <document> congratulations  my sister  once again #url# </document>\\n    <document> ur july updates on jubilation  crab a copy as edey hot </document>\\n    <document> my past pains has notin 2 contribute 2 my future glory. </document>\\n    <document> good morning to u all may ur today be better than yesterday  may ur tomorrow be better than today  may our hustle be fruitful </document>\\n    <document> #url# best of umu udubonch vol2  akalaka #url# </document>\\n    <document> wonderful deserve wonderful miracle.  pastor mmm everywhere #url# </document>\\n    <document> can you marry a billionaire who is obasinjo son and  hiv positve? answer as u are tonto d </document>\\n    <document> ur popularity is our greatest priority  tel 08084770119 </document>\\n    <document> on behalf of d common man in dis country,  we are hopelessly lost. 132 biko haram 4gvn n reinstated in borno state. </document>\\n    <document> d only tin u should hv at d back of mind is dat anytin can happen at anytime.  but hustle and bustle  defines  ur future </document>\\n    <document> aba na aba is my own state  border is closed to stop importation of rice, well, that\\'s not for us in  abakaliki, eb\\xe2\\x80\\xa6 #url# </document>\\n    <document> ican\\'t kill myself chulo way #url# </document>\\n    <document> ability of running from one man to another is called runs girl.  prostitute is ability of .......  ? </document>\\n    <document> president donald trump delivers an address to the united nations general assembly.  more: #url# #url# </document>\\n    <document> hot &amp; fresh  mega mix from ur  baddest dj                     dj nwabakaliki               we are ur street credibi\\xe2\\x80\\xa6 #url# </document>\\n    <document> hellooo everyone please, disregard any purported business or any of its kind sent to by me. someone hacked into my\\xe2\\x80\\xa6 #url# </document>\\n    <document> u fought for me  why odas fight for dey god  my lord, u no dey use me play ooo </document>\\n    <document> your ex should never be your friend -counsellor charlotte oduro #url# </document>\\n    <document> lafille\\' age gracefully as u are +1 2day </document>\\n    <document> the country is messed up #url# </document>\\n    <document> #url# na dem by mista cornel is finally out \\xf0\\x9f\\xa7\\x9a\\xe2\\x80\\x8d\\xe2\\x99\\x80\\xef\\xb8\\x8f\\xf0\\x9f\\xa7\\x9b\\xe2\\x80\\x8d\\xe2\\x99\\x82\\xef\\xb8\\x8f\\xf0\\x9f\\xa7\\x9e\\xe2\\x80\\x8d\\xe2\\x99\\x82\\xef\\xb8\\x8f\\xf0\\x9f\\xa7\\x9e\\xe2\\x80\\x8d\\xe2\\x99\\x80\\xef\\xb8\\x8f\\xf0\\x9f\\xa7\\x9f\\xe2\\x80\\x8d\\xe2\\x99\\x82\\xef\\xb8\\x8f\\xf0\\x9f\\xa4\\xb6\\xf0\\x9f\\xa4\\xb6\\xf0\\x9f\\xa7\\x99\\xe2\\x80\\x8d\\xe2\\x99\\x82\\xef\\xb8\\x8f\\xf0\\x9f\\x99\\x8d\\xe2\\x80\\x8d\\xe2\\x99\\x82\\xef\\xb8\\x8f\\xf0\\x9f\\x99\\x86\\xe2\\x80\\x8d\\xe2\\x99\\x82\\xef\\xb8\\x8f\\xf0\\x9f\\x99\\x85\\xe2\\x80\\x8d\\xe2\\x99\\x80\\xef\\xb8\\x8f\\xf0\\x9f\\x99\\x8e\\xe2\\x80\\x8d\\xe2\\x99\\x80\\xef\\xb8\\x8f\\xf0\\x9f\\x99\\x8d\\xe2\\x80\\x8d\\xe2\\x99\\x80\\xef\\xb8\\x8f #url# </document>\\n    <document> umu udubonch vol1 video shooting about to starting  ihe n\\' eme agu na isi zodo music ng production  directed by century  dop emelex </document>\\n    <document> biafra is real  r. i . p our great falling heroes  30th may is a heroic  date to every igbo land. date we will alwa\\xe2\\x80\\xa6 #url# </document>\\n    <document> if you want nigerian men to eat or drink anything, just tell them it will help them perform better in bed.. chai who slap me..\\xf0\\x9f\\x98\\x9c </document>\\n    <document> question????  if d husband have \\xe2\\x82\\xa610,000, &amp; d wife have \\xe2\\x82\\xa630,000. how much is in d house? taking house as a constant in d house </document>\\n    <document> happy fathers day to me and my veryself </document>\\n    <document> when nigerian wake up against injustice, god will wake up, but when you stay calm when god is waiting for you to ac\\xe2\\x80\\xa6 #url# </document>\\n    <document> congratulations  brother obinna god will always see u tru,  no matter the situation.  second surgical operation wit\\xe2\\x80\\xa6 #url# </document>\\n    <document> the man that saw future #url# </document>\\n    <document> congratulations  uchechi.  i celebrate with you wonderful girl #url# </document>\\n    <document> to be out on 20th july </document>\\n    <document> if you haven\\'t been admitted in the hospital from january till now,   gather here, let\\'s  thank god for his grace \\xf0\\x9f\\x91\\x87 </document>\\n    <document> \\xe2\\x80\\x98beautiful girl\\xe2\\x80\\x98 and \\xe2\\x80\\x98911\\xe2\\x80\\x98 crooner sean kingston releases one of the anticipated single titled \\xe2\\x80\\x9cpeace of mind\\xe2\\x80\\x9c. kis\\xe2\\x80\\xa6 #url# </document>\\n    <document> trust is the most expensive gift it can cost u more than \"had i know \" be mindful who u will risk it to o o \\xe2\\x80\\x94 feeli\\xe2\\x80\\xa6 #url# </document>\\n    <document> lack of respect to culture #url# </document>\\n    <document> depression everywhere  he didn\\'t kill himself cos of accommodation fee let\\'s get fact before re posting.  his weddi\\xe2\\x80\\xa6 #url# </document>\\n    <document> december mixtape loading....... call for ur latest updates and video promotion  we are 2nd to none......08084770119 </document>\\n    <document> dating a man who doesn\\'t play \\xf0\\x9f\\x8e\\xb1snooker is a blessing; dat game teaches men how to focus on plenty holes using  one stick... </document>\\n    <document> god bless you and give u more reason to help people.  you are one in a million god will remember this year ijn amen #url# </document>\\n    <document> [audio + video] tony oneweek \\xe2\\x80\\x93 \\xe2\\x80\\x9cparty\\xe2\\x80\\x9d (prod. by rockyswaya) #url# </document>\\n    <document> june for jubilation.  congratulations  chimdire destiny onyekachi david on ur 1st day in church  we are redeemits u\\xe2\\x80\\xa6 #url# </document>\\n    <document> can any good come out of babcock #url# </document>\\n    <document> i have done it  you too can do same to get justice for nigeria #url# </document>\\n    <document> #url# click here to watch a fucking fight #url# </document>\\n    <document> dave this year  na ur year as usual u too much bro #url# </document>\\n    <document> rip algba a 344years old tortoise popularly known as \"alagba\" at soun of ogbomoso\\'s palace is dead :( the latest ne\\xe2\\x80\\xa6 #url# </document>\\n    <document> festival of madness  funny movie #url# </document>\\n    <document> dontom putputuone ofafrica god bless you immensely for your effort on this issue.  u are true human rights activist #url# </document>\\n    <document> we present to y\\xe2\\x80\\x99all a smashing song by asa titled \\xe2\\x80\\x9cthe place to be\\xe2\\x80\\x9d. nigeria\\xe2\\x80\\x99s soul diva and biggest female music e\\xe2\\x80\\xa6 #url# </document>\\n    <document> bonanza! bonanza!! bonanza!!! happy new month &amp; sunday to you all. i want to use this medium  to say  big thank u s\\xe2\\x80\\xa6 #url# </document>\\n    <document> we are into shoe bz chart me up for newest arrivals #url# </document>\\n    <document> when nigerian wake up against injustice, god will wake up, but when you stay calm when god is waiting for you to ac\\xe2\\x80\\xa6 #url# </document>\\n    <document> ramatu may god bless you more mama and give u strength and more wisdom as a minister  ijn #url# </document>\\n    <document> next world music meets with kennis music on this banging tune titled \\xe2\\x80\\x9cado bayero\\xe2\\x80\\x9d and it\\xe2\\x80\\x99s a vibe, the oba orin him\\xe2\\x80\\xa6 #url# </document>\\n    <document> mr eazi comes through with the smashing song he performed at the just concluded coachella. the song is tagged \\xe2\\x80\\x9clet\\xe2\\x80\\xa6 #url# </document>\\n    <document> stop wasting your data monitoring people online.  start an online business and monitor your income\\xf0\\x9f\\x91\\x8c\\xe2\\x9c\\x8c </document>\\n    <document> congratulations  prince desmond ananyo prince desmond anayo igboke aka okeigbudu </document>\\n    <document> it\\'s only in nigeria that a relationship ends but the sex continues\\xf0\\x9f\\x99\\x84\\xf0\\x9f\\x98\\x8f #url# </document>\\n    <document> another feather added to wing  zodo music ng aka djnwabakaliki entertainment as the best marketer of the year 2019.\\xe2\\x80\\xa6 #url# </document>\\n    <document> any adult in nigeria who witnessed buharis first coming knows that jonathan was right. goodluck jonathan warned nig\\xe2\\x80\\xa6 #url# </document>\\n    <document> don\\'t ever be broke and fat, it\\'s so annoying cause you keep disappointing people hustle and bustle nwanne </document>\\n    <document> another zodo music ng production  directed by joshua century  sound production by usb 07038892780 \\xe2\\x80\\x94 at enugu - coal\\xe2\\x80\\xa6 #url# </document>\\n    <document> have you ever observed that ladies that date reverend fathers hardly get married? </document>\\n    <document> don\\'t judge a book by its cover... #url# </document>\\n    <document> pmb make this guy more popular. #url# </document>\\n    <document> some relationship  can change your orientation &amp; dimension in life   tiktwc! </document>\\n    <document> every limitation in ur life break ijn.... #url# </document>\\n    <document> we igbo are wonderful  creature #url# </document>\\n    <document> what is happening to religious leaders  god have mercy on us #url# </document>\\n    <document> american renowned rapper russ who has been raving about afrobeat and one of nigeria\\xe2\\x80\\x99s biggest music export, davido\\xe2\\x80\\xa6 #url# </document>\\n    <document> cardi blue film desecrated our fada land #url# </document>\\n   \\n>\\n      <document> in religion we call it spirits. in science we call it energy. in the streets we call it vibes. </document>\\n    <document> bringing your face closer to your fan </document>\\n    <document> the Iranian hit our ship, we did nothing, the Iranian hit our drone we did nothing, the Iranian when regarding a\\xe2\\x80\\xa6 #url# </document>\\n    <document> your first call tomorrow November 1, 2019 will be a financial blessing. our latest mixtape... grab your copy. </document>\\n    <document> no weapon against him will execute ijn #url# </document>\\n    <document> Congratulations again to my sister #url# </document>\\n    <document> age gratefully beautiful woman llnp best friend #url# </document>\\n    <document> Our popularity is our top priority #url# </document>\\n    <document> I don\\'t know who needs to hear this, but grow up and stop watching porn. </document>\\n    <document> gov ugwuanyi paid salary \\xf0\\x9f\\x99\\x84\\xf0\\x9f\\x99\\x84\\xf0\\x9f\\x99\\x84 i don\\'t consider paying salary an achievement </document>\\n    <document> you only see those friends in your inbox when you upload good photos, stay away from them. </document>\\n    <document> age with gratitude beautiful woman llnp best friend </document>\\n    <document> video over make sinsi ezege but we really need your poster on 042 street, to awaken street alobam atmosphere. mpa\\xe2\\x80\\xa6 #url# </document>\\n    <document> we are the road and the road is in us </document>\\n    <document> #hashtag# is the real soldier. ebony guy self disarms stupid nigerian soldier... i don\\'t care what you might... #url# </document>\\n    <document> can someone help me and subtitle this song for me #url# </document>\\n    <document> my best nigerian president i celebrate with you sir #url# </document>\\n    <document>Never tell your family about your relationship problems because you may forgive your partner and they won\\'t.. </document>\\n    <document> wwe africa full match of rey mysterio vs kane is now out 2019 latest trending video wwe africa #url# </document>\\n    <document> may god continue to support and guide you through anything anyway @ anytime ijn #url# </document>\\n    <document> never be in a hurry to criticize a woman who has left her marriage. most of them did everything they could to save their homes. be gentle! </document>\\n    <document> best epic song of the season #url# </document>\\n    <document> stop dating broke girls . i know many girls and women will be upset by this post but try to find out more.\\xe2\\x80\\xa6 #url# </document>\\n    <document> bia rie ji \\xf0\\x9f\\xa4\\xa3\\xf0\\x9f\\xa4\\xa3\\xf0\\x9f\\xa4\\xa3 \\xe2\\x80\\x94 at enugu - coal city. #url# </document>\\n    <document> the army and the police showed impressive professionalism in this meeting. kudos to them. more respect for d g\\xe2\\x80\\xa6 #url# </document>\\n    <document> happy birthday papilo age with gratitude aka shoemaker </document>\\n    <document> July Updates.... look for a copy like edey hot </document>\\n    <document> a man of his word #url# </document>\\n    <document> happy birthday to my own blood from another mummy. more money, peace, joy, love and happiness as you add 1 to ur... #url# </document>\\n    <document> Congratulations again to my sister #url# </document>\\n    <document> your jubilation jubilation updates look for a copy like edey hot </document>\\n    <document> my past sorrows have not contributed 2 to my future glory. </document>\\n    <document> good morning all of you may your today be better than yesterday may your tomorrow be better than today may our hustle and bustle be fruitful </document>\\n    <document> #url# better than umu udubonch vol2 akalaka #url# </document>\\n    Wonderful <document> deserves wonderful miracle. pastor mmm everywhere #url# </document>\\n    <document> can you marry a billionaire who is obasinjo and HIV positive child? answer like you\\'re dumb d </document>\\n    <document> your popularity is our top priority tel 08084770119 </document>\\n    <document> on behalf of a common man in this country, we are hopelessly lost. 132 biko haram 4gvn n reinstated in Borno state. </document>\\n    <document> d solo tin u should hv at d back of mind is dat anytin can happen at any time. but hustle defines your future</document>\\n    <document> aba na aba is my state border is closed to stop importing rice, well that\\'s not for us in abakaliki, eb\\xe2\\x80\\xa6 #url# </document>\\n    <document> can\\'t kill myself big time #url# </document>\\n    <document> the ability to run from one man to another is called run girl. prostitute is ability to ....... ? </document>\\n    <document> President Donald Trump addresses the United Nations General Assembly. other: #url# #url# </document>\\n    <document> hot &amp; fresh mega mix from your baddest dj dj nwabakaliki we are your street believable\\xe2\\x80\\xa6 #url# </document>\\n    <document> hello all, please ignore any alleged commercial or similar activity sent by me. someone broke into my\\xe2\\x80\\xa6 #url# </document>\\n    <document> did you fight for me because odas fight for their god my lord you don\\'t use me to play ooo </document>\\n    <document> your ex should never be your friend -counselor charlotte oduro #url# </document>\\n    <document> lafille\\' ages as gracefully as you are +1 2 days </document>\\n    <document> country is messed up #url# </document>\\n    ; url# </document>\\n    <document> umu udubonch vol1 video shooting about to start ihe n\\' eme agu na isi zodo music ng production directed by century dop emelex </document>\\n    <document> biafra is real r. I . p our great fallen heroes May 30th is a heroic date for every Igbo land. data we will always\\xe2\\x80\\xa6 #url# </document>\\n    <document>if you want Nigerian men to eat or drink something just tell them it will help them behave better in bed.. chai slapping me..\\xf0\\x9f\\x98\\x9c </document>\\n    <document> question???? if d husband has \\xe2\\x82\\xa610,000, &amp; my wife has \\xe2\\x82\\xa630,000. how much does it cost at home? taking house as a constant in d house </document>\\n    <document> Happy Father\\'s Day to me and myself </document>\\n    <document> when nigerian wake up against injustice god will wake up but when you stay calm when god is waiting for you to consent\\xe2\\x80\\xa6 #url# </document>\\n    <document> congratulations brother obinna god will always see you true no matter the situation. second surgery with\\xe2\\x80\\xa6 #url# </document>\\n    <document> the man who saw the future #url# </document>\\n    <document> congratulations uchechi. celebrate with you beautiful girl #url# </document>\\n    <document> out July 20 </document>\\n    <document> if you haven\\'t been hospitalized since January to now, gather here, we thank God for his grace \\xf0\\x9f\\x91\\x87 </document>\\n    <document> Sean Kingston, crooner of \\'beautiful girl\\' and \\'911\\', releases one of the awaited singles entitled \"peace of mind\". kis\\xe2\\x80\\xa6 #url# </document>\\n    <document> Trust is the most expensive gift that can cost you more than \"if you\\'d known\" be careful who you risk it to or or \\xe2\\x80\\x94 feeli\\xe2\\x80\\xa6 #url# </document>\\n    <document> disrespect for #url# </document> culture\\n    <document> depression wherever he hasn\\'t committed suicide because of the accommodation fee, before republishing let\\'s do some clarity. his wedding\\xe2\\x80\\xa6 #url# </document>\\n    <document> December mixtape loading.......call for your latest video updates and promotions we are second to none......08084770119</document>\\n    <document> dating a man who doesn\\'t play \\xf0\\x9f\\x8e\\xb1snooker is a blessing; this game teaches men how to focus on many holes using a stick... </document>\\n    <document> God bless you and give you one more reason to help people. you are one in a million god will remember this year ijn amen #url# </document>\\n    <document> [audio + video] tony oneweek \\xe2\\x80\\x93 \\xe2\\x80\\x9cparty\\xe2\\x80\\x9d (prod. by rockyswaya) #url# </document>\\n    <document> June for jubilation. congratulations chimdire destiny onyekachi david on your first day at church we are redeemed u\\xe2\\x80\\xa6 #url# </document>\\n    <document> something good can come out of babcock #url# </document>\\n    <document> i did it you too can do the same to get justice for nigeria #url# </document><document> #url# click here to watch a fucking fight #url# </document>\\n    <document> dave this year na ur year as usual u too bro #url# </document>\\n    <document> rip algba a 344 year old tortoise popularly known as \"alagba\" after ogbomoso palace is dead :( last ne\\xe2\\x80\\xa6 #url# </document>\\n    <document> festival of madness funny movie #url# </document>\\n    <document> dontom puttuone ofafrica god bless you immensely for your efforts on this issue. you are a true human rights activist #url# </document>\\n    <document> we present you a great song by asa called \"the place to be\". nigeria\\'s soul diva and greatest female e-musician\\xe2\\x80\\xa6 #url# </document>\\n    <document> good luck! bonanza!! bonanza!!! happy new month &amp; Sunday to you all. I want to use this medium to thank us very much... #url# </document>\\n    <document> we like bz shoes, track me the latest arrivals #url# </document>\\n    <document> when nigerian wake up against injustice god will wake up but when you stay calm when god is waiting for you to consent\\xe2\\x80\\xa6 #url# </document>\\n    <document> ramatu God bless you again mom and give you strength and more wisdom as a minister ijn #url# </document>\\n    <document> The next world music meets Kennis\\' music in this smashing track titled \"ado bayero\" and it\\'s a vibe, the oba or in him... #url# </document>\\n    <document> mr eazi comes with the amazing song he performed at the coachella just concluded. the song is tagged \\xe2\\x80\\x9clet\\xe2\\x80\\xa6 #url# </document>\\n    <document> stop wasting your data tracking people online. start an online business and track your income\\xf0\\x9f\\x91\\x8c\\xe2\\x9c\\x8c </document>\\n    <document> congratulations prince desmond anayo prince desmond anayo igboke aka okeigbudu </document>\\n    <document> it\\'s only in nigeria that a relationship ends but the sex continues\\xf0\\x9f\\x99\\x84\\xf0\\x9f\\x98\\x8f #url# </document>\\n    <document> another feather added to wing zodo music ng aka djnwabakaliki entertainment as best marketer of the year 2019.\\xe2\\x80\\xa6 #url# </document>\\n    <document> any adult in Nigeria who witnessed Buhari\\'s first arrival knows that Jonathan was right. goodluck jonathan warned nig\\xe2\\x80\\xa6 #url# </document>\\n    <document> never be fat and broke it\\'s so annoying why you keep letting people down hustle nwanne </document>\\n    <document> another zodo music ng production directed by joshua century sound production by usb 07038892780 \\xe2\\x80\\x94 at enugu - coal\\xe2\\x80\\xa6 #url# </document>\\n    <document> have you ever noticed that women who date reverend fathers hardly get married? </document>\\n    <document> don\\'t judge a book by its cover... #url# </document>\\n    <document> pmb make this guy more popular. #url# </document>\\n    <document> some relationships can change your orientation &amp; size in life tiktwc! </document>\\n    <document> any limitation in your life break ijn.... #url# </document>\\n    <document> we Igbo are wonderful creatures #url# </document>\\n    <document> what is happening to religious leaders God have mercy on us #url# </document>\\n    <document> the famous american rapper russ who was enthusiastic about afrobeat and one of the biggest music exporter of nigeria, david... #url# </document>\\n    <document> the movie cardi blue desecrated our land fada #url# </document>>\\n      <document> in religion we call it spirits. in science we call it energy. in the streets we call it vibes. </document>\\n    <document> brings your face closer to your fan</document>\\n    <document> Iranian hit us ship we did nothing Iranian hit us drone we did nothing Iranian except up to a\\xe2\\x80\\xa6 #url# </document>\\n    <Document> You are calling for the first time tomorrow November 1, 2019 and will be a financial blessing. our latest mixtape... grab your copy. </document>\\n    <document> no weapon against him will execute ijn #url# </document>\\n    <document> Again, congratulations to my sister #url# </document>\\n    <document> old grateful beautiful woman llnp best friend #url# </document>\\n    <document> Your popularity is our top priority #url# </document>\\n    <Document> I don\\'t know who needs to hear this, but grow up and stop watching porn. </document>\\n    <document> gov ugwuanyi paid salary \\xf0\\x9f\\x99\\x84\\xf0\\x9f\\x99\\x84\\xf0\\x9f\\x99\\x84 I do not consider salary payments as a benefit </document>\\n    <Document> You will only see these friends in their inbox if you upload nice pictures, stay away from them. </document>\\n    <document> old grateful beautiful woman llnp best friend </document>\\n    <document> video over make sinsi ezege but we need your poster not on the street of 042, to awaken the vibe street alobam. mpa\\xe2\\x80\\xa6 #url# </document>\\n    <document> we are the road and the road is within us </document>\\n    <document> #hashtag# is the real soldier. Ebony guy singlehandedly disarms a stupid Nigerian soldier\\n    <document> can someone help me and subtitle this song #url# </document>\\n    <document> My best Nigerian President, I celebrate with you Sir #url# </document>\\n    <document> never tell your family about your relationship problems because you might be able to forgive your partner and they won\\'t.. </document>\\n    <document> wwe africa full match of rey mysterio vs kane is out now 2019 latest wwe africa trending video #url# </document>\\n    <document> may God continue to support you and guide you through everything that is definitely @ anytime ijn #url# </document>\\n    <Document> is never in a hurry to criticize a woman who has left her marriage. Most of them did everything to save their homes. be friendly! </document>\\n    <document> best epic song of the season #url# </document>\\n    <document> stop dating broke girls. I know many girls and ladies will be upset by this post but try to learn more about it... #url# </document>\\n    <Document> bia rie ji \\xf0\\x9f\\xa4\\xa3\\xf0\\x9f\\xa4\\xa3\\xf0\\x9f\\xa4\\xa3 \\xe2\\x80\\x94 at enugu - coal town. #url# </document>\\n    <Document> The army and police showed impressive professionalism in this encounter. kudos to her. more respect for d g\\xe2\\x80\\xa6 #url# </document>\\n    <document> happy birthday papilo old man grateful alias shoemaker </document>\\n    <document>July updates....crawl a copy as edey hot</document>\\n    <document> a man of his word #url# </document>\\n    <Document> Congratulations on my own blood from another mummy. more money, peace, joy, love and happiness when you add 1 to your ... #url# </document>\\n    <document> Again, congratulations to my sister #url# </document>\\n    <document> Our July updates on cheers crawl a copy as edey hot </document>\\n    <Document> My past pains have not contributed to my future glory. </document>\\n    <document> Good morning to all of you, may you be better today than yesterday, may you be better tomorrow than today, may our rush be fruitful</document>\\n    <document> #url# best of umu udubonch vol2 akalaka #url# </document>\\n    <document> wonderful deserves wonderful miracle. Pastor mmm everywhere #url# </document>\\n    <Document> can you marry a billionaire who is Obasinjo\\'s son and HIV positive? answer as you are tonto d </document>\\n    <document> Your popularity is our top priority, Tel. 08084770119 </document>\\n    <Document> on behalf of the common man in this country, we are hopelessly lost. 132 biko haram 4gvn n reinstated in Borno state. </document>\\n    <document> d just what you should keep in mind is that at allin can happen at any time. but hustle and bustle determines your future </document>\\n    <document> aba na aba is my own state border closed to stop importing rice well that\\'s not for us in abakaliki eb\\xe2\\x80\\xa6 #url# </document>\\n    <document> I can\\'t kill myself on the fly #url# </document>\\n    <Document> The ability to run from one man to another is called Runs Girl. Prostitute is ability of ....... ? </document>\\n    <Document> President Donald Trump addresses the United Nations General Assembly. more: #url# #url# </document>\\n    <document> hot &amp; Fresh mega mix from your worst DJ, DJ Nwabakaliki, we are your street cred\\xe2\\x80\\xa6 #url# </document>\\n    <document> hellooo everyone please ignore any supposed business or anything like that sent by me. someone hacked into my \\xe2\\x80\\xa6 #url# </document>\\n    <document> you fought for me why odas fight for dey god sir you don\\'t use me to play ooo </document>\\n    <document> Your ex should never be your friend - Counselor Charlotte Oduro #url# </document>\\n    <document>lafille\\' age gracefully as you +1 2 days</document>\\n    <document> the country is broken #url# </document>\\n    <Documents> # url # na Mista Cornel\\'s is finally out \\xf0\\x9f\\xa7\\x9a\\xe2\\x80\\x8d\\xe2\\x99\\x80\\xef\\xb8\\x8f\\xf0\\x9f\\xa7\\x9b\\xe2\\x80\\x8dtoday \\xf0\\x9f\\xa7\\x9e\\xe2\\x80\\x8d Would you like URL# </Document>\\n    <document> umu udubonch vol1 Video shoot just before the start of music production directed by Century Dop Emelex </document>\\n    <document> biafra is real r. I . p our great falling heroes may 30th is a heroic date for any igbo country. We will always date\\xe2\\x80\\xa6 #url# </document>\\n    <document> If you want Nigerian men to eat or drink something, just tell them it will help them function better in bed.. chai who slap me..\\xf0\\x9f\\x98\\x9c </document>\\n    <document> Question???? if d husband has \\xe2\\x82\\xa610,000, &amp; d woman has \\xe2\\x82\\xa6 30,000. How much is in the house? Take house as constant in d house </document>\\n    <document> I wish you and me a happy father\\'s day </document>\\n    <document> If Nigerians wake up to injustice, God will wake up, but if you keep calm, if God is waiting for you to accept... #url# </document>\\n    <Document> Congratulations Brother Obinna God will always see you true no matter the situation. second surgical procedure with\\xe2\\x80\\xa6 #url# </document>\\n    <document> the man who saw the future #url# </document>\\n    <Document> Congratulations Uchechi. I celebrate with you beautiful girl #url# </document>\\n    <document> will be released on July 20th </document>\\n    <document> If you have not been hospitalized from January to now, gather here, let\\'s thank God for his grace \\xf0\\x9f\\x91\\x87 </document>\\n    <document> \\'beautiful girl\\' and \\'911\\' crooner Sean Kingston releases one of the anticipated singles entitled \\'peace of mind\\'. kiss\\xe2\\x80\\xa6 #url# </document>\\n    <document> Trust is the most expensive gift that can cost you more than \"I knew it\".\\n    <document> Lack of respect for culture #url# </document>\\n    <Document> Depression everywhere, he didn\\'t kill himself because of the lodging fee. his wife \\xe2\\x80\\xa6 #url# </document>\\n    <document> December Loading mixtape...... Call for your latest updates and video promotion. We are second to none......08084770119 </document>\\n    <Document> Dating a guy who doesn\\'t play \\xf0\\x9f\\x8e\\xb1Snooker is a blessing; dat game teaches men how to focus on many holes with a stick... </document>\\n    <Document> God bless you and give you more reason to help people. You are one in a million God will remember this year ijn amen #url# </document>\\n    <document> [audio + video] tony oneweek - \"party\" (prod. by rockyswaya) #url# </document>\\n    <Document> June to cheer. congratulations chimdire destiny onyekachi david on your first day at church we are redeemed and\\xe2\\x80\\xa6 #url# </document>\\n    <document> something good can come from babcock #url# </document>\\n    <document> I did it, you can do the same to get justice for Nigeria #url# </document><document> #url# Click here to watch a fucking fight #url# </document>\\n    <document> dave this year as usual this year u too much bro #url# </document>\\n    <document> rip algba a 344 year old tortoise popularly known as \"alagba\" in the soun of ogbomoso\\'s palace is dead :( the latest n\\xe2\\x80\\xa6 #url# </document>\\n    <document> Feast of Madness funny movie #url# </document>\\n    <document> dontom putputuone ofafrica God bless you immensely for your efforts in this matter. You are a true human rights activist #url# </document>\\n    <document> we present to you all an amazing song by asa called \\xe2\\x80\\x9cthe place to be\\xe2\\x80\\x9d. Nigeria\\'s soul diva and greatest female musician... #url# </document>\\n    <Document> Gold Mine! gold mine!! gold mine!!! Happy New Month &amp; sunday to you all. I would like to use this medium to say a big thank you... #url# </document>\\n    <document> we\\'re into shoe bz charts for new arrivals #url# </document>\\n    <document> If Nigerians wake up to injustice, God will wake up, but if you keep calm, if God is waiting for you to accept... #url# </document>\\n    <document> Ramatu may God bless you even more mom and give you strength and more wisdom as a minister ijn #url# </document>\\n    <document> Next World Music meets Kennis Music in this banging song titled \"ado bayero\" and it\\'s a vibe that oba or in him... #url# </document>\\n    <Document> Mr. Eazi comes through with the stunning song he performed at the Coachella that just ended. The song is tagged with \\xe2\\x80\\x9clet\\xe2\\x80\\xa6 #url# </document>\\xe2\\x80\\x9d.\\n    <document> Stop wasting your data monitoring people online. Start an online business and monitor your income\\xf0\\x9f\\x91\\x8c\\xe2\\x9c\\x8c </document>\\n    <document> Congratulations Prince Desmond Ananyo Prince Desmond Anayo Igboke aka Okeigbudu </document>\\n    <document> Only in Nigeria does a relationship end but sex continues\\xf0\\x9f\\x99\\x84\\xf0\\x9f\\x98\\x8f #url# </document>\\n    <document> Another feather added to Wing Zodo Music ng aka Djnwabakaliki Entertainment for Best Marketer of 2019.\\xe2\\x80\\xa6 #url# </document>\\n    <document> every adult in nigeria who saw buharis first come knows that jonathan was right. Good luck Jonathan warned Nig\\xe2\\x80\\xa6 #url# </document>\\n    <document>Never be broke and fat, it\\'s so annoying because you hustle and bustle all the time disappointing people</document>\\n    <document> another Zodo Music ng production directed by Joshua Century sound production by USB 07038892780 \\xe2\\x80\\x93 at enugu \\xe2\\x80\\x93 kohle\\xe2\\x80\\xa6 #url# </document>\\n    <Document> Have you ever observed that ladies who date respectable fathers hardly ever marry? </document>\\n    <document> Don\\'t judge a book by its cover... #url# </document>\\n    <document> pmb make this type more popular. #url# </document>\\n    <document> Some relationships can change your orientation &amp; dimension in life tiktwc! </document>\\n    <document> break every limitation in your life ijn.... #url# </document>\\n    <document> we igbo are wonderful creatures #url# </document>\\n    <document> what happens to religious leaders, God have mercy on us #url# </document>\\n    <document> American renowned rapper Russ, who raves about Afrobeat and one of Nigeria\\'s biggest music exports, Davido... #url# </document>\\n    <document> Cardi Blue Film Desecrates Our Fada Country #url# </document>', shape=(), dtype=string)\n",
            "Preprocessed:  tf.Tensor(b' >\\n      <document> in religion we call it spirits. in science we call it energy. in the streets we call it vibes. </document>\\n    <document> bringing ur face closer to your fan </document>\\n    <document> iranian hit us ship, us did not do anything, iranian hit us drone us did not do anything, iranian when as far as an\\xe2\\x80\\xa6 #url# </document>\\n    <document> you first call tomorrow been 1st of november 2019 will be a financial blessings.   our latest mixtape... grab ur copy. </document>\\n    <document> no weapon against him will execute ijn #url# </document>\\n    <document> congratulations  my sister  once again #url# </document>\\n    <document> age gratefully beautiful woman  llnp best friend #url# </document>\\n    <document> ur popularity is our greatest priority #url# </document>\\n    <document> i don\\xe2\\x80\\x99t know who needs to hear this but grow up and stop watching porn. </document>\\n    <document> gov ugwuanyi paid salary \\xf0\\x9f\\x99\\x84\\xf0\\x9f\\x99\\x84\\xf0\\x9f\\x99\\x84 i don\\'t consider salary payment an achievement </document>\\n    <document> u see those frnds dat inbox u only wen u upload fine pictures, stay away from them. </document>\\n    <document> age gratefully beautiful woman  llnp best friend </document>\\n    <document> video over make sinsi ezege but we need ur poster badly on the street of 042, to waken the vibe street alobam. mpa\\xe2\\x80\\xa6 #url# </document>\\n    <document> we are the street and street is in us </document>\\n    <document> #hashtag# is the real soldier. ebonyi guy single handedly disarms a nigerian stupid soldier..  i don\\'t care what you may\\xe2\\x80\\xa6 #url# </document>\\n    <document> can someone help and subtitle this song for me #url# </document>\\n    <document> my best nigerian president  i celebrate with you sir #url# </document>\\n    <document> never tell your family about your relationship problems because you might forgive your partner and they won\\'t.. </document>\\n    <document> wwe africa full match of rey mysterio vs kane is out now 2019 latest wwe africa trending video #url# </document>\\n    <document> may god continue to sustain u and guide you through anything on anyway @ anytime ijn #url# </document>\\n    <document> never be in a hurry to criticize a woman who left her marriage. most of them did everything possible to save their homes. be kind! </document>\\n    <document> best epic song of the season #url# </document>\\n    <document> stop dating broke girls . i know many girls and ladies gonna be angry with this post but try learn more about it .\\xe2\\x80\\xa6 #url# </document>\\n    <document> bia  rie  ji \\xf0\\x9f\\xa4\\xa3\\xf0\\x9f\\xa4\\xa3\\xf0\\x9f\\xa4\\xa3 \\xe2\\x80\\x94 at enugu - coal city. #url# </document>\\n    <document> the army and the police put up an impressive professionalism in this encounter.  kudos to them. more respect to d g\\xe2\\x80\\xa6 #url# </document>\\n    <document> happy birthday papilo age gratefully aka shoemaker </document>\\n    <document> july updates.... crab a copy as edey hot </document>\\n    <document> a man of his word #url# </document>\\n    <document> happy birthday to my own blood from another mummy.   more money,  peace,  joy, love and happiness as ur add 1 to ur\\xe2\\x80\\xa6 #url# </document>\\n    <document> congratulations  my sister  once again #url# </document>\\n    <document> ur july updates on jubilation  crab a copy as edey hot </document>\\n    <document> my past pains has notin 2 contribute 2 my future glory. </document>\\n    <document> good morning to u all may ur today be better than yesterday  may ur tomorrow be better than today  may our hustle be fruitful </document>\\n    <document> #url# best of umu udubonch vol2  akalaka #url# </document>\\n    <document> wonderful deserve wonderful miracle.  pastor mmm everywhere #url# </document>\\n    <document> can you marry a billionaire who is obasinjo son and  hiv positve? answer as u are tonto d </document>\\n    <document> ur popularity is our greatest priority  tel 08084770119 </document>\\n    <document> on behalf of d common man in dis country,  we are hopelessly lost. 132 biko haram 4gvn n reinstated in borno state. </document>\\n    <document> d only tin u should hv at d back of mind is dat anytin can happen at anytime.  but hustle and bustle  defines  ur future </document>\\n    <document> aba na aba is my own state  border is closed to stop importation of rice, well, that\\'s not for us in  abakaliki, eb\\xe2\\x80\\xa6 #url# </document>\\n    <document> ican\\'t kill myself chulo way #url# </document>\\n    <document> ability of running from one man to another is called runs girl.  prostitute is ability of .......  ? </document>\\n    <document> president donald trump delivers an address to the united nations general assembly.  more: #url# #url# </document>\\n    <document> hot &amp; fresh  mega mix from ur  baddest dj                     dj nwabakaliki               we are ur street credibi\\xe2\\x80\\xa6 #url# </document>\\n    <document> hellooo everyone please, disregard any purported business or any of its kind sent to by me. someone hacked into my\\xe2\\x80\\xa6 #url# </document>\\n    <document> u fought for me  why odas fight for dey god  my lord, u no dey use me play ooo </document>\\n    <document> your ex should never be your friend -counsellor charlotte oduro #url# </document>\\n    <document> lafille\\' age gracefully as u are +1 2day </document>\\n    <document> the country is messed up #url# </document>\\n    <document> #url# na dem by mista cornel is finally out \\xf0\\x9f\\xa7\\x9a\\xe2\\x80\\x8d\\xe2\\x99\\x80\\xef\\xb8\\x8f\\xf0\\x9f\\xa7\\x9b\\xe2\\x80\\x8d\\xe2\\x99\\x82\\xef\\xb8\\x8f\\xf0\\x9f\\xa7\\x9e\\xe2\\x80\\x8d\\xe2\\x99\\x82\\xef\\xb8\\x8f\\xf0\\x9f\\xa7\\x9e\\xe2\\x80\\x8d\\xe2\\x99\\x80\\xef\\xb8\\x8f\\xf0\\x9f\\xa7\\x9f\\xe2\\x80\\x8d\\xe2\\x99\\x82\\xef\\xb8\\x8f\\xf0\\x9f\\xa4\\xb6\\xf0\\x9f\\xa4\\xb6\\xf0\\x9f\\xa7\\x99\\xe2\\x80\\x8d\\xe2\\x99\\x82\\xef\\xb8\\x8f\\xf0\\x9f\\x99\\x8d\\xe2\\x80\\x8d\\xe2\\x99\\x82\\xef\\xb8\\x8f\\xf0\\x9f\\x99\\x86\\xe2\\x80\\x8d\\xe2\\x99\\x82\\xef\\xb8\\x8f\\xf0\\x9f\\x99\\x85\\xe2\\x80\\x8d\\xe2\\x99\\x80\\xef\\xb8\\x8f\\xf0\\x9f\\x99\\x8e\\xe2\\x80\\x8d\\xe2\\x99\\x80\\xef\\xb8\\x8f\\xf0\\x9f\\x99\\x8d\\xe2\\x80\\x8d\\xe2\\x99\\x80\\xef\\xb8\\x8f #url# </document>\\n    <document> umu udubonch vol1 video shooting about to starting  ihe n\\' eme agu na isi zodo music ng production  directed by century  dop emelex </document>\\n    <document> biafra is real  r. i . p our great falling heroes  30th may is a heroic  date to every igbo land. date we will alwa\\xe2\\x80\\xa6 #url# </document>\\n    <document> if you want nigerian men to eat or drink anything, just tell them it will help them perform better in bed.. chai who slap me..\\xf0\\x9f\\x98\\x9c </document>\\n    <document> question????  if d husband have \\xe2\\x82\\xa610,000, &amp; d wife have \\xe2\\x82\\xa630,000. how much is in d house? taking house as a constant in d house </document>\\n    <document> happy fathers day to me and my veryself </document>\\n    <document> when nigerian wake up against injustice, god will wake up, but when you stay calm when god is waiting for you to ac\\xe2\\x80\\xa6 #url# </document>\\n    <document> congratulations  brother obinna god will always see u tru,  no matter the situation.  second surgical operation wit\\xe2\\x80\\xa6 #url# </document>\\n    <document> the man that saw future #url# </document>\\n    <document> congratulations  uchechi.  i celebrate with you wonderful girl #url# </document>\\n    <document> to be out on 20th july </document>\\n    <document> if you haven\\'t been admitted in the hospital from january till now,   gather here, let\\'s  thank god for his grace \\xf0\\x9f\\x91\\x87 </document>\\n    <document> \\xe2\\x80\\x98beautiful girl\\xe2\\x80\\x98 and \\xe2\\x80\\x98911\\xe2\\x80\\x98 crooner sean kingston releases one of the anticipated single titled \\xe2\\x80\\x9cpeace of mind\\xe2\\x80\\x9c. kis\\xe2\\x80\\xa6 #url# </document>\\n    <document> trust is the most expensive gift it can cost u more than \"had i know \" be mindful who u will risk it to o o \\xe2\\x80\\x94 feeli\\xe2\\x80\\xa6 #url# </document>\\n    <document> lack of respect to culture #url# </document>\\n    <document> depression everywhere  he didn\\'t kill himself cos of accommodation fee let\\'s get fact before re posting.  his weddi\\xe2\\x80\\xa6 #url# </document>\\n    <document> december mixtape loading....... call for ur latest updates and video promotion  we are 2nd to none......08084770119 </document>\\n    <document> dating a man who doesn\\'t play \\xf0\\x9f\\x8e\\xb1snooker is a blessing; dat game teaches men how to focus on plenty holes using  one stick... </document>\\n    <document> god bless you and give u more reason to help people.  you are one in a million god will remember this year ijn amen #url# </document>\\n    <document> [audio + video] tony oneweek \\xe2\\x80\\x93 \\xe2\\x80\\x9cparty\\xe2\\x80\\x9d (prod. by rockyswaya) #url# </document>\\n    <document> june for jubilation.  congratulations  chimdire destiny onyekachi david on ur 1st day in church  we are redeemits u\\xe2\\x80\\xa6 #url# </document>\\n    <document> can any good come out of babcock #url# </document>\\n    <document> i have done it  you too can do same to get justice for nigeria #url# </document>\\n    <document> #url# click here to watch a fucking fight #url# </document>\\n    <document> dave this year  na ur year as usual u too much bro #url# </document>\\n    <document> rip algba a 344years old tortoise popularly known as \"alagba\" at soun of ogbomoso\\'s palace is dead :( the latest ne\\xe2\\x80\\xa6 #url# </document>\\n    <document> festival of madness  funny movie #url# </document>\\n    <document> dontom putputuone ofafrica god bless you immensely for your effort on this issue.  u are true human rights activist #url# </document>\\n    <document> we present to y\\xe2\\x80\\x99all a smashing song by asa titled \\xe2\\x80\\x9cthe place to be\\xe2\\x80\\x9d. nigeria\\xe2\\x80\\x99s soul diva and biggest female music e\\xe2\\x80\\xa6 #url# </document>\\n    <document> bonanza! bonanza!! bonanza!!! happy new month &amp; sunday to you all. i want to use this medium  to say  big thank u s\\xe2\\x80\\xa6 #url# </document>\\n    <document> we are into shoe bz chart me up for newest arrivals #url# </document>\\n    <document> when nigerian wake up against injustice, god will wake up, but when you stay calm when god is waiting for you to ac\\xe2\\x80\\xa6 #url# </document>\\n    <document> ramatu may god bless you more mama and give u strength and more wisdom as a minister  ijn #url# </document>\\n    <document> next world music meets with kennis music on this banging tune titled \\xe2\\x80\\x9cado bayero\\xe2\\x80\\x9d and it\\xe2\\x80\\x99s a vibe, the oba orin him\\xe2\\x80\\xa6 #url# </document>\\n    <document> mr eazi comes through with the smashing song he performed at the just concluded coachella. the song is tagged \\xe2\\x80\\x9clet\\xe2\\x80\\xa6 #url# </document>\\n    <document> stop wasting your data monitoring people online.  start an online business and monitor your income\\xf0\\x9f\\x91\\x8c\\xe2\\x9c\\x8c </document>\\n    <document> congratulations  prince desmond ananyo prince desmond anayo igboke aka okeigbudu </document>\\n    <document> it\\'s only in nigeria that a relationship ends but the sex continues\\xf0\\x9f\\x99\\x84\\xf0\\x9f\\x98\\x8f #url# </document>\\n    <document> another feather added to wing  zodo music ng aka djnwabakaliki entertainment as the best marketer of the year 2019.\\xe2\\x80\\xa6 #url# </document>\\n    <document> any adult in nigeria who witnessed buharis first coming knows that jonathan was right. goodluck jonathan warned nig\\xe2\\x80\\xa6 #url# </document>\\n    <document> don\\'t ever be broke and fat, it\\'s so annoying cause you keep disappointing people hustle and bustle nwanne </document>\\n    <document> another zodo music ng production  directed by joshua century  sound production by usb 07038892780 \\xe2\\x80\\x94 at enugu - coal\\xe2\\x80\\xa6 #url# </document>\\n    <document> have you ever observed that ladies that date reverend fathers hardly get married? </document>\\n    <document> don\\'t judge a book by its cover... #url# </document>\\n    <document> pmb make this guy more popular. #url# </document>\\n    <document> some relationship  can change your orientation &amp; dimension in life   tiktwc! </document>\\n    <document> every limitation in ur life break ijn.... #url# </document>\\n    <document> we igbo are wonderful  creature #url# </document>\\n    <document> what is happening to religious leaders  god have mercy on us #url# </document>\\n    <document> american renowned rapper russ who has been raving about afrobeat and one of nigeria\\xe2\\x80\\x99s biggest music export, davido\\xe2\\x80\\xa6 #url# </document>\\n    <document> cardi blue film desecrated our fada land #url# </document>\\n   \\n>\\n      <document> in religion we call it spirits. in science we call it energy. in the streets we call it vibes. </document>\\n    <document> bringing your face closer to your fan </document>\\n    <document> the Iranian hit our ship, we did nothing, the Iranian hit our drone we did nothing, the Iranian when regarding a\\xe2\\x80\\xa6 #url# </document>\\n    <document> your first call tomorrow November 1, 2019 will be a financial blessing. our latest mixtape... grab your copy. </document>\\n    <document> no weapon against him will execute ijn #url# </document>\\n    <document> Congratulations again to my sister #url# </document>\\n    <document> age gratefully beautiful woman llnp best friend #url# </document>\\n    <document> Our popularity is our top priority #url# </document>\\n    <document> I don\\'t know who needs to hear this, but grow up and stop watching porn. </document>\\n    <document> gov ugwuanyi paid salary \\xf0\\x9f\\x99\\x84\\xf0\\x9f\\x99\\x84\\xf0\\x9f\\x99\\x84 i don\\'t consider paying salary an achievement </document>\\n    <document> you only see those friends in your inbox when you upload good photos, stay away from them. </document>\\n    <document> age with gratitude beautiful woman llnp best friend </document>\\n    <document> video over make sinsi ezege but we really need your poster on 042 street, to awaken street alobam atmosphere. mpa\\xe2\\x80\\xa6 #url# </document>\\n    <document> we are the road and the road is in us </document>\\n    <document> #hashtag# is the real soldier. ebony guy self disarms stupid nigerian soldier... i don\\'t care what you might... #url# </document>\\n    <document> can someone help me and subtitle this song for me #url# </document>\\n    <document> my best nigerian president i celebrate with you sir #url# </document>\\n    <document>Never tell your family about your relationship problems because you may forgive your partner and they won\\'t.. </document>\\n    <document> wwe africa full match of rey mysterio vs kane is now out 2019 latest trending video wwe africa #url# </document>\\n    <document> may god continue to support and guide you through anything anyway @ anytime ijn #url# </document>\\n    <document> never be in a hurry to criticize a woman who has left her marriage. most of them did everything they could to save their homes. be gentle! </document>\\n    <document> best epic song of the season #url# </document>\\n    <document> stop dating broke girls . i know many girls and women will be upset by this post but try to find out more.\\xe2\\x80\\xa6 #url# </document>\\n    <document> bia rie ji \\xf0\\x9f\\xa4\\xa3\\xf0\\x9f\\xa4\\xa3\\xf0\\x9f\\xa4\\xa3 \\xe2\\x80\\x94 at enugu - coal city. #url# </document>\\n    <document> the army and the police showed impressive professionalism in this meeting. kudos to them. more respect for d g\\xe2\\x80\\xa6 #url# </document>\\n    <document> happy birthday papilo age with gratitude aka shoemaker </document>\\n    <document> July Updates.... look for a copy like edey hot </document>\\n    <document> a man of his word #url# </document>\\n    <document> happy birthday to my own blood from another mummy. more money, peace, joy, love and happiness as you add 1 to ur... #url# </document>\\n    <document> Congratulations again to my sister #url# </document>\\n    <document> your jubilation jubilation updates look for a copy like edey hot </document>\\n    <document> my past sorrows have not contributed 2 to my future glory. </document>\\n    <document> good morning all of you may your today be better than yesterday may your tomorrow be better than today may our hustle and bustle be fruitful </document>\\n    <document> #url# better than umu udubonch vol2 akalaka #url# </document>\\n    Wonderful <document> deserves wonderful miracle. pastor mmm everywhere #url# </document>\\n    <document> can you marry a billionaire who is obasinjo and HIV positive child? answer like you\\'re dumb d </document>\\n    <document> your popularity is our top priority tel 08084770119 </document>\\n    <document> on behalf of a common man in this country, we are hopelessly lost. 132 biko haram 4gvn n reinstated in Borno state. </document>\\n    <document> d solo tin u should hv at d back of mind is dat anytin can happen at any time. but hustle defines your future</document>\\n    <document> aba na aba is my state border is closed to stop importing rice, well that\\'s not for us in abakaliki, eb\\xe2\\x80\\xa6 #url# </document>\\n    <document> can\\'t kill myself big time #url# </document>\\n    <document> the ability to run from one man to another is called run girl. prostitute is ability to ....... ? </document>\\n    <document> President Donald Trump addresses the United Nations General Assembly. other: #url# #url# </document>\\n    <document> hot &amp; fresh mega mix from your baddest dj dj nwabakaliki we are your street believable\\xe2\\x80\\xa6 #url# </document>\\n    <document> hello all, please ignore any alleged commercial or similar activity sent by me. someone broke into my\\xe2\\x80\\xa6 #url# </document>\\n    <document> did you fight for me because odas fight for their god my lord you don\\'t use me to play ooo </document>\\n    <document> your ex should never be your friend -counselor charlotte oduro #url# </document>\\n    <document> lafille\\' ages as gracefully as you are +1 2 days </document>\\n    <document> country is messed up #url# </document>\\n    ; url# </document>\\n    <document> umu udubonch vol1 video shooting about to start ihe n\\' eme agu na isi zodo music ng production directed by century dop emelex </document>\\n    <document> biafra is real r. I . p our great fallen heroes May 30th is a heroic date for every Igbo land. data we will always\\xe2\\x80\\xa6 #url# </document>\\n    <document>if you want Nigerian men to eat or drink something just tell them it will help them behave better in bed.. chai slapping me..\\xf0\\x9f\\x98\\x9c </document>\\n    <document> question???? if d husband has \\xe2\\x82\\xa610,000, &amp; my wife has \\xe2\\x82\\xa630,000. how much does it cost at home? taking house as a constant in d house </document>\\n    <document> Happy Father\\'s Day to me and myself </document>\\n    <document> when nigerian wake up against injustice god will wake up but when you stay calm when god is waiting for you to consent\\xe2\\x80\\xa6 #url# </document>\\n    <document> congratulations brother obinna god will always see you true no matter the situation. second surgery with\\xe2\\x80\\xa6 #url# </document>\\n    <document> the man who saw the future #url# </document>\\n    <document> congratulations uchechi. celebrate with you beautiful girl #url# </document>\\n    <document> out July 20 </document>\\n    <document> if you haven\\'t been hospitalized since January to now, gather here, we thank God for his grace \\xf0\\x9f\\x91\\x87 </document>\\n    <document> Sean Kingston, crooner of \\'beautiful girl\\' and \\'911\\', releases one of the awaited singles entitled \"peace of mind\". kis\\xe2\\x80\\xa6 #url# </document>\\n    <document> Trust is the most expensive gift that can cost you more than \"if you\\'d known\" be careful who you risk it to or or \\xe2\\x80\\x94 feeli\\xe2\\x80\\xa6 #url# </document>\\n    <document> disrespect for #url# </document> culture\\n    <document> depression wherever he hasn\\'t committed suicide because of the accommodation fee, before republishing let\\'s do some clarity. his wedding\\xe2\\x80\\xa6 #url# </document>\\n    <document> December mixtape loading.......call for your latest video updates and promotions we are second to none......08084770119</document>\\n    <document> dating a man who doesn\\'t play \\xf0\\x9f\\x8e\\xb1snooker is a blessing; this game teaches men how to focus on many holes using a stick... </document>\\n    <document> God bless you and give you one more reason to help people. you are one in a million god will remember this year ijn amen #url# </document>\\n    <document> [audio + video] tony oneweek \\xe2\\x80\\x93 \\xe2\\x80\\x9cparty\\xe2\\x80\\x9d (prod. by rockyswaya) #url# </document>\\n    <document> June for jubilation. congratulations chimdire destiny onyekachi david on your first day at church we are redeemed u\\xe2\\x80\\xa6 #url# </document>\\n    <document> something good can come out of babcock #url# </document>\\n    <document> i did it you too can do the same to get justice for nigeria #url# </document><document> #url# click here to watch a fucking fight #url# </document>\\n    <document> dave this year na ur year as usual u too bro #url# </document>\\n    <document> rip algba a 344 year old tortoise popularly known as \"alagba\" after ogbomoso palace is dead :( last ne\\xe2\\x80\\xa6 #url# </document>\\n    <document> festival of madness funny movie #url# </document>\\n    <document> dontom puttuone ofafrica god bless you immensely for your efforts on this issue. you are a true human rights activist #url# </document>\\n    <document> we present you a great song by asa called \"the place to be\". nigeria\\'s soul diva and greatest female e-musician\\xe2\\x80\\xa6 #url# </document>\\n    <document> good luck! bonanza!! bonanza!!! happy new month &amp; Sunday to you all. I want to use this medium to thank us very much... #url# </document>\\n    <document> we like bz shoes, track me the latest arrivals #url# </document>\\n    <document> when nigerian wake up against injustice god will wake up but when you stay calm when god is waiting for you to consent\\xe2\\x80\\xa6 #url# </document>\\n    <document> ramatu God bless you again mom and give you strength and more wisdom as a minister ijn #url# </document>\\n    <document> The next world music meets Kennis\\' music in this smashing track titled \"ado bayero\" and it\\'s a vibe, the oba or in him... #url# </document>\\n    <document> mr eazi comes with the amazing song he performed at the coachella just concluded. the song is tagged \\xe2\\x80\\x9clet\\xe2\\x80\\xa6 #url# </document>\\n    <document> stop wasting your data tracking people online. start an online business and track your income\\xf0\\x9f\\x91\\x8c\\xe2\\x9c\\x8c </document>\\n    <document> congratulations prince desmond anayo prince desmond anayo igboke aka okeigbudu </document>\\n    <document> it\\'s only in nigeria that a relationship ends but the sex continues\\xf0\\x9f\\x99\\x84\\xf0\\x9f\\x98\\x8f #url# </document>\\n    <document> another feather added to wing zodo music ng aka djnwabakaliki entertainment as best marketer of the year 2019.\\xe2\\x80\\xa6 #url# </document>\\n    <document> any adult in Nigeria who witnessed Buhari\\'s first arrival knows that Jonathan was right. goodluck jonathan warned nig\\xe2\\x80\\xa6 #url# </document>\\n    <document> never be fat and broke it\\'s so annoying why you keep letting people down hustle nwanne </document>\\n    <document> another zodo music ng production directed by joshua century sound production by usb 07038892780 \\xe2\\x80\\x94 at enugu - coal\\xe2\\x80\\xa6 #url# </document>\\n    <document> have you ever noticed that women who date reverend fathers hardly get married? </document>\\n    <document> don\\'t judge a book by its cover... #url# </document>\\n    <document> pmb make this guy more popular. #url# </document>\\n    <document> some relationships can change your orientation &amp; size in life tiktwc! </document>\\n    <document> any limitation in your life break ijn.... #url# </document>\\n    <document> we Igbo are wonderful creatures #url# </document>\\n    <document> what is happening to religious leaders God have mercy on us #url# </document>\\n    <document> the famous american rapper russ who was enthusiastic about afrobeat and one of the biggest music exporter of nigeria, david... #url# </document>\\n    <document> the movie cardi blue desecrated our land fada #url# </document>>\\n      <document> in religion we call it spirits. in science we call it energy. in the streets we call it vibes. </document>\\n    <document> brings your face closer to your fan</document>\\n    <document> Iranian hit us ship we did nothing Iranian hit us drone we did nothing Iranian except up to a\\xe2\\x80\\xa6 #url# </document>\\n    <Document> You are calling for the first time tomorrow November 1, 2019 and will be a financial blessing. our latest mixtape... grab your copy. </document>\\n    <document> no weapon against him will execute ijn #url# </document>\\n    <document> Again, congratulations to my sister #url# </document>\\n    <document> old grateful beautiful woman llnp best friend #url# </document>\\n    <document> Your popularity is our top priority #url# </document>\\n    <Document> I don\\'t know who needs to hear this, but grow up and stop watching porn. </document>\\n    <document> gov ugwuanyi paid salary \\xf0\\x9f\\x99\\x84\\xf0\\x9f\\x99\\x84\\xf0\\x9f\\x99\\x84 I do not consider salary payments as a benefit </document>\\n    <Document> You will only see these friends in their inbox if you upload nice pictures, stay away from them. </document>\\n    <document> old grateful beautiful woman llnp best friend </document>\\n    <document> video over make sinsi ezege but we need your poster not on the street of 042, to awaken the vibe street alobam. mpa\\xe2\\x80\\xa6 #url# </document>\\n    <document> we are the road and the road is within us </document>\\n    <document> #hashtag# is the real soldier. Ebony guy singlehandedly disarms a stupid Nigerian soldier\\n    <document> can someone help me and subtitle this song #url# </document>\\n    <document> My best Nigerian President, I celebrate with you Sir #url# </document>\\n    <document> never tell your family about your relationship problems because you might be able to forgive your partner and they won\\'t.. </document>\\n    <document> wwe africa full match of rey mysterio vs kane is out now 2019 latest wwe africa trending video #url# </document>\\n    <document> may God continue to support you and guide you through everything that is definitely @ anytime ijn #url# </document>\\n    <Document> is never in a hurry to criticize a woman who has left her marriage. Most of them did everything to save their homes. be friendly! </document>\\n    <document> best epic song of the season #url# </document>\\n    <document> stop dating broke girls. I know many girls and ladies will be upset by this post but try to learn more about it... #url# </document>\\n    <Document> bia rie ji \\xf0\\x9f\\xa4\\xa3\\xf0\\x9f\\xa4\\xa3\\xf0\\x9f\\xa4\\xa3 \\xe2\\x80\\x94 at enugu - coal town. #url# </document>\\n    <Document> The army and police showed impressive professionalism in this encounter. kudos to her. more respect for d g\\xe2\\x80\\xa6 #url# </document>\\n    <document> happy birthday papilo old man grateful alias shoemaker </document>\\n    <document>July updates....crawl a copy as edey hot</document>\\n    <document> a man of his word #url# </document>\\n    <Document> Congratulations on my own blood from another mummy. more money, peace, joy, love and happiness when you add 1 to your ... #url# </document>\\n    <document> Again, congratulations to my sister #url# </document>\\n    <document> Our July updates on cheers crawl a copy as edey hot </document>\\n    <Document> My past pains have not contributed to my future glory. </document>\\n    <document> Good morning to all of you, may you be better today than yesterday, may you be better tomorrow than today, may our rush be fruitful</document>\\n    <document> #url# best of umu udubonch vol2 akalaka #url# </document>\\n    <document> wonderful deserves wonderful miracle. Pastor mmm everywhere #url# </document>\\n    <Document> can you marry a billionaire who is Obasinjo\\'s son and HIV positive? answer as you are tonto d </document>\\n    <document> Your popularity is our top priority, Tel. 08084770119 </document>\\n    <Document> on behalf of the common man in this country, we are hopelessly lost. 132 biko haram 4gvn n reinstated in Borno state. </document>\\n    <document> d just what you should keep in mind is that at allin can happen at any time. but hustle and bustle determines your future </document>\\n    <document> aba na aba is my own state border closed to stop importing rice well that\\'s not for us in abakaliki eb\\xe2\\x80\\xa6 #url# </document>\\n    <document> I can\\'t kill myself on the fly #url# </document>\\n    <Document> The ability to run from one man to another is called Runs Girl. Prostitute is ability of ....... ? </document>\\n    <Document> President Donald Trump addresses the United Nations General Assembly. more: #url# #url# </document>\\n    <document> hot &amp; Fresh mega mix from your worst DJ, DJ Nwabakaliki, we are your street cred\\xe2\\x80\\xa6 #url# </document>\\n    <document> hellooo everyone please ignore any supposed business or anything like that sent by me. someone hacked into my \\xe2\\x80\\xa6 #url# </document>\\n    <document> you fought for me why odas fight for dey god sir you don\\'t use me to play ooo </document>\\n    <document> Your ex should never be your friend - Counselor Charlotte Oduro #url# </document>\\n    <document>lafille\\' age gracefully as you +1 2 days</document>\\n    <document> the country is broken #url# </document>\\n    <Documents> # url # na Mista Cornel\\'s is finally out \\xf0\\x9f\\xa7\\x9a\\xe2\\x80\\x8d\\xe2\\x99\\x80\\xef\\xb8\\x8f\\xf0\\x9f\\xa7\\x9b\\xe2\\x80\\x8dtoday \\xf0\\x9f\\xa7\\x9e\\xe2\\x80\\x8d Would you like URL# </Document>\\n    <document> umu udubonch vol1 Video shoot just before the start of music production directed by Century Dop Emelex </document>\\n    <document> biafra is real r. I . p our great falling heroes may 30th is a heroic date for any igbo country. We will always date\\xe2\\x80\\xa6 #url# </document>\\n    <document> If you want Nigerian men to eat or drink something, just tell them it will help them function better in bed.. chai who slap me..\\xf0\\x9f\\x98\\x9c </document>\\n    <document> Question???? if d husband has \\xe2\\x82\\xa610,000, &amp; d woman has \\xe2\\x82\\xa6 30,000. How much is in the house? Take house as constant in d house </document>\\n    <document> I wish you and me a happy father\\'s day </document>\\n    <document> If Nigerians wake up to injustice, God will wake up, but if you keep calm, if God is waiting for you to accept... #url# </document>\\n    <Document> Congratulations Brother Obinna God will always see you true no matter the situation. second surgical procedure with\\xe2\\x80\\xa6 #url# </document>\\n    <document> the man who saw the future #url# </document>\\n    <Document> Congratulations Uchechi. I celebrate with you beautiful girl #url# </document>\\n    <document> will be released on July 20th </document>\\n    <document> If you have not been hospitalized from January to now, gather here, let\\'s thank God for his grace \\xf0\\x9f\\x91\\x87 </document>\\n    <document> \\'beautiful girl\\' and \\'911\\' crooner Sean Kingston releases one of the anticipated singles entitled \\'peace of mind\\'. kiss\\xe2\\x80\\xa6 #url# </document>\\n    <document> Trust is the most expensive gift that can cost you more than \"I knew it\".\\n    <document> Lack of respect for culture #url# </document>\\n    <Document> Depression everywhere, he didn\\'t kill himself because of the lodging fee. his wife \\xe2\\x80\\xa6 #url# </document>\\n    <document> December Loading mixtape...... Call for your latest updates and video promotion. We are second to none......08084770119 </document>\\n    <Document> Dating a guy who doesn\\'t play \\xf0\\x9f\\x8e\\xb1Snooker is a blessing; dat game teaches men how to focus on many holes with a stick... </document>\\n    <Document> God bless you and give you more reason to help people. You are one in a million God will remember this year ijn amen #url# </document>\\n    <document> [audio + video] tony oneweek - \"party\" (prod. by rockyswaya) #url# </document>\\n    <Document> June to cheer. congratulations chimdire destiny onyekachi david on your first day at church we are redeemed and\\xe2\\x80\\xa6 #url# </document>\\n    <document> something good can come from babcock #url# </document>\\n    <document> I did it, you can do the same to get justice for Nigeria #url# </document><document> #url# Click here to watch a fucking fight #url# </document>\\n    <document> dave this year as usual this year u too much bro #url# </document>\\n    <document> rip algba a 344 year old tortoise popularly known as \"alagba\" in the soun of ogbomoso\\'s palace is dead :( the latest n\\xe2\\x80\\xa6 #url# </document>\\n    <document> Feast of Madness funny movie #url# </document>\\n    <document> dontom putputuone ofafrica God bless you immensely for your efforts in this matter. You are a true human rights activist #url# </document>\\n    <document> we present to you all an amazing song by asa called \\xe2\\x80\\x9cthe place to be\\xe2\\x80\\x9d. Nigeria\\'s soul diva and greatest female musician... #url# </document>\\n    <Document> Gold Mine! gold mine!! gold mine!!! Happy New Month &amp; sunday to you all. I would like to use this medium to say a big thank you... #url# </document>\\n    <document> we\\'re into shoe bz charts for new arrivals #url# </document>\\n    <document> If Nigerians wake up to injustice, God will wake up, but if you keep calm, if God is waiting for you to accept... #url# </document>\\n    <document> Ramatu may God bless you even more mom and give you strength and more wisdom as a minister ijn #url# </document>\\n    <document> Next World Music meets Kennis Music in this banging song titled \"ado bayero\" and it\\'s a vibe that oba or in him... #url# </document>\\n    <Document> Mr. Eazi comes through with the stunning song he performed at the Coachella that just ended. The song is tagged with \\xe2\\x80\\x9clet\\xe2\\x80\\xa6 #url# </document>\\xe2\\x80\\x9d.\\n    <document> Stop wasting your data monitoring people online. Start an online business and monitor your income\\xf0\\x9f\\x91\\x8c\\xe2\\x9c\\x8c </document>\\n    <document> Congratulations Prince Desmond Ananyo Prince Desmond Anayo Igboke aka Okeigbudu </document>\\n    <document> Only in Nigeria does a relationship end but sex continues\\xf0\\x9f\\x99\\x84\\xf0\\x9f\\x98\\x8f #url# </document>\\n    <document> Another feather added to Wing Zodo Music ng aka Djnwabakaliki Entertainment for Best Marketer of 2019.\\xe2\\x80\\xa6 #url# </document>\\n    <document> every adult in nigeria who saw buharis first come knows that jonathan was right. Good luck Jonathan warned Nig\\xe2\\x80\\xa6 #url# </document>\\n    <document>Never be broke and fat, it\\'s so annoying because you hustle and bustle all the time disappointing people</document>\\n    <document> another Zodo Music ng production directed by Joshua Century sound production by USB 07038892780 \\xe2\\x80\\x93 at enugu \\xe2\\x80\\x93 kohle\\xe2\\x80\\xa6 #url# </document>\\n    <Document> Have you ever observed that ladies who date respectable fathers hardly ever marry? </document>\\n    <document> Don\\'t judge a book by its cover... #url# </document>\\n    <document> pmb make this type more popular. #url# </document>\\n    <document> Some relationships can change your orientation &amp; dimension in life tiktwc! </document>\\n    <document> break every limitation in your life ijn.... #url# </document>\\n    <document> we igbo are wonderful creatures #url# </document>\\n    <document> what happens to religious leaders, God have mercy on us #url# </document>\\n    <document> American renowned rapper Russ, who raves about Afrobeat and one of Nigeria\\'s biggest music exports, Davido... #url# </document>\\n    <document> Cardi Blue Film Desecrates Our Fada Country #url# </document>', shape=(), dtype=string)\n",
            "SVM Accuracy Score on Training set ->  1.0\n",
            "SVM Accuracy Score on Test set ->  0.62\n"
          ]
        }
      ]
    }
  ]
}