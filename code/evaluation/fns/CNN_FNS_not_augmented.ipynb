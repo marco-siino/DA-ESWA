{
  "cells": [
    {
      "cell_type": "markdown",
      "metadata": {
        "id": "view-in-github",
        "colab_type": "text"
      },
      "source": [
        "<a href=\"https://colab.research.google.com/github/marco-siino/DA-ESWA/blob/main/code/evaluation/fns/CNN_FNS_not_augmented.ipynb\" target=\"_parent\"><img src=\"https://colab.research.google.com/assets/colab-badge.svg\" alt=\"Open In Colab\"/></a>"
      ]
    },
    {
      "cell_type": "markdown",
      "metadata": {
        "id": "u-hLo5ufkCT1"
      },
      "source": [
        "## Investigating text data augmentation using back translation for author profiling\n",
        "- - - \n",
        "CNN ON FNS DS EXPERIMENTS NOTEBOOK \n",
        "- - -\n",
        "Convolutional Neural Network on Fake News Spreaders Dataset not augmented with backtranslation.\n",
        "Code by M. Siino. \n",
        "\n",
        "From the paper: \"Investigating text data augmentation using back translation for author profiling\" by M.Siino et al.\n"
      ]
    },
    {
      "cell_type": "markdown",
      "metadata": {
        "id": "6IBqUcj4cx2G"
      },
      "source": [
        "## Importing modules."
      ]
    },
    {
      "cell_type": "code",
      "execution_count": null,
      "metadata": {
        "id": "AQSunQ-ucjLX"
      },
      "outputs": [],
      "source": [
        "import matplotlib.pyplot as plt\n",
        "import os\n",
        "import random\n",
        "import re\n",
        "import shutil\n",
        "import string\n",
        "import tensorflow as tf\n",
        "\n",
        "import numpy as np\n",
        "\n",
        "from tensorflow.keras import layers\n",
        "from tensorflow.keras import losses\n",
        "from tensorflow.keras import preprocessing\n",
        "from keras.models import Model\n",
        "from tensorflow.keras.layers.experimental.preprocessing import TextVectorization\n",
        "\n",
        "os.environ['TF_CUDNN_DETERMINISTIC']='true'\n",
        "os.environ['TF_DETERMINISTIC_OPS']='true'"
      ]
    },
    {
      "cell_type": "markdown",
      "metadata": {
        "id": "0QHd_fxmHCfa"
      },
      "source": [
        "## Importing DS and extract in current working directory."
      ]
    },
    {
      "cell_type": "code",
      "source": [
        "urlTrainingSet = \"https://github.com/marco-siino/DA-ESWA/raw/main/data/fns/fns-training-original.zip\"\n",
        "training_set = tf.keras.utils.get_file(\"pan20-author-profiling-training-2020-02-23.zip\", urlTrainingSet,\n",
        "                                    extract=True, archive_format='zip',cache_dir='.',\n",
        "                                    cache_subdir='')\n",
        "\n",
        "urlTestSet=\"https://github.com/marco-siino/DA-ESWA/raw/main/data/fns/fns-test-original.zip\"\n",
        "test_set = tf.keras.utils.get_file(\"pan20-author-profiling-test-2020-02-23.zip\", urlTestSet,\n",
        "                                    extract=True, archive_format='zip',cache_dir='.',\n",
        "                                    cache_subdir='')"
      ],
      "metadata": {
        "colab": {
          "base_uri": "https://localhost:8080/"
        },
        "id": "2RBLe4vQPni1",
        "outputId": "c6aa2099-740d-478b-b63d-df802e3ad5e6"
      },
      "execution_count": null,
      "outputs": [
        {
          "output_type": "stream",
          "name": "stdout",
          "text": [
            "Downloading data from https://github.com/marco-siino/DA-ESWA/raw/main/data/fns/fns-training-original.zip\n",
            "3094459/3094459 [==============================] - 0s 0us/step\n",
            "Downloading data from https://github.com/marco-siino/DA-ESWA/raw/main/data/fns/fns-test-original.zip\n",
            "2135236/2135236 [==============================] - 0s 0us/step\n"
          ]
        }
      ]
    },
    {
      "cell_type": "code",
      "execution_count": null,
      "metadata": {
        "id": "ocYMUXaY8r0_",
        "colab": {
          "base_uri": "https://localhost:8080/"
        },
        "outputId": "45e71a6d-ed07-4a30-96ff-91f8ccd40600"
      },
      "outputs": [
        {
          "output_type": "stream",
          "name": "stdout",
          "text": [
            "training_set_dir ./pan20-author-profiling-training-2020-02-23\n",
            "test_set_dir ./pan20-author-profiling-test-2020-02-23\n",
            ".config\n",
            "__MACOSX\n",
            "pan20-author-profiling-test-2020-02-23\n",
            "pan20-author-profiling-test-2020-02-23.zip\n",
            "pan20-author-profiling-training-2020-02-23\n",
            "pan20-author-profiling-training-2020-02-23.zip\n",
            "sample_data\n"
          ]
        }
      ],
      "source": [
        "training_set_dir = os.path.join(os.path.dirname(training_set), 'pan20-author-profiling-training-2020-02-23')\n",
        "test_set_dir     = os.path.join(os.path.dirname(test_set), 'pan20-author-profiling-test-2020-02-23')\n",
        "print('training_set_dir',training_set_dir)\n",
        "print('test_set_dir'    ,test_set_dir)\n",
        "!ls -A"
      ]
    },
    {
      "cell_type": "markdown",
      "metadata": {
        "id": "uTJi1fbT_Rup"
      },
      "source": [
        "## Build folders hierarchy to use Keras folders preprocessing function.\n",
        "\n"
      ]
    },
    {
      "cell_type": "code",
      "execution_count": null,
      "metadata": {
        "id": "FyafvXEMhEKw",
        "colab": {
          "base_uri": "https://localhost:8080/"
        },
        "outputId": "440ba823-2356-47e9-8e57-7b15c8fa2b2d"
      },
      "outputs": [
        {
          "output_type": "stream",
          "name": "stdout",
          "text": [
            ".config\n",
            "__MACOSX\n",
            "pan20-author-profiling-test-2020-02-23\n",
            "pan20-author-profiling-test-2020-02-23.zip\n",
            "pan20-author-profiling-training-2020-02-23\n",
            "pan20-author-profiling-training-2020-02-23.zip\n",
            "sample_data\n",
            "test_dir_en\n",
            "train_dir_en\n"
          ]
        }
      ],
      "source": [
        "### Training Folders. ###\n",
        "\n",
        "# First level directory.\n",
        "if not os.path.exists('train_dir_en'):\n",
        "    os.makedirs('train_dir_en')\n",
        "\n",
        "# Class labels directory.\n",
        "if not os.path.exists('train_dir_en/0'):\n",
        "    os.makedirs('train_dir_en/0')\n",
        "if not os.path.exists('train_dir_en/1'):\n",
        "    os.makedirs('train_dir_en/1')\n",
        "\n",
        "# Make Py variables.\n",
        "train_dir='train_dir_'\n",
        "\n",
        "## Test Folders. ##\n",
        "# First level directory.\n",
        "if not os.path.exists('test_dir_en'):\n",
        "    os.makedirs('test_dir_en')\n",
        "\n",
        "# Class labels directory.\n",
        "if not os.path.exists('test_dir_en/0'):\n",
        "    os.makedirs('test_dir_en/0')\n",
        "if not os.path.exists('test_dir_en/1'):\n",
        "    os.makedirs('test_dir_en/1')\n",
        "\n",
        "# Make Py variables.\n",
        "test_dir='test_dir_'\n",
        "\n",
        "\n",
        "!ls -A"
      ]
    },
    {
      "cell_type": "markdown",
      "source": [
        "## Set language and directory paths."
      ],
      "metadata": {
        "id": "-6c28Rdo8zGn"
      }
    },
    {
      "cell_type": "code",
      "source": [
        "# Set en and es ground truth file path for train_dir. \n",
        "language='en'\n",
        "\n",
        "truth_file_training_dir_en=training_set_dir+'/'+language+'/'\n",
        "truth_file_training_path_en = truth_file_training_dir_en+'truth.txt'\n",
        "print('truth_file_training_dir_en' ,truth_file_training_dir_en)\n",
        "print('truth_file_training_path_en',truth_file_training_path_en)\n",
        "\n",
        "\n",
        "truth_file_test_dir=test_set_dir\n",
        "truth_file_test_path_en = truth_file_test_dir+'/'+'en'+'.txt'\n",
        "print('truth_file_test_dir'  , truth_file_test_dir)\n",
        "print('truth_file_test_path_en' , truth_file_test_path_en)"
      ],
      "metadata": {
        "id": "ANr_dCj-8yvD",
        "colab": {
          "base_uri": "https://localhost:8080/"
        },
        "outputId": "2ff2a18d-b6eb-47a1-9404-479634982e0a"
      },
      "execution_count": null,
      "outputs": [
        {
          "output_type": "stream",
          "name": "stdout",
          "text": [
            "truth_file_training_dir_en ./pan20-author-profiling-training-2020-02-23/en/\n",
            "truth_file_training_path_en ./pan20-author-profiling-training-2020-02-23/en/truth.txt\n",
            "truth_file_test_dir ./pan20-author-profiling-test-2020-02-23\n",
            "truth_file_test_path_en ./pan20-author-profiling-test-2020-02-23/en.txt\n"
          ]
        }
      ]
    },
    {
      "cell_type": "markdown",
      "source": [
        "## Read truth.txt to organize training and test dataset folders."
      ],
      "metadata": {
        "id": "VU6PtNMZ864o"
      }
    },
    {
      "cell_type": "code",
      "source": [
        "# Open the file truth.txt with read only permit.\n",
        "f = open(truth_file_training_path_en, \"r\")\n",
        "# use readline() to read the first line \n",
        "line = f.readline()\n",
        "# use the read line to read further.\n",
        "# If the file is not empty keep reading one line\n",
        "# at a time, till the file is empty\n",
        "while line:\n",
        "    # Split line at :::\n",
        "    x = line.split(\":::\")\n",
        "    fNameXml = x[0]+'.xml'\n",
        "    fNameTxt = x[0]+'.txt'\n",
        "    # Second coord [0] gets just the first character (label) and not /n too.\n",
        "    label = x[1][0]\n",
        "\n",
        "    # Now move the file to the right folder.\n",
        "    if os.path.exists(truth_file_training_dir_en+fNameXml):\n",
        "      os.rename(truth_file_training_dir_en+fNameXml, './train_dir_'+language+'/'+label+'/'+fNameTxt )\n",
        "\n",
        "    # use readline() to read next line\n",
        "    line = f.readline()\n",
        "\n",
        "# Open the file truth.txt with read only permit.\n",
        "f = open(truth_file_test_path_en, \"r\")\n",
        "# use readline() to read the first line \n",
        "line = f.readline()\n",
        "# use the read line to read further.\n",
        "# If the file is not empty keep reading one line\n",
        "# at a time, till the file is empty\n",
        "while line:\n",
        "    # Split line at :::\n",
        "    x = line.split(\":::\")\n",
        "    fNameXml = x[0]+'.xml'\n",
        "    fNameTxt = x[0]+'.txt'\n",
        "    # Second coord [0] gets just the first character (label) and not /n too.\n",
        "    label = x[1][0]\n",
        "\n",
        "    # Now move the file to the right folder.\n",
        "    if os.path.exists(truth_file_test_dir+'/'+language+'/'+fNameXml):\n",
        "      os.rename(truth_file_test_dir+'/'+language+'/'+fNameXml, './test_dir_'+language+'/'+label+'/'+fNameTxt )\n",
        "\n",
        "    # use readline() to read next line\n",
        "    line = f.readline()\n"
      ],
      "metadata": {
        "id": "iW2UF_SH87TX"
      },
      "execution_count": null,
      "outputs": []
    },
    {
      "cell_type": "markdown",
      "source": [
        "## Generate full dataset."
      ],
      "metadata": {
        "id": "4vskGJeX9GqJ"
      }
    },
    {
      "cell_type": "code",
      "source": [
        "# Generate full randomized training set.\n",
        "batch_size=1\n",
        "\n",
        "en_train_ds = tf.keras.preprocessing.text_dataset_from_directory(\n",
        "    train_dir+language, \n",
        "    batch_size=batch_size,\n",
        "    shuffle=False\n",
        "    )\n",
        "\n",
        "en_test_ds = tf.keras.preprocessing.text_dataset_from_directory(\n",
        "    test_dir+language, \n",
        "    batch_size=batch_size,\n",
        "    shuffle=False\n",
        "    )\n",
        "\n",
        "train_ds=en_train_ds.shuffle(300,seed=1, reshuffle_each_iteration=False)\n",
        "test_ds=en_test_ds.shuffle(200,seed=1, reshuffle_each_iteration=False)\n",
        "\n",
        "\n",
        "train_ds_size=len(train_ds)\n",
        "test_ds_size=len(test_ds)"
      ],
      "metadata": {
        "colab": {
          "base_uri": "https://localhost:8080/"
        },
        "id": "UOqIc_Sm9HGX",
        "outputId": "a3bed19d-4eae-48cd-9ce9-a57542366629"
      },
      "execution_count": null,
      "outputs": [
        {
          "output_type": "stream",
          "name": "stdout",
          "text": [
            "Found 300 files belonging to 2 classes.\n",
            "Found 200 files belonging to 2 classes.\n"
          ]
        }
      ]
    },
    {
      "cell_type": "markdown",
      "metadata": {
        "id": "ITouXXtQ8WzV"
      },
      "source": [
        "## Functions to pre-process source text. \n",
        "\n"
      ]
    },
    {
      "cell_type": "code",
      "execution_count": null,
      "metadata": {
        "id": "bDPIqAgXYWim"
      },
      "outputs": [],
      "source": [
        "# Preprocessing function to remove some noise due to the translation.\n",
        "def clean_samples(input_data):\n",
        "  tag_author_lang_en_removed = tf.strings.regex_replace(input_data,'<author lang=\"en\">', '')  \n",
        "  tag_opening_documents = tf.strings.regex_replace(tag_author_lang_en_removed,'<documents>', '')\n",
        "  tag_opening_cdata_removed = tf.strings.regex_replace(tag_opening_documents,'<\\!\\[CDATA\\[', ' ')\n",
        "  tag_closing_cdata_removed = tf.strings.regex_replace(tag_opening_cdata_removed,'\\]\\]></document>', ' ></document>')\n",
        "  tag_closing_documents = tf.strings.regex_replace(tag_closing_cdata_removed,'</documents>', '')\n",
        "  output_data = tf.strings.regex_replace(tag_closing_documents,'</author>', '')\n",
        "  return output_data"
      ]
    },
    {
      "cell_type": "markdown",
      "metadata": {
        "id": "TjUnE9_DEyCw"
      },
      "source": [
        "## Get the length of the longest sample in training set. Then adapt text.\n",
        "\n"
      ]
    },
    {
      "cell_type": "code",
      "execution_count": null,
      "metadata": {
        "id": "ebRMQqa_mr48"
      },
      "outputs": [],
      "source": [
        "def preprocess_and_adapt_ts(training_set):\n",
        "  # Set a large sequence length to find the longest sample in the training set.\n",
        "  sequence_length = 30000\n",
        "  vectorize_layer = TextVectorization(\n",
        "      standardize=clean_samples,\n",
        "      output_mode='int',\n",
        "      output_sequence_length=sequence_length)\n",
        "\n",
        "  train_text = training_set.map(lambda x, y: x)\n",
        "  vectorize_layer.adapt(train_text)\n",
        "  #vectorize_layer.get_vocabulary()\n",
        "\n",
        "  model = tf.keras.models.Sequential()\n",
        "  model.add(tf.keras.Input(shape=(1,), dtype=tf.string))\n",
        "  model.add(vectorize_layer)\n",
        "\n",
        "  longest_sample_length=1\n",
        "\n",
        "  for element in training_set:\n",
        "    authorDocument=element[0]\n",
        "    label=element[1]\n",
        "    \n",
        "    #print(\"Sample considered is: \", authorDocument[0].numpy())\n",
        "    #print(\"Preprocessed: \", str(custom_standardization(authorDocument[0].numpy())))\n",
        "    #print(\"And has label: \", label[0].numpy())\n",
        "\n",
        "    out=model(authorDocument)\n",
        "    # Convert token list to numpy array.\n",
        "    token_list = out.numpy()[0]\n",
        "    token_list = np.trim_zeros(token_list,'b')\n",
        "    if longest_sample_length < len(token_list):\n",
        "      longest_sample_length = len(token_list)\n",
        "\n",
        "  print(\"Length of the longest sample is:\", longest_sample_length)\n",
        "\n",
        "  # After tokenization longest_sample_length covers all the document lenghts in our dataset.\n",
        "  sequence_length = longest_sample_length\n",
        "\n",
        "  vectorize_layer = TextVectorization(\n",
        "      standardize=clean_samples,\n",
        "      output_mode='int',\n",
        "      output_sequence_length=sequence_length)\n",
        "\n",
        "  # Finally adapt the vectorize layer.\n",
        "  train_text = training_set.map(lambda x, y: x)\n",
        "  vectorize_layer.adapt(train_text)\n",
        "  return vectorize_layer"
      ]
    },
    {
      "cell_type": "markdown",
      "source": [
        "## Some training hyperparameters..."
      ],
      "metadata": {
        "id": "RF7pJkGJ3bHT"
      }
    },
    {
      "cell_type": "code",
      "source": [
        "# Word embedding dimensions.\n",
        "embedding_dim = 100\n",
        "\n",
        "num_runs = 5 \n",
        "# No need to go over the 20th epoch...Overfitting begins.\n",
        "num_epochs_per_run = 20\n",
        "\n",
        "#opt = tf.keras.optimizers.RMSprop()"
      ],
      "metadata": {
        "id": "ocHligxS3mVn"
      },
      "execution_count": null,
      "outputs": []
    },
    {
      "cell_type": "markdown",
      "source": [
        "## Vectorization\n",
        "\n",
        "\n"
      ],
      "metadata": {
        "id": "yzLLcBGdtmXM"
      }
    },
    {
      "cell_type": "code",
      "source": [
        "print(\"\\n\\n* * * * VECTORIZATION STARTED * * * *\")\n",
        "\n",
        "# Preprocess training set to build a dictionary.\n",
        "vectorize_layer = preprocess_and_adapt_ts(train_ds)\n",
        "\n",
        "max_features=len(vectorize_layer.get_vocabulary()) + 1\n",
        "print(\"Vocabulary size is:\", max_features)\n"
      ],
      "metadata": {
        "colab": {
          "base_uri": "https://localhost:8080/"
        },
        "id": "mlDEHJvstluS",
        "outputId": "e66ac57b-d571-4d8e-9cba-8a42fc8a2c4c"
      },
      "execution_count": null,
      "outputs": [
        {
          "output_type": "stream",
          "name": "stderr",
          "text": [
            "WARNING:tensorflow:From /usr/local/lib/python3.8/dist-packages/tensorflow/python/autograph/pyct/static_analysis/liveness.py:83: Analyzer.lamba_check (from tensorflow.python.autograph.pyct.static_analysis.liveness) is deprecated and will be removed after 2023-09-23.\n",
            "Instructions for updating:\n",
            "Lambda fuctions will be no more assumed to be used in the statement where they are used, or at least in the same block. https://github.com/tensorflow/tensorflow/issues/56089\n"
          ]
        },
        {
          "output_type": "stream",
          "name": "stdout",
          "text": [
            "\n",
            "\n",
            "* * * * VECTORIZATION STARTED * * * *\n",
            "Length of the longest sample is: 2415\n",
            "Vocabulary size is: 68043\n"
          ]
        }
      ]
    },
    {
      "cell_type": "markdown",
      "metadata": {
        "id": "XDEi7MAo4qsQ"
      },
      "source": [
        "## Models definition, training and evaluation on original and on augmented test set.\n",
        "\n",
        "\n"
      ]
    },
    {
      "cell_type": "code",
      "execution_count": null,
      "metadata": {
        "colab": {
          "base_uri": "https://localhost:8080/"
        },
        "id": "Mm1fdCpETWL-",
        "outputId": "d6554b32-13f1-4f7f-8edb-5bda2c8fae56"
      },
      "outputs": [
        {
          "output_type": "stream",
          "name": "stdout",
          "text": [
            "300/300 [==============================] - 67s 188ms/step - loss: 0.7115 - binary_accuracy: 0.4800 - val_loss: 0.6909 - val_binary_accuracy: 0.5450\n",
            "Run:  1 / Accuracy on test ORIGINAL at epoch  0  is:  0.5450000166893005 \n",
            "\n",
            "300/300 [==============================] - 9s 30ms/step - loss: 0.6859 - binary_accuracy: 0.5800 - val_loss: 0.7125 - val_binary_accuracy: 0.5450\n",
            "Run:  1 / Accuracy on test ORIGINAL at epoch  1  is:  0.5450000166893005 \n",
            "\n",
            "300/300 [==============================] - 9s 30ms/step - loss: 0.5751 - binary_accuracy: 0.7400 - val_loss: 0.8687 - val_binary_accuracy: 0.6250\n",
            "Run:  1 / Accuracy on test ORIGINAL at epoch  2  is:  0.625 \n",
            "\n",
            "300/300 [==============================] - 9s 30ms/step - loss: 0.3947 - binary_accuracy: 0.8467 - val_loss: 0.9362 - val_binary_accuracy: 0.6850\n",
            "Run:  1 / Accuracy on test ORIGINAL at epoch  3  is:  0.6850000023841858 \n",
            "\n",
            "300/300 [==============================] - 8s 28ms/step - loss: 0.2634 - binary_accuracy: 0.9033 - val_loss: 1.1439 - val_binary_accuracy: 0.6800\n",
            "Run:  1 / Accuracy on test ORIGINAL at epoch  4  is:  0.6800000071525574 \n",
            "\n",
            "300/300 [==============================] - 9s 29ms/step - loss: 0.1724 - binary_accuracy: 0.9400 - val_loss: 1.3761 - val_binary_accuracy: 0.6650\n",
            "Run:  1 / Accuracy on test ORIGINAL at epoch  5  is:  0.6650000214576721 \n",
            "\n",
            "300/300 [==============================] - 9s 30ms/step - loss: 0.1176 - binary_accuracy: 0.9500 - val_loss: 1.4792 - val_binary_accuracy: 0.6500\n",
            "Run:  1 / Accuracy on test ORIGINAL at epoch  6  is:  0.6499999761581421 \n",
            "\n",
            "300/300 [==============================] - 9s 30ms/step - loss: 0.0935 - binary_accuracy: 0.9633 - val_loss: 1.3674 - val_binary_accuracy: 0.7050\n",
            "Run:  1 / Accuracy on test ORIGINAL at epoch  7  is:  0.7049999833106995 \n",
            "\n",
            "300/300 [==============================] - 8s 27ms/step - loss: 0.0734 - binary_accuracy: 0.9733 - val_loss: 1.5727 - val_binary_accuracy: 0.6800\n",
            "Run:  1 / Accuracy on test ORIGINAL at epoch  8  is:  0.6800000071525574 \n",
            "\n",
            "300/300 [==============================] - 9s 30ms/step - loss: 0.0742 - binary_accuracy: 0.9867 - val_loss: 1.8255 - val_binary_accuracy: 0.6600\n",
            "Run:  1 / Accuracy on test ORIGINAL at epoch  9  is:  0.6600000262260437 \n",
            "\n",
            "300/300 [==============================] - 10s 32ms/step - loss: 0.0507 - binary_accuracy: 0.9833 - val_loss: 1.8335 - val_binary_accuracy: 0.6500\n",
            "Run:  1 / Accuracy on test ORIGINAL at epoch  10  is:  0.6499999761581421 \n",
            "\n",
            "300/300 [==============================] - 9s 30ms/step - loss: 0.0161 - binary_accuracy: 0.9933 - val_loss: 1.8488 - val_binary_accuracy: 0.6600\n",
            "Run:  1 / Accuracy on test ORIGINAL at epoch  11  is:  0.6600000262260437 \n",
            "\n",
            "300/300 [==============================] - 9s 30ms/step - loss: 0.0242 - binary_accuracy: 0.9933 - val_loss: 1.7674 - val_binary_accuracy: 0.6850\n",
            "Run:  1 / Accuracy on test ORIGINAL at epoch  12  is:  0.6850000023841858 \n",
            "\n",
            "300/300 [==============================] - 8s 28ms/step - loss: 0.0298 - binary_accuracy: 0.9933 - val_loss: 1.8403 - val_binary_accuracy: 0.7000\n",
            "Run:  1 / Accuracy on test ORIGINAL at epoch  13  is:  0.699999988079071 \n",
            "\n",
            "300/300 [==============================] - 9s 30ms/step - loss: 0.0185 - binary_accuracy: 0.9933 - val_loss: 1.9491 - val_binary_accuracy: 0.6850\n",
            "Run:  1 / Accuracy on test ORIGINAL at epoch  14  is:  0.6850000023841858 \n",
            "\n",
            "300/300 [==============================] - 9s 30ms/step - loss: 0.0268 - binary_accuracy: 0.9900 - val_loss: 1.9899 - val_binary_accuracy: 0.6950\n",
            "Run:  1 / Accuracy on test ORIGINAL at epoch  15  is:  0.6949999928474426 \n",
            "\n",
            "300/300 [==============================] - 10s 34ms/step - loss: 0.0415 - binary_accuracy: 0.9967 - val_loss: 2.4151 - val_binary_accuracy: 0.7050\n",
            "Run:  1 / Accuracy on test ORIGINAL at epoch  16  is:  0.7049999833106995 \n",
            "\n",
            "300/300 [==============================] - 9s 30ms/step - loss: 0.0231 - binary_accuracy: 0.9967 - val_loss: 2.7519 - val_binary_accuracy: 0.6750\n",
            "Run:  1 / Accuracy on test ORIGINAL at epoch  17  is:  0.675000011920929 \n",
            "\n",
            "300/300 [==============================] - 8s 28ms/step - loss: 0.0140 - binary_accuracy: 0.9933 - val_loss: 2.3618 - val_binary_accuracy: 0.6900\n",
            "Run:  1 / Accuracy on test ORIGINAL at epoch  18  is:  0.6899999976158142 \n",
            "\n",
            "300/300 [==============================] - 10s 32ms/step - loss: 0.0129 - binary_accuracy: 0.9967 - val_loss: 2.3212 - val_binary_accuracy: 0.6800\n",
            "Run:  1 / Accuracy on test ORIGINAL at epoch  19  is:  0.6800000071525574 \n",
            "\n",
            "Accuracies on ORIGINAL over epochs: [0.5450000166893005, 0.5450000166893005, 0.625, 0.6850000023841858, 0.6800000071525574, 0.6650000214576721, 0.6499999761581421, 0.7049999833106995, 0.6800000071525574, 0.6600000262260437, 0.6499999761581421, 0.6600000262260437, 0.6850000023841858, 0.699999988079071, 0.6850000023841858, 0.6949999928474426, 0.7049999833106995, 0.675000011920929, 0.6899999976158142, 0.6800000071525574] \n",
            "\n",
            "300/300 [==============================] - 44s 141ms/step - loss: 0.7098 - binary_accuracy: 0.4867 - val_loss: 0.6915 - val_binary_accuracy: 0.5450\n",
            "Run:  2 / Accuracy on test ORIGINAL at epoch  0  is:  0.5450000166893005 \n",
            "\n",
            "300/300 [==============================] - 9s 29ms/step - loss: 0.6901 - binary_accuracy: 0.5500 - val_loss: 0.6846 - val_binary_accuracy: 0.5550\n",
            "Run:  2 / Accuracy on test ORIGINAL at epoch  1  is:  0.5550000071525574 \n",
            "\n",
            "300/300 [==============================] - 9s 29ms/step - loss: 0.6195 - binary_accuracy: 0.6900 - val_loss: 0.7761 - val_binary_accuracy: 0.6000\n",
            "Run:  2 / Accuracy on test ORIGINAL at epoch  2  is:  0.6000000238418579 \n",
            "\n",
            "300/300 [==============================] - 9s 30ms/step - loss: 0.4594 - binary_accuracy: 0.8100 - val_loss: 0.9005 - val_binary_accuracy: 0.6650\n",
            "Run:  2 / Accuracy on test ORIGINAL at epoch  3  is:  0.6650000214576721 \n",
            "\n",
            "300/300 [==============================] - 9s 30ms/step - loss: 0.3172 - binary_accuracy: 0.8900 - val_loss: 1.0939 - val_binary_accuracy: 0.6900\n",
            "Run:  2 / Accuracy on test ORIGINAL at epoch  4  is:  0.6899999976158142 \n",
            "\n",
            "300/300 [==============================] - 9s 29ms/step - loss: 0.1905 - binary_accuracy: 0.9367 - val_loss: 1.3474 - val_binary_accuracy: 0.6700\n",
            "Run:  2 / Accuracy on test ORIGINAL at epoch  5  is:  0.6700000166893005 \n",
            "\n",
            "300/300 [==============================] - 8s 28ms/step - loss: 0.1533 - binary_accuracy: 0.9433 - val_loss: 1.4675 - val_binary_accuracy: 0.6550\n",
            "Run:  2 / Accuracy on test ORIGINAL at epoch  6  is:  0.6549999713897705 \n",
            "\n",
            "300/300 [==============================] - 9s 28ms/step - loss: 0.1017 - binary_accuracy: 0.9667 - val_loss: 1.4985 - val_binary_accuracy: 0.6700\n",
            "Run:  2 / Accuracy on test ORIGINAL at epoch  7  is:  0.6700000166893005 \n",
            "\n",
            "300/300 [==============================] - 9s 30ms/step - loss: 0.0878 - binary_accuracy: 0.9733 - val_loss: 1.4871 - val_binary_accuracy: 0.7050\n",
            "Run:  2 / Accuracy on test ORIGINAL at epoch  8  is:  0.7049999833106995 \n",
            "\n",
            "300/300 [==============================] - 9s 30ms/step - loss: 0.0581 - binary_accuracy: 0.9800 - val_loss: 1.8069 - val_binary_accuracy: 0.6600\n",
            "Run:  2 / Accuracy on test ORIGINAL at epoch  9  is:  0.6600000262260437 \n",
            "\n",
            "300/300 [==============================] - 9s 31ms/step - loss: 0.0573 - binary_accuracy: 0.9833 - val_loss: 2.1189 - val_binary_accuracy: 0.6200\n",
            "Run:  2 / Accuracy on test ORIGINAL at epoch  10  is:  0.6200000047683716 \n",
            "\n",
            "300/300 [==============================] - 9s 30ms/step - loss: 0.0301 - binary_accuracy: 0.9900 - val_loss: 1.8222 - val_binary_accuracy: 0.6700\n",
            "Run:  2 / Accuracy on test ORIGINAL at epoch  11  is:  0.6700000166893005 \n",
            "\n",
            "300/300 [==============================] - 9s 30ms/step - loss: 0.0210 - binary_accuracy: 0.9967 - val_loss: 2.0197 - val_binary_accuracy: 0.6850\n",
            "Run:  2 / Accuracy on test ORIGINAL at epoch  12  is:  0.6850000023841858 \n",
            "\n",
            "300/300 [==============================] - 9s 30ms/step - loss: 0.0375 - binary_accuracy: 0.9900 - val_loss: 1.9563 - val_binary_accuracy: 0.6950\n",
            "Run:  2 / Accuracy on test ORIGINAL at epoch  13  is:  0.6949999928474426 \n",
            "\n",
            "300/300 [==============================] - 9s 30ms/step - loss: 0.0284 - binary_accuracy: 0.9900 - val_loss: 2.2442 - val_binary_accuracy: 0.6650\n",
            "Run:  2 / Accuracy on test ORIGINAL at epoch  14  is:  0.6650000214576721 \n",
            "\n",
            "300/300 [==============================] - 8s 28ms/step - loss: 0.0245 - binary_accuracy: 0.9900 - val_loss: 2.0434 - val_binary_accuracy: 0.7100\n",
            "Run:  2 / Accuracy on test ORIGINAL at epoch  15  is:  0.7099999785423279 \n",
            "\n",
            "300/300 [==============================] - 9s 30ms/step - loss: 0.0333 - binary_accuracy: 0.9933 - val_loss: 2.0589 - val_binary_accuracy: 0.7300\n",
            "Run:  2 / Accuracy on test ORIGINAL at epoch  16  is:  0.7300000190734863 \n",
            "\n",
            "300/300 [==============================] - 9s 30ms/step - loss: 0.0268 - binary_accuracy: 0.9967 - val_loss: 2.2072 - val_binary_accuracy: 0.6950\n",
            "Run:  2 / Accuracy on test ORIGINAL at epoch  17  is:  0.6949999928474426 \n",
            "\n",
            "300/300 [==============================] - 9s 30ms/step - loss: 0.0263 - binary_accuracy: 0.9933 - val_loss: 2.1641 - val_binary_accuracy: 0.6950\n",
            "Run:  2 / Accuracy on test ORIGINAL at epoch  18  is:  0.6949999928474426 \n",
            "\n",
            "300/300 [==============================] - 9s 30ms/step - loss: 0.0257 - binary_accuracy: 0.9967 - val_loss: 2.9547 - val_binary_accuracy: 0.6300\n",
            "Run:  2 / Accuracy on test ORIGINAL at epoch  19  is:  0.6299999952316284 \n",
            "\n",
            "Accuracies on ORIGINAL over epochs: [0.5450000166893005, 0.5550000071525574, 0.6000000238418579, 0.6650000214576721, 0.6899999976158142, 0.6700000166893005, 0.6549999713897705, 0.6700000166893005, 0.7049999833106995, 0.6600000262260437, 0.6200000047683716, 0.6700000166893005, 0.6850000023841858, 0.6949999928474426, 0.6650000214576721, 0.7099999785423279, 0.7300000190734863, 0.6949999928474426, 0.6949999928474426, 0.6299999952316284] \n",
            "\n",
            "300/300 [==============================] - 43s 138ms/step - loss: 0.7112 - binary_accuracy: 0.4833 - val_loss: 0.6913 - val_binary_accuracy: 0.5800\n",
            "Run:  3 / Accuracy on test ORIGINAL at epoch  0  is:  0.5799999833106995 \n",
            "\n",
            "300/300 [==============================] - 9s 31ms/step - loss: 0.6883 - binary_accuracy: 0.5567 - val_loss: 0.6757 - val_binary_accuracy: 0.5750\n",
            "Run:  3 / Accuracy on test ORIGINAL at epoch  1  is:  0.574999988079071 \n",
            "\n",
            "300/300 [==============================] - 9s 30ms/step - loss: 0.5820 - binary_accuracy: 0.7267 - val_loss: 0.7328 - val_binary_accuracy: 0.6400\n",
            "Run:  3 / Accuracy on test ORIGINAL at epoch  2  is:  0.6399999856948853 \n",
            "\n",
            "300/300 [==============================] - 9s 30ms/step - loss: 0.4224 - binary_accuracy: 0.8300 - val_loss: 0.8468 - val_binary_accuracy: 0.6850\n",
            "Run:  3 / Accuracy on test ORIGINAL at epoch  3  is:  0.6850000023841858 \n",
            "\n",
            "300/300 [==============================] - 8s 28ms/step - loss: 0.2935 - binary_accuracy: 0.9000 - val_loss: 0.9613 - val_binary_accuracy: 0.6900\n",
            "Run:  3 / Accuracy on test ORIGINAL at epoch  4  is:  0.6899999976158142 \n",
            "\n",
            "300/300 [==============================] - 9s 30ms/step - loss: 0.1965 - binary_accuracy: 0.9233 - val_loss: 1.1525 - val_binary_accuracy: 0.6950\n",
            "Run:  3 / Accuracy on test ORIGINAL at epoch  5  is:  0.6949999928474426 \n",
            "\n",
            "300/300 [==============================] - 9s 30ms/step - loss: 0.1139 - binary_accuracy: 0.9567 - val_loss: 1.3369 - val_binary_accuracy: 0.6950\n",
            "Run:  3 / Accuracy on test ORIGINAL at epoch  6  is:  0.6949999928474426 \n",
            "\n",
            "300/300 [==============================] - 9s 30ms/step - loss: 0.0922 - binary_accuracy: 0.9767 - val_loss: 1.3509 - val_binary_accuracy: 0.6850\n",
            "Run:  3 / Accuracy on test ORIGINAL at epoch  7  is:  0.6850000023841858 \n",
            "\n",
            "300/300 [==============================] - 8s 28ms/step - loss: 0.0925 - binary_accuracy: 0.9800 - val_loss: 1.4522 - val_binary_accuracy: 0.6800\n",
            "Run:  3 / Accuracy on test ORIGINAL at epoch  8  is:  0.6800000071525574 \n",
            "\n",
            "300/300 [==============================] - 8s 28ms/step - loss: 0.0530 - binary_accuracy: 0.9867 - val_loss: 1.4297 - val_binary_accuracy: 0.6750\n",
            "Run:  3 / Accuracy on test ORIGINAL at epoch  9  is:  0.675000011920929 \n",
            "\n",
            "300/300 [==============================] - 9s 29ms/step - loss: 0.0664 - binary_accuracy: 0.9833 - val_loss: 1.5338 - val_binary_accuracy: 0.6750\n",
            "Run:  3 / Accuracy on test ORIGINAL at epoch  10  is:  0.675000011920929 \n",
            "\n",
            "300/300 [==============================] - 10s 33ms/step - loss: 0.0318 - binary_accuracy: 0.9900 - val_loss: 1.5700 - val_binary_accuracy: 0.6900\n",
            "Run:  3 / Accuracy on test ORIGINAL at epoch  11  is:  0.6899999976158142 \n",
            "\n",
            "300/300 [==============================] - 9s 30ms/step - loss: 0.0251 - binary_accuracy: 0.9833 - val_loss: 1.7373 - val_binary_accuracy: 0.6850\n",
            "Run:  3 / Accuracy on test ORIGINAL at epoch  12  is:  0.6850000023841858 \n",
            "\n",
            "300/300 [==============================] - 8s 28ms/step - loss: 0.0417 - binary_accuracy: 0.9933 - val_loss: 1.8317 - val_binary_accuracy: 0.6850\n",
            "Run:  3 / Accuracy on test ORIGINAL at epoch  13  is:  0.6850000023841858 \n",
            "\n",
            "300/300 [==============================] - 9s 30ms/step - loss: 0.0585 - binary_accuracy: 0.9933 - val_loss: 2.5579 - val_binary_accuracy: 0.6550\n",
            "Run:  3 / Accuracy on test ORIGINAL at epoch  14  is:  0.6549999713897705 \n",
            "\n",
            "300/300 [==============================] - 9s 30ms/step - loss: 0.0108 - binary_accuracy: 0.9967 - val_loss: 1.9622 - val_binary_accuracy: 0.7050\n",
            "Run:  3 / Accuracy on test ORIGINAL at epoch  15  is:  0.7049999833106995 \n",
            "\n",
            "300/300 [==============================] - 9s 30ms/step - loss: 0.0153 - binary_accuracy: 0.9933 - val_loss: 2.0248 - val_binary_accuracy: 0.7100\n",
            "Run:  3 / Accuracy on test ORIGINAL at epoch  16  is:  0.7099999785423279 \n",
            "\n",
            "300/300 [==============================] - 9s 29ms/step - loss: 0.0323 - binary_accuracy: 0.9933 - val_loss: 2.0398 - val_binary_accuracy: 0.7100\n",
            "Run:  3 / Accuracy on test ORIGINAL at epoch  17  is:  0.7099999785423279 \n",
            "\n",
            "300/300 [==============================] - 9s 30ms/step - loss: 0.0293 - binary_accuracy: 0.9933 - val_loss: 2.1135 - val_binary_accuracy: 0.7100\n",
            "Run:  3 / Accuracy on test ORIGINAL at epoch  18  is:  0.7099999785423279 \n",
            "\n",
            "300/300 [==============================] - 9s 30ms/step - loss: 0.0328 - binary_accuracy: 0.9967 - val_loss: 2.1309 - val_binary_accuracy: 0.6900\n",
            "Run:  3 / Accuracy on test ORIGINAL at epoch  19  is:  0.6899999976158142 \n",
            "\n",
            "Accuracies on ORIGINAL over epochs: [0.5799999833106995, 0.574999988079071, 0.6399999856948853, 0.6850000023841858, 0.6899999976158142, 0.6949999928474426, 0.6949999928474426, 0.6850000023841858, 0.6800000071525574, 0.675000011920929, 0.675000011920929, 0.6899999976158142, 0.6850000023841858, 0.6850000023841858, 0.6549999713897705, 0.7049999833106995, 0.7099999785423279, 0.7099999785423279, 0.7099999785423279, 0.6899999976158142] \n",
            "\n",
            "300/300 [==============================] - 43s 137ms/step - loss: 0.7123 - binary_accuracy: 0.4800 - val_loss: 0.6911 - val_binary_accuracy: 0.6000\n",
            "Run:  4 / Accuracy on test ORIGINAL at epoch  0  is:  0.6000000238418579 \n",
            "\n",
            "300/300 [==============================] - 9s 30ms/step - loss: 0.6836 - binary_accuracy: 0.5900 - val_loss: 0.6929 - val_binary_accuracy: 0.5600\n",
            "Run:  4 / Accuracy on test ORIGINAL at epoch  1  is:  0.5600000023841858 \n",
            "\n",
            "300/300 [==============================] - 8s 28ms/step - loss: 0.5781 - binary_accuracy: 0.7367 - val_loss: 0.7515 - val_binary_accuracy: 0.6550\n",
            "Run:  4 / Accuracy on test ORIGINAL at epoch  2  is:  0.6549999713897705 \n",
            "\n",
            "300/300 [==============================] - 9s 28ms/step - loss: 0.4162 - binary_accuracy: 0.8367 - val_loss: 0.8890 - val_binary_accuracy: 0.6850\n",
            "Run:  4 / Accuracy on test ORIGINAL at epoch  3  is:  0.6850000023841858 \n",
            "\n",
            "300/300 [==============================] - 9s 30ms/step - loss: 0.2669 - binary_accuracy: 0.9133 - val_loss: 1.0622 - val_binary_accuracy: 0.6850\n",
            "Run:  4 / Accuracy on test ORIGINAL at epoch  4  is:  0.6850000023841858 \n",
            "\n",
            "300/300 [==============================] - 9s 30ms/step - loss: 0.1608 - binary_accuracy: 0.9500 - val_loss: 1.3442 - val_binary_accuracy: 0.6450\n",
            "Run:  4 / Accuracy on test ORIGINAL at epoch  5  is:  0.6449999809265137 \n",
            "\n",
            "300/300 [==============================] - 9s 30ms/step - loss: 0.1205 - binary_accuracy: 0.9633 - val_loss: 1.5081 - val_binary_accuracy: 0.6450\n",
            "Run:  4 / Accuracy on test ORIGINAL at epoch  6  is:  0.6449999809265137 \n",
            "\n",
            "300/300 [==============================] - 10s 33ms/step - loss: 0.0934 - binary_accuracy: 0.9700 - val_loss: 1.4701 - val_binary_accuracy: 0.7100\n",
            "Run:  4 / Accuracy on test ORIGINAL at epoch  7  is:  0.7099999785423279 \n",
            "\n",
            "300/300 [==============================] - 8s 28ms/step - loss: 0.0750 - binary_accuracy: 0.9767 - val_loss: 1.7546 - val_binary_accuracy: 0.6400\n",
            "Run:  4 / Accuracy on test ORIGINAL at epoch  8  is:  0.6399999856948853 \n",
            "\n",
            "300/300 [==============================] - 9s 30ms/step - loss: 0.0622 - binary_accuracy: 0.9867 - val_loss: 2.0012 - val_binary_accuracy: 0.6400\n",
            "Run:  4 / Accuracy on test ORIGINAL at epoch  9  is:  0.6399999856948853 \n",
            "\n",
            "300/300 [==============================] - 9s 30ms/step - loss: 0.0344 - binary_accuracy: 0.9900 - val_loss: 2.3788 - val_binary_accuracy: 0.6300\n",
            "Run:  4 / Accuracy on test ORIGINAL at epoch  10  is:  0.6299999952316284 \n",
            "\n",
            "300/300 [==============================] - 9s 30ms/step - loss: 0.0368 - binary_accuracy: 0.9900 - val_loss: 2.0960 - val_binary_accuracy: 0.6400\n",
            "Run:  4 / Accuracy on test ORIGINAL at epoch  11  is:  0.6399999856948853 \n",
            "\n",
            "300/300 [==============================] - 8s 28ms/step - loss: 0.0281 - binary_accuracy: 0.9933 - val_loss: 2.5118 - val_binary_accuracy: 0.6350\n",
            "Run:  4 / Accuracy on test ORIGINAL at epoch  12  is:  0.6349999904632568 \n",
            "\n",
            "300/300 [==============================] - 9s 30ms/step - loss: 0.0281 - binary_accuracy: 0.9900 - val_loss: 2.0244 - val_binary_accuracy: 0.6800\n",
            "Run:  4 / Accuracy on test ORIGINAL at epoch  13  is:  0.6800000071525574 \n",
            "\n",
            "300/300 [==============================] - 9s 30ms/step - loss: 0.0274 - binary_accuracy: 0.9933 - val_loss: 1.8895 - val_binary_accuracy: 0.7150\n",
            "Run:  4 / Accuracy on test ORIGINAL at epoch  14  is:  0.7149999737739563 \n",
            "\n",
            "300/300 [==============================] - 9s 31ms/step - loss: 0.0266 - binary_accuracy: 0.9933 - val_loss: 2.1437 - val_binary_accuracy: 0.6850\n",
            "Run:  4 / Accuracy on test ORIGINAL at epoch  15  is:  0.6850000023841858 \n",
            "\n",
            "300/300 [==============================] - 9s 30ms/step - loss: 0.0283 - binary_accuracy: 0.9967 - val_loss: 1.9712 - val_binary_accuracy: 0.7000\n",
            "Run:  4 / Accuracy on test ORIGINAL at epoch  16  is:  0.699999988079071 \n",
            "\n",
            "300/300 [==============================] - 8s 28ms/step - loss: 0.0179 - binary_accuracy: 0.9967 - val_loss: 2.5867 - val_binary_accuracy: 0.6600\n",
            "Run:  4 / Accuracy on test ORIGINAL at epoch  17  is:  0.6600000262260437 \n",
            "\n",
            "300/300 [==============================] - 9s 29ms/step - loss: 0.0209 - binary_accuracy: 0.9967 - val_loss: 3.8199 - val_binary_accuracy: 0.5850\n",
            "Run:  4 / Accuracy on test ORIGINAL at epoch  18  is:  0.5849999785423279 \n",
            "\n",
            "300/300 [==============================] - 9s 30ms/step - loss: 0.0104 - binary_accuracy: 0.9933 - val_loss: 2.2320 - val_binary_accuracy: 0.6900\n",
            "Run:  4 / Accuracy on test ORIGINAL at epoch  19  is:  0.6899999976158142 \n",
            "\n",
            "Accuracies on ORIGINAL over epochs: [0.6000000238418579, 0.5600000023841858, 0.6549999713897705, 0.6850000023841858, 0.6850000023841858, 0.6449999809265137, 0.6449999809265137, 0.7099999785423279, 0.6399999856948853, 0.6399999856948853, 0.6299999952316284, 0.6399999856948853, 0.6349999904632568, 0.6800000071525574, 0.7149999737739563, 0.6850000023841858, 0.699999988079071, 0.6600000262260437, 0.5849999785423279, 0.6899999976158142] \n",
            "\n",
            "300/300 [==============================] - 44s 142ms/step - loss: 0.7115 - binary_accuracy: 0.4933 - val_loss: 0.6904 - val_binary_accuracy: 0.5850\n",
            "Run:  5 / Accuracy on test ORIGINAL at epoch  0  is:  0.5849999785423279 \n",
            "\n",
            "300/300 [==============================] - 9s 30ms/step - loss: 0.6873 - binary_accuracy: 0.5800 - val_loss: 0.6963 - val_binary_accuracy: 0.5550\n",
            "Run:  5 / Accuracy on test ORIGINAL at epoch  1  is:  0.5550000071525574 \n",
            "\n",
            "300/300 [==============================] - 9s 30ms/step - loss: 0.5884 - binary_accuracy: 0.7300 - val_loss: 0.7976 - val_binary_accuracy: 0.6450\n",
            "Run:  5 / Accuracy on test ORIGINAL at epoch  2  is:  0.6449999809265137 \n",
            "\n",
            "300/300 [==============================] - 9s 28ms/step - loss: 0.4151 - binary_accuracy: 0.8367 - val_loss: 0.9561 - val_binary_accuracy: 0.6800\n",
            "Run:  5 / Accuracy on test ORIGINAL at epoch  3  is:  0.6800000071525574 \n",
            "\n",
            "300/300 [==============================] - 9s 31ms/step - loss: 0.2849 - binary_accuracy: 0.9033 - val_loss: 1.1044 - val_binary_accuracy: 0.6900\n",
            "Run:  5 / Accuracy on test ORIGINAL at epoch  4  is:  0.6899999976158142 \n",
            "\n",
            "300/300 [==============================] - 9s 30ms/step - loss: 0.1879 - binary_accuracy: 0.9367 - val_loss: 1.2821 - val_binary_accuracy: 0.6800\n",
            "Run:  5 / Accuracy on test ORIGINAL at epoch  5  is:  0.6800000071525574 \n",
            "\n",
            "300/300 [==============================] - 9s 30ms/step - loss: 0.1163 - binary_accuracy: 0.9633 - val_loss: 1.8079 - val_binary_accuracy: 0.6500\n",
            "Run:  5 / Accuracy on test ORIGINAL at epoch  6  is:  0.6499999761581421 \n",
            "\n",
            "300/300 [==============================] - 8s 28ms/step - loss: 0.0974 - binary_accuracy: 0.9633 - val_loss: 1.4975 - val_binary_accuracy: 0.6850\n",
            "Run:  5 / Accuracy on test ORIGINAL at epoch  7  is:  0.6850000023841858 \n",
            "\n",
            "300/300 [==============================] - 9s 30ms/step - loss: 0.0692 - binary_accuracy: 0.9767 - val_loss: 1.8953 - val_binary_accuracy: 0.6350\n",
            "Run:  5 / Accuracy on test ORIGINAL at epoch  8  is:  0.6349999904632568 \n",
            "\n",
            "300/300 [==============================] - 9s 30ms/step - loss: 0.0600 - binary_accuracy: 0.9867 - val_loss: 1.7244 - val_binary_accuracy: 0.6550\n",
            "Run:  5 / Accuracy on test ORIGINAL at epoch  9  is:  0.6549999713897705 \n",
            "\n",
            "300/300 [==============================] - 9s 31ms/step - loss: 0.0343 - binary_accuracy: 0.9867 - val_loss: 2.6314 - val_binary_accuracy: 0.5850\n",
            "Run:  5 / Accuracy on test ORIGINAL at epoch  10  is:  0.5849999785423279 \n",
            "\n",
            "300/300 [==============================] - 9s 31ms/step - loss: 0.0367 - binary_accuracy: 0.9900 - val_loss: 2.0396 - val_binary_accuracy: 0.6550\n",
            "Run:  5 / Accuracy on test ORIGINAL at epoch  11  is:  0.6549999713897705 \n",
            "\n",
            "300/300 [==============================] - 9s 28ms/step - loss: 0.0228 - binary_accuracy: 0.9933 - val_loss: 2.4236 - val_binary_accuracy: 0.6300\n",
            "Run:  5 / Accuracy on test ORIGINAL at epoch  12  is:  0.6299999952316284 \n",
            "\n",
            "300/300 [==============================] - 9s 30ms/step - loss: 0.0373 - binary_accuracy: 0.9933 - val_loss: 2.0102 - val_binary_accuracy: 0.7050\n",
            "Run:  5 / Accuracy on test ORIGINAL at epoch  13  is:  0.7049999833106995 \n",
            "\n",
            "300/300 [==============================] - 9s 30ms/step - loss: 0.0421 - binary_accuracy: 0.9900 - val_loss: 2.1864 - val_binary_accuracy: 0.6750\n",
            "Run:  5 / Accuracy on test ORIGINAL at epoch  14  is:  0.675000011920929 \n",
            "\n",
            "300/300 [==============================] - 9s 30ms/step - loss: 0.0323 - binary_accuracy: 0.9933 - val_loss: 2.1925 - val_binary_accuracy: 0.6950\n",
            "Run:  5 / Accuracy on test ORIGINAL at epoch  15  is:  0.6949999928474426 \n",
            "\n",
            "300/300 [==============================] - 9s 30ms/step - loss: 0.0210 - binary_accuracy: 0.9967 - val_loss: 2.0733 - val_binary_accuracy: 0.7100\n",
            "Run:  5 / Accuracy on test ORIGINAL at epoch  16  is:  0.7099999785423279 \n",
            "\n",
            "300/300 [==============================] - 8s 27ms/step - loss: 0.0114 - binary_accuracy: 0.9967 - val_loss: 2.3732 - val_binary_accuracy: 0.6800\n",
            "Run:  5 / Accuracy on test ORIGINAL at epoch  17  is:  0.6800000071525574 \n",
            "\n",
            "300/300 [==============================] - 9s 28ms/step - loss: 0.0202 - binary_accuracy: 0.9967 - val_loss: 2.2650 - val_binary_accuracy: 0.7050\n",
            "Run:  5 / Accuracy on test ORIGINAL at epoch  18  is:  0.7049999833106995 \n",
            "\n",
            "300/300 [==============================] - 9s 31ms/step - loss: 0.0223 - binary_accuracy: 0.9967 - val_loss: 2.2720 - val_binary_accuracy: 0.6950\n",
            "Run:  5 / Accuracy on test ORIGINAL at epoch  19  is:  0.6949999928474426 \n",
            "\n",
            "Accuracies on ORIGINAL over epochs: [0.5849999785423279, 0.5550000071525574, 0.6449999809265137, 0.6800000071525574, 0.6899999976158142, 0.6800000071525574, 0.6499999761581421, 0.6850000023841858, 0.6349999904632568, 0.6549999713897705, 0.5849999785423279, 0.6549999713897705, 0.6299999952316284, 0.7049999833106995, 0.675000011920929, 0.6949999928474426, 0.7099999785423279, 0.6800000071525574, 0.7049999833106995, 0.6949999928474426] \n",
            "\n",
            "\n",
            "\n",
            " Over all runs maximum accuracies on ORIGINAL test set are: [0.7049999833106995, 0.7099999785423279, 0.7099999785423279, 0.7149999737739563, 0.7300000190734863]\n",
            "The median for English is: 0.7099999785423279 \n",
            "\n",
            "\n",
            "\n",
            "CNN Accuracy Score on Original Test set ->  0.7099999785423279 +/- 0.020000040531158447\n"
          ]
        }
      ],
      "source": [
        "tf.random.set_seed(1)\n",
        "\n",
        "runs_accuracy = []\n",
        "\n",
        "for run in range(1,(num_runs+1)):\n",
        "    epochs_accuracy = []\n",
        "    model = tf.keras.Sequential([\n",
        "                                    tf.keras.Input(shape=(1,), dtype=tf.string),\n",
        "                                    vectorize_layer,\n",
        "                                    layers.Embedding(max_features + 1, embedding_dim),                     \n",
        "                                    layers.Dropout(0.8),\n",
        "\n",
        "                                    layers.Conv1D(256,16,activation='relu'),\n",
        "                                    layers.MaxPooling1D(),\n",
        "                                    layers.Dropout(0.6),\n",
        "\n",
        "                                    layers.Dense(512,activation='relu'),\n",
        "                           \n",
        "                                    layers.GlobalAveragePooling1D(),\n",
        "                                    layers.Dropout(0.2),\n",
        "                                    layers.Dense(1)                            \n",
        "    ])\n",
        "    model.compile(loss=losses.BinaryCrossentropy(from_logits=True), optimizer='RMSprop', metrics=tf.metrics.BinaryAccuracy(threshold=0.0)) \n",
        "\n",
        "    for epoch in range (0,num_epochs_per_run):\n",
        "        history = model.fit(\n",
        "          train_ds,\n",
        "          validation_data = test_ds,\n",
        "          epochs=1,\n",
        "          shuffle=False,\n",
        "          # Comment the following line to do not save and download the model.\n",
        "          #callbacks=[callbacks]\n",
        "          )\n",
        "        accuracy = history.history['val_binary_accuracy']\n",
        "        print(\"Run: \",run,\"/ Accuracy on test ORIGINAL at epoch \",epoch,\" is: \", accuracy[0],\"\\n\")\n",
        "        epochs_accuracy.append(accuracy[0])\n",
        "\n",
        "    print(\"Accuracies on ORIGINAL over epochs:\",epochs_accuracy,\"\\n\")\n",
        "    runs_accuracy.append(max(epochs_accuracy))\n",
        "\n",
        "runs_accuracy.sort()\n",
        "print(\"\\n\\n Over all runs maximum accuracies on ORIGINAL test set are:\", runs_accuracy)\n",
        "print(\"The median for English is:\",runs_accuracy[2],\"\\n\\n\\n\")\n",
        "  \n",
        "\n",
        "# Final Result on Original Test set\n",
        "if (runs_accuracy[2]-runs_accuracy[0])>(runs_accuracy[4]-runs_accuracy[2]):\n",
        "  max_range_from_median = runs_accuracy[2]-runs_accuracy[0]\n",
        "else:\n",
        "  max_range_from_median = runs_accuracy[4]-runs_accuracy[2]\n",
        "final_result = str(runs_accuracy[2])+\" +/- \"+ str(max_range_from_median)\n",
        "print(\"CNN Accuracy Score on Original Test set -> \",final_result)\n"
      ]
    }
  ],
  "metadata": {
    "accelerator": "GPU",
    "colab": {
      "provenance": [],
      "include_colab_link": true
    },
    "kernelspec": {
      "display_name": "Python 3",
      "name": "python3"
    },
    "gpuClass": "standard"
  },
  "nbformat": 4,
  "nbformat_minor": 0
}