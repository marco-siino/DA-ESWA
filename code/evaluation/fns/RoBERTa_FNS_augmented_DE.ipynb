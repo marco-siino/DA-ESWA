{
  "nbformat": 4,
  "nbformat_minor": 0,
  "metadata": {
    "accelerator": "GPU",
    "colab": {
      "provenance": [],
      "collapsed_sections": [
        "7VQKsc4XOpD8"
      ],
      "include_colab_link": true
    },
    "kernelspec": {
      "display_name": "Python 3",
      "name": "python3"
    },
    "gpuClass": "standard"
  },
  "cells": [
    {
      "cell_type": "markdown",
      "metadata": {
        "id": "view-in-github",
        "colab_type": "text"
      },
      "source": [
        "<a href=\"https://colab.research.google.com/github/marco-siino/DA-ESWA/blob/main/code/evaluation/fns/RoBERTa_FNS_augmented_DE.ipynb\" target=\"_parent\"><img src=\"https://colab.research.google.com/assets/colab-badge.svg\" alt=\"Open In Colab\"/></a>"
      ]
    },
    {
      "cell_type": "markdown",
      "metadata": {
        "id": "u-hLo5ufkCT1"
      },
      "source": [
        "## Investigating text data augmentation using back translation for author profiling\n",
        "- - - \n",
        "RoBERTa ON FNS DS EXPERIMENTS NOTEBOOK \n",
        "- - -\n",
        "RoBERTa on Fake News Spreaders Dataset augmented with DE backtranslation.\n",
        "Code by M. Siino. "
      ]
    },
    {
      "cell_type": "markdown",
      "metadata": {
        "id": "6IBqUcj4cx2G"
      },
      "source": [
        "## Importing modules."
      ]
    },
    {
      "cell_type": "code",
      "metadata": {
        "id": "AQSunQ-ucjLX",
        "colab": {
          "base_uri": "https://localhost:8080/"
        },
        "outputId": "bae204e5-82eb-4716-db15-fbc4788817ee"
      },
      "source": [
        "!pip install simpletransformers\n",
        "\n",
        "import matplotlib.pyplot as plt\n",
        "import os\n",
        "import random\n",
        "import re\n",
        "import shutil\n",
        "import string\n",
        "import tensorflow as tf\n",
        "import pandas as pd\n",
        "\n",
        "import torch\n",
        "\n",
        "from tensorflow.keras import layers\n",
        "from tensorflow.keras import losses\n",
        "from tensorflow.keras import preprocessing\n",
        "from tensorflow.keras.layers.experimental.preprocessing import TextVectorization\n",
        "#from google.colab import files\n",
        "from io import open\n",
        "from numpy.random import seed\n",
        "import numpy as np\n",
        "from pathlib import Path\n",
        "from sklearn import svm\n",
        "from simpletransformers.classification import ClassificationModel, ClassificationArgs\n",
        "os.environ['TF_CUDNN_DETERMINISTIC']='true'\n",
        "os.environ['TF_DETERMINISTIC_OPS']='true'"
      ],
      "execution_count": null,
      "outputs": [
        {
          "output_type": "stream",
          "name": "stdout",
          "text": [
            "Requirement already satisfied: simpletransformers in c:\\users\\domenico\\.conda\\envs\\tf\\lib\\site-packages (0.63.9)\n",
            "Requirement already satisfied: datasets in c:\\users\\domenico\\.conda\\envs\\tf\\lib\\site-packages (from simpletransformers) (2.4.0)\n",
            "Requirement already satisfied: tensorboard in c:\\users\\domenico\\.conda\\envs\\tf\\lib\\site-packages (from simpletransformers) (2.9.1)\n",
            "Requirement already satisfied: regex in c:\\users\\domenico\\.conda\\envs\\tf\\lib\\site-packages (from simpletransformers) (2022.7.25)\n",
            "Requirement already satisfied: transformers>=4.6.0 in c:\\users\\domenico\\.conda\\envs\\tf\\lib\\site-packages (from simpletransformers) (4.22.1)\n",
            "Requirement already satisfied: pandas in c:\\users\\domenico\\.conda\\envs\\tf\\lib\\site-packages (from simpletransformers) (1.4.3)\n",
            "Requirement already satisfied: tqdm>=4.47.0 in c:\\users\\domenico\\.conda\\envs\\tf\\lib\\site-packages (from simpletransformers) (4.64.0)\n",
            "Requirement already satisfied: tokenizers in c:\\users\\domenico\\.conda\\envs\\tf\\lib\\site-packages (from simpletransformers) (0.12.1)\n",
            "Requirement already satisfied: numpy in c:\\users\\domenico\\appdata\\roaming\\python\\python39\\site-packages (from simpletransformers) (1.22.4)\n",
            "Requirement already satisfied: requests in c:\\users\\domenico\\.conda\\envs\\tf\\lib\\site-packages (from simpletransformers) (2.28.1)\n",
            "Requirement already satisfied: scikit-learn in c:\\users\\domenico\\.conda\\envs\\tf\\lib\\site-packages (from simpletransformers) (1.1.1)\n",
            "Requirement already satisfied: sentencepiece in c:\\users\\domenico\\.conda\\envs\\tf\\lib\\site-packages (from simpletransformers) (0.1.97)\n",
            "Requirement already satisfied: scipy in c:\\users\\domenico\\.conda\\envs\\tf\\lib\\site-packages (from simpletransformers) (1.9.0)\n",
            "Requirement already satisfied: wandb>=0.10.32 in c:\\users\\domenico\\.conda\\envs\\tf\\lib\\site-packages (from simpletransformers) (0.13.3)\n",
            "Requirement already satisfied: streamlit in c:\\users\\domenico\\.conda\\envs\\tf\\lib\\site-packages (from simpletransformers) (1.12.2)\n",
            "Requirement already satisfied: seqeval in c:\\users\\domenico\\.conda\\envs\\tf\\lib\\site-packages (from simpletransformers) (1.2.2)\n",
            "Requirement already satisfied: colorama in c:\\users\\domenico\\.conda\\envs\\tf\\lib\\site-packages (from tqdm>=4.47.0->simpletransformers) (0.4.5)\n",
            "Requirement already satisfied: filelock in c:\\users\\domenico\\.conda\\envs\\tf\\lib\\site-packages (from transformers>=4.6.0->simpletransformers) (3.8.0)\n",
            "Requirement already satisfied: pyyaml>=5.1 in c:\\users\\domenico\\.conda\\envs\\tf\\lib\\site-packages (from transformers>=4.6.0->simpletransformers) (6.0)\n",
            "Requirement already satisfied: huggingface-hub<1.0,>=0.9.0 in c:\\users\\domenico\\.conda\\envs\\tf\\lib\\site-packages (from transformers>=4.6.0->simpletransformers) (0.9.1)\n",
            "Requirement already satisfied: packaging>=20.0 in c:\\users\\domenico\\.conda\\envs\\tf\\lib\\site-packages (from transformers>=4.6.0->simpletransformers) (21.3)\n",
            "Requirement already satisfied: GitPython>=1.0.0 in c:\\users\\domenico\\.conda\\envs\\tf\\lib\\site-packages (from wandb>=0.10.32->simpletransformers) (3.1.27)\n",
            "Requirement already satisfied: setuptools in c:\\users\\domenico\\.conda\\envs\\tf\\lib\\site-packages (from wandb>=0.10.32->simpletransformers) (63.4.1)\n",
            "Requirement already satisfied: pathtools in c:\\users\\domenico\\.conda\\envs\\tf\\lib\\site-packages (from wandb>=0.10.32->simpletransformers) (0.1.2)\n",
            "Requirement already satisfied: Click!=8.0.0,>=7.0 in c:\\users\\domenico\\.conda\\envs\\tf\\lib\\site-packages (from wandb>=0.10.32->simpletransformers) (8.1.3)\n",
            "Requirement already satisfied: protobuf<4.0dev,>=3.12.0 in c:\\users\\domenico\\.conda\\envs\\tf\\lib\\site-packages (from wandb>=0.10.32->simpletransformers) (3.19.4)\n",
            "Requirement already satisfied: docker-pycreds>=0.4.0 in c:\\users\\domenico\\.conda\\envs\\tf\\lib\\site-packages (from wandb>=0.10.32->simpletransformers) (0.4.0)\n",
            "Requirement already satisfied: six>=1.13.0 in c:\\users\\domenico\\.conda\\envs\\tf\\lib\\site-packages (from wandb>=0.10.32->simpletransformers) (1.16.0)\n",
            "Requirement already satisfied: promise<3,>=2.0 in c:\\users\\domenico\\.conda\\envs\\tf\\lib\\site-packages (from wandb>=0.10.32->simpletransformers) (2.3)\n",
            "Requirement already satisfied: psutil>=5.0.0 in c:\\users\\domenico\\.conda\\envs\\tf\\lib\\site-packages (from wandb>=0.10.32->simpletransformers) (5.9.1)\n",
            "Requirement already satisfied: shortuuid>=0.5.0 in c:\\users\\domenico\\.conda\\envs\\tf\\lib\\site-packages (from wandb>=0.10.32->simpletransformers) (1.0.9)\n",
            "Requirement already satisfied: setproctitle in c:\\users\\domenico\\.conda\\envs\\tf\\lib\\site-packages (from wandb>=0.10.32->simpletransformers) (1.3.2)\n",
            "Requirement already satisfied: sentry-sdk>=1.0.0 in c:\\users\\domenico\\.conda\\envs\\tf\\lib\\site-packages (from wandb>=0.10.32->simpletransformers) (1.9.8)\n",
            "Requirement already satisfied: certifi>=2017.4.17 in c:\\users\\domenico\\.conda\\envs\\tf\\lib\\site-packages (from requests->simpletransformers) (2022.9.14)\n",
            "Requirement already satisfied: urllib3<1.27,>=1.21.1 in c:\\users\\domenico\\.conda\\envs\\tf\\lib\\site-packages (from requests->simpletransformers) (1.26.11)\n",
            "Requirement already satisfied: idna<4,>=2.5 in c:\\users\\domenico\\.conda\\envs\\tf\\lib\\site-packages (from requests->simpletransformers) (3.3)\n",
            "Requirement already satisfied: charset-normalizer<3,>=2 in c:\\users\\domenico\\.conda\\envs\\tf\\lib\\site-packages (from requests->simpletransformers) (2.1.0)\n",
            "Requirement already satisfied: fsspec[http]>=2021.11.1 in c:\\users\\domenico\\.conda\\envs\\tf\\lib\\site-packages (from datasets->simpletransformers) (2022.8.2)\n",
            "Requirement already satisfied: pyarrow>=6.0.0 in c:\\users\\domenico\\.conda\\envs\\tf\\lib\\site-packages (from datasets->simpletransformers) (9.0.0)\n",
            "Requirement already satisfied: multiprocess in c:\\users\\domenico\\.conda\\envs\\tf\\lib\\site-packages (from datasets->simpletransformers) (0.70.13)\n",
            "Requirement already satisfied: xxhash in c:\\users\\domenico\\.conda\\envs\\tf\\lib\\site-packages (from datasets->simpletransformers) (3.0.0)\n",
            "Requirement already satisfied: responses<0.19 in c:\\users\\domenico\\.conda\\envs\\tf\\lib\\site-packages (from datasets->simpletransformers) (0.18.0)\n",
            "Requirement already satisfied: dill<0.3.6 in c:\\users\\domenico\\.conda\\envs\\tf\\lib\\site-packages (from datasets->simpletransformers) (0.3.5.1)\n",
            "Requirement already satisfied: aiohttp in c:\\users\\domenico\\.conda\\envs\\tf\\lib\\site-packages (from datasets->simpletransformers) (3.8.1)\n",
            "Requirement already satisfied: python-dateutil>=2.8.1 in c:\\users\\domenico\\.conda\\envs\\tf\\lib\\site-packages (from pandas->simpletransformers) (2.8.2)\n",
            "Requirement already satisfied: pytz>=2020.1 in c:\\users\\domenico\\.conda\\envs\\tf\\lib\\site-packages (from pandas->simpletransformers) (2022.1)\n",
            "Requirement already satisfied: threadpoolctl>=2.0.0 in c:\\users\\domenico\\.conda\\envs\\tf\\lib\\site-packages (from scikit-learn->simpletransformers) (3.1.0)\n",
            "Requirement already satisfied: joblib>=1.0.0 in c:\\users\\domenico\\.conda\\envs\\tf\\lib\\site-packages (from scikit-learn->simpletransformers) (1.1.0)\n",
            "Requirement already satisfied: rich>=10.11.0 in c:\\users\\domenico\\.conda\\envs\\tf\\lib\\site-packages (from streamlit->simpletransformers) (12.5.1)\n",
            "Requirement already satisfied: semver in c:\\users\\domenico\\.conda\\envs\\tf\\lib\\site-packages (from streamlit->simpletransformers) (2.13.0)\n",
            "Requirement already satisfied: altair>=3.2.0 in c:\\users\\domenico\\.conda\\envs\\tf\\lib\\site-packages (from streamlit->simpletransformers) (4.2.0)\n",
            "Requirement already satisfied: typing-extensions>=3.10.0.0 in c:\\users\\domenico\\.conda\\envs\\tf\\lib\\site-packages (from streamlit->simpletransformers) (4.3.0)\n",
            "Requirement already satisfied: tornado>=5.0 in c:\\users\\domenico\\.conda\\envs\\tf\\lib\\site-packages (from streamlit->simpletransformers) (6.2)\n",
            "Requirement already satisfied: tzlocal>=1.1 in c:\\users\\domenico\\.conda\\envs\\tf\\lib\\site-packages (from streamlit->simpletransformers) (4.2)\n",
            "Requirement already satisfied: watchdog in c:\\users\\domenico\\.conda\\envs\\tf\\lib\\site-packages (from streamlit->simpletransformers) (2.1.9)\n",
            "Requirement already satisfied: toml in c:\\users\\domenico\\.conda\\envs\\tf\\lib\\site-packages (from streamlit->simpletransformers) (0.10.2)\n",
            "Requirement already satisfied: cachetools>=4.0 in c:\\users\\domenico\\.conda\\envs\\tf\\lib\\site-packages (from streamlit->simpletransformers) (5.2.0)\n",
            "Requirement already satisfied: importlib-metadata>=1.4 in c:\\users\\domenico\\.conda\\envs\\tf\\lib\\site-packages (from streamlit->simpletransformers) (4.12.0)\n",
            "Requirement already satisfied: pillow>=6.2.0 in c:\\users\\domenico\\.conda\\envs\\tf\\lib\\site-packages (from streamlit->simpletransformers) (9.2.0)\n",
            "Requirement already satisfied: validators>=0.2 in c:\\users\\domenico\\.conda\\envs\\tf\\lib\\site-packages (from streamlit->simpletransformers) (0.20.0)\n",
            "Requirement already satisfied: blinker>=1.0.0 in c:\\users\\domenico\\.conda\\envs\\tf\\lib\\site-packages (from streamlit->simpletransformers) (1.5)\n",
            "Requirement already satisfied: pympler>=0.9 in c:\\users\\domenico\\.conda\\envs\\tf\\lib\\site-packages (from streamlit->simpletransformers) (1.0.1)\n",
            "Requirement already satisfied: pydeck>=0.1.dev5 in c:\\users\\domenico\\.conda\\envs\\tf\\lib\\site-packages (from streamlit->simpletransformers) (0.8.0b3)\n",
            "Requirement already satisfied: markdown>=2.6.8 in c:\\users\\domenico\\.conda\\envs\\tf\\lib\\site-packages (from tensorboard->simpletransformers) (3.4.1)\n",
            "Requirement already satisfied: absl-py>=0.4 in c:\\users\\domenico\\.conda\\envs\\tf\\lib\\site-packages (from tensorboard->simpletransformers) (1.2.0)\n",
            "Requirement already satisfied: tensorboard-plugin-wit>=1.6.0 in c:\\users\\domenico\\.conda\\envs\\tf\\lib\\site-packages (from tensorboard->simpletransformers) (1.8.1)\n",
            "Requirement already satisfied: tensorboard-data-server<0.7.0,>=0.6.0 in c:\\users\\domenico\\.conda\\envs\\tf\\lib\\site-packages (from tensorboard->simpletransformers) (0.6.1)\n",
            "Requirement already satisfied: grpcio>=1.24.3 in c:\\users\\domenico\\.conda\\envs\\tf\\lib\\site-packages (from tensorboard->simpletransformers) (1.48.0)\n",
            "Requirement already satisfied: wheel>=0.26 in c:\\users\\domenico\\.conda\\envs\\tf\\lib\\site-packages (from tensorboard->simpletransformers) (0.37.1)\n",
            "Requirement already satisfied: werkzeug>=1.0.1 in c:\\users\\domenico\\.conda\\envs\\tf\\lib\\site-packages (from tensorboard->simpletransformers) (2.2.1)\n",
            "Requirement already satisfied: google-auth-oauthlib<0.5,>=0.4.1 in c:\\users\\domenico\\.conda\\envs\\tf\\lib\\site-packages (from tensorboard->simpletransformers) (0.4.6)\n",
            "Requirement already satisfied: google-auth<3,>=1.6.3 in c:\\users\\domenico\\.conda\\envs\\tf\\lib\\site-packages (from tensorboard->simpletransformers) (2.9.1)\n",
            "Requirement already satisfied: jsonschema>=3.0 in c:\\users\\domenico\\.conda\\envs\\tf\\lib\\site-packages (from altair>=3.2.0->streamlit->simpletransformers) (4.9.0)\n",
            "Requirement already satisfied: entrypoints in c:\\users\\domenico\\.conda\\envs\\tf\\lib\\site-packages (from altair>=3.2.0->streamlit->simpletransformers) (0.4)\n",
            "Requirement already satisfied: toolz in c:\\users\\domenico\\.conda\\envs\\tf\\lib\\site-packages (from altair>=3.2.0->streamlit->simpletransformers) (0.12.0)\n",
            "Requirement already satisfied: jinja2 in c:\\users\\domenico\\.conda\\envs\\tf\\lib\\site-packages (from altair>=3.2.0->streamlit->simpletransformers) (3.1.2)\n",
            "Requirement already satisfied: attrs>=17.3.0 in c:\\users\\domenico\\.conda\\envs\\tf\\lib\\site-packages (from aiohttp->datasets->simpletransformers) (22.1.0)\n",
            "Requirement already satisfied: aiosignal>=1.1.2 in c:\\users\\domenico\\.conda\\envs\\tf\\lib\\site-packages (from aiohttp->datasets->simpletransformers) (1.2.0)\n",
            "Requirement already satisfied: multidict<7.0,>=4.5 in c:\\users\\domenico\\.conda\\envs\\tf\\lib\\site-packages (from aiohttp->datasets->simpletransformers) (6.0.2)\n",
            "Requirement already satisfied: frozenlist>=1.1.1 in c:\\users\\domenico\\.conda\\envs\\tf\\lib\\site-packages (from aiohttp->datasets->simpletransformers) (1.3.1)\n",
            "Requirement already satisfied: yarl<2.0,>=1.0 in c:\\users\\domenico\\.conda\\envs\\tf\\lib\\site-packages (from aiohttp->datasets->simpletransformers) (1.8.1)\n",
            "Requirement already satisfied: async-timeout<5.0,>=4.0.0a3 in c:\\users\\domenico\\.conda\\envs\\tf\\lib\\site-packages (from aiohttp->datasets->simpletransformers) (4.0.2)\n",
            "Requirement already satisfied: gitdb<5,>=4.0.1 in c:\\users\\domenico\\.conda\\envs\\tf\\lib\\site-packages (from GitPython>=1.0.0->wandb>=0.10.32->simpletransformers) (4.0.9)\n",
            "Requirement already satisfied: pyasn1-modules>=0.2.1 in c:\\users\\domenico\\.conda\\envs\\tf\\lib\\site-packages (from google-auth<3,>=1.6.3->tensorboard->simpletransformers) (0.2.8)\n",
            "Requirement already satisfied: rsa<5,>=3.1.4 in c:\\users\\domenico\\.conda\\envs\\tf\\lib\\site-packages (from google-auth<3,>=1.6.3->tensorboard->simpletransformers) (4.9)\n",
            "Requirement already satisfied: requests-oauthlib>=0.7.0 in c:\\users\\domenico\\.conda\\envs\\tf\\lib\\site-packages (from google-auth-oauthlib<0.5,>=0.4.1->tensorboard->simpletransformers) (1.3.1)\n",
            "Requirement already satisfied: zipp>=0.5 in c:\\users\\domenico\\.conda\\envs\\tf\\lib\\site-packages (from importlib-metadata>=1.4->streamlit->simpletransformers) (3.8.1)\n",
            "Requirement already satisfied: pyparsing!=3.0.5,>=2.0.2 in c:\\users\\domenico\\.conda\\envs\\tf\\lib\\site-packages (from packaging>=20.0->transformers>=4.6.0->simpletransformers) (3.0.9)\n",
            "Requirement already satisfied: pygments<3.0.0,>=2.6.0 in c:\\users\\domenico\\.conda\\envs\\tf\\lib\\site-packages (from rich>=10.11.0->streamlit->simpletransformers) (2.12.0)\n",
            "Requirement already satisfied: commonmark<0.10.0,>=0.9.0 in c:\\users\\domenico\\.conda\\envs\\tf\\lib\\site-packages (from rich>=10.11.0->streamlit->simpletransformers) (0.9.1)\n",
            "Requirement already satisfied: tzdata in c:\\users\\domenico\\.conda\\envs\\tf\\lib\\site-packages (from tzlocal>=1.1->streamlit->simpletransformers) (2022.2)\n",
            "Requirement already satisfied: pytz-deprecation-shim in c:\\users\\domenico\\.conda\\envs\\tf\\lib\\site-packages (from tzlocal>=1.1->streamlit->simpletransformers) (0.1.0.post0)\n",
            "Requirement already satisfied: decorator>=3.4.0 in c:\\users\\domenico\\.conda\\envs\\tf\\lib\\site-packages (from validators>=0.2->streamlit->simpletransformers) (5.1.1)\n",
            "Requirement already satisfied: MarkupSafe>=2.1.1 in c:\\users\\domenico\\.conda\\envs\\tf\\lib\\site-packages (from werkzeug>=1.0.1->tensorboard->simpletransformers) (2.1.1)\n",
            "Requirement already satisfied: smmap<6,>=3.0.1 in c:\\users\\domenico\\.conda\\envs\\tf\\lib\\site-packages (from gitdb<5,>=4.0.1->GitPython>=1.0.0->wandb>=0.10.32->simpletransformers) (5.0.0)\n",
            "Requirement already satisfied: pyrsistent!=0.17.0,!=0.17.1,!=0.17.2,>=0.14.0 in c:\\users\\domenico\\.conda\\envs\\tf\\lib\\site-packages (from jsonschema>=3.0->altair>=3.2.0->streamlit->simpletransformers) (0.18.1)\n",
            "Requirement already satisfied: pyasn1<0.5.0,>=0.4.6 in c:\\users\\domenico\\.conda\\envs\\tf\\lib\\site-packages (from pyasn1-modules>=0.2.1->google-auth<3,>=1.6.3->tensorboard->simpletransformers) (0.4.8)\n",
            "Requirement already satisfied: oauthlib>=3.0.0 in c:\\users\\domenico\\.conda\\envs\\tf\\lib\\site-packages (from requests-oauthlib>=0.7.0->google-auth-oauthlib<0.5,>=0.4.1->tensorboard->simpletransformers) (3.2.0)\n"
          ]
        }
      ]
    },
    {
      "cell_type": "markdown",
      "metadata": {
        "id": "0QHd_fxmHCfa"
      },
      "source": [
        "## Importing DS and extract in current working directory."
      ]
    },
    {
      "cell_type": "code",
      "metadata": {
        "id": "ocYMUXaY8r0_"
      },
      "source": [
        "urlTrainingSet = \"https://github.com/marco-siino/DA-ESWA/raw/main/data/fns/fns-training-augmented-de.zip\"\n",
        "training_set = tf.keras.utils.get_file(\"pan20-author-profiling-training-2020-02-23-augmented.zip\", urlTrainingSet,\n",
        "                                    extract=True, archive_format='zip',cache_dir='.',\n",
        "                                    cache_subdir='')\n",
        "\n",
        "urlTestSet=\"https://github.com/marco-siino/DA-ESWA/raw/main/data/fns/fns-test-augmented-de.zip\"\n",
        "test_set = tf.keras.utils.get_file(\"pan20-author-profiling-test-2020-02-23-augmented.zip\", urlTestSet,\n",
        "                                    extract=True, archive_format='zip',cache_dir='.',\n",
        "                                    cache_subdir='')"
      ],
      "execution_count": null,
      "outputs": []
    },
    {
      "cell_type": "code",
      "source": [
        "training_set_dir = os.path.join(os.path.dirname(training_set), 'pan20-author-profiling-training-2020-02-23-augmented')\n",
        "test_set_dir = os.path.join(os.path.dirname(test_set), 'pan20-author-profiling-test-2020-02-23-augmented')"
      ],
      "metadata": {
        "id": "VhXCTQbYykC-"
      },
      "execution_count": null,
      "outputs": []
    },
    {
      "cell_type": "markdown",
      "metadata": {
        "id": "Di7jOZjALo4X"
      },
      "source": [
        "## Build folders hierarchy to use Keras folders preprocessing function."
      ]
    },
    {
      "cell_type": "code",
      "metadata": {
        "colab": {
          "base_uri": "https://localhost:8080/"
        },
        "id": "-ucATWhfGSGf",
        "outputId": "98d775f3-e4a4-4bfe-fdac-e62f6dbc5aec"
      },
      "source": [
        "### Training Folders. ###\n",
        "\n",
        "# First level directory.\n",
        "if not os.path.exists('train_dir_en'):\n",
        "    os.makedirs('train_dir_en')\n",
        "\n",
        "# Class labels directory.\n",
        "if not os.path.exists('train_dir_en/0'):\n",
        "    os.makedirs('train_dir_en/0')\n",
        "if not os.path.exists('train_dir_en/1'):\n",
        "    os.makedirs('train_dir_en/1')\n",
        "\n",
        "# Make Py variables.\n",
        "train_dir='train_dir_'\n",
        "\n",
        "## Test Folders. ##\n",
        "# First level directory.\n",
        "if not os.path.exists('test_dir_en'):\n",
        "    os.makedirs('test_dir_en')\n",
        "\n",
        "# Class labels directory.\n",
        "if not os.path.exists('test_dir_en/0'):\n",
        "    os.makedirs('test_dir_en/0')\n",
        "if not os.path.exists('test_dir_en/1'):\n",
        "    os.makedirs('test_dir_en/1')\n",
        "\n",
        "# Make Py variables.\n",
        "test_dir='test_dir_'\n",
        "\n",
        "!ls -A"
      ],
      "execution_count": null,
      "outputs": [
        {
          "output_type": "stream",
          "name": "stderr",
          "text": [
            "'ls' is not recognized as an internal or external command,\n",
            "operable program or batch file.\n"
          ]
        }
      ]
    },
    {
      "cell_type": "markdown",
      "metadata": {
        "id": "tNib56hF_8an"
      },
      "source": [
        "## Set language and directory paths.\n"
      ]
    },
    {
      "cell_type": "code",
      "metadata": {
        "id": "Rq0EgZuf_5tv"
      },
      "source": [
        "# Set en and es ground truth file path for train_dir. \n",
        "language='en'\n",
        "\n",
        "truth_file_training_dir_en=training_set_dir+'/'+language+'/'\n",
        "truth_file_training_path_en = truth_file_training_dir_en+'truth.txt'\n",
        "\n",
        "truth_file_test_dir=test_set_dir\n",
        "truth_file_test_path_en = truth_file_test_dir+'/'+'truth'+'.txt'"
      ],
      "execution_count": null,
      "outputs": []
    },
    {
      "cell_type": "markdown",
      "metadata": {
        "id": "7VQKsc4XOpD8"
      },
      "source": [
        "## Read truth.txt to organize training and test dataset folders.\n",
        "\n"
      ]
    },
    {
      "cell_type": "code",
      "metadata": {
        "id": "4kxcJ92-Nkto",
        "colab": {
          "base_uri": "https://localhost:8080/",
          "height": 270
        },
        "outputId": "adf03677-893e-4d43-cf11-c772001df8e3"
      },
      "source": [
        "# Open the file truth.txt with read only permit.\n",
        "f = open(truth_file_training_path_en, \"r\")\n",
        "# use readline() to read the first line \n",
        "line = f.readline()\n",
        "# use the read line to read further.\n",
        "# If the file is not empty keep reading one line\n",
        "# at a time, till the file is empty\n",
        "while line:\n",
        "    # Split line at :::\n",
        "    x = line.split(\":::\")\n",
        "    fNameXml = x[0]+'.xml'\n",
        "    fNameTxt = x[0]+'.txt'\n",
        "    # Second coord [0] gets just the first character (label) and not /n too.\n",
        "    label = x[1][0]\n",
        "\n",
        "    # Now move the file to the right folder.\n",
        "    if os.path.exists(truth_file_training_dir_en+fNameXml):\n",
        "      os.rename(truth_file_training_dir_en+fNameXml, './train_dir_'+language+'/'+label+'/'+fNameTxt )\n",
        "\n",
        "    # use readline() to read next line\n",
        "    line = f.readline()\n",
        "\n",
        "# Open the file truth.txt with read only permit.\n",
        "f = open(truth_file_test_path_en, \"r\")\n",
        "# use readline() to read the first line \n",
        "line = f.readline()\n",
        "# use the read line to read further.\n",
        "# If the file is not empty keep reading one line\n",
        "# at a time, till the file is empty\n",
        "while line:\n",
        "    # Split line at :::\n",
        "    x = line.split(\":::\")\n",
        "    fNameXml = x[0]+'.xml'\n",
        "    fNameTxt = x[0]+'.txt'\n",
        "    # Second coord [0] gets just the first character (label) and not /n too.\n",
        "    label = x[1][0]\n",
        "\n",
        "    # Now move the file to the right folder.\n",
        "    if os.path.exists(truth_file_test_dir+'/'+language+'/'+fNameXml):\n",
        "      os.rename(truth_file_test_dir+'/'+language+'/'+fNameXml, './test_dir_'+language+'/'+label+'/'+fNameTxt )\n",
        "\n",
        "    # use readline() to read next line\n",
        "    line = f.readline()"
      ],
      "execution_count": null,
      "outputs": [
        {
          "output_type": "error",
          "ename": "FileExistsError",
          "evalue": "ignored",
          "traceback": [
            "\u001b[1;31m---------------------------------------------------------------------------\u001b[0m",
            "\u001b[1;31mFileExistsError\u001b[0m                           Traceback (most recent call last)",
            "Input \u001b[1;32mIn [7]\u001b[0m, in \u001b[0;36m<cell line: 8>\u001b[1;34m()\u001b[0m\n\u001b[0;32m     16\u001b[0m \u001b[38;5;66;03m# Now move the file to the right folder.\u001b[39;00m\n\u001b[0;32m     17\u001b[0m \u001b[38;5;28;01mif\u001b[39;00m os\u001b[38;5;241m.\u001b[39mpath\u001b[38;5;241m.\u001b[39mexists(truth_file_training_dir_en\u001b[38;5;241m+\u001b[39mfNameXml):\n\u001b[1;32m---> 18\u001b[0m   \u001b[43mos\u001b[49m\u001b[38;5;241;43m.\u001b[39;49m\u001b[43mrename\u001b[49m\u001b[43m(\u001b[49m\u001b[43mtruth_file_training_dir_en\u001b[49m\u001b[38;5;241;43m+\u001b[39;49m\u001b[43mfNameXml\u001b[49m\u001b[43m,\u001b[49m\u001b[43m \u001b[49m\u001b[38;5;124;43m'\u001b[39;49m\u001b[38;5;124;43m./train_dir_\u001b[39;49m\u001b[38;5;124;43m'\u001b[39;49m\u001b[38;5;241;43m+\u001b[39;49m\u001b[43mlanguage\u001b[49m\u001b[38;5;241;43m+\u001b[39;49m\u001b[38;5;124;43m'\u001b[39;49m\u001b[38;5;124;43m/\u001b[39;49m\u001b[38;5;124;43m'\u001b[39;49m\u001b[38;5;241;43m+\u001b[39;49m\u001b[43mlabel\u001b[49m\u001b[38;5;241;43m+\u001b[39;49m\u001b[38;5;124;43m'\u001b[39;49m\u001b[38;5;124;43m/\u001b[39;49m\u001b[38;5;124;43m'\u001b[39;49m\u001b[38;5;241;43m+\u001b[39;49m\u001b[43mfNameTxt\u001b[49m\u001b[43m \u001b[49m\u001b[43m)\u001b[49m\n\u001b[0;32m     20\u001b[0m \u001b[38;5;66;03m# use readline() to read next line\u001b[39;00m\n\u001b[0;32m     21\u001b[0m line \u001b[38;5;241m=\u001b[39m f\u001b[38;5;241m.\u001b[39mreadline()\n",
            "\u001b[1;31mFileExistsError\u001b[0m: [WinError 183] Cannot create a file when that file already exists: '.\\\\pan20-author-profiling-training-2020-02-23-augmented/en/4kgofb9pvi5pyjxjzjrplrgqj99njn2c.xml' -> './train_dir_en/0/4kgofb9pvi5pyjxjzjrplrgqj99njn2c.txt'"
          ]
        }
      ]
    },
    {
      "cell_type": "markdown",
      "metadata": {
        "id": "uTJi1fbT_Rup"
      },
      "source": [
        "## Generate full training set.\n",
        "\n"
      ]
    },
    {
      "cell_type": "code",
      "metadata": {
        "colab": {
          "base_uri": "https://localhost:8080/"
        },
        "id": "FyafvXEMhEKw",
        "outputId": "4b7a40a8-2dd3-424e-dfaf-04c3fe8f2c0b"
      },
      "source": [
        "# Generate full randomized training set.\n",
        "batch_size=1\n",
        "\n",
        "en_train_ds = tf.keras.preprocessing.text_dataset_from_directory(\n",
        "    train_dir+language, \n",
        "    batch_size=batch_size,\n",
        "    shuffle=False\n",
        "    )\n",
        "\n",
        "en_test_ds = tf.keras.preprocessing.text_dataset_from_directory(\n",
        "    test_dir+language, \n",
        "    batch_size=batch_size,\n",
        "    shuffle=False\n",
        "    )\n",
        "\n",
        "train_ds=en_train_ds.shuffle(300,seed=1, reshuffle_each_iteration=False)\n",
        "test_ds=en_test_ds.shuffle(200,seed=1, reshuffle_each_iteration=False)\n",
        "\n",
        "train_ds_size=len(train_ds)\n",
        "test_ds_size=len(test_ds)"
      ],
      "execution_count": null,
      "outputs": [
        {
          "output_type": "stream",
          "name": "stdout",
          "text": [
            "Found 300 files belonging to 2 classes.\n",
            "Found 200 files belonging to 2 classes.\n"
          ]
        }
      ]
    },
    {
      "cell_type": "markdown",
      "metadata": {
        "id": "63fZWTXaUGvf"
      },
      "source": [
        "## Functions to pre-process source text. (A detailed discussion on our paper)"
      ]
    },
    {
      "cell_type": "code",
      "metadata": {
        "id": "Do1CSYs9UGvf"
      },
      "source": [
        "# Do-Nothing preprocessing function.\n",
        "def DON(input_data):\n",
        "  tag_open_CDATA_removed = tf.strings.regex_replace(input_data, '<\\!\\[CDATA\\[', ' ')\n",
        "  tag_closed_CDATA_removed = tf.strings.regex_replace(tag_open_CDATA_removed,'\\]{1,}>', ' ')\n",
        "  tag_author_lang_en_removed = tf.strings.regex_replace(tag_closed_CDATA_removed,'<author lang=\"en\">', ' ')\n",
        "  tag_closed_author_removed = tf.strings.regex_replace(tag_author_lang_en_removed,'</author>', ' ')\n",
        "  tag_open_documents_removed = tf.strings.regex_replace(tag_closed_author_removed,'<documents>\\n(\\t){0,2}', '')\n",
        "  output_data = tf.strings.regex_replace(tag_open_documents_removed,'</documents>\\n(\\t){0,2}', ' ')\n",
        "  return output_data"
      ],
      "execution_count": null,
      "outputs": []
    },
    {
      "cell_type": "markdown",
      "source": [
        "## Define a dictionary with -> function_names:prepro_function_caller. And a dictionary to store model results."
      ],
      "metadata": {
        "id": "3lUNTVML4VdI"
      }
    },
    {
      "cell_type": "code",
      "source": [
        "model_results = {}\n",
        "prepro_functions_dict_base = {\n",
        "    'DON':DON,\n",
        "    }\n",
        "\n",
        "# 3 prepro functions = 15 combs...+1 for do_nothing\n",
        "\n",
        "prepro_functions_dict_comb = {\n",
        "    # 1. Do nothing \n",
        "    'DON': DON,\n",
        "    # 2. Lowercasing \n",
        "}\n",
        "\n",
        "for key in prepro_functions_dict_comb:\n",
        "  print(key)\n",
        "  model_results[key]=[]"
      ],
      "metadata": {
        "colab": {
          "base_uri": "https://localhost:8080/"
        },
        "id": "rq8Ah1Wt4YjU",
        "outputId": "0a22b2dd-6b29-44e9-9f6d-5df89fd3a30b"
      },
      "execution_count": null,
      "outputs": [
        {
          "output_type": "stream",
          "name": "stdout",
          "text": [
            "DON\n"
          ]
        }
      ]
    },
    {
      "cell_type": "markdown",
      "source": [
        "## Function to convert DSs to Pandas Dataframe"
      ],
      "metadata": {
        "id": "xmWtRjh18LcV"
      }
    },
    {
      "cell_type": "code",
      "source": [
        "def preprocess_and_convert_ds(preprocessing_function):\n",
        "  # Convert English dataset.\n",
        "  train_df = [] # will contain text and label\n",
        "  for element in train_ds:\n",
        "    authorDocument=element[0]\n",
        "    label=int(element[1].numpy())\n",
        "    #print(authorDocument[0])\n",
        "    text = preprocessing_function(authorDocument[0].numpy()).numpy().decode('UTF-8')\n",
        "    train_df.append({\n",
        "        'text':text,\n",
        "        'label':label\n",
        "    })\n",
        "  train_df = pd.DataFrame(train_df)\n",
        "\n",
        "  test_df = [] # will contain text and label\n",
        "  for element in test_ds:\n",
        "    authorDocument=element[0]\n",
        "    label=int(element[1].numpy())\n",
        "    #print(authorDocument[0])\n",
        "    text = preprocessing_function(authorDocument[0].numpy()).numpy().decode('UTF-8')\n",
        "    test_df.append({\n",
        "        'text':text,\n",
        "        'label':label\n",
        "    })\n",
        "  test_df = pd.DataFrame(test_df)\n",
        "\n",
        "  return train_df, test_df\n"
      ],
      "metadata": {
        "id": "lV54jyB98P2n"
      },
      "execution_count": null,
      "outputs": []
    },
    {
      "cell_type": "markdown",
      "source": [
        "## Some parameters definition..."
      ],
      "metadata": {
        "id": "VgvX5p5QB24X"
      }
    },
    {
      "cell_type": "code",
      "source": [
        "# check gpu\n",
        "cuda_available = torch.cuda.is_available()\n",
        "\n",
        "print('Cuda available? ',cuda_available)\n",
        "\n",
        "num_epochs_per_run = 10\n",
        "num_runs = 5"
      ],
      "metadata": {
        "colab": {
          "base_uri": "https://localhost:8080/"
        },
        "id": "G3YXCXSM7Nyv",
        "outputId": "60d1e3b0-0cda-41b5-bcb3-dba6b8828d10"
      },
      "execution_count": null,
      "outputs": [
        {
          "output_type": "stream",
          "name": "stdout",
          "text": [
            "Cuda available?  False\n"
          ]
        }
      ]
    },
    {
      "cell_type": "markdown",
      "metadata": {
        "id": "ITouXXtQ8WzV"
      },
      "source": [
        "## Functions to pre-process source text. (A detailed discussion on our paper)"
      ]
    },
    {
      "cell_type": "code",
      "metadata": {
        "id": "bDPIqAgXYWim"
      },
      "source": [
        "# Preprocessing function to remove some noise due to the translation.\n",
        "def clean_samples(input_data):\n",
        "  tag_author_lang_en_removed = tf.strings.regex_replace(input_data,'<author lang=\"en\">', '')\n",
        "  tag_opening_document_miscased = tf.strings.regex_replace(tag_author_lang_en_removed,'<Document>', '<document>')\n",
        "  tag_closing_document_miscased = tf.strings.regex_replace(tag_opening_document_miscased,'</Document>', '</document>')\n",
        "  tag_opening_documents = tf.strings.regex_replace(tag_closing_document_miscased,'<documents>', '')\n",
        "  tag_opening_cdata_removed = tf.strings.regex_replace(tag_opening_documents,'<\\!\\[CDATA\\[', ' ')\n",
        "  tag_closing_cdata_removed = tf.strings.regex_replace(tag_opening_cdata_removed,'\\]\\]>', ' >')\n",
        "  output_data = tf.strings.regex_replace(tag_closing_cdata_removed,'</documents>', '')\n",
        "  return output_data"
      ],
      "execution_count": null,
      "outputs": []
    },
    {
      "cell_type": "markdown",
      "metadata": {
        "id": "TjUnE9_DEyCw"
      },
      "source": [
        "## Get the length of the longest sample in training set. Then adapt text.\n",
        "\n"
      ]
    },
    {
      "cell_type": "code",
      "metadata": {
        "id": "ebRMQqa_mr48"
      },
      "source": [
        "def preprocess_and_adapt_ts(training_set):\n",
        "  # Set a large sequence length to find the longest sample in the training set.\n",
        "  sequence_length = 30000\n",
        "  vectorize_layer = TextVectorization(\n",
        "      standardize=clean_samples,\n",
        "      output_mode='int',\n",
        "      output_sequence_length=sequence_length)\n",
        "\n",
        "  train_text = training_set.map(lambda x, y: x)\n",
        "  vectorize_layer.adapt(train_text)\n",
        "  #vectorize_layer.get_vocabulary()\n",
        "\n",
        "  model = tf.keras.models.Sequential()\n",
        "  model.add(tf.keras.Input(shape=(1,), dtype=tf.string))\n",
        "  model.add(vectorize_layer)\n",
        "\n",
        "  longest_sample_length=1\n",
        "\n",
        "  for element in training_set:\n",
        "    authorDocument=element[0]\n",
        "    label=element[1]\n",
        "    \n",
        "    #print(\"Sample considered is: \", authorDocument[0].numpy())\n",
        "    #print(\"Preprocessed: \", str(custom_standardization(authorDocument[0].numpy())))\n",
        "    #print(\"And has label: \", label[0].numpy())\n",
        "\n",
        "    out=model(authorDocument)\n",
        "    # Convert token list to numpy array.\n",
        "    token_list = out.numpy()[0]\n",
        "    token_list = np.trim_zeros(token_list,'b')\n",
        "    if longest_sample_length < len(token_list):\n",
        "      longest_sample_length = len(token_list)\n",
        "\n",
        "  print(\"Length of the longest sample is:\", longest_sample_length)\n",
        "\n",
        "  # After tokenization longest_sample_length covers all the document lenghts in our dataset.\n",
        "  sequence_length = longest_sample_length\n",
        "\n",
        "  vectorize_layer = TextVectorization(\n",
        "      standardize=clean_samples,\n",
        "      output_mode='int',\n",
        "      output_sequence_length=sequence_length)\n",
        "\n",
        "  # Finally adapt the vectorize layer.\n",
        "  train_text = training_set.map(lambda x, y: x)\n",
        "  vectorize_layer.adapt(train_text)\n",
        "  return vectorize_layer"
      ],
      "execution_count": null,
      "outputs": []
    },
    {
      "cell_type": "markdown",
      "metadata": {
        "id": "x8zDXrk9eEy5"
      },
      "source": [
        "## Vectorization\n",
        "\n",
        "\n"
      ]
    },
    {
      "cell_type": "code",
      "metadata": {
        "colab": {
          "base_uri": "https://localhost:8080/"
        },
        "id": "P8owxNMIeFsX",
        "outputId": "29367a49-1a76-4164-8251-298c4a285e93"
      },
      "source": [
        "print(\"\\n\\n* * * * VECTORIZATION STARTED * * * *\")\n",
        "\n",
        "# Preprocess training set to build a dictionary.\n",
        "vectorize_layer = preprocess_and_adapt_ts(train_ds)\n",
        "\n",
        "max_features=len(vectorize_layer.get_vocabulary()) + 1\n",
        "print(\"Vocabulary size is:\", max_features)"
      ],
      "execution_count": null,
      "outputs": [
        {
          "output_type": "stream",
          "name": "stdout",
          "text": [
            "\n",
            "\n",
            "* * * * VECTORIZATION STARTED * * * *\n",
            "Length of the longest sample is: 7175\n",
            "Vocabulary size is: 98112\n"
          ]
        }
      ]
    },
    {
      "cell_type": "markdown",
      "metadata": {
        "id": "XDEi7MAo4qsQ"
      },
      "source": [
        "## Models definition and evaluation.\n",
        "\n",
        "\n"
      ]
    },
    {
      "cell_type": "code",
      "metadata": {
        "colab": {
          "base_uri": "https://localhost:8080/"
        },
        "id": "Mm1fdCpETWL-",
        "outputId": "72c8670c-a795-4d24-ab7b-5ef23669cd6e"
      },
      "source": [
        "print(\"\\n\\n***** FINITO DI PROCESSARE E ADATTARE IL TRAINING SET, INIZIA LA SIMULAZIONE *******\")\n",
        "# Print a raw and a preprocessed sample.\n",
        "for element in train_ds:\n",
        "  authorDocument=element[0]\n",
        "  label=element[1]\n",
        "  \n",
        "  print(\"Sample considered is: \", authorDocument[0])\n",
        "  print(\"Preprocessed: \", str(clean_samples(authorDocument[0].numpy())))\n",
        "  break\n",
        "\n",
        "# # # - - - - - MODELS DEFINITION AND EVALUATION - - - - - # # #\n",
        "\n",
        "model_args = ClassificationArgs(num_train_epochs=1, \n",
        "                                    no_save=True, \n",
        "                                    no_cache=True, \n",
        "                                    overwrite_output_dir=True)\n",
        "\n",
        "model = ClassificationModel(\"roberta\", \n",
        "                                'roberta-base', \n",
        "                                args = model_args, \n",
        "                                num_labels=2, \n",
        "                                use_cuda=cuda_available)\n",
        "\n",
        "runs_accuracy = []\n",
        "\n",
        "print(\"\\n\\n* * * * EVALUATION USING AS PREPROCESSING FUNCTION * * * *\")\n",
        "\n",
        "# Preprocess train and test set and convert to DFs.\n",
        "train_df,test_df = preprocess_and_convert_ds(prepro_functions_dict_comb[key])\n",
        "\n",
        "for run in range(1,(num_runs+1)):\n",
        "  epochs_accuracy=[]\n",
        "  model = ClassificationModel(\"roberta\", \n",
        "                                  'roberta-base', \n",
        "                                  args = model_args, \n",
        "                                  num_labels=2, \n",
        "                                  use_cuda=cuda_available)\n",
        "  for epoch in range (0,num_epochs_per_run):\n",
        "    print(\"\\nEPOCH NUMBER: \", epoch)\n",
        "    # train model\n",
        "    print(\"\\nNOW TRAIN THE MODEL.\")\n",
        "    model.train_model(train_df,show_running_loss=False)\n",
        "    print(\"\\nNOW EVALUATE THE TEST DF.\")\n",
        "    result, model_outputs, wrong_predictions = model.eval_model(test_df)\n",
        "    # Results on test set.\n",
        "    print(result)\n",
        "    correct_predictions = result['tp']+result['tn']\n",
        "    print(\"Correct predictions are: \",correct_predictions)\n",
        "    total_predictions = result['tp']+result['tn']+result['fp']+result['fn']\n",
        "    print(\"Total predictions are: \",total_predictions)\n",
        "    accuracy = correct_predictions/total_predictions\n",
        "    print(\"Accuracy on test set is:\",accuracy,\"\\n\\n\")\n",
        "    epochs_accuracy.append(accuracy)\n",
        "\n",
        "  print(epochs_accuracy)\n",
        "  runs_accuracy.append(max(epochs_accuracy))\n",
        "\n",
        "runs_accuracy.sort()\n",
        "print(\"\\n\\n Over all runs maximum accuracies are:\", runs_accuracy)\n",
        "print(\"The median is:\",runs_accuracy[2])\n",
        "\n",
        "if (runs_accuracy[2]-runs_accuracy[0])>(runs_accuracy[4]-runs_accuracy[2]):\n",
        "  max_range_from_median = runs_accuracy[2]-runs_accuracy[0]\n",
        "else:\n",
        "  max_range_from_median = runs_accuracy[4]-runs_accuracy[2]\n",
        "final_result = str(runs_accuracy[2])+\" +/- \"+ str(max_range_from_median)\n",
        "model_results[key].append(final_result)\n",
        "print(\"RoBERTa Accuracy Score on Test set -> \",model_results[key])"
      ],
      "execution_count": null,
      "outputs": [
        {
          "output_type": "stream",
          "name": "stdout",
          "text": [
            "\n",
            "\n",
            "***** FINITO DI PROCESSARE E ADATTARE IL TRAINING SET, INIZIA LA SIMULAZIONE *******\n",
            "Sample considered is:  tf.Tensor(b' >\\n      <document> in religion we call it spirits. in science we call it energy. in the streets we call it vibes. </document>\\n    <document> bringing ur face closer to your fan </document>\\n    <document> iranian hit us ship, us did not do anything, iranian hit us drone us did not do anything, iranian when as far as an\\xe2\\x80\\xa6 #url# </document>\\n    <document> you first call tomorrow been 1st of november 2019 will be a financial blessings.   our latest mixtape... grab ur copy. </document>\\n    <document> no weapon against him will execute ijn #url# </document>\\n    <document> congratulations  my sister  once again #url# </document>\\n    <document> age gratefully beautiful woman  llnp best friend #url# </document>\\n    <document> ur popularity is our greatest priority #url# </document>\\n    <document> i don\\xe2\\x80\\x99t know who needs to hear this but grow up and stop watching porn. </document>\\n    <document> gov ugwuanyi paid salary \\xf0\\x9f\\x99\\x84\\xf0\\x9f\\x99\\x84\\xf0\\x9f\\x99\\x84 i don\\'t consider salary payment an achievement </document>\\n    <document> u see those frnds dat inbox u only wen u upload fine pictures, stay away from them. </document>\\n    <document> age gratefully beautiful woman  llnp best friend </document>\\n    <document> video over make sinsi ezege but we need ur poster badly on the street of 042, to waken the vibe street alobam. mpa\\xe2\\x80\\xa6 #url# </document>\\n    <document> we are the street and street is in us </document>\\n    <document> #hashtag# is the real soldier. ebonyi guy single handedly disarms a nigerian stupid soldier..  i don\\'t care what you may\\xe2\\x80\\xa6 #url# </document>\\n    <document> can someone help and subtitle this song for me #url# </document>\\n    <document> my best nigerian president  i celebrate with you sir #url# </document>\\n    <document> never tell your family about your relationship problems because you might forgive your partner and they won\\'t.. </document>\\n    <document> wwe africa full match of rey mysterio vs kane is out now 2019 latest wwe africa trending video #url# </document>\\n    <document> may god continue to sustain u and guide you through anything on anyway @ anytime ijn #url# </document>\\n    <document> never be in a hurry to criticize a woman who left her marriage. most of them did everything possible to save their homes. be kind! </document>\\n    <document> best epic song of the season #url# </document>\\n    <document> stop dating broke girls . i know many girls and ladies gonna be angry with this post but try learn more about it .\\xe2\\x80\\xa6 #url# </document>\\n    <document> bia  rie  ji \\xf0\\x9f\\xa4\\xa3\\xf0\\x9f\\xa4\\xa3\\xf0\\x9f\\xa4\\xa3 \\xe2\\x80\\x94 at enugu - coal city. #url# </document>\\n    <document> the army and the police put up an impressive professionalism in this encounter.  kudos to them. more respect to d g\\xe2\\x80\\xa6 #url# </document>\\n    <document> happy birthday papilo age gratefully aka shoemaker </document>\\n    <document> july updates.... crab a copy as edey hot </document>\\n    <document> a man of his word #url# </document>\\n    <document> happy birthday to my own blood from another mummy.   more money,  peace,  joy, love and happiness as ur add 1 to ur\\xe2\\x80\\xa6 #url# </document>\\n    <document> congratulations  my sister  once again #url# </document>\\n    <document> ur july updates on jubilation  crab a copy as edey hot </document>\\n    <document> my past pains has notin 2 contribute 2 my future glory. </document>\\n    <document> good morning to u all may ur today be better than yesterday  may ur tomorrow be better than today  may our hustle be fruitful </document>\\n    <document> #url# best of umu udubonch vol2  akalaka #url# </document>\\n    <document> wonderful deserve wonderful miracle.  pastor mmm everywhere #url# </document>\\n    <document> can you marry a billionaire who is obasinjo son and  hiv positve? answer as u are tonto d </document>\\n    <document> ur popularity is our greatest priority  tel 08084770119 </document>\\n    <document> on behalf of d common man in dis country,  we are hopelessly lost. 132 biko haram 4gvn n reinstated in borno state. </document>\\n    <document> d only tin u should hv at d back of mind is dat anytin can happen at anytime.  but hustle and bustle  defines  ur future </document>\\n    <document> aba na aba is my own state  border is closed to stop importation of rice, well, that\\'s not for us in  abakaliki, eb\\xe2\\x80\\xa6 #url# </document>\\n    <document> ican\\'t kill myself chulo way #url# </document>\\n    <document> ability of running from one man to another is called runs girl.  prostitute is ability of .......  ? </document>\\n    <document> president donald trump delivers an address to the united nations general assembly.  more: #url# #url# </document>\\n    <document> hot &amp; fresh  mega mix from ur  baddest dj                     dj nwabakaliki               we are ur street credibi\\xe2\\x80\\xa6 #url# </document>\\n    <document> hellooo everyone please, disregard any purported business or any of its kind sent to by me. someone hacked into my\\xe2\\x80\\xa6 #url# </document>\\n    <document> u fought for me  why odas fight for dey god  my lord, u no dey use me play ooo </document>\\n    <document> your ex should never be your friend -counsellor charlotte oduro #url# </document>\\n    <document> lafille\\' age gracefully as u are +1 2day </document>\\n    <document> the country is messed up #url# </document>\\n    <document> #url# na dem by mista cornel is finally out \\xf0\\x9f\\xa7\\x9a\\xe2\\x80\\x8d\\xe2\\x99\\x80\\xef\\xb8\\x8f\\xf0\\x9f\\xa7\\x9b\\xe2\\x80\\x8d\\xe2\\x99\\x82\\xef\\xb8\\x8f\\xf0\\x9f\\xa7\\x9e\\xe2\\x80\\x8d\\xe2\\x99\\x82\\xef\\xb8\\x8f\\xf0\\x9f\\xa7\\x9e\\xe2\\x80\\x8d\\xe2\\x99\\x80\\xef\\xb8\\x8f\\xf0\\x9f\\xa7\\x9f\\xe2\\x80\\x8d\\xe2\\x99\\x82\\xef\\xb8\\x8f\\xf0\\x9f\\xa4\\xb6\\xf0\\x9f\\xa4\\xb6\\xf0\\x9f\\xa7\\x99\\xe2\\x80\\x8d\\xe2\\x99\\x82\\xef\\xb8\\x8f\\xf0\\x9f\\x99\\x8d\\xe2\\x80\\x8d\\xe2\\x99\\x82\\xef\\xb8\\x8f\\xf0\\x9f\\x99\\x86\\xe2\\x80\\x8d\\xe2\\x99\\x82\\xef\\xb8\\x8f\\xf0\\x9f\\x99\\x85\\xe2\\x80\\x8d\\xe2\\x99\\x80\\xef\\xb8\\x8f\\xf0\\x9f\\x99\\x8e\\xe2\\x80\\x8d\\xe2\\x99\\x80\\xef\\xb8\\x8f\\xf0\\x9f\\x99\\x8d\\xe2\\x80\\x8d\\xe2\\x99\\x80\\xef\\xb8\\x8f #url# </document>\\n    <document> umu udubonch vol1 video shooting about to starting  ihe n\\' eme agu na isi zodo music ng production  directed by century  dop emelex </document>\\n    <document> biafra is real  r. i . p our great falling heroes  30th may is a heroic  date to every igbo land. date we will alwa\\xe2\\x80\\xa6 #url# </document>\\n    <document> if you want nigerian men to eat or drink anything, just tell them it will help them perform better in bed.. chai who slap me..\\xf0\\x9f\\x98\\x9c </document>\\n    <document> question????  if d husband have \\xe2\\x82\\xa610,000, &amp; d wife have \\xe2\\x82\\xa630,000. how much is in d house? taking house as a constant in d house </document>\\n    <document> happy fathers day to me and my veryself </document>\\n    <document> when nigerian wake up against injustice, god will wake up, but when you stay calm when god is waiting for you to ac\\xe2\\x80\\xa6 #url# </document>\\n    <document> congratulations  brother obinna god will always see u tru,  no matter the situation.  second surgical operation wit\\xe2\\x80\\xa6 #url# </document>\\n    <document> the man that saw future #url# </document>\\n    <document> congratulations  uchechi.  i celebrate with you wonderful girl #url# </document>\\n    <document> to be out on 20th july </document>\\n    <document> if you haven\\'t been admitted in the hospital from january till now,   gather here, let\\'s  thank god for his grace \\xf0\\x9f\\x91\\x87 </document>\\n    <document> \\xe2\\x80\\x98beautiful girl\\xe2\\x80\\x98 and \\xe2\\x80\\x98911\\xe2\\x80\\x98 crooner sean kingston releases one of the anticipated single titled \\xe2\\x80\\x9cpeace of mind\\xe2\\x80\\x9c. kis\\xe2\\x80\\xa6 #url# </document>\\n    <document> trust is the most expensive gift it can cost u more than \"had i know \" be mindful who u will risk it to o o \\xe2\\x80\\x94 feeli\\xe2\\x80\\xa6 #url# </document>\\n    <document> lack of respect to culture #url# </document>\\n    <document> depression everywhere  he didn\\'t kill himself cos of accommodation fee let\\'s get fact before re posting.  his weddi\\xe2\\x80\\xa6 #url# </document>\\n    <document> december mixtape loading....... call for ur latest updates and video promotion  we are 2nd to none......08084770119 </document>\\n    <document> dating a man who doesn\\'t play \\xf0\\x9f\\x8e\\xb1snooker is a blessing; dat game teaches men how to focus on plenty holes using  one stick... </document>\\n    <document> god bless you and give u more reason to help people.  you are one in a million god will remember this year ijn amen #url# </document>\\n    <document> [audio + video] tony oneweek \\xe2\\x80\\x93 \\xe2\\x80\\x9cparty\\xe2\\x80\\x9d (prod. by rockyswaya) #url# </document>\\n    <document> june for jubilation.  congratulations  chimdire destiny onyekachi david on ur 1st day in church  we are redeemits u\\xe2\\x80\\xa6 #url# </document>\\n    <document> can any good come out of babcock #url# </document>\\n    <document> i have done it  you too can do same to get justice for nigeria #url# </document>\\n    <document> #url# click here to watch a fucking fight #url# </document>\\n    <document> dave this year  na ur year as usual u too much bro #url# </document>\\n    <document> rip algba a 344years old tortoise popularly known as \"alagba\" at soun of ogbomoso\\'s palace is dead :( the latest ne\\xe2\\x80\\xa6 #url# </document>\\n    <document> festival of madness  funny movie #url# </document>\\n    <document> dontom putputuone ofafrica god bless you immensely for your effort on this issue.  u are true human rights activist #url# </document>\\n    <document> we present to y\\xe2\\x80\\x99all a smashing song by asa titled \\xe2\\x80\\x9cthe place to be\\xe2\\x80\\x9d. nigeria\\xe2\\x80\\x99s soul diva and biggest female music e\\xe2\\x80\\xa6 #url# </document>\\n    <document> bonanza! bonanza!! bonanza!!! happy new month &amp; sunday to you all. i want to use this medium  to say  big thank u s\\xe2\\x80\\xa6 #url# </document>\\n    <document> we are into shoe bz chart me up for newest arrivals #url# </document>\\n    <document> when nigerian wake up against injustice, god will wake up, but when you stay calm when god is waiting for you to ac\\xe2\\x80\\xa6 #url# </document>\\n    <document> ramatu may god bless you more mama and give u strength and more wisdom as a minister  ijn #url# </document>\\n    <document> next world music meets with kennis music on this banging tune titled \\xe2\\x80\\x9cado bayero\\xe2\\x80\\x9d and it\\xe2\\x80\\x99s a vibe, the oba orin him\\xe2\\x80\\xa6 #url# </document>\\n    <document> mr eazi comes through with the smashing song he performed at the just concluded coachella. the song is tagged \\xe2\\x80\\x9clet\\xe2\\x80\\xa6 #url# </document>\\n    <document> stop wasting your data monitoring people online.  start an online business and monitor your income\\xf0\\x9f\\x91\\x8c\\xe2\\x9c\\x8c </document>\\n    <document> congratulations  prince desmond ananyo prince desmond anayo igboke aka okeigbudu </document>\\n    <document> it\\'s only in nigeria that a relationship ends but the sex continues\\xf0\\x9f\\x99\\x84\\xf0\\x9f\\x98\\x8f #url# </document>\\n    <document> another feather added to wing  zodo music ng aka djnwabakaliki entertainment as the best marketer of the year 2019.\\xe2\\x80\\xa6 #url# </document>\\n    <document> any adult in nigeria who witnessed buharis first coming knows that jonathan was right. goodluck jonathan warned nig\\xe2\\x80\\xa6 #url# </document>\\n    <document> don\\'t ever be broke and fat, it\\'s so annoying cause you keep disappointing people hustle and bustle nwanne </document>\\n    <document> another zodo music ng production  directed by joshua century  sound production by usb 07038892780 \\xe2\\x80\\x94 at enugu - coal\\xe2\\x80\\xa6 #url# </document>\\n    <document> have you ever observed that ladies that date reverend fathers hardly get married? </document>\\n    <document> don\\'t judge a book by its cover... #url# </document>\\n    <document> pmb make this guy more popular. #url# </document>\\n    <document> some relationship  can change your orientation &amp; dimension in life   tiktwc! </document>\\n    <document> every limitation in ur life break ijn.... #url# </document>\\n    <document> we igbo are wonderful  creature #url# </document>\\n    <document> what is happening to religious leaders  god have mercy on us #url# </document>\\n    <document> american renowned rapper russ who has been raving about afrobeat and one of nigeria\\xe2\\x80\\x99s biggest music export, davido\\xe2\\x80\\xa6 #url# </document>\\n    <document> cardi blue film desecrated our fada land #url# </document>\\n   \\n>\\n      <document> in religion we call it spirits. in science we call it energy. in the streets we call it vibes. </document>\\n    <document> bringing your face closer to your fan </document>\\n    <document> the Iranian hit our ship, we did nothing, the Iranian hit our drone we did nothing, the Iranian when regarding a\\xe2\\x80\\xa6 #url# </document>\\n    <document> your first call tomorrow November 1, 2019 will be a financial blessing. our latest mixtape... grab your copy. </document>\\n    <document> no weapon against him will execute ijn #url# </document>\\n    <document> Congratulations again to my sister #url# </document>\\n    <document> age gratefully beautiful woman llnp best friend #url# </document>\\n    <document> Our popularity is our top priority #url# </document>\\n    <document> I don\\'t know who needs to hear this, but grow up and stop watching porn. </document>\\n    <document> gov ugwuanyi paid salary \\xf0\\x9f\\x99\\x84\\xf0\\x9f\\x99\\x84\\xf0\\x9f\\x99\\x84 i don\\'t consider paying salary an achievement </document>\\n    <document> you only see those friends in your inbox when you upload good photos, stay away from them. </document>\\n    <document> age with gratitude beautiful woman llnp best friend </document>\\n    <document> video over make sinsi ezege but we really need your poster on 042 street, to awaken street alobam atmosphere. mpa\\xe2\\x80\\xa6 #url# </document>\\n    <document> we are the road and the road is in us </document>\\n    <document> #hashtag# is the real soldier. ebony guy self disarms stupid nigerian soldier... i don\\'t care what you might... #url# </document>\\n    <document> can someone help me and subtitle this song for me #url# </document>\\n    <document> my best nigerian president i celebrate with you sir #url# </document>\\n    <document>Never tell your family about your relationship problems because you may forgive your partner and they won\\'t.. </document>\\n    <document> wwe africa full match of rey mysterio vs kane is now out 2019 latest trending video wwe africa #url# </document>\\n    <document> may god continue to support and guide you through anything anyway @ anytime ijn #url# </document>\\n    <document> never be in a hurry to criticize a woman who has left her marriage. most of them did everything they could to save their homes. be gentle! </document>\\n    <document> best epic song of the season #url# </document>\\n    <document> stop dating broke girls . i know many girls and women will be upset by this post but try to find out more.\\xe2\\x80\\xa6 #url# </document>\\n    <document> bia rie ji \\xf0\\x9f\\xa4\\xa3\\xf0\\x9f\\xa4\\xa3\\xf0\\x9f\\xa4\\xa3 \\xe2\\x80\\x94 at enugu - coal city. #url# </document>\\n    <document> the army and the police showed impressive professionalism in this meeting. kudos to them. more respect for d g\\xe2\\x80\\xa6 #url# </document>\\n    <document> happy birthday papilo age with gratitude aka shoemaker </document>\\n    <document> July Updates.... look for a copy like edey hot </document>\\n    <document> a man of his word #url# </document>\\n    <document> happy birthday to my own blood from another mummy. more money, peace, joy, love and happiness as you add 1 to ur... #url# </document>\\n    <document> Congratulations again to my sister #url# </document>\\n    <document> your jubilation jubilation updates look for a copy like edey hot </document>\\n    <document> my past sorrows have not contributed 2 to my future glory. </document>\\n    <document> good morning all of you may your today be better than yesterday may your tomorrow be better than today may our hustle and bustle be fruitful </document>\\n    <document> #url# better than umu udubonch vol2 akalaka #url# </document>\\n    Wonderful <document> deserves wonderful miracle. pastor mmm everywhere #url# </document>\\n    <document> can you marry a billionaire who is obasinjo and HIV positive child? answer like you\\'re dumb d </document>\\n    <document> your popularity is our top priority tel 08084770119 </document>\\n    <document> on behalf of a common man in this country, we are hopelessly lost. 132 biko haram 4gvn n reinstated in Borno state. </document>\\n    <document> d solo tin u should hv at d back of mind is dat anytin can happen at any time. but hustle defines your future</document>\\n    <document> aba na aba is my state border is closed to stop importing rice, well that\\'s not for us in abakaliki, eb\\xe2\\x80\\xa6 #url# </document>\\n    <document> can\\'t kill myself big time #url# </document>\\n    <document> the ability to run from one man to another is called run girl. prostitute is ability to ....... ? </document>\\n    <document> President Donald Trump addresses the United Nations General Assembly. other: #url# #url# </document>\\n    <document> hot &amp; fresh mega mix from your baddest dj dj nwabakaliki we are your street believable\\xe2\\x80\\xa6 #url# </document>\\n    <document> hello all, please ignore any alleged commercial or similar activity sent by me. someone broke into my\\xe2\\x80\\xa6 #url# </document>\\n    <document> did you fight for me because odas fight for their god my lord you don\\'t use me to play ooo </document>\\n    <document> your ex should never be your friend -counselor charlotte oduro #url# </document>\\n    <document> lafille\\' ages as gracefully as you are +1 2 days </document>\\n    <document> country is messed up #url# </document>\\n    ; url# </document>\\n    <document> umu udubonch vol1 video shooting about to start ihe n\\' eme agu na isi zodo music ng production directed by century dop emelex </document>\\n    <document> biafra is real r. I . p our great fallen heroes May 30th is a heroic date for every Igbo land. data we will always\\xe2\\x80\\xa6 #url# </document>\\n    <document>if you want Nigerian men to eat or drink something just tell them it will help them behave better in bed.. chai slapping me..\\xf0\\x9f\\x98\\x9c </document>\\n    <document> question???? if d husband has \\xe2\\x82\\xa610,000, &amp; my wife has \\xe2\\x82\\xa630,000. how much does it cost at home? taking house as a constant in d house </document>\\n    <document> Happy Father\\'s Day to me and myself </document>\\n    <document> when nigerian wake up against injustice god will wake up but when you stay calm when god is waiting for you to consent\\xe2\\x80\\xa6 #url# </document>\\n    <document> congratulations brother obinna god will always see you true no matter the situation. second surgery with\\xe2\\x80\\xa6 #url# </document>\\n    <document> the man who saw the future #url# </document>\\n    <document> congratulations uchechi. celebrate with you beautiful girl #url# </document>\\n    <document> out July 20 </document>\\n    <document> if you haven\\'t been hospitalized since January to now, gather here, we thank God for his grace \\xf0\\x9f\\x91\\x87 </document>\\n    <document> Sean Kingston, crooner of \\'beautiful girl\\' and \\'911\\', releases one of the awaited singles entitled \"peace of mind\". kis\\xe2\\x80\\xa6 #url# </document>\\n    <document> Trust is the most expensive gift that can cost you more than \"if you\\'d known\" be careful who you risk it to or or \\xe2\\x80\\x94 feeli\\xe2\\x80\\xa6 #url# </document>\\n    <document> disrespect for #url# </document> culture\\n    <document> depression wherever he hasn\\'t committed suicide because of the accommodation fee, before republishing let\\'s do some clarity. his wedding\\xe2\\x80\\xa6 #url# </document>\\n    <document> December mixtape loading.......call for your latest video updates and promotions we are second to none......08084770119</document>\\n    <document> dating a man who doesn\\'t play \\xf0\\x9f\\x8e\\xb1snooker is a blessing; this game teaches men how to focus on many holes using a stick... </document>\\n    <document> God bless you and give you one more reason to help people. you are one in a million god will remember this year ijn amen #url# </document>\\n    <document> [audio + video] tony oneweek \\xe2\\x80\\x93 \\xe2\\x80\\x9cparty\\xe2\\x80\\x9d (prod. by rockyswaya) #url# </document>\\n    <document> June for jubilation. congratulations chimdire destiny onyekachi david on your first day at church we are redeemed u\\xe2\\x80\\xa6 #url# </document>\\n    <document> something good can come out of babcock #url# </document>\\n    <document> i did it you too can do the same to get justice for nigeria #url# </document><document> #url# click here to watch a fucking fight #url# </document>\\n    <document> dave this year na ur year as usual u too bro #url# </document>\\n    <document> rip algba a 344 year old tortoise popularly known as \"alagba\" after ogbomoso palace is dead :( last ne\\xe2\\x80\\xa6 #url# </document>\\n    <document> festival of madness funny movie #url# </document>\\n    <document> dontom puttuone ofafrica god bless you immensely for your efforts on this issue. you are a true human rights activist #url# </document>\\n    <document> we present you a great song by asa called \"the place to be\". nigeria\\'s soul diva and greatest female e-musician\\xe2\\x80\\xa6 #url# </document>\\n    <document> good luck! bonanza!! bonanza!!! happy new month &amp; Sunday to you all. I want to use this medium to thank us very much... #url# </document>\\n    <document> we like bz shoes, track me the latest arrivals #url# </document>\\n    <document> when nigerian wake up against injustice god will wake up but when you stay calm when god is waiting for you to consent\\xe2\\x80\\xa6 #url# </document>\\n    <document> ramatu God bless you again mom and give you strength and more wisdom as a minister ijn #url# </document>\\n    <document> The next world music meets Kennis\\' music in this smashing track titled \"ado bayero\" and it\\'s a vibe, the oba or in him... #url# </document>\\n    <document> mr eazi comes with the amazing song he performed at the coachella just concluded. the song is tagged \\xe2\\x80\\x9clet\\xe2\\x80\\xa6 #url# </document>\\n    <document> stop wasting your data tracking people online. start an online business and track your income\\xf0\\x9f\\x91\\x8c\\xe2\\x9c\\x8c </document>\\n    <document> congratulations prince desmond anayo prince desmond anayo igboke aka okeigbudu </document>\\n    <document> it\\'s only in nigeria that a relationship ends but the sex continues\\xf0\\x9f\\x99\\x84\\xf0\\x9f\\x98\\x8f #url# </document>\\n    <document> another feather added to wing zodo music ng aka djnwabakaliki entertainment as best marketer of the year 2019.\\xe2\\x80\\xa6 #url# </document>\\n    <document> any adult in Nigeria who witnessed Buhari\\'s first arrival knows that Jonathan was right. goodluck jonathan warned nig\\xe2\\x80\\xa6 #url# </document>\\n    <document> never be fat and broke it\\'s so annoying why you keep letting people down hustle nwanne </document>\\n    <document> another zodo music ng production directed by joshua century sound production by usb 07038892780 \\xe2\\x80\\x94 at enugu - coal\\xe2\\x80\\xa6 #url# </document>\\n    <document> have you ever noticed that women who date reverend fathers hardly get married? </document>\\n    <document> don\\'t judge a book by its cover... #url# </document>\\n    <document> pmb make this guy more popular. #url# </document>\\n    <document> some relationships can change your orientation &amp; size in life tiktwc! </document>\\n    <document> any limitation in your life break ijn.... #url# </document>\\n    <document> we Igbo are wonderful creatures #url# </document>\\n    <document> what is happening to religious leaders God have mercy on us #url# </document>\\n    <document> the famous american rapper russ who was enthusiastic about afrobeat and one of the biggest music exporter of nigeria, david... #url# </document>\\n    <document> the movie cardi blue desecrated our land fada #url# </document>>\\n      <document> in religion we call it spirits. in science we call it energy. in the streets we call it vibes. </document>\\n    <document> brings your face closer to your fan</document>\\n    <document> Iranian hit us ship we did nothing Iranian hit us drone we did nothing Iranian except up to a\\xe2\\x80\\xa6 #url# </document>\\n    <Document> You are calling for the first time tomorrow November 1, 2019 and will be a financial blessing. our latest mixtape... grab your copy. </document>\\n    <document> no weapon against him will execute ijn #url# </document>\\n    <document> Again, congratulations to my sister #url# </document>\\n    <document> old grateful beautiful woman llnp best friend #url# </document>\\n    <document> Your popularity is our top priority #url# </document>\\n    <Document> I don\\'t know who needs to hear this, but grow up and stop watching porn. </document>\\n    <document> gov ugwuanyi paid salary \\xf0\\x9f\\x99\\x84\\xf0\\x9f\\x99\\x84\\xf0\\x9f\\x99\\x84 I do not consider salary payments as a benefit </document>\\n    <Document> You will only see these friends in their inbox if you upload nice pictures, stay away from them. </document>\\n    <document> old grateful beautiful woman llnp best friend </document>\\n    <document> video over make sinsi ezege but we need your poster not on the street of 042, to awaken the vibe street alobam. mpa\\xe2\\x80\\xa6 #url# </document>\\n    <document> we are the road and the road is within us </document>\\n    <document> #hashtag# is the real soldier. Ebony guy singlehandedly disarms a stupid Nigerian soldier\\n    <document> can someone help me and subtitle this song #url# </document>\\n    <document> My best Nigerian President, I celebrate with you Sir #url# </document>\\n    <document> never tell your family about your relationship problems because you might be able to forgive your partner and they won\\'t.. </document>\\n    <document> wwe africa full match of rey mysterio vs kane is out now 2019 latest wwe africa trending video #url# </document>\\n    <document> may God continue to support you and guide you through everything that is definitely @ anytime ijn #url# </document>\\n    <Document> is never in a hurry to criticize a woman who has left her marriage. Most of them did everything to save their homes. be friendly! </document>\\n    <document> best epic song of the season #url# </document>\\n    <document> stop dating broke girls. I know many girls and ladies will be upset by this post but try to learn more about it... #url# </document>\\n    <Document> bia rie ji \\xf0\\x9f\\xa4\\xa3\\xf0\\x9f\\xa4\\xa3\\xf0\\x9f\\xa4\\xa3 \\xe2\\x80\\x94 at enugu - coal town. #url# </document>\\n    <Document> The army and police showed impressive professionalism in this encounter. kudos to her. more respect for d g\\xe2\\x80\\xa6 #url# </document>\\n    <document> happy birthday papilo old man grateful alias shoemaker </document>\\n    <document>July updates....crawl a copy as edey hot</document>\\n    <document> a man of his word #url# </document>\\n    <Document> Congratulations on my own blood from another mummy. more money, peace, joy, love and happiness when you add 1 to your ... #url# </document>\\n    <document> Again, congratulations to my sister #url# </document>\\n    <document> Our July updates on cheers crawl a copy as edey hot </document>\\n    <Document> My past pains have not contributed to my future glory. </document>\\n    <document> Good morning to all of you, may you be better today than yesterday, may you be better tomorrow than today, may our rush be fruitful</document>\\n    <document> #url# best of umu udubonch vol2 akalaka #url# </document>\\n    <document> wonderful deserves wonderful miracle. Pastor mmm everywhere #url# </document>\\n    <Document> can you marry a billionaire who is Obasinjo\\'s son and HIV positive? answer as you are tonto d </document>\\n    <document> Your popularity is our top priority, Tel. 08084770119 </document>\\n    <Document> on behalf of the common man in this country, we are hopelessly lost. 132 biko haram 4gvn n reinstated in Borno state. </document>\\n    <document> d just what you should keep in mind is that at allin can happen at any time. but hustle and bustle determines your future </document>\\n    <document> aba na aba is my own state border closed to stop importing rice well that\\'s not for us in abakaliki eb\\xe2\\x80\\xa6 #url# </document>\\n    <document> I can\\'t kill myself on the fly #url# </document>\\n    <Document> The ability to run from one man to another is called Runs Girl. Prostitute is ability of ....... ? </document>\\n    <Document> President Donald Trump addresses the United Nations General Assembly. more: #url# #url# </document>\\n    <document> hot &amp; Fresh mega mix from your worst DJ, DJ Nwabakaliki, we are your street cred\\xe2\\x80\\xa6 #url# </document>\\n    <document> hellooo everyone please ignore any supposed business or anything like that sent by me. someone hacked into my \\xe2\\x80\\xa6 #url# </document>\\n    <document> you fought for me why odas fight for dey god sir you don\\'t use me to play ooo </document>\\n    <document> Your ex should never be your friend - Counselor Charlotte Oduro #url# </document>\\n    <document>lafille\\' age gracefully as you +1 2 days</document>\\n    <document> the country is broken #url# </document>\\n    <Documents> # url # na Mista Cornel\\'s is finally out \\xf0\\x9f\\xa7\\x9a\\xe2\\x80\\x8d\\xe2\\x99\\x80\\xef\\xb8\\x8f\\xf0\\x9f\\xa7\\x9b\\xe2\\x80\\x8dtoday \\xf0\\x9f\\xa7\\x9e\\xe2\\x80\\x8d Would you like URL# </Document>\\n    <document> umu udubonch vol1 Video shoot just before the start of music production directed by Century Dop Emelex </document>\\n    <document> biafra is real r. I . p our great falling heroes may 30th is a heroic date for any igbo country. We will always date\\xe2\\x80\\xa6 #url# </document>\\n    <document> If you want Nigerian men to eat or drink something, just tell them it will help them function better in bed.. chai who slap me..\\xf0\\x9f\\x98\\x9c </document>\\n    <document> Question???? if d husband has \\xe2\\x82\\xa610,000, &amp; d woman has \\xe2\\x82\\xa6 30,000. How much is in the house? Take house as constant in d house </document>\\n    <document> I wish you and me a happy father\\'s day </document>\\n    <document> If Nigerians wake up to injustice, God will wake up, but if you keep calm, if God is waiting for you to accept... #url# </document>\\n    <Document> Congratulations Brother Obinna God will always see you true no matter the situation. second surgical procedure with\\xe2\\x80\\xa6 #url# </document>\\n    <document> the man who saw the future #url# </document>\\n    <Document> Congratulations Uchechi. I celebrate with you beautiful girl #url# </document>\\n    <document> will be released on July 20th </document>\\n    <document> If you have not been hospitalized from January to now, gather here, let\\'s thank God for his grace \\xf0\\x9f\\x91\\x87 </document>\\n    <document> \\'beautiful girl\\' and \\'911\\' crooner Sean Kingston releases one of the anticipated singles entitled \\'peace of mind\\'. kiss\\xe2\\x80\\xa6 #url# </document>\\n    <document> Trust is the most expensive gift that can cost you more than \"I knew it\".\\n    <document> Lack of respect for culture #url# </document>\\n    <Document> Depression everywhere, he didn\\'t kill himself because of the lodging fee. his wife \\xe2\\x80\\xa6 #url# </document>\\n    <document> December Loading mixtape...... Call for your latest updates and video promotion. We are second to none......08084770119 </document>\\n    <Document> Dating a guy who doesn\\'t play \\xf0\\x9f\\x8e\\xb1Snooker is a blessing; dat game teaches men how to focus on many holes with a stick... </document>\\n    <Document> God bless you and give you more reason to help people. You are one in a million God will remember this year ijn amen #url# </document>\\n    <document> [audio + video] tony oneweek - \"party\" (prod. by rockyswaya) #url# </document>\\n    <Document> June to cheer. congratulations chimdire destiny onyekachi david on your first day at church we are redeemed and\\xe2\\x80\\xa6 #url# </document>\\n    <document> something good can come from babcock #url# </document>\\n    <document> I did it, you can do the same to get justice for Nigeria #url# </document><document> #url# Click here to watch a fucking fight #url# </document>\\n    <document> dave this year as usual this year u too much bro #url# </document>\\n    <document> rip algba a 344 year old tortoise popularly known as \"alagba\" in the soun of ogbomoso\\'s palace is dead :( the latest n\\xe2\\x80\\xa6 #url# </document>\\n    <document> Feast of Madness funny movie #url# </document>\\n    <document> dontom putputuone ofafrica God bless you immensely for your efforts in this matter. You are a true human rights activist #url# </document>\\n    <document> we present to you all an amazing song by asa called \\xe2\\x80\\x9cthe place to be\\xe2\\x80\\x9d. Nigeria\\'s soul diva and greatest female musician... #url# </document>\\n    <Document> Gold Mine! gold mine!! gold mine!!! Happy New Month &amp; sunday to you all. I would like to use this medium to say a big thank you... #url# </document>\\n    <document> we\\'re into shoe bz charts for new arrivals #url# </document>\\n    <document> If Nigerians wake up to injustice, God will wake up, but if you keep calm, if God is waiting for you to accept... #url# </document>\\n    <document> Ramatu may God bless you even more mom and give you strength and more wisdom as a minister ijn #url# </document>\\n    <document> Next World Music meets Kennis Music in this banging song titled \"ado bayero\" and it\\'s a vibe that oba or in him... #url# </document>\\n    <Document> Mr. Eazi comes through with the stunning song he performed at the Coachella that just ended. The song is tagged with \\xe2\\x80\\x9clet\\xe2\\x80\\xa6 #url# </document>\\xe2\\x80\\x9d.\\n    <document> Stop wasting your data monitoring people online. Start an online business and monitor your income\\xf0\\x9f\\x91\\x8c\\xe2\\x9c\\x8c </document>\\n    <document> Congratulations Prince Desmond Ananyo Prince Desmond Anayo Igboke aka Okeigbudu </document>\\n    <document> Only in Nigeria does a relationship end but sex continues\\xf0\\x9f\\x99\\x84\\xf0\\x9f\\x98\\x8f #url# </document>\\n    <document> Another feather added to Wing Zodo Music ng aka Djnwabakaliki Entertainment for Best Marketer of 2019.\\xe2\\x80\\xa6 #url# </document>\\n    <document> every adult in nigeria who saw buharis first come knows that jonathan was right. Good luck Jonathan warned Nig\\xe2\\x80\\xa6 #url# </document>\\n    <document>Never be broke and fat, it\\'s so annoying because you hustle and bustle all the time disappointing people</document>\\n    <document> another Zodo Music ng production directed by Joshua Century sound production by USB 07038892780 \\xe2\\x80\\x93 at enugu \\xe2\\x80\\x93 kohle\\xe2\\x80\\xa6 #url# </document>\\n    <Document> Have you ever observed that ladies who date respectable fathers hardly ever marry? </document>\\n    <document> Don\\'t judge a book by its cover... #url# </document>\\n    <document> pmb make this type more popular. #url# </document>\\n    <document> Some relationships can change your orientation &amp; dimension in life tiktwc! </document>\\n    <document> break every limitation in your life ijn.... #url# </document>\\n    <document> we igbo are wonderful creatures #url# </document>\\n    <document> what happens to religious leaders, God have mercy on us #url# </document>\\n    <document> American renowned rapper Russ, who raves about Afrobeat and one of Nigeria\\'s biggest music exports, Davido... #url# </document>\\n    <document> Cardi Blue Film Desecrates Our Fada Country #url# </document>', shape=(), dtype=string)\n",
            "Preprocessed:  tf.Tensor(b' >\\n      <document> in religion we call it spirits. in science we call it energy. in the streets we call it vibes. </document>\\n    <document> bringing ur face closer to your fan </document>\\n    <document> iranian hit us ship, us did not do anything, iranian hit us drone us did not do anything, iranian when as far as an\\xe2\\x80\\xa6 #url# </document>\\n    <document> you first call tomorrow been 1st of november 2019 will be a financial blessings.   our latest mixtape... grab ur copy. </document>\\n    <document> no weapon against him will execute ijn #url# </document>\\n    <document> congratulations  my sister  once again #url# </document>\\n    <document> age gratefully beautiful woman  llnp best friend #url# </document>\\n    <document> ur popularity is our greatest priority #url# </document>\\n    <document> i don\\xe2\\x80\\x99t know who needs to hear this but grow up and stop watching porn. </document>\\n    <document> gov ugwuanyi paid salary \\xf0\\x9f\\x99\\x84\\xf0\\x9f\\x99\\x84\\xf0\\x9f\\x99\\x84 i don\\'t consider salary payment an achievement </document>\\n    <document> u see those frnds dat inbox u only wen u upload fine pictures, stay away from them. </document>\\n    <document> age gratefully beautiful woman  llnp best friend </document>\\n    <document> video over make sinsi ezege but we need ur poster badly on the street of 042, to waken the vibe street alobam. mpa\\xe2\\x80\\xa6 #url# </document>\\n    <document> we are the street and street is in us </document>\\n    <document> #hashtag# is the real soldier. ebonyi guy single handedly disarms a nigerian stupid soldier..  i don\\'t care what you may\\xe2\\x80\\xa6 #url# </document>\\n    <document> can someone help and subtitle this song for me #url# </document>\\n    <document> my best nigerian president  i celebrate with you sir #url# </document>\\n    <document> never tell your family about your relationship problems because you might forgive your partner and they won\\'t.. </document>\\n    <document> wwe africa full match of rey mysterio vs kane is out now 2019 latest wwe africa trending video #url# </document>\\n    <document> may god continue to sustain u and guide you through anything on anyway @ anytime ijn #url# </document>\\n    <document> never be in a hurry to criticize a woman who left her marriage. most of them did everything possible to save their homes. be kind! </document>\\n    <document> best epic song of the season #url# </document>\\n    <document> stop dating broke girls . i know many girls and ladies gonna be angry with this post but try learn more about it .\\xe2\\x80\\xa6 #url# </document>\\n    <document> bia  rie  ji \\xf0\\x9f\\xa4\\xa3\\xf0\\x9f\\xa4\\xa3\\xf0\\x9f\\xa4\\xa3 \\xe2\\x80\\x94 at enugu - coal city. #url# </document>\\n    <document> the army and the police put up an impressive professionalism in this encounter.  kudos to them. more respect to d g\\xe2\\x80\\xa6 #url# </document>\\n    <document> happy birthday papilo age gratefully aka shoemaker </document>\\n    <document> july updates.... crab a copy as edey hot </document>\\n    <document> a man of his word #url# </document>\\n    <document> happy birthday to my own blood from another mummy.   more money,  peace,  joy, love and happiness as ur add 1 to ur\\xe2\\x80\\xa6 #url# </document>\\n    <document> congratulations  my sister  once again #url# </document>\\n    <document> ur july updates on jubilation  crab a copy as edey hot </document>\\n    <document> my past pains has notin 2 contribute 2 my future glory. </document>\\n    <document> good morning to u all may ur today be better than yesterday  may ur tomorrow be better than today  may our hustle be fruitful </document>\\n    <document> #url# best of umu udubonch vol2  akalaka #url# </document>\\n    <document> wonderful deserve wonderful miracle.  pastor mmm everywhere #url# </document>\\n    <document> can you marry a billionaire who is obasinjo son and  hiv positve? answer as u are tonto d </document>\\n    <document> ur popularity is our greatest priority  tel 08084770119 </document>\\n    <document> on behalf of d common man in dis country,  we are hopelessly lost. 132 biko haram 4gvn n reinstated in borno state. </document>\\n    <document> d only tin u should hv at d back of mind is dat anytin can happen at anytime.  but hustle and bustle  defines  ur future </document>\\n    <document> aba na aba is my own state  border is closed to stop importation of rice, well, that\\'s not for us in  abakaliki, eb\\xe2\\x80\\xa6 #url# </document>\\n    <document> ican\\'t kill myself chulo way #url# </document>\\n    <document> ability of running from one man to another is called runs girl.  prostitute is ability of .......  ? </document>\\n    <document> president donald trump delivers an address to the united nations general assembly.  more: #url# #url# </document>\\n    <document> hot &amp; fresh  mega mix from ur  baddest dj                     dj nwabakaliki               we are ur street credibi\\xe2\\x80\\xa6 #url# </document>\\n    <document> hellooo everyone please, disregard any purported business or any of its kind sent to by me. someone hacked into my\\xe2\\x80\\xa6 #url# </document>\\n    <document> u fought for me  why odas fight for dey god  my lord, u no dey use me play ooo </document>\\n    <document> your ex should never be your friend -counsellor charlotte oduro #url# </document>\\n    <document> lafille\\' age gracefully as u are +1 2day </document>\\n    <document> the country is messed up #url# </document>\\n    <document> #url# na dem by mista cornel is finally out \\xf0\\x9f\\xa7\\x9a\\xe2\\x80\\x8d\\xe2\\x99\\x80\\xef\\xb8\\x8f\\xf0\\x9f\\xa7\\x9b\\xe2\\x80\\x8d\\xe2\\x99\\x82\\xef\\xb8\\x8f\\xf0\\x9f\\xa7\\x9e\\xe2\\x80\\x8d\\xe2\\x99\\x82\\xef\\xb8\\x8f\\xf0\\x9f\\xa7\\x9e\\xe2\\x80\\x8d\\xe2\\x99\\x80\\xef\\xb8\\x8f\\xf0\\x9f\\xa7\\x9f\\xe2\\x80\\x8d\\xe2\\x99\\x82\\xef\\xb8\\x8f\\xf0\\x9f\\xa4\\xb6\\xf0\\x9f\\xa4\\xb6\\xf0\\x9f\\xa7\\x99\\xe2\\x80\\x8d\\xe2\\x99\\x82\\xef\\xb8\\x8f\\xf0\\x9f\\x99\\x8d\\xe2\\x80\\x8d\\xe2\\x99\\x82\\xef\\xb8\\x8f\\xf0\\x9f\\x99\\x86\\xe2\\x80\\x8d\\xe2\\x99\\x82\\xef\\xb8\\x8f\\xf0\\x9f\\x99\\x85\\xe2\\x80\\x8d\\xe2\\x99\\x80\\xef\\xb8\\x8f\\xf0\\x9f\\x99\\x8e\\xe2\\x80\\x8d\\xe2\\x99\\x80\\xef\\xb8\\x8f\\xf0\\x9f\\x99\\x8d\\xe2\\x80\\x8d\\xe2\\x99\\x80\\xef\\xb8\\x8f #url# </document>\\n    <document> umu udubonch vol1 video shooting about to starting  ihe n\\' eme agu na isi zodo music ng production  directed by century  dop emelex </document>\\n    <document> biafra is real  r. i . p our great falling heroes  30th may is a heroic  date to every igbo land. date we will alwa\\xe2\\x80\\xa6 #url# </document>\\n    <document> if you want nigerian men to eat or drink anything, just tell them it will help them perform better in bed.. chai who slap me..\\xf0\\x9f\\x98\\x9c </document>\\n    <document> question????  if d husband have \\xe2\\x82\\xa610,000, &amp; d wife have \\xe2\\x82\\xa630,000. how much is in d house? taking house as a constant in d house </document>\\n    <document> happy fathers day to me and my veryself </document>\\n    <document> when nigerian wake up against injustice, god will wake up, but when you stay calm when god is waiting for you to ac\\xe2\\x80\\xa6 #url# </document>\\n    <document> congratulations  brother obinna god will always see u tru,  no matter the situation.  second surgical operation wit\\xe2\\x80\\xa6 #url# </document>\\n    <document> the man that saw future #url# </document>\\n    <document> congratulations  uchechi.  i celebrate with you wonderful girl #url# </document>\\n    <document> to be out on 20th july </document>\\n    <document> if you haven\\'t been admitted in the hospital from january till now,   gather here, let\\'s  thank god for his grace \\xf0\\x9f\\x91\\x87 </document>\\n    <document> \\xe2\\x80\\x98beautiful girl\\xe2\\x80\\x98 and \\xe2\\x80\\x98911\\xe2\\x80\\x98 crooner sean kingston releases one of the anticipated single titled \\xe2\\x80\\x9cpeace of mind\\xe2\\x80\\x9c. kis\\xe2\\x80\\xa6 #url# </document>\\n    <document> trust is the most expensive gift it can cost u more than \"had i know \" be mindful who u will risk it to o o \\xe2\\x80\\x94 feeli\\xe2\\x80\\xa6 #url# </document>\\n    <document> lack of respect to culture #url# </document>\\n    <document> depression everywhere  he didn\\'t kill himself cos of accommodation fee let\\'s get fact before re posting.  his weddi\\xe2\\x80\\xa6 #url# </document>\\n    <document> december mixtape loading....... call for ur latest updates and video promotion  we are 2nd to none......08084770119 </document>\\n    <document> dating a man who doesn\\'t play \\xf0\\x9f\\x8e\\xb1snooker is a blessing; dat game teaches men how to focus on plenty holes using  one stick... </document>\\n    <document> god bless you and give u more reason to help people.  you are one in a million god will remember this year ijn amen #url# </document>\\n    <document> [audio + video] tony oneweek \\xe2\\x80\\x93 \\xe2\\x80\\x9cparty\\xe2\\x80\\x9d (prod. by rockyswaya) #url# </document>\\n    <document> june for jubilation.  congratulations  chimdire destiny onyekachi david on ur 1st day in church  we are redeemits u\\xe2\\x80\\xa6 #url# </document>\\n    <document> can any good come out of babcock #url# </document>\\n    <document> i have done it  you too can do same to get justice for nigeria #url# </document>\\n    <document> #url# click here to watch a fucking fight #url# </document>\\n    <document> dave this year  na ur year as usual u too much bro #url# </document>\\n    <document> rip algba a 344years old tortoise popularly known as \"alagba\" at soun of ogbomoso\\'s palace is dead :( the latest ne\\xe2\\x80\\xa6 #url# </document>\\n    <document> festival of madness  funny movie #url# </document>\\n    <document> dontom putputuone ofafrica god bless you immensely for your effort on this issue.  u are true human rights activist #url# </document>\\n    <document> we present to y\\xe2\\x80\\x99all a smashing song by asa titled \\xe2\\x80\\x9cthe place to be\\xe2\\x80\\x9d. nigeria\\xe2\\x80\\x99s soul diva and biggest female music e\\xe2\\x80\\xa6 #url# </document>\\n    <document> bonanza! bonanza!! bonanza!!! happy new month &amp; sunday to you all. i want to use this medium  to say  big thank u s\\xe2\\x80\\xa6 #url# </document>\\n    <document> we are into shoe bz chart me up for newest arrivals #url# </document>\\n    <document> when nigerian wake up against injustice, god will wake up, but when you stay calm when god is waiting for you to ac\\xe2\\x80\\xa6 #url# </document>\\n    <document> ramatu may god bless you more mama and give u strength and more wisdom as a minister  ijn #url# </document>\\n    <document> next world music meets with kennis music on this banging tune titled \\xe2\\x80\\x9cado bayero\\xe2\\x80\\x9d and it\\xe2\\x80\\x99s a vibe, the oba orin him\\xe2\\x80\\xa6 #url# </document>\\n    <document> mr eazi comes through with the smashing song he performed at the just concluded coachella. the song is tagged \\xe2\\x80\\x9clet\\xe2\\x80\\xa6 #url# </document>\\n    <document> stop wasting your data monitoring people online.  start an online business and monitor your income\\xf0\\x9f\\x91\\x8c\\xe2\\x9c\\x8c </document>\\n    <document> congratulations  prince desmond ananyo prince desmond anayo igboke aka okeigbudu </document>\\n    <document> it\\'s only in nigeria that a relationship ends but the sex continues\\xf0\\x9f\\x99\\x84\\xf0\\x9f\\x98\\x8f #url# </document>\\n    <document> another feather added to wing  zodo music ng aka djnwabakaliki entertainment as the best marketer of the year 2019.\\xe2\\x80\\xa6 #url# </document>\\n    <document> any adult in nigeria who witnessed buharis first coming knows that jonathan was right. goodluck jonathan warned nig\\xe2\\x80\\xa6 #url# </document>\\n    <document> don\\'t ever be broke and fat, it\\'s so annoying cause you keep disappointing people hustle and bustle nwanne </document>\\n    <document> another zodo music ng production  directed by joshua century  sound production by usb 07038892780 \\xe2\\x80\\x94 at enugu - coal\\xe2\\x80\\xa6 #url# </document>\\n    <document> have you ever observed that ladies that date reverend fathers hardly get married? </document>\\n    <document> don\\'t judge a book by its cover... #url# </document>\\n    <document> pmb make this guy more popular. #url# </document>\\n    <document> some relationship  can change your orientation &amp; dimension in life   tiktwc! </document>\\n    <document> every limitation in ur life break ijn.... #url# </document>\\n    <document> we igbo are wonderful  creature #url# </document>\\n    <document> what is happening to religious leaders  god have mercy on us #url# </document>\\n    <document> american renowned rapper russ who has been raving about afrobeat and one of nigeria\\xe2\\x80\\x99s biggest music export, davido\\xe2\\x80\\xa6 #url# </document>\\n    <document> cardi blue film desecrated our fada land #url# </document>\\n   \\n>\\n      <document> in religion we call it spirits. in science we call it energy. in the streets we call it vibes. </document>\\n    <document> bringing your face closer to your fan </document>\\n    <document> the Iranian hit our ship, we did nothing, the Iranian hit our drone we did nothing, the Iranian when regarding a\\xe2\\x80\\xa6 #url# </document>\\n    <document> your first call tomorrow November 1, 2019 will be a financial blessing. our latest mixtape... grab your copy. </document>\\n    <document> no weapon against him will execute ijn #url# </document>\\n    <document> Congratulations again to my sister #url# </document>\\n    <document> age gratefully beautiful woman llnp best friend #url# </document>\\n    <document> Our popularity is our top priority #url# </document>\\n    <document> I don\\'t know who needs to hear this, but grow up and stop watching porn. </document>\\n    <document> gov ugwuanyi paid salary \\xf0\\x9f\\x99\\x84\\xf0\\x9f\\x99\\x84\\xf0\\x9f\\x99\\x84 i don\\'t consider paying salary an achievement </document>\\n    <document> you only see those friends in your inbox when you upload good photos, stay away from them. </document>\\n    <document> age with gratitude beautiful woman llnp best friend </document>\\n    <document> video over make sinsi ezege but we really need your poster on 042 street, to awaken street alobam atmosphere. mpa\\xe2\\x80\\xa6 #url# </document>\\n    <document> we are the road and the road is in us </document>\\n    <document> #hashtag# is the real soldier. ebony guy self disarms stupid nigerian soldier... i don\\'t care what you might... #url# </document>\\n    <document> can someone help me and subtitle this song for me #url# </document>\\n    <document> my best nigerian president i celebrate with you sir #url# </document>\\n    <document>Never tell your family about your relationship problems because you may forgive your partner and they won\\'t.. </document>\\n    <document> wwe africa full match of rey mysterio vs kane is now out 2019 latest trending video wwe africa #url# </document>\\n    <document> may god continue to support and guide you through anything anyway @ anytime ijn #url# </document>\\n    <document> never be in a hurry to criticize a woman who has left her marriage. most of them did everything they could to save their homes. be gentle! </document>\\n    <document> best epic song of the season #url# </document>\\n    <document> stop dating broke girls . i know many girls and women will be upset by this post but try to find out more.\\xe2\\x80\\xa6 #url# </document>\\n    <document> bia rie ji \\xf0\\x9f\\xa4\\xa3\\xf0\\x9f\\xa4\\xa3\\xf0\\x9f\\xa4\\xa3 \\xe2\\x80\\x94 at enugu - coal city. #url# </document>\\n    <document> the army and the police showed impressive professionalism in this meeting. kudos to them. more respect for d g\\xe2\\x80\\xa6 #url# </document>\\n    <document> happy birthday papilo age with gratitude aka shoemaker </document>\\n    <document> July Updates.... look for a copy like edey hot </document>\\n    <document> a man of his word #url# </document>\\n    <document> happy birthday to my own blood from another mummy. more money, peace, joy, love and happiness as you add 1 to ur... #url# </document>\\n    <document> Congratulations again to my sister #url# </document>\\n    <document> your jubilation jubilation updates look for a copy like edey hot </document>\\n    <document> my past sorrows have not contributed 2 to my future glory. </document>\\n    <document> good morning all of you may your today be better than yesterday may your tomorrow be better than today may our hustle and bustle be fruitful </document>\\n    <document> #url# better than umu udubonch vol2 akalaka #url# </document>\\n    Wonderful <document> deserves wonderful miracle. pastor mmm everywhere #url# </document>\\n    <document> can you marry a billionaire who is obasinjo and HIV positive child? answer like you\\'re dumb d </document>\\n    <document> your popularity is our top priority tel 08084770119 </document>\\n    <document> on behalf of a common man in this country, we are hopelessly lost. 132 biko haram 4gvn n reinstated in Borno state. </document>\\n    <document> d solo tin u should hv at d back of mind is dat anytin can happen at any time. but hustle defines your future</document>\\n    <document> aba na aba is my state border is closed to stop importing rice, well that\\'s not for us in abakaliki, eb\\xe2\\x80\\xa6 #url# </document>\\n    <document> can\\'t kill myself big time #url# </document>\\n    <document> the ability to run from one man to another is called run girl. prostitute is ability to ....... ? </document>\\n    <document> President Donald Trump addresses the United Nations General Assembly. other: #url# #url# </document>\\n    <document> hot &amp; fresh mega mix from your baddest dj dj nwabakaliki we are your street believable\\xe2\\x80\\xa6 #url# </document>\\n    <document> hello all, please ignore any alleged commercial or similar activity sent by me. someone broke into my\\xe2\\x80\\xa6 #url# </document>\\n    <document> did you fight for me because odas fight for their god my lord you don\\'t use me to play ooo </document>\\n    <document> your ex should never be your friend -counselor charlotte oduro #url# </document>\\n    <document> lafille\\' ages as gracefully as you are +1 2 days </document>\\n    <document> country is messed up #url# </document>\\n    ; url# </document>\\n    <document> umu udubonch vol1 video shooting about to start ihe n\\' eme agu na isi zodo music ng production directed by century dop emelex </document>\\n    <document> biafra is real r. I . p our great fallen heroes May 30th is a heroic date for every Igbo land. data we will always\\xe2\\x80\\xa6 #url# </document>\\n    <document>if you want Nigerian men to eat or drink something just tell them it will help them behave better in bed.. chai slapping me..\\xf0\\x9f\\x98\\x9c </document>\\n    <document> question???? if d husband has \\xe2\\x82\\xa610,000, &amp; my wife has \\xe2\\x82\\xa630,000. how much does it cost at home? taking house as a constant in d house </document>\\n    <document> Happy Father\\'s Day to me and myself </document>\\n    <document> when nigerian wake up against injustice god will wake up but when you stay calm when god is waiting for you to consent\\xe2\\x80\\xa6 #url# </document>\\n    <document> congratulations brother obinna god will always see you true no matter the situation. second surgery with\\xe2\\x80\\xa6 #url# </document>\\n    <document> the man who saw the future #url# </document>\\n    <document> congratulations uchechi. celebrate with you beautiful girl #url# </document>\\n    <document> out July 20 </document>\\n    <document> if you haven\\'t been hospitalized since January to now, gather here, we thank God for his grace \\xf0\\x9f\\x91\\x87 </document>\\n    <document> Sean Kingston, crooner of \\'beautiful girl\\' and \\'911\\', releases one of the awaited singles entitled \"peace of mind\". kis\\xe2\\x80\\xa6 #url# </document>\\n    <document> Trust is the most expensive gift that can cost you more than \"if you\\'d known\" be careful who you risk it to or or \\xe2\\x80\\x94 feeli\\xe2\\x80\\xa6 #url# </document>\\n    <document> disrespect for #url# </document> culture\\n    <document> depression wherever he hasn\\'t committed suicide because of the accommodation fee, before republishing let\\'s do some clarity. his wedding\\xe2\\x80\\xa6 #url# </document>\\n    <document> December mixtape loading.......call for your latest video updates and promotions we are second to none......08084770119</document>\\n    <document> dating a man who doesn\\'t play \\xf0\\x9f\\x8e\\xb1snooker is a blessing; this game teaches men how to focus on many holes using a stick... </document>\\n    <document> God bless you and give you one more reason to help people. you are one in a million god will remember this year ijn amen #url# </document>\\n    <document> [audio + video] tony oneweek \\xe2\\x80\\x93 \\xe2\\x80\\x9cparty\\xe2\\x80\\x9d (prod. by rockyswaya) #url# </document>\\n    <document> June for jubilation. congratulations chimdire destiny onyekachi david on your first day at church we are redeemed u\\xe2\\x80\\xa6 #url# </document>\\n    <document> something good can come out of babcock #url# </document>\\n    <document> i did it you too can do the same to get justice for nigeria #url# </document><document> #url# click here to watch a fucking fight #url# </document>\\n    <document> dave this year na ur year as usual u too bro #url# </document>\\n    <document> rip algba a 344 year old tortoise popularly known as \"alagba\" after ogbomoso palace is dead :( last ne\\xe2\\x80\\xa6 #url# </document>\\n    <document> festival of madness funny movie #url# </document>\\n    <document> dontom puttuone ofafrica god bless you immensely for your efforts on this issue. you are a true human rights activist #url# </document>\\n    <document> we present you a great song by asa called \"the place to be\". nigeria\\'s soul diva and greatest female e-musician\\xe2\\x80\\xa6 #url# </document>\\n    <document> good luck! bonanza!! bonanza!!! happy new month &amp; Sunday to you all. I want to use this medium to thank us very much... #url# </document>\\n    <document> we like bz shoes, track me the latest arrivals #url# </document>\\n    <document> when nigerian wake up against injustice god will wake up but when you stay calm when god is waiting for you to consent\\xe2\\x80\\xa6 #url# </document>\\n    <document> ramatu God bless you again mom and give you strength and more wisdom as a minister ijn #url# </document>\\n    <document> The next world music meets Kennis\\' music in this smashing track titled \"ado bayero\" and it\\'s a vibe, the oba or in him... #url# </document>\\n    <document> mr eazi comes with the amazing song he performed at the coachella just concluded. the song is tagged \\xe2\\x80\\x9clet\\xe2\\x80\\xa6 #url# </document>\\n    <document> stop wasting your data tracking people online. start an online business and track your income\\xf0\\x9f\\x91\\x8c\\xe2\\x9c\\x8c </document>\\n    <document> congratulations prince desmond anayo prince desmond anayo igboke aka okeigbudu </document>\\n    <document> it\\'s only in nigeria that a relationship ends but the sex continues\\xf0\\x9f\\x99\\x84\\xf0\\x9f\\x98\\x8f #url# </document>\\n    <document> another feather added to wing zodo music ng aka djnwabakaliki entertainment as best marketer of the year 2019.\\xe2\\x80\\xa6 #url# </document>\\n    <document> any adult in Nigeria who witnessed Buhari\\'s first arrival knows that Jonathan was right. goodluck jonathan warned nig\\xe2\\x80\\xa6 #url# </document>\\n    <document> never be fat and broke it\\'s so annoying why you keep letting people down hustle nwanne </document>\\n    <document> another zodo music ng production directed by joshua century sound production by usb 07038892780 \\xe2\\x80\\x94 at enugu - coal\\xe2\\x80\\xa6 #url# </document>\\n    <document> have you ever noticed that women who date reverend fathers hardly get married? </document>\\n    <document> don\\'t judge a book by its cover... #url# </document>\\n    <document> pmb make this guy more popular. #url# </document>\\n    <document> some relationships can change your orientation &amp; size in life tiktwc! </document>\\n    <document> any limitation in your life break ijn.... #url# </document>\\n    <document> we Igbo are wonderful creatures #url# </document>\\n    <document> what is happening to religious leaders God have mercy on us #url# </document>\\n    <document> the famous american rapper russ who was enthusiastic about afrobeat and one of the biggest music exporter of nigeria, david... #url# </document>\\n    <document> the movie cardi blue desecrated our land fada #url# </document>>\\n      <document> in religion we call it spirits. in science we call it energy. in the streets we call it vibes. </document>\\n    <document> brings your face closer to your fan</document>\\n    <document> Iranian hit us ship we did nothing Iranian hit us drone we did nothing Iranian except up to a\\xe2\\x80\\xa6 #url# </document>\\n    <document> You are calling for the first time tomorrow November 1, 2019 and will be a financial blessing. our latest mixtape... grab your copy. </document>\\n    <document> no weapon against him will execute ijn #url# </document>\\n    <document> Again, congratulations to my sister #url# </document>\\n    <document> old grateful beautiful woman llnp best friend #url# </document>\\n    <document> Your popularity is our top priority #url# </document>\\n    <document> I don\\'t know who needs to hear this, but grow up and stop watching porn. </document>\\n    <document> gov ugwuanyi paid salary \\xf0\\x9f\\x99\\x84\\xf0\\x9f\\x99\\x84\\xf0\\x9f\\x99\\x84 I do not consider salary payments as a benefit </document>\\n    <document> You will only see these friends in their inbox if you upload nice pictures, stay away from them. </document>\\n    <document> old grateful beautiful woman llnp best friend </document>\\n    <document> video over make sinsi ezege but we need your poster not on the street of 042, to awaken the vibe street alobam. mpa\\xe2\\x80\\xa6 #url# </document>\\n    <document> we are the road and the road is within us </document>\\n    <document> #hashtag# is the real soldier. Ebony guy singlehandedly disarms a stupid Nigerian soldier\\n    <document> can someone help me and subtitle this song #url# </document>\\n    <document> My best Nigerian President, I celebrate with you Sir #url# </document>\\n    <document> never tell your family about your relationship problems because you might be able to forgive your partner and they won\\'t.. </document>\\n    <document> wwe africa full match of rey mysterio vs kane is out now 2019 latest wwe africa trending video #url# </document>\\n    <document> may God continue to support you and guide you through everything that is definitely @ anytime ijn #url# </document>\\n    <document> is never in a hurry to criticize a woman who has left her marriage. Most of them did everything to save their homes. be friendly! </document>\\n    <document> best epic song of the season #url# </document>\\n    <document> stop dating broke girls. I know many girls and ladies will be upset by this post but try to learn more about it... #url# </document>\\n    <document> bia rie ji \\xf0\\x9f\\xa4\\xa3\\xf0\\x9f\\xa4\\xa3\\xf0\\x9f\\xa4\\xa3 \\xe2\\x80\\x94 at enugu - coal town. #url# </document>\\n    <document> The army and police showed impressive professionalism in this encounter. kudos to her. more respect for d g\\xe2\\x80\\xa6 #url# </document>\\n    <document> happy birthday papilo old man grateful alias shoemaker </document>\\n    <document>July updates....crawl a copy as edey hot</document>\\n    <document> a man of his word #url# </document>\\n    <document> Congratulations on my own blood from another mummy. more money, peace, joy, love and happiness when you add 1 to your ... #url# </document>\\n    <document> Again, congratulations to my sister #url# </document>\\n    <document> Our July updates on cheers crawl a copy as edey hot </document>\\n    <document> My past pains have not contributed to my future glory. </document>\\n    <document> Good morning to all of you, may you be better today than yesterday, may you be better tomorrow than today, may our rush be fruitful</document>\\n    <document> #url# best of umu udubonch vol2 akalaka #url# </document>\\n    <document> wonderful deserves wonderful miracle. Pastor mmm everywhere #url# </document>\\n    <document> can you marry a billionaire who is Obasinjo\\'s son and HIV positive? answer as you are tonto d </document>\\n    <document> Your popularity is our top priority, Tel. 08084770119 </document>\\n    <document> on behalf of the common man in this country, we are hopelessly lost. 132 biko haram 4gvn n reinstated in Borno state. </document>\\n    <document> d just what you should keep in mind is that at allin can happen at any time. but hustle and bustle determines your future </document>\\n    <document> aba na aba is my own state border closed to stop importing rice well that\\'s not for us in abakaliki eb\\xe2\\x80\\xa6 #url# </document>\\n    <document> I can\\'t kill myself on the fly #url# </document>\\n    <document> The ability to run from one man to another is called Runs Girl. Prostitute is ability of ....... ? </document>\\n    <document> President Donald Trump addresses the United Nations General Assembly. more: #url# #url# </document>\\n    <document> hot &amp; Fresh mega mix from your worst DJ, DJ Nwabakaliki, we are your street cred\\xe2\\x80\\xa6 #url# </document>\\n    <document> hellooo everyone please ignore any supposed business or anything like that sent by me. someone hacked into my \\xe2\\x80\\xa6 #url# </document>\\n    <document> you fought for me why odas fight for dey god sir you don\\'t use me to play ooo </document>\\n    <document> Your ex should never be your friend - Counselor Charlotte Oduro #url# </document>\\n    <document>lafille\\' age gracefully as you +1 2 days</document>\\n    <document> the country is broken #url# </document>\\n    <Documents> # url # na Mista Cornel\\'s is finally out \\xf0\\x9f\\xa7\\x9a\\xe2\\x80\\x8d\\xe2\\x99\\x80\\xef\\xb8\\x8f\\xf0\\x9f\\xa7\\x9b\\xe2\\x80\\x8dtoday \\xf0\\x9f\\xa7\\x9e\\xe2\\x80\\x8d Would you like URL# </document>\\n    <document> umu udubonch vol1 Video shoot just before the start of music production directed by Century Dop Emelex </document>\\n    <document> biafra is real r. I . p our great falling heroes may 30th is a heroic date for any igbo country. We will always date\\xe2\\x80\\xa6 #url# </document>\\n    <document> If you want Nigerian men to eat or drink something, just tell them it will help them function better in bed.. chai who slap me..\\xf0\\x9f\\x98\\x9c </document>\\n    <document> Question???? if d husband has \\xe2\\x82\\xa610,000, &amp; d woman has \\xe2\\x82\\xa6 30,000. How much is in the house? Take house as constant in d house </document>\\n    <document> I wish you and me a happy father\\'s day </document>\\n    <document> If Nigerians wake up to injustice, God will wake up, but if you keep calm, if God is waiting for you to accept... #url# </document>\\n    <document> Congratulations Brother Obinna God will always see you true no matter the situation. second surgical procedure with\\xe2\\x80\\xa6 #url# </document>\\n    <document> the man who saw the future #url# </document>\\n    <document> Congratulations Uchechi. I celebrate with you beautiful girl #url# </document>\\n    <document> will be released on July 20th </document>\\n    <document> If you have not been hospitalized from January to now, gather here, let\\'s thank God for his grace \\xf0\\x9f\\x91\\x87 </document>\\n    <document> \\'beautiful girl\\' and \\'911\\' crooner Sean Kingston releases one of the anticipated singles entitled \\'peace of mind\\'. kiss\\xe2\\x80\\xa6 #url# </document>\\n    <document> Trust is the most expensive gift that can cost you more than \"I knew it\".\\n    <document> Lack of respect for culture #url# </document>\\n    <document> Depression everywhere, he didn\\'t kill himself because of the lodging fee. his wife \\xe2\\x80\\xa6 #url# </document>\\n    <document> December Loading mixtape...... Call for your latest updates and video promotion. We are second to none......08084770119 </document>\\n    <document> Dating a guy who doesn\\'t play \\xf0\\x9f\\x8e\\xb1Snooker is a blessing; dat game teaches men how to focus on many holes with a stick... </document>\\n    <document> God bless you and give you more reason to help people. You are one in a million God will remember this year ijn amen #url# </document>\\n    <document> [audio + video] tony oneweek - \"party\" (prod. by rockyswaya) #url# </document>\\n    <document> June to cheer. congratulations chimdire destiny onyekachi david on your first day at church we are redeemed and\\xe2\\x80\\xa6 #url# </document>\\n    <document> something good can come from babcock #url# </document>\\n    <document> I did it, you can do the same to get justice for Nigeria #url# </document><document> #url# Click here to watch a fucking fight #url# </document>\\n    <document> dave this year as usual this year u too much bro #url# </document>\\n    <document> rip algba a 344 year old tortoise popularly known as \"alagba\" in the soun of ogbomoso\\'s palace is dead :( the latest n\\xe2\\x80\\xa6 #url# </document>\\n    <document> Feast of Madness funny movie #url# </document>\\n    <document> dontom putputuone ofafrica God bless you immensely for your efforts in this matter. You are a true human rights activist #url# </document>\\n    <document> we present to you all an amazing song by asa called \\xe2\\x80\\x9cthe place to be\\xe2\\x80\\x9d. Nigeria\\'s soul diva and greatest female musician... #url# </document>\\n    <document> Gold Mine! gold mine!! gold mine!!! Happy New Month &amp; sunday to you all. I would like to use this medium to say a big thank you... #url# </document>\\n    <document> we\\'re into shoe bz charts for new arrivals #url# </document>\\n    <document> If Nigerians wake up to injustice, God will wake up, but if you keep calm, if God is waiting for you to accept... #url# </document>\\n    <document> Ramatu may God bless you even more mom and give you strength and more wisdom as a minister ijn #url# </document>\\n    <document> Next World Music meets Kennis Music in this banging song titled \"ado bayero\" and it\\'s a vibe that oba or in him... #url# </document>\\n    <document> Mr. Eazi comes through with the stunning song he performed at the Coachella that just ended. The song is tagged with \\xe2\\x80\\x9clet\\xe2\\x80\\xa6 #url# </document>\\xe2\\x80\\x9d.\\n    <document> Stop wasting your data monitoring people online. Start an online business and monitor your income\\xf0\\x9f\\x91\\x8c\\xe2\\x9c\\x8c </document>\\n    <document> Congratulations Prince Desmond Ananyo Prince Desmond Anayo Igboke aka Okeigbudu </document>\\n    <document> Only in Nigeria does a relationship end but sex continues\\xf0\\x9f\\x99\\x84\\xf0\\x9f\\x98\\x8f #url# </document>\\n    <document> Another feather added to Wing Zodo Music ng aka Djnwabakaliki Entertainment for Best Marketer of 2019.\\xe2\\x80\\xa6 #url# </document>\\n    <document> every adult in nigeria who saw buharis first come knows that jonathan was right. Good luck Jonathan warned Nig\\xe2\\x80\\xa6 #url# </document>\\n    <document>Never be broke and fat, it\\'s so annoying because you hustle and bustle all the time disappointing people</document>\\n    <document> another Zodo Music ng production directed by Joshua Century sound production by USB 07038892780 \\xe2\\x80\\x93 at enugu \\xe2\\x80\\x93 kohle\\xe2\\x80\\xa6 #url# </document>\\n    <document> Have you ever observed that ladies who date respectable fathers hardly ever marry? </document>\\n    <document> Don\\'t judge a book by its cover... #url# </document>\\n    <document> pmb make this type more popular. #url# </document>\\n    <document> Some relationships can change your orientation &amp; dimension in life tiktwc! </document>\\n    <document> break every limitation in your life ijn.... #url# </document>\\n    <document> we igbo are wonderful creatures #url# </document>\\n    <document> what happens to religious leaders, God have mercy on us #url# </document>\\n    <document> American renowned rapper Russ, who raves about Afrobeat and one of Nigeria\\'s biggest music exports, Davido... #url# </document>\\n    <document> Cardi Blue Film Desecrates Our Fada Country #url# </document>', shape=(), dtype=string)\n"
          ]
        },
        {
          "output_type": "stream",
          "name": "stderr",
          "text": [
            "Some weights of the model checkpoint at roberta-base were not used when initializing RobertaForSequenceClassification: ['lm_head.bias', 'roberta.pooler.dense.bias', 'lm_head.layer_norm.bias', 'lm_head.decoder.weight', 'lm_head.dense.weight', 'roberta.pooler.dense.weight', 'lm_head.layer_norm.weight', 'lm_head.dense.bias']\n",
            "- This IS expected if you are initializing RobertaForSequenceClassification from the checkpoint of a model trained on another task or with another architecture (e.g. initializing a BertForSequenceClassification model from a BertForPreTraining model).\n",
            "- This IS NOT expected if you are initializing RobertaForSequenceClassification from the checkpoint of a model that you expect to be exactly identical (initializing a BertForSequenceClassification model from a BertForSequenceClassification model).\n",
            "Some weights of RobertaForSequenceClassification were not initialized from the model checkpoint at roberta-base and are newly initialized: ['classifier.out_proj.weight', 'classifier.out_proj.bias', 'classifier.dense.weight', 'classifier.dense.bias']\n",
            "You should probably TRAIN this model on a down-stream task to be able to use it for predictions and inference.\n"
          ]
        },
        {
          "output_type": "stream",
          "name": "stdout",
          "text": [
            "\n",
            "\n",
            "* * * * EVALUATION USING AS PREPROCESSING FUNCTION * * * *\n"
          ]
        },
        {
          "output_type": "stream",
          "name": "stderr",
          "text": [
            "Some weights of the model checkpoint at roberta-base were not used when initializing RobertaForSequenceClassification: ['lm_head.bias', 'roberta.pooler.dense.bias', 'lm_head.layer_norm.bias', 'lm_head.decoder.weight', 'lm_head.dense.weight', 'roberta.pooler.dense.weight', 'lm_head.layer_norm.weight', 'lm_head.dense.bias']\n",
            "- This IS expected if you are initializing RobertaForSequenceClassification from the checkpoint of a model trained on another task or with another architecture (e.g. initializing a BertForSequenceClassification model from a BertForPreTraining model).\n",
            "- This IS NOT expected if you are initializing RobertaForSequenceClassification from the checkpoint of a model that you expect to be exactly identical (initializing a BertForSequenceClassification model from a BertForSequenceClassification model).\n",
            "Some weights of RobertaForSequenceClassification were not initialized from the model checkpoint at roberta-base and are newly initialized: ['classifier.out_proj.weight', 'classifier.out_proj.bias', 'classifier.dense.weight', 'classifier.dense.bias']\n",
            "You should probably TRAIN this model on a down-stream task to be able to use it for predictions and inference.\n",
            "C:\\Users\\Domenico\\.conda\\envs\\tf\\lib\\site-packages\\simpletransformers\\classification\\classification_model.py:612: UserWarning: Dataframe headers not specified. Falling back to using column 0 as text and column 1 as labels.\n",
            "  warnings.warn(\n"
          ]
        },
        {
          "output_type": "stream",
          "name": "stdout",
          "text": [
            "\n",
            "EPOCH NUMBER:  0\n",
            "\n",
            "NOW TRAIN THE MODEL.\n"
          ]
        },
        {
          "output_type": "stream",
          "name": "stderr",
          "text": [
            "  0%|▎                                                                                 | 1/300 [00:07<36:47,  7.38s/it]\n",
            "Epoch 1 of 1:   0%|                                                                              | 0/1 [00:00<?, ?it/s]\n",
            "Running Epoch 0 of 1:   0%|                                                                     | 0/38 [00:00<?, ?it/s]\u001b[A\n",
            "Running Epoch 0 of 1:   3%|█▌                                                           | 1/38 [00:02<01:33,  2.54s/it]\u001b[A\n",
            "Running Epoch 0 of 1:   5%|███▏                                                         | 2/38 [00:04<01:26,  2.41s/it]\u001b[A\n",
            "Running Epoch 0 of 1:   8%|████▊                                                        | 3/38 [00:07<01:23,  2.38s/it]\u001b[A\n",
            "Running Epoch 0 of 1:  11%|██████▍                                                      | 4/38 [00:09<01:21,  2.38s/it]\u001b[A\n",
            "Running Epoch 0 of 1:  13%|████████                                                     | 5/38 [00:11<01:17,  2.36s/it]\u001b[A\n",
            "Running Epoch 0 of 1:  16%|█████████▋                                                   | 6/38 [00:14<01:15,  2.37s/it]\u001b[A\n",
            "Running Epoch 0 of 1:  18%|███████████▏                                                 | 7/38 [00:16<01:13,  2.37s/it]\u001b[A\n",
            "Running Epoch 0 of 1:  21%|████████████▊                                                | 8/38 [00:18<01:10,  2.36s/it]\u001b[A\n",
            "Running Epoch 0 of 1:  24%|██████████████▍                                              | 9/38 [00:21<01:08,  2.36s/it]\u001b[A\n",
            "Running Epoch 0 of 1:  26%|███████████████▊                                            | 10/38 [00:23<01:06,  2.36s/it]\u001b[A\n",
            "Running Epoch 0 of 1:  29%|█████████████████▎                                          | 11/38 [00:26<01:03,  2.34s/it]\u001b[A\n",
            "Running Epoch 0 of 1:  32%|██████████████████▉                                         | 12/38 [00:28<01:01,  2.36s/it]\u001b[A\n",
            "Running Epoch 0 of 1:  34%|████████████████████▌                                       | 13/38 [00:30<00:58,  2.34s/it]\u001b[A\n",
            "Running Epoch 0 of 1:  37%|██████████████████████                                      | 14/38 [00:33<00:55,  2.33s/it]\u001b[A\n",
            "Running Epoch 0 of 1:  39%|███████████████████████▋                                    | 15/38 [00:35<00:54,  2.35s/it]\u001b[A\n",
            "Running Epoch 0 of 1:  42%|█████████████████████████▎                                  | 16/38 [00:37<00:51,  2.36s/it]\u001b[A\n",
            "Running Epoch 0 of 1:  45%|██████████████████████████▊                                 | 17/38 [00:40<00:49,  2.35s/it]\u001b[A\n",
            "Running Epoch 0 of 1:  47%|████████████████████████████▍                               | 18/38 [00:42<00:47,  2.36s/it]\u001b[A\n",
            "Running Epoch 0 of 1:  50%|██████████████████████████████                              | 19/38 [00:44<00:44,  2.36s/it]\u001b[A\n",
            "Running Epoch 0 of 1:  53%|███████████████████████████████▌                            | 20/38 [00:47<00:42,  2.37s/it]\u001b[A\n",
            "Running Epoch 0 of 1:  55%|█████████████████████████████████▏                          | 21/38 [00:49<00:40,  2.37s/it]\u001b[A\n",
            "Running Epoch 0 of 1:  58%|██████████████████████████████████▋                         | 22/38 [00:51<00:37,  2.36s/it]\u001b[A\n",
            "Running Epoch 0 of 1:  61%|████████████████████████████████████▎                       | 23/38 [00:54<00:35,  2.39s/it]\u001b[A\n",
            "Running Epoch 0 of 1:  63%|█████████████████████████████████████▉                      | 24/38 [00:56<00:33,  2.39s/it]\u001b[A\n",
            "Running Epoch 0 of 1:  66%|███████████████████████████████████████▍                    | 25/38 [00:59<00:31,  2.40s/it]\u001b[A\n",
            "Running Epoch 0 of 1:  68%|█████████████████████████████████████████                   | 26/38 [01:01<00:29,  2.42s/it]\u001b[A\n",
            "Running Epoch 0 of 1:  71%|██████████████████████████████████████████▋                 | 27/38 [01:04<00:26,  2.42s/it]\u001b[A\n",
            "Running Epoch 0 of 1:  74%|████████████████████████████████████████████▏               | 28/38 [01:06<00:24,  2.45s/it]\u001b[A\n",
            "Running Epoch 0 of 1:  76%|█████████████████████████████████████████████▊              | 29/38 [01:09<00:21,  2.42s/it]\u001b[A\n",
            "Running Epoch 0 of 1:  79%|███████████████████████████████████████████████▎            | 30/38 [01:11<00:19,  2.43s/it]\u001b[A\n",
            "Running Epoch 0 of 1:  82%|████████████████████████████████████████████████▉           | 31/38 [01:13<00:16,  2.42s/it]\u001b[A\n",
            "Running Epoch 0 of 1:  84%|██████████████████████████████████████████████████▌         | 32/38 [01:16<00:14,  2.42s/it]\u001b[A\n",
            "Running Epoch 0 of 1:  87%|████████████████████████████████████████████████████        | 33/38 [01:18<00:12,  2.42s/it]\u001b[A\n",
            "Running Epoch 0 of 1:  89%|█████████████████████████████████████████████████████▋      | 34/38 [01:21<00:09,  2.40s/it]\u001b[A\n",
            "Running Epoch 0 of 1:  92%|███████████████████████████████████████████████████████▎    | 35/38 [01:23<00:07,  2.41s/it]\u001b[A\n",
            "Running Epoch 0 of 1:  95%|████████████████████████████████████████████████████████▊   | 36/38 [01:25<00:04,  2.40s/it]\u001b[A\n",
            "Running Epoch 0 of 1:  97%|██████████████████████████████████████████████████████████▍ | 37/38 [01:28<00:02,  2.41s/it]\u001b[A\n",
            "Running Epoch 0 of 1: 100%|████████████████████████████████████████████████████████████| 38/38 [01:29<00:00,  2.37s/it]\n",
            "Epoch 1 of 1: 100%|██████████████████████████████████████████████████████████████████████| 1/1 [01:29<00:00, 89.89s/it]\n",
            "C:\\Users\\Domenico\\.conda\\envs\\tf\\lib\\site-packages\\simpletransformers\\classification\\classification_model.py:1454: UserWarning: Dataframe headers not specified. Falling back to using column 0 as text and column 1 as labels.\n",
            "  warnings.warn(\n"
          ]
        },
        {
          "output_type": "stream",
          "name": "stdout",
          "text": [
            "\n",
            "NOW EVALUATE THE TEST DF.\n"
          ]
        },
        {
          "output_type": "stream",
          "name": "stderr",
          "text": [
            "  0%|▍                                                                                 | 1/200 [00:05<18:43,  5.65s/it]\n",
            "Running Evaluation: 100%|██████████████████████████████████████████████████████████████| 25/25 [00:15<00:00,  1.62it/s]\n",
            "C:\\Users\\Domenico\\.conda\\envs\\tf\\lib\\site-packages\\simpletransformers\\classification\\classification_model.py:612: UserWarning: Dataframe headers not specified. Falling back to using column 0 as text and column 1 as labels.\n",
            "  warnings.warn(\n"
          ]
        },
        {
          "output_type": "stream",
          "name": "stdout",
          "text": [
            "{'mcc': 0.1032438728252547, 'tp': 79, 'tn': 30, 'fp': 70, 'fn': 21, 'auroc': 0.5939000000000001, 'auprc': 0.6054372771838096, 'eval_loss': 0.6887132263183594}\n",
            "Correct predictions are:  109\n",
            "Total predictions are:  200\n",
            "Accuracy on test set is: 0.545 \n",
            "\n",
            "\n",
            "\n",
            "EPOCH NUMBER:  1\n",
            "\n",
            "NOW TRAIN THE MODEL.\n"
          ]
        },
        {
          "output_type": "stream",
          "name": "stderr",
          "text": [
            "  0%|▎                                                                                 | 1/300 [00:07<36:40,  7.36s/it]\n",
            "Epoch 1 of 1:   0%|                                                                              | 0/1 [00:00<?, ?it/s]\n",
            "Running Epoch 0 of 1:   0%|                                                                     | 0/38 [00:00<?, ?it/s]\u001b[A\n",
            "Running Epoch 0 of 1:   3%|█▌                                                           | 1/38 [00:02<01:31,  2.47s/it]\u001b[A\n",
            "Running Epoch 0 of 1:   5%|███▏                                                         | 2/38 [00:04<01:27,  2.43s/it]\u001b[A\n",
            "Running Epoch 0 of 1:   8%|████▊                                                        | 3/38 [00:07<01:24,  2.42s/it]\u001b[A\n",
            "Running Epoch 0 of 1:  11%|██████▍                                                      | 4/38 [00:09<01:22,  2.43s/it]\u001b[A\n",
            "Running Epoch 0 of 1:  13%|████████                                                     | 5/38 [00:12<01:19,  2.41s/it]\u001b[A\n",
            "Running Epoch 0 of 1:  16%|█████████▋                                                   | 6/38 [00:14<01:17,  2.42s/it]\u001b[A\n",
            "Running Epoch 0 of 1:  18%|███████████▏                                                 | 7/38 [00:16<01:14,  2.41s/it]\u001b[A\n",
            "Running Epoch 0 of 1:  21%|████████████▊                                                | 8/38 [00:19<01:11,  2.40s/it]\u001b[A\n",
            "Running Epoch 0 of 1:  24%|██████████████▍                                              | 9/38 [00:21<01:10,  2.42s/it]\u001b[A\n",
            "Running Epoch 0 of 1:  26%|███████████████▊                                            | 10/38 [00:24<01:07,  2.41s/it]\u001b[A\n",
            "Running Epoch 0 of 1:  29%|█████████████████▎                                          | 11/38 [00:26<01:05,  2.42s/it]\u001b[A\n",
            "Running Epoch 0 of 1:  32%|██████████████████▉                                         | 12/38 [00:29<01:02,  2.41s/it]\u001b[A\n",
            "Running Epoch 0 of 1:  34%|████████████████████▌                                       | 13/38 [00:31<01:00,  2.42s/it]\u001b[A\n",
            "Running Epoch 0 of 1:  37%|██████████████████████                                      | 14/38 [00:33<00:58,  2.42s/it]\u001b[A\n",
            "Running Epoch 0 of 1:  39%|███████████████████████▋                                    | 15/38 [00:36<00:55,  2.42s/it]\u001b[A\n",
            "Running Epoch 0 of 1:  42%|█████████████████████████▎                                  | 16/38 [00:38<00:53,  2.43s/it]\u001b[A\n",
            "Running Epoch 0 of 1:  45%|██████████████████████████▊                                 | 17/38 [00:41<00:50,  2.41s/it]\u001b[A\n",
            "Running Epoch 0 of 1:  47%|████████████████████████████▍                               | 18/38 [00:43<00:48,  2.44s/it]\u001b[A\n",
            "Running Epoch 0 of 1:  50%|██████████████████████████████                              | 19/38 [00:46<00:46,  2.43s/it]\u001b[A\n",
            "Running Epoch 0 of 1:  53%|███████████████████████████████▌                            | 20/38 [00:48<00:44,  2.45s/it]\u001b[A\n",
            "Running Epoch 0 of 1:  55%|█████████████████████████████████▏                          | 21/38 [00:50<00:41,  2.43s/it]\u001b[A\n",
            "Running Epoch 0 of 1:  58%|██████████████████████████████████▋                         | 22/38 [00:53<00:38,  2.43s/it]\u001b[A\n",
            "Running Epoch 0 of 1:  61%|████████████████████████████████████▎                       | 23/38 [00:55<00:36,  2.45s/it]\u001b[A\n",
            "Running Epoch 0 of 1:  63%|█████████████████████████████████████▉                      | 24/38 [00:58<00:33,  2.43s/it]\u001b[A\n",
            "Running Epoch 0 of 1:  66%|███████████████████████████████████████▍                    | 25/38 [01:00<00:31,  2.43s/it]\u001b[A\n",
            "Running Epoch 0 of 1:  68%|█████████████████████████████████████████                   | 26/38 [01:03<00:29,  2.42s/it]\u001b[A\n",
            "Running Epoch 0 of 1:  71%|██████████████████████████████████████████▋                 | 27/38 [01:05<00:26,  2.43s/it]\u001b[A\n",
            "Running Epoch 0 of 1:  74%|████████████████████████████████████████████▏               | 28/38 [01:07<00:24,  2.43s/it]\u001b[A\n",
            "Running Epoch 0 of 1:  76%|█████████████████████████████████████████████▊              | 29/38 [01:10<00:21,  2.44s/it]\u001b[A\n",
            "Running Epoch 0 of 1:  79%|███████████████████████████████████████████████▎            | 30/38 [01:12<00:19,  2.44s/it]\u001b[A\n",
            "Running Epoch 0 of 1:  82%|████████████████████████████████████████████████▉           | 31/38 [01:15<00:16,  2.42s/it]\u001b[A\n",
            "Running Epoch 0 of 1:  84%|██████████████████████████████████████████████████▌         | 32/38 [01:17<00:14,  2.44s/it]\u001b[A\n",
            "Running Epoch 0 of 1:  87%|████████████████████████████████████████████████████        | 33/38 [01:20<00:12,  2.43s/it]\u001b[A\n",
            "Running Epoch 0 of 1:  89%|█████████████████████████████████████████████████████▋      | 34/38 [01:22<00:09,  2.42s/it]\u001b[A\n",
            "Running Epoch 0 of 1:  92%|███████████████████████████████████████████████████████▎    | 35/38 [01:24<00:07,  2.43s/it]\u001b[A\n",
            "Running Epoch 0 of 1:  95%|████████████████████████████████████████████████████████▊   | 36/38 [01:27<00:04,  2.43s/it]\u001b[A\n",
            "Running Epoch 0 of 1:  97%|██████████████████████████████████████████████████████████▍ | 37/38 [01:29<00:02,  2.44s/it]\u001b[A\n",
            "Running Epoch 0 of 1: 100%|████████████████████████████████████████████████████████████| 38/38 [01:31<00:00,  2.41s/it]\n",
            "Epoch 1 of 1: 100%|██████████████████████████████████████████████████████████████████████| 1/1 [01:31<00:00, 91.49s/it]\n",
            "C:\\Users\\Domenico\\.conda\\envs\\tf\\lib\\site-packages\\simpletransformers\\classification\\classification_model.py:1454: UserWarning: Dataframe headers not specified. Falling back to using column 0 as text and column 1 as labels.\n",
            "  warnings.warn(\n"
          ]
        },
        {
          "output_type": "stream",
          "name": "stdout",
          "text": [
            "\n",
            "NOW EVALUATE THE TEST DF.\n"
          ]
        },
        {
          "output_type": "stream",
          "name": "stderr",
          "text": [
            "  0%|▍                                                                                 | 1/200 [00:05<18:28,  5.57s/it]\n",
            "Running Evaluation: 100%|██████████████████████████████████████████████████████████████| 25/25 [00:15<00:00,  1.61it/s]\n",
            "C:\\Users\\Domenico\\.conda\\envs\\tf\\lib\\site-packages\\simpletransformers\\classification\\classification_model.py:612: UserWarning: Dataframe headers not specified. Falling back to using column 0 as text and column 1 as labels.\n",
            "  warnings.warn(\n"
          ]
        },
        {
          "output_type": "stream",
          "name": "stdout",
          "text": [
            "{'mcc': 0.1679677532867563, 'tp': 35, 'tn': 80, 'fp': 20, 'fn': 65, 'auroc': 0.6295999999999999, 'auprc': 0.6089953336916472, 'eval_loss': 0.6890600943565368}\n",
            "Correct predictions are:  115\n",
            "Total predictions are:  200\n",
            "Accuracy on test set is: 0.575 \n",
            "\n",
            "\n",
            "\n",
            "EPOCH NUMBER:  2\n",
            "\n",
            "NOW TRAIN THE MODEL.\n"
          ]
        },
        {
          "output_type": "stream",
          "name": "stderr",
          "text": [
            "  0%|▎                                                                                 | 1/300 [00:07<36:39,  7.35s/it]\n",
            "Epoch 1 of 1:   0%|                                                                              | 0/1 [00:00<?, ?it/s]\n",
            "Running Epoch 0 of 1:   0%|                                                                     | 0/38 [00:00<?, ?it/s]\u001b[A\n",
            "Running Epoch 0 of 1:   3%|█▌                                                           | 1/38 [00:02<01:30,  2.44s/it]\u001b[A\n",
            "Running Epoch 0 of 1:   5%|███▏                                                         | 2/38 [00:04<01:27,  2.42s/it]\u001b[A\n",
            "Running Epoch 0 of 1:   8%|████▊                                                        | 3/38 [00:07<01:24,  2.42s/it]\u001b[A\n",
            "Running Epoch 0 of 1:  11%|██████▍                                                      | 4/38 [00:09<01:21,  2.40s/it]\u001b[A\n",
            "Running Epoch 0 of 1:  13%|████████                                                     | 5/38 [00:12<01:19,  2.42s/it]\u001b[A\n",
            "Running Epoch 0 of 1:  16%|█████████▋                                                   | 6/38 [00:14<01:17,  2.42s/it]\u001b[A\n",
            "Running Epoch 0 of 1:  18%|███████████▏                                                 | 7/38 [00:16<01:15,  2.43s/it]\u001b[A\n",
            "Running Epoch 0 of 1:  21%|████████████▊                                                | 8/38 [00:19<01:12,  2.43s/it]\u001b[A\n",
            "Running Epoch 0 of 1:  24%|██████████████▍                                              | 9/38 [00:21<01:10,  2.42s/it]\u001b[A\n",
            "Running Epoch 0 of 1:  26%|███████████████▊                                            | 10/38 [00:24<01:08,  2.43s/it]\u001b[A\n",
            "Running Epoch 0 of 1:  29%|█████████████████▎                                          | 11/38 [00:26<01:05,  2.44s/it]\u001b[A\n",
            "Running Epoch 0 of 1:  32%|██████████████████▉                                         | 12/38 [00:29<01:03,  2.45s/it]\u001b[A\n",
            "Running Epoch 0 of 1:  34%|████████████████████▌                                       | 13/38 [00:31<01:00,  2.44s/it]\u001b[A\n",
            "Running Epoch 0 of 1:  37%|██████████████████████                                      | 14/38 [00:34<00:58,  2.45s/it]\u001b[A\n",
            "Running Epoch 0 of 1:  39%|███████████████████████▋                                    | 15/38 [00:36<00:56,  2.44s/it]\u001b[A\n",
            "Running Epoch 0 of 1:  42%|█████████████████████████▎                                  | 16/38 [00:38<00:54,  2.45s/it]\u001b[A\n",
            "Running Epoch 0 of 1:  45%|██████████████████████████▊                                 | 17/38 [00:41<00:51,  2.45s/it]\u001b[A\n",
            "Running Epoch 0 of 1:  47%|████████████████████████████▍                               | 18/38 [00:43<00:49,  2.46s/it]\u001b[A\n",
            "Running Epoch 0 of 1:  50%|██████████████████████████████                              | 19/38 [00:46<00:46,  2.46s/it]\u001b[A\n",
            "Running Epoch 0 of 1:  53%|███████████████████████████████▌                            | 20/38 [00:48<00:44,  2.47s/it]\u001b[A\n",
            "Running Epoch 0 of 1:  55%|█████████████████████████████████▏                          | 21/38 [00:51<00:41,  2.46s/it]\u001b[A\n",
            "Running Epoch 0 of 1:  58%|██████████████████████████████████▋                         | 22/38 [00:53<00:39,  2.44s/it]\u001b[A\n",
            "Running Epoch 0 of 1:  61%|████████████████████████████████████▎                       | 23/38 [00:56<00:36,  2.45s/it]\u001b[A\n",
            "Running Epoch 0 of 1:  63%|█████████████████████████████████████▉                      | 24/38 [00:58<00:34,  2.44s/it]\u001b[A\n",
            "Running Epoch 0 of 1:  66%|███████████████████████████████████████▍                    | 25/38 [01:01<00:31,  2.45s/it]\u001b[A\n",
            "Running Epoch 0 of 1:  68%|█████████████████████████████████████████                   | 26/38 [01:03<00:29,  2.44s/it]\u001b[A\n",
            "Running Epoch 0 of 1:  71%|██████████████████████████████████████████▋                 | 27/38 [01:05<00:26,  2.44s/it]\u001b[A\n",
            "Running Epoch 0 of 1:  74%|████████████████████████████████████████████▏               | 28/38 [01:08<00:24,  2.45s/it]\u001b[A\n",
            "Running Epoch 0 of 1:  76%|█████████████████████████████████████████████▊              | 29/38 [01:10<00:22,  2.44s/it]\u001b[A\n",
            "Running Epoch 0 of 1:  79%|███████████████████████████████████████████████▎            | 30/38 [01:13<00:19,  2.46s/it]\u001b[A\n",
            "Running Epoch 0 of 1:  82%|████████████████████████████████████████████████▉           | 31/38 [01:15<00:17,  2.46s/it]\u001b[A\n",
            "Running Epoch 0 of 1:  84%|██████████████████████████████████████████████████▌         | 32/38 [01:18<00:14,  2.47s/it]\u001b[A\n",
            "Running Epoch 0 of 1:  87%|████████████████████████████████████████████████████        | 33/38 [01:20<00:12,  2.45s/it]\u001b[A\n",
            "Running Epoch 0 of 1:  89%|█████████████████████████████████████████████████████▋      | 34/38 [01:23<00:09,  2.47s/it]\u001b[A\n",
            "Running Epoch 0 of 1:  92%|███████████████████████████████████████████████████████▎    | 35/38 [01:25<00:07,  2.45s/it]\u001b[A\n",
            "Running Epoch 0 of 1:  95%|████████████████████████████████████████████████████████▊   | 36/38 [01:28<00:04,  2.46s/it]\u001b[A\n",
            "Running Epoch 0 of 1:  97%|██████████████████████████████████████████████████████████▍ | 37/38 [01:30<00:02,  2.45s/it]\u001b[A\n",
            "Running Epoch 0 of 1: 100%|████████████████████████████████████████████████████████████| 38/38 [01:32<00:00,  2.42s/it]\n",
            "Epoch 1 of 1: 100%|██████████████████████████████████████████████████████████████████████| 1/1 [01:32<00:00, 92.10s/it]\n",
            "C:\\Users\\Domenico\\.conda\\envs\\tf\\lib\\site-packages\\simpletransformers\\classification\\classification_model.py:1454: UserWarning: Dataframe headers not specified. Falling back to using column 0 as text and column 1 as labels.\n",
            "  warnings.warn(\n"
          ]
        },
        {
          "output_type": "stream",
          "name": "stdout",
          "text": [
            "\n",
            "NOW EVALUATE THE TEST DF.\n"
          ]
        },
        {
          "output_type": "stream",
          "name": "stderr",
          "text": [
            "  0%|▍                                                                                 | 1/200 [00:05<19:26,  5.86s/it]\n",
            "Running Evaluation: 100%|██████████████████████████████████████████████████████████████| 25/25 [00:15<00:00,  1.58it/s]\n",
            "C:\\Users\\Domenico\\.conda\\envs\\tf\\lib\\site-packages\\simpletransformers\\classification\\classification_model.py:612: UserWarning: Dataframe headers not specified. Falling back to using column 0 as text and column 1 as labels.\n",
            "  warnings.warn(\n"
          ]
        },
        {
          "output_type": "stream",
          "name": "stdout",
          "text": [
            "{'mcc': 0.2618924633082486, 'tp': 69, 'tn': 57, 'fp': 43, 'fn': 31, 'auroc': 0.662, 'auprc': 0.6322310623972793, 'eval_loss': 0.6690658688545227}\n",
            "Correct predictions are:  126\n",
            "Total predictions are:  200\n",
            "Accuracy on test set is: 0.63 \n",
            "\n",
            "\n",
            "\n",
            "EPOCH NUMBER:  3\n",
            "\n",
            "NOW TRAIN THE MODEL.\n"
          ]
        },
        {
          "output_type": "stream",
          "name": "stderr",
          "text": [
            "  0%|▎                                                                                 | 1/300 [00:07<36:51,  7.40s/it]\n",
            "Epoch 1 of 1:   0%|                                                                              | 0/1 [00:00<?, ?it/s]\n",
            "Running Epoch 0 of 1:   0%|                                                                     | 0/38 [00:00<?, ?it/s]\u001b[A\n",
            "Running Epoch 0 of 1:   3%|█▌                                                           | 1/38 [00:02<01:31,  2.48s/it]\u001b[A\n",
            "Running Epoch 0 of 1:   5%|███▏                                                         | 2/38 [00:04<01:28,  2.44s/it]\u001b[A\n",
            "Running Epoch 0 of 1:   8%|████▊                                                        | 3/38 [00:07<01:26,  2.46s/it]\u001b[A\n",
            "Running Epoch 0 of 1:  11%|██████▍                                                      | 4/38 [00:09<01:23,  2.45s/it]\u001b[A\n",
            "Running Epoch 0 of 1:  13%|████████                                                     | 5/38 [00:12<01:20,  2.45s/it]\u001b[A\n",
            "Running Epoch 0 of 1:  16%|█████████▋                                                   | 6/38 [00:14<01:18,  2.45s/it]\u001b[A\n",
            "Running Epoch 0 of 1:  18%|███████████▏                                                 | 7/38 [00:17<01:15,  2.44s/it]\u001b[A\n",
            "Running Epoch 0 of 1:  21%|████████████▊                                                | 8/38 [00:19<01:13,  2.45s/it]\u001b[A\n",
            "Running Epoch 0 of 1:  24%|██████████████▍                                              | 9/38 [00:22<01:10,  2.43s/it]\u001b[A\n",
            "Running Epoch 0 of 1:  26%|███████████████▊                                            | 10/38 [00:24<01:08,  2.45s/it]\u001b[A\n",
            "Running Epoch 0 of 1:  29%|█████████████████▎                                          | 11/38 [00:26<01:05,  2.43s/it]\u001b[A\n",
            "Running Epoch 0 of 1:  32%|██████████████████▉                                         | 12/38 [00:29<01:03,  2.45s/it]\u001b[A\n",
            "Running Epoch 0 of 1:  34%|████████████████████▌                                       | 13/38 [00:31<01:01,  2.44s/it]\u001b[A\n",
            "Running Epoch 0 of 1:  37%|██████████████████████                                      | 14/38 [00:34<00:58,  2.44s/it]\u001b[A\n",
            "Running Epoch 0 of 1:  39%|███████████████████████▋                                    | 15/38 [00:36<00:56,  2.44s/it]\u001b[A\n",
            "Running Epoch 0 of 1:  42%|█████████████████████████▎                                  | 16/38 [00:39<00:53,  2.43s/it]\u001b[A\n",
            "Running Epoch 0 of 1:  45%|██████████████████████████▊                                 | 17/38 [00:41<00:51,  2.44s/it]\u001b[A\n",
            "Running Epoch 0 of 1:  47%|████████████████████████████▍                               | 18/38 [00:43<00:48,  2.43s/it]\u001b[A\n",
            "Running Epoch 0 of 1:  50%|██████████████████████████████                              | 19/38 [00:46<00:46,  2.44s/it]\u001b[A\n",
            "Running Epoch 0 of 1:  53%|███████████████████████████████▌                            | 20/38 [00:48<00:43,  2.43s/it]\u001b[A\n",
            "Running Epoch 0 of 1:  55%|█████████████████████████████████▏                          | 21/38 [00:51<00:41,  2.45s/it]\u001b[A\n",
            "Running Epoch 0 of 1:  58%|██████████████████████████████████▋                         | 22/38 [00:53<00:39,  2.44s/it]\u001b[A\n",
            "Running Epoch 0 of 1:  61%|████████████████████████████████████▎                       | 23/38 [00:56<00:36,  2.44s/it]\u001b[A\n",
            "Running Epoch 0 of 1:  63%|█████████████████████████████████████▉                      | 24/38 [00:58<00:34,  2.45s/it]\u001b[A\n",
            "Running Epoch 0 of 1:  66%|███████████████████████████████████████▍                    | 25/38 [01:01<00:31,  2.43s/it]\u001b[A\n",
            "Running Epoch 0 of 1:  68%|█████████████████████████████████████████                   | 26/38 [01:03<00:29,  2.46s/it]\u001b[A\n",
            "Running Epoch 0 of 1:  71%|██████████████████████████████████████████▋                 | 27/38 [01:05<00:26,  2.44s/it]\u001b[A\n",
            "Running Epoch 0 of 1:  74%|████████████████████████████████████████████▏               | 28/38 [01:08<00:24,  2.46s/it]\u001b[A\n",
            "Running Epoch 0 of 1:  76%|█████████████████████████████████████████████▊              | 29/38 [01:10<00:21,  2.44s/it]\u001b[A\n",
            "Running Epoch 0 of 1:  79%|███████████████████████████████████████████████▎            | 30/38 [01:13<00:19,  2.46s/it]\u001b[A\n",
            "Running Epoch 0 of 1:  82%|████████████████████████████████████████████████▉           | 31/38 [01:15<00:17,  2.45s/it]\u001b[A\n",
            "Running Epoch 0 of 1:  84%|██████████████████████████████████████████████████▌         | 32/38 [01:18<00:14,  2.46s/it]\u001b[A\n",
            "Running Epoch 0 of 1:  87%|████████████████████████████████████████████████████        | 33/38 [01:20<00:12,  2.45s/it]\u001b[A\n",
            "Running Epoch 0 of 1:  89%|█████████████████████████████████████████████████████▋      | 34/38 [01:23<00:09,  2.45s/it]\u001b[A\n",
            "Running Epoch 0 of 1:  92%|███████████████████████████████████████████████████████▎    | 35/38 [01:25<00:07,  2.45s/it]\u001b[A\n",
            "Running Epoch 0 of 1:  95%|████████████████████████████████████████████████████████▊   | 36/38 [01:28<00:04,  2.44s/it]\u001b[A\n",
            "Running Epoch 0 of 1:  97%|██████████████████████████████████████████████████████████▍ | 37/38 [01:30<00:02,  2.46s/it]\u001b[A\n",
            "Running Epoch 0 of 1: 100%|████████████████████████████████████████████████████████████| 38/38 [01:32<00:00,  2.42s/it]\n",
            "Epoch 1 of 1: 100%|██████████████████████████████████████████████████████████████████████| 1/1 [01:32<00:00, 92.10s/it]\n",
            "C:\\Users\\Domenico\\.conda\\envs\\tf\\lib\\site-packages\\simpletransformers\\classification\\classification_model.py:1454: UserWarning: Dataframe headers not specified. Falling back to using column 0 as text and column 1 as labels.\n",
            "  warnings.warn(\n"
          ]
        },
        {
          "output_type": "stream",
          "name": "stdout",
          "text": [
            "\n",
            "NOW EVALUATE THE TEST DF.\n"
          ]
        },
        {
          "output_type": "stream",
          "name": "stderr",
          "text": [
            "  0%|▍                                                                                 | 1/200 [00:05<18:33,  5.59s/it]\n",
            "Running Evaluation: 100%|██████████████████████████████████████████████████████████████| 25/25 [00:15<00:00,  1.61it/s]\n",
            "C:\\Users\\Domenico\\.conda\\envs\\tf\\lib\\site-packages\\simpletransformers\\classification\\classification_model.py:612: UserWarning: Dataframe headers not specified. Falling back to using column 0 as text and column 1 as labels.\n",
            "  warnings.warn(\n"
          ]
        },
        {
          "output_type": "stream",
          "name": "stdout",
          "text": [
            "{'mcc': 0.29428357334819183, 'tp': 73, 'tn': 56, 'fp': 44, 'fn': 27, 'auroc': 0.6769, 'auprc': 0.6493487798803971, 'eval_loss': 0.6541064584255218}\n",
            "Correct predictions are:  129\n",
            "Total predictions are:  200\n",
            "Accuracy on test set is: 0.645 \n",
            "\n",
            "\n",
            "\n",
            "EPOCH NUMBER:  4\n",
            "\n",
            "NOW TRAIN THE MODEL.\n"
          ]
        },
        {
          "output_type": "stream",
          "name": "stderr",
          "text": [
            "  0%|▎                                                                                 | 1/300 [00:07<36:43,  7.37s/it]\n",
            "Epoch 1 of 1:   0%|                                                                              | 0/1 [00:00<?, ?it/s]\n",
            "Running Epoch 0 of 1:   0%|                                                                     | 0/38 [00:00<?, ?it/s]\u001b[A\n",
            "Running Epoch 0 of 1:   3%|█▌                                                           | 1/38 [00:02<01:31,  2.47s/it]\u001b[A\n",
            "Running Epoch 0 of 1:   5%|███▏                                                         | 2/38 [00:04<01:27,  2.42s/it]\u001b[A\n",
            "Running Epoch 0 of 1:   8%|████▊                                                        | 3/38 [00:07<01:25,  2.44s/it]\u001b[A\n",
            "Running Epoch 0 of 1:  11%|██████▍                                                      | 4/38 [00:09<01:22,  2.42s/it]\u001b[A\n",
            "Running Epoch 0 of 1:  13%|████████                                                     | 5/38 [00:12<01:20,  2.44s/it]\u001b[A\n",
            "Running Epoch 0 of 1:  16%|█████████▋                                                   | 6/38 [00:14<01:17,  2.43s/it]\u001b[A\n",
            "Running Epoch 0 of 1:  18%|███████████▏                                                 | 7/38 [00:17<01:15,  2.44s/it]\u001b[A\n",
            "Running Epoch 0 of 1:  21%|████████████▊                                                | 8/38 [00:19<01:13,  2.45s/it]\u001b[A\n",
            "Running Epoch 0 of 1:  24%|██████████████▍                                              | 9/38 [00:21<01:10,  2.43s/it]\u001b[A\n",
            "Running Epoch 0 of 1:  26%|███████████████▊                                            | 10/38 [00:24<01:08,  2.44s/it]\u001b[A\n",
            "Running Epoch 0 of 1:  29%|█████████████████▎                                          | 11/38 [00:26<01:05,  2.44s/it]\u001b[A\n",
            "Running Epoch 0 of 1:  32%|██████████████████▉                                         | 12/38 [00:29<01:03,  2.45s/it]\u001b[A\n",
            "Running Epoch 0 of 1:  34%|████████████████████▌                                       | 13/38 [00:31<01:00,  2.43s/it]\u001b[A\n",
            "Running Epoch 0 of 1:  37%|██████████████████████                                      | 14/38 [00:34<00:58,  2.45s/it]\u001b[A\n",
            "Running Epoch 0 of 1:  39%|███████████████████████▋                                    | 15/38 [00:36<00:56,  2.44s/it]\u001b[A\n",
            "Running Epoch 0 of 1:  42%|█████████████████████████▎                                  | 16/38 [00:39<00:53,  2.44s/it]\u001b[A\n",
            "Running Epoch 0 of 1:  45%|██████████████████████████▊                                 | 17/38 [00:41<00:51,  2.44s/it]\u001b[A\n",
            "Running Epoch 0 of 1:  47%|████████████████████████████▍                               | 18/38 [00:43<00:49,  2.45s/it]\u001b[A\n",
            "Running Epoch 0 of 1:  50%|██████████████████████████████                              | 19/38 [00:46<00:46,  2.46s/it]\u001b[A\n",
            "Running Epoch 0 of 1:  53%|███████████████████████████████▌                            | 20/38 [00:48<00:44,  2.45s/it]\u001b[A\n",
            "Running Epoch 0 of 1:  55%|█████████████████████████████████▏                          | 21/38 [00:51<00:41,  2.45s/it]\u001b[A\n",
            "Running Epoch 0 of 1:  58%|██████████████████████████████████▋                         | 22/38 [00:53<00:38,  2.44s/it]\u001b[A\n",
            "Running Epoch 0 of 1:  61%|████████████████████████████████████▎                       | 23/38 [00:56<00:36,  2.46s/it]\u001b[A\n",
            "Running Epoch 0 of 1:  63%|█████████████████████████████████████▉                      | 24/38 [00:58<00:34,  2.45s/it]\u001b[A\n",
            "Running Epoch 0 of 1:  66%|███████████████████████████████████████▍                    | 25/38 [01:01<00:31,  2.46s/it]\u001b[A\n",
            "Running Epoch 0 of 1:  68%|█████████████████████████████████████████                   | 26/38 [01:03<00:29,  2.44s/it]\u001b[A\n",
            "Running Epoch 0 of 1:  71%|██████████████████████████████████████████▋                 | 27/38 [01:06<00:27,  2.46s/it]\u001b[A\n",
            "Running Epoch 0 of 1:  74%|████████████████████████████████████████████▏               | 28/38 [01:08<00:24,  2.44s/it]\u001b[A\n",
            "Running Epoch 0 of 1:  76%|█████████████████████████████████████████████▊              | 29/38 [01:10<00:21,  2.44s/it]\u001b[A\n",
            "Running Epoch 0 of 1:  79%|███████████████████████████████████████████████▎            | 30/38 [01:13<00:19,  2.45s/it]\u001b[A\n",
            "Running Epoch 0 of 1:  82%|████████████████████████████████████████████████▉           | 31/38 [01:15<00:17,  2.44s/it]\u001b[A\n",
            "Running Epoch 0 of 1:  84%|██████████████████████████████████████████████████▌         | 32/38 [01:18<00:14,  2.44s/it]\u001b[A\n",
            "Running Epoch 0 of 1:  87%|████████████████████████████████████████████████████        | 33/38 [01:20<00:12,  2.43s/it]\u001b[A\n",
            "Running Epoch 0 of 1:  89%|█████████████████████████████████████████████████████▋      | 34/38 [01:23<00:09,  2.43s/it]\u001b[A\n",
            "Running Epoch 0 of 1:  92%|███████████████████████████████████████████████████████▎    | 35/38 [01:25<00:07,  2.43s/it]\u001b[A\n",
            "Running Epoch 0 of 1:  95%|████████████████████████████████████████████████████████▊   | 36/38 [01:27<00:04,  2.43s/it]\u001b[A\n",
            "Running Epoch 0 of 1:  97%|██████████████████████████████████████████████████████████▍ | 37/38 [01:30<00:02,  2.43s/it]\u001b[A\n",
            "Running Epoch 0 of 1: 100%|████████████████████████████████████████████████████████████| 38/38 [01:32<00:00,  2.42s/it]\n",
            "Epoch 1 of 1: 100%|██████████████████████████████████████████████████████████████████████| 1/1 [01:32<00:00, 92.00s/it]\n",
            "C:\\Users\\Domenico\\.conda\\envs\\tf\\lib\\site-packages\\simpletransformers\\classification\\classification_model.py:1454: UserWarning: Dataframe headers not specified. Falling back to using column 0 as text and column 1 as labels.\n",
            "  warnings.warn(\n"
          ]
        },
        {
          "output_type": "stream",
          "name": "stdout",
          "text": [
            "\n",
            "NOW EVALUATE THE TEST DF.\n"
          ]
        },
        {
          "output_type": "stream",
          "name": "stderr",
          "text": [
            "  0%|▍                                                                                 | 1/200 [00:05<18:30,  5.58s/it]\n",
            "Running Evaluation: 100%|██████████████████████████████████████████████████████████████| 25/25 [00:15<00:00,  1.63it/s]\n",
            "C:\\Users\\Domenico\\.conda\\envs\\tf\\lib\\site-packages\\simpletransformers\\classification\\classification_model.py:612: UserWarning: Dataframe headers not specified. Falling back to using column 0 as text and column 1 as labels.\n",
            "  warnings.warn(\n"
          ]
        },
        {
          "output_type": "stream",
          "name": "stdout",
          "text": [
            "{'mcc': 0.28050536489530137, 'tp': 61, 'tn': 67, 'fp': 33, 'fn': 39, 'auroc': 0.6920999999999999, 'auprc': 0.6532847842077536, 'eval_loss': 0.666197201013565}\n",
            "Correct predictions are:  128\n",
            "Total predictions are:  200\n",
            "Accuracy on test set is: 0.64 \n",
            "\n",
            "\n",
            "\n",
            "EPOCH NUMBER:  5\n",
            "\n",
            "NOW TRAIN THE MODEL.\n"
          ]
        },
        {
          "output_type": "stream",
          "name": "stderr",
          "text": [
            "  0%|▎                                                                                 | 1/300 [00:07<36:56,  7.41s/it]\n",
            "Epoch 1 of 1:   0%|                                                                              | 0/1 [00:00<?, ?it/s]\n",
            "Running Epoch 0 of 1:   0%|                                                                     | 0/38 [00:00<?, ?it/s]\u001b[A\n",
            "Running Epoch 0 of 1:   3%|█▌                                                           | 1/38 [00:02<01:30,  2.46s/it]\u001b[A\n",
            "Running Epoch 0 of 1:   5%|███▏                                                         | 2/38 [00:04<01:26,  2.41s/it]\u001b[A\n",
            "Running Epoch 0 of 1:   8%|████▊                                                        | 3/38 [00:07<01:25,  2.44s/it]\u001b[A\n",
            "Running Epoch 0 of 1:  11%|██████▍                                                      | 4/38 [00:09<01:22,  2.42s/it]\u001b[A\n",
            "Running Epoch 0 of 1:  13%|████████                                                     | 5/38 [00:12<01:20,  2.43s/it]\u001b[A\n",
            "Running Epoch 0 of 1:  16%|█████████▋                                                   | 6/38 [00:14<01:17,  2.44s/it]\u001b[A\n",
            "Running Epoch 0 of 1:  18%|███████████▏                                                 | 7/38 [00:17<01:15,  2.44s/it]\u001b[A\n",
            "Running Epoch 0 of 1:  21%|████████████▊                                                | 8/38 [00:19<01:13,  2.44s/it]\u001b[A\n",
            "Running Epoch 0 of 1:  24%|██████████████▍                                              | 9/38 [00:21<01:10,  2.44s/it]\u001b[A\n",
            "Running Epoch 0 of 1:  26%|███████████████▊                                            | 10/38 [00:24<01:08,  2.46s/it]\u001b[A\n",
            "Running Epoch 0 of 1:  29%|█████████████████▎                                          | 11/38 [00:26<01:05,  2.44s/it]\u001b[A\n",
            "Running Epoch 0 of 1:  32%|██████████████████▉                                         | 12/38 [00:29<01:03,  2.45s/it]\u001b[A\n",
            "Running Epoch 0 of 1:  34%|████████████████████▌                                       | 13/38 [00:31<01:00,  2.44s/it]\u001b[A\n",
            "Running Epoch 0 of 1:  37%|██████████████████████                                      | 14/38 [00:34<00:58,  2.44s/it]\u001b[A\n",
            "Running Epoch 0 of 1:  39%|███████████████████████▋                                    | 15/38 [00:36<00:56,  2.44s/it]\u001b[A\n",
            "Running Epoch 0 of 1:  42%|█████████████████████████▎                                  | 16/38 [00:39<00:53,  2.44s/it]\u001b[A\n",
            "Running Epoch 0 of 1:  45%|██████████████████████████▊                                 | 17/38 [00:41<00:51,  2.45s/it]\u001b[A\n",
            "Running Epoch 0 of 1:  47%|████████████████████████████▍                               | 18/38 [00:43<00:48,  2.44s/it]\u001b[A\n",
            "Running Epoch 0 of 1:  50%|██████████████████████████████                              | 19/38 [00:46<00:46,  2.46s/it]\u001b[A\n",
            "Running Epoch 0 of 1:  53%|███████████████████████████████▌                            | 20/38 [00:48<00:44,  2.45s/it]\u001b[A\n",
            "Running Epoch 0 of 1:  55%|█████████████████████████████████▏                          | 21/38 [00:51<00:41,  2.46s/it]\u001b[A\n",
            "Running Epoch 0 of 1:  58%|██████████████████████████████████▋                         | 22/38 [00:53<00:39,  2.45s/it]\u001b[A\n",
            "Running Epoch 0 of 1:  61%|████████████████████████████████████▎                       | 23/38 [00:56<00:36,  2.45s/it]\u001b[A\n",
            "Running Epoch 0 of 1:  63%|█████████████████████████████████████▉                      | 24/38 [00:58<00:34,  2.45s/it]\u001b[A\n",
            "Running Epoch 0 of 1:  66%|███████████████████████████████████████▍                    | 25/38 [01:01<00:32,  2.47s/it]\u001b[A\n",
            "Running Epoch 0 of 1:  68%|█████████████████████████████████████████                   | 26/38 [01:03<00:29,  2.46s/it]\u001b[A\n",
            "Running Epoch 0 of 1:  71%|██████████████████████████████████████████▋                 | 27/38 [01:06<00:27,  2.46s/it]\u001b[A\n",
            "Running Epoch 0 of 1:  74%|████████████████████████████████████████████▏               | 28/38 [01:08<00:24,  2.47s/it]\u001b[A\n",
            "Running Epoch 0 of 1:  76%|█████████████████████████████████████████████▊              | 29/38 [01:10<00:22,  2.46s/it]\u001b[A\n",
            "Running Epoch 0 of 1:  79%|███████████████████████████████████████████████▎            | 30/38 [01:13<00:19,  2.47s/it]\u001b[A\n",
            "Running Epoch 0 of 1:  82%|████████████████████████████████████████████████▉           | 31/38 [01:15<00:17,  2.45s/it]\u001b[A\n",
            "Running Epoch 0 of 1:  84%|██████████████████████████████████████████████████▌         | 32/38 [01:18<00:14,  2.47s/it]\u001b[A\n",
            "Running Epoch 0 of 1:  87%|████████████████████████████████████████████████████        | 33/38 [01:20<00:12,  2.46s/it]\u001b[A\n",
            "Running Epoch 0 of 1:  89%|█████████████████████████████████████████████████████▋      | 34/38 [01:23<00:09,  2.47s/it]\u001b[A\n",
            "Running Epoch 0 of 1:  92%|███████████████████████████████████████████████████████▎    | 35/38 [01:25<00:07,  2.45s/it]\u001b[A\n",
            "Running Epoch 0 of 1:  95%|████████████████████████████████████████████████████████▊   | 36/38 [01:28<00:04,  2.47s/it]\u001b[A\n",
            "Running Epoch 0 of 1:  97%|██████████████████████████████████████████████████████████▍ | 37/38 [01:30<00:02,  2.46s/it]\u001b[A\n",
            "Running Epoch 0 of 1: 100%|████████████████████████████████████████████████████████████| 38/38 [01:32<00:00,  2.43s/it]\n",
            "Epoch 1 of 1: 100%|██████████████████████████████████████████████████████████████████████| 1/1 [01:32<00:00, 92.35s/it]\n",
            "C:\\Users\\Domenico\\.conda\\envs\\tf\\lib\\site-packages\\simpletransformers\\classification\\classification_model.py:1454: UserWarning: Dataframe headers not specified. Falling back to using column 0 as text and column 1 as labels.\n",
            "  warnings.warn(\n"
          ]
        },
        {
          "output_type": "stream",
          "name": "stdout",
          "text": [
            "\n",
            "NOW EVALUATE THE TEST DF.\n"
          ]
        },
        {
          "output_type": "stream",
          "name": "stderr",
          "text": [
            "  0%|▍                                                                                 | 1/200 [00:05<19:14,  5.80s/it]\n",
            "Running Evaluation: 100%|██████████████████████████████████████████████████████████████| 25/25 [00:15<00:00,  1.63it/s]\n",
            "C:\\Users\\Domenico\\.conda\\envs\\tf\\lib\\site-packages\\simpletransformers\\classification\\classification_model.py:612: UserWarning: Dataframe headers not specified. Falling back to using column 0 as text and column 1 as labels.\n",
            "  warnings.warn(\n"
          ]
        },
        {
          "output_type": "stream",
          "name": "stdout",
          "text": [
            "{'mcc': 0.09607689228305227, 'tp': 4, 'tn': 99, 'fp': 1, 'fn': 96, 'auroc': 0.6337999999999999, 'auprc': 0.6324484863957978, 'eval_loss': 0.7197479295730591}\n",
            "Correct predictions are:  103\n",
            "Total predictions are:  200\n",
            "Accuracy on test set is: 0.515 \n",
            "\n",
            "\n",
            "\n",
            "EPOCH NUMBER:  6\n",
            "\n",
            "NOW TRAIN THE MODEL.\n"
          ]
        },
        {
          "output_type": "stream",
          "name": "stderr",
          "text": [
            "  0%|▎                                                                                 | 1/300 [00:07<37:55,  7.61s/it]\n",
            "Epoch 1 of 1:   0%|                                                                              | 0/1 [00:00<?, ?it/s]\n",
            "Running Epoch 0 of 1:   0%|                                                                     | 0/38 [00:00<?, ?it/s]\u001b[A\n",
            "Running Epoch 0 of 1:   3%|█▌                                                           | 1/38 [00:02<01:31,  2.48s/it]\u001b[A\n",
            "Running Epoch 0 of 1:   5%|███▏                                                         | 2/38 [00:04<01:28,  2.46s/it]\u001b[A\n",
            "Running Epoch 0 of 1:   8%|████▊                                                        | 3/38 [00:07<01:25,  2.44s/it]\u001b[A\n",
            "Running Epoch 0 of 1:  11%|██████▍                                                      | 4/38 [00:09<01:23,  2.45s/it]\u001b[A\n",
            "Running Epoch 0 of 1:  13%|████████                                                     | 5/38 [00:12<01:20,  2.44s/it]\u001b[A\n",
            "Running Epoch 0 of 1:  16%|█████████▋                                                   | 6/38 [00:14<01:18,  2.46s/it]\u001b[A\n",
            "Running Epoch 0 of 1:  18%|███████████▏                                                 | 7/38 [00:17<01:16,  2.45s/it]\u001b[A\n",
            "Running Epoch 0 of 1:  21%|████████████▊                                                | 8/38 [00:19<01:14,  2.47s/it]\u001b[A\n",
            "Running Epoch 0 of 1:  24%|██████████████▍                                              | 9/38 [00:22<01:10,  2.44s/it]\u001b[A\n",
            "Running Epoch 0 of 1:  26%|███████████████▊                                            | 10/38 [00:24<01:08,  2.45s/it]\u001b[A\n",
            "Running Epoch 0 of 1:  29%|█████████████████▎                                          | 11/38 [00:26<01:06,  2.45s/it]\u001b[A\n",
            "Running Epoch 0 of 1:  32%|██████████████████▉                                         | 12/38 [00:29<01:03,  2.45s/it]\u001b[A\n",
            "Running Epoch 0 of 1:  34%|████████████████████▌                                       | 13/38 [00:31<01:01,  2.45s/it]\u001b[A\n",
            "Running Epoch 0 of 1:  37%|██████████████████████                                      | 14/38 [00:34<00:58,  2.44s/it]\u001b[A\n",
            "Running Epoch 0 of 1:  39%|███████████████████████▋                                    | 15/38 [00:36<00:56,  2.45s/it]\u001b[A\n",
            "Running Epoch 0 of 1:  42%|█████████████████████████▎                                  | 16/38 [00:39<00:53,  2.44s/it]\u001b[A\n",
            "Running Epoch 0 of 1:  45%|██████████████████████████▊                                 | 17/38 [00:41<00:51,  2.45s/it]\u001b[A\n",
            "Running Epoch 0 of 1:  47%|████████████████████████████▍                               | 18/38 [00:44<00:48,  2.44s/it]\u001b[A\n",
            "Running Epoch 0 of 1:  50%|██████████████████████████████                              | 19/38 [00:46<00:46,  2.44s/it]\u001b[A\n",
            "Running Epoch 0 of 1:  53%|███████████████████████████████▌                            | 20/38 [00:48<00:43,  2.44s/it]\u001b[A\n",
            "Running Epoch 0 of 1:  55%|█████████████████████████████████▏                          | 21/38 [00:51<00:41,  2.45s/it]\u001b[A\n",
            "Running Epoch 0 of 1:  58%|██████████████████████████████████▋                         | 22/38 [00:53<00:39,  2.46s/it]\u001b[A\n",
            "Running Epoch 0 of 1:  61%|████████████████████████████████████▎                       | 23/38 [00:56<00:36,  2.44s/it]\u001b[A\n",
            "Running Epoch 0 of 1:  63%|█████████████████████████████████████▉                      | 24/38 [00:58<00:34,  2.46s/it]\u001b[A\n",
            "Running Epoch 0 of 1:  66%|███████████████████████████████████████▍                    | 25/38 [01:01<00:31,  2.46s/it]\u001b[A\n",
            "Running Epoch 0 of 1:  68%|█████████████████████████████████████████                   | 26/38 [01:03<00:30,  2.51s/it]\u001b[A\n",
            "Running Epoch 0 of 1:  71%|██████████████████████████████████████████▋                 | 27/38 [01:06<00:28,  2.58s/it]\u001b[A\n",
            "Running Epoch 0 of 1:  74%|████████████████████████████████████████████▏               | 28/38 [01:09<00:25,  2.57s/it]\u001b[A\n",
            "Running Epoch 0 of 1:  76%|█████████████████████████████████████████████▊              | 29/38 [01:11<00:23,  2.56s/it]\u001b[A\n",
            "Running Epoch 0 of 1:  79%|███████████████████████████████████████████████▎            | 30/38 [01:14<00:20,  2.55s/it]\u001b[A\n",
            "Running Epoch 0 of 1:  82%|████████████████████████████████████████████████▉           | 31/38 [01:16<00:18,  2.58s/it]\u001b[A\n",
            "Running Epoch 0 of 1:  84%|██████████████████████████████████████████████████▌         | 32/38 [01:19<00:15,  2.53s/it]\u001b[A\n",
            "Running Epoch 0 of 1:  87%|████████████████████████████████████████████████████        | 33/38 [01:21<00:12,  2.52s/it]\u001b[A\n",
            "Running Epoch 0 of 1:  89%|█████████████████████████████████████████████████████▋      | 34/38 [01:24<00:10,  2.50s/it]\u001b[A\n",
            "Running Epoch 0 of 1:  92%|███████████████████████████████████████████████████████▎    | 35/38 [01:26<00:07,  2.50s/it]\u001b[A\n",
            "Running Epoch 0 of 1:  95%|████████████████████████████████████████████████████████▊   | 36/38 [01:29<00:04,  2.48s/it]\u001b[A\n",
            "Running Epoch 0 of 1:  97%|██████████████████████████████████████████████████████████▍ | 37/38 [01:31<00:02,  2.47s/it]\u001b[A\n",
            "Running Epoch 0 of 1: 100%|████████████████████████████████████████████████████████████| 38/38 [01:33<00:00,  2.45s/it]\n",
            "Epoch 1 of 1: 100%|██████████████████████████████████████████████████████████████████████| 1/1 [01:33<00:00, 93.20s/it]\n",
            "C:\\Users\\Domenico\\.conda\\envs\\tf\\lib\\site-packages\\simpletransformers\\classification\\classification_model.py:1454: UserWarning: Dataframe headers not specified. Falling back to using column 0 as text and column 1 as labels.\n",
            "  warnings.warn(\n"
          ]
        },
        {
          "output_type": "stream",
          "name": "stdout",
          "text": [
            "\n",
            "NOW EVALUATE THE TEST DF.\n"
          ]
        },
        {
          "output_type": "stream",
          "name": "stderr",
          "text": [
            "  0%|▍                                                                                 | 1/200 [00:05<18:50,  5.68s/it]\n",
            "Running Evaluation: 100%|██████████████████████████████████████████████████████████████| 25/25 [00:15<00:00,  1.57it/s]\n",
            "C:\\Users\\Domenico\\.conda\\envs\\tf\\lib\\site-packages\\simpletransformers\\classification\\classification_model.py:612: UserWarning: Dataframe headers not specified. Falling back to using column 0 as text and column 1 as labels.\n",
            "  warnings.warn(\n"
          ]
        },
        {
          "output_type": "stream",
          "name": "stdout",
          "text": [
            "{'mcc': 0.2546384713967254, 'tp': 53, 'tn': 72, 'fp': 28, 'fn': 47, 'auroc': 0.7031000000000001, 'auprc': 0.6727445365358895, 'eval_loss': 0.7487983632087708}\n",
            "Correct predictions are:  125\n",
            "Total predictions are:  200\n",
            "Accuracy on test set is: 0.625 \n",
            "\n",
            "\n",
            "\n",
            "EPOCH NUMBER:  7\n",
            "\n",
            "NOW TRAIN THE MODEL.\n"
          ]
        },
        {
          "output_type": "stream",
          "name": "stderr",
          "text": [
            "  0%|▎                                                                                 | 1/300 [00:07<37:09,  7.46s/it]\n",
            "Epoch 1 of 1:   0%|                                                                              | 0/1 [00:00<?, ?it/s]\n",
            "Running Epoch 0 of 1:   0%|                                                                     | 0/38 [00:00<?, ?it/s]\u001b[A\n",
            "Running Epoch 0 of 1:   3%|█▌                                                           | 1/38 [00:02<01:33,  2.52s/it]\u001b[A\n",
            "Running Epoch 0 of 1:   5%|███▏                                                         | 2/38 [00:05<01:30,  2.51s/it]\u001b[A\n",
            "Running Epoch 0 of 1:   8%|████▊                                                        | 3/38 [00:07<01:26,  2.47s/it]\u001b[A\n",
            "Running Epoch 0 of 1:  11%|██████▍                                                      | 4/38 [00:09<01:24,  2.48s/it]\u001b[A\n",
            "Running Epoch 0 of 1:  13%|████████                                                     | 5/38 [00:12<01:22,  2.50s/it]\u001b[A\n",
            "Running Epoch 0 of 1:  16%|█████████▋                                                   | 6/38 [00:14<01:20,  2.50s/it]\u001b[A\n",
            "Running Epoch 0 of 1:  18%|███████████▏                                                 | 7/38 [00:17<01:16,  2.46s/it]\u001b[A\n",
            "Running Epoch 0 of 1:  21%|████████████▊                                                | 8/38 [00:19<01:13,  2.45s/it]\u001b[A\n",
            "Running Epoch 0 of 1:  24%|██████████████▍                                              | 9/38 [00:22<01:10,  2.42s/it]\u001b[A\n",
            "Running Epoch 0 of 1:  26%|███████████████▊                                            | 10/38 [00:24<01:07,  2.43s/it]\u001b[A\n",
            "Running Epoch 0 of 1:  29%|█████████████████▎                                          | 11/38 [00:27<01:05,  2.43s/it]\u001b[A\n",
            "Running Epoch 0 of 1:  32%|██████████████████▉                                         | 12/38 [00:29<01:03,  2.43s/it]\u001b[A\n",
            "Running Epoch 0 of 1:  34%|████████████████████▌                                       | 13/38 [00:31<01:01,  2.44s/it]\u001b[A\n",
            "Running Epoch 0 of 1:  37%|██████████████████████                                      | 14/38 [00:34<00:58,  2.44s/it]\u001b[A\n",
            "Running Epoch 0 of 1:  39%|███████████████████████▋                                    | 15/38 [00:36<00:56,  2.45s/it]\u001b[A\n",
            "Running Epoch 0 of 1:  42%|█████████████████████████▎                                  | 16/38 [00:39<00:53,  2.44s/it]\u001b[A\n",
            "Running Epoch 0 of 1:  45%|██████████████████████████▊                                 | 17/38 [00:41<00:51,  2.46s/it]\u001b[A\n",
            "Running Epoch 0 of 1:  47%|████████████████████████████▍                               | 18/38 [00:44<00:48,  2.45s/it]\u001b[A\n",
            "Running Epoch 0 of 1:  50%|██████████████████████████████                              | 19/38 [00:46<00:46,  2.43s/it]\u001b[A\n",
            "Running Epoch 0 of 1:  53%|███████████████████████████████▌                            | 20/38 [00:48<00:43,  2.43s/it]\u001b[A\n",
            "Running Epoch 0 of 1:  55%|█████████████████████████████████▏                          | 21/38 [00:51<00:41,  2.42s/it]\u001b[A\n",
            "Running Epoch 0 of 1:  58%|██████████████████████████████████▋                         | 22/38 [00:53<00:38,  2.44s/it]\u001b[A\n",
            "Running Epoch 0 of 1:  61%|████████████████████████████████████▎                       | 23/38 [00:56<00:36,  2.42s/it]\u001b[A\n",
            "Running Epoch 0 of 1:  63%|█████████████████████████████████████▉                      | 24/38 [00:58<00:33,  2.42s/it]\u001b[A\n",
            "Running Epoch 0 of 1:  66%|███████████████████████████████████████▍                    | 25/38 [01:01<00:31,  2.42s/it]\u001b[A\n",
            "Running Epoch 0 of 1:  68%|█████████████████████████████████████████                   | 26/38 [01:03<00:29,  2.42s/it]\u001b[A\n",
            "Running Epoch 0 of 1:  71%|██████████████████████████████████████████▋                 | 27/38 [01:05<00:26,  2.43s/it]\u001b[A\n",
            "Running Epoch 0 of 1:  74%|████████████████████████████████████████████▏               | 28/38 [01:08<00:24,  2.42s/it]\u001b[A\n",
            "Running Epoch 0 of 1:  76%|█████████████████████████████████████████████▊              | 29/38 [01:10<00:21,  2.44s/it]\u001b[A\n",
            "Running Epoch 0 of 1:  79%|███████████████████████████████████████████████▎            | 30/38 [01:13<00:19,  2.44s/it]\u001b[A\n",
            "Running Epoch 0 of 1:  82%|████████████████████████████████████████████████▉           | 31/38 [01:15<00:17,  2.47s/it]\u001b[A\n",
            "Running Epoch 0 of 1:  84%|██████████████████████████████████████████████████▌         | 32/38 [01:18<00:14,  2.44s/it]\u001b[A\n",
            "Running Epoch 0 of 1:  87%|████████████████████████████████████████████████████        | 33/38 [01:20<00:12,  2.43s/it]\u001b[A\n",
            "Running Epoch 0 of 1:  89%|█████████████████████████████████████████████████████▋      | 34/38 [01:22<00:09,  2.43s/it]\u001b[A\n",
            "Running Epoch 0 of 1:  92%|███████████████████████████████████████████████████████▎    | 35/38 [01:25<00:07,  2.42s/it]\u001b[A\n",
            "Running Epoch 0 of 1:  95%|████████████████████████████████████████████████████████▊   | 36/38 [01:27<00:04,  2.44s/it]\u001b[A\n",
            "Running Epoch 0 of 1:  97%|██████████████████████████████████████████████████████████▍ | 37/38 [01:30<00:02,  2.42s/it]\u001b[A\n",
            "Running Epoch 0 of 1: 100%|████████████████████████████████████████████████████████████| 38/38 [01:31<00:00,  2.42s/it]\n",
            "Epoch 1 of 1: 100%|██████████████████████████████████████████████████████████████████████| 1/1 [01:31<00:00, 91.94s/it]\n",
            "C:\\Users\\Domenico\\.conda\\envs\\tf\\lib\\site-packages\\simpletransformers\\classification\\classification_model.py:1454: UserWarning: Dataframe headers not specified. Falling back to using column 0 as text and column 1 as labels.\n",
            "  warnings.warn(\n"
          ]
        },
        {
          "output_type": "stream",
          "name": "stdout",
          "text": [
            "\n",
            "NOW EVALUATE THE TEST DF.\n"
          ]
        },
        {
          "output_type": "stream",
          "name": "stderr",
          "text": [
            "  0%|▍                                                                                 | 1/200 [00:05<18:30,  5.58s/it]\n",
            "Running Evaluation: 100%|██████████████████████████████████████████████████████████████| 25/25 [00:15<00:00,  1.65it/s]\n",
            "C:\\Users\\Domenico\\.conda\\envs\\tf\\lib\\site-packages\\simpletransformers\\classification\\classification_model.py:612: UserWarning: Dataframe headers not specified. Falling back to using column 0 as text and column 1 as labels.\n",
            "  warnings.warn(\n"
          ]
        },
        {
          "output_type": "stream",
          "name": "stdout",
          "text": [
            "{'mcc': 0.33139720853397336, 'tp': 79, 'tn': 53, 'fp': 47, 'fn': 21, 'auroc': 0.7048, 'auprc': 0.668824996055632, 'eval_loss': 0.659387731552124}\n",
            "Correct predictions are:  132\n",
            "Total predictions are:  200\n",
            "Accuracy on test set is: 0.66 \n",
            "\n",
            "\n",
            "\n",
            "EPOCH NUMBER:  8\n",
            "\n",
            "NOW TRAIN THE MODEL.\n"
          ]
        },
        {
          "output_type": "stream",
          "name": "stderr",
          "text": [
            "  0%|▎                                                                                 | 1/300 [00:07<36:31,  7.33s/it]\n",
            "Epoch 1 of 1:   0%|                                                                              | 0/1 [00:00<?, ?it/s]\n",
            "Running Epoch 0 of 1:   0%|                                                                     | 0/38 [00:00<?, ?it/s]\u001b[A\n",
            "Running Epoch 0 of 1:   3%|█▌                                                           | 1/38 [00:02<01:28,  2.40s/it]\u001b[A\n",
            "Running Epoch 0 of 1:   5%|███▏                                                         | 2/38 [00:04<01:25,  2.38s/it]\u001b[A\n",
            "Running Epoch 0 of 1:   8%|████▊                                                        | 3/38 [00:07<01:25,  2.44s/it]\u001b[A\n",
            "Running Epoch 0 of 1:  11%|██████▍                                                      | 4/38 [00:09<01:22,  2.43s/it]\u001b[A\n",
            "Running Epoch 0 of 1:  13%|████████                                                     | 5/38 [00:12<01:21,  2.46s/it]\u001b[A\n",
            "Running Epoch 0 of 1:  16%|█████████▋                                                   | 6/38 [00:14<01:17,  2.42s/it]\u001b[A\n",
            "Running Epoch 0 of 1:  18%|███████████▏                                                 | 7/38 [00:16<01:14,  2.41s/it]\u001b[A\n",
            "Running Epoch 0 of 1:  21%|████████████▊                                                | 8/38 [00:19<01:12,  2.41s/it]\u001b[A\n",
            "Running Epoch 0 of 1:  24%|██████████████▍                                              | 9/38 [00:21<01:09,  2.39s/it]\u001b[A\n",
            "Running Epoch 0 of 1:  26%|███████████████▊                                            | 10/38 [00:24<01:07,  2.39s/it]\u001b[A\n",
            "Running Epoch 0 of 1:  29%|█████████████████▎                                          | 11/38 [00:26<01:04,  2.40s/it]\u001b[A\n",
            "Running Epoch 0 of 1:  32%|██████████████████▉                                         | 12/38 [00:28<01:02,  2.39s/it]\u001b[A\n",
            "Running Epoch 0 of 1:  34%|████████████████████▌                                       | 13/38 [00:31<01:00,  2.40s/it]\u001b[A\n",
            "Running Epoch 0 of 1:  37%|██████████████████████                                      | 14/38 [00:33<00:57,  2.38s/it]\u001b[A\n",
            "Running Epoch 0 of 1:  39%|███████████████████████▋                                    | 15/38 [00:36<00:54,  2.38s/it]\u001b[A\n",
            "Running Epoch 0 of 1:  42%|█████████████████████████▎                                  | 16/38 [00:38<00:52,  2.40s/it]\u001b[A\n",
            "Running Epoch 0 of 1:  45%|██████████████████████████▊                                 | 17/38 [00:40<00:50,  2.40s/it]\u001b[A\n",
            "Running Epoch 0 of 1:  47%|████████████████████████████▍                               | 18/38 [00:43<00:48,  2.40s/it]\u001b[A\n",
            "Running Epoch 0 of 1:  50%|██████████████████████████████                              | 19/38 [00:45<00:45,  2.39s/it]\u001b[A\n",
            "Running Epoch 0 of 1:  53%|███████████████████████████████▌                            | 20/38 [00:48<00:43,  2.40s/it]\u001b[A\n",
            "Running Epoch 0 of 1:  55%|█████████████████████████████████▏                          | 21/38 [00:50<00:40,  2.40s/it]\u001b[A\n",
            "Running Epoch 0 of 1:  58%|██████████████████████████████████▋                         | 22/38 [00:52<00:38,  2.39s/it]\u001b[A\n",
            "Running Epoch 0 of 1:  61%|████████████████████████████████████▎                       | 23/38 [00:55<00:36,  2.41s/it]\u001b[A\n",
            "Running Epoch 0 of 1:  63%|█████████████████████████████████████▉                      | 24/38 [00:57<00:33,  2.40s/it]\u001b[A\n",
            "Running Epoch 0 of 1:  66%|███████████████████████████████████████▍                    | 25/38 [01:00<00:31,  2.39s/it]\u001b[A\n",
            "Running Epoch 0 of 1:  68%|█████████████████████████████████████████                   | 26/38 [01:02<00:28,  2.39s/it]\u001b[A\n",
            "Running Epoch 0 of 1:  71%|██████████████████████████████████████████▋                 | 27/38 [01:04<00:26,  2.38s/it]\u001b[A\n",
            "Running Epoch 0 of 1:  74%|████████████████████████████████████████████▏               | 28/38 [01:07<00:24,  2.41s/it]\u001b[A\n",
            "Running Epoch 0 of 1:  76%|█████████████████████████████████████████████▊              | 29/38 [01:09<00:21,  2.41s/it]\u001b[A\n",
            "Running Epoch 0 of 1:  79%|███████████████████████████████████████████████▎            | 30/38 [01:12<00:19,  2.42s/it]\u001b[A\n",
            "Running Epoch 0 of 1:  82%|████████████████████████████████████████████████▉           | 31/38 [01:14<00:16,  2.42s/it]\u001b[A\n",
            "Running Epoch 0 of 1:  84%|██████████████████████████████████████████████████▌         | 32/38 [01:16<00:14,  2.41s/it]\u001b[A\n",
            "Running Epoch 0 of 1:  87%|████████████████████████████████████████████████████        | 33/38 [01:19<00:12,  2.43s/it]\u001b[A\n",
            "Running Epoch 0 of 1:  89%|█████████████████████████████████████████████████████▋      | 34/38 [01:21<00:09,  2.45s/it]\u001b[A\n",
            "Running Epoch 0 of 1:  92%|███████████████████████████████████████████████████████▎    | 35/38 [01:24<00:07,  2.48s/it]\u001b[A\n",
            "Running Epoch 0 of 1:  95%|████████████████████████████████████████████████████████▊   | 36/38 [01:26<00:04,  2.46s/it]\u001b[A\n",
            "Running Epoch 0 of 1:  97%|██████████████████████████████████████████████████████████▍ | 37/38 [01:29<00:02,  2.48s/it]\u001b[A\n",
            "Running Epoch 0 of 1: 100%|████████████████████████████████████████████████████████████| 38/38 [01:31<00:00,  2.39s/it]\n",
            "Epoch 1 of 1: 100%|██████████████████████████████████████████████████████████████████████| 1/1 [01:31<00:00, 91.01s/it]\n",
            "C:\\Users\\Domenico\\.conda\\envs\\tf\\lib\\site-packages\\simpletransformers\\classification\\classification_model.py:1454: UserWarning: Dataframe headers not specified. Falling back to using column 0 as text and column 1 as labels.\n",
            "  warnings.warn(\n"
          ]
        },
        {
          "output_type": "stream",
          "name": "stdout",
          "text": [
            "\n",
            "NOW EVALUATE THE TEST DF.\n"
          ]
        },
        {
          "output_type": "stream",
          "name": "stderr",
          "text": [
            "  0%|▍                                                                                 | 1/200 [00:05<18:52,  5.69s/it]\n",
            "Running Evaluation: 100%|██████████████████████████████████████████████████████████████| 25/25 [00:15<00:00,  1.60it/s]\n",
            "C:\\Users\\Domenico\\.conda\\envs\\tf\\lib\\site-packages\\simpletransformers\\classification\\classification_model.py:612: UserWarning: Dataframe headers not specified. Falling back to using column 0 as text and column 1 as labels.\n",
            "  warnings.warn(\n"
          ]
        },
        {
          "output_type": "stream",
          "name": "stdout",
          "text": [
            "{'mcc': 0.33041327505236084, 'tp': 69, 'tn': 64, 'fp': 36, 'fn': 31, 'auroc': 0.7212999999999999, 'auprc': 0.6848121002469238, 'eval_loss': 0.7978019887208938}\n",
            "Correct predictions are:  133\n",
            "Total predictions are:  200\n",
            "Accuracy on test set is: 0.665 \n",
            "\n",
            "\n",
            "\n",
            "EPOCH NUMBER:  9\n",
            "\n",
            "NOW TRAIN THE MODEL.\n"
          ]
        },
        {
          "output_type": "stream",
          "name": "stderr",
          "text": [
            "  0%|▎                                                                                 | 1/300 [00:07<36:56,  7.41s/it]\n",
            "Epoch 1 of 1:   0%|                                                                              | 0/1 [00:00<?, ?it/s]\n",
            "Running Epoch 0 of 1:   0%|                                                                     | 0/38 [00:00<?, ?it/s]\u001b[A\n",
            "Running Epoch 0 of 1:   3%|█▌                                                           | 1/38 [00:02<01:32,  2.51s/it]\u001b[A\n",
            "Running Epoch 0 of 1:   5%|███▏                                                         | 2/38 [00:05<01:30,  2.51s/it]\u001b[A\n",
            "Running Epoch 0 of 1:   8%|████▊                                                        | 3/38 [00:07<01:26,  2.48s/it]\u001b[A\n",
            "Running Epoch 0 of 1:  11%|██████▍                                                      | 4/38 [00:09<01:24,  2.49s/it]\u001b[A\n",
            "Running Epoch 0 of 1:  13%|████████                                                     | 5/38 [00:12<01:21,  2.48s/it]\u001b[A\n",
            "Running Epoch 0 of 1:  16%|█████████▋                                                   | 6/38 [00:14<01:19,  2.49s/it]\u001b[A\n",
            "Running Epoch 0 of 1:  18%|███████████▏                                                 | 7/38 [00:17<01:17,  2.49s/it]\u001b[A\n",
            "Running Epoch 0 of 1:  21%|████████████▊                                                | 8/38 [00:19<01:14,  2.50s/it]\u001b[A\n",
            "Running Epoch 0 of 1:  24%|██████████████▍                                              | 9/38 [00:22<01:12,  2.49s/it]\u001b[A\n",
            "Running Epoch 0 of 1:  26%|███████████████▊                                            | 10/38 [00:24<01:09,  2.49s/it]\u001b[A\n",
            "Running Epoch 0 of 1:  29%|█████████████████▎                                          | 11/38 [00:27<01:07,  2.49s/it]\u001b[A\n",
            "Running Epoch 0 of 1:  32%|██████████████████▉                                         | 12/38 [00:29<01:05,  2.50s/it]\u001b[A\n",
            "Running Epoch 0 of 1:  34%|████████████████████▌                                       | 13/38 [00:32<01:02,  2.49s/it]\u001b[A\n",
            "Running Epoch 0 of 1:  37%|██████████████████████                                      | 14/38 [00:34<01:00,  2.51s/it]\u001b[A\n",
            "Running Epoch 0 of 1:  39%|███████████████████████▋                                    | 15/38 [00:37<00:57,  2.49s/it]\u001b[A\n",
            "Running Epoch 0 of 1:  42%|█████████████████████████▎                                  | 16/38 [00:39<00:55,  2.50s/it]\u001b[A\n",
            "Running Epoch 0 of 1:  45%|██████████████████████████▊                                 | 17/38 [00:42<00:52,  2.49s/it]\u001b[A\n",
            "Running Epoch 0 of 1:  47%|████████████████████████████▍                               | 18/38 [00:44<00:49,  2.50s/it]\u001b[A\n",
            "Running Epoch 0 of 1:  50%|██████████████████████████████                              | 19/38 [00:47<00:47,  2.48s/it]\u001b[A\n",
            "Running Epoch 0 of 1:  53%|███████████████████████████████▌                            | 20/38 [00:49<00:44,  2.50s/it]\u001b[A\n",
            "Running Epoch 0 of 1:  55%|█████████████████████████████████▏                          | 21/38 [00:52<00:42,  2.49s/it]\u001b[A\n",
            "Running Epoch 0 of 1:  58%|██████████████████████████████████▋                         | 22/38 [00:54<00:40,  2.50s/it]\u001b[A\n",
            "Running Epoch 0 of 1:  61%|████████████████████████████████████▎                       | 23/38 [00:57<00:37,  2.49s/it]\u001b[A\n",
            "Running Epoch 0 of 1:  63%|█████████████████████████████████████▉                      | 24/38 [00:59<00:35,  2.51s/it]\u001b[A\n",
            "Running Epoch 0 of 1:  66%|███████████████████████████████████████▍                    | 25/38 [01:02<00:32,  2.49s/it]\u001b[A\n",
            "Running Epoch 0 of 1:  68%|█████████████████████████████████████████                   | 26/38 [01:04<00:30,  2.51s/it]\u001b[A\n",
            "Running Epoch 0 of 1:  71%|██████████████████████████████████████████▋                 | 27/38 [01:07<00:27,  2.50s/it]\u001b[A\n",
            "Running Epoch 0 of 1:  74%|████████████████████████████████████████████▏               | 28/38 [01:09<00:25,  2.51s/it]\u001b[A\n",
            "Running Epoch 0 of 1:  76%|█████████████████████████████████████████████▊              | 29/38 [01:12<00:22,  2.50s/it]\u001b[A\n",
            "Running Epoch 0 of 1:  79%|███████████████████████████████████████████████▎            | 30/38 [01:14<00:20,  2.52s/it]\u001b[A\n",
            "Running Epoch 0 of 1:  82%|████████████████████████████████████████████████▉           | 31/38 [01:17<00:17,  2.51s/it]\u001b[A\n",
            "Running Epoch 0 of 1:  84%|██████████████████████████████████████████████████▌         | 32/38 [01:19<00:15,  2.51s/it]\u001b[A\n",
            "Running Epoch 0 of 1:  87%|████████████████████████████████████████████████████        | 33/38 [01:22<00:12,  2.51s/it]\u001b[A\n",
            "Running Epoch 0 of 1:  89%|█████████████████████████████████████████████████████▋      | 34/38 [01:24<00:10,  2.52s/it]\u001b[A\n",
            "Running Epoch 0 of 1:  92%|███████████████████████████████████████████████████████▎    | 35/38 [01:27<00:07,  2.51s/it]\u001b[A\n",
            "Running Epoch 0 of 1:  95%|████████████████████████████████████████████████████████▊   | 36/38 [01:30<00:05,  2.52s/it]\u001b[A\n",
            "Running Epoch 0 of 1:  97%|██████████████████████████████████████████████████████████▍ | 37/38 [01:32<00:02,  2.51s/it]\u001b[A\n",
            "Running Epoch 0 of 1: 100%|████████████████████████████████████████████████████████████| 38/38 [01:34<00:00,  2.48s/it]\n",
            "Epoch 1 of 1: 100%|██████████████████████████████████████████████████████████████████████| 1/1 [01:34<00:00, 94.18s/it]\n",
            "C:\\Users\\Domenico\\.conda\\envs\\tf\\lib\\site-packages\\simpletransformers\\classification\\classification_model.py:1454: UserWarning: Dataframe headers not specified. Falling back to using column 0 as text and column 1 as labels.\n",
            "  warnings.warn(\n"
          ]
        },
        {
          "output_type": "stream",
          "name": "stdout",
          "text": [
            "\n",
            "NOW EVALUATE THE TEST DF.\n"
          ]
        },
        {
          "output_type": "stream",
          "name": "stderr",
          "text": [
            "  0%|▍                                                                                 | 1/200 [00:05<18:56,  5.71s/it]\n",
            "Running Evaluation: 100%|██████████████████████████████████████████████████████████████| 25/25 [00:15<00:00,  1.60it/s]\n"
          ]
        },
        {
          "output_type": "stream",
          "name": "stdout",
          "text": [
            "{'mcc': 0.2716484750879583, 'tp': 58, 'tn': 69, 'fp': 31, 'fn': 42, 'auroc': 0.7147, 'auprc': 0.6590719701259368, 'eval_loss': 1.0115723426640033}\n",
            "Correct predictions are:  127\n",
            "Total predictions are:  200\n",
            "Accuracy on test set is: 0.635 \n",
            "\n",
            "\n",
            "[0.545, 0.575, 0.63, 0.645, 0.64, 0.515, 0.625, 0.66, 0.665, 0.635]\n"
          ]
        },
        {
          "output_type": "stream",
          "name": "stderr",
          "text": [
            "Some weights of the model checkpoint at roberta-base were not used when initializing RobertaForSequenceClassification: ['lm_head.bias', 'roberta.pooler.dense.bias', 'lm_head.layer_norm.bias', 'lm_head.decoder.weight', 'lm_head.dense.weight', 'roberta.pooler.dense.weight', 'lm_head.layer_norm.weight', 'lm_head.dense.bias']\n",
            "- This IS expected if you are initializing RobertaForSequenceClassification from the checkpoint of a model trained on another task or with another architecture (e.g. initializing a BertForSequenceClassification model from a BertForPreTraining model).\n",
            "- This IS NOT expected if you are initializing RobertaForSequenceClassification from the checkpoint of a model that you expect to be exactly identical (initializing a BertForSequenceClassification model from a BertForSequenceClassification model).\n",
            "Some weights of RobertaForSequenceClassification were not initialized from the model checkpoint at roberta-base and are newly initialized: ['classifier.out_proj.weight', 'classifier.out_proj.bias', 'classifier.dense.weight', 'classifier.dense.bias']\n",
            "You should probably TRAIN this model on a down-stream task to be able to use it for predictions and inference.\n",
            "C:\\Users\\Domenico\\.conda\\envs\\tf\\lib\\site-packages\\simpletransformers\\classification\\classification_model.py:612: UserWarning: Dataframe headers not specified. Falling back to using column 0 as text and column 1 as labels.\n",
            "  warnings.warn(\n"
          ]
        },
        {
          "output_type": "stream",
          "name": "stdout",
          "text": [
            "\n",
            "EPOCH NUMBER:  0\n",
            "\n",
            "NOW TRAIN THE MODEL.\n"
          ]
        },
        {
          "output_type": "stream",
          "name": "stderr",
          "text": [
            "  0%|▎                                                                                 | 1/300 [00:07<37:09,  7.46s/it]\n",
            "Epoch 1 of 1:   0%|                                                                              | 0/1 [00:00<?, ?it/s]\n",
            "Running Epoch 0 of 1:   0%|                                                                     | 0/38 [00:00<?, ?it/s]\u001b[A\n",
            "Running Epoch 0 of 1:   3%|█▌                                                           | 1/38 [00:02<01:30,  2.44s/it]\u001b[A\n",
            "Running Epoch 0 of 1:   5%|███▏                                                         | 2/38 [00:04<01:30,  2.51s/it]\u001b[A\n",
            "Running Epoch 0 of 1:   8%|████▊                                                        | 3/38 [00:07<01:28,  2.52s/it]\u001b[A\n",
            "Running Epoch 0 of 1:  11%|██████▍                                                      | 4/38 [00:10<01:26,  2.54s/it]\u001b[A\n",
            "Running Epoch 0 of 1:  13%|████████                                                     | 5/38 [00:12<01:23,  2.52s/it]\u001b[A\n",
            "Running Epoch 0 of 1:  16%|█████████▋                                                   | 6/38 [00:15<01:21,  2.55s/it]\u001b[A\n",
            "Running Epoch 0 of 1:  18%|███████████▏                                                 | 7/38 [00:17<01:18,  2.54s/it]\u001b[A\n",
            "Running Epoch 0 of 1:  21%|████████████▊                                                | 8/38 [00:20<01:16,  2.56s/it]\u001b[A\n",
            "Running Epoch 0 of 1:  24%|██████████████▍                                              | 9/38 [00:22<01:14,  2.55s/it]\u001b[A\n",
            "Running Epoch 0 of 1:  26%|███████████████▊                                            | 10/38 [00:25<01:11,  2.57s/it]\u001b[A\n",
            "Running Epoch 0 of 1:  29%|█████████████████▎                                          | 11/38 [00:27<01:08,  2.55s/it]\u001b[A\n",
            "Running Epoch 0 of 1:  32%|██████████████████▉                                         | 12/38 [00:30<01:06,  2.54s/it]\u001b[A\n",
            "Running Epoch 0 of 1:  34%|████████████████████▌                                       | 13/38 [00:33<01:03,  2.55s/it]\u001b[A\n",
            "Running Epoch 0 of 1:  37%|██████████████████████                                      | 14/38 [00:35<01:01,  2.57s/it]\u001b[A\n",
            "Running Epoch 0 of 1:  39%|███████████████████████▋                                    | 15/38 [00:38<00:59,  2.57s/it]\u001b[A\n",
            "Running Epoch 0 of 1:  42%|█████████████████████████▎                                  | 16/38 [00:40<00:56,  2.55s/it]\u001b[A\n",
            "Running Epoch 0 of 1:  45%|██████████████████████████▊                                 | 17/38 [00:43<00:53,  2.57s/it]\u001b[A\n",
            "Running Epoch 0 of 1:  47%|████████████████████████████▍                               | 18/38 [00:45<00:51,  2.57s/it]\u001b[A\n",
            "Running Epoch 0 of 1:  50%|██████████████████████████████                              | 19/38 [00:48<00:48,  2.57s/it]\u001b[A\n",
            "Running Epoch 0 of 1:  53%|███████████████████████████████▌                            | 20/38 [00:51<00:46,  2.57s/it]\u001b[A\n",
            "Running Epoch 0 of 1:  55%|█████████████████████████████████▏                          | 21/38 [00:53<00:43,  2.56s/it]\u001b[A\n",
            "Running Epoch 0 of 1:  58%|██████████████████████████████████▋                         | 22/38 [00:56<00:41,  2.57s/it]\u001b[A\n",
            "Running Epoch 0 of 1:  61%|████████████████████████████████████▎                       | 23/38 [00:58<00:38,  2.55s/it]\u001b[A\n",
            "Running Epoch 0 of 1:  63%|█████████████████████████████████████▉                      | 24/38 [01:01<00:35,  2.56s/it]\u001b[A\n",
            "Running Epoch 0 of 1:  66%|███████████████████████████████████████▍                    | 25/38 [01:03<00:33,  2.54s/it]\u001b[A\n",
            "Running Epoch 0 of 1:  68%|█████████████████████████████████████████                   | 26/38 [01:06<00:30,  2.55s/it]\u001b[A\n",
            "Running Epoch 0 of 1:  71%|██████████████████████████████████████████▋                 | 27/38 [01:08<00:27,  2.53s/it]\u001b[A\n",
            "Running Epoch 0 of 1:  74%|████████████████████████████████████████████▏               | 28/38 [01:11<00:25,  2.55s/it]\u001b[A\n",
            "Running Epoch 0 of 1:  76%|█████████████████████████████████████████████▊              | 29/38 [01:13<00:22,  2.53s/it]\u001b[A\n",
            "Running Epoch 0 of 1:  79%|███████████████████████████████████████████████▎            | 30/38 [01:16<00:20,  2.54s/it]\u001b[A\n",
            "Running Epoch 0 of 1:  82%|████████████████████████████████████████████████▉           | 31/38 [01:19<00:17,  2.56s/it]\u001b[A\n",
            "Running Epoch 0 of 1:  84%|██████████████████████████████████████████████████▌         | 32/38 [01:21<00:15,  2.56s/it]\u001b[A\n",
            "Running Epoch 0 of 1:  87%|████████████████████████████████████████████████████        | 33/38 [01:24<00:12,  2.55s/it]\u001b[A\n",
            "Running Epoch 0 of 1:  89%|█████████████████████████████████████████████████████▋      | 34/38 [01:26<00:10,  2.56s/it]\u001b[A\n",
            "Running Epoch 0 of 1:  92%|███████████████████████████████████████████████████████▎    | 35/38 [01:29<00:07,  2.57s/it]\u001b[A\n",
            "Running Epoch 0 of 1:  95%|████████████████████████████████████████████████████████▊   | 36/38 [01:31<00:05,  2.55s/it]\u001b[A\n",
            "Running Epoch 0 of 1:  97%|██████████████████████████████████████████████████████████▍ | 37/38 [01:34<00:02,  2.58s/it]\u001b[A\n",
            "Running Epoch 0 of 1: 100%|████████████████████████████████████████████████████████████| 38/38 [01:36<00:00,  2.53s/it]\n",
            "Epoch 1 of 1: 100%|██████████████████████████████████████████████████████████████████████| 1/1 [01:36<00:00, 96.18s/it]\n",
            "C:\\Users\\Domenico\\.conda\\envs\\tf\\lib\\site-packages\\simpletransformers\\classification\\classification_model.py:1454: UserWarning: Dataframe headers not specified. Falling back to using column 0 as text and column 1 as labels.\n",
            "  warnings.warn(\n"
          ]
        },
        {
          "output_type": "stream",
          "name": "stdout",
          "text": [
            "\n",
            "NOW EVALUATE THE TEST DF.\n"
          ]
        },
        {
          "output_type": "stream",
          "name": "stderr",
          "text": [
            "  0%|▍                                                                                 | 1/200 [00:05<19:22,  5.84s/it]\n",
            "Running Evaluation: 100%|██████████████████████████████████████████████████████████████| 25/25 [00:16<00:00,  1.56it/s]\n",
            "C:\\Users\\Domenico\\.conda\\envs\\tf\\lib\\site-packages\\simpletransformers\\classification\\classification_model.py:612: UserWarning: Dataframe headers not specified. Falling back to using column 0 as text and column 1 as labels.\n",
            "  warnings.warn(\n"
          ]
        },
        {
          "output_type": "stream",
          "name": "stdout",
          "text": [
            "{'mcc': 0.2154101092138323, 'tp': 19, 'tn': 95, 'fp': 5, 'fn': 81, 'auroc': 0.7101999999999999, 'auprc': 0.6778662034559778, 'eval_loss': 0.6867484974861146}\n",
            "Correct predictions are:  114\n",
            "Total predictions are:  200\n",
            "Accuracy on test set is: 0.57 \n",
            "\n",
            "\n",
            "\n",
            "EPOCH NUMBER:  1\n",
            "\n",
            "NOW TRAIN THE MODEL.\n"
          ]
        },
        {
          "output_type": "stream",
          "name": "stderr",
          "text": [
            "  0%|▎                                                                                 | 1/300 [00:07<38:20,  7.69s/it]\n",
            "Epoch 1 of 1:   0%|                                                                              | 0/1 [00:00<?, ?it/s]\n",
            "Running Epoch 0 of 1:   0%|                                                                     | 0/38 [00:00<?, ?it/s]\u001b[A\n",
            "Running Epoch 0 of 1:   3%|█▌                                                           | 1/38 [00:02<01:35,  2.57s/it]\u001b[A\n",
            "Running Epoch 0 of 1:   5%|███▏                                                         | 2/38 [00:05<01:32,  2.56s/it]\u001b[A\n",
            "Running Epoch 0 of 1:   8%|████▊                                                        | 3/38 [00:07<01:30,  2.59s/it]\u001b[A\n",
            "Running Epoch 0 of 1:  11%|██████▍                                                      | 4/38 [00:10<01:27,  2.56s/it]\u001b[A\n",
            "Running Epoch 0 of 1:  13%|████████                                                     | 5/38 [00:12<01:24,  2.56s/it]\u001b[A\n",
            "Running Epoch 0 of 1:  16%|█████████▋                                                   | 6/38 [00:15<01:22,  2.57s/it]\u001b[A\n",
            "Running Epoch 0 of 1:  18%|███████████▏                                                 | 7/38 [00:18<01:20,  2.59s/it]\u001b[A\n",
            "Running Epoch 0 of 1:  21%|████████████▊                                                | 8/38 [00:20<01:18,  2.60s/it]\u001b[A\n",
            "Running Epoch 0 of 1:  24%|██████████████▍                                              | 9/38 [00:23<01:15,  2.60s/it]\u001b[A\n",
            "Running Epoch 0 of 1:  26%|███████████████▊                                            | 10/38 [00:25<01:13,  2.62s/it]\u001b[A\n",
            "Running Epoch 0 of 1:  29%|█████████████████▎                                          | 11/38 [00:28<01:10,  2.61s/it]\u001b[A\n",
            "Running Epoch 0 of 1:  32%|██████████████████▉                                         | 12/38 [00:31<01:07,  2.61s/it]\u001b[A\n",
            "Running Epoch 0 of 1:  34%|████████████████████▌                                       | 13/38 [00:33<01:05,  2.62s/it]\u001b[A\n",
            "Running Epoch 0 of 1:  37%|██████████████████████                                      | 14/38 [00:36<01:02,  2.59s/it]\u001b[A\n",
            "Running Epoch 0 of 1:  39%|███████████████████████▋                                    | 15/38 [00:38<00:59,  2.60s/it]\u001b[A\n",
            "Running Epoch 0 of 1:  42%|█████████████████████████▎                                  | 16/38 [00:41<00:57,  2.59s/it]\u001b[A\n",
            "Running Epoch 0 of 1:  45%|██████████████████████████▊                                 | 17/38 [00:44<00:54,  2.59s/it]\u001b[A\n",
            "Running Epoch 0 of 1:  47%|████████████████████████████▍                               | 18/38 [00:46<00:52,  2.61s/it]\u001b[A\n",
            "Running Epoch 0 of 1:  50%|██████████████████████████████                              | 19/38 [00:49<00:49,  2.60s/it]\u001b[A\n",
            "Running Epoch 0 of 1:  53%|███████████████████████████████▌                            | 20/38 [00:52<00:47,  2.65s/it]\u001b[A\n",
            "Running Epoch 0 of 1:  55%|█████████████████████████████████▏                          | 21/38 [00:54<00:45,  2.66s/it]\u001b[A\n",
            "Running Epoch 0 of 1:  58%|██████████████████████████████████▋                         | 22/38 [00:57<00:42,  2.64s/it]\u001b[A\n",
            "Running Epoch 0 of 1:  61%|████████████████████████████████████▎                       | 23/38 [00:59<00:39,  2.64s/it]\u001b[A\n",
            "Running Epoch 0 of 1:  63%|█████████████████████████████████████▉                      | 24/38 [01:02<00:37,  2.64s/it]\u001b[A\n",
            "Running Epoch 0 of 1:  66%|███████████████████████████████████████▍                    | 25/38 [01:05<00:34,  2.64s/it]\u001b[A\n",
            "Running Epoch 0 of 1:  68%|█████████████████████████████████████████                   | 26/38 [01:07<00:31,  2.64s/it]\u001b[A\n",
            "Running Epoch 0 of 1:  71%|██████████████████████████████████████████▋                 | 27/38 [01:10<00:28,  2.64s/it]\u001b[A\n",
            "Running Epoch 0 of 1:  74%|████████████████████████████████████████████▏               | 28/38 [01:13<00:26,  2.63s/it]\u001b[A\n",
            "Running Epoch 0 of 1:  76%|█████████████████████████████████████████████▊              | 29/38 [01:15<00:23,  2.64s/it]\u001b[A\n",
            "Running Epoch 0 of 1:  79%|███████████████████████████████████████████████▎            | 30/38 [01:18<00:20,  2.62s/it]\u001b[A\n",
            "Running Epoch 0 of 1:  82%|████████████████████████████████████████████████▉           | 31/38 [01:21<00:18,  2.64s/it]\u001b[A\n",
            "Running Epoch 0 of 1:  84%|██████████████████████████████████████████████████▌         | 32/38 [01:23<00:15,  2.64s/it]\u001b[A\n",
            "Running Epoch 0 of 1:  87%|████████████████████████████████████████████████████        | 33/38 [01:26<00:13,  2.62s/it]\u001b[A\n",
            "Running Epoch 0 of 1:  89%|█████████████████████████████████████████████████████▋      | 34/38 [01:28<00:10,  2.63s/it]\u001b[A\n",
            "Running Epoch 0 of 1:  92%|███████████████████████████████████████████████████████▎    | 35/38 [01:31<00:07,  2.63s/it]\u001b[A\n",
            "Running Epoch 0 of 1:  95%|████████████████████████████████████████████████████████▊   | 36/38 [01:34<00:05,  2.62s/it]\u001b[A\n",
            "Running Epoch 0 of 1:  97%|██████████████████████████████████████████████████████████▍ | 37/38 [01:36<00:02,  2.63s/it]\u001b[A\n",
            "Running Epoch 0 of 1: 100%|████████████████████████████████████████████████████████████| 38/38 [01:38<00:00,  2.59s/it]\n",
            "Epoch 1 of 1: 100%|██████████████████████████████████████████████████████████████████████| 1/1 [01:38<00:00, 98.56s/it]\n",
            "C:\\Users\\Domenico\\.conda\\envs\\tf\\lib\\site-packages\\simpletransformers\\classification\\classification_model.py:1454: UserWarning: Dataframe headers not specified. Falling back to using column 0 as text and column 1 as labels.\n",
            "  warnings.warn(\n"
          ]
        },
        {
          "output_type": "stream",
          "name": "stdout",
          "text": [
            "\n",
            "NOW EVALUATE THE TEST DF.\n"
          ]
        },
        {
          "output_type": "stream",
          "name": "stderr",
          "text": [
            "  0%|▍                                                                                 | 1/200 [00:05<19:20,  5.83s/it]\n",
            "Running Evaluation: 100%|██████████████████████████████████████████████████████████████| 25/25 [00:16<00:00,  1.50it/s]\n",
            "C:\\Users\\Domenico\\.conda\\envs\\tf\\lib\\site-packages\\simpletransformers\\classification\\classification_model.py:612: UserWarning: Dataframe headers not specified. Falling back to using column 0 as text and column 1 as labels.\n",
            "  warnings.warn(\n"
          ]
        },
        {
          "output_type": "stream",
          "name": "stdout",
          "text": [
            "{'mcc': 0.3398804086005824, 'tp': 86, 'tn': 45, 'fp': 55, 'fn': 14, 'auroc': 0.7051999999999999, 'auprc': 0.6677887612793941, 'eval_loss': 0.668028495311737}\n",
            "Correct predictions are:  131\n",
            "Total predictions are:  200\n",
            "Accuracy on test set is: 0.655 \n",
            "\n",
            "\n",
            "\n",
            "EPOCH NUMBER:  2\n",
            "\n",
            "NOW TRAIN THE MODEL.\n"
          ]
        },
        {
          "output_type": "stream",
          "name": "stderr",
          "text": [
            "  0%|▎                                                                                 | 1/300 [00:07<38:25,  7.71s/it]\n",
            "Epoch 1 of 1:   0%|                                                                              | 0/1 [00:00<?, ?it/s]\n",
            "Running Epoch 0 of 1:   0%|                                                                     | 0/38 [00:00<?, ?it/s]\u001b[A\n",
            "Running Epoch 0 of 1:   3%|█▌                                                           | 1/38 [00:02<01:40,  2.72s/it]\u001b[A\n",
            "Running Epoch 0 of 1:   5%|███▏                                                         | 2/38 [00:05<01:35,  2.66s/it]\u001b[A\n",
            "Running Epoch 0 of 1:   8%|████▊                                                        | 3/38 [00:07<01:32,  2.63s/it]\u001b[A\n",
            "Running Epoch 0 of 1:  11%|██████▍                                                      | 4/38 [00:10<01:29,  2.64s/it]\u001b[A\n",
            "Running Epoch 0 of 1:  13%|████████                                                     | 5/38 [00:13<01:26,  2.64s/it]\u001b[A\n",
            "Running Epoch 0 of 1:  16%|█████████▋                                                   | 6/38 [00:15<01:24,  2.63s/it]\u001b[A\n",
            "Running Epoch 0 of 1:  18%|███████████▏                                                 | 7/38 [00:18<01:21,  2.64s/it]\u001b[A\n",
            "Running Epoch 0 of 1:  21%|████████████▊                                                | 8/38 [00:21<01:18,  2.62s/it]\u001b[A\n",
            "Running Epoch 0 of 1:  24%|██████████████▍                                              | 9/38 [00:23<01:16,  2.63s/it]\u001b[A\n",
            "Running Epoch 0 of 1:  26%|███████████████▊                                            | 10/38 [00:26<01:13,  2.63s/it]\u001b[A\n",
            "Running Epoch 0 of 1:  29%|█████████████████▎                                          | 11/38 [00:28<01:10,  2.62s/it]\u001b[A\n",
            "Running Epoch 0 of 1:  32%|██████████████████▉                                         | 12/38 [00:31<01:08,  2.62s/it]\u001b[A\n",
            "Running Epoch 0 of 1:  34%|████████████████████▌                                       | 13/38 [00:34<01:05,  2.62s/it]\u001b[A\n",
            "Running Epoch 0 of 1:  37%|██████████████████████                                      | 14/38 [00:36<01:02,  2.62s/it]\u001b[A\n",
            "Running Epoch 0 of 1:  39%|███████████████████████▋                                    | 15/38 [00:39<01:00,  2.64s/it]\u001b[A\n",
            "Running Epoch 0 of 1:  42%|█████████████████████████▎                                  | 16/38 [00:42<00:57,  2.63s/it]\u001b[A\n",
            "Running Epoch 0 of 1:  45%|██████████████████████████▊                                 | 17/38 [00:44<00:53,  2.57s/it]\u001b[A\n",
            "Running Epoch 0 of 1:  47%|████████████████████████████▍                               | 18/38 [00:46<00:50,  2.53s/it]\u001b[A\n",
            "Running Epoch 0 of 1:  50%|██████████████████████████████                              | 19/38 [00:49<00:47,  2.50s/it]\u001b[A\n",
            "Running Epoch 0 of 1:  53%|███████████████████████████████▌                            | 20/38 [00:51<00:44,  2.46s/it]\u001b[A\n",
            "Running Epoch 0 of 1:  55%|█████████████████████████████████▏                          | 21/38 [00:54<00:41,  2.45s/it]\u001b[A\n",
            "Running Epoch 0 of 1:  58%|██████████████████████████████████▋                         | 22/38 [00:56<00:39,  2.44s/it]\u001b[A\n",
            "Running Epoch 0 of 1:  61%|████████████████████████████████████▎                       | 23/38 [00:59<00:36,  2.43s/it]\u001b[A\n",
            "Running Epoch 0 of 1:  63%|█████████████████████████████████████▉                      | 24/38 [01:01<00:33,  2.43s/it]\u001b[A\n",
            "Running Epoch 0 of 1:  66%|███████████████████████████████████████▍                    | 25/38 [01:03<00:31,  2.43s/it]\u001b[A\n",
            "Running Epoch 0 of 1:  68%|█████████████████████████████████████████                   | 26/38 [01:06<00:29,  2.44s/it]\u001b[A\n",
            "Running Epoch 0 of 1:  71%|██████████████████████████████████████████▋                 | 27/38 [01:08<00:26,  2.44s/it]\u001b[A\n",
            "Running Epoch 0 of 1:  74%|████████████████████████████████████████████▏               | 28/38 [01:11<00:24,  2.45s/it]\u001b[A\n",
            "Running Epoch 0 of 1:  76%|█████████████████████████████████████████████▊              | 29/38 [01:13<00:22,  2.46s/it]\u001b[A\n",
            "Running Epoch 0 of 1:  79%|███████████████████████████████████████████████▎            | 30/38 [01:16<00:19,  2.46s/it]\u001b[A\n",
            "Running Epoch 0 of 1:  82%|████████████████████████████████████████████████▉           | 31/38 [01:18<00:17,  2.46s/it]\u001b[A\n",
            "Running Epoch 0 of 1:  84%|██████████████████████████████████████████████████▌         | 32/38 [01:21<00:14,  2.46s/it]\u001b[A\n",
            "Running Epoch 0 of 1:  87%|████████████████████████████████████████████████████        | 33/38 [01:23<00:12,  2.47s/it]\u001b[A\n",
            "Running Epoch 0 of 1:  89%|█████████████████████████████████████████████████████▋      | 34/38 [01:26<00:09,  2.47s/it]\u001b[A\n",
            "Running Epoch 0 of 1:  92%|███████████████████████████████████████████████████████▎    | 35/38 [01:28<00:07,  2.45s/it]\u001b[A\n",
            "Running Epoch 0 of 1:  95%|████████████████████████████████████████████████████████▊   | 36/38 [01:30<00:04,  2.44s/it]\u001b[A\n",
            "Running Epoch 0 of 1:  97%|██████████████████████████████████████████████████████████▍ | 37/38 [01:33<00:02,  2.44s/it]\u001b[A\n",
            "Running Epoch 0 of 1: 100%|████████████████████████████████████████████████████████████| 38/38 [01:34<00:00,  2.50s/it]\n",
            "Epoch 1 of 1: 100%|██████████████████████████████████████████████████████████████████████| 1/1 [01:34<00:00, 94.93s/it]\n",
            "C:\\Users\\Domenico\\.conda\\envs\\tf\\lib\\site-packages\\simpletransformers\\classification\\classification_model.py:1454: UserWarning: Dataframe headers not specified. Falling back to using column 0 as text and column 1 as labels.\n",
            "  warnings.warn(\n"
          ]
        },
        {
          "output_type": "stream",
          "name": "stdout",
          "text": [
            "\n",
            "NOW EVALUATE THE TEST DF.\n"
          ]
        },
        {
          "output_type": "stream",
          "name": "stderr",
          "text": [
            "  0%|▍                                                                                 | 1/200 [00:05<18:52,  5.69s/it]\n",
            "Running Evaluation: 100%|██████████████████████████████████████████████████████████████| 25/25 [00:14<00:00,  1.67it/s]\n",
            "C:\\Users\\Domenico\\.conda\\envs\\tf\\lib\\site-packages\\simpletransformers\\classification\\classification_model.py:612: UserWarning: Dataframe headers not specified. Falling back to using column 0 as text and column 1 as labels.\n",
            "  warnings.warn(\n"
          ]
        },
        {
          "output_type": "stream",
          "name": "stdout",
          "text": [
            "{'mcc': 0.23393667553251238, 'tp': 44, 'tn': 78, 'fp': 22, 'fn': 56, 'auroc': 0.7104999999999999, 'auprc': 0.6846609288758603, 'eval_loss': 0.6416585862636566}\n",
            "Correct predictions are:  122\n",
            "Total predictions are:  200\n",
            "Accuracy on test set is: 0.61 \n",
            "\n",
            "\n",
            "\n",
            "EPOCH NUMBER:  3\n",
            "\n",
            "NOW TRAIN THE MODEL.\n"
          ]
        },
        {
          "output_type": "stream",
          "name": "stderr",
          "text": [
            "  0%|▎                                                                                 | 1/300 [00:07<36:44,  7.37s/it]\n",
            "Epoch 1 of 1:   0%|                                                                              | 0/1 [00:00<?, ?it/s]\n",
            "Running Epoch 0 of 1:   0%|                                                                     | 0/38 [00:00<?, ?it/s]\u001b[A\n",
            "Running Epoch 0 of 1:   3%|█▌                                                           | 1/38 [00:02<01:31,  2.48s/it]\u001b[A\n",
            "Running Epoch 0 of 1:   5%|███▏                                                         | 2/38 [00:04<01:29,  2.50s/it]\u001b[A\n",
            "Running Epoch 0 of 1:   8%|████▊                                                        | 3/38 [00:07<01:26,  2.47s/it]\u001b[A\n",
            "Running Epoch 0 of 1:  11%|██████▍                                                      | 4/38 [00:09<01:23,  2.47s/it]\u001b[A\n",
            "Running Epoch 0 of 1:  13%|████████                                                     | 5/38 [00:12<01:21,  2.46s/it]\u001b[A\n",
            "Running Epoch 0 of 1:  16%|█████████▋                                                   | 6/38 [00:14<01:19,  2.47s/it]\u001b[A\n",
            "Running Epoch 0 of 1:  18%|███████████▏                                                 | 7/38 [00:17<01:16,  2.48s/it]\u001b[A\n",
            "Running Epoch 0 of 1:  21%|████████████▊                                                | 8/38 [00:19<01:14,  2.49s/it]\u001b[A\n",
            "Running Epoch 0 of 1:  24%|██████████████▍                                              | 9/38 [00:22<01:12,  2.50s/it]\u001b[A\n",
            "Running Epoch 0 of 1:  26%|███████████████▊                                            | 10/38 [00:24<01:10,  2.51s/it]\u001b[A\n",
            "Running Epoch 0 of 1:  29%|█████████████████▎                                          | 11/38 [00:27<01:07,  2.51s/it]\u001b[A\n",
            "Running Epoch 0 of 1:  32%|██████████████████▉                                         | 12/38 [00:29<01:05,  2.51s/it]\u001b[A\n",
            "Running Epoch 0 of 1:  34%|████████████████████▌                                       | 13/38 [00:32<01:02,  2.50s/it]\u001b[A\n",
            "Running Epoch 0 of 1:  37%|██████████████████████                                      | 14/38 [00:34<00:59,  2.46s/it]\u001b[A\n",
            "Running Epoch 0 of 1:  39%|███████████████████████▋                                    | 15/38 [00:37<00:56,  2.45s/it]\u001b[A\n",
            "Running Epoch 0 of 1:  42%|█████████████████████████▎                                  | 16/38 [00:39<00:53,  2.42s/it]\u001b[A\n",
            "Running Epoch 0 of 1:  45%|██████████████████████████▊                                 | 17/38 [00:41<00:50,  2.41s/it]\u001b[A\n",
            "Running Epoch 0 of 1:  47%|████████████████████████████▍                               | 18/38 [00:44<00:47,  2.39s/it]\u001b[A\n",
            "Running Epoch 0 of 1:  50%|██████████████████████████████                              | 19/38 [00:46<00:45,  2.38s/it]\u001b[A\n",
            "Running Epoch 0 of 1:  53%|███████████████████████████████▌                            | 20/38 [00:49<00:42,  2.39s/it]\u001b[A\n",
            "Running Epoch 0 of 1:  55%|█████████████████████████████████▏                          | 21/38 [00:51<00:40,  2.36s/it]\u001b[A\n",
            "Running Epoch 0 of 1:  58%|██████████████████████████████████▋                         | 22/38 [00:53<00:38,  2.38s/it]\u001b[A\n",
            "Running Epoch 0 of 1:  61%|████████████████████████████████████▎                       | 23/38 [00:56<00:35,  2.38s/it]\u001b[A\n",
            "Running Epoch 0 of 1:  63%|█████████████████████████████████████▉                      | 24/38 [00:58<00:33,  2.36s/it]\u001b[A\n",
            "Running Epoch 0 of 1:  66%|███████████████████████████████████████▍                    | 25/38 [01:00<00:30,  2.36s/it]\u001b[A\n",
            "Running Epoch 0 of 1:  68%|█████████████████████████████████████████                   | 26/38 [01:03<00:28,  2.36s/it]\u001b[A\n",
            "Running Epoch 0 of 1:  71%|██████████████████████████████████████████▋                 | 27/38 [01:05<00:26,  2.36s/it]\u001b[A\n",
            "Running Epoch 0 of 1:  74%|████████████████████████████████████████████▏               | 28/38 [01:07<00:23,  2.37s/it]\u001b[A\n",
            "Running Epoch 0 of 1:  76%|█████████████████████████████████████████████▊              | 29/38 [01:10<00:21,  2.37s/it]\u001b[A\n",
            "Running Epoch 0 of 1:  79%|███████████████████████████████████████████████▎            | 30/38 [01:12<00:18,  2.36s/it]\u001b[A\n",
            "Running Epoch 0 of 1:  82%|████████████████████████████████████████████████▉           | 31/38 [01:15<00:16,  2.37s/it]\u001b[A\n",
            "Running Epoch 0 of 1:  84%|██████████████████████████████████████████████████▌         | 32/38 [01:17<00:14,  2.37s/it]\u001b[A\n",
            "Running Epoch 0 of 1:  87%|████████████████████████████████████████████████████        | 33/38 [01:19<00:11,  2.36s/it]\u001b[A\n",
            "Running Epoch 0 of 1:  89%|█████████████████████████████████████████████████████▋      | 34/38 [01:22<00:09,  2.37s/it]\u001b[A\n",
            "Running Epoch 0 of 1:  92%|███████████████████████████████████████████████████████▎    | 35/38 [01:24<00:07,  2.36s/it]\u001b[A\n",
            "Running Epoch 0 of 1:  95%|████████████████████████████████████████████████████████▊   | 36/38 [01:26<00:04,  2.36s/it]\u001b[A\n",
            "Running Epoch 0 of 1:  97%|██████████████████████████████████████████████████████████▍ | 37/38 [01:29<00:02,  2.35s/it]\u001b[A\n",
            "Running Epoch 0 of 1: 100%|████████████████████████████████████████████████████████████| 38/38 [01:30<00:00,  2.39s/it]\n",
            "Epoch 1 of 1: 100%|██████████████████████████████████████████████████████████████████████| 1/1 [01:30<00:00, 90.70s/it]\n",
            "C:\\Users\\Domenico\\.conda\\envs\\tf\\lib\\site-packages\\simpletransformers\\classification\\classification_model.py:1454: UserWarning: Dataframe headers not specified. Falling back to using column 0 as text and column 1 as labels.\n",
            "  warnings.warn(\n"
          ]
        },
        {
          "output_type": "stream",
          "name": "stdout",
          "text": [
            "\n",
            "NOW EVALUATE THE TEST DF.\n"
          ]
        },
        {
          "output_type": "stream",
          "name": "stderr",
          "text": [
            "  0%|▍                                                                                 | 1/200 [00:05<17:53,  5.39s/it]\n",
            "Running Evaluation: 100%|██████████████████████████████████████████████████████████████| 25/25 [00:14<00:00,  1.76it/s]\n",
            "C:\\Users\\Domenico\\.conda\\envs\\tf\\lib\\site-packages\\simpletransformers\\classification\\classification_model.py:612: UserWarning: Dataframe headers not specified. Falling back to using column 0 as text and column 1 as labels.\n",
            "  warnings.warn(\n"
          ]
        },
        {
          "output_type": "stream",
          "name": "stdout",
          "text": [
            "{'mcc': 0.36028834606144605, 'tp': 66, 'tn': 70, 'fp': 30, 'fn': 34, 'auroc': 0.7202000000000001, 'auprc': 0.6877842037853208, 'eval_loss': 0.6276248514652252}\n",
            "Correct predictions are:  136\n",
            "Total predictions are:  200\n",
            "Accuracy on test set is: 0.68 \n",
            "\n",
            "\n",
            "\n",
            "EPOCH NUMBER:  4\n",
            "\n",
            "NOW TRAIN THE MODEL.\n"
          ]
        },
        {
          "output_type": "stream",
          "name": "stderr",
          "text": [
            "  0%|▎                                                                                 | 1/300 [00:07<35:26,  7.11s/it]\n",
            "Epoch 1 of 1:   0%|                                                                              | 0/1 [00:00<?, ?it/s]\n",
            "Running Epoch 0 of 1:   0%|                                                                     | 0/38 [00:00<?, ?it/s]\u001b[A\n",
            "Running Epoch 0 of 1:   3%|█▌                                                           | 1/38 [00:02<01:26,  2.34s/it]\u001b[A\n",
            "Running Epoch 0 of 1:   5%|███▏                                                         | 2/38 [00:04<01:23,  2.32s/it]\u001b[A\n",
            "Running Epoch 0 of 1:   8%|████▊                                                        | 3/38 [00:07<01:22,  2.35s/it]\u001b[A\n",
            "Running Epoch 0 of 1:  11%|██████▍                                                      | 4/38 [00:09<01:19,  2.34s/it]\u001b[A\n",
            "Running Epoch 0 of 1:  13%|████████                                                     | 5/38 [00:11<01:17,  2.35s/it]\u001b[A\n",
            "Running Epoch 0 of 1:  16%|█████████▋                                                   | 6/38 [00:14<01:15,  2.36s/it]\u001b[A\n",
            "Running Epoch 0 of 1:  18%|███████████▏                                                 | 7/38 [00:16<01:12,  2.35s/it]\u001b[A\n",
            "Running Epoch 0 of 1:  21%|████████████▊                                                | 8/38 [00:18<01:10,  2.35s/it]\u001b[A\n",
            "Running Epoch 0 of 1:  24%|██████████████▍                                              | 9/38 [00:21<01:08,  2.36s/it]\u001b[A\n",
            "Running Epoch 0 of 1:  26%|███████████████▊                                            | 10/38 [00:23<01:05,  2.34s/it]\u001b[A\n",
            "Running Epoch 0 of 1:  29%|█████████████████▎                                          | 11/38 [00:25<01:02,  2.33s/it]\u001b[A\n",
            "Running Epoch 0 of 1:  32%|██████████████████▉                                         | 12/38 [00:28<01:00,  2.34s/it]\u001b[A\n",
            "Running Epoch 0 of 1:  34%|████████████████████▌                                       | 13/38 [00:30<00:58,  2.35s/it]\u001b[A\n",
            "Running Epoch 0 of 1:  37%|██████████████████████                                      | 14/38 [00:32<00:56,  2.34s/it]\u001b[A\n",
            "Running Epoch 0 of 1:  39%|███████████████████████▋                                    | 15/38 [00:35<00:53,  2.35s/it]\u001b[A\n",
            "Running Epoch 0 of 1:  42%|█████████████████████████▎                                  | 16/38 [00:37<00:51,  2.33s/it]\u001b[A\n",
            "Running Epoch 0 of 1:  45%|██████████████████████████▊                                 | 17/38 [00:39<00:49,  2.35s/it]\u001b[A\n",
            "Running Epoch 0 of 1:  47%|████████████████████████████▍                               | 18/38 [00:42<00:47,  2.35s/it]\u001b[A\n",
            "Running Epoch 0 of 1:  50%|██████████████████████████████                              | 19/38 [00:44<00:44,  2.35s/it]\u001b[A\n",
            "Running Epoch 0 of 1:  53%|███████████████████████████████▌                            | 20/38 [00:46<00:42,  2.36s/it]\u001b[A\n",
            "Running Epoch 0 of 1:  55%|█████████████████████████████████▏                          | 21/38 [00:49<00:39,  2.35s/it]\u001b[A\n",
            "Running Epoch 0 of 1:  58%|██████████████████████████████████▋                         | 22/38 [00:51<00:37,  2.34s/it]\u001b[A\n",
            "Running Epoch 0 of 1:  61%|████████████████████████████████████▎                       | 23/38 [00:53<00:35,  2.34s/it]\u001b[A\n",
            "Running Epoch 0 of 1:  63%|█████████████████████████████████████▉                      | 24/38 [00:56<00:32,  2.35s/it]\u001b[A\n",
            "Running Epoch 0 of 1:  66%|███████████████████████████████████████▍                    | 25/38 [00:58<00:30,  2.34s/it]\u001b[A\n",
            "Running Epoch 0 of 1:  68%|█████████████████████████████████████████                   | 26/38 [01:00<00:28,  2.35s/it]\u001b[A\n",
            "Running Epoch 0 of 1:  71%|██████████████████████████████████████████▋                 | 27/38 [01:03<00:25,  2.35s/it]\u001b[A\n",
            "Running Epoch 0 of 1:  74%|████████████████████████████████████████████▏               | 28/38 [01:05<00:23,  2.34s/it]\u001b[A\n",
            "Running Epoch 0 of 1:  76%|█████████████████████████████████████████████▊              | 29/38 [01:08<00:21,  2.36s/it]\u001b[A\n",
            "Running Epoch 0 of 1:  79%|███████████████████████████████████████████████▎            | 30/38 [01:10<00:18,  2.35s/it]\u001b[A\n",
            "Running Epoch 0 of 1:  82%|████████████████████████████████████████████████▉           | 31/38 [01:12<00:16,  2.35s/it]\u001b[A\n",
            "Running Epoch 0 of 1:  84%|██████████████████████████████████████████████████▌         | 32/38 [01:15<00:14,  2.38s/it]\u001b[A\n",
            "Running Epoch 0 of 1:  87%|████████████████████████████████████████████████████        | 33/38 [01:17<00:11,  2.36s/it]\u001b[A\n",
            "Running Epoch 0 of 1:  89%|█████████████████████████████████████████████████████▋      | 34/38 [01:19<00:09,  2.36s/it]\u001b[A\n",
            "Running Epoch 0 of 1:  92%|███████████████████████████████████████████████████████▎    | 35/38 [01:22<00:07,  2.36s/it]\u001b[A\n",
            "Running Epoch 0 of 1:  95%|████████████████████████████████████████████████████████▊   | 36/38 [01:24<00:04,  2.34s/it]\u001b[A\n",
            "Running Epoch 0 of 1:  97%|██████████████████████████████████████████████████████████▍ | 37/38 [01:26<00:02,  2.36s/it]\u001b[A\n",
            "Running Epoch 0 of 1: 100%|████████████████████████████████████████████████████████████| 38/38 [01:28<00:00,  2.33s/it]\n",
            "Epoch 1 of 1: 100%|██████████████████████████████████████████████████████████████████████| 1/1 [01:28<00:00, 88.45s/it]\n",
            "C:\\Users\\Domenico\\.conda\\envs\\tf\\lib\\site-packages\\simpletransformers\\classification\\classification_model.py:1454: UserWarning: Dataframe headers not specified. Falling back to using column 0 as text and column 1 as labels.\n",
            "  warnings.warn(\n"
          ]
        },
        {
          "output_type": "stream",
          "name": "stdout",
          "text": [
            "\n",
            "NOW EVALUATE THE TEST DF.\n"
          ]
        },
        {
          "output_type": "stream",
          "name": "stderr",
          "text": [
            "  0%|▍                                                                                 | 1/200 [00:05<17:59,  5.43s/it]\n",
            "Running Evaluation: 100%|██████████████████████████████████████████████████████████████| 25/25 [00:14<00:00,  1.78it/s]\n",
            "C:\\Users\\Domenico\\.conda\\envs\\tf\\lib\\site-packages\\simpletransformers\\classification\\classification_model.py:612: UserWarning: Dataframe headers not specified. Falling back to using column 0 as text and column 1 as labels.\n",
            "  warnings.warn(\n"
          ]
        },
        {
          "output_type": "stream",
          "name": "stdout",
          "text": [
            "{'mcc': 0.36028834606144605, 'tp': 66, 'tn': 70, 'fp': 30, 'fn': 34, 'auroc': 0.7401, 'auprc': 0.6927967231047754, 'eval_loss': 0.6318714809417725}\n",
            "Correct predictions are:  136\n",
            "Total predictions are:  200\n",
            "Accuracy on test set is: 0.68 \n",
            "\n",
            "\n",
            "\n",
            "EPOCH NUMBER:  5\n",
            "\n",
            "NOW TRAIN THE MODEL.\n"
          ]
        },
        {
          "output_type": "stream",
          "name": "stderr",
          "text": [
            "  0%|▎                                                                                 | 1/300 [00:07<35:14,  7.07s/it]\n",
            "Epoch 1 of 1:   0%|                                                                              | 0/1 [00:00<?, ?it/s]\n",
            "Running Epoch 0 of 1:   0%|                                                                     | 0/38 [00:00<?, ?it/s]\u001b[A\n",
            "Running Epoch 0 of 1:   3%|█▌                                                           | 1/38 [00:02<01:26,  2.35s/it]\u001b[A\n",
            "Running Epoch 0 of 1:   5%|███▏                                                         | 2/38 [00:04<01:24,  2.35s/it]\u001b[A\n",
            "Running Epoch 0 of 1:   8%|████▊                                                        | 3/38 [00:06<01:21,  2.32s/it]\u001b[A\n",
            "Running Epoch 0 of 1:  11%|██████▍                                                      | 4/38 [00:09<01:19,  2.33s/it]\u001b[A\n",
            "Running Epoch 0 of 1:  13%|████████                                                     | 5/38 [00:11<01:17,  2.34s/it]\u001b[A\n",
            "Running Epoch 0 of 1:  16%|█████████▋                                                   | 6/38 [00:14<01:14,  2.33s/it]\u001b[A\n",
            "Running Epoch 0 of 1:  18%|███████████▏                                                 | 7/38 [00:16<01:12,  2.34s/it]\u001b[A\n",
            "Running Epoch 0 of 1:  21%|████████████▊                                                | 8/38 [00:18<01:10,  2.37s/it]\u001b[A\n",
            "Running Epoch 0 of 1:  24%|██████████████▍                                              | 9/38 [00:21<01:08,  2.37s/it]\u001b[A\n",
            "Running Epoch 0 of 1:  26%|███████████████▊                                            | 10/38 [00:23<01:06,  2.37s/it]\u001b[A\n",
            "Running Epoch 0 of 1:  29%|█████████████████▎                                          | 11/38 [00:25<01:03,  2.35s/it]\u001b[A\n",
            "Running Epoch 0 of 1:  32%|██████████████████▉                                         | 12/38 [00:28<01:00,  2.35s/it]\u001b[A\n",
            "Running Epoch 0 of 1:  34%|████████████████████▌                                       | 13/38 [00:30<00:58,  2.35s/it]\u001b[A\n",
            "Running Epoch 0 of 1:  37%|██████████████████████                                      | 14/38 [00:32<00:56,  2.34s/it]\u001b[A\n",
            "Running Epoch 0 of 1:  39%|███████████████████████▋                                    | 15/38 [00:35<00:53,  2.34s/it]\u001b[A\n",
            "Running Epoch 0 of 1:  42%|█████████████████████████▎                                  | 16/38 [00:37<00:51,  2.35s/it]\u001b[A\n",
            "Running Epoch 0 of 1:  45%|██████████████████████████▊                                 | 17/38 [00:39<00:49,  2.34s/it]\u001b[A\n",
            "Running Epoch 0 of 1:  47%|████████████████████████████▍                               | 18/38 [00:42<00:46,  2.34s/it]\u001b[A\n",
            "Running Epoch 0 of 1:  50%|██████████████████████████████                              | 19/38 [00:44<00:44,  2.34s/it]\u001b[A\n",
            "Running Epoch 0 of 1:  53%|███████████████████████████████▌                            | 20/38 [00:46<00:42,  2.34s/it]\u001b[A\n",
            "Running Epoch 0 of 1:  55%|█████████████████████████████████▏                          | 21/38 [00:49<00:39,  2.34s/it]\u001b[A\n",
            "Running Epoch 0 of 1:  58%|██████████████████████████████████▋                         | 22/38 [00:51<00:37,  2.35s/it]\u001b[A\n",
            "Running Epoch 0 of 1:  61%|████████████████████████████████████▎                       | 23/38 [00:53<00:35,  2.34s/it]\u001b[A\n",
            "Running Epoch 0 of 1:  63%|█████████████████████████████████████▉                      | 24/38 [00:56<00:32,  2.36s/it]\u001b[A\n",
            "Running Epoch 0 of 1:  66%|███████████████████████████████████████▍                    | 25/38 [00:58<00:30,  2.37s/it]\u001b[A\n",
            "Running Epoch 0 of 1:  68%|█████████████████████████████████████████                   | 26/38 [01:01<00:28,  2.36s/it]\u001b[A\n",
            "Running Epoch 0 of 1:  71%|██████████████████████████████████████████▋                 | 27/38 [01:03<00:26,  2.37s/it]\u001b[A\n",
            "Running Epoch 0 of 1:  74%|████████████████████████████████████████████▏               | 28/38 [01:05<00:23,  2.35s/it]\u001b[A\n",
            "Running Epoch 0 of 1:  76%|█████████████████████████████████████████████▊              | 29/38 [01:08<00:21,  2.35s/it]\u001b[A\n",
            "Running Epoch 0 of 1:  79%|███████████████████████████████████████████████▎            | 30/38 [01:10<00:18,  2.36s/it]\u001b[A\n",
            "Running Epoch 0 of 1:  82%|████████████████████████████████████████████████▉           | 31/38 [01:12<00:16,  2.36s/it]\u001b[A\n",
            "Running Epoch 0 of 1:  84%|██████████████████████████████████████████████████▌         | 32/38 [01:15<00:14,  2.37s/it]\u001b[A\n",
            "Running Epoch 0 of 1:  87%|████████████████████████████████████████████████████        | 33/38 [01:17<00:11,  2.38s/it]\u001b[A\n",
            "Running Epoch 0 of 1:  89%|█████████████████████████████████████████████████████▋      | 34/38 [01:19<00:09,  2.36s/it]\u001b[A\n",
            "Running Epoch 0 of 1:  92%|███████████████████████████████████████████████████████▎    | 35/38 [01:22<00:07,  2.37s/it]\u001b[A\n",
            "Running Epoch 0 of 1:  95%|████████████████████████████████████████████████████████▊   | 36/38 [01:24<00:04,  2.38s/it]\u001b[A\n",
            "Running Epoch 0 of 1:  97%|██████████████████████████████████████████████████████████▍ | 37/38 [01:27<00:02,  2.36s/it]\u001b[A\n",
            "Running Epoch 0 of 1: 100%|████████████████████████████████████████████████████████████| 38/38 [01:28<00:00,  2.33s/it]\n",
            "Epoch 1 of 1: 100%|██████████████████████████████████████████████████████████████████████| 1/1 [01:28<00:00, 88.71s/it]\n",
            "C:\\Users\\Domenico\\.conda\\envs\\tf\\lib\\site-packages\\simpletransformers\\classification\\classification_model.py:1454: UserWarning: Dataframe headers not specified. Falling back to using column 0 as text and column 1 as labels.\n",
            "  warnings.warn(\n"
          ]
        },
        {
          "output_type": "stream",
          "name": "stdout",
          "text": [
            "\n",
            "NOW EVALUATE THE TEST DF.\n"
          ]
        },
        {
          "output_type": "stream",
          "name": "stderr",
          "text": [
            "  0%|▍                                                                                 | 1/200 [00:05<17:51,  5.39s/it]\n",
            "Running Evaluation: 100%|██████████████████████████████████████████████████████████████| 25/25 [00:14<00:00,  1.78it/s]\n",
            "C:\\Users\\Domenico\\.conda\\envs\\tf\\lib\\site-packages\\simpletransformers\\classification\\classification_model.py:612: UserWarning: Dataframe headers not specified. Falling back to using column 0 as text and column 1 as labels.\n",
            "  warnings.warn(\n"
          ]
        },
        {
          "output_type": "stream",
          "name": "stdout",
          "text": [
            "{'mcc': 0.34481798556724363, 'tp': 81, 'tn': 52, 'fp': 48, 'fn': 19, 'auroc': 0.7347, 'auprc': 0.687411145730312, 'eval_loss': 0.9758426582813263}\n",
            "Correct predictions are:  133\n",
            "Total predictions are:  200\n",
            "Accuracy on test set is: 0.665 \n",
            "\n",
            "\n",
            "\n",
            "EPOCH NUMBER:  6\n",
            "\n",
            "NOW TRAIN THE MODEL.\n"
          ]
        },
        {
          "output_type": "stream",
          "name": "stderr",
          "text": [
            "  0%|▎                                                                                 | 1/300 [00:07<35:18,  7.08s/it]\n",
            "Epoch 1 of 1:   0%|                                                                              | 0/1 [00:00<?, ?it/s]\n",
            "Running Epoch 0 of 1:   0%|                                                                     | 0/38 [00:00<?, ?it/s]\u001b[A\n",
            "Running Epoch 0 of 1:   3%|█▌                                                           | 1/38 [00:02<01:24,  2.28s/it]\u001b[A\n",
            "Running Epoch 0 of 1:   5%|███▏                                                         | 2/38 [00:04<01:23,  2.31s/it]\u001b[A\n",
            "Running Epoch 0 of 1:   8%|████▊                                                        | 3/38 [00:06<01:21,  2.33s/it]\u001b[A\n",
            "Running Epoch 0 of 1:  11%|██████▍                                                      | 4/38 [00:09<01:19,  2.33s/it]\u001b[A\n",
            "Running Epoch 0 of 1:  13%|████████                                                     | 5/38 [00:11<01:17,  2.33s/it]\u001b[A\n",
            "Running Epoch 0 of 1:  16%|█████████▋                                                   | 6/38 [00:13<01:14,  2.33s/it]\u001b[A\n",
            "Running Epoch 0 of 1:  18%|███████████▏                                                 | 7/38 [00:16<01:11,  2.32s/it]\u001b[A\n",
            "Running Epoch 0 of 1:  21%|████████████▊                                                | 8/38 [00:18<01:10,  2.34s/it]\u001b[A\n",
            "Running Epoch 0 of 1:  24%|██████████████▍                                              | 9/38 [00:20<01:07,  2.34s/it]\u001b[A\n",
            "Running Epoch 0 of 1:  26%|███████████████▊                                            | 10/38 [00:23<01:05,  2.35s/it]\u001b[A\n",
            "Running Epoch 0 of 1:  29%|█████████████████▎                                          | 11/38 [00:25<01:03,  2.36s/it]\u001b[A\n",
            "Running Epoch 0 of 1:  32%|██████████████████▉                                         | 12/38 [00:28<01:00,  2.34s/it]\u001b[A\n",
            "Running Epoch 0 of 1:  34%|████████████████████▌                                       | 13/38 [00:30<00:58,  2.34s/it]\u001b[A\n",
            "Running Epoch 0 of 1:  37%|██████████████████████                                      | 14/38 [00:32<00:56,  2.35s/it]\u001b[A\n",
            "Running Epoch 0 of 1:  39%|███████████████████████▋                                    | 15/38 [00:35<00:53,  2.34s/it]\u001b[A\n",
            "Running Epoch 0 of 1:  42%|█████████████████████████▎                                  | 16/38 [00:37<00:51,  2.33s/it]\u001b[A\n",
            "Running Epoch 0 of 1:  45%|██████████████████████████▊                                 | 17/38 [00:39<00:48,  2.33s/it]\u001b[A\n",
            "Running Epoch 0 of 1:  47%|████████████████████████████▍                               | 18/38 [00:42<00:46,  2.33s/it]\u001b[A\n",
            "Running Epoch 0 of 1:  50%|██████████████████████████████                              | 19/38 [00:44<00:44,  2.33s/it]\u001b[A\n",
            "Running Epoch 0 of 1:  53%|███████████████████████████████▌                            | 20/38 [00:46<00:42,  2.35s/it]\u001b[A\n",
            "Running Epoch 0 of 1:  55%|█████████████████████████████████▏                          | 21/38 [00:49<00:39,  2.34s/it]\u001b[A\n",
            "Running Epoch 0 of 1:  58%|██████████████████████████████████▋                         | 22/38 [00:51<00:37,  2.34s/it]\u001b[A\n",
            "Running Epoch 0 of 1:  61%|████████████████████████████████████▎                       | 23/38 [00:53<00:35,  2.35s/it]\u001b[A\n",
            "Running Epoch 0 of 1:  63%|█████████████████████████████████████▉                      | 24/38 [00:56<00:32,  2.35s/it]\u001b[A\n",
            "Running Epoch 0 of 1:  66%|███████████████████████████████████████▍                    | 25/38 [00:58<00:30,  2.35s/it]\u001b[A\n",
            "Running Epoch 0 of 1:  68%|█████████████████████████████████████████                   | 26/38 [01:00<00:28,  2.35s/it]\u001b[A\n",
            "Running Epoch 0 of 1:  71%|██████████████████████████████████████████▋                 | 27/38 [01:03<00:25,  2.35s/it]\u001b[A\n",
            "Running Epoch 0 of 1:  74%|████████████████████████████████████████████▏               | 28/38 [01:05<00:23,  2.35s/it]\u001b[A\n",
            "Running Epoch 0 of 1:  76%|█████████████████████████████████████████████▊              | 29/38 [01:07<00:21,  2.35s/it]\u001b[A\n",
            "Running Epoch 0 of 1:  79%|███████████████████████████████████████████████▎            | 30/38 [01:10<00:18,  2.34s/it]\u001b[A\n",
            "Running Epoch 0 of 1:  82%|████████████████████████████████████████████████▉           | 31/38 [01:12<00:16,  2.34s/it]\u001b[A\n",
            "Running Epoch 0 of 1:  84%|██████████████████████████████████████████████████▌         | 32/38 [01:14<00:14,  2.35s/it]\u001b[A\n",
            "Running Epoch 0 of 1:  87%|████████████████████████████████████████████████████        | 33/38 [01:17<00:11,  2.35s/it]\u001b[A\n",
            "Running Epoch 0 of 1:  89%|█████████████████████████████████████████████████████▋      | 34/38 [01:19<00:09,  2.37s/it]\u001b[A\n",
            "Running Epoch 0 of 1:  92%|███████████████████████████████████████████████████████▎    | 35/38 [01:22<00:07,  2.36s/it]\u001b[A\n",
            "Running Epoch 0 of 1:  95%|████████████████████████████████████████████████████████▊   | 36/38 [01:24<00:04,  2.35s/it]\u001b[A\n",
            "Running Epoch 0 of 1:  97%|██████████████████████████████████████████████████████████▍ | 37/38 [01:26<00:02,  2.36s/it]\u001b[A\n",
            "Running Epoch 0 of 1: 100%|████████████████████████████████████████████████████████████| 38/38 [01:28<00:00,  2.32s/it]\n",
            "Epoch 1 of 1: 100%|██████████████████████████████████████████████████████████████████████| 1/1 [01:28<00:00, 88.31s/it]\n",
            "C:\\Users\\Domenico\\.conda\\envs\\tf\\lib\\site-packages\\simpletransformers\\classification\\classification_model.py:1454: UserWarning: Dataframe headers not specified. Falling back to using column 0 as text and column 1 as labels.\n",
            "  warnings.warn(\n"
          ]
        },
        {
          "output_type": "stream",
          "name": "stdout",
          "text": [
            "\n",
            "NOW EVALUATE THE TEST DF.\n"
          ]
        },
        {
          "output_type": "stream",
          "name": "stderr",
          "text": [
            "  0%|▍                                                                                 | 1/200 [00:05<18:15,  5.51s/it]\n",
            "Running Evaluation: 100%|██████████████████████████████████████████████████████████████| 25/25 [00:14<00:00,  1.78it/s]\n",
            "C:\\Users\\Domenico\\.conda\\envs\\tf\\lib\\site-packages\\simpletransformers\\classification\\classification_model.py:612: UserWarning: Dataframe headers not specified. Falling back to using column 0 as text and column 1 as labels.\n",
            "  warnings.warn(\n"
          ]
        },
        {
          "output_type": "stream",
          "name": "stdout",
          "text": [
            "{'mcc': 0.3125, 'tp': 51, 'tn': 79, 'fp': 21, 'fn': 49, 'auroc': 0.7159000000000001, 'auprc': 0.6625808583611125, 'eval_loss': 1.2890033375099301}\n",
            "Correct predictions are:  130\n",
            "Total predictions are:  200\n",
            "Accuracy on test set is: 0.65 \n",
            "\n",
            "\n",
            "\n",
            "EPOCH NUMBER:  7\n",
            "\n",
            "NOW TRAIN THE MODEL.\n"
          ]
        },
        {
          "output_type": "stream",
          "name": "stderr",
          "text": [
            "  0%|▎                                                                                 | 1/300 [00:07<35:37,  7.15s/it]\n",
            "Epoch 1 of 1:   0%|                                                                              | 0/1 [00:00<?, ?it/s]\n",
            "Running Epoch 0 of 1:   0%|                                                                     | 0/38 [00:00<?, ?it/s]\u001b[A\n",
            "Running Epoch 0 of 1:   3%|█▌                                                           | 1/38 [00:02<01:25,  2.32s/it]\u001b[A\n",
            "Running Epoch 0 of 1:   5%|███▏                                                         | 2/38 [00:04<01:23,  2.31s/it]\u001b[A\n",
            "Running Epoch 0 of 1:   8%|████▊                                                        | 3/38 [00:06<01:20,  2.30s/it]\u001b[A\n",
            "Running Epoch 0 of 1:  11%|██████▍                                                      | 4/38 [00:09<01:19,  2.34s/it]\u001b[A\n",
            "Running Epoch 0 of 1:  13%|████████                                                     | 5/38 [00:11<01:17,  2.33s/it]\u001b[A\n",
            "Running Epoch 0 of 1:  16%|█████████▋                                                   | 6/38 [00:13<01:14,  2.33s/it]\u001b[A\n",
            "Running Epoch 0 of 1:  18%|███████████▏                                                 | 7/38 [00:16<01:13,  2.36s/it]\u001b[A\n",
            "Running Epoch 0 of 1:  21%|████████████▊                                                | 8/38 [00:18<01:10,  2.35s/it]\u001b[A\n",
            "Running Epoch 0 of 1:  24%|██████████████▍                                              | 9/38 [00:21<01:08,  2.36s/it]\u001b[A\n",
            "Running Epoch 0 of 1:  26%|███████████████▊                                            | 10/38 [00:23<01:06,  2.36s/it]\u001b[A\n",
            "Running Epoch 0 of 1:  29%|█████████████████▎                                          | 11/38 [00:25<01:03,  2.34s/it]\u001b[A\n",
            "Running Epoch 0 of 1:  32%|██████████████████▉                                         | 12/38 [00:28<01:01,  2.35s/it]\u001b[A\n",
            "Running Epoch 0 of 1:  34%|████████████████████▌                                       | 13/38 [00:30<00:58,  2.35s/it]\u001b[A\n",
            "Running Epoch 0 of 1:  37%|██████████████████████                                      | 14/38 [00:32<00:55,  2.33s/it]\u001b[A\n",
            "Running Epoch 0 of 1:  39%|███████████████████████▋                                    | 15/38 [00:35<00:53,  2.34s/it]\u001b[A\n",
            "Running Epoch 0 of 1:  42%|█████████████████████████▎                                  | 16/38 [00:37<00:51,  2.35s/it]\u001b[A\n",
            "Running Epoch 0 of 1:  45%|██████████████████████████▊                                 | 17/38 [00:39<00:49,  2.35s/it]\u001b[A\n",
            "Running Epoch 0 of 1:  47%|████████████████████████████▍                               | 18/38 [00:42<00:47,  2.35s/it]\u001b[A\n",
            "Running Epoch 0 of 1:  50%|██████████████████████████████                              | 19/38 [00:44<00:44,  2.35s/it]\u001b[A\n",
            "Running Epoch 0 of 1:  53%|███████████████████████████████▌                            | 20/38 [00:46<00:42,  2.34s/it]\u001b[A\n",
            "Running Epoch 0 of 1:  55%|█████████████████████████████████▏                          | 21/38 [00:49<00:40,  2.36s/it]\u001b[A\n",
            "Running Epoch 0 of 1:  58%|██████████████████████████████████▋                         | 22/38 [00:51<00:37,  2.36s/it]\u001b[A\n",
            "Running Epoch 0 of 1:  61%|████████████████████████████████████▎                       | 23/38 [00:53<00:35,  2.35s/it]\u001b[A\n",
            "Running Epoch 0 of 1:  63%|█████████████████████████████████████▉                      | 24/38 [00:56<00:33,  2.37s/it]\u001b[A\n",
            "Running Epoch 0 of 1:  66%|███████████████████████████████████████▍                    | 25/38 [00:58<00:30,  2.37s/it]\u001b[A\n",
            "Running Epoch 0 of 1:  68%|█████████████████████████████████████████                   | 26/38 [01:01<00:28,  2.41s/it]\u001b[A\n",
            "Running Epoch 0 of 1:  71%|██████████████████████████████████████████▋                 | 27/38 [01:03<00:26,  2.44s/it]\u001b[A\n",
            "Running Epoch 0 of 1:  74%|████████████████████████████████████████████▏               | 28/38 [01:06<00:24,  2.41s/it]\u001b[A\n",
            "Running Epoch 0 of 1:  76%|█████████████████████████████████████████████▊              | 29/38 [01:08<00:21,  2.40s/it]\u001b[A\n",
            "Running Epoch 0 of 1:  79%|███████████████████████████████████████████████▎            | 30/38 [01:10<00:19,  2.38s/it]\u001b[A\n",
            "Running Epoch 0 of 1:  82%|████████████████████████████████████████████████▉           | 31/38 [01:13<00:16,  2.39s/it]\u001b[A\n",
            "Running Epoch 0 of 1:  84%|██████████████████████████████████████████████████▌         | 32/38 [01:15<00:14,  2.38s/it]\u001b[A\n",
            "Running Epoch 0 of 1:  87%|████████████████████████████████████████████████████        | 33/38 [01:17<00:11,  2.36s/it]\u001b[A\n",
            "Running Epoch 0 of 1:  89%|█████████████████████████████████████████████████████▋      | 34/38 [01:20<00:09,  2.38s/it]\u001b[A\n",
            "Running Epoch 0 of 1:  92%|███████████████████████████████████████████████████████▎    | 35/38 [01:22<00:07,  2.36s/it]\u001b[A\n",
            "Running Epoch 0 of 1:  95%|████████████████████████████████████████████████████████▊   | 36/38 [01:24<00:04,  2.35s/it]\u001b[A\n",
            "Running Epoch 0 of 1:  97%|██████████████████████████████████████████████████████████▍ | 37/38 [01:27<00:02,  2.37s/it]\u001b[A\n",
            "Running Epoch 0 of 1: 100%|████████████████████████████████████████████████████████████| 38/38 [01:28<00:00,  2.34s/it]\n",
            "Epoch 1 of 1: 100%|██████████████████████████████████████████████████████████████████████| 1/1 [01:28<00:00, 88.93s/it]\n",
            "C:\\Users\\Domenico\\.conda\\envs\\tf\\lib\\site-packages\\simpletransformers\\classification\\classification_model.py:1454: UserWarning: Dataframe headers not specified. Falling back to using column 0 as text and column 1 as labels.\n",
            "  warnings.warn(\n"
          ]
        },
        {
          "output_type": "stream",
          "name": "stdout",
          "text": [
            "\n",
            "NOW EVALUATE THE TEST DF.\n"
          ]
        },
        {
          "output_type": "stream",
          "name": "stderr",
          "text": [
            "  0%|▍                                                                                 | 1/200 [00:05<17:53,  5.40s/it]\n",
            "Running Evaluation: 100%|██████████████████████████████████████████████████████████████| 25/25 [00:14<00:00,  1.78it/s]\n",
            "C:\\Users\\Domenico\\.conda\\envs\\tf\\lib\\site-packages\\simpletransformers\\classification\\classification_model.py:612: UserWarning: Dataframe headers not specified. Falling back to using column 0 as text and column 1 as labels.\n",
            "  warnings.warn(\n"
          ]
        },
        {
          "output_type": "stream",
          "name": "stdout",
          "text": [
            "{'mcc': 0.3700185013876156, 'tp': 68, 'tn': 69, 'fp': 31, 'fn': 32, 'auroc': 0.7110000000000001, 'auprc': 0.6600588977443154, 'eval_loss': 1.924807901084423}\n",
            "Correct predictions are:  137\n",
            "Total predictions are:  200\n",
            "Accuracy on test set is: 0.685 \n",
            "\n",
            "\n",
            "\n",
            "EPOCH NUMBER:  8\n",
            "\n",
            "NOW TRAIN THE MODEL.\n"
          ]
        },
        {
          "output_type": "stream",
          "name": "stderr",
          "text": [
            "  0%|▎                                                                                 | 1/300 [00:07<35:13,  7.07s/it]\n",
            "Epoch 1 of 1:   0%|                                                                              | 0/1 [00:00<?, ?it/s]\n",
            "Running Epoch 0 of 1:   0%|                                                                     | 0/38 [00:00<?, ?it/s]\u001b[A\n",
            "Running Epoch 0 of 1:   3%|█▌                                                           | 1/38 [00:02<01:26,  2.34s/it]\u001b[A\n",
            "Running Epoch 0 of 1:   5%|███▏                                                         | 2/38 [00:04<01:24,  2.33s/it]\u001b[A\n",
            "Running Epoch 0 of 1:   8%|████▊                                                        | 3/38 [00:06<01:21,  2.33s/it]\u001b[A\n",
            "Running Epoch 0 of 1:  11%|██████▍                                                      | 4/38 [00:09<01:20,  2.36s/it]\u001b[A\n",
            "Running Epoch 0 of 1:  13%|████████                                                     | 5/38 [00:11<01:17,  2.36s/it]\u001b[A\n",
            "Running Epoch 0 of 1:  16%|█████████▋                                                   | 6/38 [00:14<01:15,  2.36s/it]\u001b[A\n",
            "Running Epoch 0 of 1:  18%|███████████▏                                                 | 7/38 [00:16<01:13,  2.36s/it]\u001b[A\n",
            "Running Epoch 0 of 1:  21%|████████████▊                                                | 8/38 [00:18<01:10,  2.35s/it]\u001b[A\n",
            "Running Epoch 0 of 1:  24%|██████████████▍                                              | 9/38 [00:21<01:07,  2.34s/it]\u001b[A\n",
            "Running Epoch 0 of 1:  26%|███████████████▊                                            | 10/38 [00:23<01:05,  2.35s/it]\u001b[A\n",
            "Running Epoch 0 of 1:  29%|█████████████████▎                                          | 11/38 [00:25<01:03,  2.34s/it]\u001b[A\n",
            "Running Epoch 0 of 1:  32%|██████████████████▉                                         | 12/38 [00:28<01:00,  2.34s/it]\u001b[A\n",
            "Running Epoch 0 of 1:  34%|████████████████████▌                                       | 13/38 [00:30<00:58,  2.35s/it]\u001b[A\n",
            "Running Epoch 0 of 1:  37%|██████████████████████                                      | 14/38 [00:32<00:56,  2.34s/it]\u001b[A\n",
            "Running Epoch 0 of 1:  39%|███████████████████████▋                                    | 15/38 [00:35<00:54,  2.35s/it]\u001b[A\n",
            "Running Epoch 0 of 1:  42%|█████████████████████████▎                                  | 16/38 [00:37<00:51,  2.35s/it]\u001b[A\n",
            "Running Epoch 0 of 1:  45%|██████████████████████████▊                                 | 17/38 [00:39<00:49,  2.34s/it]\u001b[A\n",
            "Running Epoch 0 of 1:  47%|████████████████████████████▍                               | 18/38 [00:42<00:46,  2.34s/it]\u001b[A\n",
            "Running Epoch 0 of 1:  50%|██████████████████████████████                              | 19/38 [00:44<00:44,  2.34s/it]\u001b[A\n",
            "Running Epoch 0 of 1:  53%|███████████████████████████████▌                            | 20/38 [00:46<00:42,  2.33s/it]\u001b[A\n",
            "Running Epoch 0 of 1:  55%|█████████████████████████████████▏                          | 21/38 [00:49<00:40,  2.36s/it]\u001b[A\n",
            "Running Epoch 0 of 1:  58%|██████████████████████████████████▋                         | 22/38 [00:51<00:37,  2.35s/it]\u001b[A\n",
            "Running Epoch 0 of 1:  61%|████████████████████████████████████▎                       | 23/38 [00:53<00:35,  2.35s/it]\u001b[A\n",
            "Running Epoch 0 of 1:  63%|█████████████████████████████████████▉                      | 24/38 [00:56<00:32,  2.36s/it]\u001b[A\n",
            "Running Epoch 0 of 1:  66%|███████████████████████████████████████▍                    | 25/38 [00:58<00:30,  2.35s/it]\u001b[A\n",
            "Running Epoch 0 of 1:  68%|█████████████████████████████████████████                   | 26/38 [01:01<00:28,  2.34s/it]\u001b[A\n",
            "Running Epoch 0 of 1:  71%|██████████████████████████████████████████▋                 | 27/38 [01:03<00:26,  2.36s/it]\u001b[A\n",
            "Running Epoch 0 of 1:  74%|████████████████████████████████████████████▏               | 28/38 [01:05<00:23,  2.35s/it]\u001b[A\n",
            "Running Epoch 0 of 1:  76%|█████████████████████████████████████████████▊              | 29/38 [01:08<00:21,  2.34s/it]\u001b[A\n",
            "Running Epoch 0 of 1:  79%|███████████████████████████████████████████████▎            | 30/38 [01:10<00:18,  2.36s/it]\u001b[A\n",
            "Running Epoch 0 of 1:  82%|████████████████████████████████████████████████▉           | 31/38 [01:12<00:16,  2.34s/it]\u001b[A\n",
            "Running Epoch 0 of 1:  84%|██████████████████████████████████████████████████▌         | 32/38 [01:15<00:14,  2.34s/it]\u001b[A\n",
            "Running Epoch 0 of 1:  87%|████████████████████████████████████████████████████        | 33/38 [01:17<00:11,  2.36s/it]\u001b[A\n",
            "Running Epoch 0 of 1:  89%|█████████████████████████████████████████████████████▋      | 34/38 [01:19<00:09,  2.35s/it]\u001b[A\n",
            "Running Epoch 0 of 1:  92%|███████████████████████████████████████████████████████▎    | 35/38 [01:22<00:07,  2.36s/it]\u001b[A\n",
            "Running Epoch 0 of 1:  95%|████████████████████████████████████████████████████████▊   | 36/38 [01:24<00:04,  2.36s/it]\u001b[A\n",
            "Running Epoch 0 of 1:  97%|██████████████████████████████████████████████████████████▍ | 37/38 [01:26<00:02,  2.36s/it]\u001b[A\n",
            "Running Epoch 0 of 1: 100%|████████████████████████████████████████████████████████████| 38/38 [01:28<00:00,  2.33s/it]\n",
            "Epoch 1 of 1: 100%|██████████████████████████████████████████████████████████████████████| 1/1 [01:28<00:00, 88.51s/it]\n",
            "C:\\Users\\Domenico\\.conda\\envs\\tf\\lib\\site-packages\\simpletransformers\\classification\\classification_model.py:1454: UserWarning: Dataframe headers not specified. Falling back to using column 0 as text and column 1 as labels.\n",
            "  warnings.warn(\n"
          ]
        },
        {
          "output_type": "stream",
          "name": "stdout",
          "text": [
            "\n",
            "NOW EVALUATE THE TEST DF.\n"
          ]
        },
        {
          "output_type": "stream",
          "name": "stderr",
          "text": [
            "  0%|▍                                                                                 | 1/200 [00:05<17:59,  5.42s/it]\n",
            "Running Evaluation: 100%|██████████████████████████████████████████████████████████████| 25/25 [00:14<00:00,  1.78it/s]\n",
            "C:\\Users\\Domenico\\.conda\\envs\\tf\\lib\\site-packages\\simpletransformers\\classification\\classification_model.py:612: UserWarning: Dataframe headers not specified. Falling back to using column 0 as text and column 1 as labels.\n",
            "  warnings.warn(\n"
          ]
        },
        {
          "output_type": "stream",
          "name": "stdout",
          "text": [
            "{'mcc': 0.32025630761017426, 'tp': 68, 'tn': 64, 'fp': 36, 'fn': 32, 'auroc': 0.69155, 'auprc': 0.6487636448276786, 'eval_loss': 1.845386698246002}\n",
            "Correct predictions are:  132\n",
            "Total predictions are:  200\n",
            "Accuracy on test set is: 0.66 \n",
            "\n",
            "\n",
            "\n",
            "EPOCH NUMBER:  9\n",
            "\n",
            "NOW TRAIN THE MODEL.\n"
          ]
        },
        {
          "output_type": "stream",
          "name": "stderr",
          "text": [
            "  0%|▎                                                                                 | 1/300 [00:07<35:34,  7.14s/it]\n",
            "Epoch 1 of 1:   0%|                                                                              | 0/1 [00:00<?, ?it/s]\n",
            "Running Epoch 0 of 1:   0%|                                                                     | 0/38 [00:00<?, ?it/s]\u001b[A\n",
            "Running Epoch 0 of 1:   3%|█▌                                                           | 1/38 [00:02<01:25,  2.32s/it]\u001b[A\n",
            "Running Epoch 0 of 1:   5%|███▏                                                         | 2/38 [00:04<01:24,  2.35s/it]\u001b[A\n",
            "Running Epoch 0 of 1:   8%|████▊                                                        | 3/38 [00:07<01:21,  2.33s/it]\u001b[A\n",
            "Running Epoch 0 of 1:  11%|██████▍                                                      | 4/38 [00:09<01:19,  2.33s/it]\u001b[A\n",
            "Running Epoch 0 of 1:  13%|████████                                                     | 5/38 [00:11<01:17,  2.35s/it]\u001b[A\n",
            "Running Epoch 0 of 1:  16%|█████████▋                                                   | 6/38 [00:14<01:14,  2.33s/it]\u001b[A\n",
            "Running Epoch 0 of 1:  18%|███████████▏                                                 | 7/38 [00:16<01:11,  2.32s/it]\u001b[A\n",
            "Running Epoch 0 of 1:  21%|████████████▊                                                | 8/38 [00:18<01:10,  2.35s/it]\u001b[A\n",
            "Running Epoch 0 of 1:  24%|██████████████▍                                              | 9/38 [00:21<01:07,  2.34s/it]\u001b[A\n",
            "Running Epoch 0 of 1:  26%|███████████████▊                                            | 10/38 [00:23<01:05,  2.33s/it]\u001b[A\n",
            "Running Epoch 0 of 1:  29%|█████████████████▎                                          | 11/38 [00:25<01:03,  2.34s/it]\u001b[A\n",
            "Running Epoch 0 of 1:  32%|██████████████████▉                                         | 12/38 [00:28<01:00,  2.33s/it]\u001b[A\n",
            "Running Epoch 0 of 1:  34%|████████████████████▌                                       | 13/38 [00:30<00:58,  2.34s/it]\u001b[A\n",
            "Running Epoch 0 of 1:  37%|██████████████████████                                      | 14/38 [00:32<00:56,  2.37s/it]\u001b[A\n",
            "Running Epoch 0 of 1:  39%|███████████████████████▋                                    | 15/38 [00:35<00:54,  2.35s/it]\u001b[A\n",
            "Running Epoch 0 of 1:  42%|█████████████████████████▎                                  | 16/38 [00:37<00:51,  2.35s/it]\u001b[A\n",
            "Running Epoch 0 of 1:  45%|██████████████████████████▊                                 | 17/38 [00:39<00:49,  2.35s/it]\u001b[A\n",
            "Running Epoch 0 of 1:  47%|████████████████████████████▍                               | 18/38 [00:42<00:46,  2.34s/it]\u001b[A\n",
            "Running Epoch 0 of 1:  50%|██████████████████████████████                              | 19/38 [00:44<00:44,  2.36s/it]\u001b[A\n",
            "Running Epoch 0 of 1:  53%|███████████████████████████████▌                            | 20/38 [00:46<00:42,  2.36s/it]\u001b[A\n",
            "Running Epoch 0 of 1:  55%|█████████████████████████████████▏                          | 21/38 [00:49<00:39,  2.35s/it]\u001b[A\n",
            "Running Epoch 0 of 1:  58%|██████████████████████████████████▋                         | 22/38 [00:51<00:37,  2.35s/it]\u001b[A\n",
            "Running Epoch 0 of 1:  61%|████████████████████████████████████▎                       | 23/38 [00:53<00:35,  2.34s/it]\u001b[A\n",
            "Running Epoch 0 of 1:  63%|█████████████████████████████████████▉                      | 24/38 [00:56<00:32,  2.33s/it]\u001b[A\n",
            "Running Epoch 0 of 1:  66%|███████████████████████████████████████▍                    | 25/38 [00:58<00:30,  2.35s/it]\u001b[A\n",
            "Running Epoch 0 of 1:  68%|█████████████████████████████████████████                   | 26/38 [01:00<00:28,  2.34s/it]\u001b[A\n",
            "Running Epoch 0 of 1:  71%|██████████████████████████████████████████▋                 | 27/38 [01:03<00:25,  2.33s/it]\u001b[A\n",
            "Running Epoch 0 of 1:  74%|████████████████████████████████████████████▏               | 28/38 [01:05<00:23,  2.34s/it]\u001b[A\n",
            "Running Epoch 0 of 1:  76%|█████████████████████████████████████████████▊              | 29/38 [01:07<00:21,  2.34s/it]\u001b[A\n",
            "Running Epoch 0 of 1:  79%|███████████████████████████████████████████████▎            | 30/38 [01:10<00:18,  2.34s/it]\u001b[A\n",
            "Running Epoch 0 of 1:  82%|████████████████████████████████████████████████▉           | 31/38 [01:12<00:16,  2.34s/it]\u001b[A\n",
            "Running Epoch 0 of 1:  84%|██████████████████████████████████████████████████▌         | 32/38 [01:14<00:14,  2.34s/it]\u001b[A\n",
            "Running Epoch 0 of 1:  87%|████████████████████████████████████████████████████        | 33/38 [01:17<00:11,  2.34s/it]\u001b[A\n",
            "Running Epoch 0 of 1:  89%|█████████████████████████████████████████████████████▋      | 34/38 [01:19<00:09,  2.35s/it]\u001b[A\n",
            "Running Epoch 0 of 1:  92%|███████████████████████████████████████████████████████▎    | 35/38 [01:22<00:07,  2.35s/it]\u001b[A\n",
            "Running Epoch 0 of 1:  95%|████████████████████████████████████████████████████████▊   | 36/38 [01:24<00:04,  2.36s/it]\u001b[A\n",
            "Running Epoch 0 of 1:  97%|██████████████████████████████████████████████████████████▍ | 37/38 [01:26<00:02,  2.37s/it]\u001b[A\n",
            "Running Epoch 0 of 1: 100%|████████████████████████████████████████████████████████████| 38/38 [01:28<00:00,  2.32s/it]\n",
            "Epoch 1 of 1: 100%|██████████████████████████████████████████████████████████████████████| 1/1 [01:28<00:00, 88.31s/it]\n",
            "C:\\Users\\Domenico\\.conda\\envs\\tf\\lib\\site-packages\\simpletransformers\\classification\\classification_model.py:1454: UserWarning: Dataframe headers not specified. Falling back to using column 0 as text and column 1 as labels.\n",
            "  warnings.warn(\n"
          ]
        },
        {
          "output_type": "stream",
          "name": "stdout",
          "text": [
            "\n",
            "NOW EVALUATE THE TEST DF.\n"
          ]
        },
        {
          "output_type": "stream",
          "name": "stderr",
          "text": [
            "  0%|▍                                                                                 | 1/200 [00:05<18:45,  5.66s/it]\n",
            "Running Evaluation: 100%|██████████████████████████████████████████████████████████████| 25/25 [00:14<00:00,  1.77it/s]\n"
          ]
        },
        {
          "output_type": "stream",
          "name": "stdout",
          "text": [
            "{'mcc': 0.3444373818510708, 'tp': 75, 'tn': 59, 'fp': 41, 'fn': 25, 'auroc': 0.7234, 'auprc': 0.6857232116381639, 'eval_loss': 2.0039077067561446}\n",
            "Correct predictions are:  134\n",
            "Total predictions are:  200\n",
            "Accuracy on test set is: 0.67 \n",
            "\n",
            "\n",
            "[0.57, 0.655, 0.61, 0.68, 0.68, 0.665, 0.65, 0.685, 0.66, 0.67]\n"
          ]
        },
        {
          "output_type": "stream",
          "name": "stderr",
          "text": [
            "Some weights of the model checkpoint at roberta-base were not used when initializing RobertaForSequenceClassification: ['lm_head.bias', 'roberta.pooler.dense.bias', 'lm_head.layer_norm.bias', 'lm_head.decoder.weight', 'lm_head.dense.weight', 'roberta.pooler.dense.weight', 'lm_head.layer_norm.weight', 'lm_head.dense.bias']\n",
            "- This IS expected if you are initializing RobertaForSequenceClassification from the checkpoint of a model trained on another task or with another architecture (e.g. initializing a BertForSequenceClassification model from a BertForPreTraining model).\n",
            "- This IS NOT expected if you are initializing RobertaForSequenceClassification from the checkpoint of a model that you expect to be exactly identical (initializing a BertForSequenceClassification model from a BertForSequenceClassification model).\n",
            "Some weights of RobertaForSequenceClassification were not initialized from the model checkpoint at roberta-base and are newly initialized: ['classifier.out_proj.weight', 'classifier.out_proj.bias', 'classifier.dense.weight', 'classifier.dense.bias']\n",
            "You should probably TRAIN this model on a down-stream task to be able to use it for predictions and inference.\n",
            "C:\\Users\\Domenico\\.conda\\envs\\tf\\lib\\site-packages\\simpletransformers\\classification\\classification_model.py:612: UserWarning: Dataframe headers not specified. Falling back to using column 0 as text and column 1 as labels.\n",
            "  warnings.warn(\n"
          ]
        },
        {
          "output_type": "stream",
          "name": "stdout",
          "text": [
            "\n",
            "EPOCH NUMBER:  0\n",
            "\n",
            "NOW TRAIN THE MODEL.\n"
          ]
        },
        {
          "output_type": "stream",
          "name": "stderr",
          "text": [
            "  0%|▎                                                                                 | 1/300 [00:07<35:11,  7.06s/it]\n",
            "Epoch 1 of 1:   0%|                                                                              | 0/1 [00:00<?, ?it/s]\n",
            "Running Epoch 0 of 1:   0%|                                                                     | 0/38 [00:00<?, ?it/s]\u001b[A\n",
            "Running Epoch 0 of 1:   3%|█▌                                                           | 1/38 [00:02<01:23,  2.25s/it]\u001b[A\n",
            "Running Epoch 0 of 1:   5%|███▏                                                         | 2/38 [00:04<01:22,  2.30s/it]\u001b[A\n",
            "Running Epoch 0 of 1:   8%|████▊                                                        | 3/38 [00:06<01:20,  2.29s/it]\u001b[A\n",
            "Running Epoch 0 of 1:  11%|██████▍                                                      | 4/38 [00:09<01:18,  2.30s/it]\u001b[A\n",
            "Running Epoch 0 of 1:  13%|████████                                                     | 5/38 [00:11<01:16,  2.32s/it]\u001b[A\n",
            "Running Epoch 0 of 1:  16%|█████████▋                                                   | 6/38 [00:13<01:13,  2.31s/it]\u001b[A\n",
            "Running Epoch 0 of 1:  18%|███████████▏                                                 | 7/38 [00:16<01:11,  2.30s/it]\u001b[A\n",
            "Running Epoch 0 of 1:  21%|████████████▊                                                | 8/38 [00:18<01:09,  2.32s/it]\u001b[A\n",
            "Running Epoch 0 of 1:  24%|██████████████▍                                              | 9/38 [00:20<01:07,  2.32s/it]\u001b[A\n",
            "Running Epoch 0 of 1:  26%|███████████████▊                                            | 10/38 [00:23<01:04,  2.31s/it]\u001b[A\n",
            "Running Epoch 0 of 1:  29%|█████████████████▎                                          | 11/38 [00:25<01:02,  2.33s/it]\u001b[A\n",
            "Running Epoch 0 of 1:  32%|██████████████████▉                                         | 12/38 [00:27<01:00,  2.32s/it]\u001b[A\n",
            "Running Epoch 0 of 1:  34%|████████████████████▌                                       | 13/38 [00:30<00:57,  2.31s/it]\u001b[A\n",
            "Running Epoch 0 of 1:  37%|██████████████████████                                      | 14/38 [00:32<00:56,  2.33s/it]\u001b[A\n",
            "Running Epoch 0 of 1:  39%|███████████████████████▋                                    | 15/38 [00:34<00:53,  2.33s/it]\u001b[A\n",
            "Running Epoch 0 of 1:  42%|█████████████████████████▎                                  | 16/38 [00:37<00:51,  2.32s/it]\u001b[A\n",
            "Running Epoch 0 of 1:  45%|██████████████████████████▊                                 | 17/38 [00:39<00:49,  2.34s/it]\u001b[A\n",
            "Running Epoch 0 of 1:  47%|████████████████████████████▍                               | 18/38 [00:41<00:46,  2.33s/it]\u001b[A\n",
            "Running Epoch 0 of 1:  50%|██████████████████████████████                              | 19/38 [00:44<00:44,  2.33s/it]\u001b[A\n",
            "Running Epoch 0 of 1:  53%|███████████████████████████████▌                            | 20/38 [00:46<00:42,  2.35s/it]\u001b[A\n",
            "Running Epoch 0 of 1:  55%|█████████████████████████████████▏                          | 21/38 [00:48<00:39,  2.34s/it]\u001b[A\n",
            "Running Epoch 0 of 1:  58%|██████████████████████████████████▋                         | 22/38 [00:51<00:37,  2.33s/it]\u001b[A\n",
            "Running Epoch 0 of 1:  61%|████████████████████████████████████▎                       | 23/38 [00:53<00:35,  2.34s/it]\u001b[A\n",
            "Running Epoch 0 of 1:  63%|█████████████████████████████████████▉                      | 24/38 [00:55<00:32,  2.35s/it]\u001b[A\n",
            "Running Epoch 0 of 1:  66%|███████████████████████████████████████▍                    | 25/38 [00:58<00:30,  2.34s/it]\u001b[A\n",
            "Running Epoch 0 of 1:  68%|█████████████████████████████████████████                   | 26/38 [01:00<00:28,  2.35s/it]\u001b[A\n",
            "Running Epoch 0 of 1:  71%|██████████████████████████████████████████▋                 | 27/38 [01:02<00:25,  2.35s/it]\u001b[A\n",
            "Running Epoch 0 of 1:  74%|████████████████████████████████████████████▏               | 28/38 [01:05<00:23,  2.35s/it]\u001b[A\n",
            "Running Epoch 0 of 1:  76%|█████████████████████████████████████████████▊              | 29/38 [01:07<00:21,  2.36s/it]\u001b[A\n",
            "Running Epoch 0 of 1:  79%|███████████████████████████████████████████████▎            | 30/38 [01:09<00:18,  2.36s/it]\u001b[A\n",
            "Running Epoch 0 of 1:  82%|████████████████████████████████████████████████▉           | 31/38 [01:12<00:16,  2.35s/it]\u001b[A\n",
            "Running Epoch 0 of 1:  84%|██████████████████████████████████████████████████▌         | 32/38 [01:14<00:14,  2.36s/it]\u001b[A\n",
            "Running Epoch 0 of 1:  87%|████████████████████████████████████████████████████        | 33/38 [01:17<00:11,  2.35s/it]\u001b[A\n",
            "Running Epoch 0 of 1:  89%|█████████████████████████████████████████████████████▋      | 34/38 [01:19<00:09,  2.37s/it]\u001b[A\n",
            "Running Epoch 0 of 1:  92%|███████████████████████████████████████████████████████▎    | 35/38 [01:21<00:07,  2.36s/it]\u001b[A\n",
            "Running Epoch 0 of 1:  95%|████████████████████████████████████████████████████████▊   | 36/38 [01:24<00:04,  2.35s/it]\u001b[A\n",
            "Running Epoch 0 of 1:  97%|██████████████████████████████████████████████████████████▍ | 37/38 [01:26<00:02,  2.35s/it]\u001b[A\n",
            "Running Epoch 0 of 1: 100%|████████████████████████████████████████████████████████████| 38/38 [01:27<00:00,  2.32s/it]\n",
            "Epoch 1 of 1: 100%|██████████████████████████████████████████████████████████████████████| 1/1 [01:27<00:00, 87.99s/it]\n",
            "C:\\Users\\Domenico\\.conda\\envs\\tf\\lib\\site-packages\\simpletransformers\\classification\\classification_model.py:1454: UserWarning: Dataframe headers not specified. Falling back to using column 0 as text and column 1 as labels.\n",
            "  warnings.warn(\n"
          ]
        },
        {
          "output_type": "stream",
          "name": "stdout",
          "text": [
            "\n",
            "NOW EVALUATE THE TEST DF.\n"
          ]
        },
        {
          "output_type": "stream",
          "name": "stderr",
          "text": [
            "  0%|▍                                                                                 | 1/200 [00:05<18:01,  5.44s/it]\n",
            "Running Evaluation: 100%|██████████████████████████████████████████████████████████████| 25/25 [00:14<00:00,  1.67it/s]\n",
            "C:\\Users\\Domenico\\.conda\\envs\\tf\\lib\\site-packages\\simpletransformers\\classification\\classification_model.py:612: UserWarning: Dataframe headers not specified. Falling back to using column 0 as text and column 1 as labels.\n",
            "  warnings.warn(\n"
          ]
        },
        {
          "output_type": "stream",
          "name": "stdout",
          "text": [
            "{'mcc': 0.05862103817605492, 'tp': 98, 'tn': 4, 'fp': 96, 'fn': 2, 'auroc': 0.7106, 'auprc': 0.6732975886707673, 'eval_loss': 0.6844505643844605}\n",
            "Correct predictions are:  102\n",
            "Total predictions are:  200\n",
            "Accuracy on test set is: 0.51 \n",
            "\n",
            "\n",
            "\n",
            "EPOCH NUMBER:  1\n",
            "\n",
            "NOW TRAIN THE MODEL.\n"
          ]
        },
        {
          "output_type": "stream",
          "name": "stderr",
          "text": [
            "  0%|▎                                                                                 | 1/300 [00:07<35:22,  7.10s/it]\n",
            "Epoch 1 of 1:   0%|                                                                              | 0/1 [00:00<?, ?it/s]\n",
            "Running Epoch 0 of 1:   0%|                                                                     | 0/38 [00:00<?, ?it/s]\u001b[A\n",
            "Running Epoch 0 of 1:   3%|█▌                                                           | 1/38 [00:02<01:28,  2.39s/it]\u001b[A\n",
            "Running Epoch 0 of 1:   5%|███▏                                                         | 2/38 [00:04<01:24,  2.35s/it]\u001b[A\n",
            "Running Epoch 0 of 1:   8%|████▊                                                        | 3/38 [00:07<01:21,  2.34s/it]\u001b[A\n",
            "Running Epoch 0 of 1:  11%|██████▍                                                      | 4/38 [00:09<01:20,  2.35s/it]\u001b[A\n",
            "Running Epoch 0 of 1:  13%|████████                                                     | 5/38 [00:11<01:17,  2.35s/it]\u001b[A\n",
            "Running Epoch 0 of 1:  16%|█████████▋                                                   | 6/38 [00:14<01:14,  2.34s/it]\u001b[A\n",
            "Running Epoch 0 of 1:  18%|███████████▏                                                 | 7/38 [00:16<01:12,  2.35s/it]\u001b[A\n",
            "Running Epoch 0 of 1:  21%|████████████▊                                                | 8/38 [00:18<01:10,  2.34s/it]\u001b[A\n",
            "Running Epoch 0 of 1:  24%|██████████████▍                                              | 9/38 [00:21<01:07,  2.34s/it]\u001b[A\n",
            "Running Epoch 0 of 1:  26%|███████████████▊                                            | 10/38 [00:23<01:05,  2.35s/it]\u001b[A\n",
            "Running Epoch 0 of 1:  29%|█████████████████▎                                          | 11/38 [00:25<01:03,  2.34s/it]\u001b[A\n",
            "Running Epoch 0 of 1:  32%|██████████████████▉                                         | 12/38 [00:28<01:00,  2.34s/it]\u001b[A\n",
            "Running Epoch 0 of 1:  34%|████████████████████▌                                       | 13/38 [00:30<00:58,  2.35s/it]\u001b[A\n",
            "Running Epoch 0 of 1:  37%|██████████████████████                                      | 14/38 [00:32<00:56,  2.35s/it]\u001b[A\n",
            "Running Epoch 0 of 1:  39%|███████████████████████▋                                    | 15/38 [00:35<00:54,  2.35s/it]\u001b[A\n",
            "Running Epoch 0 of 1:  42%|█████████████████████████▎                                  | 16/38 [00:37<00:51,  2.36s/it]\u001b[A\n",
            "Running Epoch 0 of 1:  45%|██████████████████████████▊                                 | 17/38 [00:39<00:49,  2.34s/it]\u001b[A\n",
            "Running Epoch 0 of 1:  47%|████████████████████████████▍                               | 18/38 [00:42<00:47,  2.35s/it]\u001b[A\n",
            "Running Epoch 0 of 1:  50%|██████████████████████████████                              | 19/38 [00:44<00:44,  2.35s/it]\u001b[A\n",
            "Running Epoch 0 of 1:  53%|███████████████████████████████▌                            | 20/38 [00:46<00:42,  2.35s/it]\u001b[A\n",
            "Running Epoch 0 of 1:  55%|█████████████████████████████████▏                          | 21/38 [00:49<00:39,  2.35s/it]\u001b[A\n",
            "Running Epoch 0 of 1:  58%|██████████████████████████████████▋                         | 22/38 [00:51<00:37,  2.35s/it]\u001b[A\n",
            "Running Epoch 0 of 1:  61%|████████████████████████████████████▎                       | 23/38 [00:53<00:35,  2.34s/it]\u001b[A\n",
            "Running Epoch 0 of 1:  63%|█████████████████████████████████████▉                      | 24/38 [00:56<00:33,  2.37s/it]\u001b[A\n",
            "Running Epoch 0 of 1:  66%|███████████████████████████████████████▍                    | 25/38 [00:58<00:30,  2.36s/it]\u001b[A\n",
            "Running Epoch 0 of 1:  68%|█████████████████████████████████████████                   | 26/38 [01:01<00:28,  2.35s/it]\u001b[A\n",
            "Running Epoch 0 of 1:  71%|██████████████████████████████████████████▋                 | 27/38 [01:03<00:25,  2.36s/it]\u001b[A\n",
            "Running Epoch 0 of 1:  74%|████████████████████████████████████████████▏               | 28/38 [01:05<00:23,  2.34s/it]\u001b[A\n",
            "Running Epoch 0 of 1:  76%|█████████████████████████████████████████████▊              | 29/38 [01:08<00:20,  2.33s/it]\u001b[A\n",
            "Running Epoch 0 of 1:  79%|███████████████████████████████████████████████▎            | 30/38 [01:10<00:18,  2.37s/it]\u001b[A\n",
            "Running Epoch 0 of 1:  82%|████████████████████████████████████████████████▉           | 31/38 [01:12<00:16,  2.36s/it]\u001b[A\n",
            "Running Epoch 0 of 1:  84%|██████████████████████████████████████████████████▌         | 32/38 [01:15<00:14,  2.35s/it]\u001b[A\n",
            "Running Epoch 0 of 1:  87%|████████████████████████████████████████████████████        | 33/38 [01:17<00:11,  2.36s/it]\u001b[A\n",
            "Running Epoch 0 of 1:  89%|█████████████████████████████████████████████████████▋      | 34/38 [01:19<00:09,  2.34s/it]\u001b[A\n",
            "Running Epoch 0 of 1:  92%|███████████████████████████████████████████████████████▎    | 35/38 [01:22<00:07,  2.34s/it]\u001b[A\n",
            "Running Epoch 0 of 1:  95%|████████████████████████████████████████████████████████▊   | 36/38 [01:24<00:04,  2.35s/it]\u001b[A\n",
            "Running Epoch 0 of 1:  97%|██████████████████████████████████████████████████████████▍ | 37/38 [01:26<00:02,  2.34s/it]\u001b[A\n",
            "Running Epoch 0 of 1: 100%|████████████████████████████████████████████████████████████| 38/38 [01:28<00:00,  2.33s/it]\n",
            "Epoch 1 of 1: 100%|██████████████████████████████████████████████████████████████████████| 1/1 [01:28<00:00, 88.48s/it]\n",
            "C:\\Users\\Domenico\\.conda\\envs\\tf\\lib\\site-packages\\simpletransformers\\classification\\classification_model.py:1454: UserWarning: Dataframe headers not specified. Falling back to using column 0 as text and column 1 as labels.\n",
            "  warnings.warn(\n"
          ]
        },
        {
          "output_type": "stream",
          "name": "stdout",
          "text": [
            "\n",
            "NOW EVALUATE THE TEST DF.\n"
          ]
        },
        {
          "output_type": "stream",
          "name": "stderr",
          "text": [
            "  0%|▍                                                                                 | 1/200 [00:05<18:00,  5.43s/it]\n",
            "Running Evaluation: 100%|██████████████████████████████████████████████████████████████| 25/25 [00:14<00:00,  1.67it/s]\n",
            "C:\\Users\\Domenico\\.conda\\envs\\tf\\lib\\site-packages\\simpletransformers\\classification\\classification_model.py:612: UserWarning: Dataframe headers not specified. Falling back to using column 0 as text and column 1 as labels.\n",
            "  warnings.warn(\n"
          ]
        },
        {
          "output_type": "stream",
          "name": "stdout",
          "text": [
            "{'mcc': 0.3406136573728659, 'tp': 64, 'tn': 70, 'fp': 30, 'fn': 36, 'auroc': 0.7199, 'auprc': 0.6791323085239875, 'eval_loss': 0.6338342761993409}\n",
            "Correct predictions are:  134\n",
            "Total predictions are:  200\n",
            "Accuracy on test set is: 0.67 \n",
            "\n",
            "\n",
            "\n",
            "EPOCH NUMBER:  2\n",
            "\n",
            "NOW TRAIN THE MODEL.\n"
          ]
        },
        {
          "output_type": "stream",
          "name": "stderr",
          "text": [
            "  0%|▎                                                                                 | 1/300 [00:07<35:18,  7.08s/it]\n",
            "Epoch 1 of 1:   0%|                                                                              | 0/1 [00:00<?, ?it/s]\n",
            "Running Epoch 0 of 1:   0%|                                                                     | 0/38 [00:00<?, ?it/s]\u001b[A\n",
            "Running Epoch 0 of 1:   3%|█▌                                                           | 1/38 [00:02<01:27,  2.37s/it]\u001b[A\n",
            "Running Epoch 0 of 1:   5%|███▏                                                         | 2/38 [00:04<01:23,  2.33s/it]\u001b[A\n",
            "Running Epoch 0 of 1:   8%|████▊                                                        | 3/38 [00:07<01:22,  2.35s/it]\u001b[A\n",
            "Running Epoch 0 of 1:  11%|██████▍                                                      | 4/38 [00:09<01:19,  2.33s/it]\u001b[A\n",
            "Running Epoch 0 of 1:  13%|████████                                                     | 5/38 [00:11<01:17,  2.34s/it]\u001b[A\n",
            "Running Epoch 0 of 1:  16%|█████████▋                                                   | 6/38 [00:14<01:15,  2.36s/it]\u001b[A\n",
            "Running Epoch 0 of 1:  18%|███████████▏                                                 | 7/38 [00:16<01:12,  2.35s/it]\u001b[A\n",
            "Running Epoch 0 of 1:  21%|████████████▊                                                | 8/38 [00:18<01:10,  2.35s/it]\u001b[A\n",
            "Running Epoch 0 of 1:  24%|██████████████▍                                              | 9/38 [00:21<01:08,  2.36s/it]\u001b[A\n",
            "Running Epoch 0 of 1:  26%|███████████████▊                                            | 10/38 [00:23<01:05,  2.34s/it]\u001b[A\n",
            "Running Epoch 0 of 1:  29%|█████████████████▎                                          | 11/38 [00:25<01:03,  2.35s/it]\u001b[A\n",
            "Running Epoch 0 of 1:  32%|██████████████████▉                                         | 12/38 [00:28<01:01,  2.35s/it]\u001b[A\n",
            "Running Epoch 0 of 1:  34%|████████████████████▌                                       | 13/38 [00:30<00:58,  2.34s/it]\u001b[A\n",
            "Running Epoch 0 of 1:  37%|██████████████████████                                      | 14/38 [00:32<00:56,  2.35s/it]\u001b[A\n",
            "Running Epoch 0 of 1:  39%|███████████████████████▋                                    | 15/38 [00:35<00:53,  2.34s/it]\u001b[A\n",
            "Running Epoch 0 of 1:  42%|█████████████████████████▎                                  | 16/38 [00:37<00:51,  2.33s/it]\u001b[A\n",
            "Running Epoch 0 of 1:  45%|██████████████████████████▊                                 | 17/38 [00:39<00:49,  2.34s/it]\u001b[A\n",
            "Running Epoch 0 of 1:  47%|████████████████████████████▍                               | 18/38 [00:42<00:46,  2.33s/it]\u001b[A\n",
            "Running Epoch 0 of 1:  50%|██████████████████████████████                              | 19/38 [00:44<00:44,  2.32s/it]\u001b[A\n",
            "Running Epoch 0 of 1:  53%|███████████████████████████████▌                            | 20/38 [00:46<00:42,  2.34s/it]\u001b[A\n",
            "Running Epoch 0 of 1:  55%|█████████████████████████████████▏                          | 21/38 [00:49<00:39,  2.34s/it]\u001b[A\n",
            "Running Epoch 0 of 1:  58%|██████████████████████████████████▋                         | 22/38 [00:51<00:37,  2.33s/it]\u001b[A\n",
            "Running Epoch 0 of 1:  61%|████████████████████████████████████▎                       | 23/38 [00:53<00:35,  2.34s/it]\u001b[A\n",
            "Running Epoch 0 of 1:  63%|█████████████████████████████████████▉                      | 24/38 [00:56<00:32,  2.35s/it]\u001b[A\n",
            "Running Epoch 0 of 1:  66%|███████████████████████████████████████▍                    | 25/38 [00:58<00:30,  2.34s/it]\u001b[A\n",
            "Running Epoch 0 of 1:  68%|█████████████████████████████████████████                   | 26/38 [01:00<00:28,  2.35s/it]\u001b[A\n",
            "Running Epoch 0 of 1:  71%|██████████████████████████████████████████▋                 | 27/38 [01:03<00:25,  2.34s/it]\u001b[A\n",
            "Running Epoch 0 of 1:  74%|████████████████████████████████████████████▏               | 28/38 [01:05<00:23,  2.33s/it]\u001b[A\n",
            "Running Epoch 0 of 1:  76%|█████████████████████████████████████████████▊              | 29/38 [01:07<00:21,  2.35s/it]\u001b[A\n",
            "Running Epoch 0 of 1:  79%|███████████████████████████████████████████████▎            | 30/38 [01:10<00:18,  2.34s/it]\u001b[A\n",
            "Running Epoch 0 of 1:  82%|████████████████████████████████████████████████▉           | 31/38 [01:12<00:16,  2.33s/it]\u001b[A\n",
            "Running Epoch 0 of 1:  84%|██████████████████████████████████████████████████▌         | 32/38 [01:15<00:14,  2.36s/it]\u001b[A\n",
            "Running Epoch 0 of 1:  87%|████████████████████████████████████████████████████        | 33/38 [01:17<00:11,  2.35s/it]\u001b[A\n",
            "Running Epoch 0 of 1:  89%|█████████████████████████████████████████████████████▋      | 34/38 [01:19<00:09,  2.37s/it]\u001b[A\n",
            "Running Epoch 0 of 1:  92%|███████████████████████████████████████████████████████▎    | 35/38 [01:22<00:07,  2.38s/it]\u001b[A\n",
            "Running Epoch 0 of 1:  95%|████████████████████████████████████████████████████████▊   | 36/38 [01:24<00:04,  2.37s/it]\u001b[A\n",
            "Running Epoch 0 of 1:  97%|██████████████████████████████████████████████████████████▍ | 37/38 [01:26<00:02,  2.38s/it]\u001b[A\n",
            "Running Epoch 0 of 1: 100%|████████████████████████████████████████████████████████████| 38/38 [01:28<00:00,  2.33s/it]\n",
            "Epoch 1 of 1: 100%|██████████████████████████████████████████████████████████████████████| 1/1 [01:28<00:00, 88.44s/it]\n",
            "C:\\Users\\Domenico\\.conda\\envs\\tf\\lib\\site-packages\\simpletransformers\\classification\\classification_model.py:1454: UserWarning: Dataframe headers not specified. Falling back to using column 0 as text and column 1 as labels.\n",
            "  warnings.warn(\n"
          ]
        },
        {
          "output_type": "stream",
          "name": "stdout",
          "text": [
            "\n",
            "NOW EVALUATE THE TEST DF.\n"
          ]
        },
        {
          "output_type": "stream",
          "name": "stderr",
          "text": [
            "  0%|▍                                                                                 | 1/200 [00:05<17:57,  5.42s/it]\n",
            "Running Evaluation: 100%|██████████████████████████████████████████████████████████████| 25/25 [00:15<00:00,  1.66it/s]\n",
            "C:\\Users\\Domenico\\.conda\\envs\\tf\\lib\\site-packages\\simpletransformers\\classification\\classification_model.py:612: UserWarning: Dataframe headers not specified. Falling back to using column 0 as text and column 1 as labels.\n",
            "  warnings.warn(\n"
          ]
        },
        {
          "output_type": "stream",
          "name": "stdout",
          "text": [
            "{'mcc': 0.3429971702850177, 'tp': 84, 'tn': 48, 'fp': 52, 'fn': 16, 'auroc': 0.7386999999999999, 'auprc': 0.7095129960537236, 'eval_loss': 0.6234053993225097}\n",
            "Correct predictions are:  132\n",
            "Total predictions are:  200\n",
            "Accuracy on test set is: 0.66 \n",
            "\n",
            "\n",
            "\n",
            "EPOCH NUMBER:  3\n",
            "\n",
            "NOW TRAIN THE MODEL.\n"
          ]
        },
        {
          "output_type": "stream",
          "name": "stderr",
          "text": [
            "  0%|▎                                                                                 | 1/300 [00:07<35:13,  7.07s/it]\n",
            "Epoch 1 of 1:   0%|                                                                              | 0/1 [00:00<?, ?it/s]\n",
            "Running Epoch 0 of 1:   0%|                                                                     | 0/38 [00:00<?, ?it/s]\u001b[A\n",
            "Running Epoch 0 of 1:   3%|█▌                                                           | 1/38 [00:02<01:27,  2.37s/it]\u001b[A\n",
            "Running Epoch 0 of 1:   5%|███▏                                                         | 2/38 [00:04<01:24,  2.34s/it]\u001b[A\n",
            "Running Epoch 0 of 1:   8%|████▊                                                        | 3/38 [00:06<01:20,  2.31s/it]\u001b[A\n",
            "Running Epoch 0 of 1:  11%|██████▍                                                      | 4/38 [00:09<01:19,  2.35s/it]\u001b[A\n",
            "Running Epoch 0 of 1:  13%|████████                                                     | 5/38 [00:11<01:17,  2.35s/it]\u001b[A\n",
            "Running Epoch 0 of 1:  16%|█████████▋                                                   | 6/38 [00:14<01:14,  2.34s/it]\u001b[A\n",
            "Running Epoch 0 of 1:  18%|███████████▏                                                 | 7/38 [00:16<01:12,  2.35s/it]\u001b[A\n",
            "Running Epoch 0 of 1:  21%|████████████▊                                                | 8/38 [00:18<01:10,  2.34s/it]\u001b[A\n",
            "Running Epoch 0 of 1:  24%|██████████████▍                                              | 9/38 [00:21<01:07,  2.33s/it]\u001b[A\n",
            "Running Epoch 0 of 1:  26%|███████████████▊                                            | 10/38 [00:23<01:05,  2.34s/it]\u001b[A\n",
            "Running Epoch 0 of 1:  29%|█████████████████▎                                          | 11/38 [00:25<01:03,  2.35s/it]\u001b[A\n",
            "Running Epoch 0 of 1:  32%|██████████████████▉                                         | 12/38 [00:28<01:00,  2.35s/it]\u001b[A\n",
            "Running Epoch 0 of 1:  34%|████████████████████▌                                       | 13/38 [00:30<00:58,  2.34s/it]\u001b[A\n",
            "Running Epoch 0 of 1:  37%|██████████████████████                                      | 14/38 [00:32<00:56,  2.34s/it]\u001b[A\n",
            "Running Epoch 0 of 1:  39%|███████████████████████▋                                    | 15/38 [00:35<00:53,  2.34s/it]\u001b[A\n",
            "Running Epoch 0 of 1:  42%|█████████████████████████▎                                  | 16/38 [00:37<00:51,  2.36s/it]\u001b[A\n",
            "Running Epoch 0 of 1:  45%|██████████████████████████▊                                 | 17/38 [00:39<00:49,  2.37s/it]\u001b[A\n",
            "Running Epoch 0 of 1:  47%|████████████████████████████▍                               | 18/38 [00:42<00:47,  2.37s/it]\u001b[A\n",
            "Running Epoch 0 of 1:  50%|██████████████████████████████                              | 19/38 [00:44<00:45,  2.37s/it]\u001b[A\n",
            "Running Epoch 0 of 1:  53%|███████████████████████████████▌                            | 20/38 [00:46<00:42,  2.36s/it]\u001b[A\n",
            "Running Epoch 0 of 1:  55%|█████████████████████████████████▏                          | 21/38 [00:49<00:40,  2.36s/it]\u001b[A\n",
            "Running Epoch 0 of 1:  58%|██████████████████████████████████▋                         | 22/38 [00:51<00:37,  2.37s/it]\u001b[A\n",
            "Running Epoch 0 of 1:  61%|████████████████████████████████████▎                       | 23/38 [00:54<00:35,  2.36s/it]\u001b[A\n",
            "Running Epoch 0 of 1:  63%|█████████████████████████████████████▉                      | 24/38 [00:56<00:33,  2.36s/it]\u001b[A\n",
            "Running Epoch 0 of 1:  66%|███████████████████████████████████████▍                    | 25/38 [00:58<00:30,  2.35s/it]\u001b[A\n",
            "Running Epoch 0 of 1:  68%|█████████████████████████████████████████                   | 26/38 [01:01<00:28,  2.34s/it]\u001b[A\n",
            "Running Epoch 0 of 1:  71%|██████████████████████████████████████████▋                 | 27/38 [01:03<00:25,  2.36s/it]\u001b[A\n",
            "Running Epoch 0 of 1:  74%|████████████████████████████████████████████▏               | 28/38 [01:05<00:23,  2.35s/it]\u001b[A\n",
            "Running Epoch 0 of 1:  76%|█████████████████████████████████████████████▊              | 29/38 [01:08<00:21,  2.37s/it]\u001b[A\n",
            "Running Epoch 0 of 1:  79%|███████████████████████████████████████████████▎            | 30/38 [01:10<00:18,  2.37s/it]\u001b[A\n",
            "Running Epoch 0 of 1:  82%|████████████████████████████████████████████████▉           | 31/38 [01:12<00:16,  2.37s/it]\u001b[A\n",
            "Running Epoch 0 of 1:  84%|██████████████████████████████████████████████████▌         | 32/38 [01:15<00:14,  2.37s/it]\u001b[A\n",
            "Running Epoch 0 of 1:  87%|████████████████████████████████████████████████████        | 33/38 [01:17<00:11,  2.37s/it]\u001b[A\n",
            "Running Epoch 0 of 1:  89%|█████████████████████████████████████████████████████▋      | 34/38 [01:20<00:09,  2.35s/it]\u001b[A\n",
            "Running Epoch 0 of 1:  92%|███████████████████████████████████████████████████████▎    | 35/38 [01:22<00:07,  2.36s/it]\u001b[A\n",
            "Running Epoch 0 of 1:  95%|████████████████████████████████████████████████████████▊   | 36/38 [01:24<00:04,  2.36s/it]\u001b[A\n",
            "Running Epoch 0 of 1:  97%|██████████████████████████████████████████████████████████▍ | 37/38 [01:27<00:02,  2.35s/it]\u001b[A\n",
            "Running Epoch 0 of 1: 100%|████████████████████████████████████████████████████████████| 38/38 [01:28<00:00,  2.33s/it]\n",
            "Epoch 1 of 1: 100%|██████████████████████████████████████████████████████████████████████| 1/1 [01:28<00:00, 88.69s/it]\n",
            "C:\\Users\\Domenico\\.conda\\envs\\tf\\lib\\site-packages\\simpletransformers\\classification\\classification_model.py:1454: UserWarning: Dataframe headers not specified. Falling back to using column 0 as text and column 1 as labels.\n",
            "  warnings.warn(\n"
          ]
        },
        {
          "output_type": "stream",
          "name": "stdout",
          "text": [
            "\n",
            "NOW EVALUATE THE TEST DF.\n"
          ]
        },
        {
          "output_type": "stream",
          "name": "stderr",
          "text": [
            "  0%|▍                                                                                 | 1/200 [00:05<17:54,  5.40s/it]\n",
            "Running Evaluation: 100%|██████████████████████████████████████████████████████████████| 25/25 [00:14<00:00,  1.68it/s]\n",
            "C:\\Users\\Domenico\\.conda\\envs\\tf\\lib\\site-packages\\simpletransformers\\classification\\classification_model.py:612: UserWarning: Dataframe headers not specified. Falling back to using column 0 as text and column 1 as labels.\n",
            "  warnings.warn(\n"
          ]
        },
        {
          "output_type": "stream",
          "name": "stdout",
          "text": [
            "{'mcc': 0.3742340856938885, 'tp': 61, 'tn': 76, 'fp': 24, 'fn': 39, 'auroc': 0.7328, 'auprc': 0.6839598979175363, 'eval_loss': 0.6387795031070709}\n",
            "Correct predictions are:  137\n",
            "Total predictions are:  200\n",
            "Accuracy on test set is: 0.685 \n",
            "\n",
            "\n",
            "\n",
            "EPOCH NUMBER:  4\n",
            "\n",
            "NOW TRAIN THE MODEL.\n"
          ]
        },
        {
          "output_type": "stream",
          "name": "stderr",
          "text": [
            "  0%|▎                                                                                 | 1/300 [00:07<35:12,  7.06s/it]\n",
            "Epoch 1 of 1:   0%|                                                                              | 0/1 [00:00<?, ?it/s]\n",
            "Running Epoch 0 of 1:   0%|                                                                     | 0/38 [00:00<?, ?it/s]\u001b[A\n",
            "Running Epoch 0 of 1:   3%|█▌                                                           | 1/38 [00:02<01:27,  2.36s/it]\u001b[A\n",
            "Running Epoch 0 of 1:   5%|███▏                                                         | 2/38 [00:04<01:24,  2.34s/it]\u001b[A\n",
            "Running Epoch 0 of 1:   8%|████▊                                                        | 3/38 [00:07<01:22,  2.36s/it]\u001b[A\n",
            "Running Epoch 0 of 1:  11%|██████▍                                                      | 4/38 [00:09<01:19,  2.34s/it]\u001b[A\n",
            "Running Epoch 0 of 1:  13%|████████                                                     | 5/38 [00:11<01:17,  2.34s/it]\u001b[A\n",
            "Running Epoch 0 of 1:  16%|█████████▋                                                   | 6/38 [00:14<01:15,  2.36s/it]\u001b[A\n",
            "Running Epoch 0 of 1:  18%|███████████▏                                                 | 7/38 [00:16<01:12,  2.34s/it]\u001b[A\n",
            "Running Epoch 0 of 1:  21%|████████████▊                                                | 8/38 [00:18<01:10,  2.34s/it]\u001b[A\n",
            "Running Epoch 0 of 1:  24%|██████████████▍                                              | 9/38 [00:21<01:08,  2.35s/it]\u001b[A\n",
            "Running Epoch 0 of 1:  26%|███████████████▊                                            | 10/38 [00:23<01:05,  2.34s/it]\u001b[A\n",
            "Running Epoch 0 of 1:  29%|█████████████████▎                                          | 11/38 [00:25<01:03,  2.35s/it]\u001b[A\n",
            "Running Epoch 0 of 1:  32%|██████████████████▉                                         | 12/38 [00:28<01:01,  2.36s/it]\u001b[A\n",
            "Running Epoch 0 of 1:  34%|████████████████████▌                                       | 13/38 [00:30<00:58,  2.34s/it]\u001b[A\n",
            "Running Epoch 0 of 1:  37%|██████████████████████                                      | 14/38 [00:32<00:56,  2.35s/it]\u001b[A\n",
            "Running Epoch 0 of 1:  39%|███████████████████████▋                                    | 15/38 [00:35<00:54,  2.35s/it]\u001b[A\n",
            "Running Epoch 0 of 1:  42%|█████████████████████████▎                                  | 16/38 [00:37<00:51,  2.35s/it]\u001b[A\n",
            "Running Epoch 0 of 1:  45%|██████████████████████████▊                                 | 17/38 [00:39<00:49,  2.35s/it]\u001b[A\n",
            "Running Epoch 0 of 1:  47%|████████████████████████████▍                               | 18/38 [00:42<00:46,  2.34s/it]\u001b[A\n",
            "Running Epoch 0 of 1:  50%|██████████████████████████████                              | 19/38 [00:44<00:44,  2.33s/it]\u001b[A\n",
            "Running Epoch 0 of 1:  53%|███████████████████████████████▌                            | 20/38 [00:46<00:42,  2.35s/it]\u001b[A\n",
            "Running Epoch 0 of 1:  55%|█████████████████████████████████▏                          | 21/38 [00:49<00:39,  2.34s/it]\u001b[A\n",
            "Running Epoch 0 of 1:  58%|██████████████████████████████████▋                         | 22/38 [00:51<00:37,  2.33s/it]\u001b[A\n",
            "Running Epoch 0 of 1:  61%|████████████████████████████████████▎                       | 23/38 [00:53<00:35,  2.35s/it]\u001b[A\n",
            "Running Epoch 0 of 1:  63%|█████████████████████████████████████▉                      | 24/38 [00:56<00:32,  2.34s/it]\u001b[A\n",
            "Running Epoch 0 of 1:  66%|███████████████████████████████████████▍                    | 25/38 [00:58<00:30,  2.34s/it]\u001b[A\n",
            "Running Epoch 0 of 1:  68%|█████████████████████████████████████████                   | 26/38 [01:01<00:28,  2.36s/it]\u001b[A\n",
            "Running Epoch 0 of 1:  71%|██████████████████████████████████████████▋                 | 27/38 [01:03<00:25,  2.36s/it]\u001b[A\n",
            "Running Epoch 0 of 1:  74%|████████████████████████████████████████████▏               | 28/38 [01:05<00:23,  2.35s/it]\u001b[A\n",
            "Running Epoch 0 of 1:  76%|█████████████████████████████████████████████▊              | 29/38 [01:08<00:21,  2.36s/it]\u001b[A\n",
            "Running Epoch 0 of 1:  79%|███████████████████████████████████████████████▎            | 30/38 [01:10<00:18,  2.35s/it]\u001b[A\n",
            "Running Epoch 0 of 1:  82%|████████████████████████████████████████████████▉           | 31/38 [01:12<00:16,  2.35s/it]\u001b[A\n",
            "Running Epoch 0 of 1:  84%|██████████████████████████████████████████████████▌         | 32/38 [01:15<00:14,  2.35s/it]\u001b[A\n",
            "Running Epoch 0 of 1:  87%|████████████████████████████████████████████████████        | 33/38 [01:17<00:11,  2.34s/it]\u001b[A\n",
            "Running Epoch 0 of 1:  89%|█████████████████████████████████████████████████████▋      | 34/38 [01:19<00:09,  2.36s/it]\u001b[A\n",
            "Running Epoch 0 of 1:  92%|███████████████████████████████████████████████████████▎    | 35/38 [01:22<00:07,  2.36s/it]\u001b[A\n",
            "Running Epoch 0 of 1:  95%|████████████████████████████████████████████████████████▊   | 36/38 [01:24<00:04,  2.35s/it]\u001b[A\n",
            "Running Epoch 0 of 1:  97%|██████████████████████████████████████████████████████████▍ | 37/38 [01:26<00:02,  2.36s/it]\u001b[A\n",
            "Running Epoch 0 of 1: 100%|████████████████████████████████████████████████████████████| 38/38 [01:28<00:00,  2.33s/it]\n",
            "Epoch 1 of 1: 100%|██████████████████████████████████████████████████████████████████████| 1/1 [01:28<00:00, 88.45s/it]\n",
            "C:\\Users\\Domenico\\.conda\\envs\\tf\\lib\\site-packages\\simpletransformers\\classification\\classification_model.py:1454: UserWarning: Dataframe headers not specified. Falling back to using column 0 as text and column 1 as labels.\n",
            "  warnings.warn(\n"
          ]
        },
        {
          "output_type": "stream",
          "name": "stdout",
          "text": [
            "\n",
            "NOW EVALUATE THE TEST DF.\n"
          ]
        },
        {
          "output_type": "stream",
          "name": "stderr",
          "text": [
            "  0%|▍                                                                                 | 1/200 [00:05<18:28,  5.57s/it]\n",
            "Running Evaluation: 100%|██████████████████████████████████████████████████████████████| 25/25 [00:14<00:00,  1.67it/s]\n",
            "C:\\Users\\Domenico\\.conda\\envs\\tf\\lib\\site-packages\\simpletransformers\\classification\\classification_model.py:612: UserWarning: Dataframe headers not specified. Falling back to using column 0 as text and column 1 as labels.\n",
            "  warnings.warn(\n"
          ]
        },
        {
          "output_type": "stream",
          "name": "stdout",
          "text": [
            "{'mcc': 0.3219573938854496, 'tp': 52, 'tn': 79, 'fp': 21, 'fn': 48, 'auroc': 0.7226, 'auprc': 0.6881617153748734, 'eval_loss': 0.7318970227241516}\n",
            "Correct predictions are:  131\n",
            "Total predictions are:  200\n",
            "Accuracy on test set is: 0.655 \n",
            "\n",
            "\n",
            "\n",
            "EPOCH NUMBER:  5\n",
            "\n",
            "NOW TRAIN THE MODEL.\n"
          ]
        },
        {
          "output_type": "stream",
          "name": "stderr",
          "text": [
            "  0%|▎                                                                                 | 1/300 [00:07<35:24,  7.11s/it]\n",
            "Epoch 1 of 1:   0%|                                                                              | 0/1 [00:00<?, ?it/s]\n",
            "Running Epoch 0 of 1:   0%|                                                                     | 0/38 [00:00<?, ?it/s]\u001b[A\n",
            "Running Epoch 0 of 1:   3%|█▌                                                           | 1/38 [00:02<01:28,  2.39s/it]\u001b[A\n",
            "Running Epoch 0 of 1:   5%|███▏                                                         | 2/38 [00:04<01:24,  2.34s/it]\u001b[A\n",
            "Running Epoch 0 of 1:   8%|████▊                                                        | 3/38 [00:07<01:21,  2.34s/it]\u001b[A\n",
            "Running Epoch 0 of 1:  11%|██████▍                                                      | 4/38 [00:09<01:19,  2.34s/it]\u001b[A\n",
            "Running Epoch 0 of 1:  13%|████████                                                     | 5/38 [00:11<01:17,  2.33s/it]\u001b[A\n",
            "Running Epoch 0 of 1:  16%|█████████▋                                                   | 6/38 [00:14<01:14,  2.33s/it]\u001b[A\n",
            "Running Epoch 0 of 1:  18%|███████████▏                                                 | 7/38 [00:16<01:12,  2.34s/it]\u001b[A\n",
            "Running Epoch 0 of 1:  21%|████████████▊                                                | 8/38 [00:18<01:09,  2.33s/it]\u001b[A\n",
            "Running Epoch 0 of 1:  24%|██████████████▍                                              | 9/38 [00:21<01:07,  2.33s/it]\u001b[A\n",
            "Running Epoch 0 of 1:  26%|███████████████▊                                            | 10/38 [00:23<01:05,  2.35s/it]\u001b[A\n",
            "Running Epoch 0 of 1:  29%|█████████████████▎                                          | 11/38 [00:25<01:03,  2.34s/it]\u001b[A\n",
            "Running Epoch 0 of 1:  32%|██████████████████▉                                         | 12/38 [00:28<01:00,  2.35s/it]\u001b[A\n",
            "Running Epoch 0 of 1:  34%|████████████████████▌                                       | 13/38 [00:30<00:59,  2.36s/it]\u001b[A\n",
            "Running Epoch 0 of 1:  37%|██████████████████████                                      | 14/38 [00:32<00:56,  2.35s/it]\u001b[A\n",
            "Running Epoch 0 of 1:  39%|███████████████████████▋                                    | 15/38 [00:35<00:54,  2.35s/it]\u001b[A\n",
            "Running Epoch 0 of 1:  42%|█████████████████████████▎                                  | 16/38 [00:37<00:51,  2.35s/it]\u001b[A\n",
            "Running Epoch 0 of 1:  45%|██████████████████████████▊                                 | 17/38 [00:39<00:49,  2.35s/it]\u001b[A\n",
            "Running Epoch 0 of 1:  47%|████████████████████████████▍                               | 18/38 [00:42<00:47,  2.36s/it]\u001b[A\n",
            "Running Epoch 0 of 1:  50%|██████████████████████████████                              | 19/38 [00:44<00:44,  2.36s/it]\u001b[A\n",
            "Running Epoch 0 of 1:  53%|███████████████████████████████▌                            | 20/38 [00:46<00:42,  2.35s/it]\u001b[A\n",
            "Running Epoch 0 of 1:  55%|█████████████████████████████████▏                          | 21/38 [00:49<00:40,  2.36s/it]\u001b[A\n",
            "Running Epoch 0 of 1:  58%|██████████████████████████████████▋                         | 22/38 [00:51<00:37,  2.34s/it]\u001b[A\n",
            "Running Epoch 0 of 1:  61%|████████████████████████████████████▎                       | 23/38 [00:53<00:34,  2.33s/it]\u001b[A\n",
            "Running Epoch 0 of 1:  63%|█████████████████████████████████████▉                      | 24/38 [00:56<00:32,  2.34s/it]\u001b[A\n",
            "Running Epoch 0 of 1:  66%|███████████████████████████████████████▍                    | 25/38 [00:58<00:30,  2.35s/it]\u001b[A\n",
            "Running Epoch 0 of 1:  68%|█████████████████████████████████████████                   | 26/38 [01:01<00:28,  2.35s/it]\u001b[A\n",
            "Running Epoch 0 of 1:  71%|██████████████████████████████████████████▋                 | 27/38 [01:03<00:25,  2.36s/it]\u001b[A\n",
            "Running Epoch 0 of 1:  74%|████████████████████████████████████████████▏               | 28/38 [01:05<00:23,  2.34s/it]\u001b[A\n",
            "Running Epoch 0 of 1:  76%|█████████████████████████████████████████████▊              | 29/38 [01:08<00:21,  2.34s/it]\u001b[A\n",
            "Running Epoch 0 of 1:  79%|███████████████████████████████████████████████▎            | 30/38 [01:10<00:18,  2.35s/it]\u001b[A\n",
            "Running Epoch 0 of 1:  82%|████████████████████████████████████████████████▉           | 31/38 [01:12<00:16,  2.34s/it]\u001b[A\n",
            "Running Epoch 0 of 1:  84%|██████████████████████████████████████████████████▌         | 32/38 [01:15<00:13,  2.33s/it]\u001b[A\n",
            "Running Epoch 0 of 1:  87%|████████████████████████████████████████████████████        | 33/38 [01:17<00:11,  2.35s/it]\u001b[A\n",
            "Running Epoch 0 of 1:  89%|█████████████████████████████████████████████████████▋      | 34/38 [01:19<00:09,  2.33s/it]\u001b[A\n",
            "Running Epoch 0 of 1:  92%|███████████████████████████████████████████████████████▎    | 35/38 [01:22<00:07,  2.34s/it]\u001b[A\n",
            "Running Epoch 0 of 1:  95%|████████████████████████████████████████████████████████▊   | 36/38 [01:24<00:04,  2.35s/it]\u001b[A\n",
            "Running Epoch 0 of 1:  97%|██████████████████████████████████████████████████████████▍ | 37/38 [01:26<00:02,  2.35s/it]\u001b[A\n",
            "Running Epoch 0 of 1: 100%|████████████████████████████████████████████████████████████| 38/38 [01:28<00:00,  2.33s/it]\n",
            "Epoch 1 of 1: 100%|██████████████████████████████████████████████████████████████████████| 1/1 [01:28<00:00, 88.39s/it]\n",
            "C:\\Users\\Domenico\\.conda\\envs\\tf\\lib\\site-packages\\simpletransformers\\classification\\classification_model.py:1454: UserWarning: Dataframe headers not specified. Falling back to using column 0 as text and column 1 as labels.\n",
            "  warnings.warn(\n"
          ]
        },
        {
          "output_type": "stream",
          "name": "stdout",
          "text": [
            "\n",
            "NOW EVALUATE THE TEST DF.\n"
          ]
        },
        {
          "output_type": "stream",
          "name": "stderr",
          "text": [
            "  0%|▍                                                                                 | 1/200 [00:05<18:08,  5.47s/it]\n",
            "Running Evaluation: 100%|██████████████████████████████████████████████████████████████| 25/25 [00:14<00:00,  1.67it/s]\n",
            "C:\\Users\\Domenico\\.conda\\envs\\tf\\lib\\site-packages\\simpletransformers\\classification\\classification_model.py:612: UserWarning: Dataframe headers not specified. Falling back to using column 0 as text and column 1 as labels.\n",
            "  warnings.warn(\n"
          ]
        },
        {
          "output_type": "stream",
          "name": "stdout",
          "text": [
            "{'mcc': 0.3375263702778072, 'tp': 56, 'tn': 77, 'fp': 23, 'fn': 44, 'auroc': 0.7170000000000001, 'auprc': 0.6664634707705792, 'eval_loss': 0.8598794484138489}\n",
            "Correct predictions are:  133\n",
            "Total predictions are:  200\n",
            "Accuracy on test set is: 0.665 \n",
            "\n",
            "\n",
            "\n",
            "EPOCH NUMBER:  6\n",
            "\n",
            "NOW TRAIN THE MODEL.\n"
          ]
        },
        {
          "output_type": "stream",
          "name": "stderr",
          "text": [
            "  0%|▎                                                                                 | 1/300 [00:07<35:58,  7.22s/it]\n",
            "Epoch 1 of 1:   0%|                                                                              | 0/1 [00:00<?, ?it/s]\n",
            "Running Epoch 0 of 1:   0%|                                                                     | 0/38 [00:00<?, ?it/s]\u001b[A\n",
            "Running Epoch 0 of 1:   3%|█▌                                                           | 1/38 [00:02<01:26,  2.33s/it]\u001b[A\n",
            "Running Epoch 0 of 1:   5%|███▏                                                         | 2/38 [00:04<01:24,  2.34s/it]\u001b[A\n",
            "Running Epoch 0 of 1:   8%|████▊                                                        | 3/38 [00:07<01:21,  2.34s/it]\u001b[A\n",
            "Running Epoch 0 of 1:  11%|██████▍                                                      | 4/38 [00:09<01:19,  2.32s/it]\u001b[A\n",
            "Running Epoch 0 of 1:  13%|████████                                                     | 5/38 [00:11<01:17,  2.35s/it]\u001b[A\n",
            "Running Epoch 0 of 1:  16%|█████████▋                                                   | 6/38 [00:14<01:15,  2.35s/it]\u001b[A\n",
            "Running Epoch 0 of 1:  18%|███████████▏                                                 | 7/38 [00:16<01:12,  2.34s/it]\u001b[A\n",
            "Running Epoch 0 of 1:  21%|████████████▊                                                | 8/38 [00:18<01:10,  2.36s/it]\u001b[A\n",
            "Running Epoch 0 of 1:  24%|██████████████▍                                              | 9/38 [00:21<01:08,  2.35s/it]\u001b[A\n",
            "Running Epoch 0 of 1:  26%|███████████████▊                                            | 10/38 [00:23<01:05,  2.34s/it]\u001b[A\n",
            "Running Epoch 0 of 1:  29%|█████████████████▎                                          | 11/38 [00:25<01:03,  2.35s/it]\u001b[A\n",
            "Running Epoch 0 of 1:  32%|██████████████████▉                                         | 12/38 [00:28<01:01,  2.35s/it]\u001b[A\n",
            "Running Epoch 0 of 1:  34%|████████████████████▌                                       | 13/38 [00:30<00:58,  2.34s/it]\u001b[A\n",
            "Running Epoch 0 of 1:  37%|██████████████████████                                      | 14/38 [00:32<00:56,  2.36s/it]\u001b[A\n",
            "Running Epoch 0 of 1:  39%|███████████████████████▋                                    | 15/38 [00:35<00:53,  2.34s/it]\u001b[A\n",
            "Running Epoch 0 of 1:  42%|█████████████████████████▎                                  | 16/38 [00:37<00:51,  2.34s/it]\u001b[A\n",
            "Running Epoch 0 of 1:  45%|██████████████████████████▊                                 | 17/38 [00:39<00:49,  2.35s/it]\u001b[A\n",
            "Running Epoch 0 of 1:  47%|████████████████████████████▍                               | 18/38 [00:42<00:46,  2.34s/it]\u001b[A\n",
            "Running Epoch 0 of 1:  50%|██████████████████████████████                              | 19/38 [00:44<00:44,  2.34s/it]\u001b[A\n",
            "Running Epoch 0 of 1:  53%|███████████████████████████████▌                            | 20/38 [00:46<00:42,  2.35s/it]\u001b[A\n",
            "Running Epoch 0 of 1:  55%|█████████████████████████████████▏                          | 21/38 [00:49<00:39,  2.34s/it]\u001b[A\n",
            "Running Epoch 0 of 1:  58%|██████████████████████████████████▋                         | 22/38 [00:51<00:37,  2.36s/it]\u001b[A\n",
            "Running Epoch 0 of 1:  61%|████████████████████████████████████▎                       | 23/38 [00:54<00:35,  2.36s/it]\u001b[A\n",
            "Running Epoch 0 of 1:  63%|█████████████████████████████████████▉                      | 24/38 [00:56<00:32,  2.35s/it]\u001b[A\n",
            "Running Epoch 0 of 1:  66%|███████████████████████████████████████▍                    | 25/38 [00:58<00:30,  2.36s/it]\u001b[A\n",
            "Running Epoch 0 of 1:  68%|█████████████████████████████████████████                   | 26/38 [01:01<00:28,  2.35s/it]\u001b[A\n",
            "Running Epoch 0 of 1:  71%|██████████████████████████████████████████▋                 | 27/38 [01:03<00:25,  2.34s/it]\u001b[A\n",
            "Running Epoch 0 of 1:  74%|████████████████████████████████████████████▏               | 28/38 [01:05<00:23,  2.37s/it]\u001b[A\n",
            "Running Epoch 0 of 1:  76%|█████████████████████████████████████████████▊              | 29/38 [01:08<00:21,  2.35s/it]\u001b[A\n",
            "Running Epoch 0 of 1:  79%|███████████████████████████████████████████████▎            | 30/38 [01:10<00:18,  2.36s/it]\u001b[A\n",
            "Running Epoch 0 of 1:  82%|████████████████████████████████████████████████▉           | 31/38 [01:12<00:16,  2.37s/it]\u001b[A\n",
            "Running Epoch 0 of 1:  84%|██████████████████████████████████████████████████▌         | 32/38 [01:15<00:14,  2.36s/it]\u001b[A\n",
            "Running Epoch 0 of 1:  87%|████████████████████████████████████████████████████        | 33/38 [01:17<00:11,  2.35s/it]\u001b[A\n",
            "Running Epoch 0 of 1:  89%|█████████████████████████████████████████████████████▋      | 34/38 [01:19<00:09,  2.36s/it]\u001b[A\n",
            "Running Epoch 0 of 1:  92%|███████████████████████████████████████████████████████▎    | 35/38 [01:22<00:07,  2.35s/it]\u001b[A\n",
            "Running Epoch 0 of 1:  95%|████████████████████████████████████████████████████████▊   | 36/38 [01:24<00:04,  2.36s/it]\u001b[A\n",
            "Running Epoch 0 of 1:  97%|██████████████████████████████████████████████████████████▍ | 37/38 [01:27<00:02,  2.37s/it]\u001b[A\n",
            "Running Epoch 0 of 1: 100%|████████████████████████████████████████████████████████████| 38/38 [01:28<00:00,  2.33s/it]\n",
            "Epoch 1 of 1: 100%|██████████████████████████████████████████████████████████████████████| 1/1 [01:28<00:00, 88.61s/it]\n",
            "C:\\Users\\Domenico\\.conda\\envs\\tf\\lib\\site-packages\\simpletransformers\\classification\\classification_model.py:1454: UserWarning: Dataframe headers not specified. Falling back to using column 0 as text and column 1 as labels.\n",
            "  warnings.warn(\n"
          ]
        },
        {
          "output_type": "stream",
          "name": "stdout",
          "text": [
            "\n",
            "NOW EVALUATE THE TEST DF.\n"
          ]
        },
        {
          "output_type": "stream",
          "name": "stderr",
          "text": [
            "  0%|▍                                                                                 | 1/200 [00:05<18:04,  5.45s/it]\n",
            "Running Evaluation: 100%|██████████████████████████████████████████████████████████████| 25/25 [00:14<00:00,  1.67it/s]\n",
            "C:\\Users\\Domenico\\.conda\\envs\\tf\\lib\\site-packages\\simpletransformers\\classification\\classification_model.py:612: UserWarning: Dataframe headers not specified. Falling back to using column 0 as text and column 1 as labels.\n",
            "  warnings.warn(\n"
          ]
        },
        {
          "output_type": "stream",
          "name": "stdout",
          "text": [
            "{'mcc': 0.3320148028852824, 'tp': 61, 'tn': 72, 'fp': 28, 'fn': 39, 'auroc': 0.703, 'auprc': 0.6564555636172631, 'eval_loss': 1.3567253199219704}\n",
            "Correct predictions are:  133\n",
            "Total predictions are:  200\n",
            "Accuracy on test set is: 0.665 \n",
            "\n",
            "\n",
            "\n",
            "EPOCH NUMBER:  7\n",
            "\n",
            "NOW TRAIN THE MODEL.\n"
          ]
        },
        {
          "output_type": "stream",
          "name": "stderr",
          "text": [
            "  0%|▎                                                                                 | 1/300 [00:07<35:21,  7.09s/it]\n",
            "Epoch 1 of 1:   0%|                                                                              | 0/1 [00:00<?, ?it/s]\n",
            "Running Epoch 0 of 1:   0%|                                                                     | 0/38 [00:00<?, ?it/s]\u001b[A\n",
            "Running Epoch 0 of 1:   3%|█▌                                                           | 1/38 [00:02<01:28,  2.38s/it]\u001b[A\n",
            "Running Epoch 0 of 1:   5%|███▏                                                         | 2/38 [00:04<01:24,  2.33s/it]\u001b[A\n",
            "Running Epoch 0 of 1:   8%|████▊                                                        | 3/38 [00:07<01:22,  2.36s/it]\u001b[A\n",
            "Running Epoch 0 of 1:  11%|██████▍                                                      | 4/38 [00:09<01:19,  2.35s/it]\u001b[A\n",
            "Running Epoch 0 of 1:  13%|████████                                                     | 5/38 [00:11<01:17,  2.34s/it]\u001b[A\n",
            "Running Epoch 0 of 1:  16%|█████████▋                                                   | 6/38 [00:14<01:15,  2.35s/it]\u001b[A\n",
            "Running Epoch 0 of 1:  18%|███████████▏                                                 | 7/38 [00:16<01:12,  2.34s/it]\u001b[A\n",
            "Running Epoch 0 of 1:  21%|████████████▊                                                | 8/38 [00:18<01:10,  2.34s/it]\u001b[A\n",
            "Running Epoch 0 of 1:  24%|██████████████▍                                              | 9/38 [00:21<01:08,  2.36s/it]\u001b[A\n",
            "Running Epoch 0 of 1:  26%|███████████████▊                                            | 10/38 [00:23<01:05,  2.35s/it]\u001b[A\n",
            "Running Epoch 0 of 1:  29%|█████████████████▎                                          | 11/38 [00:25<01:03,  2.35s/it]\u001b[A\n",
            "Running Epoch 0 of 1:  32%|██████████████████▉                                         | 12/38 [00:28<01:01,  2.37s/it]\u001b[A\n",
            "Running Epoch 0 of 1:  34%|████████████████████▌                                       | 13/38 [00:30<00:58,  2.35s/it]\u001b[A\n",
            "Running Epoch 0 of 1:  37%|██████████████████████                                      | 14/38 [00:32<00:56,  2.35s/it]\u001b[A\n",
            "Running Epoch 0 of 1:  39%|███████████████████████▋                                    | 15/38 [00:35<00:54,  2.36s/it]\u001b[A\n",
            "Running Epoch 0 of 1:  42%|█████████████████████████▎                                  | 16/38 [00:37<00:51,  2.35s/it]\u001b[A\n",
            "Running Epoch 0 of 1:  45%|██████████████████████████▊                                 | 17/38 [00:39<00:49,  2.35s/it]\u001b[A\n",
            "Running Epoch 0 of 1:  47%|████████████████████████████▍                               | 18/38 [00:42<00:47,  2.36s/it]\u001b[A\n",
            "Running Epoch 0 of 1:  50%|██████████████████████████████                              | 19/38 [00:44<00:44,  2.35s/it]\u001b[A\n",
            "Running Epoch 0 of 1:  53%|███████████████████████████████▌                            | 20/38 [00:47<00:42,  2.35s/it]\u001b[A\n",
            "Running Epoch 0 of 1:  55%|█████████████████████████████████▏                          | 21/38 [00:49<00:40,  2.35s/it]\u001b[A\n",
            "Running Epoch 0 of 1:  58%|██████████████████████████████████▋                         | 22/38 [00:51<00:37,  2.35s/it]\u001b[A\n",
            "Running Epoch 0 of 1:  61%|████████████████████████████████████▎                       | 23/38 [00:54<00:35,  2.36s/it]\u001b[A\n",
            "Running Epoch 0 of 1:  63%|█████████████████████████████████████▉                      | 24/38 [00:56<00:32,  2.35s/it]\u001b[A\n",
            "Running Epoch 0 of 1:  66%|███████████████████████████████████████▍                    | 25/38 [00:58<00:30,  2.36s/it]\u001b[A\n",
            "Running Epoch 0 of 1:  68%|█████████████████████████████████████████                   | 26/38 [01:01<00:28,  2.37s/it]\u001b[A\n",
            "Running Epoch 0 of 1:  71%|██████████████████████████████████████████▋                 | 27/38 [01:03<00:25,  2.36s/it]\u001b[A\n",
            "Running Epoch 0 of 1:  74%|████████████████████████████████████████████▏               | 28/38 [01:05<00:23,  2.36s/it]\u001b[A\n",
            "Running Epoch 0 of 1:  76%|█████████████████████████████████████████████▊              | 29/38 [01:08<00:21,  2.37s/it]\u001b[A\n",
            "Running Epoch 0 of 1:  79%|███████████████████████████████████████████████▎            | 30/38 [01:10<00:18,  2.36s/it]\u001b[A\n",
            "Running Epoch 0 of 1:  82%|████████████████████████████████████████████████▉           | 31/38 [01:12<00:16,  2.34s/it]\u001b[A\n",
            "Running Epoch 0 of 1:  84%|██████████████████████████████████████████████████▌         | 32/38 [01:15<00:14,  2.35s/it]\u001b[A\n",
            "Running Epoch 0 of 1:  87%|████████████████████████████████████████████████████        | 33/38 [01:17<00:11,  2.34s/it]\u001b[A\n",
            "Running Epoch 0 of 1:  89%|█████████████████████████████████████████████████████▋      | 34/38 [01:19<00:09,  2.35s/it]\u001b[A\n",
            "Running Epoch 0 of 1:  92%|███████████████████████████████████████████████████████▎    | 35/38 [01:22<00:07,  2.36s/it]\u001b[A\n",
            "Running Epoch 0 of 1:  95%|████████████████████████████████████████████████████████▊   | 36/38 [01:24<00:04,  2.36s/it]\u001b[A\n",
            "Running Epoch 0 of 1:  97%|██████████████████████████████████████████████████████████▍ | 37/38 [01:27<00:02,  2.36s/it]\u001b[A\n",
            "Running Epoch 0 of 1: 100%|████████████████████████████████████████████████████████████| 38/38 [01:28<00:00,  2.33s/it]\n",
            "Epoch 1 of 1: 100%|██████████████████████████████████████████████████████████████████████| 1/1 [01:28<00:00, 88.64s/it]\n",
            "C:\\Users\\Domenico\\.conda\\envs\\tf\\lib\\site-packages\\simpletransformers\\classification\\classification_model.py:1454: UserWarning: Dataframe headers not specified. Falling back to using column 0 as text and column 1 as labels.\n",
            "  warnings.warn(\n"
          ]
        },
        {
          "output_type": "stream",
          "name": "stdout",
          "text": [
            "\n",
            "NOW EVALUATE THE TEST DF.\n"
          ]
        },
        {
          "output_type": "stream",
          "name": "stderr",
          "text": [
            "  0%|▍                                                                                 | 1/200 [00:05<18:21,  5.53s/it]\n",
            "Running Evaluation: 100%|██████████████████████████████████████████████████████████████| 25/25 [00:14<00:00,  1.68it/s]\n",
            "C:\\Users\\Domenico\\.conda\\envs\\tf\\lib\\site-packages\\simpletransformers\\classification\\classification_model.py:612: UserWarning: Dataframe headers not specified. Falling back to using column 0 as text and column 1 as labels.\n",
            "  warnings.warn(\n"
          ]
        },
        {
          "output_type": "stream",
          "name": "stdout",
          "text": [
            "{'mcc': 0.28464928777678566, 'tp': 55, 'tn': 73, 'fp': 27, 'fn': 45, 'auroc': 0.7221000000000001, 'auprc': 0.6849882687561342, 'eval_loss': 1.6943928343057633}\n",
            "Correct predictions are:  128\n",
            "Total predictions are:  200\n",
            "Accuracy on test set is: 0.64 \n",
            "\n",
            "\n",
            "\n",
            "EPOCH NUMBER:  8\n",
            "\n",
            "NOW TRAIN THE MODEL.\n"
          ]
        },
        {
          "output_type": "stream",
          "name": "stderr",
          "text": [
            "  0%|▎                                                                                 | 1/300 [00:07<35:33,  7.14s/it]\n",
            "Epoch 1 of 1:   0%|                                                                              | 0/1 [00:00<?, ?it/s]\n",
            "Running Epoch 0 of 1:   0%|                                                                     | 0/38 [00:00<?, ?it/s]\u001b[A\n",
            "Running Epoch 0 of 1:   3%|█▌                                                           | 1/38 [00:02<01:28,  2.39s/it]\u001b[A\n",
            "Running Epoch 0 of 1:   5%|███▏                                                         | 2/38 [00:04<01:25,  2.39s/it]\u001b[A\n",
            "Running Epoch 0 of 1:   8%|████▊                                                        | 3/38 [00:07<01:22,  2.36s/it]\u001b[A\n",
            "Running Epoch 0 of 1:  11%|██████▍                                                      | 4/38 [00:09<01:20,  2.36s/it]\u001b[A\n",
            "Running Epoch 0 of 1:  13%|████████                                                     | 5/38 [00:11<01:17,  2.35s/it]\u001b[A\n",
            "Running Epoch 0 of 1:  16%|█████████▋                                                   | 6/38 [00:14<01:14,  2.34s/it]\u001b[A\n",
            "Running Epoch 0 of 1:  18%|███████████▏                                                 | 7/38 [00:16<01:13,  2.36s/it]\u001b[A\n",
            "Running Epoch 0 of 1:  21%|████████████▊                                                | 8/38 [00:18<01:10,  2.35s/it]\u001b[A\n",
            "Running Epoch 0 of 1:  24%|██████████████▍                                              | 9/38 [00:21<01:08,  2.35s/it]\u001b[A\n",
            "Running Epoch 0 of 1:  26%|███████████████▊                                            | 10/38 [00:23<01:06,  2.37s/it]\u001b[A\n",
            "Running Epoch 0 of 1:  29%|█████████████████▎                                          | 11/38 [00:25<01:03,  2.36s/it]\u001b[A\n",
            "Running Epoch 0 of 1:  32%|██████████████████▉                                         | 12/38 [00:28<01:01,  2.36s/it]\u001b[A\n",
            "Running Epoch 0 of 1:  34%|████████████████████▌                                       | 13/38 [00:30<00:59,  2.36s/it]\u001b[A\n",
            "Running Epoch 0 of 1:  37%|██████████████████████                                      | 14/38 [00:32<00:56,  2.34s/it]\u001b[A\n",
            "Running Epoch 0 of 1:  39%|███████████████████████▋                                    | 15/38 [00:35<00:53,  2.34s/it]\u001b[A\n",
            "Running Epoch 0 of 1:  42%|█████████████████████████▎                                  | 16/38 [00:37<00:51,  2.35s/it]\u001b[A\n",
            "Running Epoch 0 of 1:  45%|██████████████████████████▊                                 | 17/38 [00:40<00:49,  2.35s/it]\u001b[A\n",
            "Running Epoch 0 of 1:  47%|████████████████████████████▍                               | 18/38 [00:42<00:46,  2.33s/it]\u001b[A\n",
            "Running Epoch 0 of 1:  50%|██████████████████████████████                              | 19/38 [00:44<00:44,  2.36s/it]\u001b[A\n",
            "Running Epoch 0 of 1:  53%|███████████████████████████████▌                            | 20/38 [00:47<00:42,  2.34s/it]\u001b[A\n",
            "Running Epoch 0 of 1:  55%|█████████████████████████████████▏                          | 21/38 [00:49<00:40,  2.36s/it]\u001b[A\n",
            "Running Epoch 0 of 1:  58%|██████████████████████████████████▋                         | 22/38 [00:51<00:37,  2.35s/it]\u001b[A\n",
            "Running Epoch 0 of 1:  61%|████████████████████████████████████▎                       | 23/38 [00:54<00:35,  2.35s/it]\u001b[A\n",
            "Running Epoch 0 of 1:  63%|█████████████████████████████████████▉                      | 24/38 [00:56<00:33,  2.36s/it]\u001b[A\n",
            "Running Epoch 0 of 1:  66%|███████████████████████████████████████▍                    | 25/38 [00:58<00:30,  2.35s/it]\u001b[A\n",
            "Running Epoch 0 of 1:  68%|█████████████████████████████████████████                   | 26/38 [01:01<00:28,  2.35s/it]\u001b[A\n",
            "Running Epoch 0 of 1:  71%|██████████████████████████████████████████▋                 | 27/38 [01:03<00:25,  2.36s/it]\u001b[A\n",
            "Running Epoch 0 of 1:  74%|████████████████████████████████████████████▏               | 28/38 [01:05<00:23,  2.35s/it]\u001b[A\n",
            "Running Epoch 0 of 1:  76%|█████████████████████████████████████████████▊              | 29/38 [01:08<00:21,  2.37s/it]\u001b[A\n",
            "Running Epoch 0 of 1:  79%|███████████████████████████████████████████████▎            | 30/38 [01:10<00:19,  2.38s/it]\u001b[A\n",
            "Running Epoch 0 of 1:  82%|████████████████████████████████████████████████▉           | 31/38 [01:13<00:16,  2.37s/it]\u001b[A\n",
            "Running Epoch 0 of 1:  84%|██████████████████████████████████████████████████▌         | 32/38 [01:15<00:14,  2.37s/it]\u001b[A\n",
            "Running Epoch 0 of 1:  87%|████████████████████████████████████████████████████        | 33/38 [01:17<00:11,  2.37s/it]\u001b[A\n",
            "Running Epoch 0 of 1:  89%|█████████████████████████████████████████████████████▋      | 34/38 [01:20<00:09,  2.38s/it]\u001b[A\n",
            "Running Epoch 0 of 1:  92%|███████████████████████████████████████████████████████▎    | 35/38 [01:22<00:07,  2.38s/it]\u001b[A\n",
            "Running Epoch 0 of 1:  95%|████████████████████████████████████████████████████████▊   | 36/38 [01:24<00:04,  2.37s/it]\u001b[A\n",
            "Running Epoch 0 of 1:  97%|██████████████████████████████████████████████████████████▍ | 37/38 [01:27<00:02,  2.36s/it]\u001b[A\n",
            "Running Epoch 0 of 1: 100%|████████████████████████████████████████████████████████████| 38/38 [01:28<00:00,  2.34s/it]\n",
            "Epoch 1 of 1: 100%|██████████████████████████████████████████████████████████████████████| 1/1 [01:28<00:00, 88.84s/it]\n",
            "C:\\Users\\Domenico\\.conda\\envs\\tf\\lib\\site-packages\\simpletransformers\\classification\\classification_model.py:1454: UserWarning: Dataframe headers not specified. Falling back to using column 0 as text and column 1 as labels.\n",
            "  warnings.warn(\n"
          ]
        },
        {
          "output_type": "stream",
          "name": "stdout",
          "text": [
            "\n",
            "NOW EVALUATE THE TEST DF.\n"
          ]
        },
        {
          "output_type": "stream",
          "name": "stderr",
          "text": [
            "  0%|▍                                                                                 | 1/200 [00:05<18:06,  5.46s/it]\n",
            "Running Evaluation: 100%|██████████████████████████████████████████████████████████████| 25/25 [00:14<00:00,  1.68it/s]\n",
            "C:\\Users\\Domenico\\.conda\\envs\\tf\\lib\\site-packages\\simpletransformers\\classification\\classification_model.py:612: UserWarning: Dataframe headers not specified. Falling back to using column 0 as text and column 1 as labels.\n",
            "  warnings.warn(\n"
          ]
        },
        {
          "output_type": "stream",
          "name": "stdout",
          "text": [
            "{'mcc': 0.28090032386679475, 'tp': 68, 'tn': 60, 'fp': 40, 'fn': 32, 'auroc': 0.6914, 'auprc': 0.6379974529696737, 'eval_loss': 1.9495713911950587}\n",
            "Correct predictions are:  128\n",
            "Total predictions are:  200\n",
            "Accuracy on test set is: 0.64 \n",
            "\n",
            "\n",
            "\n",
            "EPOCH NUMBER:  9\n",
            "\n",
            "NOW TRAIN THE MODEL.\n"
          ]
        },
        {
          "output_type": "stream",
          "name": "stderr",
          "text": [
            "  0%|▎                                                                                 | 1/300 [00:07<35:42,  7.17s/it]\n",
            "Epoch 1 of 1:   0%|                                                                              | 0/1 [00:00<?, ?it/s]\n",
            "Running Epoch 0 of 1:   0%|                                                                     | 0/38 [00:00<?, ?it/s]\u001b[A\n",
            "Running Epoch 0 of 1:   3%|█▌                                                           | 1/38 [00:02<01:28,  2.39s/it]\u001b[A\n",
            "Running Epoch 0 of 1:   5%|███▏                                                         | 2/38 [00:04<01:25,  2.37s/it]\u001b[A\n",
            "Running Epoch 0 of 1:   8%|████▊                                                        | 3/38 [00:07<01:21,  2.34s/it]\u001b[A\n",
            "Running Epoch 0 of 1:  11%|██████▍                                                      | 4/38 [00:09<01:19,  2.34s/it]\u001b[A\n",
            "Running Epoch 0 of 1:  13%|████████                                                     | 5/38 [00:11<01:17,  2.36s/it]\u001b[A\n",
            "Running Epoch 0 of 1:  16%|█████████▋                                                   | 6/38 [00:14<01:15,  2.36s/it]\u001b[A\n",
            "Running Epoch 0 of 1:  18%|███████████▏                                                 | 7/38 [00:16<01:13,  2.36s/it]\u001b[A\n",
            "Running Epoch 0 of 1:  21%|████████████▊                                                | 8/38 [00:18<01:10,  2.36s/it]\u001b[A\n",
            "Running Epoch 0 of 1:  24%|██████████████▍                                              | 9/38 [00:21<01:08,  2.35s/it]\u001b[A\n",
            "Running Epoch 0 of 1:  26%|███████████████▊                                            | 10/38 [00:23<01:06,  2.36s/it]\u001b[A\n",
            "Running Epoch 0 of 1:  29%|█████████████████▎                                          | 11/38 [00:25<01:03,  2.35s/it]\u001b[A\n",
            "Running Epoch 0 of 1:  32%|██████████████████▉                                         | 12/38 [00:28<01:01,  2.35s/it]\u001b[A\n",
            "Running Epoch 0 of 1:  34%|████████████████████▌                                       | 13/38 [00:30<00:59,  2.39s/it]\u001b[A\n",
            "Running Epoch 0 of 1:  37%|██████████████████████                                      | 14/38 [00:33<00:58,  2.42s/it]\u001b[A\n",
            "Running Epoch 0 of 1:  39%|███████████████████████▋                                    | 15/38 [00:35<00:56,  2.44s/it]\u001b[A\n",
            "Running Epoch 0 of 1:  42%|█████████████████████████▎                                  | 16/38 [00:38<00:53,  2.43s/it]\u001b[A\n",
            "Running Epoch 0 of 1:  45%|██████████████████████████▊                                 | 17/38 [00:40<00:51,  2.44s/it]\u001b[A\n",
            "Running Epoch 0 of 1:  47%|████████████████████████████▍                               | 18/38 [00:43<00:48,  2.44s/it]\u001b[A\n",
            "Running Epoch 0 of 1:  50%|██████████████████████████████                              | 19/38 [00:45<00:46,  2.45s/it]\u001b[A\n",
            "Running Epoch 0 of 1:  53%|███████████████████████████████▌                            | 20/38 [00:47<00:43,  2.43s/it]\u001b[A\n",
            "Running Epoch 0 of 1:  55%|█████████████████████████████████▏                          | 21/38 [00:50<00:40,  2.41s/it]\u001b[A\n",
            "Running Epoch 0 of 1:  58%|██████████████████████████████████▋                         | 22/38 [00:52<00:38,  2.40s/it]\u001b[A\n",
            "Running Epoch 0 of 1:  61%|████████████████████████████████████▎                       | 23/38 [00:54<00:35,  2.39s/it]\u001b[A\n",
            "Running Epoch 0 of 1:  63%|█████████████████████████████████████▉                      | 24/38 [00:57<00:33,  2.38s/it]\u001b[A\n",
            "Running Epoch 0 of 1:  66%|███████████████████████████████████████▍                    | 25/38 [00:59<00:31,  2.39s/it]\u001b[A\n",
            "Running Epoch 0 of 1:  68%|█████████████████████████████████████████                   | 26/38 [01:02<00:28,  2.37s/it]\u001b[A\n",
            "Running Epoch 0 of 1:  71%|██████████████████████████████████████████▋                 | 27/38 [01:04<00:26,  2.37s/it]\u001b[A\n",
            "Running Epoch 0 of 1:  74%|████████████████████████████████████████████▏               | 28/38 [01:06<00:23,  2.37s/it]\u001b[A\n",
            "Running Epoch 0 of 1:  76%|█████████████████████████████████████████████▊              | 29/38 [01:09<00:21,  2.35s/it]\u001b[A\n",
            "Running Epoch 0 of 1:  79%|███████████████████████████████████████████████▎            | 30/38 [01:11<00:18,  2.37s/it]\u001b[A\n",
            "Running Epoch 0 of 1:  82%|████████████████████████████████████████████████▉           | 31/38 [01:13<00:16,  2.37s/it]\u001b[A\n",
            "Running Epoch 0 of 1:  84%|██████████████████████████████████████████████████▌         | 32/38 [01:16<00:14,  2.38s/it]\u001b[A\n",
            "Running Epoch 0 of 1:  87%|████████████████████████████████████████████████████        | 33/38 [01:18<00:11,  2.38s/it]\u001b[A\n",
            "Running Epoch 0 of 1:  89%|█████████████████████████████████████████████████████▋      | 34/38 [01:21<00:09,  2.37s/it]\u001b[A\n",
            "Running Epoch 0 of 1:  92%|███████████████████████████████████████████████████████▎    | 35/38 [01:23<00:07,  2.38s/it]\u001b[A\n",
            "Running Epoch 0 of 1:  95%|████████████████████████████████████████████████████████▊   | 36/38 [01:25<00:04,  2.38s/it]\u001b[A\n",
            "Running Epoch 0 of 1:  97%|██████████████████████████████████████████████████████████▍ | 37/38 [01:28<00:02,  2.36s/it]\u001b[A\n",
            "Running Epoch 0 of 1: 100%|████████████████████████████████████████████████████████████| 38/38 [01:29<00:00,  2.36s/it]\n",
            "Epoch 1 of 1: 100%|██████████████████████████████████████████████████████████████████████| 1/1 [01:29<00:00, 89.73s/it]\n",
            "C:\\Users\\Domenico\\.conda\\envs\\tf\\lib\\site-packages\\simpletransformers\\classification\\classification_model.py:1454: UserWarning: Dataframe headers not specified. Falling back to using column 0 as text and column 1 as labels.\n",
            "  warnings.warn(\n"
          ]
        },
        {
          "output_type": "stream",
          "name": "stdout",
          "text": [
            "\n",
            "NOW EVALUATE THE TEST DF.\n"
          ]
        },
        {
          "output_type": "stream",
          "name": "stderr",
          "text": [
            "  0%|▍                                                                                 | 1/200 [00:05<18:17,  5.52s/it]\n",
            "Running Evaluation: 100%|██████████████████████████████████████████████████████████████| 25/25 [00:14<00:00,  1.67it/s]\n"
          ]
        },
        {
          "output_type": "stream",
          "name": "stdout",
          "text": [
            "{'mcc': 0.3579825139310076, 'tp': 78, 'tn': 57, 'fp': 43, 'fn': 22, 'auroc': 0.7265, 'auprc': 0.6962228296500891, 'eval_loss': 2.0893779399991037}\n",
            "Correct predictions are:  135\n",
            "Total predictions are:  200\n",
            "Accuracy on test set is: 0.675 \n",
            "\n",
            "\n",
            "[0.51, 0.67, 0.66, 0.685, 0.655, 0.665, 0.665, 0.64, 0.64, 0.675]\n"
          ]
        },
        {
          "output_type": "stream",
          "name": "stderr",
          "text": [
            "Some weights of the model checkpoint at roberta-base were not used when initializing RobertaForSequenceClassification: ['lm_head.bias', 'roberta.pooler.dense.bias', 'lm_head.layer_norm.bias', 'lm_head.decoder.weight', 'lm_head.dense.weight', 'roberta.pooler.dense.weight', 'lm_head.layer_norm.weight', 'lm_head.dense.bias']\n",
            "- This IS expected if you are initializing RobertaForSequenceClassification from the checkpoint of a model trained on another task or with another architecture (e.g. initializing a BertForSequenceClassification model from a BertForPreTraining model).\n",
            "- This IS NOT expected if you are initializing RobertaForSequenceClassification from the checkpoint of a model that you expect to be exactly identical (initializing a BertForSequenceClassification model from a BertForSequenceClassification model).\n",
            "Some weights of RobertaForSequenceClassification were not initialized from the model checkpoint at roberta-base and are newly initialized: ['classifier.out_proj.weight', 'classifier.out_proj.bias', 'classifier.dense.weight', 'classifier.dense.bias']\n",
            "You should probably TRAIN this model on a down-stream task to be able to use it for predictions and inference.\n",
            "C:\\Users\\Domenico\\.conda\\envs\\tf\\lib\\site-packages\\simpletransformers\\classification\\classification_model.py:612: UserWarning: Dataframe headers not specified. Falling back to using column 0 as text and column 1 as labels.\n",
            "  warnings.warn(\n"
          ]
        },
        {
          "output_type": "stream",
          "name": "stdout",
          "text": [
            "\n",
            "EPOCH NUMBER:  0\n",
            "\n",
            "NOW TRAIN THE MODEL.\n"
          ]
        },
        {
          "output_type": "stream",
          "name": "stderr",
          "text": [
            "  0%|▎                                                                                 | 1/300 [00:07<35:39,  7.15s/it]\n",
            "Epoch 1 of 1:   0%|                                                                              | 0/1 [00:00<?, ?it/s]\n",
            "Running Epoch 0 of 1:   0%|                                                                     | 0/38 [00:00<?, ?it/s]\u001b[A\n",
            "Running Epoch 0 of 1:   3%|█▌                                                           | 1/38 [00:02<01:22,  2.23s/it]\u001b[A\n",
            "Running Epoch 0 of 1:   5%|███▏                                                         | 2/38 [00:04<01:21,  2.27s/it]\u001b[A\n",
            "Running Epoch 0 of 1:   8%|████▊                                                        | 3/38 [00:06<01:20,  2.31s/it]\u001b[A\n",
            "Running Epoch 0 of 1:  11%|██████▍                                                      | 4/38 [00:09<01:18,  2.31s/it]\u001b[A\n",
            "Running Epoch 0 of 1:  13%|████████                                                     | 5/38 [00:11<01:15,  2.30s/it]\u001b[A\n",
            "Running Epoch 0 of 1:  16%|█████████▋                                                   | 6/38 [00:13<01:14,  2.33s/it]\u001b[A\n",
            "Running Epoch 0 of 1:  18%|███████████▏                                                 | 7/38 [00:16<01:12,  2.32s/it]\u001b[A\n",
            "Running Epoch 0 of 1:  21%|████████████▊                                                | 8/38 [00:18<01:09,  2.32s/it]\u001b[A\n",
            "Running Epoch 0 of 1:  24%|██████████████▍                                              | 9/38 [00:20<01:07,  2.33s/it]\u001b[A\n",
            "Running Epoch 0 of 1:  26%|███████████████▊                                            | 10/38 [00:23<01:05,  2.33s/it]\u001b[A\n",
            "Running Epoch 0 of 1:  29%|█████████████████▎                                          | 11/38 [00:25<01:02,  2.32s/it]\u001b[A\n",
            "Running Epoch 0 of 1:  32%|██████████████████▉                                         | 12/38 [00:27<01:00,  2.32s/it]\u001b[A\n",
            "Running Epoch 0 of 1:  34%|████████████████████▌                                       | 13/38 [00:30<00:58,  2.33s/it]\u001b[A\n",
            "Running Epoch 0 of 1:  37%|██████████████████████                                      | 14/38 [00:32<00:55,  2.33s/it]\u001b[A\n",
            "Running Epoch 0 of 1:  39%|███████████████████████▋                                    | 15/38 [00:34<00:53,  2.34s/it]\u001b[A\n",
            "Running Epoch 0 of 1:  42%|█████████████████████████▎                                  | 16/38 [00:37<00:51,  2.34s/it]\u001b[A\n",
            "Running Epoch 0 of 1:  45%|██████████████████████████▊                                 | 17/38 [00:39<00:49,  2.33s/it]\u001b[A\n",
            "Running Epoch 0 of 1:  47%|████████████████████████████▍                               | 18/38 [00:41<00:46,  2.35s/it]\u001b[A\n",
            "Running Epoch 0 of 1:  50%|██████████████████████████████                              | 19/38 [00:44<00:44,  2.34s/it]\u001b[A\n",
            "Running Epoch 0 of 1:  53%|███████████████████████████████▌                            | 20/38 [00:46<00:42,  2.34s/it]\u001b[A\n",
            "Running Epoch 0 of 1:  55%|█████████████████████████████████▏                          | 21/38 [00:48<00:40,  2.36s/it]\u001b[A\n",
            "Running Epoch 0 of 1:  58%|██████████████████████████████████▋                         | 22/38 [00:51<00:37,  2.36s/it]\u001b[A\n",
            "Running Epoch 0 of 1:  61%|████████████████████████████████████▎                       | 23/38 [00:53<00:35,  2.35s/it]\u001b[A\n",
            "Running Epoch 0 of 1:  63%|█████████████████████████████████████▉                      | 24/38 [00:55<00:32,  2.35s/it]\u001b[A\n",
            "Running Epoch 0 of 1:  66%|███████████████████████████████████████▍                    | 25/38 [00:58<00:30,  2.34s/it]\u001b[A\n",
            "Running Epoch 0 of 1:  68%|█████████████████████████████████████████                   | 26/38 [01:00<00:28,  2.35s/it]\u001b[A\n",
            "Running Epoch 0 of 1:  71%|██████████████████████████████████████████▋                 | 27/38 [01:03<00:25,  2.35s/it]\u001b[A\n",
            "Running Epoch 0 of 1:  74%|████████████████████████████████████████████▏               | 28/38 [01:05<00:23,  2.35s/it]\u001b[A\n",
            "Running Epoch 0 of 1:  76%|█████████████████████████████████████████████▊              | 29/38 [01:07<00:21,  2.35s/it]\u001b[A\n",
            "Running Epoch 0 of 1:  79%|███████████████████████████████████████████████▎            | 30/38 [01:10<00:18,  2.36s/it]\u001b[A\n",
            "Running Epoch 0 of 1:  82%|████████████████████████████████████████████████▉           | 31/38 [01:12<00:16,  2.36s/it]\u001b[A\n",
            "Running Epoch 0 of 1:  84%|██████████████████████████████████████████████████▌         | 32/38 [01:14<00:14,  2.37s/it]\u001b[A\n",
            "Running Epoch 0 of 1:  87%|████████████████████████████████████████████████████        | 33/38 [01:17<00:11,  2.38s/it]\u001b[A\n",
            "Running Epoch 0 of 1:  89%|█████████████████████████████████████████████████████▋      | 34/38 [01:19<00:09,  2.37s/it]\u001b[A\n",
            "Running Epoch 0 of 1:  92%|███████████████████████████████████████████████████████▎    | 35/38 [01:22<00:07,  2.38s/it]\u001b[A\n",
            "Running Epoch 0 of 1:  95%|████████████████████████████████████████████████████████▊   | 36/38 [01:24<00:04,  2.38s/it]\u001b[A\n",
            "Running Epoch 0 of 1:  97%|██████████████████████████████████████████████████████████▍ | 37/38 [01:26<00:02,  2.38s/it]\u001b[A\n",
            "Running Epoch 0 of 1: 100%|████████████████████████████████████████████████████████████| 38/38 [01:28<00:00,  2.32s/it]\n",
            "Epoch 1 of 1: 100%|██████████████████████████████████████████████████████████████████████| 1/1 [01:28<00:00, 88.29s/it]\n",
            "C:\\Users\\Domenico\\.conda\\envs\\tf\\lib\\site-packages\\simpletransformers\\classification\\classification_model.py:1454: UserWarning: Dataframe headers not specified. Falling back to using column 0 as text and column 1 as labels.\n",
            "  warnings.warn(\n"
          ]
        },
        {
          "output_type": "stream",
          "name": "stdout",
          "text": [
            "\n",
            "NOW EVALUATE THE TEST DF.\n"
          ]
        },
        {
          "output_type": "stream",
          "name": "stderr",
          "text": [
            "  0%|▍                                                                                 | 1/200 [00:05<18:04,  5.45s/it]\n",
            "Running Evaluation: 100%|██████████████████████████████████████████████████████████████| 25/25 [00:14<00:00,  1.68it/s]\n",
            "C:\\Users\\Domenico\\.conda\\envs\\tf\\lib\\site-packages\\simpletransformers\\classification\\classification_model.py:612: UserWarning: Dataframe headers not specified. Falling back to using column 0 as text and column 1 as labels.\n",
            "  warnings.warn(\n"
          ]
        },
        {
          "output_type": "stream",
          "name": "stdout",
          "text": [
            "{'mcc': 0.0, 'tp': 0, 'tn': 100, 'fp': 0, 'fn': 100, 'auroc': 0.65, 'auprc': 0.6204262078808416, 'eval_loss': 0.6919232940673828}\n",
            "Correct predictions are:  100\n",
            "Total predictions are:  200\n",
            "Accuracy on test set is: 0.5 \n",
            "\n",
            "\n",
            "\n",
            "EPOCH NUMBER:  1\n",
            "\n",
            "NOW TRAIN THE MODEL.\n"
          ]
        },
        {
          "output_type": "stream",
          "name": "stderr",
          "text": [
            "  0%|▎                                                                                 | 1/300 [00:07<35:21,  7.10s/it]\n",
            "Epoch 1 of 1:   0%|                                                                              | 0/1 [00:00<?, ?it/s]\n",
            "Running Epoch 0 of 1:   0%|                                                                     | 0/38 [00:00<?, ?it/s]\u001b[A\n",
            "Running Epoch 0 of 1:   3%|█▌                                                           | 1/38 [00:02<01:28,  2.40s/it]\u001b[A\n",
            "Running Epoch 0 of 1:   5%|███▏                                                         | 2/38 [00:04<01:25,  2.38s/it]\u001b[A\n",
            "Running Epoch 0 of 1:   8%|████▊                                                        | 3/38 [00:07<01:21,  2.34s/it]\u001b[A\n",
            "Running Epoch 0 of 1:  11%|██████▍                                                      | 4/38 [00:09<01:19,  2.34s/it]\u001b[A\n",
            "Running Epoch 0 of 1:  13%|████████                                                     | 5/38 [00:11<01:17,  2.35s/it]\u001b[A\n",
            "Running Epoch 0 of 1:  16%|█████████▋                                                   | 6/38 [00:14<01:14,  2.34s/it]\u001b[A\n",
            "Running Epoch 0 of 1:  18%|███████████▏                                                 | 7/38 [00:16<01:12,  2.33s/it]\u001b[A\n",
            "Running Epoch 0 of 1:  21%|████████████▊                                                | 8/38 [00:18<01:10,  2.35s/it]\u001b[A\n",
            "Running Epoch 0 of 1:  24%|██████████████▍                                              | 9/38 [00:21<01:07,  2.34s/it]\u001b[A\n",
            "Running Epoch 0 of 1:  26%|███████████████▊                                            | 10/38 [00:23<01:05,  2.34s/it]\u001b[A\n",
            "Running Epoch 0 of 1:  29%|█████████████████▎                                          | 11/38 [00:25<01:03,  2.35s/it]\u001b[A\n",
            "Running Epoch 0 of 1:  32%|██████████████████▉                                         | 12/38 [00:28<01:00,  2.34s/it]\u001b[A\n",
            "Running Epoch 0 of 1:  34%|████████████████████▌                                       | 13/38 [00:30<00:58,  2.33s/it]\u001b[A\n",
            "Running Epoch 0 of 1:  37%|██████████████████████                                      | 14/38 [00:32<00:56,  2.36s/it]\u001b[A\n",
            "Running Epoch 0 of 1:  39%|███████████████████████▋                                    | 15/38 [00:35<00:53,  2.35s/it]\u001b[A\n",
            "Running Epoch 0 of 1:  42%|█████████████████████████▎                                  | 16/38 [00:37<00:51,  2.35s/it]\u001b[A\n",
            "Running Epoch 0 of 1:  45%|██████████████████████████▊                                 | 17/38 [00:39<00:49,  2.35s/it]\u001b[A\n",
            "Running Epoch 0 of 1:  47%|████████████████████████████▍                               | 18/38 [00:42<00:46,  2.34s/it]\u001b[A\n",
            "Running Epoch 0 of 1:  50%|██████████████████████████████                              | 19/38 [00:44<00:44,  2.35s/it]\u001b[A\n",
            "Running Epoch 0 of 1:  53%|███████████████████████████████▌                            | 20/38 [00:46<00:42,  2.35s/it]\u001b[A\n",
            "Running Epoch 0 of 1:  55%|█████████████████████████████████▏                          | 21/38 [00:49<00:39,  2.34s/it]\u001b[A\n",
            "Running Epoch 0 of 1:  58%|██████████████████████████████████▋                         | 22/38 [00:51<00:37,  2.35s/it]\u001b[A\n",
            "Running Epoch 0 of 1:  61%|████████████████████████████████████▎                       | 23/38 [00:53<00:35,  2.35s/it]\u001b[A\n",
            "Running Epoch 0 of 1:  63%|█████████████████████████████████████▉                      | 24/38 [00:56<00:32,  2.34s/it]\u001b[A\n",
            "Running Epoch 0 of 1:  66%|███████████████████████████████████████▍                    | 25/38 [00:58<00:30,  2.36s/it]\u001b[A\n",
            "Running Epoch 0 of 1:  68%|█████████████████████████████████████████                   | 26/38 [01:01<00:28,  2.35s/it]\u001b[A\n",
            "Running Epoch 0 of 1:  71%|██████████████████████████████████████████▋                 | 27/38 [01:03<00:25,  2.34s/it]\u001b[A\n",
            "Running Epoch 0 of 1:  74%|████████████████████████████████████████████▏               | 28/38 [01:05<00:23,  2.34s/it]\u001b[A\n",
            "Running Epoch 0 of 1:  76%|█████████████████████████████████████████████▊              | 29/38 [01:08<00:21,  2.34s/it]\u001b[A\n",
            "Running Epoch 0 of 1:  79%|███████████████████████████████████████████████▎            | 30/38 [01:10<00:18,  2.33s/it]\u001b[A\n",
            "Running Epoch 0 of 1:  82%|████████████████████████████████████████████████▉           | 31/38 [01:12<00:16,  2.35s/it]\u001b[A\n",
            "Running Epoch 0 of 1:  84%|██████████████████████████████████████████████████▌         | 32/38 [01:15<00:14,  2.35s/it]\u001b[A\n",
            "Running Epoch 0 of 1:  87%|████████████████████████████████████████████████████        | 33/38 [01:17<00:11,  2.34s/it]\u001b[A\n",
            "Running Epoch 0 of 1:  89%|█████████████████████████████████████████████████████▋      | 34/38 [01:19<00:09,  2.35s/it]\u001b[A\n",
            "Running Epoch 0 of 1:  92%|███████████████████████████████████████████████████████▎    | 35/38 [01:22<00:07,  2.35s/it]\u001b[A\n",
            "Running Epoch 0 of 1:  95%|████████████████████████████████████████████████████████▊   | 36/38 [01:24<00:04,  2.36s/it]\u001b[A\n",
            "Running Epoch 0 of 1:  97%|██████████████████████████████████████████████████████████▍ | 37/38 [01:26<00:02,  2.37s/it]\u001b[A\n",
            "Running Epoch 0 of 1: 100%|████████████████████████████████████████████████████████████| 38/38 [01:28<00:00,  2.33s/it]\n",
            "Epoch 1 of 1: 100%|██████████████████████████████████████████████████████████████████████| 1/1 [01:28<00:00, 88.42s/it]\n",
            "C:\\Users\\Domenico\\.conda\\envs\\tf\\lib\\site-packages\\simpletransformers\\classification\\classification_model.py:1454: UserWarning: Dataframe headers not specified. Falling back to using column 0 as text and column 1 as labels.\n",
            "  warnings.warn(\n"
          ]
        },
        {
          "output_type": "stream",
          "name": "stdout",
          "text": [
            "\n",
            "NOW EVALUATE THE TEST DF.\n"
          ]
        },
        {
          "output_type": "stream",
          "name": "stderr",
          "text": [
            "  0%|▍                                                                                 | 1/200 [00:05<17:58,  5.42s/it]\n",
            "Running Evaluation: 100%|██████████████████████████████████████████████████████████████| 25/25 [00:14<00:00,  1.68it/s]\n",
            "C:\\Users\\Domenico\\.conda\\envs\\tf\\lib\\site-packages\\simpletransformers\\classification\\classification_model.py:612: UserWarning: Dataframe headers not specified. Falling back to using column 0 as text and column 1 as labels.\n",
            "  warnings.warn(\n"
          ]
        },
        {
          "output_type": "stream",
          "name": "stdout",
          "text": [
            "{'mcc': 0.1503688561010463, 'tp': 54, 'tn': 61, 'fp': 39, 'fn': 46, 'auroc': 0.6212, 'auprc': 0.5968798800880941, 'eval_loss': 0.6695079469680786}\n",
            "Correct predictions are:  115\n",
            "Total predictions are:  200\n",
            "Accuracy on test set is: 0.575 \n",
            "\n",
            "\n",
            "\n",
            "EPOCH NUMBER:  2\n",
            "\n",
            "NOW TRAIN THE MODEL.\n"
          ]
        },
        {
          "output_type": "stream",
          "name": "stderr",
          "text": [
            "  0%|▎                                                                                 | 1/300 [00:07<35:11,  7.06s/it]\n",
            "Epoch 1 of 1:   0%|                                                                              | 0/1 [00:00<?, ?it/s]\n",
            "Running Epoch 0 of 1:   0%|                                                                     | 0/38 [00:00<?, ?it/s]\u001b[A\n",
            "Running Epoch 0 of 1:   3%|█▌                                                           | 1/38 [00:02<01:28,  2.39s/it]\u001b[A\n",
            "Running Epoch 0 of 1:   5%|███▏                                                         | 2/38 [00:04<01:24,  2.36s/it]\u001b[A\n",
            "Running Epoch 0 of 1:   8%|████▊                                                        | 3/38 [00:07<01:22,  2.35s/it]\u001b[A\n",
            "Running Epoch 0 of 1:  11%|██████▍                                                      | 4/38 [00:09<01:20,  2.36s/it]\u001b[A\n",
            "Running Epoch 0 of 1:  13%|████████                                                     | 5/38 [00:11<01:17,  2.34s/it]\u001b[A\n",
            "Running Epoch 0 of 1:  16%|█████████▋                                                   | 6/38 [00:14<01:15,  2.34s/it]\u001b[A\n",
            "Running Epoch 0 of 1:  18%|███████████▏                                                 | 7/38 [00:16<01:12,  2.35s/it]\u001b[A\n",
            "Running Epoch 0 of 1:  21%|████████████▊                                                | 8/38 [00:18<01:10,  2.35s/it]\u001b[A\n",
            "Running Epoch 0 of 1:  24%|██████████████▍                                              | 9/38 [00:21<01:07,  2.34s/it]\u001b[A\n",
            "Running Epoch 0 of 1:  26%|███████████████▊                                            | 10/38 [00:23<01:05,  2.35s/it]\u001b[A\n",
            "Running Epoch 0 of 1:  29%|█████████████████▎                                          | 11/38 [00:25<01:03,  2.34s/it]\u001b[A\n",
            "Running Epoch 0 of 1:  32%|██████████████████▉                                         | 12/38 [00:28<01:01,  2.36s/it]\u001b[A\n",
            "Running Epoch 0 of 1:  34%|████████████████████▌                                       | 13/38 [00:30<00:59,  2.37s/it]\u001b[A\n",
            "Running Epoch 0 of 1:  37%|██████████████████████                                      | 14/38 [00:32<00:56,  2.36s/it]\u001b[A\n",
            "Running Epoch 0 of 1:  39%|███████████████████████▋                                    | 15/38 [00:35<00:54,  2.37s/it]\u001b[A\n",
            "Running Epoch 0 of 1:  42%|█████████████████████████▎                                  | 16/38 [00:37<00:51,  2.35s/it]\u001b[A\n",
            "Running Epoch 0 of 1:  45%|██████████████████████████▊                                 | 17/38 [00:39<00:49,  2.34s/it]\u001b[A\n",
            "Running Epoch 0 of 1:  47%|████████████████████████████▍                               | 18/38 [00:42<00:46,  2.34s/it]\u001b[A\n",
            "Running Epoch 0 of 1:  50%|██████████████████████████████                              | 19/38 [00:44<00:44,  2.34s/it]\u001b[A\n",
            "Running Epoch 0 of 1:  53%|███████████████████████████████▌                            | 20/38 [00:46<00:42,  2.33s/it]\u001b[A\n",
            "Running Epoch 0 of 1:  55%|█████████████████████████████████▏                          | 21/38 [00:49<00:39,  2.35s/it]\u001b[A\n",
            "Running Epoch 0 of 1:  58%|██████████████████████████████████▋                         | 22/38 [00:51<00:37,  2.35s/it]\u001b[A\n",
            "Running Epoch 0 of 1:  61%|████████████████████████████████████▎                       | 23/38 [00:54<00:35,  2.35s/it]\u001b[A\n",
            "Running Epoch 0 of 1:  63%|█████████████████████████████████████▉                      | 24/38 [00:56<00:33,  2.36s/it]\u001b[A\n",
            "Running Epoch 0 of 1:  66%|███████████████████████████████████████▍                    | 25/38 [00:58<00:30,  2.35s/it]\u001b[A\n",
            "Running Epoch 0 of 1:  68%|█████████████████████████████████████████                   | 26/38 [01:01<00:28,  2.34s/it]\u001b[A\n",
            "Running Epoch 0 of 1:  71%|██████████████████████████████████████████▋                 | 27/38 [01:03<00:25,  2.35s/it]\u001b[A\n",
            "Running Epoch 0 of 1:  74%|████████████████████████████████████████████▏               | 28/38 [01:05<00:23,  2.35s/it]\u001b[A\n",
            "Running Epoch 0 of 1:  76%|█████████████████████████████████████████████▊              | 29/38 [01:08<00:21,  2.35s/it]\u001b[A\n",
            "Running Epoch 0 of 1:  79%|███████████████████████████████████████████████▎            | 30/38 [01:10<00:18,  2.35s/it]\u001b[A\n",
            "Running Epoch 0 of 1:  82%|████████████████████████████████████████████████▉           | 31/38 [01:12<00:16,  2.34s/it]\u001b[A\n",
            "Running Epoch 0 of 1:  84%|██████████████████████████████████████████████████▌         | 32/38 [01:15<00:14,  2.35s/it]\u001b[A\n",
            "Running Epoch 0 of 1:  87%|████████████████████████████████████████████████████        | 33/38 [01:17<00:11,  2.36s/it]\u001b[A\n",
            "Running Epoch 0 of 1:  89%|█████████████████████████████████████████████████████▋      | 34/38 [01:19<00:09,  2.35s/it]\u001b[A\n",
            "Running Epoch 0 of 1:  92%|███████████████████████████████████████████████████████▎    | 35/38 [01:22<00:07,  2.35s/it]\u001b[A\n",
            "Running Epoch 0 of 1:  95%|████████████████████████████████████████████████████████▊   | 36/38 [01:24<00:04,  2.35s/it]\u001b[A\n",
            "Running Epoch 0 of 1:  97%|██████████████████████████████████████████████████████████▍ | 37/38 [01:26<00:02,  2.35s/it]\u001b[A\n",
            "Running Epoch 0 of 1: 100%|████████████████████████████████████████████████████████████| 38/38 [01:28<00:00,  2.33s/it]\n",
            "Epoch 1 of 1: 100%|██████████████████████████████████████████████████████████████████████| 1/1 [01:28<00:00, 88.54s/it]\n",
            "C:\\Users\\Domenico\\.conda\\envs\\tf\\lib\\site-packages\\simpletransformers\\classification\\classification_model.py:1454: UserWarning: Dataframe headers not specified. Falling back to using column 0 as text and column 1 as labels.\n",
            "  warnings.warn(\n"
          ]
        },
        {
          "output_type": "stream",
          "name": "stdout",
          "text": [
            "\n",
            "NOW EVALUATE THE TEST DF.\n"
          ]
        },
        {
          "output_type": "stream",
          "name": "stderr",
          "text": [
            "  0%|▍                                                                                 | 1/200 [00:05<18:16,  5.51s/it]\n",
            "Running Evaluation: 100%|██████████████████████████████████████████████████████████████| 25/25 [00:14<00:00,  1.67it/s]\n",
            "C:\\Users\\Domenico\\.conda\\envs\\tf\\lib\\site-packages\\simpletransformers\\classification\\classification_model.py:612: UserWarning: Dataframe headers not specified. Falling back to using column 0 as text and column 1 as labels.\n",
            "  warnings.warn(\n"
          ]
        },
        {
          "output_type": "stream",
          "name": "stdout",
          "text": [
            "{'mcc': 0.2911816835931947, 'tp': 69, 'tn': 60, 'fp': 40, 'fn': 31, 'auroc': 0.6701, 'auprc': 0.6138566440997135, 'eval_loss': 0.6470257461071014}\n",
            "Correct predictions are:  129\n",
            "Total predictions are:  200\n",
            "Accuracy on test set is: 0.645 \n",
            "\n",
            "\n",
            "\n",
            "EPOCH NUMBER:  3\n",
            "\n",
            "NOW TRAIN THE MODEL.\n"
          ]
        },
        {
          "output_type": "stream",
          "name": "stderr",
          "text": [
            "  0%|▎                                                                                 | 1/300 [00:07<35:07,  7.05s/it]\n",
            "Epoch 1 of 1:   0%|                                                                              | 0/1 [00:00<?, ?it/s]\n",
            "Running Epoch 0 of 1:   0%|                                                                     | 0/38 [00:00<?, ?it/s]\u001b[A\n",
            "Running Epoch 0 of 1:   3%|█▌                                                           | 1/38 [00:02<01:26,  2.34s/it]\u001b[A\n",
            "Running Epoch 0 of 1:   5%|███▏                                                         | 2/38 [00:04<01:23,  2.33s/it]\u001b[A\n",
            "Running Epoch 0 of 1:   8%|████▊                                                        | 3/38 [00:06<01:21,  2.33s/it]\u001b[A\n",
            "Running Epoch 0 of 1:  11%|██████▍                                                      | 4/38 [00:09<01:18,  2.32s/it]\u001b[A\n",
            "Running Epoch 0 of 1:  13%|████████                                                     | 5/38 [00:11<01:16,  2.33s/it]\u001b[A\n",
            "Running Epoch 0 of 1:  16%|█████████▋                                                   | 6/38 [00:14<01:15,  2.35s/it]\u001b[A\n",
            "Running Epoch 0 of 1:  18%|███████████▏                                                 | 7/38 [00:16<01:12,  2.34s/it]\u001b[A\n",
            "Running Epoch 0 of 1:  21%|████████████▊                                                | 8/38 [00:18<01:10,  2.34s/it]\u001b[A\n",
            "Running Epoch 0 of 1:  24%|██████████████▍                                              | 9/38 [00:21<01:08,  2.36s/it]\u001b[A\n",
            "Running Epoch 0 of 1:  26%|███████████████▊                                            | 10/38 [00:23<01:05,  2.34s/it]\u001b[A\n",
            "Running Epoch 0 of 1:  29%|█████████████████▎                                          | 11/38 [00:25<01:03,  2.35s/it]\u001b[A\n",
            "Running Epoch 0 of 1:  32%|██████████████████▉                                         | 12/38 [00:28<01:00,  2.34s/it]\u001b[A\n",
            "Running Epoch 0 of 1:  34%|████████████████████▌                                       | 13/38 [00:30<00:58,  2.33s/it]\u001b[A\n",
            "Running Epoch 0 of 1:  37%|██████████████████████                                      | 14/38 [00:32<00:56,  2.37s/it]\u001b[A\n",
            "Running Epoch 0 of 1:  39%|███████████████████████▋                                    | 15/38 [00:35<00:54,  2.36s/it]\u001b[A\n",
            "Running Epoch 0 of 1:  42%|█████████████████████████▎                                  | 16/38 [00:37<00:51,  2.35s/it]\u001b[A\n",
            "Running Epoch 0 of 1:  45%|██████████████████████████▊                                 | 17/38 [00:39<00:49,  2.37s/it]\u001b[A\n",
            "Running Epoch 0 of 1:  47%|████████████████████████████▍                               | 18/38 [00:42<00:47,  2.36s/it]\u001b[A\n",
            "Running Epoch 0 of 1:  50%|██████████████████████████████                              | 19/38 [00:44<00:44,  2.35s/it]\u001b[A\n",
            "Running Epoch 0 of 1:  53%|███████████████████████████████▌                            | 20/38 [00:46<00:42,  2.36s/it]\u001b[A\n",
            "Running Epoch 0 of 1:  55%|█████████████████████████████████▏                          | 21/38 [00:49<00:39,  2.35s/it]\u001b[A\n",
            "Running Epoch 0 of 1:  58%|██████████████████████████████████▋                         | 22/38 [00:51<00:37,  2.35s/it]\u001b[A\n",
            "Running Epoch 0 of 1:  61%|████████████████████████████████████▎                       | 23/38 [00:54<00:35,  2.36s/it]\u001b[A\n",
            "Running Epoch 0 of 1:  63%|█████████████████████████████████████▉                      | 24/38 [00:56<00:32,  2.36s/it]\u001b[A\n",
            "Running Epoch 0 of 1:  66%|███████████████████████████████████████▍                    | 25/38 [00:58<00:30,  2.35s/it]\u001b[A\n",
            "Running Epoch 0 of 1:  68%|█████████████████████████████████████████                   | 26/38 [01:01<00:28,  2.36s/it]\u001b[A\n",
            "Running Epoch 0 of 1:  71%|██████████████████████████████████████████▋                 | 27/38 [01:03<00:25,  2.35s/it]\u001b[A\n",
            "Running Epoch 0 of 1:  74%|████████████████████████████████████████████▏               | 28/38 [01:05<00:23,  2.37s/it]\u001b[A\n",
            "Running Epoch 0 of 1:  76%|█████████████████████████████████████████████▊              | 29/38 [01:08<00:21,  2.36s/it]\u001b[A\n",
            "Running Epoch 0 of 1:  79%|███████████████████████████████████████████████▎            | 30/38 [01:10<00:18,  2.34s/it]\u001b[A\n",
            "Running Epoch 0 of 1:  82%|████████████████████████████████████████████████▉           | 31/38 [01:12<00:16,  2.35s/it]\u001b[A\n",
            "Running Epoch 0 of 1:  84%|██████████████████████████████████████████████████▌         | 32/38 [01:15<00:14,  2.35s/it]\u001b[A\n",
            "Running Epoch 0 of 1:  87%|████████████████████████████████████████████████████        | 33/38 [01:17<00:11,  2.34s/it]\u001b[A\n",
            "Running Epoch 0 of 1:  89%|█████████████████████████████████████████████████████▋      | 34/38 [01:19<00:09,  2.36s/it]\u001b[A\n",
            "Running Epoch 0 of 1:  92%|███████████████████████████████████████████████████████▎    | 35/38 [01:22<00:07,  2.35s/it]\u001b[A\n",
            "Running Epoch 0 of 1:  95%|████████████████████████████████████████████████████████▊   | 36/38 [01:24<00:04,  2.33s/it]\u001b[A\n",
            "Running Epoch 0 of 1:  97%|██████████████████████████████████████████████████████████▍ | 37/38 [01:26<00:02,  2.35s/it]\u001b[A\n",
            "Running Epoch 0 of 1: 100%|████████████████████████████████████████████████████████████| 38/38 [01:28<00:00,  2.33s/it]\n",
            "Epoch 1 of 1: 100%|██████████████████████████████████████████████████████████████████████| 1/1 [01:28<00:00, 88.45s/it]\n",
            "C:\\Users\\Domenico\\.conda\\envs\\tf\\lib\\site-packages\\simpletransformers\\classification\\classification_model.py:1454: UserWarning: Dataframe headers not specified. Falling back to using column 0 as text and column 1 as labels.\n",
            "  warnings.warn(\n"
          ]
        },
        {
          "output_type": "stream",
          "name": "stdout",
          "text": [
            "\n",
            "NOW EVALUATE THE TEST DF.\n"
          ]
        },
        {
          "output_type": "stream",
          "name": "stderr",
          "text": [
            "  0%|▍                                                                                 | 1/200 [00:05<18:01,  5.43s/it]\n",
            "Running Evaluation: 100%|██████████████████████████████████████████████████████████████| 25/25 [00:14<00:00,  1.67it/s]\n",
            "C:\\Users\\Domenico\\.conda\\envs\\tf\\lib\\site-packages\\simpletransformers\\classification\\classification_model.py:612: UserWarning: Dataframe headers not specified. Falling back to using column 0 as text and column 1 as labels.\n",
            "  warnings.warn(\n"
          ]
        },
        {
          "output_type": "stream",
          "name": "stdout",
          "text": [
            "{'mcc': 0.2916666666666667, 'tp': 78, 'tn': 50, 'fp': 50, 'fn': 22, 'auroc': 0.6629999999999999, 'auprc': 0.6113886647858348, 'eval_loss': 0.666718237400055}\n",
            "Correct predictions are:  128\n",
            "Total predictions are:  200\n",
            "Accuracy on test set is: 0.64 \n",
            "\n",
            "\n",
            "\n",
            "EPOCH NUMBER:  4\n",
            "\n",
            "NOW TRAIN THE MODEL.\n"
          ]
        },
        {
          "output_type": "stream",
          "name": "stderr",
          "text": [
            "  0%|▎                                                                                 | 1/300 [00:07<35:49,  7.19s/it]\n",
            "Epoch 1 of 1:   0%|                                                                              | 0/1 [00:00<?, ?it/s]\n",
            "Running Epoch 0 of 1:   0%|                                                                     | 0/38 [00:00<?, ?it/s]\u001b[A\n",
            "Running Epoch 0 of 1:   3%|█▌                                                           | 1/38 [00:02<01:28,  2.40s/it]\u001b[A\n",
            "Running Epoch 0 of 1:   5%|███▏                                                         | 2/38 [00:04<01:24,  2.35s/it]\u001b[A\n",
            "Running Epoch 0 of 1:   8%|████▊                                                        | 3/38 [00:07<01:21,  2.34s/it]\u001b[A\n",
            "Running Epoch 0 of 1:  11%|██████▍                                                      | 4/38 [00:09<01:19,  2.34s/it]\u001b[A\n",
            "Running Epoch 0 of 1:  13%|████████                                                     | 5/38 [00:11<01:17,  2.34s/it]\u001b[A\n",
            "Running Epoch 0 of 1:  16%|█████████▋                                                   | 6/38 [00:14<01:14,  2.33s/it]\u001b[A\n",
            "Running Epoch 0 of 1:  18%|███████████▏                                                 | 7/38 [00:16<01:12,  2.35s/it]\u001b[A\n",
            "Running Epoch 0 of 1:  21%|████████████▊                                                | 8/38 [00:18<01:10,  2.34s/it]\u001b[A\n",
            "Running Epoch 0 of 1:  24%|██████████████▍                                              | 9/38 [00:21<01:07,  2.34s/it]\u001b[A\n",
            "Running Epoch 0 of 1:  26%|███████████████▊                                            | 10/38 [00:23<01:05,  2.35s/it]\u001b[A\n",
            "Running Epoch 0 of 1:  29%|█████████████████▎                                          | 11/38 [00:25<01:03,  2.33s/it]\u001b[A\n",
            "Running Epoch 0 of 1:  32%|██████████████████▉                                         | 12/38 [00:28<01:00,  2.32s/it]\u001b[A\n",
            "Running Epoch 0 of 1:  34%|████████████████████▌                                       | 13/38 [00:30<00:58,  2.35s/it]\u001b[A\n",
            "Running Epoch 0 of 1:  37%|██████████████████████                                      | 14/38 [00:32<00:56,  2.35s/it]\u001b[A\n",
            "Running Epoch 0 of 1:  39%|███████████████████████▋                                    | 15/38 [00:35<00:54,  2.35s/it]\u001b[A\n",
            "Running Epoch 0 of 1:  42%|█████████████████████████▎                                  | 16/38 [00:37<00:52,  2.36s/it]\u001b[A\n",
            "Running Epoch 0 of 1:  45%|██████████████████████████▊                                 | 17/38 [00:39<00:49,  2.35s/it]\u001b[A\n",
            "Running Epoch 0 of 1:  47%|████████████████████████████▍                               | 18/38 [00:42<00:47,  2.35s/it]\u001b[A\n",
            "Running Epoch 0 of 1:  50%|██████████████████████████████                              | 19/38 [00:44<00:44,  2.35s/it]\u001b[A\n",
            "Running Epoch 0 of 1:  53%|███████████████████████████████▌                            | 20/38 [00:46<00:42,  2.34s/it]\u001b[A\n",
            "Running Epoch 0 of 1:  55%|█████████████████████████████████▏                          | 21/38 [00:49<00:40,  2.35s/it]\u001b[A\n",
            "Running Epoch 0 of 1:  58%|██████████████████████████████████▋                         | 22/38 [00:51<00:37,  2.35s/it]\u001b[A\n",
            "Running Epoch 0 of 1:  61%|████████████████████████████████████▎                       | 23/38 [00:53<00:35,  2.34s/it]\u001b[A\n",
            "Running Epoch 0 of 1:  63%|█████████████████████████████████████▉                      | 24/38 [00:56<00:32,  2.35s/it]\u001b[A\n",
            "Running Epoch 0 of 1:  66%|███████████████████████████████████████▍                    | 25/38 [00:58<00:30,  2.35s/it]\u001b[A\n",
            "Running Epoch 0 of 1:  68%|█████████████████████████████████████████                   | 26/38 [01:00<00:28,  2.35s/it]\u001b[A\n",
            "Running Epoch 0 of 1:  71%|██████████████████████████████████████████▋                 | 27/38 [01:03<00:25,  2.36s/it]\u001b[A\n",
            "Running Epoch 0 of 1:  74%|████████████████████████████████████████████▏               | 28/38 [01:05<00:23,  2.36s/it]\u001b[A\n",
            "Running Epoch 0 of 1:  76%|█████████████████████████████████████████████▊              | 29/38 [01:08<00:21,  2.36s/it]\u001b[A\n",
            "Running Epoch 0 of 1:  79%|███████████████████████████████████████████████▎            | 30/38 [01:10<00:18,  2.37s/it]\u001b[A\n",
            "Running Epoch 0 of 1:  82%|████████████████████████████████████████████████▉           | 31/38 [01:12<00:16,  2.36s/it]\u001b[A\n",
            "Running Epoch 0 of 1:  84%|██████████████████████████████████████████████████▌         | 32/38 [01:15<00:14,  2.36s/it]\u001b[A\n",
            "Running Epoch 0 of 1:  87%|████████████████████████████████████████████████████        | 33/38 [01:17<00:11,  2.37s/it]\u001b[A\n",
            "Running Epoch 0 of 1:  89%|█████████████████████████████████████████████████████▋      | 34/38 [01:19<00:09,  2.35s/it]\u001b[A\n",
            "Running Epoch 0 of 1:  92%|███████████████████████████████████████████████████████▎    | 35/38 [01:22<00:07,  2.36s/it]\u001b[A\n",
            "Running Epoch 0 of 1:  95%|████████████████████████████████████████████████████████▊   | 36/38 [01:24<00:04,  2.36s/it]\u001b[A\n",
            "Running Epoch 0 of 1:  97%|██████████████████████████████████████████████████████████▍ | 37/38 [01:26<00:02,  2.35s/it]\u001b[A\n",
            "Running Epoch 0 of 1: 100%|████████████████████████████████████████████████████████████| 38/38 [01:28<00:00,  2.33s/it]\n",
            "Epoch 1 of 1: 100%|██████████████████████████████████████████████████████████████████████| 1/1 [01:28<00:00, 88.54s/it]\n",
            "C:\\Users\\Domenico\\.conda\\envs\\tf\\lib\\site-packages\\simpletransformers\\classification\\classification_model.py:1454: UserWarning: Dataframe headers not specified. Falling back to using column 0 as text and column 1 as labels.\n",
            "  warnings.warn(\n"
          ]
        },
        {
          "output_type": "stream",
          "name": "stdout",
          "text": [
            "\n",
            "NOW EVALUATE THE TEST DF.\n"
          ]
        },
        {
          "output_type": "stream",
          "name": "stderr",
          "text": [
            "  0%|▍                                                                                 | 1/200 [00:05<18:08,  5.47s/it]\n",
            "Running Evaluation: 100%|██████████████████████████████████████████████████████████████| 25/25 [00:14<00:00,  1.67it/s]\n",
            "C:\\Users\\Domenico\\.conda\\envs\\tf\\lib\\site-packages\\simpletransformers\\classification\\classification_model.py:612: UserWarning: Dataframe headers not specified. Falling back to using column 0 as text and column 1 as labels.\n",
            "  warnings.warn(\n"
          ]
        },
        {
          "output_type": "stream",
          "name": "stdout",
          "text": [
            "{'mcc': 0.21578506181998866, 'tp': 49, 'tn': 72, 'fp': 28, 'fn': 51, 'auroc': 0.6737, 'auprc': 0.63355905896646, 'eval_loss': 0.6582156634330749}\n",
            "Correct predictions are:  121\n",
            "Total predictions are:  200\n",
            "Accuracy on test set is: 0.605 \n",
            "\n",
            "\n",
            "\n",
            "EPOCH NUMBER:  5\n",
            "\n",
            "NOW TRAIN THE MODEL.\n"
          ]
        },
        {
          "output_type": "stream",
          "name": "stderr",
          "text": [
            "  0%|▎                                                                                 | 1/300 [00:07<35:38,  7.15s/it]\n",
            "Epoch 1 of 1:   0%|                                                                              | 0/1 [00:00<?, ?it/s]\n",
            "Running Epoch 0 of 1:   0%|                                                                     | 0/38 [00:00<?, ?it/s]\u001b[A\n",
            "Running Epoch 0 of 1:   3%|█▌                                                           | 1/38 [00:02<01:26,  2.35s/it]\u001b[A\n",
            "Running Epoch 0 of 1:   5%|███▏                                                         | 2/38 [00:04<01:25,  2.36s/it]\u001b[A\n",
            "Running Epoch 0 of 1:   8%|████▊                                                        | 3/38 [00:07<01:22,  2.35s/it]\u001b[A\n",
            "Running Epoch 0 of 1:  11%|██████▍                                                      | 4/38 [00:09<01:19,  2.34s/it]\u001b[A\n",
            "Running Epoch 0 of 1:  13%|████████                                                     | 5/38 [00:11<01:17,  2.35s/it]\u001b[A\n",
            "Running Epoch 0 of 1:  16%|█████████▋                                                   | 6/38 [00:14<01:14,  2.34s/it]\u001b[A\n",
            "Running Epoch 0 of 1:  18%|███████████▏                                                 | 7/38 [00:16<01:12,  2.33s/it]\u001b[A\n",
            "Running Epoch 0 of 1:  21%|████████████▊                                                | 8/38 [00:18<01:10,  2.34s/it]\u001b[A\n",
            "Running Epoch 0 of 1:  24%|██████████████▍                                              | 9/38 [00:21<01:07,  2.34s/it]\u001b[A\n",
            "Running Epoch 0 of 1:  26%|███████████████▊                                            | 10/38 [00:23<01:05,  2.34s/it]\u001b[A\n",
            "Running Epoch 0 of 1:  29%|█████████████████▎                                          | 11/38 [00:25<01:03,  2.35s/it]\u001b[A\n",
            "Running Epoch 0 of 1:  32%|██████████████████▉                                         | 12/38 [00:28<01:00,  2.34s/it]\u001b[A\n",
            "Running Epoch 0 of 1:  34%|████████████████████▌                                       | 13/38 [00:30<00:58,  2.33s/it]\u001b[A\n",
            "Running Epoch 0 of 1:  37%|██████████████████████                                      | 14/38 [00:32<00:56,  2.34s/it]\u001b[A\n",
            "Running Epoch 0 of 1:  39%|███████████████████████▋                                    | 15/38 [00:35<00:53,  2.34s/it]\u001b[A\n",
            "Running Epoch 0 of 1:  42%|█████████████████████████▎                                  | 16/38 [00:37<00:51,  2.33s/it]\u001b[A\n",
            "Running Epoch 0 of 1:  45%|██████████████████████████▊                                 | 17/38 [00:39<00:49,  2.34s/it]\u001b[A\n",
            "Running Epoch 0 of 1:  47%|████████████████████████████▍                               | 18/38 [00:42<00:46,  2.35s/it]\u001b[A\n",
            "Running Epoch 0 of 1:  50%|██████████████████████████████                              | 19/38 [00:44<00:44,  2.35s/it]\u001b[A\n",
            "Running Epoch 0 of 1:  53%|███████████████████████████████▌                            | 20/38 [00:46<00:42,  2.36s/it]\u001b[A\n",
            "Running Epoch 0 of 1:  55%|█████████████████████████████████▏                          | 21/38 [00:49<00:39,  2.35s/it]\u001b[A\n",
            "Running Epoch 0 of 1:  58%|██████████████████████████████████▋                         | 22/38 [00:51<00:37,  2.35s/it]\u001b[A\n",
            "Running Epoch 0 of 1:  61%|████████████████████████████████████▎                       | 23/38 [00:54<00:35,  2.37s/it]\u001b[A\n",
            "Running Epoch 0 of 1:  63%|█████████████████████████████████████▉                      | 24/38 [00:56<00:33,  2.37s/it]\u001b[A\n",
            "Running Epoch 0 of 1:  66%|███████████████████████████████████████▍                    | 25/38 [00:58<00:30,  2.36s/it]\u001b[A\n",
            "Running Epoch 0 of 1:  68%|█████████████████████████████████████████                   | 26/38 [01:01<00:28,  2.35s/it]\u001b[A\n",
            "Running Epoch 0 of 1:  71%|██████████████████████████████████████████▋                 | 27/38 [01:03<00:25,  2.35s/it]\u001b[A\n",
            "Running Epoch 0 of 1:  74%|████████████████████████████████████████████▏               | 28/38 [01:05<00:23,  2.36s/it]\u001b[A\n",
            "Running Epoch 0 of 1:  76%|█████████████████████████████████████████████▊              | 29/38 [01:08<00:21,  2.35s/it]\u001b[A\n",
            "Running Epoch 0 of 1:  79%|███████████████████████████████████████████████▎            | 30/38 [01:10<00:18,  2.34s/it]\u001b[A\n",
            "Running Epoch 0 of 1:  82%|████████████████████████████████████████████████▉           | 31/38 [01:12<00:16,  2.35s/it]\u001b[A\n",
            "Running Epoch 0 of 1:  84%|██████████████████████████████████████████████████▌         | 32/38 [01:15<00:14,  2.35s/it]\u001b[A\n",
            "Running Epoch 0 of 1:  87%|████████████████████████████████████████████████████        | 33/38 [01:17<00:11,  2.35s/it]\u001b[A\n",
            "Running Epoch 0 of 1:  89%|█████████████████████████████████████████████████████▋      | 34/38 [01:19<00:09,  2.36s/it]\u001b[A\n",
            "Running Epoch 0 of 1:  92%|███████████████████████████████████████████████████████▎    | 35/38 [01:22<00:07,  2.34s/it]\u001b[A\n",
            "Running Epoch 0 of 1:  95%|████████████████████████████████████████████████████████▊   | 36/38 [01:24<00:04,  2.34s/it]\u001b[A\n",
            "Running Epoch 0 of 1:  97%|██████████████████████████████████████████████████████████▍ | 37/38 [01:26<00:02,  2.35s/it]\u001b[A\n",
            "Running Epoch 0 of 1: 100%|████████████████████████████████████████████████████████████| 38/38 [01:28<00:00,  2.33s/it]\n",
            "Epoch 1 of 1: 100%|██████████████████████████████████████████████████████████████████████| 1/1 [01:28<00:00, 88.45s/it]\n",
            "C:\\Users\\Domenico\\.conda\\envs\\tf\\lib\\site-packages\\simpletransformers\\classification\\classification_model.py:1454: UserWarning: Dataframe headers not specified. Falling back to using column 0 as text and column 1 as labels.\n",
            "  warnings.warn(\n"
          ]
        },
        {
          "output_type": "stream",
          "name": "stdout",
          "text": [
            "\n",
            "NOW EVALUATE THE TEST DF.\n"
          ]
        },
        {
          "output_type": "stream",
          "name": "stderr",
          "text": [
            "  0%|▍                                                                                 | 1/200 [00:05<17:48,  5.37s/it]\n",
            "Running Evaluation: 100%|██████████████████████████████████████████████████████████████| 25/25 [00:14<00:00,  1.69it/s]\n",
            "C:\\Users\\Domenico\\.conda\\envs\\tf\\lib\\site-packages\\simpletransformers\\classification\\classification_model.py:612: UserWarning: Dataframe headers not specified. Falling back to using column 0 as text and column 1 as labels.\n",
            "  warnings.warn(\n"
          ]
        },
        {
          "output_type": "stream",
          "name": "stdout",
          "text": [
            "{'mcc': 0.2181001700514336, 'tp': 47, 'tn': 74, 'fp': 26, 'fn': 53, 'auroc': 0.6732, 'auprc': 0.6400793637585227, 'eval_loss': 0.7050458776950836}\n",
            "Correct predictions are:  121\n",
            "Total predictions are:  200\n",
            "Accuracy on test set is: 0.605 \n",
            "\n",
            "\n",
            "\n",
            "EPOCH NUMBER:  6\n",
            "\n",
            "NOW TRAIN THE MODEL.\n"
          ]
        },
        {
          "output_type": "stream",
          "name": "stderr",
          "text": [
            "  0%|▎                                                                                 | 1/300 [00:07<35:09,  7.06s/it]\n",
            "Epoch 1 of 1:   0%|                                                                              | 0/1 [00:00<?, ?it/s]\n",
            "Running Epoch 0 of 1:   0%|                                                                     | 0/38 [00:00<?, ?it/s]\u001b[A\n",
            "Running Epoch 0 of 1:   3%|█▌                                                           | 1/38 [00:02<01:28,  2.38s/it]\u001b[A\n",
            "Running Epoch 0 of 1:   5%|███▏                                                         | 2/38 [00:04<01:25,  2.38s/it]\u001b[A\n",
            "Running Epoch 0 of 1:   8%|████▊                                                        | 3/38 [00:07<01:22,  2.34s/it]\u001b[A\n",
            "Running Epoch 0 of 1:  11%|██████▍                                                      | 4/38 [00:09<01:19,  2.33s/it]\u001b[A\n",
            "Running Epoch 0 of 1:  13%|████████                                                     | 5/38 [00:11<01:17,  2.34s/it]\u001b[A\n",
            "Running Epoch 0 of 1:  16%|█████████▋                                                   | 6/38 [00:14<01:14,  2.33s/it]\u001b[A\n",
            "Running Epoch 0 of 1:  18%|███████████▏                                                 | 7/38 [00:16<01:12,  2.33s/it]\u001b[A\n",
            "Running Epoch 0 of 1:  21%|████████████▊                                                | 8/38 [00:18<01:10,  2.35s/it]\u001b[A\n",
            "Running Epoch 0 of 1:  24%|██████████████▍                                              | 9/38 [00:21<01:07,  2.34s/it]\u001b[A\n",
            "Running Epoch 0 of 1:  26%|███████████████▊                                            | 10/38 [00:23<01:05,  2.34s/it]\u001b[A\n",
            "Running Epoch 0 of 1:  29%|█████████████████▎                                          | 11/38 [00:25<01:03,  2.36s/it]\u001b[A\n",
            "Running Epoch 0 of 1:  32%|██████████████████▉                                         | 12/38 [00:28<01:00,  2.34s/it]\u001b[A\n",
            "Running Epoch 0 of 1:  34%|████████████████████▌                                       | 13/38 [00:30<00:58,  2.36s/it]\u001b[A\n",
            "Running Epoch 0 of 1:  37%|██████████████████████                                      | 14/38 [00:32<00:56,  2.37s/it]\u001b[A\n",
            "Running Epoch 0 of 1:  39%|███████████████████████▋                                    | 15/38 [00:35<00:54,  2.36s/it]\u001b[A\n",
            "Running Epoch 0 of 1:  42%|█████████████████████████▎                                  | 16/38 [00:37<00:52,  2.37s/it]\u001b[A\n",
            "Running Epoch 0 of 1:  45%|██████████████████████████▊                                 | 17/38 [00:39<00:49,  2.37s/it]\u001b[A\n",
            "Running Epoch 0 of 1:  47%|████████████████████████████▍                               | 18/38 [00:42<00:46,  2.35s/it]\u001b[A\n",
            "Running Epoch 0 of 1:  50%|██████████████████████████████                              | 19/38 [00:44<00:44,  2.36s/it]\u001b[A\n",
            "Running Epoch 0 of 1:  53%|███████████████████████████████▌                            | 20/38 [00:47<00:42,  2.35s/it]\u001b[A\n",
            "Running Epoch 0 of 1:  55%|█████████████████████████████████▏                          | 21/38 [00:49<00:39,  2.35s/it]\u001b[A\n",
            "Running Epoch 0 of 1:  58%|██████████████████████████████████▋                         | 22/38 [00:51<00:37,  2.36s/it]\u001b[A\n",
            "Running Epoch 0 of 1:  61%|████████████████████████████████████▎                       | 23/38 [00:54<00:35,  2.36s/it]\u001b[A\n",
            "Running Epoch 0 of 1:  63%|█████████████████████████████████████▉                      | 24/38 [00:56<00:32,  2.35s/it]\u001b[A\n",
            "Running Epoch 0 of 1:  66%|███████████████████████████████████████▍                    | 25/38 [00:58<00:30,  2.36s/it]\u001b[A\n",
            "Running Epoch 0 of 1:  68%|█████████████████████████████████████████                   | 26/38 [01:01<00:28,  2.35s/it]\u001b[A\n",
            "Running Epoch 0 of 1:  71%|██████████████████████████████████████████▋                 | 27/38 [01:03<00:25,  2.35s/it]\u001b[A\n",
            "Running Epoch 0 of 1:  74%|████████████████████████████████████████████▏               | 28/38 [01:05<00:23,  2.37s/it]\u001b[A\n",
            "Running Epoch 0 of 1:  76%|█████████████████████████████████████████████▊              | 29/38 [01:08<00:21,  2.36s/it]\u001b[A\n",
            "Running Epoch 0 of 1:  79%|███████████████████████████████████████████████▎            | 30/38 [01:10<00:18,  2.37s/it]\u001b[A\n",
            "Running Epoch 0 of 1:  82%|████████████████████████████████████████████████▉           | 31/38 [01:12<00:16,  2.36s/it]\u001b[A\n",
            "Running Epoch 0 of 1:  84%|██████████████████████████████████████████████████▌         | 32/38 [01:15<00:14,  2.35s/it]\u001b[A\n",
            "Running Epoch 0 of 1:  87%|████████████████████████████████████████████████████        | 33/38 [01:17<00:11,  2.36s/it]\u001b[A\n",
            "Running Epoch 0 of 1:  89%|█████████████████████████████████████████████████████▋      | 34/38 [01:20<00:09,  2.35s/it]\u001b[A\n",
            "Running Epoch 0 of 1:  92%|███████████████████████████████████████████████████████▎    | 35/38 [01:22<00:07,  2.34s/it]\u001b[A\n",
            "Running Epoch 0 of 1:  95%|████████████████████████████████████████████████████████▊   | 36/38 [01:24<00:04,  2.37s/it]\u001b[A\n",
            "Running Epoch 0 of 1:  97%|██████████████████████████████████████████████████████████▍ | 37/38 [01:27<00:02,  2.36s/it]\u001b[A\n",
            "Running Epoch 0 of 1: 100%|████████████████████████████████████████████████████████████| 38/38 [01:28<00:00,  2.33s/it]\n",
            "Epoch 1 of 1: 100%|██████████████████████████████████████████████████████████████████████| 1/1 [01:28<00:00, 88.71s/it]\n",
            "C:\\Users\\Domenico\\.conda\\envs\\tf\\lib\\site-packages\\simpletransformers\\classification\\classification_model.py:1454: UserWarning: Dataframe headers not specified. Falling back to using column 0 as text and column 1 as labels.\n",
            "  warnings.warn(\n"
          ]
        },
        {
          "output_type": "stream",
          "name": "stdout",
          "text": [
            "\n",
            "NOW EVALUATE THE TEST DF.\n"
          ]
        },
        {
          "output_type": "stream",
          "name": "stderr",
          "text": [
            "  0%|▍                                                                                 | 1/200 [00:05<18:16,  5.51s/it]\n",
            "Running Evaluation: 100%|██████████████████████████████████████████████████████████████| 25/25 [00:14<00:00,  1.67it/s]\n",
            "C:\\Users\\Domenico\\.conda\\envs\\tf\\lib\\site-packages\\simpletransformers\\classification\\classification_model.py:612: UserWarning: Dataframe headers not specified. Falling back to using column 0 as text and column 1 as labels.\n",
            "  warnings.warn(\n"
          ]
        },
        {
          "output_type": "stream",
          "name": "stdout",
          "text": [
            "{'mcc': 0.07142857142857142, 'tp': 3, 'tn': 99, 'fp': 1, 'fn': 97, 'auroc': 0.6466999999999999, 'auprc': 0.6216498415936695, 'eval_loss': 0.9798329961299896}\n",
            "Correct predictions are:  102\n",
            "Total predictions are:  200\n",
            "Accuracy on test set is: 0.51 \n",
            "\n",
            "\n",
            "\n",
            "EPOCH NUMBER:  7\n",
            "\n",
            "NOW TRAIN THE MODEL.\n"
          ]
        },
        {
          "output_type": "stream",
          "name": "stderr",
          "text": [
            "  0%|▎                                                                                 | 1/300 [00:07<36:40,  7.36s/it]\n",
            "Epoch 1 of 1:   0%|                                                                              | 0/1 [00:00<?, ?it/s]\n",
            "Running Epoch 0 of 1:   0%|                                                                     | 0/38 [00:00<?, ?it/s]\u001b[A\n",
            "Running Epoch 0 of 1:   3%|█▌                                                           | 1/38 [00:02<01:27,  2.37s/it]\u001b[A\n",
            "Running Epoch 0 of 1:   5%|███▏                                                         | 2/38 [00:04<01:25,  2.37s/it]\u001b[A\n",
            "Running Epoch 0 of 1:   8%|████▊                                                        | 3/38 [00:07<01:21,  2.33s/it]\u001b[A\n",
            "Running Epoch 0 of 1:  11%|██████▍                                                      | 4/38 [00:09<01:19,  2.34s/it]\u001b[A\n",
            "Running Epoch 0 of 1:  13%|████████                                                     | 5/38 [00:11<01:18,  2.37s/it]\u001b[A\n",
            "Running Epoch 0 of 1:  16%|█████████▋                                                   | 6/38 [00:14<01:15,  2.36s/it]\u001b[A\n",
            "Running Epoch 0 of 1:  18%|███████████▏                                                 | 7/38 [00:16<01:13,  2.36s/it]\u001b[A\n",
            "Running Epoch 0 of 1:  21%|████████████▊                                                | 8/38 [00:18<01:10,  2.36s/it]\u001b[A\n",
            "Running Epoch 0 of 1:  24%|██████████████▍                                              | 9/38 [00:21<01:08,  2.35s/it]\u001b[A\n",
            "Running Epoch 0 of 1:  26%|███████████████▊                                            | 10/38 [00:23<01:05,  2.35s/it]\u001b[A\n",
            "Running Epoch 0 of 1:  29%|█████████████████▎                                          | 11/38 [00:25<01:03,  2.34s/it]\u001b[A\n",
            "Running Epoch 0 of 1:  32%|██████████████████▉                                         | 12/38 [00:28<01:00,  2.33s/it]\u001b[A\n",
            "Running Epoch 0 of 1:  34%|████████████████████▌                                       | 13/38 [00:30<00:58,  2.34s/it]\u001b[A\n",
            "Running Epoch 0 of 1:  37%|██████████████████████                                      | 14/38 [00:32<00:56,  2.35s/it]\u001b[A\n",
            "Running Epoch 0 of 1:  39%|███████████████████████▋                                    | 15/38 [00:35<00:53,  2.34s/it]\u001b[A\n",
            "Running Epoch 0 of 1:  42%|█████████████████████████▎                                  | 16/38 [00:37<00:51,  2.36s/it]\u001b[A\n",
            "Running Epoch 0 of 1:  45%|██████████████████████████▊                                 | 17/38 [00:39<00:49,  2.35s/it]\u001b[A\n",
            "Running Epoch 0 of 1:  47%|████████████████████████████▍                               | 18/38 [00:42<00:46,  2.34s/it]\u001b[A\n",
            "Running Epoch 0 of 1:  50%|██████████████████████████████                              | 19/38 [00:44<00:44,  2.36s/it]\u001b[A\n",
            "Running Epoch 0 of 1:  53%|███████████████████████████████▌                            | 20/38 [00:47<00:42,  2.36s/it]\u001b[A\n",
            "Running Epoch 0 of 1:  55%|█████████████████████████████████▏                          | 21/38 [00:49<00:40,  2.35s/it]\u001b[A\n",
            "Running Epoch 0 of 1:  58%|██████████████████████████████████▋                         | 22/38 [00:51<00:37,  2.37s/it]\u001b[A\n",
            "Running Epoch 0 of 1:  61%|████████████████████████████████████▎                       | 23/38 [00:54<00:35,  2.35s/it]\u001b[A\n",
            "Running Epoch 0 of 1:  63%|█████████████████████████████████████▉                      | 24/38 [00:56<00:33,  2.36s/it]\u001b[A\n",
            "Running Epoch 0 of 1:  66%|███████████████████████████████████████▍                    | 25/38 [00:58<00:30,  2.35s/it]\u001b[A\n",
            "Running Epoch 0 of 1:  68%|█████████████████████████████████████████                   | 26/38 [01:01<00:28,  2.34s/it]\u001b[A\n",
            "Running Epoch 0 of 1:  71%|██████████████████████████████████████████▋                 | 27/38 [01:03<00:25,  2.36s/it]\u001b[A\n",
            "Running Epoch 0 of 1:  74%|████████████████████████████████████████████▏               | 28/38 [01:05<00:23,  2.35s/it]\u001b[A\n",
            "Running Epoch 0 of 1:  76%|█████████████████████████████████████████████▊              | 29/38 [01:08<00:21,  2.35s/it]\u001b[A\n",
            "Running Epoch 0 of 1:  79%|███████████████████████████████████████████████▎            | 30/38 [01:10<00:18,  2.35s/it]\u001b[A\n",
            "Running Epoch 0 of 1:  82%|████████████████████████████████████████████████▉           | 31/38 [01:12<00:16,  2.35s/it]\u001b[A\n",
            "Running Epoch 0 of 1:  84%|██████████████████████████████████████████████████▌         | 32/38 [01:15<00:14,  2.36s/it]\u001b[A\n",
            "Running Epoch 0 of 1:  87%|████████████████████████████████████████████████████        | 33/38 [01:17<00:11,  2.37s/it]\u001b[A\n",
            "Running Epoch 0 of 1:  89%|█████████████████████████████████████████████████████▋      | 34/38 [01:19<00:09,  2.36s/it]\u001b[A\n",
            "Running Epoch 0 of 1:  92%|███████████████████████████████████████████████████████▎    | 35/38 [01:22<00:07,  2.35s/it]\u001b[A\n",
            "Running Epoch 0 of 1:  95%|████████████████████████████████████████████████████████▊   | 36/38 [01:24<00:04,  2.36s/it]\u001b[A\n",
            "Running Epoch 0 of 1:  97%|██████████████████████████████████████████████████████████▍ | 37/38 [01:27<00:02,  2.35s/it]\u001b[A\n",
            "Running Epoch 0 of 1: 100%|████████████████████████████████████████████████████████████| 38/38 [01:28<00:00,  2.33s/it]\n",
            "Epoch 1 of 1: 100%|██████████████████████████████████████████████████████████████████████| 1/1 [01:28<00:00, 88.64s/it]\n",
            "C:\\Users\\Domenico\\.conda\\envs\\tf\\lib\\site-packages\\simpletransformers\\classification\\classification_model.py:1454: UserWarning: Dataframe headers not specified. Falling back to using column 0 as text and column 1 as labels.\n",
            "  warnings.warn(\n"
          ]
        },
        {
          "output_type": "stream",
          "name": "stdout",
          "text": [
            "\n",
            "NOW EVALUATE THE TEST DF.\n"
          ]
        },
        {
          "output_type": "stream",
          "name": "stderr",
          "text": [
            "  0%|▍                                                                                 | 1/200 [00:05<18:08,  5.47s/it]\n",
            "Running Evaluation: 100%|██████████████████████████████████████████████████████████████| 25/25 [00:15<00:00,  1.66it/s]\n",
            "C:\\Users\\Domenico\\.conda\\envs\\tf\\lib\\site-packages\\simpletransformers\\classification\\classification_model.py:612: UserWarning: Dataframe headers not specified. Falling back to using column 0 as text and column 1 as labels.\n",
            "  warnings.warn(\n"
          ]
        },
        {
          "output_type": "stream",
          "name": "stdout",
          "text": [
            "{'mcc': 0.21179731330328552, 'tp': 54, 'tn': 67, 'fp': 33, 'fn': 46, 'auroc': 0.6777000000000001, 'auprc': 0.658875409484143, 'eval_loss': 1.2702647244930267}\n",
            "Correct predictions are:  121\n",
            "Total predictions are:  200\n",
            "Accuracy on test set is: 0.605 \n",
            "\n",
            "\n",
            "\n",
            "EPOCH NUMBER:  8\n",
            "\n",
            "NOW TRAIN THE MODEL.\n"
          ]
        },
        {
          "output_type": "stream",
          "name": "stderr",
          "text": [
            "  0%|▎                                                                                 | 1/300 [00:07<35:11,  7.06s/it]\n",
            "Epoch 1 of 1:   0%|                                                                              | 0/1 [00:00<?, ?it/s]\n",
            "Running Epoch 0 of 1:   0%|                                                                     | 0/38 [00:00<?, ?it/s]\u001b[A\n",
            "Running Epoch 0 of 1:   3%|█▌                                                           | 1/38 [00:02<01:27,  2.36s/it]\u001b[A\n",
            "Running Epoch 0 of 1:   5%|███▏                                                         | 2/38 [00:04<01:24,  2.34s/it]\u001b[A\n",
            "Running Epoch 0 of 1:   8%|████▊                                                        | 3/38 [00:07<01:22,  2.35s/it]\u001b[A\n",
            "Running Epoch 0 of 1:  11%|██████▍                                                      | 4/38 [00:09<01:19,  2.34s/it]\u001b[A\n",
            "Running Epoch 0 of 1:  13%|████████                                                     | 5/38 [00:11<01:17,  2.34s/it]\u001b[A\n",
            "Running Epoch 0 of 1:  16%|█████████▋                                                   | 6/38 [00:14<01:15,  2.35s/it]\u001b[A\n",
            "Running Epoch 0 of 1:  18%|███████████▏                                                 | 7/38 [00:16<01:12,  2.34s/it]\u001b[A\n",
            "Running Epoch 0 of 1:  21%|████████████▊                                                | 8/38 [00:18<01:10,  2.34s/it]\u001b[A\n",
            "Running Epoch 0 of 1:  24%|██████████████▍                                              | 9/38 [00:21<01:08,  2.35s/it]\u001b[A\n",
            "Running Epoch 0 of 1:  26%|███████████████▊                                            | 10/38 [00:23<01:05,  2.35s/it]\u001b[A\n",
            "Running Epoch 0 of 1:  29%|█████████████████▎                                          | 11/38 [00:25<01:03,  2.36s/it]\u001b[A\n",
            "Running Epoch 0 of 1:  32%|██████████████████▉                                         | 12/38 [00:28<01:01,  2.36s/it]\u001b[A\n",
            "Running Epoch 0 of 1:  34%|████████████████████▌                                       | 13/38 [00:30<00:58,  2.36s/it]\u001b[A\n",
            "Running Epoch 0 of 1:  37%|██████████████████████                                      | 14/38 [00:32<00:56,  2.37s/it]\u001b[A\n",
            "Running Epoch 0 of 1:  39%|███████████████████████▋                                    | 15/38 [00:35<00:54,  2.36s/it]\u001b[A\n",
            "Running Epoch 0 of 1:  42%|█████████████████████████▎                                  | 16/38 [00:37<00:51,  2.36s/it]\u001b[A\n",
            "Running Epoch 0 of 1:  45%|██████████████████████████▊                                 | 17/38 [00:40<00:49,  2.36s/it]\u001b[A\n",
            "Running Epoch 0 of 1:  47%|████████████████████████████▍                               | 18/38 [00:42<00:47,  2.36s/it]\u001b[A\n",
            "Running Epoch 0 of 1:  50%|██████████████████████████████                              | 19/38 [00:44<00:44,  2.36s/it]\u001b[A\n",
            "Running Epoch 0 of 1:  53%|███████████████████████████████▌                            | 20/38 [00:47<00:42,  2.36s/it]\u001b[A\n",
            "Running Epoch 0 of 1:  55%|█████████████████████████████████▏                          | 21/38 [00:49<00:39,  2.35s/it]\u001b[A\n",
            "Running Epoch 0 of 1:  58%|██████████████████████████████████▋                         | 22/38 [00:51<00:37,  2.36s/it]\u001b[A\n",
            "Running Epoch 0 of 1:  61%|████████████████████████████████████▎                       | 23/38 [00:54<00:35,  2.35s/it]\u001b[A\n",
            "Running Epoch 0 of 1:  63%|█████████████████████████████████████▉                      | 24/38 [00:56<00:32,  2.34s/it]\u001b[A\n",
            "Running Epoch 0 of 1:  66%|███████████████████████████████████████▍                    | 25/38 [00:58<00:30,  2.35s/it]\u001b[A\n",
            "Running Epoch 0 of 1:  68%|█████████████████████████████████████████                   | 26/38 [01:01<00:28,  2.35s/it]\u001b[A\n",
            "Running Epoch 0 of 1:  71%|██████████████████████████████████████████▋                 | 27/38 [01:03<00:25,  2.34s/it]\u001b[A\n",
            "Running Epoch 0 of 1:  74%|████████████████████████████████████████████▏               | 28/38 [01:05<00:23,  2.36s/it]\u001b[A\n",
            "Running Epoch 0 of 1:  76%|█████████████████████████████████████████████▊              | 29/38 [01:08<00:21,  2.35s/it]\u001b[A\n",
            "Running Epoch 0 of 1:  79%|███████████████████████████████████████████████▎            | 30/38 [01:10<00:18,  2.35s/it]\u001b[A\n",
            "Running Epoch 0 of 1:  82%|████████████████████████████████████████████████▉           | 31/38 [01:12<00:16,  2.36s/it]\u001b[A\n",
            "Running Epoch 0 of 1:  84%|██████████████████████████████████████████████████▌         | 32/38 [01:15<00:14,  2.35s/it]\u001b[A\n",
            "Running Epoch 0 of 1:  87%|████████████████████████████████████████████████████        | 33/38 [01:17<00:11,  2.34s/it]\u001b[A\n",
            "Running Epoch 0 of 1:  89%|█████████████████████████████████████████████████████▋      | 34/38 [01:19<00:09,  2.35s/it]\u001b[A\n",
            "Running Epoch 0 of 1:  92%|███████████████████████████████████████████████████████▎    | 35/38 [01:22<00:07,  2.36s/it]\u001b[A\n",
            "Running Epoch 0 of 1:  95%|████████████████████████████████████████████████████████▊   | 36/38 [01:24<00:04,  2.36s/it]\u001b[A\n",
            "Running Epoch 0 of 1:  97%|██████████████████████████████████████████████████████████▍ | 37/38 [01:27<00:02,  2.37s/it]\u001b[A\n",
            "Running Epoch 0 of 1: 100%|████████████████████████████████████████████████████████████| 38/38 [01:28<00:00,  2.33s/it]\n",
            "Epoch 1 of 1: 100%|██████████████████████████████████████████████████████████████████████| 1/1 [01:28<00:00, 88.70s/it]\n",
            "C:\\Users\\Domenico\\.conda\\envs\\tf\\lib\\site-packages\\simpletransformers\\classification\\classification_model.py:1454: UserWarning: Dataframe headers not specified. Falling back to using column 0 as text and column 1 as labels.\n",
            "  warnings.warn(\n"
          ]
        },
        {
          "output_type": "stream",
          "name": "stdout",
          "text": [
            "\n",
            "NOW EVALUATE THE TEST DF.\n"
          ]
        },
        {
          "output_type": "stream",
          "name": "stderr",
          "text": [
            "  0%|▍                                                                                 | 1/200 [00:05<18:33,  5.60s/it]\n",
            "Running Evaluation: 100%|██████████████████████████████████████████████████████████████| 25/25 [00:14<00:00,  1.67it/s]\n",
            "C:\\Users\\Domenico\\.conda\\envs\\tf\\lib\\site-packages\\simpletransformers\\classification\\classification_model.py:612: UserWarning: Dataframe headers not specified. Falling back to using column 0 as text and column 1 as labels.\n",
            "  warnings.warn(\n"
          ]
        },
        {
          "output_type": "stream",
          "name": "stdout",
          "text": [
            "{'mcc': 0.27066394098188334, 'tp': 60, 'tn': 67, 'fp': 33, 'fn': 40, 'auroc': 0.6748999999999999, 'auprc': 0.6482989649036746, 'eval_loss': 1.9071680545061827}\n",
            "Correct predictions are:  127\n",
            "Total predictions are:  200\n",
            "Accuracy on test set is: 0.635 \n",
            "\n",
            "\n",
            "\n",
            "EPOCH NUMBER:  9\n",
            "\n",
            "NOW TRAIN THE MODEL.\n"
          ]
        },
        {
          "output_type": "stream",
          "name": "stderr",
          "text": [
            "  0%|▎                                                                                 | 1/300 [00:07<35:23,  7.10s/it]\n",
            "Epoch 1 of 1:   0%|                                                                              | 0/1 [00:00<?, ?it/s]\n",
            "Running Epoch 0 of 1:   0%|                                                                     | 0/38 [00:00<?, ?it/s]\u001b[A\n",
            "Running Epoch 0 of 1:   3%|█▌                                                           | 1/38 [00:02<01:27,  2.38s/it]\u001b[A\n",
            "Running Epoch 0 of 1:   5%|███▏                                                         | 2/38 [00:04<01:23,  2.32s/it]\u001b[A\n",
            "Running Epoch 0 of 1:   8%|████▊                                                        | 3/38 [00:07<01:21,  2.34s/it]\u001b[A\n",
            "Running Epoch 0 of 1:  11%|██████▍                                                      | 4/38 [00:09<01:19,  2.33s/it]\u001b[A\n",
            "Running Epoch 0 of 1:  13%|████████                                                     | 5/38 [00:11<01:17,  2.35s/it]\u001b[A\n",
            "Running Epoch 0 of 1:  16%|█████████▋                                                   | 6/38 [00:14<01:15,  2.36s/it]\u001b[A\n",
            "Running Epoch 0 of 1:  18%|███████████▏                                                 | 7/38 [00:16<01:13,  2.36s/it]\u001b[A\n",
            "Running Epoch 0 of 1:  21%|████████████▊                                                | 8/38 [00:18<01:12,  2.41s/it]\u001b[A\n",
            "Running Epoch 0 of 1:  24%|██████████████▍                                              | 9/38 [00:21<01:09,  2.40s/it]\u001b[A\n",
            "Running Epoch 0 of 1:  26%|███████████████▊                                            | 10/38 [00:23<01:06,  2.37s/it]\u001b[A\n",
            "Running Epoch 0 of 1:  29%|█████████████████▎                                          | 11/38 [00:26<01:03,  2.37s/it]\u001b[A\n",
            "Running Epoch 0 of 1:  32%|██████████████████▉                                         | 12/38 [00:28<01:01,  2.36s/it]\u001b[A\n",
            "Running Epoch 0 of 1:  34%|████████████████████▌                                       | 13/38 [00:30<00:58,  2.35s/it]\u001b[A\n",
            "Running Epoch 0 of 1:  37%|██████████████████████                                      | 14/38 [00:33<00:56,  2.36s/it]\u001b[A\n",
            "Running Epoch 0 of 1:  39%|███████████████████████▋                                    | 15/38 [00:35<00:53,  2.35s/it]\u001b[A\n",
            "Running Epoch 0 of 1:  42%|█████████████████████████▎                                  | 16/38 [00:37<00:51,  2.34s/it]\u001b[A\n",
            "Running Epoch 0 of 1:  45%|██████████████████████████▊                                 | 17/38 [00:40<00:49,  2.35s/it]\u001b[A\n",
            "Running Epoch 0 of 1:  47%|████████████████████████████▍                               | 18/38 [00:42<00:46,  2.34s/it]\u001b[A\n",
            "Running Epoch 0 of 1:  50%|██████████████████████████████                              | 19/38 [00:44<00:44,  2.34s/it]\u001b[A\n",
            "Running Epoch 0 of 1:  53%|███████████████████████████████▌                            | 20/38 [00:47<00:42,  2.35s/it]\u001b[A\n",
            "Running Epoch 0 of 1:  55%|█████████████████████████████████▏                          | 21/38 [00:49<00:39,  2.34s/it]\u001b[A\n",
            "Running Epoch 0 of 1:  58%|██████████████████████████████████▋                         | 22/38 [00:51<00:37,  2.33s/it]\u001b[A\n",
            "Running Epoch 0 of 1:  61%|████████████████████████████████████▎                       | 23/38 [00:54<00:35,  2.35s/it]\u001b[A\n",
            "Running Epoch 0 of 1:  63%|█████████████████████████████████████▉                      | 24/38 [00:56<00:32,  2.35s/it]\u001b[A\n",
            "Running Epoch 0 of 1:  66%|███████████████████████████████████████▍                    | 25/38 [00:58<00:30,  2.33s/it]\u001b[A\n",
            "Running Epoch 0 of 1:  68%|█████████████████████████████████████████                   | 26/38 [01:01<00:28,  2.35s/it]\u001b[A\n",
            "Running Epoch 0 of 1:  71%|██████████████████████████████████████████▋                 | 27/38 [01:03<00:25,  2.34s/it]\u001b[A\n",
            "Running Epoch 0 of 1:  74%|████████████████████████████████████████████▏               | 28/38 [01:05<00:23,  2.34s/it]\u001b[A\n",
            "Running Epoch 0 of 1:  76%|█████████████████████████████████████████████▊              | 29/38 [01:08<00:21,  2.35s/it]\u001b[A\n",
            "Running Epoch 0 of 1:  79%|███████████████████████████████████████████████▎            | 30/38 [01:10<00:18,  2.35s/it]\u001b[A\n",
            "Running Epoch 0 of 1:  82%|████████████████████████████████████████████████▉           | 31/38 [01:12<00:16,  2.34s/it]\u001b[A\n",
            "Running Epoch 0 of 1:  84%|██████████████████████████████████████████████████▌         | 32/38 [01:15<00:14,  2.35s/it]\u001b[A\n",
            "Running Epoch 0 of 1:  87%|████████████████████████████████████████████████████        | 33/38 [01:17<00:11,  2.35s/it]\u001b[A\n",
            "Running Epoch 0 of 1:  89%|█████████████████████████████████████████████████████▋      | 34/38 [01:19<00:09,  2.36s/it]\u001b[A\n",
            "Running Epoch 0 of 1:  92%|███████████████████████████████████████████████████████▎    | 35/38 [01:22<00:07,  2.36s/it]\u001b[A\n",
            "Running Epoch 0 of 1:  95%|████████████████████████████████████████████████████████▊   | 36/38 [01:24<00:04,  2.34s/it]\u001b[A\n",
            "Running Epoch 0 of 1:  97%|██████████████████████████████████████████████████████████▍ | 37/38 [01:26<00:02,  2.35s/it]\u001b[A\n",
            "Running Epoch 0 of 1: 100%|████████████████████████████████████████████████████████████| 38/38 [01:28<00:00,  2.33s/it]\n",
            "Epoch 1 of 1: 100%|██████████████████████████████████████████████████████████████████████| 1/1 [01:28<00:00, 88.52s/it]\n",
            "C:\\Users\\Domenico\\.conda\\envs\\tf\\lib\\site-packages\\simpletransformers\\classification\\classification_model.py:1454: UserWarning: Dataframe headers not specified. Falling back to using column 0 as text and column 1 as labels.\n",
            "  warnings.warn(\n"
          ]
        },
        {
          "output_type": "stream",
          "name": "stdout",
          "text": [
            "\n",
            "NOW EVALUATE THE TEST DF.\n"
          ]
        },
        {
          "output_type": "stream",
          "name": "stderr",
          "text": [
            "  0%|▍                                                                                 | 1/200 [00:05<18:36,  5.61s/it]\n",
            "Running Evaluation: 100%|██████████████████████████████████████████████████████████████| 25/25 [00:14<00:00,  1.68it/s]\n"
          ]
        },
        {
          "output_type": "stream",
          "name": "stdout",
          "text": [
            "{'mcc': 0.3471333567926297, 'tp': 88, 'tn': 43, 'fp': 57, 'fn': 12, 'auroc': 0.6825, 'auprc': 0.6367773763263711, 'eval_loss': 0.8914194512367248}\n",
            "Correct predictions are:  131\n",
            "Total predictions are:  200\n",
            "Accuracy on test set is: 0.655 \n",
            "\n",
            "\n",
            "[0.5, 0.575, 0.645, 0.64, 0.605, 0.605, 0.51, 0.605, 0.635, 0.655]\n"
          ]
        },
        {
          "output_type": "stream",
          "name": "stderr",
          "text": [
            "Some weights of the model checkpoint at roberta-base were not used when initializing RobertaForSequenceClassification: ['lm_head.bias', 'roberta.pooler.dense.bias', 'lm_head.layer_norm.bias', 'lm_head.decoder.weight', 'lm_head.dense.weight', 'roberta.pooler.dense.weight', 'lm_head.layer_norm.weight', 'lm_head.dense.bias']\n",
            "- This IS expected if you are initializing RobertaForSequenceClassification from the checkpoint of a model trained on another task or with another architecture (e.g. initializing a BertForSequenceClassification model from a BertForPreTraining model).\n",
            "- This IS NOT expected if you are initializing RobertaForSequenceClassification from the checkpoint of a model that you expect to be exactly identical (initializing a BertForSequenceClassification model from a BertForSequenceClassification model).\n",
            "Some weights of RobertaForSequenceClassification were not initialized from the model checkpoint at roberta-base and are newly initialized: ['classifier.out_proj.weight', 'classifier.out_proj.bias', 'classifier.dense.weight', 'classifier.dense.bias']\n",
            "You should probably TRAIN this model on a down-stream task to be able to use it for predictions and inference.\n",
            "C:\\Users\\Domenico\\.conda\\envs\\tf\\lib\\site-packages\\simpletransformers\\classification\\classification_model.py:612: UserWarning: Dataframe headers not specified. Falling back to using column 0 as text and column 1 as labels.\n",
            "  warnings.warn(\n"
          ]
        },
        {
          "output_type": "stream",
          "name": "stdout",
          "text": [
            "\n",
            "EPOCH NUMBER:  0\n",
            "\n",
            "NOW TRAIN THE MODEL.\n"
          ]
        },
        {
          "output_type": "stream",
          "name": "stderr",
          "text": [
            "  0%|▎                                                                                 | 1/300 [00:07<35:21,  7.10s/it]\n",
            "Epoch 1 of 1:   0%|                                                                              | 0/1 [00:00<?, ?it/s]\n",
            "Running Epoch 0 of 1:   0%|                                                                     | 0/38 [00:00<?, ?it/s]\u001b[A\n",
            "Running Epoch 0 of 1:   3%|█▌                                                           | 1/38 [00:02<01:21,  2.20s/it]\u001b[A\n",
            "Running Epoch 0 of 1:   5%|███▏                                                         | 2/38 [00:04<01:21,  2.25s/it]\u001b[A\n",
            "Running Epoch 0 of 1:   8%|████▊                                                        | 3/38 [00:06<01:19,  2.29s/it]\u001b[A\n",
            "Running Epoch 0 of 1:  11%|██████▍                                                      | 4/38 [00:09<01:17,  2.28s/it]\u001b[A\n",
            "Running Epoch 0 of 1:  13%|████████                                                     | 5/38 [00:11<01:15,  2.30s/it]\u001b[A\n",
            "Running Epoch 0 of 1:  16%|█████████▋                                                   | 6/38 [00:13<01:14,  2.33s/it]\u001b[A\n",
            "Running Epoch 0 of 1:  18%|███████████▏                                                 | 7/38 [00:16<01:11,  2.32s/it]\u001b[A\n",
            "Running Epoch 0 of 1:  21%|████████████▊                                                | 8/38 [00:18<01:09,  2.33s/it]\u001b[A\n",
            "Running Epoch 0 of 1:  24%|██████████████▍                                              | 9/38 [00:20<01:07,  2.34s/it]\u001b[A\n",
            "Running Epoch 0 of 1:  26%|███████████████▊                                            | 10/38 [00:23<01:05,  2.33s/it]\u001b[A\n",
            "Running Epoch 0 of 1:  29%|█████████████████▎                                          | 11/38 [00:25<01:03,  2.34s/it]\u001b[A\n",
            "Running Epoch 0 of 1:  32%|██████████████████▉                                         | 12/38 [00:27<01:01,  2.35s/it]\u001b[A\n",
            "Running Epoch 0 of 1:  34%|████████████████████▌                                       | 13/38 [00:30<00:58,  2.34s/it]\u001b[A\n",
            "Running Epoch 0 of 1:  37%|██████████████████████                                      | 14/38 [00:32<00:56,  2.34s/it]\u001b[A\n",
            "Running Epoch 0 of 1:  39%|███████████████████████▋                                    | 15/38 [00:34<00:54,  2.35s/it]\u001b[A\n",
            "Running Epoch 0 of 1:  42%|█████████████████████████▎                                  | 16/38 [00:37<00:51,  2.33s/it]\u001b[A\n",
            "Running Epoch 0 of 1:  45%|██████████████████████████▊                                 | 17/38 [00:39<00:49,  2.35s/it]\u001b[A\n",
            "Running Epoch 0 of 1:  47%|████████████████████████████▍                               | 18/38 [00:41<00:46,  2.35s/it]\u001b[A\n",
            "Running Epoch 0 of 1:  50%|██████████████████████████████                              | 19/38 [00:44<00:44,  2.33s/it]\u001b[A\n",
            "Running Epoch 0 of 1:  53%|███████████████████████████████▌                            | 20/38 [00:46<00:42,  2.34s/it]\u001b[A\n",
            "Running Epoch 0 of 1:  55%|█████████████████████████████████▏                          | 21/38 [00:48<00:39,  2.33s/it]\u001b[A\n",
            "Running Epoch 0 of 1:  58%|██████████████████████████████████▋                         | 22/38 [00:51<00:37,  2.33s/it]\u001b[A\n",
            "Running Epoch 0 of 1:  61%|████████████████████████████████████▎                       | 23/38 [00:53<00:35,  2.35s/it]\u001b[A\n",
            "Running Epoch 0 of 1:  63%|█████████████████████████████████████▉                      | 24/38 [00:56<00:33,  2.37s/it]\u001b[A\n",
            "Running Epoch 0 of 1:  66%|███████████████████████████████████████▍                    | 25/38 [00:58<00:30,  2.36s/it]\u001b[A\n",
            "Running Epoch 0 of 1:  68%|█████████████████████████████████████████                   | 26/38 [01:00<00:28,  2.37s/it]\u001b[A\n",
            "Running Epoch 0 of 1:  71%|██████████████████████████████████████████▋                 | 27/38 [01:03<00:25,  2.36s/it]\u001b[A\n",
            "Running Epoch 0 of 1:  74%|████████████████████████████████████████████▏               | 28/38 [01:05<00:23,  2.36s/it]\u001b[A\n",
            "Running Epoch 0 of 1:  76%|█████████████████████████████████████████████▊              | 29/38 [01:07<00:21,  2.36s/it]\u001b[A\n",
            "Running Epoch 0 of 1:  79%|███████████████████████████████████████████████▎            | 30/38 [01:10<00:18,  2.36s/it]\u001b[A\n",
            "Running Epoch 0 of 1:  82%|████████████████████████████████████████████████▉           | 31/38 [01:12<00:16,  2.36s/it]\u001b[A\n",
            "Running Epoch 0 of 1:  84%|██████████████████████████████████████████████████▌         | 32/38 [01:14<00:14,  2.37s/it]\u001b[A\n",
            "Running Epoch 0 of 1:  87%|████████████████████████████████████████████████████        | 33/38 [01:17<00:11,  2.36s/it]\u001b[A\n",
            "Running Epoch 0 of 1:  89%|█████████████████████████████████████████████████████▋      | 34/38 [01:19<00:09,  2.37s/it]\u001b[A\n",
            "Running Epoch 0 of 1:  92%|███████████████████████████████████████████████████████▎    | 35/38 [01:22<00:07,  2.37s/it]\u001b[A\n",
            "Running Epoch 0 of 1:  95%|████████████████████████████████████████████████████████▊   | 36/38 [01:24<00:04,  2.37s/it]\u001b[A\n",
            "Running Epoch 0 of 1:  97%|██████████████████████████████████████████████████████████▍ | 37/38 [01:26<00:02,  2.37s/it]\u001b[A\n",
            "Running Epoch 0 of 1: 100%|████████████████████████████████████████████████████████████| 38/38 [01:28<00:00,  2.32s/it]\n",
            "Epoch 1 of 1: 100%|██████████████████████████████████████████████████████████████████████| 1/1 [01:28<00:00, 88.31s/it]\n",
            "C:\\Users\\Domenico\\.conda\\envs\\tf\\lib\\site-packages\\simpletransformers\\classification\\classification_model.py:1454: UserWarning: Dataframe headers not specified. Falling back to using column 0 as text and column 1 as labels.\n",
            "  warnings.warn(\n"
          ]
        },
        {
          "output_type": "stream",
          "name": "stdout",
          "text": [
            "\n",
            "NOW EVALUATE THE TEST DF.\n"
          ]
        },
        {
          "output_type": "stream",
          "name": "stderr",
          "text": [
            "  0%|▍                                                                                 | 1/200 [00:05<18:49,  5.67s/it]\n",
            "Running Evaluation: 100%|██████████████████████████████████████████████████████████████| 25/25 [00:14<00:00,  1.68it/s]\n",
            "C:\\Users\\Domenico\\.conda\\envs\\tf\\lib\\site-packages\\simpletransformers\\classification\\classification_model.py:612: UserWarning: Dataframe headers not specified. Falling back to using column 0 as text and column 1 as labels.\n",
            "  warnings.warn(\n"
          ]
        },
        {
          "output_type": "stream",
          "name": "stdout",
          "text": [
            "{'mcc': 0.0, 'tp': 0, 'tn': 100, 'fp': 0, 'fn': 100, 'auroc': 0.613, 'auprc': 0.5683875093130413, 'eval_loss': 0.6901029896736145}\n",
            "Correct predictions are:  100\n",
            "Total predictions are:  200\n",
            "Accuracy on test set is: 0.5 \n",
            "\n",
            "\n",
            "\n",
            "EPOCH NUMBER:  1\n",
            "\n",
            "NOW TRAIN THE MODEL.\n"
          ]
        },
        {
          "output_type": "stream",
          "name": "stderr",
          "text": [
            "  0%|▎                                                                                 | 1/300 [00:07<35:20,  7.09s/it]\n",
            "Epoch 1 of 1:   0%|                                                                              | 0/1 [00:00<?, ?it/s]\n",
            "Running Epoch 0 of 1:   0%|                                                                     | 0/38 [00:00<?, ?it/s]\u001b[A\n",
            "Running Epoch 0 of 1:   3%|█▌                                                           | 1/38 [00:02<01:27,  2.38s/it]\u001b[A\n",
            "Running Epoch 0 of 1:   5%|███▏                                                         | 2/38 [00:04<01:24,  2.34s/it]\u001b[A\n",
            "Running Epoch 0 of 1:   8%|████▊                                                        | 3/38 [00:07<01:21,  2.33s/it]\u001b[A\n",
            "Running Epoch 0 of 1:  11%|██████▍                                                      | 4/38 [00:09<01:19,  2.34s/it]\u001b[A\n",
            "Running Epoch 0 of 1:  13%|████████                                                     | 5/38 [00:11<01:16,  2.32s/it]\u001b[A\n",
            "Running Epoch 0 of 1:  16%|█████████▋                                                   | 6/38 [00:13<01:13,  2.31s/it]\u001b[A\n",
            "Running Epoch 0 of 1:  18%|███████████▏                                                 | 7/38 [00:16<01:11,  2.32s/it]\u001b[A\n",
            "Running Epoch 0 of 1:  21%|████████████▊                                                | 8/38 [00:18<01:09,  2.32s/it]\u001b[A\n",
            "Running Epoch 0 of 1:  24%|██████████████▍                                              | 9/38 [00:20<01:07,  2.32s/it]\u001b[A\n",
            "Running Epoch 0 of 1:  26%|███████████████▊                                            | 10/38 [00:23<01:05,  2.35s/it]\u001b[A\n",
            "Running Epoch 0 of 1:  29%|█████████████████▎                                          | 11/38 [00:25<01:03,  2.34s/it]\u001b[A\n",
            "Running Epoch 0 of 1:  32%|██████████████████▉                                         | 12/38 [00:27<01:00,  2.33s/it]\u001b[A\n",
            "Running Epoch 0 of 1:  34%|████████████████████▌                                       | 13/38 [00:30<00:58,  2.34s/it]\u001b[A\n",
            "Running Epoch 0 of 1:  37%|██████████████████████                                      | 14/38 [00:32<00:55,  2.33s/it]\u001b[A\n",
            "Running Epoch 0 of 1:  39%|███████████████████████▋                                    | 15/38 [00:34<00:53,  2.33s/it]\u001b[A\n",
            "Running Epoch 0 of 1:  42%|█████████████████████████▎                                  | 16/38 [00:37<00:51,  2.36s/it]\u001b[A\n",
            "Running Epoch 0 of 1:  45%|██████████████████████████▊                                 | 17/38 [00:39<00:49,  2.34s/it]\u001b[A\n",
            "Running Epoch 0 of 1:  47%|████████████████████████████▍                               | 18/38 [00:41<00:46,  2.34s/it]\u001b[A\n",
            "Running Epoch 0 of 1:  50%|██████████████████████████████                              | 19/38 [00:44<00:44,  2.35s/it]\u001b[A\n",
            "Running Epoch 0 of 1:  53%|███████████████████████████████▌                            | 20/38 [00:46<00:42,  2.34s/it]\u001b[A\n",
            "Running Epoch 0 of 1:  55%|█████████████████████████████████▏                          | 21/38 [00:49<00:40,  2.36s/it]\u001b[A\n",
            "Running Epoch 0 of 1:  58%|██████████████████████████████████▋                         | 22/38 [00:51<00:37,  2.36s/it]\u001b[A\n",
            "Running Epoch 0 of 1:  61%|████████████████████████████████████▎                       | 23/38 [00:53<00:35,  2.35s/it]\u001b[A\n",
            "Running Epoch 0 of 1:  63%|█████████████████████████████████████▉                      | 24/38 [00:56<00:33,  2.37s/it]\u001b[A\n",
            "Running Epoch 0 of 1:  66%|███████████████████████████████████████▍                    | 25/38 [00:58<00:30,  2.37s/it]\u001b[A\n",
            "Running Epoch 0 of 1:  68%|█████████████████████████████████████████                   | 26/38 [01:00<00:28,  2.35s/it]\u001b[A\n",
            "Running Epoch 0 of 1:  71%|██████████████████████████████████████████▋                 | 27/38 [01:03<00:25,  2.36s/it]\u001b[A\n",
            "Running Epoch 0 of 1:  74%|████████████████████████████████████████████▏               | 28/38 [01:05<00:23,  2.36s/it]\u001b[A\n",
            "Running Epoch 0 of 1:  76%|█████████████████████████████████████████████▊              | 29/38 [01:07<00:21,  2.34s/it]\u001b[A\n",
            "Running Epoch 0 of 1:  79%|███████████████████████████████████████████████▎            | 30/38 [01:10<00:18,  2.36s/it]\u001b[A\n",
            "Running Epoch 0 of 1:  82%|████████████████████████████████████████████████▉           | 31/38 [01:12<00:16,  2.36s/it]\u001b[A\n",
            "Running Epoch 0 of 1:  84%|██████████████████████████████████████████████████▌         | 32/38 [01:15<00:14,  2.36s/it]\u001b[A\n",
            "Running Epoch 0 of 1:  87%|████████████████████████████████████████████████████        | 33/38 [01:17<00:11,  2.36s/it]\u001b[A\n",
            "Running Epoch 0 of 1:  89%|█████████████████████████████████████████████████████▋      | 34/38 [01:19<00:09,  2.35s/it]\u001b[A\n",
            "Running Epoch 0 of 1:  92%|███████████████████████████████████████████████████████▎    | 35/38 [01:22<00:07,  2.36s/it]\u001b[A\n",
            "Running Epoch 0 of 1:  95%|████████████████████████████████████████████████████████▊   | 36/38 [01:24<00:04,  2.36s/it]\u001b[A\n",
            "Running Epoch 0 of 1:  97%|██████████████████████████████████████████████████████████▍ | 37/38 [01:26<00:02,  2.35s/it]\u001b[A\n",
            "Running Epoch 0 of 1: 100%|████████████████████████████████████████████████████████████| 38/38 [01:28<00:00,  2.33s/it]\n",
            "Epoch 1 of 1: 100%|██████████████████████████████████████████████████████████████████████| 1/1 [01:28<00:00, 88.41s/it]\n",
            "C:\\Users\\Domenico\\.conda\\envs\\tf\\lib\\site-packages\\simpletransformers\\classification\\classification_model.py:1454: UserWarning: Dataframe headers not specified. Falling back to using column 0 as text and column 1 as labels.\n",
            "  warnings.warn(\n"
          ]
        },
        {
          "output_type": "stream",
          "name": "stdout",
          "text": [
            "\n",
            "NOW EVALUATE THE TEST DF.\n"
          ]
        },
        {
          "output_type": "stream",
          "name": "stderr",
          "text": [
            "  0%|▍                                                                                 | 1/200 [00:05<17:55,  5.40s/it]\n",
            "Running Evaluation: 100%|██████████████████████████████████████████████████████████████| 25/25 [00:14<00:00,  1.67it/s]\n",
            "C:\\Users\\Domenico\\.conda\\envs\\tf\\lib\\site-packages\\simpletransformers\\classification\\classification_model.py:612: UserWarning: Dataframe headers not specified. Falling back to using column 0 as text and column 1 as labels.\n",
            "  warnings.warn(\n"
          ]
        },
        {
          "output_type": "stream",
          "name": "stdout",
          "text": [
            "{'mcc': 0.0, 'tp': 100, 'tn': 0, 'fp': 100, 'fn': 0, 'auroc': 0.6435000000000001, 'auprc': 0.6182287356075076, 'eval_loss': 0.690285496711731}\n",
            "Correct predictions are:  100\n",
            "Total predictions are:  200\n",
            "Accuracy on test set is: 0.5 \n",
            "\n",
            "\n",
            "\n",
            "EPOCH NUMBER:  2\n",
            "\n",
            "NOW TRAIN THE MODEL.\n"
          ]
        },
        {
          "output_type": "stream",
          "name": "stderr",
          "text": [
            "  0%|▎                                                                                 | 1/300 [00:07<35:14,  7.07s/it]\n",
            "Epoch 1 of 1:   0%|                                                                              | 0/1 [00:00<?, ?it/s]\n",
            "Running Epoch 0 of 1:   0%|                                                                     | 0/38 [00:00<?, ?it/s]\u001b[A\n",
            "Running Epoch 0 of 1:   3%|█▌                                                           | 1/38 [00:02<01:33,  2.52s/it]\u001b[A\n",
            "Running Epoch 0 of 1:   5%|███▏                                                         | 2/38 [00:05<01:31,  2.53s/it]\u001b[A\n",
            "Running Epoch 0 of 1:   8%|████▊                                                        | 3/38 [00:07<01:26,  2.47s/it]\u001b[A\n",
            "Running Epoch 0 of 1:  11%|██████▍                                                      | 4/38 [00:09<01:23,  2.46s/it]\u001b[A\n",
            "Running Epoch 0 of 1:  13%|████████                                                     | 5/38 [00:12<01:20,  2.44s/it]\u001b[A\n",
            "Running Epoch 0 of 1:  16%|█████████▋                                                   | 6/38 [00:14<01:17,  2.42s/it]\u001b[A\n",
            "Running Epoch 0 of 1:  18%|███████████▏                                                 | 7/38 [00:17<01:14,  2.40s/it]\u001b[A\n",
            "Running Epoch 0 of 1:  21%|████████████▊                                                | 8/38 [00:19<01:11,  2.38s/it]\u001b[A\n",
            "Running Epoch 0 of 1:  24%|██████████████▍                                              | 9/38 [00:21<01:08,  2.38s/it]\u001b[A\n",
            "Running Epoch 0 of 1:  26%|███████████████▊                                            | 10/38 [00:24<01:06,  2.37s/it]\u001b[A\n",
            "Running Epoch 0 of 1:  29%|█████████████████▎                                          | 11/38 [00:26<01:03,  2.35s/it]\u001b[A\n",
            "Running Epoch 0 of 1:  32%|██████████████████▉                                         | 12/38 [00:28<01:01,  2.36s/it]\u001b[A\n",
            "Running Epoch 0 of 1:  34%|████████████████████▌                                       | 13/38 [00:31<00:58,  2.35s/it]\u001b[A\n",
            "Running Epoch 0 of 1:  37%|██████████████████████                                      | 14/38 [00:33<00:56,  2.34s/it]\u001b[A\n",
            "Running Epoch 0 of 1:  39%|███████████████████████▋                                    | 15/38 [00:35<00:54,  2.35s/it]\u001b[A\n",
            "Running Epoch 0 of 1:  42%|█████████████████████████▎                                  | 16/38 [00:38<00:51,  2.35s/it]\u001b[A\n",
            "Running Epoch 0 of 1:  45%|██████████████████████████▊                                 | 17/38 [00:40<00:49,  2.33s/it]\u001b[A\n",
            "Running Epoch 0 of 1:  47%|████████████████████████████▍                               | 18/38 [00:42<00:46,  2.35s/it]\u001b[A\n",
            "Running Epoch 0 of 1:  50%|██████████████████████████████                              | 19/38 [00:45<00:44,  2.35s/it]\u001b[A\n",
            "Running Epoch 0 of 1:  53%|███████████████████████████████▌                            | 20/38 [00:47<00:42,  2.36s/it]\u001b[A\n",
            "Running Epoch 0 of 1:  55%|█████████████████████████████████▏                          | 21/38 [00:49<00:40,  2.37s/it]\u001b[A\n",
            "Running Epoch 0 of 1:  58%|██████████████████████████████████▋                         | 22/38 [00:52<00:37,  2.36s/it]\u001b[A\n",
            "Running Epoch 0 of 1:  61%|████████████████████████████████████▎                       | 23/38 [00:54<00:35,  2.37s/it]\u001b[A\n",
            "Running Epoch 0 of 1:  63%|█████████████████████████████████████▉                      | 24/38 [00:57<00:33,  2.37s/it]\u001b[A\n",
            "Running Epoch 0 of 1:  66%|███████████████████████████████████████▍                    | 25/38 [00:59<00:30,  2.35s/it]\u001b[A\n",
            "Running Epoch 0 of 1:  68%|█████████████████████████████████████████                   | 26/38 [01:01<00:28,  2.35s/it]\u001b[A\n",
            "Running Epoch 0 of 1:  71%|██████████████████████████████████████████▋                 | 27/38 [01:04<00:26,  2.36s/it]\u001b[A\n",
            "Running Epoch 0 of 1:  74%|████████████████████████████████████████████▏               | 28/38 [01:06<00:23,  2.35s/it]\u001b[A\n",
            "Running Epoch 0 of 1:  76%|█████████████████████████████████████████████▊              | 29/38 [01:08<00:21,  2.36s/it]\u001b[A\n",
            "Running Epoch 0 of 1:  79%|███████████████████████████████████████████████▎            | 30/38 [01:11<00:18,  2.36s/it]\u001b[A\n",
            "Running Epoch 0 of 1:  82%|████████████████████████████████████████████████▉           | 31/38 [01:13<00:16,  2.36s/it]\u001b[A\n",
            "Running Epoch 0 of 1:  84%|██████████████████████████████████████████████████▌         | 32/38 [01:15<00:14,  2.36s/it]\u001b[A\n",
            "Running Epoch 0 of 1:  87%|████████████████████████████████████████████████████        | 33/38 [01:18<00:11,  2.36s/it]\u001b[A\n",
            "Running Epoch 0 of 1:  89%|█████████████████████████████████████████████████████▋      | 34/38 [01:20<00:09,  2.37s/it]\u001b[A\n",
            "Running Epoch 0 of 1:  92%|███████████████████████████████████████████████████████▎    | 35/38 [01:23<00:07,  2.38s/it]\u001b[A\n",
            "Running Epoch 0 of 1:  95%|████████████████████████████████████████████████████████▊   | 36/38 [01:25<00:04,  2.36s/it]\u001b[A\n",
            "Running Epoch 0 of 1:  97%|██████████████████████████████████████████████████████████▍ | 37/38 [01:27<00:02,  2.36s/it]\u001b[A\n",
            "Running Epoch 0 of 1: 100%|████████████████████████████████████████████████████████████| 38/38 [01:29<00:00,  2.35s/it]\n",
            "Epoch 1 of 1: 100%|██████████████████████████████████████████████████████████████████████| 1/1 [01:29<00:00, 89.29s/it]\n",
            "C:\\Users\\Domenico\\.conda\\envs\\tf\\lib\\site-packages\\simpletransformers\\classification\\classification_model.py:1454: UserWarning: Dataframe headers not specified. Falling back to using column 0 as text and column 1 as labels.\n",
            "  warnings.warn(\n"
          ]
        },
        {
          "output_type": "stream",
          "name": "stdout",
          "text": [
            "\n",
            "NOW EVALUATE THE TEST DF.\n"
          ]
        },
        {
          "output_type": "stream",
          "name": "stderr",
          "text": [
            "  0%|▍                                                                                 | 1/200 [00:05<18:19,  5.52s/it]\n",
            "Running Evaluation: 100%|██████████████████████████████████████████████████████████████| 25/25 [00:15<00:00,  1.66it/s]\n",
            "C:\\Users\\Domenico\\.conda\\envs\\tf\\lib\\site-packages\\simpletransformers\\classification\\classification_model.py:612: UserWarning: Dataframe headers not specified. Falling back to using column 0 as text and column 1 as labels.\n",
            "  warnings.warn(\n"
          ]
        },
        {
          "output_type": "stream",
          "name": "stdout",
          "text": [
            "{'mcc': 0.3239199258358955, 'tp': 51, 'tn': 80, 'fp': 20, 'fn': 49, 'auroc': 0.736, 'auprc': 0.6793231039715093, 'eval_loss': 0.6558318042755127}\n",
            "Correct predictions are:  131\n",
            "Total predictions are:  200\n",
            "Accuracy on test set is: 0.655 \n",
            "\n",
            "\n",
            "\n",
            "EPOCH NUMBER:  3\n",
            "\n",
            "NOW TRAIN THE MODEL.\n"
          ]
        },
        {
          "output_type": "stream",
          "name": "stderr",
          "text": [
            "  0%|▎                                                                                 | 1/300 [00:07<36:28,  7.32s/it]\n",
            "Epoch 1 of 1:   0%|                                                                              | 0/1 [00:00<?, ?it/s]\n",
            "Running Epoch 0 of 1:   0%|                                                                     | 0/38 [00:00<?, ?it/s]\u001b[A\n",
            "Running Epoch 0 of 1:   3%|█▌                                                           | 1/38 [00:02<01:28,  2.41s/it]\u001b[A\n",
            "Running Epoch 0 of 1:   5%|███▏                                                         | 2/38 [00:04<01:24,  2.35s/it]\u001b[A\n",
            "Running Epoch 0 of 1:   8%|████▊                                                        | 3/38 [00:07<01:21,  2.32s/it]\u001b[A\n",
            "Running Epoch 0 of 1:  11%|██████▍                                                      | 4/38 [00:09<01:19,  2.35s/it]\u001b[A\n",
            "Running Epoch 0 of 1:  13%|████████                                                     | 5/38 [00:11<01:16,  2.32s/it]\u001b[A\n",
            "Running Epoch 0 of 1:  16%|█████████▋                                                   | 6/38 [00:13<01:13,  2.31s/it]\u001b[A\n",
            "Running Epoch 0 of 1:  18%|███████████▏                                                 | 7/38 [00:16<01:12,  2.33s/it]\u001b[A\n",
            "Running Epoch 0 of 1:  21%|████████████▊                                                | 8/38 [00:18<01:09,  2.33s/it]\u001b[A\n",
            "Running Epoch 0 of 1:  24%|██████████████▍                                              | 9/38 [00:20<01:07,  2.33s/it]\u001b[A\n",
            "Running Epoch 0 of 1:  26%|███████████████▊                                            | 10/38 [00:23<01:05,  2.35s/it]\u001b[A\n",
            "Running Epoch 0 of 1:  29%|█████████████████▎                                          | 11/38 [00:25<01:03,  2.34s/it]\u001b[A\n",
            "Running Epoch 0 of 1:  32%|██████████████████▉                                         | 12/38 [00:28<01:00,  2.35s/it]\u001b[A\n",
            "Running Epoch 0 of 1:  34%|████████████████████▌                                       | 13/38 [00:30<00:58,  2.35s/it]\u001b[A\n",
            "Running Epoch 0 of 1:  37%|██████████████████████                                      | 14/38 [00:32<00:56,  2.34s/it]\u001b[A\n",
            "Running Epoch 0 of 1:  39%|███████████████████████▋                                    | 15/38 [00:35<00:54,  2.36s/it]\u001b[A\n",
            "Running Epoch 0 of 1:  42%|█████████████████████████▎                                  | 16/38 [00:37<00:51,  2.36s/it]\u001b[A\n",
            "Running Epoch 0 of 1:  45%|██████████████████████████▊                                 | 17/38 [00:39<00:49,  2.34s/it]\u001b[A\n",
            "Running Epoch 0 of 1:  47%|████████████████████████████▍                               | 18/38 [00:42<00:47,  2.36s/it]\u001b[A\n",
            "Running Epoch 0 of 1:  50%|██████████████████████████████                              | 19/38 [00:44<00:44,  2.35s/it]\u001b[A\n",
            "Running Epoch 0 of 1:  53%|███████████████████████████████▌                            | 20/38 [00:46<00:42,  2.34s/it]\u001b[A\n",
            "Running Epoch 0 of 1:  55%|█████████████████████████████████▏                          | 21/38 [00:49<00:40,  2.36s/it]\u001b[A\n",
            "Running Epoch 0 of 1:  58%|██████████████████████████████████▋                         | 22/38 [00:51<00:37,  2.34s/it]\u001b[A\n",
            "Running Epoch 0 of 1:  61%|████████████████████████████████████▎                       | 23/38 [00:53<00:35,  2.35s/it]\u001b[A\n",
            "Running Epoch 0 of 1:  63%|█████████████████████████████████████▉                      | 24/38 [00:56<00:32,  2.35s/it]\u001b[A\n",
            "Running Epoch 0 of 1:  66%|███████████████████████████████████████▍                    | 25/38 [00:58<00:30,  2.35s/it]\u001b[A\n",
            "Running Epoch 0 of 1:  68%|█████████████████████████████████████████                   | 26/38 [01:00<00:28,  2.34s/it]\u001b[A\n",
            "Running Epoch 0 of 1:  71%|██████████████████████████████████████████▋                 | 27/38 [01:03<00:25,  2.36s/it]\u001b[A\n",
            "Running Epoch 0 of 1:  74%|████████████████████████████████████████████▏               | 28/38 [01:05<00:23,  2.35s/it]\u001b[A\n",
            "Running Epoch 0 of 1:  76%|█████████████████████████████████████████████▊              | 29/38 [01:08<00:21,  2.35s/it]\u001b[A\n",
            "Running Epoch 0 of 1:  79%|███████████████████████████████████████████████▎            | 30/38 [01:10<00:18,  2.36s/it]\u001b[A\n",
            "Running Epoch 0 of 1:  82%|████████████████████████████████████████████████▉           | 31/38 [01:12<00:16,  2.35s/it]\u001b[A\n",
            "Running Epoch 0 of 1:  84%|██████████████████████████████████████████████████▌         | 32/38 [01:15<00:14,  2.36s/it]\u001b[A\n",
            "Running Epoch 0 of 1:  87%|████████████████████████████████████████████████████        | 33/38 [01:17<00:11,  2.36s/it]\u001b[A\n",
            "Running Epoch 0 of 1:  89%|█████████████████████████████████████████████████████▋      | 34/38 [01:19<00:09,  2.35s/it]\u001b[A\n",
            "Running Epoch 0 of 1:  92%|███████████████████████████████████████████████████████▎    | 35/38 [01:22<00:07,  2.36s/it]\u001b[A\n",
            "Running Epoch 0 of 1:  95%|████████████████████████████████████████████████████████▊   | 36/38 [01:24<00:04,  2.35s/it]\u001b[A\n",
            "Running Epoch 0 of 1:  97%|██████████████████████████████████████████████████████████▍ | 37/38 [01:26<00:02,  2.35s/it]\u001b[A\n",
            "Running Epoch 0 of 1: 100%|████████████████████████████████████████████████████████████| 38/38 [01:28<00:00,  2.33s/it]\n",
            "Epoch 1 of 1: 100%|██████████████████████████████████████████████████████████████████████| 1/1 [01:28<00:00, 88.48s/it]\n",
            "C:\\Users\\Domenico\\.conda\\envs\\tf\\lib\\site-packages\\simpletransformers\\classification\\classification_model.py:1454: UserWarning: Dataframe headers not specified. Falling back to using column 0 as text and column 1 as labels.\n",
            "  warnings.warn(\n"
          ]
        },
        {
          "output_type": "stream",
          "name": "stdout",
          "text": [
            "\n",
            "NOW EVALUATE THE TEST DF.\n"
          ]
        },
        {
          "output_type": "stream",
          "name": "stderr",
          "text": [
            "  0%|▍                                                                                 | 1/200 [00:05<18:17,  5.51s/it]\n",
            "Running Evaluation: 100%|██████████████████████████████████████████████████████████████| 25/25 [00:14<00:00,  1.68it/s]\n",
            "C:\\Users\\Domenico\\.conda\\envs\\tf\\lib\\site-packages\\simpletransformers\\classification\\classification_model.py:612: UserWarning: Dataframe headers not specified. Falling back to using column 0 as text and column 1 as labels.\n",
            "  warnings.warn(\n"
          ]
        },
        {
          "output_type": "stream",
          "name": "stdout",
          "text": [
            "{'mcc': 0.21044962411238535, 'tp': 38, 'tn': 81, 'fp': 19, 'fn': 62, 'auroc': 0.6849000000000001, 'auprc': 0.6419416730302001, 'eval_loss': 0.6641128420829773}\n",
            "Correct predictions are:  119\n",
            "Total predictions are:  200\n",
            "Accuracy on test set is: 0.595 \n",
            "\n",
            "\n",
            "\n",
            "EPOCH NUMBER:  4\n",
            "\n",
            "NOW TRAIN THE MODEL.\n"
          ]
        },
        {
          "output_type": "stream",
          "name": "stderr",
          "text": [
            "  0%|▎                                                                                 | 1/300 [00:07<36:15,  7.28s/it]\n",
            "Epoch 1 of 1:   0%|                                                                              | 0/1 [00:00<?, ?it/s]\n",
            "Running Epoch 0 of 1:   0%|                                                                     | 0/38 [00:00<?, ?it/s]\u001b[A\n",
            "Running Epoch 0 of 1:   3%|█▌                                                           | 1/38 [00:02<01:26,  2.35s/it]\u001b[A\n",
            "Running Epoch 0 of 1:   5%|███▏                                                         | 2/38 [00:04<01:24,  2.36s/it]\u001b[A\n",
            "Running Epoch 0 of 1:   8%|████▊                                                        | 3/38 [00:07<01:21,  2.33s/it]\u001b[A\n",
            "Running Epoch 0 of 1:  11%|██████▍                                                      | 4/38 [00:09<01:20,  2.36s/it]\u001b[A\n",
            "Running Epoch 0 of 1:  13%|████████                                                     | 5/38 [00:11<01:17,  2.36s/it]\u001b[A\n",
            "Running Epoch 0 of 1:  16%|█████████▋                                                   | 6/38 [00:14<01:14,  2.34s/it]\u001b[A\n",
            "Running Epoch 0 of 1:  18%|███████████▏                                                 | 7/38 [00:16<01:12,  2.34s/it]\u001b[A\n",
            "Running Epoch 0 of 1:  21%|████████████▊                                                | 8/38 [00:18<01:10,  2.34s/it]\u001b[A\n",
            "Running Epoch 0 of 1:  24%|██████████████▍                                              | 9/38 [00:21<01:07,  2.33s/it]\u001b[A\n",
            "Running Epoch 0 of 1:  26%|███████████████▊                                            | 10/38 [00:23<01:05,  2.32s/it]\u001b[A\n",
            "Running Epoch 0 of 1:  29%|█████████████████▎                                          | 11/38 [00:25<01:02,  2.33s/it]\u001b[A\n",
            "Running Epoch 0 of 1:  32%|██████████████████▉                                         | 12/38 [00:28<01:00,  2.33s/it]\u001b[A\n",
            "Running Epoch 0 of 1:  34%|████████████████████▌                                       | 13/38 [00:30<00:58,  2.32s/it]\u001b[A\n",
            "Running Epoch 0 of 1:  37%|██████████████████████                                      | 14/38 [00:32<00:55,  2.33s/it]\u001b[A\n",
            "Running Epoch 0 of 1:  39%|███████████████████████▋                                    | 15/38 [00:35<00:53,  2.33s/it]\u001b[A\n",
            "Running Epoch 0 of 1:  42%|█████████████████████████▎                                  | 16/38 [00:37<00:51,  2.33s/it]\u001b[A\n",
            "Running Epoch 0 of 1:  45%|██████████████████████████▊                                 | 17/38 [00:39<00:49,  2.34s/it]\u001b[A\n",
            "Running Epoch 0 of 1:  47%|████████████████████████████▍                               | 18/38 [00:42<00:46,  2.33s/it]\u001b[A\n",
            "Running Epoch 0 of 1:  50%|██████████████████████████████                              | 19/38 [00:44<00:44,  2.32s/it]\u001b[A\n",
            "Running Epoch 0 of 1:  53%|███████████████████████████████▌                            | 20/38 [00:46<00:41,  2.33s/it]\u001b[A\n",
            "Running Epoch 0 of 1:  55%|█████████████████████████████████▏                          | 21/38 [00:48<00:39,  2.33s/it]\u001b[A\n",
            "Running Epoch 0 of 1:  58%|██████████████████████████████████▋                         | 22/38 [00:51<00:37,  2.32s/it]\u001b[A\n",
            "Running Epoch 0 of 1:  61%|████████████████████████████████████▎                       | 23/38 [00:53<00:34,  2.33s/it]\u001b[A\n",
            "Running Epoch 0 of 1:  63%|█████████████████████████████████████▉                      | 24/38 [00:55<00:32,  2.33s/it]\u001b[A\n",
            "Running Epoch 0 of 1:  66%|███████████████████████████████████████▍                    | 25/38 [00:58<00:30,  2.34s/it]\u001b[A\n",
            "Running Epoch 0 of 1:  68%|█████████████████████████████████████████                   | 26/38 [01:00<00:28,  2.36s/it]\u001b[A\n",
            "Running Epoch 0 of 1:  71%|██████████████████████████████████████████▋                 | 27/38 [01:03<00:25,  2.36s/it]\u001b[A\n",
            "Running Epoch 0 of 1:  74%|████████████████████████████████████████████▏               | 28/38 [01:05<00:23,  2.35s/it]\u001b[A\n",
            "Running Epoch 0 of 1:  76%|█████████████████████████████████████████████▊              | 29/38 [01:07<00:21,  2.36s/it]\u001b[A\n",
            "Running Epoch 0 of 1:  79%|███████████████████████████████████████████████▎            | 30/38 [01:10<00:18,  2.35s/it]\u001b[A\n",
            "Running Epoch 0 of 1:  82%|████████████████████████████████████████████████▉           | 31/38 [01:12<00:16,  2.35s/it]\u001b[A\n",
            "Running Epoch 0 of 1:  84%|██████████████████████████████████████████████████▌         | 32/38 [01:14<00:14,  2.36s/it]\u001b[A\n",
            "Running Epoch 0 of 1:  87%|████████████████████████████████████████████████████        | 33/38 [01:17<00:11,  2.35s/it]\u001b[A\n",
            "Running Epoch 0 of 1:  89%|█████████████████████████████████████████████████████▋      | 34/38 [01:19<00:09,  2.36s/it]\u001b[A\n",
            "Running Epoch 0 of 1:  92%|███████████████████████████████████████████████████████▎    | 35/38 [01:21<00:07,  2.35s/it]\u001b[A\n",
            "Running Epoch 0 of 1:  95%|████████████████████████████████████████████████████████▊   | 36/38 [01:24<00:04,  2.34s/it]\u001b[A\n",
            "Running Epoch 0 of 1:  97%|██████████████████████████████████████████████████████████▍ | 37/38 [01:26<00:02,  2.33s/it]\u001b[A\n",
            "Running Epoch 0 of 1: 100%|████████████████████████████████████████████████████████████| 38/38 [01:28<00:00,  2.32s/it]\n",
            "Epoch 1 of 1: 100%|██████████████████████████████████████████████████████████████████████| 1/1 [01:28<00:00, 88.12s/it]\n",
            "C:\\Users\\Domenico\\.conda\\envs\\tf\\lib\\site-packages\\simpletransformers\\classification\\classification_model.py:1454: UserWarning: Dataframe headers not specified. Falling back to using column 0 as text and column 1 as labels.\n",
            "  warnings.warn(\n"
          ]
        },
        {
          "output_type": "stream",
          "name": "stdout",
          "text": [
            "\n",
            "NOW EVALUATE THE TEST DF.\n"
          ]
        },
        {
          "output_type": "stream",
          "name": "stderr",
          "text": [
            "  0%|▍                                                                                 | 1/200 [00:05<18:07,  5.46s/it]\n",
            "Running Evaluation: 100%|██████████████████████████████████████████████████████████████| 25/25 [00:14<00:00,  1.67it/s]\n",
            "C:\\Users\\Domenico\\.conda\\envs\\tf\\lib\\site-packages\\simpletransformers\\classification\\classification_model.py:612: UserWarning: Dataframe headers not specified. Falling back to using column 0 as text and column 1 as labels.\n",
            "  warnings.warn(\n"
          ]
        },
        {
          "output_type": "stream",
          "name": "stdout",
          "text": [
            "{'mcc': 0.31707022662460677, 'tp': 55, 'tn': 76, 'fp': 24, 'fn': 45, 'auroc': 0.7303, 'auprc': 0.6920134287447645, 'eval_loss': 0.6394875514507293}\n",
            "Correct predictions are:  131\n",
            "Total predictions are:  200\n",
            "Accuracy on test set is: 0.655 \n",
            "\n",
            "\n",
            "\n",
            "EPOCH NUMBER:  5\n",
            "\n",
            "NOW TRAIN THE MODEL.\n"
          ]
        },
        {
          "output_type": "stream",
          "name": "stderr",
          "text": [
            "  0%|▎                                                                                 | 1/300 [00:07<35:56,  7.21s/it]\n",
            "Epoch 1 of 1:   0%|                                                                              | 0/1 [00:00<?, ?it/s]\n",
            "Running Epoch 0 of 1:   0%|                                                                     | 0/38 [00:00<?, ?it/s]\u001b[A\n",
            "Running Epoch 0 of 1:   3%|█▌                                                           | 1/38 [00:02<01:28,  2.39s/it]\u001b[A\n",
            "Running Epoch 0 of 1:   5%|███▏                                                         | 2/38 [00:04<01:24,  2.35s/it]\u001b[A\n",
            "Running Epoch 0 of 1:   8%|████▊                                                        | 3/38 [00:07<01:21,  2.33s/it]\u001b[A\n",
            "Running Epoch 0 of 1:  11%|██████▍                                                      | 4/38 [00:09<01:20,  2.37s/it]\u001b[A\n",
            "Running Epoch 0 of 1:  13%|████████                                                     | 5/38 [00:11<01:17,  2.34s/it]\u001b[A\n",
            "Running Epoch 0 of 1:  16%|█████████▋                                                   | 6/38 [00:14<01:14,  2.34s/it]\u001b[A\n",
            "Running Epoch 0 of 1:  18%|███████████▏                                                 | 7/38 [00:16<01:12,  2.35s/it]\u001b[A\n",
            "Running Epoch 0 of 1:  21%|████████████▊                                                | 8/38 [00:18<01:10,  2.35s/it]\u001b[A\n",
            "Running Epoch 0 of 1:  24%|██████████████▍                                              | 9/38 [00:21<01:07,  2.34s/it]\u001b[A\n",
            "Running Epoch 0 of 1:  26%|███████████████▊                                            | 10/38 [00:23<01:05,  2.35s/it]\u001b[A\n",
            "Running Epoch 0 of 1:  29%|█████████████████▎                                          | 11/38 [00:25<01:03,  2.35s/it]\u001b[A\n",
            "Running Epoch 0 of 1:  32%|██████████████████▉                                         | 12/38 [00:28<01:00,  2.34s/it]\u001b[A\n",
            "Running Epoch 0 of 1:  34%|████████████████████▌                                       | 13/38 [00:30<00:58,  2.35s/it]\u001b[A\n",
            "Running Epoch 0 of 1:  37%|██████████████████████                                      | 14/38 [00:32<00:56,  2.35s/it]\u001b[A\n",
            "Running Epoch 0 of 1:  39%|███████████████████████▋                                    | 15/38 [00:35<00:53,  2.34s/it]\u001b[A\n",
            "Running Epoch 0 of 1:  42%|█████████████████████████▎                                  | 16/38 [00:37<00:51,  2.35s/it]\u001b[A\n",
            "Running Epoch 0 of 1:  45%|██████████████████████████▊                                 | 17/38 [00:39<00:49,  2.34s/it]\u001b[A\n",
            "Running Epoch 0 of 1:  47%|████████████████████████████▍                               | 18/38 [00:42<00:46,  2.35s/it]\u001b[A\n",
            "Running Epoch 0 of 1:  50%|██████████████████████████████                              | 19/38 [00:44<00:44,  2.36s/it]\u001b[A\n",
            "Running Epoch 0 of 1:  53%|███████████████████████████████▌                            | 20/38 [00:46<00:42,  2.35s/it]\u001b[A\n",
            "Running Epoch 0 of 1:  55%|█████████████████████████████████▏                          | 21/38 [00:49<00:39,  2.35s/it]\u001b[A\n",
            "Running Epoch 0 of 1:  58%|██████████████████████████████████▋                         | 22/38 [00:51<00:37,  2.35s/it]\u001b[A\n",
            "Running Epoch 0 of 1:  61%|████████████████████████████████████▎                       | 23/38 [00:53<00:35,  2.35s/it]\u001b[A\n",
            "Running Epoch 0 of 1:  63%|█████████████████████████████████████▉                      | 24/38 [00:56<00:33,  2.36s/it]\u001b[A\n",
            "Running Epoch 0 of 1:  66%|███████████████████████████████████████▍                    | 25/38 [00:58<00:30,  2.35s/it]\u001b[A\n",
            "Running Epoch 0 of 1:  68%|█████████████████████████████████████████                   | 26/38 [01:01<00:28,  2.35s/it]\u001b[A\n",
            "Running Epoch 0 of 1:  71%|██████████████████████████████████████████▋                 | 27/38 [01:03<00:25,  2.35s/it]\u001b[A\n",
            "Running Epoch 0 of 1:  74%|████████████████████████████████████████████▏               | 28/38 [01:05<00:23,  2.34s/it]\u001b[A\n",
            "Running Epoch 0 of 1:  76%|█████████████████████████████████████████████▊              | 29/38 [01:08<00:21,  2.35s/it]\u001b[A\n",
            "Running Epoch 0 of 1:  79%|███████████████████████████████████████████████▎            | 30/38 [01:10<00:18,  2.37s/it]\u001b[A\n",
            "Running Epoch 0 of 1:  82%|████████████████████████████████████████████████▉           | 31/38 [01:12<00:16,  2.36s/it]\u001b[A\n",
            "Running Epoch 0 of 1:  84%|██████████████████████████████████████████████████▌         | 32/38 [01:15<00:14,  2.35s/it]\u001b[A\n",
            "Running Epoch 0 of 1:  87%|████████████████████████████████████████████████████        | 33/38 [01:17<00:11,  2.37s/it]\u001b[A\n",
            "Running Epoch 0 of 1:  89%|█████████████████████████████████████████████████████▋      | 34/38 [01:19<00:09,  2.36s/it]\u001b[A\n",
            "Running Epoch 0 of 1:  92%|███████████████████████████████████████████████████████▎    | 35/38 [01:22<00:07,  2.37s/it]\u001b[A\n",
            "Running Epoch 0 of 1:  95%|████████████████████████████████████████████████████████▊   | 36/38 [01:24<00:04,  2.38s/it]\u001b[A\n",
            "Running Epoch 0 of 1:  97%|██████████████████████████████████████████████████████████▍ | 37/38 [01:27<00:02,  2.37s/it]\u001b[A\n",
            "Running Epoch 0 of 1: 100%|████████████████████████████████████████████████████████████| 38/38 [01:28<00:00,  2.33s/it]\n",
            "Epoch 1 of 1: 100%|██████████████████████████████████████████████████████████████████████| 1/1 [01:28<00:00, 88.66s/it]\n",
            "C:\\Users\\Domenico\\.conda\\envs\\tf\\lib\\site-packages\\simpletransformers\\classification\\classification_model.py:1454: UserWarning: Dataframe headers not specified. Falling back to using column 0 as text and column 1 as labels.\n",
            "  warnings.warn(\n"
          ]
        },
        {
          "output_type": "stream",
          "name": "stdout",
          "text": [
            "\n",
            "NOW EVALUATE THE TEST DF.\n"
          ]
        },
        {
          "output_type": "stream",
          "name": "stderr",
          "text": [
            "  0%|▍                                                                                 | 1/200 [00:05<18:20,  5.53s/it]\n",
            "Running Evaluation: 100%|██████████████████████████████████████████████████████████████| 25/25 [00:14<00:00,  1.67it/s]\n",
            "C:\\Users\\Domenico\\.conda\\envs\\tf\\lib\\site-packages\\simpletransformers\\classification\\classification_model.py:612: UserWarning: Dataframe headers not specified. Falling back to using column 0 as text and column 1 as labels.\n",
            "  warnings.warn(\n"
          ]
        },
        {
          "output_type": "stream",
          "name": "stdout",
          "text": [
            "{'mcc': 0.2955402316445243, 'tp': 48, 'tn': 80, 'fp': 20, 'fn': 52, 'auroc': 0.7254, 'auprc': 0.6937807800817173, 'eval_loss': 0.6924391937255859}\n",
            "Correct predictions are:  128\n",
            "Total predictions are:  200\n",
            "Accuracy on test set is: 0.64 \n",
            "\n",
            "\n",
            "\n",
            "EPOCH NUMBER:  6\n",
            "\n",
            "NOW TRAIN THE MODEL.\n"
          ]
        },
        {
          "output_type": "stream",
          "name": "stderr",
          "text": [
            "  0%|▎                                                                                 | 1/300 [00:07<36:10,  7.26s/it]\n",
            "Epoch 1 of 1:   0%|                                                                              | 0/1 [00:00<?, ?it/s]\n",
            "Running Epoch 0 of 1:   0%|                                                                     | 0/38 [00:00<?, ?it/s]\u001b[A\n",
            "Running Epoch 0 of 1:   3%|█▌                                                           | 1/38 [00:02<01:27,  2.38s/it]\u001b[A\n",
            "Running Epoch 0 of 1:   5%|███▏                                                         | 2/38 [00:04<01:24,  2.35s/it]\u001b[A\n",
            "Running Epoch 0 of 1:   8%|████▊                                                        | 3/38 [00:07<01:21,  2.34s/it]\u001b[A\n",
            "Running Epoch 0 of 1:  11%|██████▍                                                      | 4/38 [00:09<01:19,  2.34s/it]\u001b[A\n",
            "Running Epoch 0 of 1:  13%|████████                                                     | 5/38 [00:11<01:17,  2.35s/it]\u001b[A\n",
            "Running Epoch 0 of 1:  16%|█████████▋                                                   | 6/38 [00:14<01:14,  2.33s/it]\u001b[A\n",
            "Running Epoch 0 of 1:  18%|███████████▏                                                 | 7/38 [00:16<01:12,  2.35s/it]\u001b[A\n",
            "Running Epoch 0 of 1:  21%|████████████▊                                                | 8/38 [00:18<01:10,  2.36s/it]\u001b[A\n",
            "Running Epoch 0 of 1:  24%|██████████████▍                                              | 9/38 [00:21<01:07,  2.34s/it]\u001b[A\n",
            "Running Epoch 0 of 1:  26%|███████████████▊                                            | 10/38 [00:23<01:05,  2.35s/it]\u001b[A\n",
            "Running Epoch 0 of 1:  29%|█████████████████▎                                          | 11/38 [00:25<01:03,  2.37s/it]\u001b[A\n",
            "Running Epoch 0 of 1:  32%|██████████████████▉                                         | 12/38 [00:28<01:01,  2.35s/it]\u001b[A\n",
            "Running Epoch 0 of 1:  34%|████████████████████▌                                       | 13/38 [00:30<00:58,  2.35s/it]\u001b[A\n",
            "Running Epoch 0 of 1:  37%|██████████████████████                                      | 14/38 [00:32<00:56,  2.35s/it]\u001b[A\n",
            "Running Epoch 0 of 1:  39%|███████████████████████▋                                    | 15/38 [00:35<00:53,  2.34s/it]\u001b[A\n",
            "Running Epoch 0 of 1:  42%|█████████████████████████▎                                  | 16/38 [00:37<00:51,  2.35s/it]\u001b[A\n",
            "Running Epoch 0 of 1:  45%|██████████████████████████▊                                 | 17/38 [00:39<00:49,  2.35s/it]\u001b[A\n",
            "Running Epoch 0 of 1:  47%|████████████████████████████▍                               | 18/38 [00:42<00:46,  2.34s/it]\u001b[A\n",
            "Running Epoch 0 of 1:  50%|██████████████████████████████                              | 19/38 [00:44<00:44,  2.35s/it]\u001b[A\n",
            "Running Epoch 0 of 1:  53%|███████████████████████████████▌                            | 20/38 [00:46<00:42,  2.35s/it]\u001b[A\n",
            "Running Epoch 0 of 1:  55%|█████████████████████████████████▏                          | 21/38 [00:49<00:39,  2.34s/it]\u001b[A\n",
            "Running Epoch 0 of 1:  58%|██████████████████████████████████▋                         | 22/38 [00:51<00:37,  2.35s/it]\u001b[A\n",
            "Running Epoch 0 of 1:  61%|████████████████████████████████████▎                       | 23/38 [00:54<00:35,  2.36s/it]\u001b[A\n",
            "Running Epoch 0 of 1:  63%|█████████████████████████████████████▉                      | 24/38 [00:56<00:32,  2.35s/it]\u001b[A\n",
            "Running Epoch 0 of 1:  66%|███████████████████████████████████████▍                    | 25/38 [00:58<00:30,  2.36s/it]\u001b[A\n",
            "Running Epoch 0 of 1:  68%|█████████████████████████████████████████                   | 26/38 [01:01<00:28,  2.36s/it]\u001b[A\n",
            "Running Epoch 0 of 1:  71%|██████████████████████████████████████████▋                 | 27/38 [01:03<00:25,  2.36s/it]\u001b[A\n",
            "Running Epoch 0 of 1:  74%|████████████████████████████████████████████▏               | 28/38 [01:05<00:23,  2.37s/it]\u001b[A\n",
            "Running Epoch 0 of 1:  76%|█████████████████████████████████████████████▊              | 29/38 [01:08<00:21,  2.35s/it]\u001b[A\n",
            "Running Epoch 0 of 1:  79%|███████████████████████████████████████████████▎            | 30/38 [01:10<00:18,  2.35s/it]\u001b[A\n",
            "Running Epoch 0 of 1:  82%|████████████████████████████████████████████████▉           | 31/38 [01:12<00:16,  2.36s/it]\u001b[A\n",
            "Running Epoch 0 of 1:  84%|██████████████████████████████████████████████████▌         | 32/38 [01:15<00:14,  2.35s/it]\u001b[A\n",
            "Running Epoch 0 of 1:  87%|████████████████████████████████████████████████████        | 33/38 [01:17<00:11,  2.37s/it]\u001b[A\n",
            "Running Epoch 0 of 1:  89%|█████████████████████████████████████████████████████▋      | 34/38 [01:19<00:09,  2.36s/it]\u001b[A\n",
            "Running Epoch 0 of 1:  92%|███████████████████████████████████████████████████████▎    | 35/38 [01:22<00:07,  2.36s/it]\u001b[A\n",
            "Running Epoch 0 of 1:  95%|████████████████████████████████████████████████████████▊   | 36/38 [01:24<00:04,  2.38s/it]\u001b[A\n",
            "Running Epoch 0 of 1:  97%|██████████████████████████████████████████████████████████▍ | 37/38 [01:27<00:02,  2.36s/it]\u001b[A\n",
            "Running Epoch 0 of 1: 100%|████████████████████████████████████████████████████████████| 38/38 [01:28<00:00,  2.33s/it]\n",
            "Epoch 1 of 1: 100%|██████████████████████████████████████████████████████████████████████| 1/1 [01:28<00:00, 88.68s/it]\n",
            "C:\\Users\\Domenico\\.conda\\envs\\tf\\lib\\site-packages\\simpletransformers\\classification\\classification_model.py:1454: UserWarning: Dataframe headers not specified. Falling back to using column 0 as text and column 1 as labels.\n",
            "  warnings.warn(\n"
          ]
        },
        {
          "output_type": "stream",
          "name": "stdout",
          "text": [
            "\n",
            "NOW EVALUATE THE TEST DF.\n"
          ]
        },
        {
          "output_type": "stream",
          "name": "stderr",
          "text": [
            "  0%|▍                                                                                 | 1/200 [00:05<18:28,  5.57s/it]\n",
            "Running Evaluation: 100%|██████████████████████████████████████████████████████████████| 25/25 [00:14<00:00,  1.68it/s]\n",
            "C:\\Users\\Domenico\\.conda\\envs\\tf\\lib\\site-packages\\simpletransformers\\classification\\classification_model.py:612: UserWarning: Dataframe headers not specified. Falling back to using column 0 as text and column 1 as labels.\n",
            "  warnings.warn(\n"
          ]
        },
        {
          "output_type": "stream",
          "name": "stdout",
          "text": [
            "{'mcc': 0.3618136134933163, 'tp': 73, 'tn': 63, 'fp': 37, 'fn': 27, 'auroc': 0.7369000000000001, 'auprc': 0.7004083434937227, 'eval_loss': 1.040762793123722}\n",
            "Correct predictions are:  136\n",
            "Total predictions are:  200\n",
            "Accuracy on test set is: 0.68 \n",
            "\n",
            "\n",
            "\n",
            "EPOCH NUMBER:  7\n",
            "\n",
            "NOW TRAIN THE MODEL.\n"
          ]
        },
        {
          "output_type": "stream",
          "name": "stderr",
          "text": [
            "  0%|▎                                                                                 | 1/300 [00:07<35:18,  7.09s/it]\n",
            "Epoch 1 of 1:   0%|                                                                              | 0/1 [00:00<?, ?it/s]\n",
            "Running Epoch 0 of 1:   0%|                                                                     | 0/38 [00:00<?, ?it/s]\u001b[A\n",
            "Running Epoch 0 of 1:   3%|█▌                                                           | 1/38 [00:02<01:26,  2.34s/it]\u001b[A\n",
            "Running Epoch 0 of 1:   5%|███▏                                                         | 2/38 [00:04<01:24,  2.34s/it]\u001b[A\n",
            "Running Epoch 0 of 1:   8%|████▊                                                        | 3/38 [00:07<01:22,  2.35s/it]\u001b[A\n",
            "Running Epoch 0 of 1:  11%|██████▍                                                      | 4/38 [00:09<01:19,  2.33s/it]\u001b[A\n",
            "Running Epoch 0 of 1:  13%|████████                                                     | 5/38 [00:11<01:17,  2.34s/it]\u001b[A\n",
            "Running Epoch 0 of 1:  16%|█████████▋                                                   | 6/38 [00:14<01:15,  2.35s/it]\u001b[A\n",
            "Running Epoch 0 of 1:  18%|███████████▏                                                 | 7/38 [00:16<01:12,  2.34s/it]\u001b[A\n",
            "Running Epoch 0 of 1:  21%|████████████▊                                                | 8/38 [00:18<01:10,  2.34s/it]\u001b[A\n",
            "Running Epoch 0 of 1:  24%|██████████████▍                                              | 9/38 [00:21<01:08,  2.35s/it]\u001b[A\n",
            "Running Epoch 0 of 1:  26%|███████████████▊                                            | 10/38 [00:23<01:05,  2.35s/it]\u001b[A\n",
            "Running Epoch 0 of 1:  29%|█████████████████▎                                          | 11/38 [00:25<01:03,  2.37s/it]\u001b[A\n",
            "Running Epoch 0 of 1:  32%|██████████████████▉                                         | 12/38 [00:28<01:01,  2.36s/it]\u001b[A\n",
            "Running Epoch 0 of 1:  34%|████████████████████▌                                       | 13/38 [00:30<00:58,  2.36s/it]\u001b[A\n",
            "Running Epoch 0 of 1:  37%|██████████████████████                                      | 14/38 [00:32<00:56,  2.37s/it]\u001b[A\n",
            "Running Epoch 0 of 1:  39%|███████████████████████▋                                    | 15/38 [00:35<00:54,  2.36s/it]\u001b[A\n",
            "Running Epoch 0 of 1:  42%|█████████████████████████▎                                  | 16/38 [00:37<00:51,  2.36s/it]\u001b[A\n",
            "Running Epoch 0 of 1:  45%|██████████████████████████▊                                 | 17/38 [00:40<00:49,  2.37s/it]\u001b[A\n",
            "Running Epoch 0 of 1:  47%|████████████████████████████▍                               | 18/38 [00:42<00:47,  2.35s/it]\u001b[A\n",
            "Running Epoch 0 of 1:  50%|██████████████████████████████                              | 19/38 [00:44<00:44,  2.35s/it]\u001b[A\n",
            "Running Epoch 0 of 1:  53%|███████████████████████████████▌                            | 20/38 [00:47<00:42,  2.36s/it]\u001b[A\n",
            "Running Epoch 0 of 1:  55%|█████████████████████████████████▏                          | 21/38 [00:49<00:40,  2.35s/it]\u001b[A\n",
            "Running Epoch 0 of 1:  58%|██████████████████████████████████▋                         | 22/38 [00:51<00:37,  2.36s/it]\u001b[A\n",
            "Running Epoch 0 of 1:  61%|████████████████████████████████████▎                       | 23/38 [00:54<00:35,  2.36s/it]\u001b[A\n",
            "Running Epoch 0 of 1:  63%|█████████████████████████████████████▉                      | 24/38 [00:56<00:33,  2.36s/it]\u001b[A\n",
            "Running Epoch 0 of 1:  66%|███████████████████████████████████████▍                    | 25/38 [00:58<00:30,  2.38s/it]\u001b[A\n",
            "Running Epoch 0 of 1:  68%|█████████████████████████████████████████                   | 26/38 [01:01<00:28,  2.37s/it]\u001b[A\n",
            "Running Epoch 0 of 1:  71%|██████████████████████████████████████████▋                 | 27/38 [01:03<00:26,  2.36s/it]\u001b[A\n",
            "Running Epoch 0 of 1:  74%|████████████████████████████████████████████▏               | 28/38 [01:06<00:23,  2.38s/it]\u001b[A\n",
            "Running Epoch 0 of 1:  76%|█████████████████████████████████████████████▊              | 29/38 [01:08<00:21,  2.36s/it]\u001b[A\n",
            "Running Epoch 0 of 1:  79%|███████████████████████████████████████████████▎            | 30/38 [01:10<00:18,  2.35s/it]\u001b[A\n",
            "Running Epoch 0 of 1:  82%|████████████████████████████████████████████████▉           | 31/38 [01:13<00:16,  2.36s/it]\u001b[A\n",
            "Running Epoch 0 of 1:  84%|██████████████████████████████████████████████████▌         | 32/38 [01:15<00:14,  2.35s/it]\u001b[A\n",
            "Running Epoch 0 of 1:  87%|████████████████████████████████████████████████████        | 33/38 [01:17<00:11,  2.35s/it]\u001b[A\n",
            "Running Epoch 0 of 1:  89%|█████████████████████████████████████████████████████▋      | 34/38 [01:20<00:09,  2.35s/it]\u001b[A\n",
            "Running Epoch 0 of 1:  92%|███████████████████████████████████████████████████████▎    | 35/38 [01:22<00:07,  2.34s/it]\u001b[A\n",
            "Running Epoch 0 of 1:  95%|████████████████████████████████████████████████████████▊   | 36/38 [01:24<00:04,  2.35s/it]\u001b[A\n",
            "Running Epoch 0 of 1:  97%|██████████████████████████████████████████████████████████▍ | 37/38 [01:27<00:02,  2.37s/it]\u001b[A\n",
            "Running Epoch 0 of 1: 100%|████████████████████████████████████████████████████████████| 38/38 [01:28<00:00,  2.34s/it]\n",
            "Epoch 1 of 1: 100%|██████████████████████████████████████████████████████████████████████| 1/1 [01:28<00:00, 88.78s/it]\n",
            "C:\\Users\\Domenico\\.conda\\envs\\tf\\lib\\site-packages\\simpletransformers\\classification\\classification_model.py:1454: UserWarning: Dataframe headers not specified. Falling back to using column 0 as text and column 1 as labels.\n",
            "  warnings.warn(\n"
          ]
        },
        {
          "output_type": "stream",
          "name": "stdout",
          "text": [
            "\n",
            "NOW EVALUATE THE TEST DF.\n"
          ]
        },
        {
          "output_type": "stream",
          "name": "stderr",
          "text": [
            "  0%|▍                                                                                 | 1/200 [00:05<18:02,  5.44s/it]\n",
            "Running Evaluation: 100%|██████████████████████████████████████████████████████████████| 25/25 [00:14<00:00,  1.68it/s]\n",
            "C:\\Users\\Domenico\\.conda\\envs\\tf\\lib\\site-packages\\simpletransformers\\classification\\classification_model.py:612: UserWarning: Dataframe headers not specified. Falling back to using column 0 as text and column 1 as labels.\n",
            "  warnings.warn(\n"
          ]
        },
        {
          "output_type": "stream",
          "name": "stdout",
          "text": [
            "{'mcc': 0.26384545277565086, 'tp': 37, 'tn': 86, 'fp': 14, 'fn': 63, 'auroc': 0.7144, 'auprc': 0.6891024219330849, 'eval_loss': 1.039693784713745}\n",
            "Correct predictions are:  123\n",
            "Total predictions are:  200\n",
            "Accuracy on test set is: 0.615 \n",
            "\n",
            "\n",
            "\n",
            "EPOCH NUMBER:  8\n",
            "\n",
            "NOW TRAIN THE MODEL.\n"
          ]
        },
        {
          "output_type": "stream",
          "name": "stderr",
          "text": [
            "  0%|▎                                                                                 | 1/300 [00:07<36:01,  7.23s/it]\n",
            "Epoch 1 of 1:   0%|                                                                              | 0/1 [00:00<?, ?it/s]\n",
            "Running Epoch 0 of 1:   0%|                                                                     | 0/38 [00:00<?, ?it/s]\u001b[A\n",
            "Running Epoch 0 of 1:   3%|█▌                                                           | 1/38 [00:02<01:28,  2.40s/it]\u001b[A\n",
            "Running Epoch 0 of 1:   5%|███▏                                                         | 2/38 [00:04<01:25,  2.36s/it]\u001b[A\n",
            "Running Epoch 0 of 1:   8%|████▊                                                        | 3/38 [00:07<01:22,  2.36s/it]\u001b[A\n",
            "Running Epoch 0 of 1:  11%|██████▍                                                      | 4/38 [00:09<01:19,  2.35s/it]\u001b[A\n",
            "Running Epoch 0 of 1:  13%|████████                                                     | 5/38 [00:11<01:17,  2.34s/it]\u001b[A\n",
            "Running Epoch 0 of 1:  16%|█████████▋                                                   | 6/38 [00:14<01:15,  2.34s/it]\u001b[A\n",
            "Running Epoch 0 of 1:  18%|███████████▏                                                 | 7/38 [00:16<01:12,  2.34s/it]\u001b[A\n",
            "Running Epoch 0 of 1:  21%|████████████▊                                                | 8/38 [00:18<01:10,  2.34s/it]\u001b[A\n",
            "Running Epoch 0 of 1:  24%|██████████████▍                                              | 9/38 [00:21<01:08,  2.35s/it]\u001b[A\n",
            "Running Epoch 0 of 1:  26%|███████████████▊                                            | 10/38 [00:23<01:05,  2.34s/it]\u001b[A\n",
            "Running Epoch 0 of 1:  29%|█████████████████▎                                          | 11/38 [00:25<01:02,  2.33s/it]\u001b[A\n",
            "Running Epoch 0 of 1:  32%|██████████████████▉                                         | 12/38 [00:28<01:01,  2.35s/it]\u001b[A\n",
            "Running Epoch 0 of 1:  34%|████████████████████▌                                       | 13/38 [00:30<00:58,  2.34s/it]\u001b[A\n",
            "Running Epoch 0 of 1:  37%|██████████████████████                                      | 14/38 [00:32<00:56,  2.35s/it]\u001b[A\n",
            "Running Epoch 0 of 1:  39%|███████████████████████▋                                    | 15/38 [00:35<00:54,  2.36s/it]\u001b[A\n",
            "Running Epoch 0 of 1:  42%|█████████████████████████▎                                  | 16/38 [00:37<00:51,  2.35s/it]\u001b[A\n",
            "Running Epoch 0 of 1:  45%|██████████████████████████▊                                 | 17/38 [00:39<00:49,  2.35s/it]\u001b[A\n",
            "Running Epoch 0 of 1:  47%|████████████████████████████▍                               | 18/38 [00:42<00:47,  2.36s/it]\u001b[A\n",
            "Running Epoch 0 of 1:  50%|██████████████████████████████                              | 19/38 [00:44<00:44,  2.35s/it]\u001b[A\n",
            "Running Epoch 0 of 1:  53%|███████████████████████████████▌                            | 20/38 [00:46<00:42,  2.36s/it]\u001b[A\n",
            "Running Epoch 0 of 1:  55%|█████████████████████████████████▏                          | 21/38 [00:49<00:40,  2.36s/it]\u001b[A\n",
            "Running Epoch 0 of 1:  58%|██████████████████████████████████▋                         | 22/38 [00:51<00:37,  2.35s/it]\u001b[A\n",
            "Running Epoch 0 of 1:  61%|████████████████████████████████████▎                       | 23/38 [00:54<00:35,  2.35s/it]\u001b[A\n",
            "Running Epoch 0 of 1:  63%|█████████████████████████████████████▉                      | 24/38 [00:56<00:32,  2.35s/it]\u001b[A\n",
            "Running Epoch 0 of 1:  66%|███████████████████████████████████████▍                    | 25/38 [00:58<00:30,  2.35s/it]\u001b[A\n",
            "Running Epoch 0 of 1:  68%|█████████████████████████████████████████                   | 26/38 [01:01<00:28,  2.35s/it]\u001b[A\n",
            "Running Epoch 0 of 1:  71%|██████████████████████████████████████████▋                 | 27/38 [01:03<00:25,  2.35s/it]\u001b[A\n",
            "Running Epoch 0 of 1:  74%|████████████████████████████████████████████▏               | 28/38 [01:05<00:23,  2.34s/it]\u001b[A\n",
            "Running Epoch 0 of 1:  76%|█████████████████████████████████████████████▊              | 29/38 [01:08<00:21,  2.36s/it]\u001b[A\n",
            "Running Epoch 0 of 1:  79%|███████████████████████████████████████████████▎            | 30/38 [01:10<00:18,  2.35s/it]\u001b[A\n",
            "Running Epoch 0 of 1:  82%|████████████████████████████████████████████████▉           | 31/38 [01:12<00:16,  2.33s/it]\u001b[A\n",
            "Running Epoch 0 of 1:  84%|██████████████████████████████████████████████████▌         | 32/38 [01:15<00:14,  2.36s/it]\u001b[A\n",
            "Running Epoch 0 of 1:  87%|████████████████████████████████████████████████████        | 33/38 [01:17<00:11,  2.33s/it]\u001b[A\n",
            "Running Epoch 0 of 1:  89%|█████████████████████████████████████████████████████▋      | 34/38 [01:19<00:09,  2.33s/it]\u001b[A\n",
            "Running Epoch 0 of 1:  92%|███████████████████████████████████████████████████████▎    | 35/38 [01:22<00:07,  2.35s/it]\u001b[A\n",
            "Running Epoch 0 of 1:  95%|████████████████████████████████████████████████████████▊   | 36/38 [01:24<00:04,  2.34s/it]\u001b[A\n",
            "Running Epoch 0 of 1:  97%|██████████████████████████████████████████████████████████▍ | 37/38 [01:26<00:02,  2.34s/it]\u001b[A\n",
            "Running Epoch 0 of 1: 100%|████████████████████████████████████████████████████████████| 38/38 [01:28<00:00,  2.33s/it]\n",
            "Epoch 1 of 1: 100%|██████████████████████████████████████████████████████████████████████| 1/1 [01:28<00:00, 88.41s/it]\n",
            "C:\\Users\\Domenico\\.conda\\envs\\tf\\lib\\site-packages\\simpletransformers\\classification\\classification_model.py:1454: UserWarning: Dataframe headers not specified. Falling back to using column 0 as text and column 1 as labels.\n",
            "  warnings.warn(\n"
          ]
        },
        {
          "output_type": "stream",
          "name": "stdout",
          "text": [
            "\n",
            "NOW EVALUATE THE TEST DF.\n"
          ]
        },
        {
          "output_type": "stream",
          "name": "stderr",
          "text": [
            "  0%|▍                                                                                 | 1/200 [00:05<18:14,  5.50s/it]\n",
            "Running Evaluation: 100%|██████████████████████████████████████████████████████████████| 25/25 [00:14<00:00,  1.68it/s]\n",
            "C:\\Users\\Domenico\\.conda\\envs\\tf\\lib\\site-packages\\simpletransformers\\classification\\classification_model.py:612: UserWarning: Dataframe headers not specified. Falling back to using column 0 as text and column 1 as labels.\n",
            "  warnings.warn(\n"
          ]
        },
        {
          "output_type": "stream",
          "name": "stdout",
          "text": [
            "{'mcc': 0.3095810973565018, 'tp': 47, 'tn': 82, 'fp': 18, 'fn': 53, 'auroc': 0.7303, 'auprc': 0.7027678949292695, 'eval_loss': 1.193175777196884}\n",
            "Correct predictions are:  129\n",
            "Total predictions are:  200\n",
            "Accuracy on test set is: 0.645 \n",
            "\n",
            "\n",
            "\n",
            "EPOCH NUMBER:  9\n",
            "\n",
            "NOW TRAIN THE MODEL.\n"
          ]
        },
        {
          "output_type": "stream",
          "name": "stderr",
          "text": [
            "  0%|▎                                                                                 | 1/300 [00:07<35:51,  7.20s/it]\n",
            "Epoch 1 of 1:   0%|                                                                              | 0/1 [00:00<?, ?it/s]\n",
            "Running Epoch 0 of 1:   0%|                                                                     | 0/38 [00:00<?, ?it/s]\u001b[A\n",
            "Running Epoch 0 of 1:   3%|█▌                                                           | 1/38 [00:02<01:27,  2.36s/it]\u001b[A\n",
            "Running Epoch 0 of 1:   5%|███▏                                                         | 2/38 [00:04<01:24,  2.35s/it]\u001b[A\n",
            "Running Epoch 0 of 1:   8%|████▊                                                        | 3/38 [00:07<01:21,  2.33s/it]\u001b[A\n",
            "Running Epoch 0 of 1:  11%|██████▍                                                      | 4/38 [00:09<01:18,  2.32s/it]\u001b[A\n",
            "Running Epoch 0 of 1:  13%|████████                                                     | 5/38 [00:11<01:16,  2.33s/it]\u001b[A\n",
            "Running Epoch 0 of 1:  16%|█████████▋                                                   | 6/38 [00:14<01:14,  2.33s/it]\u001b[A\n",
            "Running Epoch 0 of 1:  18%|███████████▏                                                 | 7/38 [00:16<01:12,  2.32s/it]\u001b[A\n",
            "Running Epoch 0 of 1:  21%|████████████▊                                                | 8/38 [00:18<01:09,  2.33s/it]\u001b[A\n",
            "Running Epoch 0 of 1:  24%|██████████████▍                                              | 9/38 [00:20<01:07,  2.33s/it]\u001b[A\n",
            "Running Epoch 0 of 1:  26%|███████████████▊                                            | 10/38 [00:23<01:05,  2.33s/it]\u001b[A\n",
            "Running Epoch 0 of 1:  29%|█████████████████▎                                          | 11/38 [00:25<01:03,  2.35s/it]\u001b[A\n",
            "Running Epoch 0 of 1:  32%|██████████████████▉                                         | 12/38 [00:28<01:00,  2.34s/it]\u001b[A\n",
            "Running Epoch 0 of 1:  34%|████████████████████▌                                       | 13/38 [00:30<00:58,  2.34s/it]\u001b[A\n",
            "Running Epoch 0 of 1:  37%|██████████████████████                                      | 14/38 [00:32<00:56,  2.34s/it]\u001b[A\n",
            "Running Epoch 0 of 1:  39%|███████████████████████▋                                    | 15/38 [00:35<00:53,  2.33s/it]\u001b[A\n",
            "Running Epoch 0 of 1:  42%|█████████████████████████▎                                  | 16/38 [00:37<00:51,  2.33s/it]\u001b[A\n",
            "Running Epoch 0 of 1:  45%|██████████████████████████▊                                 | 17/38 [00:39<00:49,  2.35s/it]\u001b[A\n",
            "Running Epoch 0 of 1:  47%|████████████████████████████▍                               | 18/38 [00:42<00:46,  2.35s/it]\u001b[A\n",
            "Running Epoch 0 of 1:  50%|██████████████████████████████                              | 19/38 [00:44<00:44,  2.36s/it]\u001b[A\n",
            "Running Epoch 0 of 1:  53%|███████████████████████████████▌                            | 20/38 [00:46<00:42,  2.36s/it]\u001b[A\n",
            "Running Epoch 0 of 1:  55%|█████████████████████████████████▏                          | 21/38 [00:49<00:39,  2.34s/it]\u001b[A\n",
            "Running Epoch 0 of 1:  58%|██████████████████████████████████▋                         | 22/38 [00:51<00:37,  2.34s/it]\u001b[A\n",
            "Running Epoch 0 of 1:  61%|████████████████████████████████████▎                       | 23/38 [00:53<00:35,  2.35s/it]\u001b[A\n",
            "Running Epoch 0 of 1:  63%|█████████████████████████████████████▉                      | 24/38 [00:56<00:32,  2.34s/it]\u001b[A\n",
            "Running Epoch 0 of 1:  66%|███████████████████████████████████████▍                    | 25/38 [00:58<00:30,  2.35s/it]\u001b[A\n",
            "Running Epoch 0 of 1:  68%|█████████████████████████████████████████                   | 26/38 [01:00<00:28,  2.36s/it]\u001b[A\n",
            "Running Epoch 0 of 1:  71%|██████████████████████████████████████████▋                 | 27/38 [01:03<00:25,  2.34s/it]\u001b[A\n",
            "Running Epoch 0 of 1:  74%|████████████████████████████████████████████▏               | 28/38 [01:05<00:23,  2.35s/it]\u001b[A\n",
            "Running Epoch 0 of 1:  76%|█████████████████████████████████████████████▊              | 29/38 [01:07<00:21,  2.34s/it]\u001b[A\n",
            "Running Epoch 0 of 1:  79%|███████████████████████████████████████████████▎            | 30/38 [01:10<00:18,  2.34s/it]\u001b[A\n",
            "Running Epoch 0 of 1:  82%|████████████████████████████████████████████████▉           | 31/38 [01:12<00:16,  2.34s/it]\u001b[A\n",
            "Running Epoch 0 of 1:  84%|██████████████████████████████████████████████████▌         | 32/38 [01:14<00:13,  2.33s/it]\u001b[A\n",
            "Running Epoch 0 of 1:  87%|████████████████████████████████████████████████████        | 33/38 [01:17<00:11,  2.33s/it]\u001b[A\n",
            "Running Epoch 0 of 1:  89%|█████████████████████████████████████████████████████▋      | 34/38 [01:19<00:09,  2.35s/it]\u001b[A\n",
            "Running Epoch 0 of 1:  92%|███████████████████████████████████████████████████████▎    | 35/38 [01:21<00:07,  2.34s/it]\u001b[A\n",
            "Running Epoch 0 of 1:  95%|████████████████████████████████████████████████████████▊   | 36/38 [01:24<00:04,  2.34s/it]\u001b[A\n",
            "Running Epoch 0 of 1:  97%|██████████████████████████████████████████████████████████▍ | 37/38 [01:26<00:02,  2.35s/it]\u001b[A\n",
            "Running Epoch 0 of 1: 100%|████████████████████████████████████████████████████████████| 38/38 [01:28<00:00,  2.32s/it]\n",
            "Epoch 1 of 1: 100%|██████████████████████████████████████████████████████████████████████| 1/1 [01:28<00:00, 88.18s/it]\n",
            "C:\\Users\\Domenico\\.conda\\envs\\tf\\lib\\site-packages\\simpletransformers\\classification\\classification_model.py:1454: UserWarning: Dataframe headers not specified. Falling back to using column 0 as text and column 1 as labels.\n",
            "  warnings.warn(\n"
          ]
        },
        {
          "output_type": "stream",
          "name": "stdout",
          "text": [
            "\n",
            "NOW EVALUATE THE TEST DF.\n"
          ]
        },
        {
          "output_type": "stream",
          "name": "stderr",
          "text": [
            "  0%|▍                                                                                 | 1/200 [00:05<18:48,  5.67s/it]\n",
            "Running Evaluation: 100%|██████████████████████████████████████████████████████████████| 25/25 [00:15<00:00,  1.66it/s]"
          ]
        },
        {
          "output_type": "stream",
          "name": "stdout",
          "text": [
            "{'mcc': 0.29062515767428193, 'tp': 45, 'tn': 82, 'fp': 18, 'fn': 55, 'auroc': 0.6718999999999999, 'auprc': 0.6620099389779436, 'eval_loss': 1.6130945324897765}\n",
            "Correct predictions are:  127\n",
            "Total predictions are:  200\n",
            "Accuracy on test set is: 0.635 \n",
            "\n",
            "\n",
            "[0.5, 0.5, 0.655, 0.595, 0.655, 0.64, 0.68, 0.615, 0.645, 0.635]\n",
            "\n",
            "\n",
            " Over all runs maximum accuracies are: [0.655, 0.665, 0.68, 0.685, 0.685]\n",
            "The median is: 0.68\n",
            "RoBERTa Accuracy Score on Test set ->  ['0.68 +/- 0.025000000000000022']\n"
          ]
        },
        {
          "output_type": "stream",
          "name": "stderr",
          "text": [
            "\n"
          ]
        }
      ]
    }
  ]
}