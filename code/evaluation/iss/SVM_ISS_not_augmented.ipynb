{
  "nbformat": 4,
  "nbformat_minor": 0,
  "metadata": {
    "accelerator": "TPU",
    "colab": {
      "provenance": [],
      "include_colab_link": true
    },
    "kernelspec": {
      "display_name": "Python 3",
      "name": "python3"
    }
  },
  "cells": [
    {
      "cell_type": "markdown",
      "metadata": {
        "id": "view-in-github",
        "colab_type": "text"
      },
      "source": [
        "<a href=\"https://colab.research.google.com/github/marco-siino/DA-ESWA/blob/main/code/evaluation/iss/SVM_ISS_not_augmented.ipynb\" target=\"_parent\"><img src=\"https://colab.research.google.com/assets/colab-badge.svg\" alt=\"Open In Colab\"/></a>"
      ]
    },
    {
      "cell_type": "markdown",
      "metadata": {
        "id": "u-hLo5ufkCT1"
      },
      "source": [
        "## Investigating text data augmentation using back translation for author profiling\n",
        "- - - \n",
        "SVM ON ISS DS EXPERIMENTS NOTEBOOK \n",
        "- - -\n",
        "SVM on Irony and Stereotype Spreaders Dataset not augmented with backtranslation.\n",
        "Code by M. Siino. \n",
        "\n",
        "From the paper: \"Investigating text data augmentation using back translation for author profiling\" by M.Siino et al."
      ]
    },
    {
      "cell_type": "markdown",
      "metadata": {
        "id": "6IBqUcj4cx2G"
      },
      "source": [
        "## Importing modules."
      ]
    },
    {
      "cell_type": "code",
      "metadata": {
        "id": "AQSunQ-ucjLX"
      },
      "source": [
        "import matplotlib.pyplot as plt\n",
        "import os\n",
        "import random\n",
        "import re\n",
        "import shutil\n",
        "import string\n",
        "import tensorflow as tf\n",
        "\n",
        "from tensorflow.keras import layers\n",
        "from tensorflow.keras import losses\n",
        "from tensorflow.keras import preprocessing\n",
        "from tensorflow.keras.layers.experimental.preprocessing import TextVectorization\n",
        "from google.colab import files\n",
        "from io import open\n",
        "from numpy.random import seed\n",
        "import numpy as np\n",
        "from pathlib import Path\n",
        "from sklearn import svm\n",
        "\n",
        "os.environ['TF_CUDNN_DETERMINISTIC']='true'\n",
        "os.environ['TF_DETERMINISTIC_OPS']='true'"
      ],
      "execution_count": 1,
      "outputs": []
    },
    {
      "cell_type": "markdown",
      "metadata": {
        "id": "0QHd_fxmHCfa"
      },
      "source": [
        "## Importing DS and extract in current working directory."
      ]
    },
    {
      "cell_type": "code",
      "metadata": {
        "id": "ocYMUXaY8r0_",
        "colab": {
          "base_uri": "https://localhost:8080/"
        },
        "outputId": "f6960da3-5080-4450-d036-baf7b31a2e6a"
      },
      "source": [
        "urlTrainingSet = \"https://github.com/marco-siino/DA-ESWA/raw/main/data/iss/iss-training-original.zip\"\n",
        "training_set = tf.keras.utils.get_file(\"pan22-author-profiling-training-2022-03-29.zip\", urlTrainingSet,\n",
        "                                    extract=True, archive_format='zip',cache_dir='.',\n",
        "                                    cache_subdir='')\n",
        "\n",
        "urlTestSet=\"https://github.com/marco-siino/DA-ESWA/raw/main/data/iss/iss-test-original.zip\"\n",
        "test_set = tf.keras.utils.get_file(\"pan22-author-profiling-test-2022-04-22-without_truth.zip\", urlTestSet,\n",
        "                                    extract=True, archive_format='zip',cache_dir='.',\n",
        "                                    cache_subdir='')"
      ],
      "execution_count": 2,
      "outputs": [
        {
          "output_type": "stream",
          "name": "stdout",
          "text": [
            "Downloading data from https://github.com/marco-siino/DA-ESWA/raw/main/data/iss/iss-training-original.zip\n",
            "5806456/5806456 [==============================] - 0s 0us/step\n",
            "Downloading data from https://github.com/marco-siino/DA-ESWA/raw/main/data/iss/iss-test-original.zip\n",
            "2446477/2446477 [==============================] - 0s 0us/step\n"
          ]
        }
      ]
    },
    {
      "cell_type": "code",
      "source": [
        "training_set_dir = os.path.join(os.path.dirname(training_set), 'pan22-author-profiling-training-2022-03-29')\n",
        "test_set_dir = os.path.join(os.path.dirname(test_set), 'pan22-author-profiling-test-2022-04-22-without_truth')\n",
        "\n",
        "!ls -A"
      ],
      "metadata": {
        "id": "VhXCTQbYykC-",
        "colab": {
          "base_uri": "https://localhost:8080/"
        },
        "outputId": "bed35e4e-07cf-4e5f-ff98-c9d5ab46c7f1"
      },
      "execution_count": 3,
      "outputs": [
        {
          "output_type": "stream",
          "name": "stdout",
          "text": [
            ".config\n",
            "pan22-author-profiling-test-2022-04-22-without_truth\n",
            "pan22-author-profiling-test-2022-04-22-without_truth.zip\n",
            "pan22-author-profiling-training-2022-03-29\n",
            "pan22-author-profiling-training-2022-03-29.zip\n",
            "sample_data\n"
          ]
        }
      ]
    },
    {
      "cell_type": "markdown",
      "metadata": {
        "id": "Di7jOZjALo4X"
      },
      "source": [
        "## Build folders hierarchy to use Keras folders preprocessing function."
      ]
    },
    {
      "cell_type": "code",
      "metadata": {
        "colab": {
          "base_uri": "https://localhost:8080/"
        },
        "id": "-ucATWhfGSGf",
        "outputId": "3beed335-2944-4c31-b08c-58d479124575"
      },
      "source": [
        "### Training Folders. ###\n",
        "\n",
        "# First level directory.\n",
        "if not os.path.exists('train_dir_en'):\n",
        "    os.makedirs('train_dir_en')\n",
        "\n",
        "# Class labels directory.\n",
        "if not os.path.exists('train_dir_en/0'):\n",
        "    os.makedirs('train_dir_en/0')\n",
        "if not os.path.exists('train_dir_en/1'):\n",
        "    os.makedirs('train_dir_en/1')\n",
        "\n",
        "# Make Py variables.\n",
        "train_dir='train_dir_'\n",
        "\n",
        "## Test Folders. ##\n",
        "# First level directory.\n",
        "if not os.path.exists('test_dir_en'):\n",
        "    os.makedirs('test_dir_en')\n",
        "\n",
        "# Class labels directory.\n",
        "if not os.path.exists('test_dir_en/0'):\n",
        "    os.makedirs('test_dir_en/0')\n",
        "if not os.path.exists('test_dir_en/1'):\n",
        "    os.makedirs('test_dir_en/1')\n",
        "\n",
        "# Make Py variables.\n",
        "test_dir='test_dir_'\n",
        "\n",
        "!ls -A"
      ],
      "execution_count": 4,
      "outputs": [
        {
          "output_type": "stream",
          "name": "stdout",
          "text": [
            ".config\n",
            "pan22-author-profiling-test-2022-04-22-without_truth\n",
            "pan22-author-profiling-test-2022-04-22-without_truth.zip\n",
            "pan22-author-profiling-training-2022-03-29\n",
            "pan22-author-profiling-training-2022-03-29.zip\n",
            "sample_data\n",
            "test_dir_en\n",
            "train_dir_en\n"
          ]
        }
      ]
    },
    {
      "cell_type": "markdown",
      "metadata": {
        "id": "tNib56hF_8an"
      },
      "source": [
        "## Set language and directory paths.\n"
      ]
    },
    {
      "cell_type": "code",
      "metadata": {
        "id": "Rq0EgZuf_5tv"
      },
      "source": [
        "# Set en and es ground truth file path for train_dir. \n",
        "language='en'\n",
        "\n",
        "truth_file_training_dir_en=training_set_dir+'/'+language+'/'\n",
        "truth_file_training_path_en = truth_file_training_dir_en+'truth.txt'\n",
        "\n",
        "truth_file_test_dir=test_set_dir\n",
        "truth_file_test_path_en = truth_file_test_dir+'/'+'truth'+'.txt'"
      ],
      "execution_count": 5,
      "outputs": []
    },
    {
      "cell_type": "markdown",
      "metadata": {
        "id": "7VQKsc4XOpD8"
      },
      "source": [
        "## Read truth.txt to organize training and test dataset folders.\n",
        "\n"
      ]
    },
    {
      "cell_type": "code",
      "metadata": {
        "id": "4kxcJ92-Nkto"
      },
      "source": [
        "# Open the file truth.txt with read only permit.\n",
        "f = open(truth_file_training_path_en, \"r\")\n",
        "# use readline() to read the first line \n",
        "line = f.readline()\n",
        "# use the read line to read further.\n",
        "# If the file is not empty keep reading one line\n",
        "# at a time, till the file is empty\n",
        "while line:\n",
        "    # Split line at :::\n",
        "    x = line.split(\":::\")\n",
        "    fNameXml = x[0]+'.xml'\n",
        "    fNameTxt = x[0]+'.txt'\n",
        "    # Second coord [0] gets just the first character (label) and not /n too.\n",
        "    label = x[1][0]\n",
        "    if label == 'I':\n",
        "      label = '1'\n",
        "    elif label == 'N':\n",
        "      label = '0'\n",
        "\n",
        "    # Now move the file to the right folder.\n",
        "    if os.path.exists(truth_file_training_dir_en+fNameXml):\n",
        "      os.rename(truth_file_training_dir_en+fNameXml, './train_dir_'+language+'/'+label+'/'+fNameTxt )\n",
        "\n",
        "    # use readline() to read next line\n",
        "    line = f.readline()\n",
        "\n",
        "# Open the file truth.txt with read only permit.\n",
        "f = open(truth_file_test_path_en, \"r\")\n",
        "# use readline() to read the first line \n",
        "line = f.readline()\n",
        "# use the read line to read further.\n",
        "# If the file is not empty keep reading one line\n",
        "# at a time, till the file is empty\n",
        "while line:\n",
        "    # Split line at :::\n",
        "    x = line.split(\":::\")\n",
        "    fNameXml = x[0]+'.xml'\n",
        "    fNameTxt = x[0]+'.txt'\n",
        "    # Second coord [0] gets just the first character (label) and not /n too.\n",
        "    label = x[1][0]\n",
        "    if label == 'I':\n",
        "      label = '1'\n",
        "    elif label == 'N':\n",
        "      label = '0'\n",
        "\n",
        "    # Now move the file to the right folder.\n",
        "    if os.path.exists(truth_file_test_dir+'/'+language+'/'+fNameXml):\n",
        "      os.rename(truth_file_test_dir+'/'+language+'/'+fNameXml, './test_dir_'+language+'/'+label+'/'+fNameTxt )\n",
        "\n",
        "    # use readline() to read next line\n",
        "    line = f.readline()\n",
        "     "
      ],
      "execution_count": 6,
      "outputs": []
    },
    {
      "cell_type": "markdown",
      "metadata": {
        "id": "uTJi1fbT_Rup"
      },
      "source": [
        "## Generate full training set.\n",
        "\n"
      ]
    },
    {
      "cell_type": "code",
      "metadata": {
        "colab": {
          "base_uri": "https://localhost:8080/"
        },
        "id": "FyafvXEMhEKw",
        "outputId": "e0f7df5f-4c1b-49c8-b847-0228f2bb0e5d"
      },
      "source": [
        "# Generate full randomized training set.\n",
        "batch_size=1\n",
        "\n",
        "en_train_ds = tf.keras.preprocessing.text_dataset_from_directory(\n",
        "    train_dir+language, \n",
        "    batch_size=batch_size,\n",
        "    shuffle=False\n",
        "    )\n",
        "\n",
        "en_test_ds = tf.keras.preprocessing.text_dataset_from_directory(\n",
        "    test_dir+language, \n",
        "    batch_size=batch_size,\n",
        "    shuffle=False\n",
        "    )\n",
        "\n",
        "train_ds=en_train_ds.shuffle(500,seed=1, reshuffle_each_iteration=False)\n",
        "test_ds=en_test_ds.shuffle(200,seed=1, reshuffle_each_iteration=False)\n",
        "\n",
        "train_ds_size=len(train_ds)\n",
        "test_ds_size=len(test_ds)"
      ],
      "execution_count": 7,
      "outputs": [
        {
          "output_type": "stream",
          "name": "stdout",
          "text": [
            "Found 420 files belonging to 2 classes.\n",
            "Found 180 files belonging to 2 classes.\n"
          ]
        }
      ]
    },
    {
      "cell_type": "markdown",
      "metadata": {
        "id": "ITouXXtQ8WzV"
      },
      "source": [
        "## Functions to pre-process source text. (A detailed discussion on our paper)"
      ]
    },
    {
      "cell_type": "code",
      "metadata": {
        "id": "bDPIqAgXYWim"
      },
      "source": [
        "# Preprocessing function to remove some noise due to the translation.\n",
        "def clean_samples(input_data):\n",
        "  tag_author_lang_en_removed = tf.strings.regex_replace(input_data,'<author lang=\"en\">', '')  \n",
        "  tag_opening_documents = tf.strings.regex_replace(tag_author_lang_en_removed,'<documents>', '')\n",
        "  tag_opening_cdata_removed = tf.strings.regex_replace(tag_opening_documents,'<\\!\\[CDATA\\[', ' ')\n",
        "  tag_closing_cdata_removed = tf.strings.regex_replace(tag_opening_cdata_removed,'\\]\\]></document>', ' ></document>')\n",
        "  tag_closing_documents = tf.strings.regex_replace(tag_closing_cdata_removed,'</documents>', '')\n",
        "  output_data = tf.strings.regex_replace(tag_closing_documents,'</author>', '')\n",
        "  return output_data"
      ],
      "execution_count": 8,
      "outputs": []
    },
    {
      "cell_type": "markdown",
      "metadata": {
        "id": "TjUnE9_DEyCw"
      },
      "source": [
        "## Get the length of the longest sample in training set. Then adapt text.\n",
        "\n"
      ]
    },
    {
      "cell_type": "code",
      "metadata": {
        "id": "ebRMQqa_mr48"
      },
      "source": [
        "def preprocess_and_adapt_ts(training_set):\n",
        "  # Set a large sequence length to find the longest sample in the training set.\n",
        "  sequence_length = 30000\n",
        "  vectorize_layer = TextVectorization(\n",
        "      standardize=clean_samples,\n",
        "      output_mode='int',\n",
        "      output_sequence_length=sequence_length)\n",
        "\n",
        "  train_text = training_set.map(lambda x, y: x)\n",
        "  vectorize_layer.adapt(train_text)\n",
        "  #vectorize_layer.get_vocabulary()\n",
        "\n",
        "  model = tf.keras.models.Sequential()\n",
        "  model.add(tf.keras.Input(shape=(1,), dtype=tf.string))\n",
        "  model.add(vectorize_layer)\n",
        "\n",
        "  longest_sample_length=1\n",
        "\n",
        "  for element in training_set:\n",
        "    authorDocument=element[0]\n",
        "    label=element[1]\n",
        "    \n",
        "    #print(\"Sample considered is: \", authorDocument[0].numpy())\n",
        "    #print(\"Preprocessed: \", str(custom_standardization(authorDocument[0].numpy())))\n",
        "    #print(\"And has label: \", label[0].numpy())\n",
        "\n",
        "    out=model(authorDocument)\n",
        "    # Convert token list to numpy array.\n",
        "    token_list = out.numpy()[0]\n",
        "    token_list = np.trim_zeros(token_list,'b')\n",
        "    if longest_sample_length < len(token_list):\n",
        "      longest_sample_length = len(token_list)\n",
        "\n",
        "  print(\"Length of the longest sample is:\", longest_sample_length)\n",
        "\n",
        "  # After tokenization longest_sample_length covers all the document lenghts in our dataset.\n",
        "  sequence_length = longest_sample_length\n",
        "\n",
        "  vectorize_layer = TextVectorization(\n",
        "      standardize=clean_samples,\n",
        "      output_mode='int',\n",
        "      output_sequence_length=sequence_length)\n",
        "\n",
        "  # Finally adapt the vectorize layer.\n",
        "  train_text = training_set.map(lambda x, y: x)\n",
        "  vectorize_layer.adapt(train_text)\n",
        "  return vectorize_layer"
      ],
      "execution_count": 9,
      "outputs": []
    },
    {
      "cell_type": "markdown",
      "metadata": {
        "id": "x8zDXrk9eEy5"
      },
      "source": [
        "## Vectorization\n",
        "\n",
        "\n"
      ]
    },
    {
      "cell_type": "code",
      "metadata": {
        "colab": {
          "base_uri": "https://localhost:8080/"
        },
        "id": "P8owxNMIeFsX",
        "outputId": "37729945-94de-4516-c5ea-2934c6d8af54"
      },
      "source": [
        "print(\"\\n\\n* * * * VECTORIZATION STARTED * * * *\")\n",
        "\n",
        "# Preprocess training set to build a dictionary.\n",
        "vectorize_layer = preprocess_and_adapt_ts(train_ds)\n",
        "\n",
        "max_features=len(vectorize_layer.get_vocabulary()) + 1\n",
        "print(\"Vocabulary size is:\", max_features)"
      ],
      "execution_count": 10,
      "outputs": [
        {
          "output_type": "stream",
          "name": "stderr",
          "text": [
            "WARNING:tensorflow:From /usr/local/lib/python3.9/dist-packages/tensorflow/python/autograph/pyct/static_analysis/liveness.py:83: Analyzer.lamba_check (from tensorflow.python.autograph.pyct.static_analysis.liveness) is deprecated and will be removed after 2023-09-23.\n",
            "Instructions for updating:\n",
            "Lambda fuctions will be no more assumed to be used in the statement where they are used, or at least in the same block. https://github.com/tensorflow/tensorflow/issues/56089\n"
          ]
        },
        {
          "output_type": "stream",
          "name": "stdout",
          "text": [
            "\n",
            "\n",
            "* * * * VECTORIZATION STARTED * * * *\n",
            "Length of the longest sample is: 9803\n",
            "Vocabulary size is: 187017\n"
          ]
        }
      ]
    },
    {
      "cell_type": "markdown",
      "metadata": {
        "id": "XDEi7MAo4qsQ"
      },
      "source": [
        "## Models definition and evaluation.\n",
        "\n",
        "\n"
      ]
    },
    {
      "cell_type": "code",
      "metadata": {
        "colab": {
          "base_uri": "https://localhost:8080/"
        },
        "id": "Mm1fdCpETWL-",
        "outputId": "1df0c9b3-a1c8-419a-f0ab-2404b9637459"
      },
      "source": [
        "print(\"\\n\\n***** FINITO DI PROCESSARE E ADATTARE IL TRAINING SET, INIZIA LA SIMULAZIONE *******\")\n",
        "# Print a raw and a preprocessed sample.\n",
        "for element in train_ds:\n",
        "  authorDocument=element[0]\n",
        "  label=element[1]\n",
        "  \n",
        "  print(\"Sample considered is: \", authorDocument[0])\n",
        "  print(\"Preprocessed: \", str(clean_samples(authorDocument[0].numpy())))\n",
        "  break\n",
        "\n",
        "# # # - - - - - MODELS DEFINITION AND EVALUATION - - - - - # # #\n",
        "\n",
        "model = tf.keras.models.Sequential()\n",
        "model.add(tf.keras.Input(shape=(1,), dtype=tf.string))\n",
        "model.add(vectorize_layer)\n",
        "\n",
        "# # # # # # # # # # # # # # # # # # # # # # # # # # # # # # # # # # # \n",
        "\n",
        "# --- SVM SECTION START --- #\n",
        "\n",
        "training_labels=[]\n",
        "training_samples=[]\n",
        "\n",
        "max_features=len(vectorize_layer.get_vocabulary()) + 1\n",
        "\n",
        "for element in train_ds:\n",
        "  authorDocument=element[0]\n",
        "  label=element[1]\n",
        "  \n",
        "  #print(\"Sample considered is: \", authorDocument[0])\n",
        "  #print(\"Preprocessed: \", str(custom_standardization(authorDocument[0].numpy())))\n",
        "  #print(\"And has label: \", label[0].numpy())\n",
        "  \n",
        "  text_vect_layer_model = tf.keras.Model(inputs=model.input,\n",
        "                                      outputs=model.layers[0].output)\n",
        "  text_vect_out = text_vect_layer_model(authorDocument)\n",
        "\n",
        "  training_labels.append(label[0].numpy())\n",
        "  current_sample=np.zeros(max_features)\n",
        "  for current_token in text_vect_out[0][:].numpy():\n",
        "    #print(current_token,end=' ')\n",
        "    #print(vectorize_layer.get_vocabulary()[current_token])\n",
        "    current_sample[current_token]+=1\n",
        "  training_samples.append(current_sample)\n",
        "  #break\n",
        "\n",
        "training_labels=np.array(training_labels)\n",
        "training_samples=np.array(training_samples)\n",
        "#print(\"\\nLE LABELS DEI CAMPIONI DI TRAINING SONO:\")\n",
        "#print(training_labels)\n",
        "#print(\"\\nI SAMPLE DI TRAINING DOPO LA TEXT VECTORIZATION SONO:\")\n",
        "#print(training_samples)\n",
        "\n",
        "test_labels=[]\n",
        "test_samples=[]\n",
        "\n",
        "for element in test_ds:\n",
        "  authorDocument=element[0]\n",
        "  label=element[1]\n",
        "  \n",
        "  text_vect_layer_model = tf.keras.Model(inputs=model.input,\n",
        "                                      outputs=model.layers[0].output)\n",
        "  text_vect_out = text_vect_layer_model(authorDocument)\n",
        "\n",
        "  test_labels.append(label[0].numpy())\n",
        "  current_sample=np.zeros(max_features)\n",
        "  for current_token in text_vect_out[0][:].numpy():\n",
        "    current_sample[current_token]+=1\n",
        "  test_samples.append(current_sample)\n",
        "\n",
        "test_labels=np.array(test_labels)\n",
        "test_samples=np.array(test_samples)\n",
        "\n",
        "SVM = svm.SVC(C=0.5, kernel='linear', gamma='auto')\n",
        "SVM.fit(training_samples,training_labels)\n",
        "# predict the labels on training set\n",
        "#predictions_SVM = SVM.predict(training_samples)\n",
        "# Use accuracy_score function to get the accuracy\n",
        "result=SVM.score(training_samples,training_labels)\n",
        "print(\"SVM Accuracy Score on Training set -> \",result)\n",
        "\n",
        "# predict the labels on validation dataset\n",
        "predictions_SVM = SVM.predict(test_samples)\n",
        "# Use accuracy_score function to get the accuracy\n",
        "result=SVM.score(test_samples,test_labels)\n",
        "print(\"SVM Accuracy Score on Test set -> \",result)\n",
        "\n",
        "# --- SVM SECTION END --- #\n",
        "\n",
        "# # # # # # # # # # # # # # # # # # # # # # # # # # # # # # # # # # #\n",
        "\n",
        "# # # - - - - - MODEL DEFINITION AND EVALUATION END  - - - - - # # #"
      ],
      "execution_count": 11,
      "outputs": [
        {
          "output_type": "stream",
          "name": "stdout",
          "text": [
            "\n",
            "\n",
            "***** FINITO DI PROCESSARE E ADATTARE IL TRAINING SET, INIZIA LA SIMULAZIONE *******\n",
            "Sample considered is:  tf.Tensor(b'<author lang=\"en\">\\n\\t<documents>\\n\\t\\t<document><![CDATA[Pete Buttigieg\\xe2\\x80\\x99s Community Renewal Visas plan - Vox #URL#]]></document>\\n\\t\\t<document><![CDATA[#HASHTAG# #HASHTAG# MT #USER#: One of the saddest effects of govt spying on Muslims: #URL# #URL#]]></document>\\n\\t\\t<document><![CDATA[#USER# Not that I thought much of him before but now I can officially write him off. Just incredibly stupid.]]></document>\\n\\t\\t<document><![CDATA[#USER# #USER# #USER# It\\xe2\\x80\\x99s not just other Christians, plenty of conservative Catholics have decided that since he doesn\\xe2\\x80\\x99t agree with their worldview (and not just on COVID) he is basically not legitimate.]]></document>\\n\\t\\t<document><![CDATA[#USER# Baby steps but has anybody been fired before for not having body cams on?]]></document>\\n\\t\\t<document><![CDATA[Your Illinois Democrats everybody-all about the working people. #HASHTAG# RT #USER#: WTF cc:#USER# #URL#]]></document>\\n\\t\\t<document><![CDATA[Reminder if she said something pro-Palestine she\\xe2\\x80\\x99d be already gone. Penn Law\\xe2\\x80\\x99s Wax Says She Has \\xe2\\x80\\x98No Plans\\xe2\\x80\\x99 to Leave School #URL#]]></document>\\n\\t\\t<document><![CDATA[#USER# #USER# Pretty sure it\\xe2\\x80\\x99s an infant sling-any store with baby stuff will have it.]]></document>\\n\\t\\t<document><![CDATA[Great review by #USER#  of #USER#\\xe2\\x80\\x99s book. Games Economists Play #URL#]]></document>\\n\\t\\t<document><![CDATA[#USER# I mean I\\xe2\\x80\\x99d be sad if my backyard chickens got eaten too but wildlife, what are you going to do.]]></document>\\n\\t\\t<document><![CDATA[The Catholic Church evolves...#HASHTAG#  #URL#]]></document>\\n\\t\\t<document><![CDATA[What Everyone\\xe2\\x80\\x99s Getting Wrong About the Toilet Paper Shortage-it\\xe2\\x80\\x99s not the consumers  #URL#]]></document>\\n\\t\\t<document><![CDATA[#USER# Hopefully this is a learning moment.]]></document>\\n\\t\\t<document><![CDATA[Thread on automation. #URL#]]></document>\\n\\t\\t<document><![CDATA[Sign of progress that even Klobuchar and Buttigieg don\\xe2\\x80\\x99t see this as worth it. #URL#]]></document>\\n\\t\\t<document><![CDATA[Completely missing from this piece-funding the police is 100% local.\\nVoters Say Black Lives Matter Protests Were Important. They Disagree On Why. #URL# #URL#]]></document>\\n\\t\\t<document><![CDATA[Yep. GOP Lawmakers Watch Silently As Trump Strangles Each Of Their Loved Ones In Turn #URL#]]></document>\\n\\t\\t<document><![CDATA[Really important for the Biden to call BS on this. #URL#]]></document>\\n\\t\\t<document><![CDATA[Thread. If any of this was true why couldn\\xe2\\x80\\x99t her supervisors TELL her what tweets were problematic? Because they couldn\\xe2\\x80\\x99t when she asked. #URL#]]></document>\\n\\t\\t<document><![CDATA[Good morning #HASHTAG# #URL#]]></document>\\n\\t\\t<document><![CDATA[When your mother dies in a fire that could have been prevented by the landlord and he doesn\\xe2\\x80\\x99t even give you back her security deposit because her \\xe2\\x80\\x9cstuff\\xe2\\x80\\x9d is still there. \\xf0\\x9f\\x98\\x91 #URL#]]></document>\\n\\t\\t<document><![CDATA[Free speech #HASHTAG# MT #USER#: \"Any type of clothing w prejudicial or inflamm logos\" will not be allowed, per judges decorum order. #HASHTAG#]]></document>\\n\\t\\t<document><![CDATA[You like to think you\\xe2\\x80\\x99re not living in Georgia...\\xf0\\x9f\\x98\\x95 #URL#]]></document>\\n\\t\\t<document><![CDATA[#USER# Yeah I just go lucky, the only showing in the Midwest happened to be a few miles away, and my son really wanted to see it.]]></document>\\n\\t\\t<document><![CDATA[#USER# #USER# Nothing like a baptism by fire.]]></document>\\n\\t\\t<document><![CDATA[Just awful. #URL#]]></document>\\n\\t\\t<document><![CDATA[Fair &amp; balanced #HASHTAG# MT #USER#: NorPAC contributed $61k to Kirk in 2014 cycle &amp; is his 7th largest donor overall #URL#]]></document>\\n\\t\\t<document><![CDATA[Surprise! #HASHTAG# MT #USER#: Mayor raises 1000s from lawyers at firms that advise city in spite of \"rules\" #HASHTAG# #URL#]]></document>\\n\\t\\t<document><![CDATA[\\xe2\\x80\\x9cEverything will get challenged in the lower courts anyway. We\\xe2\\x80\\x99ll win at the Supreme Court.\\xe2\\x80\\x9d #URL#]]></document>\\n\\t\\t<document><![CDATA[#USER# #USER# #USER# #USER# Nothing in any of these books is the least bit controversial...\\xf0\\x9f\\xa4\\xb7\\xe2\\x80\\x8d\\xe2\\x99\\x80\\xef\\xb8\\x8f]]></document>\\n\\t\\t<document><![CDATA[Land of the free #HASHTAG# MT #USER#: No-fly list used by FBI to coerce Muslims into informing, lawsuit claims #URL#]]></document>\\n\\t\\t<document><![CDATA[#USER# #USER# This! I also think it sounds like she is at a breaking point and is ready to go, so fuck it.]]></document>\\n\\t\\t<document><![CDATA[#USER# #USER# It\\xe2\\x80\\x99s very frustrating that there is no leadership on this. #USER# has been doing some podcasts on the actual science of kids and COVID and it\\xe2\\x80\\x99s concerning how little the evidence supports the current lockdown.]]></document>\\n\\t\\t<document><![CDATA[#USER# Isn\\xe2\\x80\\x99t he just expressing an opinion to the backlash? I don\\xe2\\x80\\x99t see how that\\xe2\\x80\\x99s critical of the reporting; rightly or wrongly many people don\\xe2\\x80\\x99t agree with it.]]></document>\\n\\t\\t<document><![CDATA[Legit point here. #URL#]]></document>\\n\\t\\t<document><![CDATA[#USER# #USER# yep with \"Democrats\" like these who needs \"Democrats\". Is this what unions worked for in 2012? #HASHTAG#  #HASHTAG#]]></document>\\n\\t\\t<document><![CDATA[#USER# \\xe2\\x80\\x9cMaking private equity managers personally responsible for the debts of the companies they acquire probably would crush the sector.\\xe2\\x80\\x9d LOL #HASHTAG#]]></document>\\n\\t\\t<document><![CDATA[#USER# I do think the original Medicare for All bill did try to fix at least some of the Medicare design programs.]]></document>\\n\\t\\t<document><![CDATA[Epic is the worst. Epic CEO sends letter urging hospitals to oppose HHS data-sharing rule #URL#]]></document>\\n\\t\\t<document><![CDATA[#USER# Did you think giving him dex was an indicator he really got worse or just a kitchen sink approach?]]></document>\\n\\t\\t<document><![CDATA[This is so gross, and it says a lot about the people she works with that this is seen as acceptable. \\xf0\\x9f\\x98\\x95 Of Academic Hierarchies and Harassment | by Paula Chakravartty  #URL#]]></document>\\n\\t\\t<document><![CDATA[#USER# #USER# #USER# #USER# #USER# #USER# I think it could come to that, but I am kind of in the camp that says maybe you could wait on that fight.]]></document>\\n\\t\\t<document><![CDATA[Shameful. #URL#]]></document>\\n\\t\\t<document><![CDATA[#USER# It has a lot of rules though. You can do private if you regulate the hell out of it but people don\\xe2\\x80\\x99t want to do that either.]]></document>\\n\\t\\t<document><![CDATA[#USER# Ugh. In Chicago the GS council has canceled everything, including cookie booths.]]></document>\\n\\t\\t<document><![CDATA[#USER# Right??!!!\\nThat man RAN for 2 hours...I\\xe2\\x80\\x99ve done a marathon I can\\xe2\\x80\\x99t even imagine...]]></document>\\n\\t\\t<document><![CDATA[#USER# If people #HASHTAG# could spend their time discussing distribution schemes instead of parsing the vaccine data 20 million ways just to prove their particular point...]]></document>\\n\\t\\t<document><![CDATA[Surprise! #HASHTAG# MT #USER#: Obama\\'s dirty war in Yemen is causing...more violence! AQ kills nearly 30 soldiers. #URL#]]></document>\\n\\t\\t<document><![CDATA[Because it\\xe2\\x80\\x99s is unlikely you will ever find the *right* answer in the literature\\xe2\\x80\\xa6the best approach for a patient will have a specific context that may or may not be represented in the lit\\xe2\\x80\\xa6which doesn\\xe2\\x80\\x99t man the lit doesn\\xe2\\x80\\x99t matter just recognize it\\xe2\\x80\\x99s limitations.]]></document>\\n\\t\\t<document><![CDATA[Geez Eddie Van Halen RIP. I feel like a part of my childhood just died.]]></document>\\n\\t\\t<document><![CDATA[#USER# #USER# My grandfather was at Pointe Du Hoc. I visited there on the 50th anniversary in  1994-amazing experience.]]></document>\\n\\t\\t<document><![CDATA[#USER# lol just another herd immunity argument]]></document>\\n\\t\\t<document><![CDATA[#USER# Right???\\nSome people say we live in the dumbest timeline, others say we\\xe2\\x80\\x99ve always been here...]]></document>\\n\\t\\t<document><![CDATA[How Peak TV Prepared All of Us for the Impeachment Hearings - POLITICO\\nRatings were 4x the regular programming. #URL#]]></document>\\n\\t\\t<document><![CDATA[#USER# all politicians have that gap to some degree but I just feel he\\'s at a level all his own #HASHTAG# #HASHTAG#]]></document>\\n\\t\\t<document><![CDATA[#USER# #USER# #USER# I think this relates to the broader question of how racism operates in health delivery specifically?]]></document>\\n\\t\\t<document><![CDATA[Hi to everybody who tells me Republican think tanks who think we all should starve TOTALLY deserve PPP. #URL#]]></document>\\n\\t\\t<document><![CDATA[\\xe2\\x80\\x9dMost of the idiocies at the core of Trump\\xe2\\x80\\x99s being were created in the same way that pearls are\\xe2\\x80\\x94an irritant lodges itself in the spongy matter of his mind years ago...and then is worried into something bright and very hard.\\xe2\\x80\\x9d   \\n#URL#]]></document>\\n\\t\\t<document><![CDATA[#USER# Got to have your own #URL#]]></document>\\n\\t\\t<document><![CDATA[The rise of the far-right in Sweden didn\\xe2\\x80\\x99t \\xe2\\x80\\x9cjust happen\\xe2\\x80\\x9d it had some help. #URL#]]></document>\\n\\t\\t<document><![CDATA[#USER# Serious question, do we know his parents didn\\xe2\\x80\\x99t want him to shoot? Also, while they are much smaller offenses and punishments many school districts do hold parents accountable for their kid\\xe2\\x80\\x99s actions-didn\\xe2\\x80\\x99t Harris when she was DA actually criminally charge parents for truancy?]]></document>\\n\\t\\t<document><![CDATA[#USER# Nope.]]></document>\\n\\t\\t<document><![CDATA[#USER# Thought it looked familiar was just there a few weeks ago #URL#]]></document>\\n\\t\\t<document><![CDATA[#USER# My understanding from epidemiologists is that\\xe2\\x80\\x99s exactly it-the variant strains have added a question mark to everything.]]></document>\\n\\t\\t<document><![CDATA[It\\xe2\\x80\\x99s a narrative that Gen X didn\\xe2\\x80\\x99t do anything but this was organized in the pre-smart phone (cell phones were not even common) and really pre-internet era (yes there was internet but it was nothing compared to today)]]></document>\\n\\t\\t<document><![CDATA[#USER# \"The Feminist Majority has similarly backed the escalation of the Afghan War, in the name of women\\xe2\\x80\\x99s rights.\" #HASHTAG# #HASHTAG#]]></document>\\n\\t\\t<document><![CDATA[#USER# You saw this right? Same economic pain and more deaths #URL#]]></document>\\n\\t\\t<document><![CDATA[Surprise #HASHTAG# MT #USER#: If #USER# opts to impose any discipline on cops involved in the mistaken ID shooting, exp to be minimal]]></document>\\n\\t\\t<document><![CDATA[Methadone, Buprenorphine Not Used Enough in Opioid Recovery #URL#]]></document>\\n\\t\\t<document><![CDATA[Honest to god why??? #URL#]]></document>\\n\\t\\t<document><![CDATA[This is heart-breaking \\xf0\\x9f\\x98\\xa2\\nAs his Alzheimer\\xe2\\x80\\x99s looms, Charles and Pam Ogletree take one last walk in love -\\xe2\\x80\\x9c #URL#]]></document>\\n\\t\\t<document><![CDATA[\\xf0\\x9f\\xa4\\x94\\nAfter years of skirting the question, Brexit is forcing politicians to finally ask: what would a united Ireland look like? #URL#]]></document>\\n\\t\\t<document><![CDATA[Kill patents #URL#]]></document>\\n\\t\\t<document><![CDATA[#USER# If you cook rice regularly-I make it weekly-it\\xe2\\x80\\x99s great. Set it and forget it.]]></document>\\n\\t\\t<document><![CDATA[#USER# oh-there are differences among brown people? Are you going to tell me next they are not all Muslim or terrorists? #HASHTAG#]]></document>\\n\\t\\t<document><![CDATA[#USER# #USER# Because Biden has become invisible? Because every dumb ass Trump briefing is not followed up by a Democrat briefing pointing out how screwed up things are?]]></document>\\n\\t\\t<document><![CDATA[\\xf0\\x9f\\xa4\\xac\\xf0\\x9f\\xa4\\xac\\xf0\\x9f\\xa4\\xac\\nSenator Dumped Up to $1.6 Million of Stock After Reassuring Public About Coronavirus Preparedness \\xe2\\x80\\x94 ProPublica #URL#]]></document>\\n\\t\\t<document><![CDATA[#USER# There is a ton of information out there every state had to write up a plan-granted some were more detailed then others. Over 2 million shots have been given...I just can\\xe2\\x80\\x99t with these people just give it to whoever wants it.]]></document>\\n\\t\\t<document><![CDATA[For the record #USER#        Barry Goldwater was my favorite HS history teacher\\xe2\\x80\\x99s favorite politician. I had to memorize those famous lines from the \\xe2\\x80\\x9864 convention for an exam. An Irish conservative (!) who was a fan of Goldwater for the same reasons Didion did.]]></document>\\n\\t\\t<document><![CDATA[#USER# Like nearly every economist but the absolute far right ones are past this but somehow it\\xe2\\x80\\x99s a talking in this debate \\xf0\\x9f\\x98\\x91]]></document>\\n\\t\\t<document><![CDATA[Oh I guess Kentucky doesn\\xe2\\x80\\x99t need any money? #URL#]]></document>\\n\\t\\t<document><![CDATA[This is so sharp. #URL#]]></document>\\n\\t\\t<document><![CDATA[It will be impossible to *open* in any significant way until this problem is solved. Months Into Virus Crisis, U.S. Cities Still Lack Testing Capacity #URL#]]></document>\\n\\t\\t<document><![CDATA[#USER# So frustrated with everybody insisting this is a mistake. It\\xe2\\x80\\x99s pretty obviously an adverse effect of the vaccine, I think not to be clear about it would be damaging.]]></document>\\n\\t\\t<document><![CDATA[#USER# Some time ago there was a place in Chicago where this was a thing. Technically she was not nude-I think she was strategically covered-but you ate the sushi off her body.]]></document>\\n\\t\\t<document><![CDATA[Officer was lying.  Surprise! #HASHTAG# MT #USER#: Recording in police shooting suddenly found by #HASHTAG# city lawyers. #URL#]]></document>\\n\\t\\t<document><![CDATA[He added: \\xe2\\x80\\x9cWhether we like it or not, like I say I\\xe2\\x80\\x99ve been Labour all my life, we\\xe2\\x80\\x99ve got to have the rich people, that\\xe2\\x80\\x99s where we get our money from.\\xe2\\x80\\x9d 82 y/o (former) Labour voter. \\xf0\\x9f\\x98\\x95]]></document>\\n\\t\\t<document><![CDATA[#HASHTAG# #HASHTAG# MT #USER#: Amazingly, WV was lying its ass off abt keeping its prisoners free of contamin water #URL#]]></document>\\n\\t\\t<document><![CDATA[#USER# I know you\\xe2\\x80\\x99ve heard this but enjoy it the time goes so fast! I know he seems like a ton of work now but just wait until he can move himself...]]></document>\\n\\t\\t<document><![CDATA[These complaints \\xf0\\x9f\\x91\\x80\\nIt should be pointed out the mainstreaming of meatless meat is a direct threat to Whole Foods which doesn\\xe2\\x80\\x99t offer many unique products anymore. #URL#]]></document>\\n\\t\\t<document><![CDATA[#USER# #USER# #USER# The ACA was big but they could have gone for so much more.]]></document>\\n\\t\\t<document><![CDATA[Stephen Miller really is evil. #URL#]]></document>\\n\\t\\t<document><![CDATA[#USER# Am extremely excited to pay $ to actually read all of this in a coherent narrative. \\xf0\\x9f\\x98\\x8d]]></document>\\n\\t\\t<document><![CDATA[Meet the new boss same as the old boss. \\xf0\\x9f\\x98\\x95 #URL#]]></document>\\n\\t\\t<document><![CDATA[Reverse Trump\\'s Western Sahara Giveaway | The American Conservative #URL#]]></document>\\n\\t\\t<document><![CDATA[\\xe2\\x80\\x9cAt least former presidents were half human\\xe2\\x80\\x9d #USER# #USER#]]></document>\\n\\t\\t<document><![CDATA[#USER# These guys...does anybody care how ANY Republican lawmaker is voting?]]></document>\\n\\t\\t<document><![CDATA[#USER# I know this is a real issue but I need it explained to me.]]></document>\\n\\t\\t<document><![CDATA[#USER# #USER# Got to say as someone whose been in labor 3 times...certainly would have given this a shot if it was offered.]]></document>\\n\\t\\t<document><![CDATA[#USER# \"could even enlarge the influence of the military, the police &amp; judicary, which worked to overthrow Mr. Morsi\" surprise! #HASHTAG#]]></document>\\n\\t\\t<document><![CDATA[#USER# #USER# Yes anybody who\\xe2\\x80\\x99s traveled to Asia pre-COVID has seen this, nobody thinks it\\xe2\\x80\\x99s odd there.]]></document>\\n\\t\\t<document><![CDATA[Thread. There are John Lewises in our presence right now that need our support. #URL#]]></document>\\n\\t\\t<document><![CDATA[\\xe2\\x80\\x9cThe owners are a set of geriatric fail children who are also poster children for a 100% inheritance tax.\\xe2\\x80\\x9d #URL#]]></document>\\n\\t\\t<document><![CDATA[#USER# Yes that\\xe2\\x80\\x99s why the homemade is so good-you can make it almost cream-like if you want, although it will never be a smooth as cashew milk, or so they say.]]></document>\\n\\t\\t<document><![CDATA[#USER# Everything is good roasted and they are good for pickling]]></document>\\n\\t\\t<document><![CDATA[Gee what a surprise #HASHTAG# RT #USER#: Whites greatly overestimate the share of crimes committed by black people #URL#]]></document>\\n\\t\\t<document><![CDATA[I cannot imagine the level of testing suggested here will happen. I just can\\xe2\\x80\\x99t see it. #URL#]]></document>\\n\\t\\t<document><![CDATA[#USER# Funny to me that some Q followers are quicker to grasp reality then some elected officials.]]></document>\\n\\t\\t<document><![CDATA[Thread. I believe some of these people live in *red* states. #URL#]]></document>\\n\\t\\t<document><![CDATA[Illinois has cut higher ed funding over 50% since 2008 \\xf0\\x9f\\x98\\x95\\n#URL#]]></document>\\n\\t\\t<document><![CDATA[#USER# As a Chicagoan, I absolve you my son.]]></document>\\n\\t\\t<document><![CDATA[#USER# #USER# Is there any precedent for getting a vaccine to the world as fast as possible?]]></document>\\n\\t\\t<document><![CDATA[#USER# Would love to be in Taiwan right now, frankly.]]></document>\\n\\t\\t<document><![CDATA[#USER# Everybody insisting Trump will be a force for years is seriously overestimating his appeal when he\\xe2\\x80\\x99s not president and is officially a loser.]]></document>\\n\\t\\t<document><![CDATA[Oh this will end well. #HASHTAG# RT #USER#: Military-Style Tech Finds Way Into School District Safety Measures #URL#]]></document>\\n\\t\\t<document><![CDATA[#USER# Isn\\xe2\\x80\\x99t the current ambassador a former Iowa governor?]]></document>\\n\\t\\t<document><![CDATA[#USER# Man did you just take these? I drove back from Hyde Park 7ish and the beaches were BUSY]]></document>\\n\\t\\t<document><![CDATA[Holy sh*t this man ran 26 miles at an under 5 mile pace \\xf0\\x9f\\x98\\xb6 #URL#]]></document>\\n\\t\\t<document><![CDATA[Because if they did...the establishment would have to admit they are, in essence employees who should be paid... #URL#]]></document>\\n\\t\\t<document><![CDATA[#USER# I never knew how often men got their hair cut!]]></document>\\n\\t\\t<document><![CDATA[#USER# Agree the market for law graduates has been really bad for awhile.]]></document>\\n\\t\\t<document><![CDATA[Tell me more about the video games though. #URL#]]></document>\\n\\t\\t<document><![CDATA[#USER# #USER# No question she was there\\xe2\\x80\\xa6I can\\xe2\\x80\\x99t comment on the Pakistan parts but the corruption is well documented by #USER# people just ignored it.]]></document>\\n\\t\\t<document><![CDATA[THIS IS WHY YOU GIVE MONEY TO PEOPLE #URL#]]></document>\\n\\t\\t<document><![CDATA[#USER# You are right-but unfortunately there\\xe2\\x80\\x99s a group of Dem senators that apparently either don\\xe2\\x80\\x99t care or don\\xe2\\x80\\x99t see their own success linked to the party\\xe2\\x80\\x99s and Dem leadership will not bully them. (Which may or may not work but it\\xe2\\x80\\x99s clear it\\xe2\\x80\\x99s not being tried.)]]></document>\\n\\t\\t<document><![CDATA[It\\xe2\\x80\\x99s true that the Battle of Seattle did not the kind of sustainability to enact real change but I always felt it was closely linked to the World Social forum which did have a wide-ranging impact #URL# #URL#]]></document>\\n\\t\\t<document><![CDATA[#USER# #USER# #USER# #USER# \\xf0\\x9f\\x91\\x80\\nReally the testing strategy only works if you test EVERYBODY. My son is at U of Illinois and he had to report early to campus this year to get the testing in prior to the actual start of the semester. It\\xe2\\x80\\x99s gone pretty smoothly there as far as I can tell.]]></document>\\n\\t\\t<document><![CDATA[#USER# #USER# Oh god I was trying to think of why he looked...odd...this is it!]]></document>\\n\\t\\t<document><![CDATA[#USER# If a person really thinks like that-they can\\xe2\\x80\\x99t just flip on a dime because the politics don\\xe2\\x80\\x99t work that way.]]></document>\\n\\t\\t<document><![CDATA[#USER# 30 priests in MN supposedly, but it\\'s ok it\\'s ALL OVER #HASHTAG#]]></document>\\n\\t\\t<document><![CDATA[#USER# She is setting herself up for a sweet post-senate gig, absolutely it\\xe2\\x80\\x99s a choice.]]></document>\\n\\t\\t<document><![CDATA[#USER# Cuz they are libertarian assholes who think people should suffer?]]></document>\\n\\t\\t<document><![CDATA[#USER# Mmm most adductor muscles (muscles of the inner thigh which attach up at the groin) cross the knee, it sounds like you did a number on one of them.]]></document>\\n\\t\\t<document><![CDATA[Last quotes from here-the Democrats want to cut the safety net too-but not as much so it\\'s ok? #HASHTAG# #USER#: #URL#]]></document>\\n\\t\\t<document><![CDATA[Politicians blowing hot air. #HASHTAG# #HASHTAG#  #URL#]]></document>\\n\\t\\t<document><![CDATA[\\xe2\\x80\\x9cWell rather than keep going, I\\xe2\\x80\\x99d like you to experience this in the fourth dimension.\\xe2\\x80\\x9d\\nAmazing. The Oral History of Prince\\xe2\\x80\\x99s Super Bowl XLI Halftime Show - The Ringer #URL#]]></document>\\n\\t\\t<document><![CDATA[#USER# \\xe2\\x80\\x9cWhen IBM abandoned lifetime employment in the 1990s, local officials asked gun-shop owners around its headquarters to close their stores while employees absorbed the shock.\\xe2\\x80\\x9d \\xf0\\x9f\\x98\\xb3]]></document>\\n\\t\\t<document><![CDATA[#USER# #USER# Excellent piece written prior to the election on what was happening in the North to Labour #URL#]]></document>\\n\\t\\t<document><![CDATA[#USER# didn\\'t you know if you\\'re not FOR American Foreign you\\'re a terrorist! #HASHTAG# #HASHTAG#]]></document>\\n\\t\\t<document><![CDATA[End of the fall season party for #USER# \\nRick, one of our fearless leaders is preparing for the pie throwing #URL#]]></document>\\n\\t\\t<document><![CDATA[#USER# #USER# Not just baby yoda-my homemade Christmas cookie baby yoda!]]></document>\\n\\t\\t<document><![CDATA[#USER# People...really think this? Like it\\xe2\\x80\\x99s beautiful but you can tell from a mile away it\\xe2\\x80\\x99s hot and heavy as hell.]]></document>\\n\\t\\t<document><![CDATA[Thread. It\\xe2\\x80\\x99s unfortunate that so little of the history of activism is documented in a useful kind of way. #URL#]]></document>\\n\\t\\t<document><![CDATA[\\xf0\\x9f\\x99\\x8c Condado Tacos Faces Backlash as Workers Walk Out Over Police Taco Order  #URL#]]></document>\\n\\t\\t<document><![CDATA[This woman cannot be gone soon enough \\xf0\\x9f\\x98\\xa1\\nWork requirements limit access full stop. #URL#]]></document>\\n\\t\\t<document><![CDATA[America! #HASHTAG# MT #USER#: 8 ppl Rs chose to talk abt  #HASHTAG#. White men. 5/8 from the South. Avg age 60. #URL#]]></document>\\n\\t\\t<document><![CDATA[#USER# \\xe2\\x80\\x9cTurned off by Biden\\xe2\\x80\\x99s approach\\xe2\\x80\\x9d lol because he asked for it \\xf0\\x9f\\x99\\x83]]></document>\\n\\t\\t<document><![CDATA[#USER# Sounds like everybody\\xe2\\x80\\x99s verdict...the more things change the more they stay the same.]]></document>\\n\\t\\t<document><![CDATA[#USER# There was a whole piece in the Atlantic about exactly this-in particularly how there is no appetite in the conservative press for books on him. Nobody cares!]]></document>\\n\\t\\t<document><![CDATA[\\xe2\\x80\\x9cA middle class must, by definition, have middling people in it.\\xe2\\x80\\x9d #URL#]]></document>\\n\\t\\t<document><![CDATA[This thread\\xe2\\x80\\xa6I truly believe the average Democrat gets it, but the leadership is just the worst. #URL#]]></document>\\n\\t\\t<document><![CDATA[Really seems like a politician who claims kids weren\\xe2\\x80\\x99t murdered, who obviously were, should be a bright line.]]></document>\\n\\t\\t<document><![CDATA[China will not blink and as a result nobody else will either \\xf0\\x9f\\x98\\x95 #URL#]]></document>\\n\\t\\t<document><![CDATA[#USER# I\\xe2\\x80\\x99m willing to entertain the idea they\\xe2\\x80\\x99d have different approaches to actually governing...but we\\xe2\\x80\\x99d be so far into unknown territory at that point nobody can really claim with any certainty who would be more effective.]]></document>\\n\\t\\t<document><![CDATA[#USER# I actually think she\\xe2\\x80\\x99s the best possible pick. Biden is not going to embrace anything radical and she\\xe2\\x80\\x99s pretty firmly pro-stimulus. I would like them to get some young blood in there but this is one spot experience really matters.]]></document>\\n\\t\\t<document><![CDATA[#USER# I mean they could have started a week after the inauguration who thinks they are rushing \\xf0\\x9f\\x99\\x84]]></document>\\n\\t\\t<document><![CDATA[Gee what a surprise...#HASHTAG# RT #USER#: 3 out of 4 talking heads on #HASHTAG# discussing \"race in America\" are white men.]]></document>\\n\\t\\t<document><![CDATA[#HASHTAG# #HASHTAG# RT #USER#: Renting Judges for Secret Rulings #URL#]]></document>\\n\\t\\t<document><![CDATA[#USER# Can you sue? There are supposed to rules about tenure-did a committee vote you down or did administration overrule?]]></document>\\n\\t\\t<document><![CDATA[#HASHTAG# #HASHTAG# RT #USER#: How House Democrats Are Caving On Key Mortgage Rules #URL#]]></document>\\n\\t\\t<document><![CDATA[#USER# Bad but people seemed to think Sherman would have been worse so there\\xe2\\x80\\x99s that.]]></document>\\n\\t\\t<document><![CDATA[#USER# It\\xe2\\x80\\x99s amazing! Like even if you feel that way, have the common sense to know it is not something to share, it\\xe2\\x80\\x99s not helpful.]]></document>\\n\\t\\t<document><![CDATA[When people are just restating the obvious sooo many ways but you feel like you can\\xe2\\x80\\x99t leave the Zoom meeting just in case something important comes up...]]></document>\\n\\t\\t<document><![CDATA[#USER# Also it goes without saying he and his circle ragged on Obama for golfing during considerably less deadly pandemics.]]></document>\\n\\t\\t<document><![CDATA[Why yes I\\xe2\\x80\\x99m still in pajamas and I am about to commence stress eating.]]></document>\\n\\t\\t<document><![CDATA[#USER# Really can\\xe2\\x80\\x99t believe a relatively cheap campaign in WV couldn\\xe2\\x80\\x99t be put together quickly.]]></document>\\n\\t\\t<document><![CDATA[#USER# well the shooting wasn\\'t about gay people right? #HASHTAG#]]></document>\\n\\t\\t<document><![CDATA[\\xe2\\x80\\x9cBut there are still rules\\xe2\\x80\\x9d \\xf0\\x9f\\x91\\x80\\nOnly if someone in power will enforce them. #URL#]]></document>\\n\\t\\t<document><![CDATA[#USER# It\\xe2\\x80\\x99s from the World Socialist which is not really reliable but they are quoting the NYT interview...]]></document>\\n\\t\\t<document><![CDATA[#USER# \\xe2\\x80\\x9croll of the dice\\xe2\\x80\\x9d geez]]></document>\\n\\t\\t<document><![CDATA[#USER# Honest to god your followers are something else. My memory is that you were the first person to put it out there-and people acted like you had suggested killing somebody.]]></document>\\n\\t\\t<document><![CDATA[#USER# #USER# You can make one that will be effective]]></document>\\n\\t\\t<document><![CDATA[\\xe2\\x80\\x9cEfforts by Governor Walz to raise reimbursement rates have stalled in the state\\xe2\\x80\\x99s politically divided legislature, as has his push to use more of the $1.2 billion in unspent Recovery Act funds on bonuses and raises for nursing aides.\\xe2\\x80\\x9d \\xf0\\x9f\\xa4\\xac]]></document>\\n\\t\\t<document><![CDATA[\\xe2\\x80\\x9cEmily Murphy, administrator of the General Services Administration, has yet to declare when Biden\\'s official transition begins.\\xe2\\x80\\x9d Is this going to be a problem? #URL#]]></document>\\n\\t\\t<document><![CDATA[#USER# The foreign policy elites don\\xe2\\x80\\x99t talk about ice cream now do they???]]></document>\\n\\t\\t<document><![CDATA[#USER# #USER# Depends-a lot of people like the executive power that comes with it-which could be considered more work-but that is why it\\xe2\\x80\\x99s a more logical jumping off point for higher office.]]></document>\\n\\t\\t<document><![CDATA[\\xe2\\x80\\x9cI don\\xe2\\x80\\x99t want any of these candidates acting like they\\xe2\\x80\\x99re gung ho for Medicare for All before morphing back into a Dick Durbin action figure.\\xe2\\x80\\x9d  #URL#]]></document>\\n\\t\\t<document><![CDATA[#USER# Limits on outdoor gatherings but not indoor ones??? \\xf0\\x9f\\x99\\x84]]></document>\\n\\t\\t<document><![CDATA[THIS is the way to get black millennials to the polls. #HASHTAG# #URL#]]></document>\\n\\t\\t<document><![CDATA[But \"education\" will fix! #HASHTAG# RT #USER#: More than 3 dozen CPS scls have homeless populations over 20%. n#URL#]]></document>\\n\\t\\t<document><![CDATA[I can\\xe2\\x80\\x99t retweet Joe Walsh on principle...but this would be a chance for Biden or ANYBODY in the Democratic Party to take a stand here.]]></document>\\n\\t\\t<document><![CDATA[#HASHTAG# #HASHTAG# MT #USER#: US humanitarianism curious. Lots of chatter about humanitarianism, but only 31 Syrian refugees taken in.]]></document>\\n\\t\\t<document><![CDATA[I mean very few cases merit 20 years but the rape of a 9 y/o maybe needs more than one?]]></document>\\n\\t\\t<document><![CDATA[Just infuriating. Maybe instead of free tuition we could say no interest??? #URL#]]></document>\\n\\t\\t<document><![CDATA[Ugh #USER# you suck. #URL#]]></document>\\n\\t\\t<document><![CDATA[#USER# THIS.  My family is in good shape, and I have more money saved than I ever have before. But just one thing goes wrong and it\\xe2\\x80\\x99s all gone.]]></document>\\n\\t\\t<document><![CDATA[#USER# #USER# Years ago this was something that really pushed my thinking, it\\xe2\\x80\\x99s awful for them.]]></document>\\n\\t\\t<document><![CDATA[#USER# Yes everybody was fine, miraculously.]]></document>\\n\\t\\t<document><![CDATA[#USER# \\xf0\\x9f\\x91\\x80\\nGot some manchego sitting in the fridge...]]></document>\\n\\t\\t<document><![CDATA[#USER# Basic rule is lift the heavy thing until you can\\xe2\\x80\\x99t lift it anymore.]]></document>\\n\\t\\t<document><![CDATA[#USER# FOR THE LOVE OF GOD JUST TAX SOMETHING ALREADY]]></document>\\n\\t\\t<document><![CDATA[#USER# I, on the other hand, an extremely online mom, have decided to ignore it..although that\\xe2\\x80\\x99s kind of impossible now so yes it seems like it\\xe2\\x80\\x99s sticking.]]></document>\\n\\t\\t<document><![CDATA[#USER# There is no bottom. There never was, but I still find it hard to take in.]]></document>\\n\\t\\t<document><![CDATA[This is a key point-the right doesn\\xe2\\x80\\x99t want to just \\xe2\\x80\\x9cwin\\xe2\\x80\\x9d on broad policy points, it wants to utterly destroy the opposition. #URL#]]></document>\\n\\t\\t<document><![CDATA[#USER# #USER# Isn\\xe2\\x80\\x99t part of the issue that even among the urban black middle-lower class population there is a some ambivalence about the police-that there are significant parts of this population that see them as necessary in spite of the obvious problems?]]></document>\\n\\t\\t<document><![CDATA[#USER# There is no reason to eat Reese\\xe2\\x80\\x99s Pieces when peanut butter M &amp; Ms are available.]]></document>\\n\\t\\t<document><![CDATA[#USER# Wasn\\xe2\\x80\\x99t this the same guy bribing people to mess with Iran?]]></document>\\n\\t\\t<document><![CDATA[#USER# Really I had no idea how many reporters followed Congressional baseball until today \\xf0\\x9f\\x98\\x82]]></document>\\n\\t\\t<document><![CDATA[\\xe2\\x80\\x9cMany of those we spoke to said they saw Corbyn as a bigger stumbling block than the party\\xe2\\x80\\x99s policy on the EU.\\xe2\\x80\\x9d]]></document>\\n\\t\\t<document><![CDATA[#USER# Where are these people working? Cause Homer Glen is far...]]></document>\\n\\t</documents>\\n</author>', shape=(), dtype=string)\n",
            "Preprocessed:  tf.Tensor(b'\\n\\t\\n\\t\\t<document> Pete Buttigieg\\xe2\\x80\\x99s Community Renewal Visas plan - Vox #URL# ></document>\\n\\t\\t<document> #HASHTAG# #HASHTAG# MT #USER#: One of the saddest effects of govt spying on Muslims: #URL# #URL# ></document>\\n\\t\\t<document> #USER# Not that I thought much of him before but now I can officially write him off. Just incredibly stupid. ></document>\\n\\t\\t<document> #USER# #USER# #USER# It\\xe2\\x80\\x99s not just other Christians, plenty of conservative Catholics have decided that since he doesn\\xe2\\x80\\x99t agree with their worldview (and not just on COVID) he is basically not legitimate. ></document>\\n\\t\\t<document> #USER# Baby steps but has anybody been fired before for not having body cams on? ></document>\\n\\t\\t<document> Your Illinois Democrats everybody-all about the working people. #HASHTAG# RT #USER#: WTF cc:#USER# #URL# ></document>\\n\\t\\t<document> Reminder if she said something pro-Palestine she\\xe2\\x80\\x99d be already gone. Penn Law\\xe2\\x80\\x99s Wax Says She Has \\xe2\\x80\\x98No Plans\\xe2\\x80\\x99 to Leave School #URL# ></document>\\n\\t\\t<document> #USER# #USER# Pretty sure it\\xe2\\x80\\x99s an infant sling-any store with baby stuff will have it. ></document>\\n\\t\\t<document> Great review by #USER#  of #USER#\\xe2\\x80\\x99s book. Games Economists Play #URL# ></document>\\n\\t\\t<document> #USER# I mean I\\xe2\\x80\\x99d be sad if my backyard chickens got eaten too but wildlife, what are you going to do. ></document>\\n\\t\\t<document> The Catholic Church evolves...#HASHTAG#  #URL# ></document>\\n\\t\\t<document> What Everyone\\xe2\\x80\\x99s Getting Wrong About the Toilet Paper Shortage-it\\xe2\\x80\\x99s not the consumers  #URL# ></document>\\n\\t\\t<document> #USER# Hopefully this is a learning moment. ></document>\\n\\t\\t<document> Thread on automation. #URL# ></document>\\n\\t\\t<document> Sign of progress that even Klobuchar and Buttigieg don\\xe2\\x80\\x99t see this as worth it. #URL# ></document>\\n\\t\\t<document> Completely missing from this piece-funding the police is 100% local.\\nVoters Say Black Lives Matter Protests Were Important. They Disagree On Why. #URL# #URL# ></document>\\n\\t\\t<document> Yep. GOP Lawmakers Watch Silently As Trump Strangles Each Of Their Loved Ones In Turn #URL# ></document>\\n\\t\\t<document> Really important for the Biden to call BS on this. #URL# ></document>\\n\\t\\t<document> Thread. If any of this was true why couldn\\xe2\\x80\\x99t her supervisors TELL her what tweets were problematic? Because they couldn\\xe2\\x80\\x99t when she asked. #URL# ></document>\\n\\t\\t<document> Good morning #HASHTAG# #URL# ></document>\\n\\t\\t<document> When your mother dies in a fire that could have been prevented by the landlord and he doesn\\xe2\\x80\\x99t even give you back her security deposit because her \\xe2\\x80\\x9cstuff\\xe2\\x80\\x9d is still there. \\xf0\\x9f\\x98\\x91 #URL# ></document>\\n\\t\\t<document> Free speech #HASHTAG# MT #USER#: \"Any type of clothing w prejudicial or inflamm logos\" will not be allowed, per judges decorum order. #HASHTAG# ></document>\\n\\t\\t<document> You like to think you\\xe2\\x80\\x99re not living in Georgia...\\xf0\\x9f\\x98\\x95 #URL# ></document>\\n\\t\\t<document> #USER# Yeah I just go lucky, the only showing in the Midwest happened to be a few miles away, and my son really wanted to see it. ></document>\\n\\t\\t<document> #USER# #USER# Nothing like a baptism by fire. ></document>\\n\\t\\t<document> Just awful. #URL# ></document>\\n\\t\\t<document> Fair &amp; balanced #HASHTAG# MT #USER#: NorPAC contributed $61k to Kirk in 2014 cycle &amp; is his 7th largest donor overall #URL# ></document>\\n\\t\\t<document> Surprise! #HASHTAG# MT #USER#: Mayor raises 1000s from lawyers at firms that advise city in spite of \"rules\" #HASHTAG# #URL# ></document>\\n\\t\\t<document> \\xe2\\x80\\x9cEverything will get challenged in the lower courts anyway. We\\xe2\\x80\\x99ll win at the Supreme Court.\\xe2\\x80\\x9d #URL# ></document>\\n\\t\\t<document> #USER# #USER# #USER# #USER# Nothing in any of these books is the least bit controversial...\\xf0\\x9f\\xa4\\xb7\\xe2\\x80\\x8d\\xe2\\x99\\x80\\xef\\xb8\\x8f ></document>\\n\\t\\t<document> Land of the free #HASHTAG# MT #USER#: No-fly list used by FBI to coerce Muslims into informing, lawsuit claims #URL# ></document>\\n\\t\\t<document> #USER# #USER# This! I also think it sounds like she is at a breaking point and is ready to go, so fuck it. ></document>\\n\\t\\t<document> #USER# #USER# It\\xe2\\x80\\x99s very frustrating that there is no leadership on this. #USER# has been doing some podcasts on the actual science of kids and COVID and it\\xe2\\x80\\x99s concerning how little the evidence supports the current lockdown. ></document>\\n\\t\\t<document> #USER# Isn\\xe2\\x80\\x99t he just expressing an opinion to the backlash? I don\\xe2\\x80\\x99t see how that\\xe2\\x80\\x99s critical of the reporting; rightly or wrongly many people don\\xe2\\x80\\x99t agree with it. ></document>\\n\\t\\t<document> Legit point here. #URL# ></document>\\n\\t\\t<document> #USER# #USER# yep with \"Democrats\" like these who needs \"Democrats\". Is this what unions worked for in 2012? #HASHTAG#  #HASHTAG# ></document>\\n\\t\\t<document> #USER# \\xe2\\x80\\x9cMaking private equity managers personally responsible for the debts of the companies they acquire probably would crush the sector.\\xe2\\x80\\x9d LOL #HASHTAG# ></document>\\n\\t\\t<document> #USER# I do think the original Medicare for All bill did try to fix at least some of the Medicare design programs. ></document>\\n\\t\\t<document> Epic is the worst. Epic CEO sends letter urging hospitals to oppose HHS data-sharing rule #URL# ></document>\\n\\t\\t<document> #USER# Did you think giving him dex was an indicator he really got worse or just a kitchen sink approach? ></document>\\n\\t\\t<document> This is so gross, and it says a lot about the people she works with that this is seen as acceptable. \\xf0\\x9f\\x98\\x95 Of Academic Hierarchies and Harassment | by Paula Chakravartty  #URL# ></document>\\n\\t\\t<document> #USER# #USER# #USER# #USER# #USER# #USER# I think it could come to that, but I am kind of in the camp that says maybe you could wait on that fight. ></document>\\n\\t\\t<document> Shameful. #URL# ></document>\\n\\t\\t<document> #USER# It has a lot of rules though. You can do private if you regulate the hell out of it but people don\\xe2\\x80\\x99t want to do that either. ></document>\\n\\t\\t<document> #USER# Ugh. In Chicago the GS council has canceled everything, including cookie booths. ></document>\\n\\t\\t<document> #USER# Right??!!!\\nThat man RAN for 2 hours...I\\xe2\\x80\\x99ve done a marathon I can\\xe2\\x80\\x99t even imagine... ></document>\\n\\t\\t<document> #USER# If people #HASHTAG# could spend their time discussing distribution schemes instead of parsing the vaccine data 20 million ways just to prove their particular point... ></document>\\n\\t\\t<document> Surprise! #HASHTAG# MT #USER#: Obama\\'s dirty war in Yemen is causing...more violence! AQ kills nearly 30 soldiers. #URL# ></document>\\n\\t\\t<document> Because it\\xe2\\x80\\x99s is unlikely you will ever find the *right* answer in the literature\\xe2\\x80\\xa6the best approach for a patient will have a specific context that may or may not be represented in the lit\\xe2\\x80\\xa6which doesn\\xe2\\x80\\x99t man the lit doesn\\xe2\\x80\\x99t matter just recognize it\\xe2\\x80\\x99s limitations. ></document>\\n\\t\\t<document> Geez Eddie Van Halen RIP. I feel like a part of my childhood just died. ></document>\\n\\t\\t<document> #USER# #USER# My grandfather was at Pointe Du Hoc. I visited there on the 50th anniversary in  1994-amazing experience. ></document>\\n\\t\\t<document> #USER# lol just another herd immunity argument ></document>\\n\\t\\t<document> #USER# Right???\\nSome people say we live in the dumbest timeline, others say we\\xe2\\x80\\x99ve always been here... ></document>\\n\\t\\t<document> How Peak TV Prepared All of Us for the Impeachment Hearings - POLITICO\\nRatings were 4x the regular programming. #URL# ></document>\\n\\t\\t<document> #USER# all politicians have that gap to some degree but I just feel he\\'s at a level all his own #HASHTAG# #HASHTAG# ></document>\\n\\t\\t<document> #USER# #USER# #USER# I think this relates to the broader question of how racism operates in health delivery specifically? ></document>\\n\\t\\t<document> Hi to everybody who tells me Republican think tanks who think we all should starve TOTALLY deserve PPP. #URL# ></document>\\n\\t\\t<document> \\xe2\\x80\\x9dMost of the idiocies at the core of Trump\\xe2\\x80\\x99s being were created in the same way that pearls are\\xe2\\x80\\x94an irritant lodges itself in the spongy matter of his mind years ago...and then is worried into something bright and very hard.\\xe2\\x80\\x9d   \\n#URL# ></document>\\n\\t\\t<document> #USER# Got to have your own #URL# ></document>\\n\\t\\t<document> The rise of the far-right in Sweden didn\\xe2\\x80\\x99t \\xe2\\x80\\x9cjust happen\\xe2\\x80\\x9d it had some help. #URL# ></document>\\n\\t\\t<document> #USER# Serious question, do we know his parents didn\\xe2\\x80\\x99t want him to shoot? Also, while they are much smaller offenses and punishments many school districts do hold parents accountable for their kid\\xe2\\x80\\x99s actions-didn\\xe2\\x80\\x99t Harris when she was DA actually criminally charge parents for truancy? ></document>\\n\\t\\t<document> #USER# Nope. ></document>\\n\\t\\t<document> #USER# Thought it looked familiar was just there a few weeks ago #URL# ></document>\\n\\t\\t<document> #USER# My understanding from epidemiologists is that\\xe2\\x80\\x99s exactly it-the variant strains have added a question mark to everything. ></document>\\n\\t\\t<document> It\\xe2\\x80\\x99s a narrative that Gen X didn\\xe2\\x80\\x99t do anything but this was organized in the pre-smart phone (cell phones were not even common) and really pre-internet era (yes there was internet but it was nothing compared to today) ></document>\\n\\t\\t<document> #USER# \"The Feminist Majority has similarly backed the escalation of the Afghan War, in the name of women\\xe2\\x80\\x99s rights.\" #HASHTAG# #HASHTAG# ></document>\\n\\t\\t<document> #USER# You saw this right? Same economic pain and more deaths #URL# ></document>\\n\\t\\t<document> Surprise #HASHTAG# MT #USER#: If #USER# opts to impose any discipline on cops involved in the mistaken ID shooting, exp to be minimal ></document>\\n\\t\\t<document> Methadone, Buprenorphine Not Used Enough in Opioid Recovery #URL# ></document>\\n\\t\\t<document> Honest to god why??? #URL# ></document>\\n\\t\\t<document> This is heart-breaking \\xf0\\x9f\\x98\\xa2\\nAs his Alzheimer\\xe2\\x80\\x99s looms, Charles and Pam Ogletree take one last walk in love -\\xe2\\x80\\x9c #URL# ></document>\\n\\t\\t<document> \\xf0\\x9f\\xa4\\x94\\nAfter years of skirting the question, Brexit is forcing politicians to finally ask: what would a united Ireland look like? #URL# ></document>\\n\\t\\t<document> Kill patents #URL# ></document>\\n\\t\\t<document> #USER# If you cook rice regularly-I make it weekly-it\\xe2\\x80\\x99s great. Set it and forget it. ></document>\\n\\t\\t<document> #USER# oh-there are differences among brown people? Are you going to tell me next they are not all Muslim or terrorists? #HASHTAG# ></document>\\n\\t\\t<document> #USER# #USER# Because Biden has become invisible? Because every dumb ass Trump briefing is not followed up by a Democrat briefing pointing out how screwed up things are? ></document>\\n\\t\\t<document> \\xf0\\x9f\\xa4\\xac\\xf0\\x9f\\xa4\\xac\\xf0\\x9f\\xa4\\xac\\nSenator Dumped Up to $1.6 Million of Stock After Reassuring Public About Coronavirus Preparedness \\xe2\\x80\\x94 ProPublica #URL# ></document>\\n\\t\\t<document> #USER# There is a ton of information out there every state had to write up a plan-granted some were more detailed then others. Over 2 million shots have been given...I just can\\xe2\\x80\\x99t with these people just give it to whoever wants it. ></document>\\n\\t\\t<document> For the record #USER#        Barry Goldwater was my favorite HS history teacher\\xe2\\x80\\x99s favorite politician. I had to memorize those famous lines from the \\xe2\\x80\\x9864 convention for an exam. An Irish conservative (!) who was a fan of Goldwater for the same reasons Didion did. ></document>\\n\\t\\t<document> #USER# Like nearly every economist but the absolute far right ones are past this but somehow it\\xe2\\x80\\x99s a talking in this debate \\xf0\\x9f\\x98\\x91 ></document>\\n\\t\\t<document> Oh I guess Kentucky doesn\\xe2\\x80\\x99t need any money? #URL# ></document>\\n\\t\\t<document> This is so sharp. #URL# ></document>\\n\\t\\t<document> It will be impossible to *open* in any significant way until this problem is solved. Months Into Virus Crisis, U.S. Cities Still Lack Testing Capacity #URL# ></document>\\n\\t\\t<document> #USER# So frustrated with everybody insisting this is a mistake. It\\xe2\\x80\\x99s pretty obviously an adverse effect of the vaccine, I think not to be clear about it would be damaging. ></document>\\n\\t\\t<document> #USER# Some time ago there was a place in Chicago where this was a thing. Technically she was not nude-I think she was strategically covered-but you ate the sushi off her body. ></document>\\n\\t\\t<document> Officer was lying.  Surprise! #HASHTAG# MT #USER#: Recording in police shooting suddenly found by #HASHTAG# city lawyers. #URL# ></document>\\n\\t\\t<document> He added: \\xe2\\x80\\x9cWhether we like it or not, like I say I\\xe2\\x80\\x99ve been Labour all my life, we\\xe2\\x80\\x99ve got to have the rich people, that\\xe2\\x80\\x99s where we get our money from.\\xe2\\x80\\x9d 82 y/o (former) Labour voter. \\xf0\\x9f\\x98\\x95 ></document>\\n\\t\\t<document> #HASHTAG# #HASHTAG# MT #USER#: Amazingly, WV was lying its ass off abt keeping its prisoners free of contamin water #URL# ></document>\\n\\t\\t<document> #USER# I know you\\xe2\\x80\\x99ve heard this but enjoy it the time goes so fast! I know he seems like a ton of work now but just wait until he can move himself... ></document>\\n\\t\\t<document> These complaints \\xf0\\x9f\\x91\\x80\\nIt should be pointed out the mainstreaming of meatless meat is a direct threat to Whole Foods which doesn\\xe2\\x80\\x99t offer many unique products anymore. #URL# ></document>\\n\\t\\t<document> #USER# #USER# #USER# The ACA was big but they could have gone for so much more. ></document>\\n\\t\\t<document> Stephen Miller really is evil. #URL# ></document>\\n\\t\\t<document> #USER# Am extremely excited to pay $ to actually read all of this in a coherent narrative. \\xf0\\x9f\\x98\\x8d ></document>\\n\\t\\t<document> Meet the new boss same as the old boss. \\xf0\\x9f\\x98\\x95 #URL# ></document>\\n\\t\\t<document> Reverse Trump\\'s Western Sahara Giveaway | The American Conservative #URL# ></document>\\n\\t\\t<document> \\xe2\\x80\\x9cAt least former presidents were half human\\xe2\\x80\\x9d #USER# #USER# ></document>\\n\\t\\t<document> #USER# These guys...does anybody care how ANY Republican lawmaker is voting? ></document>\\n\\t\\t<document> #USER# I know this is a real issue but I need it explained to me. ></document>\\n\\t\\t<document> #USER# #USER# Got to say as someone whose been in labor 3 times...certainly would have given this a shot if it was offered. ></document>\\n\\t\\t<document> #USER# \"could even enlarge the influence of the military, the police &amp; judicary, which worked to overthrow Mr. Morsi\" surprise! #HASHTAG# ></document>\\n\\t\\t<document> #USER# #USER# Yes anybody who\\xe2\\x80\\x99s traveled to Asia pre-COVID has seen this, nobody thinks it\\xe2\\x80\\x99s odd there. ></document>\\n\\t\\t<document> Thread. There are John Lewises in our presence right now that need our support. #URL# ></document>\\n\\t\\t<document> \\xe2\\x80\\x9cThe owners are a set of geriatric fail children who are also poster children for a 100% inheritance tax.\\xe2\\x80\\x9d #URL# ></document>\\n\\t\\t<document> #USER# Yes that\\xe2\\x80\\x99s why the homemade is so good-you can make it almost cream-like if you want, although it will never be a smooth as cashew milk, or so they say. ></document>\\n\\t\\t<document> #USER# Everything is good roasted and they are good for pickling ></document>\\n\\t\\t<document> Gee what a surprise #HASHTAG# RT #USER#: Whites greatly overestimate the share of crimes committed by black people #URL# ></document>\\n\\t\\t<document> I cannot imagine the level of testing suggested here will happen. I just can\\xe2\\x80\\x99t see it. #URL# ></document>\\n\\t\\t<document> #USER# Funny to me that some Q followers are quicker to grasp reality then some elected officials. ></document>\\n\\t\\t<document> Thread. I believe some of these people live in *red* states. #URL# ></document>\\n\\t\\t<document> Illinois has cut higher ed funding over 50% since 2008 \\xf0\\x9f\\x98\\x95\\n#URL# ></document>\\n\\t\\t<document> #USER# As a Chicagoan, I absolve you my son. ></document>\\n\\t\\t<document> #USER# #USER# Is there any precedent for getting a vaccine to the world as fast as possible? ></document>\\n\\t\\t<document> #USER# Would love to be in Taiwan right now, frankly. ></document>\\n\\t\\t<document> #USER# Everybody insisting Trump will be a force for years is seriously overestimating his appeal when he\\xe2\\x80\\x99s not president and is officially a loser. ></document>\\n\\t\\t<document> Oh this will end well. #HASHTAG# RT #USER#: Military-Style Tech Finds Way Into School District Safety Measures #URL# ></document>\\n\\t\\t<document> #USER# Isn\\xe2\\x80\\x99t the current ambassador a former Iowa governor? ></document>\\n\\t\\t<document> #USER# Man did you just take these? I drove back from Hyde Park 7ish and the beaches were BUSY ></document>\\n\\t\\t<document> Holy sh*t this man ran 26 miles at an under 5 mile pace \\xf0\\x9f\\x98\\xb6 #URL# ></document>\\n\\t\\t<document> Because if they did...the establishment would have to admit they are, in essence employees who should be paid... #URL# ></document>\\n\\t\\t<document> #USER# I never knew how often men got their hair cut! ></document>\\n\\t\\t<document> #USER# Agree the market for law graduates has been really bad for awhile. ></document>\\n\\t\\t<document> Tell me more about the video games though. #URL# ></document>\\n\\t\\t<document> #USER# #USER# No question she was there\\xe2\\x80\\xa6I can\\xe2\\x80\\x99t comment on the Pakistan parts but the corruption is well documented by #USER# people just ignored it. ></document>\\n\\t\\t<document> THIS IS WHY YOU GIVE MONEY TO PEOPLE #URL# ></document>\\n\\t\\t<document> #USER# You are right-but unfortunately there\\xe2\\x80\\x99s a group of Dem senators that apparently either don\\xe2\\x80\\x99t care or don\\xe2\\x80\\x99t see their own success linked to the party\\xe2\\x80\\x99s and Dem leadership will not bully them. (Which may or may not work but it\\xe2\\x80\\x99s clear it\\xe2\\x80\\x99s not being tried.) ></document>\\n\\t\\t<document> It\\xe2\\x80\\x99s true that the Battle of Seattle did not the kind of sustainability to enact real change but I always felt it was closely linked to the World Social forum which did have a wide-ranging impact #URL# #URL# ></document>\\n\\t\\t<document> #USER# #USER# #USER# #USER# \\xf0\\x9f\\x91\\x80\\nReally the testing strategy only works if you test EVERYBODY. My son is at U of Illinois and he had to report early to campus this year to get the testing in prior to the actual start of the semester. It\\xe2\\x80\\x99s gone pretty smoothly there as far as I can tell. ></document>\\n\\t\\t<document> #USER# #USER# Oh god I was trying to think of why he looked...odd...this is it! ></document>\\n\\t\\t<document> #USER# If a person really thinks like that-they can\\xe2\\x80\\x99t just flip on a dime because the politics don\\xe2\\x80\\x99t work that way. ></document>\\n\\t\\t<document> #USER# 30 priests in MN supposedly, but it\\'s ok it\\'s ALL OVER #HASHTAG# ></document>\\n\\t\\t<document> #USER# She is setting herself up for a sweet post-senate gig, absolutely it\\xe2\\x80\\x99s a choice. ></document>\\n\\t\\t<document> #USER# Cuz they are libertarian assholes who think people should suffer? ></document>\\n\\t\\t<document> #USER# Mmm most adductor muscles (muscles of the inner thigh which attach up at the groin) cross the knee, it sounds like you did a number on one of them. ></document>\\n\\t\\t<document> Last quotes from here-the Democrats want to cut the safety net too-but not as much so it\\'s ok? #HASHTAG# #USER#: #URL# ></document>\\n\\t\\t<document> Politicians blowing hot air. #HASHTAG# #HASHTAG#  #URL# ></document>\\n\\t\\t<document> \\xe2\\x80\\x9cWell rather than keep going, I\\xe2\\x80\\x99d like you to experience this in the fourth dimension.\\xe2\\x80\\x9d\\nAmazing. The Oral History of Prince\\xe2\\x80\\x99s Super Bowl XLI Halftime Show - The Ringer #URL# ></document>\\n\\t\\t<document> #USER# \\xe2\\x80\\x9cWhen IBM abandoned lifetime employment in the 1990s, local officials asked gun-shop owners around its headquarters to close their stores while employees absorbed the shock.\\xe2\\x80\\x9d \\xf0\\x9f\\x98\\xb3 ></document>\\n\\t\\t<document> #USER# #USER# Excellent piece written prior to the election on what was happening in the North to Labour #URL# ></document>\\n\\t\\t<document> #USER# didn\\'t you know if you\\'re not FOR American Foreign you\\'re a terrorist! #HASHTAG# #HASHTAG# ></document>\\n\\t\\t<document> End of the fall season party for #USER# \\nRick, one of our fearless leaders is preparing for the pie throwing #URL# ></document>\\n\\t\\t<document> #USER# #USER# Not just baby yoda-my homemade Christmas cookie baby yoda! ></document>\\n\\t\\t<document> #USER# People...really think this? Like it\\xe2\\x80\\x99s beautiful but you can tell from a mile away it\\xe2\\x80\\x99s hot and heavy as hell. ></document>\\n\\t\\t<document> Thread. It\\xe2\\x80\\x99s unfortunate that so little of the history of activism is documented in a useful kind of way. #URL# ></document>\\n\\t\\t<document> \\xf0\\x9f\\x99\\x8c Condado Tacos Faces Backlash as Workers Walk Out Over Police Taco Order  #URL# ></document>\\n\\t\\t<document> This woman cannot be gone soon enough \\xf0\\x9f\\x98\\xa1\\nWork requirements limit access full stop. #URL# ></document>\\n\\t\\t<document> America! #HASHTAG# MT #USER#: 8 ppl Rs chose to talk abt  #HASHTAG#. White men. 5/8 from the South. Avg age 60. #URL# ></document>\\n\\t\\t<document> #USER# \\xe2\\x80\\x9cTurned off by Biden\\xe2\\x80\\x99s approach\\xe2\\x80\\x9d lol because he asked for it \\xf0\\x9f\\x99\\x83 ></document>\\n\\t\\t<document> #USER# Sounds like everybody\\xe2\\x80\\x99s verdict...the more things change the more they stay the same. ></document>\\n\\t\\t<document> #USER# There was a whole piece in the Atlantic about exactly this-in particularly how there is no appetite in the conservative press for books on him. Nobody cares! ></document>\\n\\t\\t<document> \\xe2\\x80\\x9cA middle class must, by definition, have middling people in it.\\xe2\\x80\\x9d #URL# ></document>\\n\\t\\t<document> This thread\\xe2\\x80\\xa6I truly believe the average Democrat gets it, but the leadership is just the worst. #URL# ></document>\\n\\t\\t<document> Really seems like a politician who claims kids weren\\xe2\\x80\\x99t murdered, who obviously were, should be a bright line. ></document>\\n\\t\\t<document> China will not blink and as a result nobody else will either \\xf0\\x9f\\x98\\x95 #URL# ></document>\\n\\t\\t<document> #USER# I\\xe2\\x80\\x99m willing to entertain the idea they\\xe2\\x80\\x99d have different approaches to actually governing...but we\\xe2\\x80\\x99d be so far into unknown territory at that point nobody can really claim with any certainty who would be more effective. ></document>\\n\\t\\t<document> #USER# I actually think she\\xe2\\x80\\x99s the best possible pick. Biden is not going to embrace anything radical and she\\xe2\\x80\\x99s pretty firmly pro-stimulus. I would like them to get some young blood in there but this is one spot experience really matters. ></document>\\n\\t\\t<document> #USER# I mean they could have started a week after the inauguration who thinks they are rushing \\xf0\\x9f\\x99\\x84 ></document>\\n\\t\\t<document> Gee what a surprise...#HASHTAG# RT #USER#: 3 out of 4 talking heads on #HASHTAG# discussing \"race in America\" are white men. ></document>\\n\\t\\t<document> #HASHTAG# #HASHTAG# RT #USER#: Renting Judges for Secret Rulings #URL# ></document>\\n\\t\\t<document> #USER# Can you sue? There are supposed to rules about tenure-did a committee vote you down or did administration overrule? ></document>\\n\\t\\t<document> #HASHTAG# #HASHTAG# RT #USER#: How House Democrats Are Caving On Key Mortgage Rules #URL# ></document>\\n\\t\\t<document> #USER# Bad but people seemed to think Sherman would have been worse so there\\xe2\\x80\\x99s that. ></document>\\n\\t\\t<document> #USER# It\\xe2\\x80\\x99s amazing! Like even if you feel that way, have the common sense to know it is not something to share, it\\xe2\\x80\\x99s not helpful. ></document>\\n\\t\\t<document> When people are just restating the obvious sooo many ways but you feel like you can\\xe2\\x80\\x99t leave the Zoom meeting just in case something important comes up... ></document>\\n\\t\\t<document> #USER# Also it goes without saying he and his circle ragged on Obama for golfing during considerably less deadly pandemics. ></document>\\n\\t\\t<document> Why yes I\\xe2\\x80\\x99m still in pajamas and I am about to commence stress eating. ></document>\\n\\t\\t<document> #USER# Really can\\xe2\\x80\\x99t believe a relatively cheap campaign in WV couldn\\xe2\\x80\\x99t be put together quickly. ></document>\\n\\t\\t<document> #USER# well the shooting wasn\\'t about gay people right? #HASHTAG# ></document>\\n\\t\\t<document> \\xe2\\x80\\x9cBut there are still rules\\xe2\\x80\\x9d \\xf0\\x9f\\x91\\x80\\nOnly if someone in power will enforce them. #URL# ></document>\\n\\t\\t<document> #USER# It\\xe2\\x80\\x99s from the World Socialist which is not really reliable but they are quoting the NYT interview... ></document>\\n\\t\\t<document> #USER# \\xe2\\x80\\x9croll of the dice\\xe2\\x80\\x9d geez ></document>\\n\\t\\t<document> #USER# Honest to god your followers are something else. My memory is that you were the first person to put it out there-and people acted like you had suggested killing somebody. ></document>\\n\\t\\t<document> #USER# #USER# You can make one that will be effective ></document>\\n\\t\\t<document> \\xe2\\x80\\x9cEfforts by Governor Walz to raise reimbursement rates have stalled in the state\\xe2\\x80\\x99s politically divided legislature, as has his push to use more of the $1.2 billion in unspent Recovery Act funds on bonuses and raises for nursing aides.\\xe2\\x80\\x9d \\xf0\\x9f\\xa4\\xac ></document>\\n\\t\\t<document> \\xe2\\x80\\x9cEmily Murphy, administrator of the General Services Administration, has yet to declare when Biden\\'s official transition begins.\\xe2\\x80\\x9d Is this going to be a problem? #URL# ></document>\\n\\t\\t<document> #USER# The foreign policy elites don\\xe2\\x80\\x99t talk about ice cream now do they??? ></document>\\n\\t\\t<document> #USER# #USER# Depends-a lot of people like the executive power that comes with it-which could be considered more work-but that is why it\\xe2\\x80\\x99s a more logical jumping off point for higher office. ></document>\\n\\t\\t<document> \\xe2\\x80\\x9cI don\\xe2\\x80\\x99t want any of these candidates acting like they\\xe2\\x80\\x99re gung ho for Medicare for All before morphing back into a Dick Durbin action figure.\\xe2\\x80\\x9d  #URL# ></document>\\n\\t\\t<document> #USER# Limits on outdoor gatherings but not indoor ones??? \\xf0\\x9f\\x99\\x84 ></document>\\n\\t\\t<document> THIS is the way to get black millennials to the polls. #HASHTAG# #URL# ></document>\\n\\t\\t<document> But \"education\" will fix! #HASHTAG# RT #USER#: More than 3 dozen CPS scls have homeless populations over 20%. n#URL# ></document>\\n\\t\\t<document> I can\\xe2\\x80\\x99t retweet Joe Walsh on principle...but this would be a chance for Biden or ANYBODY in the Democratic Party to take a stand here. ></document>\\n\\t\\t<document> #HASHTAG# #HASHTAG# MT #USER#: US humanitarianism curious. Lots of chatter about humanitarianism, but only 31 Syrian refugees taken in. ></document>\\n\\t\\t<document> I mean very few cases merit 20 years but the rape of a 9 y/o maybe needs more than one? ></document>\\n\\t\\t<document> Just infuriating. Maybe instead of free tuition we could say no interest??? #URL# ></document>\\n\\t\\t<document> Ugh #USER# you suck. #URL# ></document>\\n\\t\\t<document> #USER# THIS.  My family is in good shape, and I have more money saved than I ever have before. But just one thing goes wrong and it\\xe2\\x80\\x99s all gone. ></document>\\n\\t\\t<document> #USER# #USER# Years ago this was something that really pushed my thinking, it\\xe2\\x80\\x99s awful for them. ></document>\\n\\t\\t<document> #USER# Yes everybody was fine, miraculously. ></document>\\n\\t\\t<document> #USER# \\xf0\\x9f\\x91\\x80\\nGot some manchego sitting in the fridge... ></document>\\n\\t\\t<document> #USER# Basic rule is lift the heavy thing until you can\\xe2\\x80\\x99t lift it anymore. ></document>\\n\\t\\t<document> #USER# FOR THE LOVE OF GOD JUST TAX SOMETHING ALREADY ></document>\\n\\t\\t<document> #USER# I, on the other hand, an extremely online mom, have decided to ignore it..although that\\xe2\\x80\\x99s kind of impossible now so yes it seems like it\\xe2\\x80\\x99s sticking. ></document>\\n\\t\\t<document> #USER# There is no bottom. There never was, but I still find it hard to take in. ></document>\\n\\t\\t<document> This is a key point-the right doesn\\xe2\\x80\\x99t want to just \\xe2\\x80\\x9cwin\\xe2\\x80\\x9d on broad policy points, it wants to utterly destroy the opposition. #URL# ></document>\\n\\t\\t<document> #USER# #USER# Isn\\xe2\\x80\\x99t part of the issue that even among the urban black middle-lower class population there is a some ambivalence about the police-that there are significant parts of this population that see them as necessary in spite of the obvious problems? ></document>\\n\\t\\t<document> #USER# There is no reason to eat Reese\\xe2\\x80\\x99s Pieces when peanut butter M &amp; Ms are available. ></document>\\n\\t\\t<document> #USER# Wasn\\xe2\\x80\\x99t this the same guy bribing people to mess with Iran? ></document>\\n\\t\\t<document> #USER# Really I had no idea how many reporters followed Congressional baseball until today \\xf0\\x9f\\x98\\x82 ></document>\\n\\t\\t<document> \\xe2\\x80\\x9cMany of those we spoke to said they saw Corbyn as a bigger stumbling block than the party\\xe2\\x80\\x99s policy on the EU.\\xe2\\x80\\x9d ></document>\\n\\t\\t<document> #USER# Where are these people working? Cause Homer Glen is far... ></document>\\n\\t\\n', shape=(), dtype=string)\n",
            "SVM Accuracy Score on Training set ->  1.0\n",
            "SVM Accuracy Score on Test set ->  0.9277777777777778\n"
          ]
        }
      ]
    }
  ]
}