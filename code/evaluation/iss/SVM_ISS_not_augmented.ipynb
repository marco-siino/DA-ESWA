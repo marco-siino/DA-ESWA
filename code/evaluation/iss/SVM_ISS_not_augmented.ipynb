{
  "nbformat": 4,
  "nbformat_minor": 0,
  "metadata": {
    "accelerator": "TPU",
    "colab": {
      "provenance": [],
      "include_colab_link": true
    },
    "kernelspec": {
      "display_name": "Python 3",
      "name": "python3"
    }
  },
  "cells": [
    {
      "cell_type": "markdown",
      "metadata": {
        "id": "view-in-github",
        "colab_type": "text"
      },
      "source": [
        "<a href=\"https://colab.research.google.com/github/marco-siino/DA-ESWA/blob/main/code/evaluation/iss/SVM_ISS_not_augmented.ipynb\" target=\"_parent\"><img src=\"https://colab.research.google.com/assets/colab-badge.svg\" alt=\"Open In Colab\"/></a>"
      ]
    },
    {
      "cell_type": "markdown",
      "metadata": {
        "id": "u-hLo5ufkCT1"
      },
      "source": [
        "## Investigating text data augmentation using back translation for author profiling\n",
        "- - - \n",
        "SVM ON ISS DS EXPERIMENTS NOTEBOOK \n",
        "- - -\n",
        "SVM on Irony and Stereotype Spreaders Dataset augmented without backtranslation.\n",
        "Code by M. Siino. \n",
        "\n",
        "From the paper: \"Investigating text data augmentation using back translation for author profiling\" by M.Siino et al."
      ]
    },
    {
      "cell_type": "markdown",
      "metadata": {
        "id": "6IBqUcj4cx2G"
      },
      "source": [
        "## Importing modules."
      ]
    },
    {
      "cell_type": "code",
      "metadata": {
        "id": "AQSunQ-ucjLX"
      },
      "source": [
        "import matplotlib.pyplot as plt\n",
        "import os\n",
        "import random\n",
        "import re\n",
        "import shutil\n",
        "import string\n",
        "import tensorflow as tf\n",
        "\n",
        "from tensorflow.keras import layers\n",
        "from tensorflow.keras import losses\n",
        "from tensorflow.keras import preprocessing\n",
        "from tensorflow.keras.layers.experimental.preprocessing import TextVectorization\n",
        "from google.colab import files\n",
        "from io import open\n",
        "from numpy.random import seed\n",
        "import numpy as np\n",
        "from pathlib import Path\n",
        "from sklearn import svm\n",
        "\n",
        "os.environ['TF_CUDNN_DETERMINISTIC']='true'\n",
        "os.environ['TF_DETERMINISTIC_OPS']='true'"
      ],
      "execution_count": 1,
      "outputs": []
    },
    {
      "cell_type": "markdown",
      "metadata": {
        "id": "0QHd_fxmHCfa"
      },
      "source": [
        "## Importing DS and extract in current working directory."
      ]
    },
    {
      "cell_type": "code",
      "metadata": {
        "id": "ocYMUXaY8r0_",
        "colab": {
          "base_uri": "https://localhost:8080/"
        },
        "outputId": "aad8a209-10c6-41e6-d170-04e428dc638b"
      },
      "source": [
        "urlTrainingSet = \"https://github.com/marco-siino/DA-ESWA/raw/main/data/iss/iss-training-original.zip\"\n",
        "training_set = tf.keras.utils.get_file(\"pan22-author-profiling-training-2022-03-29.zip\", urlTrainingSet,\n",
        "                                    extract=True, archive_format='zip',cache_dir='.',\n",
        "                                    cache_subdir='')\n",
        "\n",
        "urlTestSet=\"https://github.com/marco-siino/DA-ESWA/raw/main/data/iss/iss-test-original.zip\"\n",
        "test_set = tf.keras.utils.get_file(\"pan22-author-profiling-test-2022-04-22-without_truth.zip\", urlTestSet,\n",
        "                                    extract=True, archive_format='zip',cache_dir='.',\n",
        "                                    cache_subdir='')"
      ],
      "execution_count": 2,
      "outputs": [
        {
          "output_type": "stream",
          "name": "stdout",
          "text": [
            "Downloading data from https://github.com/marco-siino/DA-ESWA/raw/main/data/iss/iss-training-original.zip\n",
            "5806456/5806456 [==============================] - 0s 0us/step\n",
            "Downloading data from https://github.com/marco-siino/DA-ESWA/raw/main/data/iss/iss-test-original.zip\n",
            "2446477/2446477 [==============================] - 0s 0us/step\n"
          ]
        }
      ]
    },
    {
      "cell_type": "code",
      "source": [
        "training_set_dir = os.path.join(os.path.dirname(training_set), 'pan22-author-profiling-training-2022-03-29')\n",
        "test_set_dir = os.path.join(os.path.dirname(test_set), 'pan22-author-profiling-test-2022-04-22-without_truth')\n",
        "\n",
        "!ls -A"
      ],
      "metadata": {
        "id": "VhXCTQbYykC-",
        "colab": {
          "base_uri": "https://localhost:8080/"
        },
        "outputId": "b13dc57d-85f2-44dc-f24f-ac487dab194f"
      },
      "execution_count": 3,
      "outputs": [
        {
          "output_type": "stream",
          "name": "stdout",
          "text": [
            ".config\n",
            "pan22-author-profiling-test-2022-04-22-without_truth\n",
            "pan22-author-profiling-test-2022-04-22-without_truth.zip\n",
            "pan22-author-profiling-training-2022-03-29\n",
            "pan22-author-profiling-training-2022-03-29.zip\n",
            "sample_data\n"
          ]
        }
      ]
    },
    {
      "cell_type": "markdown",
      "metadata": {
        "id": "Di7jOZjALo4X"
      },
      "source": [
        "## Build folders hierarchy to use Keras folders preprocessing function."
      ]
    },
    {
      "cell_type": "code",
      "metadata": {
        "colab": {
          "base_uri": "https://localhost:8080/"
        },
        "id": "-ucATWhfGSGf",
        "outputId": "d01418a5-e2b8-434a-fc37-f75177f42c43"
      },
      "source": [
        "### Training Folders. ###\n",
        "\n",
        "# First level directory.\n",
        "if not os.path.exists('train_dir_en'):\n",
        "    os.makedirs('train_dir_en')\n",
        "\n",
        "# Class labels directory.\n",
        "if not os.path.exists('train_dir_en/0'):\n",
        "    os.makedirs('train_dir_en/0')\n",
        "if not os.path.exists('train_dir_en/1'):\n",
        "    os.makedirs('train_dir_en/1')\n",
        "\n",
        "# Make Py variables.\n",
        "train_dir='train_dir_'\n",
        "\n",
        "## Test Folders. ##\n",
        "# First level directory.\n",
        "if not os.path.exists('test_dir_en'):\n",
        "    os.makedirs('test_dir_en')\n",
        "\n",
        "# Class labels directory.\n",
        "if not os.path.exists('test_dir_en/0'):\n",
        "    os.makedirs('test_dir_en/0')\n",
        "if not os.path.exists('test_dir_en/1'):\n",
        "    os.makedirs('test_dir_en/1')\n",
        "\n",
        "# Make Py variables.\n",
        "test_dir='test_dir_'\n",
        "\n",
        "!ls -A"
      ],
      "execution_count": 4,
      "outputs": [
        {
          "output_type": "stream",
          "name": "stdout",
          "text": [
            ".config\n",
            "pan22-author-profiling-test-2022-04-22-without_truth\n",
            "pan22-author-profiling-test-2022-04-22-without_truth.zip\n",
            "pan22-author-profiling-training-2022-03-29\n",
            "pan22-author-profiling-training-2022-03-29.zip\n",
            "sample_data\n",
            "test_dir_en\n",
            "train_dir_en\n"
          ]
        }
      ]
    },
    {
      "cell_type": "markdown",
      "metadata": {
        "id": "tNib56hF_8an"
      },
      "source": [
        "## Set language and directory paths.\n"
      ]
    },
    {
      "cell_type": "code",
      "metadata": {
        "id": "Rq0EgZuf_5tv"
      },
      "source": [
        "# Set en and es ground truth file path for train_dir. \n",
        "language='en'\n",
        "\n",
        "truth_file_training_dir_en=training_set_dir+'/'+language+'/'\n",
        "truth_file_training_path_en = truth_file_training_dir_en+'truth.txt'\n",
        "\n",
        "truth_file_test_dir=test_set_dir\n",
        "truth_file_test_path_en = truth_file_test_dir+'/'+'truth'+'.txt'"
      ],
      "execution_count": 5,
      "outputs": []
    },
    {
      "cell_type": "markdown",
      "metadata": {
        "id": "7VQKsc4XOpD8"
      },
      "source": [
        "## Read truth.txt to organize training and test dataset folders.\n",
        "\n"
      ]
    },
    {
      "cell_type": "code",
      "metadata": {
        "id": "4kxcJ92-Nkto"
      },
      "source": [
        "# Open the file truth.txt with read only permit.\n",
        "f = open(truth_file_training_path_en, \"r\")\n",
        "# use readline() to read the first line \n",
        "line = f.readline()\n",
        "# use the read line to read further.\n",
        "# If the file is not empty keep reading one line\n",
        "# at a time, till the file is empty\n",
        "while line:\n",
        "    # Split line at :::\n",
        "    x = line.split(\":::\")\n",
        "    fNameXml = x[0]+'.xml'\n",
        "    fNameTxt = x[0]+'.txt'\n",
        "    # Second coord [0] gets just the first character (label) and not /n too.\n",
        "    label = x[1][0]\n",
        "    if label == 'I':\n",
        "      label = '1'\n",
        "    elif label == 'N':\n",
        "      label = '0'\n",
        "\n",
        "    # Now move the file to the right folder.\n",
        "    if os.path.exists(truth_file_training_dir_en+fNameXml):\n",
        "      os.rename(truth_file_training_dir_en+fNameXml, './train_dir_'+language+'/'+label+'/'+fNameTxt )\n",
        "\n",
        "    # use readline() to read next line\n",
        "    line = f.readline()\n",
        "\n",
        "# Open the file truth.txt with read only permit.\n",
        "f = open(truth_file_test_path_en, \"r\")\n",
        "# use readline() to read the first line \n",
        "line = f.readline()\n",
        "# use the read line to read further.\n",
        "# If the file is not empty keep reading one line\n",
        "# at a time, till the file is empty\n",
        "while line:\n",
        "    # Split line at :::\n",
        "    x = line.split(\":::\")\n",
        "    fNameXml = x[0]+'.xml'\n",
        "    fNameTxt = x[0]+'.txt'\n",
        "    # Second coord [0] gets just the first character (label) and not /n too.\n",
        "    label = x[1][0]\n",
        "    if label == 'I':\n",
        "      label = '1'\n",
        "    elif label == 'N':\n",
        "      label = '0'\n",
        "\n",
        "    # Now move the file to the right folder.\n",
        "    if os.path.exists(truth_file_test_dir+'/'+language+'/'+fNameXml):\n",
        "      os.rename(truth_file_test_dir+'/'+language+'/'+fNameXml, './test_dir_'+language+'/'+label+'/'+fNameTxt )\n",
        "\n",
        "    # use readline() to read next line\n",
        "    line = f.readline()\n",
        "     "
      ],
      "execution_count": 6,
      "outputs": []
    },
    {
      "cell_type": "markdown",
      "metadata": {
        "id": "uTJi1fbT_Rup"
      },
      "source": [
        "## Generate full training set.\n",
        "\n"
      ]
    },
    {
      "cell_type": "code",
      "metadata": {
        "colab": {
          "base_uri": "https://localhost:8080/"
        },
        "id": "FyafvXEMhEKw",
        "outputId": "3d7539b8-4283-49a0-f3e8-3296fb9c436a"
      },
      "source": [
        "# Generate full randomized training set.\n",
        "batch_size=1\n",
        "\n",
        "en_train_ds = tf.keras.preprocessing.text_dataset_from_directory(\n",
        "    train_dir+language, \n",
        "    batch_size=batch_size,\n",
        "    shuffle=False\n",
        "    )\n",
        "\n",
        "en_test_ds = tf.keras.preprocessing.text_dataset_from_directory(\n",
        "    test_dir+language, \n",
        "    batch_size=batch_size,\n",
        "    shuffle=False\n",
        "    )\n",
        "\n",
        "train_ds=en_train_ds.shuffle(300,seed=1, reshuffle_each_iteration=False)\n",
        "test_ds=en_test_ds.shuffle(200,seed=1, reshuffle_each_iteration=False)\n",
        "\n",
        "train_ds_size=len(train_ds)\n",
        "test_ds_size=len(test_ds)"
      ],
      "execution_count": 7,
      "outputs": [
        {
          "output_type": "stream",
          "name": "stdout",
          "text": [
            "Found 420 files belonging to 2 classes.\n",
            "Found 180 files belonging to 2 classes.\n"
          ]
        }
      ]
    },
    {
      "cell_type": "markdown",
      "metadata": {
        "id": "ITouXXtQ8WzV"
      },
      "source": [
        "## Functions to pre-process source text. (A detailed discussion on our paper)"
      ]
    },
    {
      "cell_type": "code",
      "metadata": {
        "id": "bDPIqAgXYWim"
      },
      "source": [
        "# Preprocessing function to remove some noise due to the translation.\n",
        "def clean_samples(input_data):\n",
        "  tag_author_lang_en_removed = tf.strings.regex_replace(input_data,'', '')  \n",
        "  tag_opening_documents = tf.strings.regex_replace(tag_author_lang_en_removed,'', '')\n",
        "  tag_opening_cdata_removed = tf.strings.regex_replace(tag_opening_documents,'<\\!\\[CDATA\\[', ' ')\n",
        "  tag_closing_cdata_removed = tf.strings.regex_replace(tag_opening_cdata_removed,'\\]\\]>', ' >')\n",
        "  tag_closing_documents = tf.strings.regex_replace(tag_closing_cdata_removed,'', '')\n",
        "  output_data = tf.strings.regex_replace(tag_closing_documents,'', '')\n",
        "  return output_data"
      ],
      "execution_count": 8,
      "outputs": []
    },
    {
      "cell_type": "markdown",
      "metadata": {
        "id": "TjUnE9_DEyCw"
      },
      "source": [
        "## Get the length of the longest sample in training set. Then adapt text.\n",
        "\n"
      ]
    },
    {
      "cell_type": "code",
      "metadata": {
        "id": "ebRMQqa_mr48"
      },
      "source": [
        "def preprocess_and_adapt_ts(training_set):\n",
        "  # Set a large sequence length to find the longest sample in the training set.\n",
        "  sequence_length = 30000\n",
        "  vectorize_layer = TextVectorization(\n",
        "      standardize=clean_samples,\n",
        "      output_mode='int',\n",
        "      output_sequence_length=sequence_length)\n",
        "\n",
        "  train_text = training_set.map(lambda x, y: x)\n",
        "  vectorize_layer.adapt(train_text)\n",
        "  #vectorize_layer.get_vocabulary()\n",
        "\n",
        "  model = tf.keras.models.Sequential()\n",
        "  model.add(tf.keras.Input(shape=(1,), dtype=tf.string))\n",
        "  model.add(vectorize_layer)\n",
        "\n",
        "  longest_sample_length=1\n",
        "\n",
        "  for element in training_set:\n",
        "    authorDocument=element[0]\n",
        "    label=element[1]\n",
        "    \n",
        "    #print(\"Sample considered is: \", authorDocument[0].numpy())\n",
        "    #print(\"Preprocessed: \", str(custom_standardization(authorDocument[0].numpy())))\n",
        "    #print(\"And has label: \", label[0].numpy())\n",
        "\n",
        "    out=model(authorDocument)\n",
        "    # Convert token list to numpy array.\n",
        "    token_list = out.numpy()[0]\n",
        "    token_list = np.trim_zeros(token_list,'b')\n",
        "    if longest_sample_length < len(token_list):\n",
        "      longest_sample_length = len(token_list)\n",
        "\n",
        "  print(\"Length of the longest sample is:\", longest_sample_length)\n",
        "\n",
        "  # After tokenization longest_sample_length covers all the document lenghts in our dataset.\n",
        "  sequence_length = longest_sample_length\n",
        "\n",
        "  vectorize_layer = TextVectorization(\n",
        "      standardize=clean_samples,\n",
        "      output_mode='int',\n",
        "      output_sequence_length=sequence_length)\n",
        "\n",
        "  # Finally adapt the vectorize layer.\n",
        "  train_text = training_set.map(lambda x, y: x)\n",
        "  vectorize_layer.adapt(train_text)\n",
        "  return vectorize_layer"
      ],
      "execution_count": 10,
      "outputs": []
    },
    {
      "cell_type": "markdown",
      "metadata": {
        "id": "x8zDXrk9eEy5"
      },
      "source": [
        "## Vectorization\n",
        "\n",
        "\n"
      ]
    },
    {
      "cell_type": "code",
      "metadata": {
        "colab": {
          "base_uri": "https://localhost:8080/"
        },
        "id": "P8owxNMIeFsX",
        "outputId": "d1d656b6-a703-49fe-b10e-d05071df2959"
      },
      "source": [
        "print(\"\\n\\n* * * * VECTORIZATION STARTED * * * *\")\n",
        "\n",
        "# Preprocess training set to build a dictionary.\n",
        "vectorize_layer = preprocess_and_adapt_ts(train_ds)\n",
        "\n",
        "max_features=len(vectorize_layer.get_vocabulary()) + 1\n",
        "print(\"Vocabulary size is:\", max_features)"
      ],
      "execution_count": 11,
      "outputs": [
        {
          "output_type": "stream",
          "name": "stderr",
          "text": [
            "WARNING:tensorflow:From /usr/local/lib/python3.9/dist-packages/tensorflow/python/autograph/pyct/static_analysis/liveness.py:83: Analyzer.lamba_check (from tensorflow.python.autograph.pyct.static_analysis.liveness) is deprecated and will be removed after 2023-09-23.\n",
            "Instructions for updating:\n",
            "Lambda fuctions will be no more assumed to be used in the statement where they are used, or at least in the same block. https://github.com/tensorflow/tensorflow/issues/56089\n"
          ]
        },
        {
          "output_type": "stream",
          "name": "stdout",
          "text": [
            "\n",
            "\n",
            "* * * * VECTORIZATION STARTED * * * *\n",
            "Length of the longest sample is: 9808\n",
            "Vocabulary size is: 187022\n"
          ]
        }
      ]
    },
    {
      "cell_type": "markdown",
      "metadata": {
        "id": "XDEi7MAo4qsQ"
      },
      "source": [
        "## Models definition and evaluation.\n",
        "\n",
        "\n"
      ]
    },
    {
      "cell_type": "code",
      "metadata": {
        "colab": {
          "base_uri": "https://localhost:8080/"
        },
        "id": "Mm1fdCpETWL-",
        "outputId": "0c42a8b7-5a54-4521-a8a1-44f5a31213a0"
      },
      "source": [
        "print(\"\\n\\n***** FINITO DI PROCESSARE E ADATTARE IL TRAINING SET, INIZIA LA SIMULAZIONE *******\")\n",
        "# Print a raw and a preprocessed sample.\n",
        "for element in train_ds:\n",
        "  authorDocument=element[0]\n",
        "  label=element[1]\n",
        "  \n",
        "  print(\"Sample considered is: \", authorDocument[0])\n",
        "  print(\"Preprocessed: \", str(clean_samples(authorDocument[0].numpy())))\n",
        "  break\n",
        "\n",
        "# # # - - - - - MODELS DEFINITION AND EVALUATION - - - - - # # #\n",
        "\n",
        "model = tf.keras.models.Sequential()\n",
        "model.add(tf.keras.Input(shape=(1,), dtype=tf.string))\n",
        "model.add(vectorize_layer)\n",
        "\n",
        "# # # # # # # # # # # # # # # # # # # # # # # # # # # # # # # # # # # \n",
        "\n",
        "# --- SVM SECTION START --- #\n",
        "\n",
        "training_labels=[]\n",
        "training_samples=[]\n",
        "\n",
        "max_features=len(vectorize_layer.get_vocabulary()) + 1\n",
        "\n",
        "for element in train_ds:\n",
        "  authorDocument=element[0]\n",
        "  label=element[1]\n",
        "  \n",
        "  #print(\"Sample considered is: \", authorDocument[0])\n",
        "  #print(\"Preprocessed: \", str(custom_standardization(authorDocument[0].numpy())))\n",
        "  #print(\"And has label: \", label[0].numpy())\n",
        "  \n",
        "  text_vect_layer_model = tf.keras.Model(inputs=model.input,\n",
        "                                      outputs=model.layers[0].output)\n",
        "  text_vect_out = text_vect_layer_model(authorDocument)\n",
        "\n",
        "  training_labels.append(label[0].numpy())\n",
        "  current_sample=np.zeros(max_features)\n",
        "  for current_token in text_vect_out[0][:].numpy():\n",
        "    #print(current_token,end=' ')\n",
        "    #print(vectorize_layer.get_vocabulary()[current_token])\n",
        "    current_sample[current_token]+=1\n",
        "  training_samples.append(current_sample)\n",
        "  #break\n",
        "\n",
        "training_labels=np.array(training_labels)\n",
        "training_samples=np.array(training_samples)\n",
        "#print(\"\\nLE LABELS DEI CAMPIONI DI TRAINING SONO:\")\n",
        "#print(training_labels)\n",
        "#print(\"\\nI SAMPLE DI TRAINING DOPO LA TEXT VECTORIZATION SONO:\")\n",
        "#print(training_samples)\n",
        "\n",
        "test_labels=[]\n",
        "test_samples=[]\n",
        "\n",
        "for element in test_ds:\n",
        "  authorDocument=element[0]\n",
        "  label=element[1]\n",
        "  \n",
        "  text_vect_layer_model = tf.keras.Model(inputs=model.input,\n",
        "                                      outputs=model.layers[0].output)\n",
        "  text_vect_out = text_vect_layer_model(authorDocument)\n",
        "\n",
        "  test_labels.append(label[0].numpy())\n",
        "  current_sample=np.zeros(max_features)\n",
        "  for current_token in text_vect_out[0][:].numpy():\n",
        "    current_sample[current_token]+=1\n",
        "  test_samples.append(current_sample)\n",
        "\n",
        "test_labels=np.array(test_labels)\n",
        "test_samples=np.array(test_samples)\n",
        "\n",
        "SVM = svm.SVC(C=0.5, kernel='linear', gamma='auto')\n",
        "SVM.fit(training_samples,training_labels)\n",
        "# predict the labels on training set\n",
        "#predictions_SVM = SVM.predict(training_samples)\n",
        "# Use accuracy_score function to get the accuracy\n",
        "result=SVM.score(training_samples,training_labels)\n",
        "print(\"SVM Accuracy Score on Training set -> \",result)\n",
        "\n",
        "# predict the labels on validation dataset\n",
        "predictions_SVM = SVM.predict(test_samples)\n",
        "# Use accuracy_score function to get the accuracy\n",
        "result=SVM.score(test_samples,test_labels)\n",
        "print(\"SVM Accuracy Score on Test set -> \",result)\n",
        "\n",
        "# --- SVM SECTION END --- #\n",
        "\n",
        "# # # # # # # # # # # # # # # # # # # # # # # # # # # # # # # # # # #\n",
        "\n",
        "# # # - - - - - MODEL DEFINITION AND EVALUATION END  - - - - - # # #"
      ],
      "execution_count": 12,
      "outputs": [
        {
          "output_type": "stream",
          "name": "stdout",
          "text": [
            "\n",
            "\n",
            "***** FINITO DI PROCESSARE E ADATTARE IL TRAINING SET, INIZIA LA SIMULAZIONE *******\n",
            "Sample considered is:  tf.Tensor(b'<author lang=\"en\">\\n\\t<documents>\\n\\t\\t<document><![CDATA[#USER# Obviously. He will definitely charge. The world is witness.]]></document>\\n\\t\\t<document><![CDATA[You Know I m A Ho (Clean) Feat. Ice Cube by Master P now playing on #URL# #HASHTAG# #HASHTAG# #URL#]]></document>\\n\\t\\t<document><![CDATA[Sometimes only accepting the reality ease ur suffering n pain...]]></document>\\n\\t\\t<document><![CDATA[#USER# #USER# But he didn\\'t ask for prayers for the devil, he asked for prayers Putin, for God to change his heart from doing evil.  That is how we pray for bad people, for God to change their hearts so they will turn away from evil. \\nOur Lord Jesus died for sinners, that didn\\'t make him evil.]]></document>\\n\\t\\t<document><![CDATA[i been too nice lately. y\\xe2\\x80\\x99all must\\xe2\\x80\\x99ve forgot im the devil \\xf0\\x9f\\x99\\x83]]></document>\\n\\t\\t<document><![CDATA[#USER# #USER# U can\\'t have attitude and call it sense don\\'t confuse yourself with that. Having sense makes u look calm and attractive , having attitude no Word filter saying shit thinking you saying your mind makes u look like an aggressive chihuahua. I bet no one will want to come closer]]></document>\\n\\t\\t<document><![CDATA[in a few years. there will be no antelopes in pakistan. we lost our elephants. we will lose our leopards. we losing hella rare animals. idk. that shit is sad. once u lose ur totems and sacred animals. all the spirituality dies out.]]></document>\\n\\t\\t<document><![CDATA[100% agree with #USER#. The greatest threat to women\\'s safety &amp; equality is govt policies which do not pass the human rights or gender equality test. The Draft Natl Plan to End Violence is 100% silent on responsibility of govt to end harmful policies.\\n\\n#URL#]]></document>\\n\\t\\t<document><![CDATA[#USER# This story tracks with #USER#\\'s analysis of Harry Potter in his recent video. TL;DW Joanne believes there aren\\'t good/bad actions, but rather good/bad teams, and rules of morality only apply to those on the bad team, while those on the good team can do whatever they want.]]></document>\\n\\t\\t<document><![CDATA[#USER# thank you so much you\\xe2\\x80\\x99re very lovely but I don\\xe2\\x80\\x99t think there\\xe2\\x80\\x99s anything you or anyone else can do. I care about you too]]></document>\\n\\t\\t<document><![CDATA[#USER# bro get OUT of here, we all know the first one was the best on the Game Boy Color]]></document>\\n\\t\\t<document><![CDATA[Morality is not. Mora #URL# I am originally from Flo, Happiness is an attitude o #URL#]]></document>\\n\\t\\t<document><![CDATA[I know he tries hard and I know he works hard but he is most out of control point guard in Laker history.. Which is why 4th innthe NBA turnovers. If just slowed down and calmed down it wouldn\\'t be like tonight 5 more turnovers and 3 air balls going basket for layouts #URL#]]></document>\\n\\t\\t<document><![CDATA[So funny how everyone is coming out from the shadows now saying they dumped their stocks in late 2021 \\xf0\\x9f\\x98\\x82 They will be the ones saying they were buying heaving when $SPY is at $500]]></document>\\n\\t\\t<document><![CDATA[#USER# #USER# #USER# #USER# #USER# #USER# #USER# #USER# #USER# #USER# #USER# Ukraine wanting to join NATO, West, particularly America eyeing a base there, I can see Russia\\xe2\\x80\\x99s dilemma. Unable to get commitment from Ukraine otherwise, they choose this response. No powerful country is  innocent in chess games they play around the globe. We pay the price.]]></document>\\n\\t\\t<document><![CDATA[#USER# #USER# #USER# #USER# Last 5 games;\\n\\nWest: 135 min, 23 pts\\nEllis: 113 min, 35 pts\\n\\nSo for as \\xe2\\x80\\x9cbad\\xe2\\x80\\x9d as Ellis has been he\\xe2\\x80\\x99s head &amp; shoulders above West. The coaching staff starting &amp; playing West so much all year has killed this team. He\\xe2\\x80\\x99s the worst guard by far. #USER# #USER# #USER#]]></document>\\n\\t\\t<document><![CDATA[#USER# Instead why not senf the national guard young healthy recruits to Dave Atwood\\'s forced organ harvesting of the \"highway of tears\" folk off digby where putin kin came though in August of 1959? Instead of deploying the young healthy national guard to the India owned RGV just send]]></document>\\n\\t\\t<document><![CDATA[In this land of pure! Helpless mothers are deprived of their sons, I dedicate this day to the mother of Arman Loni and all those mothers whose young children are missing, injured, or killed brutally. Pashtun and Baloch mothers have paid costs in terms of their sons\\n#HASHTAG# #URL#]]></document>\\n\\t\\t<document><![CDATA[Just started trending in Pakistan.\\n\\n#HASHTAG#\\nPak Army\\nMomina Mustehsan\\nEverton\\nBismah Maroof\\nD Chowk\\nGermany\\nAmeeen\\nStay Blessed\\nShame]]></document>\\n\\t\\t<document><![CDATA[We shd encourage people to adopt orphan children incentives shd be, apart from paid leave,\\n\\n1. Salary hike\\n2. One promotion\\n4. Health Insurance\\nEtc #URL#]]></document>\\n\\t\\t<document><![CDATA[Thanks for the amazing show big bro! Had goosebumps the whole time especially when chip come in. Thanks for everything #USER#]]></document>\\n\\t\\t<document><![CDATA[#USER# #USER# I took part in the airdrop of a very good project, I hope I get lucky. \\n\\n#USER#\\n#USER#\\n#USER#]]></document>\\n\\t\\t<document><![CDATA[#USER# According to said individual, I am exceptionally calm and don\\'t modulate tone whatsoever.]]></document>\\n\\t\\t<document><![CDATA[#USER# #USER# CALM BUDDHAS (NFT COLLECTION) \\xe2\\x9c\\x85 The collection features 7,777 custom NFTs with 7 ultra rare 1/1s. \\xe2\\x9c\\x85 Public minting price .08 eth - great value! Twitter: #URL# Discord: #URL# Tg community. #URL#]]></document>\\n\\t\\t<document><![CDATA[Balenciaga Goes Where Fashion Hasn\\xe2\\x80\\x99t Dared Go Before\\nIn the show of the season, the brand takes on the war in Ukraine. Valentino embraces love. And Givenchy buckles down. #URL#]]></document>\\n\\t\\t<document><![CDATA[Check out my Gig on Fiverr: design logo for your website, company, business, or brand #URL#]]></document>\\n\\t\\t<document><![CDATA[#USER# #USER# #USER# #USER# #USER# bro just agree ,he wasn\\xe2\\x80\\x99t good in his last 8 games vs real]]></document>\\n\\t\\t<document><![CDATA[#USER# #USER# #USER# #USER# Bro you misunderstood what he said. He knows that none of the money is going to Ukrainians, he said that Roman will push the narrative that the UK stopped him from donating to Ukrainian victims if the UK freezes the sale. Of course Roman was never going to anyway]]></document>\\n\\t\\t<document><![CDATA[Calm down when you talking to me get smart if you have too, we can get down FORREAL!]]></document>\\n\\t\\t<document><![CDATA[Laugh At\\n\\n\\xe2\\x80\\x9cPatient in the mermaid start wearing seashells?\\nB: Because she \\xe2\\x80\\x98had d\\xc3\\xa9j\\xc3\\xa0 vu in the joke about the agent called]]></document>\\n\\t\\t<document><![CDATA[*WhiteList Hunter* Complete mission sweepwidget Airdrops hunter during period 08 \\xe2\\x80\\x93 18 March 2022 so you have a change to get WhiteList slot in the ArtKit presale. Link : #URL#]]></document>\\n\\t\\t<document><![CDATA[As far as the engagement letter goes, Eastman says they don\\xe2\\x80\\x99t have to have a signed thingy because ethics say as a lawyer he has to provide confidentiality so it\\xe2\\x80\\x99s just automatic!! 4/ #URL#]]></document>\\n\\t\\t<document><![CDATA[#USER# yeah i think if it were seen as both feminine and masculine it would be neutralized like just smth everyone has bc no woman is truly completely hairless and IKR? I saw some ads recently and hated how they had the man be extra hairy on purpose compared to the woman]]></document>\\n\\t\\t<document><![CDATA[Sucks that you won\\xe2\\x80\\x99t be here for your birthday \\xf0\\x9f\\xa5\\xba\\xf0\\x9f\\x92\\x94 why did life have to be so unfair? I don\\xe2\\x80\\x99t get it, you were such an amazing person \\xf0\\x9f\\x98\\x9e #HASHTAG# \\xf0\\x9f\\x95\\x8a\\xf0\\x9f\\xa4\\x8d]]></document>\\n\\t\\t<document><![CDATA[#USER# \"A HONORABLE FUTURE\" Let\\'s leave your children a clean world and a dignified life, let\\'s not leave the remains of tank shells and weapons, but a paradise decorated with big plane trees #URL# #URL#]]></document>\\n\\t\\t<document><![CDATA[Liam is waking up in the infirmary, his gut in immensely pain still as Liam looks around.]]></document>\\n\\t\\t<document><![CDATA[#USER# You\\xe2\\x80\\x99re definitely not unwanted, and you\\xe2\\x80\\x99re definitely not unloved, you can push through this shit and a whole lot of people on here will do whatever we can to help you with that. The pain is not your fault]]></document>\\n\\t\\t<document><![CDATA[Emotional orange on repeat to keep me calm. \\xf0\\x9f\\x8d\\x8a\\xf0\\x9f\\xa7\\xa1]]></document>\\n\\t\\t<document><![CDATA[Eskom Expo introduction session at Witsieshoek primary school \\xe2\\x80\\x93 The Guard #URL# #URL#]]></document>\\n\\t\\t<document><![CDATA[#USER# oh puhleeze ..I notice you didn\\'t include the word \\'integrity \\' in your little nationalist pledge Ranger Tom lol]]></document>\\n\\t\\t<document><![CDATA[Always catching me off guard bro. Everyyy timeee #URL#]]></document>\\n\\t\\t<document><![CDATA[It would be funny if it wasn\\'t so serious that, if given the chance, they absolutely would repeal the ACA\\'s patient protections and coverage expansions. #URL#]]></document>\\n\\t\\t<document><![CDATA[#USER# Bro I don\\'t partake it\\'s a shame because those of us truly so based as to not give a shit about everything insignificant aren\\'t represented even in fringe media \\xf0\\x9f\\xa5\\xb4]]></document>\\n\\t\\t<document><![CDATA[#USER# Election of Ronald Reagan and the Challenger disaster.]]></document>\\n\\t\\t<document><![CDATA[Check out this listing I just added to my #HASHTAG# closet: SALE - Roll of Clear Packing Tape 165 ft roll 2\\xe2\\x80\\x9d wide packing box tape 55 yd. #URL# #HASHTAG# #USER#]]></document>\\n\\t\\t<document><![CDATA[#USER# this including the professionals that actually did know how to manage the entire oil business, everyone that\\'s left here have NO IDEA of what they\\'re doing and pls even before the sanctions the government had such shitty management of the entire business lmao it was a disaster fr]]></document>\\n\\t\\t<document><![CDATA[#USER# thought weed makes one calm, what\\'s with this aggression , after all weed\\'s good for ya all.\\nThank you weed\\xf0\\x9f\\x98\\x86]]></document>\\n\\t\\t<document><![CDATA[#HASHTAG## I got a brand new rare skin! Check it out and try your luck! #URL#]]></document>\\n\\t\\t<document><![CDATA[#USER# just send the young national guard kids to Eddie\\'s putin inlaw P.L.A.N. of KLBJ\\'s use the tourniquets as yvonne constantly feared with buried arms and legs massively on her property..Do we see you rescuing Rep. Donna Howard from her evil clergy you call right wing and left wing]]></document>\\n\\t\\t<document><![CDATA[Check out this listing I just added to my #HASHTAG# closet: Aimee Kestenberg Blush Pink Wallet NWOT. #URL# #HASHTAG# #USER#]]></document>\\n\\t\\t<document><![CDATA[#USER# #USER# #USER# #USER# #USER# #USER# #USER# #USER# #USER# *gets caught off guard by \"cute ninja boy\"* ...excuse me?]]></document>\\n\\t\\t<document><![CDATA[#USER# $caturai to the moon $heal $bro $mri]]></document>\\n\\t\\t<document><![CDATA[Ultimately nawab Malik reached jail for his sins and outrageous comments on others , now Sharad Pawar, sanjay Raut are que, very soon they will also join this anti Nationalist and corrupt Nawab Malik .]]></document>\\n\\t\\t<document><![CDATA[A man i strongly respect told me \"keep being ambitious\" almost teared up...bro put that EXTRA rocket behind my back. We going HARDER than ever]]></document>\\n\\t\\t<document><![CDATA[#USER# I think it makes a lot of sense for games like this where sequels tend to be more iterative and build upon what came before.  I\\'d rather see a base engine upgraded and DLC added than a brand new game that loses content.  Obviously it doesn\\'t work for every game type though]]></document>\\n\\t\\t<document><![CDATA[Def believe Putin could say anything and the Pentagon would believe it #URL#]]></document>\\n\\t\\t<document><![CDATA[Royal Stoneguard: I AM ROYAL GUARD OF CASTLE. I GUARD IMPORTANT. VERY IMPORTANT.]]></document>\\n\\t\\t<document><![CDATA[#USER# I am calm and at peace\\n\\nSAMBIE DAY2 ONItsSHOWTIME]]></document>\\n\\t\\t<document><![CDATA[I smile, laugh &amp; play all day on these apps to keep me going\\xe2\\x80\\xa6\\xe2\\x80\\xa6]]></document>\\n\\t\\t<document><![CDATA[#USER# Xavier Amos played big time and Dalen Davis is a special point guard. They don\\xe2\\x80\\x99t win without him tonight. Darrin Ames was impressive for Kenwood. Great Game!]]></document>\\n\\t\\t<document><![CDATA[The billionaire oligarchs funding tRump in the USA better take heed! Not one hair on Zelenskyy\\xe2\\x80\\x99s head must be harmed. Back off Mr. Putin, this war is wrong, back off! #URL#]]></document>\\n\\t\\t<document><![CDATA[Pure Win would like to wish Everyone a very Happy Women\\'s Day \\xf0\\x9f\\x92\\xaa\\xe2\\x9d\\xa4\\xef\\xb8\\x8f\\n\\n#HASHTAG# #HASHTAG#2022 #HASHTAG# #HASHTAG# #HASHTAG# #HASHTAG# #HASHTAG# #HASHTAG# #HASHTAG# #HASHTAG# #HASHTAG# #HASHTAG# #HASHTAG# #HASHTAG# #HASHTAG# #HASHTAG#Australia #URL#]]></document>\\n\\t\\t<document><![CDATA[Pakistan Army has built Younis Khan Sports Complex Miranshah in North Waziristan. Younis Khan Sports Complex Miranshah is an international standard stadium to provide all kinds of sports facilities to the youth of Waziristan.\\n\\n#HASHTAG# #URL#]]></document>\\n\\t\\t<document><![CDATA[Check out this listing I just added to my #HASHTAG# closet: Lululemon tank top coral with ruched sides and lululemon writing on bust size 8. #URL# #HASHTAG# #USER#]]></document>\\n\\t\\t<document><![CDATA[My guard so up, I can\\'t even see the top...so, just carry on smartly!!\\n#HASHTAG#]]></document>\\n\\t\\t<document><![CDATA[Jean if you want my support will you be advocating for a full withdraw of Canada from all United Nations agreements including the Global Compact For Migration and the IPCC Paris Accord on climate change and renegotiate the FIPA accord and the removal of the carbon tax. #HASHTAG# #URL#]]></document>\\n\\t\\t<document><![CDATA[Have you entered this sweepstakes to win the Nemo Executive Order Rifle w/ Trijicon VCOG Scope?\\nIf you enter using this link, I will get more entries. :)  Sweepstakes ends 03/09/22\\n%{link} #URL#]]></document>\\n\\t\\t<document><![CDATA[#USER# Happy Birthday Crish...!! Have a blast]]></document>\\n\\t\\t<document><![CDATA[stones: calm, rest, stress, headache, stomachache, lahat na ng ache. \\n\\nanon: why settle?\\n\\nstones: coz it\\'s worth it. \\xf0\\x9f\\x98\\x8c #URL#]]></document>\\n\\t\\t<document><![CDATA[#USER# #USER# #USER# When I say struggling I\\xe2\\x80\\x99m not talking abt points. I\\xe2\\x80\\x99m talking physically. Sure he shot 12/17 but he also has 14 fts. So that shifted the mentality and we couldn\\xe2\\x80\\x99t guard him or else it\\xe2\\x80\\x99s fts]]></document>\\n\\t\\t<document><![CDATA[#USER# #USER# I think that is in the national guard. Azov Special Operations Detachment. This is their insignia: #URL#]]></document>\\n\\t\\t<document><![CDATA[#USER# #USER# and #USER# will make us millionaire this 2022\\xf0\\x9f\\x94\\xa5\\nMint 5 TTigersNFT &amp; get One Free PeakXV Land for a limited time!\\xf0\\x9f\\x94\\xa5\\n\\nRENTABLE\\xe2\\x9c\\x85\\nPlay To Earn \\xe2\\x9c\\x85\\nPassive Income \\xe2\\x9c\\x85\\nSpecial Collection \\xe2\\x9c\\x85\\nLimited \\xe2\\x9c\\x85\\n\\n#URL#\\n\\n #USER# #HASHTAG# #URL#]]></document>\\n\\t\\t<document><![CDATA[#USER# #USER# Jen you would honestly really love it there. It\\xe2\\x80\\x99s like a calm, blocked off place of the world &amp;  nonsense everywhere. UBL lighting and all (it\\xe2\\x80\\x99s pink).]]></document>\\n\\t\\t<document><![CDATA[#USER# is an amazing woman who is not afraid to talk about #HASHTAG# at work. #HASHTAG# #URL#]]></document>\\n\\t\\t<document><![CDATA[#USER# #USER# #USER# #USER# #USER# #USER# #USER# #USER# Yes, i think that is unfair  and that needs to be reformed]]></document>\\n\\t\\t<document><![CDATA[#USER# And get her chocolates and jewellery maybe,budget zyada hai toh even a purse. Make up, skincare.]]></document>\\n\\t\\t<document><![CDATA[I\\'m horny daddy \\xf0\\x9f\\x91\\x85 dms open #HASHTAG# #HASHTAG# #HASHTAG# #HASHTAG# #HASHTAG# #HASHTAG# #URL#]]></document>\\n\\t\\t<document><![CDATA[#USER# its just so calm and cozy feels like a nice lil sleepover ^_^]]></document>\\n\\t\\t<document><![CDATA[#USER# I have too many- cruel summer, paper rings, death by a thousand cuts, false god, after glow, daylight, Cornelia street, you need to calm down, the archer]]></document>\\n\\t\\t<document><![CDATA[#USER# #USER# #USER# Please explain how a 3 cent carbon tax changes people\\'s thoughts on using fuel then. How exactly is this minuscule tax going to make a difference?\\nOh, and it goes up 10 cents on April 1st.]]></document>\\n\\t\\t<document><![CDATA[#USER# But what did BJP achieve by pulling back Farm laws? I cannot see any vote swing due to pullback. It only benefitted the opposition.]]></document>\\n\\t\\t<document><![CDATA[#USER# #USER# #USER# #HASHTAG# the life changer! In 2022 people will regret not buying #HASHTAG#. The #HASHTAG# community is far more greaters than any other that I have experienced personally.If you want to become a millionaire in 2022, buy #HASHTAG# \\xf0\\x9f\\x92\\x8e. #USER# #HASHTAG# #URL# , #URL#]]></document>\\n\\t\\t<document><![CDATA[Y\\xe2\\x80\\x99all really outchea paying attention &amp; feeling bad for two multi millionaires and a billionaire in a love/hate triangle lmao #URL#]]></document>\\n\\t\\t<document><![CDATA[#HASHTAG# participants of your network find introduced fee through being element , and therefore, they sense a part of the own family of your emblem. #URL#]]></document>\\n\\t\\t<document><![CDATA[#USER# and the machine is Owen so yells at them and says \\xe2\\x80\\x9cCALM DOWN GET STRAIGHT\\xe2\\x80\\x9d \\xf0\\x9f\\x98\\xad\\xf0\\x9f\\x98\\xad\\xf0\\x9f\\x98\\xad or \\xe2\\x80\\x9cSHUT UP\\xe2\\x80\\x9d \\xf0\\x9f\\x92\\x80\\xf0\\x9f\\x92\\x80\\xf0\\x9f\\x92\\x80]]></document>\\n\\t\\t<document><![CDATA[WTF?? Is this real? Mike Pompeo on Russion State TV?????? #URL#]]></document>\\n\\t\\t<document><![CDATA[The Gal Gadot avatar is a digital avatar modeled on my face created by my rapist Rachel Dratch #USER#. It is an impersonation used to identify my whereabouts. To hunt me down to push me off roads. To kill me. \\n#USER#\\n#USER#\\n#USER#\\n#USER#\\n#USER# \\n#USER#\\n. #URL#]]></document>\\n\\t\\t<document><![CDATA[Check out this listing I just added to my #HASHTAG# closet: Siver tone Clear Rhinestone Statement Piece Necklace &amp; Earring Set. #URL# #HASHTAG# #USER#]]></document>\\n\\t\\t<document><![CDATA[#USER# By sticking your thumb up your butt and licking the mouse]]></document>\\n\\t\\t<document><![CDATA[BROO CALM DOWN PERO TRUE NAMAN #URL#]]></document>\\n\\t\\t<document><![CDATA[#USER# How many other ways could it fail? This is like the ultimate disaster policy handbook.]]></document>\\n\\t\\t<document><![CDATA[This project includes the number of best things: team, product, idea and great start. So we need products and ideas! I\\'m sure the company will occupy a leading place soon!\\n#USER# #USER# #USER# #URL#]]></document>\\n\\t\\t<document><![CDATA[#USER# #USER# #USER# Wtf are you even on about Idek you \\xf0\\x9f\\x98\\x82\\xf0\\x9f\\x98\\x82\\xf0\\x9f\\x98\\x82 fucking weirdo]]></document>\\n\\t\\t<document><![CDATA[#USER# #USER# Caps. Weed doesn\\xe2\\x80\\x99t give cancer or any of those shitty ass illness y\\xe2\\x80\\x99all ignorant asses be wishing on.]]></document>\\n\\t\\t<document><![CDATA[I already am set to go to spring with your brother #URL#]]></document>\\n\\t\\t<document><![CDATA[Your calm life can turn topsy turvy overnight; shaking you to the core. This curve ball can throw you off and disrupt your life completely. But if you lay your trust in the Almighty, you\\'ll get over the worry and sadness.]]></document>\\n\\t\\t<document><![CDATA[to go into a McDonald\\xe2\\x80\\x99s in Rome, Italy in October of 2021 you had to show your vaccine card and your ID to a security guard who then gave you a sticker to say you were okay - TO EAT AT MCDONALDS]]></document>\\n\\t\\t<document><![CDATA[heiryy is freaking out about my borth day already like calm down shawty \\xf0\\x9f\\xa5\\xb6\\xf0\\x9f\\x98\\xa9]]></document>\\n\\t\\t<document><![CDATA[Journos using anononymous Pentagon sources to \"confirm\" \"scoops\" that were based on anonymous Pentagon sources, love to relive 2002 #URL#]]></document>\\n\\t\\t<document><![CDATA[Needlepoint Kit or Canvas: Jerusalem Palm by pepitaneedlepoint #URL# #URL#]]></document>\\n\\t\\t<document><![CDATA[Brick by brick. I will dismantle out of touch \"leaders\" from their positions by informing the appropriate people. When Soldiers take their lives after your \"counseling\" you are lucky early retirement is the likely outcome, should be prison.]]></document>\\n\\t\\t<document><![CDATA[#USER# #USER# #USER# Maybe much more than that. US of Ahhh will have its severe beatings this time for disrespecting, humiliating to the point of assassinating Maduro.\\nJust love how things unfold with US, EU and NATO right now with their bannered hypocrisy,war mongering and disgusting supremacy.]]></document>\\n\\t\\t<document><![CDATA[omg How cute this mafia boss\\xf0\\x9f\\x98\\x82 Is there another mafia boss who\\'s this cute?\\xf0\\x9f\\x92\\x9b He looks really happy and it makes us happy too. Thank you boss very very TSKR\\xf0\\x9f\\x91\\x8f\\xe2\\x9c\\xa8 #HASHTAG# #URL#]]></document>\\n\\t\\t<document><![CDATA[\"Like this?\" Those ass cheeks were swinging from side to side in no time.\\n\\nAnd it had Denki\\'s dick throbbing. \"...Holy fuck.\"\\n\\nThe alpha turned his head to the side. \"Going feral?\"\\n\\n\"Already there.\" He grabbed Shinsou by the butt cheeks and started pulling at him.]]></document>\\n\\t\\t<document><![CDATA[\\xe2\\x80\\xa6no. I\\xe2\\x80\\x99ve never seen a single man on this planet look even decently good with a \\xe2\\x80\\x9cporn style mustache\\xe2\\x80\\x9d.. please don\\xe2\\x80\\x99t hype that look up. It\\xe2\\x80\\x99s nasty. #URL#]]></document>\\n\\t\\t<document><![CDATA[#USER# \\xe2\\x80\\xbc\\xef\\xb8\\x8f 6\\xe2\\x80\\x991 Guard from Guymon OK, on a mission to play \\xf0\\x9f\\x8f\\x80 at the next level \\xe2\\x80\\xbc\\xef\\xb8\\x8f #URL#]]></document>\\n\\t\\t<document><![CDATA[#USER# you right but i have zero morality when it comes to fictional chars]]></document>\\n\\t\\t<document><![CDATA[\\xe2\\x80\\x9cOne of the strongest tools the city has is the zoning tool. It\\xe2\\x80\\x99s used to engage people to see what kind of city they would like to see,\\xe2\\x80\\x9d said #USER# at today\\'s launch of #HASHTAG#, a comic written in collaboration with students. #URL#]]></document>\\n\\t\\t<document><![CDATA[PUB issues Area Forecast Discussion (AFD) at Mar 7, 9:44 PM MST ...Light snow this evening over the mountains and I-25 corridor... #URL#]]></document>\\n\\t\\t<document><![CDATA[#USER# #USER# #USER# I don\\xe2\\x80\\x99t know\\xe2\\x80\\xa6 I\\xe2\\x80\\x99d make a deal with the devil to be done with Lee, and I see McMullin as the only realistic option.]]></document>\\n\\t\\t<document><![CDATA[I hope I win this Ultimate Geissele Rifle Giveaway from #USER#! #URL#]]></document>\\n\\t\\t<document><![CDATA[#USER# \\xf0\\x9f\\x8d\\x80Biffs Lucky Leprechauns\\xf0\\x9f\\x8d\\x80\\n\\nTokenomics \\n5% AutoLp\\xf0\\x9f\\x92\\xa6\\n5% Marketing\\xf0\\x9f\\xa4\\x9d\\n3% Pot1\\xf0\\x9f\\x92\\xb0\\n1% Pot2\\xf0\\x9f\\x92\\xb0\\n1% Pot3\\xf0\\x9f\\x92\\xb0\\n\\n\\xe2\\x9c\\x85Community token drive\\n\\xe2\\x9c\\x85Huge marketing plugs\\n\\xe2\\x9c\\x85Initial Lp lock 1 month\\n\\xe2\\x9c\\x85Tokens vested for future listing, strategic partnership, giveaway, staking pool\\nTG:#URL#]]></document>\\n\\t\\t<document><![CDATA[#USER# #USER# Read the whole article? \"The move, which came Saturday, was a response to a recent federal ruling that blocked the way the Biden administration was calculating the real cost of climate change\" \\xe2\\x80\\x9csocial cost of carbon,\\xe2\\x80\\x9d \"But 10 Republican-led states sued the government\"]]></document>\\n\\t\\t<document><![CDATA[Oil. Kidding me. We are in discussion with our enemies Iran and Venezuela to increase OIL production to supply our needs. What happen to a better option of the US increasing production. RIGHT HERE IN THE USA. Bunch lunitics in DC!!]]></document>\\n\\t\\t<document><![CDATA[#USER# Hahaha thanks bro, been getting the same reactions too recently]]></document>\\n\\t\\t<document><![CDATA[#USER# #USER# #USER# #USER# Can you sense the calm before the storm? #HASHTAG# could explode anytime now. #HASHTAG# #HASHTAG# #HASHTAG# #HASHTAG#X #HASHTAG#Army #HASHTAG# .]]></document>\\n\\t\\t<document><![CDATA[my trust issues are so bad bro i cant be the only one]]></document>\\n\\t\\t<document><![CDATA[Brian Letton - She\\'ll Be Right Mate]]></document>\\n\\t\\t<document><![CDATA[Dear Blue Screen Box,\\n\\nToday was interesting I learned so much about being controlled by many people I am set free now I have never felt so alive and calm and then it was mind blowing to hear Female Creator Of The Test in my right ear I missed you so much teacher of creations]]></document>\\n\\t\\t<document><![CDATA[You know very well what is special today\\xf0\\x9f\\x90\\xb6\\xf0\\x9f\\x90\\xb6\\n\\nSo send your tribute to your goddess on this special day\\xf0\\x9f\\x91\\x91\\xf0\\x9f\\x91\\x91\\n\\nSend Amazon gift card , gift , tribute to your goddess and wish me women\\'s day\\xf0\\x9f\\x96\\x95\\xf0\\x9f\\x96\\x95\\n\\nSo send , send and send me for nothing\\xf0\\x9f\\x96\\x95\\xf0\\x9f\\x96\\x95\\xf0\\x9f\\x96\\x95\\n\\nOne lucky will get a chance to see me\\xf0\\x9f\\x90\\xb7 #URL#]]></document>\\n\\t\\t<document><![CDATA[#USER# there\\'s no specific change without a radical revolution, join me to the force]]></document>\\n\\t\\t<document><![CDATA[I\\xe2\\x80\\x99m not hungry BUT I could eat like #HASHTAG# of a steak with #HASHTAG# and maybe some fries #URL#]]></document>\\n\\t\\t<document><![CDATA[#USER# Calm down bro, good that you had a rest, to be well and be able to always stay with us there, and I want to see you there now \\xf0\\x9f\\x98\\x84\\xe2\\x9d\\xa4\\xef\\xb8\\x8f]]></document>\\n\\t\\t<document><![CDATA[#USER# I\\'d take a talking parrot over Biden....oh wait. \\nbut seriously, ANYONE, would do a better job in the White House than this blabbering butt plug!!]]></document>\\n\\t\\t<document><![CDATA[I need $1000 to invest in Meta stock.\\nThe return is extremely favorable, even consider long term options trading on this one. Then invest that into more options and assets.\\n\\nJust a high ass thought from a future billionaire lol.]]></document>\\n\\t\\t<document><![CDATA[#USER# #USER# #USER# The reason why we don\\'t have universal dental care is because the insurance companies are the ones making a profit off of this industry &amp; #USER# doesn\\'t want to mess with that.]]></document>\\n\\t\\t<document><![CDATA[Nice\\xe2\\x80\\x99n Clean Baby Wipe Soft Pack Aloe/Vitamin E Scented 80 Count, M225XT \\xe2\\x80\\x93 Case of\\xc2\\xa0960 #URL#]]></document>\\n\\t\\t<document><![CDATA[#USER# Why must it  be \"\"realistic\"\" ? These movies require you to believe nonsense things like \"man dresses as bat to fight crime\" and \"billionaire dude genuinely wants to help people.\"\\n\\nMy disbelief is suspended, give the the dude a funky car.]]></document>\\n\\t\\t<document><![CDATA[#USER# #USER# Things happen. Know what you meant but see how it could have been misinterpreted by those unfamiliar with your media ethics. Fact is: media and experts help the public get an idea of what\\xe2\\x80\\x99s happening or what might happen in the future. Both important. Keep up the good work!]]></document>\\n\\t\\t<document><![CDATA[Korea\\'s collective intelligence wants a regime change.]]></document>\\n\\t\\t<document><![CDATA[#USER# #USER# Why do all NfT collections use alliterative naming devices, and personification/anthropomorphic animals? I won a high Hiyenna, flipped it for a laughing leopard. Now I get a gentle Giraffee and a horny hippo. I\\xe2\\x80\\x99m a billionaire]]></document>\\n\\t\\t<document><![CDATA[#USER# Billionaire club in bid to curb overpopulation\\n- May 24, 2009\\n\\nGates, Soros, Rockefeller, Buffett and others...met to talk about overpopulation.\\n\\n#URL# (see pdf)\\n\\nA year later the Rockefeller PANDEMIC scenario was published. \\n\\nPDF: #URL# #URL#]]></document>\\n\\t\\t<document><![CDATA[#USER# yeah i figured i was just caught off guard at that moment \\xf0\\x9f\\x98\\xad i\\'m glad she saw it though]]></document>\\n\\t\\t<document><![CDATA[#USER# #USER# #USER# #USER# Yeah, that pissed me off too, especially considering his grammar was pretty much completely fine. It\\'s called an \"accent\", BROTHER!\\xf0\\x9f\\xa4\\xa6\\xe2\\x80\\x8d\\xe2\\x99\\x82\\xef\\xb8\\x8f]]></document>\\n\\t\\t<document><![CDATA[#USER# this is pure craziness. i wonder if ppl are still sane atp]]></document>\\n\\t\\t<document><![CDATA[Noeliberal NGO-ism\\n\\nPot holes. So I guess Rob Ford and John Tory approve?\\n\\nCity/Province used to message this stuff; now corporations donate (avoid taxes) to a low overhead, low wage, public donation supported advocacy group &amp; that pays for low (corporate) taxes public messaging. #URL#]]></document>\\n\\t\\t<document><![CDATA[Credits to TLR\\'s Digital Warriors. Volunteer group to stop misinformation and to engage posts related to VP Leni. \\xf0\\x9f\\x92\\x97\\xf0\\x9f\\x8e\\x80 #URL#]]></document>\\n\\t\\t<document><![CDATA[#USER# #USER# #USER# #USER# #USER# #USER# Your freedom of travel isn\\'t being infringed at all. They aren\\'t blocking any roads. And if your not in the industry you don\\'t know what it\\'s all about. But please tell us all what you think with your brand new account]]></document>\\n\\t\\t<document><![CDATA[Sinclair losses mount as ransomware costs exceed insurance policy #URL#]]></document>\\n\\t\\t<document><![CDATA[\\xf0\\x9f\\x91\\xbb calyculus open for academic commissions!\\n\\n\\xf0\\x9f\\xa4\\x8d writeups\\xe2\\x80\\x94 book &amp; movie reviews, critique, term, position, reaction, reflection, research paper, critical analysis, speech, typing comms, poems/literary, ppt.\\n\\n\\xf0\\x9f\\xa4\\x8d budget friendly !!\\n\\ncheck pinned twt &lt;3\\n\\nt: lf client]]></document>\\n\\t\\t<document><![CDATA[#USER# The masculine urge to watch a femboy get clapped in Elden Ring for 6 hours]]></document>\\n\\t\\t<document><![CDATA[#USER# #USER# Idk what it is about them bro \\xf0\\x9f\\x98\\xad\\xf0\\x9f\\xa4\\xa3 they just get me every time them accordions catch you lackin \\xf0\\x9f\\x98\\xad\\xf0\\x9f\\x98\\xad]]></document>\\n\\t\\t<document><![CDATA[#USER# As odd as it sounds, since (former) ferals are most active at night, they tend to let their guard down a *teeny* bit to let in new info &amp; respond more normally very late at night. Over time, it carries over into the daytime. Gaining a cat\\xe2\\x80\\x99s trust = ultimate test of patience.]]></document>\\n\\t\\t<document><![CDATA[mighty med? dont make me laugh #URL#]]></document>\\n\\t\\t<document><![CDATA[#USER# #USER# #USER# #USER# And yours started by raising tax and all the prices sky rocketed..I never saw a useless guy like him.WMC billionaire.]]></document>\\n\\t\\t<document><![CDATA[#USER# #USER# #USER# Aye brother, there will not be any war in any other realm in Yggdrasil but in Asgard there will be a war in Asgard, kratos atreus mimir tyr and angrboda will lead an army of jotun giants, hel walkers and fire demons and fire giants which will be led by surtr to war in Asgard]]></document>\\n\\t\\t<document><![CDATA[Bro I still don\\xe2\\x80\\x99t kno wtf is Nft]]></document>\\n\\t\\t<document><![CDATA[#USER# #USER# Me 2, I can\\'t imagine President Putin or any leader with a spine to give up $100\\'s of Billions in national bank reserves and allow the Azov SS Ukraine\\'s National Guard self-labelled Neo Nazi\\'s to continue pounding Donbass civilian villages with artillery rounds. #URL#]]></document>\\n\\t\\t<document><![CDATA[Even though Iger was a businessman he at least gave a shit about cast members and treated us like human beings. \\nIt\\xe2\\x80\\x99s disgusting that chapstick has this much power &amp; plummeted the Disney brand as a whole. \\n\\nYou were literally given all of the mouskatools to handle this properly.]]></document>\\n\\t\\t<document><![CDATA[#USER# Yo bro plz let me be the one\\xe2\\x9c\\x85\\xe2\\x9d\\xa4\\xef\\xb8\\x8f]]></document>\\n\\t\\t<document><![CDATA[#USER# Oh crap, the blocked bots have assumed corporeal form.]]></document>\\n\\t\\t<document><![CDATA[#HASHTAG# - Now Playing on \"#URL#\" - Coi Leray - Anxiety (Clean) #HASHTAG# us on #HASHTAG# #HASHTAG# #HASHTAG# #HASHTAG#]]></document>\\n\\t\\t<document><![CDATA[please  dont  ignore  twitter  polls  for enhypen,  ur  single  click  can  help  us  boost  our  percentage  votes  in  the  ongoing  votings. encourage  others  and  keep  hyping  twts  abt  votings.  if  u  have  time,  participate  in  our  mass  votings. /c]]></document>\\n\\t\\t<document><![CDATA[#USER# #USER# So, I\\'m taking it, the Abbott camp is getting worried and Warren is a massive donor?]]></document>\\n\\t\\t<document><![CDATA[#USER# #USER# #USER# #USER# A good project and strong team in a predictable and transparent road map, planned and projected, this is very interesting project.\\xe2\\x9a\\xa1Collision symbolHundred points symbolRed heart\\n\\n#USER#\\n\\n#USER#\\n\\n#USER#\\n\\n#USER#]]></document>\\n\\t\\t<document><![CDATA[A New Partnership: Dubai National Insurance signs MoU with Al Etihad Credit\\xc2\\xa0Bureau #URL#]]></document>\\n\\t\\t<document><![CDATA[. #USER# despite us sending many emails, we do not see you addressing the issue. once again, we urge you to look into the bullying and harassment of Huening Bahiyyih from Kepler, and TAKE APPROPRIATE ACTION IMMEDIATELY.\\n\\n#HASHTAG#\\n#HASHTAG#]]></document>\\n\\t\\t<document><![CDATA[A lesson to the wise, Eve might have turned in Villanelle in this latest episode but our titular character has tricked us too. She\\'s proved that she doesn\\'t care about the law or morality. #URL#]]></document>\\n\\t\\t<document><![CDATA[#USER# Congrats!!! You have been randomly selected to be among our lucky winners of the free allocation, Kindly send a Direct Message to validate your winnings. #URL#]]></document>\\n\\t\\t<document><![CDATA[and oh, a boot to the head for Abbott and his browncoats for starting this shitty news cycle]]></document>\\n\\t\\t<document><![CDATA[Girl singing #HASHTAG#\\'s \"Let It Go\" in Ukrainian to calm kids in bomb shelter. Beautiful voice, beautiful spirit. #HASHTAG# #HASHTAG# #URL#]]></document>\\n\\t\\t<document><![CDATA[Quite a few changes to his outfit from last time, but it actually feels more like an outfit now! #URL# #URL#]]></document>\\n\\t\\t<document><![CDATA[#USER# mf without draymond the only dudes that can guard the goddamn mvp is looney and a rookie]]></document>\\n\\t\\t<document><![CDATA[{The space lord started to laugh in a hysterical way as he watched the timeline from space}]]></document>\\n\\t\\t<document><![CDATA[#USER# #USER# Yeah probably cuz my brain was caught off guard \\xf0\\x9f\\xa4\\xa3. I was like wait what am I looking at.]]></document>\\n\\t\\t<document><![CDATA[hey guys remember this meme, that was funny, we are funny hehe #URL#]]></document>\\n\\t\\t<document><![CDATA[the proudest moment for miss jennie kim\\xf0\\x9f\\xa4\\xa7\\xf0\\x9f\\x98\\x86 Jendukie calm down\\xf0\\x9f\\x98\\x86 #URL#]]></document>\\n\\t\\t<document><![CDATA[This show really be having me crack up. Peggy is definitely petty but they don\\xe2\\x80\\x99t need to change her. #URL#]]></document>\\n\\t\\t<document><![CDATA[#USER# Nonsense take your butt back into Ukraine and help defend that country]]></document>\\n\\t\\t<document><![CDATA[#USER# If you need to guard better, sign even more guards. It stands to reason, right?]]></document>\\n\\t\\t<document><![CDATA[#USER# Persecution is one word, but \"extermination\" is closer to it. Under Russia rule, they went from 90% of the population to 0.2%  That climbed to 13% after Ukrainian independence.  Not sure what it is now.\\n#URL#]]></document>\\n\\t\\t<document><![CDATA[#USER# #USER# Suga loves basketball. He used to play basketball a lot as a student, and when he was a trainee, he played it every Sunday. His position was usually point guard or shooting guard. #USER# #USER# #USER# MANIFESTING MANIFESTING MANIFESTING MANIFESTING \\xf0\\x9f\\xa4\\x9e\\xf0\\x9f\\x8f\\xbd\\xf0\\x9f\\xa5\\xba\\xf0\\x9f\\x98\\xab\\xf0\\x9f\\x92\\x97\\xf0\\x9f\\x92\\x9c #URL#]]></document>\\n\\t\\t<document><![CDATA[#USER# #USER# #USER# #USER# #USER# #USER# #USER# #USER# #USER# #USER# #USER# #USER# #USER# #USER# #USER# #USER# #USER# #USER# #USER# #USER# #USER# #USER# #USER# #USER# #USER# #USER# #USER# #USER# #USER# #USER# #USER# #USER# #USER# #USER# #USER# #USER# #USER# #USER# #USER# #USER# #USER# #USER# #USER# #USER# #USER# #USER# #USER# #USER# #USER# #USER# You know God\\'s word, the bible?\\nI use to live in darkness, too.\\nWe are w/o excuse. Free will.\\nMy conscience bears witness to the light.\\nGod\\'s word is offensive when  we realize the choices we\\'ve made are leading us to death. \\nDeath is inevitable for all of creation. Fact.]]></document>\\n\\t\\t<document><![CDATA[I asked my baby brother what \"N\" stands for? He said newt??? And I have to google it \\xf0\\x9f\\x98\\xad\\xf0\\x9f\\x98\\xad\\xf0\\x9f\\x98\\xad #URL#]]></document>\\n\\t\\t<document><![CDATA[I can be stressed asf smoke, boom calm. It is what it is sets in and I\\xe2\\x80\\x99m straight]]></document>\\n\\t\\t<document><![CDATA[This shit sucks but it was good having people I know care about me able to help me out and keep me cool calm and collected. I just wish I could find bags that would actually last on my skin. Nothing ever works like I need it to. Such a bummer.]]></document>\\n\\t\\t<document><![CDATA[Not in a mood today and my uncle keep kacau me, I almost throw a punch on his face and he ran away. HAHAHAHAHA this bitch is aggressive. \\xf0\\x9f\\xa4\\xad]]></document>\\n\\t\\t<document><![CDATA[why is villanelle always betrayed at her most vulnerable my heart hurts #URL#]]></document>\\n\\t\\t<document><![CDATA[#USER# I\\'mma spell it out for those who honestly don\\'t know:\\nWe have the SPR so that the U.S. Armed Forces have the fuel we need to go wherever we have to go to conquer whatever oil fields we need to keep America\\'s lights on and trucks running.\\nDebate the morality of this all you like.]]></document>\\n\\t\\t<document><![CDATA[Check out HALLMARK TEDDY MITTENS CHRISTMAS BEAR STUFFED ANIMAL WITH TAGS 13\" PLUSH TOY #HASHTAG# #URL# via #USER#]]></document>\\n\\t\\t<document><![CDATA[Me, my lady, her son &amp; my 16 year old nephew if all 4 of us are at the restaurant. Everybody else present can get the fuck out my face. No charity here #URL#]]></document>\\n\\t\\t<document><![CDATA[#USER# #USER# #USER# It doesn\\'t make one less Eritrean because the person supported the struggle of Tegaru or has appeared on their TV. The point is, #USER# is NOT Eritrean enough to label or judge if one is nationalist or not. After all, it is a family media, jot public.]]></document>\\n\\t\\t<document><![CDATA[#USER# Fake News- Facts matter. It was Joe Biden whom refused to give Ukraine billions of our tax dollars to help fight the Russians unless Ukraine dropped all legitimate charges against his son, Hunter Biden (because Joe Biden was also involved in those allegations).But sure keep lying]]></document>\\n\\t\\t<document><![CDATA[Me thinks Manchin can\\xe2\\x80\\x99t find his way to the other side of the isle. He\\xe2\\x80\\x99s as red as a pair of diseased balls. #URL#]]></document>\\n\\t\\t<document><![CDATA[#USER# Guard play is strong and are well coached. Like them to win at least 1]]></document>\\n\\t\\t<document><![CDATA[#USER# Coinbase is part of the mafia\\xf0\\x9f\\x91\\x8e\\xf0\\x9f\\x91\\x8e\\xf0\\x9f\\x91\\x8e\\xf0\\x9f\\x91\\x8e\\xf0\\x9f\\x91\\x8e. \\nYesterday, 2500 USDT simply  disappeared from my coinbase wallet.\\nI submitted the complaint to CS, and they sent me some tutorials. Smh.\\nI escalated the issue to the police department.]]></document>\\n\\t\\t<document><![CDATA[#USER# Boomers fought 1 war reluctantly (Vietnam) and Gen X fought 3 wars \\n\\nI dont know what the polls say about Ukraine, but 72% of American adults supported the 2nd Iraq-war and we didn\\'t have 72% Boomer adults in 2003\\n\\n#URL#]]></document>\\n\\t\\t<document><![CDATA[#USER# Welcome to Pakistan and enjoy your time with family :)]]></document>\\n\\t\\t<document><![CDATA[#USER# I\\xe2\\x80\\x99d agree. All optics and contrarian theater. The lunatic fringe that he and apparently most of the GOP are counting on don\\xe2\\x80\\x99t add up to as many as they are going to need to win seats. Not by a long shot. They are loudmouths, but a small group who also scuttle their own efforts.]]></document>\\n\\t\\t<document><![CDATA[The blue economy strategy will ensure all fish landing sites is in place,the govt has set up a coast guard to secure our maritime assets, #HASHTAG# #URL#]]></document>\\n\\t\\t<document><![CDATA[#USER# Preston pls i just got scamed of a duped pet a huge lucky cat i traded for i ofered a huge forest whybern and i left The game and even puter it in my bank and now ITs gona can i pls have back my huge forest whybern or The huge lucky can pls one of them my username is Norway_is]]></document>\\n\\t\\t<document><![CDATA[#USER# bro what didnt they have kids or shit lmao]]></document>\\n\\t\\t<document><![CDATA[I\\'m good with the repuglies fighting a war with each other. But it would not be civil... #URL#]]></document>\\n\\t\\t<document><![CDATA[Check out this listing I just added to my #HASHTAG# closet: Rhinestone Crystal Clover Heart Pendant Necklace Green Gold Tone. #URL# #HASHTAG# #USER#]]></document>\\n\\t\\t<document><![CDATA[$SPY tell Cramer banks are a good short right. \\xf0\\x9f\\xa5\\x87]]></document>\\n\\t\\t<document><![CDATA[#USER# My first NFT minted in Nov \\'20, but I got serious about it in Feb \\'21. Before corpo money came in and kept their boots on. Before Youtubers who use wide-eyed-mouth-open faces for their title images. Before scammers began targeting artists wtf. Let\\'s talk some time?]]></document>\\n\\t\\t<document><![CDATA[#USER# i wish Im be lucky to be one recieve #URL#]]></document>\\n\\t\\t<document><![CDATA[i wanted to ask my brother if they could help me with my hair tomorrow but words did not come out it]]></document>\\n\\t\\t<document><![CDATA[[Podcast] How law firms can guard against losing their best people... #URL#]]></document>\\n\\t\\t<document><![CDATA[i want to become a comfort streamer but one (1) that sounds intimidating some how and two (2) i don\\'t feel like i\\'m a calm enough person \\xf0\\x9f\\xa5\\xb2]]></document>\\n\\t</documents>\\n</author>', shape=(), dtype=string)\n",
            "Preprocessed:  tf.Tensor(b'<author lang=\"en\">\\n\\t<documents>\\n\\t\\t<document> #USER# Obviously. He will definitely charge. The world is witness. ></document>\\n\\t\\t<document> You Know I m A Ho (Clean) Feat. Ice Cube by Master P now playing on #URL# #HASHTAG# #HASHTAG# #URL# ></document>\\n\\t\\t<document> Sometimes only accepting the reality ease ur suffering n pain... ></document>\\n\\t\\t<document> #USER# #USER# But he didn\\'t ask for prayers for the devil, he asked for prayers Putin, for God to change his heart from doing evil.  That is how we pray for bad people, for God to change their hearts so they will turn away from evil. \\nOur Lord Jesus died for sinners, that didn\\'t make him evil. ></document>\\n\\t\\t<document> i been too nice lately. y\\xe2\\x80\\x99all must\\xe2\\x80\\x99ve forgot im the devil \\xf0\\x9f\\x99\\x83 ></document>\\n\\t\\t<document> #USER# #USER# U can\\'t have attitude and call it sense don\\'t confuse yourself with that. Having sense makes u look calm and attractive , having attitude no Word filter saying shit thinking you saying your mind makes u look like an aggressive chihuahua. I bet no one will want to come closer ></document>\\n\\t\\t<document> in a few years. there will be no antelopes in pakistan. we lost our elephants. we will lose our leopards. we losing hella rare animals. idk. that shit is sad. once u lose ur totems and sacred animals. all the spirituality dies out. ></document>\\n\\t\\t<document> 100% agree with #USER#. The greatest threat to women\\'s safety &amp; equality is govt policies which do not pass the human rights or gender equality test. The Draft Natl Plan to End Violence is 100% silent on responsibility of govt to end harmful policies.\\n\\n#URL# ></document>\\n\\t\\t<document> #USER# This story tracks with #USER#\\'s analysis of Harry Potter in his recent video. TL;DW Joanne believes there aren\\'t good/bad actions, but rather good/bad teams, and rules of morality only apply to those on the bad team, while those on the good team can do whatever they want. ></document>\\n\\t\\t<document> #USER# thank you so much you\\xe2\\x80\\x99re very lovely but I don\\xe2\\x80\\x99t think there\\xe2\\x80\\x99s anything you or anyone else can do. I care about you too ></document>\\n\\t\\t<document> #USER# bro get OUT of here, we all know the first one was the best on the Game Boy Color ></document>\\n\\t\\t<document> Morality is not. Mora #URL# I am originally from Flo, Happiness is an attitude o #URL# ></document>\\n\\t\\t<document> I know he tries hard and I know he works hard but he is most out of control point guard in Laker history.. Which is why 4th innthe NBA turnovers. If just slowed down and calmed down it wouldn\\'t be like tonight 5 more turnovers and 3 air balls going basket for layouts #URL# ></document>\\n\\t\\t<document> So funny how everyone is coming out from the shadows now saying they dumped their stocks in late 2021 \\xf0\\x9f\\x98\\x82 They will be the ones saying they were buying heaving when $SPY is at $500 ></document>\\n\\t\\t<document> #USER# #USER# #USER# #USER# #USER# #USER# #USER# #USER# #USER# #USER# #USER# Ukraine wanting to join NATO, West, particularly America eyeing a base there, I can see Russia\\xe2\\x80\\x99s dilemma. Unable to get commitment from Ukraine otherwise, they choose this response. No powerful country is  innocent in chess games they play around the globe. We pay the price. ></document>\\n\\t\\t<document> #USER# #USER# #USER# #USER# Last 5 games;\\n\\nWest: 135 min, 23 pts\\nEllis: 113 min, 35 pts\\n\\nSo for as \\xe2\\x80\\x9cbad\\xe2\\x80\\x9d as Ellis has been he\\xe2\\x80\\x99s head &amp; shoulders above West. The coaching staff starting &amp; playing West so much all year has killed this team. He\\xe2\\x80\\x99s the worst guard by far. #USER# #USER# #USER# ></document>\\n\\t\\t<document> #USER# Instead why not senf the national guard young healthy recruits to Dave Atwood\\'s forced organ harvesting of the \"highway of tears\" folk off digby where putin kin came though in August of 1959? Instead of deploying the young healthy national guard to the India owned RGV just send ></document>\\n\\t\\t<document> In this land of pure! Helpless mothers are deprived of their sons, I dedicate this day to the mother of Arman Loni and all those mothers whose young children are missing, injured, or killed brutally. Pashtun and Baloch mothers have paid costs in terms of their sons\\n#HASHTAG# #URL# ></document>\\n\\t\\t<document> Just started trending in Pakistan.\\n\\n#HASHTAG#\\nPak Army\\nMomina Mustehsan\\nEverton\\nBismah Maroof\\nD Chowk\\nGermany\\nAmeeen\\nStay Blessed\\nShame ></document>\\n\\t\\t<document> We shd encourage people to adopt orphan children incentives shd be, apart from paid leave,\\n\\n1. Salary hike\\n2. One promotion\\n4. Health Insurance\\nEtc #URL# ></document>\\n\\t\\t<document> Thanks for the amazing show big bro! Had goosebumps the whole time especially when chip come in. Thanks for everything #USER# ></document>\\n\\t\\t<document> #USER# #USER# I took part in the airdrop of a very good project, I hope I get lucky. \\n\\n#USER#\\n#USER#\\n#USER# ></document>\\n\\t\\t<document> #USER# According to said individual, I am exceptionally calm and don\\'t modulate tone whatsoever. ></document>\\n\\t\\t<document> #USER# #USER# CALM BUDDHAS (NFT COLLECTION) \\xe2\\x9c\\x85 The collection features 7,777 custom NFTs with 7 ultra rare 1/1s. \\xe2\\x9c\\x85 Public minting price .08 eth - great value! Twitter: #URL# Discord: #URL# Tg community. #URL# ></document>\\n\\t\\t<document> Balenciaga Goes Where Fashion Hasn\\xe2\\x80\\x99t Dared Go Before\\nIn the show of the season, the brand takes on the war in Ukraine. Valentino embraces love. And Givenchy buckles down. #URL# ></document>\\n\\t\\t<document> Check out my Gig on Fiverr: design logo for your website, company, business, or brand #URL# ></document>\\n\\t\\t<document> #USER# #USER# #USER# #USER# #USER# bro just agree ,he wasn\\xe2\\x80\\x99t good in his last 8 games vs real ></document>\\n\\t\\t<document> #USER# #USER# #USER# #USER# Bro you misunderstood what he said. He knows that none of the money is going to Ukrainians, he said that Roman will push the narrative that the UK stopped him from donating to Ukrainian victims if the UK freezes the sale. Of course Roman was never going to anyway ></document>\\n\\t\\t<document> Calm down when you talking to me get smart if you have too, we can get down FORREAL! ></document>\\n\\t\\t<document> Laugh At\\n\\n\\xe2\\x80\\x9cPatient in the mermaid start wearing seashells?\\nB: Because she \\xe2\\x80\\x98had d\\xc3\\xa9j\\xc3\\xa0 vu in the joke about the agent called ></document>\\n\\t\\t<document> *WhiteList Hunter* Complete mission sweepwidget Airdrops hunter during period 08 \\xe2\\x80\\x93 18 March 2022 so you have a change to get WhiteList slot in the ArtKit presale. Link : #URL# ></document>\\n\\t\\t<document> As far as the engagement letter goes, Eastman says they don\\xe2\\x80\\x99t have to have a signed thingy because ethics say as a lawyer he has to provide confidentiality so it\\xe2\\x80\\x99s just automatic!! 4/ #URL# ></document>\\n\\t\\t<document> #USER# yeah i think if it were seen as both feminine and masculine it would be neutralized like just smth everyone has bc no woman is truly completely hairless and IKR? I saw some ads recently and hated how they had the man be extra hairy on purpose compared to the woman ></document>\\n\\t\\t<document> Sucks that you won\\xe2\\x80\\x99t be here for your birthday \\xf0\\x9f\\xa5\\xba\\xf0\\x9f\\x92\\x94 why did life have to be so unfair? I don\\xe2\\x80\\x99t get it, you were such an amazing person \\xf0\\x9f\\x98\\x9e #HASHTAG# \\xf0\\x9f\\x95\\x8a\\xf0\\x9f\\xa4\\x8d ></document>\\n\\t\\t<document> #USER# \"A HONORABLE FUTURE\" Let\\'s leave your children a clean world and a dignified life, let\\'s not leave the remains of tank shells and weapons, but a paradise decorated with big plane trees #URL# #URL# ></document>\\n\\t\\t<document> Liam is waking up in the infirmary, his gut in immensely pain still as Liam looks around. ></document>\\n\\t\\t<document> #USER# You\\xe2\\x80\\x99re definitely not unwanted, and you\\xe2\\x80\\x99re definitely not unloved, you can push through this shit and a whole lot of people on here will do whatever we can to help you with that. The pain is not your fault ></document>\\n\\t\\t<document> Emotional orange on repeat to keep me calm. \\xf0\\x9f\\x8d\\x8a\\xf0\\x9f\\xa7\\xa1 ></document>\\n\\t\\t<document> Eskom Expo introduction session at Witsieshoek primary school \\xe2\\x80\\x93 The Guard #URL# #URL# ></document>\\n\\t\\t<document> #USER# oh puhleeze ..I notice you didn\\'t include the word \\'integrity \\' in your little nationalist pledge Ranger Tom lol ></document>\\n\\t\\t<document> Always catching me off guard bro. Everyyy timeee #URL# ></document>\\n\\t\\t<document> It would be funny if it wasn\\'t so serious that, if given the chance, they absolutely would repeal the ACA\\'s patient protections and coverage expansions. #URL# ></document>\\n\\t\\t<document> #USER# Bro I don\\'t partake it\\'s a shame because those of us truly so based as to not give a shit about everything insignificant aren\\'t represented even in fringe media \\xf0\\x9f\\xa5\\xb4 ></document>\\n\\t\\t<document> #USER# Election of Ronald Reagan and the Challenger disaster. ></document>\\n\\t\\t<document> Check out this listing I just added to my #HASHTAG# closet: SALE - Roll of Clear Packing Tape 165 ft roll 2\\xe2\\x80\\x9d wide packing box tape 55 yd. #URL# #HASHTAG# #USER# ></document>\\n\\t\\t<document> #USER# this including the professionals that actually did know how to manage the entire oil business, everyone that\\'s left here have NO IDEA of what they\\'re doing and pls even before the sanctions the government had such shitty management of the entire business lmao it was a disaster fr ></document>\\n\\t\\t<document> #USER# thought weed makes one calm, what\\'s with this aggression , after all weed\\'s good for ya all.\\nThank you weed\\xf0\\x9f\\x98\\x86 ></document>\\n\\t\\t<document> #HASHTAG## I got a brand new rare skin! Check it out and try your luck! #URL# ></document>\\n\\t\\t<document> #USER# just send the young national guard kids to Eddie\\'s putin inlaw P.L.A.N. of KLBJ\\'s use the tourniquets as yvonne constantly feared with buried arms and legs massively on her property..Do we see you rescuing Rep. Donna Howard from her evil clergy you call right wing and left wing ></document>\\n\\t\\t<document> Check out this listing I just added to my #HASHTAG# closet: Aimee Kestenberg Blush Pink Wallet NWOT. #URL# #HASHTAG# #USER# ></document>\\n\\t\\t<document> #USER# #USER# #USER# #USER# #USER# #USER# #USER# #USER# #USER# *gets caught off guard by \"cute ninja boy\"* ...excuse me? ></document>\\n\\t\\t<document> #USER# $caturai to the moon $heal $bro $mri ></document>\\n\\t\\t<document> Ultimately nawab Malik reached jail for his sins and outrageous comments on others , now Sharad Pawar, sanjay Raut are que, very soon they will also join this anti Nationalist and corrupt Nawab Malik . ></document>\\n\\t\\t<document> A man i strongly respect told me \"keep being ambitious\" almost teared up...bro put that EXTRA rocket behind my back. We going HARDER than ever ></document>\\n\\t\\t<document> #USER# I think it makes a lot of sense for games like this where sequels tend to be more iterative and build upon what came before.  I\\'d rather see a base engine upgraded and DLC added than a brand new game that loses content.  Obviously it doesn\\'t work for every game type though ></document>\\n\\t\\t<document> Def believe Putin could say anything and the Pentagon would believe it #URL# ></document>\\n\\t\\t<document> Royal Stoneguard: I AM ROYAL GUARD OF CASTLE. I GUARD IMPORTANT. VERY IMPORTANT. ></document>\\n\\t\\t<document> #USER# I am calm and at peace\\n\\nSAMBIE DAY2 ONItsSHOWTIME ></document>\\n\\t\\t<document> I smile, laugh &amp; play all day on these apps to keep me going\\xe2\\x80\\xa6\\xe2\\x80\\xa6 ></document>\\n\\t\\t<document> #USER# Xavier Amos played big time and Dalen Davis is a special point guard. They don\\xe2\\x80\\x99t win without him tonight. Darrin Ames was impressive for Kenwood. Great Game! ></document>\\n\\t\\t<document> The billionaire oligarchs funding tRump in the USA better take heed! Not one hair on Zelenskyy\\xe2\\x80\\x99s head must be harmed. Back off Mr. Putin, this war is wrong, back off! #URL# ></document>\\n\\t\\t<document> Pure Win would like to wish Everyone a very Happy Women\\'s Day \\xf0\\x9f\\x92\\xaa\\xe2\\x9d\\xa4\\xef\\xb8\\x8f\\n\\n#HASHTAG# #HASHTAG#2022 #HASHTAG# #HASHTAG# #HASHTAG# #HASHTAG# #HASHTAG# #HASHTAG# #HASHTAG# #HASHTAG# #HASHTAG# #HASHTAG# #HASHTAG# #HASHTAG# #HASHTAG# #HASHTAG#Australia #URL# ></document>\\n\\t\\t<document> Pakistan Army has built Younis Khan Sports Complex Miranshah in North Waziristan. Younis Khan Sports Complex Miranshah is an international standard stadium to provide all kinds of sports facilities to the youth of Waziristan.\\n\\n#HASHTAG# #URL# ></document>\\n\\t\\t<document> Check out this listing I just added to my #HASHTAG# closet: Lululemon tank top coral with ruched sides and lululemon writing on bust size 8. #URL# #HASHTAG# #USER# ></document>\\n\\t\\t<document> My guard so up, I can\\'t even see the top...so, just carry on smartly!!\\n#HASHTAG# ></document>\\n\\t\\t<document> Jean if you want my support will you be advocating for a full withdraw of Canada from all United Nations agreements including the Global Compact For Migration and the IPCC Paris Accord on climate change and renegotiate the FIPA accord and the removal of the carbon tax. #HASHTAG# #URL# ></document>\\n\\t\\t<document> Have you entered this sweepstakes to win the Nemo Executive Order Rifle w/ Trijicon VCOG Scope?\\nIf you enter using this link, I will get more entries. :)  Sweepstakes ends 03/09/22\\n%{link} #URL# ></document>\\n\\t\\t<document> #USER# Happy Birthday Crish...!! Have a blast ></document>\\n\\t\\t<document> stones: calm, rest, stress, headache, stomachache, lahat na ng ache. \\n\\nanon: why settle?\\n\\nstones: coz it\\'s worth it. \\xf0\\x9f\\x98\\x8c #URL# ></document>\\n\\t\\t<document> #USER# #USER# #USER# When I say struggling I\\xe2\\x80\\x99m not talking abt points. I\\xe2\\x80\\x99m talking physically. Sure he shot 12/17 but he also has 14 fts. So that shifted the mentality and we couldn\\xe2\\x80\\x99t guard him or else it\\xe2\\x80\\x99s fts ></document>\\n\\t\\t<document> #USER# #USER# I think that is in the national guard. Azov Special Operations Detachment. This is their insignia: #URL# ></document>\\n\\t\\t<document> #USER# #USER# and #USER# will make us millionaire this 2022\\xf0\\x9f\\x94\\xa5\\nMint 5 TTigersNFT &amp; get One Free PeakXV Land for a limited time!\\xf0\\x9f\\x94\\xa5\\n\\nRENTABLE\\xe2\\x9c\\x85\\nPlay To Earn \\xe2\\x9c\\x85\\nPassive Income \\xe2\\x9c\\x85\\nSpecial Collection \\xe2\\x9c\\x85\\nLimited \\xe2\\x9c\\x85\\n\\n#URL#\\n\\n #USER# #HASHTAG# #URL# ></document>\\n\\t\\t<document> #USER# #USER# Jen you would honestly really love it there. It\\xe2\\x80\\x99s like a calm, blocked off place of the world &amp;  nonsense everywhere. UBL lighting and all (it\\xe2\\x80\\x99s pink). ></document>\\n\\t\\t<document> #USER# is an amazing woman who is not afraid to talk about #HASHTAG# at work. #HASHTAG# #URL# ></document>\\n\\t\\t<document> #USER# #USER# #USER# #USER# #USER# #USER# #USER# #USER# Yes, i think that is unfair  and that needs to be reformed ></document>\\n\\t\\t<document> #USER# And get her chocolates and jewellery maybe,budget zyada hai toh even a purse. Make up, skincare. ></document>\\n\\t\\t<document> I\\'m horny daddy \\xf0\\x9f\\x91\\x85 dms open #HASHTAG# #HASHTAG# #HASHTAG# #HASHTAG# #HASHTAG# #HASHTAG# #URL# ></document>\\n\\t\\t<document> #USER# its just so calm and cozy feels like a nice lil sleepover ^_^ ></document>\\n\\t\\t<document> #USER# I have too many- cruel summer, paper rings, death by a thousand cuts, false god, after glow, daylight, Cornelia street, you need to calm down, the archer ></document>\\n\\t\\t<document> #USER# #USER# #USER# Please explain how a 3 cent carbon tax changes people\\'s thoughts on using fuel then. How exactly is this minuscule tax going to make a difference?\\nOh, and it goes up 10 cents on April 1st. ></document>\\n\\t\\t<document> #USER# But what did BJP achieve by pulling back Farm laws? I cannot see any vote swing due to pullback. It only benefitted the opposition. ></document>\\n\\t\\t<document> #USER# #USER# #USER# #HASHTAG# the life changer! In 2022 people will regret not buying #HASHTAG#. The #HASHTAG# community is far more greaters than any other that I have experienced personally.If you want to become a millionaire in 2022, buy #HASHTAG# \\xf0\\x9f\\x92\\x8e. #USER# #HASHTAG# #URL# , #URL# ></document>\\n\\t\\t<document> Y\\xe2\\x80\\x99all really outchea paying attention &amp; feeling bad for two multi millionaires and a billionaire in a love/hate triangle lmao #URL# ></document>\\n\\t\\t<document> #HASHTAG# participants of your network find introduced fee through being element , and therefore, they sense a part of the own family of your emblem. #URL# ></document>\\n\\t\\t<document> #USER# and the machine is Owen so yells at them and says \\xe2\\x80\\x9cCALM DOWN GET STRAIGHT\\xe2\\x80\\x9d \\xf0\\x9f\\x98\\xad\\xf0\\x9f\\x98\\xad\\xf0\\x9f\\x98\\xad or \\xe2\\x80\\x9cSHUT UP\\xe2\\x80\\x9d \\xf0\\x9f\\x92\\x80\\xf0\\x9f\\x92\\x80\\xf0\\x9f\\x92\\x80 ></document>\\n\\t\\t<document> WTF?? Is this real? Mike Pompeo on Russion State TV?????? #URL# ></document>\\n\\t\\t<document> The Gal Gadot avatar is a digital avatar modeled on my face created by my rapist Rachel Dratch #USER#. It is an impersonation used to identify my whereabouts. To hunt me down to push me off roads. To kill me. \\n#USER#\\n#USER#\\n#USER#\\n#USER#\\n#USER# \\n#USER#\\n. #URL# ></document>\\n\\t\\t<document> Check out this listing I just added to my #HASHTAG# closet: Siver tone Clear Rhinestone Statement Piece Necklace &amp; Earring Set. #URL# #HASHTAG# #USER# ></document>\\n\\t\\t<document> #USER# By sticking your thumb up your butt and licking the mouse ></document>\\n\\t\\t<document> BROO CALM DOWN PERO TRUE NAMAN #URL# ></document>\\n\\t\\t<document> #USER# How many other ways could it fail? This is like the ultimate disaster policy handbook. ></document>\\n\\t\\t<document> This project includes the number of best things: team, product, idea and great start. So we need products and ideas! I\\'m sure the company will occupy a leading place soon!\\n#USER# #USER# #USER# #URL# ></document>\\n\\t\\t<document> #USER# #USER# #USER# Wtf are you even on about Idek you \\xf0\\x9f\\x98\\x82\\xf0\\x9f\\x98\\x82\\xf0\\x9f\\x98\\x82 fucking weirdo ></document>\\n\\t\\t<document> #USER# #USER# Caps. Weed doesn\\xe2\\x80\\x99t give cancer or any of those shitty ass illness y\\xe2\\x80\\x99all ignorant asses be wishing on. ></document>\\n\\t\\t<document> I already am set to go to spring with your brother #URL# ></document>\\n\\t\\t<document> Your calm life can turn topsy turvy overnight; shaking you to the core. This curve ball can throw you off and disrupt your life completely. But if you lay your trust in the Almighty, you\\'ll get over the worry and sadness. ></document>\\n\\t\\t<document> to go into a McDonald\\xe2\\x80\\x99s in Rome, Italy in October of 2021 you had to show your vaccine card and your ID to a security guard who then gave you a sticker to say you were okay - TO EAT AT MCDONALDS ></document>\\n\\t\\t<document> heiryy is freaking out about my borth day already like calm down shawty \\xf0\\x9f\\xa5\\xb6\\xf0\\x9f\\x98\\xa9 ></document>\\n\\t\\t<document> Journos using anononymous Pentagon sources to \"confirm\" \"scoops\" that were based on anonymous Pentagon sources, love to relive 2002 #URL# ></document>\\n\\t\\t<document> Needlepoint Kit or Canvas: Jerusalem Palm by pepitaneedlepoint #URL# #URL# ></document>\\n\\t\\t<document> Brick by brick. I will dismantle out of touch \"leaders\" from their positions by informing the appropriate people. When Soldiers take their lives after your \"counseling\" you are lucky early retirement is the likely outcome, should be prison. ></document>\\n\\t\\t<document> #USER# #USER# #USER# Maybe much more than that. US of Ahhh will have its severe beatings this time for disrespecting, humiliating to the point of assassinating Maduro.\\nJust love how things unfold with US, EU and NATO right now with their bannered hypocrisy,war mongering and disgusting supremacy. ></document>\\n\\t\\t<document> omg How cute this mafia boss\\xf0\\x9f\\x98\\x82 Is there another mafia boss who\\'s this cute?\\xf0\\x9f\\x92\\x9b He looks really happy and it makes us happy too. Thank you boss very very TSKR\\xf0\\x9f\\x91\\x8f\\xe2\\x9c\\xa8 #HASHTAG# #URL# ></document>\\n\\t\\t<document> \"Like this?\" Those ass cheeks were swinging from side to side in no time.\\n\\nAnd it had Denki\\'s dick throbbing. \"...Holy fuck.\"\\n\\nThe alpha turned his head to the side. \"Going feral?\"\\n\\n\"Already there.\" He grabbed Shinsou by the butt cheeks and started pulling at him. ></document>\\n\\t\\t<document> \\xe2\\x80\\xa6no. I\\xe2\\x80\\x99ve never seen a single man on this planet look even decently good with a \\xe2\\x80\\x9cporn style mustache\\xe2\\x80\\x9d.. please don\\xe2\\x80\\x99t hype that look up. It\\xe2\\x80\\x99s nasty. #URL# ></document>\\n\\t\\t<document> #USER# \\xe2\\x80\\xbc\\xef\\xb8\\x8f 6\\xe2\\x80\\x991 Guard from Guymon OK, on a mission to play \\xf0\\x9f\\x8f\\x80 at the next level \\xe2\\x80\\xbc\\xef\\xb8\\x8f #URL# ></document>\\n\\t\\t<document> #USER# you right but i have zero morality when it comes to fictional chars ></document>\\n\\t\\t<document> \\xe2\\x80\\x9cOne of the strongest tools the city has is the zoning tool. It\\xe2\\x80\\x99s used to engage people to see what kind of city they would like to see,\\xe2\\x80\\x9d said #USER# at today\\'s launch of #HASHTAG#, a comic written in collaboration with students. #URL# ></document>\\n\\t\\t<document> PUB issues Area Forecast Discussion (AFD) at Mar 7, 9:44 PM MST ...Light snow this evening over the mountains and I-25 corridor... #URL# ></document>\\n\\t\\t<document> #USER# #USER# #USER# I don\\xe2\\x80\\x99t know\\xe2\\x80\\xa6 I\\xe2\\x80\\x99d make a deal with the devil to be done with Lee, and I see McMullin as the only realistic option. ></document>\\n\\t\\t<document> I hope I win this Ultimate Geissele Rifle Giveaway from #USER#! #URL# ></document>\\n\\t\\t<document> #USER# \\xf0\\x9f\\x8d\\x80Biffs Lucky Leprechauns\\xf0\\x9f\\x8d\\x80\\n\\nTokenomics \\n5% AutoLp\\xf0\\x9f\\x92\\xa6\\n5% Marketing\\xf0\\x9f\\xa4\\x9d\\n3% Pot1\\xf0\\x9f\\x92\\xb0\\n1% Pot2\\xf0\\x9f\\x92\\xb0\\n1% Pot3\\xf0\\x9f\\x92\\xb0\\n\\n\\xe2\\x9c\\x85Community token drive\\n\\xe2\\x9c\\x85Huge marketing plugs\\n\\xe2\\x9c\\x85Initial Lp lock 1 month\\n\\xe2\\x9c\\x85Tokens vested for future listing, strategic partnership, giveaway, staking pool\\nTG:#URL# ></document>\\n\\t\\t<document> #USER# #USER# Read the whole article? \"The move, which came Saturday, was a response to a recent federal ruling that blocked the way the Biden administration was calculating the real cost of climate change\" \\xe2\\x80\\x9csocial cost of carbon,\\xe2\\x80\\x9d \"But 10 Republican-led states sued the government\" ></document>\\n\\t\\t<document> Oil. Kidding me. We are in discussion with our enemies Iran and Venezuela to increase OIL production to supply our needs. What happen to a better option of the US increasing production. RIGHT HERE IN THE USA. Bunch lunitics in DC!! ></document>\\n\\t\\t<document> #USER# Hahaha thanks bro, been getting the same reactions too recently ></document>\\n\\t\\t<document> #USER# #USER# #USER# #USER# Can you sense the calm before the storm? #HASHTAG# could explode anytime now. #HASHTAG# #HASHTAG# #HASHTAG# #HASHTAG#X #HASHTAG#Army #HASHTAG# . ></document>\\n\\t\\t<document> my trust issues are so bad bro i cant be the only one ></document>\\n\\t\\t<document> Brian Letton - She\\'ll Be Right Mate ></document>\\n\\t\\t<document> Dear Blue Screen Box,\\n\\nToday was interesting I learned so much about being controlled by many people I am set free now I have never felt so alive and calm and then it was mind blowing to hear Female Creator Of The Test in my right ear I missed you so much teacher of creations ></document>\\n\\t\\t<document> You know very well what is special today\\xf0\\x9f\\x90\\xb6\\xf0\\x9f\\x90\\xb6\\n\\nSo send your tribute to your goddess on this special day\\xf0\\x9f\\x91\\x91\\xf0\\x9f\\x91\\x91\\n\\nSend Amazon gift card , gift , tribute to your goddess and wish me women\\'s day\\xf0\\x9f\\x96\\x95\\xf0\\x9f\\x96\\x95\\n\\nSo send , send and send me for nothing\\xf0\\x9f\\x96\\x95\\xf0\\x9f\\x96\\x95\\xf0\\x9f\\x96\\x95\\n\\nOne lucky will get a chance to see me\\xf0\\x9f\\x90\\xb7 #URL# ></document>\\n\\t\\t<document> #USER# there\\'s no specific change without a radical revolution, join me to the force ></document>\\n\\t\\t<document> I\\xe2\\x80\\x99m not hungry BUT I could eat like #HASHTAG# of a steak with #HASHTAG# and maybe some fries #URL# ></document>\\n\\t\\t<document> #USER# Calm down bro, good that you had a rest, to be well and be able to always stay with us there, and I want to see you there now \\xf0\\x9f\\x98\\x84\\xe2\\x9d\\xa4\\xef\\xb8\\x8f ></document>\\n\\t\\t<document> #USER# I\\'d take a talking parrot over Biden....oh wait. \\nbut seriously, ANYONE, would do a better job in the White House than this blabbering butt plug!! ></document>\\n\\t\\t<document> I need $1000 to invest in Meta stock.\\nThe return is extremely favorable, even consider long term options trading on this one. Then invest that into more options and assets.\\n\\nJust a high ass thought from a future billionaire lol. ></document>\\n\\t\\t<document> #USER# #USER# #USER# The reason why we don\\'t have universal dental care is because the insurance companies are the ones making a profit off of this industry &amp; #USER# doesn\\'t want to mess with that. ></document>\\n\\t\\t<document> Nice\\xe2\\x80\\x99n Clean Baby Wipe Soft Pack Aloe/Vitamin E Scented 80 Count, M225XT \\xe2\\x80\\x93 Case of\\xc2\\xa0960 #URL# ></document>\\n\\t\\t<document> #USER# Why must it  be \"\"realistic\"\" ? These movies require you to believe nonsense things like \"man dresses as bat to fight crime\" and \"billionaire dude genuinely wants to help people.\"\\n\\nMy disbelief is suspended, give the the dude a funky car. ></document>\\n\\t\\t<document> #USER# #USER# Things happen. Know what you meant but see how it could have been misinterpreted by those unfamiliar with your media ethics. Fact is: media and experts help the public get an idea of what\\xe2\\x80\\x99s happening or what might happen in the future. Both important. Keep up the good work! ></document>\\n\\t\\t<document> Korea\\'s collective intelligence wants a regime change. ></document>\\n\\t\\t<document> #USER# #USER# Why do all NfT collections use alliterative naming devices, and personification/anthropomorphic animals? I won a high Hiyenna, flipped it for a laughing leopard. Now I get a gentle Giraffee and a horny hippo. I\\xe2\\x80\\x99m a billionaire ></document>\\n\\t\\t<document> #USER# Billionaire club in bid to curb overpopulation\\n- May 24, 2009\\n\\nGates, Soros, Rockefeller, Buffett and others...met to talk about overpopulation.\\n\\n#URL# (see pdf)\\n\\nA year later the Rockefeller PANDEMIC scenario was published. \\n\\nPDF: #URL# #URL# ></document>\\n\\t\\t<document> #USER# yeah i figured i was just caught off guard at that moment \\xf0\\x9f\\x98\\xad i\\'m glad she saw it though ></document>\\n\\t\\t<document> #USER# #USER# #USER# #USER# Yeah, that pissed me off too, especially considering his grammar was pretty much completely fine. It\\'s called an \"accent\", BROTHER!\\xf0\\x9f\\xa4\\xa6\\xe2\\x80\\x8d\\xe2\\x99\\x82\\xef\\xb8\\x8f ></document>\\n\\t\\t<document> #USER# this is pure craziness. i wonder if ppl are still sane atp ></document>\\n\\t\\t<document> Noeliberal NGO-ism\\n\\nPot holes. So I guess Rob Ford and John Tory approve?\\n\\nCity/Province used to message this stuff; now corporations donate (avoid taxes) to a low overhead, low wage, public donation supported advocacy group &amp; that pays for low (corporate) taxes public messaging. #URL# ></document>\\n\\t\\t<document> Credits to TLR\\'s Digital Warriors. Volunteer group to stop misinformation and to engage posts related to VP Leni. \\xf0\\x9f\\x92\\x97\\xf0\\x9f\\x8e\\x80 #URL# ></document>\\n\\t\\t<document> #USER# #USER# #USER# #USER# #USER# #USER# Your freedom of travel isn\\'t being infringed at all. They aren\\'t blocking any roads. And if your not in the industry you don\\'t know what it\\'s all about. But please tell us all what you think with your brand new account ></document>\\n\\t\\t<document> Sinclair losses mount as ransomware costs exceed insurance policy #URL# ></document>\\n\\t\\t<document> \\xf0\\x9f\\x91\\xbb calyculus open for academic commissions!\\n\\n\\xf0\\x9f\\xa4\\x8d writeups\\xe2\\x80\\x94 book &amp; movie reviews, critique, term, position, reaction, reflection, research paper, critical analysis, speech, typing comms, poems/literary, ppt.\\n\\n\\xf0\\x9f\\xa4\\x8d budget friendly !!\\n\\ncheck pinned twt &lt;3\\n\\nt: lf client ></document>\\n\\t\\t<document> #USER# The masculine urge to watch a femboy get clapped in Elden Ring for 6 hours ></document>\\n\\t\\t<document> #USER# #USER# Idk what it is about them bro \\xf0\\x9f\\x98\\xad\\xf0\\x9f\\xa4\\xa3 they just get me every time them accordions catch you lackin \\xf0\\x9f\\x98\\xad\\xf0\\x9f\\x98\\xad ></document>\\n\\t\\t<document> #USER# As odd as it sounds, since (former) ferals are most active at night, they tend to let their guard down a *teeny* bit to let in new info &amp; respond more normally very late at night. Over time, it carries over into the daytime. Gaining a cat\\xe2\\x80\\x99s trust = ultimate test of patience. ></document>\\n\\t\\t<document> mighty med? dont make me laugh #URL# ></document>\\n\\t\\t<document> #USER# #USER# #USER# #USER# And yours started by raising tax and all the prices sky rocketed..I never saw a useless guy like him.WMC billionaire. ></document>\\n\\t\\t<document> #USER# #USER# #USER# Aye brother, there will not be any war in any other realm in Yggdrasil but in Asgard there will be a war in Asgard, kratos atreus mimir tyr and angrboda will lead an army of jotun giants, hel walkers and fire demons and fire giants which will be led by surtr to war in Asgard ></document>\\n\\t\\t<document> Bro I still don\\xe2\\x80\\x99t kno wtf is Nft ></document>\\n\\t\\t<document> #USER# #USER# Me 2, I can\\'t imagine President Putin or any leader with a spine to give up $100\\'s of Billions in national bank reserves and allow the Azov SS Ukraine\\'s National Guard self-labelled Neo Nazi\\'s to continue pounding Donbass civilian villages with artillery rounds. #URL# ></document>\\n\\t\\t<document> Even though Iger was a businessman he at least gave a shit about cast members and treated us like human beings. \\nIt\\xe2\\x80\\x99s disgusting that chapstick has this much power &amp; plummeted the Disney brand as a whole. \\n\\nYou were literally given all of the mouskatools to handle this properly. ></document>\\n\\t\\t<document> #USER# Yo bro plz let me be the one\\xe2\\x9c\\x85\\xe2\\x9d\\xa4\\xef\\xb8\\x8f ></document>\\n\\t\\t<document> #USER# Oh crap, the blocked bots have assumed corporeal form. ></document>\\n\\t\\t<document> #HASHTAG# - Now Playing on \"#URL#\" - Coi Leray - Anxiety (Clean) #HASHTAG# us on #HASHTAG# #HASHTAG# #HASHTAG# #HASHTAG# ></document>\\n\\t\\t<document> please  dont  ignore  twitter  polls  for enhypen,  ur  single  click  can  help  us  boost  our  percentage  votes  in  the  ongoing  votings. encourage  others  and  keep  hyping  twts  abt  votings.  if  u  have  time,  participate  in  our  mass  votings. /c ></document>\\n\\t\\t<document> #USER# #USER# So, I\\'m taking it, the Abbott camp is getting worried and Warren is a massive donor? ></document>\\n\\t\\t<document> #USER# #USER# #USER# #USER# A good project and strong team in a predictable and transparent road map, planned and projected, this is very interesting project.\\xe2\\x9a\\xa1Collision symbolHundred points symbolRed heart\\n\\n#USER#\\n\\n#USER#\\n\\n#USER#\\n\\n#USER# ></document>\\n\\t\\t<document> A New Partnership: Dubai National Insurance signs MoU with Al Etihad Credit\\xc2\\xa0Bureau #URL# ></document>\\n\\t\\t<document> . #USER# despite us sending many emails, we do not see you addressing the issue. once again, we urge you to look into the bullying and harassment of Huening Bahiyyih from Kepler, and TAKE APPROPRIATE ACTION IMMEDIATELY.\\n\\n#HASHTAG#\\n#HASHTAG# ></document>\\n\\t\\t<document> A lesson to the wise, Eve might have turned in Villanelle in this latest episode but our titular character has tricked us too. She\\'s proved that she doesn\\'t care about the law or morality. #URL# ></document>\\n\\t\\t<document> #USER# Congrats!!! You have been randomly selected to be among our lucky winners of the free allocation, Kindly send a Direct Message to validate your winnings. #URL# ></document>\\n\\t\\t<document> and oh, a boot to the head for Abbott and his browncoats for starting this shitty news cycle ></document>\\n\\t\\t<document> Girl singing #HASHTAG#\\'s \"Let It Go\" in Ukrainian to calm kids in bomb shelter. Beautiful voice, beautiful spirit. #HASHTAG# #HASHTAG# #URL# ></document>\\n\\t\\t<document> Quite a few changes to his outfit from last time, but it actually feels more like an outfit now! #URL# #URL# ></document>\\n\\t\\t<document> #USER# mf without draymond the only dudes that can guard the goddamn mvp is looney and a rookie ></document>\\n\\t\\t<document> {The space lord started to laugh in a hysterical way as he watched the timeline from space} ></document>\\n\\t\\t<document> #USER# #USER# Yeah probably cuz my brain was caught off guard \\xf0\\x9f\\xa4\\xa3. I was like wait what am I looking at. ></document>\\n\\t\\t<document> hey guys remember this meme, that was funny, we are funny hehe #URL# ></document>\\n\\t\\t<document> the proudest moment for miss jennie kim\\xf0\\x9f\\xa4\\xa7\\xf0\\x9f\\x98\\x86 Jendukie calm down\\xf0\\x9f\\x98\\x86 #URL# ></document>\\n\\t\\t<document> This show really be having me crack up. Peggy is definitely petty but they don\\xe2\\x80\\x99t need to change her. #URL# ></document>\\n\\t\\t<document> #USER# Nonsense take your butt back into Ukraine and help defend that country ></document>\\n\\t\\t<document> #USER# If you need to guard better, sign even more guards. It stands to reason, right? ></document>\\n\\t\\t<document> #USER# Persecution is one word, but \"extermination\" is closer to it. Under Russia rule, they went from 90% of the population to 0.2%  That climbed to 13% after Ukrainian independence.  Not sure what it is now.\\n#URL# ></document>\\n\\t\\t<document> #USER# #USER# Suga loves basketball. He used to play basketball a lot as a student, and when he was a trainee, he played it every Sunday. His position was usually point guard or shooting guard. #USER# #USER# #USER# MANIFESTING MANIFESTING MANIFESTING MANIFESTING \\xf0\\x9f\\xa4\\x9e\\xf0\\x9f\\x8f\\xbd\\xf0\\x9f\\xa5\\xba\\xf0\\x9f\\x98\\xab\\xf0\\x9f\\x92\\x97\\xf0\\x9f\\x92\\x9c #URL# ></document>\\n\\t\\t<document> #USER# #USER# #USER# #USER# #USER# #USER# #USER# #USER# #USER# #USER# #USER# #USER# #USER# #USER# #USER# #USER# #USER# #USER# #USER# #USER# #USER# #USER# #USER# #USER# #USER# #USER# #USER# #USER# #USER# #USER# #USER# #USER# #USER# #USER# #USER# #USER# #USER# #USER# #USER# #USER# #USER# #USER# #USER# #USER# #USER# #USER# #USER# #USER# #USER# #USER# You know God\\'s word, the bible?\\nI use to live in darkness, too.\\nWe are w/o excuse. Free will.\\nMy conscience bears witness to the light.\\nGod\\'s word is offensive when  we realize the choices we\\'ve made are leading us to death. \\nDeath is inevitable for all of creation. Fact. ></document>\\n\\t\\t<document> I asked my baby brother what \"N\" stands for? He said newt??? And I have to google it \\xf0\\x9f\\x98\\xad\\xf0\\x9f\\x98\\xad\\xf0\\x9f\\x98\\xad #URL# ></document>\\n\\t\\t<document> I can be stressed asf smoke, boom calm. It is what it is sets in and I\\xe2\\x80\\x99m straight ></document>\\n\\t\\t<document> This shit sucks but it was good having people I know care about me able to help me out and keep me cool calm and collected. I just wish I could find bags that would actually last on my skin. Nothing ever works like I need it to. Such a bummer. ></document>\\n\\t\\t<document> Not in a mood today and my uncle keep kacau me, I almost throw a punch on his face and he ran away. HAHAHAHAHA this bitch is aggressive. \\xf0\\x9f\\xa4\\xad ></document>\\n\\t\\t<document> why is villanelle always betrayed at her most vulnerable my heart hurts #URL# ></document>\\n\\t\\t<document> #USER# I\\'mma spell it out for those who honestly don\\'t know:\\nWe have the SPR so that the U.S. Armed Forces have the fuel we need to go wherever we have to go to conquer whatever oil fields we need to keep America\\'s lights on and trucks running.\\nDebate the morality of this all you like. ></document>\\n\\t\\t<document> Check out HALLMARK TEDDY MITTENS CHRISTMAS BEAR STUFFED ANIMAL WITH TAGS 13\" PLUSH TOY #HASHTAG# #URL# via #USER# ></document>\\n\\t\\t<document> Me, my lady, her son &amp; my 16 year old nephew if all 4 of us are at the restaurant. Everybody else present can get the fuck out my face. No charity here #URL# ></document>\\n\\t\\t<document> #USER# #USER# #USER# It doesn\\'t make one less Eritrean because the person supported the struggle of Tegaru or has appeared on their TV. The point is, #USER# is NOT Eritrean enough to label or judge if one is nationalist or not. After all, it is a family media, jot public. ></document>\\n\\t\\t<document> #USER# Fake News- Facts matter. It was Joe Biden whom refused to give Ukraine billions of our tax dollars to help fight the Russians unless Ukraine dropped all legitimate charges against his son, Hunter Biden (because Joe Biden was also involved in those allegations).But sure keep lying ></document>\\n\\t\\t<document> Me thinks Manchin can\\xe2\\x80\\x99t find his way to the other side of the isle. He\\xe2\\x80\\x99s as red as a pair of diseased balls. #URL# ></document>\\n\\t\\t<document> #USER# Guard play is strong and are well coached. Like them to win at least 1 ></document>\\n\\t\\t<document> #USER# Coinbase is part of the mafia\\xf0\\x9f\\x91\\x8e\\xf0\\x9f\\x91\\x8e\\xf0\\x9f\\x91\\x8e\\xf0\\x9f\\x91\\x8e\\xf0\\x9f\\x91\\x8e. \\nYesterday, 2500 USDT simply  disappeared from my coinbase wallet.\\nI submitted the complaint to CS, and they sent me some tutorials. Smh.\\nI escalated the issue to the police department. ></document>\\n\\t\\t<document> #USER# Boomers fought 1 war reluctantly (Vietnam) and Gen X fought 3 wars \\n\\nI dont know what the polls say about Ukraine, but 72% of American adults supported the 2nd Iraq-war and we didn\\'t have 72% Boomer adults in 2003\\n\\n#URL# ></document>\\n\\t\\t<document> #USER# Welcome to Pakistan and enjoy your time with family :) ></document>\\n\\t\\t<document> #USER# I\\xe2\\x80\\x99d agree. All optics and contrarian theater. The lunatic fringe that he and apparently most of the GOP are counting on don\\xe2\\x80\\x99t add up to as many as they are going to need to win seats. Not by a long shot. They are loudmouths, but a small group who also scuttle their own efforts. ></document>\\n\\t\\t<document> The blue economy strategy will ensure all fish landing sites is in place,the govt has set up a coast guard to secure our maritime assets, #HASHTAG# #URL# ></document>\\n\\t\\t<document> #USER# Preston pls i just got scamed of a duped pet a huge lucky cat i traded for i ofered a huge forest whybern and i left The game and even puter it in my bank and now ITs gona can i pls have back my huge forest whybern or The huge lucky can pls one of them my username is Norway_is ></document>\\n\\t\\t<document> #USER# bro what didnt they have kids or shit lmao ></document>\\n\\t\\t<document> I\\'m good with the repuglies fighting a war with each other. But it would not be civil... #URL# ></document>\\n\\t\\t<document> Check out this listing I just added to my #HASHTAG# closet: Rhinestone Crystal Clover Heart Pendant Necklace Green Gold Tone. #URL# #HASHTAG# #USER# ></document>\\n\\t\\t<document> $SPY tell Cramer banks are a good short right. \\xf0\\x9f\\xa5\\x87 ></document>\\n\\t\\t<document> #USER# My first NFT minted in Nov \\'20, but I got serious about it in Feb \\'21. Before corpo money came in and kept their boots on. Before Youtubers who use wide-eyed-mouth-open faces for their title images. Before scammers began targeting artists wtf. Let\\'s talk some time? ></document>\\n\\t\\t<document> #USER# i wish Im be lucky to be one recieve #URL# ></document>\\n\\t\\t<document> i wanted to ask my brother if they could help me with my hair tomorrow but words did not come out it ></document>\\n\\t\\t<document> [Podcast] How law firms can guard against losing their best people... #URL# ></document>\\n\\t\\t<document> i want to become a comfort streamer but one (1) that sounds intimidating some how and two (2) i don\\'t feel like i\\'m a calm enough person \\xf0\\x9f\\xa5\\xb2 ></document>\\n\\t</documents>\\n</author>', shape=(), dtype=string)\n",
            "SVM Accuracy Score on Training set ->  1.0\n",
            "SVM Accuracy Score on Test set ->  0.9277777777777778\n"
          ]
        }
      ]
    }
  ]
}