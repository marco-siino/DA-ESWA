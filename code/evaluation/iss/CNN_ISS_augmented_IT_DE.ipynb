{
  "cells": [
    {
      "cell_type": "markdown",
      "metadata": {
        "id": "view-in-github",
        "colab_type": "text"
      },
      "source": [
        "<a href=\"https://colab.research.google.com/github/marco-siino/DA-ESWA/blob/main/code/evaluation/iss/CNN_ISS_augmented_IT_DE.ipynb\" target=\"_parent\"><img src=\"https://colab.research.google.com/assets/colab-badge.svg\" alt=\"Open In Colab\"/></a>"
      ]
    },
    {
      "cell_type": "markdown",
      "metadata": {
        "id": "u-hLo5ufkCT1"
      },
      "source": [
        "## Investigating text data augmentation using back translation for author profiling\n",
        "- - - \n",
        "CNN ON ISS DS EXPERIMENTS NOTEBOOK \n",
        "- - -\n",
        "Convolutional Neural Network on Irony and Stereotype Spreaders Dataset augmented with IT and DE backtranslation.\n",
        "Code by M. Siino. \n",
        "\n",
        "From the paper: \"Investigating text data augmentation using back translation for author profiling\" by M.Siino et al.\n",
        "\n"
      ]
    },
    {
      "cell_type": "markdown",
      "metadata": {
        "id": "6IBqUcj4cx2G"
      },
      "source": [
        "## Importing modules."
      ]
    },
    {
      "cell_type": "code",
      "execution_count": null,
      "metadata": {
        "id": "AQSunQ-ucjLX"
      },
      "outputs": [],
      "source": [
        "import matplotlib.pyplot as plt\n",
        "import os\n",
        "import random\n",
        "import re\n",
        "import shutil\n",
        "import string\n",
        "import tensorflow as tf\n",
        "\n",
        "import numpy as np\n",
        "\n",
        "from tensorflow.keras import layers\n",
        "from tensorflow.keras import losses\n",
        "from tensorflow.keras import preprocessing\n",
        "from keras.models import Model\n",
        "from tensorflow.keras.layers.experimental.preprocessing import TextVectorization\n",
        "\n",
        "#os.environ['TF_CUDNN_DETERMINISTIC']='true'\n",
        "#os.environ['TF_DETERMINISTIC_OPS']='true'"
      ]
    },
    {
      "cell_type": "markdown",
      "metadata": {
        "id": "0QHd_fxmHCfa"
      },
      "source": [
        "## Importing DS and extract in current working directory."
      ]
    },
    {
      "cell_type": "code",
      "source": [
        "urlTrainingSet = \"https://github.com/marco-siino/DA-ESWA/raw/main/data/iss/iss-training-augmented-it-de.zip\"\n",
        "training_set = tf.keras.utils.get_file(\"pan22-author-profiling-training-2022-03-29-augmented-it-de.zip\", urlTrainingSet,\n",
        "                                    extract=True, archive_format='zip',cache_dir='.',\n",
        "                                    cache_subdir='')\n",
        "\n",
        "urlTestSet=\"https://github.com/marco-siino/DA-ESWA/raw/main/data/iss/iss-test-augmented-it-de.zip\"\n",
        "test_set = tf.keras.utils.get_file(\"pan22-author-profiling-test-2022-04-22-without_truth-augmented-it-de.zip\", urlTestSet,\n",
        "                                    extract=True, archive_format='zip',cache_dir='.',\n",
        "                                    cache_subdir='')"
      ],
      "metadata": {
        "id": "2RBLe4vQPni1",
        "colab": {
          "base_uri": "https://localhost:8080/"
        },
        "outputId": "a6633d24-09ee-446f-ed15-617796a32a55"
      },
      "execution_count": null,
      "outputs": [
        {
          "output_type": "stream",
          "name": "stdout",
          "text": [
            "Downloading data from https://github.com/marco-siino/DA-ESWA/raw/main/data/iss/iss-training-augmented-it-de.zip\n",
            "14286848/14279468 [==============================] - 1s 0us/step\n",
            "14295040/14279468 [==============================] - 1s 0us/step\n",
            "Downloading data from https://github.com/marco-siino/DA-ESWA/raw/main/data/iss/iss-test-augmented-it-de.zip\n",
            "5906432/5901554 [==============================] - 1s 0us/step\n",
            "5914624/5901554 [==============================] - 1s 0us/step\n"
          ]
        }
      ]
    },
    {
      "cell_type": "code",
      "execution_count": null,
      "metadata": {
        "id": "ocYMUXaY8r0_",
        "colab": {
          "base_uri": "https://localhost:8080/"
        },
        "outputId": "9e5f95cb-8721-4256-ac16-43d7b516be33"
      },
      "outputs": [
        {
          "output_type": "stream",
          "name": "stderr",
          "text": [
            "'ls' is not recognized as an internal or external command,\n",
            "operable program or batch file.\n"
          ]
        }
      ],
      "source": [
        "training_set_dir = os.path.join(os.path.dirname(training_set), 'pan22-author-profiling-training-2022-03-29-augmented-it-de')\n",
        "test_set_dir = os.path.join(os.path.dirname(test_set), 'pan22-author-profiling-test-2022-04-22-without_truth-augmented-it-de')\n",
        "\n",
        "!ls -A"
      ]
    },
    {
      "cell_type": "markdown",
      "metadata": {
        "id": "uTJi1fbT_Rup"
      },
      "source": [
        "## Build folders hierarchy to use Keras folders preprocessing function.\n",
        "\n"
      ]
    },
    {
      "cell_type": "code",
      "execution_count": null,
      "metadata": {
        "id": "FyafvXEMhEKw"
      },
      "outputs": [],
      "source": [
        "### Training Folders. ###\n",
        "\n",
        "# First level directory.\n",
        "if not os.path.exists('train_dir_it_de'):\n",
        "    os.makedirs('train_dir_it_de')\n",
        "\n",
        "# Class labels directory.\n",
        "if not os.path.exists('train_dir_it_de/0'):\n",
        "    os.makedirs('train_dir_it_de/0')\n",
        "if not os.path.exists('train_dir_it_de/1'):\n",
        "    os.makedirs('train_dir_it_de/1')\n",
        "\n",
        "# Make Py variables.\n",
        "train_dir='train_dir_it_de'\n",
        "\n",
        "## Test Folders. ##\n",
        "# First level directory.\n",
        "if not os.path.exists('test_dir_it_de'):\n",
        "    os.makedirs('test_dir_it_de')\n",
        "\n",
        "# Class labels directory.\n",
        "if not os.path.exists('test_dir_it_de/0'):\n",
        "    os.makedirs('test_dir_it_de/0')\n",
        "if not os.path.exists('test_dir_it_de/1'):\n",
        "    os.makedirs('test_dir_it_de/1')\n",
        "\n",
        "# Make Py variables.\n",
        "test_dir='test_dir_it_de'"
      ]
    },
    {
      "cell_type": "markdown",
      "source": [
        "## Set language and directory paths."
      ],
      "metadata": {
        "id": "-6c28Rdo8zGn"
      }
    },
    {
      "cell_type": "code",
      "source": [
        "# Set en and es ground truth file path for train_dir. \n",
        "language='en'\n",
        "\n",
        "truth_file_training_dir_en=training_set_dir+'/'+language+'/'\n",
        "truth_file_training_path_en = truth_file_training_dir_en+'truth.txt'\n",
        "\n",
        "truth_file_test_dir=test_set_dir\n",
        "truth_file_test_path_en = truth_file_test_dir+'/'+'truth'+'.txt'"
      ],
      "metadata": {
        "id": "ANr_dCj-8yvD"
      },
      "execution_count": null,
      "outputs": []
    },
    {
      "cell_type": "markdown",
      "source": [
        "## Read truth.txt to organize training and test dataset folders."
      ],
      "metadata": {
        "id": "VU6PtNMZ864o"
      }
    },
    {
      "cell_type": "code",
      "source": [
        "# Open the file truth.txt with read only permit.\n",
        "f = open(truth_file_training_path_en, \"r\")\n",
        "# use readline() to read the first line \n",
        "line = f.readline()\n",
        "# use the read line to read further.\n",
        "# If the file is not empty keep reading one line\n",
        "# at a time, till the file is empty\n",
        "while line:\n",
        "    # Split line at :::\n",
        "    x = line.split(\":::\")\n",
        "    fNameXml = x[0]+'.xml'\n",
        "    fNameTxt = x[0]+'.txt'\n",
        "    # Second coord [0] gets just the first character (label) and not /n too.\n",
        "    label = x[1][0]\n",
        "    if label == 'I':\n",
        "      label = '1'\n",
        "    elif label == 'N':\n",
        "      label = '0'\n",
        "\n",
        "    # Now move the file to the right folder.\n",
        "    if os.path.exists(truth_file_training_dir_en+fNameXml):\n",
        "      os.rename(truth_file_training_dir_en+fNameXml, './train_dir_it_de/'+label+'/'+fNameTxt )\n",
        "\n",
        "    # use readline() to read next line\n",
        "    line = f.readline()\n",
        "\n",
        "# Open the file truth.txt with read only permit.\n",
        "f = open(truth_file_test_path_en, \"r\")\n",
        "# use readline() to read the first line \n",
        "line = f.readline()\n",
        "# use the read line to read further.\n",
        "# If the file is not empty keep reading one line\n",
        "# at a time, till the file is empty\n",
        "while line:\n",
        "    # Split line at :::\n",
        "    x = line.split(\":::\")\n",
        "    fNameXml = x[0]+'.xml'\n",
        "    fNameTxt = x[0]+'.txt'\n",
        "    # Second coord [0] gets just the first character (label) and not /n too.\n",
        "    label = x[1][0]\n",
        "    if label == 'I':\n",
        "      label = '1'\n",
        "    elif label == 'N':\n",
        "      label = '0'\n",
        "\n",
        "    # Now move the file to the right folder.\n",
        "    if os.path.exists(truth_file_test_dir+'/'+language+'/'+fNameXml):\n",
        "      os.rename(truth_file_test_dir+'/'+language+'/'+fNameXml, './test_dir_it_de/'+label+'/'+fNameTxt )\n",
        "\n",
        "    # use readline() to read next line\n",
        "    line = f.readline()"
      ],
      "metadata": {
        "id": "iW2UF_SH87TX"
      },
      "execution_count": null,
      "outputs": []
    },
    {
      "cell_type": "markdown",
      "source": [
        "## Generate full dataset."
      ],
      "metadata": {
        "id": "4vskGJeX9GqJ"
      }
    },
    {
      "cell_type": "code",
      "source": [
        "# Generate full randomized training set.\n",
        "batch_size=1\n",
        "\n",
        "en_train_ds = tf.keras.preprocessing.text_dataset_from_directory(\n",
        "    train_dir, \n",
        "    batch_size=batch_size,\n",
        "    shuffle=False\n",
        "    )\n",
        "\n",
        "en_test_ds = tf.keras.preprocessing.text_dataset_from_directory(\n",
        "    test_dir, \n",
        "    batch_size=batch_size,\n",
        "    shuffle=False\n",
        "    )\n",
        "\n",
        "train_ds=en_train_ds.shuffle(500,seed=1, reshuffle_each_iteration=False)\n",
        "test_ds=en_test_ds.shuffle(200,seed=1, reshuffle_each_iteration=False)\n",
        "\n",
        "train_ds_size=len(train_ds)\n",
        "test_ds_size=len(test_ds)"
      ],
      "metadata": {
        "colab": {
          "base_uri": "https://localhost:8080/"
        },
        "id": "UOqIc_Sm9HGX",
        "outputId": "7b771cc0-d639-4a58-b038-24cf343b4f2f"
      },
      "execution_count": null,
      "outputs": [
        {
          "output_type": "stream",
          "name": "stdout",
          "text": [
            "Found 420 files belonging to 2 classes.\n",
            "Found 180 files belonging to 2 classes.\n"
          ]
        }
      ]
    },
    {
      "cell_type": "markdown",
      "metadata": {
        "id": "ITouXXtQ8WzV"
      },
      "source": [
        "## Functions to pre-process source text. \n",
        "\n"
      ]
    },
    {
      "cell_type": "code",
      "execution_count": null,
      "metadata": {
        "id": "bDPIqAgXYWim"
      },
      "outputs": [],
      "source": [
        "# Preprocessing function to remove some noise due to the translation.\n",
        "def clean_samples(input_data):\n",
        "  tag_author_lang_en_removed = tf.strings.regex_replace(input_data,'', '')  \n",
        "  tag_opening_documents = tf.strings.regex_replace(tag_author_lang_en_removed,'', '')\n",
        "  tag_opening_cdata_removed = tf.strings.regex_replace(tag_opening_documents,'<\\!\\[CDATA\\[', ' ')\n",
        "  tag_closing_cdata_removed = tf.strings.regex_replace(tag_opening_cdata_removed,'\\]\\]>', ' >')\n",
        "  tag_closing_documents = tf.strings.regex_replace(tag_closing_cdata_removed,'', '')\n",
        "  output_data = tf.strings.regex_replace(tag_closing_documents,'', '')\n",
        "  tag_author_lang_en_removed = tf.strings.regex_replace(output_data,'<author lang=\"en\"', '')\n",
        "  tag_author_lang_en_cased_removed = tf.strings.regex_replace(tag_author_lang_en_removed,'<Author lang=\"en\"', '\\n\\n')\n",
        "  tag_opening_document_miscased = tf.strings.regex_replace(tag_author_lang_en_cased_removed,'<Document>', '<document>')\n",
        "  output_data = tf.strings.regex_replace(tag_opening_document_miscased,'</Document>', '</document>')\n",
        "  return output_data"
      ]
    },
    {
      "cell_type": "markdown",
      "metadata": {
        "id": "TjUnE9_DEyCw"
      },
      "source": [
        "## Get the length of the longest sample in training set. Then adapt text.\n",
        "\n"
      ]
    },
    {
      "cell_type": "code",
      "execution_count": null,
      "metadata": {
        "id": "ebRMQqa_mr48"
      },
      "outputs": [],
      "source": [
        "def preprocess_and_adapt_ts(training_set):\n",
        "  # Set a large sequence length to find the longest sample in the training set.\n",
        "  sequence_length = 30000\n",
        "  vectorize_layer = TextVectorization(\n",
        "      standardize=clean_samples,\n",
        "      output_mode='int',\n",
        "      output_sequence_length=sequence_length)\n",
        "\n",
        "  train_text = training_set.map(lambda x, y: x)\n",
        "  vectorize_layer.adapt(train_text)\n",
        "  #vectorize_layer.get_vocabulary()\n",
        "\n",
        "  model = tf.keras.models.Sequential()\n",
        "  model.add(tf.keras.Input(shape=(1,), dtype=tf.string))\n",
        "  model.add(vectorize_layer)\n",
        "\n",
        "  longest_sample_length=1\n",
        "\n",
        "  for element in training_set:\n",
        "    authorDocument=element[0]\n",
        "    label=element[1]\n",
        "    \n",
        "    #print(\"Sample considered is: \", authorDocument[0].numpy())\n",
        "    #print(\"Preprocessed: \", str(custom_standardization(authorDocument[0].numpy())))\n",
        "    #print(\"And has label: \", label[0].numpy())\n",
        "\n",
        "    out=model(authorDocument)\n",
        "    # Convert token list to numpy array.\n",
        "    token_list = out.numpy()[0]\n",
        "    token_list = np.trim_zeros(token_list,'b')\n",
        "    if longest_sample_length < len(token_list):\n",
        "      longest_sample_length = len(token_list)\n",
        "\n",
        "  print(\"Length of the longest sample is:\", longest_sample_length)\n",
        "\n",
        "  # After tokenization longest_sample_length covers all the document lenghts in our dataset.\n",
        "  sequence_length = longest_sample_length\n",
        "\n",
        "  vectorize_layer = TextVectorization(\n",
        "      standardize=clean_samples,\n",
        "      output_mode='int',\n",
        "      output_sequence_length=sequence_length)\n",
        "\n",
        "  # Finally adapt the vectorize layer.\n",
        "  train_text = training_set.map(lambda x, y: x)\n",
        "  vectorize_layer.adapt(train_text)\n",
        "  return vectorize_layer"
      ]
    },
    {
      "cell_type": "markdown",
      "source": [
        "## Some training hyperparameters..."
      ],
      "metadata": {
        "id": "RF7pJkGJ3bHT"
      }
    },
    {
      "cell_type": "code",
      "source": [
        "# Word embedding dimensions.\n",
        "embedding_dim = 100\n",
        "\n",
        "num_runs = 5 \n",
        "# No need to go over the 20th epoch...Overfitting begins.\n",
        "num_epochs_per_run = 20\n",
        "\n",
        "#opt = tf.keras.optimizers.RMSprop()"
      ],
      "metadata": {
        "id": "ocHligxS3mVn"
      },
      "execution_count": null,
      "outputs": []
    },
    {
      "cell_type": "markdown",
      "source": [
        "## Vectorization\n",
        "\n",
        "\n"
      ],
      "metadata": {
        "id": "yzLLcBGdtmXM"
      }
    },
    {
      "cell_type": "code",
      "source": [
        "print(\"\\n\\n* * * * VECTORIZATION STARTED * * * *\")\n",
        "\n",
        "# Preprocess training set to build a dictionary.\n",
        "vectorize_layer = preprocess_and_adapt_ts(train_ds)\n",
        "\n",
        "max_features=len(vectorize_layer.get_vocabulary()) + 1\n",
        "print(\"Vocabulary size is:\", max_features)\n"
      ],
      "metadata": {
        "colab": {
          "base_uri": "https://localhost:8080/"
        },
        "id": "mlDEHJvstluS",
        "outputId": "4c8a54da-987b-4812-a610-76e97a4bf79f"
      },
      "execution_count": null,
      "outputs": [
        {
          "output_type": "stream",
          "name": "stdout",
          "text": [
            "\n",
            "\n",
            "* * * * VECTORIZATION STARTED * * * *\n",
            "Length of the longest sample is: 29411\n",
            "Vocabulary size is: 258982\n"
          ]
        }
      ]
    },
    {
      "cell_type": "markdown",
      "metadata": {
        "id": "XDEi7MAo4qsQ"
      },
      "source": [
        "## Models definition, training and evaluation on original and on augmented test set.\n",
        "\n",
        "\n"
      ]
    },
    {
      "cell_type": "code",
      "execution_count": null,
      "metadata": {
        "colab": {
          "base_uri": "https://localhost:8080/"
        },
        "id": "Mm1fdCpETWL-",
        "outputId": "78afb30f-b7a8-4198-b984-5520a327454e"
      },
      "outputs": [
        {
          "output_type": "stream",
          "name": "stdout",
          "text": [
            "420/420 [==============================] - 80s 174ms/step - loss: 0.5571 - binary_accuracy: 0.6929 - val_loss: 0.2217 - val_binary_accuracy: 0.9278\n",
            "Run:  1 / Accuracy on test ORIGINAL at epoch  0  is:  0.9277777671813965 \n",
            "\n",
            "420/420 [==============================] - 73s 173ms/step - loss: 0.2792 - binary_accuracy: 0.9024 - val_loss: 0.1676 - val_binary_accuracy: 0.9389\n",
            "Run:  1 / Accuracy on test ORIGINAL at epoch  1  is:  0.9388889074325562 \n",
            "\n",
            "420/420 [==============================] - 72s 172ms/step - loss: 0.1864 - binary_accuracy: 0.9429 - val_loss: 0.1896 - val_binary_accuracy: 0.9389\n",
            "Run:  1 / Accuracy on test ORIGINAL at epoch  2  is:  0.9388889074325562 \n",
            "\n",
            "420/420 [==============================] - 73s 174ms/step - loss: 0.1071 - binary_accuracy: 0.9595 - val_loss: 0.1878 - val_binary_accuracy: 0.9444\n",
            "Run:  1 / Accuracy on test ORIGINAL at epoch  3  is:  0.9444444179534912 \n",
            "\n",
            "420/420 [==============================] - 74s 176ms/step - loss: 0.0554 - binary_accuracy: 0.9762 - val_loss: 0.2156 - val_binary_accuracy: 0.9333\n",
            "Run:  1 / Accuracy on test ORIGINAL at epoch  4  is:  0.9333333373069763 \n",
            "\n",
            "420/420 [==============================] - 73s 174ms/step - loss: 0.0508 - binary_accuracy: 0.9833 - val_loss: 0.2876 - val_binary_accuracy: 0.9444\n",
            "Run:  1 / Accuracy on test ORIGINAL at epoch  5  is:  0.9444444179534912 \n",
            "\n",
            "420/420 [==============================] - 73s 174ms/step - loss: 0.0319 - binary_accuracy: 0.9905 - val_loss: 0.3606 - val_binary_accuracy: 0.9444\n",
            "Run:  1 / Accuracy on test ORIGINAL at epoch  6  is:  0.9444444179534912 \n",
            "\n",
            "420/420 [==============================] - 73s 174ms/step - loss: 0.0090 - binary_accuracy: 0.9952 - val_loss: 0.3696 - val_binary_accuracy: 0.9333\n",
            "Run:  1 / Accuracy on test ORIGINAL at epoch  7  is:  0.9333333373069763 \n",
            "\n",
            "420/420 [==============================] - 73s 174ms/step - loss: 0.0179 - binary_accuracy: 0.9952 - val_loss: 0.3924 - val_binary_accuracy: 0.9389\n",
            "Run:  1 / Accuracy on test ORIGINAL at epoch  8  is:  0.9388889074325562 \n",
            "\n",
            "420/420 [==============================] - 73s 175ms/step - loss: 0.0034 - binary_accuracy: 0.9976 - val_loss: 0.4745 - val_binary_accuracy: 0.9389\n",
            "Run:  1 / Accuracy on test ORIGINAL at epoch  9  is:  0.9388889074325562 \n",
            "\n",
            "420/420 [==============================] - 73s 174ms/step - loss: 2.8250e-04 - binary_accuracy: 1.0000 - val_loss: 0.5508 - val_binary_accuracy: 0.9389\n",
            "Run:  1 / Accuracy on test ORIGINAL at epoch  10  is:  0.9388889074325562 \n",
            "\n",
            "420/420 [==============================] - 73s 173ms/step - loss: 1.5956e-06 - binary_accuracy: 1.0000 - val_loss: 0.5944 - val_binary_accuracy: 0.9444\n",
            "Run:  1 / Accuracy on test ORIGINAL at epoch  11  is:  0.9444444179534912 \n",
            "\n",
            "420/420 [==============================] - 72s 172ms/step - loss: 4.7305e-07 - binary_accuracy: 1.0000 - val_loss: 0.6909 - val_binary_accuracy: 0.9444\n",
            "Run:  1 / Accuracy on test ORIGINAL at epoch  12  is:  0.9444444179534912 \n",
            "\n",
            "420/420 [==============================] - 73s 174ms/step - loss: 7.1157e-07 - binary_accuracy: 1.0000 - val_loss: 0.7311 - val_binary_accuracy: 0.9500\n",
            "Run:  1 / Accuracy on test ORIGINAL at epoch  13  is:  0.949999988079071 \n",
            "\n",
            "420/420 [==============================] - 73s 175ms/step - loss: 1.5684e-08 - binary_accuracy: 1.0000 - val_loss: 0.7537 - val_binary_accuracy: 0.9444\n",
            "Run:  1 / Accuracy on test ORIGINAL at epoch  14  is:  0.9444444179534912 \n",
            "\n",
            "420/420 [==============================] - 73s 173ms/step - loss: 2.6808e-07 - binary_accuracy: 1.0000 - val_loss: 0.8026 - val_binary_accuracy: 0.9444\n",
            "Run:  1 / Accuracy on test ORIGINAL at epoch  15  is:  0.9444444179534912 \n",
            "\n",
            "420/420 [==============================] - 73s 175ms/step - loss: 1.8899e-09 - binary_accuracy: 1.0000 - val_loss: 0.7934 - val_binary_accuracy: 0.9444\n",
            "Run:  1 / Accuracy on test ORIGINAL at epoch  16  is:  0.9444444179534912 \n",
            "\n",
            "420/420 [==============================] - 73s 175ms/step - loss: 2.2322e-07 - binary_accuracy: 1.0000 - val_loss: 0.7801 - val_binary_accuracy: 0.9556\n",
            "Run:  1 / Accuracy on test ORIGINAL at epoch  17  is:  0.9555555582046509 \n",
            "\n",
            "420/420 [==============================] - 73s 174ms/step - loss: 5.3813e-08 - binary_accuracy: 1.0000 - val_loss: 0.8020 - val_binary_accuracy: 0.9556\n",
            "Run:  1 / Accuracy on test ORIGINAL at epoch  18  is:  0.9555555582046509 \n",
            "\n",
            "420/420 [==============================] - 72s 172ms/step - loss: 7.4172e-10 - binary_accuracy: 1.0000 - val_loss: 0.8006 - val_binary_accuracy: 0.9556\n",
            "Run:  1 / Accuracy on test ORIGINAL at epoch  19  is:  0.9555555582046509 \n",
            "\n",
            "Accuracies on ORIGINAL over epochs: [0.9277777671813965, 0.9388889074325562, 0.9388889074325562, 0.9444444179534912, 0.9333333373069763, 0.9444444179534912, 0.9444444179534912, 0.9333333373069763, 0.9388889074325562, 0.9388889074325562, 0.9388889074325562, 0.9444444179534912, 0.9444444179534912, 0.949999988079071, 0.9444444179534912, 0.9444444179534912, 0.9444444179534912, 0.9555555582046509, 0.9555555582046509, 0.9555555582046509] \n",
            "\n",
            "420/420 [==============================] - 73s 173ms/step - loss: 0.5542 - binary_accuracy: 0.6881 - val_loss: 0.2172 - val_binary_accuracy: 0.9278\n",
            "Run:  2 / Accuracy on test ORIGINAL at epoch  0  is:  0.9277777671813965 \n",
            "\n",
            "420/420 [==============================] - 73s 174ms/step - loss: 0.2904 - binary_accuracy: 0.9071 - val_loss: 0.2167 - val_binary_accuracy: 0.9278\n",
            "Run:  2 / Accuracy on test ORIGINAL at epoch  1  is:  0.9277777671813965 \n",
            "\n",
            "420/420 [==============================] - 73s 174ms/step - loss: 0.1965 - binary_accuracy: 0.9429 - val_loss: 0.1964 - val_binary_accuracy: 0.9389\n",
            "Run:  2 / Accuracy on test ORIGINAL at epoch  2  is:  0.9388889074325562 \n",
            "\n",
            "420/420 [==============================] - 73s 174ms/step - loss: 0.1068 - binary_accuracy: 0.9619 - val_loss: 0.1902 - val_binary_accuracy: 0.9444\n",
            "Run:  2 / Accuracy on test ORIGINAL at epoch  3  is:  0.9444444179534912 \n",
            "\n",
            "420/420 [==============================] - 73s 174ms/step - loss: 0.0648 - binary_accuracy: 0.9810 - val_loss: 0.2237 - val_binary_accuracy: 0.9389\n",
            "Run:  2 / Accuracy on test ORIGINAL at epoch  4  is:  0.9388889074325562 \n",
            "\n",
            "420/420 [==============================] - 73s 174ms/step - loss: 0.0546 - binary_accuracy: 0.9833 - val_loss: 0.2719 - val_binary_accuracy: 0.9444\n",
            "Run:  2 / Accuracy on test ORIGINAL at epoch  5  is:  0.9444444179534912 \n",
            "\n",
            "420/420 [==============================] - 73s 173ms/step - loss: 0.0439 - binary_accuracy: 0.9833 - val_loss: 0.3255 - val_binary_accuracy: 0.9444\n",
            "Run:  2 / Accuracy on test ORIGINAL at epoch  6  is:  0.9444444179534912 \n",
            "\n",
            "420/420 [==============================] - 72s 170ms/step - loss: 0.0132 - binary_accuracy: 0.9952 - val_loss: 0.4253 - val_binary_accuracy: 0.9389\n",
            "Run:  2 / Accuracy on test ORIGINAL at epoch  7  is:  0.9388889074325562 \n",
            "\n",
            "420/420 [==============================] - 72s 170ms/step - loss: 0.0087 - binary_accuracy: 0.9976 - val_loss: 0.4213 - val_binary_accuracy: 0.9389\n",
            "Run:  2 / Accuracy on test ORIGINAL at epoch  8  is:  0.9388889074325562 \n",
            "\n",
            "420/420 [==============================] - 72s 171ms/step - loss: 0.0091 - binary_accuracy: 0.9976 - val_loss: 0.4955 - val_binary_accuracy: 0.9389\n",
            "Run:  2 / Accuracy on test ORIGINAL at epoch  9  is:  0.9388889074325562 \n",
            "\n",
            "420/420 [==============================] - 72s 170ms/step - loss: 0.0209 - binary_accuracy: 0.9976 - val_loss: 0.6018 - val_binary_accuracy: 0.9389\n",
            "Run:  2 / Accuracy on test ORIGINAL at epoch  10  is:  0.9388889074325562 \n",
            "\n",
            "420/420 [==============================] - 71s 170ms/step - loss: 1.2585e-04 - binary_accuracy: 1.0000 - val_loss: 0.5926 - val_binary_accuracy: 0.9389\n",
            "Run:  2 / Accuracy on test ORIGINAL at epoch  11  is:  0.9388889074325562 \n",
            "\n",
            "420/420 [==============================] - 71s 170ms/step - loss: 1.3857e-06 - binary_accuracy: 1.0000 - val_loss: 0.6889 - val_binary_accuracy: 0.9389\n",
            "Run:  2 / Accuracy on test ORIGINAL at epoch  12  is:  0.9388889074325562 \n",
            "\n",
            "420/420 [==============================] - 71s 169ms/step - loss: 1.9295e-05 - binary_accuracy: 1.0000 - val_loss: 0.6981 - val_binary_accuracy: 0.9444\n",
            "Run:  2 / Accuracy on test ORIGINAL at epoch  13  is:  0.9444444179534912 \n",
            "\n",
            "420/420 [==============================] - 72s 170ms/step - loss: 6.4603e-07 - binary_accuracy: 1.0000 - val_loss: 0.6963 - val_binary_accuracy: 0.9444\n",
            "Run:  2 / Accuracy on test ORIGINAL at epoch  14  is:  0.9444444179534912 \n",
            "\n",
            "420/420 [==============================] - 71s 169ms/step - loss: 1.6102e-07 - binary_accuracy: 1.0000 - val_loss: 0.8468 - val_binary_accuracy: 0.9389\n",
            "Run:  2 / Accuracy on test ORIGINAL at epoch  15  is:  0.9388889074325562 \n",
            "\n",
            "420/420 [==============================] - 71s 170ms/step - loss: 1.3480e-09 - binary_accuracy: 1.0000 - val_loss: 0.8574 - val_binary_accuracy: 0.9500\n",
            "Run:  2 / Accuracy on test ORIGINAL at epoch  16  is:  0.949999988079071 \n",
            "\n",
            "420/420 [==============================] - 72s 170ms/step - loss: 3.4266e-05 - binary_accuracy: 1.0000 - val_loss: 0.7803 - val_binary_accuracy: 0.9500\n",
            "Run:  2 / Accuracy on test ORIGINAL at epoch  17  is:  0.949999988079071 \n",
            "\n",
            "420/420 [==============================] - 72s 170ms/step - loss: 2.5694e-08 - binary_accuracy: 1.0000 - val_loss: 0.8599 - val_binary_accuracy: 0.9500\n",
            "Run:  2 / Accuracy on test ORIGINAL at epoch  18  is:  0.949999988079071 \n",
            "\n",
            "420/420 [==============================] - 72s 171ms/step - loss: 3.8317e-09 - binary_accuracy: 1.0000 - val_loss: 0.8693 - val_binary_accuracy: 0.9556\n",
            "Run:  2 / Accuracy on test ORIGINAL at epoch  19  is:  0.9555555582046509 \n",
            "\n",
            "Accuracies on ORIGINAL over epochs: [0.9277777671813965, 0.9277777671813965, 0.9388889074325562, 0.9444444179534912, 0.9388889074325562, 0.9444444179534912, 0.9444444179534912, 0.9388889074325562, 0.9388889074325562, 0.9388889074325562, 0.9388889074325562, 0.9388889074325562, 0.9388889074325562, 0.9444444179534912, 0.9444444179534912, 0.9388889074325562, 0.949999988079071, 0.949999988079071, 0.949999988079071, 0.9555555582046509] \n",
            "\n",
            "420/420 [==============================] - 72s 171ms/step - loss: 0.5616 - binary_accuracy: 0.7071 - val_loss: 0.2174 - val_binary_accuracy: 0.9222\n",
            "Run:  3 / Accuracy on test ORIGINAL at epoch  0  is:  0.9222221970558167 \n",
            "\n",
            "420/420 [==============================] - 71s 169ms/step - loss: 0.2873 - binary_accuracy: 0.9048 - val_loss: 0.1923 - val_binary_accuracy: 0.9333\n",
            "Run:  3 / Accuracy on test ORIGINAL at epoch  1  is:  0.9333333373069763 \n",
            "\n",
            "420/420 [==============================] - 72s 170ms/step - loss: 0.1861 - binary_accuracy: 0.9405 - val_loss: 0.1782 - val_binary_accuracy: 0.9333\n",
            "Run:  3 / Accuracy on test ORIGINAL at epoch  2  is:  0.9333333373069763 \n",
            "\n",
            "420/420 [==============================] - 72s 170ms/step - loss: 0.0976 - binary_accuracy: 0.9738 - val_loss: 0.1988 - val_binary_accuracy: 0.9444\n",
            "Run:  3 / Accuracy on test ORIGINAL at epoch  3  is:  0.9444444179534912 \n",
            "\n",
            "420/420 [==============================] - 72s 172ms/step - loss: 0.0735 - binary_accuracy: 0.9786 - val_loss: 0.2192 - val_binary_accuracy: 0.9389\n",
            "Run:  3 / Accuracy on test ORIGINAL at epoch  4  is:  0.9388889074325562 \n",
            "\n",
            "420/420 [==============================] - 71s 170ms/step - loss: 0.0523 - binary_accuracy: 0.9786 - val_loss: 0.2495 - val_binary_accuracy: 0.9333\n",
            "Run:  3 / Accuracy on test ORIGINAL at epoch  5  is:  0.9333333373069763 \n",
            "\n",
            "420/420 [==============================] - 72s 171ms/step - loss: 0.0226 - binary_accuracy: 0.9881 - val_loss: 0.3056 - val_binary_accuracy: 0.9333\n",
            "Run:  3 / Accuracy on test ORIGINAL at epoch  6  is:  0.9333333373069763 \n",
            "\n",
            "420/420 [==============================] - 72s 170ms/step - loss: 0.0151 - binary_accuracy: 0.9952 - val_loss: 0.3514 - val_binary_accuracy: 0.9389\n",
            "Run:  3 / Accuracy on test ORIGINAL at epoch  7  is:  0.9388889074325562 \n",
            "\n",
            "420/420 [==============================] - 71s 170ms/step - loss: 9.7413e-04 - binary_accuracy: 1.0000 - val_loss: 0.4665 - val_binary_accuracy: 0.9333\n",
            "Run:  3 / Accuracy on test ORIGINAL at epoch  8  is:  0.9333333373069763 \n",
            "\n",
            "420/420 [==============================] - 71s 170ms/step - loss: 0.0110 - binary_accuracy: 0.9976 - val_loss: 0.5153 - val_binary_accuracy: 0.9333\n",
            "Run:  3 / Accuracy on test ORIGINAL at epoch  9  is:  0.9333333373069763 \n",
            "\n",
            "420/420 [==============================] - 72s 172ms/step - loss: 0.0085 - binary_accuracy: 0.9976 - val_loss: 0.6026 - val_binary_accuracy: 0.9389\n",
            "Run:  3 / Accuracy on test ORIGINAL at epoch  10  is:  0.9388889074325562 \n",
            "\n",
            "420/420 [==============================] - 71s 170ms/step - loss: 8.9557e-08 - binary_accuracy: 1.0000 - val_loss: 0.6977 - val_binary_accuracy: 0.9444\n",
            "Run:  3 / Accuracy on test ORIGINAL at epoch  11  is:  0.9444444179534912 \n",
            "\n",
            "420/420 [==============================] - 72s 171ms/step - loss: 1.2774e-06 - binary_accuracy: 1.0000 - val_loss: 0.7361 - val_binary_accuracy: 0.9167\n",
            "Run:  3 / Accuracy on test ORIGINAL at epoch  12  is:  0.9166666865348816 \n",
            "\n",
            "420/420 [==============================] - 71s 169ms/step - loss: 1.0583e-07 - binary_accuracy: 1.0000 - val_loss: 0.7888 - val_binary_accuracy: 0.9444\n",
            "Run:  3 / Accuracy on test ORIGINAL at epoch  13  is:  0.9444444179534912 \n",
            "\n",
            "420/420 [==============================] - 71s 169ms/step - loss: 2.1563e-07 - binary_accuracy: 1.0000 - val_loss: 0.8001 - val_binary_accuracy: 0.9444\n",
            "Run:  3 / Accuracy on test ORIGINAL at epoch  14  is:  0.9444444179534912 \n",
            "\n",
            "420/420 [==============================] - 71s 169ms/step - loss: 1.2521e-07 - binary_accuracy: 1.0000 - val_loss: 0.7651 - val_binary_accuracy: 0.9444\n",
            "Run:  3 / Accuracy on test ORIGINAL at epoch  15  is:  0.9444444179534912 \n",
            "\n",
            "420/420 [==============================] - 71s 170ms/step - loss: 1.4476e-07 - binary_accuracy: 1.0000 - val_loss: 0.7650 - val_binary_accuracy: 0.9556\n",
            "Run:  3 / Accuracy on test ORIGINAL at epoch  16  is:  0.9555555582046509 \n",
            "\n",
            "420/420 [==============================] - 72s 170ms/step - loss: 6.7179e-09 - binary_accuracy: 1.0000 - val_loss: 0.7320 - val_binary_accuracy: 0.9444\n",
            "Run:  3 / Accuracy on test ORIGINAL at epoch  17  is:  0.9444444179534912 \n",
            "\n",
            "420/420 [==============================] - 71s 170ms/step - loss: 6.9877e-07 - binary_accuracy: 1.0000 - val_loss: 1.1479 - val_binary_accuracy: 0.9056\n",
            "Run:  3 / Accuracy on test ORIGINAL at epoch  18  is:  0.9055555462837219 \n",
            "\n",
            "420/420 [==============================] - 72s 171ms/step - loss: 4.5512e-04 - binary_accuracy: 1.0000 - val_loss: 0.8071 - val_binary_accuracy: 0.9556\n",
            "Run:  3 / Accuracy on test ORIGINAL at epoch  19  is:  0.9555555582046509 \n",
            "\n",
            "Accuracies on ORIGINAL over epochs: [0.9222221970558167, 0.9333333373069763, 0.9333333373069763, 0.9444444179534912, 0.9388889074325562, 0.9333333373069763, 0.9333333373069763, 0.9388889074325562, 0.9333333373069763, 0.9333333373069763, 0.9388889074325562, 0.9444444179534912, 0.9166666865348816, 0.9444444179534912, 0.9444444179534912, 0.9444444179534912, 0.9555555582046509, 0.9444444179534912, 0.9055555462837219, 0.9555555582046509] \n",
            "\n",
            "420/420 [==============================] - 73s 171ms/step - loss: 0.5536 - binary_accuracy: 0.6929 - val_loss: 0.2099 - val_binary_accuracy: 0.9222\n",
            "Run:  4 / Accuracy on test ORIGINAL at epoch  0  is:  0.9222221970558167 \n",
            "\n",
            "420/420 [==============================] - 72s 172ms/step - loss: 0.2774 - binary_accuracy: 0.9071 - val_loss: 0.1768 - val_binary_accuracy: 0.9389\n",
            "Run:  4 / Accuracy on test ORIGINAL at epoch  1  is:  0.9388889074325562 \n",
            "\n",
            "420/420 [==============================] - 71s 169ms/step - loss: 0.1865 - binary_accuracy: 0.9405 - val_loss: 0.1820 - val_binary_accuracy: 0.9389\n",
            "Run:  4 / Accuracy on test ORIGINAL at epoch  2  is:  0.9388889074325562 \n",
            "\n",
            "420/420 [==============================] - 72s 172ms/step - loss: 0.1037 - binary_accuracy: 0.9714 - val_loss: 0.1927 - val_binary_accuracy: 0.9500\n",
            "Run:  4 / Accuracy on test ORIGINAL at epoch  3  is:  0.949999988079071 \n",
            "\n",
            "420/420 [==============================] - 72s 170ms/step - loss: 0.0613 - binary_accuracy: 0.9810 - val_loss: 0.2229 - val_binary_accuracy: 0.9333\n",
            "Run:  4 / Accuracy on test ORIGINAL at epoch  4  is:  0.9333333373069763 \n",
            "\n",
            "420/420 [==============================] - 71s 170ms/step - loss: 0.0528 - binary_accuracy: 0.9810 - val_loss: 0.2583 - val_binary_accuracy: 0.9333\n",
            "Run:  4 / Accuracy on test ORIGINAL at epoch  5  is:  0.9333333373069763 \n",
            "\n",
            "420/420 [==============================] - 71s 169ms/step - loss: 0.0351 - binary_accuracy: 0.9881 - val_loss: 0.3241 - val_binary_accuracy: 0.9500\n",
            "Run:  4 / Accuracy on test ORIGINAL at epoch  6  is:  0.949999988079071 \n",
            "\n",
            "420/420 [==============================] - 72s 170ms/step - loss: 0.0122 - binary_accuracy: 0.9952 - val_loss: 0.3428 - val_binary_accuracy: 0.9333\n",
            "Run:  4 / Accuracy on test ORIGINAL at epoch  7  is:  0.9333333373069763 \n",
            "\n",
            "420/420 [==============================] - 72s 170ms/step - loss: 0.0017 - binary_accuracy: 1.0000 - val_loss: 0.4218 - val_binary_accuracy: 0.9278\n",
            "Run:  4 / Accuracy on test ORIGINAL at epoch  8  is:  0.9277777671813965 \n",
            "\n",
            "420/420 [==============================] - 72s 170ms/step - loss: 4.8410e-04 - binary_accuracy: 1.0000 - val_loss: 0.5260 - val_binary_accuracy: 0.9333\n",
            "Run:  4 / Accuracy on test ORIGINAL at epoch  9  is:  0.9333333373069763 \n",
            "\n",
            "420/420 [==============================] - 71s 169ms/step - loss: 0.0059 - binary_accuracy: 0.9976 - val_loss: 0.5625 - val_binary_accuracy: 0.9333\n",
            "Run:  4 / Accuracy on test ORIGINAL at epoch  10  is:  0.9333333373069763 \n",
            "\n",
            "420/420 [==============================] - 72s 172ms/step - loss: 2.1495e-04 - binary_accuracy: 1.0000 - val_loss: 0.6756 - val_binary_accuracy: 0.9278\n",
            "Run:  4 / Accuracy on test ORIGINAL at epoch  11  is:  0.9277777671813965 \n",
            "\n",
            "420/420 [==============================] - 71s 170ms/step - loss: 2.5976e-06 - binary_accuracy: 1.0000 - val_loss: 0.6899 - val_binary_accuracy: 0.9389\n",
            "Run:  4 / Accuracy on test ORIGINAL at epoch  12  is:  0.9388889074325562 \n",
            "\n",
            "420/420 [==============================] - 72s 171ms/step - loss: 1.0869e-06 - binary_accuracy: 1.0000 - val_loss: 0.6285 - val_binary_accuracy: 0.9389\n",
            "Run:  4 / Accuracy on test ORIGINAL at epoch  13  is:  0.9388889074325562 \n",
            "\n",
            "420/420 [==============================] - 71s 170ms/step - loss: 1.0020e-07 - binary_accuracy: 1.0000 - val_loss: 0.7239 - val_binary_accuracy: 0.9333\n",
            "Run:  4 / Accuracy on test ORIGINAL at epoch  14  is:  0.9333333373069763 \n",
            "\n",
            "420/420 [==============================] - 72s 171ms/step - loss: 6.5343e-07 - binary_accuracy: 1.0000 - val_loss: 0.6452 - val_binary_accuracy: 0.9500\n",
            "Run:  4 / Accuracy on test ORIGINAL at epoch  15  is:  0.949999988079071 \n",
            "\n",
            "420/420 [==============================] - 72s 170ms/step - loss: 3.3026e-07 - binary_accuracy: 1.0000 - val_loss: 0.7238 - val_binary_accuracy: 0.9500\n",
            "Run:  4 / Accuracy on test ORIGINAL at epoch  16  is:  0.949999988079071 \n",
            "\n",
            "420/420 [==============================] - 72s 171ms/step - loss: 5.0593e-08 - binary_accuracy: 1.0000 - val_loss: 0.6903 - val_binary_accuracy: 0.9500\n",
            "Run:  4 / Accuracy on test ORIGINAL at epoch  17  is:  0.949999988079071 \n",
            "\n",
            "420/420 [==============================] - 71s 170ms/step - loss: 2.4228e-08 - binary_accuracy: 1.0000 - val_loss: 0.7209 - val_binary_accuracy: 0.9500\n",
            "Run:  4 / Accuracy on test ORIGINAL at epoch  18  is:  0.949999988079071 \n",
            "\n",
            "420/420 [==============================] - 71s 170ms/step - loss: 3.0353e-09 - binary_accuracy: 1.0000 - val_loss: 0.7462 - val_binary_accuracy: 0.9444\n",
            "Run:  4 / Accuracy on test ORIGINAL at epoch  19  is:  0.9444444179534912 \n",
            "\n",
            "Accuracies on ORIGINAL over epochs: [0.9222221970558167, 0.9388889074325562, 0.9388889074325562, 0.949999988079071, 0.9333333373069763, 0.9333333373069763, 0.949999988079071, 0.9333333373069763, 0.9277777671813965, 0.9333333373069763, 0.9333333373069763, 0.9277777671813965, 0.9388889074325562, 0.9388889074325562, 0.9333333373069763, 0.949999988079071, 0.949999988079071, 0.949999988079071, 0.949999988079071, 0.9444444179534912] \n",
            "\n",
            "420/420 [==============================] - 72s 170ms/step - loss: 0.5581 - binary_accuracy: 0.7024 - val_loss: 0.2181 - val_binary_accuracy: 0.9222\n",
            "Run:  5 / Accuracy on test ORIGINAL at epoch  0  is:  0.9222221970558167 \n",
            "\n",
            "420/420 [==============================] - 71s 169ms/step - loss: 0.2853 - binary_accuracy: 0.8976 - val_loss: 0.1910 - val_binary_accuracy: 0.9278\n",
            "Run:  5 / Accuracy on test ORIGINAL at epoch  1  is:  0.9277777671813965 \n",
            "\n",
            "420/420 [==============================] - 71s 170ms/step - loss: 0.1890 - binary_accuracy: 0.9452 - val_loss: 0.1908 - val_binary_accuracy: 0.9500\n",
            "Run:  5 / Accuracy on test ORIGINAL at epoch  2  is:  0.949999988079071 \n",
            "\n",
            "420/420 [==============================] - 72s 171ms/step - loss: 0.0909 - binary_accuracy: 0.9690 - val_loss: 0.2000 - val_binary_accuracy: 0.9500\n",
            "Run:  5 / Accuracy on test ORIGINAL at epoch  3  is:  0.949999988079071 \n",
            "\n",
            "420/420 [==============================] - 72s 171ms/step - loss: 0.0587 - binary_accuracy: 0.9786 - val_loss: 0.2256 - val_binary_accuracy: 0.9389\n",
            "Run:  5 / Accuracy on test ORIGINAL at epoch  4  is:  0.9388889074325562 \n",
            "\n",
            "420/420 [==============================] - 72s 171ms/step - loss: 0.0322 - binary_accuracy: 0.9881 - val_loss: 0.2838 - val_binary_accuracy: 0.9444\n",
            "Run:  5 / Accuracy on test ORIGINAL at epoch  5  is:  0.9444444179534912 \n",
            "\n",
            "420/420 [==============================] - 72s 171ms/step - loss: 0.0112 - binary_accuracy: 0.9952 - val_loss: 0.3512 - val_binary_accuracy: 0.9333\n",
            "Run:  5 / Accuracy on test ORIGINAL at epoch  6  is:  0.9333333373069763 \n",
            "\n",
            "420/420 [==============================] - 72s 171ms/step - loss: 0.0046 - binary_accuracy: 0.9976 - val_loss: 0.4624 - val_binary_accuracy: 0.9389\n",
            "Run:  5 / Accuracy on test ORIGINAL at epoch  7  is:  0.9388889074325562 \n",
            "\n",
            "420/420 [==============================] - 72s 170ms/step - loss: 9.2256e-04 - binary_accuracy: 1.0000 - val_loss: 0.5905 - val_binary_accuracy: 0.9278\n",
            "Run:  5 / Accuracy on test ORIGINAL at epoch  8  is:  0.9277777671813965 \n",
            "\n",
            "420/420 [==============================] - 72s 170ms/step - loss: 0.0162 - binary_accuracy: 0.9976 - val_loss: 0.7639 - val_binary_accuracy: 0.9111\n",
            "Run:  5 / Accuracy on test ORIGINAL at epoch  9  is:  0.9111111164093018 \n",
            "\n",
            "420/420 [==============================] - 71s 170ms/step - loss: 6.8139e-06 - binary_accuracy: 1.0000 - val_loss: 0.6692 - val_binary_accuracy: 0.9444\n",
            "Run:  5 / Accuracy on test ORIGINAL at epoch  10  is:  0.9444444179534912 \n",
            "\n",
            "420/420 [==============================] - 72s 170ms/step - loss: 3.6974e-08 - binary_accuracy: 1.0000 - val_loss: 0.6988 - val_binary_accuracy: 0.9389\n",
            "Run:  5 / Accuracy on test ORIGINAL at epoch  11  is:  0.9388889074325562 \n",
            "\n",
            "420/420 [==============================] - 71s 169ms/step - loss: 1.2489e-05 - binary_accuracy: 1.0000 - val_loss: 0.6886 - val_binary_accuracy: 0.9389\n",
            "Run:  5 / Accuracy on test ORIGINAL at epoch  12  is:  0.9388889074325562 \n",
            "\n",
            "420/420 [==============================] - 72s 171ms/step - loss: 2.1156e-06 - binary_accuracy: 1.0000 - val_loss: 0.7155 - val_binary_accuracy: 0.9500\n",
            "Run:  5 / Accuracy on test ORIGINAL at epoch  13  is:  0.949999988079071 \n",
            "\n",
            "420/420 [==============================] - 71s 170ms/step - loss: 6.3082e-05 - binary_accuracy: 1.0000 - val_loss: 0.6741 - val_binary_accuracy: 0.9500\n",
            "Run:  5 / Accuracy on test ORIGINAL at epoch  14  is:  0.949999988079071 \n",
            "\n",
            "420/420 [==============================] - 71s 170ms/step - loss: 1.8923e-06 - binary_accuracy: 1.0000 - val_loss: 0.6921 - val_binary_accuracy: 0.9500\n",
            "Run:  5 / Accuracy on test ORIGINAL at epoch  15  is:  0.949999988079071 \n",
            "\n",
            "420/420 [==============================] - 72s 172ms/step - loss: 9.9795e-09 - binary_accuracy: 1.0000 - val_loss: 0.6767 - val_binary_accuracy: 0.9444\n",
            "Run:  5 / Accuracy on test ORIGINAL at epoch  16  is:  0.9444444179534912 \n",
            "\n",
            "420/420 [==============================] - 71s 170ms/step - loss: 1.2188e-08 - binary_accuracy: 1.0000 - val_loss: 0.7300 - val_binary_accuracy: 0.9500\n",
            "Run:  5 / Accuracy on test ORIGINAL at epoch  17  is:  0.949999988079071 \n",
            "\n",
            "420/420 [==============================] - 72s 171ms/step - loss: 3.1067e-09 - binary_accuracy: 1.0000 - val_loss: 0.7193 - val_binary_accuracy: 0.9444\n",
            "Run:  5 / Accuracy on test ORIGINAL at epoch  18  is:  0.9444444179534912 \n",
            "\n",
            "420/420 [==============================] - 71s 170ms/step - loss: 5.3877e-08 - binary_accuracy: 1.0000 - val_loss: 0.7733 - val_binary_accuracy: 0.9500\n",
            "Run:  5 / Accuracy on test ORIGINAL at epoch  19  is:  0.949999988079071 \n",
            "\n",
            "Accuracies on ORIGINAL over epochs: [0.9222221970558167, 0.9277777671813965, 0.949999988079071, 0.949999988079071, 0.9388889074325562, 0.9444444179534912, 0.9333333373069763, 0.9388889074325562, 0.9277777671813965, 0.9111111164093018, 0.9444444179534912, 0.9388889074325562, 0.9388889074325562, 0.949999988079071, 0.949999988079071, 0.949999988079071, 0.9444444179534912, 0.949999988079071, 0.9444444179534912, 0.949999988079071] \n",
            "\n",
            "\n",
            "\n",
            " Over all runs maximum accuracies on ORIGINAL test set are: [0.949999988079071, 0.949999988079071, 0.9555555582046509, 0.9555555582046509, 0.9555555582046509]\n",
            "The median for English is: 0.9555555582046509 \n",
            "\n",
            "\n",
            "\n",
            "CNN Accuracy Score on Original Test set ->  0.9555555582046509 +/- 0.005555570125579834\n"
          ]
        }
      ],
      "source": [
        "tf.random.set_seed(1)\n",
        "\n",
        "runs_accuracy = []\n",
        "\n",
        "for run in range(1,(num_runs+1)):\n",
        "    epochs_accuracy = []\n",
        "    model = tf.keras.Sequential([\n",
        "                                    tf.keras.Input(shape=(1,), dtype=tf.string),\n",
        "                                    vectorize_layer,\n",
        "                                    layers.Embedding(max_features + 1, embedding_dim),                     \n",
        "                                    layers.Dropout(0.8),\n",
        "\n",
        "                                    layers.Conv1D(256,16,activation='relu'),\n",
        "                                    layers.MaxPooling1D(),\n",
        "                                    layers.Dropout(0.6),\n",
        "\n",
        "                                    layers.Dense(512,activation='relu'),\n",
        "                           \n",
        "                                    layers.GlobalAveragePooling1D(),\n",
        "                                    layers.Dropout(0.2),\n",
        "                                    layers.Dense(1)                            \n",
        "    ])\n",
        "    model.compile(loss=losses.BinaryCrossentropy(from_logits=True), optimizer='RMSprop', metrics=tf.metrics.BinaryAccuracy(threshold=0.0)) \n",
        "\n",
        "    for epoch in range (0,num_epochs_per_run):\n",
        "        history = model.fit(\n",
        "          train_ds,\n",
        "          validation_data = test_ds,\n",
        "          epochs=1,\n",
        "          shuffle=False,\n",
        "          # Comment the following line to do not save and download the model.\n",
        "          #callbacks=[callbacks]\n",
        "          )\n",
        "        accuracy = history.history['val_binary_accuracy']\n",
        "        print(\"Run: \",run,\"/ Accuracy on test ORIGINAL at epoch \",epoch,\" is: \", accuracy[0],\"\\n\")\n",
        "        epochs_accuracy.append(accuracy[0])\n",
        "\n",
        "    print(\"Accuracies on ORIGINAL over epochs:\",epochs_accuracy,\"\\n\")\n",
        "    runs_accuracy.append(max(epochs_accuracy))\n",
        "\n",
        "runs_accuracy.sort()\n",
        "print(\"\\n\\n Over all runs maximum accuracies on ORIGINAL test set are:\", runs_accuracy)\n",
        "print(\"The median for English is:\",runs_accuracy[2],\"\\n\\n\\n\")\n",
        "\n",
        "# Final Result on Original Test set\n",
        "if (runs_accuracy[2]-runs_accuracy[0])>(runs_accuracy[4]-runs_accuracy[2]):\n",
        "  max_range_from_median = runs_accuracy[2]-runs_accuracy[0]\n",
        "else:\n",
        "  max_range_from_median = runs_accuracy[4]-runs_accuracy[2]\n",
        "final_result = str(runs_accuracy[2])+\" +/- \"+ str(max_range_from_median)\n",
        "print(\"CNN Accuracy Score on Original Test set -> \",final_result)\n"
      ]
    }
  ],
  "metadata": {
    "accelerator": "GPU",
    "colab": {
      "provenance": [],
      "include_colab_link": true
    },
    "kernelspec": {
      "display_name": "Python 3",
      "name": "python3"
    },
    "gpuClass": "standard"
  },
  "nbformat": 4,
  "nbformat_minor": 0
}