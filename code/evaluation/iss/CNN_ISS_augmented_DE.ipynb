{
  "cells": [
    {
      "cell_type": "markdown",
      "metadata": {
        "id": "view-in-github",
        "colab_type": "text"
      },
      "source": [
        "<a href=\"https://colab.research.google.com/github/marco-siino/DA-ESWA/blob/main/code/evaluation/iss/CNN_ISS_augmented_DE.ipynb\" target=\"_parent\"><img src=\"https://colab.research.google.com/assets/colab-badge.svg\" alt=\"Open In Colab\"/></a>"
      ]
    },
    {
      "cell_type": "markdown",
      "metadata": {
        "id": "u-hLo5ufkCT1"
      },
      "source": [
        "## Investigating text data augmentation using back translation for author profiling\n",
        "- - - \n",
        "CNN ON ISS DS EXPERIMENTS NOTEBOOK \n",
        "- - -\n",
        "Convolutional Neural Network on Irony and Stereotype Spreaders Dataset augmented with DE backtranslation.\n",
        "Code by M. Siino. \n",
        "\n",
        "From the paper: \"Investigating text data augmentation using back translation for author profiling\" by M.Siino et al.\n",
        "\n"
      ]
    },
    {
      "cell_type": "markdown",
      "metadata": {
        "id": "6IBqUcj4cx2G"
      },
      "source": [
        "## Importing modules."
      ]
    },
    {
      "cell_type": "code",
      "execution_count": 1,
      "metadata": {
        "id": "AQSunQ-ucjLX"
      },
      "outputs": [],
      "source": [
        "import matplotlib.pyplot as plt\n",
        "import os\n",
        "import random\n",
        "import re\n",
        "import shutil\n",
        "import string\n",
        "import tensorflow as tf\n",
        "\n",
        "import numpy as np\n",
        "\n",
        "from tensorflow.keras import layers\n",
        "from tensorflow.keras import losses\n",
        "from tensorflow.keras import preprocessing\n",
        "from keras.models import Model\n",
        "from tensorflow.keras.layers.experimental.preprocessing import TextVectorization\n",
        "\n",
        "#os.environ['TF_CUDNN_DETERMINISTIC']='true'\n",
        "#os.environ['TF_DETERMINISTIC_OPS']='true'"
      ]
    },
    {
      "cell_type": "markdown",
      "metadata": {
        "id": "0QHd_fxmHCfa"
      },
      "source": [
        "## Importing DS and extract in current working directory."
      ]
    },
    {
      "cell_type": "code",
      "source": [
        "urlTrainingSet = \"https://github.com/marco-siino/DA-ESWA/raw/main/data/iss/iss-training-augmented-de.zip\"\n",
        "training_set = tf.keras.utils.get_file(\"pan22-author-profiling-training-2022-03-29-augmented.zip\", urlTrainingSet,\n",
        "                                    extract=True, archive_format='zip',cache_dir='.',\n",
        "                                    cache_subdir='')\n",
        "\n",
        "urlTestSet=\"https://github.com/marco-siino/DA-ESWA/raw/main/data/iss/iss-test-augmented-de.zip\"\n",
        "test_set = tf.keras.utils.get_file(\"pan22-author-profiling-test-2022-04-22-without_truth-augmented.zip\", urlTestSet,\n",
        "                                    extract=True, archive_format='zip',cache_dir='.',\n",
        "                                    cache_subdir='')"
      ],
      "metadata": {
        "id": "2RBLe4vQPni1"
      },
      "execution_count": 4,
      "outputs": []
    },
    {
      "cell_type": "code",
      "execution_count": 5,
      "metadata": {
        "id": "ocYMUXaY8r0_",
        "colab": {
          "base_uri": "https://localhost:8080/"
        },
        "outputId": "2fa64c06-ac06-44a7-c959-4e7ef3de4e09"
      },
      "outputs": [
        {
          "output_type": "stream",
          "name": "stdout",
          "text": [
            ".config\n",
            "__MACOSX\n",
            "pan22-author-profiling-test-2022-04-22-without_truth-augmented-de\n",
            "pan22-author-profiling-test-2022-04-22-without_truth-augmented.zip\n",
            "pan22-author-profiling-training-2022-03-29-augmented-de\n",
            "pan22-author-profiling-training-2022-03-29-augmented.zip\n",
            "sample_data\n"
          ]
        }
      ],
      "source": [
        "training_set_dir = os.path.join(os.path.dirname(training_set), 'pan22-author-profiling-training-2022-03-29-augmented-de')\n",
        "test_set_dir = os.path.join(os.path.dirname(test_set), 'pan22-author-profiling-test-2022-04-22-without_truth-augmented-de')\n",
        "\n",
        "!ls -A"
      ]
    },
    {
      "cell_type": "markdown",
      "metadata": {
        "id": "uTJi1fbT_Rup"
      },
      "source": [
        "## Build folders hierarchy to use Keras folders preprocessing function.\n",
        "\n"
      ]
    },
    {
      "cell_type": "code",
      "execution_count": 6,
      "metadata": {
        "id": "FyafvXEMhEKw"
      },
      "outputs": [],
      "source": [
        "### Training Folders. ###\n",
        "\n",
        "# First level directory.\n",
        "if not os.path.exists('train_dir_de'):\n",
        "    os.makedirs('train_dir_de')\n",
        "\n",
        "# Class labels directory.\n",
        "if not os.path.exists('train_dir_de/0'):\n",
        "    os.makedirs('train_dir_de/0')\n",
        "if not os.path.exists('train_dir_de/1'):\n",
        "    os.makedirs('train_dir_de/1')\n",
        "\n",
        "# Make Py variables.\n",
        "train_dir='train_dir_de'\n",
        "\n",
        "## Test Folders. ##\n",
        "# First level directory.\n",
        "if not os.path.exists('test_dir_de'):\n",
        "    os.makedirs('test_dir_de')\n",
        "\n",
        "# Class labels directory.\n",
        "if not os.path.exists('test_dir_de/0'):\n",
        "    os.makedirs('test_dir_de/0')\n",
        "if not os.path.exists('test_dir_de/1'):\n",
        "    os.makedirs('test_dir_de/1')\n",
        "\n",
        "# Make Py variables.\n",
        "test_dir='test_dir_de'"
      ]
    },
    {
      "cell_type": "markdown",
      "source": [
        "## Set language and directory paths."
      ],
      "metadata": {
        "id": "-6c28Rdo8zGn"
      }
    },
    {
      "cell_type": "code",
      "source": [
        "# Set en and es ground truth file path for train_dir. \n",
        "language='en'\n",
        "\n",
        "truth_file_training_dir_en=training_set_dir+'/'+language+'/'\n",
        "truth_file_training_path_en = truth_file_training_dir_en+'truth.txt'\n",
        "\n",
        "truth_file_test_dir=test_set_dir\n",
        "truth_file_test_path_en = truth_file_test_dir+'/'+'truth'+'.txt'"
      ],
      "metadata": {
        "id": "ANr_dCj-8yvD"
      },
      "execution_count": 7,
      "outputs": []
    },
    {
      "cell_type": "markdown",
      "source": [
        "## Read truth.txt to organize training and test dataset folders."
      ],
      "metadata": {
        "id": "VU6PtNMZ864o"
      }
    },
    {
      "cell_type": "code",
      "source": [
        "# Open the file truth.txt with read only permit.\n",
        "f = open(truth_file_training_path_en, \"r\")\n",
        "# use readline() to read the first line \n",
        "line = f.readline()\n",
        "# use the read line to read further.\n",
        "# If the file is not empty keep reading one line\n",
        "# at a time, till the file is empty\n",
        "while line:\n",
        "    # Split line at :::\n",
        "    x = line.split(\":::\")\n",
        "    fNameXml = x[0]+'.xml'\n",
        "    fNameTxt = x[0]+'.txt'\n",
        "    # Second coord [0] gets just the first character (label) and not /n too.\n",
        "    label = x[1][0]\n",
        "    if label == 'I':\n",
        "      label = '1'\n",
        "    elif label == 'N':\n",
        "      label = '0'\n",
        "\n",
        "    # Now move the file to the right folder.\n",
        "    if os.path.exists(truth_file_training_dir_en+fNameXml):\n",
        "      os.rename(truth_file_training_dir_en+fNameXml, './train_dir_de/'+label+'/'+fNameTxt )\n",
        "\n",
        "    # use readline() to read next line\n",
        "    line = f.readline()\n",
        "\n",
        "# Open the file truth.txt with read only permit.\n",
        "f = open(truth_file_test_path_en, \"r\")\n",
        "# use readline() to read the first line \n",
        "line = f.readline()\n",
        "# use the read line to read further.\n",
        "# If the file is not empty keep reading one line\n",
        "# at a time, till the file is empty\n",
        "while line:\n",
        "    # Split line at :::\n",
        "    x = line.split(\":::\")\n",
        "    fNameXml = x[0]+'.xml'\n",
        "    fNameTxt = x[0]+'.txt'\n",
        "    # Second coord [0] gets just the first character (label) and not /n too.\n",
        "    label = x[1][0]\n",
        "    if label == 'I':\n",
        "      label = '1'\n",
        "    elif label == 'N':\n",
        "      label = '0'\n",
        "\n",
        "    # Now move the file to the right folder.\n",
        "    if os.path.exists(truth_file_test_dir+'/'+language+'/'+fNameXml):\n",
        "      os.rename(truth_file_test_dir+'/'+language+'/'+fNameXml, './test_dir_de/'+label+'/'+fNameTxt )\n",
        "\n",
        "    # use readline() to read next line\n",
        "    line = f.readline()"
      ],
      "metadata": {
        "id": "iW2UF_SH87TX"
      },
      "execution_count": 8,
      "outputs": []
    },
    {
      "cell_type": "markdown",
      "source": [
        "## Generate full dataset."
      ],
      "metadata": {
        "id": "4vskGJeX9GqJ"
      }
    },
    {
      "cell_type": "code",
      "source": [
        "# Generate full randomized training set.\n",
        "batch_size=1\n",
        "\n",
        "en_train_ds = tf.keras.preprocessing.text_dataset_from_directory(\n",
        "    train_dir, \n",
        "    batch_size=batch_size,\n",
        "    shuffle=False\n",
        "    )\n",
        "\n",
        "en_test_ds = tf.keras.preprocessing.text_dataset_from_directory(\n",
        "    test_dir, \n",
        "    batch_size=batch_size,\n",
        "    shuffle=False\n",
        "    )\n",
        "\n",
        "\n",
        "train_ds=en_train_ds.shuffle(500,seed=1, reshuffle_each_iteration=False)\n",
        "test_ds=en_test_ds.shuffle(200,seed=1, reshuffle_each_iteration=False)\n",
        "\n",
        "train_ds_size=len(train_ds)\n",
        "test_ds_size=len(test_ds)"
      ],
      "metadata": {
        "colab": {
          "base_uri": "https://localhost:8080/"
        },
        "id": "UOqIc_Sm9HGX",
        "outputId": "56e598bd-f789-47ed-f111-6a57298d091e"
      },
      "execution_count": 9,
      "outputs": [
        {
          "output_type": "stream",
          "name": "stdout",
          "text": [
            "Found 420 files belonging to 2 classes.\n",
            "Found 180 files belonging to 2 classes.\n"
          ]
        }
      ]
    },
    {
      "cell_type": "markdown",
      "metadata": {
        "id": "ITouXXtQ8WzV"
      },
      "source": [
        "## Functions to pre-process source text. \n",
        "\n"
      ]
    },
    {
      "cell_type": "code",
      "execution_count": 10,
      "metadata": {
        "id": "bDPIqAgXYWim"
      },
      "outputs": [],
      "source": [
        "# Preprocessing function to remove some noise due to the translation.\n",
        "def clean_samples(input_data):\n",
        "  tag_author_lang_en_removed = tf.strings.regex_replace(input_data,'', '')  \n",
        "  tag_opening_documents = tf.strings.regex_replace(tag_author_lang_en_removed,'', '')\n",
        "  tag_opening_cdata_removed = tf.strings.regex_replace(tag_opening_documents,'<\\!\\[CDATA\\[', ' ')\n",
        "  tag_closing_cdata_removed = tf.strings.regex_replace(tag_opening_cdata_removed,'\\]\\]>', ' >')\n",
        "  tag_closing_documents = tf.strings.regex_replace(tag_closing_cdata_removed,'', '')\n",
        "  output_data = tf.strings.regex_replace(tag_closing_documents,'', '')\n",
        "  tag_author_lang_en_removed = tf.strings.regex_replace(output_data,'<author lang=\"en\"', '')\n",
        "  tag_author_lang_en_cased_removed = tf.strings.regex_replace(tag_author_lang_en_removed,'<Author lang=\"en\"', '\\n\\n')\n",
        "  tag_opening_document_miscased = tf.strings.regex_replace(tag_author_lang_en_cased_removed,'<Document>', '<document>')\n",
        "  output_data = tf.strings.regex_replace(tag_opening_document_miscased,'</Document>', '</document>')\n",
        "  return output_data"
      ]
    },
    {
      "cell_type": "markdown",
      "metadata": {
        "id": "TjUnE9_DEyCw"
      },
      "source": [
        "## Get the length of the longest sample in training set. Then adapt text.\n",
        "\n"
      ]
    },
    {
      "cell_type": "code",
      "execution_count": 11,
      "metadata": {
        "id": "ebRMQqa_mr48"
      },
      "outputs": [],
      "source": [
        "def preprocess_and_adapt_ts(training_set):\n",
        "  # Set a large sequence length to find the longest sample in the training set.\n",
        "  sequence_length = 30000\n",
        "  vectorize_layer = TextVectorization(\n",
        "      standardize=clean_samples,\n",
        "      output_mode='int',\n",
        "      output_sequence_length=sequence_length)\n",
        "\n",
        "  train_text = training_set.map(lambda x, y: x)\n",
        "  vectorize_layer.adapt(train_text)\n",
        "  #vectorize_layer.get_vocabulary()\n",
        "\n",
        "  model = tf.keras.models.Sequential()\n",
        "  model.add(tf.keras.Input(shape=(1,), dtype=tf.string))\n",
        "  model.add(vectorize_layer)\n",
        "\n",
        "  longest_sample_length=1\n",
        "\n",
        "  for element in training_set:\n",
        "    authorDocument=element[0]\n",
        "    label=element[1]\n",
        "    \n",
        "    #print(\"Sample considered is: \", authorDocument[0].numpy())\n",
        "    #print(\"Preprocessed: \", str(custom_standardization(authorDocument[0].numpy())))\n",
        "    #print(\"And has label: \", label[0].numpy())\n",
        "\n",
        "    out=model(authorDocument)\n",
        "    # Convert token list to numpy array.\n",
        "    token_list = out.numpy()[0]\n",
        "    token_list = np.trim_zeros(token_list,'b')\n",
        "    if longest_sample_length < len(token_list):\n",
        "      longest_sample_length = len(token_list)\n",
        "\n",
        "  print(\"Length of the longest sample is:\", longest_sample_length)\n",
        "\n",
        "  # After tokenization longest_sample_length covers all the document lenghts in our dataset.\n",
        "  sequence_length = longest_sample_length\n",
        "\n",
        "  vectorize_layer = TextVectorization(\n",
        "      standardize=clean_samples,\n",
        "      output_mode='int',\n",
        "      output_sequence_length=sequence_length)\n",
        "\n",
        "  # Finally adapt the vectorize layer.\n",
        "  train_text = training_set.map(lambda x, y: x)\n",
        "  vectorize_layer.adapt(train_text)\n",
        "  return vectorize_layer"
      ]
    },
    {
      "cell_type": "markdown",
      "source": [
        "## Some training hyperparameters..."
      ],
      "metadata": {
        "id": "RF7pJkGJ3bHT"
      }
    },
    {
      "cell_type": "code",
      "source": [
        "# Word embedding dimensions.\n",
        "embedding_dim = 100\n",
        "\n",
        "num_runs = 5 \n",
        "# No need to go over the 20th epoch...Overfitting begins.\n",
        "num_epochs_per_run = 20\n",
        "\n",
        "#opt = tf.keras.optimizers.RMSprop()"
      ],
      "metadata": {
        "id": "ocHligxS3mVn"
      },
      "execution_count": 12,
      "outputs": []
    },
    {
      "cell_type": "markdown",
      "source": [
        "## Vectorization\n",
        "\n",
        "\n"
      ],
      "metadata": {
        "id": "yzLLcBGdtmXM"
      }
    },
    {
      "cell_type": "code",
      "source": [
        "print(\"\\n\\n* * * * VECTORIZATION STARTED * * * *\")\n",
        "\n",
        "# Preprocess training set to build a dictionary.\n",
        "vectorize_layer = preprocess_and_adapt_ts(train_ds)\n",
        "\n",
        "max_features=len(vectorize_layer.get_vocabulary()) + 1\n",
        "print(\"Vocabulary size is:\", max_features)\n"
      ],
      "metadata": {
        "colab": {
          "base_uri": "https://localhost:8080/"
        },
        "id": "mlDEHJvstluS",
        "outputId": "2cb5ddba-fdbd-4427-faba-11a25c01f5cb"
      },
      "execution_count": 13,
      "outputs": [
        {
          "output_type": "stream",
          "name": "stderr",
          "text": [
            "WARNING:tensorflow:From /usr/local/lib/python3.9/dist-packages/tensorflow/python/autograph/pyct/static_analysis/liveness.py:83: Analyzer.lamba_check (from tensorflow.python.autograph.pyct.static_analysis.liveness) is deprecated and will be removed after 2023-09-23.\n",
            "Instructions for updating:\n",
            "Lambda fuctions will be no more assumed to be used in the statement where they are used, or at least in the same block. https://github.com/tensorflow/tensorflow/issues/56089\n"
          ]
        },
        {
          "output_type": "stream",
          "name": "stdout",
          "text": [
            "\n",
            "\n",
            "* * * * VECTORIZATION STARTED * * * *\n",
            "Length of the longest sample is: 19539\n",
            "Vocabulary size is: 229593\n"
          ]
        }
      ]
    },
    {
      "cell_type": "markdown",
      "metadata": {
        "id": "XDEi7MAo4qsQ"
      },
      "source": [
        "## Models definition, training and evaluation on original and on augmented test set.\n",
        "\n",
        "\n"
      ]
    },
    {
      "cell_type": "code",
      "execution_count": 14,
      "metadata": {
        "colab": {
          "base_uri": "https://localhost:8080/"
        },
        "id": "Mm1fdCpETWL-",
        "outputId": "fc8dd1f7-6a80-4f22-8699-4e02c8217101"
      },
      "outputs": [
        {
          "output_type": "stream",
          "name": "stdout",
          "text": [
            "420/420 [==============================] - 121s 265ms/step - loss: 0.6759 - binary_accuracy: 0.5500 - val_loss: 0.5414 - val_binary_accuracy: 0.7611\n",
            "Run:  1 / Accuracy on test ORIGINAL at epoch  0  is:  0.7611111402511597 \n",
            "\n",
            "420/420 [==============================] - 72s 171ms/step - loss: 0.3982 - binary_accuracy: 0.8524 - val_loss: 0.2411 - val_binary_accuracy: 0.9167\n",
            "Run:  1 / Accuracy on test ORIGINAL at epoch  1  is:  0.9166666865348816 \n",
            "\n",
            "420/420 [==============================] - 72s 173ms/step - loss: 0.2659 - binary_accuracy: 0.8976 - val_loss: 0.2237 - val_binary_accuracy: 0.9333\n",
            "Run:  1 / Accuracy on test ORIGINAL at epoch  2  is:  0.9333333373069763 \n",
            "\n",
            "420/420 [==============================] - 72s 170ms/step - loss: 0.1989 - binary_accuracy: 0.9429 - val_loss: 0.2718 - val_binary_accuracy: 0.9278\n",
            "Run:  1 / Accuracy on test ORIGINAL at epoch  3  is:  0.9277777671813965 \n",
            "\n",
            "420/420 [==============================] - 72s 172ms/step - loss: 0.1324 - binary_accuracy: 0.9595 - val_loss: 0.2683 - val_binary_accuracy: 0.9389\n",
            "Run:  1 / Accuracy on test ORIGINAL at epoch  4  is:  0.9388889074325562 \n",
            "\n",
            "420/420 [==============================] - 72s 172ms/step - loss: 0.0916 - binary_accuracy: 0.9643 - val_loss: 0.2934 - val_binary_accuracy: 0.9444\n",
            "Run:  1 / Accuracy on test ORIGINAL at epoch  5  is:  0.9444444179534912 \n",
            "\n",
            "420/420 [==============================] - 72s 173ms/step - loss: 0.0734 - binary_accuracy: 0.9857 - val_loss: 0.3202 - val_binary_accuracy: 0.9500\n",
            "Run:  1 / Accuracy on test ORIGINAL at epoch  6  is:  0.949999988079071 \n",
            "\n",
            "420/420 [==============================] - 72s 172ms/step - loss: 0.0582 - binary_accuracy: 0.9857 - val_loss: 0.3157 - val_binary_accuracy: 0.9556\n",
            "Run:  1 / Accuracy on test ORIGINAL at epoch  7  is:  0.9555555582046509 \n",
            "\n",
            "420/420 [==============================] - 71s 170ms/step - loss: 0.0495 - binary_accuracy: 0.9929 - val_loss: 0.3913 - val_binary_accuracy: 0.9444\n",
            "Run:  1 / Accuracy on test ORIGINAL at epoch  8  is:  0.9444444179534912 \n",
            "\n",
            "420/420 [==============================] - 72s 172ms/step - loss: 0.0280 - binary_accuracy: 0.9952 - val_loss: 0.3950 - val_binary_accuracy: 0.9444\n",
            "Run:  1 / Accuracy on test ORIGINAL at epoch  9  is:  0.9444444179534912 \n",
            "\n",
            "420/420 [==============================] - 72s 172ms/step - loss: 0.0114 - binary_accuracy: 0.9952 - val_loss: 0.4512 - val_binary_accuracy: 0.9389\n",
            "Run:  1 / Accuracy on test ORIGINAL at epoch  10  is:  0.9388889074325562 \n",
            "\n",
            "420/420 [==============================] - 73s 174ms/step - loss: 0.0038 - binary_accuracy: 0.9976 - val_loss: 0.4997 - val_binary_accuracy: 0.9389\n",
            "Run:  1 / Accuracy on test ORIGINAL at epoch  11  is:  0.9388889074325562 \n",
            "\n",
            "420/420 [==============================] - 73s 173ms/step - loss: 4.6313e-04 - binary_accuracy: 1.0000 - val_loss: 0.4738 - val_binary_accuracy: 0.9444\n",
            "Run:  1 / Accuracy on test ORIGINAL at epoch  12  is:  0.9444444179534912 \n",
            "\n",
            "420/420 [==============================] - 72s 172ms/step - loss: 3.2493e-04 - binary_accuracy: 1.0000 - val_loss: 0.4697 - val_binary_accuracy: 0.9556\n",
            "Run:  1 / Accuracy on test ORIGINAL at epoch  13  is:  0.9555555582046509 \n",
            "\n",
            "420/420 [==============================] - 73s 173ms/step - loss: 9.7560e-05 - binary_accuracy: 1.0000 - val_loss: 0.5357 - val_binary_accuracy: 0.9444\n",
            "Run:  1 / Accuracy on test ORIGINAL at epoch  14  is:  0.9444444179534912 \n",
            "\n",
            "420/420 [==============================] - 72s 172ms/step - loss: 7.4808e-05 - binary_accuracy: 1.0000 - val_loss: 0.5728 - val_binary_accuracy: 0.9444\n",
            "Run:  1 / Accuracy on test ORIGINAL at epoch  15  is:  0.9444444179534912 \n",
            "\n",
            "420/420 [==============================] - 73s 174ms/step - loss: 3.7544e-05 - binary_accuracy: 1.0000 - val_loss: 0.6113 - val_binary_accuracy: 0.9444\n",
            "Run:  1 / Accuracy on test ORIGINAL at epoch  16  is:  0.9444444179534912 \n",
            "\n",
            "420/420 [==============================] - 72s 171ms/step - loss: 4.4233e-04 - binary_accuracy: 1.0000 - val_loss: 0.5593 - val_binary_accuracy: 0.9556\n",
            "Run:  1 / Accuracy on test ORIGINAL at epoch  17  is:  0.9555555582046509 \n",
            "\n",
            "420/420 [==============================] - 73s 173ms/step - loss: 8.7857e-06 - binary_accuracy: 1.0000 - val_loss: 0.6868 - val_binary_accuracy: 0.9333\n",
            "Run:  1 / Accuracy on test ORIGINAL at epoch  18  is:  0.9333333373069763 \n",
            "\n",
            "420/420 [==============================] - 73s 174ms/step - loss: 4.0024e-05 - binary_accuracy: 1.0000 - val_loss: 0.5943 - val_binary_accuracy: 0.9500\n",
            "Run:  1 / Accuracy on test ORIGINAL at epoch  19  is:  0.949999988079071 \n",
            "\n",
            "Accuracies on ORIGINAL over epochs: [0.7611111402511597, 0.9166666865348816, 0.9333333373069763, 0.9277777671813965, 0.9388889074325562, 0.9444444179534912, 0.949999988079071, 0.9555555582046509, 0.9444444179534912, 0.9444444179534912, 0.9388889074325562, 0.9388889074325562, 0.9444444179534912, 0.9555555582046509, 0.9444444179534912, 0.9444444179534912, 0.9444444179534912, 0.9555555582046509, 0.9333333373069763, 0.949999988079071] \n",
            "\n",
            "420/420 [==============================] - 98s 230ms/step - loss: 0.6784 - binary_accuracy: 0.5524 - val_loss: 0.5483 - val_binary_accuracy: 0.7222\n",
            "Run:  2 / Accuracy on test ORIGINAL at epoch  0  is:  0.7222222089767456 \n",
            "\n",
            "420/420 [==============================] - 75s 178ms/step - loss: 0.3981 - binary_accuracy: 0.8381 - val_loss: 0.2543 - val_binary_accuracy: 0.9167\n",
            "Run:  2 / Accuracy on test ORIGINAL at epoch  1  is:  0.9166666865348816 \n",
            "\n",
            "420/420 [==============================] - 73s 173ms/step - loss: 0.2606 - binary_accuracy: 0.9048 - val_loss: 0.2367 - val_binary_accuracy: 0.9333\n",
            "Run:  2 / Accuracy on test ORIGINAL at epoch  2  is:  0.9333333373069763 \n",
            "\n",
            "420/420 [==============================] - 73s 173ms/step - loss: 0.1963 - binary_accuracy: 0.9381 - val_loss: 0.2739 - val_binary_accuracy: 0.9222\n",
            "Run:  2 / Accuracy on test ORIGINAL at epoch  3  is:  0.9222221970558167 \n",
            "\n",
            "420/420 [==============================] - 73s 174ms/step - loss: 0.1357 - binary_accuracy: 0.9571 - val_loss: 0.2596 - val_binary_accuracy: 0.9389\n",
            "Run:  2 / Accuracy on test ORIGINAL at epoch  4  is:  0.9388889074325562 \n",
            "\n",
            "420/420 [==============================] - 72s 171ms/step - loss: 0.0907 - binary_accuracy: 0.9714 - val_loss: 0.2974 - val_binary_accuracy: 0.9389\n",
            "Run:  2 / Accuracy on test ORIGINAL at epoch  5  is:  0.9388889074325562 \n",
            "\n",
            "420/420 [==============================] - 73s 173ms/step - loss: 0.0650 - binary_accuracy: 0.9857 - val_loss: 0.3200 - val_binary_accuracy: 0.9500\n",
            "Run:  2 / Accuracy on test ORIGINAL at epoch  6  is:  0.949999988079071 \n",
            "\n",
            "420/420 [==============================] - 73s 173ms/step - loss: 0.0502 - binary_accuracy: 0.9929 - val_loss: 0.3580 - val_binary_accuracy: 0.9389\n",
            "Run:  2 / Accuracy on test ORIGINAL at epoch  7  is:  0.9388889074325562 \n",
            "\n",
            "420/420 [==============================] - 73s 173ms/step - loss: 0.0319 - binary_accuracy: 0.9929 - val_loss: 0.3882 - val_binary_accuracy: 0.9444\n",
            "Run:  2 / Accuracy on test ORIGINAL at epoch  8  is:  0.9444444179534912 \n",
            "\n",
            "420/420 [==============================] - 72s 172ms/step - loss: 0.0227 - binary_accuracy: 0.9929 - val_loss: 0.4342 - val_binary_accuracy: 0.9389\n",
            "Run:  2 / Accuracy on test ORIGINAL at epoch  9  is:  0.9388889074325562 \n",
            "\n",
            "420/420 [==============================] - 73s 173ms/step - loss: 0.0153 - binary_accuracy: 0.9952 - val_loss: 0.4727 - val_binary_accuracy: 0.9389\n",
            "Run:  2 / Accuracy on test ORIGINAL at epoch  10  is:  0.9388889074325562 \n",
            "\n",
            "420/420 [==============================] - 73s 173ms/step - loss: 0.0015 - binary_accuracy: 1.0000 - val_loss: 0.4850 - val_binary_accuracy: 0.9389\n",
            "Run:  2 / Accuracy on test ORIGINAL at epoch  11  is:  0.9388889074325562 \n",
            "\n",
            "420/420 [==============================] - 73s 173ms/step - loss: 3.5901e-04 - binary_accuracy: 1.0000 - val_loss: 0.5094 - val_binary_accuracy: 0.9389\n",
            "Run:  2 / Accuracy on test ORIGINAL at epoch  12  is:  0.9388889074325562 \n",
            "\n",
            "420/420 [==============================] - 73s 174ms/step - loss: 6.7217e-04 - binary_accuracy: 1.0000 - val_loss: 0.5627 - val_binary_accuracy: 0.9389\n",
            "Run:  2 / Accuracy on test ORIGINAL at epoch  13  is:  0.9388889074325562 \n",
            "\n",
            "420/420 [==============================] - 75s 178ms/step - loss: 7.9148e-05 - binary_accuracy: 1.0000 - val_loss: 0.5895 - val_binary_accuracy: 0.9444\n",
            "Run:  2 / Accuracy on test ORIGINAL at epoch  14  is:  0.9444444179534912 \n",
            "\n",
            "420/420 [==============================] - 73s 173ms/step - loss: 5.4859e-05 - binary_accuracy: 1.0000 - val_loss: 0.6913 - val_binary_accuracy: 0.9222\n",
            "Run:  2 / Accuracy on test ORIGINAL at epoch  15  is:  0.9222221970558167 \n",
            "\n",
            "420/420 [==============================] - 73s 173ms/step - loss: 3.7575e-05 - binary_accuracy: 1.0000 - val_loss: 0.6355 - val_binary_accuracy: 0.9444\n",
            "Run:  2 / Accuracy on test ORIGINAL at epoch  16  is:  0.9444444179534912 \n",
            "\n",
            "420/420 [==============================] - 73s 173ms/step - loss: 1.7668e-05 - binary_accuracy: 1.0000 - val_loss: 0.5966 - val_binary_accuracy: 0.9444\n",
            "Run:  2 / Accuracy on test ORIGINAL at epoch  17  is:  0.9444444179534912 \n",
            "\n",
            "420/420 [==============================] - 73s 173ms/step - loss: 2.8712e-05 - binary_accuracy: 1.0000 - val_loss: 0.6022 - val_binary_accuracy: 0.9444\n",
            "Run:  2 / Accuracy on test ORIGINAL at epoch  18  is:  0.9444444179534912 \n",
            "\n",
            "420/420 [==============================] - 73s 173ms/step - loss: 3.0462e-05 - binary_accuracy: 1.0000 - val_loss: 0.8309 - val_binary_accuracy: 0.9056\n",
            "Run:  2 / Accuracy on test ORIGINAL at epoch  19  is:  0.9055555462837219 \n",
            "\n",
            "Accuracies on ORIGINAL over epochs: [0.7222222089767456, 0.9166666865348816, 0.9333333373069763, 0.9222221970558167, 0.9388889074325562, 0.9388889074325562, 0.949999988079071, 0.9388889074325562, 0.9444444179534912, 0.9388889074325562, 0.9388889074325562, 0.9388889074325562, 0.9388889074325562, 0.9388889074325562, 0.9444444179534912, 0.9222221970558167, 0.9444444179534912, 0.9444444179534912, 0.9444444179534912, 0.9055555462837219] \n",
            "\n",
            "420/420 [==============================] - 97s 229ms/step - loss: 0.6828 - binary_accuracy: 0.5381 - val_loss: 0.5687 - val_binary_accuracy: 0.7111\n",
            "Run:  3 / Accuracy on test ORIGINAL at epoch  0  is:  0.7111111283302307 \n",
            "\n",
            "420/420 [==============================] - 73s 173ms/step - loss: 0.4062 - binary_accuracy: 0.8429 - val_loss: 0.2416 - val_binary_accuracy: 0.9167\n",
            "Run:  3 / Accuracy on test ORIGINAL at epoch  1  is:  0.9166666865348816 \n",
            "\n",
            "420/420 [==============================] - 72s 171ms/step - loss: 0.2699 - binary_accuracy: 0.9000 - val_loss: 0.2006 - val_binary_accuracy: 0.9389\n",
            "Run:  3 / Accuracy on test ORIGINAL at epoch  2  is:  0.9388889074325562 \n",
            "\n",
            "420/420 [==============================] - 72s 173ms/step - loss: 0.1936 - binary_accuracy: 0.9405 - val_loss: 0.2437 - val_binary_accuracy: 0.9278\n",
            "Run:  3 / Accuracy on test ORIGINAL at epoch  3  is:  0.9277777671813965 \n",
            "\n",
            "420/420 [==============================] - 73s 173ms/step - loss: 0.1304 - binary_accuracy: 0.9571 - val_loss: 0.2511 - val_binary_accuracy: 0.9389\n",
            "Run:  3 / Accuracy on test ORIGINAL at epoch  4  is:  0.9388889074325562 \n",
            "\n",
            "420/420 [==============================] - 75s 178ms/step - loss: 0.0909 - binary_accuracy: 0.9714 - val_loss: 0.2885 - val_binary_accuracy: 0.9444\n",
            "Run:  3 / Accuracy on test ORIGINAL at epoch  5  is:  0.9444444179534912 \n",
            "\n",
            "420/420 [==============================] - 73s 173ms/step - loss: 0.0677 - binary_accuracy: 0.9857 - val_loss: 0.3043 - val_binary_accuracy: 0.9500\n",
            "Run:  3 / Accuracy on test ORIGINAL at epoch  6  is:  0.949999988079071 \n",
            "\n",
            "420/420 [==============================] - 73s 173ms/step - loss: 0.0440 - binary_accuracy: 0.9929 - val_loss: 0.3550 - val_binary_accuracy: 0.9500\n",
            "Run:  3 / Accuracy on test ORIGINAL at epoch  7  is:  0.949999988079071 \n",
            "\n",
            "420/420 [==============================] - 73s 173ms/step - loss: 0.0483 - binary_accuracy: 0.9905 - val_loss: 0.3912 - val_binary_accuracy: 0.9556\n",
            "Run:  3 / Accuracy on test ORIGINAL at epoch  8  is:  0.9555555582046509 \n",
            "\n",
            "420/420 [==============================] - 73s 173ms/step - loss: 0.0235 - binary_accuracy: 0.9952 - val_loss: 0.4337 - val_binary_accuracy: 0.9389\n",
            "Run:  3 / Accuracy on test ORIGINAL at epoch  9  is:  0.9388889074325562 \n",
            "\n",
            "420/420 [==============================] - 73s 173ms/step - loss: 0.0232 - binary_accuracy: 0.9952 - val_loss: 0.4534 - val_binary_accuracy: 0.9444\n",
            "Run:  3 / Accuracy on test ORIGINAL at epoch  10  is:  0.9444444179534912 \n",
            "\n",
            "420/420 [==============================] - 75s 178ms/step - loss: 0.0063 - binary_accuracy: 0.9976 - val_loss: 0.5005 - val_binary_accuracy: 0.9444\n",
            "Run:  3 / Accuracy on test ORIGINAL at epoch  11  is:  0.9444444179534912 \n",
            "\n",
            "420/420 [==============================] - 73s 174ms/step - loss: 7.0363e-04 - binary_accuracy: 1.0000 - val_loss: 0.5035 - val_binary_accuracy: 0.9500\n",
            "Run:  3 / Accuracy on test ORIGINAL at epoch  12  is:  0.949999988079071 \n",
            "\n",
            "420/420 [==============================] - 73s 173ms/step - loss: 1.4901e-04 - binary_accuracy: 1.0000 - val_loss: 0.5513 - val_binary_accuracy: 0.9444\n",
            "Run:  3 / Accuracy on test ORIGINAL at epoch  13  is:  0.9444444179534912 \n",
            "\n",
            "420/420 [==============================] - 73s 173ms/step - loss: 6.1646e-05 - binary_accuracy: 1.0000 - val_loss: 0.5486 - val_binary_accuracy: 0.9556\n",
            "Run:  3 / Accuracy on test ORIGINAL at epoch  14  is:  0.9555555582046509 \n",
            "\n",
            "420/420 [==============================] - 73s 173ms/step - loss: 3.1415e-04 - binary_accuracy: 1.0000 - val_loss: 0.5535 - val_binary_accuracy: 0.9500\n",
            "Run:  3 / Accuracy on test ORIGINAL at epoch  15  is:  0.949999988079071 \n",
            "\n",
            "420/420 [==============================] - 73s 173ms/step - loss: 0.0014 - binary_accuracy: 1.0000 - val_loss: 0.5973 - val_binary_accuracy: 0.9444\n",
            "Run:  3 / Accuracy on test ORIGINAL at epoch  16  is:  0.9444444179534912 \n",
            "\n",
            "420/420 [==============================] - 73s 173ms/step - loss: 2.2933e-05 - binary_accuracy: 1.0000 - val_loss: 0.6221 - val_binary_accuracy: 0.9444\n",
            "Run:  3 / Accuracy on test ORIGINAL at epoch  17  is:  0.9444444179534912 \n",
            "\n",
            "420/420 [==============================] - 72s 173ms/step - loss: 4.2486e-05 - binary_accuracy: 1.0000 - val_loss: 0.5968 - val_binary_accuracy: 0.9444\n",
            "Run:  3 / Accuracy on test ORIGINAL at epoch  18  is:  0.9444444179534912 \n",
            "\n",
            "420/420 [==============================] - 73s 173ms/step - loss: 2.2502e-05 - binary_accuracy: 1.0000 - val_loss: 0.5981 - val_binary_accuracy: 0.9500\n",
            "Run:  3 / Accuracy on test ORIGINAL at epoch  19  is:  0.949999988079071 \n",
            "\n",
            "Accuracies on ORIGINAL over epochs: [0.7111111283302307, 0.9166666865348816, 0.9388889074325562, 0.9277777671813965, 0.9388889074325562, 0.9444444179534912, 0.949999988079071, 0.949999988079071, 0.9555555582046509, 0.9388889074325562, 0.9444444179534912, 0.9444444179534912, 0.949999988079071, 0.9444444179534912, 0.9555555582046509, 0.949999988079071, 0.9444444179534912, 0.9444444179534912, 0.9444444179534912, 0.949999988079071] \n",
            "\n",
            "420/420 [==============================] - 98s 230ms/step - loss: 0.6759 - binary_accuracy: 0.5548 - val_loss: 0.5303 - val_binary_accuracy: 0.7722\n",
            "Run:  4 / Accuracy on test ORIGINAL at epoch  0  is:  0.7722222208976746 \n",
            "\n",
            "420/420 [==============================] - 72s 172ms/step - loss: 0.3891 - binary_accuracy: 0.8429 - val_loss: 0.2284 - val_binary_accuracy: 0.9167\n",
            "Run:  4 / Accuracy on test ORIGINAL at epoch  1  is:  0.9166666865348816 \n",
            "\n",
            "420/420 [==============================] - 72s 171ms/step - loss: 0.2698 - binary_accuracy: 0.9048 - val_loss: 0.2115 - val_binary_accuracy: 0.9389\n",
            "Run:  4 / Accuracy on test ORIGINAL at epoch  2  is:  0.9388889074325562 \n",
            "\n",
            "420/420 [==============================] - 72s 172ms/step - loss: 0.1955 - binary_accuracy: 0.9405 - val_loss: 0.2754 - val_binary_accuracy: 0.9222\n",
            "Run:  4 / Accuracy on test ORIGINAL at epoch  3  is:  0.9222221970558167 \n",
            "\n",
            "420/420 [==============================] - 72s 173ms/step - loss: 0.1367 - binary_accuracy: 0.9643 - val_loss: 0.2492 - val_binary_accuracy: 0.9389\n",
            "Run:  4 / Accuracy on test ORIGINAL at epoch  4  is:  0.9388889074325562 \n",
            "\n",
            "420/420 [==============================] - 72s 172ms/step - loss: 0.0984 - binary_accuracy: 0.9690 - val_loss: 0.3204 - val_binary_accuracy: 0.9278\n",
            "Run:  4 / Accuracy on test ORIGINAL at epoch  5  is:  0.9277777671813965 \n",
            "\n",
            "420/420 [==============================] - 72s 172ms/step - loss: 0.0734 - binary_accuracy: 0.9833 - val_loss: 0.3244 - val_binary_accuracy: 0.9500\n",
            "Run:  4 / Accuracy on test ORIGINAL at epoch  6  is:  0.949999988079071 \n",
            "\n",
            "420/420 [==============================] - 72s 171ms/step - loss: 0.0516 - binary_accuracy: 0.9857 - val_loss: 0.3405 - val_binary_accuracy: 0.9444\n",
            "Run:  4 / Accuracy on test ORIGINAL at epoch  7  is:  0.9444444179534912 \n",
            "\n",
            "420/420 [==============================] - 72s 172ms/step - loss: 0.0492 - binary_accuracy: 0.9929 - val_loss: 0.3799 - val_binary_accuracy: 0.9444\n",
            "Run:  4 / Accuracy on test ORIGINAL at epoch  8  is:  0.9444444179534912 \n",
            "\n",
            "420/420 [==============================] - 72s 172ms/step - loss: 0.0266 - binary_accuracy: 0.9952 - val_loss: 0.4229 - val_binary_accuracy: 0.9444\n",
            "Run:  4 / Accuracy on test ORIGINAL at epoch  9  is:  0.9444444179534912 \n",
            "\n",
            "420/420 [==============================] - 72s 172ms/step - loss: 0.0124 - binary_accuracy: 0.9952 - val_loss: 0.4749 - val_binary_accuracy: 0.9444\n",
            "Run:  4 / Accuracy on test ORIGINAL at epoch  10  is:  0.9444444179534912 \n",
            "\n",
            "420/420 [==============================] - 72s 172ms/step - loss: 0.0079 - binary_accuracy: 0.9952 - val_loss: 0.5253 - val_binary_accuracy: 0.9389\n",
            "Run:  4 / Accuracy on test ORIGINAL at epoch  11  is:  0.9388889074325562 \n",
            "\n",
            "420/420 [==============================] - 72s 172ms/step - loss: 9.1754e-04 - binary_accuracy: 1.0000 - val_loss: 0.5119 - val_binary_accuracy: 0.9444\n",
            "Run:  4 / Accuracy on test ORIGINAL at epoch  12  is:  0.9444444179534912 \n",
            "\n",
            "420/420 [==============================] - 72s 172ms/step - loss: 1.7207e-04 - binary_accuracy: 1.0000 - val_loss: 0.5417 - val_binary_accuracy: 0.9444\n",
            "Run:  4 / Accuracy on test ORIGINAL at epoch  13  is:  0.9444444179534912 \n",
            "\n",
            "420/420 [==============================] - 72s 172ms/step - loss: 7.7474e-05 - binary_accuracy: 1.0000 - val_loss: 0.5396 - val_binary_accuracy: 0.9389\n",
            "Run:  4 / Accuracy on test ORIGINAL at epoch  14  is:  0.9388889074325562 \n",
            "\n",
            "420/420 [==============================] - 75s 178ms/step - loss: 4.9918e-04 - binary_accuracy: 1.0000 - val_loss: 0.5400 - val_binary_accuracy: 0.9444\n",
            "Run:  4 / Accuracy on test ORIGINAL at epoch  15  is:  0.9444444179534912 \n",
            "\n",
            "420/420 [==============================] - 72s 172ms/step - loss: 3.7450e-05 - binary_accuracy: 1.0000 - val_loss: 0.5489 - val_binary_accuracy: 0.9444\n",
            "Run:  4 / Accuracy on test ORIGINAL at epoch  16  is:  0.9444444179534912 \n",
            "\n",
            "420/420 [==============================] - 72s 173ms/step - loss: 1.2612e-04 - binary_accuracy: 1.0000 - val_loss: 0.6586 - val_binary_accuracy: 0.9389\n",
            "Run:  4 / Accuracy on test ORIGINAL at epoch  17  is:  0.9388889074325562 \n",
            "\n",
            "420/420 [==============================] - 72s 173ms/step - loss: 1.0157e-05 - binary_accuracy: 1.0000 - val_loss: 0.6924 - val_binary_accuracy: 0.9278\n",
            "Run:  4 / Accuracy on test ORIGINAL at epoch  18  is:  0.9277777671813965 \n",
            "\n",
            "420/420 [==============================] - 72s 172ms/step - loss: 5.7611e-05 - binary_accuracy: 1.0000 - val_loss: 0.6408 - val_binary_accuracy: 0.9389\n",
            "Run:  4 / Accuracy on test ORIGINAL at epoch  19  is:  0.9388889074325562 \n",
            "\n",
            "Accuracies on ORIGINAL over epochs: [0.7722222208976746, 0.9166666865348816, 0.9388889074325562, 0.9222221970558167, 0.9388889074325562, 0.9277777671813965, 0.949999988079071, 0.9444444179534912, 0.9444444179534912, 0.9444444179534912, 0.9444444179534912, 0.9388889074325562, 0.9444444179534912, 0.9444444179534912, 0.9388889074325562, 0.9444444179534912, 0.9444444179534912, 0.9388889074325562, 0.9277777671813965, 0.9388889074325562] \n",
            "\n",
            "420/420 [==============================] - 96s 225ms/step - loss: 0.6785 - binary_accuracy: 0.5500 - val_loss: 0.5604 - val_binary_accuracy: 0.7167\n",
            "Run:  5 / Accuracy on test ORIGINAL at epoch  0  is:  0.7166666388511658 \n",
            "\n",
            "420/420 [==============================] - 72s 172ms/step - loss: 0.4048 - binary_accuracy: 0.8452 - val_loss: 0.2583 - val_binary_accuracy: 0.9167\n",
            "Run:  5 / Accuracy on test ORIGINAL at epoch  1  is:  0.9166666865348816 \n",
            "\n",
            "420/420 [==============================] - 73s 173ms/step - loss: 0.2678 - binary_accuracy: 0.9071 - val_loss: 0.2062 - val_binary_accuracy: 0.9389\n",
            "Run:  5 / Accuracy on test ORIGINAL at epoch  2  is:  0.9388889074325562 \n",
            "\n",
            "420/420 [==============================] - 73s 173ms/step - loss: 0.1936 - binary_accuracy: 0.9310 - val_loss: 0.2712 - val_binary_accuracy: 0.9222\n",
            "Run:  5 / Accuracy on test ORIGINAL at epoch  3  is:  0.9222221970558167 \n",
            "\n",
            "420/420 [==============================] - 73s 173ms/step - loss: 0.1318 - binary_accuracy: 0.9619 - val_loss: 0.2618 - val_binary_accuracy: 0.9389\n",
            "Run:  5 / Accuracy on test ORIGINAL at epoch  4  is:  0.9388889074325562 \n",
            "\n",
            "420/420 [==============================] - 72s 171ms/step - loss: 0.0913 - binary_accuracy: 0.9786 - val_loss: 0.2954 - val_binary_accuracy: 0.9389\n",
            "Run:  5 / Accuracy on test ORIGINAL at epoch  5  is:  0.9388889074325562 \n",
            "\n",
            "420/420 [==============================] - 72s 171ms/step - loss: 0.0665 - binary_accuracy: 0.9857 - val_loss: 0.3323 - val_binary_accuracy: 0.9444\n",
            "Run:  5 / Accuracy on test ORIGINAL at epoch  6  is:  0.9444444179534912 \n",
            "\n",
            "420/420 [==============================] - 72s 172ms/step - loss: 0.0482 - binary_accuracy: 0.9905 - val_loss: 0.3367 - val_binary_accuracy: 0.9556\n",
            "Run:  5 / Accuracy on test ORIGINAL at epoch  7  is:  0.9555555582046509 \n",
            "\n",
            "420/420 [==============================] - 72s 173ms/step - loss: 0.0473 - binary_accuracy: 0.9929 - val_loss: 0.3914 - val_binary_accuracy: 0.9444\n",
            "Run:  5 / Accuracy on test ORIGINAL at epoch  8  is:  0.9444444179534912 \n",
            "\n",
            "420/420 [==============================] - 73s 173ms/step - loss: 0.0279 - binary_accuracy: 0.9952 - val_loss: 0.4369 - val_binary_accuracy: 0.9444\n",
            "Run:  5 / Accuracy on test ORIGINAL at epoch  9  is:  0.9444444179534912 \n",
            "\n",
            "420/420 [==============================] - 72s 173ms/step - loss: 0.0173 - binary_accuracy: 0.9952 - val_loss: 0.4487 - val_binary_accuracy: 0.9444\n",
            "Run:  5 / Accuracy on test ORIGINAL at epoch  10  is:  0.9444444179534912 \n",
            "\n",
            "420/420 [==============================] - 73s 173ms/step - loss: 0.0089 - binary_accuracy: 0.9976 - val_loss: 0.4336 - val_binary_accuracy: 0.9500\n",
            "Run:  5 / Accuracy on test ORIGINAL at epoch  11  is:  0.949999988079071 \n",
            "\n",
            "420/420 [==============================] - 73s 174ms/step - loss: 0.0010 - binary_accuracy: 1.0000 - val_loss: 0.5018 - val_binary_accuracy: 0.9389\n",
            "Run:  5 / Accuracy on test ORIGINAL at epoch  12  is:  0.9388889074325562 \n",
            "\n",
            "420/420 [==============================] - 72s 172ms/step - loss: 0.0023 - binary_accuracy: 0.9976 - val_loss: 0.5521 - val_binary_accuracy: 0.9444\n",
            "Run:  5 / Accuracy on test ORIGINAL at epoch  13  is:  0.9444444179534912 \n",
            "\n",
            "420/420 [==============================] - 72s 173ms/step - loss: 1.8190e-04 - binary_accuracy: 1.0000 - val_loss: 0.6213 - val_binary_accuracy: 0.9333\n",
            "Run:  5 / Accuracy on test ORIGINAL at epoch  14  is:  0.9333333373069763 \n",
            "\n",
            "420/420 [==============================] - 72s 171ms/step - loss: 1.2559e-04 - binary_accuracy: 1.0000 - val_loss: 0.7212 - val_binary_accuracy: 0.9056\n",
            "Run:  5 / Accuracy on test ORIGINAL at epoch  15  is:  0.9055555462837219 \n",
            "\n",
            "420/420 [==============================] - 72s 172ms/step - loss: 5.4117e-05 - binary_accuracy: 1.0000 - val_loss: 0.5678 - val_binary_accuracy: 0.9444\n",
            "Run:  5 / Accuracy on test ORIGINAL at epoch  16  is:  0.9444444179534912 \n",
            "\n",
            "420/420 [==============================] - 73s 173ms/step - loss: 1.6914e-04 - binary_accuracy: 1.0000 - val_loss: 0.6651 - val_binary_accuracy: 0.9389\n",
            "Run:  5 / Accuracy on test ORIGINAL at epoch  17  is:  0.9388889074325562 \n",
            "\n",
            "420/420 [==============================] - 73s 173ms/step - loss: 1.6055e-05 - binary_accuracy: 1.0000 - val_loss: 0.6274 - val_binary_accuracy: 0.9444\n",
            "Run:  5 / Accuracy on test ORIGINAL at epoch  18  is:  0.9444444179534912 \n",
            "\n",
            "420/420 [==============================] - 73s 173ms/step - loss: 3.3859e-05 - binary_accuracy: 1.0000 - val_loss: 0.6170 - val_binary_accuracy: 0.9444\n",
            "Run:  5 / Accuracy on test ORIGINAL at epoch  19  is:  0.9444444179534912 \n",
            "\n",
            "Accuracies on ORIGINAL over epochs: [0.7166666388511658, 0.9166666865348816, 0.9388889074325562, 0.9222221970558167, 0.9388889074325562, 0.9388889074325562, 0.9444444179534912, 0.9555555582046509, 0.9444444179534912, 0.9444444179534912, 0.9444444179534912, 0.949999988079071, 0.9388889074325562, 0.9444444179534912, 0.9333333373069763, 0.9055555462837219, 0.9444444179534912, 0.9388889074325562, 0.9444444179534912, 0.9444444179534912] \n",
            "\n",
            "\n",
            "\n",
            " Over all runs maximum accuracies on ORIGINAL test set are: [0.949999988079071, 0.949999988079071, 0.9555555582046509, 0.9555555582046509, 0.9555555582046509]\n",
            "The median for English is: 0.9555555582046509 \n",
            "\n",
            "\n",
            "\n",
            "CNN Accuracy Score on Original Test set ->  0.9555555582046509 +/- 0.005555570125579834\n"
          ]
        }
      ],
      "source": [
        "tf.random.set_seed(1)\n",
        "\n",
        "runs_accuracy = []\n",
        "\n",
        "for run in range(1,(num_runs+1)):\n",
        "    epochs_accuracy = []\n",
        "    aug_epochs_accuracy = []\n",
        "    model = tf.keras.Sequential([\n",
        "                                    tf.keras.Input(shape=(1,), dtype=tf.string),\n",
        "                                    vectorize_layer,\n",
        "                                    layers.Embedding(max_features + 1, embedding_dim),                     \n",
        "                                    layers.Dropout(0.8),\n",
        "\n",
        "                                    layers.Conv1D(256,16,activation='relu'),\n",
        "                                    layers.MaxPooling1D(),\n",
        "                                    layers.Dropout(0.6),\n",
        "\n",
        "                                    layers.Dense(512,activation='relu'),\n",
        "                           \n",
        "                                    layers.GlobalAveragePooling1D(),\n",
        "                                    layers.Dropout(0.2),\n",
        "                                    layers.Dense(1)                            \n",
        "    ])\n",
        "    model.compile(loss=losses.BinaryCrossentropy(from_logits=True), optimizer='RMSprop', metrics=tf.metrics.BinaryAccuracy(threshold=0.0)) \n",
        "\n",
        "    for epoch in range (0,num_epochs_per_run):\n",
        "        history = model.fit(\n",
        "          train_ds,\n",
        "          validation_data = test_ds,\n",
        "          epochs=1,\n",
        "          shuffle=False,\n",
        "          # Comment the following line to do not save and download the model.\n",
        "          #callbacks=[callbacks]\n",
        "          )\n",
        "        accuracy = history.history['val_binary_accuracy']\n",
        "        print(\"Run: \",run,\"/ Accuracy on test ORIGINAL at epoch \",epoch,\" is: \", accuracy[0],\"\\n\")\n",
        "        epochs_accuracy.append(accuracy[0])\n",
        "\n",
        "    print(\"Accuracies on ORIGINAL over epochs:\",epochs_accuracy,\"\\n\")\n",
        "    runs_accuracy.append(max(epochs_accuracy))\n",
        "\n",
        "runs_accuracy.sort()\n",
        "print(\"\\n\\n Over all runs maximum accuracies on ORIGINAL test set are:\", runs_accuracy)\n",
        "print(\"The median for English is:\",runs_accuracy[2],\"\\n\\n\\n\")\n",
        "  \n",
        "# Final Result on Original Test set\n",
        "if (runs_accuracy[2]-runs_accuracy[0])>(runs_accuracy[4]-runs_accuracy[2]):\n",
        "  max_range_from_median = runs_accuracy[2]-runs_accuracy[0]\n",
        "else:\n",
        "  max_range_from_median = runs_accuracy[4]-runs_accuracy[2]\n",
        "final_result = str(runs_accuracy[2])+\" +/- \"+ str(max_range_from_median)\n",
        "print(\"CNN Accuracy Score on Original Test set -> \",final_result)\n"
      ]
    }
  ],
  "metadata": {
    "accelerator": "GPU",
    "colab": {
      "provenance": [],
      "include_colab_link": true
    },
    "kernelspec": {
      "display_name": "Python 3",
      "name": "python3"
    },
    "gpuClass": "standard"
  },
  "nbformat": 4,
  "nbformat_minor": 0
}