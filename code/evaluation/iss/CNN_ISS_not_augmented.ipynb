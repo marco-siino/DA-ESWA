{
  "cells": [
    {
      "cell_type": "markdown",
      "metadata": {
        "id": "view-in-github",
        "colab_type": "text"
      },
      "source": [
        "<a href=\"https://colab.research.google.com/github/marco-siino/DA-ESWA/blob/main/code/evaluation/iss/CNN_ISS_not_augmented.ipynb\" target=\"_parent\"><img src=\"https://colab.research.google.com/assets/colab-badge.svg\" alt=\"Open In Colab\"/></a>"
      ]
    },
    {
      "cell_type": "markdown",
      "metadata": {
        "id": "u-hLo5ufkCT1"
      },
      "source": [
        "## Investigating text data augmentation using back translation for author profiling\n",
        "- - - \n",
        "CNN ON HSS DS EXPERIMENTS NOTEBOOK \n",
        "- - -\n",
        "Convolutional Neural Network on Irony and Stereotype Spreaders Dataset not augmented with backtranslation.\n",
        "Code by M. Siino. \n",
        "\n",
        "From the paper: \"Investigating text data augmentation using back translation for author profiling\" by M.Siino et al.\n",
        "\n"
      ]
    },
    {
      "cell_type": "markdown",
      "metadata": {
        "id": "6IBqUcj4cx2G"
      },
      "source": [
        "## Importing modules."
      ]
    },
    {
      "cell_type": "code",
      "execution_count": 1,
      "metadata": {
        "id": "AQSunQ-ucjLX"
      },
      "outputs": [],
      "source": [
        "import matplotlib.pyplot as plt\n",
        "import os\n",
        "import random\n",
        "import re\n",
        "import shutil\n",
        "import string\n",
        "import tensorflow as tf\n",
        "\n",
        "import numpy as np\n",
        "\n",
        "from tensorflow.keras import layers\n",
        "from tensorflow.keras import losses\n",
        "from tensorflow.keras import preprocessing\n",
        "from keras.models import Model\n",
        "from tensorflow.keras.layers.experimental.preprocessing import TextVectorization\n",
        "\n",
        "os.environ['TF_CUDNN_DETERMINISTIC']='true'\n",
        "os.environ['TF_DETERMINISTIC_OPS']='true'"
      ]
    },
    {
      "cell_type": "markdown",
      "metadata": {
        "id": "0QHd_fxmHCfa"
      },
      "source": [
        "## Importing DS and extract in current working directory."
      ]
    },
    {
      "cell_type": "code",
      "source": [
        "urlTrainingSet = \"https://github.com/marco-siino/DA-ESWA/raw/main/data/iss/iss-training-original.zip\"\n",
        "training_set = tf.keras.utils.get_file(\"pan22-author-profiling-training-2022-03-29.zip\", urlTrainingSet,\n",
        "                                    extract=True, archive_format='zip',cache_dir='.',\n",
        "                                    cache_subdir='')\n",
        "\n",
        "urlTestSet=\"https://github.com/marco-siino/DA-ESWA/raw/main/data/iss/iss-test-original.zip\"\n",
        "test_set = tf.keras.utils.get_file(\"pan22-author-profiling-test-2022-04-22-without_truth.zip\", urlTestSet,\n",
        "                                    extract=True, archive_format='zip',cache_dir='.',\n",
        "                                    cache_subdir='')"
      ],
      "metadata": {
        "colab": {
          "base_uri": "https://localhost:8080/"
        },
        "id": "2RBLe4vQPni1",
        "outputId": "30859df4-d12b-4680-95cc-4166e175b59d"
      },
      "execution_count": 2,
      "outputs": [
        {
          "output_type": "stream",
          "name": "stdout",
          "text": [
            "Downloading data from https://github.com/marco-siino/DA-ESWA/raw/main/data/iss/iss-training-original.zip\n",
            "5806456/5806456 [==============================] - 0s 0us/step\n",
            "Downloading data from https://github.com/marco-siino/DA-ESWA/raw/main/data/iss/iss-test-original.zip\n",
            "2446477/2446477 [==============================] - 0s 0us/step\n"
          ]
        }
      ]
    },
    {
      "cell_type": "code",
      "execution_count": 7,
      "metadata": {
        "id": "ocYMUXaY8r0_",
        "colab": {
          "base_uri": "https://localhost:8080/"
        },
        "outputId": "0a82171d-387b-4135-c7b0-3e3a920d29c2"
      },
      "outputs": [
        {
          "output_type": "stream",
          "name": "stdout",
          "text": [
            ".config\n",
            "pan22-author-profiling-test-2022-04-22-without_truth\n",
            "pan22-author-profiling-test-2022-04-22-without_truth.zip\n",
            "pan22-author-profiling-training-2022-03-29\n",
            "pan22-author-profiling-training-2022-03-29.zip\n",
            "sample_data\n",
            "test_dir_en\n",
            "train_dir_en\n"
          ]
        }
      ],
      "source": [
        "training_set_dir = os.path.join(os.path.dirname(training_set), 'pan22-author-profiling-training-2022-03-29')\n",
        "test_set_dir = os.path.join(os.path.dirname(test_set), 'pan22-author-profiling-test-2022-04-22-without_truth')\n",
        "\n",
        "!ls -A"
      ]
    },
    {
      "cell_type": "markdown",
      "metadata": {
        "id": "uTJi1fbT_Rup"
      },
      "source": [
        "## Build folders hierarchy to use Keras folders preprocessing function.\n",
        "\n"
      ]
    },
    {
      "cell_type": "code",
      "execution_count": 4,
      "metadata": {
        "id": "FyafvXEMhEKw",
        "colab": {
          "base_uri": "https://localhost:8080/"
        },
        "outputId": "5fe65c89-0862-47e8-9bec-8fd35cc91b9f"
      },
      "outputs": [
        {
          "output_type": "stream",
          "name": "stdout",
          "text": [
            ".config\n",
            "pan22-author-profiling-test-2022-04-22-without_truth\n",
            "pan22-author-profiling-test-2022-04-22-without_truth.zip\n",
            "pan22-author-profiling-training-2022-03-29\n",
            "pan22-author-profiling-training-2022-03-29.zip\n",
            "sample_data\n",
            "test_dir_en\n",
            "train_dir_en\n"
          ]
        }
      ],
      "source": [
        "### Training Folders. ###\n",
        "\n",
        "# First level directory.\n",
        "if not os.path.exists('train_dir_en'):\n",
        "    os.makedirs('train_dir_en')\n",
        "\n",
        "# Class labels directory.\n",
        "if not os.path.exists('train_dir_en/0'):\n",
        "    os.makedirs('train_dir_en/0')\n",
        "if not os.path.exists('train_dir_en/1'):\n",
        "    os.makedirs('train_dir_en/1')\n",
        "\n",
        "# Make Py variables.\n",
        "train_dir='train_dir_'\n",
        "\n",
        "## Test Folders. ##\n",
        "# First level directory.\n",
        "if not os.path.exists('test_dir_en'):\n",
        "    os.makedirs('test_dir_en')\n",
        "\n",
        "# Class labels directory.\n",
        "if not os.path.exists('test_dir_en/0'):\n",
        "    os.makedirs('test_dir_en/0')\n",
        "if not os.path.exists('test_dir_en/1'):\n",
        "    os.makedirs('test_dir_en/1')\n",
        "\n",
        "# Make Py variables.\n",
        "test_dir='test_dir_'\n",
        "\n",
        "!ls -A"
      ]
    },
    {
      "cell_type": "markdown",
      "source": [
        "## Set language and directory paths."
      ],
      "metadata": {
        "id": "-6c28Rdo8zGn"
      }
    },
    {
      "cell_type": "code",
      "source": [
        "# Set en and es ground truth file path for train_dir. \n",
        "language='en'\n",
        "\n",
        "truth_file_training_dir_en=training_set_dir+'/'+language+'/'\n",
        "truth_file_training_path_en = truth_file_training_dir_en+'truth.txt'\n",
        "\n",
        "truth_file_test_dir=test_set_dir\n",
        "truth_file_test_path_en = truth_file_test_dir+'/'+'truth'+'.txt'"
      ],
      "metadata": {
        "id": "ANr_dCj-8yvD"
      },
      "execution_count": 8,
      "outputs": []
    },
    {
      "cell_type": "markdown",
      "source": [
        "## Read truth.txt to organize training and test dataset folders."
      ],
      "metadata": {
        "id": "VU6PtNMZ864o"
      }
    },
    {
      "cell_type": "code",
      "source": [
        "# Open the file truth.txt with read only permit.\n",
        "f = open(truth_file_training_path_en, \"r\")\n",
        "# use readline() to read the first line \n",
        "line = f.readline()\n",
        "# use the read line to read further.\n",
        "# If the file is not empty keep reading one line\n",
        "# at a time, till the file is empty\n",
        "while line:\n",
        "    # Split line at :::\n",
        "    x = line.split(\":::\")\n",
        "    fNameXml = x[0]+'.xml'\n",
        "    fNameTxt = x[0]+'.txt'\n",
        "    # Second coord [0] gets just the first character (label) and not /n too.\n",
        "    label = x[1][0]\n",
        "    if label == 'I':\n",
        "      label = '1'\n",
        "    elif label == 'N':\n",
        "      label = '0'\n",
        "\n",
        "    # Now move the file to the right folder.\n",
        "    if os.path.exists(truth_file_training_dir_en+fNameXml):\n",
        "      os.rename(truth_file_training_dir_en+fNameXml, './train_dir_'+language+'/'+label+'/'+fNameTxt )\n",
        "\n",
        "    # use readline() to read next line\n",
        "    line = f.readline()\n",
        "\n",
        "# Open the file truth.txt with read only permit.\n",
        "f = open(truth_file_test_path_en, \"r\")\n",
        "# use readline() to read the first line \n",
        "line = f.readline()\n",
        "# use the read line to read further.\n",
        "# If the file is not empty keep reading one line\n",
        "# at a time, till the file is empty\n",
        "while line:\n",
        "    # Split line at :::\n",
        "    x = line.split(\":::\")\n",
        "    fNameXml = x[0]+'.xml'\n",
        "    fNameTxt = x[0]+'.txt'\n",
        "    # Second coord [0] gets just the first character (label) and not /n too.\n",
        "    label = x[1][0]\n",
        "    if label == 'I':\n",
        "      label = '1'\n",
        "    elif label == 'N':\n",
        "      label = '0'\n",
        "\n",
        "    # Now move the file to the right folder.\n",
        "    if os.path.exists(truth_file_test_dir+'/'+language+'/'+fNameXml):\n",
        "      os.rename(truth_file_test_dir+'/'+language+'/'+fNameXml, './test_dir_'+language+'/'+label+'/'+fNameTxt )\n",
        "\n",
        "    # use readline() to read next line\n",
        "    line = f.readline()"
      ],
      "metadata": {
        "id": "iW2UF_SH87TX"
      },
      "execution_count": 9,
      "outputs": []
    },
    {
      "cell_type": "markdown",
      "source": [
        "## Generate full dataset."
      ],
      "metadata": {
        "id": "4vskGJeX9GqJ"
      }
    },
    {
      "cell_type": "code",
      "source": [
        "# Generate full randomized training set.\n",
        "batch_size=1\n",
        "\n",
        "en_train_ds = tf.keras.preprocessing.text_dataset_from_directory(\n",
        "    train_dir+language, \n",
        "    batch_size=batch_size,\n",
        "    shuffle=False\n",
        "    )\n",
        "\n",
        "en_test_ds = tf.keras.preprocessing.text_dataset_from_directory(\n",
        "    test_dir+language, \n",
        "    batch_size=batch_size,\n",
        "    shuffle=False\n",
        "    )\n",
        "\n",
        "train_ds=en_train_ds.shuffle(500,seed=1, reshuffle_each_iteration=False)\n",
        "test_ds=en_test_ds.shuffle(200,seed=1, reshuffle_each_iteration=False)\n",
        "\n",
        "train_ds_size=len(train_ds)\n",
        "test_ds_size=len(test_ds)"
      ],
      "metadata": {
        "colab": {
          "base_uri": "https://localhost:8080/"
        },
        "id": "UOqIc_Sm9HGX",
        "outputId": "8d479d32-2cb3-45b2-aa02-f1e0ce9f665d"
      },
      "execution_count": 11,
      "outputs": [
        {
          "output_type": "stream",
          "name": "stdout",
          "text": [
            "Found 420 files belonging to 2 classes.\n",
            "Found 180 files belonging to 2 classes.\n"
          ]
        }
      ]
    },
    {
      "cell_type": "markdown",
      "metadata": {
        "id": "ITouXXtQ8WzV"
      },
      "source": [
        "## Functions to pre-process source text. \n",
        "\n"
      ]
    },
    {
      "cell_type": "code",
      "execution_count": 12,
      "metadata": {
        "id": "bDPIqAgXYWim"
      },
      "outputs": [],
      "source": [
        "# Preprocessing function to remove some noise due to the translation.\n",
        "def clean_samples(input_data):\n",
        "  tag_author_lang_en_removed = tf.strings.regex_replace(input_data,'', '')  \n",
        "  tag_opening_documents = tf.strings.regex_replace(tag_author_lang_en_removed,'', '')\n",
        "  tag_opening_cdata_removed = tf.strings.regex_replace(tag_opening_documents,'<\\!\\[CDATA\\[', ' ')\n",
        "  tag_closing_cdata_removed = tf.strings.regex_replace(tag_opening_cdata_removed,'\\]\\]>', ' >')\n",
        "  tag_closing_documents = tf.strings.regex_replace(tag_closing_cdata_removed,'', '')\n",
        "  output_data = tf.strings.regex_replace(tag_closing_documents,'', '')\n",
        "  return output_data"
      ]
    },
    {
      "cell_type": "markdown",
      "metadata": {
        "id": "TjUnE9_DEyCw"
      },
      "source": [
        "## Get the length of the longest sample in training set. Then adapt text.\n",
        "\n"
      ]
    },
    {
      "cell_type": "code",
      "execution_count": 13,
      "metadata": {
        "id": "ebRMQqa_mr48"
      },
      "outputs": [],
      "source": [
        "def preprocess_and_adapt_ts(training_set):\n",
        "  # Set a large sequence length to find the longest sample in the training set.\n",
        "  sequence_length = 30000\n",
        "  vectorize_layer = TextVectorization(\n",
        "      standardize=clean_samples,\n",
        "      output_mode='int',\n",
        "      output_sequence_length=sequence_length)\n",
        "\n",
        "  train_text = training_set.map(lambda x, y: x)\n",
        "  vectorize_layer.adapt(train_text)\n",
        "  #vectorize_layer.get_vocabulary()\n",
        "\n",
        "  model = tf.keras.models.Sequential()\n",
        "  model.add(tf.keras.Input(shape=(1,), dtype=tf.string))\n",
        "  model.add(vectorize_layer)\n",
        "\n",
        "  longest_sample_length=1\n",
        "\n",
        "  for element in training_set:\n",
        "    authorDocument=element[0]\n",
        "    label=element[1]\n",
        "    \n",
        "    #print(\"Sample considered is: \", authorDocument[0].numpy())\n",
        "    #print(\"Preprocessed: \", str(custom_standardization(authorDocument[0].numpy())))\n",
        "    #print(\"And has label: \", label[0].numpy())\n",
        "\n",
        "    out=model(authorDocument)\n",
        "    # Convert token list to numpy array.\n",
        "    token_list = out.numpy()[0]\n",
        "    token_list = np.trim_zeros(token_list,'b')\n",
        "    if longest_sample_length < len(token_list):\n",
        "      longest_sample_length = len(token_list)\n",
        "\n",
        "  print(\"Length of the longest sample is:\", longest_sample_length)\n",
        "\n",
        "  # After tokenization longest_sample_length covers all the document lenghts in our dataset.\n",
        "  sequence_length = longest_sample_length\n",
        "\n",
        "  vectorize_layer = TextVectorization(\n",
        "      standardize=clean_samples,\n",
        "      output_mode='int',\n",
        "      output_sequence_length=sequence_length)\n",
        "\n",
        "  # Finally adapt the vectorize layer.\n",
        "  train_text = training_set.map(lambda x, y: x)\n",
        "  vectorize_layer.adapt(train_text)\n",
        "  return vectorize_layer"
      ]
    },
    {
      "cell_type": "markdown",
      "source": [
        "## Some training hyperparameters..."
      ],
      "metadata": {
        "id": "RF7pJkGJ3bHT"
      }
    },
    {
      "cell_type": "code",
      "source": [
        "# Word embedding dimensions.\n",
        "embedding_dim = 100\n",
        "\n",
        "num_runs = 5 \n",
        "# No need to go over the 20th epoch...Overfitting begins.\n",
        "num_epochs_per_run = 20\n",
        "\n",
        "#opt = tf.keras.optimizers.RMSprop()"
      ],
      "metadata": {
        "id": "ocHligxS3mVn"
      },
      "execution_count": 14,
      "outputs": []
    },
    {
      "cell_type": "markdown",
      "source": [
        "## Vectorization\n",
        "\n",
        "\n"
      ],
      "metadata": {
        "id": "yzLLcBGdtmXM"
      }
    },
    {
      "cell_type": "code",
      "source": [
        "print(\"\\n\\n* * * * VECTORIZATION STARTED * * * *\")\n",
        "\n",
        "# Preprocess training set to build a dictionary.\n",
        "vectorize_layer = preprocess_and_adapt_ts(train_ds)\n",
        "\n",
        "max_features=len(vectorize_layer.get_vocabulary()) + 1\n",
        "print(\"Vocabulary size is:\", max_features)\n"
      ],
      "metadata": {
        "colab": {
          "base_uri": "https://localhost:8080/"
        },
        "id": "mlDEHJvstluS",
        "outputId": "ca51af35-24bc-49c1-cc27-e9550428ec18"
      },
      "execution_count": 15,
      "outputs": [
        {
          "output_type": "stream",
          "name": "stderr",
          "text": [
            "WARNING:tensorflow:From /usr/local/lib/python3.8/dist-packages/tensorflow/python/autograph/pyct/static_analysis/liveness.py:83: Analyzer.lamba_check (from tensorflow.python.autograph.pyct.static_analysis.liveness) is deprecated and will be removed after 2023-09-23.\n",
            "Instructions for updating:\n",
            "Lambda fuctions will be no more assumed to be used in the statement where they are used, or at least in the same block. https://github.com/tensorflow/tensorflow/issues/56089\n"
          ]
        },
        {
          "output_type": "stream",
          "name": "stdout",
          "text": [
            "\n",
            "\n",
            "* * * * VECTORIZATION STARTED * * * *\n",
            "Length of the longest sample is: 9808\n",
            "Vocabulary size is: 187022\n"
          ]
        }
      ]
    },
    {
      "cell_type": "markdown",
      "metadata": {
        "id": "XDEi7MAo4qsQ"
      },
      "source": [
        "## Models definition, training and evaluation on original test set.\n",
        "\n",
        "\n"
      ]
    },
    {
      "cell_type": "code",
      "execution_count": 16,
      "metadata": {
        "colab": {
          "base_uri": "https://localhost:8080/"
        },
        "id": "Mm1fdCpETWL-",
        "outputId": "96b0ccf8-a3cd-4956-a04f-122f15233676"
      },
      "outputs": [
        {
          "output_type": "stream",
          "name": "stdout",
          "text": [
            "420/420 [==============================] - ETA: 0s - loss: 0.6771 - binary_accuracy: 0.5667Run:  1 / Accuracy on test ORIGINAL at epoch  0  is:  0.7722222208976746 \n",
            "\n",
            "420/420 [==============================] - 63s 150ms/step - loss: 0.3951 - binary_accuracy: 0.8476 - val_loss: 0.2567 - val_binary_accuracy: 0.9222\n",
            "Run:  1 / Accuracy on test ORIGINAL at epoch  1  is:  0.9222221970558167 \n",
            "\n",
            "420/420 [==============================] - 61s 145ms/step - loss: 0.2851 - binary_accuracy: 0.9024 - val_loss: 0.2383 - val_binary_accuracy: 0.9278\n",
            "Run:  1 / Accuracy on test ORIGINAL at epoch  2  is:  0.9277777671813965 \n",
            "\n",
            "420/420 [==============================] - 62s 147ms/step - loss: 0.2134 - binary_accuracy: 0.9286 - val_loss: 0.2396 - val_binary_accuracy: 0.9278\n",
            "Run:  1 / Accuracy on test ORIGINAL at epoch  3  is:  0.9277777671813965 \n",
            "\n",
            "420/420 [==============================] - 63s 150ms/step - loss: 0.1622 - binary_accuracy: 0.9595 - val_loss: 0.2224 - val_binary_accuracy: 0.9333\n",
            "Run:  1 / Accuracy on test ORIGINAL at epoch  4  is:  0.9333333373069763 \n",
            "\n",
            "420/420 [==============================] - 62s 147ms/step - loss: 0.1147 - binary_accuracy: 0.9667 - val_loss: 0.2588 - val_binary_accuracy: 0.9333\n",
            "Run:  1 / Accuracy on test ORIGINAL at epoch  5  is:  0.9333333373069763 \n",
            "\n",
            "420/420 [==============================] - 62s 147ms/step - loss: 0.0868 - binary_accuracy: 0.9810 - val_loss: 0.2632 - val_binary_accuracy: 0.9500\n",
            "Run:  1 / Accuracy on test ORIGINAL at epoch  6  is:  0.949999988079071 \n",
            "\n",
            "420/420 [==============================] - 63s 149ms/step - loss: 0.0622 - binary_accuracy: 0.9929 - val_loss: 0.3202 - val_binary_accuracy: 0.9500\n",
            "Run:  1 / Accuracy on test ORIGINAL at epoch  7  is:  0.949999988079071 \n",
            "\n",
            "420/420 [==============================] - 61s 146ms/step - loss: 0.0546 - binary_accuracy: 0.9929 - val_loss: 0.3361 - val_binary_accuracy: 0.9611\n",
            "Run:  1 / Accuracy on test ORIGINAL at epoch  8  is:  0.9611111283302307 \n",
            "\n",
            "420/420 [==============================] - 62s 146ms/step - loss: 0.0511 - binary_accuracy: 0.9929 - val_loss: 0.3654 - val_binary_accuracy: 0.9611\n",
            "Run:  1 / Accuracy on test ORIGINAL at epoch  9  is:  0.9611111283302307 \n",
            "\n",
            "420/420 [==============================] - 61s 145ms/step - loss: 0.0522 - binary_accuracy: 0.9952 - val_loss: 0.3906 - val_binary_accuracy: 0.9611\n",
            "Run:  1 / Accuracy on test ORIGINAL at epoch  10  is:  0.9611111283302307 \n",
            "\n",
            "420/420 [==============================] - 60s 144ms/step - loss: 0.0264 - binary_accuracy: 0.9952 - val_loss: 0.3962 - val_binary_accuracy: 0.9556\n",
            "Run:  1 / Accuracy on test ORIGINAL at epoch  11  is:  0.9555555582046509 \n",
            "\n",
            "420/420 [==============================] - 60s 143ms/step - loss: 0.0129 - binary_accuracy: 0.9976 - val_loss: 0.4205 - val_binary_accuracy: 0.9444\n",
            "Run:  1 / Accuracy on test ORIGINAL at epoch  12  is:  0.9444444179534912 \n",
            "\n",
            "420/420 [==============================] - 62s 147ms/step - loss: 0.0029 - binary_accuracy: 0.9976 - val_loss: 0.4253 - val_binary_accuracy: 0.9556\n",
            "Run:  1 / Accuracy on test ORIGINAL at epoch  13  is:  0.9555555582046509 \n",
            "\n",
            "420/420 [==============================] - 61s 146ms/step - loss: 0.0012 - binary_accuracy: 1.0000 - val_loss: 0.4543 - val_binary_accuracy: 0.9556\n",
            "Run:  1 / Accuracy on test ORIGINAL at epoch  14  is:  0.9555555582046509 \n",
            "\n",
            "420/420 [==============================] - 61s 146ms/step - loss: 1.8514e-04 - binary_accuracy: 1.0000 - val_loss: 0.4168 - val_binary_accuracy: 0.9556\n",
            "Run:  1 / Accuracy on test ORIGINAL at epoch  15  is:  0.9555555582046509 \n",
            "\n",
            "420/420 [==============================] - 61s 145ms/step - loss: 9.8231e-05 - binary_accuracy: 1.0000 - val_loss: 0.5550 - val_binary_accuracy: 0.9278\n",
            "Run:  1 / Accuracy on test ORIGINAL at epoch  16  is:  0.9277777671813965 \n",
            "\n",
            "420/420 [==============================] - 63s 149ms/step - loss: 4.9615e-05 - binary_accuracy: 1.0000 - val_loss: 0.4590 - val_binary_accuracy: 0.9500\n",
            "Run:  1 / Accuracy on test ORIGINAL at epoch  17  is:  0.949999988079071 \n",
            "\n",
            "420/420 [==============================] - 61s 146ms/step - loss: 4.0401e-05 - binary_accuracy: 1.0000 - val_loss: 0.6176 - val_binary_accuracy: 0.9278\n",
            "Run:  1 / Accuracy on test ORIGINAL at epoch  18  is:  0.9277777671813965 \n",
            "\n",
            "420/420 [==============================] - 62s 147ms/step - loss: 4.8388e-05 - binary_accuracy: 1.0000 - val_loss: 0.4903 - val_binary_accuracy: 0.9556\n",
            "Run:  1 / Accuracy on test ORIGINAL at epoch  19  is:  0.9555555582046509 \n",
            "\n",
            "Accuracies on ORIGINAL over epochs: [0.7722222208976746, 0.9222221970558167, 0.9277777671813965, 0.9277777671813965, 0.9333333373069763, 0.9333333373069763, 0.949999988079071, 0.949999988079071, 0.9611111283302307, 0.9611111283302307, 0.9611111283302307, 0.9555555582046509, 0.9444444179534912, 0.9555555582046509, 0.9555555582046509, 0.9555555582046509, 0.9277777671813965, 0.949999988079071, 0.9277777671813965, 0.9555555582046509] \n",
            "\n",
            "420/420 [==============================] - 109s 257ms/step - loss: 0.6839 - binary_accuracy: 0.5238 - val_loss: 0.5843 - val_binary_accuracy: 0.7111\n",
            "Run:  2 / Accuracy on test ORIGINAL at epoch  0  is:  0.7111111283302307 \n",
            "\n",
            "420/420 [==============================] - 60s 143ms/step - loss: 0.4063 - binary_accuracy: 0.8619 - val_loss: 0.2872 - val_binary_accuracy: 0.9167\n",
            "Run:  2 / Accuracy on test ORIGINAL at epoch  1  is:  0.9166666865348816 \n",
            "\n",
            "420/420 [==============================] - 62s 148ms/step - loss: 0.2700 - binary_accuracy: 0.9071 - val_loss: 0.2859 - val_binary_accuracy: 0.9111\n",
            "Run:  2 / Accuracy on test ORIGINAL at epoch  2  is:  0.9111111164093018 \n",
            "\n",
            "420/420 [==============================] - 61s 145ms/step - loss: 0.2065 - binary_accuracy: 0.9333 - val_loss: 0.2606 - val_binary_accuracy: 0.9278\n",
            "Run:  2 / Accuracy on test ORIGINAL at epoch  3  is:  0.9277777671813965 \n",
            "\n",
            "420/420 [==============================] - 61s 145ms/step - loss: 0.1588 - binary_accuracy: 0.9524 - val_loss: 0.2560 - val_binary_accuracy: 0.9333\n",
            "Run:  2 / Accuracy on test ORIGINAL at epoch  4  is:  0.9333333373069763 \n",
            "\n",
            "420/420 [==============================] - 60s 142ms/step - loss: 0.1192 - binary_accuracy: 0.9714 - val_loss: 0.3042 - val_binary_accuracy: 0.9333\n",
            "Run:  2 / Accuracy on test ORIGINAL at epoch  5  is:  0.9333333373069763 \n",
            "\n",
            "420/420 [==============================] - 61s 146ms/step - loss: 0.0916 - binary_accuracy: 0.9833 - val_loss: 0.3151 - val_binary_accuracy: 0.9333\n",
            "Run:  2 / Accuracy on test ORIGINAL at epoch  6  is:  0.9333333373069763 \n",
            "\n",
            "420/420 [==============================] - 61s 145ms/step - loss: 0.0661 - binary_accuracy: 0.9857 - val_loss: 0.3258 - val_binary_accuracy: 0.9444\n",
            "Run:  2 / Accuracy on test ORIGINAL at epoch  7  is:  0.9444444179534912 \n",
            "\n",
            "420/420 [==============================] - 61s 145ms/step - loss: 0.0631 - binary_accuracy: 0.9905 - val_loss: 0.3784 - val_binary_accuracy: 0.9389\n",
            "Run:  2 / Accuracy on test ORIGINAL at epoch  8  is:  0.9388889074325562 \n",
            "\n",
            "420/420 [==============================] - 62s 148ms/step - loss: 0.0459 - binary_accuracy: 0.9929 - val_loss: 0.3863 - val_binary_accuracy: 0.9389\n",
            "Run:  2 / Accuracy on test ORIGINAL at epoch  9  is:  0.9388889074325562 \n",
            "\n",
            "420/420 [==============================] - 62s 149ms/step - loss: 0.0292 - binary_accuracy: 0.9952 - val_loss: 0.3866 - val_binary_accuracy: 0.9611\n",
            "Run:  2 / Accuracy on test ORIGINAL at epoch  10  is:  0.9611111283302307 \n",
            "\n",
            "420/420 [==============================] - 61s 145ms/step - loss: 0.0235 - binary_accuracy: 0.9952 - val_loss: 0.3950 - val_binary_accuracy: 0.9556\n",
            "Run:  2 / Accuracy on test ORIGINAL at epoch  11  is:  0.9555555582046509 \n",
            "\n",
            "420/420 [==============================] - 62s 147ms/step - loss: 0.0085 - binary_accuracy: 0.9976 - val_loss: 0.4190 - val_binary_accuracy: 0.9556\n",
            "Run:  2 / Accuracy on test ORIGINAL at epoch  12  is:  0.9555555582046509 \n",
            "\n",
            "420/420 [==============================] - 61s 144ms/step - loss: 0.0092 - binary_accuracy: 0.9976 - val_loss: 0.4618 - val_binary_accuracy: 0.9389\n",
            "Run:  2 / Accuracy on test ORIGINAL at epoch  13  is:  0.9388889074325562 \n",
            "\n",
            "420/420 [==============================] - 61s 145ms/step - loss: 6.0681e-05 - binary_accuracy: 1.0000 - val_loss: 0.5307 - val_binary_accuracy: 0.9278\n",
            "Run:  2 / Accuracy on test ORIGINAL at epoch  14  is:  0.9277777671813965 \n",
            "\n",
            "420/420 [==============================] - 60s 144ms/step - loss: 1.5121e-04 - binary_accuracy: 1.0000 - val_loss: 0.5162 - val_binary_accuracy: 0.9389\n",
            "Run:  2 / Accuracy on test ORIGINAL at epoch  15  is:  0.9388889074325562 \n",
            "\n",
            "420/420 [==============================] - 62s 147ms/step - loss: 3.9859e-05 - binary_accuracy: 1.0000 - val_loss: 0.5273 - val_binary_accuracy: 0.9389\n",
            "Run:  2 / Accuracy on test ORIGINAL at epoch  16  is:  0.9388889074325562 \n",
            "\n",
            "420/420 [==============================] - 60s 144ms/step - loss: 3.1718e-05 - binary_accuracy: 1.0000 - val_loss: 0.5028 - val_binary_accuracy: 0.9556\n",
            "Run:  2 / Accuracy on test ORIGINAL at epoch  17  is:  0.9555555582046509 \n",
            "\n",
            "420/420 [==============================] - 61s 144ms/step - loss: 2.2873e-05 - binary_accuracy: 1.0000 - val_loss: 0.7074 - val_binary_accuracy: 0.8889\n",
            "Run:  2 / Accuracy on test ORIGINAL at epoch  18  is:  0.8888888955116272 \n",
            "\n",
            "420/420 [==============================] - 62s 148ms/step - loss: 2.9676e-04 - binary_accuracy: 1.0000 - val_loss: 0.4995 - val_binary_accuracy: 0.9556\n",
            "Run:  2 / Accuracy on test ORIGINAL at epoch  19  is:  0.9555555582046509 \n",
            "\n",
            "Accuracies on ORIGINAL over epochs: [0.7111111283302307, 0.9166666865348816, 0.9111111164093018, 0.9277777671813965, 0.9333333373069763, 0.9333333373069763, 0.9333333373069763, 0.9444444179534912, 0.9388889074325562, 0.9388889074325562, 0.9611111283302307, 0.9555555582046509, 0.9555555582046509, 0.9388889074325562, 0.9277777671813965, 0.9388889074325562, 0.9388889074325562, 0.9555555582046509, 0.8888888955116272, 0.9555555582046509] \n",
            "\n",
            "420/420 [==============================] - 108s 253ms/step - loss: 0.6824 - binary_accuracy: 0.5571 - val_loss: 0.5735 - val_binary_accuracy: 0.7222\n",
            "Run:  3 / Accuracy on test ORIGINAL at epoch  0  is:  0.7222222089767456 \n",
            "\n",
            "420/420 [==============================] - 61s 144ms/step - loss: 0.4010 - binary_accuracy: 0.8571 - val_loss: 0.2920 - val_binary_accuracy: 0.9056\n",
            "Run:  3 / Accuracy on test ORIGINAL at epoch  1  is:  0.9055555462837219 \n",
            "\n",
            "420/420 [==============================] - 62s 148ms/step - loss: 0.2725 - binary_accuracy: 0.9095 - val_loss: 0.2635 - val_binary_accuracy: 0.9222\n",
            "Run:  3 / Accuracy on test ORIGINAL at epoch  2  is:  0.9222221970558167 \n",
            "\n",
            "420/420 [==============================] - 61s 145ms/step - loss: 0.2066 - binary_accuracy: 0.9333 - val_loss: 0.2668 - val_binary_accuracy: 0.9278\n",
            "Run:  3 / Accuracy on test ORIGINAL at epoch  3  is:  0.9277777671813965 \n",
            "\n",
            "420/420 [==============================] - 61s 146ms/step - loss: 0.1518 - binary_accuracy: 0.9619 - val_loss: 0.2438 - val_binary_accuracy: 0.9389\n",
            "Run:  3 / Accuracy on test ORIGINAL at epoch  4  is:  0.9388889074325562 \n",
            "\n",
            "420/420 [==============================] - 60s 144ms/step - loss: 0.1206 - binary_accuracy: 0.9667 - val_loss: 0.2975 - val_binary_accuracy: 0.9333\n",
            "Run:  3 / Accuracy on test ORIGINAL at epoch  5  is:  0.9333333373069763 \n",
            "\n",
            "420/420 [==============================] - 61s 146ms/step - loss: 0.0882 - binary_accuracy: 0.9762 - val_loss: 0.3102 - val_binary_accuracy: 0.9278\n",
            "Run:  3 / Accuracy on test ORIGINAL at epoch  6  is:  0.9277777671813965 \n",
            "\n",
            "420/420 [==============================] - 61s 145ms/step - loss: 0.0656 - binary_accuracy: 0.9833 - val_loss: 0.3466 - val_binary_accuracy: 0.9389\n",
            "Run:  3 / Accuracy on test ORIGINAL at epoch  7  is:  0.9388889074325562 \n",
            "\n",
            "420/420 [==============================] - 62s 149ms/step - loss: 0.0502 - binary_accuracy: 0.9929 - val_loss: 0.3529 - val_binary_accuracy: 0.9556\n",
            "Run:  3 / Accuracy on test ORIGINAL at epoch  8  is:  0.9555555582046509 \n",
            "\n",
            "420/420 [==============================] - 71s 170ms/step - loss: 0.0453 - binary_accuracy: 0.9929 - val_loss: 0.3469 - val_binary_accuracy: 0.9611\n",
            "Run:  3 / Accuracy on test ORIGINAL at epoch  9  is:  0.9611111283302307 \n",
            "\n",
            "420/420 [==============================] - 62s 147ms/step - loss: 0.0316 - binary_accuracy: 0.9952 - val_loss: 0.3804 - val_binary_accuracy: 0.9556\n",
            "Run:  3 / Accuracy on test ORIGINAL at epoch  10  is:  0.9555555582046509 \n",
            "\n",
            "420/420 [==============================] - 63s 150ms/step - loss: 0.0225 - binary_accuracy: 0.9952 - val_loss: 0.4130 - val_binary_accuracy: 0.9611\n",
            "Run:  3 / Accuracy on test ORIGINAL at epoch  11  is:  0.9611111283302307 \n",
            "\n",
            "420/420 [==============================] - 62s 148ms/step - loss: 0.0212 - binary_accuracy: 0.9952 - val_loss: 0.4263 - val_binary_accuracy: 0.9556\n",
            "Run:  3 / Accuracy on test ORIGINAL at epoch  12  is:  0.9555555582046509 \n",
            "\n",
            "420/420 [==============================] - 62s 148ms/step - loss: 0.0087 - binary_accuracy: 0.9976 - val_loss: 0.4303 - val_binary_accuracy: 0.9500\n",
            "Run:  3 / Accuracy on test ORIGINAL at epoch  13  is:  0.949999988079071 \n",
            "\n",
            "420/420 [==============================] - 62s 147ms/step - loss: 3.8365e-04 - binary_accuracy: 1.0000 - val_loss: 0.4654 - val_binary_accuracy: 0.9444\n",
            "Run:  3 / Accuracy on test ORIGINAL at epoch  14  is:  0.9444444179534912 \n",
            "\n",
            "420/420 [==============================] - 63s 150ms/step - loss: 7.4646e-05 - binary_accuracy: 1.0000 - val_loss: 0.5497 - val_binary_accuracy: 0.9278\n",
            "Run:  3 / Accuracy on test ORIGINAL at epoch  15  is:  0.9277777671813965 \n",
            "\n",
            "420/420 [==============================] - 61s 145ms/step - loss: 8.5888e-05 - binary_accuracy: 1.0000 - val_loss: 0.5716 - val_binary_accuracy: 0.9333\n",
            "Run:  3 / Accuracy on test ORIGINAL at epoch  16  is:  0.9333333373069763 \n",
            "\n",
            "420/420 [==============================] - 61s 146ms/step - loss: 1.4182e-04 - binary_accuracy: 1.0000 - val_loss: 0.4773 - val_binary_accuracy: 0.9556\n",
            "Run:  3 / Accuracy on test ORIGINAL at epoch  17  is:  0.9555555582046509 \n",
            "\n",
            "420/420 [==============================] - 62s 147ms/step - loss: 1.8308e-04 - binary_accuracy: 1.0000 - val_loss: 0.5820 - val_binary_accuracy: 0.9333\n",
            "Run:  3 / Accuracy on test ORIGINAL at epoch  18  is:  0.9333333373069763 \n",
            "\n",
            "420/420 [==============================] - 61s 144ms/step - loss: 5.0225e-05 - binary_accuracy: 1.0000 - val_loss: 0.4915 - val_binary_accuracy: 0.9556\n",
            "Run:  3 / Accuracy on test ORIGINAL at epoch  19  is:  0.9555555582046509 \n",
            "\n",
            "Accuracies on ORIGINAL over epochs: [0.7222222089767456, 0.9055555462837219, 0.9222221970558167, 0.9277777671813965, 0.9388889074325562, 0.9333333373069763, 0.9277777671813965, 0.9388889074325562, 0.9555555582046509, 0.9611111283302307, 0.9555555582046509, 0.9611111283302307, 0.9555555582046509, 0.949999988079071, 0.9444444179534912, 0.9277777671813965, 0.9333333373069763, 0.9555555582046509, 0.9333333373069763, 0.9555555582046509] \n",
            "\n",
            "420/420 [==============================] - 110s 257ms/step - loss: 0.6855 - binary_accuracy: 0.5429 - val_loss: 0.5908 - val_binary_accuracy: 0.7444\n",
            "Run:  4 / Accuracy on test ORIGINAL at epoch  0  is:  0.7444444298744202 \n",
            "\n",
            "420/420 [==============================] - 61s 144ms/step - loss: 0.4074 - binary_accuracy: 0.8500 - val_loss: 0.2426 - val_binary_accuracy: 0.9222\n",
            "Run:  4 / Accuracy on test ORIGINAL at epoch  1  is:  0.9222221970558167 \n",
            "\n",
            "420/420 [==============================] - 62s 147ms/step - loss: 0.2791 - binary_accuracy: 0.9048 - val_loss: 0.2358 - val_binary_accuracy: 0.9278\n",
            "Run:  4 / Accuracy on test ORIGINAL at epoch  2  is:  0.9277777671813965 \n",
            "\n",
            "420/420 [==============================] - 62s 147ms/step - loss: 0.2066 - binary_accuracy: 0.9310 - val_loss: 0.2590 - val_binary_accuracy: 0.9222\n",
            "Run:  4 / Accuracy on test ORIGINAL at epoch  3  is:  0.9222221970558167 \n",
            "\n",
            "420/420 [==============================] - 62s 147ms/step - loss: 0.1484 - binary_accuracy: 0.9571 - val_loss: 0.2413 - val_binary_accuracy: 0.9389\n",
            "Run:  4 / Accuracy on test ORIGINAL at epoch  4  is:  0.9388889074325562 \n",
            "\n",
            "420/420 [==============================] - 62s 147ms/step - loss: 0.1171 - binary_accuracy: 0.9643 - val_loss: 0.2629 - val_binary_accuracy: 0.9333\n",
            "Run:  4 / Accuracy on test ORIGINAL at epoch  5  is:  0.9333333373069763 \n",
            "\n",
            "420/420 [==============================] - 62s 147ms/step - loss: 0.0908 - binary_accuracy: 0.9857 - val_loss: 0.3011 - val_binary_accuracy: 0.9333\n",
            "Run:  4 / Accuracy on test ORIGINAL at epoch  6  is:  0.9333333373069763 \n",
            "\n",
            "420/420 [==============================] - 61s 146ms/step - loss: 0.0587 - binary_accuracy: 0.9881 - val_loss: 0.2969 - val_binary_accuracy: 0.9611\n",
            "Run:  4 / Accuracy on test ORIGINAL at epoch  7  is:  0.9611111283302307 \n",
            "\n",
            "420/420 [==============================] - 62s 147ms/step - loss: 0.0538 - binary_accuracy: 0.9929 - val_loss: 0.3676 - val_binary_accuracy: 0.9556\n",
            "Run:  4 / Accuracy on test ORIGINAL at epoch  8  is:  0.9555555582046509 \n",
            "\n",
            "420/420 [==============================] - 62s 147ms/step - loss: 0.0425 - binary_accuracy: 0.9952 - val_loss: 0.3551 - val_binary_accuracy: 0.9611\n",
            "Run:  4 / Accuracy on test ORIGINAL at epoch  9  is:  0.9611111283302307 \n",
            "\n",
            "420/420 [==============================] - 62s 147ms/step - loss: 0.0403 - binary_accuracy: 0.9929 - val_loss: 0.3761 - val_binary_accuracy: 0.9611\n",
            "Run:  4 / Accuracy on test ORIGINAL at epoch  10  is:  0.9611111283302307 \n",
            "\n",
            "420/420 [==============================] - 61s 145ms/step - loss: 0.0286 - binary_accuracy: 0.9952 - val_loss: 0.3832 - val_binary_accuracy: 0.9611\n",
            "Run:  4 / Accuracy on test ORIGINAL at epoch  11  is:  0.9611111283302307 \n",
            "\n",
            "420/420 [==============================] - 62s 147ms/step - loss: 0.0039 - binary_accuracy: 0.9976 - val_loss: 0.3899 - val_binary_accuracy: 0.9556\n",
            "Run:  4 / Accuracy on test ORIGINAL at epoch  12  is:  0.9555555582046509 \n",
            "\n",
            "420/420 [==============================] - 62s 147ms/step - loss: 0.0026 - binary_accuracy: 0.9976 - val_loss: 0.4110 - val_binary_accuracy: 0.9556\n",
            "Run:  4 / Accuracy on test ORIGINAL at epoch  13  is:  0.9555555582046509 \n",
            "\n",
            "420/420 [==============================] - 62s 147ms/step - loss: 3.7205e-04 - binary_accuracy: 1.0000 - val_loss: 0.4692 - val_binary_accuracy: 0.9389\n",
            "Run:  4 / Accuracy on test ORIGINAL at epoch  14  is:  0.9388889074325562 \n",
            "\n",
            "420/420 [==============================] - 62s 148ms/step - loss: 2.2046e-04 - binary_accuracy: 1.0000 - val_loss: 0.4445 - val_binary_accuracy: 0.9556\n",
            "Run:  4 / Accuracy on test ORIGINAL at epoch  15  is:  0.9555555582046509 \n",
            "\n",
            "420/420 [==============================] - 62s 148ms/step - loss: 1.3030e-04 - binary_accuracy: 1.0000 - val_loss: 0.4450 - val_binary_accuracy: 0.9556\n",
            "Run:  4 / Accuracy on test ORIGINAL at epoch  16  is:  0.9555555582046509 \n",
            "\n",
            "420/420 [==============================] - 61s 145ms/step - loss: 8.1076e-04 - binary_accuracy: 1.0000 - val_loss: 0.4805 - val_binary_accuracy: 0.9556\n",
            "Run:  4 / Accuracy on test ORIGINAL at epoch  17  is:  0.9555555582046509 \n",
            "\n",
            "420/420 [==============================] - 61s 145ms/step - loss: 5.5388e-05 - binary_accuracy: 1.0000 - val_loss: 0.4838 - val_binary_accuracy: 0.9556\n",
            "Run:  4 / Accuracy on test ORIGINAL at epoch  18  is:  0.9555555582046509 \n",
            "\n",
            "420/420 [==============================] - 62s 147ms/step - loss: 4.2572e-05 - binary_accuracy: 1.0000 - val_loss: 0.4670 - val_binary_accuracy: 0.9556\n",
            "Run:  4 / Accuracy on test ORIGINAL at epoch  19  is:  0.9555555582046509 \n",
            "\n",
            "Accuracies on ORIGINAL over epochs: [0.7444444298744202, 0.9222221970558167, 0.9277777671813965, 0.9222221970558167, 0.9388889074325562, 0.9333333373069763, 0.9333333373069763, 0.9611111283302307, 0.9555555582046509, 0.9611111283302307, 0.9611111283302307, 0.9611111283302307, 0.9555555582046509, 0.9555555582046509, 0.9388889074325562, 0.9555555582046509, 0.9555555582046509, 0.9555555582046509, 0.9555555582046509, 0.9555555582046509] \n",
            "\n",
            "420/420 [==============================] - 110s 256ms/step - loss: 0.6864 - binary_accuracy: 0.5333 - val_loss: 0.6205 - val_binary_accuracy: 0.6333\n",
            "Run:  5 / Accuracy on test ORIGINAL at epoch  0  is:  0.6333333253860474 \n",
            "\n",
            "420/420 [==============================] - 63s 150ms/step - loss: 0.4223 - binary_accuracy: 0.8500 - val_loss: 0.2729 - val_binary_accuracy: 0.9000\n",
            "Run:  5 / Accuracy on test ORIGINAL at epoch  1  is:  0.8999999761581421 \n",
            "\n",
            "420/420 [==============================] - 63s 150ms/step - loss: 0.2704 - binary_accuracy: 0.9071 - val_loss: 0.2316 - val_binary_accuracy: 0.9333\n",
            "Run:  5 / Accuracy on test ORIGINAL at epoch  2  is:  0.9333333373069763 \n",
            "\n",
            "420/420 [==============================] - 63s 149ms/step - loss: 0.2026 - binary_accuracy: 0.9262 - val_loss: 0.2922 - val_binary_accuracy: 0.9167\n",
            "Run:  5 / Accuracy on test ORIGINAL at epoch  3  is:  0.9166666865348816 \n",
            "\n",
            "420/420 [==============================] - 63s 151ms/step - loss: 0.1454 - binary_accuracy: 0.9548 - val_loss: 0.2479 - val_binary_accuracy: 0.9333\n",
            "Run:  5 / Accuracy on test ORIGINAL at epoch  4  is:  0.9333333373069763 \n",
            "\n",
            "420/420 [==============================] - 63s 149ms/step - loss: 0.1074 - binary_accuracy: 0.9667 - val_loss: 0.3016 - val_binary_accuracy: 0.9333\n",
            "Run:  5 / Accuracy on test ORIGINAL at epoch  5  is:  0.9333333373069763 \n",
            "\n",
            "420/420 [==============================] - 63s 150ms/step - loss: 0.0762 - binary_accuracy: 0.9833 - val_loss: 0.2676 - val_binary_accuracy: 0.9444\n",
            "Run:  5 / Accuracy on test ORIGINAL at epoch  6  is:  0.9444444179534912 \n",
            "\n",
            "420/420 [==============================] - 63s 149ms/step - loss: 0.0564 - binary_accuracy: 0.9905 - val_loss: 0.3324 - val_binary_accuracy: 0.9389\n",
            "Run:  5 / Accuracy on test ORIGINAL at epoch  7  is:  0.9388889074325562 \n",
            "\n",
            "420/420 [==============================] - 62s 149ms/step - loss: 0.0508 - binary_accuracy: 0.9905 - val_loss: 0.3456 - val_binary_accuracy: 0.9444\n",
            "Run:  5 / Accuracy on test ORIGINAL at epoch  8  is:  0.9444444179534912 \n",
            "\n",
            "420/420 [==============================] - 62s 148ms/step - loss: 0.0486 - binary_accuracy: 0.9929 - val_loss: 0.3658 - val_binary_accuracy: 0.9389\n",
            "Run:  5 / Accuracy on test ORIGINAL at epoch  9  is:  0.9388889074325562 \n",
            "\n",
            "420/420 [==============================] - 63s 149ms/step - loss: 0.0371 - binary_accuracy: 0.9952 - val_loss: 0.3846 - val_binary_accuracy: 0.9556\n",
            "Run:  5 / Accuracy on test ORIGINAL at epoch  10  is:  0.9555555582046509 \n",
            "\n",
            "420/420 [==============================] - 62s 149ms/step - loss: 0.0249 - binary_accuracy: 0.9952 - val_loss: 0.3757 - val_binary_accuracy: 0.9611\n",
            "Run:  5 / Accuracy on test ORIGINAL at epoch  11  is:  0.9611111283302307 \n",
            "\n",
            "420/420 [==============================] - 62s 149ms/step - loss: 0.0181 - binary_accuracy: 0.9952 - val_loss: 0.3837 - val_binary_accuracy: 0.9611\n",
            "Run:  5 / Accuracy on test ORIGINAL at epoch  12  is:  0.9611111283302307 \n",
            "\n",
            "420/420 [==============================] - 62s 148ms/step - loss: 0.0045 - binary_accuracy: 0.9976 - val_loss: 0.4019 - val_binary_accuracy: 0.9556\n",
            "Run:  5 / Accuracy on test ORIGINAL at epoch  13  is:  0.9555555582046509 \n",
            "\n",
            "420/420 [==============================] - 63s 150ms/step - loss: 2.0336e-04 - binary_accuracy: 1.0000 - val_loss: 0.4921 - val_binary_accuracy: 0.9278\n",
            "Run:  5 / Accuracy on test ORIGINAL at epoch  14  is:  0.9277777671813965 \n",
            "\n",
            "420/420 [==============================] - 63s 149ms/step - loss: 4.5248e-05 - binary_accuracy: 1.0000 - val_loss: 0.5622 - val_binary_accuracy: 0.9056\n",
            "Run:  5 / Accuracy on test ORIGINAL at epoch  15  is:  0.9055555462837219 \n",
            "\n",
            "420/420 [==============================] - 63s 149ms/step - loss: 4.4269e-05 - binary_accuracy: 1.0000 - val_loss: 0.5993 - val_binary_accuracy: 0.9056\n",
            "Run:  5 / Accuracy on test ORIGINAL at epoch  16  is:  0.9055555462837219 \n",
            "\n",
            "420/420 [==============================] - 62s 148ms/step - loss: 4.9931e-05 - binary_accuracy: 1.0000 - val_loss: 0.5403 - val_binary_accuracy: 0.9278\n",
            "Run:  5 / Accuracy on test ORIGINAL at epoch  17  is:  0.9277777671813965 \n",
            "\n",
            "420/420 [==============================] - 63s 149ms/step - loss: 1.0046e-05 - binary_accuracy: 1.0000 - val_loss: 0.5738 - val_binary_accuracy: 0.9278\n",
            "Run:  5 / Accuracy on test ORIGINAL at epoch  18  is:  0.9277777671813965 \n",
            "\n",
            "420/420 [==============================] - 63s 149ms/step - loss: 2.1172e-04 - binary_accuracy: 1.0000 - val_loss: 0.7054 - val_binary_accuracy: 0.8833\n",
            "Run:  5 / Accuracy on test ORIGINAL at epoch  19  is:  0.8833333253860474 \n",
            "\n",
            "Accuracies on ORIGINAL over epochs: [0.6333333253860474, 0.8999999761581421, 0.9333333373069763, 0.9166666865348816, 0.9333333373069763, 0.9333333373069763, 0.9444444179534912, 0.9388889074325562, 0.9444444179534912, 0.9388889074325562, 0.9555555582046509, 0.9611111283302307, 0.9611111283302307, 0.9555555582046509, 0.9277777671813965, 0.9055555462837219, 0.9055555462837219, 0.9277777671813965, 0.9277777671813965, 0.8833333253860474] \n",
            "\n",
            "\n",
            "\n",
            " Over all runs maximum accuracies on ORIGINAL test set are: [0.9611111283302307, 0.9611111283302307, 0.9611111283302307, 0.9611111283302307, 0.9611111283302307]\n",
            "The median for English is: 0.9611111283302307 \n",
            "\n",
            "\n",
            "\n",
            "CNN Accuracy Score on Original Test set ->  0.9611111283302307 +/- 0.0\n"
          ]
        }
      ],
      "source": [
        "tf.random.set_seed(1)\n",
        "\n",
        "runs_accuracy = []\n",
        "\n",
        "for run in range(1,(num_runs+1)):\n",
        "    epochs_accuracy = []\n",
        "    model = tf.keras.Sequential([\n",
        "                                    tf.keras.Input(shape=(1,), dtype=tf.string),\n",
        "                                    vectorize_layer,\n",
        "                                    layers.Embedding(max_features + 1, embedding_dim),                     \n",
        "                                    layers.Dropout(0.8),\n",
        "\n",
        "                                    layers.Conv1D(256,16,activation='relu'),\n",
        "                                    layers.MaxPooling1D(),\n",
        "                                    layers.Dropout(0.6),\n",
        "\n",
        "                                    layers.Dense(512,activation='relu'),\n",
        "                           \n",
        "                                    layers.GlobalAveragePooling1D(),\n",
        "                                    layers.Dropout(0.2),\n",
        "                                    layers.Dense(1)                            \n",
        "    ])\n",
        "    model.compile(loss=losses.BinaryCrossentropy(from_logits=True), optimizer='RMSprop', metrics=tf.metrics.BinaryAccuracy(threshold=0.0)) \n",
        "\n",
        "    for epoch in range (0,num_epochs_per_run):\n",
        "        history = model.fit(\n",
        "          train_ds,\n",
        "          validation_data = test_ds,\n",
        "          epochs=1,\n",
        "          shuffle=False,\n",
        "          # Comment the following line to do not save and download the model.\n",
        "          #callbacks=[callbacks]\n",
        "          )\n",
        "        accuracy = history.history['val_binary_accuracy']\n",
        "        print(\"Run: \",run,\"/ Accuracy on test ORIGINAL at epoch \",epoch,\" is: \", accuracy[0],\"\\n\")\n",
        "        epochs_accuracy.append(accuracy[0])\n",
        "\n",
        "    print(\"Accuracies on ORIGINAL over epochs:\",epochs_accuracy,\"\\n\")\n",
        "    runs_accuracy.append(max(epochs_accuracy))\n",
        "\n",
        "runs_accuracy.sort()\n",
        "print(\"\\n\\n Over all runs maximum accuracies on ORIGINAL test set are:\", runs_accuracy)\n",
        "print(\"The median for English is:\",runs_accuracy[2],\"\\n\\n\\n\")\n",
        "\n",
        "# Final Result on Original Test set\n",
        "if (runs_accuracy[2]-runs_accuracy[0])>(runs_accuracy[4]-runs_accuracy[2]):\n",
        "  max_range_from_median = runs_accuracy[2]-runs_accuracy[0]\n",
        "else:\n",
        "  max_range_from_median = runs_accuracy[4]-runs_accuracy[2]\n",
        "final_result = str(runs_accuracy[2])+\" +/- \"+ str(max_range_from_median)\n",
        "print(\"CNN Accuracy Score on Original Test set -> \",final_result)\n"
      ]
    }
  ],
  "metadata": {
    "accelerator": "GPU",
    "colab": {
      "collapsed_sections": [
        "RgfUp_5TWED7",
        "x8zDXrk9eEy5"
      ],
      "provenance": [],
      "include_colab_link": true
    },
    "kernelspec": {
      "display_name": "Python 3",
      "name": "python3"
    },
    "gpuClass": "standard"
  },
  "nbformat": 4,
  "nbformat_minor": 0
}