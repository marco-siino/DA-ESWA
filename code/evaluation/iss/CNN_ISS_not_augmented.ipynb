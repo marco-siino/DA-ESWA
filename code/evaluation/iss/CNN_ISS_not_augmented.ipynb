{
  "cells": [
    {
      "cell_type": "markdown",
      "metadata": {
        "id": "view-in-github",
        "colab_type": "text"
      },
      "source": [
        "<a href=\"https://colab.research.google.com/github/marco-siino/DA-ESWA/blob/main/code/evaluation/iss/CNN_ISS_not_augmented.ipynb\" target=\"_parent\"><img src=\"https://colab.research.google.com/assets/colab-badge.svg\" alt=\"Open In Colab\"/></a>"
      ]
    },
    {
      "cell_type": "markdown",
      "metadata": {
        "id": "u-hLo5ufkCT1"
      },
      "source": [
        "## Investigating text data augmentation using back translation for author profiling\n",
        "- - - \n",
        "CNN ON ISS DS EXPERIMENTS NOTEBOOK \n",
        "- - -\n",
        "Convolutional Neural Network on Irony and Stereotype Spreaders Dataset not augmented with backtranslation.\n",
        "Code by M. Siino. \n",
        "\n",
        "From the paper: \"Investigating text data augmentation using back translation for author profiling\" by M.Siino et al.\n",
        "\n"
      ]
    },
    {
      "cell_type": "markdown",
      "metadata": {
        "id": "6IBqUcj4cx2G"
      },
      "source": [
        "## Importing modules."
      ]
    },
    {
      "cell_type": "code",
      "execution_count": null,
      "metadata": {
        "id": "AQSunQ-ucjLX"
      },
      "outputs": [],
      "source": [
        "import matplotlib.pyplot as plt\n",
        "import os\n",
        "import random\n",
        "import re\n",
        "import shutil\n",
        "import string\n",
        "import tensorflow as tf\n",
        "\n",
        "import numpy as np\n",
        "\n",
        "from tensorflow.keras import layers\n",
        "from tensorflow.keras import losses\n",
        "from tensorflow.keras import preprocessing\n",
        "from keras.models import Model\n",
        "from tensorflow.keras.layers.experimental.preprocessing import TextVectorization\n",
        "\n",
        "#os.environ['TF_CUDNN_DETERMINISTIC']='true'\n",
        "#os.environ['TF_DETERMINISTIC_OPS']='true'"
      ]
    },
    {
      "cell_type": "markdown",
      "metadata": {
        "id": "0QHd_fxmHCfa"
      },
      "source": [
        "## Importing DS and extract in current working directory."
      ]
    },
    {
      "cell_type": "code",
      "source": [
        "urlTrainingSet = \"https://github.com/marco-siino/DA-ESWA/raw/main/data/iss/iss-training-original.zip\"\n",
        "training_set = tf.keras.utils.get_file(\"pan22-author-profiling-training-2022-03-29.zip\", urlTrainingSet,\n",
        "                                    extract=True, archive_format='zip',cache_dir='.',\n",
        "                                    cache_subdir='')\n",
        "\n",
        "urlTestSet=\"https://github.com/marco-siino/DA-ESWA/raw/main/data/iss/iss-test-original.zip\"\n",
        "test_set = tf.keras.utils.get_file(\"pan22-author-profiling-test-2022-04-22-without_truth.zip\", urlTestSet,\n",
        "                                    extract=True, archive_format='zip',cache_dir='.',\n",
        "                                    cache_subdir='')"
      ],
      "metadata": {
        "id": "2RBLe4vQPni1"
      },
      "execution_count": null,
      "outputs": []
    },
    {
      "cell_type": "code",
      "execution_count": null,
      "metadata": {
        "id": "ocYMUXaY8r0_",
        "colab": {
          "base_uri": "https://localhost:8080/"
        },
        "outputId": "2f4d3338-6554-4502-bce1-7e9caededdce"
      },
      "outputs": [
        {
          "output_type": "stream",
          "name": "stderr",
          "text": [
            "'ls' is not recognized as an internal or external command,\n",
            "operable program or batch file.\n"
          ]
        }
      ],
      "source": [
        "training_set_dir = os.path.join(os.path.dirname(training_set), 'pan22-author-profiling-training-2022-03-29')\n",
        "test_set_dir = os.path.join(os.path.dirname(test_set), 'pan22-author-profiling-test-2022-04-22-without_truth')\n",
        "\n",
        "!ls -A"
      ]
    },
    {
      "cell_type": "markdown",
      "metadata": {
        "id": "uTJi1fbT_Rup"
      },
      "source": [
        "## Build folders hierarchy to use Keras folders preprocessing function.\n",
        "\n"
      ]
    },
    {
      "cell_type": "code",
      "execution_count": null,
      "metadata": {
        "id": "FyafvXEMhEKw",
        "colab": {
          "base_uri": "https://localhost:8080/"
        },
        "outputId": "c6d18bcd-ccf0-4448-95cd-24be23f3da91"
      },
      "outputs": [
        {
          "output_type": "stream",
          "name": "stderr",
          "text": [
            "'ls' is not recognized as an internal or external command,\n",
            "operable program or batch file.\n"
          ]
        }
      ],
      "source": [
        "### Training Folders. ###\n",
        "\n",
        "# First level directory.\n",
        "if not os.path.exists('train_dir_en'):\n",
        "    os.makedirs('train_dir_en')\n",
        "\n",
        "# Class labels directory.\n",
        "if not os.path.exists('train_dir_en/0'):\n",
        "    os.makedirs('train_dir_en/0')\n",
        "if not os.path.exists('train_dir_en/1'):\n",
        "    os.makedirs('train_dir_en/1')\n",
        "\n",
        "# Make Py variables.\n",
        "train_dir='train_dir_'\n",
        "\n",
        "## Test Folders. ##\n",
        "# First level directory.\n",
        "if not os.path.exists('test_dir_en'):\n",
        "    os.makedirs('test_dir_en')\n",
        "\n",
        "# Class labels directory.\n",
        "if not os.path.exists('test_dir_en/0'):\n",
        "    os.makedirs('test_dir_en/0')\n",
        "if not os.path.exists('test_dir_en/1'):\n",
        "    os.makedirs('test_dir_en/1')\n",
        "\n",
        "# Make Py variables.\n",
        "test_dir='test_dir_'\n",
        "\n",
        "!ls -A"
      ]
    },
    {
      "cell_type": "markdown",
      "source": [
        "## Set language and directory paths."
      ],
      "metadata": {
        "id": "-6c28Rdo8zGn"
      }
    },
    {
      "cell_type": "code",
      "source": [
        "# Set en and es ground truth file path for train_dir. \n",
        "language='en'\n",
        "\n",
        "truth_file_training_dir_en=training_set_dir+'/'+language+'/'\n",
        "truth_file_training_path_en = truth_file_training_dir_en+'truth.txt'\n",
        "\n",
        "truth_file_test_dir=test_set_dir\n",
        "truth_file_test_path_en = truth_file_test_dir+'/'+'truth'+'.txt'"
      ],
      "metadata": {
        "id": "ANr_dCj-8yvD"
      },
      "execution_count": null,
      "outputs": []
    },
    {
      "cell_type": "markdown",
      "source": [
        "## Read truth.txt to organize training and test dataset folders."
      ],
      "metadata": {
        "id": "VU6PtNMZ864o"
      }
    },
    {
      "cell_type": "code",
      "source": [
        "# Open the file truth.txt with read only permit.\n",
        "f = open(truth_file_training_path_en, \"r\")\n",
        "# use readline() to read the first line \n",
        "line = f.readline()\n",
        "# use the read line to read further.\n",
        "# If the file is not empty keep reading one line\n",
        "# at a time, till the file is empty\n",
        "while line:\n",
        "    # Split line at :::\n",
        "    x = line.split(\":::\")\n",
        "    fNameXml = x[0]+'.xml'\n",
        "    fNameTxt = x[0]+'.txt'\n",
        "    # Second coord [0] gets just the first character (label) and not /n too.\n",
        "    label = x[1][0]\n",
        "    if label == 'I':\n",
        "      label = '1'\n",
        "    elif label == 'N':\n",
        "      label = '0'\n",
        "\n",
        "    # Now move the file to the right folder.\n",
        "    if os.path.exists(truth_file_training_dir_en+fNameXml):\n",
        "      os.rename(truth_file_training_dir_en+fNameXml, './train_dir_'+language+'/'+label+'/'+fNameTxt )\n",
        "\n",
        "    # use readline() to read next line\n",
        "    line = f.readline()\n",
        "\n",
        "# Open the file truth.txt with read only permit.\n",
        "f = open(truth_file_test_path_en, \"r\")\n",
        "# use readline() to read the first line \n",
        "line = f.readline()\n",
        "# use the read line to read further.\n",
        "# If the file is not empty keep reading one line\n",
        "# at a time, till the file is empty\n",
        "while line:\n",
        "    # Split line at :::\n",
        "    x = line.split(\":::\")\n",
        "    fNameXml = x[0]+'.xml'\n",
        "    fNameTxt = x[0]+'.txt'\n",
        "    # Second coord [0] gets just the first character (label) and not /n too.\n",
        "    label = x[1][0]\n",
        "    if label == 'I':\n",
        "      label = '1'\n",
        "    elif label == 'N':\n",
        "      label = '0'\n",
        "\n",
        "    # Now move the file to the right folder.\n",
        "    if os.path.exists(truth_file_test_dir+'/'+language+'/'+fNameXml):\n",
        "      os.rename(truth_file_test_dir+'/'+language+'/'+fNameXml, './test_dir_'+language+'/'+label+'/'+fNameTxt )\n",
        "\n",
        "    # use readline() to read next line\n",
        "    line = f.readline()"
      ],
      "metadata": {
        "id": "iW2UF_SH87TX",
        "colab": {
          "base_uri": "https://localhost:8080/",
          "height": 317
        },
        "outputId": "d1ffe5da-8560-4ec7-d3d9-9467e6ea2820"
      },
      "execution_count": null,
      "outputs": [
        {
          "output_type": "error",
          "ename": "FileExistsError",
          "evalue": "ignored",
          "traceback": [
            "\u001b[1;31m---------------------------------------------------------------------------\u001b[0m",
            "\u001b[1;31mFileExistsError\u001b[0m                           Traceback (most recent call last)",
            "Input \u001b[1;32mIn [6]\u001b[0m, in \u001b[0;36m<cell line: 8>\u001b[1;34m()\u001b[0m\n\u001b[0;32m     20\u001b[0m \u001b[38;5;66;03m# Now move the file to the right folder.\u001b[39;00m\n\u001b[0;32m     21\u001b[0m \u001b[38;5;28;01mif\u001b[39;00m os\u001b[38;5;241m.\u001b[39mpath\u001b[38;5;241m.\u001b[39mexists(truth_file_training_dir_en\u001b[38;5;241m+\u001b[39mfNameXml):\n\u001b[1;32m---> 22\u001b[0m   \u001b[43mos\u001b[49m\u001b[38;5;241;43m.\u001b[39;49m\u001b[43mrename\u001b[49m\u001b[43m(\u001b[49m\u001b[43mtruth_file_training_dir_en\u001b[49m\u001b[38;5;241;43m+\u001b[39;49m\u001b[43mfNameXml\u001b[49m\u001b[43m,\u001b[49m\u001b[43m \u001b[49m\u001b[38;5;124;43m'\u001b[39;49m\u001b[38;5;124;43m./train_dir_\u001b[39;49m\u001b[38;5;124;43m'\u001b[39;49m\u001b[38;5;241;43m+\u001b[39;49m\u001b[43mlanguage\u001b[49m\u001b[38;5;241;43m+\u001b[39;49m\u001b[38;5;124;43m'\u001b[39;49m\u001b[38;5;124;43m/\u001b[39;49m\u001b[38;5;124;43m'\u001b[39;49m\u001b[38;5;241;43m+\u001b[39;49m\u001b[43mlabel\u001b[49m\u001b[38;5;241;43m+\u001b[39;49m\u001b[38;5;124;43m'\u001b[39;49m\u001b[38;5;124;43m/\u001b[39;49m\u001b[38;5;124;43m'\u001b[39;49m\u001b[38;5;241;43m+\u001b[39;49m\u001b[43mfNameTxt\u001b[49m\u001b[43m \u001b[49m\u001b[43m)\u001b[49m\n\u001b[0;32m     24\u001b[0m \u001b[38;5;66;03m# use readline() to read next line\u001b[39;00m\n\u001b[0;32m     25\u001b[0m line \u001b[38;5;241m=\u001b[39m f\u001b[38;5;241m.\u001b[39mreadline()\n",
            "\u001b[1;31mFileExistsError\u001b[0m: [WinError 183] Cannot create a file when that file already exists: '.\\\\pan22-author-profiling-training-2022-03-29/en/8b73c101dd6e613a0f4dc4b2a784d690.xml' -> './train_dir_en/1/8b73c101dd6e613a0f4dc4b2a784d690.txt'"
          ]
        }
      ]
    },
    {
      "cell_type": "markdown",
      "source": [
        "## Generate full dataset."
      ],
      "metadata": {
        "id": "4vskGJeX9GqJ"
      }
    },
    {
      "cell_type": "code",
      "source": [
        "# Generate full randomized training set.\n",
        "batch_size=1\n",
        "\n",
        "en_train_ds = tf.keras.preprocessing.text_dataset_from_directory(\n",
        "    train_dir+language, \n",
        "    batch_size=batch_size,\n",
        "    shuffle=False\n",
        "    )\n",
        "\n",
        "en_test_ds = tf.keras.preprocessing.text_dataset_from_directory(\n",
        "    test_dir+language, \n",
        "    batch_size=batch_size,\n",
        "    shuffle=False\n",
        "    )\n",
        "\n",
        "train_ds=en_train_ds.shuffle(500,seed=1, reshuffle_each_iteration=False)\n",
        "test_ds=en_test_ds.shuffle(200,seed=1, reshuffle_each_iteration=False)\n",
        "\n",
        "train_ds_size=len(train_ds)\n",
        "test_ds_size=len(test_ds)"
      ],
      "metadata": {
        "colab": {
          "base_uri": "https://localhost:8080/"
        },
        "id": "UOqIc_Sm9HGX",
        "outputId": "1eebb094-9c77-4606-9771-a34d9152973b"
      },
      "execution_count": null,
      "outputs": [
        {
          "output_type": "stream",
          "name": "stdout",
          "text": [
            "Found 420 files belonging to 2 classes.\n",
            "Found 180 files belonging to 2 classes.\n"
          ]
        }
      ]
    },
    {
      "cell_type": "markdown",
      "metadata": {
        "id": "ITouXXtQ8WzV"
      },
      "source": [
        "## Functions to pre-process source text. \n",
        "\n"
      ]
    },
    {
      "cell_type": "code",
      "execution_count": null,
      "metadata": {
        "id": "bDPIqAgXYWim"
      },
      "outputs": [],
      "source": [
        "# Preprocessing function to remove some noise due to the translation.\n",
        "def clean_samples(input_data):\n",
        "  tag_author_lang_en_removed = tf.strings.regex_replace(input_data,'<author lang=\"en\">', '')  \n",
        "  tag_opening_documents = tf.strings.regex_replace(tag_author_lang_en_removed,'<documents>', '')\n",
        "  tag_opening_cdata_removed = tf.strings.regex_replace(tag_opening_documents,'<\\!\\[CDATA\\[', ' ')\n",
        "  tag_closing_cdata_removed = tf.strings.regex_replace(tag_opening_cdata_removed,'\\]\\]></document>', ' ></document>')\n",
        "  tag_closing_documents = tf.strings.regex_replace(tag_closing_cdata_removed,'</documents>', '')\n",
        "  output_data = tf.strings.regex_replace(tag_closing_documents,'</author>', '')\n",
        "  return output_data"
      ]
    },
    {
      "cell_type": "markdown",
      "metadata": {
        "id": "TjUnE9_DEyCw"
      },
      "source": [
        "## Get the length of the longest sample in training set. Then adapt text.\n",
        "\n"
      ]
    },
    {
      "cell_type": "code",
      "execution_count": null,
      "metadata": {
        "id": "ebRMQqa_mr48"
      },
      "outputs": [],
      "source": [
        "def preprocess_and_adapt_ts(training_set):\n",
        "  # Set a large sequence length to find the longest sample in the training set.\n",
        "  sequence_length = 30000\n",
        "  vectorize_layer = TextVectorization(\n",
        "      standardize=clean_samples,\n",
        "      output_mode='int',\n",
        "      output_sequence_length=sequence_length)\n",
        "\n",
        "  train_text = training_set.map(lambda x, y: x)\n",
        "  vectorize_layer.adapt(train_text)\n",
        "  #vectorize_layer.get_vocabulary()\n",
        "\n",
        "  model = tf.keras.models.Sequential()\n",
        "  model.add(tf.keras.Input(shape=(1,), dtype=tf.string))\n",
        "  model.add(vectorize_layer)\n",
        "\n",
        "  longest_sample_length=1\n",
        "\n",
        "  for element in training_set:\n",
        "    authorDocument=element[0]\n",
        "    label=element[1]\n",
        "    \n",
        "    #print(\"Sample considered is: \", authorDocument[0].numpy())\n",
        "    #print(\"Preprocessed: \", str(custom_standardization(authorDocument[0].numpy())))\n",
        "    #print(\"And has label: \", label[0].numpy())\n",
        "\n",
        "    out=model(authorDocument)\n",
        "    # Convert token list to numpy array.\n",
        "    token_list = out.numpy()[0]\n",
        "    token_list = np.trim_zeros(token_list,'b')\n",
        "    if longest_sample_length < len(token_list):\n",
        "      longest_sample_length = len(token_list)\n",
        "\n",
        "  print(\"Length of the longest sample is:\", longest_sample_length)\n",
        "\n",
        "  # After tokenization longest_sample_length covers all the document lenghts in our dataset.\n",
        "  sequence_length = longest_sample_length\n",
        "\n",
        "  vectorize_layer = TextVectorization(\n",
        "      standardize=clean_samples,\n",
        "      output_mode='int',\n",
        "      output_sequence_length=sequence_length)\n",
        "\n",
        "  # Finally adapt the vectorize layer.\n",
        "  train_text = training_set.map(lambda x, y: x)\n",
        "  vectorize_layer.adapt(train_text)\n",
        "  return vectorize_layer"
      ]
    },
    {
      "cell_type": "markdown",
      "source": [
        "## Some training hyperparameters..."
      ],
      "metadata": {
        "id": "RF7pJkGJ3bHT"
      }
    },
    {
      "cell_type": "code",
      "source": [
        "# Word embedding dimensions.\n",
        "embedding_dim = 100\n",
        "\n",
        "num_runs = 5 \n",
        "# No need to go over the 20th epoch...Overfitting begins.\n",
        "num_epochs_per_run = 20\n",
        "\n",
        "#opt = tf.keras.optimizers.RMSprop()"
      ],
      "metadata": {
        "id": "ocHligxS3mVn"
      },
      "execution_count": null,
      "outputs": []
    },
    {
      "cell_type": "markdown",
      "source": [
        "## Vectorization\n",
        "\n",
        "\n"
      ],
      "metadata": {
        "id": "yzLLcBGdtmXM"
      }
    },
    {
      "cell_type": "code",
      "source": [
        "print(\"\\n\\n* * * * VECTORIZATION STARTED * * * *\")\n",
        "\n",
        "# Preprocess training set to build a dictionary.\n",
        "vectorize_layer = preprocess_and_adapt_ts(train_ds)\n",
        "\n",
        "max_features=len(vectorize_layer.get_vocabulary()) + 1\n",
        "print(\"Vocabulary size is:\", max_features)\n"
      ],
      "metadata": {
        "colab": {
          "base_uri": "https://localhost:8080/"
        },
        "id": "mlDEHJvstluS",
        "outputId": "6b0ecbaf-b1a0-4705-f261-0c48c1f2a4a6"
      },
      "execution_count": null,
      "outputs": [
        {
          "output_type": "stream",
          "name": "stdout",
          "text": [
            "\n",
            "\n",
            "* * * * VECTORIZATION STARTED * * * *\n",
            "Length of the longest sample is: 9803\n",
            "Vocabulary size is: 187017\n"
          ]
        }
      ]
    },
    {
      "cell_type": "markdown",
      "metadata": {
        "id": "XDEi7MAo4qsQ"
      },
      "source": [
        "## Models definition, training and evaluation on original test set.\n",
        "\n",
        "\n"
      ]
    },
    {
      "cell_type": "code",
      "execution_count": null,
      "metadata": {
        "colab": {
          "base_uri": "https://localhost:8080/"
        },
        "id": "Mm1fdCpETWL-",
        "outputId": "f9a3dd4f-f3bb-436c-ad28-58429a8089ae"
      },
      "outputs": [
        {
          "output_type": "stream",
          "name": "stdout",
          "text": [
            "420/420 [==============================] - 11s 20ms/step - loss: 0.5793 - binary_accuracy: 0.6643 - val_loss: 0.2793 - val_binary_accuracy: 0.9056\n",
            "Run:  1 / Accuracy on test ORIGINAL at epoch  0  is:  0.9055555462837219 \n",
            "\n",
            "420/420 [==============================] - 8s 19ms/step - loss: 0.3188 - binary_accuracy: 0.8952 - val_loss: 0.1989 - val_binary_accuracy: 0.9278\n",
            "Run:  1 / Accuracy on test ORIGINAL at epoch  1  is:  0.9277777671813965 \n",
            "\n",
            "420/420 [==============================] - 8s 19ms/step - loss: 0.2453 - binary_accuracy: 0.9190 - val_loss: 0.1924 - val_binary_accuracy: 0.9389\n",
            "Run:  1 / Accuracy on test ORIGINAL at epoch  2  is:  0.9388889074325562 \n",
            "\n",
            "420/420 [==============================] - 8s 20ms/step - loss: 0.1748 - binary_accuracy: 0.9548 - val_loss: 0.1891 - val_binary_accuracy: 0.9444\n",
            "Run:  1 / Accuracy on test ORIGINAL at epoch  3  is:  0.9444444179534912 \n",
            "\n",
            "420/420 [==============================] - 8s 19ms/step - loss: 0.1139 - binary_accuracy: 0.9690 - val_loss: 0.1847 - val_binary_accuracy: 0.9500\n",
            "Run:  1 / Accuracy on test ORIGINAL at epoch  4  is:  0.949999988079071 \n",
            "\n",
            "420/420 [==============================] - 8s 19ms/step - loss: 0.0937 - binary_accuracy: 0.9762 - val_loss: 0.2134 - val_binary_accuracy: 0.9500\n",
            "Run:  1 / Accuracy on test ORIGINAL at epoch  5  is:  0.949999988079071 \n",
            "\n",
            "420/420 [==============================] - 8s 20ms/step - loss: 0.0796 - binary_accuracy: 0.9857 - val_loss: 0.2974 - val_binary_accuracy: 0.9389\n",
            "Run:  1 / Accuracy on test ORIGINAL at epoch  6  is:  0.9388889074325562 \n",
            "\n",
            "420/420 [==============================] - 8s 19ms/step - loss: 0.0734 - binary_accuracy: 0.9810 - val_loss: 0.3090 - val_binary_accuracy: 0.9444\n",
            "Run:  1 / Accuracy on test ORIGINAL at epoch  7  is:  0.9444444179534912 \n",
            "\n",
            "420/420 [==============================] - 8s 19ms/step - loss: 0.0629 - binary_accuracy: 0.9881 - val_loss: 0.3992 - val_binary_accuracy: 0.9278\n",
            "Run:  1 / Accuracy on test ORIGINAL at epoch  8  is:  0.9277777671813965 \n",
            "\n",
            "420/420 [==============================] - 8s 20ms/step - loss: 0.0340 - binary_accuracy: 0.9881 - val_loss: 0.3360 - val_binary_accuracy: 0.9444\n",
            "Run:  1 / Accuracy on test ORIGINAL at epoch  9  is:  0.9444444179534912 \n",
            "\n",
            "420/420 [==============================] - 8s 19ms/step - loss: 0.0189 - binary_accuracy: 0.9905 - val_loss: 0.3815 - val_binary_accuracy: 0.9444\n",
            "Run:  1 / Accuracy on test ORIGINAL at epoch  10  is:  0.9444444179534912 \n",
            "\n",
            "420/420 [==============================] - 8s 19ms/step - loss: 0.0158 - binary_accuracy: 0.9929 - val_loss: 0.4292 - val_binary_accuracy: 0.9278\n",
            "Run:  1 / Accuracy on test ORIGINAL at epoch  11  is:  0.9277777671813965 \n",
            "\n",
            "420/420 [==============================] - 8s 19ms/step - loss: 0.0080 - binary_accuracy: 0.9952 - val_loss: 0.4628 - val_binary_accuracy: 0.9278\n",
            "Run:  1 / Accuracy on test ORIGINAL at epoch  12  is:  0.9277777671813965 \n",
            "\n",
            "420/420 [==============================] - 8s 19ms/step - loss: 0.0073 - binary_accuracy: 0.9929 - val_loss: 0.5803 - val_binary_accuracy: 0.9278\n",
            "Run:  1 / Accuracy on test ORIGINAL at epoch  13  is:  0.9277777671813965 \n",
            "\n",
            "420/420 [==============================] - 8s 20ms/step - loss: 2.0299e-05 - binary_accuracy: 1.0000 - val_loss: 0.6537 - val_binary_accuracy: 0.9278\n",
            "Run:  1 / Accuracy on test ORIGINAL at epoch  14  is:  0.9277777671813965 \n",
            "\n",
            "420/420 [==============================] - 8s 20ms/step - loss: 5.6485e-05 - binary_accuracy: 1.0000 - val_loss: 0.8650 - val_binary_accuracy: 0.9222\n",
            "Run:  1 / Accuracy on test ORIGINAL at epoch  15  is:  0.9222221970558167 \n",
            "\n",
            "420/420 [==============================] - 8s 20ms/step - loss: 1.4897e-05 - binary_accuracy: 1.0000 - val_loss: 1.0907 - val_binary_accuracy: 0.8833\n",
            "Run:  1 / Accuracy on test ORIGINAL at epoch  16  is:  0.8833333253860474 \n",
            "\n",
            "420/420 [==============================] - 8s 19ms/step - loss: 1.8445e-06 - binary_accuracy: 1.0000 - val_loss: 0.9501 - val_binary_accuracy: 0.9278\n",
            "Run:  1 / Accuracy on test ORIGINAL at epoch  17  is:  0.9277777671813965 \n",
            "\n",
            "420/420 [==============================] - 8s 19ms/step - loss: 1.9289e-07 - binary_accuracy: 1.0000 - val_loss: 1.1389 - val_binary_accuracy: 0.8778\n",
            "Run:  1 / Accuracy on test ORIGINAL at epoch  18  is:  0.8777777552604675 \n",
            "\n",
            "420/420 [==============================] - 8s 19ms/step - loss: 1.1326e-07 - binary_accuracy: 1.0000 - val_loss: 1.0164 - val_binary_accuracy: 0.9111\n",
            "Run:  1 / Accuracy on test ORIGINAL at epoch  19  is:  0.9111111164093018 \n",
            "\n",
            "Accuracies on ORIGINAL over epochs: [0.9055555462837219, 0.9277777671813965, 0.9388889074325562, 0.9444444179534912, 0.949999988079071, 0.949999988079071, 0.9388889074325562, 0.9444444179534912, 0.9277777671813965, 0.9444444179534912, 0.9444444179534912, 0.9277777671813965, 0.9277777671813965, 0.9277777671813965, 0.9277777671813965, 0.9222221970558167, 0.8833333253860474, 0.9277777671813965, 0.8777777552604675, 0.9111111164093018] \n",
            "\n",
            "420/420 [==============================] - 9s 20ms/step - loss: 0.5785 - binary_accuracy: 0.6810 - val_loss: 0.2743 - val_binary_accuracy: 0.9167\n",
            "Run:  2 / Accuracy on test ORIGINAL at epoch  0  is:  0.9166666865348816 \n",
            "\n",
            "420/420 [==============================] - 8s 19ms/step - loss: 0.3292 - binary_accuracy: 0.8905 - val_loss: 0.2351 - val_binary_accuracy: 0.9278\n",
            "Run:  2 / Accuracy on test ORIGINAL at epoch  1  is:  0.9277777671813965 \n",
            "\n",
            "420/420 [==============================] - 8s 19ms/step - loss: 0.2434 - binary_accuracy: 0.9357 - val_loss: 0.1837 - val_binary_accuracy: 0.9389\n",
            "Run:  2 / Accuracy on test ORIGINAL at epoch  2  is:  0.9388889074325562 \n",
            "\n",
            "420/420 [==============================] - 8s 19ms/step - loss: 0.1690 - binary_accuracy: 0.9524 - val_loss: 0.1848 - val_binary_accuracy: 0.9444\n",
            "Run:  2 / Accuracy on test ORIGINAL at epoch  3  is:  0.9444444179534912 \n",
            "\n",
            "420/420 [==============================] - 8s 20ms/step - loss: 0.1138 - binary_accuracy: 0.9714 - val_loss: 0.1953 - val_binary_accuracy: 0.9444\n",
            "Run:  2 / Accuracy on test ORIGINAL at epoch  4  is:  0.9444444179534912 \n",
            "\n",
            "420/420 [==============================] - 8s 20ms/step - loss: 0.0953 - binary_accuracy: 0.9786 - val_loss: 0.2365 - val_binary_accuracy: 0.9500\n",
            "Run:  2 / Accuracy on test ORIGINAL at epoch  5  is:  0.949999988079071 \n",
            "\n",
            "420/420 [==============================] - 8s 19ms/step - loss: 0.0757 - binary_accuracy: 0.9857 - val_loss: 0.3014 - val_binary_accuracy: 0.9333\n",
            "Run:  2 / Accuracy on test ORIGINAL at epoch  6  is:  0.9333333373069763 \n",
            "\n",
            "420/420 [==============================] - 8s 20ms/step - loss: 0.0706 - binary_accuracy: 0.9833 - val_loss: 0.3053 - val_binary_accuracy: 0.9444\n",
            "Run:  2 / Accuracy on test ORIGINAL at epoch  7  is:  0.9444444179534912 \n",
            "\n",
            "420/420 [==============================] - 8s 19ms/step - loss: 0.0635 - binary_accuracy: 0.9857 - val_loss: 0.4316 - val_binary_accuracy: 0.9333\n",
            "Run:  2 / Accuracy on test ORIGINAL at epoch  8  is:  0.9333333373069763 \n",
            "\n",
            "420/420 [==============================] - 8s 19ms/step - loss: 0.0255 - binary_accuracy: 0.9929 - val_loss: 0.3959 - val_binary_accuracy: 0.9389\n",
            "Run:  2 / Accuracy on test ORIGINAL at epoch  9  is:  0.9388889074325562 \n",
            "\n",
            "420/420 [==============================] - 8s 19ms/step - loss: 0.0129 - binary_accuracy: 0.9952 - val_loss: 0.4749 - val_binary_accuracy: 0.9278\n",
            "Run:  2 / Accuracy on test ORIGINAL at epoch  10  is:  0.9277777671813965 \n",
            "\n",
            "420/420 [==============================] - 8s 20ms/step - loss: 0.0104 - binary_accuracy: 0.9976 - val_loss: 0.6183 - val_binary_accuracy: 0.9333\n",
            "Run:  2 / Accuracy on test ORIGINAL at epoch  11  is:  0.9333333373069763 \n",
            "\n",
            "420/420 [==============================] - 8s 19ms/step - loss: 9.8741e-05 - binary_accuracy: 1.0000 - val_loss: 0.5725 - val_binary_accuracy: 0.9444\n",
            "Run:  2 / Accuracy on test ORIGINAL at epoch  12  is:  0.9444444179534912 \n",
            "\n",
            "420/420 [==============================] - 8s 19ms/step - loss: 5.0510e-04 - binary_accuracy: 1.0000 - val_loss: 1.0600 - val_binary_accuracy: 0.8667\n",
            "Run:  2 / Accuracy on test ORIGINAL at epoch  13  is:  0.8666666746139526 \n",
            "\n",
            "420/420 [==============================] - 8s 19ms/step - loss: 5.2922e-07 - binary_accuracy: 1.0000 - val_loss: 0.7306 - val_binary_accuracy: 0.9333\n",
            "Run:  2 / Accuracy on test ORIGINAL at epoch  14  is:  0.9333333373069763 \n",
            "\n",
            "420/420 [==============================] - 8s 19ms/step - loss: 4.5345e-05 - binary_accuracy: 1.0000 - val_loss: 0.7063 - val_binary_accuracy: 0.9333\n",
            "Run:  2 / Accuracy on test ORIGINAL at epoch  15  is:  0.9333333373069763 \n",
            "\n",
            "420/420 [==============================] - 8s 20ms/step - loss: 3.6068e-07 - binary_accuracy: 1.0000 - val_loss: 1.1635 - val_binary_accuracy: 0.8722\n",
            "Run:  2 / Accuracy on test ORIGINAL at epoch  16  is:  0.8722222447395325 \n",
            "\n",
            "420/420 [==============================] - 8s 19ms/step - loss: 3.5312e-06 - binary_accuracy: 1.0000 - val_loss: 0.9714 - val_binary_accuracy: 0.9333\n",
            "Run:  2 / Accuracy on test ORIGINAL at epoch  17  is:  0.9333333373069763 \n",
            "\n",
            "420/420 [==============================] - 8s 19ms/step - loss: 4.4855e-06 - binary_accuracy: 1.0000 - val_loss: 0.8013 - val_binary_accuracy: 0.9444\n",
            "Run:  2 / Accuracy on test ORIGINAL at epoch  18  is:  0.9444444179534912 \n",
            "\n",
            "420/420 [==============================] - 8s 19ms/step - loss: 5.4854e-08 - binary_accuracy: 1.0000 - val_loss: 1.0448 - val_binary_accuracy: 0.9167\n",
            "Run:  2 / Accuracy on test ORIGINAL at epoch  19  is:  0.9166666865348816 \n",
            "\n",
            "Accuracies on ORIGINAL over epochs: [0.9166666865348816, 0.9277777671813965, 0.9388889074325562, 0.9444444179534912, 0.9444444179534912, 0.949999988079071, 0.9333333373069763, 0.9444444179534912, 0.9333333373069763, 0.9388889074325562, 0.9277777671813965, 0.9333333373069763, 0.9444444179534912, 0.8666666746139526, 0.9333333373069763, 0.9333333373069763, 0.8722222447395325, 0.9333333373069763, 0.9444444179534912, 0.9166666865348816] \n",
            "\n",
            "420/420 [==============================] - 9s 20ms/step - loss: 0.5817 - binary_accuracy: 0.6857 - val_loss: 0.2851 - val_binary_accuracy: 0.9056\n",
            "Run:  3 / Accuracy on test ORIGINAL at epoch  0  is:  0.9055555462837219 \n",
            "\n",
            "420/420 [==============================] - 8s 20ms/step - loss: 0.3242 - binary_accuracy: 0.9048 - val_loss: 0.2050 - val_binary_accuracy: 0.9278\n",
            "Run:  3 / Accuracy on test ORIGINAL at epoch  1  is:  0.9277777671813965 \n",
            "\n",
            "420/420 [==============================] - 8s 19ms/step - loss: 0.2436 - binary_accuracy: 0.9310 - val_loss: 0.1913 - val_binary_accuracy: 0.9389\n",
            "Run:  3 / Accuracy on test ORIGINAL at epoch  2  is:  0.9388889074325562 \n",
            "\n",
            "420/420 [==============================] - 8s 20ms/step - loss: 0.1676 - binary_accuracy: 0.9476 - val_loss: 0.1869 - val_binary_accuracy: 0.9500\n",
            "Run:  3 / Accuracy on test ORIGINAL at epoch  3  is:  0.949999988079071 \n",
            "\n",
            "420/420 [==============================] - 8s 19ms/step - loss: 0.1216 - binary_accuracy: 0.9762 - val_loss: 0.1728 - val_binary_accuracy: 0.9500\n",
            "Run:  3 / Accuracy on test ORIGINAL at epoch  4  is:  0.949999988079071 \n",
            "\n",
            "420/420 [==============================] - 8s 19ms/step - loss: 0.1057 - binary_accuracy: 0.9786 - val_loss: 0.2209 - val_binary_accuracy: 0.9444\n",
            "Run:  3 / Accuracy on test ORIGINAL at epoch  5  is:  0.9444444179534912 \n",
            "\n",
            "420/420 [==============================] - 8s 20ms/step - loss: 0.0779 - binary_accuracy: 0.9905 - val_loss: 0.2502 - val_binary_accuracy: 0.9444\n",
            "Run:  3 / Accuracy on test ORIGINAL at epoch  6  is:  0.9444444179534912 \n",
            "\n",
            "420/420 [==============================] - 8s 20ms/step - loss: 0.0562 - binary_accuracy: 0.9833 - val_loss: 0.2707 - val_binary_accuracy: 0.9500\n",
            "Run:  3 / Accuracy on test ORIGINAL at epoch  7  is:  0.949999988079071 \n",
            "\n",
            "420/420 [==============================] - 8s 20ms/step - loss: 0.0565 - binary_accuracy: 0.9881 - val_loss: 0.3788 - val_binary_accuracy: 0.9333\n",
            "Run:  3 / Accuracy on test ORIGINAL at epoch  8  is:  0.9333333373069763 \n",
            "\n",
            "420/420 [==============================] - 8s 19ms/step - loss: 0.0386 - binary_accuracy: 0.9881 - val_loss: 0.3370 - val_binary_accuracy: 0.9444\n",
            "Run:  3 / Accuracy on test ORIGINAL at epoch  9  is:  0.9444444179534912 \n",
            "\n",
            "420/420 [==============================] - 8s 19ms/step - loss: 0.0285 - binary_accuracy: 0.9929 - val_loss: 0.4019 - val_binary_accuracy: 0.9389\n",
            "Run:  3 / Accuracy on test ORIGINAL at epoch  10  is:  0.9388889074325562 \n",
            "\n",
            "420/420 [==============================] - 8s 19ms/step - loss: 0.0187 - binary_accuracy: 0.9952 - val_loss: 0.4304 - val_binary_accuracy: 0.9333\n",
            "Run:  3 / Accuracy on test ORIGINAL at epoch  11  is:  0.9333333373069763 \n",
            "\n",
            "420/420 [==============================] - 8s 19ms/step - loss: 0.0023 - binary_accuracy: 1.0000 - val_loss: 0.5127 - val_binary_accuracy: 0.9278\n",
            "Run:  3 / Accuracy on test ORIGINAL at epoch  12  is:  0.9277777671813965 \n",
            "\n",
            "420/420 [==============================] - 8s 19ms/step - loss: 0.0048 - binary_accuracy: 0.9976 - val_loss: 1.2464 - val_binary_accuracy: 0.8444\n",
            "Run:  3 / Accuracy on test ORIGINAL at epoch  13  is:  0.8444444537162781 \n",
            "\n",
            "420/420 [==============================] - 8s 20ms/step - loss: 2.2618e-05 - binary_accuracy: 1.0000 - val_loss: 0.9076 - val_binary_accuracy: 0.9000\n",
            "Run:  3 / Accuracy on test ORIGINAL at epoch  14  is:  0.8999999761581421 \n",
            "\n",
            "420/420 [==============================] - 8s 19ms/step - loss: 2.7328e-05 - binary_accuracy: 1.0000 - val_loss: 0.7257 - val_binary_accuracy: 0.9278\n",
            "Run:  3 / Accuracy on test ORIGINAL at epoch  15  is:  0.9277777671813965 \n",
            "\n",
            "420/420 [==============================] - 8s 19ms/step - loss: 8.6855e-06 - binary_accuracy: 1.0000 - val_loss: 1.1280 - val_binary_accuracy: 0.8667\n",
            "Run:  3 / Accuracy on test ORIGINAL at epoch  16  is:  0.8666666746139526 \n",
            "\n",
            "420/420 [==============================] - 8s 19ms/step - loss: 8.5793e-08 - binary_accuracy: 1.0000 - val_loss: 0.8257 - val_binary_accuracy: 0.9333\n",
            "Run:  3 / Accuracy on test ORIGINAL at epoch  17  is:  0.9333333373069763 \n",
            "\n",
            "420/420 [==============================] - 8s 19ms/step - loss: 1.6643e-04 - binary_accuracy: 1.0000 - val_loss: 0.9623 - val_binary_accuracy: 0.9222\n",
            "Run:  3 / Accuracy on test ORIGINAL at epoch  18  is:  0.9222221970558167 \n",
            "\n",
            "420/420 [==============================] - 8s 19ms/step - loss: 8.0703e-07 - binary_accuracy: 1.0000 - val_loss: 0.7229 - val_binary_accuracy: 0.9389\n",
            "Run:  3 / Accuracy on test ORIGINAL at epoch  19  is:  0.9388889074325562 \n",
            "\n",
            "Accuracies on ORIGINAL over epochs: [0.9055555462837219, 0.9277777671813965, 0.9388889074325562, 0.949999988079071, 0.949999988079071, 0.9444444179534912, 0.9444444179534912, 0.949999988079071, 0.9333333373069763, 0.9444444179534912, 0.9388889074325562, 0.9333333373069763, 0.9277777671813965, 0.8444444537162781, 0.8999999761581421, 0.9277777671813965, 0.8666666746139526, 0.9333333373069763, 0.9222221970558167, 0.9388889074325562] \n",
            "\n",
            "420/420 [==============================] - 9s 19ms/step - loss: 0.5816 - binary_accuracy: 0.6690 - val_loss: 0.2461 - val_binary_accuracy: 0.9111\n",
            "Run:  4 / Accuracy on test ORIGINAL at epoch  0  is:  0.9111111164093018 \n",
            "\n",
            "420/420 [==============================] - 8s 18ms/step - loss: 0.3145 - binary_accuracy: 0.9000 - val_loss: 0.1869 - val_binary_accuracy: 0.9333\n",
            "Run:  4 / Accuracy on test ORIGINAL at epoch  1  is:  0.9333333373069763 \n",
            "\n",
            "420/420 [==============================] - 8s 19ms/step - loss: 0.2395 - binary_accuracy: 0.9310 - val_loss: 0.1823 - val_binary_accuracy: 0.9389\n",
            "Run:  4 / Accuracy on test ORIGINAL at epoch  2  is:  0.9388889074325562 \n",
            "\n",
            "420/420 [==============================] - 8s 19ms/step - loss: 0.1684 - binary_accuracy: 0.9595 - val_loss: 0.1934 - val_binary_accuracy: 0.9444\n",
            "Run:  4 / Accuracy on test ORIGINAL at epoch  3  is:  0.9444444179534912 \n",
            "\n",
            "420/420 [==============================] - 8s 19ms/step - loss: 0.1185 - binary_accuracy: 0.9690 - val_loss: 0.1913 - val_binary_accuracy: 0.9444\n",
            "Run:  4 / Accuracy on test ORIGINAL at epoch  4  is:  0.9444444179534912 \n",
            "\n",
            "420/420 [==============================] - 8s 19ms/step - loss: 0.0899 - binary_accuracy: 0.9762 - val_loss: 0.2200 - val_binary_accuracy: 0.9444\n",
            "Run:  4 / Accuracy on test ORIGINAL at epoch  5  is:  0.9444444179534912 \n",
            "\n",
            "420/420 [==============================] - 8s 19ms/step - loss: 0.0636 - binary_accuracy: 0.9833 - val_loss: 0.2498 - val_binary_accuracy: 0.9500\n",
            "Run:  4 / Accuracy on test ORIGINAL at epoch  6  is:  0.949999988079071 \n",
            "\n",
            "420/420 [==============================] - 8s 19ms/step - loss: 0.0639 - binary_accuracy: 0.9881 - val_loss: 0.3261 - val_binary_accuracy: 0.9444\n",
            "Run:  4 / Accuracy on test ORIGINAL at epoch  7  is:  0.9444444179534912 \n",
            "\n",
            "420/420 [==============================] - 9s 22ms/step - loss: 0.0577 - binary_accuracy: 0.9857 - val_loss: 0.3579 - val_binary_accuracy: 0.9444\n",
            "Run:  4 / Accuracy on test ORIGINAL at epoch  8  is:  0.9444444179534912 \n",
            "\n",
            "420/420 [==============================] - 14s 26ms/step - loss: 0.0213 - binary_accuracy: 0.9929 - val_loss: 0.3490 - val_binary_accuracy: 0.9389\n",
            "Run:  4 / Accuracy on test ORIGINAL at epoch  9  is:  0.9388889074325562 \n",
            "\n",
            "420/420 [==============================] - 12s 28ms/step - loss: 0.0168 - binary_accuracy: 0.9929 - val_loss: 0.3972 - val_binary_accuracy: 0.9389\n",
            "Run:  4 / Accuracy on test ORIGINAL at epoch  10  is:  0.9388889074325562 \n",
            "\n",
            "420/420 [==============================] - 8s 20ms/step - loss: 0.0070 - binary_accuracy: 0.9976 - val_loss: 0.5460 - val_binary_accuracy: 0.9333\n",
            "Run:  4 / Accuracy on test ORIGINAL at epoch  11  is:  0.9333333373069763 \n",
            "\n",
            "420/420 [==============================] - 8s 19ms/step - loss: 0.0060 - binary_accuracy: 0.9976 - val_loss: 0.7338 - val_binary_accuracy: 0.9167\n",
            "Run:  4 / Accuracy on test ORIGINAL at epoch  12  is:  0.9166666865348816 \n",
            "\n",
            "420/420 [==============================] - 11s 26ms/step - loss: 0.0016 - binary_accuracy: 1.0000 - val_loss: 0.7695 - val_binary_accuracy: 0.9167\n",
            "Run:  4 / Accuracy on test ORIGINAL at epoch  13  is:  0.9166666865348816 \n",
            "\n",
            "420/420 [==============================] - 9s 20ms/step - loss: 1.8006e-05 - binary_accuracy: 1.0000 - val_loss: 0.6428 - val_binary_accuracy: 0.9333\n",
            "Run:  4 / Accuracy on test ORIGINAL at epoch  14  is:  0.9333333373069763 \n",
            "\n",
            "420/420 [==============================] - 10s 23ms/step - loss: 1.5390e-05 - binary_accuracy: 1.0000 - val_loss: 0.8163 - val_binary_accuracy: 0.9333\n",
            "Run:  4 / Accuracy on test ORIGINAL at epoch  15  is:  0.9333333373069763 \n",
            "\n",
            "420/420 [==============================] - 9s 21ms/step - loss: 1.4851e-07 - binary_accuracy: 1.0000 - val_loss: 0.8437 - val_binary_accuracy: 0.9333\n",
            "Run:  4 / Accuracy on test ORIGINAL at epoch  16  is:  0.9333333373069763 \n",
            "\n",
            "420/420 [==============================] - 8s 20ms/step - loss: 7.6268e-07 - binary_accuracy: 1.0000 - val_loss: 0.9083 - val_binary_accuracy: 0.9278\n",
            "Run:  4 / Accuracy on test ORIGINAL at epoch  17  is:  0.9277777671813965 \n",
            "\n",
            "420/420 [==============================] - 8s 19ms/step - loss: 3.2813e-08 - binary_accuracy: 1.0000 - val_loss: 0.7312 - val_binary_accuracy: 0.9389\n",
            "Run:  4 / Accuracy on test ORIGINAL at epoch  18  is:  0.9388889074325562 \n",
            "\n",
            "420/420 [==============================] - 8s 19ms/step - loss: 3.9389e-05 - binary_accuracy: 1.0000 - val_loss: 0.9957 - val_binary_accuracy: 0.8944\n",
            "Run:  4 / Accuracy on test ORIGINAL at epoch  19  is:  0.894444465637207 \n",
            "\n",
            "Accuracies on ORIGINAL over epochs: [0.9111111164093018, 0.9333333373069763, 0.9388889074325562, 0.9444444179534912, 0.9444444179534912, 0.9444444179534912, 0.949999988079071, 0.9444444179534912, 0.9444444179534912, 0.9388889074325562, 0.9388889074325562, 0.9333333373069763, 0.9166666865348816, 0.9166666865348816, 0.9333333373069763, 0.9333333373069763, 0.9333333373069763, 0.9277777671813965, 0.9388889074325562, 0.894444465637207] \n",
            "\n",
            "420/420 [==============================] - 9s 19ms/step - loss: 0.5837 - binary_accuracy: 0.6738 - val_loss: 0.2572 - val_binary_accuracy: 0.9111\n",
            "Run:  5 / Accuracy on test ORIGINAL at epoch  0  is:  0.9111111164093018 \n",
            "\n",
            "420/420 [==============================] - 8s 19ms/step - loss: 0.3326 - binary_accuracy: 0.8929 - val_loss: 0.1894 - val_binary_accuracy: 0.9278\n",
            "Run:  5 / Accuracy on test ORIGINAL at epoch  1  is:  0.9277777671813965 \n",
            "\n",
            "420/420 [==============================] - 11s 26ms/step - loss: 0.2552 - binary_accuracy: 0.9310 - val_loss: 0.1836 - val_binary_accuracy: 0.9389\n",
            "Run:  5 / Accuracy on test ORIGINAL at epoch  2  is:  0.9388889074325562 \n",
            "\n",
            "420/420 [==============================] - 8s 19ms/step - loss: 0.1732 - binary_accuracy: 0.9571 - val_loss: 0.1885 - val_binary_accuracy: 0.9444\n",
            "Run:  5 / Accuracy on test ORIGINAL at epoch  3  is:  0.9444444179534912 \n",
            "\n",
            "420/420 [==============================] - 8s 19ms/step - loss: 0.1409 - binary_accuracy: 0.9690 - val_loss: 0.1904 - val_binary_accuracy: 0.9500\n",
            "Run:  5 / Accuracy on test ORIGINAL at epoch  4  is:  0.949999988079071 \n",
            "\n",
            "420/420 [==============================] - 12s 27ms/step - loss: 0.0946 - binary_accuracy: 0.9833 - val_loss: 0.2374 - val_binary_accuracy: 0.9500\n",
            "Run:  5 / Accuracy on test ORIGINAL at epoch  5  is:  0.949999988079071 \n",
            "\n",
            "420/420 [==============================] - 12s 27ms/step - loss: 0.0760 - binary_accuracy: 0.9857 - val_loss: 0.2609 - val_binary_accuracy: 0.9444\n",
            "Run:  5 / Accuracy on test ORIGINAL at epoch  6  is:  0.9444444179534912 \n",
            "\n",
            "420/420 [==============================] - 28s 67ms/step - loss: 0.0548 - binary_accuracy: 0.9857 - val_loss: 0.2988 - val_binary_accuracy: 0.9444\n",
            "Run:  5 / Accuracy on test ORIGINAL at epoch  7  is:  0.9444444179534912 \n",
            "\n",
            "420/420 [==============================] - 54s 130ms/step - loss: 0.0506 - binary_accuracy: 0.9857 - val_loss: 0.3336 - val_binary_accuracy: 0.9444\n",
            "Run:  5 / Accuracy on test ORIGINAL at epoch  8  is:  0.9444444179534912 \n",
            "\n",
            "420/420 [==============================] - 51s 121ms/step - loss: 0.0400 - binary_accuracy: 0.9881 - val_loss: 0.3580 - val_binary_accuracy: 0.9389\n",
            "Run:  5 / Accuracy on test ORIGINAL at epoch  9  is:  0.9388889074325562 \n",
            "\n",
            "420/420 [==============================] - 51s 121ms/step - loss: 0.0210 - binary_accuracy: 0.9952 - val_loss: 0.4148 - val_binary_accuracy: 0.9333\n",
            "Run:  5 / Accuracy on test ORIGINAL at epoch  10  is:  0.9333333373069763 \n",
            "\n",
            "420/420 [==============================] - 60s 142ms/step - loss: 0.0143 - binary_accuracy: 0.9976 - val_loss: 0.4691 - val_binary_accuracy: 0.9333\n",
            "Run:  5 / Accuracy on test ORIGINAL at epoch  11  is:  0.9333333373069763 \n",
            "\n",
            "420/420 [==============================] - 166s 396ms/step - loss: 0.0054 - binary_accuracy: 0.9976 - val_loss: 0.8935 - val_binary_accuracy: 0.8722\n",
            "Run:  5 / Accuracy on test ORIGINAL at epoch  12  is:  0.8722222447395325 \n",
            "\n",
            "420/420 [==============================] - 79s 189ms/step - loss: 0.0012 - binary_accuracy: 1.0000 - val_loss: 0.5613 - val_binary_accuracy: 0.9333\n",
            "Run:  5 / Accuracy on test ORIGINAL at epoch  13  is:  0.9333333373069763 \n",
            "\n",
            "420/420 [==============================] - 79s 189ms/step - loss: 7.0607e-05 - binary_accuracy: 1.0000 - val_loss: 0.6500 - val_binary_accuracy: 0.9333\n",
            "Run:  5 / Accuracy on test ORIGINAL at epoch  14  is:  0.9333333373069763 \n",
            "\n",
            "420/420 [==============================] - 79s 187ms/step - loss: 2.6750e-06 - binary_accuracy: 1.0000 - val_loss: 0.7381 - val_binary_accuracy: 0.9222\n",
            "Run:  5 / Accuracy on test ORIGINAL at epoch  15  is:  0.9222221970558167 \n",
            "\n",
            "420/420 [==============================] - 80s 190ms/step - loss: 4.6402e-06 - binary_accuracy: 1.0000 - val_loss: 0.9329 - val_binary_accuracy: 0.9333\n",
            "Run:  5 / Accuracy on test ORIGINAL at epoch  16  is:  0.9333333373069763 \n",
            "\n",
            "420/420 [==============================] - 257s 605ms/step - loss: 1.9499e-06 - binary_accuracy: 1.0000 - val_loss: 1.0533 - val_binary_accuracy: 0.9222\n",
            "Run:  5 / Accuracy on test ORIGINAL at epoch  17  is:  0.9222221970558167 \n",
            "\n",
            "420/420 [==============================] - 121s 289ms/step - loss: 8.5185e-07 - binary_accuracy: 1.0000 - val_loss: 0.8678 - val_binary_accuracy: 0.9278\n",
            "Run:  5 / Accuracy on test ORIGINAL at epoch  18  is:  0.9277777671813965 \n",
            "\n",
            "420/420 [==============================] - 8s 19ms/step - loss: 9.6335e-08 - binary_accuracy: 1.0000 - val_loss: 1.1926 - val_binary_accuracy: 0.8944\n",
            "Run:  5 / Accuracy on test ORIGINAL at epoch  19  is:  0.894444465637207 \n",
            "\n",
            "Accuracies on ORIGINAL over epochs: [0.9111111164093018, 0.9277777671813965, 0.9388889074325562, 0.9444444179534912, 0.949999988079071, 0.949999988079071, 0.9444444179534912, 0.9444444179534912, 0.9444444179534912, 0.9388889074325562, 0.9333333373069763, 0.9333333373069763, 0.8722222447395325, 0.9333333373069763, 0.9333333373069763, 0.9222221970558167, 0.9333333373069763, 0.9222221970558167, 0.9277777671813965, 0.894444465637207] \n",
            "\n",
            "\n",
            "\n",
            " Over all runs maximum accuracies on ORIGINAL test set are: [0.949999988079071, 0.949999988079071, 0.949999988079071, 0.949999988079071, 0.949999988079071]\n",
            "The median for English is: 0.949999988079071 \n",
            "\n",
            "\n",
            "\n",
            "CNN Accuracy Score on Original Test set ->  0.949999988079071 +/- 0.0\n"
          ]
        }
      ],
      "source": [
        "tf.random.set_seed(1)\n",
        "\n",
        "runs_accuracy = []\n",
        "\n",
        "for run in range(1,(num_runs+1)):\n",
        "    epochs_accuracy = []\n",
        "    model = tf.keras.Sequential([\n",
        "                                    tf.keras.Input(shape=(1,), dtype=tf.string),\n",
        "                                    vectorize_layer,\n",
        "                                    layers.Embedding(max_features + 1, embedding_dim),                     \n",
        "                                    layers.Dropout(0.8),\n",
        "\n",
        "                                    layers.Conv1D(256,16,activation='relu'),\n",
        "                                    layers.MaxPooling1D(),\n",
        "                                    layers.Dropout(0.6),\n",
        "\n",
        "                                    layers.Dense(512,activation='relu'),\n",
        "                           \n",
        "                                    layers.GlobalAveragePooling1D(),\n",
        "                                    layers.Dropout(0.2),\n",
        "                                    layers.Dense(1)                            \n",
        "    ])\n",
        "    model.compile(loss=losses.BinaryCrossentropy(from_logits=True), optimizer='RMSprop', metrics=tf.metrics.BinaryAccuracy(threshold=0.0)) \n",
        "\n",
        "    for epoch in range (0,num_epochs_per_run):\n",
        "        history = model.fit(\n",
        "          train_ds,\n",
        "          validation_data = test_ds,\n",
        "          epochs=1,\n",
        "          shuffle=False,\n",
        "          # Comment the following line to do not save and download the model.\n",
        "          #callbacks=[callbacks]\n",
        "          )\n",
        "        accuracy = history.history['val_binary_accuracy']\n",
        "        print(\"Run: \",run,\"/ Accuracy on test ORIGINAL at epoch \",epoch,\" is: \", accuracy[0],\"\\n\")\n",
        "        epochs_accuracy.append(accuracy[0])\n",
        "\n",
        "    print(\"Accuracies on ORIGINAL over epochs:\",epochs_accuracy,\"\\n\")\n",
        "    runs_accuracy.append(max(epochs_accuracy))\n",
        "\n",
        "runs_accuracy.sort()\n",
        "print(\"\\n\\n Over all runs maximum accuracies on ORIGINAL test set are:\", runs_accuracy)\n",
        "print(\"The median for English is:\",runs_accuracy[2],\"\\n\\n\\n\")\n",
        "\n",
        "# Final Result on Original Test set\n",
        "if (runs_accuracy[2]-runs_accuracy[0])>(runs_accuracy[4]-runs_accuracy[2]):\n",
        "  max_range_from_median = runs_accuracy[2]-runs_accuracy[0]\n",
        "else:\n",
        "  max_range_from_median = runs_accuracy[4]-runs_accuracy[2]\n",
        "final_result = str(runs_accuracy[2])+\" +/- \"+ str(max_range_from_median)\n",
        "print(\"CNN Accuracy Score on Original Test set -> \",final_result)\n"
      ]
    }
  ],
  "metadata": {
    "accelerator": "GPU",
    "colab": {
      "provenance": [],
      "include_colab_link": true
    },
    "kernelspec": {
      "display_name": "Python 3",
      "name": "python3"
    },
    "gpuClass": "standard"
  },
  "nbformat": 4,
  "nbformat_minor": 0
}