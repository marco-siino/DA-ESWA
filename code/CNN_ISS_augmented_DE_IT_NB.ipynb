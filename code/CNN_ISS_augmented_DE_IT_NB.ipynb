{
  "cells": [
    {
      "cell_type": "markdown",
      "metadata": {
        "id": "view-in-github",
        "colab_type": "text"
      },
      "source": [
        "<a href=\"https://colab.research.google.com/github/marco-siino/DA-ESWA/blob/main/code/CNN_ISS_augmented_DE_IT_NB.ipynb\" target=\"_parent\"><img src=\"https://colab.research.google.com/assets/colab-badge.svg\" alt=\"Open In Colab\"/></a>"
      ]
    },
    {
      "cell_type": "markdown",
      "metadata": {
        "id": "u-hLo5ufkCT1"
      },
      "source": [
        "## Text preprocessing worth the time: A comparative survey on the impact of common techniques on NLP model performances. \n",
        "- - - \n",
        "CNN ON FNS DS EXPERIMENTS NOTEBOOK \n",
        "- - -\n",
        "Convolutional Neural Network on Fake News Spreaders Dataset.\n",
        "Code by M. Siino. \n",
        "\n",
        "From the paper: \"Text preprocessing worth the time: A comparative survey on the impact of common techniques on NLP model performances.\" by M.Siino et al.\n",
        "\n"
      ]
    },
    {
      "cell_type": "markdown",
      "metadata": {
        "id": "6IBqUcj4cx2G"
      },
      "source": [
        "## Importing modules."
      ]
    },
    {
      "cell_type": "code",
      "execution_count": 3,
      "metadata": {
        "id": "AQSunQ-ucjLX"
      },
      "outputs": [],
      "source": [
        "import matplotlib.pyplot as plt\n",
        "import os\n",
        "import random\n",
        "import re\n",
        "import shutil\n",
        "import string\n",
        "import tensorflow as tf\n",
        "\n",
        "import numpy as np\n",
        "\n",
        "from tensorflow.keras import layers\n",
        "from tensorflow.keras import losses\n",
        "from tensorflow.keras import preprocessing\n",
        "from keras.models import Model\n",
        "from tensorflow.keras.layers.experimental.preprocessing import TextVectorization\n",
        "\n",
        "os.environ['TF_CUDNN_DETERMINISTIC']='true'\n",
        "os.environ['TF_DETERMINISTIC_OPS']='true'"
      ]
    },
    {
      "cell_type": "markdown",
      "metadata": {
        "id": "0QHd_fxmHCfa"
      },
      "source": [
        "## Importing DS and extract in current working directory."
      ]
    },
    {
      "cell_type": "code",
      "execution_count": 4,
      "metadata": {
        "id": "ocYMUXaY8r0_",
        "colab": {
          "base_uri": "https://localhost:8080/"
        },
        "outputId": "2d5f0a78-4fef-45cc-e8de-b5a84fd9e3e8"
      },
      "outputs": [
        {
          "output_type": "stream",
          "name": "stdout",
          "text": [
            "Downloading data from https://github.com/marco-siino/DA-ESWA/raw/main/data/iss/iss-training-augmented-de-it.zip\n",
            "14016241/14016241 [==============================] - 0s 0us/step\n",
            "Downloading data from https://github.com/marco-siino/DA-ESWA/raw/main/data/iss/iss-test-original.zip\n",
            "2398412/2398412 [==============================] - 0s 0us/step\n",
            "training_set ./pan22-author-profiling-training-2022-03-29-augmented.zip\n",
            "training_set_dir ./pan22-author-profiling-training-2022-03-29-augmented\n",
            "####\n",
            "test_set_dir ./pan22-author-profiling-test-2022-04-22-without_truth\n",
            "####\n",
            ".config\n",
            "iss-test-original\n",
            "pan22-author-profiling-test-2022-04-22-without_truth.zip\n",
            "pan22-author-profiling-training-2022-03-29-augmented\n",
            "pan22-author-profiling-training-2022-03-29-augmented.zip\n",
            "sample_data\n"
          ]
        }
      ],
      "source": [
        "# Url obtained starting from this: https://drive.google.com/file/d/19ZcqEv88euKB71HfAWjTGN3uCKp2qsfP/ and forcing export=download.\n",
        "urlTrainingSet = \"https://github.com/marco-siino/DA-ESWA/raw/main/data/iss/iss-training-augmented-de-it.zip\"\n",
        "\n",
        "urlTestSet=\"https://github.com/marco-siino/DA-ESWA/raw/main/data/iss/iss-test-original.zip\"\n",
        "\n",
        "training_set = tf.keras.utils.get_file(\"pan22-author-profiling-training-2022-03-29-augmented.zip\", urlTrainingSet,\n",
        "                                   extract=True, archive_format='zip',cache_dir='.',\n",
        "                                   cache_subdir='')\n",
        "\n",
        "test_set = tf.keras.utils.get_file(\"pan22-author-profiling-test-2022-04-22-without_truth.zip\", urlTestSet,\n",
        "                                    extract=True, archive_format='zip',cache_dir='.',\n",
        "                                    cache_subdir='')\n",
        "\n",
        "training_set_dir = os.path.join(os.path.dirname(training_set), 'pan22-author-profiling-training-2022-03-29-augmented')\n",
        "test_set_dir = os.path.join(os.path.dirname(test_set), 'pan22-author-profiling-test-2022-04-22-without_truth')\n",
        "print('training_set',training_set)\n",
        "print('training_set_dir',training_set_dir)\n",
        "print('####')\n",
        "print('test_set_dir',test_set_dir)\n",
        "print('####')\n",
        "!ls -A\n",
        "\n"
      ]
    },
    {
      "cell_type": "markdown",
      "metadata": {
        "id": "uTJi1fbT_Rup"
      },
      "source": [
        "## Build folders hierarchy to use Keras folders preprocessing function.\n",
        "\n"
      ]
    },
    {
      "cell_type": "code",
      "execution_count": 5,
      "metadata": {
        "id": "FyafvXEMhEKw",
        "colab": {
          "base_uri": "https://localhost:8080/"
        },
        "outputId": "aeb5c3a8-d69f-4b5b-8d21-3e6c569477cd"
      },
      "outputs": [
        {
          "output_type": "stream",
          "name": "stdout",
          "text": [
            ".config\n",
            "iss-test-original\n",
            "pan22-author-profiling-test-2022-04-22-without_truth.zip\n",
            "pan22-author-profiling-training-2022-03-29-augmented\n",
            "pan22-author-profiling-training-2022-03-29-augmented.zip\n",
            "sample_data\n",
            "test_dir_en\n",
            "train_dir_en\n"
          ]
        }
      ],
      "source": [
        "### Training Folders. ###\n",
        "\n",
        "# First level directory.\n",
        "if not os.path.exists('train_dir_en'):\n",
        "    os.makedirs('train_dir_en')\n",
        "\n",
        "# Class labels directory.\n",
        "if not os.path.exists('train_dir_en/0'):\n",
        "    os.makedirs('train_dir_en/0')\n",
        "if not os.path.exists('train_dir_en/1'):\n",
        "    os.makedirs('train_dir_en/1')\n",
        "\n",
        "# Make Py variables.\n",
        "train_dir='train_dir_'\n",
        "\n",
        "## Test Folders. ##\n",
        "# First level directory.\n",
        "if not os.path.exists('test_dir_en'):\n",
        "    os.makedirs('test_dir_en')\n",
        "\n",
        "# Class labels directory.\n",
        "if not os.path.exists('test_dir_en/0'):\n",
        "    os.makedirs('test_dir_en/0')\n",
        "if not os.path.exists('test_dir_en/1'):\n",
        "    os.makedirs('test_dir_en/1')\n",
        "\n",
        "# Make Py variables.\n",
        "test_dir='test_dir_'\n",
        "\n",
        "!ls -A"
      ]
    },
    {
      "cell_type": "markdown",
      "source": [
        "## Set language and directory paths."
      ],
      "metadata": {
        "id": "-6c28Rdo8zGn"
      }
    },
    {
      "cell_type": "code",
      "source": [
        "# Set en and es ground truth file path for train_dir. We haven't a ground truth file for the test set.\n",
        "language='en'\n",
        "\n",
        "truth_file_training_dir_en = training_set_dir  +'/' + language  #samples training\n",
        "truth_file_training_path_en = training_set_dir +'/'+ 'truth.txt'   #train truth file\n",
        "print('truth_file_training_dir_en', truth_file_training_dir_en)\n",
        "print('truth_file_training_path_en', truth_file_training_path_en)\n",
        "\n",
        "truth_file_test_dir = test_set_dir +'/'+language+'/'  #tutti i sample\n",
        "truth_file_test_path_en = test_set_dir + '/'+ 'truth'+'.txt'  #path to truth file\n",
        "print('truth_file_test_dir', truth_file_test_dir)\n",
        "print('truth_file_training_dir_en', truth_file_test_path_en)"
      ],
      "metadata": {
        "id": "ANr_dCj-8yvD",
        "colab": {
          "base_uri": "https://localhost:8080/"
        },
        "outputId": "f736ae61-7874-4e54-cbbf-2193019e42a7"
      },
      "execution_count": 6,
      "outputs": [
        {
          "output_type": "stream",
          "name": "stdout",
          "text": [
            "truth_file_training_dir_en ./pan22-author-profiling-training-2022-03-29-augmented/en\n",
            "truth_file_training_path_en ./pan22-author-profiling-training-2022-03-29-augmented/truth.txt\n",
            "truth_file_test_dir ./pan22-author-profiling-test-2022-04-22-without_truth/en/\n",
            "truth_file_training_dir_en ./pan22-author-profiling-test-2022-04-22-without_truth/truth.txt\n"
          ]
        }
      ]
    },
    {
      "cell_type": "markdown",
      "source": [
        "## Read truth.txt to organize training and test dataset folders."
      ],
      "metadata": {
        "id": "VU6PtNMZ864o"
      }
    },
    {
      "cell_type": "code",
      "source": [
        "# Open the file truth.txt with read only permit.\n",
        "f = open('/content/pan22-author-profiling-training-2022-03-29-augmented/en/truth.txt' , \"r\")\n",
        "# use readline() to read the first line \n",
        "line = f.readline()\n",
        "# use the read line to read further.\n",
        "# If the file is not empty keep reading one line\n",
        "# at a time, till the file is empty\n",
        "while line:\n",
        "    # Split line at :::\n",
        "    x = line.split(\":::\")\n",
        "    fNameXml = x[0]+'.xml'\n",
        "    fNameTxt = x[0]+'.txt'\n",
        "    # Second coord [0] gets just the first character (label) and not /n too.\n",
        "    label = x[1][0]\n",
        "    #print('label',label)\n",
        "    if label == 'I':\n",
        "      label = '1'\n",
        "    elif label == 'N':\n",
        "      label = '0'\n",
        "\n",
        "    # Now move the file to the right folder.\n",
        "    if os.path.exists('/content/pan22-author-profiling-training-2022-03-29-augmented/en' +'/'+ fNameXml):\n",
        "      os.rename('/content/pan22-author-profiling-training-2022-03-29-augmented/en' +'/'+ fNameXml, \n",
        "                './train_dir_'+language+'/'+label+'/'+fNameTxt )\n",
        "\n",
        "    # use readline() to read next line\n",
        "    line = f.readline()\n",
        "\n",
        "# Open the file truth.txt with read only permit.\n",
        "#f = open(truth_file_test_path_en, \"r\")\n",
        "f = open('/content/iss-test-original/pan22-author-profiling-test-2022-04-22-without_truth/truth.txt', \"r\")\n",
        "# use readline() to read the first line \n",
        "line = f.readline()\n",
        "# use the read line to read further.\n",
        "# If the file is not empty keep reading one line\n",
        "# at a time, till the file is empty\n",
        "while line:\n",
        "    # Split line at :::\n",
        "    #print(line)\n",
        "    x = line.split(\":::\")\n",
        "    fNameXml = x[0]+'.xml'\n",
        "    fNameTxt = x[0]+'.txt'\n",
        "    # Second coord [0] gets just the first character (label) and not /n too.\n",
        "    label = x[1][0]\n",
        "    if label == 'I':\n",
        "      label = '1'\n",
        "    elif label == 'N':\n",
        "      label = '0'\n",
        "    # Now move the file to the right folder.\n",
        "    #print(truth_file_test_dir+fNameXml)\n",
        "    if os.path.exists('/content/iss-test-original/pan22-author-profiling-test-2022-04-22-without_truth/en/'+fNameXml):\n",
        "      #print('path exist')\n",
        "      os.rename('/content/iss-test-original/pan22-author-profiling-test-2022-04-22-without_truth/en/'+fNameXml, \n",
        "                './test_dir_'+language+'/'+label+'/'+fNameTxt)\n",
        "\n",
        "    # use readline() to read next line\n",
        "    line = f.readline()"
      ],
      "metadata": {
        "id": "iW2UF_SH87TX"
      },
      "execution_count": 7,
      "outputs": []
    },
    {
      "cell_type": "markdown",
      "source": [
        "## Generate full training set."
      ],
      "metadata": {
        "id": "4vskGJeX9GqJ"
      }
    },
    {
      "cell_type": "code",
      "source": [
        "# Generate full randomized training set.\n",
        "batch_size=1\n",
        "\n",
        "en_train_ds = tf.keras.preprocessing.text_dataset_from_directory(\n",
        "    train_dir+language, \n",
        "    batch_size=batch_size,\n",
        "    shuffle=False\n",
        "    )\n",
        "\n",
        "en_test_ds = tf.keras.preprocessing.text_dataset_from_directory(\n",
        "    test_dir+language, \n",
        "    batch_size=batch_size,\n",
        "    shuffle=False\n",
        "    )\n",
        "\n",
        "train_ds=en_train_ds.shuffle(300,seed=1, reshuffle_each_iteration=False)\n",
        "test_ds=en_test_ds.shuffle(200,seed=1, reshuffle_each_iteration=False)\n",
        "\n",
        "train_ds_size=len(train_ds)\n",
        "test_ds_size=len(test_ds)"
      ],
      "metadata": {
        "colab": {
          "base_uri": "https://localhost:8080/"
        },
        "id": "UOqIc_Sm9HGX",
        "outputId": "3d0b34a5-cdd7-4a85-99e7-0400246a2a82"
      },
      "execution_count": 8,
      "outputs": [
        {
          "output_type": "stream",
          "name": "stdout",
          "text": [
            "Found 420 files belonging to 2 classes.\n",
            "Found 180 files belonging to 2 classes.\n"
          ]
        }
      ]
    },
    {
      "cell_type": "markdown",
      "metadata": {
        "id": "ITouXXtQ8WzV"
      },
      "source": [
        "## Functions to pre-process source text. (A detailed discussion on our paper)"
      ]
    },
    {
      "cell_type": "code",
      "execution_count": 9,
      "metadata": {
        "id": "bDPIqAgXYWim"
      },
      "outputs": [],
      "source": [
        "# Do-Nothing preprocessing function.\n",
        "def DON(input_data):\n",
        "  tag_open_CDATA_removed = tf.strings.regex_replace(input_data, '<\\!\\[CDATA\\[', ' ')\n",
        "  tag_closed_CDATA_removed = tf.strings.regex_replace(tag_open_CDATA_removed,'\\]{1,}>', ' ')\n",
        "  tag_author_lang_en_removed = tf.strings.regex_replace(tag_closed_CDATA_removed,'<author lang=\"en\">', ' ')\n",
        "  tag_closed_author_removed = tf.strings.regex_replace(tag_author_lang_en_removed,'</author>', ' ')\n",
        "  tag_open_documents_removed = tf.strings.regex_replace(tag_closed_author_removed,'<documents>\\n(\\t){0,2}', '')\n",
        "  output_data = tf.strings.regex_replace(tag_open_documents_removed,'</documents>\\n(\\t){0,2}', ' ')\n",
        "  return output_data"
      ]
    },
    {
      "cell_type": "markdown",
      "metadata": {
        "id": "TjUnE9_DEyCw"
      },
      "source": [
        "## Get the length of the longest sample in training set. Then adapt text.\n",
        "\n"
      ]
    },
    {
      "cell_type": "code",
      "execution_count": 17,
      "metadata": {
        "id": "ebRMQqa_mr48"
      },
      "outputs": [],
      "source": [
        "def preprocess_and_adapt_ts(preprocessing_function,training_set):\n",
        "  # Set a large sequence length to find the longest sample in the training set.\n",
        "  sequence_length = 20000\n",
        "  vectorize_layer = TextVectorization(\n",
        "      standardize=preprocessing_function,\n",
        "      output_mode='int',\n",
        "      output_sequence_length=sequence_length)\n",
        "\n",
        "  train_text = training_set.map(lambda x, y: x)\n",
        "  vectorize_layer.adapt(train_text)\n",
        "  #vectorize_layer.get_vocabulary()\n",
        "\n",
        "  model = tf.keras.models.Sequential()\n",
        "  model.add(tf.keras.Input(shape=(1,), dtype=tf.string))\n",
        "  model.add(vectorize_layer)\n",
        "\n",
        "  longest_sample_length=1\n",
        "\n",
        "  for element in training_set:\n",
        "    authorDocument=element[0]\n",
        "    label=element[1]\n",
        "    \n",
        "    #print(\"Sample considered is: \", authorDocument[0].numpy())\n",
        "    #print(\"Preprocessed: \", str(custom_standardization(authorDocument[0].numpy())))\n",
        "    #print(\"And has label: \", label[0].numpy())\n",
        "\n",
        "    out=model(authorDocument)\n",
        "    # Convert token list to numpy array.\n",
        "    token_list = out.numpy()[0]\n",
        "    token_list = np.trim_zeros(token_list,'b')\n",
        "    if longest_sample_length < len(token_list):\n",
        "      longest_sample_length = len(token_list)\n",
        "\n",
        "  print(\"Length of the longest sample is:\", longest_sample_length)\n",
        "\n",
        "  # After tokenization longest_sample_length covers all the document lenghts in our dataset.\n",
        "  sequence_length = longest_sample_length\n",
        "\n",
        "  vectorize_layer = TextVectorization(\n",
        "      standardize=preprocessing_function,\n",
        "      output_mode='int',\n",
        "      output_sequence_length=sequence_length)\n",
        "\n",
        "  # Finally adapt the vectorize layer.\n",
        "  train_text = training_set.map(lambda x, y: x)\n",
        "  vectorize_layer.adapt(train_text)\n",
        "  return vectorize_layer"
      ]
    },
    {
      "cell_type": "markdown",
      "metadata": {
        "id": "x8zDXrk9eEy5"
      },
      "source": [
        "## Define a dictionary with -> function_names:prepro_function_caller. And a dictionary to store model results.\n",
        "\n",
        "\n"
      ]
    },
    {
      "cell_type": "code",
      "execution_count": 18,
      "metadata": {
        "id": "P8owxNMIeFsX",
        "colab": {
          "base_uri": "https://localhost:8080/"
        },
        "outputId": "c6ecce52-9cc2-4cc6-890a-13e3a03335b2"
      },
      "outputs": [
        {
          "output_type": "stream",
          "name": "stdout",
          "text": [
            "DON\n"
          ]
        }
      ],
      "source": [
        "model_results = {}\n",
        "prepro_functions_dict_base = {\n",
        "    'DON':DON,\n",
        "    }\n",
        "\n",
        "# 3 prepro functions = 15 combs...+1 for do_nothing\n",
        "\n",
        "prepro_functions_dict_comb = {\n",
        "    # 1. Do nothing \n",
        "    'DON': DON,\n",
        "}\n",
        "\n",
        "for key in prepro_functions_dict_comb:\n",
        "  print(key)\n",
        "  model_results[key]=[]"
      ]
    },
    {
      "cell_type": "markdown",
      "source": [
        "## Some training hyperparameters..."
      ],
      "metadata": {
        "id": "RF7pJkGJ3bHT"
      }
    },
    {
      "cell_type": "code",
      "source": [
        "# Word embedding dimensions.\n",
        "embedding_dim = 100\n",
        "\n",
        "num_runs = 5 \n",
        "# No need to go over the 20th epoch...Overfitting begins.\n",
        "num_epochs_per_run = 20\n",
        "\n",
        "#opt = tf.keras.optimizers.RMSprop()"
      ],
      "metadata": {
        "id": "ocHligxS3mVn"
      },
      "execution_count": 19,
      "outputs": []
    },
    {
      "cell_type": "markdown",
      "metadata": {
        "id": "XDEi7MAo4qsQ"
      },
      "source": [
        "## Models definition and evaluation.\n",
        "\n",
        "\n"
      ]
    },
    {
      "cell_type": "code",
      "execution_count": 20,
      "metadata": {
        "colab": {
          "base_uri": "https://localhost:8080/"
        },
        "id": "Mm1fdCpETWL-",
        "outputId": "a762f864-be58-47fc-d440-dfb728e23390"
      },
      "outputs": [
        {
          "output_type": "stream",
          "name": "stdout",
          "text": [
            "\n",
            "\n",
            "* * * * EVALUATION USING DON AS PREPROCESSING FUNCTION * * * *\n",
            "Length of the longest sample is: 20000\n",
            "Vocabulary size is: 259004\n",
            "420/420 [==============================] - 117s 274ms/step - loss: 0.6130 - binary_accuracy: 0.6500 - val_loss: 1.6888 - val_binary_accuracy: 0.5000\n",
            "Run:  1 / Accuracy at epoch  0  is:  0.5 \n",
            "\n",
            "420/420 [==============================] - 48s 115ms/step - loss: 0.3219 - binary_accuracy: 0.8762 - val_loss: 2.3837 - val_binary_accuracy: 0.5000\n",
            "Run:  1 / Accuracy at epoch  1  is:  0.5 \n",
            "\n",
            "420/420 [==============================] - 49s 115ms/step - loss: 0.2125 - binary_accuracy: 0.9214 - val_loss: 3.2188 - val_binary_accuracy: 0.5000\n",
            "Run:  1 / Accuracy at epoch  2  is:  0.5 \n",
            "\n",
            "420/420 [==============================] - 49s 116ms/step - loss: 0.1452 - binary_accuracy: 0.9619 - val_loss: 4.4627 - val_binary_accuracy: 0.5000\n",
            "Run:  1 / Accuracy at epoch  3  is:  0.5 \n",
            "\n",
            "420/420 [==============================] - 48s 115ms/step - loss: 0.1190 - binary_accuracy: 0.9810 - val_loss: 5.2657 - val_binary_accuracy: 0.5000\n",
            "Run:  1 / Accuracy at epoch  4  is:  0.5 \n",
            "\n",
            "420/420 [==============================] - 49s 116ms/step - loss: 0.0876 - binary_accuracy: 0.9857 - val_loss: 4.9112 - val_binary_accuracy: 0.5000\n",
            "Run:  1 / Accuracy at epoch  5  is:  0.5 \n",
            "\n",
            "420/420 [==============================] - 49s 116ms/step - loss: 0.0766 - binary_accuracy: 0.9905 - val_loss: 4.6143 - val_binary_accuracy: 0.5056\n",
            "Run:  1 / Accuracy at epoch  6  is:  0.5055555701255798 \n",
            "\n",
            "420/420 [==============================] - 49s 115ms/step - loss: 0.0675 - binary_accuracy: 0.9905 - val_loss: 5.1006 - val_binary_accuracy: 0.5056\n",
            "Run:  1 / Accuracy at epoch  7  is:  0.5055555701255798 \n",
            "\n",
            "420/420 [==============================] - 49s 115ms/step - loss: 0.0545 - binary_accuracy: 0.9929 - val_loss: 5.7633 - val_binary_accuracy: 0.5111\n",
            "Run:  1 / Accuracy at epoch  8  is:  0.5111111402511597 \n",
            "\n",
            "420/420 [==============================] - 48s 115ms/step - loss: 0.0469 - binary_accuracy: 0.9929 - val_loss: 6.3011 - val_binary_accuracy: 0.5111\n",
            "Run:  1 / Accuracy at epoch  9  is:  0.5111111402511597 \n",
            "\n",
            "420/420 [==============================] - 49s 116ms/step - loss: 0.0220 - binary_accuracy: 0.9976 - val_loss: 7.4655 - val_binary_accuracy: 0.5056\n",
            "Run:  1 / Accuracy at epoch  10  is:  0.5055555701255798 \n",
            "\n",
            "420/420 [==============================] - 49s 116ms/step - loss: 0.0159 - binary_accuracy: 0.9976 - val_loss: 7.0086 - val_binary_accuracy: 0.5111\n",
            "Run:  1 / Accuracy at epoch  11  is:  0.5111111402511597 \n",
            "\n",
            "420/420 [==============================] - 48s 115ms/step - loss: 1.2958e-04 - binary_accuracy: 1.0000 - val_loss: 8.6807 - val_binary_accuracy: 0.5056\n",
            "Run:  1 / Accuracy at epoch  12  is:  0.5055555701255798 \n",
            "\n",
            "420/420 [==============================] - 48s 114ms/step - loss: 1.3666e-04 - binary_accuracy: 1.0000 - val_loss: 9.6379 - val_binary_accuracy: 0.5000\n",
            "Run:  1 / Accuracy at epoch  13  is:  0.5 \n",
            "\n",
            "420/420 [==============================] - 48s 114ms/step - loss: 5.9329e-05 - binary_accuracy: 1.0000 - val_loss: 8.3909 - val_binary_accuracy: 0.5111\n",
            "Run:  1 / Accuracy at epoch  14  is:  0.5111111402511597 \n",
            "\n",
            "420/420 [==============================] - 48s 115ms/step - loss: 3.5833e-05 - binary_accuracy: 1.0000 - val_loss: 8.9690 - val_binary_accuracy: 0.5000\n",
            "Run:  1 / Accuracy at epoch  15  is:  0.5 \n",
            "\n",
            "420/420 [==============================] - 48s 114ms/step - loss: 6.4595e-05 - binary_accuracy: 1.0000 - val_loss: 9.7932 - val_binary_accuracy: 0.5000\n",
            "Run:  1 / Accuracy at epoch  16  is:  0.5 \n",
            "\n",
            "420/420 [==============================] - 48s 114ms/step - loss: 3.3490e-05 - binary_accuracy: 1.0000 - val_loss: 7.8984 - val_binary_accuracy: 0.5111\n",
            "Run:  1 / Accuracy at epoch  17  is:  0.5111111402511597 \n",
            "\n",
            "420/420 [==============================] - 48s 115ms/step - loss: 1.1549e-05 - binary_accuracy: 1.0000 - val_loss: 9.0122 - val_binary_accuracy: 0.5056\n",
            "Run:  1 / Accuracy at epoch  18  is:  0.5055555701255798 \n",
            "\n",
            "420/420 [==============================] - 48s 115ms/step - loss: 2.5303e-05 - binary_accuracy: 1.0000 - val_loss: 9.2839 - val_binary_accuracy: 0.5056\n",
            "Run:  1 / Accuracy at epoch  19  is:  0.5055555701255798 \n",
            "\n",
            "Accuracies over epochs: [0.5, 0.5, 0.5, 0.5, 0.5, 0.5, 0.5055555701255798, 0.5055555701255798, 0.5111111402511597, 0.5111111402511597, 0.5055555701255798, 0.5111111402511597, 0.5055555701255798, 0.5, 0.5111111402511597, 0.5, 0.5, 0.5111111402511597, 0.5055555701255798, 0.5055555701255798] \n",
            "\n",
            "\n",
            "420/420 [==============================] - 92s 215ms/step - loss: 0.6202 - binary_accuracy: 0.6429 - val_loss: 1.4328 - val_binary_accuracy: 0.5000\n",
            "Run:  2 / Accuracy at epoch  0  is:  0.5 \n",
            "\n",
            "420/420 [==============================] - 48s 115ms/step - loss: 0.3246 - binary_accuracy: 0.8714 - val_loss: 2.4504 - val_binary_accuracy: 0.5000\n",
            "Run:  2 / Accuracy at epoch  1  is:  0.5 \n",
            "\n",
            "420/420 [==============================] - 48s 115ms/step - loss: 0.2116 - binary_accuracy: 0.9143 - val_loss: 3.3338 - val_binary_accuracy: 0.5000\n",
            "Run:  2 / Accuracy at epoch  2  is:  0.5 \n",
            "\n",
            "420/420 [==============================] - 49s 116ms/step - loss: 0.1424 - binary_accuracy: 0.9619 - val_loss: 4.1798 - val_binary_accuracy: 0.5000\n",
            "Run:  2 / Accuracy at epoch  3  is:  0.5 \n",
            "\n",
            "420/420 [==============================] - 48s 115ms/step - loss: 0.1045 - binary_accuracy: 0.9810 - val_loss: 5.5498 - val_binary_accuracy: 0.5000\n",
            "Run:  2 / Accuracy at epoch  4  is:  0.5 \n",
            "\n",
            "420/420 [==============================] - 48s 115ms/step - loss: 0.0923 - binary_accuracy: 0.9810 - val_loss: 4.7295 - val_binary_accuracy: 0.5000\n",
            "Run:  2 / Accuracy at epoch  5  is:  0.5 \n",
            "\n",
            "420/420 [==============================] - 48s 114ms/step - loss: 0.0816 - binary_accuracy: 0.9905 - val_loss: 5.7664 - val_binary_accuracy: 0.5000\n",
            "Run:  2 / Accuracy at epoch  6  is:  0.5 \n",
            "\n",
            "420/420 [==============================] - 48s 114ms/step - loss: 0.0636 - binary_accuracy: 0.9905 - val_loss: 5.6863 - val_binary_accuracy: 0.5000\n",
            "Run:  2 / Accuracy at epoch  7  is:  0.5 \n",
            "\n",
            "420/420 [==============================] - 48s 115ms/step - loss: 0.0517 - binary_accuracy: 0.9929 - val_loss: 4.9985 - val_binary_accuracy: 0.5111\n",
            "Run:  2 / Accuracy at epoch  8  is:  0.5111111402511597 \n",
            "\n",
            "420/420 [==============================] - 48s 113ms/step - loss: 0.0454 - binary_accuracy: 0.9952 - val_loss: 6.0676 - val_binary_accuracy: 0.5111\n",
            "Run:  2 / Accuracy at epoch  9  is:  0.5111111402511597 \n",
            "\n",
            "420/420 [==============================] - 49s 117ms/step - loss: 0.0363 - binary_accuracy: 0.9952 - val_loss: 7.1402 - val_binary_accuracy: 0.5000\n",
            "Run:  2 / Accuracy at epoch  10  is:  0.5 \n",
            "\n",
            "420/420 [==============================] - 49s 116ms/step - loss: 0.0289 - binary_accuracy: 0.9976 - val_loss: 8.5624 - val_binary_accuracy: 0.5000\n",
            "Run:  2 / Accuracy at epoch  11  is:  0.5 \n",
            "\n",
            "420/420 [==============================] - 48s 113ms/step - loss: 0.0157 - binary_accuracy: 0.9976 - val_loss: 7.6467 - val_binary_accuracy: 0.5000\n",
            "Run:  2 / Accuracy at epoch  12  is:  0.5 \n",
            "\n",
            "420/420 [==============================] - 48s 113ms/step - loss: 7.8928e-04 - binary_accuracy: 1.0000 - val_loss: 6.8559 - val_binary_accuracy: 0.5111\n",
            "Run:  2 / Accuracy at epoch  13  is:  0.5111111402511597 \n",
            "\n",
            "420/420 [==============================] - 48s 113ms/step - loss: 0.0018 - binary_accuracy: 1.0000 - val_loss: 9.3547 - val_binary_accuracy: 0.5000\n",
            "Run:  2 / Accuracy at epoch  14  is:  0.5 \n",
            "\n",
            "420/420 [==============================] - 49s 116ms/step - loss: 1.9159e-04 - binary_accuracy: 1.0000 - val_loss: 7.1591 - val_binary_accuracy: 0.5111\n",
            "Run:  2 / Accuracy at epoch  15  is:  0.5111111402511597 \n",
            "\n",
            "420/420 [==============================] - 48s 114ms/step - loss: 1.4740e-05 - binary_accuracy: 1.0000 - val_loss: 8.1772 - val_binary_accuracy: 0.5000\n",
            "Run:  2 / Accuracy at epoch  16  is:  0.5 \n",
            "\n",
            "420/420 [==============================] - 48s 114ms/step - loss: 1.7687e-05 - binary_accuracy: 1.0000 - val_loss: 7.3768 - val_binary_accuracy: 0.5111\n",
            "Run:  2 / Accuracy at epoch  17  is:  0.5111111402511597 \n",
            "\n",
            "420/420 [==============================] - 49s 116ms/step - loss: 2.2491e-05 - binary_accuracy: 1.0000 - val_loss: 9.2993 - val_binary_accuracy: 0.5000\n",
            "Run:  2 / Accuracy at epoch  18  is:  0.5 \n",
            "\n",
            "420/420 [==============================] - 48s 115ms/step - loss: 1.0703e-05 - binary_accuracy: 1.0000 - val_loss: 8.7622 - val_binary_accuracy: 0.5056\n",
            "Run:  2 / Accuracy at epoch  19  is:  0.5055555701255798 \n",
            "\n",
            "Accuracies over epochs: [0.5, 0.5, 0.5, 0.5, 0.5, 0.5, 0.5, 0.5, 0.5111111402511597, 0.5111111402511597, 0.5, 0.5, 0.5, 0.5111111402511597, 0.5, 0.5111111402511597, 0.5, 0.5111111402511597, 0.5, 0.5055555701255798] \n",
            "\n",
            "\n",
            "420/420 [==============================] - 92s 215ms/step - loss: 0.6278 - binary_accuracy: 0.6190 - val_loss: 1.5489 - val_binary_accuracy: 0.5000\n",
            "Run:  3 / Accuracy at epoch  0  is:  0.5 \n",
            "\n",
            "420/420 [==============================] - 48s 115ms/step - loss: 0.3400 - binary_accuracy: 0.8667 - val_loss: 2.4751 - val_binary_accuracy: 0.5000\n",
            "Run:  3 / Accuracy at epoch  1  is:  0.5 \n",
            "\n",
            "420/420 [==============================] - 48s 114ms/step - loss: 0.2156 - binary_accuracy: 0.9119 - val_loss: 3.4545 - val_binary_accuracy: 0.5000\n",
            "Run:  3 / Accuracy at epoch  2  is:  0.5 \n",
            "\n",
            "420/420 [==============================] - 48s 114ms/step - loss: 0.1564 - binary_accuracy: 0.9548 - val_loss: 4.9523 - val_binary_accuracy: 0.5000\n",
            "Run:  3 / Accuracy at epoch  3  is:  0.5 \n",
            "\n",
            "420/420 [==============================] - 48s 114ms/step - loss: 0.1097 - binary_accuracy: 0.9786 - val_loss: 5.4065 - val_binary_accuracy: 0.5000\n",
            "Run:  3 / Accuracy at epoch  4  is:  0.5 \n",
            "\n",
            "420/420 [==============================] - 48s 114ms/step - loss: 0.0952 - binary_accuracy: 0.9881 - val_loss: 4.9033 - val_binary_accuracy: 0.5000\n",
            "Run:  3 / Accuracy at epoch  5  is:  0.5 \n",
            "\n",
            "420/420 [==============================] - 48s 114ms/step - loss: 0.0810 - binary_accuracy: 0.9905 - val_loss: 5.1735 - val_binary_accuracy: 0.5000\n",
            "Run:  3 / Accuracy at epoch  6  is:  0.5 \n",
            "\n",
            "420/420 [==============================] - 48s 114ms/step - loss: 0.0622 - binary_accuracy: 0.9929 - val_loss: 4.8122 - val_binary_accuracy: 0.5056\n",
            "Run:  3 / Accuracy at epoch  7  is:  0.5055555701255798 \n",
            "\n",
            "420/420 [==============================] - 48s 115ms/step - loss: 0.0599 - binary_accuracy: 0.9881 - val_loss: 5.4982 - val_binary_accuracy: 0.5056\n",
            "Run:  3 / Accuracy at epoch  8  is:  0.5055555701255798 \n",
            "\n",
            "420/420 [==============================] - 48s 115ms/step - loss: 0.0321 - binary_accuracy: 0.9952 - val_loss: 6.5890 - val_binary_accuracy: 0.5000\n",
            "Run:  3 / Accuracy at epoch  9  is:  0.5 \n",
            "\n",
            "420/420 [==============================] - 48s 115ms/step - loss: 0.0241 - binary_accuracy: 0.9976 - val_loss: 7.3718 - val_binary_accuracy: 0.5000\n",
            "Run:  3 / Accuracy at epoch  10  is:  0.5 \n",
            "\n",
            "420/420 [==============================] - 48s 113ms/step - loss: 0.0021 - binary_accuracy: 1.0000 - val_loss: 7.7251 - val_binary_accuracy: 0.5000\n",
            "Run:  3 / Accuracy at epoch  11  is:  0.5 \n",
            "\n",
            "420/420 [==============================] - 48s 115ms/step - loss: 0.0011 - binary_accuracy: 1.0000 - val_loss: 8.1112 - val_binary_accuracy: 0.5056\n",
            "Run:  3 / Accuracy at epoch  12  is:  0.5055555701255798 \n",
            "\n",
            "420/420 [==============================] - 49s 115ms/step - loss: 7.2609e-05 - binary_accuracy: 1.0000 - val_loss: 8.0874 - val_binary_accuracy: 0.5056\n",
            "Run:  3 / Accuracy at epoch  13  is:  0.5055555701255798 \n",
            "\n",
            "420/420 [==============================] - 48s 113ms/step - loss: 9.9371e-04 - binary_accuracy: 1.0000 - val_loss: 6.6291 - val_binary_accuracy: 0.5111\n",
            "Run:  3 / Accuracy at epoch  14  is:  0.5111111402511597 \n",
            "\n",
            "420/420 [==============================] - 48s 114ms/step - loss: 9.2821e-05 - binary_accuracy: 1.0000 - val_loss: 7.2871 - val_binary_accuracy: 0.5111\n",
            "Run:  3 / Accuracy at epoch  15  is:  0.5111111402511597 \n",
            "\n",
            "420/420 [==============================] - 48s 114ms/step - loss: 5.6639e-05 - binary_accuracy: 1.0000 - val_loss: 9.0368 - val_binary_accuracy: 0.5000\n",
            "Run:  3 / Accuracy at epoch  16  is:  0.5 \n",
            "\n",
            "420/420 [==============================] - 48s 114ms/step - loss: 2.5113e-05 - binary_accuracy: 1.0000 - val_loss: 8.0426 - val_binary_accuracy: 0.5111\n",
            "Run:  3 / Accuracy at epoch  17  is:  0.5111111402511597 \n",
            "\n",
            "420/420 [==============================] - 49s 117ms/step - loss: 1.4542e-04 - binary_accuracy: 1.0000 - val_loss: 8.5150 - val_binary_accuracy: 0.5000\n",
            "Run:  3 / Accuracy at epoch  18  is:  0.5 \n",
            "\n",
            "420/420 [==============================] - 48s 115ms/step - loss: 1.8598e-05 - binary_accuracy: 1.0000 - val_loss: 8.9162 - val_binary_accuracy: 0.5000\n",
            "Run:  3 / Accuracy at epoch  19  is:  0.5 \n",
            "\n",
            "Accuracies over epochs: [0.5, 0.5, 0.5, 0.5, 0.5, 0.5, 0.5, 0.5055555701255798, 0.5055555701255798, 0.5, 0.5, 0.5, 0.5055555701255798, 0.5055555701255798, 0.5111111402511597, 0.5111111402511597, 0.5, 0.5111111402511597, 0.5, 0.5] \n",
            "\n",
            "\n",
            "420/420 [==============================] - 92s 215ms/step - loss: 0.6076 - binary_accuracy: 0.6548 - val_loss: 1.6495 - val_binary_accuracy: 0.5000\n",
            "Run:  4 / Accuracy at epoch  0  is:  0.5 \n",
            "\n",
            "420/420 [==============================] - 48s 115ms/step - loss: 0.3180 - binary_accuracy: 0.8762 - val_loss: 2.8106 - val_binary_accuracy: 0.5000\n",
            "Run:  4 / Accuracy at epoch  1  is:  0.5 \n",
            "\n",
            "420/420 [==============================] - 48s 115ms/step - loss: 0.2078 - binary_accuracy: 0.9262 - val_loss: 3.5600 - val_binary_accuracy: 0.5000\n",
            "Run:  4 / Accuracy at epoch  2  is:  0.5 \n",
            "\n",
            "420/420 [==============================] - 48s 114ms/step - loss: 0.1493 - binary_accuracy: 0.9619 - val_loss: 4.5506 - val_binary_accuracy: 0.5000\n",
            "Run:  4 / Accuracy at epoch  3  is:  0.5 \n",
            "\n",
            "420/420 [==============================] - 48s 114ms/step - loss: 0.1093 - binary_accuracy: 0.9833 - val_loss: 5.0978 - val_binary_accuracy: 0.5000\n",
            "Run:  4 / Accuracy at epoch  4  is:  0.5 \n",
            "\n",
            "420/420 [==============================] - 48s 114ms/step - loss: 0.0823 - binary_accuracy: 0.9857 - val_loss: 5.0281 - val_binary_accuracy: 0.5000\n",
            "Run:  4 / Accuracy at epoch  5  is:  0.5 \n",
            "\n",
            "420/420 [==============================] - 48s 114ms/step - loss: 0.0688 - binary_accuracy: 0.9905 - val_loss: 4.1628 - val_binary_accuracy: 0.5056\n",
            "Run:  4 / Accuracy at epoch  6  is:  0.5055555701255798 \n",
            "\n",
            "420/420 [==============================] - 48s 115ms/step - loss: 0.0708 - binary_accuracy: 0.9929 - val_loss: 5.4682 - val_binary_accuracy: 0.5000\n",
            "Run:  4 / Accuracy at epoch  7  is:  0.5 \n",
            "\n",
            "420/420 [==============================] - 49s 116ms/step - loss: 0.0416 - binary_accuracy: 0.9929 - val_loss: 5.5866 - val_binary_accuracy: 0.5000\n",
            "Run:  4 / Accuracy at epoch  8  is:  0.5 \n",
            "\n",
            "420/420 [==============================] - 48s 113ms/step - loss: 0.0192 - binary_accuracy: 0.9952 - val_loss: 5.7548 - val_binary_accuracy: 0.5111\n",
            "Run:  4 / Accuracy at epoch  9  is:  0.5111111402511597 \n",
            "\n",
            "420/420 [==============================] - 48s 114ms/step - loss: 0.0208 - binary_accuracy: 0.9929 - val_loss: 8.7055 - val_binary_accuracy: 0.5000\n",
            "Run:  4 / Accuracy at epoch  10  is:  0.5 \n",
            "\n",
            "420/420 [==============================] - 49s 116ms/step - loss: 0.0011 - binary_accuracy: 1.0000 - val_loss: 5.9044 - val_binary_accuracy: 0.5111\n",
            "Run:  4 / Accuracy at epoch  11  is:  0.5111111402511597 \n",
            "\n",
            "420/420 [==============================] - 48s 113ms/step - loss: 0.0012 - binary_accuracy: 1.0000 - val_loss: 9.0996 - val_binary_accuracy: 0.5000\n",
            "Run:  4 / Accuracy at epoch  12  is:  0.5 \n",
            "\n",
            "420/420 [==============================] - 48s 115ms/step - loss: 1.3978e-04 - binary_accuracy: 1.0000 - val_loss: 7.8176 - val_binary_accuracy: 0.5056\n",
            "Run:  4 / Accuracy at epoch  13  is:  0.5055555701255798 \n",
            "\n",
            "420/420 [==============================] - 48s 114ms/step - loss: 9.7649e-05 - binary_accuracy: 1.0000 - val_loss: 7.6046 - val_binary_accuracy: 0.5111\n",
            "Run:  4 / Accuracy at epoch  14  is:  0.5111111402511597 \n",
            "\n",
            "420/420 [==============================] - 48s 115ms/step - loss: 0.0044 - binary_accuracy: 0.9976 - val_loss: 8.2945 - val_binary_accuracy: 0.5111\n",
            "Run:  4 / Accuracy at epoch  15  is:  0.5111111402511597 \n",
            "\n",
            "420/420 [==============================] - 48s 114ms/step - loss: 4.3131e-05 - binary_accuracy: 1.0000 - val_loss: 7.7386 - val_binary_accuracy: 0.5056\n",
            "Run:  4 / Accuracy at epoch  16  is:  0.5055555701255798 \n",
            "\n",
            "420/420 [==============================] - 48s 114ms/step - loss: 1.0447e-05 - binary_accuracy: 1.0000 - val_loss: 8.5572 - val_binary_accuracy: 0.5000\n",
            "Run:  4 / Accuracy at epoch  17  is:  0.5 \n",
            "\n",
            "420/420 [==============================] - 48s 115ms/step - loss: 6.9510e-05 - binary_accuracy: 1.0000 - val_loss: 7.7394 - val_binary_accuracy: 0.5056\n",
            "Run:  4 / Accuracy at epoch  18  is:  0.5055555701255798 \n",
            "\n",
            "420/420 [==============================] - 48s 115ms/step - loss: 1.0892e-05 - binary_accuracy: 1.0000 - val_loss: 9.1346 - val_binary_accuracy: 0.5000\n",
            "Run:  4 / Accuracy at epoch  19  is:  0.5 \n",
            "\n",
            "Accuracies over epochs: [0.5, 0.5, 0.5, 0.5, 0.5, 0.5, 0.5055555701255798, 0.5, 0.5, 0.5111111402511597, 0.5, 0.5111111402511597, 0.5, 0.5055555701255798, 0.5111111402511597, 0.5111111402511597, 0.5055555701255798, 0.5, 0.5055555701255798, 0.5] \n",
            "\n",
            "\n",
            "420/420 [==============================] - 92s 216ms/step - loss: 0.6167 - binary_accuracy: 0.6357 - val_loss: 1.7256 - val_binary_accuracy: 0.5000\n",
            "Run:  5 / Accuracy at epoch  0  is:  0.5 \n",
            "\n",
            "420/420 [==============================] - 48s 114ms/step - loss: 0.3334 - binary_accuracy: 0.8738 - val_loss: 2.2909 - val_binary_accuracy: 0.5000\n",
            "Run:  5 / Accuracy at epoch  1  is:  0.5 \n",
            "\n",
            "420/420 [==============================] - 48s 114ms/step - loss: 0.2098 - binary_accuracy: 0.9190 - val_loss: 3.3393 - val_binary_accuracy: 0.5000\n",
            "Run:  5 / Accuracy at epoch  2  is:  0.5 \n",
            "\n",
            "420/420 [==============================] - 48s 114ms/step - loss: 0.1535 - binary_accuracy: 0.9595 - val_loss: 4.3563 - val_binary_accuracy: 0.5000\n",
            "Run:  5 / Accuracy at epoch  3  is:  0.5 \n",
            "\n",
            "420/420 [==============================] - 48s 114ms/step - loss: 0.1146 - binary_accuracy: 0.9738 - val_loss: 4.4251 - val_binary_accuracy: 0.5000\n",
            "Run:  5 / Accuracy at epoch  4  is:  0.5 \n",
            "\n",
            "420/420 [==============================] - 48s 114ms/step - loss: 0.0861 - binary_accuracy: 0.9905 - val_loss: 4.4834 - val_binary_accuracy: 0.5056\n",
            "Run:  5 / Accuracy at epoch  5  is:  0.5055555701255798 \n",
            "\n",
            "420/420 [==============================] - 48s 115ms/step - loss: 0.0785 - binary_accuracy: 0.9905 - val_loss: 4.1655 - val_binary_accuracy: 0.5056\n",
            "Run:  5 / Accuracy at epoch  6  is:  0.5055555701255798 \n",
            "\n",
            "420/420 [==============================] - 48s 115ms/step - loss: 0.0717 - binary_accuracy: 0.9905 - val_loss: 6.9755 - val_binary_accuracy: 0.5000\n",
            "Run:  5 / Accuracy at epoch  7  is:  0.5 \n",
            "\n",
            "420/420 [==============================] - 48s 114ms/step - loss: 0.0474 - binary_accuracy: 0.9929 - val_loss: 5.8651 - val_binary_accuracy: 0.5056\n",
            "Run:  5 / Accuracy at epoch  8  is:  0.5055555701255798 \n",
            "\n",
            "420/420 [==============================] - 48s 115ms/step - loss: 0.0327 - binary_accuracy: 0.9929 - val_loss: 9.2253 - val_binary_accuracy: 0.5000\n",
            "Run:  5 / Accuracy at epoch  9  is:  0.5 \n",
            "\n",
            "420/420 [==============================] - 48s 115ms/step - loss: 0.0246 - binary_accuracy: 0.9976 - val_loss: 7.1485 - val_binary_accuracy: 0.5000\n",
            "Run:  5 / Accuracy at epoch  10  is:  0.5 \n",
            "\n",
            "420/420 [==============================] - 48s 114ms/step - loss: 0.0084 - binary_accuracy: 0.9952 - val_loss: 7.4331 - val_binary_accuracy: 0.5000\n",
            "Run:  5 / Accuracy at epoch  11  is:  0.5 \n",
            "\n",
            "420/420 [==============================] - 48s 114ms/step - loss: 7.5733e-05 - binary_accuracy: 1.0000 - val_loss: 8.3137 - val_binary_accuracy: 0.5000\n",
            "Run:  5 / Accuracy at epoch  12  is:  0.5 \n",
            "\n",
            "420/420 [==============================] - 48s 115ms/step - loss: 2.1938e-04 - binary_accuracy: 1.0000 - val_loss: 7.1240 - val_binary_accuracy: 0.5111\n",
            "Run:  5 / Accuracy at epoch  13  is:  0.5111111402511597 \n",
            "\n",
            "420/420 [==============================] - 48s 115ms/step - loss: 1.2085e-04 - binary_accuracy: 1.0000 - val_loss: 8.2268 - val_binary_accuracy: 0.5000\n",
            "Run:  5 / Accuracy at epoch  14  is:  0.5 \n",
            "\n",
            "420/420 [==============================] - 48s 114ms/step - loss: 7.5090e-05 - binary_accuracy: 1.0000 - val_loss: 9.2712 - val_binary_accuracy: 0.5000\n",
            "Run:  5 / Accuracy at epoch  15  is:  0.5 \n",
            "\n",
            "420/420 [==============================] - 49s 116ms/step - loss: 6.5356e-05 - binary_accuracy: 1.0000 - val_loss: 7.9642 - val_binary_accuracy: 0.5056\n",
            "Run:  5 / Accuracy at epoch  16  is:  0.5055555701255798 \n",
            "\n",
            "420/420 [==============================] - 48s 115ms/step - loss: 3.0702e-05 - binary_accuracy: 1.0000 - val_loss: 8.4472 - val_binary_accuracy: 0.5000\n",
            "Run:  5 / Accuracy at epoch  17  is:  0.5 \n",
            "\n",
            "420/420 [==============================] - 49s 115ms/step - loss: 3.5128e-05 - binary_accuracy: 1.0000 - val_loss: 10.6792 - val_binary_accuracy: 0.5000\n",
            "Run:  5 / Accuracy at epoch  18  is:  0.5 \n",
            "\n",
            "420/420 [==============================] - 49s 116ms/step - loss: 8.0065e-06 - binary_accuracy: 1.0000 - val_loss: 10.2715 - val_binary_accuracy: 0.5000\n",
            "Run:  5 / Accuracy at epoch  19  is:  0.5 \n",
            "\n",
            "Accuracies over epochs: [0.5, 0.5, 0.5, 0.5, 0.5, 0.5055555701255798, 0.5055555701255798, 0.5, 0.5055555701255798, 0.5, 0.5, 0.5, 0.5, 0.5111111402511597, 0.5, 0.5, 0.5055555701255798, 0.5, 0.5, 0.5] \n",
            "\n",
            "\n",
            "\n",
            "\n",
            " Over all runs maximum accuracies on English are: [0.5111111402511597, 0.5111111402511597, 0.5111111402511597, 0.5111111402511597, 0.5111111402511597]\n",
            "The median for English is: 0.5111111402511597 \n",
            "\n",
            "\n",
            "\n",
            "CNN Accuracy Score on Test set ->  ['0.5111111402511597 +/- 0.0']\n"
          ]
        }
      ],
      "source": [
        "tf.random.set_seed(1)\n",
        "\n",
        "# Reset model_results list.\n",
        "for key in prepro_functions_dict_comb:\n",
        "  model_results[key]=[]\n",
        "\n",
        "for key in prepro_functions_dict_comb:\n",
        "  runs_accuracy = []\n",
        "\n",
        "  print(\"\\n\\n* * * * EVALUATION USING\", key, \"AS PREPROCESSING FUNCTION * * * *\")\n",
        "\n",
        "  # Preprocess training set to build a dictionary.\n",
        "  vectorize_layer = preprocess_and_adapt_ts(prepro_functions_dict_comb[key],train_ds)\n",
        "\n",
        "  max_features=len(vectorize_layer.get_vocabulary()) + 1\n",
        "  print(\"Vocabulary size is:\", max_features)\n",
        "\n",
        "  for run in range(1,(num_runs+1)):\n",
        "    epochs_accuracy=[]\n",
        "    model = tf.keras.Sequential([\n",
        "                                    tf.keras.Input(shape=(1,), dtype=tf.string),\n",
        "                                    vectorize_layer,\n",
        "                                    layers.Embedding(max_features + 1, embedding_dim),                     \n",
        "                                    layers.Dropout(0.8),\n",
        "\n",
        "                                    layers.Conv1D(256,16,activation='relu'),\n",
        "                                    layers.MaxPooling1D(),\n",
        "                                    layers.Dropout(0.6),\n",
        "\n",
        "                                    layers.Dense(512,activation='relu'),\n",
        "                           \n",
        "                                    layers.GlobalAveragePooling1D(),\n",
        "                                    layers.Dropout(0.2),\n",
        "                                    layers.Dense(1)                            \n",
        "    ])\n",
        "    model.compile(loss=losses.BinaryCrossentropy(from_logits=True), optimizer='RMSprop', metrics=tf.metrics.BinaryAccuracy(threshold=0.0)) \n",
        "\n",
        "    for epoch in range (0,num_epochs_per_run):\n",
        "        history = model.fit(\n",
        "          train_ds,\n",
        "          validation_data = test_ds,\n",
        "          epochs=1,\n",
        "          shuffle=False,\n",
        "          # Comment the following line to do not save and download the model.\n",
        "          #callbacks=[callbacks]\n",
        "          )\n",
        "        accuracy = history.history['val_binary_accuracy']\n",
        "        print(\"Run: \",run,\"/ Accuracy at epoch \",epoch,\" is: \", accuracy[0],\"\\n\")\n",
        "        epochs_accuracy.append(accuracy[0])\n",
        "\n",
        "    print(\"Accuracies over epochs:\",epochs_accuracy,\"\\n\\n\")\n",
        "    runs_accuracy.append(max(epochs_accuracy))\n",
        "\n",
        "  runs_accuracy.sort()\n",
        "  print(\"\\n\\n Over all runs maximum accuracies on English are:\", runs_accuracy)\n",
        "  print(\"The median for English is:\",runs_accuracy[2],\"\\n\\n\\n\")\n",
        "  \n",
        "  if (runs_accuracy[2]-runs_accuracy[0])>(runs_accuracy[4]-runs_accuracy[2]):\n",
        "    max_range_from_median = runs_accuracy[2]-runs_accuracy[0]\n",
        "  else:\n",
        "    max_range_from_median = runs_accuracy[4]-runs_accuracy[2]\n",
        "  final_result = str(runs_accuracy[2])+\" +/- \"+ str(max_range_from_median)\n",
        "  model_results[key].append(final_result)\n",
        "  print(\"CNN Accuracy Score on Test set -> \",model_results[key])"
      ]
    },
    {
      "cell_type": "markdown",
      "metadata": {
        "id": "6uMKAeuegNk1"
      },
      "source": [
        "## Now show compact results in a table."
      ]
    },
    {
      "cell_type": "code",
      "execution_count": 21,
      "metadata": {
        "id": "AJ79RMougNRA",
        "colab": {
          "base_uri": "https://localhost:8080/"
        },
        "outputId": "058c4cdf-6820-4b7a-ad8d-8cc53980e3ef"
      },
      "outputs": [
        {
          "output_type": "stream",
          "name": "stdout",
          "text": [
            " PREPRO FUNCTION    |  Test Accuracy   |\n",
            "\n",
            "DON                        0.5111111402511597 +/- 0.0\n",
            "\n",
            "\n"
          ]
        }
      ],
      "source": [
        "print(\" PREPRO FUNCTION    |  Test Accuracy   |\",end = '')\n",
        "\n",
        "print(\"\\n\")\n",
        "for prepro_func in prepro_functions_dict_comb:\n",
        "  #print(prepro_func,\"\\t\\t\\t\",format(round(model_results[prepro_func][0],4),'.4f'),\"\\t\\t\",end='')\n",
        "  result = model_results[prepro_func][0]\n",
        "  # result = format(round(model_results[prepro_func][0],4),'.4f')\n",
        "  print(f'{prepro_func:27}{ result :12}')\n",
        "  print(\"\\n\")"
      ]
    },
    {
      "cell_type": "code",
      "source": [],
      "metadata": {
        "id": "RYhxukCSyWnJ"
      },
      "execution_count": null,
      "outputs": []
    }
  ],
  "metadata": {
    "accelerator": "GPU",
    "colab": {
      "provenance": [],
      "collapsed_sections": [
        "6IBqUcj4cx2G",
        "4vskGJeX9GqJ",
        "ITouXXtQ8WzV",
        "TjUnE9_DEyCw",
        "x8zDXrk9eEy5"
      ],
      "include_colab_link": true
    },
    "kernelspec": {
      "display_name": "Python 3",
      "name": "python3"
    },
    "gpuClass": "standard"
  },
  "nbformat": 4,
  "nbformat_minor": 0
}