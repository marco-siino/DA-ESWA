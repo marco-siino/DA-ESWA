{
  "cells": [
    {
      "cell_type": "markdown",
      "metadata": {
        "id": "view-in-github",
        "colab_type": "text"
      },
      "source": [
        "<a href=\"https://colab.research.google.com/github/marco-siino/DA-ESWA/blob/main/code/CNN_ISS_augmented_IT_NB.ipynb\" target=\"_parent\"><img src=\"https://colab.research.google.com/assets/colab-badge.svg\" alt=\"Open In Colab\"/></a>"
      ]
    },
    {
      "cell_type": "markdown",
      "metadata": {
        "id": "u-hLo5ufkCT1"
      },
      "source": [
        "## Text preprocessing worth the time: A comparative survey on the impact of common techniques on NLP model performances. \n",
        "- - - \n",
        "CNN ON FNS DS EXPERIMENTS NOTEBOOK \n",
        "- - -\n",
        "Convolutional Neural Network on Fake News Spreaders Dataset.\n",
        "Code by M. Siino. \n",
        "\n",
        "From the paper: \"Text preprocessing worth the time: A comparative survey on the impact of common techniques on NLP model performances.\" by M.Siino et al.\n",
        "\n"
      ]
    },
    {
      "cell_type": "markdown",
      "metadata": {
        "id": "6IBqUcj4cx2G"
      },
      "source": [
        "## Importing modules."
      ]
    },
    {
      "cell_type": "code",
      "execution_count": 13,
      "metadata": {
        "id": "AQSunQ-ucjLX"
      },
      "outputs": [],
      "source": [
        "import matplotlib.pyplot as plt\n",
        "import os\n",
        "import random\n",
        "import re\n",
        "import shutil\n",
        "import string\n",
        "import tensorflow as tf\n",
        "\n",
        "import numpy as np\n",
        "\n",
        "from tensorflow.keras import layers\n",
        "from tensorflow.keras import losses\n",
        "from tensorflow.keras import preprocessing\n",
        "from keras.models import Model\n",
        "from tensorflow.keras.layers.experimental.preprocessing import TextVectorization\n",
        "\n",
        "os.environ['TF_CUDNN_DETERMINISTIC']='true'\n",
        "os.environ['TF_DETERMINISTIC_OPS']='true'"
      ]
    },
    {
      "cell_type": "markdown",
      "metadata": {
        "id": "0QHd_fxmHCfa"
      },
      "source": [
        "## Importing DS and extract in current working directory."
      ]
    },
    {
      "cell_type": "code",
      "execution_count": 14,
      "metadata": {
        "id": "ocYMUXaY8r0_",
        "colab": {
          "base_uri": "https://localhost:8080/"
        },
        "outputId": "6e90a28b-7846-4d2e-fc94-4b48defb840c"
      },
      "outputs": [
        {
          "output_type": "stream",
          "name": "stdout",
          "text": [
            "./pan22-author-profiling-training-2022-03-29-augmented\n",
            "./pan22-author-profiling-training-2022-03-29-augmented.zip\n",
            "####\n",
            "/content/iss-test-original/pan22-author-profiling-test-2022-04-22-without_truth\n",
            "./pan22-author-profiling-test-2022-04-22-without_truth.zip\n",
            "####\n",
            ".config\n",
            "iss-test-original\n",
            "pan22-author-profiling-test-2022-04-22-without_truth.zip\n",
            "pan22-author-profiling-training-2022-03-29-augmented\n",
            "pan22-author-profiling-training-2022-03-29-augmented.zip\n",
            "sample_data\n",
            "test_dir_en\n",
            "train_dir_en\n"
          ]
        }
      ],
      "source": [
        "# Url obtained starting from this: https://drive.google.com/file/d/19ZcqEv88euKB71HfAWjTGN3uCKp2qsfP/ and forcing export=download.\n",
        "urlTrainingSet = \"https://github.com/marco-siino/DA-ESWA/raw/main/data/iss/iss-training-augmented-it.zip\"\n",
        "\n",
        "urlTestSet=\"https://github.com/marco-siino/DA-ESWA/raw/main/data/iss/iss-test-original.zip\"\n",
        "\n",
        "training_set = tf.keras.utils.get_file(\"pan22-author-profiling-training-2022-03-29-augmented.zip\", urlTrainingSet,\n",
        "                                   extract=True, archive_format='zip',cache_dir='.',\n",
        "                                   cache_subdir='')\n",
        "\n",
        "test_set = tf.keras.utils.get_file(\"pan22-author-profiling-test-2022-04-22-without_truth.zip\", urlTestSet,\n",
        "                                    extract=True, archive_format='zip',cache_dir='.',\n",
        "                                    cache_subdir='')\n",
        "\n",
        "training_set_dir = os.path.join(os.path.dirname(training_set), 'pan22-author-profiling-training-2022-03-29-augmented')\n",
        "#test_set_dir = os.path.join(os.path.dirname(test_set), 'pan22-author-profiling-test-2022-04-22-without_truth')\n",
        "test_set_dir = os.path.join('/content/iss-test-original','pan22-author-profiling-test-2022-04-22-without_truth')\n",
        "\n",
        "print(training_set_dir)\n",
        "print(training_set)\n",
        "print('####')\n",
        "print(test_set_dir)\n",
        "print(test_set)\n",
        "print('####')\n",
        "!ls -A\n",
        "\n"
      ]
    },
    {
      "cell_type": "markdown",
      "metadata": {
        "id": "uTJi1fbT_Rup"
      },
      "source": [
        "## Build folders hierarchy to use Keras folders preprocessing function.\n",
        "\n"
      ]
    },
    {
      "cell_type": "code",
      "execution_count": 15,
      "metadata": {
        "id": "FyafvXEMhEKw",
        "colab": {
          "base_uri": "https://localhost:8080/"
        },
        "outputId": "ad07f13a-e20e-49a2-b551-c586533c88a8"
      },
      "outputs": [
        {
          "output_type": "stream",
          "name": "stdout",
          "text": [
            ".config\n",
            "iss-test-original\n",
            "pan22-author-profiling-test-2022-04-22-without_truth.zip\n",
            "pan22-author-profiling-training-2022-03-29-augmented\n",
            "pan22-author-profiling-training-2022-03-29-augmented.zip\n",
            "sample_data\n",
            "test_dir_en\n",
            "train_dir_en\n"
          ]
        }
      ],
      "source": [
        "### Training Folders. ###\n",
        "\n",
        "# First level directory.\n",
        "if not os.path.exists('train_dir_en'):\n",
        "    os.makedirs('train_dir_en')\n",
        "\n",
        "# Class labels directory.\n",
        "if not os.path.exists('train_dir_en/0'):\n",
        "    os.makedirs('train_dir_en/0')\n",
        "if not os.path.exists('train_dir_en/1'):\n",
        "    os.makedirs('train_dir_en/1')\n",
        "\n",
        "# Make Py variables.\n",
        "train_dir='train_dir_'\n",
        "\n",
        "## Test Folders. ##\n",
        "# First level directory.\n",
        "if not os.path.exists('test_dir_en'):\n",
        "    os.makedirs('test_dir_en')\n",
        "\n",
        "# Class labels directory.\n",
        "if not os.path.exists('test_dir_en/0'):\n",
        "    os.makedirs('test_dir_en/0')\n",
        "if not os.path.exists('test_dir_en/1'):\n",
        "    os.makedirs('test_dir_en/1')\n",
        "\n",
        "# Make Py variables.\n",
        "test_dir='test_dir_'\n",
        "\n",
        "!ls -A"
      ]
    },
    {
      "cell_type": "markdown",
      "source": [
        "## Set language and directory paths."
      ],
      "metadata": {
        "id": "-6c28Rdo8zGn"
      }
    },
    {
      "cell_type": "code",
      "source": [
        "# Set en and es ground truth file path for train_dir. We haven't a ground truth file for the test set.\n",
        "language='en'\n",
        "\n",
        "truth_file_training_dir_en = training_set_dir   +'/'+language #samples training\n",
        "truth_file_training_path_en = training_set_dir +'/'+ 'en.txt'   #train truth file\n",
        "print('truth_file_training_dir_en', truth_file_training_dir_en)\n",
        "print('truth_file_training_path_en', truth_file_training_path_en)\n",
        "\n",
        "\n",
        "truth_file_test_dir = test_set_dir +'/'+language+'/'  #tutti i sample\n",
        "truth_file_test_path_en = test_set_dir + '/'+ 'truth'+'.txt'  #path to truth file\n",
        "print('truth_file_test_dir', truth_file_test_dir)\n",
        "print('truth_file_test_path_en', truth_file_test_path_en)"
      ],
      "metadata": {
        "id": "ANr_dCj-8yvD",
        "colab": {
          "base_uri": "https://localhost:8080/"
        },
        "outputId": "3406f74d-3aec-4a20-8038-02c759158513"
      },
      "execution_count": 16,
      "outputs": [
        {
          "output_type": "stream",
          "name": "stdout",
          "text": [
            "truth_file_training_dir_en ./pan22-author-profiling-training-2022-03-29-augmented/en\n",
            "truth_file_training_path_en ./pan22-author-profiling-training-2022-03-29-augmented/en.txt\n",
            "truth_file_test_dir /content/iss-test-original/pan22-author-profiling-test-2022-04-22-without_truth/en/\n",
            "truth_file_test_path_en /content/iss-test-original/pan22-author-profiling-test-2022-04-22-without_truth/truth.txt\n"
          ]
        }
      ]
    },
    {
      "cell_type": "markdown",
      "source": [
        "## Read truth.txt to organize training and test dataset folders."
      ],
      "metadata": {
        "id": "VU6PtNMZ864o"
      }
    },
    {
      "cell_type": "code",
      "source": [
        "# Open the file truth.txt with read only permit.\n",
        "f = open(truth_file_training_path_en, \"r\")\n",
        "# use readline() to read the first line \n",
        "line = f.readline()\n",
        "# use the read line to read further.\n",
        "# If the file is not empty keep reading one line\n",
        "# at a time, till the file is empty\n",
        "while line:\n",
        "    # Split line at :::\n",
        "    x = line.split(\":::\")\n",
        "    fNameXml = x[0]+'.xml'\n",
        "    fNameTxt = x[0]+'.txt'\n",
        "    # Second coord [0] gets just the first character (label) and not /n too.\n",
        "    label = x[1][0]\n",
        "    #print('label',label)\n",
        "    if label == 'I':\n",
        "      label = '1'\n",
        "    elif label == 'N':\n",
        "      label = '0'\n",
        "\n",
        "    # Now move the file to the right folder.\n",
        "    if os.path.exists(truth_file_training_dir_en+ '/'+fNameXml):\n",
        "      os.rename(truth_file_training_dir_en+ '/'+fNameXml, \n",
        "                './train_dir_'+language+'/'+label+'/'+fNameTxt )\n",
        "\n",
        "    # use readline() to read next line\n",
        "    line = f.readline()\n",
        "\n",
        "\n",
        "# Open the file truth.txt with read only permit.\n",
        "f = open(truth_file_test_path_en, \"r\")\n",
        "#f = open('/content/iss-test-original/pan22-author-profiling-test-2022-04-22-without_truth/truth.txt', \"r\")\n",
        "# use readline() to read the first line \n",
        "line = f.readline()\n",
        "# use the read line to read further.\n",
        "# If the file is not empty keep reading one line\n",
        "# at a time, till the file is empty\n",
        "while line:\n",
        "    # Split line at :::\n",
        "    x = line.split(\":::\")\n",
        "    fNameXml = x[0]+'.xml'\n",
        "    fNameTxt = x[0]+'.txt'\n",
        "    # Second coord [0] gets just the first character (label) and not /n too.\n",
        "    label = x[1][0]\n",
        "    if label == 'I':\n",
        "      label = '1'\n",
        "    elif label == 'N':\n",
        "      label = '0'\n",
        "    # Now move the file to the right folder.\n",
        "    #print(truth_file_test_dir+fNameXml)\n",
        "    if os.path.exists(truth_file_test_dir+fNameXml):\n",
        "      #print('path exist')\n",
        "      os.rename(truth_file_test_dir+fNameXml, './test_dir_'+language+'/'+label+'/'+fNameTxt)\n",
        "\n",
        "    # use readline() to read next line\n",
        "    line = f.readline()"
      ],
      "metadata": {
        "id": "iW2UF_SH87TX"
      },
      "execution_count": 17,
      "outputs": []
    },
    {
      "cell_type": "markdown",
      "source": [
        "## Generate full training set."
      ],
      "metadata": {
        "id": "4vskGJeX9GqJ"
      }
    },
    {
      "cell_type": "code",
      "source": [
        "# Generate full randomized training set.\n",
        "batch_size=1\n",
        "\n",
        "en_train_ds = tf.keras.preprocessing.text_dataset_from_directory(\n",
        "    train_dir+language, \n",
        "    batch_size=batch_size,\n",
        "    shuffle=False\n",
        "    )\n",
        "\n",
        "en_test_ds = tf.keras.preprocessing.text_dataset_from_directory(\n",
        "    test_dir+language, \n",
        "    batch_size=batch_size,\n",
        "    shuffle=False\n",
        "    )\n",
        "\n",
        "train_ds=en_train_ds.shuffle(300,seed=1, reshuffle_each_iteration=False)\n",
        "test_ds=en_test_ds.shuffle(200,seed=1, reshuffle_each_iteration=False)\n",
        "\n",
        "train_ds_size=len(train_ds)\n",
        "test_ds_size=len(test_ds)"
      ],
      "metadata": {
        "colab": {
          "base_uri": "https://localhost:8080/"
        },
        "id": "UOqIc_Sm9HGX",
        "outputId": "f7bcb4f8-d0fc-4062-d1eb-2455fe284e31"
      },
      "execution_count": 18,
      "outputs": [
        {
          "output_type": "stream",
          "name": "stdout",
          "text": [
            "Found 420 files belonging to 2 classes.\n",
            "Found 180 files belonging to 2 classes.\n"
          ]
        }
      ]
    },
    {
      "cell_type": "markdown",
      "metadata": {
        "id": "ITouXXtQ8WzV"
      },
      "source": [
        "## Functions to pre-process source text. (A detailed discussion on our paper)"
      ]
    },
    {
      "cell_type": "code",
      "execution_count": 19,
      "metadata": {
        "id": "bDPIqAgXYWim"
      },
      "outputs": [],
      "source": [
        "# Do-Nothing preprocessing function.\n",
        "def DON(input_data):\n",
        "  tag_open_CDATA_removed = tf.strings.regex_replace(input_data, '<\\!\\[CDATA\\[', ' ')\n",
        "  tag_closed_CDATA_removed = tf.strings.regex_replace(tag_open_CDATA_removed,'\\]{1,}>', ' ')\n",
        "  tag_author_lang_en_removed = tf.strings.regex_replace(tag_closed_CDATA_removed,'<author lang=\"en\">', ' ')\n",
        "  tag_closed_author_removed = tf.strings.regex_replace(tag_author_lang_en_removed,'</author>', ' ')\n",
        "  tag_open_documents_removed = tf.strings.regex_replace(tag_closed_author_removed,'<documents>\\n(\\t){0,2}', '')\n",
        "  output_data = tf.strings.regex_replace(tag_open_documents_removed,'</documents>\\n(\\t){0,2}', ' ')\n",
        "  return output_data"
      ]
    },
    {
      "cell_type": "markdown",
      "metadata": {
        "id": "TjUnE9_DEyCw"
      },
      "source": [
        "## Get the length of the longest sample in training set. Then adapt text.\n",
        "\n"
      ]
    },
    {
      "cell_type": "code",
      "execution_count": 20,
      "metadata": {
        "id": "ebRMQqa_mr48"
      },
      "outputs": [],
      "source": [
        "def preprocess_and_adapt_ts(preprocessing_function,training_set):\n",
        "  # Set a large sequence length to find the longest sample in the training set.\n",
        "  sequence_length = 3000\n",
        "  vectorize_layer = TextVectorization(\n",
        "      standardize=preprocessing_function,\n",
        "      output_mode='int',\n",
        "      output_sequence_length=sequence_length)\n",
        "\n",
        "  train_text = training_set.map(lambda x, y: x)\n",
        "  vectorize_layer.adapt(train_text)\n",
        "  #vectorize_layer.get_vocabulary()\n",
        "\n",
        "  model = tf.keras.models.Sequential()\n",
        "  model.add(tf.keras.Input(shape=(1,), dtype=tf.string))\n",
        "  model.add(vectorize_layer)\n",
        "\n",
        "  longest_sample_length=1\n",
        "\n",
        "  for element in training_set:\n",
        "    authorDocument=element[0]\n",
        "    label=element[1]\n",
        "    \n",
        "    #print(\"Sample considered is: \", authorDocument[0].numpy())\n",
        "    #print(\"Preprocessed: \", str(custom_standardization(authorDocument[0].numpy())))\n",
        "    #print(\"And has label: \", label[0].numpy())\n",
        "\n",
        "    out=model(authorDocument)\n",
        "    # Convert token list to numpy array.\n",
        "    token_list = out.numpy()[0]\n",
        "    token_list = np.trim_zeros(token_list,'b')\n",
        "    if longest_sample_length < len(token_list):\n",
        "      longest_sample_length = len(token_list)\n",
        "\n",
        "  print(\"Length of the longest sample is:\", longest_sample_length)\n",
        "\n",
        "  # After tokenization longest_sample_length covers all the document lenghts in our dataset.\n",
        "  sequence_length = longest_sample_length\n",
        "\n",
        "  vectorize_layer = TextVectorization(\n",
        "      standardize=preprocessing_function,\n",
        "      output_mode='int',\n",
        "      output_sequence_length=sequence_length)\n",
        "\n",
        "  # Finally adapt the vectorize layer.\n",
        "  train_text = training_set.map(lambda x, y: x)\n",
        "  vectorize_layer.adapt(train_text)\n",
        "  return vectorize_layer"
      ]
    },
    {
      "cell_type": "markdown",
      "metadata": {
        "id": "x8zDXrk9eEy5"
      },
      "source": [
        "## Define a dictionary with -> function_names:prepro_function_caller. And a dictionary to store model results.\n",
        "\n",
        "\n"
      ]
    },
    {
      "cell_type": "code",
      "execution_count": 21,
      "metadata": {
        "id": "P8owxNMIeFsX",
        "colab": {
          "base_uri": "https://localhost:8080/"
        },
        "outputId": "c6199b4f-e12c-4e75-a5e9-b175df718281"
      },
      "outputs": [
        {
          "output_type": "stream",
          "name": "stdout",
          "text": [
            "DON\n"
          ]
        }
      ],
      "source": [
        "model_results = {}\n",
        "prepro_functions_dict_base = {\n",
        "    'DON':DON,\n",
        "    }\n",
        "\n",
        "# 3 prepro functions = 15 combs...+1 for do_nothing\n",
        "\n",
        "prepro_functions_dict_comb = {\n",
        "    # 1. Do nothing \n",
        "    'DON': DON,\n",
        "}\n",
        "\n",
        "for key in prepro_functions_dict_comb:\n",
        "  print(key)\n",
        "  model_results[key]=[]"
      ]
    },
    {
      "cell_type": "markdown",
      "source": [
        "## Some training hyperparameters..."
      ],
      "metadata": {
        "id": "RF7pJkGJ3bHT"
      }
    },
    {
      "cell_type": "code",
      "source": [
        "# Word embedding dimensions.\n",
        "embedding_dim = 100\n",
        "\n",
        "num_runs = 5 \n",
        "# No need to go over the 20th epoch...Overfitting begins.\n",
        "num_epochs_per_run = 20\n",
        "\n",
        "#opt = tf.keras.optimizers.RMSprop()"
      ],
      "metadata": {
        "id": "ocHligxS3mVn"
      },
      "execution_count": 22,
      "outputs": []
    },
    {
      "cell_type": "markdown",
      "metadata": {
        "id": "XDEi7MAo4qsQ"
      },
      "source": [
        "## Models definition and evaluation.\n",
        "\n",
        "\n"
      ]
    },
    {
      "cell_type": "code",
      "execution_count": 23,
      "metadata": {
        "colab": {
          "base_uri": "https://localhost:8080/"
        },
        "id": "Mm1fdCpETWL-",
        "outputId": "59c50f19-1de0-409a-9194-b82b76e34dc4"
      },
      "outputs": [
        {
          "output_type": "stream",
          "name": "stdout",
          "text": [
            "\n",
            "\n",
            "* * * * EVALUATION USING DON AS PREPROCESSING FUNCTION * * * *\n",
            "Length of the longest sample is: 3000\n",
            "Vocabulary size is: 206589\n",
            "420/420 [==============================] - 73s 170ms/step - loss: 0.6371 - binary_accuracy: 0.6048 - val_loss: 0.5578 - val_binary_accuracy: 0.6444\n",
            "Run:  1 / Accuracy at epoch  0  is:  0.644444465637207 \n",
            "\n",
            "420/420 [==============================] - 20s 47ms/step - loss: 0.3105 - binary_accuracy: 0.8714 - val_loss: 0.6766 - val_binary_accuracy: 0.7000\n",
            "Run:  1 / Accuracy at epoch  1  is:  0.699999988079071 \n",
            "\n",
            "420/420 [==============================] - 20s 47ms/step - loss: 0.2112 - binary_accuracy: 0.9262 - val_loss: 1.0227 - val_binary_accuracy: 0.6333\n",
            "Run:  1 / Accuracy at epoch  2  is:  0.6333333253860474 \n",
            "\n",
            "420/420 [==============================] - 19s 46ms/step - loss: 0.1662 - binary_accuracy: 0.9595 - val_loss: 0.6922 - val_binary_accuracy: 0.7778\n",
            "Run:  1 / Accuracy at epoch  3  is:  0.7777777910232544 \n",
            "\n",
            "420/420 [==============================] - 20s 47ms/step - loss: 0.1218 - binary_accuracy: 0.9786 - val_loss: 1.0565 - val_binary_accuracy: 0.6778\n",
            "Run:  1 / Accuracy at epoch  4  is:  0.6777777671813965 \n",
            "\n",
            "420/420 [==============================] - 20s 47ms/step - loss: 0.0924 - binary_accuracy: 0.9810 - val_loss: 2.0648 - val_binary_accuracy: 0.5667\n",
            "Run:  1 / Accuracy at epoch  5  is:  0.5666666626930237 \n",
            "\n",
            "420/420 [==============================] - 19s 46ms/step - loss: 0.0615 - binary_accuracy: 0.9881 - val_loss: 2.1343 - val_binary_accuracy: 0.5778\n",
            "Run:  1 / Accuracy at epoch  6  is:  0.5777778029441833 \n",
            "\n",
            "420/420 [==============================] - 20s 47ms/step - loss: 0.0484 - binary_accuracy: 0.9929 - val_loss: 3.5769 - val_binary_accuracy: 0.5333\n",
            "Run:  1 / Accuracy at epoch  7  is:  0.5333333611488342 \n",
            "\n",
            "420/420 [==============================] - 20s 47ms/step - loss: 0.0280 - binary_accuracy: 0.9952 - val_loss: 4.9284 - val_binary_accuracy: 0.5222\n",
            "Run:  1 / Accuracy at epoch  8  is:  0.5222222208976746 \n",
            "\n",
            "420/420 [==============================] - 19s 46ms/step - loss: 0.0192 - binary_accuracy: 0.9976 - val_loss: 6.4463 - val_binary_accuracy: 0.5111\n",
            "Run:  1 / Accuracy at epoch  9  is:  0.5111111402511597 \n",
            "\n",
            "420/420 [==============================] - 20s 47ms/step - loss: 0.0101 - binary_accuracy: 0.9952 - val_loss: 5.2120 - val_binary_accuracy: 0.5222\n",
            "Run:  1 / Accuracy at epoch  10  is:  0.5222222208976746 \n",
            "\n",
            "420/420 [==============================] - 20s 47ms/step - loss: 4.3419e-04 - binary_accuracy: 1.0000 - val_loss: 6.2403 - val_binary_accuracy: 0.5167\n",
            "Run:  1 / Accuracy at epoch  11  is:  0.5166666507720947 \n",
            "\n",
            "420/420 [==============================] - 19s 46ms/step - loss: 1.6619e-04 - binary_accuracy: 1.0000 - val_loss: 2.6654 - val_binary_accuracy: 0.6000\n",
            "Run:  1 / Accuracy at epoch  12  is:  0.6000000238418579 \n",
            "\n",
            "420/420 [==============================] - 19s 46ms/step - loss: 2.6685e-04 - binary_accuracy: 1.0000 - val_loss: 3.3143 - val_binary_accuracy: 0.5833\n",
            "Run:  1 / Accuracy at epoch  13  is:  0.5833333134651184 \n",
            "\n",
            "420/420 [==============================] - 20s 47ms/step - loss: 5.0591e-04 - binary_accuracy: 1.0000 - val_loss: 4.4172 - val_binary_accuracy: 0.5444\n",
            "Run:  1 / Accuracy at epoch  14  is:  0.5444444417953491 \n",
            "\n",
            "420/420 [==============================] - 20s 47ms/step - loss: 2.0818e-04 - binary_accuracy: 1.0000 - val_loss: 2.5409 - val_binary_accuracy: 0.6167\n",
            "Run:  1 / Accuracy at epoch  15  is:  0.6166666746139526 \n",
            "\n",
            "420/420 [==============================] - 19s 45ms/step - loss: 3.1777e-04 - binary_accuracy: 1.0000 - val_loss: 2.6790 - val_binary_accuracy: 0.6222\n",
            "Run:  1 / Accuracy at epoch  16  is:  0.6222222447395325 \n",
            "\n",
            "420/420 [==============================] - 20s 48ms/step - loss: 3.6233e-04 - binary_accuracy: 1.0000 - val_loss: 2.0020 - val_binary_accuracy: 0.6889\n",
            "Run:  1 / Accuracy at epoch  17  is:  0.6888889074325562 \n",
            "\n",
            "420/420 [==============================] - 20s 47ms/step - loss: 3.6441e-04 - binary_accuracy: 1.0000 - val_loss: 2.2085 - val_binary_accuracy: 0.6889\n",
            "Run:  1 / Accuracy at epoch  18  is:  0.6888889074325562 \n",
            "\n",
            "420/420 [==============================] - 19s 46ms/step - loss: 3.1127e-05 - binary_accuracy: 1.0000 - val_loss: 2.3314 - val_binary_accuracy: 0.6722\n",
            "Run:  1 / Accuracy at epoch  19  is:  0.6722221970558167 \n",
            "\n",
            "Accuracies over epochs: [0.644444465637207, 0.699999988079071, 0.6333333253860474, 0.7777777910232544, 0.6777777671813965, 0.5666666626930237, 0.5777778029441833, 0.5333333611488342, 0.5222222208976746, 0.5111111402511597, 0.5222222208976746, 0.5166666507720947, 0.6000000238418579, 0.5833333134651184, 0.5444444417953491, 0.6166666746139526, 0.6222222447395325, 0.6888889074325562, 0.6888889074325562, 0.6722221970558167] \n",
            "\n",
            "\n",
            "420/420 [==============================] - 56s 129ms/step - loss: 0.6223 - binary_accuracy: 0.6262 - val_loss: 0.5356 - val_binary_accuracy: 0.7000\n",
            "Run:  2 / Accuracy at epoch  0  is:  0.699999988079071 \n",
            "\n",
            "420/420 [==============================] - 20s 48ms/step - loss: 0.2995 - binary_accuracy: 0.8833 - val_loss: 0.6840 - val_binary_accuracy: 0.7000\n",
            "Run:  2 / Accuracy at epoch  1  is:  0.699999988079071 \n",
            "\n",
            "420/420 [==============================] - 19s 46ms/step - loss: 0.2184 - binary_accuracy: 0.9238 - val_loss: 1.1103 - val_binary_accuracy: 0.6222\n",
            "Run:  2 / Accuracy at epoch  2  is:  0.6222222447395325 \n",
            "\n",
            "420/420 [==============================] - 20s 47ms/step - loss: 0.1663 - binary_accuracy: 0.9595 - val_loss: 1.0819 - val_binary_accuracy: 0.6667\n",
            "Run:  2 / Accuracy at epoch  3  is:  0.6666666865348816 \n",
            "\n",
            "420/420 [==============================] - 20s 47ms/step - loss: 0.1321 - binary_accuracy: 0.9667 - val_loss: 1.5083 - val_binary_accuracy: 0.5889\n",
            "Run:  2 / Accuracy at epoch  4  is:  0.5888888835906982 \n",
            "\n",
            "420/420 [==============================] - 20s 46ms/step - loss: 0.1063 - binary_accuracy: 0.9786 - val_loss: 2.1651 - val_binary_accuracy: 0.5611\n",
            "Run:  2 / Accuracy at epoch  5  is:  0.5611110925674438 \n",
            "\n",
            "420/420 [==============================] - 20s 48ms/step - loss: 0.0711 - binary_accuracy: 0.9857 - val_loss: 3.8773 - val_binary_accuracy: 0.5222\n",
            "Run:  2 / Accuracy at epoch  6  is:  0.5222222208976746 \n",
            "\n",
            "420/420 [==============================] - 20s 48ms/step - loss: 0.0498 - binary_accuracy: 0.9905 - val_loss: 4.1531 - val_binary_accuracy: 0.5167\n",
            "Run:  2 / Accuracy at epoch  7  is:  0.5166666507720947 \n",
            "\n",
            "420/420 [==============================] - 19s 46ms/step - loss: 0.0354 - binary_accuracy: 0.9881 - val_loss: 5.8097 - val_binary_accuracy: 0.5111\n",
            "Run:  2 / Accuracy at epoch  8  is:  0.5111111402511597 \n",
            "\n",
            "420/420 [==============================] - 20s 49ms/step - loss: 0.0196 - binary_accuracy: 0.9929 - val_loss: 9.1232 - val_binary_accuracy: 0.5056\n",
            "Run:  2 / Accuracy at epoch  9  is:  0.5055555701255798 \n",
            "\n",
            "420/420 [==============================] - 20s 49ms/step - loss: 0.0133 - binary_accuracy: 0.9976 - val_loss: 9.1446 - val_binary_accuracy: 0.5056\n",
            "Run:  2 / Accuracy at epoch  10  is:  0.5055555701255798 \n",
            "\n",
            "420/420 [==============================] - 19s 46ms/step - loss: 0.0024 - binary_accuracy: 0.9976 - val_loss: 8.5810 - val_binary_accuracy: 0.5111\n",
            "Run:  2 / Accuracy at epoch  11  is:  0.5111111402511597 \n",
            "\n",
            "420/420 [==============================] - 20s 49ms/step - loss: 5.4906e-05 - binary_accuracy: 1.0000 - val_loss: 5.5780 - val_binary_accuracy: 0.5222\n",
            "Run:  2 / Accuracy at epoch  12  is:  0.5222222208976746 \n",
            "\n",
            "420/420 [==============================] - 20s 48ms/step - loss: 7.8152e-05 - binary_accuracy: 1.0000 - val_loss: 5.8830 - val_binary_accuracy: 0.5222\n",
            "Run:  2 / Accuracy at epoch  13  is:  0.5222222208976746 \n",
            "\n",
            "420/420 [==============================] - 19s 46ms/step - loss: 1.1152e-04 - binary_accuracy: 1.0000 - val_loss: 6.1557 - val_binary_accuracy: 0.5222\n",
            "Run:  2 / Accuracy at epoch  14  is:  0.5222222208976746 \n",
            "\n",
            "420/420 [==============================] - 20s 48ms/step - loss: 7.4277e-05 - binary_accuracy: 1.0000 - val_loss: 4.8831 - val_binary_accuracy: 0.5556\n",
            "Run:  2 / Accuracy at epoch  15  is:  0.5555555820465088 \n",
            "\n",
            "420/420 [==============================] - 21s 50ms/step - loss: 1.3374e-04 - binary_accuracy: 1.0000 - val_loss: 6.1126 - val_binary_accuracy: 0.5278\n",
            "Run:  2 / Accuracy at epoch  16  is:  0.5277777910232544 \n",
            "\n",
            "420/420 [==============================] - 19s 46ms/step - loss: 1.6285e-04 - binary_accuracy: 1.0000 - val_loss: 3.6505 - val_binary_accuracy: 0.6000\n",
            "Run:  2 / Accuracy at epoch  17  is:  0.6000000238418579 \n",
            "\n",
            "420/420 [==============================] - 20s 48ms/step - loss: 0.0037 - binary_accuracy: 0.9976 - val_loss: 2.9320 - val_binary_accuracy: 0.6278\n",
            "Run:  2 / Accuracy at epoch  18  is:  0.6277777552604675 \n",
            "\n",
            "420/420 [==============================] - 20s 48ms/step - loss: 1.9201e-05 - binary_accuracy: 1.0000 - val_loss: 3.2469 - val_binary_accuracy: 0.6167\n",
            "Run:  2 / Accuracy at epoch  19  is:  0.6166666746139526 \n",
            "\n",
            "Accuracies over epochs: [0.699999988079071, 0.699999988079071, 0.6222222447395325, 0.6666666865348816, 0.5888888835906982, 0.5611110925674438, 0.5222222208976746, 0.5166666507720947, 0.5111111402511597, 0.5055555701255798, 0.5055555701255798, 0.5111111402511597, 0.5222222208976746, 0.5222222208976746, 0.5222222208976746, 0.5555555820465088, 0.5277777910232544, 0.6000000238418579, 0.6277777552604675, 0.6166666746139526] \n",
            "\n",
            "\n",
            "420/420 [==============================] - 56s 130ms/step - loss: 0.6296 - binary_accuracy: 0.6310 - val_loss: 0.5057 - val_binary_accuracy: 0.7444\n",
            "Run:  3 / Accuracy at epoch  0  is:  0.7444444298744202 \n",
            "\n",
            "420/420 [==============================] - 20s 47ms/step - loss: 0.2978 - binary_accuracy: 0.8833 - val_loss: 0.6327 - val_binary_accuracy: 0.7222\n",
            "Run:  3 / Accuracy at epoch  1  is:  0.7222222089767456 \n",
            "\n",
            "420/420 [==============================] - 20s 48ms/step - loss: 0.2127 - binary_accuracy: 0.9214 - val_loss: 1.0643 - val_binary_accuracy: 0.6167\n",
            "Run:  3 / Accuracy at epoch  2  is:  0.6166666746139526 \n",
            "\n",
            "420/420 [==============================] - 19s 46ms/step - loss: 0.1625 - binary_accuracy: 0.9524 - val_loss: 1.2234 - val_binary_accuracy: 0.6278\n",
            "Run:  3 / Accuracy at epoch  3  is:  0.6277777552604675 \n",
            "\n",
            "420/420 [==============================] - 20s 48ms/step - loss: 0.1224 - binary_accuracy: 0.9762 - val_loss: 1.2033 - val_binary_accuracy: 0.6611\n",
            "Run:  3 / Accuracy at epoch  4  is:  0.6611111164093018 \n",
            "\n",
            "420/420 [==============================] - 20s 48ms/step - loss: 0.0868 - binary_accuracy: 0.9833 - val_loss: 2.7726 - val_binary_accuracy: 0.5333\n",
            "Run:  3 / Accuracy at epoch  5  is:  0.5333333611488342 \n",
            "\n",
            "420/420 [==============================] - 19s 46ms/step - loss: 0.0670 - binary_accuracy: 0.9857 - val_loss: 3.5661 - val_binary_accuracy: 0.5278\n",
            "Run:  3 / Accuracy at epoch  6  is:  0.5277777910232544 \n",
            "\n",
            "420/420 [==============================] - 20s 48ms/step - loss: 0.0526 - binary_accuracy: 0.9929 - val_loss: 5.0453 - val_binary_accuracy: 0.5111\n",
            "Run:  3 / Accuracy at epoch  7  is:  0.5111111402511597 \n",
            "\n",
            "420/420 [==============================] - 20s 48ms/step - loss: 0.0313 - binary_accuracy: 0.9952 - val_loss: 5.5328 - val_binary_accuracy: 0.5167\n",
            "Run:  3 / Accuracy at epoch  8  is:  0.5166666507720947 \n",
            "\n",
            "420/420 [==============================] - 20s 47ms/step - loss: 0.0291 - binary_accuracy: 0.9929 - val_loss: 6.3971 - val_binary_accuracy: 0.5111\n",
            "Run:  3 / Accuracy at epoch  9  is:  0.5111111402511597 \n",
            "\n",
            "420/420 [==============================] - 20s 47ms/step - loss: 0.0040 - binary_accuracy: 1.0000 - val_loss: 7.8835 - val_binary_accuracy: 0.5111\n",
            "Run:  3 / Accuracy at epoch  10  is:  0.5111111402511597 \n",
            "\n",
            "420/420 [==============================] - 20s 48ms/step - loss: 0.0016 - binary_accuracy: 1.0000 - val_loss: 5.1775 - val_binary_accuracy: 0.5222\n",
            "Run:  3 / Accuracy at epoch  11  is:  0.5222222208976746 \n",
            "\n",
            "420/420 [==============================] - 20s 47ms/step - loss: 1.7932e-04 - binary_accuracy: 1.0000 - val_loss: 3.8583 - val_binary_accuracy: 0.5611\n",
            "Run:  3 / Accuracy at epoch  12  is:  0.5611110925674438 \n",
            "\n",
            "420/420 [==============================] - 20s 47ms/step - loss: 7.7011e-05 - binary_accuracy: 1.0000 - val_loss: 5.2606 - val_binary_accuracy: 0.5278\n",
            "Run:  3 / Accuracy at epoch  13  is:  0.5277777910232544 \n",
            "\n",
            "420/420 [==============================] - 20s 48ms/step - loss: 3.6811e-05 - binary_accuracy: 1.0000 - val_loss: 4.0728 - val_binary_accuracy: 0.5611\n",
            "Run:  3 / Accuracy at epoch  14  is:  0.5611110925674438 \n",
            "\n",
            "420/420 [==============================] - 20s 48ms/step - loss: 0.0019 - binary_accuracy: 1.0000 - val_loss: 3.1213 - val_binary_accuracy: 0.6167\n",
            "Run:  3 / Accuracy at epoch  15  is:  0.6166666746139526 \n",
            "\n",
            "420/420 [==============================] - 20s 47ms/step - loss: 9.1212e-05 - binary_accuracy: 1.0000 - val_loss: 2.8495 - val_binary_accuracy: 0.6222\n",
            "Run:  3 / Accuracy at epoch  16  is:  0.6222222447395325 \n",
            "\n",
            "420/420 [==============================] - 20s 48ms/step - loss: 0.0137 - binary_accuracy: 0.9976 - val_loss: 2.8108 - val_binary_accuracy: 0.6222\n",
            "Run:  3 / Accuracy at epoch  17  is:  0.6222222447395325 \n",
            "\n",
            "420/420 [==============================] - 20s 48ms/step - loss: 2.5379e-05 - binary_accuracy: 1.0000 - val_loss: 2.7504 - val_binary_accuracy: 0.6333\n",
            "Run:  3 / Accuracy at epoch  18  is:  0.6333333253860474 \n",
            "\n",
            "420/420 [==============================] - 20s 48ms/step - loss: 1.6936e-04 - binary_accuracy: 1.0000 - val_loss: 2.7779 - val_binary_accuracy: 0.6389\n",
            "Run:  3 / Accuracy at epoch  19  is:  0.6388888955116272 \n",
            "\n",
            "Accuracies over epochs: [0.7444444298744202, 0.7222222089767456, 0.6166666746139526, 0.6277777552604675, 0.6611111164093018, 0.5333333611488342, 0.5277777910232544, 0.5111111402511597, 0.5166666507720947, 0.5111111402511597, 0.5111111402511597, 0.5222222208976746, 0.5611110925674438, 0.5277777910232544, 0.5611110925674438, 0.6166666746139526, 0.6222222447395325, 0.6222222447395325, 0.6333333253860474, 0.6388888955116272] \n",
            "\n",
            "\n",
            "420/420 [==============================] - 57s 131ms/step - loss: 0.6292 - binary_accuracy: 0.6143 - val_loss: 0.5630 - val_binary_accuracy: 0.6389\n",
            "Run:  4 / Accuracy at epoch  0  is:  0.6388888955116272 \n",
            "\n",
            "420/420 [==============================] - 21s 49ms/step - loss: 0.3062 - binary_accuracy: 0.8857 - val_loss: 0.7250 - val_binary_accuracy: 0.6611\n",
            "Run:  4 / Accuracy at epoch  1  is:  0.6611111164093018 \n",
            "\n",
            "420/420 [==============================] - 20s 48ms/step - loss: 0.2001 - binary_accuracy: 0.9310 - val_loss: 1.2000 - val_binary_accuracy: 0.6000\n",
            "Run:  4 / Accuracy at epoch  2  is:  0.6000000238418579 \n",
            "\n",
            "420/420 [==============================] - 20s 46ms/step - loss: 0.1626 - binary_accuracy: 0.9571 - val_loss: 1.1052 - val_binary_accuracy: 0.6444\n",
            "Run:  4 / Accuracy at epoch  3  is:  0.644444465637207 \n",
            "\n",
            "420/420 [==============================] - 20s 48ms/step - loss: 0.1129 - binary_accuracy: 0.9738 - val_loss: 1.7830 - val_binary_accuracy: 0.5722\n",
            "Run:  4 / Accuracy at epoch  4  is:  0.5722222328186035 \n",
            "\n",
            "420/420 [==============================] - 20s 48ms/step - loss: 0.0853 - binary_accuracy: 0.9810 - val_loss: 2.7558 - val_binary_accuracy: 0.5278\n",
            "Run:  4 / Accuracy at epoch  5  is:  0.5277777910232544 \n",
            "\n",
            "420/420 [==============================] - 19s 46ms/step - loss: 0.0600 - binary_accuracy: 0.9905 - val_loss: 2.9308 - val_binary_accuracy: 0.5444\n",
            "Run:  4 / Accuracy at epoch  6  is:  0.5444444417953491 \n",
            "\n",
            "420/420 [==============================] - 20s 48ms/step - loss: 0.0480 - binary_accuracy: 0.9905 - val_loss: 4.6210 - val_binary_accuracy: 0.5167\n",
            "Run:  4 / Accuracy at epoch  7  is:  0.5166666507720947 \n",
            "\n",
            "420/420 [==============================] - 20s 48ms/step - loss: 0.0224 - binary_accuracy: 0.9905 - val_loss: 7.9021 - val_binary_accuracy: 0.5056\n",
            "Run:  4 / Accuracy at epoch  8  is:  0.5055555701255798 \n",
            "\n",
            "420/420 [==============================] - 20s 47ms/step - loss: 0.0105 - binary_accuracy: 0.9976 - val_loss: 7.3543 - val_binary_accuracy: 0.5111\n",
            "Run:  4 / Accuracy at epoch  9  is:  0.5111111402511597 \n",
            "\n",
            "420/420 [==============================] - 20s 49ms/step - loss: 0.0013 - binary_accuracy: 1.0000 - val_loss: 4.8309 - val_binary_accuracy: 0.5278\n",
            "Run:  4 / Accuracy at epoch  10  is:  0.5277777910232544 \n",
            "\n",
            "420/420 [==============================] - 21s 49ms/step - loss: 2.1057e-04 - binary_accuracy: 1.0000 - val_loss: 3.7061 - val_binary_accuracy: 0.5667\n",
            "Run:  4 / Accuracy at epoch  11  is:  0.5666666626930237 \n",
            "\n",
            "420/420 [==============================] - 20s 48ms/step - loss: 1.1723e-04 - binary_accuracy: 1.0000 - val_loss: 3.8855 - val_binary_accuracy: 0.5667\n",
            "Run:  4 / Accuracy at epoch  12  is:  0.5666666626930237 \n",
            "\n",
            "420/420 [==============================] - 20s 49ms/step - loss: 3.0177e-05 - binary_accuracy: 1.0000 - val_loss: 4.0811 - val_binary_accuracy: 0.5722\n",
            "Run:  4 / Accuracy at epoch  13  is:  0.5722222328186035 \n",
            "\n",
            "420/420 [==============================] - 21s 49ms/step - loss: 4.5804e-05 - binary_accuracy: 1.0000 - val_loss: 3.8146 - val_binary_accuracy: 0.5722\n",
            "Run:  4 / Accuracy at epoch  14  is:  0.5722222328186035 \n",
            "\n",
            "420/420 [==============================] - 20s 49ms/step - loss: 5.7116e-05 - binary_accuracy: 1.0000 - val_loss: 3.4046 - val_binary_accuracy: 0.5833\n",
            "Run:  4 / Accuracy at epoch  15  is:  0.5833333134651184 \n",
            "\n",
            "420/420 [==============================] - 20s 49ms/step - loss: 8.5314e-05 - binary_accuracy: 1.0000 - val_loss: 4.8850 - val_binary_accuracy: 0.5389\n",
            "Run:  4 / Accuracy at epoch  16  is:  0.5388888716697693 \n",
            "\n",
            "420/420 [==============================] - 20s 48ms/step - loss: 7.3312e-05 - binary_accuracy: 1.0000 - val_loss: 4.9219 - val_binary_accuracy: 0.5389\n",
            "Run:  4 / Accuracy at epoch  17  is:  0.5388888716697693 \n",
            "\n",
            "420/420 [==============================] - 20s 48ms/step - loss: 6.1431e-05 - binary_accuracy: 1.0000 - val_loss: 3.6006 - val_binary_accuracy: 0.5833\n",
            "Run:  4 / Accuracy at epoch  18  is:  0.5833333134651184 \n",
            "\n",
            "420/420 [==============================] - 21s 49ms/step - loss: 8.7970e-06 - binary_accuracy: 1.0000 - val_loss: 4.0654 - val_binary_accuracy: 0.5667\n",
            "Run:  4 / Accuracy at epoch  19  is:  0.5666666626930237 \n",
            "\n",
            "Accuracies over epochs: [0.6388888955116272, 0.6611111164093018, 0.6000000238418579, 0.644444465637207, 0.5722222328186035, 0.5277777910232544, 0.5444444417953491, 0.5166666507720947, 0.5055555701255798, 0.5111111402511597, 0.5277777910232544, 0.5666666626930237, 0.5666666626930237, 0.5722222328186035, 0.5722222328186035, 0.5833333134651184, 0.5388888716697693, 0.5388888716697693, 0.5833333134651184, 0.5666666626930237] \n",
            "\n",
            "\n",
            "420/420 [==============================] - 58s 134ms/step - loss: 0.6334 - binary_accuracy: 0.6167 - val_loss: 0.4749 - val_binary_accuracy: 0.8556\n",
            "Run:  5 / Accuracy at epoch  0  is:  0.855555534362793 \n",
            "\n",
            "420/420 [==============================] - 20s 47ms/step - loss: 0.2944 - binary_accuracy: 0.8810 - val_loss: 0.4654 - val_binary_accuracy: 0.8222\n",
            "Run:  5 / Accuracy at epoch  1  is:  0.8222222328186035 \n",
            "\n",
            "420/420 [==============================] - 20s 48ms/step - loss: 0.2103 - binary_accuracy: 0.9190 - val_loss: 0.6589 - val_binary_accuracy: 0.7611\n",
            "Run:  5 / Accuracy at epoch  2  is:  0.7611111402511597 \n",
            "\n",
            "420/420 [==============================] - 20s 49ms/step - loss: 0.1662 - binary_accuracy: 0.9595 - val_loss: 0.5834 - val_binary_accuracy: 0.7944\n",
            "Run:  5 / Accuracy at epoch  3  is:  0.7944444417953491 \n",
            "\n",
            "420/420 [==============================] - 20s 47ms/step - loss: 0.1252 - binary_accuracy: 0.9714 - val_loss: 1.1252 - val_binary_accuracy: 0.6500\n",
            "Run:  5 / Accuracy at epoch  4  is:  0.6499999761581421 \n",
            "\n",
            "420/420 [==============================] - 20s 47ms/step - loss: 0.0980 - binary_accuracy: 0.9810 - val_loss: 1.6883 - val_binary_accuracy: 0.6000\n",
            "Run:  5 / Accuracy at epoch  5  is:  0.6000000238418579 \n",
            "\n",
            "420/420 [==============================] - 20s 48ms/step - loss: 0.0587 - binary_accuracy: 0.9881 - val_loss: 2.5443 - val_binary_accuracy: 0.5611\n",
            "Run:  5 / Accuracy at epoch  6  is:  0.5611110925674438 \n",
            "\n",
            "420/420 [==============================] - 21s 49ms/step - loss: 0.0412 - binary_accuracy: 0.9929 - val_loss: 2.9189 - val_binary_accuracy: 0.5667\n",
            "Run:  5 / Accuracy at epoch  7  is:  0.5666666626930237 \n",
            "\n",
            "420/420 [==============================] - 20s 48ms/step - loss: 0.0310 - binary_accuracy: 0.9929 - val_loss: 3.1765 - val_binary_accuracy: 0.5778\n",
            "Run:  5 / Accuracy at epoch  8  is:  0.5777778029441833 \n",
            "\n",
            "420/420 [==============================] - 20s 49ms/step - loss: 0.0034 - binary_accuracy: 0.9976 - val_loss: 3.2996 - val_binary_accuracy: 0.5778\n",
            "Run:  5 / Accuracy at epoch  9  is:  0.5777778029441833 \n",
            "\n",
            "420/420 [==============================] - 20s 47ms/step - loss: 0.0014 - binary_accuracy: 1.0000 - val_loss: 4.5518 - val_binary_accuracy: 0.5444\n",
            "Run:  5 / Accuracy at epoch  10  is:  0.5444444417953491 \n",
            "\n",
            "420/420 [==============================] - 20s 48ms/step - loss: 3.9178e-04 - binary_accuracy: 1.0000 - val_loss: 3.0707 - val_binary_accuracy: 0.5889\n",
            "Run:  5 / Accuracy at epoch  11  is:  0.5888888835906982 \n",
            "\n",
            "420/420 [==============================] - 20s 48ms/step - loss: 3.3699e-05 - binary_accuracy: 1.0000 - val_loss: 2.7558 - val_binary_accuracy: 0.6222\n",
            "Run:  5 / Accuracy at epoch  12  is:  0.6222222447395325 \n",
            "\n",
            "420/420 [==============================] - 20s 48ms/step - loss: 7.5267e-05 - binary_accuracy: 1.0000 - val_loss: 2.6856 - val_binary_accuracy: 0.6333\n",
            "Run:  5 / Accuracy at epoch  13  is:  0.6333333253860474 \n",
            "\n",
            "420/420 [==============================] - 20s 47ms/step - loss: 5.8667e-04 - binary_accuracy: 1.0000 - val_loss: 2.1136 - val_binary_accuracy: 0.6889\n",
            "Run:  5 / Accuracy at epoch  14  is:  0.6888889074325562 \n",
            "\n",
            "420/420 [==============================] - 20s 49ms/step - loss: 3.4819e-04 - binary_accuracy: 1.0000 - val_loss: 1.6917 - val_binary_accuracy: 0.7556\n",
            "Run:  5 / Accuracy at epoch  15  is:  0.7555555701255798 \n",
            "\n",
            "420/420 [==============================] - 21s 49ms/step - loss: 6.6750e-04 - binary_accuracy: 1.0000 - val_loss: 2.1255 - val_binary_accuracy: 0.7056\n",
            "Run:  5 / Accuracy at epoch  16  is:  0.7055555582046509 \n",
            "\n",
            "420/420 [==============================] - 20s 48ms/step - loss: 6.3820e-04 - binary_accuracy: 1.0000 - val_loss: 2.0901 - val_binary_accuracy: 0.7222\n",
            "Run:  5 / Accuracy at epoch  17  is:  0.7222222089767456 \n",
            "\n",
            "420/420 [==============================] - 20s 49ms/step - loss: 2.3760e-05 - binary_accuracy: 1.0000 - val_loss: 1.7689 - val_binary_accuracy: 0.7611\n",
            "Run:  5 / Accuracy at epoch  18  is:  0.7611111402511597 \n",
            "\n",
            "420/420 [==============================] - 20s 48ms/step - loss: 4.5289e-05 - binary_accuracy: 1.0000 - val_loss: 1.8291 - val_binary_accuracy: 0.7500\n",
            "Run:  5 / Accuracy at epoch  19  is:  0.75 \n",
            "\n",
            "Accuracies over epochs: [0.855555534362793, 0.8222222328186035, 0.7611111402511597, 0.7944444417953491, 0.6499999761581421, 0.6000000238418579, 0.5611110925674438, 0.5666666626930237, 0.5777778029441833, 0.5777778029441833, 0.5444444417953491, 0.5888888835906982, 0.6222222447395325, 0.6333333253860474, 0.6888889074325562, 0.7555555701255798, 0.7055555582046509, 0.7222222089767456, 0.7611111402511597, 0.75] \n",
            "\n",
            "\n",
            "\n",
            "\n",
            " Over all runs maximum accuracies on English are: [0.6611111164093018, 0.699999988079071, 0.7444444298744202, 0.7777777910232544, 0.855555534362793]\n",
            "The median for English is: 0.7444444298744202 \n",
            "\n",
            "\n",
            "\n",
            "CNN Accuracy Score on Test set ->  ['0.7444444298744202 +/- 0.1111111044883728']\n"
          ]
        }
      ],
      "source": [
        "tf.random.set_seed(1)\n",
        "\n",
        "# Reset model_results list.\n",
        "for key in prepro_functions_dict_comb:\n",
        "  model_results[key]=[]\n",
        "\n",
        "for key in prepro_functions_dict_comb:\n",
        "  runs_accuracy = []\n",
        "\n",
        "  print(\"\\n\\n* * * * EVALUATION USING\", key, \"AS PREPROCESSING FUNCTION * * * *\")\n",
        "\n",
        "  # Preprocess training set to build a dictionary.\n",
        "  vectorize_layer = preprocess_and_adapt_ts(prepro_functions_dict_comb[key],train_ds)\n",
        "\n",
        "  max_features=len(vectorize_layer.get_vocabulary()) + 1\n",
        "  print(\"Vocabulary size is:\", max_features)\n",
        "\n",
        "  for run in range(1,(num_runs+1)):\n",
        "    epochs_accuracy=[]\n",
        "    model = tf.keras.Sequential([\n",
        "                                    tf.keras.Input(shape=(1,), dtype=tf.string),\n",
        "                                    vectorize_layer,\n",
        "                                    layers.Embedding(max_features + 1, embedding_dim),                     \n",
        "                                    layers.Dropout(0.8),\n",
        "\n",
        "                                    layers.Conv1D(256,16,activation='relu'),\n",
        "                                    layers.MaxPooling1D(),\n",
        "                                    layers.Dropout(0.6),\n",
        "\n",
        "                                    layers.Dense(512,activation='relu'),\n",
        "                           \n",
        "                                    layers.GlobalAveragePooling1D(),\n",
        "                                    layers.Dropout(0.2),\n",
        "                                    layers.Dense(1)                            \n",
        "    ])\n",
        "    model.compile(loss=losses.BinaryCrossentropy(from_logits=True), optimizer='RMSprop', metrics=tf.metrics.BinaryAccuracy(threshold=0.0)) \n",
        "\n",
        "    for epoch in range (0,num_epochs_per_run):\n",
        "        history = model.fit(\n",
        "          train_ds,\n",
        "          validation_data = test_ds,\n",
        "          epochs=1,\n",
        "          shuffle=False,\n",
        "          # Comment the following line to do not save and download the model.\n",
        "          #callbacks=[callbacks]\n",
        "          )\n",
        "        accuracy = history.history['val_binary_accuracy']\n",
        "        print(\"Run: \",run,\"/ Accuracy at epoch \",epoch,\" is: \", accuracy[0],\"\\n\")\n",
        "        epochs_accuracy.append(accuracy[0])\n",
        "\n",
        "    print(\"Accuracies over epochs:\",epochs_accuracy,\"\\n\\n\")\n",
        "    runs_accuracy.append(max(epochs_accuracy))\n",
        "\n",
        "  runs_accuracy.sort()\n",
        "  print(\"\\n\\n Over all runs maximum accuracies on English are:\", runs_accuracy)\n",
        "  print(\"The median for English is:\",runs_accuracy[2],\"\\n\\n\\n\")\n",
        "  \n",
        "  if (runs_accuracy[2]-runs_accuracy[0])>(runs_accuracy[4]-runs_accuracy[2]):\n",
        "    max_range_from_median = runs_accuracy[2]-runs_accuracy[0]\n",
        "  else:\n",
        "    max_range_from_median = runs_accuracy[4]-runs_accuracy[2]\n",
        "  final_result = str(runs_accuracy[2])+\" +/- \"+ str(max_range_from_median)\n",
        "  model_results[key].append(final_result)\n",
        "  print(\"CNN Accuracy Score on Test set -> \",model_results[key])"
      ]
    },
    {
      "cell_type": "markdown",
      "metadata": {
        "id": "6uMKAeuegNk1"
      },
      "source": [
        "## Now show compact results in a table."
      ]
    },
    {
      "cell_type": "code",
      "execution_count": 24,
      "metadata": {
        "id": "AJ79RMougNRA",
        "colab": {
          "base_uri": "https://localhost:8080/"
        },
        "outputId": "68eff8d1-6315-4411-b958-676ebdc7536a"
      },
      "outputs": [
        {
          "output_type": "stream",
          "name": "stdout",
          "text": [
            " PREPRO FUNCTION    |  Test Accuracy   |\n",
            "\n",
            "DON                        0.7444444298744202 +/- 0.1111111044883728\n",
            "\n",
            "\n"
          ]
        }
      ],
      "source": [
        "print(\" PREPRO FUNCTION    |  Test Accuracy   |\",end = '')\n",
        "\n",
        "print(\"\\n\")\n",
        "for prepro_func in prepro_functions_dict_comb:\n",
        "  #print(prepro_func,\"\\t\\t\\t\",format(round(model_results[prepro_func][0],4),'.4f'),\"\\t\\t\",end='')\n",
        "  result = model_results[prepro_func][0]\n",
        "  # result = format(round(model_results[prepro_func][0],4),'.4f')\n",
        "  print(f'{prepro_func:27}{ result :12}')\n",
        "  print(\"\\n\")"
      ]
    }
  ],
  "metadata": {
    "colab": {
      "provenance": [],
      "collapsed_sections": [
        "6IBqUcj4cx2G"
      ],
      "include_colab_link": true
    },
    "kernelspec": {
      "display_name": "Python 3",
      "name": "python3"
    },
    "gpuClass": "standard",
    "accelerator": "GPU"
  },
  "nbformat": 4,
  "nbformat_minor": 0
}