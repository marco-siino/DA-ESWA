{
  "nbformat": 4,
  "nbformat_minor": 0,
  "metadata": {
    "accelerator": "TPU",
    "colab": {
      "provenance": [],
      "include_colab_link": true
    },
    "kernelspec": {
      "display_name": "Python 3",
      "name": "python3"
    }
  },
  "cells": [
    {
      "cell_type": "markdown",
      "metadata": {
        "id": "view-in-github",
        "colab_type": "text"
      },
      "source": [
        "<a href=\"https://colab.research.google.com/github/marco-siino/DA-ESWA/blob/main/code/SVM_HSS_not_augmented_NB.ipynb\" target=\"_parent\"><img src=\"https://colab.research.google.com/assets/colab-badge.svg\" alt=\"Open In Colab\"/></a>"
      ]
    },
    {
      "cell_type": "markdown",
      "metadata": {
        "id": "u-hLo5ufkCT1"
      },
      "source": [
        "## Text preprocessing worth the time: A comparative survey on the impact of common techniques on NLP model performances. \n",
        "- - - \n",
        "SVM ON FAKE NEWS SPREADERS DS EXPERIMENTS NOTEBOOK \n",
        "- - -\n",
        "Support Vector Machine on Fake News Spreaders Dataset.\n",
        "Code by M. Siino. \n",
        "\n",
        "From the paper: \"Text preprocessing worth the time: A comparative survey on the impact of common techniques on NLP model performances.\" by M.Siino et al.\n",
        "\n"
      ]
    },
    {
      "cell_type": "markdown",
      "metadata": {
        "id": "6IBqUcj4cx2G"
      },
      "source": [
        "## Importing modules."
      ]
    },
    {
      "cell_type": "code",
      "metadata": {
        "id": "AQSunQ-ucjLX"
      },
      "source": [
        "import matplotlib.pyplot as plt\n",
        "import os\n",
        "import random\n",
        "import re\n",
        "import shutil\n",
        "import string\n",
        "import tensorflow as tf\n",
        "\n",
        "from tensorflow.keras import layers\n",
        "from tensorflow.keras import losses\n",
        "from tensorflow.keras import preprocessing\n",
        "from tensorflow.keras.layers.experimental.preprocessing import TextVectorization\n",
        "from google.colab import files\n",
        "from io import open\n",
        "from numpy.random import seed\n",
        "import numpy as np\n",
        "from pathlib import Path\n",
        "from sklearn import svm\n",
        "\n",
        "os.environ['TF_CUDNN_DETERMINISTIC']='true'\n",
        "os.environ['TF_DETERMINISTIC_OPS']='true'"
      ],
      "execution_count": 1,
      "outputs": []
    },
    {
      "cell_type": "markdown",
      "metadata": {
        "id": "0QHd_fxmHCfa"
      },
      "source": [
        "## Importing DS and extract in current working directory."
      ]
    },
    {
      "cell_type": "code",
      "metadata": {
        "colab": {
          "base_uri": "https://localhost:8080/"
        },
        "id": "ocYMUXaY8r0_",
        "outputId": "b9f2c567-4be4-41e1-a99a-0bbbe83fe424"
      },
      "source": [
        "# Url obtained starting from this: https://drive.google.com/file/d/19ZcqEv88euKB71HfAWjTGN3uCKp2qsfP/ and forcing export=download.\n",
        "urlTrainingSet = \"https://github.com/marco-siino/DA-ESWA/blob/main/data/hss/hss-training-original.zip?raw=true\"\n",
        "urlTestSet=\"https://github.com/marco-siino/DA-ESWA/blob/main/data/hss/hss-test-cleaned.zip?raw=true\"\n",
        "\n",
        "training_set = tf.keras.utils.get_file(\"pan21-author-profiling-training-2021-03-14.zip\", urlTrainingSet,\n",
        "                                    extract=True, archive_format='zip',cache_dir='.',\n",
        "                                    cache_subdir='')\n",
        "test_set = tf.keras.utils.get_file(\"pan21-author-profiling-test-without-gold-augmented.zip\", urlTestSet,\n",
        "                                    extract=True, archive_format='zip',cache_dir='.',\n",
        "                                    cache_subdir='')\n",
        "\n",
        "training_set_dir = os.path.join(os.path.dirname(training_set), 'pan21-author-profiling-training-2021-03-14')\n",
        "test_set_dir = os.path.join(os.path.dirname(test_set), 'pan21-author-profiling-test-without-gold-augmented')\n",
        "\n",
        "print(training_set)\n",
        "print(training_set_dir)\n",
        "\n",
        "!ls -A"
      ],
      "execution_count": 2,
      "outputs": [
        {
          "output_type": "stream",
          "name": "stdout",
          "text": [
            "Downloading data from https://github.com/marco-siino/DA-ESWA/blob/main/data/hss/hss-training-original.zip?raw=true\n",
            "2822571/2822571 [==============================] - 0s 0us/step\n",
            "Downloading data from https://github.com/marco-siino/DA-ESWA/blob/main/data/hss/hss-test-cleaned.zip?raw=true\n",
            "653272/653272 [==============================] - 0s 0us/step\n",
            "./pan21-author-profiling-training-2021-03-14.zip\n",
            "./pan21-author-profiling-training-2021-03-14\n",
            ".config\n",
            "pan21-author-profiling-test-without-gold-augmented\n",
            "pan21-author-profiling-test-without-gold-augmented.zip\n",
            "pan21-author-profiling-training-2021-03-14\n",
            "pan21-author-profiling-training-2021-03-14.zip\n",
            "sample_data\n"
          ]
        }
      ]
    },
    {
      "cell_type": "markdown",
      "metadata": {
        "id": "Di7jOZjALo4X"
      },
      "source": [
        "## Build folders hierarchy to use Keras folders preprocessing function."
      ]
    },
    {
      "cell_type": "code",
      "metadata": {
        "colab": {
          "base_uri": "https://localhost:8080/"
        },
        "id": "-ucATWhfGSGf",
        "outputId": "57ead047-cd70-449f-d760-e6cb696cbe14"
      },
      "source": [
        "### Training Folders. ###\n",
        "\n",
        "# First level directory.\n",
        "if not os.path.exists('train_dir_en'):\n",
        "    os.makedirs('train_dir_en')\n",
        "\n",
        "# Class labels directory.\n",
        "if not os.path.exists('train_dir_en/0'):\n",
        "    os.makedirs('train_dir_en/0')\n",
        "if not os.path.exists('train_dir_en/1'):\n",
        "    os.makedirs('train_dir_en/1')\n",
        "\n",
        "# Make Py variables.\n",
        "train_dir='train_dir_'\n",
        "\n",
        "## Test Folders. ##\n",
        "# First level directory.\n",
        "if not os.path.exists('test_dir_en'):\n",
        "    os.makedirs('test_dir_en')\n",
        "\n",
        "# Class labels directory.\n",
        "if not os.path.exists('test_dir_en/0'):\n",
        "    os.makedirs('test_dir_en/0')\n",
        "if not os.path.exists('test_dir_en/1'):\n",
        "    os.makedirs('test_dir_en/1')\n",
        "\n",
        "# Make Py variables.\n",
        "test_dir='test_dir_'\n",
        "\n",
        "!ls -A"
      ],
      "execution_count": 3,
      "outputs": [
        {
          "output_type": "stream",
          "name": "stdout",
          "text": [
            ".config\n",
            "pan21-author-profiling-test-without-gold-augmented\n",
            "pan21-author-profiling-test-without-gold-augmented.zip\n",
            "pan21-author-profiling-training-2021-03-14\n",
            "pan21-author-profiling-training-2021-03-14.zip\n",
            "sample_data\n",
            "test_dir_en\n",
            "train_dir_en\n"
          ]
        }
      ]
    },
    {
      "cell_type": "markdown",
      "metadata": {
        "id": "tNib56hF_8an"
      },
      "source": [
        "## Set language and directory paths.\n"
      ]
    },
    {
      "cell_type": "code",
      "metadata": {
        "id": "Rq0EgZuf_5tv"
      },
      "source": [
        "# Set en and es ground truth file path for train_dir. We haven't a ground truth file for the test set.\n",
        "language='en'\n",
        "\n",
        "truth_file_training_dir_en=training_set_dir+'/'+language+'/'\n",
        "truth_file_training_path_en = truth_file_training_dir_en+'truth.txt'\n",
        "\n",
        "truth_file_test_dir=test_set_dir\n",
        "truth_file_test_path_en = truth_file_test_dir+'/'+'truth'+'.txt'"
      ],
      "execution_count": 5,
      "outputs": []
    },
    {
      "cell_type": "markdown",
      "metadata": {
        "id": "7VQKsc4XOpD8"
      },
      "source": [
        "## Read truth.txt to organize training and test dataset folders.\n",
        "\n"
      ]
    },
    {
      "cell_type": "code",
      "metadata": {
        "id": "4kxcJ92-Nkto"
      },
      "source": [
        "# Open the file truth.txt with read only permit.\n",
        "f = open(truth_file_training_path_en, \"r\")\n",
        "# use readline() to read the first line \n",
        "line = f.readline()\n",
        "# use the read line to read further.\n",
        "# If the file is not empty keep reading one line\n",
        "# at a time, till the file is empty\n",
        "while line:\n",
        "    # Split line at :::\n",
        "    x = line.split(\":::\")\n",
        "    fNameXml = x[0]+'.xml'\n",
        "    fNameTxt = x[0]+'.txt'\n",
        "    # Second coord [0] gets just the first character (label) and not /n too.\n",
        "    label = x[1][0]\n",
        "\n",
        "    # Now move the file to the right folder.\n",
        "    if os.path.exists(truth_file_training_dir_en+fNameXml):\n",
        "      os.rename(truth_file_training_dir_en+fNameXml, './train_dir_'+language+'/'+label+'/'+fNameTxt )\n",
        "\n",
        "    # use readline() to read next line\n",
        "    line = f.readline()\n",
        "\n",
        "# Open the file truth.txt with read only permit.\n",
        "f = open(truth_file_test_path_en, \"r\")\n",
        "# use readline() to read the first line \n",
        "line = f.readline()\n",
        "# use the read line to read further.\n",
        "# If the file is not empty keep reading one line\n",
        "# at a time, till the file is empty\n",
        "while line:\n",
        "    # Split line at :::\n",
        "    x = line.split(\":::\")\n",
        "    fNameXml = x[0]+'.xml'\n",
        "    fNameTxt = x[0]+'.txt'\n",
        "    # Second coord [0] gets just the first character (label) and not /n too.\n",
        "    label = x[1][0]\n",
        "\n",
        "    # Now move the file to the right folder.\n",
        "    if os.path.exists(truth_file_test_dir+'/'+language+'/'+fNameXml):\n",
        "      os.rename(truth_file_test_dir+'/'+language+'/'+fNameXml, './test_dir_'+language+'/'+label+'/'+fNameTxt )\n",
        "\n",
        "    # use readline() to read next line\n",
        "    line = f.readline()"
      ],
      "execution_count": 6,
      "outputs": []
    },
    {
      "cell_type": "markdown",
      "metadata": {
        "id": "uTJi1fbT_Rup"
      },
      "source": [
        "## Generate full training set.\n",
        "\n"
      ]
    },
    {
      "cell_type": "code",
      "metadata": {
        "colab": {
          "base_uri": "https://localhost:8080/"
        },
        "id": "FyafvXEMhEKw",
        "outputId": "ea832d68-4b43-464a-af73-d222c0494c8c"
      },
      "source": [
        "# Generate full randomized training set.\n",
        "batch_size=1\n",
        "\n",
        "en_train_ds = tf.keras.preprocessing.text_dataset_from_directory(\n",
        "    train_dir+language, \n",
        "    batch_size=batch_size,\n",
        "    shuffle=False\n",
        "    )\n",
        "\n",
        "en_test_ds = tf.keras.preprocessing.text_dataset_from_directory(\n",
        "    test_dir+language, \n",
        "    batch_size=batch_size,\n",
        "    shuffle=False\n",
        "    )\n",
        "\n",
        "train_ds=en_train_ds.shuffle(300,seed=1, reshuffle_each_iteration=False)\n",
        "test_ds=en_test_ds.shuffle(200,seed=1, reshuffle_each_iteration=False)\n",
        "\n",
        "train_ds_size=len(train_ds)\n",
        "test_ds_size=len(test_ds)"
      ],
      "execution_count": 7,
      "outputs": [
        {
          "output_type": "stream",
          "name": "stdout",
          "text": [
            "Found 200 files belonging to 2 classes.\n",
            "Found 100 files belonging to 2 classes.\n"
          ]
        }
      ]
    },
    {
      "cell_type": "markdown",
      "metadata": {
        "id": "ITouXXtQ8WzV"
      },
      "source": [
        "## Functions to pre-process source text. (A detailed discussion on our paper)"
      ]
    },
    {
      "cell_type": "code",
      "metadata": {
        "id": "bDPIqAgXYWim"
      },
      "source": [
        "# Do-Nothing preprocessing function.\n",
        "def DON(input_data):\n",
        "  tag_open_CDATA_removed = tf.strings.regex_replace(input_data, '<\\!\\[CDATA\\[', ' ')\n",
        "  tag_closed_CDATA_removed = tf.strings.regex_replace(tag_open_CDATA_removed,'\\]{1,}>', ' ')\n",
        "  tag_author_lang_en_removed = tf.strings.regex_replace(tag_closed_CDATA_removed,'<author lang=\"en\">', ' ')\n",
        "  tag_closed_author_removed = tf.strings.regex_replace(tag_author_lang_en_removed,'</author>', ' ')\n",
        "  tag_open_documents_removed = tf.strings.regex_replace(tag_closed_author_removed,'<documents>\\n(\\t){0,2}', '')\n",
        "  output_data = tf.strings.regex_replace(tag_open_documents_removed,'</documents>\\n(\\t){0,2}', ' ')\n",
        "  return output_data"
      ],
      "execution_count": 8,
      "outputs": []
    },
    {
      "cell_type": "markdown",
      "metadata": {
        "id": "TjUnE9_DEyCw"
      },
      "source": [
        "## Get the length of the longest sample in training set. Then adapt text.\n",
        "\n"
      ]
    },
    {
      "cell_type": "code",
      "metadata": {
        "id": "ebRMQqa_mr48"
      },
      "source": [
        "def preprocess_and_adapt_ts(preprocessing_function,training_set):\n",
        "  # Set a very large sequence length to find the longest sample in the training set.\n",
        "  sequence_length = 10000\n",
        "  vectorize_layer = TextVectorization(\n",
        "      standardize=preprocessing_function,\n",
        "      output_mode='int',\n",
        "      output_sequence_length=sequence_length)\n",
        "\n",
        "  train_text = training_set.map(lambda x, y: x)\n",
        "  vectorize_layer.adapt(train_text)\n",
        "  #vectorize_layer.get_vocabulary()\n",
        "\n",
        "  model = tf.keras.models.Sequential()\n",
        "  model.add(tf.keras.Input(shape=(1,), dtype=tf.string))\n",
        "  model.add(vectorize_layer)\n",
        "\n",
        "  longest_sample_length=1\n",
        "\n",
        "  for element in training_set:\n",
        "    authorDocument=element[0]\n",
        "    label=element[1]\n",
        "    \n",
        "    #print(\"Sample considered is: \", authorDocument[0].numpy())\n",
        "    #print(\"Preprocessed: \", str(custom_standardization(authorDocument[0].numpy())))\n",
        "    #print(\"And has label: \", label[0].numpy())\n",
        "\n",
        "    # Count the number of zeros from the last non-zero token to the end of the sample. \n",
        "    # Shortest tokenized sample has less zeros than others.\n",
        "    out=model(authorDocument)\n",
        "    token_nr_index=sequence_length-1\n",
        "    current_sample_zeros_counter=0\n",
        "    while out.numpy()[0][token_nr_index]==0:\n",
        "      token_nr_index-=1\n",
        "      current_sample_zeros_counter+=1\n",
        "\n",
        "    shortest_padding_length=sequence_length-longest_sample_length\n",
        "    if current_sample_zeros_counter<shortest_padding_length:\n",
        "      longest_sample_length=sequence_length-current_sample_zeros_counter\n",
        "\n",
        "  #print(out.numpy()[0][3229:3400])\n",
        "  #print(longest_sample_length)\n",
        "\n",
        "  # After tokenization longest_sample_length covers all the document lenghts in our dataset.\n",
        "  sequence_length = longest_sample_length\n",
        "\n",
        "  vectorize_layer = TextVectorization(\n",
        "      standardize=preprocessing_function,\n",
        "      output_mode='int',\n",
        "      output_sequence_length=sequence_length)\n",
        "\n",
        "  # Finally adapt the vectorize layer.\n",
        "  train_text = training_set.map(lambda x, y: x)\n",
        "  vectorize_layer.adapt(train_text)\n",
        "  return vectorize_layer"
      ],
      "execution_count": 9,
      "outputs": []
    },
    {
      "cell_type": "markdown",
      "metadata": {
        "id": "x8zDXrk9eEy5"
      },
      "source": [
        "## Define a dictionary with -> function_names:prepro_function_caller. And a dictionary to store model results.\n",
        "\n",
        "\n"
      ]
    },
    {
      "cell_type": "code",
      "metadata": {
        "colab": {
          "base_uri": "https://localhost:8080/"
        },
        "id": "P8owxNMIeFsX",
        "outputId": "4f703d50-c631-46bc-e1ef-c7cefd60ab05"
      },
      "source": [
        "model_results = {}\n",
        "prepro_functions_dict_base = {\n",
        "    'DON':DON,\n",
        "    }\n",
        "\n",
        "# 3 prepro functions = 15 combs...+1 for do_nothing\n",
        "\n",
        "prepro_functions_dict_comb = {\n",
        "    # 1. Do nothing \n",
        "    'DON': DON,\n",
        "}\n",
        "\n",
        "for key in prepro_functions_dict_comb:\n",
        "  print(key)\n",
        "  model_results[key]=[]"
      ],
      "execution_count": 10,
      "outputs": [
        {
          "output_type": "stream",
          "name": "stdout",
          "text": [
            "DON\n"
          ]
        }
      ]
    },
    {
      "cell_type": "markdown",
      "metadata": {
        "id": "XDEi7MAo4qsQ"
      },
      "source": [
        "## Models definition and evaluation.\n",
        "\n",
        "\n"
      ]
    },
    {
      "cell_type": "code",
      "metadata": {
        "colab": {
          "base_uri": "https://localhost:8080/"
        },
        "id": "Mm1fdCpETWL-",
        "outputId": "5178a20d-efce-4038-a862-88fe8659e058"
      },
      "source": [
        "for key in prepro_functions_dict_comb:\n",
        "    print(\"\\n\\n* * * * EVALUATION USING\", key, \"AS PREPROCESSING FUNCTION * * * *\")\n",
        "\n",
        "    # Preprocess training set to build a dictionary.\n",
        "    vectorize_layer = preprocess_and_adapt_ts(prepro_functions_dict_comb[key],train_ds)\n",
        "\n",
        "    print(\"\\n\\n***** FINITO DI PROCESSARE E ADATTARE IL TRAINING SET, INIZIA LA SIMULAZIONE *******\")\n",
        "    # Print a raw and a preprocessed sample.\n",
        "    for element in train_ds:\n",
        "      authorDocument=element[0]\n",
        "      label=element[1]\n",
        "      \n",
        "      print(\"Sample considered is: \", authorDocument[0])\n",
        "      print(\"Preprocessed: \", str(prepro_functions_dict_comb[key](authorDocument[0].numpy())))\n",
        "      break\n",
        "    \n",
        "    # # # - - - - - MODELS DEFINITION AND EVALUATION - - - - - # # #\n",
        "\n",
        "    model = tf.keras.models.Sequential()\n",
        "    model.add(tf.keras.Input(shape=(1,), dtype=tf.string))\n",
        "    model.add(vectorize_layer)\n",
        "    \n",
        "    # # # # # # # # # # # # # # # # # # # # # # # # # # # # # # # # # # # \n",
        "\n",
        "    # --- SVM SECTION START --- #\n",
        "\n",
        "    training_labels=[]\n",
        "    training_samples=[]\n",
        "\n",
        "    max_features=len(vectorize_layer.get_vocabulary()) + 1\n",
        "\n",
        "    for element in train_ds:\n",
        "      authorDocument=element[0]\n",
        "      label=element[1]\n",
        "      \n",
        "      #print(\"Sample considered is: \", authorDocument[0])\n",
        "      #print(\"Preprocessed: \", str(custom_standardization(authorDocument[0].numpy())))\n",
        "      #print(\"And has label: \", label[0].numpy())\n",
        "      \n",
        "      text_vect_layer_model = tf.keras.Model(inputs=model.input,\n",
        "                                          outputs=model.layers[0].output)\n",
        "      text_vect_out = text_vect_layer_model(authorDocument)\n",
        "\n",
        "      training_labels.append(label[0].numpy())\n",
        "      current_sample=np.zeros(max_features)\n",
        "      for current_token in text_vect_out[0][:].numpy():\n",
        "        #print(current_token,end=' ')\n",
        "        #print(vectorize_layer.get_vocabulary()[current_token])\n",
        "        current_sample[current_token]+=1\n",
        "      training_samples.append(current_sample)\n",
        "      #break\n",
        "\n",
        "    training_labels=np.array(training_labels)\n",
        "    training_samples=np.array(training_samples)\n",
        "    #print(\"\\nLE LABELS DEI CAMPIONI DI TRAINING SONO:\")\n",
        "    #print(training_labels)\n",
        "    #print(\"\\nI SAMPLE DI TRAINING DOPO LA TEXT VECTORIZATION SONO:\")\n",
        "    #print(training_samples)\n",
        "\n",
        "    test_labels=[]\n",
        "    test_samples=[]\n",
        "\n",
        "    for element in test_ds:\n",
        "      authorDocument=element[0]\n",
        "      label=element[1]\n",
        "      \n",
        "      text_vect_layer_model = tf.keras.Model(inputs=model.input,\n",
        "                                          outputs=model.layers[0].output)\n",
        "      text_vect_out = text_vect_layer_model(authorDocument)\n",
        "\n",
        "      test_labels.append(label[0].numpy())\n",
        "      current_sample=np.zeros(max_features)\n",
        "      for current_token in text_vect_out[0][:].numpy():\n",
        "        current_sample[current_token]+=1\n",
        "      test_samples.append(current_sample)\n",
        "\n",
        "    test_labels=np.array(test_labels)\n",
        "    test_samples=np.array(test_samples)\n",
        "\n",
        "    SVM = svm.SVC(C=0.5, kernel='linear', gamma='auto')\n",
        "    SVM.fit(training_samples,training_labels)\n",
        "    # predict the labels on training set\n",
        "    #predictions_SVM = SVM.predict(training_samples)\n",
        "    # Use accuracy_score function to get the accuracy\n",
        "    #model_results[key]['SVM_train']=SVM.score(training_samples,training_labels)\n",
        "    #print(\"SVM Accuracy Score on Training set -> \",model_results[key]['SVM_train'])\n",
        "\n",
        "    # predict the labels on validation dataset\n",
        "    predictions_SVM = SVM.predict(test_samples)\n",
        "    # Use accuracy_score function to get the accuracy\n",
        "    model_results[key].append(SVM.score(test_samples,test_labels))\n",
        "    print(\"SVM Accuracy Score on Test set -> \",model_results[key])\n",
        "\n",
        "    # --- SVM SECTION END --- #\n",
        "\n",
        "    # # # # # # # # # # # # # # # # # # # # # # # # # # # # # # # # # # #\n",
        "    \n",
        "    # # # - - - - - MODEL DEFINITION AND EVALUATION END  - - - - - # # #"
      ],
      "execution_count": 11,
      "outputs": [
        {
          "output_type": "stream",
          "name": "stderr",
          "text": [
            "WARNING:tensorflow:From /usr/local/lib/python3.8/dist-packages/tensorflow/python/autograph/pyct/static_analysis/liveness.py:83: Analyzer.lamba_check (from tensorflow.python.autograph.pyct.static_analysis.liveness) is deprecated and will be removed after 2023-09-23.\n",
            "Instructions for updating:\n",
            "Lambda fuctions will be no more assumed to be used in the statement where they are used, or at least in the same block. https://github.com/tensorflow/tensorflow/issues/56089\n"
          ]
        },
        {
          "output_type": "stream",
          "name": "stdout",
          "text": [
            "\n",
            "\n",
            "* * * * EVALUATION USING DON AS PREPROCESSING FUNCTION * * * *\n",
            "\n",
            "\n",
            "***** FINITO DI PROCESSARE E ADATTARE IL TRAINING SET, INIZIA LA SIMULAZIONE *******\n",
            "Sample considered is:  tf.Tensor(b'<author lang=\"en\" class=\"1\">\\n\\t<documents>\\n\\t\\t<document><![CDATA[#USER# Where was this at?]]></document>\\n\\t\\t<document><![CDATA[RT #USER#: Black man,has a stern warning for BLM, don\\'t mess with white people \\xf0\\x9f\\x98\\xac #URL#]]></document>\\n\\t\\t<document><![CDATA[#USER# A meeting of insurrectionists...I mean a Biden rally]]></document>\\n\\t\\t<document><![CDATA[#USER# #USER# This is lame. Instead of stringing up curlers, they should be stringing up...ahem]]></document>\\n\\t\\t<document><![CDATA[#USER# This is insane. The citizens better rise up. And this is why you never willingly give up your weapons.]]></document>\\n\\t\\t<document><![CDATA[#USER# I would have wrote: \\xe2\\x80\\x9cMy name is... and I am not a racist, but Al Sharpton is a racist and I will pray for him to do better\\xe2\\x80\\x9d]]></document>\\n\\t\\t<document><![CDATA[RT #USER#: The data came from the CDC!!! Are you fricken kidding me with this spin???]]></document>\\n\\t\\t<document><![CDATA[RT #USER#: Jason, who came to Kenosha to check on his family, insisted that \\xe2\\x80\\x9cKenosha locals did not do this to they town, man!\\xe2\\x80\\x9d]]></document>\\n\\t\\t<document><![CDATA[#USER# And here we have Creepy Sleepy Pedo Joe lying again-bc he DID say he would kill the oil and natural gas industry]]></document>\\n\\t\\t<document><![CDATA[A year ago? No...now, without a doubt. He will kneel because he can\\xe2\\x80\\x99t stand for anything. #USER# the sellout #URL#]]></document>\\n\\t\\t<document><![CDATA[#USER# #USER# blink 3 times if they are holding you hostage]]></document>\\n\\t\\t<document><![CDATA[#USER# #USER# #USER# #USER# #USER# you are committing marketing suicide]]></document>\\n\\t\\t<document><![CDATA[#USER# #USER# #USER# #USER# #USER# Add in the virtue signaling MLB too]]></document>\\n\\t\\t<document><![CDATA[Which is why the NFL is a shitshow with plummeting ratings #URL#]]></document>\\n\\t\\t<document><![CDATA[#USER# #USER# Dream on leftist turd...stick to hockey and maple syrup Canuck...]]></document>\\n\\t\\t<document><![CDATA[RT #USER#: BLM and MeToo totally silent on Jacob Blake\\xe2\\x80\\x99s rape victim who called 911 on him]]></document>\\n\\t\\t<document><![CDATA[RT #USER#: It\\'s time to talk about former Vice President Joe Biden, the open sexual predator. A thread/moment...]]></document>\\n\\t\\t<document><![CDATA[#USER# #USER# Not jail forever, but death]]></document>\\n\\t\\t<document><![CDATA[#USER# #USER# Actually the white male died. This was from a year ago]]></document>\\n\\t\\t<document><![CDATA[RT #USER#: The most important video of 2020 #URL#]]></document>\\n\\t\\t<document><![CDATA[RT #USER#: Who is responsible for the increase in violence around the country? That\\'s easy..... #URL#]]></document>\\n\\t\\t<document><![CDATA[RT #USER#: PORTLAND SILENT MAJORITY! #URL#]]></document>\\n\\t\\t<document><![CDATA[RT #USER#: Based as fuck #URL#]]></document>\\n\\t\\t<document><![CDATA[RT #USER#: Somebody st..... wtf is going on back there? \\xf0\\x9f\\x98\\x82\\xf0\\x9f\\x98\\x82\\xf0\\x9f\\x98\\x82 #URL#]]></document>\\n\\t\\t<document><![CDATA[#USER# #USER# \\xe2\\x80\\x9cWere\\xe2\\x80\\x9d...and oh, FYI, there were white slaves too.]]></document>\\n\\t\\t<document><![CDATA[#USER# Did anyone other than a criminal or Hollywood group of pedos watch them anyway?]]></document>\\n\\t\\t<document><![CDATA[#USER# #USER# #USER# #USER# Said the troll account following 0 and followed by 0. Late for your AntiFa meeting?]]></document>\\n\\t\\t<document><![CDATA[#USER# #USER# Make sure you never call them when they are needed. Your bitterness is blinding you to truth.]]></document>\\n\\t\\t<document><![CDATA[#USER# #USER# #USER# All the videos show he committed suicide...you can\\xe2\\x80\\x99t justify acting a fool for this.]]></document>\\n\\t\\t<document><![CDATA[#USER# #USER# #USER# #USER# So you admit you\\xe2\\x80\\x99re an insurrectionist...I appeal to you to re-evaluate your position.]]></document>\\n\\t\\t<document><![CDATA[#USER# #USER# Well, the globalist shill does write for the cultural Marxist rag Vox...so no surprise]]></document>\\n\\t\\t<document><![CDATA[RT #USER#: You\\xe2\\x80\\x99ve never had an intel brief. The closest you\\xe2\\x80\\x99ve come is reading the press release I edited.]]></document>\\n\\t\\t<document><![CDATA[RT #USER#: Jacob Blake raped a 15 year old girl. He\\xe2\\x80\\x99s now paralyzed from the waist down. Seems like a proper punishment.]]></document>\\n\\t\\t<document><![CDATA[RT #USER#: What should Pelosi and crew wear in their next pandering photo op to honor Jacob Blake?]]></document>\\n\\t\\t<document><![CDATA[#USER# Looters should be given the eternal dirt nap. #HASHTAG#]]></document>\\n\\t\\t<document><![CDATA[#USER# \\xf0\\x9f\\x8e\\xb6 Hey man nice shot...good shot, man\\xf0\\x9f\\x8e\\xb6]]></document>\\n\\t\\t<document><![CDATA[#USER# #USER# Oh so NOW you want the police...\\xf0\\x9f\\xa4\\xa6\\xf0\\x9f\\x8f\\xbb\\xe2\\x80\\x8d\\xe2\\x99\\x82\\xef\\xb8\\x8f]]></document>\\n\\t\\t<document><![CDATA[#USER# Who is yelling \\xe2\\x80\\x9cwe need a medic!\\xe2\\x80\\x9d Is this Call of Duty? He can just respawn]]></document>\\n\\t\\t<document><![CDATA[#USER# You won\\xe2\\x80\\x99t do anything yourself. Inciting and grifting. You are a pathetic little white man.]]></document>\\n\\t\\t<document><![CDATA[#USER# #USER# #USER# Masks do not help and the virus has a 99.8% survival rate.]]></document>\\n\\t\\t<document><![CDATA[#USER# I call BS]]></document>\\n\\t\\t<document><![CDATA[#USER# Oh now they want to call the police...\\xf0\\x9f\\x98\\x82]]></document>\\n\\t\\t<document><![CDATA[#USER# Why isn\\xe2\\x80\\x99t he stabbing her with a fork?]]></document>\\n\\t\\t<document><![CDATA[#USER# #USER# But Fauci and Birx said if you wear a mask you\\xe2\\x80\\x99re safe\\xf0\\x9f\\x98\\x82]]></document>\\n\\t\\t<document><![CDATA[#USER# #USER# Yes, chem trails. CIA Director Brennan admitted it to the public years ago. You must be a globalist shill]]></document>\\n\\t\\t<document><![CDATA[#USER# #USER# It\\xe2\\x80\\x99s not just questionable technicians, but faulty tests as well]]></document>\\n\\t\\t<document><![CDATA[#USER# #USER# #USER# Suddenly a wild white knight appears...\\xe2\\x80\\x9dstop cranking on Lebron\\xe2\\x80\\x9d\\xf0\\x9f\\x98\\x82]]></document>\\n\\t\\t<document><![CDATA[RT #USER#: Show this video to #USER# since he\\'s studying Malcolm X now. #URL#]]></document>\\n\\t\\t<document><![CDATA[#USER# #USER# #USER# #USER# #USER# LeBron makes $50m a year and he\\xe2\\x80\\x99s ignorant too, so what\\xe2\\x80\\x99s your point?]]></document>\\n\\t\\t<document><![CDATA[#USER# You can hear the taser at the start of the video...and the guy kept walking. I\\xe2\\x80\\x99m thinking he wanted a \\xe2\\x80\\x9csuicide by cop\\xe2\\x80\\x9d]]></document>\\n\\t\\t<document><![CDATA[#USER# #USER# #USER# #USER# #USER# You are ignorant]]></document>\\n\\t\\t<document><![CDATA[#USER# #USER# Don\\xe2\\x80\\x99t let the door hit ya where the good Lord split ya\\xf0\\x9f\\x98\\x89]]></document>\\n\\t\\t<document><![CDATA[#USER# #USER# He said \\xe2\\x80\\x9ctrigger\\xe2\\x80\\x9d]]></document>\\n\\t\\t<document><![CDATA[#USER# Seriously, sue your brain for non support]]></document>\\n\\t\\t<document><![CDATA[#USER# #USER# #USER# They are there bc they broke the law...and they have it much better than they should]]></document>\\n\\t\\t<document><![CDATA[#USER# #USER# #USER# Oh thousand die bc of his actions...\\xf0\\x9f\\x98\\x82]]></document>\\n\\t\\t<document><![CDATA[#USER# These people are stupid...what are the NPC chants going to do? Nothing. Clearly they are starved for attention.]]></document>\\n\\t\\t<document><![CDATA[RT #USER#: Watch all the way to end #URL#]]></document>\\n\\t\\t<document><![CDATA[RT #USER#: \\xe2\\x80\\x9cCuz I\\xe2\\x80\\x99m rich as fuck\\xe2\\x80\\x9d #USER# #URL#]]></document>\\n\\t\\t<document><![CDATA[RT #USER#: Chicago officials raised the bridge not knowing a group was still crossing #URL#]]></document>\\n\\t\\t<document><![CDATA[#USER# #USER# #USER# Boo freaking Hoo leftist\\xf0\\x9f\\x98\\x82]]></document>\\n\\t\\t<document><![CDATA[RT #USER#: #USER# FBI RECORDS PROVE JOE BIDEN LIED ABOUT HIS ROLE IN TARGETING MICHAEL FLYNN #URL#]]></document>\\n\\t\\t<document><![CDATA[#USER# #USER# They didn\\xe2\\x80\\x99t make \\xe2\\x80\\x9cmistakes\\xe2\\x80\\x9d...they deliberately broke the law. #HASHTAG#]]></document>\\n\\t\\t<document><![CDATA[RT #USER#: Great! Once this criminal is arrested, let\\'s see how tough he is in prison. #USER# #USER# #HASHTAG#]]></document>\\n\\t\\t<document><![CDATA[RT #USER#: Your future congressman telling the Truth. #URL# #URL#]]></document>\\n\\t\\t<document><![CDATA[RT #USER#: #USER# I fixed it. #URL#]]></document>\\n\\t\\t<document><![CDATA[RT #USER#: The moment Trump won re-election #URL#]]></document>\\n\\t\\t<document><![CDATA[#USER# #USER# #USER# He should be charged with murder]]></document>\\n\\t\\t<document><![CDATA[#USER# #USER# Just when I didn\\xe2\\x80\\x99t think she could get any more stupid...she proves me wrong\\xf0\\x9f\\x98\\x82]]></document>\\n\\t\\t<document><![CDATA[#USER# I didn\\xe2\\x80\\x99t...don\\xe2\\x80\\x99t want to give those reprobate traitors any ratings]]></document>\\n\\t\\t<document><![CDATA[#USER# #USER# #USER# #USER# Big Mike is packing #URL#]]></document>\\n\\t\\t<document><![CDATA[#USER# #USER# #USER# Yes it does. The same question came up when Sen Cruz was running in 2016. TRT again leftist]]></document>\\n\\t\\t<document><![CDATA[#USER# #USER# Excellent! And hope you had security.]]></document>\\n\\t\\t<document><![CDATA[#USER# #USER# #USER# Oregon won\\xe2\\x80\\x99t do anything, the DOJ will have to charge this AssClown]]></document>\\n\\t\\t<document><![CDATA[#USER# It is funny...a tranny and an aging marxist...]]></document>\\n\\t\\t<document><![CDATA[#USER# #USER# Mike is just jealous of Melania\\xf0\\x9f\\x98\\x82]]></document>\\n\\t\\t<document><![CDATA[#USER# What kind of drone and where did you hear this?]]></document>\\n\\t\\t<document><![CDATA[RT #USER#: Kamala Harris reportedly owes $1M in bills from failed presidential run #URL# #URL#]]></document>\\n\\t\\t<document><![CDATA[#USER# #USER# And a bunch of NeverTrumper Cucks]]></document>\\n\\t\\t<document><![CDATA[RT #USER#: The Democrat Convention is a very angry toned, bitter, anti-American celebration of domestic terrorism.]]></document>\\n\\t\\t<document><![CDATA[#USER# #USER# #USER# must like losing money showing that clown show]]></document>\\n\\t\\t<document><![CDATA[RT #USER#: I can\\xe2\\x80\\x99t wait for night 2 said no one]]></document>\\n\\t\\t<document><![CDATA[#USER# ratings take a dive showing the Traitors to the Republic National Convention #URL#]]></document>\\n\\t\\t<document><![CDATA[#USER# #USER# Time to shoot rioters]]></document>\\n\\t\\t<document><![CDATA[RT #USER#: This new Trump ad about Joe Biden and Kamala Harris is scathing. #URL#]]></document>\\n\\t\\t<document><![CDATA[#USER# Talk about \\xe2\\x80\\x9cawkward\\xe2\\x80\\x9d or \\xe2\\x80\\x9ccringe\\xe2\\x80\\x9d moment of the year....]]></document>\\n\\t\\t<document><![CDATA[#USER# #USER# Yeah, Jose sucks]]></document>\\n\\t\\t<document><![CDATA[#USER# #USER# #USER# His style sucks]]></document>\\n\\t\\t<document><![CDATA[#USER# And she isn\\xe2\\x80\\x99t qualified to hold the office if VP or President. She is an anchor baby. Parents were not citizens when she was born]]></document>\\n\\t\\t<document><![CDATA[What\\xe2\\x80\\x99s next? Boxcars to the Re-education camps? #URL#]]></document>\\n\\t\\t<document><![CDATA[#USER# #USER# Karen? No, you\\xe2\\x80\\x99re the \\xe2\\x80\\x9cKaren\\xe2\\x80\\x9d. Marxist much?]]></document>\\n\\t\\t<document><![CDATA[#USER# #USER# Hmm...millions of Dems #HASHTAG# #HASHTAG# keep thinking this...you will be highly disappointed come November #HASHTAG#]]></document>\\n\\t\\t<document><![CDATA[#USER# #USER# #USER# Again, fake news. Already been debunked by the joint chiefs and NSA.]]></document>\\n\\t\\t<document><![CDATA[#USER# #USER# #USER# #USER# We will both be offended together\\xf0\\x9f\\x98\\x84]]></document>\\n\\t\\t<document><![CDATA[#USER# #USER# #USER# More than enough proof]]></document>\\n\\t\\t<document><![CDATA[#USER# #USER# #USER# Preaching what the Bible says about homosexuality got him arrested.]]></document>\\n\\t\\t<document><![CDATA[#USER# #USER# Vladimir Lenin: confiscate the wealth of the rich... #USER# : Hold my beer]]></document>\\n\\t\\t<document><![CDATA[RT #USER#: If I\\xe2\\x80\\x99m a coon for supporting trump then you\\xe2\\x80\\x99re a prostitute for supporting cardi b. \\xf0\\x9f\\xa4\\xb7\\xf0\\x9f\\x8f\\xbe\\xe2\\x80\\x8d\\xe2\\x99\\x82\\xef\\xb8\\x8f I don\\xe2\\x80\\x99t make the rules]]></document>\\n\\t\\t<document><![CDATA[RT #USER#: Alright this is pretty funny \\xf0\\x9f\\x98\\x82 #URL#]]></document>\\n\\t\\t<document><![CDATA[#USER# #USER# #USER# Try again leftist, he\\xe2\\x80\\x99s doing exactly what I voted for him to do.]]></document>\\n\\t\\t<document><![CDATA[#USER# #USER# Then you stay in your bubble]]></document>\\n\\t\\t<document><![CDATA[#USER# Exactly right. They should be playing!]]></document>\\n\\t\\t<document><![CDATA[#USER# #USER# Then stay home pussy]]></document>\\n\\t\\t<document><![CDATA[#USER# Good, let\\xe2\\x80\\x99s do this!!]]></document>\\n\\t\\t<document><![CDATA[#USER# #USER# No matter how hard you try, no one will watch women\\xe2\\x80\\x99s basketball]]></document>\\n\\t\\t<document><![CDATA[#USER# #USER# Shut up pussy]]></document>\\n\\t\\t<document><![CDATA[#USER# #USER# If I was a WVU alum I would try to make excuses not to play too]]></document>\\n\\t\\t<document><![CDATA[#USER# #USER# Said the crybaby]]></document>\\n\\t\\t<document><![CDATA[#USER# #USER# Conference game dummy]]></document>\\n\\t\\t<document><![CDATA[#USER# #USER# Seriously drink a tall glass of shut up]]></document>\\n\\t\\t<document><![CDATA[#USER# No one cares about soccer. We want football!!]]></document>\\n\\t\\t<document><![CDATA[#USER# Feces? Ok then]]></document>\\n\\t\\t<document><![CDATA[#USER# #USER# Don\\xe2\\x80\\x99t support Jorgensen but she is infinitely more qualified than the #HASHTAG# #USER# #]]></document>\\n\\t\\t<document><![CDATA[#USER# Yes...inquiring minds want to know\\xf0\\x9f\\xa4\\x94 #HASHTAG#]]></document>\\n\\t\\t<document><![CDATA[RT #USER#: Joe Biden should\\xe2\\x80\\x99ve saved his \\xe2\\x80\\x9cAre you a junkie.\\xe2\\x80\\x9d comment for Hunter.]]></document>\\n\\t\\t<document><![CDATA[RT #USER#: Has anyone actually seen a Joe Biden sticker or a yard sign? #HASHTAG#]]></document>\\n\\t\\t<document><![CDATA[#USER# #USER# #USER# I thought \\xe2\\x80\\x9cShelter in Place\\xe2\\x80\\x9d was over...fix that hair bro...need to be more aerodynamic!]]></document>\\n\\t\\t<document><![CDATA[RT #USER#: All of the numbers are coming in from Michigan except one race. The squads Rashida Tlaib. She is the only one with 0% reporting.]]></document>\\n\\t\\t<document><![CDATA[RT #USER#: #USER# Here is the clip!! #URL#]]></document>\\n\\t\\t<document><![CDATA[RT #USER#: #USER# From the same article #URL#]]></document>\\n\\t\\t<document><![CDATA[RT #USER#: #USER# LOCK UP THE PEDOS]]></document>\\n\\t\\t<document><![CDATA[#USER# #USER# The mockingbird media is complicit in the cover up of #HASHTAG#]]></document>\\n\\t\\t<document><![CDATA[RT #USER#: And there you have it Communists party puts full support behind Joe Biden #URL#]]></document>\\n\\t\\t<document><![CDATA[RT #USER#: Department of Justice Awards Over $35 Million to Provide Housing to Victims of #HASHTAG# #URL#]]></document>\\n\\t\\t<document><![CDATA[RT #USER#: Democrats were so humiliated that they actually had to leave the room! #URL#]]></document>\\n\\t\\t<document><![CDATA[#USER# I know I do.]]></document>\\n\\t\\t<document><![CDATA[#USER# #USER# You never know. Vote Red.]]></document>\\n\\t\\t<document><![CDATA[RT #USER#: I\\xe2\\x80\\x99m voting in person. You?]]></document>\\n\\t\\t<document><![CDATA[RT #USER#: Maybe McGrath should try texting us all again. That went well the first time.]]></document>\\n\\t\\t<document><![CDATA[RT #USER#: OPEN AMERICA NOW!!! #USER# #USER# #USER# #USER# #HASHTAG# #URL#]]></document>\\n\\t\\t<document><![CDATA[RT #USER#: What are the chances these \\xe2\\x80\\x9cprotesters\\xe2\\x80\\x9d have jobs....]]></document>\\n\\t\\t<document><![CDATA[RT #USER#: Stunning video shows explosions just minutes ago at Beirut port #URL#]]></document>\\n\\t\\t<document><![CDATA[#USER# #USER# #USER# Winnie the Pooh called, your presence is requested at the Beijing Re-education Camp.]]></document>\\n\\t\\t<document><![CDATA[#USER# #USER# She shouldn\\xe2\\x80\\x99t have left.]]></document>\\n\\t\\t<document><![CDATA[#USER# #USER# #USER# #USER# Preach! We ain\\xe2\\x80\\x99t giving the leftists shit.]]></document>\\n\\t\\t<document><![CDATA[#USER# A \\xe2\\x80\\x9cwho\\xe2\\x80\\x99s who\\xe2\\x80\\x9d of child predators]]></document>\\n\\t\\t<document><![CDATA[#USER# #USER# #USER# Don\\xe2\\x80\\x99t you have a CCP rally to attend?]]></document>\\n\\t\\t<document><![CDATA[RT #USER#: Awesome \\xf0\\x9f\\x91\\x8f\\xf0\\x9f\\x8f\\xbc thank you #USER# #URL#]]></document>\\n\\t\\t<document><![CDATA[RT #USER#: We are empowered to protect ourselves and our country! Best believe it! #USER# \\xf0\\x9f\\x87\\xba\\xf0\\x9f\\x87\\xb8\\xf0\\x9f\\x8c\\x88\\xe2\\x98\\x80\\xef\\xb8\\x8f\\xf0\\x9f\\x8e\\xaf\\xf0\\x9f\\x94\\xab #URL#]]></document>\\n\\t\\t<document><![CDATA[RT #USER#: Be patient and keep in prayer! Praying for all of you always! Love you \\xe2\\x9d\\xa4\\xef\\xb8\\x8f\\xf0\\x9f\\x98\\x98 #URL#]]></document>\\n\\t\\t<document><![CDATA[RT #USER#: .#USER# #USER# Thank you Mr. President! #HASHTAG# #URL#]]></document>\\n\\t\\t<document><![CDATA[#USER# The left would like nothing more than to establish a totalitarian state following Luciferian principles.]]></document>\\n\\t\\t<document><![CDATA[RT #USER#: Democrats are focused like a laser on their Cheat-by-Mail Scheme #URL#]]></document>\\n\\t\\t<document><![CDATA[#USER# One on the right is a CPAP...but thanks for the daily dose of fear porn. Don\\xe2\\x80\\x99t you have a cemetery to haunt Beetlejuice?]]></document>\\n\\t\\t<document><![CDATA[RT #USER#: Does anyone care? #HASHTAG# #URL#]]></document>\\n\\t\\t<document><![CDATA[#USER# Exactly right! And don\\xe2\\x80\\x99t forget, #HASHTAG#]]></document>\\n\\t\\t<document><![CDATA[#USER# The Dems were never going to put him up, it\\xe2\\x80\\x99s all a scam-just like this #HASHTAG#]]></document>\\n\\t\\t<document><![CDATA[#USER# And Twitter is suppressing tweets about it. #HASHTAG# #HASHTAG# #HASHTAG#]]></document>\\n\\t\\t<document><![CDATA[RT #USER#: Rt if you will NEVER kneel during the National Anthem!]]></document>\\n\\t\\t<document><![CDATA[#USER# #USER# #USER# #USER# Sue your brain for non support]]></document>\\n\\t\\t<document><![CDATA[#USER# #USER# Should have been 9-0 to deny the request. Further proof that 4 of them are UnAmerican traitors to the Republic]]></document>\\n\\t\\t<document><![CDATA[RT #USER#: He certainly has not been afraid to bring up this issue, so why are the Democrats all running from it?]]></document>\\n\\t\\t<document><![CDATA[#USER# #USER# #USER# #USER# That didn\\xe2\\x80\\x99t age well]]></document>\\n\\t\\t<document><![CDATA[RT #USER#: #USER# #USER# #USER# In his own words. #URL#]]></document>\\n\\t\\t<document><![CDATA[#USER# Sucks for you ingrates. Kneel before Zod]]></document>\\n\\t\\t<document><![CDATA[#USER# I see his athletic ability mirrors his healthcare ability...both way off course #HASHTAG#]]></document>\\n\\t\\t<document><![CDATA[#USER# #USER# Here for the ratio]]></document>\\n\\t\\t<document><![CDATA[RT #USER#: #USER# I will call it whatever I like. China lied, people died.]]></document>\\n\\t\\t<document><![CDATA[RT #USER#: Remember when media asked questions about Wayfair?...yeah..neither do I...]]></document>\\n\\t\\t<document><![CDATA[#USER# #USER# Same ones that want to take our weapons, are the same ones that want to defund and disband the police...\\xf0\\x9f\\x98\\x82]]></document>\\n\\t\\t<document><![CDATA[#USER# I have new respect for Martha]]></document>\\n\\t\\t<document><![CDATA[#USER# Exactly right! #HASHTAG#]]></document>\\n\\t\\t<document><![CDATA[RT #USER#: They\\'re not going to let Joe Biden debate President Trump are they?]]></document>\\n\\t\\t<document><![CDATA[#USER# #USER# #USER# Still asleep...hopefully one day you can wake up]]></document>\\n\\t\\t<document><![CDATA[RT #USER#: If we are wearing masks then in-person voting must be permitted]]></document>\\n\\t\\t<document><![CDATA[RT #USER#: I was WRONG about Trump #HASHTAG# #HASHTAG# #URL#]]></document>\\n\\t\\t<document><![CDATA[#USER# If it\\xe2\\x80\\x99s so \\xe2\\x80\\x9cfake\\xe2\\x80\\x9d then why does the left hate it? Truth hurts #HASHTAG#]]></document>\\n\\t\\t<document><![CDATA[RT #USER#: Founder of Never-Trump Super PAC Arrested in $60M Bribery Scheme. Anyone else as shocked as I am??? \\xf0\\x9f\\x99\\x84]]></document>\\n\\t\\t<document><![CDATA[#USER# Good, don\\xe2\\x80\\x99t let the door hit you where the Good Lord split you. Globalist shill]]></document>\\n\\t\\t<document><![CDATA[RT #USER#: We\\'re not waiting on Durham.]]></document>\\n\\t\\t<document><![CDATA[#USER# Looks like she\\xe2\\x80\\x99s throwing witchcraft hand spells]]></document>\\n\\t\\t<document><![CDATA[RT #USER#: \\xf0\\x9f\\x98\\x82\\xf0\\x9f\\xa4\\xa3\\xf0\\x9f\\x98\\x82 they HAVE to be related \\xf0\\x9f\\x98\\x82\\xf0\\x9f\\xa4\\xa3\\xf0\\x9f\\x98\\x82]]></document>\\n\\t\\t<document><![CDATA[#USER# Exactly right. Making the move to Parler]]></document>\\n\\t\\t<document><![CDATA[#USER# #USER# True, but South Park is adult entertainment and has never been made to target the \\xe2\\x80\\x9cunder 18\\xe2\\x80\\x9d demographic.]]></document>\\n\\t\\t<document><![CDATA[#USER# \\xf0\\x9f\\x98\\x82 The leftists are insane]]></document>\\n\\t\\t<document><![CDATA[RT #USER#: Do not retweet this Trump Ad. That Twitter keeps banning. #URL#]]></document>\\n\\t\\t<document><![CDATA[#USER# Well said #HASHTAG#]]></document>\\n\\t\\t<document><![CDATA[RT #USER#: 1) Why am I here? Why am I a conservative? #HASHTAG# #HASHTAG# #URL#]]></document>\\n\\t\\t<document><![CDATA[RT #USER#: The definition of racist has no weight anymore because of people like Jemele Hill.]]></document>\\n\\t\\t<document><![CDATA[RT #USER#: Orange man bad. The truth about the Donald Trump racism narrative. #URL#]]></document>\\n\\t\\t<document><![CDATA[RT #USER#: Just a reminder, three Kevin Spacey accusers died mysteriously.]]></document>\\n\\t\\t<document><![CDATA[#USER# #USER# No, she\\xe2\\x80\\x99s shaking from the \\xe2\\x80\\x9cshakes\\xe2\\x80\\x9d...get Nancy another vodka]]></document>\\n\\t\\t<document><![CDATA[#USER# That isn\\xe2\\x80\\x99t her or is a demon possessed her. Tell us #USER# did she have the same thing done that was done to you?]]></document>\\n\\t\\t<document><![CDATA[#USER# #USER# Further proof that the UK should have never given Hong Kong to China\\xf0\\x9f\\x98\\x89]]></document>\\n\\t\\t<document><![CDATA[#USER# #USER# Shouldn\\xe2\\x80\\x99t you write this in Chinese?]]></document>\\n\\t\\t<document><![CDATA[RT #USER#: #USER# #USER# Not a word from Democrats when these thugs are looting, rioting, assaulting people and setting fires...]]></document>\\n\\t\\t<document><![CDATA[RT #USER#: #USER# #USER# The Speaker of the House just declared War on America.]]></document>\\n\\t\\t<document><![CDATA[#USER# #USER# Totally false...now go drink another vodka lush]]></document>\\n\\t\\t<document><![CDATA[RT #USER#: Holy what the fuck??! #URL# #URL#]]></document>\\n\\t\\t<document><![CDATA[RT #USER#: I\\xe2\\x80\\x99m ready for this\\xe2\\x9d\\xa4\\xef\\xb8\\x8f\\xf0\\x9f\\xa4\\x8d\\xf0\\x9f\\x92\\x99 #URL#]]></document>\\n\\t\\t<document><![CDATA[RT #USER#: This is absolutely spectacular. #URL#]]></document>\\n\\t\\t<document><![CDATA[#USER# Where is #HASHTAG# now? Nowhere, because they should change their name to \\xe2\\x80\\x9cOnly Certain Black Lives Matter\\xe2\\x80\\x9d]]></document>\\n\\t\\t<document><![CDATA[RT #USER#: #USER# #USER# There is also this... \\xf0\\x9f\\xa4\\xa8. #URL#]]></document>\\n\\t\\t<document><![CDATA[RT #USER#: 0 offers help a brother out Twitter RT\\xf0\\x9f\\x99\\x8f\\xf0\\x9f\\x8f\\xbe\\xe2\\x9d\\xa4\\xef\\xb8\\x8f\\xf0\\x9f\\x90\\xb6 #URL#]]></document>\\n\\t\\t<document><![CDATA[#USER# #USER# Sue your brain for non support]]></document>\\n\\t\\t<document><![CDATA[#USER# #USER# You are committed to defending and rationalizing for #HASHTAG#]]></document>\\n\\t\\t<document><![CDATA[RT #USER#: #USER# You keep deleting this honey.... you were so proud all these years though. I\\xe2\\x80\\x99m so very confused.]]></document>\\n\\t\\t<document><![CDATA[RT #USER#: Sad: Democrat Leaders Struggling To Enforce Lockdowns After Getting Rid Of All The Police #URL#]]></document>\\n\\t\\t<document><![CDATA[RT #USER#: #USER# You know who you are! #URL#]]></document>\\n\\t\\t<document><![CDATA[RT #USER#: #USER# Don\\'t they know... internet is forever. Like this \\xf0\\x9f\\x91\\x87 #URL#]]></document>\\n\\t</documents>\\n</author>', shape=(), dtype=string)\n",
            "Preprocessed:  tf.Tensor(b'<author lang=\"en\" class=\"1\">\\n\\t<document> #USER# Where was this at? </document>\\n\\t\\t<document> RT #USER#: Black man,has a stern warning for BLM, don\\'t mess with white people \\xf0\\x9f\\x98\\xac #URL# </document>\\n\\t\\t<document> #USER# A meeting of insurrectionists...I mean a Biden rally </document>\\n\\t\\t<document> #USER# #USER# This is lame. Instead of stringing up curlers, they should be stringing up...ahem </document>\\n\\t\\t<document> #USER# This is insane. The citizens better rise up. And this is why you never willingly give up your weapons. </document>\\n\\t\\t<document> #USER# I would have wrote: \\xe2\\x80\\x9cMy name is... and I am not a racist, but Al Sharpton is a racist and I will pray for him to do better\\xe2\\x80\\x9d </document>\\n\\t\\t<document> RT #USER#: The data came from the CDC!!! Are you fricken kidding me with this spin??? </document>\\n\\t\\t<document> RT #USER#: Jason, who came to Kenosha to check on his family, insisted that \\xe2\\x80\\x9cKenosha locals did not do this to they town, man!\\xe2\\x80\\x9d </document>\\n\\t\\t<document> #USER# And here we have Creepy Sleepy Pedo Joe lying again-bc he DID say he would kill the oil and natural gas industry </document>\\n\\t\\t<document> A year ago? No...now, without a doubt. He will kneel because he can\\xe2\\x80\\x99t stand for anything. #USER# the sellout #URL# </document>\\n\\t\\t<document> #USER# #USER# blink 3 times if they are holding you hostage </document>\\n\\t\\t<document> #USER# #USER# #USER# #USER# #USER# you are committing marketing suicide </document>\\n\\t\\t<document> #USER# #USER# #USER# #USER# #USER# Add in the virtue signaling MLB too </document>\\n\\t\\t<document> Which is why the NFL is a shitshow with plummeting ratings #URL# </document>\\n\\t\\t<document> #USER# #USER# Dream on leftist turd...stick to hockey and maple syrup Canuck... </document>\\n\\t\\t<document> RT #USER#: BLM and MeToo totally silent on Jacob Blake\\xe2\\x80\\x99s rape victim who called 911 on him </document>\\n\\t\\t<document> RT #USER#: It\\'s time to talk about former Vice President Joe Biden, the open sexual predator. A thread/moment... </document>\\n\\t\\t<document> #USER# #USER# Not jail forever, but death </document>\\n\\t\\t<document> #USER# #USER# Actually the white male died. This was from a year ago </document>\\n\\t\\t<document> RT #USER#: The most important video of 2020 #URL# </document>\\n\\t\\t<document> RT #USER#: Who is responsible for the increase in violence around the country? That\\'s easy..... #URL# </document>\\n\\t\\t<document> RT #USER#: PORTLAND SILENT MAJORITY! #URL# </document>\\n\\t\\t<document> RT #USER#: Based as fuck #URL# </document>\\n\\t\\t<document> RT #USER#: Somebody st..... wtf is going on back there? \\xf0\\x9f\\x98\\x82\\xf0\\x9f\\x98\\x82\\xf0\\x9f\\x98\\x82 #URL# </document>\\n\\t\\t<document> #USER# #USER# \\xe2\\x80\\x9cWere\\xe2\\x80\\x9d...and oh, FYI, there were white slaves too. </document>\\n\\t\\t<document> #USER# Did anyone other than a criminal or Hollywood group of pedos watch them anyway? </document>\\n\\t\\t<document> #USER# #USER# #USER# #USER# Said the troll account following 0 and followed by 0. Late for your AntiFa meeting? </document>\\n\\t\\t<document> #USER# #USER# Make sure you never call them when they are needed. Your bitterness is blinding you to truth. </document>\\n\\t\\t<document> #USER# #USER# #USER# All the videos show he committed suicide...you can\\xe2\\x80\\x99t justify acting a fool for this. </document>\\n\\t\\t<document> #USER# #USER# #USER# #USER# So you admit you\\xe2\\x80\\x99re an insurrectionist...I appeal to you to re-evaluate your position. </document>\\n\\t\\t<document> #USER# #USER# Well, the globalist shill does write for the cultural Marxist rag Vox...so no surprise </document>\\n\\t\\t<document> RT #USER#: You\\xe2\\x80\\x99ve never had an intel brief. The closest you\\xe2\\x80\\x99ve come is reading the press release I edited. </document>\\n\\t\\t<document> RT #USER#: Jacob Blake raped a 15 year old girl. He\\xe2\\x80\\x99s now paralyzed from the waist down. Seems like a proper punishment. </document>\\n\\t\\t<document> RT #USER#: What should Pelosi and crew wear in their next pandering photo op to honor Jacob Blake? </document>\\n\\t\\t<document> #USER# Looters should be given the eternal dirt nap. #HASHTAG# </document>\\n\\t\\t<document> #USER# \\xf0\\x9f\\x8e\\xb6 Hey man nice shot...good shot, man\\xf0\\x9f\\x8e\\xb6 </document>\\n\\t\\t<document> #USER# #USER# Oh so NOW you want the police...\\xf0\\x9f\\xa4\\xa6\\xf0\\x9f\\x8f\\xbb\\xe2\\x80\\x8d\\xe2\\x99\\x82\\xef\\xb8\\x8f </document>\\n\\t\\t<document> #USER# Who is yelling \\xe2\\x80\\x9cwe need a medic!\\xe2\\x80\\x9d Is this Call of Duty? He can just respawn </document>\\n\\t\\t<document> #USER# You won\\xe2\\x80\\x99t do anything yourself. Inciting and grifting. You are a pathetic little white man. </document>\\n\\t\\t<document> #USER# #USER# #USER# Masks do not help and the virus has a 99.8% survival rate. </document>\\n\\t\\t<document> #USER# I call BS </document>\\n\\t\\t<document> #USER# Oh now they want to call the police...\\xf0\\x9f\\x98\\x82 </document>\\n\\t\\t<document> #USER# Why isn\\xe2\\x80\\x99t he stabbing her with a fork? </document>\\n\\t\\t<document> #USER# #USER# But Fauci and Birx said if you wear a mask you\\xe2\\x80\\x99re safe\\xf0\\x9f\\x98\\x82 </document>\\n\\t\\t<document> #USER# #USER# Yes, chem trails. CIA Director Brennan admitted it to the public years ago. You must be a globalist shill </document>\\n\\t\\t<document> #USER# #USER# It\\xe2\\x80\\x99s not just questionable technicians, but faulty tests as well </document>\\n\\t\\t<document> #USER# #USER# #USER# Suddenly a wild white knight appears...\\xe2\\x80\\x9dstop cranking on Lebron\\xe2\\x80\\x9d\\xf0\\x9f\\x98\\x82 </document>\\n\\t\\t<document> RT #USER#: Show this video to #USER# since he\\'s studying Malcolm X now. #URL# </document>\\n\\t\\t<document> #USER# #USER# #USER# #USER# #USER# LeBron makes $50m a year and he\\xe2\\x80\\x99s ignorant too, so what\\xe2\\x80\\x99s your point? </document>\\n\\t\\t<document> #USER# You can hear the taser at the start of the video...and the guy kept walking. I\\xe2\\x80\\x99m thinking he wanted a \\xe2\\x80\\x9csuicide by cop\\xe2\\x80\\x9d </document>\\n\\t\\t<document> #USER# #USER# #USER# #USER# #USER# You are ignorant </document>\\n\\t\\t<document> #USER# #USER# Don\\xe2\\x80\\x99t let the door hit ya where the good Lord split ya\\xf0\\x9f\\x98\\x89 </document>\\n\\t\\t<document> #USER# #USER# He said \\xe2\\x80\\x9ctrigger\\xe2\\x80\\x9d </document>\\n\\t\\t<document> #USER# Seriously, sue your brain for non support </document>\\n\\t\\t<document> #USER# #USER# #USER# They are there bc they broke the law...and they have it much better than they should </document>\\n\\t\\t<document> #USER# #USER# #USER# Oh thousand die bc of his actions...\\xf0\\x9f\\x98\\x82 </document>\\n\\t\\t<document> #USER# These people are stupid...what are the NPC chants going to do? Nothing. Clearly they are starved for attention. </document>\\n\\t\\t<document> RT #USER#: Watch all the way to end #URL# </document>\\n\\t\\t<document> RT #USER#: \\xe2\\x80\\x9cCuz I\\xe2\\x80\\x99m rich as fuck\\xe2\\x80\\x9d #USER# #URL# </document>\\n\\t\\t<document> RT #USER#: Chicago officials raised the bridge not knowing a group was still crossing #URL# </document>\\n\\t\\t<document> #USER# #USER# #USER# Boo freaking Hoo leftist\\xf0\\x9f\\x98\\x82 </document>\\n\\t\\t<document> RT #USER#: #USER# FBI RECORDS PROVE JOE BIDEN LIED ABOUT HIS ROLE IN TARGETING MICHAEL FLYNN #URL# </document>\\n\\t\\t<document> #USER# #USER# They didn\\xe2\\x80\\x99t make \\xe2\\x80\\x9cmistakes\\xe2\\x80\\x9d...they deliberately broke the law. #HASHTAG# </document>\\n\\t\\t<document> RT #USER#: Great! Once this criminal is arrested, let\\'s see how tough he is in prison. #USER# #USER# #HASHTAG# </document>\\n\\t\\t<document> RT #USER#: Your future congressman telling the Truth. #URL# #URL# </document>\\n\\t\\t<document> RT #USER#: #USER# I fixed it. #URL# </document>\\n\\t\\t<document> RT #USER#: The moment Trump won re-election #URL# </document>\\n\\t\\t<document> #USER# #USER# #USER# He should be charged with murder </document>\\n\\t\\t<document> #USER# #USER# Just when I didn\\xe2\\x80\\x99t think she could get any more stupid...she proves me wrong\\xf0\\x9f\\x98\\x82 </document>\\n\\t\\t<document> #USER# I didn\\xe2\\x80\\x99t...don\\xe2\\x80\\x99t want to give those reprobate traitors any ratings </document>\\n\\t\\t<document> #USER# #USER# #USER# #USER# Big Mike is packing #URL# </document>\\n\\t\\t<document> #USER# #USER# #USER# Yes it does. The same question came up when Sen Cruz was running in 2016. TRT again leftist </document>\\n\\t\\t<document> #USER# #USER# Excellent! And hope you had security. </document>\\n\\t\\t<document> #USER# #USER# #USER# Oregon won\\xe2\\x80\\x99t do anything, the DOJ will have to charge this AssClown </document>\\n\\t\\t<document> #USER# It is funny...a tranny and an aging marxist... </document>\\n\\t\\t<document> #USER# #USER# Mike is just jealous of Melania\\xf0\\x9f\\x98\\x82 </document>\\n\\t\\t<document> #USER# What kind of drone and where did you hear this? </document>\\n\\t\\t<document> RT #USER#: Kamala Harris reportedly owes $1M in bills from failed presidential run #URL# #URL# </document>\\n\\t\\t<document> #USER# #USER# And a bunch of NeverTrumper Cucks </document>\\n\\t\\t<document> RT #USER#: The Democrat Convention is a very angry toned, bitter, anti-American celebration of domestic terrorism. </document>\\n\\t\\t<document> #USER# #USER# #USER# must like losing money showing that clown show </document>\\n\\t\\t<document> RT #USER#: I can\\xe2\\x80\\x99t wait for night 2 said no one </document>\\n\\t\\t<document> #USER# ratings take a dive showing the Traitors to the Republic National Convention #URL# </document>\\n\\t\\t<document> #USER# #USER# Time to shoot rioters </document>\\n\\t\\t<document> RT #USER#: This new Trump ad about Joe Biden and Kamala Harris is scathing. #URL# </document>\\n\\t\\t<document> #USER# Talk about \\xe2\\x80\\x9cawkward\\xe2\\x80\\x9d or \\xe2\\x80\\x9ccringe\\xe2\\x80\\x9d moment of the year.... </document>\\n\\t\\t<document> #USER# #USER# Yeah, Jose sucks </document>\\n\\t\\t<document> #USER# #USER# #USER# His style sucks </document>\\n\\t\\t<document> #USER# And she isn\\xe2\\x80\\x99t qualified to hold the office if VP or President. She is an anchor baby. Parents were not citizens when she was born </document>\\n\\t\\t<document> What\\xe2\\x80\\x99s next? Boxcars to the Re-education camps? #URL# </document>\\n\\t\\t<document> #USER# #USER# Karen? No, you\\xe2\\x80\\x99re the \\xe2\\x80\\x9cKaren\\xe2\\x80\\x9d. Marxist much? </document>\\n\\t\\t<document> #USER# #USER# Hmm...millions of Dems #HASHTAG# #HASHTAG# keep thinking this...you will be highly disappointed come November #HASHTAG# </document>\\n\\t\\t<document> #USER# #USER# #USER# Again, fake news. Already been debunked by the joint chiefs and NSA. </document>\\n\\t\\t<document> #USER# #USER# #USER# #USER# We will both be offended together\\xf0\\x9f\\x98\\x84 </document>\\n\\t\\t<document> #USER# #USER# #USER# More than enough proof </document>\\n\\t\\t<document> #USER# #USER# #USER# Preaching what the Bible says about homosexuality got him arrested. </document>\\n\\t\\t<document> #USER# #USER# Vladimir Lenin: confiscate the wealth of the rich... #USER# : Hold my beer </document>\\n\\t\\t<document> RT #USER#: If I\\xe2\\x80\\x99m a coon for supporting trump then you\\xe2\\x80\\x99re a prostitute for supporting cardi b. \\xf0\\x9f\\xa4\\xb7\\xf0\\x9f\\x8f\\xbe\\xe2\\x80\\x8d\\xe2\\x99\\x82\\xef\\xb8\\x8f I don\\xe2\\x80\\x99t make the rules </document>\\n\\t\\t<document> RT #USER#: Alright this is pretty funny \\xf0\\x9f\\x98\\x82 #URL# </document>\\n\\t\\t<document> #USER# #USER# #USER# Try again leftist, he\\xe2\\x80\\x99s doing exactly what I voted for him to do. </document>\\n\\t\\t<document> #USER# #USER# Then you stay in your bubble </document>\\n\\t\\t<document> #USER# Exactly right. They should be playing! </document>\\n\\t\\t<document> #USER# #USER# Then stay home pussy </document>\\n\\t\\t<document> #USER# Good, let\\xe2\\x80\\x99s do this!! </document>\\n\\t\\t<document> #USER# #USER# No matter how hard you try, no one will watch women\\xe2\\x80\\x99s basketball </document>\\n\\t\\t<document> #USER# #USER# Shut up pussy </document>\\n\\t\\t<document> #USER# #USER# If I was a WVU alum I would try to make excuses not to play too </document>\\n\\t\\t<document> #USER# #USER# Said the crybaby </document>\\n\\t\\t<document> #USER# #USER# Conference game dummy </document>\\n\\t\\t<document> #USER# #USER# Seriously drink a tall glass of shut up </document>\\n\\t\\t<document> #USER# No one cares about soccer. We want football!! </document>\\n\\t\\t<document> #USER# Feces? Ok then </document>\\n\\t\\t<document> #USER# #USER# Don\\xe2\\x80\\x99t support Jorgensen but she is infinitely more qualified than the #HASHTAG# #USER# # </document>\\n\\t\\t<document> #USER# Yes...inquiring minds want to know\\xf0\\x9f\\xa4\\x94 #HASHTAG# </document>\\n\\t\\t<document> RT #USER#: Joe Biden should\\xe2\\x80\\x99ve saved his \\xe2\\x80\\x9cAre you a junkie.\\xe2\\x80\\x9d comment for Hunter. </document>\\n\\t\\t<document> RT #USER#: Has anyone actually seen a Joe Biden sticker or a yard sign? #HASHTAG# </document>\\n\\t\\t<document> #USER# #USER# #USER# I thought \\xe2\\x80\\x9cShelter in Place\\xe2\\x80\\x9d was over...fix that hair bro...need to be more aerodynamic! </document>\\n\\t\\t<document> RT #USER#: All of the numbers are coming in from Michigan except one race. The squads Rashida Tlaib. She is the only one with 0% reporting. </document>\\n\\t\\t<document> RT #USER#: #USER# Here is the clip!! #URL# </document>\\n\\t\\t<document> RT #USER#: #USER# From the same article #URL# </document>\\n\\t\\t<document> RT #USER#: #USER# LOCK UP THE PEDOS </document>\\n\\t\\t<document> #USER# #USER# The mockingbird media is complicit in the cover up of #HASHTAG# </document>\\n\\t\\t<document> RT #USER#: And there you have it Communists party puts full support behind Joe Biden #URL# </document>\\n\\t\\t<document> RT #USER#: Department of Justice Awards Over $35 Million to Provide Housing to Victims of #HASHTAG# #URL# </document>\\n\\t\\t<document> RT #USER#: Democrats were so humiliated that they actually had to leave the room! #URL# </document>\\n\\t\\t<document> #USER# I know I do. </document>\\n\\t\\t<document> #USER# #USER# You never know. Vote Red. </document>\\n\\t\\t<document> RT #USER#: I\\xe2\\x80\\x99m voting in person. You? </document>\\n\\t\\t<document> RT #USER#: Maybe McGrath should try texting us all again. That went well the first time. </document>\\n\\t\\t<document> RT #USER#: OPEN AMERICA NOW!!! #USER# #USER# #USER# #USER# #HASHTAG# #URL# </document>\\n\\t\\t<document> RT #USER#: What are the chances these \\xe2\\x80\\x9cprotesters\\xe2\\x80\\x9d have jobs.... </document>\\n\\t\\t<document> RT #USER#: Stunning video shows explosions just minutes ago at Beirut port #URL# </document>\\n\\t\\t<document> #USER# #USER# #USER# Winnie the Pooh called, your presence is requested at the Beijing Re-education Camp. </document>\\n\\t\\t<document> #USER# #USER# She shouldn\\xe2\\x80\\x99t have left. </document>\\n\\t\\t<document> #USER# #USER# #USER# #USER# Preach! We ain\\xe2\\x80\\x99t giving the leftists shit. </document>\\n\\t\\t<document> #USER# A \\xe2\\x80\\x9cwho\\xe2\\x80\\x99s who\\xe2\\x80\\x9d of child predators </document>\\n\\t\\t<document> #USER# #USER# #USER# Don\\xe2\\x80\\x99t you have a CCP rally to attend? </document>\\n\\t\\t<document> RT #USER#: Awesome \\xf0\\x9f\\x91\\x8f\\xf0\\x9f\\x8f\\xbc thank you #USER# #URL# </document>\\n\\t\\t<document> RT #USER#: We are empowered to protect ourselves and our country! Best believe it! #USER# \\xf0\\x9f\\x87\\xba\\xf0\\x9f\\x87\\xb8\\xf0\\x9f\\x8c\\x88\\xe2\\x98\\x80\\xef\\xb8\\x8f\\xf0\\x9f\\x8e\\xaf\\xf0\\x9f\\x94\\xab #URL# </document>\\n\\t\\t<document> RT #USER#: Be patient and keep in prayer! Praying for all of you always! Love you \\xe2\\x9d\\xa4\\xef\\xb8\\x8f\\xf0\\x9f\\x98\\x98 #URL# </document>\\n\\t\\t<document> RT #USER#: .#USER# #USER# Thank you Mr. President! #HASHTAG# #URL# </document>\\n\\t\\t<document> #USER# The left would like nothing more than to establish a totalitarian state following Luciferian principles. </document>\\n\\t\\t<document> RT #USER#: Democrats are focused like a laser on their Cheat-by-Mail Scheme #URL# </document>\\n\\t\\t<document> #USER# One on the right is a CPAP...but thanks for the daily dose of fear porn. Don\\xe2\\x80\\x99t you have a cemetery to haunt Beetlejuice? </document>\\n\\t\\t<document> RT #USER#: Does anyone care? #HASHTAG# #URL# </document>\\n\\t\\t<document> #USER# Exactly right! And don\\xe2\\x80\\x99t forget, #HASHTAG# </document>\\n\\t\\t<document> #USER# The Dems were never going to put him up, it\\xe2\\x80\\x99s all a scam-just like this #HASHTAG# </document>\\n\\t\\t<document> #USER# And Twitter is suppressing tweets about it. #HASHTAG# #HASHTAG# #HASHTAG# </document>\\n\\t\\t<document> RT #USER#: Rt if you will NEVER kneel during the National Anthem! </document>\\n\\t\\t<document> #USER# #USER# #USER# #USER# Sue your brain for non support </document>\\n\\t\\t<document> #USER# #USER# Should have been 9-0 to deny the request. Further proof that 4 of them are UnAmerican traitors to the Republic </document>\\n\\t\\t<document> RT #USER#: He certainly has not been afraid to bring up this issue, so why are the Democrats all running from it? </document>\\n\\t\\t<document> #USER# #USER# #USER# #USER# That didn\\xe2\\x80\\x99t age well </document>\\n\\t\\t<document> RT #USER#: #USER# #USER# #USER# In his own words. #URL# </document>\\n\\t\\t<document> #USER# Sucks for you ingrates. Kneel before Zod </document>\\n\\t\\t<document> #USER# I see his athletic ability mirrors his healthcare ability...both way off course #HASHTAG# </document>\\n\\t\\t<document> #USER# #USER# Here for the ratio </document>\\n\\t\\t<document> RT #USER#: #USER# I will call it whatever I like. China lied, people died. </document>\\n\\t\\t<document> RT #USER#: Remember when media asked questions about Wayfair?...yeah..neither do I... </document>\\n\\t\\t<document> #USER# #USER# Same ones that want to take our weapons, are the same ones that want to defund and disband the police...\\xf0\\x9f\\x98\\x82 </document>\\n\\t\\t<document> #USER# I have new respect for Martha </document>\\n\\t\\t<document> #USER# Exactly right! #HASHTAG# </document>\\n\\t\\t<document> RT #USER#: They\\'re not going to let Joe Biden debate President Trump are they? </document>\\n\\t\\t<document> #USER# #USER# #USER# Still asleep...hopefully one day you can wake up </document>\\n\\t\\t<document> RT #USER#: If we are wearing masks then in-person voting must be permitted </document>\\n\\t\\t<document> RT #USER#: I was WRONG about Trump #HASHTAG# #HASHTAG# #URL# </document>\\n\\t\\t<document> #USER# If it\\xe2\\x80\\x99s so \\xe2\\x80\\x9cfake\\xe2\\x80\\x9d then why does the left hate it? Truth hurts #HASHTAG# </document>\\n\\t\\t<document> RT #USER#: Founder of Never-Trump Super PAC Arrested in $60M Bribery Scheme. Anyone else as shocked as I am??? \\xf0\\x9f\\x99\\x84 </document>\\n\\t\\t<document> #USER# Good, don\\xe2\\x80\\x99t let the door hit you where the Good Lord split you. Globalist shill </document>\\n\\t\\t<document> RT #USER#: We\\'re not waiting on Durham. </document>\\n\\t\\t<document> #USER# Looks like she\\xe2\\x80\\x99s throwing witchcraft hand spells </document>\\n\\t\\t<document> RT #USER#: \\xf0\\x9f\\x98\\x82\\xf0\\x9f\\xa4\\xa3\\xf0\\x9f\\x98\\x82 they HAVE to be related \\xf0\\x9f\\x98\\x82\\xf0\\x9f\\xa4\\xa3\\xf0\\x9f\\x98\\x82 </document>\\n\\t\\t<document> #USER# Exactly right. Making the move to Parler </document>\\n\\t\\t<document> #USER# #USER# True, but South Park is adult entertainment and has never been made to target the \\xe2\\x80\\x9cunder 18\\xe2\\x80\\x9d demographic. </document>\\n\\t\\t<document> #USER# \\xf0\\x9f\\x98\\x82 The leftists are insane </document>\\n\\t\\t<document> RT #USER#: Do not retweet this Trump Ad. That Twitter keeps banning. #URL# </document>\\n\\t\\t<document> #USER# Well said #HASHTAG# </document>\\n\\t\\t<document> RT #USER#: 1) Why am I here? Why am I a conservative? #HASHTAG# #HASHTAG# #URL# </document>\\n\\t\\t<document> RT #USER#: The definition of racist has no weight anymore because of people like Jemele Hill. </document>\\n\\t\\t<document> RT #USER#: Orange man bad. The truth about the Donald Trump racism narrative. #URL# </document>\\n\\t\\t<document> RT #USER#: Just a reminder, three Kevin Spacey accusers died mysteriously. </document>\\n\\t\\t<document> #USER# #USER# No, she\\xe2\\x80\\x99s shaking from the \\xe2\\x80\\x9cshakes\\xe2\\x80\\x9d...get Nancy another vodka </document>\\n\\t\\t<document> #USER# That isn\\xe2\\x80\\x99t her or is a demon possessed her. Tell us #USER# did she have the same thing done that was done to you? </document>\\n\\t\\t<document> #USER# #USER# Further proof that the UK should have never given Hong Kong to China\\xf0\\x9f\\x98\\x89 </document>\\n\\t\\t<document> #USER# #USER# Shouldn\\xe2\\x80\\x99t you write this in Chinese? </document>\\n\\t\\t<document> RT #USER#: #USER# #USER# Not a word from Democrats when these thugs are looting, rioting, assaulting people and setting fires... </document>\\n\\t\\t<document> RT #USER#: #USER# #USER# The Speaker of the House just declared War on America. </document>\\n\\t\\t<document> #USER# #USER# Totally false...now go drink another vodka lush </document>\\n\\t\\t<document> RT #USER#: Holy what the fuck??! #URL# #URL# </document>\\n\\t\\t<document> RT #USER#: I\\xe2\\x80\\x99m ready for this\\xe2\\x9d\\xa4\\xef\\xb8\\x8f\\xf0\\x9f\\xa4\\x8d\\xf0\\x9f\\x92\\x99 #URL# </document>\\n\\t\\t<document> RT #USER#: This is absolutely spectacular. #URL# </document>\\n\\t\\t<document> #USER# Where is #HASHTAG# now? Nowhere, because they should change their name to \\xe2\\x80\\x9cOnly Certain Black Lives Matter\\xe2\\x80\\x9d </document>\\n\\t\\t<document> RT #USER#: #USER# #USER# There is also this... \\xf0\\x9f\\xa4\\xa8. #URL# </document>\\n\\t\\t<document> RT #USER#: 0 offers help a brother out Twitter RT\\xf0\\x9f\\x99\\x8f\\xf0\\x9f\\x8f\\xbe\\xe2\\x9d\\xa4\\xef\\xb8\\x8f\\xf0\\x9f\\x90\\xb6 #URL# </document>\\n\\t\\t<document> #USER# #USER# Sue your brain for non support </document>\\n\\t\\t<document> #USER# #USER# You are committed to defending and rationalizing for #HASHTAG# </document>\\n\\t\\t<document> RT #USER#: #USER# You keep deleting this honey.... you were so proud all these years though. I\\xe2\\x80\\x99m so very confused. </document>\\n\\t\\t<document> RT #USER#: Sad: Democrat Leaders Struggling To Enforce Lockdowns After Getting Rid Of All The Police #URL# </document>\\n\\t\\t<document> RT #USER#: #USER# You know who you are! #URL# </document>\\n\\t\\t<document> RT #USER#: #USER# Don\\'t they know... internet is forever. Like this \\xf0\\x9f\\x91\\x87 #URL# </document>\\n\\t  ', shape=(), dtype=string)\n",
            "SVM Accuracy Score on Test set ->  [0.6]\n"
          ]
        }
      ]
    },
    {
      "cell_type": "markdown",
      "metadata": {
        "id": "6uMKAeuegNk1"
      },
      "source": [
        "## Now show compact results in a table."
      ]
    },
    {
      "cell_type": "code",
      "metadata": {
        "colab": {
          "base_uri": "https://localhost:8080/"
        },
        "id": "AJ79RMougNRA",
        "outputId": "6fd3bf67-b326-4a49-8fea-67c0bca6752f"
      },
      "source": [
        "print(\" PREPRO FUNCTION    |  Test Accuracy   |\",end = '')\n",
        "\n",
        "print(\"\\n\")\n",
        "for prepro_func in prepro_functions_dict_comb:\n",
        "  #print(prepro_func,\"\\t\\t\\t\",format(round(model_results[prepro_func][0],4),'.4f'),\"\\t\\t\",end='')\n",
        "  result = format(round(model_results[prepro_func][0],4),'.4f')\n",
        "  print(f'{prepro_func:27}{ result :12}')\n",
        "  print(\"\\n\")\n",
        " "
      ],
      "execution_count": null,
      "outputs": [
        {
          "output_type": "stream",
          "name": "stdout",
          "text": [
            " PREPRO FUNCTION    |  Test Accuracy   |\n",
            "\n",
            "DON                        0.6300      \n",
            "\n",
            "\n"
          ]
        }
      ]
    },
    {
      "cell_type": "code",
      "source": [],
      "metadata": {
        "id": "i_kVxTZzkPL8"
      },
      "execution_count": null,
      "outputs": []
    }
  ]
}