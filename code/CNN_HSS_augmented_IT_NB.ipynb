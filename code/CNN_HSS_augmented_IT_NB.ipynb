{
  "cells": [
    {
      "cell_type": "markdown",
      "metadata": {
        "id": "view-in-github",
        "colab_type": "text"
      },
      "source": [
        "<a href=\"https://colab.research.google.com/github/marco-siino/DA-ESWA/blob/main/code/CNN_HSS_augmented_IT_NB.ipynb\" target=\"_parent\"><img src=\"https://colab.research.google.com/assets/colab-badge.svg\" alt=\"Open In Colab\"/></a>"
      ]
    },
    {
      "cell_type": "markdown",
      "metadata": {
        "id": "u-hLo5ufkCT1"
      },
      "source": [
        "## Text preprocessing worth the time: A comparative survey on the impact of common techniques on NLP model performances. \n",
        "- - - \n",
        "CNN ON FNS DS EXPERIMENTS NOTEBOOK \n",
        "- - -\n",
        "Convolutional Neural Network on Fake News Spreaders Dataset.\n",
        "Code by M. Siino. \n",
        "\n",
        "From the paper: \"Text preprocessing worth the time: A comparative survey on the impact of common techniques on NLP model performances.\" by M.Siino et al.\n",
        "\n"
      ]
    },
    {
      "cell_type": "markdown",
      "metadata": {
        "id": "6IBqUcj4cx2G"
      },
      "source": [
        "## Importing modules."
      ]
    },
    {
      "cell_type": "code",
      "execution_count": 1,
      "metadata": {
        "id": "AQSunQ-ucjLX"
      },
      "outputs": [],
      "source": [
        "import matplotlib.pyplot as plt\n",
        "import os\n",
        "import random\n",
        "import re\n",
        "import shutil\n",
        "import string\n",
        "import tensorflow as tf\n",
        "\n",
        "import numpy as np\n",
        "\n",
        "from tensorflow.keras import layers\n",
        "from tensorflow.keras import losses\n",
        "from tensorflow.keras import preprocessing\n",
        "from keras.models import Model\n",
        "from tensorflow.keras.layers.experimental.preprocessing import TextVectorization\n",
        "\n",
        "os.environ['TF_CUDNN_DETERMINISTIC']='true'\n",
        "os.environ['TF_DETERMINISTIC_OPS']='true'"
      ]
    },
    {
      "cell_type": "markdown",
      "metadata": {
        "id": "0QHd_fxmHCfa"
      },
      "source": [
        "## Importing DS and extract in current working directory."
      ]
    },
    {
      "cell_type": "code",
      "source": [
        "urlTrainingSet = \"https://github.com/marco-siino/DA-ESWA/raw/main/data/hss/hss-training-augmented-it.zip\"\n",
        "training_set = tf.keras.utils.get_file(\"pan21-author-profiling-training-2021-03-14-augmented.zip\", urlTrainingSet,\n",
        "                                    extract=True, archive_format='zip',cache_dir='.',\n",
        "                                    cache_subdir='')"
      ],
      "metadata": {
        "colab": {
          "base_uri": "https://localhost:8080/"
        },
        "id": "2RBLe4vQPni1",
        "outputId": "4b0810d4-dfdb-4116-c2d0-f61af35f55f2"
      },
      "execution_count": 2,
      "outputs": [
        {
          "output_type": "stream",
          "name": "stdout",
          "text": [
            "Downloading data from https://github.com/marco-siino/DA-ESWA/raw/main/data/hss/hss-training-augmented-it.zip\n",
            "1879393/1879393 [==============================] - 0s 0us/step\n"
          ]
        }
      ]
    },
    {
      "cell_type": "code",
      "execution_count": 3,
      "metadata": {
        "id": "ocYMUXaY8r0_",
        "colab": {
          "base_uri": "https://localhost:8080/"
        },
        "outputId": "402a004e-502f-4e88-da72-b456a60aed03"
      },
      "outputs": [
        {
          "output_type": "stream",
          "name": "stdout",
          "text": [
            "Downloading data from https://github.com/marco-siino/DA-ESWA/raw/main/data/hss/hss-test-cleaned.zip\n",
            "653010/653010 [==============================] - 0s 0us/step\n",
            "./pan21-author-profiling-training-2021-03-14-augmented.zip\n",
            "./pan21-author-profiling-training-2021-03-14-augmented\n",
            ".config\n",
            "pan21-author-profiling-test-without-gold-augmented\n",
            "pan21-author-profiling-test-without-gold-augmented.zip\n",
            "pan21-author-profiling-training-2021-03-14-augmented\n",
            "pan21-author-profiling-training-2021-03-14-augmented.zip\n",
            "sample_data\n"
          ]
        }
      ],
      "source": [
        "# Url obtained starting from this: https://drive.google.com/file/d/19ZcqEv88euKB71HfAWjTGN3uCKp2qsfP/ and forcing export=download.\n",
        "#urlTrainingSet = \"https://github.com/marco-siino/DA-ESWA/raw/main/data/hss/hss-training-augmented-de-it.zip\"\n",
        "\n",
        "urlTestSet=\"https://github.com/marco-siino/DA-ESWA/raw/main/data/hss/hss-test-cleaned.zip\"\n",
        "\n",
        "#training_set = tf.keras.utils.get_file(\"pan21-author-profiling-training-2021-03-14-augmented.zip\", urlTrainingSet,\n",
        "#                                    extract=True, archive_format='zip',cache_dir='.',\n",
        "#                                    cache_subdir='')\n",
        "\n",
        "test_set = tf.keras.utils.get_file(\"pan21-author-profiling-test-without-gold-augmented.zip\", urlTestSet,\n",
        "                                    extract=True, archive_format='zip',cache_dir='.',\n",
        "                                    cache_subdir='')\n",
        "\n",
        "training_set_dir = os.path.join(os.path.dirname(training_set), 'pan21-author-profiling-training-2021-03-14-augmented')\n",
        "test_set_dir = os.path.join(os.path.dirname(test_set), 'pan21-author-profiling-test-without-gold-augmented')\n",
        "\n",
        "print(training_set)\n",
        "print(training_set_dir)\n",
        "\n",
        "!ls -A\n",
        "\n"
      ]
    },
    {
      "cell_type": "markdown",
      "metadata": {
        "id": "uTJi1fbT_Rup"
      },
      "source": [
        "## Build folders hierarchy to use Keras folders preprocessing function.\n",
        "\n"
      ]
    },
    {
      "cell_type": "code",
      "execution_count": 4,
      "metadata": {
        "id": "FyafvXEMhEKw",
        "colab": {
          "base_uri": "https://localhost:8080/"
        },
        "outputId": "8f9996de-074e-4fad-910b-da5db5dfba61"
      },
      "outputs": [
        {
          "output_type": "stream",
          "name": "stdout",
          "text": [
            ".config\n",
            "pan21-author-profiling-test-without-gold-augmented\n",
            "pan21-author-profiling-test-without-gold-augmented.zip\n",
            "pan21-author-profiling-training-2021-03-14-augmented\n",
            "pan21-author-profiling-training-2021-03-14-augmented.zip\n",
            "sample_data\n",
            "test_dir_en\n",
            "train_dir_en\n"
          ]
        }
      ],
      "source": [
        "### Training Folders. ###\n",
        "\n",
        "# First level directory.\n",
        "if not os.path.exists('train_dir_en'):\n",
        "    os.makedirs('train_dir_en')\n",
        "\n",
        "# Class labels directory.\n",
        "if not os.path.exists('train_dir_en/0'):\n",
        "    os.makedirs('train_dir_en/0')\n",
        "if not os.path.exists('train_dir_en/1'):\n",
        "    os.makedirs('train_dir_en/1')\n",
        "\n",
        "# Make Py variables.\n",
        "train_dir='train_dir_'\n",
        "\n",
        "## Test Folders. ##\n",
        "# First level directory.\n",
        "if not os.path.exists('test_dir_en'):\n",
        "    os.makedirs('test_dir_en')\n",
        "\n",
        "# Class labels directory.\n",
        "if not os.path.exists('test_dir_en/0'):\n",
        "    os.makedirs('test_dir_en/0')\n",
        "if not os.path.exists('test_dir_en/1'):\n",
        "    os.makedirs('test_dir_en/1')\n",
        "\n",
        "# Make Py variables.\n",
        "test_dir='test_dir_'\n",
        "\n",
        "!ls -A"
      ]
    },
    {
      "cell_type": "markdown",
      "source": [
        "## Set language and directory paths."
      ],
      "metadata": {
        "id": "-6c28Rdo8zGn"
      }
    },
    {
      "cell_type": "code",
      "source": [
        "# Set en and es ground truth file path for train_dir. We haven't a ground truth file for the test set.\n",
        "language='en'\n",
        "\n",
        "truth_file_training_dir_en=training_set_dir+'/'+language+'/'\n",
        "truth_file_training_path_en = truth_file_training_dir_en+'truth.txt'\n",
        "print('truth_file_training_dir_en',truth_file_training_dir_en)\n",
        "print('truth_file_training_path_en',truth_file_training_path_en)\n",
        "truth_file_test_dir=test_set_dir\n",
        "truth_file_test_path_en = truth_file_test_dir+'/'+'truth'+'.txt'\n",
        "print('truth_file_test_dir', truth_file_test_dir)\n",
        "print('truth_file_test_path_en',truth_file_test_path_en)"
      ],
      "metadata": {
        "id": "ANr_dCj-8yvD",
        "colab": {
          "base_uri": "https://localhost:8080/"
        },
        "outputId": "a4f125a9-c647-4081-eb52-45df351c514a"
      },
      "execution_count": 5,
      "outputs": [
        {
          "output_type": "stream",
          "name": "stdout",
          "text": [
            "truth_file_training_dir_en ./pan21-author-profiling-training-2021-03-14-augmented/en/\n",
            "truth_file_training_path_en ./pan21-author-profiling-training-2021-03-14-augmented/en/truth.txt\n",
            "truth_file_test_dir ./pan21-author-profiling-test-without-gold-augmented\n",
            "truth_file_test_path_en ./pan21-author-profiling-test-without-gold-augmented/truth.txt\n"
          ]
        }
      ]
    },
    {
      "cell_type": "markdown",
      "source": [
        "## Read truth.txt to organize training and test dataset folders."
      ],
      "metadata": {
        "id": "VU6PtNMZ864o"
      }
    },
    {
      "cell_type": "code",
      "source": [
        "# Open the file truth.txt with read only permit.\n",
        "f = open(truth_file_training_path_en, \"r\")\n",
        "# use readline() to read the first line \n",
        "line = f.readline()\n",
        "# use the read line to read further.\n",
        "# If the file is not empty keep reading one line\n",
        "# at a time, till the file is empty\n",
        "while line:\n",
        "    # Split line at :::\n",
        "    x = line.split(\":::\")\n",
        "    fNameXml = x[0]+'.xml'\n",
        "    fNameTxt = x[0]+'.txt'\n",
        "    # Second coord [0] gets just the first character (label) and not /n too.\n",
        "    label = x[1][0]\n",
        "\n",
        "    # Now move the file to the right folder.\n",
        "    if os.path.exists(truth_file_training_dir_en+fNameXml):\n",
        "      os.rename(truth_file_training_dir_en+fNameXml, './train_dir_'+language+'/'+label+'/'+fNameTxt )\n",
        "\n",
        "    # use readline() to read next line\n",
        "    line = f.readline()\n",
        "\n",
        "# Open the file truth.txt with read only permit.\n",
        "f = open(truth_file_test_path_en, \"r\")\n",
        "# use readline() to read the first line \n",
        "line = f.readline()\n",
        "# use the read line to read further.\n",
        "# If the file is not empty keep reading one line\n",
        "# at a time, till the file is empty\n",
        "while line:\n",
        "    # Split line at :::\n",
        "    x = line.split(\":::\")\n",
        "    fNameXml = x[0]+'.xml'\n",
        "    fNameTxt = x[0]+'.txt'\n",
        "    # Second coord [0] gets just the first character (label) and not /n too.\n",
        "    label = x[1][0]\n",
        "\n",
        "    # Now move the file to the right folder.\n",
        "    if os.path.exists(truth_file_test_dir+'/'+language+'/'+fNameXml):\n",
        "      os.rename(truth_file_test_dir+'/'+language+'/'+fNameXml, './test_dir_'+language+'/'+label+'/'+fNameTxt )\n",
        "\n",
        "    # use readline() to read next line\n",
        "    line = f.readline()"
      ],
      "metadata": {
        "id": "iW2UF_SH87TX"
      },
      "execution_count": 6,
      "outputs": []
    },
    {
      "cell_type": "markdown",
      "source": [
        "## Generate full training set."
      ],
      "metadata": {
        "id": "4vskGJeX9GqJ"
      }
    },
    {
      "cell_type": "code",
      "source": [
        "# Generate full randomized training set.\n",
        "batch_size=1\n",
        "\n",
        "en_train_ds = tf.keras.preprocessing.text_dataset_from_directory(\n",
        "    train_dir+language, \n",
        "    batch_size=batch_size,\n",
        "    shuffle=False\n",
        "    )\n",
        "\n",
        "en_test_ds = tf.keras.preprocessing.text_dataset_from_directory(\n",
        "    test_dir+language, \n",
        "    batch_size=batch_size,\n",
        "    shuffle=False\n",
        "    )\n",
        "\n",
        "train_ds=en_train_ds.shuffle(300,seed=1, reshuffle_each_iteration=False)\n",
        "test_ds=en_test_ds.shuffle(200,seed=1, reshuffle_each_iteration=False)\n",
        "\n",
        "train_ds_size=len(train_ds)\n",
        "test_ds_size=len(test_ds)"
      ],
      "metadata": {
        "colab": {
          "base_uri": "https://localhost:8080/"
        },
        "id": "UOqIc_Sm9HGX",
        "outputId": "fa62850b-d190-4e54-830d-173ca580bb30"
      },
      "execution_count": 7,
      "outputs": [
        {
          "output_type": "stream",
          "name": "stdout",
          "text": [
            "Found 200 files belonging to 2 classes.\n",
            "Found 100 files belonging to 2 classes.\n"
          ]
        }
      ]
    },
    {
      "cell_type": "markdown",
      "metadata": {
        "id": "ITouXXtQ8WzV"
      },
      "source": [
        "## Functions to pre-process source text. (A detailed discussion on our paper)"
      ]
    },
    {
      "cell_type": "code",
      "execution_count": 8,
      "metadata": {
        "id": "bDPIqAgXYWim"
      },
      "outputs": [],
      "source": [
        "# Do-Nothing preprocessing function.\n",
        "def DON(input_data):\n",
        "  tag_open_CDATA_removed = tf.strings.regex_replace(input_data, '<\\!\\[CDATA\\[', ' ')\n",
        "  tag_closed_CDATA_removed = tf.strings.regex_replace(tag_open_CDATA_removed,'\\]{1,}>', ' ')\n",
        "  tag_author_lang_en_removed = tf.strings.regex_replace(tag_closed_CDATA_removed,'<author lang=\"en\">', ' ')\n",
        "  tag_closed_author_removed = tf.strings.regex_replace(tag_author_lang_en_removed,'</author>', ' ')\n",
        "  tag_open_documents_removed = tf.strings.regex_replace(tag_closed_author_removed,'<documents>\\n(\\t){0,2}', '')\n",
        "  output_data = tf.strings.regex_replace(tag_open_documents_removed,'</documents>\\n(\\t){0,2}', ' ')\n",
        "  return output_data"
      ]
    },
    {
      "cell_type": "markdown",
      "metadata": {
        "id": "TjUnE9_DEyCw"
      },
      "source": [
        "## Get the length of the longest sample in training set. Then adapt text.\n",
        "\n"
      ]
    },
    {
      "cell_type": "code",
      "execution_count": 13,
      "metadata": {
        "id": "ebRMQqa_mr48"
      },
      "outputs": [],
      "source": [
        "def preprocess_and_adapt_ts(preprocessing_function,training_set):\n",
        "  # Set a large sequence length to find the longest sample in the training set.\n",
        "  sequence_length = 30000\n",
        "  vectorize_layer = TextVectorization(\n",
        "      standardize=preprocessing_function,\n",
        "      output_mode='int',\n",
        "      output_sequence_length=sequence_length)\n",
        "\n",
        "  train_text = training_set.map(lambda x, y: x)\n",
        "  vectorize_layer.adapt(train_text)\n",
        "  #vectorize_layer.get_vocabulary()\n",
        "\n",
        "  model = tf.keras.models.Sequential()\n",
        "  model.add(tf.keras.Input(shape=(1,), dtype=tf.string))\n",
        "  model.add(vectorize_layer)\n",
        "\n",
        "  longest_sample_length=1\n",
        "\n",
        "  for element in training_set:\n",
        "    authorDocument=element[0]\n",
        "    label=element[1]\n",
        "    \n",
        "    #print(\"Sample considered is: \", authorDocument[0].numpy())\n",
        "    #print(\"Preprocessed: \", str(custom_standardization(authorDocument[0].numpy())))\n",
        "    #print(\"And has label: \", label[0].numpy())\n",
        "\n",
        "    out=model(authorDocument)\n",
        "    # Convert token list to numpy array.\n",
        "    token_list = out.numpy()[0]\n",
        "    token_list = np.trim_zeros(token_list,'b')\n",
        "    if longest_sample_length < len(token_list):\n",
        "      longest_sample_length = len(token_list)\n",
        "\n",
        "  print(\"Length of the longest sample is:\", longest_sample_length)\n",
        "\n",
        "  # After tokenization longest_sample_length covers all the document lenghts in our dataset.\n",
        "  sequence_length = longest_sample_length\n",
        "\n",
        "  vectorize_layer = TextVectorization(\n",
        "      standardize=preprocessing_function,\n",
        "      output_mode='int',\n",
        "      output_sequence_length=sequence_length)\n",
        "\n",
        "  # Finally adapt the vectorize layer.\n",
        "  train_text = training_set.map(lambda x, y: x)\n",
        "  vectorize_layer.adapt(train_text)\n",
        "  return vectorize_layer"
      ]
    },
    {
      "cell_type": "markdown",
      "metadata": {
        "id": "x8zDXrk9eEy5"
      },
      "source": [
        "## Define a dictionary with -> function_names:prepro_function_caller. And a dictionary to store model results.\n",
        "\n",
        "\n"
      ]
    },
    {
      "cell_type": "code",
      "execution_count": 14,
      "metadata": {
        "id": "P8owxNMIeFsX",
        "colab": {
          "base_uri": "https://localhost:8080/"
        },
        "outputId": "f336b0a0-5b95-4bed-9f85-823a98d94606"
      },
      "outputs": [
        {
          "output_type": "stream",
          "name": "stdout",
          "text": [
            "DON\n"
          ]
        }
      ],
      "source": [
        "model_results = {}\n",
        "prepro_functions_dict_base = {\n",
        "    'DON':DON,\n",
        "    }\n",
        "\n",
        "# 3 prepro functions = 15 combs...+1 for do_nothing\n",
        "\n",
        "prepro_functions_dict_comb = {\n",
        "    # 1. Do nothing \n",
        "    'DON': DON,\n",
        "}\n",
        "\n",
        "for key in prepro_functions_dict_comb:\n",
        "  print(key)\n",
        "  model_results[key]=[]"
      ]
    },
    {
      "cell_type": "markdown",
      "source": [
        "## Some training hyperparameters..."
      ],
      "metadata": {
        "id": "RF7pJkGJ3bHT"
      }
    },
    {
      "cell_type": "code",
      "source": [
        "# Word embedding dimensions.\n",
        "embedding_dim = 100\n",
        "\n",
        "num_runs = 5 \n",
        "# No need to go over the 20th epoch...Overfitting begins.\n",
        "num_epochs_per_run = 20\n",
        "\n",
        "#opt = tf.keras.optimizers.RMSprop()"
      ],
      "metadata": {
        "id": "ocHligxS3mVn"
      },
      "execution_count": 15,
      "outputs": []
    },
    {
      "cell_type": "markdown",
      "metadata": {
        "id": "XDEi7MAo4qsQ"
      },
      "source": [
        "## Models definition and evaluation.\n",
        "\n",
        "\n"
      ]
    },
    {
      "cell_type": "code",
      "execution_count": 16,
      "metadata": {
        "colab": {
          "base_uri": "https://localhost:8080/"
        },
        "id": "Mm1fdCpETWL-",
        "outputId": "48a13c92-e962-4389-c938-6c4888e583b9"
      },
      "outputs": [
        {
          "output_type": "stream",
          "name": "stdout",
          "text": [
            "\n",
            "\n",
            "* * * * EVALUATION USING DON AS PREPROCESSING FUNCTION * * * *\n",
            "Length of the longest sample is: 8553\n",
            "Vocabulary size is: 63785\n",
            "200/200 [==============================] - 33s 158ms/step - loss: 0.7047 - binary_accuracy: 0.4550 - val_loss: 0.6932 - val_binary_accuracy: 0.5000\n",
            "Run:  1 / Accuracy at epoch  0  is:  0.5 \n",
            "\n",
            "200/200 [==============================] - 10s 48ms/step - loss: 0.6964 - binary_accuracy: 0.4050 - val_loss: 0.6932 - val_binary_accuracy: 0.5000\n",
            "Run:  1 / Accuracy at epoch  1  is:  0.5 \n",
            "\n",
            "200/200 [==============================] - 10s 49ms/step - loss: 0.6954 - binary_accuracy: 0.4000 - val_loss: 0.6932 - val_binary_accuracy: 0.5000\n",
            "Run:  1 / Accuracy at epoch  2  is:  0.5 \n",
            "\n",
            "200/200 [==============================] - 9s 44ms/step - loss: 0.6949 - binary_accuracy: 0.4200 - val_loss: 0.6932 - val_binary_accuracy: 0.5000\n",
            "Run:  1 / Accuracy at epoch  3  is:  0.5 \n",
            "\n",
            "200/200 [==============================] - 9s 45ms/step - loss: 0.6947 - binary_accuracy: 0.4500 - val_loss: 0.6931 - val_binary_accuracy: 0.5000\n",
            "Run:  1 / Accuracy at epoch  4  is:  0.5 \n",
            "\n",
            "200/200 [==============================] - 10s 48ms/step - loss: 0.6946 - binary_accuracy: 0.4700 - val_loss: 0.6931 - val_binary_accuracy: 0.5000\n",
            "Run:  1 / Accuracy at epoch  5  is:  0.5 \n",
            "\n",
            "200/200 [==============================] - 9s 47ms/step - loss: 0.6939 - binary_accuracy: 0.4600 - val_loss: 0.6926 - val_binary_accuracy: 0.5000\n",
            "Run:  1 / Accuracy at epoch  6  is:  0.5 \n",
            "\n",
            "200/200 [==============================] - 10s 48ms/step - loss: 0.6896 - binary_accuracy: 0.5050 - val_loss: 0.6888 - val_binary_accuracy: 0.5400\n",
            "Run:  1 / Accuracy at epoch  7  is:  0.5400000214576721 \n",
            "\n",
            "200/200 [==============================] - 10s 50ms/step - loss: 0.6767 - binary_accuracy: 0.5650 - val_loss: 0.6813 - val_binary_accuracy: 0.5400\n",
            "Run:  1 / Accuracy at epoch  8  is:  0.5400000214576721 \n",
            "\n",
            "200/200 [==============================] - 9s 44ms/step - loss: 0.6483 - binary_accuracy: 0.6250 - val_loss: 0.6724 - val_binary_accuracy: 0.5300\n",
            "Run:  1 / Accuracy at epoch  9  is:  0.5299999713897705 \n",
            "\n",
            "200/200 [==============================] - 9s 45ms/step - loss: 0.6075 - binary_accuracy: 0.7150 - val_loss: 0.6640 - val_binary_accuracy: 0.5700\n",
            "Run:  1 / Accuracy at epoch  10  is:  0.5699999928474426 \n",
            "\n",
            "200/200 [==============================] - 10s 48ms/step - loss: 0.5459 - binary_accuracy: 0.7550 - val_loss: 0.6689 - val_binary_accuracy: 0.5900\n",
            "Run:  1 / Accuracy at epoch  11  is:  0.5899999737739563 \n",
            "\n",
            "200/200 [==============================] - 10s 48ms/step - loss: 0.4508 - binary_accuracy: 0.8250 - val_loss: 0.9190 - val_binary_accuracy: 0.5200\n",
            "Run:  1 / Accuracy at epoch  12  is:  0.5199999809265137 \n",
            "\n",
            "200/200 [==============================] - 10s 49ms/step - loss: 0.3416 - binary_accuracy: 0.8550 - val_loss: 1.6354 - val_binary_accuracy: 0.5100\n",
            "Run:  1 / Accuracy at epoch  13  is:  0.5099999904632568 \n",
            "\n",
            "200/200 [==============================] - 9s 46ms/step - loss: 0.2212 - binary_accuracy: 0.9050 - val_loss: 2.2248 - val_binary_accuracy: 0.5100\n",
            "Run:  1 / Accuracy at epoch  14  is:  0.5099999904632568 \n",
            "\n",
            "200/200 [==============================] - 9s 46ms/step - loss: 0.1559 - binary_accuracy: 0.9400 - val_loss: 3.3151 - val_binary_accuracy: 0.5000\n",
            "Run:  1 / Accuracy at epoch  15  is:  0.5 \n",
            "\n",
            "200/200 [==============================] - 10s 48ms/step - loss: 0.0958 - binary_accuracy: 0.9600 - val_loss: 3.7133 - val_binary_accuracy: 0.5000\n",
            "Run:  1 / Accuracy at epoch  16  is:  0.5 \n",
            "\n",
            "200/200 [==============================] - 10s 48ms/step - loss: 0.0334 - binary_accuracy: 0.9900 - val_loss: 4.6079 - val_binary_accuracy: 0.5000\n",
            "Run:  1 / Accuracy at epoch  17  is:  0.5 \n",
            "\n",
            "200/200 [==============================] - 10s 48ms/step - loss: 0.0142 - binary_accuracy: 1.0000 - val_loss: 5.8930 - val_binary_accuracy: 0.5000\n",
            "Run:  1 / Accuracy at epoch  18  is:  0.5 \n",
            "\n",
            "200/200 [==============================] - 9s 46ms/step - loss: 0.0089 - binary_accuracy: 0.9950 - val_loss: 6.0347 - val_binary_accuracy: 0.5000\n",
            "Run:  1 / Accuracy at epoch  19  is:  0.5 \n",
            "\n",
            "Accuracies over epochs: [0.5, 0.5, 0.5, 0.5, 0.5, 0.5, 0.5, 0.5400000214576721, 0.5400000214576721, 0.5299999713897705, 0.5699999928474426, 0.5899999737739563, 0.5199999809265137, 0.5099999904632568, 0.5099999904632568, 0.5, 0.5, 0.5, 0.5, 0.5] \n",
            "\n",
            "\n",
            "200/200 [==============================] - 33s 156ms/step - loss: 0.7059 - binary_accuracy: 0.4450 - val_loss: 0.6932 - val_binary_accuracy: 0.5000\n",
            "Run:  2 / Accuracy at epoch  0  is:  0.5 \n",
            "\n",
            "200/200 [==============================] - 10s 48ms/step - loss: 0.6965 - binary_accuracy: 0.4250 - val_loss: 0.6932 - val_binary_accuracy: 0.5000\n",
            "Run:  2 / Accuracy at epoch  1  is:  0.5 \n",
            "\n",
            "200/200 [==============================] - 10s 48ms/step - loss: 0.6953 - binary_accuracy: 0.3950 - val_loss: 0.6932 - val_binary_accuracy: 0.5000\n",
            "Run:  2 / Accuracy at epoch  2  is:  0.5 \n",
            "\n",
            "200/200 [==============================] - 10s 50ms/step - loss: 0.6950 - binary_accuracy: 0.4700 - val_loss: 0.6931 - val_binary_accuracy: 0.5000\n",
            "Run:  2 / Accuracy at epoch  3  is:  0.5 \n",
            "\n",
            "200/200 [==============================] - 9s 45ms/step - loss: 0.6946 - binary_accuracy: 0.4250 - val_loss: 0.6932 - val_binary_accuracy: 0.5000\n",
            "Run:  2 / Accuracy at epoch  4  is:  0.5 \n",
            "\n",
            "200/200 [==============================] - 10s 50ms/step - loss: 0.6945 - binary_accuracy: 0.4300 - val_loss: 0.6932 - val_binary_accuracy: 0.5000\n",
            "Run:  2 / Accuracy at epoch  5  is:  0.5 \n",
            "\n",
            "200/200 [==============================] - 10s 49ms/step - loss: 0.6947 - binary_accuracy: 0.4400 - val_loss: 0.6931 - val_binary_accuracy: 0.5000\n",
            "Run:  2 / Accuracy at epoch  6  is:  0.5 \n",
            "\n",
            "200/200 [==============================] - 10s 49ms/step - loss: 0.6941 - binary_accuracy: 0.4500 - val_loss: 0.6925 - val_binary_accuracy: 0.5000\n",
            "Run:  2 / Accuracy at epoch  7  is:  0.5 \n",
            "\n",
            "200/200 [==============================] - 10s 49ms/step - loss: 0.6904 - binary_accuracy: 0.5050 - val_loss: 0.6884 - val_binary_accuracy: 0.5500\n",
            "Run:  2 / Accuracy at epoch  8  is:  0.550000011920929 \n",
            "\n",
            "200/200 [==============================] - 9s 45ms/step - loss: 0.6765 - binary_accuracy: 0.5650 - val_loss: 0.6801 - val_binary_accuracy: 0.5600\n",
            "Run:  2 / Accuracy at epoch  9  is:  0.5600000023841858 \n",
            "\n",
            "200/200 [==============================] - 10s 49ms/step - loss: 0.6502 - binary_accuracy: 0.6250 - val_loss: 0.6712 - val_binary_accuracy: 0.5600\n",
            "Run:  2 / Accuracy at epoch  10  is:  0.5600000023841858 \n",
            "\n",
            "200/200 [==============================] - 10s 49ms/step - loss: 0.6063 - binary_accuracy: 0.6800 - val_loss: 0.6619 - val_binary_accuracy: 0.5700\n",
            "Run:  2 / Accuracy at epoch  11  is:  0.5699999928474426 \n",
            "\n",
            "200/200 [==============================] - 10s 49ms/step - loss: 0.5465 - binary_accuracy: 0.7700 - val_loss: 0.6576 - val_binary_accuracy: 0.5800\n",
            "Run:  2 / Accuracy at epoch  12  is:  0.5799999833106995 \n",
            "\n",
            "200/200 [==============================] - 10s 49ms/step - loss: 0.4386 - binary_accuracy: 0.8300 - val_loss: 0.9502 - val_binary_accuracy: 0.5300\n",
            "Run:  2 / Accuracy at epoch  13  is:  0.5299999713897705 \n",
            "\n",
            "200/200 [==============================] - 9s 46ms/step - loss: 0.3306 - binary_accuracy: 0.8550 - val_loss: 1.8118 - val_binary_accuracy: 0.5000\n",
            "Run:  2 / Accuracy at epoch  14  is:  0.5 \n",
            "\n",
            "200/200 [==============================] - 10s 49ms/step - loss: 0.2138 - binary_accuracy: 0.9100 - val_loss: 2.4606 - val_binary_accuracy: 0.5000\n",
            "Run:  2 / Accuracy at epoch  15  is:  0.5 \n",
            "\n",
            "200/200 [==============================] - 10s 49ms/step - loss: 0.1645 - binary_accuracy: 0.9300 - val_loss: 3.5360 - val_binary_accuracy: 0.5000\n",
            "Run:  2 / Accuracy at epoch  16  is:  0.5 \n",
            "\n",
            "200/200 [==============================] - 10s 48ms/step - loss: 0.0800 - binary_accuracy: 0.9700 - val_loss: 4.4045 - val_binary_accuracy: 0.5000\n",
            "Run:  2 / Accuracy at epoch  17  is:  0.5 \n",
            "\n",
            "200/200 [==============================] - 10s 49ms/step - loss: 0.0336 - binary_accuracy: 0.9900 - val_loss: 5.8149 - val_binary_accuracy: 0.5000\n",
            "Run:  2 / Accuracy at epoch  18  is:  0.5 \n",
            "\n",
            "200/200 [==============================] - 9s 45ms/step - loss: 0.0344 - binary_accuracy: 0.9850 - val_loss: 7.1802 - val_binary_accuracy: 0.5000\n",
            "Run:  2 / Accuracy at epoch  19  is:  0.5 \n",
            "\n",
            "Accuracies over epochs: [0.5, 0.5, 0.5, 0.5, 0.5, 0.5, 0.5, 0.5, 0.550000011920929, 0.5600000023841858, 0.5600000023841858, 0.5699999928474426, 0.5799999833106995, 0.5299999713897705, 0.5, 0.5, 0.5, 0.5, 0.5, 0.5] \n",
            "\n",
            "\n",
            "200/200 [==============================] - 33s 156ms/step - loss: 0.7048 - binary_accuracy: 0.4350 - val_loss: 0.6932 - val_binary_accuracy: 0.5000\n",
            "Run:  3 / Accuracy at epoch  0  is:  0.5 \n",
            "\n",
            "200/200 [==============================] - 10s 48ms/step - loss: 0.6961 - binary_accuracy: 0.4250 - val_loss: 0.6932 - val_binary_accuracy: 0.5000\n",
            "Run:  3 / Accuracy at epoch  1  is:  0.5 \n",
            "\n",
            "200/200 [==============================] - 9s 45ms/step - loss: 0.6951 - binary_accuracy: 0.4300 - val_loss: 0.6932 - val_binary_accuracy: 0.5000\n",
            "Run:  3 / Accuracy at epoch  2  is:  0.5 \n",
            "\n",
            "200/200 [==============================] - 9s 46ms/step - loss: 0.6948 - binary_accuracy: 0.4400 - val_loss: 0.6932 - val_binary_accuracy: 0.5000\n",
            "Run:  3 / Accuracy at epoch  3  is:  0.5 \n",
            "\n",
            "200/200 [==============================] - 10s 48ms/step - loss: 0.6945 - binary_accuracy: 0.4200 - val_loss: 0.6931 - val_binary_accuracy: 0.5000\n",
            "Run:  3 / Accuracy at epoch  4  is:  0.5 \n",
            "\n",
            "200/200 [==============================] - 9s 47ms/step - loss: 0.6942 - binary_accuracy: 0.4450 - val_loss: 0.6929 - val_binary_accuracy: 0.5600\n",
            "Run:  3 / Accuracy at epoch  5  is:  0.5600000023841858 \n",
            "\n",
            "200/200 [==============================] - 9s 47ms/step - loss: 0.6921 - binary_accuracy: 0.5050 - val_loss: 0.6903 - val_binary_accuracy: 0.5300\n",
            "Run:  3 / Accuracy at epoch  6  is:  0.5299999713897705 \n",
            "\n",
            "200/200 [==============================] - 9s 44ms/step - loss: 0.6793 - binary_accuracy: 0.5500 - val_loss: 0.6824 - val_binary_accuracy: 0.5400\n",
            "Run:  3 / Accuracy at epoch  7  is:  0.5400000214576721 \n",
            "\n",
            "200/200 [==============================] - 9s 47ms/step - loss: 0.6579 - binary_accuracy: 0.5800 - val_loss: 0.6745 - val_binary_accuracy: 0.5400\n",
            "Run:  3 / Accuracy at epoch  8  is:  0.5400000214576721 \n",
            "\n",
            "200/200 [==============================] - 10s 48ms/step - loss: 0.6262 - binary_accuracy: 0.6550 - val_loss: 0.6664 - val_binary_accuracy: 0.5800\n",
            "Run:  3 / Accuracy at epoch  9  is:  0.5799999833106995 \n",
            "\n",
            "200/200 [==============================] - 10s 48ms/step - loss: 0.5643 - binary_accuracy: 0.7500 - val_loss: 0.6598 - val_binary_accuracy: 0.5400\n",
            "Run:  3 / Accuracy at epoch  10  is:  0.5400000214576721 \n",
            "\n",
            "200/200 [==============================] - 10s 48ms/step - loss: 0.4756 - binary_accuracy: 0.8100 - val_loss: 0.7858 - val_binary_accuracy: 0.5200\n",
            "Run:  3 / Accuracy at epoch  11  is:  0.5199999809265137 \n",
            "\n",
            "200/200 [==============================] - 9s 44ms/step - loss: 0.3596 - binary_accuracy: 0.8500 - val_loss: 1.4705 - val_binary_accuracy: 0.5100\n",
            "Run:  3 / Accuracy at epoch  12  is:  0.5099999904632568 \n",
            "\n",
            "200/200 [==============================] - 9s 46ms/step - loss: 0.2503 - binary_accuracy: 0.8900 - val_loss: 2.2160 - val_binary_accuracy: 0.5000\n",
            "Run:  3 / Accuracy at epoch  13  is:  0.5 \n",
            "\n",
            "200/200 [==============================] - 10s 48ms/step - loss: 0.1593 - binary_accuracy: 0.9350 - val_loss: 2.8922 - val_binary_accuracy: 0.5000\n",
            "Run:  3 / Accuracy at epoch  14  is:  0.5 \n",
            "\n",
            "200/200 [==============================] - 10s 48ms/step - loss: 0.0995 - binary_accuracy: 0.9650 - val_loss: 4.3080 - val_binary_accuracy: 0.5000\n",
            "Run:  3 / Accuracy at epoch  15  is:  0.5 \n",
            "\n",
            "200/200 [==============================] - 9s 47ms/step - loss: 0.0704 - binary_accuracy: 0.9700 - val_loss: 4.4267 - val_binary_accuracy: 0.5000\n",
            "Run:  3 / Accuracy at epoch  16  is:  0.5 \n",
            "\n",
            "200/200 [==============================] - 9s 44ms/step - loss: 0.0302 - binary_accuracy: 0.9850 - val_loss: 4.2008 - val_binary_accuracy: 0.5000\n",
            "Run:  3 / Accuracy at epoch  17  is:  0.5 \n",
            "\n",
            "200/200 [==============================] - 9s 45ms/step - loss: 0.0184 - binary_accuracy: 0.9950 - val_loss: 7.2866 - val_binary_accuracy: 0.5000\n",
            "Run:  3 / Accuracy at epoch  18  is:  0.5 \n",
            "\n",
            "200/200 [==============================] - 10s 48ms/step - loss: 0.0036 - binary_accuracy: 1.0000 - val_loss: 8.2883 - val_binary_accuracy: 0.5000\n",
            "Run:  3 / Accuracy at epoch  19  is:  0.5 \n",
            "\n",
            "Accuracies over epochs: [0.5, 0.5, 0.5, 0.5, 0.5, 0.5600000023841858, 0.5299999713897705, 0.5400000214576721, 0.5400000214576721, 0.5799999833106995, 0.5400000214576721, 0.5199999809265137, 0.5099999904632568, 0.5, 0.5, 0.5, 0.5, 0.5, 0.5, 0.5] \n",
            "\n",
            "\n",
            "200/200 [==============================] - 33s 161ms/step - loss: 0.7061 - binary_accuracy: 0.4350 - val_loss: 0.6932 - val_binary_accuracy: 0.5000\n",
            "Run:  4 / Accuracy at epoch  0  is:  0.5 \n",
            "\n",
            "200/200 [==============================] - 9s 45ms/step - loss: 0.6964 - binary_accuracy: 0.4200 - val_loss: 0.6932 - val_binary_accuracy: 0.5000\n",
            "Run:  4 / Accuracy at epoch  1  is:  0.5 \n",
            "\n",
            "200/200 [==============================] - 10s 48ms/step - loss: 0.6960 - binary_accuracy: 0.3750 - val_loss: 0.6932 - val_binary_accuracy: 0.5000\n",
            "Run:  4 / Accuracy at epoch  2  is:  0.5 \n",
            "\n",
            "200/200 [==============================] - 10s 48ms/step - loss: 0.6954 - binary_accuracy: 0.4000 - val_loss: 0.6932 - val_binary_accuracy: 0.5000\n",
            "Run:  4 / Accuracy at epoch  3  is:  0.5 \n",
            "\n",
            "200/200 [==============================] - 10s 48ms/step - loss: 0.6948 - binary_accuracy: 0.4250 - val_loss: 0.6931 - val_binary_accuracy: 0.5000\n",
            "Run:  4 / Accuracy at epoch  4  is:  0.5 \n",
            "\n",
            "200/200 [==============================] - 10s 49ms/step - loss: 0.6944 - binary_accuracy: 0.4650 - val_loss: 0.6929 - val_binary_accuracy: 0.5000\n",
            "Run:  4 / Accuracy at epoch  5  is:  0.5 \n",
            "\n",
            "200/200 [==============================] - 9s 44ms/step - loss: 0.6928 - binary_accuracy: 0.5050 - val_loss: 0.6908 - val_binary_accuracy: 0.5300\n",
            "Run:  4 / Accuracy at epoch  6  is:  0.5299999713897705 \n",
            "\n",
            "200/200 [==============================] - 10s 48ms/step - loss: 0.6822 - binary_accuracy: 0.5400 - val_loss: 0.6838 - val_binary_accuracy: 0.5500\n",
            "Run:  4 / Accuracy at epoch  7  is:  0.550000011920929 \n",
            "\n",
            "200/200 [==============================] - 10s 48ms/step - loss: 0.6617 - binary_accuracy: 0.5950 - val_loss: 0.6758 - val_binary_accuracy: 0.5300\n",
            "Run:  4 / Accuracy at epoch  8  is:  0.5299999713897705 \n",
            "\n",
            "200/200 [==============================] - 10s 49ms/step - loss: 0.6242 - binary_accuracy: 0.6850 - val_loss: 0.6673 - val_binary_accuracy: 0.5500\n",
            "Run:  4 / Accuracy at epoch  9  is:  0.550000011920929 \n",
            "\n",
            "200/200 [==============================] - 9s 45ms/step - loss: 0.5623 - binary_accuracy: 0.7500 - val_loss: 0.6650 - val_binary_accuracy: 0.5800\n",
            "Run:  4 / Accuracy at epoch  10  is:  0.5799999833106995 \n",
            "\n",
            "200/200 [==============================] - 10s 48ms/step - loss: 0.4672 - binary_accuracy: 0.8150 - val_loss: 0.9588 - val_binary_accuracy: 0.5300\n",
            "Run:  4 / Accuracy at epoch  11  is:  0.5299999713897705 \n",
            "\n",
            "200/200 [==============================] - 10s 49ms/step - loss: 0.3453 - binary_accuracy: 0.8400 - val_loss: 1.6298 - val_binary_accuracy: 0.5100\n",
            "Run:  4 / Accuracy at epoch  12  is:  0.5099999904632568 \n",
            "\n",
            "200/200 [==============================] - 10s 49ms/step - loss: 0.2486 - binary_accuracy: 0.9000 - val_loss: 2.4829 - val_binary_accuracy: 0.5000\n",
            "Run:  4 / Accuracy at epoch  13  is:  0.5 \n",
            "\n",
            "200/200 [==============================] - 10s 48ms/step - loss: 0.1616 - binary_accuracy: 0.9250 - val_loss: 3.0173 - val_binary_accuracy: 0.5000\n",
            "Run:  4 / Accuracy at epoch  14  is:  0.5 \n",
            "\n",
            "200/200 [==============================] - 10s 49ms/step - loss: 0.1098 - binary_accuracy: 0.9600 - val_loss: 3.7538 - val_binary_accuracy: 0.5000\n",
            "Run:  4 / Accuracy at epoch  15  is:  0.5 \n",
            "\n",
            "200/200 [==============================] - 9s 45ms/step - loss: 0.0401 - binary_accuracy: 0.9800 - val_loss: 4.7266 - val_binary_accuracy: 0.5000\n",
            "Run:  4 / Accuracy at epoch  16  is:  0.5 \n",
            "\n",
            "200/200 [==============================] - 10s 48ms/step - loss: 0.0223 - binary_accuracy: 0.9900 - val_loss: 6.3470 - val_binary_accuracy: 0.5000\n",
            "Run:  4 / Accuracy at epoch  17  is:  0.5 \n",
            "\n",
            "200/200 [==============================] - 10s 48ms/step - loss: 0.0053 - binary_accuracy: 1.0000 - val_loss: 7.5482 - val_binary_accuracy: 0.5000\n",
            "Run:  4 / Accuracy at epoch  18  is:  0.5 \n",
            "\n",
            "200/200 [==============================] - 10s 48ms/step - loss: 0.0131 - binary_accuracy: 0.9950 - val_loss: 9.8766 - val_binary_accuracy: 0.5000\n",
            "Run:  4 / Accuracy at epoch  19  is:  0.5 \n",
            "\n",
            "Accuracies over epochs: [0.5, 0.5, 0.5, 0.5, 0.5, 0.5, 0.5299999713897705, 0.550000011920929, 0.5299999713897705, 0.550000011920929, 0.5799999833106995, 0.5299999713897705, 0.5099999904632568, 0.5, 0.5, 0.5, 0.5, 0.5, 0.5, 0.5] \n",
            "\n",
            "\n",
            "200/200 [==============================] - 32s 156ms/step - loss: 0.7055 - binary_accuracy: 0.4400 - val_loss: 0.6932 - val_binary_accuracy: 0.5000\n",
            "Run:  5 / Accuracy at epoch  0  is:  0.5 \n",
            "\n",
            "200/200 [==============================] - 10s 48ms/step - loss: 0.6963 - binary_accuracy: 0.4200 - val_loss: 0.6932 - val_binary_accuracy: 0.5000\n",
            "Run:  5 / Accuracy at epoch  1  is:  0.5 \n",
            "\n",
            "200/200 [==============================] - 10s 48ms/step - loss: 0.6953 - binary_accuracy: 0.3850 - val_loss: 0.6932 - val_binary_accuracy: 0.5000\n",
            "Run:  5 / Accuracy at epoch  2  is:  0.5 \n",
            "\n",
            "200/200 [==============================] - 10s 48ms/step - loss: 0.6949 - binary_accuracy: 0.4350 - val_loss: 0.6932 - val_binary_accuracy: 0.5000\n",
            "Run:  5 / Accuracy at epoch  3  is:  0.5 \n",
            "\n",
            "200/200 [==============================] - 10s 49ms/step - loss: 0.6945 - binary_accuracy: 0.4700 - val_loss: 0.6932 - val_binary_accuracy: 0.5000\n",
            "Run:  5 / Accuracy at epoch  4  is:  0.5 \n",
            "\n",
            "200/200 [==============================] - 9s 44ms/step - loss: 0.6948 - binary_accuracy: 0.4200 - val_loss: 0.6931 - val_binary_accuracy: 0.5000\n",
            "Run:  5 / Accuracy at epoch  5  is:  0.5 \n",
            "\n",
            "200/200 [==============================] - 9s 47ms/step - loss: 0.6942 - binary_accuracy: 0.4300 - val_loss: 0.6931 - val_binary_accuracy: 0.5000\n",
            "Run:  5 / Accuracy at epoch  6  is:  0.5 \n",
            "\n",
            "200/200 [==============================] - 10s 48ms/step - loss: 0.6939 - binary_accuracy: 0.4450 - val_loss: 0.6932 - val_binary_accuracy: 0.5000\n",
            "Run:  5 / Accuracy at epoch  7  is:  0.5 \n",
            "\n",
            "200/200 [==============================] - 10s 48ms/step - loss: 0.6941 - binary_accuracy: 0.4500 - val_loss: 0.6932 - val_binary_accuracy: 0.5000\n",
            "Run:  5 / Accuracy at epoch  8  is:  0.5 \n",
            "\n",
            "200/200 [==============================] - 10s 48ms/step - loss: 0.6941 - binary_accuracy: 0.4600 - val_loss: 0.6931 - val_binary_accuracy: 0.5000\n",
            "Run:  5 / Accuracy at epoch  9  is:  0.5 \n",
            "\n",
            "200/200 [==============================] - 9s 45ms/step - loss: 0.6938 - binary_accuracy: 0.4700 - val_loss: 0.6931 - val_binary_accuracy: 0.5000\n",
            "Run:  5 / Accuracy at epoch  10  is:  0.5 \n",
            "\n",
            "200/200 [==============================] - 10s 48ms/step - loss: 0.6942 - binary_accuracy: 0.4750 - val_loss: 0.6930 - val_binary_accuracy: 0.5000\n",
            "Run:  5 / Accuracy at epoch  11  is:  0.5 \n",
            "\n",
            "200/200 [==============================] - 10s 49ms/step - loss: 0.6936 - binary_accuracy: 0.4800 - val_loss: 0.6919 - val_binary_accuracy: 0.5000\n",
            "Run:  5 / Accuracy at epoch  12  is:  0.5 \n",
            "\n",
            "200/200 [==============================] - 10s 48ms/step - loss: 0.6873 - binary_accuracy: 0.5200 - val_loss: 0.6869 - val_binary_accuracy: 0.5600\n",
            "Run:  5 / Accuracy at epoch  13  is:  0.5600000023841858 \n",
            "\n",
            "200/200 [==============================] - 10s 49ms/step - loss: 0.6711 - binary_accuracy: 0.5750 - val_loss: 0.6792 - val_binary_accuracy: 0.5800\n",
            "Run:  5 / Accuracy at epoch  14  is:  0.5799999833106995 \n",
            "\n",
            "200/200 [==============================] - 10s 48ms/step - loss: 0.6471 - binary_accuracy: 0.6350 - val_loss: 0.6712 - val_binary_accuracy: 0.5500\n",
            "Run:  5 / Accuracy at epoch  15  is:  0.550000011920929 \n",
            "\n",
            "200/200 [==============================] - 10s 48ms/step - loss: 0.6054 - binary_accuracy: 0.7050 - val_loss: 0.6622 - val_binary_accuracy: 0.5900\n",
            "Run:  5 / Accuracy at epoch  16  is:  0.5899999737739563 \n",
            "\n",
            "200/200 [==============================] - 10s 48ms/step - loss: 0.5417 - binary_accuracy: 0.7700 - val_loss: 0.6607 - val_binary_accuracy: 0.5600\n",
            "Run:  5 / Accuracy at epoch  17  is:  0.5600000023841858 \n",
            "\n",
            "200/200 [==============================] - 10s 49ms/step - loss: 0.4261 - binary_accuracy: 0.8250 - val_loss: 0.9993 - val_binary_accuracy: 0.5200\n",
            "Run:  5 / Accuracy at epoch  18  is:  0.5199999809265137 \n",
            "\n",
            "200/200 [==============================] - 10s 49ms/step - loss: 0.3330 - binary_accuracy: 0.8400 - val_loss: 1.6963 - val_binary_accuracy: 0.5100\n",
            "Run:  5 / Accuracy at epoch  19  is:  0.5099999904632568 \n",
            "\n",
            "Accuracies over epochs: [0.5, 0.5, 0.5, 0.5, 0.5, 0.5, 0.5, 0.5, 0.5, 0.5, 0.5, 0.5, 0.5, 0.5600000023841858, 0.5799999833106995, 0.550000011920929, 0.5899999737739563, 0.5600000023841858, 0.5199999809265137, 0.5099999904632568] \n",
            "\n",
            "\n",
            "\n",
            "\n",
            " Over all runs maximum accuracies on English are: [0.5799999833106995, 0.5799999833106995, 0.5799999833106995, 0.5899999737739563, 0.5899999737739563]\n",
            "The median for English is: 0.5799999833106995 \n",
            "\n",
            "\n",
            "\n",
            "CNN Accuracy Score on Test set ->  ['0.5799999833106995 +/- 0.009999990463256836']\n"
          ]
        }
      ],
      "source": [
        "tf.random.set_seed(1)\n",
        "\n",
        "# Reset model_results list.\n",
        "for key in prepro_functions_dict_comb:\n",
        "  model_results[key]=[]\n",
        "\n",
        "for key in prepro_functions_dict_comb:\n",
        "  runs_accuracy = []\n",
        "\n",
        "  print(\"\\n\\n* * * * EVALUATION USING\", key, \"AS PREPROCESSING FUNCTION * * * *\")\n",
        "\n",
        "  # Preprocess training set to build a dictionary.\n",
        "  vectorize_layer = preprocess_and_adapt_ts(prepro_functions_dict_comb[key],train_ds)\n",
        "\n",
        "  max_features=len(vectorize_layer.get_vocabulary()) + 1\n",
        "  print(\"Vocabulary size is:\", max_features)\n",
        "\n",
        "  for run in range(1,(num_runs+1)):\n",
        "    epochs_accuracy=[]\n",
        "    model = tf.keras.Sequential([\n",
        "                                    tf.keras.Input(shape=(1,), dtype=tf.string),\n",
        "                                    vectorize_layer,\n",
        "                                    layers.Embedding(max_features + 1, embedding_dim),                     \n",
        "                                    layers.Dropout(0.8),\n",
        "\n",
        "                                    layers.Conv1D(256,16,activation='relu'),\n",
        "                                    layers.MaxPooling1D(),\n",
        "                                    layers.Dropout(0.6),\n",
        "\n",
        "                                    layers.Dense(512,activation='relu'),\n",
        "                           \n",
        "                                    layers.GlobalAveragePooling1D(),\n",
        "                                    layers.Dropout(0.2),\n",
        "                                    layers.Dense(1)                            \n",
        "    ])\n",
        "    model.compile(loss=losses.BinaryCrossentropy(from_logits=True), optimizer='RMSprop', metrics=tf.metrics.BinaryAccuracy(threshold=0.0)) \n",
        "\n",
        "    for epoch in range (0,num_epochs_per_run):\n",
        "        history = model.fit(\n",
        "          train_ds,\n",
        "          validation_data = test_ds,\n",
        "          epochs=1,\n",
        "          shuffle=False,\n",
        "          # Comment the following line to do not save and download the model.\n",
        "          #callbacks=[callbacks]\n",
        "          )\n",
        "        accuracy = history.history['val_binary_accuracy']\n",
        "        print(\"Run: \",run,\"/ Accuracy at epoch \",epoch,\" is: \", accuracy[0],\"\\n\")\n",
        "        epochs_accuracy.append(accuracy[0])\n",
        "\n",
        "    print(\"Accuracies over epochs:\",epochs_accuracy,\"\\n\\n\")\n",
        "    runs_accuracy.append(max(epochs_accuracy))\n",
        "\n",
        "  runs_accuracy.sort()\n",
        "  print(\"\\n\\n Over all runs maximum accuracies on English are:\", runs_accuracy)\n",
        "  print(\"The median for English is:\",runs_accuracy[2],\"\\n\\n\\n\")\n",
        "  \n",
        "  if (runs_accuracy[2]-runs_accuracy[0])>(runs_accuracy[4]-runs_accuracy[2]):\n",
        "    max_range_from_median = runs_accuracy[2]-runs_accuracy[0]\n",
        "  else:\n",
        "    max_range_from_median = runs_accuracy[4]-runs_accuracy[2]\n",
        "  final_result = str(runs_accuracy[2])+\" +/- \"+ str(max_range_from_median)\n",
        "  model_results[key].append(final_result)\n",
        "  print(\"CNN Accuracy Score on Test set -> \",model_results[key])"
      ]
    },
    {
      "cell_type": "markdown",
      "metadata": {
        "id": "6uMKAeuegNk1"
      },
      "source": [
        "## Now show compact results in a table."
      ]
    },
    {
      "cell_type": "code",
      "execution_count": 17,
      "metadata": {
        "id": "AJ79RMougNRA",
        "colab": {
          "base_uri": "https://localhost:8080/"
        },
        "outputId": "3167a723-c67d-4b63-ab64-fb10ca585410"
      },
      "outputs": [
        {
          "output_type": "stream",
          "name": "stdout",
          "text": [
            " PREPRO FUNCTION    |  Test Accuracy   |\n",
            "\n",
            "DON                        0.5799999833106995 +/- 0.009999990463256836\n",
            "\n",
            "\n"
          ]
        }
      ],
      "source": [
        "print(\" PREPRO FUNCTION    |  Test Accuracy   |\",end = '')\n",
        "\n",
        "print(\"\\n\")\n",
        "for prepro_func in prepro_functions_dict_comb:\n",
        "  #print(prepro_func,\"\\t\\t\\t\",format(round(model_results[prepro_func][0],4),'.4f'),\"\\t\\t\",end='')\n",
        "  result = model_results[prepro_func][0]\n",
        "  # result = format(round(model_results[prepro_func][0],4),'.4f')\n",
        "  print(f'{prepro_func:27}{ result :12}')\n",
        "  print(\"\\n\")"
      ]
    },
    {
      "cell_type": "code",
      "source": [],
      "metadata": {
        "id": "f860VXhZqg7n"
      },
      "execution_count": null,
      "outputs": []
    }
  ],
  "metadata": {
    "accelerator": "GPU",
    "colab": {
      "collapsed_sections": [
        "RgfUp_5TWED7",
        "x8zDXrk9eEy5"
      ],
      "provenance": [],
      "include_colab_link": true
    },
    "kernelspec": {
      "display_name": "Python 3",
      "name": "python3"
    },
    "gpuClass": "standard"
  },
  "nbformat": 4,
  "nbformat_minor": 0
}