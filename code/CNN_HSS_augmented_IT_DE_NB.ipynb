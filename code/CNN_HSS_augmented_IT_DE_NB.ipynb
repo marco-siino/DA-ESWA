{
  "cells": [
    {
      "cell_type": "markdown",
      "metadata": {
        "id": "view-in-github",
        "colab_type": "text"
      },
      "source": [
        "<a href=\"https://colab.research.google.com/github/marco-siino/DA-ESWA/blob/main/code/CNN_HSS_augmented_IT_DE_NB.ipynb\" target=\"_parent\"><img src=\"https://colab.research.google.com/assets/colab-badge.svg\" alt=\"Open In Colab\"/></a>"
      ]
    },
    {
      "cell_type": "markdown",
      "metadata": {
        "id": "u-hLo5ufkCT1"
      },
      "source": [
        "## Text preprocessing worth the time: A comparative survey on the impact of common techniques on NLP model performances. \n",
        "- - - \n",
        "CNN ON FNS DS EXPERIMENTS NOTEBOOK \n",
        "- - -\n",
        "Convolutional Neural Network on Fake News Spreaders Dataset.\n",
        "Code by M. Siino. \n",
        "\n",
        "From the paper: \"Text preprocessing worth the time: A comparative survey on the impact of common techniques on NLP model performances.\" by M.Siino et al.\n",
        "\n"
      ]
    },
    {
      "cell_type": "markdown",
      "metadata": {
        "id": "6IBqUcj4cx2G"
      },
      "source": [
        "## Importing modules."
      ]
    },
    {
      "cell_type": "code",
      "execution_count": 1,
      "metadata": {
        "id": "AQSunQ-ucjLX"
      },
      "outputs": [],
      "source": [
        "import matplotlib.pyplot as plt\n",
        "import os\n",
        "import random\n",
        "import re\n",
        "import shutil\n",
        "import string\n",
        "import tensorflow as tf\n",
        "\n",
        "import numpy as np\n",
        "\n",
        "from tensorflow.keras import layers\n",
        "from tensorflow.keras import losses\n",
        "from tensorflow.keras import preprocessing\n",
        "from keras.models import Model\n",
        "from tensorflow.keras.layers.experimental.preprocessing import TextVectorization\n",
        "\n",
        "os.environ['TF_CUDNN_DETERMINISTIC']='true'\n",
        "os.environ['TF_DETERMINISTIC_OPS']='true'"
      ]
    },
    {
      "cell_type": "markdown",
      "metadata": {
        "id": "0QHd_fxmHCfa"
      },
      "source": [
        "## Importing DS and extract in current working directory."
      ]
    },
    {
      "cell_type": "code",
      "source": [
        "urlTrainingSet = \"https://github.com/marco-siino/DA-ESWA/raw/main/data/hss/hss-training-augmented-de-it.zip\"\n",
        "training_set = tf.keras.utils.get_file(\"pan21-author-profiling-training-2021-03-14-augmented.zip\", urlTrainingSet,\n",
        "                                    extract=True, archive_format='zip',cache_dir='.',\n",
        "                                    cache_subdir='')"
      ],
      "metadata": {
        "colab": {
          "base_uri": "https://localhost:8080/"
        },
        "id": "2RBLe4vQPni1",
        "outputId": "99a28d38-a14e-4a42-82fd-2bd2b157c778"
      },
      "execution_count": 2,
      "outputs": [
        {
          "output_type": "stream",
          "name": "stdout",
          "text": [
            "Downloading data from https://github.com/marco-siino/DA-ESWA/raw/main/data/hss/hss-training-augmented-de-it.zip\n",
            "2413924/2413924 [==============================] - 0s 0us/step\n"
          ]
        }
      ]
    },
    {
      "cell_type": "code",
      "execution_count": 3,
      "metadata": {
        "id": "ocYMUXaY8r0_",
        "colab": {
          "base_uri": "https://localhost:8080/"
        },
        "outputId": "98e2415a-0d93-4481-b17b-1d90cf7747dc"
      },
      "outputs": [
        {
          "output_type": "stream",
          "name": "stdout",
          "text": [
            "Downloading data from https://github.com/marco-siino/DA-ESWA/raw/main/data/hss/hss-test-cleaned.zip\n",
            "653010/653010 [==============================] - 0s 0us/step\n",
            "./pan21-author-profiling-training-2021-03-14-augmented.zip\n",
            "./pan21-author-profiling-training-2021-03-14-augmented\n",
            ".config\n",
            "pan21-author-profiling-test-without-gold-augmented\n",
            "pan21-author-profiling-test-without-gold-augmented.zip\n",
            "pan21-author-profiling-training-2021-03-14-augmented\n",
            "pan21-author-profiling-training-2021-03-14-augmented.zip\n",
            "sample_data\n"
          ]
        }
      ],
      "source": [
        "# Url obtained starting from this: https://drive.google.com/file/d/19ZcqEv88euKB71HfAWjTGN3uCKp2qsfP/ and forcing export=download.\n",
        "#urlTrainingSet = \"https://github.com/marco-siino/DA-ESWA/raw/main/data/hss/hss-training-augmented-de-it.zip\"\n",
        "\n",
        "urlTestSet=\"https://github.com/marco-siino/DA-ESWA/raw/main/data/hss/hss-test-cleaned.zip\"\n",
        "\n",
        "#training_set = tf.keras.utils.get_file(\"pan21-author-profiling-training-2021-03-14-augmented.zip\", urlTrainingSet,\n",
        "#                                    extract=True, archive_format='zip',cache_dir='.',\n",
        "#                                    cache_subdir='')\n",
        "\n",
        "test_set = tf.keras.utils.get_file(\"pan21-author-profiling-test-without-gold-augmented.zip\", urlTestSet,\n",
        "                                    extract=True, archive_format='zip',cache_dir='.',\n",
        "                                    cache_subdir='')\n",
        "\n",
        "training_set_dir = os.path.join(os.path.dirname(training_set), 'pan21-author-profiling-training-2021-03-14-augmented')\n",
        "test_set_dir = os.path.join(os.path.dirname(test_set), 'pan21-author-profiling-test-without-gold-augmented')\n",
        "\n",
        "print(training_set)\n",
        "print(training_set_dir)\n",
        "\n",
        "!ls -A\n",
        "\n"
      ]
    },
    {
      "cell_type": "markdown",
      "metadata": {
        "id": "uTJi1fbT_Rup"
      },
      "source": [
        "## Build folders hierarchy to use Keras folders preprocessing function.\n",
        "\n"
      ]
    },
    {
      "cell_type": "code",
      "execution_count": 4,
      "metadata": {
        "id": "FyafvXEMhEKw",
        "colab": {
          "base_uri": "https://localhost:8080/"
        },
        "outputId": "9761d559-b0b5-4a62-9535-1c01109b3879"
      },
      "outputs": [
        {
          "output_type": "stream",
          "name": "stdout",
          "text": [
            ".config\n",
            "pan21-author-profiling-test-without-gold-augmented\n",
            "pan21-author-profiling-test-without-gold-augmented.zip\n",
            "pan21-author-profiling-training-2021-03-14-augmented\n",
            "pan21-author-profiling-training-2021-03-14-augmented.zip\n",
            "sample_data\n",
            "test_dir_en\n",
            "train_dir_en\n"
          ]
        }
      ],
      "source": [
        "### Training Folders. ###\n",
        "\n",
        "# First level directory.\n",
        "if not os.path.exists('train_dir_en'):\n",
        "    os.makedirs('train_dir_en')\n",
        "\n",
        "# Class labels directory.\n",
        "if not os.path.exists('train_dir_en/0'):\n",
        "    os.makedirs('train_dir_en/0')\n",
        "if not os.path.exists('train_dir_en/1'):\n",
        "    os.makedirs('train_dir_en/1')\n",
        "\n",
        "# Make Py variables.\n",
        "train_dir='train_dir_'\n",
        "\n",
        "## Test Folders. ##\n",
        "# First level directory.\n",
        "if not os.path.exists('test_dir_en'):\n",
        "    os.makedirs('test_dir_en')\n",
        "\n",
        "# Class labels directory.\n",
        "if not os.path.exists('test_dir_en/0'):\n",
        "    os.makedirs('test_dir_en/0')\n",
        "if not os.path.exists('test_dir_en/1'):\n",
        "    os.makedirs('test_dir_en/1')\n",
        "\n",
        "# Make Py variables.\n",
        "test_dir='test_dir_'\n",
        "\n",
        "!ls -A"
      ]
    },
    {
      "cell_type": "markdown",
      "source": [
        "## Set language and directory paths."
      ],
      "metadata": {
        "id": "-6c28Rdo8zGn"
      }
    },
    {
      "cell_type": "code",
      "source": [
        "# Set en and es ground truth file path for train_dir. We haven't a ground truth file for the test set.\n",
        "language='en'\n",
        "\n",
        "truth_file_training_dir_en=training_set_dir+'/'+language+'/'\n",
        "truth_file_training_path_en = truth_file_training_dir_en+'truth.txt'\n",
        "\n",
        "truth_file_test_dir=test_set_dir\n",
        "truth_file_test_path_en = truth_file_test_dir+'/'+'truth'+'.txt'"
      ],
      "metadata": {
        "id": "ANr_dCj-8yvD"
      },
      "execution_count": 5,
      "outputs": []
    },
    {
      "cell_type": "markdown",
      "source": [
        "## Read truth.txt to organize training and test dataset folders."
      ],
      "metadata": {
        "id": "VU6PtNMZ864o"
      }
    },
    {
      "cell_type": "code",
      "source": [
        "# Open the file truth.txt with read only permit.\n",
        "f = open(truth_file_training_path_en, \"r\")\n",
        "# use readline() to read the first line \n",
        "line = f.readline()\n",
        "# use the read line to read further.\n",
        "# If the file is not empty keep reading one line\n",
        "# at a time, till the file is empty\n",
        "while line:\n",
        "    # Split line at :::\n",
        "    x = line.split(\":::\")\n",
        "    fNameXml = x[0]+'.xml'\n",
        "    fNameTxt = x[0]+'.txt'\n",
        "    # Second coord [0] gets just the first character (label) and not /n too.\n",
        "    label = x[1][0]\n",
        "\n",
        "    # Now move the file to the right folder.\n",
        "    if os.path.exists(truth_file_training_dir_en+fNameXml):\n",
        "      os.rename(truth_file_training_dir_en+fNameXml, './train_dir_'+language+'/'+label+'/'+fNameTxt )\n",
        "\n",
        "    # use readline() to read next line\n",
        "    line = f.readline()\n",
        "\n",
        "# Open the file truth.txt with read only permit.\n",
        "f = open(truth_file_test_path_en, \"r\")\n",
        "# use readline() to read the first line \n",
        "line = f.readline()\n",
        "# use the read line to read further.\n",
        "# If the file is not empty keep reading one line\n",
        "# at a time, till the file is empty\n",
        "while line:\n",
        "    # Split line at :::\n",
        "    x = line.split(\":::\")\n",
        "    fNameXml = x[0]+'.xml'\n",
        "    fNameTxt = x[0]+'.txt'\n",
        "    # Second coord [0] gets just the first character (label) and not /n too.\n",
        "    label = x[1][0]\n",
        "\n",
        "    # Now move the file to the right folder.\n",
        "    if os.path.exists(truth_file_test_dir+'/'+language+'/'+fNameXml):\n",
        "      os.rename(truth_file_test_dir+'/'+language+'/'+fNameXml, './test_dir_'+language+'/'+label+'/'+fNameTxt )\n",
        "\n",
        "    # use readline() to read next line\n",
        "    line = f.readline()"
      ],
      "metadata": {
        "id": "iW2UF_SH87TX"
      },
      "execution_count": 6,
      "outputs": []
    },
    {
      "cell_type": "markdown",
      "source": [
        "## Generate full training set."
      ],
      "metadata": {
        "id": "4vskGJeX9GqJ"
      }
    },
    {
      "cell_type": "code",
      "source": [
        "# Generate full randomized training set.\n",
        "batch_size=1\n",
        "\n",
        "en_train_ds = tf.keras.preprocessing.text_dataset_from_directory(\n",
        "    train_dir+language, \n",
        "    batch_size=batch_size,\n",
        "    shuffle=False\n",
        "    )\n",
        "\n",
        "en_test_ds = tf.keras.preprocessing.text_dataset_from_directory(\n",
        "    test_dir+language, \n",
        "    batch_size=batch_size,\n",
        "    shuffle=False\n",
        "    )\n",
        "\n",
        "train_ds=en_train_ds.shuffle(300,seed=1, reshuffle_each_iteration=False)\n",
        "test_ds=en_test_ds.shuffle(200,seed=1, reshuffle_each_iteration=False)\n",
        "\n",
        "train_ds_size=len(train_ds)\n",
        "test_ds_size=len(test_ds)"
      ],
      "metadata": {
        "colab": {
          "base_uri": "https://localhost:8080/"
        },
        "id": "UOqIc_Sm9HGX",
        "outputId": "5afb2d2a-5398-49db-ae10-457c9ab21ff5"
      },
      "execution_count": 7,
      "outputs": [
        {
          "output_type": "stream",
          "name": "stdout",
          "text": [
            "Found 200 files belonging to 2 classes.\n",
            "Found 100 files belonging to 2 classes.\n"
          ]
        }
      ]
    },
    {
      "cell_type": "markdown",
      "metadata": {
        "id": "ITouXXtQ8WzV"
      },
      "source": [
        "## Functions to pre-process source text. (A detailed discussion on our paper)"
      ]
    },
    {
      "cell_type": "code",
      "execution_count": 8,
      "metadata": {
        "id": "bDPIqAgXYWim"
      },
      "outputs": [],
      "source": [
        "# Do-Nothing preprocessing function.\n",
        "def DON(input_data):\n",
        "  tag_open_CDATA_removed = tf.strings.regex_replace(input_data, '<\\!\\[CDATA\\[', ' ')\n",
        "  tag_closed_CDATA_removed = tf.strings.regex_replace(tag_open_CDATA_removed,'\\]{1,}>', ' ')\n",
        "  tag_author_lang_en_removed = tf.strings.regex_replace(tag_closed_CDATA_removed,'<author lang=\"en\">', ' ')\n",
        "  tag_closed_author_removed = tf.strings.regex_replace(tag_author_lang_en_removed,'</author>', ' ')\n",
        "  tag_open_documents_removed = tf.strings.regex_replace(tag_closed_author_removed,'<documents>\\n(\\t){0,2}', '')\n",
        "  output_data = tf.strings.regex_replace(tag_open_documents_removed,'</documents>\\n(\\t){0,2}', ' ')\n",
        "  return output_data"
      ]
    },
    {
      "cell_type": "markdown",
      "metadata": {
        "id": "TjUnE9_DEyCw"
      },
      "source": [
        "## Get the length of the longest sample in training set. Then adapt text.\n",
        "\n"
      ]
    },
    {
      "cell_type": "code",
      "execution_count": 9,
      "metadata": {
        "id": "ebRMQqa_mr48"
      },
      "outputs": [],
      "source": [
        "def preprocess_and_adapt_ts(preprocessing_function,training_set):\n",
        "  # Set a large sequence length to find the longest sample in the training set.\n",
        "  sequence_length = 3000\n",
        "  vectorize_layer = TextVectorization(\n",
        "      standardize=preprocessing_function,\n",
        "      output_mode='int',\n",
        "      output_sequence_length=sequence_length)\n",
        "\n",
        "  train_text = training_set.map(lambda x, y: x)\n",
        "  vectorize_layer.adapt(train_text)\n",
        "  #vectorize_layer.get_vocabulary()\n",
        "\n",
        "  model = tf.keras.models.Sequential()\n",
        "  model.add(tf.keras.Input(shape=(1,), dtype=tf.string))\n",
        "  model.add(vectorize_layer)\n",
        "\n",
        "  longest_sample_length=1\n",
        "\n",
        "  for element in training_set:\n",
        "    authorDocument=element[0]\n",
        "    label=element[1]\n",
        "    \n",
        "    #print(\"Sample considered is: \", authorDocument[0].numpy())\n",
        "    #print(\"Preprocessed: \", str(custom_standardization(authorDocument[0].numpy())))\n",
        "    #print(\"And has label: \", label[0].numpy())\n",
        "\n",
        "    out=model(authorDocument)\n",
        "    # Convert token list to numpy array.\n",
        "    token_list = out.numpy()[0]\n",
        "    token_list = np.trim_zeros(token_list,'b')\n",
        "    if longest_sample_length < len(token_list):\n",
        "      longest_sample_length = len(token_list)\n",
        "\n",
        "  print(\"Length of the longest sample is:\", longest_sample_length)\n",
        "\n",
        "  # After tokenization longest_sample_length covers all the document lenghts in our dataset.\n",
        "  sequence_length = longest_sample_length\n",
        "\n",
        "  vectorize_layer = TextVectorization(\n",
        "      standardize=preprocessing_function,\n",
        "      output_mode='int',\n",
        "      output_sequence_length=sequence_length)\n",
        "\n",
        "  # Finally adapt the vectorize layer.\n",
        "  train_text = training_set.map(lambda x, y: x)\n",
        "  vectorize_layer.adapt(train_text)\n",
        "  return vectorize_layer"
      ]
    },
    {
      "cell_type": "markdown",
      "metadata": {
        "id": "x8zDXrk9eEy5"
      },
      "source": [
        "## Define a dictionary with -> function_names:prepro_function_caller. And a dictionary to store model results.\n",
        "\n",
        "\n"
      ]
    },
    {
      "cell_type": "code",
      "execution_count": 10,
      "metadata": {
        "id": "P8owxNMIeFsX",
        "colab": {
          "base_uri": "https://localhost:8080/"
        },
        "outputId": "a81382da-62ba-4677-afa2-f20182c08da3"
      },
      "outputs": [
        {
          "output_type": "stream",
          "name": "stdout",
          "text": [
            "DON\n"
          ]
        }
      ],
      "source": [
        "model_results = {}\n",
        "prepro_functions_dict_base = {\n",
        "    'DON':DON,\n",
        "    }\n",
        "\n",
        "# 3 prepro functions = 15 combs...+1 for do_nothing\n",
        "\n",
        "prepro_functions_dict_comb = {\n",
        "    # 1. Do nothing \n",
        "    'DON': DON,\n",
        "}\n",
        "\n",
        "for key in prepro_functions_dict_comb:\n",
        "  print(key)\n",
        "  model_results[key]=[]"
      ]
    },
    {
      "cell_type": "markdown",
      "source": [
        "## Some training hyperparameters..."
      ],
      "metadata": {
        "id": "RF7pJkGJ3bHT"
      }
    },
    {
      "cell_type": "code",
      "source": [
        "# Word embedding dimensions.\n",
        "embedding_dim = 100\n",
        "\n",
        "num_runs = 5 \n",
        "# No need to go over the 20th epoch...Overfitting begins.\n",
        "num_epochs_per_run = 20\n",
        "\n",
        "#opt = tf.keras.optimizers.RMSprop()"
      ],
      "metadata": {
        "id": "ocHligxS3mVn"
      },
      "execution_count": 11,
      "outputs": []
    },
    {
      "cell_type": "markdown",
      "metadata": {
        "id": "XDEi7MAo4qsQ"
      },
      "source": [
        "## Models definition and evaluation.\n",
        "\n",
        "\n"
      ]
    },
    {
      "cell_type": "code",
      "execution_count": 12,
      "metadata": {
        "colab": {
          "base_uri": "https://localhost:8080/"
        },
        "id": "Mm1fdCpETWL-",
        "outputId": "bc782c84-6555-4848-a320-bf78d0c82500"
      },
      "outputs": [
        {
          "output_type": "stream",
          "name": "stderr",
          "text": [
            "WARNING:tensorflow:From /usr/local/lib/python3.8/dist-packages/tensorflow/python/autograph/pyct/static_analysis/liveness.py:83: Analyzer.lamba_check (from tensorflow.python.autograph.pyct.static_analysis.liveness) is deprecated and will be removed after 2023-09-23.\n",
            "Instructions for updating:\n",
            "Lambda fuctions will be no more assumed to be used in the statement where they are used, or at least in the same block. https://github.com/tensorflow/tensorflow/issues/56089\n"
          ]
        },
        {
          "output_type": "stream",
          "name": "stdout",
          "text": [
            "\n",
            "\n",
            "* * * * EVALUATION USING DON AS PREPROCESSING FUNCTION * * * *\n",
            "Length of the longest sample is: 3000\n",
            "Vocabulary size is: 76998\n",
            "200/200 [==============================] - 49s 196ms/step - loss: 0.7077 - binary_accuracy: 0.4600 - val_loss: 0.6941 - val_binary_accuracy: 0.5000\n",
            "Run:  1 / Accuracy at epoch  0  is:  0.5 \n",
            "\n",
            "200/200 [==============================] - 8s 39ms/step - loss: 0.6968 - binary_accuracy: 0.4250 - val_loss: 0.6948 - val_binary_accuracy: 0.5000\n",
            "Run:  1 / Accuracy at epoch  1  is:  0.5 \n",
            "\n",
            "200/200 [==============================] - 8s 38ms/step - loss: 0.6950 - binary_accuracy: 0.4100 - val_loss: 0.6967 - val_binary_accuracy: 0.5000\n",
            "Run:  1 / Accuracy at epoch  2  is:  0.5 \n",
            "\n",
            "200/200 [==============================] - 8s 40ms/step - loss: 0.6943 - binary_accuracy: 0.4500 - val_loss: 0.7025 - val_binary_accuracy: 0.5000\n",
            "Run:  1 / Accuracy at epoch  3  is:  0.5 \n",
            "\n",
            "200/200 [==============================] - 8s 40ms/step - loss: 0.6918 - binary_accuracy: 0.5050 - val_loss: 0.7283 - val_binary_accuracy: 0.5400\n",
            "Run:  1 / Accuracy at epoch  4  is:  0.5400000214576721 \n",
            "\n",
            "200/200 [==============================] - 8s 37ms/step - loss: 0.6813 - binary_accuracy: 0.5300 - val_loss: 0.8505 - val_binary_accuracy: 0.5500\n",
            "Run:  1 / Accuracy at epoch  5  is:  0.550000011920929 \n",
            "\n",
            "200/200 [==============================] - 7s 37ms/step - loss: 0.6504 - binary_accuracy: 0.6000 - val_loss: 1.1410 - val_binary_accuracy: 0.5300\n",
            "Run:  1 / Accuracy at epoch  6  is:  0.5299999713897705 \n",
            "\n",
            "200/200 [==============================] - 8s 39ms/step - loss: 0.5977 - binary_accuracy: 0.7050 - val_loss: 1.5550 - val_binary_accuracy: 0.5400\n",
            "Run:  1 / Accuracy at epoch  7  is:  0.5400000214576721 \n",
            "\n",
            "200/200 [==============================] - 8s 39ms/step - loss: 0.4924 - binary_accuracy: 0.7850 - val_loss: 2.2646 - val_binary_accuracy: 0.5500\n",
            "Run:  1 / Accuracy at epoch  8  is:  0.550000011920929 \n",
            "\n",
            "200/200 [==============================] - 7s 35ms/step - loss: 0.3776 - binary_accuracy: 0.8250 - val_loss: 3.3416 - val_binary_accuracy: 0.5600\n",
            "Run:  1 / Accuracy at epoch  9  is:  0.5600000023841858 \n",
            "\n",
            "200/200 [==============================] - 8s 39ms/step - loss: 0.2646 - binary_accuracy: 0.8950 - val_loss: 4.2112 - val_binary_accuracy: 0.5200\n",
            "Run:  1 / Accuracy at epoch  10  is:  0.5199999809265137 \n",
            "\n",
            "200/200 [==============================] - 8s 39ms/step - loss: 0.1485 - binary_accuracy: 0.9450 - val_loss: 5.2801 - val_binary_accuracy: 0.5200\n",
            "Run:  1 / Accuracy at epoch  11  is:  0.5199999809265137 \n",
            "\n",
            "200/200 [==============================] - 7s 35ms/step - loss: 0.0747 - binary_accuracy: 0.9850 - val_loss: 6.6243 - val_binary_accuracy: 0.5200\n",
            "Run:  1 / Accuracy at epoch  12  is:  0.5199999809265137 \n",
            "\n",
            "200/200 [==============================] - 9s 44ms/step - loss: 0.0324 - binary_accuracy: 0.9900 - val_loss: 7.7054 - val_binary_accuracy: 0.5400\n",
            "Run:  1 / Accuracy at epoch  13  is:  0.5400000214576721 \n",
            "\n",
            "200/200 [==============================] - 8s 39ms/step - loss: 0.0243 - binary_accuracy: 0.9900 - val_loss: 8.1786 - val_binary_accuracy: 0.5400\n",
            "Run:  1 / Accuracy at epoch  14  is:  0.5400000214576721 \n",
            "\n",
            "200/200 [==============================] - 7s 34ms/step - loss: 0.0015 - binary_accuracy: 1.0000 - val_loss: 8.1328 - val_binary_accuracy: 0.5500\n",
            "Run:  1 / Accuracy at epoch  15  is:  0.550000011920929 \n",
            "\n",
            "200/200 [==============================] - 7s 35ms/step - loss: 0.0169 - binary_accuracy: 0.9950 - val_loss: 8.6519 - val_binary_accuracy: 0.5300\n",
            "Run:  1 / Accuracy at epoch  16  is:  0.5299999713897705 \n",
            "\n",
            "200/200 [==============================] - 8s 39ms/step - loss: 0.0022 - binary_accuracy: 1.0000 - val_loss: 9.0657 - val_binary_accuracy: 0.5400\n",
            "Run:  1 / Accuracy at epoch  17  is:  0.5400000214576721 \n",
            "\n",
            "200/200 [==============================] - 7s 34ms/step - loss: 0.0040 - binary_accuracy: 1.0000 - val_loss: 9.5967 - val_binary_accuracy: 0.5300\n",
            "Run:  1 / Accuracy at epoch  18  is:  0.5299999713897705 \n",
            "\n",
            "200/200 [==============================] - 7s 34ms/step - loss: 2.7885e-04 - binary_accuracy: 1.0000 - val_loss: 9.5562 - val_binary_accuracy: 0.5400\n",
            "Run:  1 / Accuracy at epoch  19  is:  0.5400000214576721 \n",
            "\n",
            "Accuracies over epochs: [0.5, 0.5, 0.5, 0.5, 0.5400000214576721, 0.550000011920929, 0.5299999713897705, 0.5400000214576721, 0.550000011920929, 0.5600000023841858, 0.5199999809265137, 0.5199999809265137, 0.5199999809265137, 0.5400000214576721, 0.5400000214576721, 0.550000011920929, 0.5299999713897705, 0.5400000214576721, 0.5299999713897705, 0.5400000214576721] \n",
            "\n",
            "\n",
            "200/200 [==============================] - 31s 149ms/step - loss: 0.7075 - binary_accuracy: 0.4750 - val_loss: 0.6936 - val_binary_accuracy: 0.5000\n",
            "Run:  2 / Accuracy at epoch  0  is:  0.5 \n",
            "\n",
            "200/200 [==============================] - 8s 39ms/step - loss: 0.6967 - binary_accuracy: 0.4500 - val_loss: 0.6938 - val_binary_accuracy: 0.5000\n",
            "Run:  2 / Accuracy at epoch  1  is:  0.5 \n",
            "\n",
            "200/200 [==============================] - 7s 35ms/step - loss: 0.6954 - binary_accuracy: 0.4150 - val_loss: 0.6944 - val_binary_accuracy: 0.5000\n",
            "Run:  2 / Accuracy at epoch  2  is:  0.5 \n",
            "\n",
            "200/200 [==============================] - 7s 34ms/step - loss: 0.6949 - binary_accuracy: 0.4250 - val_loss: 0.6959 - val_binary_accuracy: 0.5000\n",
            "Run:  2 / Accuracy at epoch  3  is:  0.5 \n",
            "\n",
            "200/200 [==============================] - 8s 38ms/step - loss: 0.6940 - binary_accuracy: 0.4400 - val_loss: 0.6994 - val_binary_accuracy: 0.5000\n",
            "Run:  2 / Accuracy at epoch  4  is:  0.5 \n",
            "\n",
            "200/200 [==============================] - 7s 35ms/step - loss: 0.6935 - binary_accuracy: 0.4450 - val_loss: 0.7082 - val_binary_accuracy: 0.5000\n",
            "Run:  2 / Accuracy at epoch  5  is:  0.5 \n",
            "\n",
            "200/200 [==============================] - 7s 35ms/step - loss: 0.6903 - binary_accuracy: 0.4950 - val_loss: 0.7581 - val_binary_accuracy: 0.5500\n",
            "Run:  2 / Accuracy at epoch  6  is:  0.550000011920929 \n",
            "\n",
            "200/200 [==============================] - 8s 38ms/step - loss: 0.6757 - binary_accuracy: 0.5300 - val_loss: 0.9705 - val_binary_accuracy: 0.5500\n",
            "Run:  2 / Accuracy at epoch  7  is:  0.550000011920929 \n",
            "\n",
            "200/200 [==============================] - 8s 39ms/step - loss: 0.6454 - binary_accuracy: 0.6000 - val_loss: 1.3224 - val_binary_accuracy: 0.5200\n",
            "Run:  2 / Accuracy at epoch  8  is:  0.5199999809265137 \n",
            "\n",
            "200/200 [==============================] - 7s 35ms/step - loss: 0.5901 - binary_accuracy: 0.7300 - val_loss: 1.8017 - val_binary_accuracy: 0.5500\n",
            "Run:  2 / Accuracy at epoch  9  is:  0.550000011920929 \n",
            "\n",
            "200/200 [==============================] - 8s 38ms/step - loss: 0.5090 - binary_accuracy: 0.7900 - val_loss: 2.4867 - val_binary_accuracy: 0.5500\n",
            "Run:  2 / Accuracy at epoch  10  is:  0.550000011920929 \n",
            "\n",
            "200/200 [==============================] - 8s 38ms/step - loss: 0.3603 - binary_accuracy: 0.8400 - val_loss: 4.0618 - val_binary_accuracy: 0.5300\n",
            "Run:  2 / Accuracy at epoch  11  is:  0.5299999713897705 \n",
            "\n",
            "200/200 [==============================] - 7s 35ms/step - loss: 0.2494 - binary_accuracy: 0.9050 - val_loss: 5.4916 - val_binary_accuracy: 0.5200\n",
            "Run:  2 / Accuracy at epoch  12  is:  0.5199999809265137 \n",
            "\n",
            "200/200 [==============================] - 7s 35ms/step - loss: 0.1236 - binary_accuracy: 0.9500 - val_loss: 7.8105 - val_binary_accuracy: 0.5300\n",
            "Run:  2 / Accuracy at epoch  13  is:  0.5299999713897705 \n",
            "\n",
            "200/200 [==============================] - 7s 35ms/step - loss: 0.0630 - binary_accuracy: 0.9800 - val_loss: 8.7392 - val_binary_accuracy: 0.5200\n",
            "Run:  2 / Accuracy at epoch  14  is:  0.5199999809265137 \n",
            "\n",
            "200/200 [==============================] - 9s 44ms/step - loss: 0.0264 - binary_accuracy: 0.9850 - val_loss: 9.2821 - val_binary_accuracy: 0.5300\n",
            "Run:  2 / Accuracy at epoch  15  is:  0.5299999713897705 \n",
            "\n",
            "200/200 [==============================] - 8s 38ms/step - loss: 0.0148 - binary_accuracy: 0.9950 - val_loss: 9.8203 - val_binary_accuracy: 0.5300\n",
            "Run:  2 / Accuracy at epoch  16  is:  0.5299999713897705 \n",
            "\n",
            "200/200 [==============================] - 7s 34ms/step - loss: 0.0125 - binary_accuracy: 0.9950 - val_loss: 10.5263 - val_binary_accuracy: 0.5100\n",
            "Run:  2 / Accuracy at epoch  17  is:  0.5099999904632568 \n",
            "\n",
            "200/200 [==============================] - 7s 37ms/step - loss: 0.0011 - binary_accuracy: 1.0000 - val_loss: 10.9778 - val_binary_accuracy: 0.5100\n",
            "Run:  2 / Accuracy at epoch  18  is:  0.5099999904632568 \n",
            "\n",
            "200/200 [==============================] - 8s 38ms/step - loss: 2.4514e-04 - binary_accuracy: 1.0000 - val_loss: 11.1885 - val_binary_accuracy: 0.5100\n",
            "Run:  2 / Accuracy at epoch  19  is:  0.5099999904632568 \n",
            "\n",
            "Accuracies over epochs: [0.5, 0.5, 0.5, 0.5, 0.5, 0.5, 0.550000011920929, 0.550000011920929, 0.5199999809265137, 0.550000011920929, 0.550000011920929, 0.5299999713897705, 0.5199999809265137, 0.5299999713897705, 0.5199999809265137, 0.5299999713897705, 0.5299999713897705, 0.5099999904632568, 0.5099999904632568, 0.5099999904632568] \n",
            "\n",
            "\n",
            "200/200 [==============================] - 30s 145ms/step - loss: 0.7070 - binary_accuracy: 0.4550 - val_loss: 0.6936 - val_binary_accuracy: 0.5000\n",
            "Run:  3 / Accuracy at epoch  0  is:  0.5 \n",
            "\n",
            "200/200 [==============================] - 8s 38ms/step - loss: 0.6969 - binary_accuracy: 0.4050 - val_loss: 0.6937 - val_binary_accuracy: 0.5000\n",
            "Run:  3 / Accuracy at epoch  1  is:  0.5 \n",
            "\n",
            "200/200 [==============================] - 8s 38ms/step - loss: 0.6954 - binary_accuracy: 0.4250 - val_loss: 0.6943 - val_binary_accuracy: 0.5000\n",
            "Run:  3 / Accuracy at epoch  2  is:  0.5 \n",
            "\n",
            "200/200 [==============================] - 8s 39ms/step - loss: 0.6948 - binary_accuracy: 0.4400 - val_loss: 0.6955 - val_binary_accuracy: 0.5000\n",
            "Run:  3 / Accuracy at epoch  3  is:  0.5 \n",
            "\n",
            "200/200 [==============================] - 7s 35ms/step - loss: 0.6940 - binary_accuracy: 0.4350 - val_loss: 0.6984 - val_binary_accuracy: 0.5000\n",
            "Run:  3 / Accuracy at epoch  4  is:  0.5 \n",
            "\n",
            "200/200 [==============================] - 7s 35ms/step - loss: 0.6935 - binary_accuracy: 0.4400 - val_loss: 0.7047 - val_binary_accuracy: 0.5000\n",
            "Run:  3 / Accuracy at epoch  5  is:  0.5 \n",
            "\n",
            "200/200 [==============================] - 8s 39ms/step - loss: 0.6923 - binary_accuracy: 0.4550 - val_loss: 0.7267 - val_binary_accuracy: 0.5000\n",
            "Run:  3 / Accuracy at epoch  6  is:  0.5 \n",
            "\n",
            "200/200 [==============================] - 8s 38ms/step - loss: 0.6859 - binary_accuracy: 0.5050 - val_loss: 0.8514 - val_binary_accuracy: 0.5300\n",
            "Run:  3 / Accuracy at epoch  7  is:  0.5299999713897705 \n",
            "\n",
            "200/200 [==============================] - 7s 35ms/step - loss: 0.6645 - binary_accuracy: 0.5650 - val_loss: 1.1736 - val_binary_accuracy: 0.5400\n",
            "Run:  3 / Accuracy at epoch  8  is:  0.5400000214576721 \n",
            "\n",
            "200/200 [==============================] - 8s 39ms/step - loss: 0.6201 - binary_accuracy: 0.6650 - val_loss: 1.7204 - val_binary_accuracy: 0.5400\n",
            "Run:  3 / Accuracy at epoch  9  is:  0.5400000214576721 \n",
            "\n",
            "200/200 [==============================] - 8s 38ms/step - loss: 0.5257 - binary_accuracy: 0.7600 - val_loss: 2.6065 - val_binary_accuracy: 0.5500\n",
            "Run:  3 / Accuracy at epoch  10  is:  0.550000011920929 \n",
            "\n",
            "200/200 [==============================] - 7s 35ms/step - loss: 0.4170 - binary_accuracy: 0.8150 - val_loss: 3.8492 - val_binary_accuracy: 0.5400\n",
            "Run:  3 / Accuracy at epoch  11  is:  0.5400000214576721 \n",
            "\n",
            "200/200 [==============================] - 8s 38ms/step - loss: 0.3049 - binary_accuracy: 0.8700 - val_loss: 5.1892 - val_binary_accuracy: 0.5000\n",
            "Run:  3 / Accuracy at epoch  12  is:  0.5 \n",
            "\n",
            "200/200 [==============================] - 8s 42ms/step - loss: 0.1917 - binary_accuracy: 0.9200 - val_loss: 6.9234 - val_binary_accuracy: 0.5300\n",
            "Run:  3 / Accuracy at epoch  13  is:  0.5299999713897705 \n",
            "\n",
            "200/200 [==============================] - 7s 36ms/step - loss: 0.1045 - binary_accuracy: 0.9650 - val_loss: 8.9284 - val_binary_accuracy: 0.5100\n",
            "Run:  3 / Accuracy at epoch  14  is:  0.5099999904632568 \n",
            "\n",
            "200/200 [==============================] - 7s 35ms/step - loss: 0.0551 - binary_accuracy: 0.9900 - val_loss: 10.7449 - val_binary_accuracy: 0.5100\n",
            "Run:  3 / Accuracy at epoch  15  is:  0.5099999904632568 \n",
            "\n",
            "200/200 [==============================] - 8s 42ms/step - loss: 0.0277 - binary_accuracy: 0.9850 - val_loss: 11.3750 - val_binary_accuracy: 0.5000\n",
            "Run:  3 / Accuracy at epoch  16  is:  0.5 \n",
            "\n",
            "200/200 [==============================] - 8s 38ms/step - loss: 0.0073 - binary_accuracy: 1.0000 - val_loss: 12.4482 - val_binary_accuracy: 0.5100\n",
            "Run:  3 / Accuracy at epoch  17  is:  0.5099999904632568 \n",
            "\n",
            "200/200 [==============================] - 7s 34ms/step - loss: 0.0019 - binary_accuracy: 1.0000 - val_loss: 14.3886 - val_binary_accuracy: 0.5200\n",
            "Run:  3 / Accuracy at epoch  18  is:  0.5199999809265137 \n",
            "\n",
            "200/200 [==============================] - 8s 38ms/step - loss: 8.5810e-04 - binary_accuracy: 1.0000 - val_loss: 13.9921 - val_binary_accuracy: 0.5300\n",
            "Run:  3 / Accuracy at epoch  19  is:  0.5299999713897705 \n",
            "\n",
            "Accuracies over epochs: [0.5, 0.5, 0.5, 0.5, 0.5, 0.5, 0.5, 0.5299999713897705, 0.5400000214576721, 0.5400000214576721, 0.550000011920929, 0.5400000214576721, 0.5, 0.5299999713897705, 0.5099999904632568, 0.5099999904632568, 0.5, 0.5099999904632568, 0.5199999809265137, 0.5299999713897705] \n",
            "\n",
            "\n",
            "200/200 [==============================] - 31s 146ms/step - loss: 0.7068 - binary_accuracy: 0.4600 - val_loss: 0.6934 - val_binary_accuracy: 0.5000\n",
            "Run:  4 / Accuracy at epoch  0  is:  0.5 \n",
            "\n",
            "200/200 [==============================] - 8s 39ms/step - loss: 0.6963 - binary_accuracy: 0.4450 - val_loss: 0.6934 - val_binary_accuracy: 0.5000\n",
            "Run:  4 / Accuracy at epoch  1  is:  0.5 \n",
            "\n",
            "200/200 [==============================] - 8s 38ms/step - loss: 0.6951 - binary_accuracy: 0.4350 - val_loss: 0.6937 - val_binary_accuracy: 0.5000\n",
            "Run:  4 / Accuracy at epoch  2  is:  0.5 \n",
            "\n",
            "200/200 [==============================] - 7s 36ms/step - loss: 0.6945 - binary_accuracy: 0.4450 - val_loss: 0.6943 - val_binary_accuracy: 0.5000\n",
            "Run:  4 / Accuracy at epoch  3  is:  0.5 \n",
            "\n",
            "200/200 [==============================] - 7s 37ms/step - loss: 0.6943 - binary_accuracy: 0.4300 - val_loss: 0.6956 - val_binary_accuracy: 0.5000\n",
            "Run:  4 / Accuracy at epoch  4  is:  0.5 \n",
            "\n",
            "200/200 [==============================] - 8s 38ms/step - loss: 0.6937 - binary_accuracy: 0.4350 - val_loss: 0.6978 - val_binary_accuracy: 0.5000\n",
            "Run:  4 / Accuracy at epoch  5  is:  0.5 \n",
            "\n",
            "200/200 [==============================] - 7s 35ms/step - loss: 0.6936 - binary_accuracy: 0.4500 - val_loss: 0.7028 - val_binary_accuracy: 0.5000\n",
            "Run:  4 / Accuracy at epoch  6  is:  0.5 \n",
            "\n",
            "200/200 [==============================] - 8s 39ms/step - loss: 0.6920 - binary_accuracy: 0.5000 - val_loss: 0.7260 - val_binary_accuracy: 0.5100\n",
            "Run:  4 / Accuracy at epoch  7  is:  0.5099999904632568 \n",
            "\n",
            "200/200 [==============================] - 7s 37ms/step - loss: 0.6845 - binary_accuracy: 0.5100 - val_loss: 0.8344 - val_binary_accuracy: 0.5300\n",
            "Run:  4 / Accuracy at epoch  8  is:  0.5299999713897705 \n",
            "\n",
            "200/200 [==============================] - 7s 36ms/step - loss: 0.6631 - binary_accuracy: 0.5600 - val_loss: 1.1250 - val_binary_accuracy: 0.5700\n",
            "Run:  4 / Accuracy at epoch  9  is:  0.5699999928474426 \n",
            "\n",
            "200/200 [==============================] - 8s 38ms/step - loss: 0.6208 - binary_accuracy: 0.6450 - val_loss: 1.5435 - val_binary_accuracy: 0.5600\n",
            "Run:  4 / Accuracy at epoch  10  is:  0.5600000023841858 \n",
            "\n",
            "200/200 [==============================] - 7s 35ms/step - loss: 0.5478 - binary_accuracy: 0.7500 - val_loss: 2.2429 - val_binary_accuracy: 0.5400\n",
            "Run:  4 / Accuracy at epoch  11  is:  0.5400000214576721 \n",
            "\n",
            "200/200 [==============================] - 8s 39ms/step - loss: 0.4397 - binary_accuracy: 0.7950 - val_loss: 3.3763 - val_binary_accuracy: 0.5400\n",
            "Run:  4 / Accuracy at epoch  12  is:  0.5400000214576721 \n",
            "\n",
            "200/200 [==============================] - 8s 38ms/step - loss: 0.3053 - binary_accuracy: 0.8600 - val_loss: 4.9040 - val_binary_accuracy: 0.5200\n",
            "Run:  4 / Accuracy at epoch  13  is:  0.5199999809265137 \n",
            "\n",
            "200/200 [==============================] - 7s 34ms/step - loss: 0.1870 - binary_accuracy: 0.9250 - val_loss: 6.5194 - val_binary_accuracy: 0.5200\n",
            "Run:  4 / Accuracy at epoch  14  is:  0.5199999809265137 \n",
            "\n",
            "200/200 [==============================] - 8s 38ms/step - loss: 0.0915 - binary_accuracy: 0.9700 - val_loss: 8.1549 - val_binary_accuracy: 0.5000\n",
            "Run:  4 / Accuracy at epoch  15  is:  0.5 \n",
            "\n",
            "200/200 [==============================] - 8s 38ms/step - loss: 0.0490 - binary_accuracy: 0.9900 - val_loss: 9.1922 - val_binary_accuracy: 0.5200\n",
            "Run:  4 / Accuracy at epoch  16  is:  0.5199999809265137 \n",
            "\n",
            "200/200 [==============================] - 7s 35ms/step - loss: 0.0145 - binary_accuracy: 0.9950 - val_loss: 9.9106 - val_binary_accuracy: 0.5400\n",
            "Run:  4 / Accuracy at epoch  17  is:  0.5400000214576721 \n",
            "\n",
            "200/200 [==============================] - 7s 35ms/step - loss: 0.0054 - binary_accuracy: 1.0000 - val_loss: 11.3157 - val_binary_accuracy: 0.5200\n",
            "Run:  4 / Accuracy at epoch  18  is:  0.5199999809265137 \n",
            "\n",
            "200/200 [==============================] - 9s 43ms/step - loss: 0.0062 - binary_accuracy: 0.9950 - val_loss: 10.9668 - val_binary_accuracy: 0.5100\n",
            "Run:  4 / Accuracy at epoch  19  is:  0.5099999904632568 \n",
            "\n",
            "Accuracies over epochs: [0.5, 0.5, 0.5, 0.5, 0.5, 0.5, 0.5, 0.5099999904632568, 0.5299999713897705, 0.5699999928474426, 0.5600000023841858, 0.5400000214576721, 0.5400000214576721, 0.5199999809265137, 0.5199999809265137, 0.5, 0.5199999809265137, 0.5400000214576721, 0.5199999809265137, 0.5099999904632568] \n",
            "\n",
            "\n",
            "200/200 [==============================] - 31s 149ms/step - loss: 0.7074 - binary_accuracy: 0.4400 - val_loss: 0.6935 - val_binary_accuracy: 0.5000\n",
            "Run:  5 / Accuracy at epoch  0  is:  0.5 \n",
            "\n",
            "200/200 [==============================] - 7s 36ms/step - loss: 0.6965 - binary_accuracy: 0.4150 - val_loss: 0.6937 - val_binary_accuracy: 0.5000\n",
            "Run:  5 / Accuracy at epoch  1  is:  0.5 \n",
            "\n",
            "200/200 [==============================] - 8s 38ms/step - loss: 0.6949 - binary_accuracy: 0.4450 - val_loss: 0.6945 - val_binary_accuracy: 0.5000\n",
            "Run:  5 / Accuracy at epoch  2  is:  0.5 \n",
            "\n",
            "200/200 [==============================] - 8s 39ms/step - loss: 0.6944 - binary_accuracy: 0.4450 - val_loss: 0.6962 - val_binary_accuracy: 0.5000\n",
            "Run:  5 / Accuracy at epoch  3  is:  0.5 \n",
            "\n",
            "200/200 [==============================] - 7s 35ms/step - loss: 0.6941 - binary_accuracy: 0.4200 - val_loss: 0.7007 - val_binary_accuracy: 0.5000\n",
            "Run:  5 / Accuracy at epoch  4  is:  0.5 \n",
            "\n",
            "200/200 [==============================] - 8s 39ms/step - loss: 0.6929 - binary_accuracy: 0.4650 - val_loss: 0.7153 - val_binary_accuracy: 0.5300\n",
            "Run:  5 / Accuracy at epoch  5  is:  0.5299999713897705 \n",
            "\n",
            "200/200 [==============================] - 8s 38ms/step - loss: 0.6875 - binary_accuracy: 0.5000 - val_loss: 0.8104 - val_binary_accuracy: 0.5400\n",
            "Run:  5 / Accuracy at epoch  6  is:  0.5400000214576721 \n",
            "\n",
            "200/200 [==============================] - 8s 39ms/step - loss: 0.6650 - binary_accuracy: 0.5500 - val_loss: 1.1015 - val_binary_accuracy: 0.5500\n",
            "Run:  5 / Accuracy at epoch  7  is:  0.550000011920929 \n",
            "\n",
            "200/200 [==============================] - 8s 38ms/step - loss: 0.6235 - binary_accuracy: 0.6400 - val_loss: 1.4667 - val_binary_accuracy: 0.5300\n",
            "Run:  5 / Accuracy at epoch  8  is:  0.5299999713897705 \n",
            "\n",
            "200/200 [==============================] - 7s 35ms/step - loss: 0.5625 - binary_accuracy: 0.7400 - val_loss: 1.9161 - val_binary_accuracy: 0.5400\n",
            "Run:  5 / Accuracy at epoch  9  is:  0.5400000214576721 \n",
            "\n",
            "200/200 [==============================] - 8s 38ms/step - loss: 0.4474 - binary_accuracy: 0.8150 - val_loss: 2.9058 - val_binary_accuracy: 0.5300\n",
            "Run:  5 / Accuracy at epoch  10  is:  0.5299999713897705 \n",
            "\n",
            "200/200 [==============================] - 8s 38ms/step - loss: 0.3142 - binary_accuracy: 0.8500 - val_loss: 4.1619 - val_binary_accuracy: 0.5300\n",
            "Run:  5 / Accuracy at epoch  11  is:  0.5299999713897705 \n",
            "\n",
            "200/200 [==============================] - 7s 34ms/step - loss: 0.2043 - binary_accuracy: 0.9100 - val_loss: 5.6955 - val_binary_accuracy: 0.5200\n",
            "Run:  5 / Accuracy at epoch  12  is:  0.5199999809265137 \n",
            "\n",
            "200/200 [==============================] - 8s 38ms/step - loss: 0.0934 - binary_accuracy: 0.9600 - val_loss: 7.6456 - val_binary_accuracy: 0.5600\n",
            "Run:  5 / Accuracy at epoch  13  is:  0.5600000023841858 \n",
            "\n",
            "200/200 [==============================] - 8s 38ms/step - loss: 0.0540 - binary_accuracy: 0.9850 - val_loss: 8.5624 - val_binary_accuracy: 0.5100\n",
            "Run:  5 / Accuracy at epoch  14  is:  0.5099999904632568 \n",
            "\n",
            "200/200 [==============================] - 7s 34ms/step - loss: 0.0093 - binary_accuracy: 1.0000 - val_loss: 8.7161 - val_binary_accuracy: 0.5200\n",
            "Run:  5 / Accuracy at epoch  15  is:  0.5199999809265137 \n",
            "\n",
            "200/200 [==============================] - 7s 36ms/step - loss: 0.0059 - binary_accuracy: 1.0000 - val_loss: 9.4431 - val_binary_accuracy: 0.5200\n",
            "Run:  5 / Accuracy at epoch  16  is:  0.5199999809265137 \n",
            "\n",
            "200/200 [==============================] - 8s 39ms/step - loss: 0.0124 - binary_accuracy: 0.9950 - val_loss: 12.1861 - val_binary_accuracy: 0.6000\n",
            "Run:  5 / Accuracy at epoch  17  is:  0.6000000238418579 \n",
            "\n",
            "200/200 [==============================] - 7s 35ms/step - loss: 0.0026 - binary_accuracy: 1.0000 - val_loss: 10.9225 - val_binary_accuracy: 0.5100\n",
            "Run:  5 / Accuracy at epoch  18  is:  0.5099999904632568 \n",
            "\n",
            "200/200 [==============================] - 7s 35ms/step - loss: 0.0028 - binary_accuracy: 1.0000 - val_loss: 11.1637 - val_binary_accuracy: 0.5100\n",
            "Run:  5 / Accuracy at epoch  19  is:  0.5099999904632568 \n",
            "\n",
            "Accuracies over epochs: [0.5, 0.5, 0.5, 0.5, 0.5, 0.5299999713897705, 0.5400000214576721, 0.550000011920929, 0.5299999713897705, 0.5400000214576721, 0.5299999713897705, 0.5299999713897705, 0.5199999809265137, 0.5600000023841858, 0.5099999904632568, 0.5199999809265137, 0.5199999809265137, 0.6000000238418579, 0.5099999904632568, 0.5099999904632568] \n",
            "\n",
            "\n",
            "\n",
            "\n",
            " Over all runs maximum accuracies on English are: [0.550000011920929, 0.550000011920929, 0.5600000023841858, 0.5699999928474426, 0.6000000238418579]\n",
            "The median for English is: 0.5600000023841858 \n",
            "\n",
            "\n",
            "\n",
            "CNN Accuracy Score on Test set ->  ['0.5600000023841858 +/- 0.04000002145767212']\n"
          ]
        }
      ],
      "source": [
        "tf.random.set_seed(1)\n",
        "\n",
        "# Reset model_results list.\n",
        "for key in prepro_functions_dict_comb:\n",
        "  model_results[key]=[]\n",
        "\n",
        "for key in prepro_functions_dict_comb:\n",
        "  runs_accuracy = []\n",
        "\n",
        "  print(\"\\n\\n* * * * EVALUATION USING\", key, \"AS PREPROCESSING FUNCTION * * * *\")\n",
        "\n",
        "  # Preprocess training set to build a dictionary.\n",
        "  vectorize_layer = preprocess_and_adapt_ts(prepro_functions_dict_comb[key],train_ds)\n",
        "\n",
        "  max_features=len(vectorize_layer.get_vocabulary()) + 1\n",
        "  print(\"Vocabulary size is:\", max_features)\n",
        "\n",
        "  for run in range(1,(num_runs+1)):\n",
        "    epochs_accuracy=[]\n",
        "    model = tf.keras.Sequential([\n",
        "                                    tf.keras.Input(shape=(1,), dtype=tf.string),\n",
        "                                    vectorize_layer,\n",
        "                                    layers.Embedding(max_features + 1, embedding_dim),                     \n",
        "                                    layers.Dropout(0.8),\n",
        "\n",
        "                                    layers.Conv1D(256,16,activation='relu'),\n",
        "                                    layers.MaxPooling1D(),\n",
        "                                    layers.Dropout(0.6),\n",
        "\n",
        "                                    layers.Dense(512,activation='relu'),\n",
        "                           \n",
        "                                    layers.GlobalAveragePooling1D(),\n",
        "                                    layers.Dropout(0.2),\n",
        "                                    layers.Dense(1)                            \n",
        "    ])\n",
        "    model.compile(loss=losses.BinaryCrossentropy(from_logits=True), optimizer='RMSprop', metrics=tf.metrics.BinaryAccuracy(threshold=0.0)) \n",
        "\n",
        "    for epoch in range (0,num_epochs_per_run):\n",
        "        history = model.fit(\n",
        "          train_ds,\n",
        "          validation_data = test_ds,\n",
        "          epochs=1,\n",
        "          shuffle=False,\n",
        "          # Comment the following line to do not save and download the model.\n",
        "          #callbacks=[callbacks]\n",
        "          )\n",
        "        accuracy = history.history['val_binary_accuracy']\n",
        "        print(\"Run: \",run,\"/ Accuracy at epoch \",epoch,\" is: \", accuracy[0],\"\\n\")\n",
        "        epochs_accuracy.append(accuracy[0])\n",
        "\n",
        "    print(\"Accuracies over epochs:\",epochs_accuracy,\"\\n\\n\")\n",
        "    runs_accuracy.append(max(epochs_accuracy))\n",
        "\n",
        "  runs_accuracy.sort()\n",
        "  print(\"\\n\\n Over all runs maximum accuracies on English are:\", runs_accuracy)\n",
        "  print(\"The median for English is:\",runs_accuracy[2],\"\\n\\n\\n\")\n",
        "  \n",
        "  if (runs_accuracy[2]-runs_accuracy[0])>(runs_accuracy[4]-runs_accuracy[2]):\n",
        "    max_range_from_median = runs_accuracy[2]-runs_accuracy[0]\n",
        "  else:\n",
        "    max_range_from_median = runs_accuracy[4]-runs_accuracy[2]\n",
        "  final_result = str(runs_accuracy[2])+\" +/- \"+ str(max_range_from_median)\n",
        "  model_results[key].append(final_result)\n",
        "  print(\"CNN Accuracy Score on Test set -> \",model_results[key])"
      ]
    },
    {
      "cell_type": "markdown",
      "metadata": {
        "id": "6uMKAeuegNk1"
      },
      "source": [
        "## Now show compact results in a table."
      ]
    },
    {
      "cell_type": "code",
      "execution_count": 13,
      "metadata": {
        "id": "AJ79RMougNRA",
        "colab": {
          "base_uri": "https://localhost:8080/"
        },
        "outputId": "78e7b6f8-10d3-44c5-c899-6f5476f2dca1"
      },
      "outputs": [
        {
          "output_type": "stream",
          "name": "stdout",
          "text": [
            " PREPRO FUNCTION    |  Test Accuracy   |\n",
            "\n",
            "DON                        0.5600000023841858 +/- 0.04000002145767212\n",
            "\n",
            "\n"
          ]
        }
      ],
      "source": [
        "print(\" PREPRO FUNCTION    |  Test Accuracy   |\",end = '')\n",
        "\n",
        "print(\"\\n\")\n",
        "for prepro_func in prepro_functions_dict_comb:\n",
        "  #print(prepro_func,\"\\t\\t\\t\",format(round(model_results[prepro_func][0],4),'.4f'),\"\\t\\t\",end='')\n",
        "  result = model_results[prepro_func][0]\n",
        "  # result = format(round(model_results[prepro_func][0],4),'.4f')\n",
        "  print(f'{prepro_func:27}{ result :12}')\n",
        "  print(\"\\n\")"
      ]
    }
  ],
  "metadata": {
    "accelerator": "GPU",
    "colab": {
      "collapsed_sections": [
        "RgfUp_5TWED7",
        "x8zDXrk9eEy5"
      ],
      "provenance": [],
      "include_colab_link": true
    },
    "kernelspec": {
      "display_name": "Python 3",
      "name": "python3"
    },
    "gpuClass": "standard"
  },
  "nbformat": 4,
  "nbformat_minor": 0
}